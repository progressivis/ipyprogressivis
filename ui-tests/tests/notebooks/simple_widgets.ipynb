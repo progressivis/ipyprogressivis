{
 "cells": [
  {
   "cell_type": "code",
   "execution_count": 22,
   "id": "ed0ca615-0a33-4a5d-b1e5-3d36a575130d",
   "metadata": {},
   "outputs": [
    {
     "data": {
      "application/vnd.jupyter.widget-view+json": {
       "model_id": "e9535cac2e2644269313bc9637662f88",
       "version_major": 2,
       "version_minor": 0
      },
      "text/plain": [
       "JsonEditor(data={'answer': 42})"
      ]
     },
     "execution_count": 22,
     "metadata": {},
     "output_type": "execute_result"
    }
   ],
   "source": [
    "from ipyprogressivis.widgets import JsonEditor\n",
    "editor = JsonEditor()\n",
    "editor.data = {'answer': 42}\n",
    "editor"
   ]
  },
  {
   "cell_type": "code",
   "execution_count": 26,
   "id": "eca488d3-8c25-497e-823a-ab405e16ea5b",
   "metadata": {},
   "outputs": [
    {
     "data": {
      "application/vnd.jupyter.widget-view+json": {
       "model_id": "b7203394b9d44c15b3bf2c7675a00325",
       "version_major": 2,
       "version_minor": 0
      },
      "text/plain": [
       "DataPTable(columns='[\"a\", \"b\"]', data='{\"draw\": 10, \"recordsTotal\": 10, \"recordsFiltered\": 5, \"data\": [[1, 2],…"
      ]
     },
     "execution_count": 26,
     "metadata": {},
     "output_type": "execute_result"
    }
   ],
   "source": [
    "from ipyprogressivis.widgets import DataPTable\n",
    "import json\n",
    "data = {\n",
    "    \"draw\": 10,\n",
    "    \"recordsTotal\": 10,\n",
    "    \"recordsFiltered\": 5,\n",
    "    \"data\": [[1, 2], [3,4], [5, 6]],\n",
    "}\n",
    "table = DataPTable()\n",
    "table.columns = json.dumps([\"a\", \"b\"])\n",
    "table.data = json.dumps(data)\n",
    "table"
   ]
  },
  {
   "cell_type": "code",
   "execution_count": 33,
   "id": "9cef107c-b474-49e6-8ab9-1c493bda9a60",
   "metadata": {},
   "outputs": [
    {
     "data": {
      "application/vnd.jupyter.widget-view+json": {
       "model_id": "7bcf9cb1ae604cf18501f05238ea53e8",
       "version_major": 2,
       "version_minor": 0
      },
      "text/plain": [
       "JsonHTML(data={'x': 1, 'y': 2, 'z': 3})"
      ]
     },
     "execution_count": 33,
     "metadata": {},
     "output_type": "execute_result"
    }
   ],
   "source": [
    "from ipyprogressivis.widgets.json_html import JsonHTML\n",
    "js_html = JsonHTML()\n",
    "data = {\"x\": 1, \"y\": 2, \"z\": 3}\n",
    "js_html.data = data\n",
    "js_html"
   ]
  },
  {
   "cell_type": "code",
   "execution_count": 36,
   "id": "d0f6ece3-3033-48cc-967d-be2291278fae",
   "metadata": {},
   "outputs": [
    {
     "data": {
      "application/vnd.jupyter.widget-view+json": {
       "model_id": "6f802521438349a7a8e4454d7acf53e1",
       "version_major": 2,
       "version_minor": 0
      },
      "text/plain": [
       "JsonHTML(config={'order': ['z', 'y', 'x']}, data={'x': 1, 'y': 2, 'z': 3})"
      ]
     },
     "execution_count": 36,
     "metadata": {},
     "output_type": "execute_result"
    }
   ],
   "source": [
    "js_html = JsonHTML()\n",
    "data = {\"x\": 1, \"y\": 2, \"z\": 3}\n",
    "js_html.data = data\n",
    "js_html.config = {\"order\": [\"z\", \"y\", \"x\"]}\n",
    "js_html"
   ]
  },
  {
   "cell_type": "code",
   "execution_count": 98,
   "id": "1c73c7a2-8f76-45a3-bae7-314c1035eae7",
   "metadata": {},
   "outputs": [
    {
     "data": {
      "application/vnd.jupyter.widget-view+json": {
       "model_id": "4969a6a2900244c99012e225f846396a",
       "version_major": 2,
       "version_minor": 0
      },
      "text/plain": [
       "SensitiveHTML(html='\\n<table class=\"table table-striped table-bordered table-hover table-condensed\" border=1>\\…"
      ]
     },
     "execution_count": 98,
     "metadata": {},
     "output_type": "execute_result"
    }
   ],
   "source": [
    "from jinja2 import Template\n",
    "from ipyprogressivis.widgets.sensitive_html import SensitiveHTML\n",
    "import ipywidgets as ipw\n",
    "sensitive_h = SensitiveHTML(layout=ipw.Layout(height=\"100px\", overflow=\"auto\"))\n",
    "INDEX_TEMPLATE = \"\"\"\n",
    "<table class=\"table table-striped table-bordered table-hover table-condensed\" border=1>\n",
    "<thead><tr><th>Id</th><th>value</th></tr></thead>\n",
    "<tbody>\n",
    "{% for m in modules%}\n",
    "  <tr>\n",
    "  {% for c in cols%}\n",
    "  <td>\n",
    "  {% if c=='id' %}\n",
    "  <a class='ps-row-btn' id=\"ps-row-btn_{{m[c]}}\" >{{m[c]}}</a>\n",
    "  {% else %}\n",
    "  <span id=\"ps-cell_{{m['id']}}_{{c}}\">{{m[c]}}</span>\n",
    "  {% endif %}\n",
    "  </td>\n",
    "  {%endfor %}\n",
    "  </tr>\n",
    "{%endfor %}\n",
    "</tbody>\n",
    "</table>\n",
    "\"\"\"\n",
    "tmpl = Template(INDEX_TEMPLATE)\n",
    "html = tmpl.render(modules=[{\"id\": \"m1\", \"value\": \"a\"}, {\"id\": \"m2\", \"value\": \"b\"}], cols=[\"id\", \"value\"])\n",
    "sensitive_h.html = html\n",
    "sensitive_h.sensitive_css_class = \"ps-row-btn\"\n",
    "sensitive_h"
   ]
  },
  {
   "cell_type": "code",
   "execution_count": 99,
   "id": "5c3fce62-7086-4e3e-ad5d-6c0d824ef1ae",
   "metadata": {},
   "outputs": [],
   "source": [
    "sensitive_h.data = {\"ps-cell_m1_value\": \"X\", \"ps-cell_m2_value\": \"Y\"}"
   ]
  }
 ],
 "metadata": {
  "kernelspec": {
   "display_name": "Python 3 (ipykernel)",
   "language": "python",
   "name": "python3"
  },
  "language_info": {
   "codemirror_mode": {
    "name": "ipython",
    "version": 3
   },
   "file_extension": ".py",
   "mimetype": "text/x-python",
   "name": "python",
   "nbconvert_exporter": "python",
   "pygments_lexer": "ipython3",
   "version": "3.11.4"
  },
  "widgets": {
   "application/vnd.jupyter.widget-state+json": {
    "state": {
     "009235c2418e4d0e8df7772c40952313": {
      "model_module": "@jupyter-widgets/base",
      "model_module_version": "2.0.0",
      "model_name": "LayoutModel",
      "state": {}
     },
     "02a54a4e155e4fe2bb8057fe193e2d08": {
      "model_module": "jupyter-progressivis",
      "model_module_version": "^0.1.0",
      "model_name": "SensitiveHTMLModel",
      "state": {
       "_model_module_version": "^0.1.0",
       "_view_module_version": "^0.1.0",
       "data": {
        "sensitive": "x"
       },
       "html": "<table border=1><tr><td>a</td><td><div class='sensitive'>b</div></td></tr></table>",
       "layout": "IPY_MODEL_26d0b6077fd34a608910176bea57ab16",
       "sensitive_css_class": "sensitive",
       "value": {}
      }
     },
     "03bf29a330ad4e1a9756877d9952b321": {
      "model_module": "@jupyter-widgets/base",
      "model_module_version": "2.0.0",
      "model_name": "LayoutModel",
      "state": {}
     },
     "06eb5191daf642d9947925614366698f": {
      "model_module": "jupyter-progressivis",
      "model_module_version": "^0.1.0",
      "model_name": "DataTableModel",
      "state": {
       "_model_module_version": "^0.1.0",
       "_view_module_version": "^0.1.0",
       "columns": "[\"a\", \"b\"]",
       "data": "{\"draw\": 1, \"recordsTotal\": 1, \"recordsFiltered\": 1, \"data\": [[1, 2], [3, 4], [5, 6]]}",
       "dt_id": "aDT",
       "layout": "IPY_MODEL_a247f0ae38354b70b6fa5f30ccbc7d20",
       "page": {}
      }
     },
     "07346f1a14394408bacf58bfff24a1e1": {
      "model_module": "@jupyter-widgets/base",
      "model_module_version": "2.0.0",
      "model_name": "LayoutModel",
      "state": {}
     },
     "12ab5be9971f4f5894a55fc7cfa160aa": {
      "model_module": "jupyter-progressivis",
      "model_module_version": "^0.1.0",
      "model_name": "SensitiveHTMLModel",
      "state": {
       "_model_module_version": "^0.1.0",
       "_view_module_version": "^0.1.0",
       "data": {},
       "html": "<table border=1><tr><td>a</td><td>b</td></tr></table>",
       "layout": "IPY_MODEL_42ca492a4e6e45d39d222de74cbf3124",
       "value": {}
      }
     },
     "16b4f9e1ed16406e9b3c9d4a123553c1": {
      "model_module": "jupyter-progressivis",
      "model_module_version": "^0.1.0",
      "model_name": "JsonHTMLModel",
      "state": {
       "_model_module_version": "^0.1.0",
       "_view_module_version": "^0.1.0",
       "layout": "IPY_MODEL_6dc055756ee94e32a4525e9d5311d065"
      }
     },
     "188c7343b415483c9ac6a2af60bbeddb": {
      "model_module": "@jupyter-widgets/base",
      "model_module_version": "2.0.0",
      "model_name": "LayoutModel",
      "state": {}
     },
     "1a87b9ebd06b4ba19d44db18711cf8e8": {
      "model_module": "@jupyter-widgets/base",
      "model_module_version": "2.0.0",
      "model_name": "LayoutModel",
      "state": {}
     },
     "1d2021eb288e41cda2e11506251df807": {
      "model_module": "jupyter-progressivis",
      "model_module_version": "^0.1.0",
      "model_name": "SensitiveHTMLModel",
      "state": {
       "_model_module_version": "^0.1.0",
       "_view_module_version": "^0.1.0",
       "data": {},
       "html": "\n<table class=\"table table-striped table-bordered table-hover table-condensed\">\n<thead><tr><th></th><th>Id</th><th>value</th></tr></thead>\n<tbody>\n\n  <tr>\n  \n  <td>\n  \n  <a class='ps-row-btn' id=\"ps-row-btn_\" type='button' ></a>\n  \n  </td>\n  \n  <td>\n  \n  <span id=\"ps-cell__value\"></span>\n  \n  </td>\n  \n  </tr>\n\n  <tr>\n  \n  <td>\n  \n  <a class='ps-row-btn' id=\"ps-row-btn_\" type='button' ></a>\n  \n  </td>\n  \n  <td>\n  \n  <span id=\"ps-cell__value\"></span>\n  \n  </td>\n  \n  </tr>\n\n</tbody>\n</table>",
       "layout": "IPY_MODEL_07346f1a14394408bacf58bfff24a1e1",
       "value": {}
      }
     },
     "20b9751387a74c87916f2f5af40e12ec": {
      "model_module": "jupyter-progressivis",
      "model_module_version": "^0.1.0",
      "model_name": "DataTableModel",
      "state": {
       "_model_module_version": "^0.1.0",
       "_view_module_version": "^0.1.0",
       "columns": "",
       "data": "",
       "dt_id": "aDT",
       "layout": "IPY_MODEL_b0207d0d282c4defa1b34efabafa17f2",
       "page": {}
      }
     },
     "2118f9df017644e2aa2ffbee14ed67b8": {
      "model_module": "jupyter-progressivis",
      "model_module_version": "^0.1.0",
      "model_name": "DataTableModel",
      "state": {
       "_model_module_version": "^0.1.0",
       "_view_module_version": "^0.1.0",
       "columns": "",
       "data": "",
       "dt_id": "aDT",
       "layout": "IPY_MODEL_b6aac5b5ee8c4d89ac95b6205af3d2b0",
       "page": {}
      }
     },
     "2238a4b9a5694ad1aadb63abd49a0c74": {
      "model_module": "jupyter-progressivis",
      "model_module_version": "^0.1.0",
      "model_name": "DataTableModel",
      "state": {
       "_model_module_version": "^0.1.0",
       "_view_module_version": "^0.1.0",
       "columns": "[\"a\", \"b\"]",
       "data": "{\"draw\": 1, \"recordsTotal\": 1, \"recordsFiltered\": 1, \"data\": [[0, 1, 2, 3, 4, 5, 6, 7, 8, 9, 10, 11, 12, 13, 14, 15, 16, 17, 18, 19], [0, 1, 2, 3, 4, 5, 6, 7, 8, 9, 10, 11, 12, 13, 14, 15, 16, 17, 18, 19]]}",
       "dt_id": "aDT",
       "layout": "IPY_MODEL_03bf29a330ad4e1a9756877d9952b321",
       "page": {}
      }
     },
     "223d26016ee447758dea0d9478d6e2ba": {
      "model_module": "@jupyter-widgets/base",
      "model_module_version": "2.0.0",
      "model_name": "LayoutModel",
      "state": {}
     },
     "26d0b6077fd34a608910176bea57ab16": {
      "model_module": "@jupyter-widgets/base",
      "model_module_version": "2.0.0",
      "model_name": "LayoutModel",
      "state": {}
     },
     "278cba2a3357427c9d1ff12681a2641d": {
      "model_module": "@jupyter-widgets/base",
      "model_module_version": "2.0.0",
      "model_name": "LayoutModel",
      "state": {}
     },
     "2b2d79a4dc99485cbc1133a812c070c4": {
      "model_module": "jupyter-progressivis",
      "model_module_version": "^0.1.0",
      "model_name": "SensitiveHTMLModel",
      "state": {
       "_model_module_version": "^0.1.0",
       "_view_module_version": "^0.1.0",
       "data": {},
       "html": "\n<table class=\"table table-striped table-bordered table-hover table-condensed\">\n<thead><tr><th></th><th>Id</th><th>value</th></tr></thead>\n<tbody>\n\n  <tr>\n  \n  <td>\n  \n  <a class='ps-row-btn' id=\"ps-row-btn_m1\" type='button' >m1</a>\n  \n  </td>\n  \n  <td>\n  \n  <span id=\"ps-cell_m1_value\">a</span>\n  \n  </td>\n  \n  </tr>\n\n  <tr>\n  \n  <td>\n  \n  <a class='ps-row-btn' id=\"ps-row-btn_m2\" type='button' >m2</a>\n  \n  </td>\n  \n  <td>\n  \n  <span id=\"ps-cell_m2_value\">b</span>\n  \n  </td>\n  \n  </tr>\n\n</tbody>\n</table>",
       "layout": "IPY_MODEL_223d26016ee447758dea0d9478d6e2ba",
       "value": {}
      }
     },
     "2dc9be8b9a6c4956a86868905ea25781": {
      "model_module": "@jupyter-widgets/base",
      "model_module_version": "2.0.0",
      "model_name": "LayoutModel",
      "state": {}
     },
     "310682d5d41c49a5b2ba14bd8f1651a8": {
      "model_module": "@jupyter-widgets/base",
      "model_module_version": "2.0.0",
      "model_name": "LayoutModel",
      "state": {}
     },
     "31954bb6801b4178b5807743a870416a": {
      "model_module": "jupyter-progressivis",
      "model_module_version": "^0.1.0",
      "model_name": "SensitiveHTMLModel",
      "state": {
       "_model_module_version": "^0.1.0",
       "_view_module_version": "^0.1.0",
       "data": {},
       "html": "\n<table class=\"table table-striped table-bordered table-hover table-condensed\" border=1>\n<thead><tr><th>Id</th><th>value</th></tr></thead>\n<tbody>\n\n  <tr>\n  \n  <td>\n  \n  <a class='ps-row-btn' id=\"ps-row-btn_m1\" type='button' >m1</a>\n  \n  </td>\n  \n  <td>\n  \n  <span id=\"ps-cell_m1_value\">a</span>\n  \n  </td>\n  \n  </tr>\n\n  <tr>\n  \n  <td>\n  \n  <a class='ps-row-btn' id=\"ps-row-btn_m2\" type='button' >m2</a>\n  \n  </td>\n  \n  <td>\n  \n  <span id=\"ps-cell_m2_value\">b</span>\n  \n  </td>\n  \n  </tr>\n\n</tbody>\n</table>",
       "layout": "IPY_MODEL_eac398cfd632421aa0a458ff317745f5",
       "sensitive_css_class": "ps-row-btn",
       "value": {}
      }
     },
     "3754407886f54d85a4d2768dd334a00d": {
      "model_module": "jupyter-progressivis",
      "model_module_version": "^0.1.0",
      "model_name": "DataTableModel",
      "state": {
       "_model_module_version": "^0.1.0",
       "_view_module_version": "^0.1.0",
       "columns": "[\"a\", \"b\"]",
       "data": "{\"draw\": 10, \"recordsTotal\": 10, \"recordsFiltered\": 10, \"data\": [[0, 1, 2, 3, 4, 5, 6, 7, 8, 9, 10, 11, 12, 13, 14, 15, 16, 17, 18, 19], [0, 1, 2, 3, 4, 5, 6, 7, 8, 9, 10, 11, 12, 13, 14, 15, 16, 17, 18, 19], [0, 1, 2, 3, 4, 5, 6, 7, 8, 9, 10, 11, 12, 13, 14, 15, 16, 17, 18, 19]]}",
       "dt_id": "aDT",
       "layout": "IPY_MODEL_a517e0b4d9174d30810749a65d9fab2f",
       "page": {}
      }
     },
     "38e988a161a047f5ae439ca9a81c3a6a": {
      "model_module": "@jupyter-widgets/base",
      "model_module_version": "2.0.0",
      "model_name": "LayoutModel",
      "state": {}
     },
     "410e6505adbd4752a52b1496f25a698d": {
      "model_module": "jupyter-progressivis",
      "model_module_version": "^0.1.0",
      "model_name": "DataTableModel",
      "state": {
       "_model_module_version": "^0.1.0",
       "_view_module_version": "^0.1.0",
       "columns": "[\"a\", \"b\"]",
       "data": "{\"draw\": 1, \"recordsTotal\": 10, \"recordsFiltered\": 10, \"data\": [[0, 1, 2, 3, 4, 5, 6, 7, 8, 9, 10, 11, 12, 13, 14, 15, 16, 17, 18, 19], [0, 1, 2, 3, 4, 5, 6, 7, 8, 9, 10, 11, 12, 13, 14, 15, 16, 17, 18, 19]]}",
       "dt_id": "aDT",
       "layout": "IPY_MODEL_c8315602e439441582a62f454f6dcc7a",
       "page": {}
      }
     },
     "425a8d1658c04a6b845f238c3980cc8c": {
      "model_module": "jupyter-progressivis",
      "model_module_version": "^0.1.0",
      "model_name": "DataTableModel",
      "state": {
       "_model_module_version": "^0.1.0",
       "_view_module_version": "^0.1.0",
       "columns": "[\"a\", \"b\"]",
       "data": "{\"draw\": 10, \"recordsTotal\": 10, \"recordsFiltered\": 10, \"data\": [[0, 1, 2, 3, 4, 5, 6, 7, 8, 9, 10, 11, 12, 13, 14, 15, 16, 17, 18, 19], [0, 1, 2, 3, 4, 5, 6, 7, 8, 9, 10, 11, 12, 13, 14, 15, 16, 17, 18, 19]]}",
       "dt_id": "aDT",
       "layout": "IPY_MODEL_adacca323ca547439358f271de78f953",
       "page": {}
      }
     },
     "42ca492a4e6e45d39d222de74cbf3124": {
      "model_module": "@jupyter-widgets/base",
      "model_module_version": "2.0.0",
      "model_name": "LayoutModel",
      "state": {}
     },
     "447bf128f13d42d38e94ef7a22ebf3e2": {
      "model_module": "@jupyter-widgets/base",
      "model_module_version": "2.0.0",
      "model_name": "LayoutModel",
      "state": {}
     },
     "4528c7ef681a41be8c2424e09e94ad6e": {
      "model_module": "jupyter-progressivis",
      "model_module_version": "^0.1.0",
      "model_name": "SensitiveHTMLModel",
      "state": {
       "_model_module_version": "^0.1.0",
       "_view_module_version": "^0.1.0",
       "data": {},
       "html": "<table border=1><tr><td>a</td><td><input class='sensitive' value='x'/></td></tr></table>",
       "layout": "IPY_MODEL_8fcb2f91639f4f7bbc8f593856fae538",
       "sensitive_css_class": "sensitive",
       "value": {}
      }
     },
     "46ec1eea9a4e4854bbd01ff1650f151d": {
      "model_module": "jupyter-progressivis",
      "model_module_version": "^0.1.0",
      "model_name": "JsonHTMLModel",
      "state": {
       "_model_module_version": "^0.1.0",
       "_view_module_version": "^0.1.0",
       "data": {
        "x": 1,
        "y": 2,
        "z": 3
       },
       "layout": "IPY_MODEL_a29f88119cd845dd8f6daf9c1494985e"
      }
     },
     "4969a6a2900244c99012e225f846396a": {
      "model_module": "jupyter-progressivis",
      "model_module_version": "^0.1.0",
      "model_name": "SensitiveHTMLModel",
      "state": {
       "_model_module_version": "^0.1.0",
       "_view_module_version": "^0.1.0",
       "data": {
        "ps-cell_m1_value": "X",
        "ps-cell_m2_value": "Y"
       },
       "html": "\n<table class=\"table table-striped table-bordered table-hover table-condensed\" border=1>\n<thead><tr><th>Id</th><th>value</th></tr></thead>\n<tbody>\n\n  <tr>\n  \n  <td>\n  \n  <a class='ps-row-btn' id=\"ps-row-btn_m1\" >m1</a>\n  \n  </td>\n  \n  <td>\n  \n  <span id=\"ps-cell_m1_value\">a</span>\n  \n  </td>\n  \n  </tr>\n\n  <tr>\n  \n  <td>\n  \n  <a class='ps-row-btn' id=\"ps-row-btn_m2\" >m2</a>\n  \n  </td>\n  \n  <td>\n  \n  <span id=\"ps-cell_m2_value\">b</span>\n  \n  </td>\n  \n  </tr>\n\n</tbody>\n</table>",
       "layout": "IPY_MODEL_4d6c1782e74542a886bb35d1303274ef",
       "sensitive_css_class": "ps-row-btn",
       "value": {}
      }
     },
     "4a6146b9dab64a939e613a77249de706": {
      "model_module": "jupyter-progressivis",
      "model_module_version": "^0.1.0",
      "model_name": "DataTableModel",
      "state": {
       "_model_module_version": "^0.1.0",
       "_view_module_version": "^0.1.0",
       "columns": "[\"a\", \"b\"]",
       "data": "{\"a\": [1, 2, 3], \"b\": [4, 5, 6]}",
       "dt_id": "aDT",
       "layout": "IPY_MODEL_5e3f80ade097406b966f24879cfa6a54",
       "page": {}
      }
     },
     "4d6c1782e74542a886bb35d1303274ef": {
      "model_module": "@jupyter-widgets/base",
      "model_module_version": "2.0.0",
      "model_name": "LayoutModel",
      "state": {
       "height": "100px",
       "overflow": "auto"
      }
     },
     "5149cfeb36fc42b6b8cfc53d9cb044b7": {
      "model_module": "jupyter-progressivis",
      "model_module_version": "^0.1.0",
      "model_name": "SensitiveHTMLModel",
      "state": {
       "_model_module_version": "^0.1.0",
       "_view_module_version": "^0.1.0",
       "data": {},
       "html": "\n<table class=\"table table-striped table-bordered table-hover table-condensed\">\n<thead><tr><th></th><th>Id</th><th>value</th></tr></thead>\n<tbody>\n\n  <tr>\n  \n  <td>\n  \n  <a class='ps-row-btn' id=\"ps-row-btn_m1\" type='button' >m1</a>\n  \n  </td>\n  \n  <td>\n  \n  <span id=\"ps-cell_m1_value\">a</span>\n  \n  </td>\n  \n  </tr>\n\n  <tr>\n  \n  <td>\n  \n  <a class='ps-row-btn' id=\"ps-row-btn_m2\" type='button' >m2</a>\n  \n  </td>\n  \n  <td>\n  \n  <span id=\"ps-cell_m2_value\">b</span>\n  \n  </td>\n  \n  </tr>\n\n</tbody>\n</table>",
       "layout": "IPY_MODEL_2dc9be8b9a6c4956a86868905ea25781",
       "value": {}
      }
     },
     "5251caa7d5dc4b46bd920b5a3fdff11d": {
      "model_module": "@jupyter-widgets/base",
      "model_module_version": "2.0.0",
      "model_name": "LayoutModel",
      "state": {}
     },
     "52599a31eac04726b0a402735d35396b": {
      "model_module": "jupyter-progressivis",
      "model_module_version": "^0.1.0",
      "model_name": "SensitiveHTMLModel",
      "state": {
       "_model_module_version": "^0.1.0",
       "_view_module_version": "^0.1.0",
       "data": {
        "ps-cell_m1_value": "X",
        "ps-cell_m2_value": "Y"
       },
       "html": "\n<table class=\"table table-striped table-bordered table-hover table-condensed\" border=1>\n<thead><tr><th>Id</th><th>value</th></tr></thead>\n<tbody>\n\n  <tr>\n  \n  <td>\n  \n  <a class='ps-row-btn' id=\"ps-row-btn_m1\" type='button' >m1</a>\n  \n  </td>\n  \n  <td>\n  \n  <span id=\"ps-cell_m1_value\">a</span>\n  \n  </td>\n  \n  </tr>\n\n  <tr>\n  \n  <td>\n  \n  <a class='ps-row-btn' id=\"ps-row-btn_m2\" type='button' >m2</a>\n  \n  </td>\n  \n  <td>\n  \n  <span id=\"ps-cell_m2_value\">b</span>\n  \n  </td>\n  \n  </tr>\n\n</tbody>\n</table>",
       "layout": "IPY_MODEL_e663b10c36264e1dbd32aa5ac06a4698",
       "sensitive_css_class": "ps-row-btn",
       "value": {}
      }
     },
     "5374fad75f9e4d349c6950f5cb92608a": {
      "model_module": "@jupyter-widgets/base",
      "model_module_version": "2.0.0",
      "model_name": "LayoutModel",
      "state": {
       "height": "50px",
       "overflow": "auto"
      }
     },
     "54131ac2f0c74fc7bc15fa815288856b": {
      "model_module": "jupyter-progressivis",
      "model_module_version": "^0.1.0",
      "model_name": "SensitiveHTMLModel",
      "state": {
       "_model_module_version": "^0.1.0",
       "_view_module_version": "^0.1.0",
       "data": {},
       "html": "\n<table class=\"table table-striped table-bordered table-hover table-condensed\">\n<thead><tr><th></th><th>Id</th><th>value</th></tr></thead>\n<tbody>\n\n  <tr>\n  \n  <td>\n  \n  <a class='ps-row-btn' id=\"ps-row-btn_m1\" type='button' >m1</a>\n  \n  </td>\n  \n  <td>\n  \n  <span id=\"ps-cell_m1_value\">a</span>\n  \n  </td>\n  \n  </tr>\n\n  <tr>\n  \n  <td>\n  \n  <a class='ps-row-btn' id=\"ps-row-btn_m2\" type='button' >m2</a>\n  \n  </td>\n  \n  <td>\n  \n  <span id=\"ps-cell_m2_value\">b</span>\n  \n  </td>\n  \n  </tr>\n\n</tbody>\n</table>",
       "layout": "IPY_MODEL_188c7343b415483c9ac6a2af60bbeddb",
       "value": {}
      }
     },
     "556ee686796546e68a6e4bbb0a0b9ce2": {
      "model_module": "jupyter-progressivis",
      "model_module_version": "^0.1.0",
      "model_name": "SensitiveHTMLModel",
      "state": {
       "_model_module_version": "^0.1.0",
       "_view_module_version": "^0.1.0",
       "data": {
        "sensitive": "x"
       },
       "html": "<table border=1><tr><td>a</td><td><div class='sensitive'>b</div></td></tr></table>",
       "layout": "IPY_MODEL_8ad05504f63146d89a245e7c2b7e041d",
       "sensitive_css_class": "sensitive",
       "value": {}
      }
     },
     "564c71b6948546b08db2cf8fbada019a": {
      "model_module": "jupyter-progressivis",
      "model_module_version": "^0.1.0",
      "model_name": "SensitiveHTMLModel",
      "state": {
       "_model_module_version": "^0.1.0",
       "_view_module_version": "^0.1.0",
       "data": {},
       "html": "\n<table class=\"table table-striped table-bordered table-hover table-condensed\">\n<thead><tr><th></th><th>Id</th><th>value</th></tr></thead>\n<tbody>\n\n  <tr>\n  \n  <td>\n  \n  <a class='ps-row-btn' id=\"ps-row-btn_m1\" type='button' >m1</a>\n  \n  </td>\n  \n  <td>\n  \n  <span id=\"ps-cell_m1_value\">a</span>\n  \n  </td>\n  \n  </tr>\n\n  <tr>\n  \n  <td>\n  \n  <a class='ps-row-btn' id=\"ps-row-btn_m2\" type='button' >m2</a>\n  \n  </td>\n  \n  <td>\n  \n  <span id=\"ps-cell_m2_value\">b</span>\n  \n  </td>\n  \n  </tr>\n\n</tbody>\n</table>",
       "layout": "IPY_MODEL_009235c2418e4d0e8df7772c40952313",
       "value": {}
      }
     },
     "56d3d740c706442498405fc5c9bf314b": {
      "model_module": "@jupyter-widgets/base",
      "model_module_version": "2.0.0",
      "model_name": "LayoutModel",
      "state": {}
     },
     "5bfa9d865cda47cd99964acf3acecf34": {
      "model_module": "jupyter-progressivis",
      "model_module_version": "^0.1.0",
      "model_name": "SensitiveHTMLModel",
      "state": {
       "_model_module_version": "^0.1.0",
       "_view_module_version": "^0.1.0",
       "data": {},
       "html": "<table border=1><tr><td>a</td><td><div class='sensitive'>b</div></td></tr></table>",
       "layout": "IPY_MODEL_1a87b9ebd06b4ba19d44db18711cf8e8",
       "sensitive_css_class": "sensitive",
       "value": "X"
      }
     },
     "5bfc9b39d99649599894eb95592975b6": {
      "model_module": "@jupyter-widgets/base",
      "model_module_version": "2.0.0",
      "model_name": "LayoutModel",
      "state": {}
     },
     "5e3f80ade097406b966f24879cfa6a54": {
      "model_module": "@jupyter-widgets/base",
      "model_module_version": "2.0.0",
      "model_name": "LayoutModel",
      "state": {}
     },
     "5f0c7826493b48d880c4866e2d1c2dda": {
      "model_module": "@jupyter-widgets/base",
      "model_module_version": "2.0.0",
      "model_name": "LayoutModel",
      "state": {}
     },
     "6059daa51ac147d9a1b1385b593b57e1": {
      "model_module": "@jupyter-widgets/base",
      "model_module_version": "2.0.0",
      "model_name": "LayoutModel",
      "state": {}
     },
     "64f2f45b3d7e4bd1a52988efd4fc7eea": {
      "model_module": "jupyter-progressivis",
      "model_module_version": "^0.1.0",
      "model_name": "SensitiveHTMLModel",
      "state": {
       "_model_module_version": "^0.1.0",
       "_view_module_version": "^0.1.0",
       "data": {},
       "html": "\n<table class=\"table table-striped table-bordered table-hover table-condensed\" border=1>\n<thead><tr><th>Id</th><th>value</th></tr></thead>\n<tbody>\n\n  <tr>\n  \n  <td>\n  \n  <a class='ps-row-btn' id=\"ps-row-btn_m1\" >m1</a>\n  \n  </td>\n  \n  <td>\n  \n  <span id=\"ps-cell_m1_value\">a</span>\n  \n  </td>\n  \n  </tr>\n\n  <tr>\n  \n  <td>\n  \n  <a class='ps-row-btn' id=\"ps-row-btn_m2\" >m2</a>\n  \n  </td>\n  \n  <td>\n  \n  <span id=\"ps-cell_m2_value\">b</span>\n  \n  </td>\n  \n  </tr>\n\n</tbody>\n</table>",
       "layout": "IPY_MODEL_ba50725c67be4ab996ddd0b90c83eb4b",
       "sensitive_css_class": "ps-row-btn",
       "value": {}
      }
     },
     "6606698ca4b84e319e0ecae4db9e5e3e": {
      "model_module": "jupyter-progressivis",
      "model_module_version": "^0.1.0",
      "model_name": "DataTableModel",
      "state": {
       "_model_module_version": "^0.1.0",
       "_view_module_version": "^0.1.0",
       "columns": "[\"a\", \"b\"]",
       "data": "{\"draw\": 10, \"recordsTotal\": 10, \"recordsFiltered\": 1, \"data\": [[1, 2], [3, 4], [5, 6]]}",
       "dt_id": "aDT",
       "layout": "IPY_MODEL_87f83cf53c0046adaf20e12fad15685c",
       "page": {}
      }
     },
     "6959de05a86a4230847acb7f161fd7dd": {
      "model_module": "@jupyter-widgets/base",
      "model_module_version": "2.0.0",
      "model_name": "LayoutModel",
      "state": {}
     },
     "696da94baaf24cffa443c5ffad4aa7ed": {
      "model_module": "jupyter-progressivis",
      "model_module_version": "^0.1.0",
      "model_name": "SensitiveHTMLModel",
      "state": {
       "_model_module_version": "^0.1.0",
       "_view_module_version": "^0.1.0",
       "data": {},
       "html": "\n<table class=\"table table-striped table-bordered table-hover table-condensed\" border=1>\n<thead><tr><th>Id</th><th>value</th></tr></thead>\n<tbody>\n\n  <tr>\n  \n  <td>\n  \n  <a class='ps-row-btn' id=\"ps-row-btn_m1\" >m1</a>\n  \n  </td>\n  \n  <td>\n  \n  <span id=\"ps-cell_m1_value\">a</span>\n  \n  </td>\n  \n  </tr>\n\n  <tr>\n  \n  <td>\n  \n  <a class='ps-row-btn' id=\"ps-row-btn_m2\" >m2</a>\n  \n  </td>\n  \n  <td>\n  \n  <span id=\"ps-cell_m2_value\">b</span>\n  \n  </td>\n  \n  </tr>\n\n</tbody>\n</table>",
       "layout": "IPY_MODEL_5374fad75f9e4d349c6950f5cb92608a",
       "sensitive_css_class": "ps-row-btn",
       "value": {}
      }
     },
     "698c0b8587504744b0e9df5c82238275": {
      "model_module": "@jupyter-widgets/base",
      "model_module_version": "2.0.0",
      "model_name": "LayoutModel",
      "state": {}
     },
     "6da2c82da9f749bb994e81a63a74620c": {
      "model_module": "jupyter-progressivis",
      "model_module_version": "^0.1.0",
      "model_name": "SensitiveHTMLModel",
      "state": {
       "_model_module_version": "^0.1.0",
       "_view_module_version": "^0.1.0",
       "data": "X",
       "html": "<table border=1><tr><td>a</td><td><div class='sensitive'>b</div></td></tr></table>",
       "layout": "IPY_MODEL_56d3d740c706442498405fc5c9bf314b",
       "sensitive_css_class": "sensitive",
       "value": {}
      }
     },
     "6dc055756ee94e32a4525e9d5311d065": {
      "model_module": "@jupyter-widgets/base",
      "model_module_version": "2.0.0",
      "model_name": "LayoutModel",
      "state": {}
     },
     "6f0b4e847dd24cfd88996e00d2670184": {
      "model_module": "jupyter-progressivis",
      "model_module_version": "^0.1.0",
      "model_name": "SensitiveHTMLModel",
      "state": {
       "_model_module_version": "^0.1.0",
       "_view_module_version": "^0.1.0",
       "data": {
        "ps-cell_m1_value": "X",
        "ps-cell_m2_value": "Y"
       },
       "html": "\n<table class=\"table table-striped table-bordered table-hover table-condensed\" border=1>\n<thead><tr><th>Id</th><th>value</th></tr></thead>\n<tbody>\n\n  <tr>\n  \n  <td>\n  \n  <a class='ps-row-btn' id=\"ps-row-btn_m1\" >m1</a>\n  \n  </td>\n  \n  <td>\n  \n  <span id=\"ps-cell_m1_value\">a</span>\n  \n  </td>\n  \n  </tr>\n\n  <tr>\n  \n  <td>\n  \n  <a class='ps-row-btn' id=\"ps-row-btn_m2\" >m2</a>\n  \n  </td>\n  \n  <td>\n  \n  <span id=\"ps-cell_m2_value\">b</span>\n  \n  </td>\n  \n  </tr>\n\n</tbody>\n</table>",
       "layout": "IPY_MODEL_728dbc86abc2432d9f3679c309c209db",
       "value": {}
      }
     },
     "6f802521438349a7a8e4454d7acf53e1": {
      "model_module": "jupyter-progressivis",
      "model_module_version": "^0.1.0",
      "model_name": "JsonHTMLModel",
      "state": {
       "_model_module_version": "^0.1.0",
       "_view_module_version": "^0.1.0",
       "config": {
        "order": [
         "z",
         "y",
         "x"
        ]
       },
       "data": {
        "x": 1,
        "y": 2,
        "z": 3
       },
       "layout": "IPY_MODEL_6959de05a86a4230847acb7f161fd7dd"
      }
     },
     "6f9ee4c5abbc4939a56563ec7b9721c3": {
      "model_module": "jupyter-progressivis",
      "model_module_version": "^0.1.0",
      "model_name": "SensitiveHTMLModel",
      "state": {
       "_model_module_version": "^0.1.0",
       "_view_module_version": "^0.1.0",
       "data": {},
       "html": "\n<table class=\"table table-striped table-bordered table-hover table-condensed\">\n<thead><tr><th></th><th>Id</th><th>Class</th><th>State</th><th>Last Update</th>\n<th>Order</th></tr></thead>\n<tbody>\n\n  <tr>\n  \n  <td>\n  \n  <span id=\"ps-cell__col1\"></span>\n  \n  </td>\n  \n  <td>\n  \n  <span id=\"ps-cell__col2\"></span>\n  \n  </td>\n  \n  </tr>\n\n  <tr>\n  \n  <td>\n  \n  <span id=\"ps-cell__col1\"></span>\n  \n  </td>\n  \n  <td>\n  \n  <span id=\"ps-cell__col2\"></span>\n  \n  </td>\n  \n  </tr>\n\n</tbody>\n</table>",
       "layout": "IPY_MODEL_7dc3a01617e34926a27cffbd711421b2",
       "value": {}
      }
     },
     "728dbc86abc2432d9f3679c309c209db": {
      "model_module": "@jupyter-widgets/base",
      "model_module_version": "2.0.0",
      "model_name": "LayoutModel",
      "state": {}
     },
     "741a12e53d5a40b1973ef6e564d39a8c": {
      "model_module": "jupyter-progressivis",
      "model_module_version": "^0.1.0",
      "model_name": "SensitiveHTMLModel",
      "state": {
       "_model_module_version": "^0.1.0",
       "_view_module_version": "^0.1.0",
       "data": {},
       "html": "\n<table class=\"table table-striped table-bordered table-hover table-condensed\" border=1>\n<thead><tr><th>Id</th><th>value</th></tr></thead>\n<tbody>\n\n  <tr>\n  \n  <td>\n  \n  <a class='ps-row-btn' id=\"ps-row-btn_m1\" >m1</a>\n  \n  </td>\n  \n  <td>\n  \n  <span id=\"ps-cell_m1_value\">a</span>\n  \n  </td>\n  \n  </tr>\n\n  <tr>\n  \n  <td>\n  \n  <a class='ps-row-btn' id=\"ps-row-btn_m2\" >m2</a>\n  \n  </td>\n  \n  <td>\n  \n  <span id=\"ps-cell_m2_value\">b</span>\n  \n  </td>\n  \n  </tr>\n\n</tbody>\n</table>",
       "layout": "IPY_MODEL_a2d12b364c554bbca214deb9f08924e2",
       "sensitive_css_class": "ps-row-btn",
       "value": "ps-row-btn_m2"
      }
     },
     "7904b03288fb497595277c1038e88661": {
      "model_module": "jupyter-progressivis",
      "model_module_version": "^0.1.0",
      "model_name": "DataTableModel",
      "state": {
       "_model_module_version": "^0.1.0",
       "_view_module_version": "^0.1.0",
       "columns": "",
       "data": "",
       "dt_id": "aDT",
       "layout": "IPY_MODEL_88ffcb30d3894fdd812249f2c223786b",
       "page": {}
      }
     },
     "7bcf9cb1ae604cf18501f05238ea53e8": {
      "model_module": "jupyter-progressivis",
      "model_module_version": "^0.1.0",
      "model_name": "JsonHTMLModel",
      "state": {
       "_model_module_version": "^0.1.0",
       "_view_module_version": "^0.1.0",
       "data": {
        "x": 1,
        "y": 2,
        "z": 3
       },
       "layout": "IPY_MODEL_ddb93b48ee704eb5b6d28dd2d0cd50fb"
      }
     },
     "7dc3a01617e34926a27cffbd711421b2": {
      "model_module": "@jupyter-widgets/base",
      "model_module_version": "2.0.0",
      "model_name": "LayoutModel",
      "state": {}
     },
     "7fcf50ee857949dd8f856354302131bd": {
      "model_module": "jupyter-progressivis",
      "model_module_version": "^0.1.0",
      "model_name": "SensitiveHTMLModel",
      "state": {
       "_model_module_version": "^0.1.0",
       "_view_module_version": "^0.1.0",
       "data": {},
       "html": "\n<table class=\"table table-striped table-bordered table-hover table-condensed\">\n<thead><tr><th></th><th>Id</th><th>value</th></tr></thead>\n<tbody>\n\n  <tr>\n  \n  <td>\n  \n  <a class='ps-row-btn' id=\"ps-row-btn_m1\" type='button' >m1</a>\n  \n  </td>\n  \n  <td>\n  \n  <span id=\"ps-cell_m1_value\">a</span>\n  \n  </td>\n  \n  </tr>\n\n  <tr>\n  \n  <td>\n  \n  <a class='ps-row-btn' id=\"ps-row-btn_m2\" type='button' >m2</a>\n  \n  </td>\n  \n  <td>\n  \n  <span id=\"ps-cell_m2_value\">b</span>\n  \n  </td>\n  \n  </tr>\n\n</tbody>\n</table>",
       "layout": "IPY_MODEL_278cba2a3357427c9d1ff12681a2641d",
       "sensitive_css_class": "ps-row-btn",
       "value": {}
      }
     },
     "826c4b2164ba42f6b6e2a535f47a6c86": {
      "model_module": "@jupyter-widgets/base",
      "model_module_version": "2.0.0",
      "model_name": "LayoutModel",
      "state": {}
     },
     "837b76cb06514b57a26fa34f7edac50b": {
      "model_module": "@jupyter-widgets/base",
      "model_module_version": "2.0.0",
      "model_name": "LayoutModel",
      "state": {}
     },
     "84f4f48f87464d4daf2ff04be5631feb": {
      "model_module": "jupyter-progressivis",
      "model_module_version": "^0.1.0",
      "model_name": "DataTableModel",
      "state": {
       "_model_module_version": "^0.1.0",
       "_view_module_version": "^0.1.0",
       "columns": "[\"a\", \"b\"]",
       "data": "",
       "dt_id": "aDT",
       "layout": "IPY_MODEL_826c4b2164ba42f6b6e2a535f47a6c86",
       "page": {}
      }
     },
     "87f83cf53c0046adaf20e12fad15685c": {
      "model_module": "@jupyter-widgets/base",
      "model_module_version": "2.0.0",
      "model_name": "LayoutModel",
      "state": {}
     },
     "88717f26c3ae40e7942815e195005026": {
      "model_module": "@jupyter-widgets/base",
      "model_module_version": "2.0.0",
      "model_name": "LayoutModel",
      "state": {}
     },
     "88ffcb30d3894fdd812249f2c223786b": {
      "model_module": "@jupyter-widgets/base",
      "model_module_version": "2.0.0",
      "model_name": "LayoutModel",
      "state": {}
     },
     "8ad05504f63146d89a245e7c2b7e041d": {
      "model_module": "@jupyter-widgets/base",
      "model_module_version": "2.0.0",
      "model_name": "LayoutModel",
      "state": {}
     },
     "8f6e1df6fee54b5c9351531df1021378": {
      "model_module": "@jupyter-widgets/base",
      "model_module_version": "2.0.0",
      "model_name": "LayoutModel",
      "state": {}
     },
     "8fcb2f91639f4f7bbc8f593856fae538": {
      "model_module": "@jupyter-widgets/base",
      "model_module_version": "2.0.0",
      "model_name": "LayoutModel",
      "state": {}
     },
     "90344e8ef8844909ba8c69c169fa605f": {
      "model_module": "jupyter-progressivis",
      "model_module_version": "^0.1.0",
      "model_name": "SensitiveHTMLModel",
      "state": {
       "_model_module_version": "^0.1.0",
       "_view_module_version": "^0.1.0",
       "data": {},
       "html": "\n<table class=\"table table-striped table-bordered table-hover table-condensed\">\n<thead><tr><th></th><th>Id</th><th>value</th></tr></thead>\n<tbody>\n\n  <tr>\n  \n  <td>\n  \n  <a class='ps-row-btn' id=\"ps-row-btn_\" type='button' ></a>\n  \n  </td>\n  \n  <td>\n  \n  <span id=\"ps-cell__col2\"></span>\n  \n  </td>\n  \n  </tr>\n\n  <tr>\n  \n  <td>\n  \n  <a class='ps-row-btn' id=\"ps-row-btn_\" type='button' ></a>\n  \n  </td>\n  \n  <td>\n  \n  <span id=\"ps-cell__col2\"></span>\n  \n  </td>\n  \n  </tr>\n\n</tbody>\n</table>",
       "layout": "IPY_MODEL_d4057b48741d4933bebdf80d0f3d53f1",
       "value": {}
      }
     },
     "92426c3f970b48fa9f59e2e5bca473a6": {
      "model_module": "jupyter-progressivis",
      "model_module_version": "^0.1.0",
      "model_name": "SensitiveHTMLModel",
      "state": {
       "_model_module_version": "^0.1.0",
       "_view_module_version": "^0.1.0",
       "data": {
        "ps-cell_m1_value": "X",
        "ps-cell_m2_value": "Y"
       },
       "html": "\n<table class=\"table table-striped table-bordered table-hover table-condensed\" border=1>\n<thead><tr><th>Id</th><th>value</th></tr></thead>\n<tbody>\n\n  <tr>\n  \n  <td>\n  \n  <a class='ps-row-btn' id=\"ps-row-btn_m1\" type='button' >m1</a>\n  \n  </td>\n  \n  <td>\n  \n  <span id=\"ps-cell_m1_value\">a</span>\n  \n  </td>\n  \n  </tr>\n\n  <tr>\n  \n  <td>\n  \n  <a class='ps-row-btn' id=\"ps-row-btn_m2\" type='button' >m2</a>\n  \n  </td>\n  \n  <td>\n  \n  <span id=\"ps-cell_m2_value\">b</span>\n  \n  </td>\n  \n  </tr>\n\n</tbody>\n</table>",
       "layout": "IPY_MODEL_310682d5d41c49a5b2ba14bd8f1651a8",
       "sensitive_css_class": "ps-row-btn",
       "value": {}
      }
     },
     "985e12107e8945edb3698742e66ce1ef": {
      "model_module": "@jupyter-widgets/base",
      "model_module_version": "2.0.0",
      "model_name": "LayoutModel",
      "state": {}
     },
     "9a38cd7348864d1ea152730022c61e7f": {
      "model_module": "jupyter-progressivis",
      "model_module_version": "^0.1.0",
      "model_name": "SensitiveHTMLModel",
      "state": {
       "_model_module_version": "^0.1.0",
       "_view_module_version": "^0.1.0",
       "data": {},
       "html": "\n<table class=\"table table-striped table-bordered table-hover table-condensed\" border=1>\n<thead><tr><th>Id</th><th>value</th></tr></thead>\n<tbody>\n\n  <tr>\n  \n  <td>\n  \n  <a class='ps-row-btn' id=\"ps-row-btn_m1\" type='button' >m1</a>\n  \n  </td>\n  \n  <td>\n  \n  <span id=\"ps-cell_m1_value\">a</span>\n  \n  </td>\n  \n  </tr>\n\n  <tr>\n  \n  <td>\n  \n  <a class='ps-row-btn' id=\"ps-row-btn_m2\" type='button' >m2</a>\n  \n  </td>\n  \n  <td>\n  \n  <span id=\"ps-cell_m2_value\">b</span>\n  \n  </td>\n  \n  </tr>\n\n</tbody>\n</table>",
       "layout": "IPY_MODEL_bc16418b5d044fa4b261ea8a5bafcccc",
       "sensitive_css_class": "ps-row-btn",
       "value": {}
      }
     },
     "9bc4875d6c154b748cd19cb92272b8a3": {
      "model_module": "jupyter-progressivis",
      "model_module_version": "^0.1.0",
      "model_name": "DataTableModel",
      "state": {
       "_model_module_version": "^0.1.0",
       "_view_module_version": "^0.1.0",
       "columns": "[\"a\", \"b\"]",
       "data": "[0, 1, 2, 3, 4, 5, 6, 7, 8, 9, 10, 11, 12, 13, 14, 15, 16, 17, 18, 19]",
       "dt_id": "aDT",
       "layout": "IPY_MODEL_6059daa51ac147d9a1b1385b593b57e1",
       "page": {}
      }
     },
     "9bc82cb20af34d449ead226f130b4d23": {
      "model_module": "jupyter-progressivis",
      "model_module_version": "^0.1.0",
      "model_name": "SensitiveHTMLModel",
      "state": {
       "_model_module_version": "^0.1.0",
       "_view_module_version": "^0.1.0",
       "data": {},
       "html": "\n<table class=\"table table-striped table-bordered table-hover table-condensed\">\n<thead><tr><th></th><th>Id</th><th>Class</th><th>State</th><th>Last Update</th>\n<th>Order</th></tr></thead>\n<tbody>\n\n  <tr>\n  \n  <td>\n  \n  <span id=\"ps-cell__col1\"></span>\n  \n  </td>\n  \n  <td>\n  \n  <span id=\"ps-cell__col2\"></span>\n  \n  </td>\n  \n  </tr>\n\n  <tr>\n  \n  <td>\n  \n  <span id=\"ps-cell__col1\"></span>\n  \n  </td>\n  \n  <td>\n  \n  <span id=\"ps-cell__col2\"></span>\n  \n  </td>\n  \n  </tr>\n\n</tbody>\n</table>",
       "layout": "IPY_MODEL_c9d11bcdf7464d3d80930b7e816fa45b",
       "value": {}
      }
     },
     "9e2ba4ef4eed490ba9f952f577f175fe": {
      "model_module": "@jupyter-widgets/base",
      "model_module_version": "2.0.0",
      "model_name": "LayoutModel",
      "state": {}
     },
     "a247f0ae38354b70b6fa5f30ccbc7d20": {
      "model_module": "@jupyter-widgets/base",
      "model_module_version": "2.0.0",
      "model_name": "LayoutModel",
      "state": {}
     },
     "a29f88119cd845dd8f6daf9c1494985e": {
      "model_module": "@jupyter-widgets/base",
      "model_module_version": "2.0.0",
      "model_name": "LayoutModel",
      "state": {}
     },
     "a2d12b364c554bbca214deb9f08924e2": {
      "model_module": "@jupyter-widgets/base",
      "model_module_version": "2.0.0",
      "model_name": "LayoutModel",
      "state": {
       "height": "500px",
       "overflow": "auto"
      }
     },
     "a4a72f6b5ce547259424110f70466e95": {
      "model_module": "@jupyter-widgets/base",
      "model_module_version": "2.0.0",
      "model_name": "LayoutModel",
      "state": {}
     },
     "a517e0b4d9174d30810749a65d9fab2f": {
      "model_module": "@jupyter-widgets/base",
      "model_module_version": "2.0.0",
      "model_name": "LayoutModel",
      "state": {}
     },
     "a8c9d6bb10e84f739e18a7ba6b8a62c6": {
      "model_module": "@jupyter-widgets/base",
      "model_module_version": "2.0.0",
      "model_name": "LayoutModel",
      "state": {}
     },
     "adacca323ca547439358f271de78f953": {
      "model_module": "@jupyter-widgets/base",
      "model_module_version": "2.0.0",
      "model_name": "LayoutModel",
      "state": {}
     },
     "b0207d0d282c4defa1b34efabafa17f2": {
      "model_module": "@jupyter-widgets/base",
      "model_module_version": "2.0.0",
      "model_name": "LayoutModel",
      "state": {}
     },
     "b0bfe49452d14f978d2ad2e1c5f6e464": {
      "model_module": "@jupyter-widgets/base",
      "model_module_version": "2.0.0",
      "model_name": "LayoutModel",
      "state": {}
     },
     "b3197b0b92e34c7e83ea1562ed76ba69": {
      "model_module": "jupyter-progressivis",
      "model_module_version": "^0.1.0",
      "model_name": "SensitiveHTMLModel",
      "state": {
       "_model_module_version": "^0.1.0",
       "_view_module_version": "^0.1.0",
       "data": {
        "ps-cell_m1_value": "X",
        "ps-cell_m2_value": "Y"
       },
       "html": "\n<table class=\"table table-striped table-bordered table-hover table-condensed\" border=1>\n<thead><tr><th>Id</th><th>value</th></tr></thead>\n<tbody>\n\n  <tr>\n  \n  <td>\n  <span id=\"ps-cell_m1_id\">m1</span>\n  </td>\n  \n  <td>\n  <span id=\"ps-cell_m1_value\">a</span>\n  </td>\n  \n  </tr>\n\n  <tr>\n  \n  <td>\n  <span id=\"ps-cell_m2_id\">m2</span>\n  </td>\n  \n  <td>\n  <span id=\"ps-cell_m2_value\">b</span>\n  </td>\n  \n  </tr>\n\n</tbody>\n</table>",
       "layout": "IPY_MODEL_5f0c7826493b48d880c4866e2d1c2dda",
       "sensitive_css_class": "ps-row-btn",
       "value": {}
      }
     },
     "b3c6964a33b7453a9c8e7ef818a8a9b8": {
      "model_module": "jupyter-progressivis",
      "model_module_version": "^0.1.0",
      "model_name": "SensitiveHTMLModel",
      "state": {
       "_model_module_version": "^0.1.0",
       "_view_module_version": "^0.1.0",
       "data": {},
       "html": "\n<table class=\"table table-striped table-bordered table-hover table-condensed\" border=1>\n<thead><tr><th></th><th>Id</th><th>value</th></tr></thead>\n<tbody>\n\n  <tr>\n  \n  <td></td>\n  <td>\n  \n  <a class='ps-row-btn' id=\"ps-row-btn_m1\" type='button' >m1</a>\n  \n  </td>\n  \n  <td></td>\n  <td>\n  \n  <span id=\"ps-cell_m1_value\">a</span>\n  \n  </td>\n  \n  </tr>\n\n  <tr>\n  \n  <td></td>\n  <td>\n  \n  <a class='ps-row-btn' id=\"ps-row-btn_m2\" type='button' >m2</a>\n  \n  </td>\n  \n  <td></td>\n  <td>\n  \n  <span id=\"ps-cell_m2_value\">b</span>\n  \n  </td>\n  \n  </tr>\n\n</tbody>\n</table>",
       "layout": "IPY_MODEL_f2d72dbdaa09463f8c78f9f341f90205",
       "sensitive_css_class": "ps-row-btn",
       "value": {}
      }
     },
     "b6aac5b5ee8c4d89ac95b6205af3d2b0": {
      "model_module": "@jupyter-widgets/base",
      "model_module_version": "2.0.0",
      "model_name": "LayoutModel",
      "state": {}
     },
     "b7203394b9d44c15b3bf2c7675a00325": {
      "model_module": "jupyter-progressivis",
      "model_module_version": "^0.1.0",
      "model_name": "DataTableModel",
      "state": {
       "_model_module_version": "^0.1.0",
       "_view_module_version": "^0.1.0",
       "columns": "[\"a\", \"b\"]",
       "data": "{\"draw\": 10, \"recordsTotal\": 10, \"recordsFiltered\": 5, \"data\": [[1, 2], [3, 4], [5, 6]]}",
       "dt_id": "aDT",
       "layout": "IPY_MODEL_5bfc9b39d99649599894eb95592975b6",
       "page": {}
      }
     },
     "ba50725c67be4ab996ddd0b90c83eb4b": {
      "model_module": "@jupyter-widgets/base",
      "model_module_version": "2.0.0",
      "model_name": "LayoutModel",
      "state": {}
     },
     "bab92f4eaf234576a1836138da5fdddb": {
      "model_module": "jupyter-progressivis",
      "model_module_version": "^0.1.0",
      "model_name": "SensitiveHTMLModel",
      "state": {
       "_model_module_version": "^0.1.0",
       "_view_module_version": "^0.1.0",
       "data": {
        "ps-cell_m1_value": "X"
       },
       "html": "\n<table class=\"table table-striped table-bordered table-hover table-condensed\" border=1>\n<thead><tr><th>Id</th><th>value</th></tr></thead>\n<tbody>\n\n  <tr>\n  \n  <td>\n  \n  <a class='ps-row-btn' id=\"ps-row-btn_m1\" type='button' >m1</a>\n  \n  </td>\n  \n  <td>\n  \n  <span id=\"ps-cell_m1_value\">a</span>\n  \n  </td>\n  \n  </tr>\n\n  <tr>\n  \n  <td>\n  \n  <a class='ps-row-btn' id=\"ps-row-btn_m2\" type='button' >m2</a>\n  \n  </td>\n  \n  <td>\n  \n  <span id=\"ps-cell_m2_value\">b</span>\n  \n  </td>\n  \n  </tr>\n\n</tbody>\n</table>",
       "layout": "IPY_MODEL_a8c9d6bb10e84f739e18a7ba6b8a62c6",
       "sensitive_css_class": "ps-row-btn",
       "value": {}
      }
     },
     "bc16418b5d044fa4b261ea8a5bafcccc": {
      "model_module": "@jupyter-widgets/base",
      "model_module_version": "2.0.0",
      "model_name": "LayoutModel",
      "state": {}
     },
     "bd5fcdeff60145cc860e98544b82bd6c": {
      "model_module": "@jupyter-widgets/base",
      "model_module_version": "2.0.0",
      "model_name": "LayoutModel",
      "state": {}
     },
     "bfc7a99fa84044a28c02d66ffb29acca": {
      "model_module": "jupyter-progressivis",
      "model_module_version": "^0.1.0",
      "model_name": "SensitiveHTMLModel",
      "state": {
       "_model_module_version": "^0.1.0",
       "_view_module_version": "^0.1.0",
       "data": {},
       "layout": "IPY_MODEL_bd5fcdeff60145cc860e98544b82bd6c",
       "value": {}
      }
     },
     "c59883b549e4415396b55478fa9abf5a": {
      "model_module": "jupyter-progressivis",
      "model_module_version": "^0.1.0",
      "model_name": "DataTableModel",
      "state": {
       "_model_module_version": "^0.1.0",
       "_view_module_version": "^0.1.0",
       "columns": "[\"a\", \"b\"]",
       "data": "{\"draw\": 1, \"recordsTotal\": 1, \"recordsFiltered\": 1, \"data\": [[1, 2], [3, 4], [5, 6]]}",
       "dt_id": "aDT",
       "layout": "IPY_MODEL_985e12107e8945edb3698742e66ce1ef",
       "page": {}
      }
     },
     "c5ea8431bac04bcaacfa143865d3427c": {
      "model_module": "jupyter-progressivis",
      "model_module_version": "^0.1.0",
      "model_name": "SensitiveHTMLModel",
      "state": {
       "_model_module_version": "^0.1.0",
       "_view_module_version": "^0.1.0",
       "data": {},
       "html": "\n<table class=\"table table-striped table-bordered table-hover table-condensed\" border=1>\n<thead><tr><th></th><th>Id</th><th>value</th></tr></thead>\n<tbody>\n\n  <tr>\n  \n  <td>\n  \n  <a class='ps-row-btn' id=\"ps-row-btn_m1\" type='button' >m1</a>\n  \n  </td>\n  \n  <td>\n  \n  <span id=\"ps-cell_m1_value\">a</span>\n  \n  </td>\n  \n  </tr>\n\n  <tr>\n  \n  <td>\n  \n  <a class='ps-row-btn' id=\"ps-row-btn_m2\" type='button' >m2</a>\n  \n  </td>\n  \n  <td>\n  \n  <span id=\"ps-cell_m2_value\">b</span>\n  \n  </td>\n  \n  </tr>\n\n</tbody>\n</table>",
       "layout": "IPY_MODEL_ec1ac99170bf40ed936a30a945036b33",
       "sensitive_css_class": "ps-row-btn",
       "value": {}
      }
     },
     "c8315602e439441582a62f454f6dcc7a": {
      "model_module": "@jupyter-widgets/base",
      "model_module_version": "2.0.0",
      "model_name": "LayoutModel",
      "state": {}
     },
     "c9d11bcdf7464d3d80930b7e816fa45b": {
      "model_module": "@jupyter-widgets/base",
      "model_module_version": "2.0.0",
      "model_name": "LayoutModel",
      "state": {}
     },
     "cfe0c9d4d43241919f5a7c52dfb35e0c": {
      "model_module": "jupyter-progressivis",
      "model_module_version": "^0.1.0",
      "model_name": "DataTableModel",
      "state": {
       "_model_module_version": "^0.1.0",
       "_view_module_version": "^0.1.0",
       "columns": "[\"a\", \"b\"]",
       "data": "{\"draw\": 1, \"recordsTotal\": 1, \"recordsFiltered\": 1, \"data\": [[0, 1, 2, 3, 4, 5, 6, 7, 8, 9, 10, 11, 12, 13, 14, 15, 16, 17, 18, 19], [0, 1, 2, 3, 4, 5, 6, 7, 8, 9, 10, 11, 12, 13, 14, 15, 16, 17, 18, 19], [0, 1, 2, 3, 4, 5, 6, 7, 8, 9, 10, 11, 12, 13, 14, 15, 16, 17, 18, 19]]}",
       "dt_id": "aDT",
       "layout": "IPY_MODEL_efc8de9ef9584298bf7f4c215211f623",
       "page": {}
      }
     },
     "d244a99b88724f0294ecf05e7a7270df": {
      "model_module": "jupyter-progressivis",
      "model_module_version": "^0.1.0",
      "model_name": "SensitiveHTMLModel",
      "state": {
       "_model_module_version": "^0.1.0",
       "_view_module_version": "^0.1.0",
       "data": {
        "ps-cell_m1_value": "X",
        "ps-cell_m2_value": "Y"
       },
       "html": "\n<table class=\"table table-striped table-bordered table-hover table-condensed\" border=1>\n<thead><tr><th>Id</th><th>value</th></tr></thead>\n<tbody>\n\n  <tr>\n  \n  <td>\n  \n  <a class='ps-row-btn' id=\"ps-row-btn_m1\" >m1</a>\n  \n  </td>\n  \n  <td>\n  \n  <span id=\"ps-cell_m1_value\">a</span>\n  \n  </td>\n  \n  </tr>\n\n  <tr>\n  \n  <td>\n  \n  <a class='ps-row-btn' id=\"ps-row-btn_m2\" >m2</a>\n  \n  </td>\n  \n  <td>\n  \n  <span id=\"ps-cell_m2_value\">b</span>\n  \n  </td>\n  \n  </tr>\n\n</tbody>\n</table>",
       "layout": "IPY_MODEL_8f6e1df6fee54b5c9351531df1021378",
       "sensitive_css_class": "ps-row-btn",
       "value": {}
      }
     },
     "d4057b48741d4933bebdf80d0f3d53f1": {
      "model_module": "@jupyter-widgets/base",
      "model_module_version": "2.0.0",
      "model_name": "LayoutModel",
      "state": {}
     },
     "d6635ddaee984c43b4cfbb5e34b0e4cc": {
      "model_module": "jupyter-progressivis",
      "model_module_version": "^0.1.0",
      "model_name": "SensitiveHTMLModel",
      "state": {
       "_model_module_version": "^0.1.0",
       "_view_module_version": "^0.1.0",
       "data": {},
       "html": "\n<table class=\"table table-striped table-bordered table-hover table-condensed\">\n<thead><tr><th></th><th>Id</th><th>value</th></tr></thead>\n<tbody>\n\n  <tr>\n  \n  <td>\n  \n  <a class='ps-row-btn' id=\"ps-row-btn_\" type='button' ></a>\n  \n  </td>\n  \n  <td>\n  \n  <span id=\"ps-cell__col2\"></span>\n  \n  </td>\n  \n  </tr>\n\n  <tr>\n  \n  <td>\n  \n  <a class='ps-row-btn' id=\"ps-row-btn_\" type='button' ></a>\n  \n  </td>\n  \n  <td>\n  \n  <span id=\"ps-cell__col2\"></span>\n  \n  </td>\n  \n  </tr>\n\n</tbody>\n</table>",
       "layout": "IPY_MODEL_f045662a64de408ba0588c20e0e39105",
       "value": {}
      }
     },
     "da7e9afb7540437ca5414a9dbef39f5c": {
      "model_module": "jupyter-progressivis",
      "model_module_version": "^0.1.0",
      "model_name": "SensitiveHTMLModel",
      "state": {
       "_model_module_version": "^0.1.0",
       "_view_module_version": "^0.1.0",
       "data": {},
       "html": "\n<table class=\"table table-striped table-bordered table-hover table-condensed\" border=1>\n<thead><tr><th></th><th>Id</th><th>value</th></tr></thead>\n<tbody>\n\n  <tr><td></td>\n  \n  <td>\n  \n  <a class='ps-row-btn' id=\"ps-row-btn_m1\" type='button' >m1</a>\n  \n  </td>\n  \n  <td>\n  \n  <span id=\"ps-cell_m1_value\">a</span>\n  \n  </td>\n  \n  </tr>\n\n  <tr><td></td>\n  \n  <td>\n  \n  <a class='ps-row-btn' id=\"ps-row-btn_m2\" type='button' >m2</a>\n  \n  </td>\n  \n  <td>\n  \n  <span id=\"ps-cell_m2_value\">b</span>\n  \n  </td>\n  \n  </tr>\n\n</tbody>\n</table>",
       "layout": "IPY_MODEL_698c0b8587504744b0e9df5c82238275",
       "sensitive_css_class": "ps-row-btn",
       "value": {}
      }
     },
     "daedf58c2d074b1f8826b6d33461ffda": {
      "model_module": "jupyter-progressivis",
      "model_module_version": "^0.1.0",
      "model_name": "SensitiveHTMLModel",
      "state": {
       "_model_module_version": "^0.1.0",
       "_view_module_version": "^0.1.0",
       "data": {
        "ps-cell_m1_value": "X",
        "ps-cell_m2_value": "Y"
       },
       "html": "\n<table class=\"table table-striped table-bordered table-hover table-condensed\" border=1>\n<thead><tr><th>Id</th><th>value</th></tr></thead>\n<tbody>\n\n  <tr>\n  \n  <td>\n  <a class='ps-row-btn' id=\"ps-row-btn_m1\" type='button' >m1</a>\n  </td>\n  \n  <td>\n  <a class='ps-row-btn' id=\"ps-row-btn_a\" type='button' >a</a>\n  </td>\n  \n  </tr>\n\n  <tr>\n  \n  <td>\n  <a class='ps-row-btn' id=\"ps-row-btn_m2\" type='button' >m2</a>\n  </td>\n  \n  <td>\n  <a class='ps-row-btn' id=\"ps-row-btn_b\" type='button' >b</a>\n  </td>\n  \n  </tr>\n\n</tbody>\n</table>",
       "layout": "IPY_MODEL_e6897dec78ec4740aa458cb91fee9232",
       "sensitive_css_class": "ps-row-btn",
       "value": {}
      }
     },
     "ddb93b48ee704eb5b6d28dd2d0cd50fb": {
      "model_module": "@jupyter-widgets/base",
      "model_module_version": "2.0.0",
      "model_name": "LayoutModel",
      "state": {}
     },
     "e53ac8b87f544afba813af5ed3d511c6": {
      "model_module": "jupyter-progressivis",
      "model_module_version": "^0.1.0",
      "model_name": "JsonHTMLModel",
      "state": {
       "_model_module_version": "^0.1.0",
       "_view_module_version": "^0.1.0",
       "config": {
        "order": [
         "x",
         "y",
         "z"
        ]
       },
       "data": {
        "x": 1,
        "y": 2,
        "z": 3
       },
       "layout": "IPY_MODEL_ec77d1ec25bc494d8ce5d7ec0fb7680b"
      }
     },
     "e663b10c36264e1dbd32aa5ac06a4698": {
      "model_module": "@jupyter-widgets/base",
      "model_module_version": "2.0.0",
      "model_name": "LayoutModel",
      "state": {}
     },
     "e6897dec78ec4740aa458cb91fee9232": {
      "model_module": "@jupyter-widgets/base",
      "model_module_version": "2.0.0",
      "model_name": "LayoutModel",
      "state": {}
     },
     "e885cfcf860841beae34cab245821cce": {
      "model_module": "jupyter-progressivis",
      "model_module_version": "^0.1.0",
      "model_name": "DataTableModel",
      "state": {
       "_model_module_version": "^0.1.0",
       "_view_module_version": "^0.1.0",
       "columns": "[\"a\", \"b\"]",
       "data": "{\"draw\": 1, \"recordsTotal\": 10, \"recordsFiltered\": 1, \"data\": [[0, 1, 2, 3, 4, 5, 6, 7, 8, 9, 10, 11, 12, 13, 14, 15, 16, 17, 18, 19], [0, 1, 2, 3, 4, 5, 6, 7, 8, 9, 10, 11, 12, 13, 14, 15, 16, 17, 18, 19]]}",
       "dt_id": "aDT",
       "layout": "IPY_MODEL_9e2ba4ef4eed490ba9f952f577f175fe",
       "page": {}
      }
     },
     "e9535cac2e2644269313bc9637662f88": {
      "model_module": "jupyter-progressivis",
      "model_module_version": "^0.1.0",
      "model_name": "JsonEditorModel",
      "state": {
       "_model_module_version": "^0.1.0",
       "_view_module_version": "^0.1.0",
       "data": {
        "answer": 42
       },
       "layout": "IPY_MODEL_5251caa7d5dc4b46bd920b5a3fdff11d"
      }
     },
     "eac398cfd632421aa0a458ff317745f5": {
      "model_module": "@jupyter-widgets/base",
      "model_module_version": "2.0.0",
      "model_name": "LayoutModel",
      "state": {}
     },
     "ead258e8a71e417cb068c4c295535aea": {
      "model_module": "jupyter-progressivis",
      "model_module_version": "^0.1.0",
      "model_name": "DataTableModel",
      "state": {
       "_model_module_version": "^0.1.0",
       "_view_module_version": "^0.1.0",
       "columns": "[\"a\", \"b\"]",
       "data": "{\"draw\": 1, \"recordsTotal\": 1, \"recordsFiltered\": 1, \"data\": [0, 1, 2, 3, 4, 5, 6, 7, 8, 9, 10, 11, 12, 13, 14, 15, 16, 17, 18, 19]}",
       "dt_id": "aDT",
       "layout": "IPY_MODEL_447bf128f13d42d38e94ef7a22ebf3e2",
       "page": {}
      }
     },
     "ec1ac99170bf40ed936a30a945036b33": {
      "model_module": "@jupyter-widgets/base",
      "model_module_version": "2.0.0",
      "model_name": "LayoutModel",
      "state": {}
     },
     "ec77d1ec25bc494d8ce5d7ec0fb7680b": {
      "model_module": "@jupyter-widgets/base",
      "model_module_version": "2.0.0",
      "model_name": "LayoutModel",
      "state": {}
     },
     "efc8de9ef9584298bf7f4c215211f623": {
      "model_module": "@jupyter-widgets/base",
      "model_module_version": "2.0.0",
      "model_name": "LayoutModel",
      "state": {}
     },
     "f045662a64de408ba0588c20e0e39105": {
      "model_module": "@jupyter-widgets/base",
      "model_module_version": "2.0.0",
      "model_name": "LayoutModel",
      "state": {}
     },
     "f2d72dbdaa09463f8c78f9f341f90205": {
      "model_module": "@jupyter-widgets/base",
      "model_module_version": "2.0.0",
      "model_name": "LayoutModel",
      "state": {}
     },
     "f3221fbc0c3d43549b7c964a3a348a51": {
      "model_module": "jupyter-progressivis",
      "model_module_version": "^0.1.0",
      "model_name": "DataTableModel",
      "state": {
       "_model_module_version": "^0.1.0",
       "_view_module_version": "^0.1.0",
       "columns": "[\"a\", \"b\"]",
       "data": "{\"draw\": 10, \"recordsTotal\": 1, \"recordsFiltered\": 1, \"data\": [[1, 2], [3, 4], [5, 6]]}",
       "dt_id": "aDT",
       "layout": "IPY_MODEL_b0bfe49452d14f978d2ad2e1c5f6e464",
       "page": {}
      }
     },
     "f7f9b71131cb42fe8586cd9b82c143be": {
      "model_module": "jupyter-progressivis",
      "model_module_version": "^0.1.0",
      "model_name": "DataTableModel",
      "state": {
       "_model_module_version": "^0.1.0",
       "_view_module_version": "^0.1.0",
       "columns": "",
       "data": "{\"a\": [1, 2, 3], \"b\": [4, 5, 6]}",
       "dt_id": "aDT",
       "layout": "IPY_MODEL_88717f26c3ae40e7942815e195005026",
       "page": {}
      }
     },
     "f8b149947c2a4cf5b88f78ef629f1d25": {
      "model_module": "jupyter-progressivis",
      "model_module_version": "^0.1.0",
      "model_name": "JsonHTMLModel",
      "state": {
       "_model_module_version": "^0.1.0",
       "_view_module_version": "^0.1.0",
       "config": {
        "order": [
         "z",
         "y",
         "x"
        ]
       },
       "data": {
        "x": 1,
        "y": 2,
        "z": 3
       },
       "layout": "IPY_MODEL_38e988a161a047f5ae439ca9a81c3a6a"
      }
     },
     "f8b7c4c80db14026876ed1beab3e83f8": {
      "model_module": "jupyter-progressivis",
      "model_module_version": "^0.1.0",
      "model_name": "SensitiveHTMLModel",
      "state": {
       "_model_module_version": "^0.1.0",
       "_view_module_version": "^0.1.0",
       "data": {},
       "html": "<table border=1><tr><td>a</td><td><div class='sensitive'>b</div></td></tr></table>",
       "layout": "IPY_MODEL_837b76cb06514b57a26fa34f7edac50b",
       "value": {}
      }
     },
     "fde1e12e87234485ae802089fec9ea1b": {
      "model_module": "jupyter-progressivis",
      "model_module_version": "^0.1.0",
      "model_name": "DataTableModel",
      "state": {
       "_model_module_version": "^0.1.0",
       "_view_module_version": "^0.1.0",
       "columns": "",
       "data": "{\"a\": [1, 2, 3], \"b\": [4, 5, 6]}",
       "dt_id": "aDT",
       "layout": "IPY_MODEL_a4a72f6b5ce547259424110f70466e95",
       "page": {}
      }
     }
    },
    "version_major": 2,
    "version_minor": 0
   }
  }
 },
 "nbformat": 4,
 "nbformat_minor": 5
}
