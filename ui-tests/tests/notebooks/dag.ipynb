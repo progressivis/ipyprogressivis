{
 "cells": [
  {
   "cell_type": "code",
   "execution_count": null,
   "id": "95897b54-2907-476e-99a6-e91301cf655e",
   "metadata": {},
   "outputs": [],
   "source": [
    "\"\"\"\n",
    "Initial software, Jean-Daniel Fekete, Christian Poli, Copyright (c) Inria, BSD 3-Clause License, 2021, v0.1.0\n",
    "\n",
    "This notebook contains substantial portions of  https://github.com/nivan/dagWidget/blob/daa8f10ac383252da50b52ff4169c4031ac4a69e/notebooks/Demo.ipynb, which has the following license:\n",
    "\n",
    "MIT License\n",
    "\n",
    "Copyright (c) 2023 Nivan Ferreira\n",
    "\n",
    "Permission is hereby granted, free of charge, to any person obtaining a copy\n",
    "of this software and associated documentation files (the \"Software\"), to deal\n",
    "in the Software without restriction, including without limitation the rights\n",
    "to use, copy, modify, merge, publish, distribute, sublicense, and/or sell\n",
    "copies of the Software, and to permit persons to whom the Software is\n",
    "furnished to do so, subject to the following conditions:\n",
    "\n",
    "The above copyright notice and this permission notice shall be included in all\n",
    "copies or substantial portions of the Software.\n",
    "\n",
    "THE SOFTWARE IS PROVIDED \"AS IS\", WITHOUT WARRANTY OF ANY KIND, EXPRESS OR\n",
    "IMPLIED, INCLUDING BUT NOT LIMITED TO THE WARRANTIES OF MERCHANTABILITY,\n",
    "FITNESS FOR A PARTICULAR PURPOSE AND NONINFRINGEMENT. IN NO EVENT SHALL THE\n",
    "AUTHORS OR COPYRIGHT HOLDERS BE LIABLE FOR ANY CLAIM, DAMAGES OR OTHER\n",
    "LIABILITY, WHETHER IN AN ACTION OF CONTRACT, TORT OR OTHERWISE, ARISING FROM,\n",
    "OUT OF OR IN CONNECTION WITH THE SOFTWARE OR THE USE OR OTHER DEALINGS IN THE\n",
    "SOFTWARE.\n",
    "\"\"\"\n",
    "from ipyprogressivis.widgets import DagWidgetController\n",
    "widgets = [{'widget':{},'id':'w1','label':'ABC D','div':'Div1','parents':[]},\n",
    "          {'widget':{},'id':'w2','label':'w2','div':'Div2','parents':['w1']},\n",
    "          {'widget':{},'id':'w3','label':'w3','div':'Div3','parents':['w2']},\n",
    "          {'widget':{},'id':'w4','label':'w4','div':'Div4','parents':['w2']},\n",
    "          {'widget':{},'id':'w5','label':'w5','div':'Div5','parents':['w3','w4']},\n",
    "          {'widget':{},'id':'w6','label':'w6','div':'Div6','parents':['w4','w5']},\n",
    "          {'widget':{},'id':'w7','label':'w7','div':'Div7','parents':['w5']}]\n",
    "manager = DagWidgetController()\n",
    "display(manager)"
   ]
  },
  {
   "cell_type": "code",
   "execution_count": null,
   "id": "f0eb1839-6159-481a-bb25-f817642570bd",
   "metadata": {},
   "outputs": [],
   "source": [
    "manager = DagWidgetController()\n",
    "display(manager)\n",
    "for w in widgets:\n",
    "    manager.register_widget(w['widget'],w['label'],w['id'],w['div'],w['parents'])"
   ]
  },
  {
   "cell_type": "code",
   "execution_count": null,
   "id": "9d965fe5-cd6a-4016-90cc-bd71b6d8e98c",
   "metadata": {},
   "outputs": [],
   "source": [
    "manager = DagWidgetController()\n",
    "display(manager)\n",
    "for w in widgets:\n",
    "    manager.register_widget(w['widget'],w['label'],w['id'],w['div'],w['parents'])\n",
    "manager.register_widget({},'w84545','w8','div8',[])"
   ]
  },
  {
   "cell_type": "code",
   "execution_count": null,
   "id": "e73e0d69-1d23-4ae1-9ced-6aef42399570",
   "metadata": {},
   "outputs": [],
   "source": [
    "manager = DagWidgetController()\n",
    "display(manager)\n",
    "for w in widgets:\n",
    "    manager.register_widget(w['widget'],w['label'],w['id'],w['div'],w['parents'])\n",
    "manager.register_widget({},'w84545','w8','div8',[])\n",
    "manager.add_parent('w8','w7')"
   ]
  }
 ],
 "metadata": {
  "kernelspec": {
   "display_name": "Python 3 (ipykernel)",
   "language": "python",
   "name": "python3"
  },
  "language_info": {
   "codemirror_mode": {
    "name": "ipython",
    "version": 3
   },
   "file_extension": ".py",
   "mimetype": "text/x-python",
   "name": "python",
   "nbconvert_exporter": "python",
   "pygments_lexer": "ipython3",
   "version": "3.11.4"
  },
  "widgets": {
   "application/vnd.jupyter.widget-state+json": {
    "state": {},
    "version_major": 2,
    "version_minor": 0
   }
  }
 },
 "nbformat": 4,
 "nbformat_minor": 5
}
