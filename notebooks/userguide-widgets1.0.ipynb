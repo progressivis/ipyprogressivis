{
 "cells": [
  {
   "cell_type": "markdown",
   "id": "ceee6a5f-fd38-4b0f-af1b-a3fca1c44ea2",
   "metadata": {
    "deletable": false,
    "editable": false,
    "progressivis_backup": "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;eyJ0aXRsZSI6ICJIZWF0bWFwIiwgInBhcmVudCI6IFsiVGF4aXMiLCAwXSwgIm51bWJlciI6IDAsICJhbGlhcyI6ICIiLCAiZnJvemVuIjogeyJYIjogInBpY2t1cF9sb25naXR1ZGUiLCAiWSI6ICJwaWNrdXBfbGF0aXR1ZGUifSwgIm1hcmtkb3duIjogIiJ9",
    "tags": []
   },
   "source": [
    "<button data-commandLinker-command=\"progressivis:cleanup_and_run\" data-commandlinker-args='{\"index\": 1}' href=\"#\">Run ProgressiVis</button>"
   ]
  },
  {
   "cell_type": "code",
   "execution_count": 1,
   "id": "fleet-final",
   "metadata": {
    "deletable": false,
    "editable": false,
    "jupyter": {
     "source_hidden": true
    },
    "progressivis_backup": "",
    "slideshow": {
     "slide_type": ""
    },
    "tags": []
   },
   "outputs": [
    {
     "data": {
      "application/vnd.jupyter.widget-view+json": {
       "model_id": "36a3d2b70ae34c19bd0fd5caab610f86",
       "version_major": 2,
       "version_minor": 0
      },
      "text/plain": []
     },
     "metadata": {},
     "output_type": "display_data"
    },
    {
     "data": {
      "application/vnd.jupyter.widget-view+json": {
       "model_id": "24fb249ca4d6492db6e5ad166e89f2ab",
       "version_major": 2,
       "version_minor": 0
      },
      "text/plain": []
     },
     "metadata": {},
     "output_type": "display_data"
    },
    {
     "data": {
      "text/html": [
       "<script type=\"esms-options\">{\"shimMode\": true}</script><style>*[data-root-id],\n",
       "*[data-root-id] > * {\n",
       "  box-sizing: border-box;\n",
       "  font-family: var(--jp-ui-font-family);\n",
       "  font-size: var(--jp-ui-font-size1);\n",
       "  color: var(--vscode-editor-foreground, var(--jp-ui-font-color1));\n",
       "}\n",
       "\n",
       "/* Override VSCode background color */\n",
       ".cell-output-ipywidget-background:has(\n",
       "    > .cell-output-ipywidget-background > .lm-Widget > *[data-root-id]\n",
       "  ),\n",
       ".cell-output-ipywidget-background:has(> .lm-Widget > *[data-root-id]) {\n",
       "  background-color: transparent !important;\n",
       "}\n",
       "</style>"
      ]
     },
     "metadata": {},
     "output_type": "display_data"
    },
    {
     "data": {
      "application/javascript": [
       "(function(root) {\n",
       "  function now() {\n",
       "    return new Date();\n",
       "  }\n",
       "\n",
       "  const force = true;\n",
       "  const py_version = '3.5.2'.replace('rc', '-rc.').replace('.dev', '-dev.');\n",
       "  const reloading = false;\n",
       "  const Bokeh = root.Bokeh;\n",
       "\n",
       "  // Set a timeout for this load but only if we are not already initializing\n",
       "  if (typeof (root._bokeh_timeout) === \"undefined\" || (force || !root._bokeh_is_initializing)) {\n",
       "    root._bokeh_timeout = Date.now() + 5000;\n",
       "    root._bokeh_failed_load = false;\n",
       "  }\n",
       "\n",
       "  function run_callbacks() {\n",
       "    try {\n",
       "      root._bokeh_onload_callbacks.forEach(function(callback) {\n",
       "        if (callback != null)\n",
       "          callback();\n",
       "      });\n",
       "    } finally {\n",
       "      delete root._bokeh_onload_callbacks;\n",
       "    }\n",
       "    console.debug(\"Bokeh: all callbacks have finished\");\n",
       "  }\n",
       "\n",
       "  function load_libs(css_urls, js_urls, js_modules, js_exports, callback) {\n",
       "    if (css_urls == null) css_urls = [];\n",
       "    if (js_urls == null) js_urls = [];\n",
       "    if (js_modules == null) js_modules = [];\n",
       "    if (js_exports == null) js_exports = {};\n",
       "\n",
       "    root._bokeh_onload_callbacks.push(callback);\n",
       "\n",
       "    if (root._bokeh_is_loading > 0) {\n",
       "      // Don't load bokeh if it is still initializing\n",
       "      console.debug(\"Bokeh: BokehJS is being loaded, scheduling callback at\", now());\n",
       "      return null;\n",
       "    } else if (js_urls.length === 0 && js_modules.length === 0 && Object.keys(js_exports).length === 0) {\n",
       "      // There is nothing to load\n",
       "      run_callbacks();\n",
       "      return null;\n",
       "    }\n",
       "\n",
       "    function on_load() {\n",
       "      root._bokeh_is_loading--;\n",
       "      if (root._bokeh_is_loading === 0) {\n",
       "        console.debug(\"Bokeh: all BokehJS libraries/stylesheets loaded\");\n",
       "        run_callbacks()\n",
       "      }\n",
       "    }\n",
       "    window._bokeh_on_load = on_load\n",
       "\n",
       "    function on_error(e) {\n",
       "      const src_el = e.srcElement\n",
       "      console.error(\"failed to load \" + (src_el.href || src_el.src));\n",
       "    }\n",
       "\n",
       "    const skip = [];\n",
       "    if (window.requirejs) {\n",
       "      window.requirejs.config({'packages': {}, 'paths': {'ace': '//cdnjs.cloudflare.com/ajax/libs/ace/1.4.7', 'jsoneditor': '//cdn.jsdelivr.net/npm/jsoneditor@10.0.1/dist/jsoneditor.min'}, 'shim': {'ace/ext-language_tools': {'deps': ['ace/ace']}, 'ace/ext-modelist': {'deps': ['ace/ace']}, 'jsoneditor': {'exports': 'JSONEditor'}}});\n",
       "      require([\"ace/ace\"], function(ace) {\n",
       "        window.ace = ace\n",
       "        on_load()\n",
       "      })\n",
       "      require([\"ace/ext-language_tools\"], function() {\n",
       "        on_load()\n",
       "      })\n",
       "      require([\"ace/ext-modelist\"], function() {\n",
       "        on_load()\n",
       "      })\n",
       "      require([\"jsoneditor\"], function(JSONEditor) {\n",
       "        window.JSONEditor = JSONEditor\n",
       "        on_load()\n",
       "      })\n",
       "      root._bokeh_is_loading = css_urls.length + 4;\n",
       "    } else {\n",
       "      root._bokeh_is_loading = css_urls.length + js_urls.length + js_modules.length + Object.keys(js_exports).length;\n",
       "    }\n",
       "\n",
       "    const existing_stylesheets = []\n",
       "    const links = document.getElementsByTagName('link')\n",
       "    for (let i = 0; i < links.length; i++) {\n",
       "      const link = links[i]\n",
       "      if (link.href != null) {\n",
       "        existing_stylesheets.push(link.href)\n",
       "      }\n",
       "    }\n",
       "    for (let i = 0; i < css_urls.length; i++) {\n",
       "      const url = css_urls[i];\n",
       "      const escaped = encodeURI(url)\n",
       "      if (existing_stylesheets.indexOf(escaped) !== -1) {\n",
       "        on_load()\n",
       "        continue;\n",
       "      }\n",
       "      const element = document.createElement(\"link\");\n",
       "      element.onload = on_load;\n",
       "      element.onerror = on_error;\n",
       "      element.rel = \"stylesheet\";\n",
       "      element.type = \"text/css\";\n",
       "      element.href = url;\n",
       "      console.debug(\"Bokeh: injecting link tag for BokehJS stylesheet: \", url);\n",
       "      document.body.appendChild(element);\n",
       "    }    if (((window.ace !== undefined) && (!(window.ace instanceof HTMLElement))) || window.requirejs) {\n",
       "      var urls = ['https://cdnjs.cloudflare.com/ajax/libs/ace/1.4.11/ace.js', 'https://cdnjs.cloudflare.com/ajax/libs/ace/1.4.11/ext-language_tools.js', 'https://cdnjs.cloudflare.com/ajax/libs/ace/1.4.11/ext-modelist.js'];\n",
       "      for (var i = 0; i < urls.length; i++) {\n",
       "        skip.push(encodeURI(urls[i]))\n",
       "      }\n",
       "    }    if (((window.JSONEditor !== undefined) && (!(window.JSONEditor instanceof HTMLElement))) || window.requirejs) {\n",
       "      var urls = ['https://cdn.holoviz.org/panel/1.5.0/dist/bundled/jsoneditor/jsoneditor@10.0.1/dist/jsoneditor.min.js'];\n",
       "      for (var i = 0; i < urls.length; i++) {\n",
       "        skip.push(encodeURI(urls[i]))\n",
       "      }\n",
       "    }    var existing_scripts = []\n",
       "    const scripts = document.getElementsByTagName('script')\n",
       "    for (let i = 0; i < scripts.length; i++) {\n",
       "      var script = scripts[i]\n",
       "      if (script.src != null) {\n",
       "        existing_scripts.push(script.src)\n",
       "      }\n",
       "    }\n",
       "    for (let i = 0; i < js_urls.length; i++) {\n",
       "      const url = js_urls[i];\n",
       "      const escaped = encodeURI(url)\n",
       "      if (skip.indexOf(escaped) !== -1 || existing_scripts.indexOf(escaped) !== -1) {\n",
       "        if (!window.requirejs) {\n",
       "          on_load();\n",
       "        }\n",
       "        continue;\n",
       "      }\n",
       "      const element = document.createElement('script');\n",
       "      element.onload = on_load;\n",
       "      element.onerror = on_error;\n",
       "      element.async = false;\n",
       "      element.src = url;\n",
       "      console.debug(\"Bokeh: injecting script tag for BokehJS library: \", url);\n",
       "      document.head.appendChild(element);\n",
       "    }\n",
       "    for (let i = 0; i < js_modules.length; i++) {\n",
       "      const url = js_modules[i];\n",
       "      const escaped = encodeURI(url)\n",
       "      if (skip.indexOf(escaped) !== -1 || existing_scripts.indexOf(escaped) !== -1) {\n",
       "        if (!window.requirejs) {\n",
       "          on_load();\n",
       "        }\n",
       "        continue;\n",
       "      }\n",
       "      var element = document.createElement('script');\n",
       "      element.onload = on_load;\n",
       "      element.onerror = on_error;\n",
       "      element.async = false;\n",
       "      element.src = url;\n",
       "      element.type = \"module\";\n",
       "      console.debug(\"Bokeh: injecting script tag for BokehJS library: \", url);\n",
       "      document.head.appendChild(element);\n",
       "    }\n",
       "    for (const name in js_exports) {\n",
       "      const url = js_exports[name];\n",
       "      const escaped = encodeURI(url)\n",
       "      if (skip.indexOf(escaped) >= 0 || root[name] != null) {\n",
       "        if (!window.requirejs) {\n",
       "          on_load();\n",
       "        }\n",
       "        continue;\n",
       "      }\n",
       "      var element = document.createElement('script');\n",
       "      element.onerror = on_error;\n",
       "      element.async = false;\n",
       "      element.type = \"module\";\n",
       "      console.debug(\"Bokeh: injecting script tag for BokehJS library: \", url);\n",
       "      element.textContent = `\n",
       "      import ${name} from \"${url}\"\n",
       "      window.${name} = ${name}\n",
       "      window._bokeh_on_load()\n",
       "      `\n",
       "      document.head.appendChild(element);\n",
       "    }\n",
       "    if (!js_urls.length && !js_modules.length) {\n",
       "      on_load()\n",
       "    }\n",
       "  };\n",
       "\n",
       "  function inject_raw_css(css) {\n",
       "    const element = document.createElement(\"style\");\n",
       "    element.appendChild(document.createTextNode(css));\n",
       "    document.body.appendChild(element);\n",
       "  }\n",
       "\n",
       "  const js_urls = [\"https://cdnjs.cloudflare.com/ajax/libs/ace/1.4.11/ace.js\", \"https://cdnjs.cloudflare.com/ajax/libs/ace/1.4.11/ext-language_tools.js\", \"https://cdnjs.cloudflare.com/ajax/libs/ace/1.4.11/ext-modelist.js\", \"https://cdn.holoviz.org/panel/1.5.0/dist/bundled/reactiveesm/es-module-shims@^1.10.0/dist/es-module-shims.min.js\", \"https://cdn.holoviz.org/panel/1.5.0/dist/bundled/jsoneditor/jsoneditor@10.0.1/dist/jsoneditor.min.js\", \"https://cdn.bokeh.org/bokeh/release/bokeh-3.5.2.min.js\", \"https://cdn.bokeh.org/bokeh/release/bokeh-gl-3.5.2.min.js\", \"https://cdn.bokeh.org/bokeh/release/bokeh-widgets-3.5.2.min.js\", \"https://cdn.bokeh.org/bokeh/release/bokeh-tables-3.5.2.min.js\", \"https://cdn.holoviz.org/panel/1.5.0/dist/panel.min.js\"];\n",
       "  const js_modules = [];\n",
       "  const js_exports = {};\n",
       "  const css_urls = [\"https://cdn.holoviz.org/panel/1.5.0/dist/bundled/jsoneditor/jsoneditor@10.0.1/dist/jsoneditor.min.css?v=1.5.0\", \"https://cdn.holoviz.org/panel/1.5.0/dist/bundled/font-awesome/css/all.min.css\"];\n",
       "  const inline_js = [    function(Bokeh) {\n",
       "      Bokeh.set_log_level(\"info\");\n",
       "    },\n",
       "function(Bokeh) {} // ensure no trailing comma for IE\n",
       "  ];\n",
       "\n",
       "  function run_inline_js() {\n",
       "    if ((root.Bokeh !== undefined) || (force === true)) {\n",
       "      for (let i = 0; i < inline_js.length; i++) {\n",
       "        try {\n",
       "          inline_js[i].call(root, root.Bokeh);\n",
       "        } catch(e) {\n",
       "          if (!reloading) {\n",
       "            throw e;\n",
       "          }\n",
       "        }\n",
       "      }\n",
       "      // Cache old bokeh versions\n",
       "      if (Bokeh != undefined && !reloading) {\n",
       "        var NewBokeh = root.Bokeh;\n",
       "        if (Bokeh.versions === undefined) {\n",
       "          Bokeh.versions = new Map();\n",
       "        }\n",
       "        if (NewBokeh.version !== Bokeh.version) {\n",
       "          Bokeh.versions.set(NewBokeh.version, NewBokeh)\n",
       "        }\n",
       "        root.Bokeh = Bokeh;\n",
       "      }\n",
       "    } else if (Date.now() < root._bokeh_timeout) {\n",
       "      setTimeout(run_inline_js, 100);\n",
       "    } else if (!root._bokeh_failed_load) {\n",
       "      console.log(\"Bokeh: BokehJS failed to load within specified timeout.\");\n",
       "      root._bokeh_failed_load = true;\n",
       "    }\n",
       "    root._bokeh_is_initializing = false\n",
       "  }\n",
       "\n",
       "  function load_or_wait() {\n",
       "    // Implement a backoff loop that tries to ensure we do not load multiple\n",
       "    // versions of Bokeh and its dependencies at the same time.\n",
       "    // In recent versions we use the root._bokeh_is_initializing flag\n",
       "    // to determine whether there is an ongoing attempt to initialize\n",
       "    // bokeh, however for backward compatibility we also try to ensure\n",
       "    // that we do not start loading a newer (Panel>=1.0 and Bokeh>3) version\n",
       "    // before older versions are fully initialized.\n",
       "    if (root._bokeh_is_initializing && Date.now() > root._bokeh_timeout) {\n",
       "      // If the timeout and bokeh was not successfully loaded we reset\n",
       "      // everything and try loading again\n",
       "      root._bokeh_timeout = Date.now() + 5000;\n",
       "      root._bokeh_is_initializing = false;\n",
       "      root._bokeh_onload_callbacks = undefined;\n",
       "      root._bokeh_is_loading = 0\n",
       "      console.log(\"Bokeh: BokehJS was loaded multiple times but one version failed to initialize.\");\n",
       "      load_or_wait();\n",
       "    } else if (root._bokeh_is_initializing || (typeof root._bokeh_is_initializing === \"undefined\" && root._bokeh_onload_callbacks !== undefined)) {\n",
       "      setTimeout(load_or_wait, 100);\n",
       "    } else {\n",
       "      root._bokeh_is_initializing = true\n",
       "      root._bokeh_onload_callbacks = []\n",
       "      const bokeh_loaded = root.Bokeh != null && (root.Bokeh.version === py_version || (root.Bokeh.versions !== undefined && root.Bokeh.versions.has(py_version)));\n",
       "      if (!reloading && !bokeh_loaded) {\n",
       "        if (root.Bokeh) {\n",
       "          root.Bokeh = undefined;\n",
       "        }\n",
       "        console.debug(\"Bokeh: BokehJS not loaded, scheduling load and callback at\", now());\n",
       "      }\n",
       "      load_libs(css_urls, js_urls, js_modules, js_exports, function() {\n",
       "        console.debug(\"Bokeh: BokehJS plotting callback run at\", now());\n",
       "        run_inline_js();\n",
       "      });\n",
       "    }\n",
       "  }\n",
       "  // Give older versions of the autoload script a head-start to ensure\n",
       "  // they initialize before we start loading newer version.\n",
       "  setTimeout(load_or_wait, 100)\n",
       "}(window));"
      ],
      "application/vnd.holoviews_load.v0+json": "(function(root) {\n  function now() {\n    return new Date();\n  }\n\n  const force = true;\n  const py_version = '3.5.2'.replace('rc', '-rc.').replace('.dev', '-dev.');\n  const reloading = false;\n  const Bokeh = root.Bokeh;\n\n  // Set a timeout for this load but only if we are not already initializing\n  if (typeof (root._bokeh_timeout) === \"undefined\" || (force || !root._bokeh_is_initializing)) {\n    root._bokeh_timeout = Date.now() + 5000;\n    root._bokeh_failed_load = false;\n  }\n\n  function run_callbacks() {\n    try {\n      root._bokeh_onload_callbacks.forEach(function(callback) {\n        if (callback != null)\n          callback();\n      });\n    } finally {\n      delete root._bokeh_onload_callbacks;\n    }\n    console.debug(\"Bokeh: all callbacks have finished\");\n  }\n\n  function load_libs(css_urls, js_urls, js_modules, js_exports, callback) {\n    if (css_urls == null) css_urls = [];\n    if (js_urls == null) js_urls = [];\n    if (js_modules == null) js_modules = [];\n    if (js_exports == null) js_exports = {};\n\n    root._bokeh_onload_callbacks.push(callback);\n\n    if (root._bokeh_is_loading > 0) {\n      // Don't load bokeh if it is still initializing\n      console.debug(\"Bokeh: BokehJS is being loaded, scheduling callback at\", now());\n      return null;\n    } else if (js_urls.length === 0 && js_modules.length === 0 && Object.keys(js_exports).length === 0) {\n      // There is nothing to load\n      run_callbacks();\n      return null;\n    }\n\n    function on_load() {\n      root._bokeh_is_loading--;\n      if (root._bokeh_is_loading === 0) {\n        console.debug(\"Bokeh: all BokehJS libraries/stylesheets loaded\");\n        run_callbacks()\n      }\n    }\n    window._bokeh_on_load = on_load\n\n    function on_error(e) {\n      const src_el = e.srcElement\n      console.error(\"failed to load \" + (src_el.href || src_el.src));\n    }\n\n    const skip = [];\n    if (window.requirejs) {\n      window.requirejs.config({'packages': {}, 'paths': {'ace': '//cdnjs.cloudflare.com/ajax/libs/ace/1.4.7', 'jsoneditor': '//cdn.jsdelivr.net/npm/jsoneditor@10.0.1/dist/jsoneditor.min'}, 'shim': {'ace/ext-language_tools': {'deps': ['ace/ace']}, 'ace/ext-modelist': {'deps': ['ace/ace']}, 'jsoneditor': {'exports': 'JSONEditor'}}});\n      require([\"ace/ace\"], function(ace) {\n        window.ace = ace\n        on_load()\n      })\n      require([\"ace/ext-language_tools\"], function() {\n        on_load()\n      })\n      require([\"ace/ext-modelist\"], function() {\n        on_load()\n      })\n      require([\"jsoneditor\"], function(JSONEditor) {\n        window.JSONEditor = JSONEditor\n        on_load()\n      })\n      root._bokeh_is_loading = css_urls.length + 4;\n    } else {\n      root._bokeh_is_loading = css_urls.length + js_urls.length + js_modules.length + Object.keys(js_exports).length;\n    }\n\n    const existing_stylesheets = []\n    const links = document.getElementsByTagName('link')\n    for (let i = 0; i < links.length; i++) {\n      const link = links[i]\n      if (link.href != null) {\n        existing_stylesheets.push(link.href)\n      }\n    }\n    for (let i = 0; i < css_urls.length; i++) {\n      const url = css_urls[i];\n      const escaped = encodeURI(url)\n      if (existing_stylesheets.indexOf(escaped) !== -1) {\n        on_load()\n        continue;\n      }\n      const element = document.createElement(\"link\");\n      element.onload = on_load;\n      element.onerror = on_error;\n      element.rel = \"stylesheet\";\n      element.type = \"text/css\";\n      element.href = url;\n      console.debug(\"Bokeh: injecting link tag for BokehJS stylesheet: \", url);\n      document.body.appendChild(element);\n    }    if (((window.ace !== undefined) && (!(window.ace instanceof HTMLElement))) || window.requirejs) {\n      var urls = ['https://cdnjs.cloudflare.com/ajax/libs/ace/1.4.11/ace.js', 'https://cdnjs.cloudflare.com/ajax/libs/ace/1.4.11/ext-language_tools.js', 'https://cdnjs.cloudflare.com/ajax/libs/ace/1.4.11/ext-modelist.js'];\n      for (var i = 0; i < urls.length; i++) {\n        skip.push(encodeURI(urls[i]))\n      }\n    }    if (((window.JSONEditor !== undefined) && (!(window.JSONEditor instanceof HTMLElement))) || window.requirejs) {\n      var urls = ['https://cdn.holoviz.org/panel/1.5.0/dist/bundled/jsoneditor/jsoneditor@10.0.1/dist/jsoneditor.min.js'];\n      for (var i = 0; i < urls.length; i++) {\n        skip.push(encodeURI(urls[i]))\n      }\n    }    var existing_scripts = []\n    const scripts = document.getElementsByTagName('script')\n    for (let i = 0; i < scripts.length; i++) {\n      var script = scripts[i]\n      if (script.src != null) {\n        existing_scripts.push(script.src)\n      }\n    }\n    for (let i = 0; i < js_urls.length; i++) {\n      const url = js_urls[i];\n      const escaped = encodeURI(url)\n      if (skip.indexOf(escaped) !== -1 || existing_scripts.indexOf(escaped) !== -1) {\n        if (!window.requirejs) {\n          on_load();\n        }\n        continue;\n      }\n      const element = document.createElement('script');\n      element.onload = on_load;\n      element.onerror = on_error;\n      element.async = false;\n      element.src = url;\n      console.debug(\"Bokeh: injecting script tag for BokehJS library: \", url);\n      document.head.appendChild(element);\n    }\n    for (let i = 0; i < js_modules.length; i++) {\n      const url = js_modules[i];\n      const escaped = encodeURI(url)\n      if (skip.indexOf(escaped) !== -1 || existing_scripts.indexOf(escaped) !== -1) {\n        if (!window.requirejs) {\n          on_load();\n        }\n        continue;\n      }\n      var element = document.createElement('script');\n      element.onload = on_load;\n      element.onerror = on_error;\n      element.async = false;\n      element.src = url;\n      element.type = \"module\";\n      console.debug(\"Bokeh: injecting script tag for BokehJS library: \", url);\n      document.head.appendChild(element);\n    }\n    for (const name in js_exports) {\n      const url = js_exports[name];\n      const escaped = encodeURI(url)\n      if (skip.indexOf(escaped) >= 0 || root[name] != null) {\n        if (!window.requirejs) {\n          on_load();\n        }\n        continue;\n      }\n      var element = document.createElement('script');\n      element.onerror = on_error;\n      element.async = false;\n      element.type = \"module\";\n      console.debug(\"Bokeh: injecting script tag for BokehJS library: \", url);\n      element.textContent = `\n      import ${name} from \"${url}\"\n      window.${name} = ${name}\n      window._bokeh_on_load()\n      `\n      document.head.appendChild(element);\n    }\n    if (!js_urls.length && !js_modules.length) {\n      on_load()\n    }\n  };\n\n  function inject_raw_css(css) {\n    const element = document.createElement(\"style\");\n    element.appendChild(document.createTextNode(css));\n    document.body.appendChild(element);\n  }\n\n  const js_urls = [\"https://cdnjs.cloudflare.com/ajax/libs/ace/1.4.11/ace.js\", \"https://cdnjs.cloudflare.com/ajax/libs/ace/1.4.11/ext-language_tools.js\", \"https://cdnjs.cloudflare.com/ajax/libs/ace/1.4.11/ext-modelist.js\", \"https://cdn.holoviz.org/panel/1.5.0/dist/bundled/reactiveesm/es-module-shims@^1.10.0/dist/es-module-shims.min.js\", \"https://cdn.holoviz.org/panel/1.5.0/dist/bundled/jsoneditor/jsoneditor@10.0.1/dist/jsoneditor.min.js\", \"https://cdn.bokeh.org/bokeh/release/bokeh-3.5.2.min.js\", \"https://cdn.bokeh.org/bokeh/release/bokeh-gl-3.5.2.min.js\", \"https://cdn.bokeh.org/bokeh/release/bokeh-widgets-3.5.2.min.js\", \"https://cdn.bokeh.org/bokeh/release/bokeh-tables-3.5.2.min.js\", \"https://cdn.holoviz.org/panel/1.5.0/dist/panel.min.js\"];\n  const js_modules = [];\n  const js_exports = {};\n  const css_urls = [\"https://cdn.holoviz.org/panel/1.5.0/dist/bundled/jsoneditor/jsoneditor@10.0.1/dist/jsoneditor.min.css?v=1.5.0\", \"https://cdn.holoviz.org/panel/1.5.0/dist/bundled/font-awesome/css/all.min.css\"];\n  const inline_js = [    function(Bokeh) {\n      Bokeh.set_log_level(\"info\");\n    },\nfunction(Bokeh) {} // ensure no trailing comma for IE\n  ];\n\n  function run_inline_js() {\n    if ((root.Bokeh !== undefined) || (force === true)) {\n      for (let i = 0; i < inline_js.length; i++) {\n        try {\n          inline_js[i].call(root, root.Bokeh);\n        } catch(e) {\n          if (!reloading) {\n            throw e;\n          }\n        }\n      }\n      // Cache old bokeh versions\n      if (Bokeh != undefined && !reloading) {\n        var NewBokeh = root.Bokeh;\n        if (Bokeh.versions === undefined) {\n          Bokeh.versions = new Map();\n        }\n        if (NewBokeh.version !== Bokeh.version) {\n          Bokeh.versions.set(NewBokeh.version, NewBokeh)\n        }\n        root.Bokeh = Bokeh;\n      }\n    } else if (Date.now() < root._bokeh_timeout) {\n      setTimeout(run_inline_js, 100);\n    } else if (!root._bokeh_failed_load) {\n      console.log(\"Bokeh: BokehJS failed to load within specified timeout.\");\n      root._bokeh_failed_load = true;\n    }\n    root._bokeh_is_initializing = false\n  }\n\n  function load_or_wait() {\n    // Implement a backoff loop that tries to ensure we do not load multiple\n    // versions of Bokeh and its dependencies at the same time.\n    // In recent versions we use the root._bokeh_is_initializing flag\n    // to determine whether there is an ongoing attempt to initialize\n    // bokeh, however for backward compatibility we also try to ensure\n    // that we do not start loading a newer (Panel>=1.0 and Bokeh>3) version\n    // before older versions are fully initialized.\n    if (root._bokeh_is_initializing && Date.now() > root._bokeh_timeout) {\n      // If the timeout and bokeh was not successfully loaded we reset\n      // everything and try loading again\n      root._bokeh_timeout = Date.now() + 5000;\n      root._bokeh_is_initializing = false;\n      root._bokeh_onload_callbacks = undefined;\n      root._bokeh_is_loading = 0\n      console.log(\"Bokeh: BokehJS was loaded multiple times but one version failed to initialize.\");\n      load_or_wait();\n    } else if (root._bokeh_is_initializing || (typeof root._bokeh_is_initializing === \"undefined\" && root._bokeh_onload_callbacks !== undefined)) {\n      setTimeout(load_or_wait, 100);\n    } else {\n      root._bokeh_is_initializing = true\n      root._bokeh_onload_callbacks = []\n      const bokeh_loaded = root.Bokeh != null && (root.Bokeh.version === py_version || (root.Bokeh.versions !== undefined && root.Bokeh.versions.has(py_version)));\n      if (!reloading && !bokeh_loaded) {\n        if (root.Bokeh) {\n          root.Bokeh = undefined;\n        }\n        console.debug(\"Bokeh: BokehJS not loaded, scheduling load and callback at\", now());\n      }\n      load_libs(css_urls, js_urls, js_modules, js_exports, function() {\n        console.debug(\"Bokeh: BokehJS plotting callback run at\", now());\n        run_inline_js();\n      });\n    }\n  }\n  // Give older versions of the autoload script a head-start to ensure\n  // they initialize before we start loading newer version.\n  setTimeout(load_or_wait, 100)\n}(window));"
     },
     "metadata": {},
     "output_type": "display_data"
    },
    {
     "data": {
      "application/javascript": [
       "\n",
       "if ((window.PyViz === undefined) || (window.PyViz instanceof HTMLElement)) {\n",
       "  window.PyViz = {comms: {}, comm_status:{}, kernels:{}, receivers: {}, plot_index: []}\n",
       "}\n",
       "\n",
       "\n",
       "    function JupyterCommManager() {\n",
       "    }\n",
       "\n",
       "    JupyterCommManager.prototype.register_target = function(plot_id, comm_id, msg_handler) {\n",
       "      if (window.comm_manager || ((window.Jupyter !== undefined) && (Jupyter.notebook.kernel != null))) {\n",
       "        var comm_manager = window.comm_manager || Jupyter.notebook.kernel.comm_manager;\n",
       "        comm_manager.register_target(comm_id, function(comm) {\n",
       "          comm.on_msg(msg_handler);\n",
       "        });\n",
       "      } else if ((plot_id in window.PyViz.kernels) && (window.PyViz.kernels[plot_id])) {\n",
       "        window.PyViz.kernels[plot_id].registerCommTarget(comm_id, function(comm) {\n",
       "          comm.onMsg = msg_handler;\n",
       "        });\n",
       "      } else if (typeof google != 'undefined' && google.colab.kernel != null) {\n",
       "        google.colab.kernel.comms.registerTarget(comm_id, (comm) => {\n",
       "          var messages = comm.messages[Symbol.asyncIterator]();\n",
       "          function processIteratorResult(result) {\n",
       "            var message = result.value;\n",
       "            console.log(message)\n",
       "            var content = {data: message.data, comm_id};\n",
       "            var buffers = []\n",
       "            for (var buffer of message.buffers || []) {\n",
       "              buffers.push(new DataView(buffer))\n",
       "            }\n",
       "            var metadata = message.metadata || {};\n",
       "            var msg = {content, buffers, metadata}\n",
       "            msg_handler(msg);\n",
       "            return messages.next().then(processIteratorResult);\n",
       "          }\n",
       "          return messages.next().then(processIteratorResult);\n",
       "        })\n",
       "      }\n",
       "    }\n",
       "\n",
       "    JupyterCommManager.prototype.get_client_comm = function(plot_id, comm_id, msg_handler) {\n",
       "      if (comm_id in window.PyViz.comms) {\n",
       "        return window.PyViz.comms[comm_id];\n",
       "      } else if (window.comm_manager || ((window.Jupyter !== undefined) && (Jupyter.notebook.kernel != null))) {\n",
       "        var comm_manager = window.comm_manager || Jupyter.notebook.kernel.comm_manager;\n",
       "        var comm = comm_manager.new_comm(comm_id, {}, {}, {}, comm_id);\n",
       "        if (msg_handler) {\n",
       "          comm.on_msg(msg_handler);\n",
       "        }\n",
       "      } else if ((plot_id in window.PyViz.kernels) && (window.PyViz.kernels[plot_id])) {\n",
       "        var comm = window.PyViz.kernels[plot_id].connectToComm(comm_id);\n",
       "        comm.open();\n",
       "        if (msg_handler) {\n",
       "          comm.onMsg = msg_handler;\n",
       "        }\n",
       "      } else if (typeof google != 'undefined' && google.colab.kernel != null) {\n",
       "        var comm_promise = google.colab.kernel.comms.open(comm_id)\n",
       "        comm_promise.then((comm) => {\n",
       "          window.PyViz.comms[comm_id] = comm;\n",
       "          if (msg_handler) {\n",
       "            var messages = comm.messages[Symbol.asyncIterator]();\n",
       "            function processIteratorResult(result) {\n",
       "              var message = result.value;\n",
       "              var content = {data: message.data};\n",
       "              var metadata = message.metadata || {comm_id};\n",
       "              var msg = {content, metadata}\n",
       "              msg_handler(msg);\n",
       "              return messages.next().then(processIteratorResult);\n",
       "            }\n",
       "            return messages.next().then(processIteratorResult);\n",
       "          }\n",
       "        }) \n",
       "        var sendClosure = (data, metadata, buffers, disposeOnDone) => {\n",
       "          return comm_promise.then((comm) => {\n",
       "            comm.send(data, metadata, buffers, disposeOnDone);\n",
       "          });\n",
       "        };\n",
       "        var comm = {\n",
       "          send: sendClosure\n",
       "        };\n",
       "      }\n",
       "      window.PyViz.comms[comm_id] = comm;\n",
       "      return comm;\n",
       "    }\n",
       "    window.PyViz.comm_manager = new JupyterCommManager();\n",
       "    \n",
       "\n",
       "\n",
       "var JS_MIME_TYPE = 'application/javascript';\n",
       "var HTML_MIME_TYPE = 'text/html';\n",
       "var EXEC_MIME_TYPE = 'application/vnd.holoviews_exec.v0+json';\n",
       "var CLASS_NAME = 'output';\n",
       "\n",
       "/**\n",
       " * Render data to the DOM node\n",
       " */\n",
       "function render(props, node) {\n",
       "  var div = document.createElement(\"div\");\n",
       "  var script = document.createElement(\"script\");\n",
       "  node.appendChild(div);\n",
       "  node.appendChild(script);\n",
       "}\n",
       "\n",
       "/**\n",
       " * Handle when a new output is added\n",
       " */\n",
       "function handle_add_output(event, handle) {\n",
       "  var output_area = handle.output_area;\n",
       "  var output = handle.output;\n",
       "  if ((output.data == undefined) || (!output.data.hasOwnProperty(EXEC_MIME_TYPE))) {\n",
       "    return\n",
       "  }\n",
       "  var id = output.metadata[EXEC_MIME_TYPE][\"id\"];\n",
       "  var toinsert = output_area.element.find(\".\" + CLASS_NAME.split(' ')[0]);\n",
       "  if (id !== undefined) {\n",
       "    var nchildren = toinsert.length;\n",
       "    var html_node = toinsert[nchildren-1].children[0];\n",
       "    html_node.innerHTML = output.data[HTML_MIME_TYPE];\n",
       "    var scripts = [];\n",
       "    var nodelist = html_node.querySelectorAll(\"script\");\n",
       "    for (var i in nodelist) {\n",
       "      if (nodelist.hasOwnProperty(i)) {\n",
       "        scripts.push(nodelist[i])\n",
       "      }\n",
       "    }\n",
       "\n",
       "    scripts.forEach( function (oldScript) {\n",
       "      var newScript = document.createElement(\"script\");\n",
       "      var attrs = [];\n",
       "      var nodemap = oldScript.attributes;\n",
       "      for (var j in nodemap) {\n",
       "        if (nodemap.hasOwnProperty(j)) {\n",
       "          attrs.push(nodemap[j])\n",
       "        }\n",
       "      }\n",
       "      attrs.forEach(function(attr) { newScript.setAttribute(attr.name, attr.value) });\n",
       "      newScript.appendChild(document.createTextNode(oldScript.innerHTML));\n",
       "      oldScript.parentNode.replaceChild(newScript, oldScript);\n",
       "    });\n",
       "    if (JS_MIME_TYPE in output.data) {\n",
       "      toinsert[nchildren-1].children[1].textContent = output.data[JS_MIME_TYPE];\n",
       "    }\n",
       "    output_area._hv_plot_id = id;\n",
       "    if ((window.Bokeh !== undefined) && (id in Bokeh.index)) {\n",
       "      window.PyViz.plot_index[id] = Bokeh.index[id];\n",
       "    } else {\n",
       "      window.PyViz.plot_index[id] = null;\n",
       "    }\n",
       "  } else if (output.metadata[EXEC_MIME_TYPE][\"server_id\"] !== undefined) {\n",
       "    var bk_div = document.createElement(\"div\");\n",
       "    bk_div.innerHTML = output.data[HTML_MIME_TYPE];\n",
       "    var script_attrs = bk_div.children[0].attributes;\n",
       "    for (var i = 0; i < script_attrs.length; i++) {\n",
       "      toinsert[toinsert.length - 1].childNodes[1].setAttribute(script_attrs[i].name, script_attrs[i].value);\n",
       "    }\n",
       "    // store reference to server id on output_area\n",
       "    output_area._bokeh_server_id = output.metadata[EXEC_MIME_TYPE][\"server_id\"];\n",
       "  }\n",
       "}\n",
       "\n",
       "/**\n",
       " * Handle when an output is cleared or removed\n",
       " */\n",
       "function handle_clear_output(event, handle) {\n",
       "  var id = handle.cell.output_area._hv_plot_id;\n",
       "  var server_id = handle.cell.output_area._bokeh_server_id;\n",
       "  if (((id === undefined) || !(id in PyViz.plot_index)) && (server_id !== undefined)) { return; }\n",
       "  var comm = window.PyViz.comm_manager.get_client_comm(\"hv-extension-comm\", \"hv-extension-comm\", function () {});\n",
       "  if (server_id !== null) {\n",
       "    comm.send({event_type: 'server_delete', 'id': server_id});\n",
       "    return;\n",
       "  } else if (comm !== null) {\n",
       "    comm.send({event_type: 'delete', 'id': id});\n",
       "  }\n",
       "  delete PyViz.plot_index[id];\n",
       "  if ((window.Bokeh !== undefined) & (id in window.Bokeh.index)) {\n",
       "    var doc = window.Bokeh.index[id].model.document\n",
       "    doc.clear();\n",
       "    const i = window.Bokeh.documents.indexOf(doc);\n",
       "    if (i > -1) {\n",
       "      window.Bokeh.documents.splice(i, 1);\n",
       "    }\n",
       "  }\n",
       "}\n",
       "\n",
       "/**\n",
       " * Handle kernel restart event\n",
       " */\n",
       "function handle_kernel_cleanup(event, handle) {\n",
       "  delete PyViz.comms[\"hv-extension-comm\"];\n",
       "  window.PyViz.plot_index = {}\n",
       "}\n",
       "\n",
       "/**\n",
       " * Handle update_display_data messages\n",
       " */\n",
       "function handle_update_output(event, handle) {\n",
       "  handle_clear_output(event, {cell: {output_area: handle.output_area}})\n",
       "  handle_add_output(event, handle)\n",
       "}\n",
       "\n",
       "function register_renderer(events, OutputArea) {\n",
       "  function append_mime(data, metadata, element) {\n",
       "    // create a DOM node to render to\n",
       "    var toinsert = this.create_output_subarea(\n",
       "    metadata,\n",
       "    CLASS_NAME,\n",
       "    EXEC_MIME_TYPE\n",
       "    );\n",
       "    this.keyboard_manager.register_events(toinsert);\n",
       "    // Render to node\n",
       "    var props = {data: data, metadata: metadata[EXEC_MIME_TYPE]};\n",
       "    render(props, toinsert[0]);\n",
       "    element.append(toinsert);\n",
       "    return toinsert\n",
       "  }\n",
       "\n",
       "  events.on('output_added.OutputArea', handle_add_output);\n",
       "  events.on('output_updated.OutputArea', handle_update_output);\n",
       "  events.on('clear_output.CodeCell', handle_clear_output);\n",
       "  events.on('delete.Cell', handle_clear_output);\n",
       "  events.on('kernel_ready.Kernel', handle_kernel_cleanup);\n",
       "\n",
       "  OutputArea.prototype.register_mime_type(EXEC_MIME_TYPE, append_mime, {\n",
       "    safe: true,\n",
       "    index: 0\n",
       "  });\n",
       "}\n",
       "\n",
       "if (window.Jupyter !== undefined) {\n",
       "  try {\n",
       "    var events = require('base/js/events');\n",
       "    var OutputArea = require('notebook/js/outputarea').OutputArea;\n",
       "    if (OutputArea.prototype.mime_types().indexOf(EXEC_MIME_TYPE) == -1) {\n",
       "      register_renderer(events, OutputArea);\n",
       "    }\n",
       "  } catch(err) {\n",
       "  }\n",
       "}\n"
      ],
      "application/vnd.holoviews_load.v0+json": "\nif ((window.PyViz === undefined) || (window.PyViz instanceof HTMLElement)) {\n  window.PyViz = {comms: {}, comm_status:{}, kernels:{}, receivers: {}, plot_index: []}\n}\n\n\n    function JupyterCommManager() {\n    }\n\n    JupyterCommManager.prototype.register_target = function(plot_id, comm_id, msg_handler) {\n      if (window.comm_manager || ((window.Jupyter !== undefined) && (Jupyter.notebook.kernel != null))) {\n        var comm_manager = window.comm_manager || Jupyter.notebook.kernel.comm_manager;\n        comm_manager.register_target(comm_id, function(comm) {\n          comm.on_msg(msg_handler);\n        });\n      } else if ((plot_id in window.PyViz.kernels) && (window.PyViz.kernels[plot_id])) {\n        window.PyViz.kernels[plot_id].registerCommTarget(comm_id, function(comm) {\n          comm.onMsg = msg_handler;\n        });\n      } else if (typeof google != 'undefined' && google.colab.kernel != null) {\n        google.colab.kernel.comms.registerTarget(comm_id, (comm) => {\n          var messages = comm.messages[Symbol.asyncIterator]();\n          function processIteratorResult(result) {\n            var message = result.value;\n            console.log(message)\n            var content = {data: message.data, comm_id};\n            var buffers = []\n            for (var buffer of message.buffers || []) {\n              buffers.push(new DataView(buffer))\n            }\n            var metadata = message.metadata || {};\n            var msg = {content, buffers, metadata}\n            msg_handler(msg);\n            return messages.next().then(processIteratorResult);\n          }\n          return messages.next().then(processIteratorResult);\n        })\n      }\n    }\n\n    JupyterCommManager.prototype.get_client_comm = function(plot_id, comm_id, msg_handler) {\n      if (comm_id in window.PyViz.comms) {\n        return window.PyViz.comms[comm_id];\n      } else if (window.comm_manager || ((window.Jupyter !== undefined) && (Jupyter.notebook.kernel != null))) {\n        var comm_manager = window.comm_manager || Jupyter.notebook.kernel.comm_manager;\n        var comm = comm_manager.new_comm(comm_id, {}, {}, {}, comm_id);\n        if (msg_handler) {\n          comm.on_msg(msg_handler);\n        }\n      } else if ((plot_id in window.PyViz.kernels) && (window.PyViz.kernels[plot_id])) {\n        var comm = window.PyViz.kernels[plot_id].connectToComm(comm_id);\n        comm.open();\n        if (msg_handler) {\n          comm.onMsg = msg_handler;\n        }\n      } else if (typeof google != 'undefined' && google.colab.kernel != null) {\n        var comm_promise = google.colab.kernel.comms.open(comm_id)\n        comm_promise.then((comm) => {\n          window.PyViz.comms[comm_id] = comm;\n          if (msg_handler) {\n            var messages = comm.messages[Symbol.asyncIterator]();\n            function processIteratorResult(result) {\n              var message = result.value;\n              var content = {data: message.data};\n              var metadata = message.metadata || {comm_id};\n              var msg = {content, metadata}\n              msg_handler(msg);\n              return messages.next().then(processIteratorResult);\n            }\n            return messages.next().then(processIteratorResult);\n          }\n        }) \n        var sendClosure = (data, metadata, buffers, disposeOnDone) => {\n          return comm_promise.then((comm) => {\n            comm.send(data, metadata, buffers, disposeOnDone);\n          });\n        };\n        var comm = {\n          send: sendClosure\n        };\n      }\n      window.PyViz.comms[comm_id] = comm;\n      return comm;\n    }\n    window.PyViz.comm_manager = new JupyterCommManager();\n    \n\n\nvar JS_MIME_TYPE = 'application/javascript';\nvar HTML_MIME_TYPE = 'text/html';\nvar EXEC_MIME_TYPE = 'application/vnd.holoviews_exec.v0+json';\nvar CLASS_NAME = 'output';\n\n/**\n * Render data to the DOM node\n */\nfunction render(props, node) {\n  var div = document.createElement(\"div\");\n  var script = document.createElement(\"script\");\n  node.appendChild(div);\n  node.appendChild(script);\n}\n\n/**\n * Handle when a new output is added\n */\nfunction handle_add_output(event, handle) {\n  var output_area = handle.output_area;\n  var output = handle.output;\n  if ((output.data == undefined) || (!output.data.hasOwnProperty(EXEC_MIME_TYPE))) {\n    return\n  }\n  var id = output.metadata[EXEC_MIME_TYPE][\"id\"];\n  var toinsert = output_area.element.find(\".\" + CLASS_NAME.split(' ')[0]);\n  if (id !== undefined) {\n    var nchildren = toinsert.length;\n    var html_node = toinsert[nchildren-1].children[0];\n    html_node.innerHTML = output.data[HTML_MIME_TYPE];\n    var scripts = [];\n    var nodelist = html_node.querySelectorAll(\"script\");\n    for (var i in nodelist) {\n      if (nodelist.hasOwnProperty(i)) {\n        scripts.push(nodelist[i])\n      }\n    }\n\n    scripts.forEach( function (oldScript) {\n      var newScript = document.createElement(\"script\");\n      var attrs = [];\n      var nodemap = oldScript.attributes;\n      for (var j in nodemap) {\n        if (nodemap.hasOwnProperty(j)) {\n          attrs.push(nodemap[j])\n        }\n      }\n      attrs.forEach(function(attr) { newScript.setAttribute(attr.name, attr.value) });\n      newScript.appendChild(document.createTextNode(oldScript.innerHTML));\n      oldScript.parentNode.replaceChild(newScript, oldScript);\n    });\n    if (JS_MIME_TYPE in output.data) {\n      toinsert[nchildren-1].children[1].textContent = output.data[JS_MIME_TYPE];\n    }\n    output_area._hv_plot_id = id;\n    if ((window.Bokeh !== undefined) && (id in Bokeh.index)) {\n      window.PyViz.plot_index[id] = Bokeh.index[id];\n    } else {\n      window.PyViz.plot_index[id] = null;\n    }\n  } else if (output.metadata[EXEC_MIME_TYPE][\"server_id\"] !== undefined) {\n    var bk_div = document.createElement(\"div\");\n    bk_div.innerHTML = output.data[HTML_MIME_TYPE];\n    var script_attrs = bk_div.children[0].attributes;\n    for (var i = 0; i < script_attrs.length; i++) {\n      toinsert[toinsert.length - 1].childNodes[1].setAttribute(script_attrs[i].name, script_attrs[i].value);\n    }\n    // store reference to server id on output_area\n    output_area._bokeh_server_id = output.metadata[EXEC_MIME_TYPE][\"server_id\"];\n  }\n}\n\n/**\n * Handle when an output is cleared or removed\n */\nfunction handle_clear_output(event, handle) {\n  var id = handle.cell.output_area._hv_plot_id;\n  var server_id = handle.cell.output_area._bokeh_server_id;\n  if (((id === undefined) || !(id in PyViz.plot_index)) && (server_id !== undefined)) { return; }\n  var comm = window.PyViz.comm_manager.get_client_comm(\"hv-extension-comm\", \"hv-extension-comm\", function () {});\n  if (server_id !== null) {\n    comm.send({event_type: 'server_delete', 'id': server_id});\n    return;\n  } else if (comm !== null) {\n    comm.send({event_type: 'delete', 'id': id});\n  }\n  delete PyViz.plot_index[id];\n  if ((window.Bokeh !== undefined) & (id in window.Bokeh.index)) {\n    var doc = window.Bokeh.index[id].model.document\n    doc.clear();\n    const i = window.Bokeh.documents.indexOf(doc);\n    if (i > -1) {\n      window.Bokeh.documents.splice(i, 1);\n    }\n  }\n}\n\n/**\n * Handle kernel restart event\n */\nfunction handle_kernel_cleanup(event, handle) {\n  delete PyViz.comms[\"hv-extension-comm\"];\n  window.PyViz.plot_index = {}\n}\n\n/**\n * Handle update_display_data messages\n */\nfunction handle_update_output(event, handle) {\n  handle_clear_output(event, {cell: {output_area: handle.output_area}})\n  handle_add_output(event, handle)\n}\n\nfunction register_renderer(events, OutputArea) {\n  function append_mime(data, metadata, element) {\n    // create a DOM node to render to\n    var toinsert = this.create_output_subarea(\n    metadata,\n    CLASS_NAME,\n    EXEC_MIME_TYPE\n    );\n    this.keyboard_manager.register_events(toinsert);\n    // Render to node\n    var props = {data: data, metadata: metadata[EXEC_MIME_TYPE]};\n    render(props, toinsert[0]);\n    element.append(toinsert);\n    return toinsert\n  }\n\n  events.on('output_added.OutputArea', handle_add_output);\n  events.on('output_updated.OutputArea', handle_update_output);\n  events.on('clear_output.CodeCell', handle_clear_output);\n  events.on('delete.Cell', handle_clear_output);\n  events.on('kernel_ready.Kernel', handle_kernel_cleanup);\n\n  OutputArea.prototype.register_mime_type(EXEC_MIME_TYPE, append_mime, {\n    safe: true,\n    index: 0\n  });\n}\n\nif (window.Jupyter !== undefined) {\n  try {\n    var events = require('base/js/events');\n    var OutputArea = require('notebook/js/outputarea').OutputArea;\n    if (OutputArea.prototype.mime_types().indexOf(EXEC_MIME_TYPE) == -1) {\n      register_renderer(events, OutputArea);\n    }\n  } catch(err) {\n  }\n}\n"
     },
     "metadata": {},
     "output_type": "display_data"
    },
    {
     "data": {
      "application/vnd.holoviews_exec.v0+json": "",
      "text/html": [
       "<div id='13cb2cdf-15bf-4bbf-a21c-d144768ec4d8'>\n",
       "  <div id=\"bf17692d-f5c8-4e7e-b279-b560efdd2c0c\" data-root-id=\"13cb2cdf-15bf-4bbf-a21c-d144768ec4d8\" style=\"display: contents;\"></div>\n",
       "</div>\n",
       "<script type=\"application/javascript\">(function(root) {\n",
       "  var docs_json = {\"3b147e06-d2c3-403c-9c06-2bf73e5941b2\":{\"version\":\"3.5.2\",\"title\":\"Bokeh Application\",\"roots\":[{\"type\":\"object\",\"name\":\"panel.models.browser.BrowserInfo\",\"id\":\"13cb2cdf-15bf-4bbf-a21c-d144768ec4d8\"},{\"type\":\"object\",\"name\":\"panel.models.comm_manager.CommManager\",\"id\":\"a50962fb-2937-47af-8caf-2d82b1f859cd\",\"attributes\":{\"plot_id\":\"13cb2cdf-15bf-4bbf-a21c-d144768ec4d8\",\"comm_id\":\"30e545402439498ea1bbc6fbb584f4e4\",\"client_comm_id\":\"7fb9996ce9f5438abd3c4616c6706e89\"}}],\"defs\":[{\"type\":\"model\",\"name\":\"ReactiveHTML1\"},{\"type\":\"model\",\"name\":\"FlexBox1\",\"properties\":[{\"name\":\"align_content\",\"kind\":\"Any\",\"default\":\"flex-start\"},{\"name\":\"align_items\",\"kind\":\"Any\",\"default\":\"flex-start\"},{\"name\":\"flex_direction\",\"kind\":\"Any\",\"default\":\"row\"},{\"name\":\"flex_wrap\",\"kind\":\"Any\",\"default\":\"wrap\"},{\"name\":\"gap\",\"kind\":\"Any\",\"default\":\"\"},{\"name\":\"justify_content\",\"kind\":\"Any\",\"default\":\"flex-start\"}]},{\"type\":\"model\",\"name\":\"FloatPanel1\",\"properties\":[{\"name\":\"config\",\"kind\":\"Any\",\"default\":{\"type\":\"map\"}},{\"name\":\"contained\",\"kind\":\"Any\",\"default\":true},{\"name\":\"position\",\"kind\":\"Any\",\"default\":\"right-top\"},{\"name\":\"offsetx\",\"kind\":\"Any\",\"default\":null},{\"name\":\"offsety\",\"kind\":\"Any\",\"default\":null},{\"name\":\"theme\",\"kind\":\"Any\",\"default\":\"primary\"},{\"name\":\"status\",\"kind\":\"Any\",\"default\":\"normalized\"}]},{\"type\":\"model\",\"name\":\"GridStack1\",\"properties\":[{\"name\":\"mode\",\"kind\":\"Any\",\"default\":\"warn\"},{\"name\":\"ncols\",\"kind\":\"Any\",\"default\":null},{\"name\":\"nrows\",\"kind\":\"Any\",\"default\":null},{\"name\":\"allow_resize\",\"kind\":\"Any\",\"default\":true},{\"name\":\"allow_drag\",\"kind\":\"Any\",\"default\":true},{\"name\":\"state\",\"kind\":\"Any\",\"default\":[]}]},{\"type\":\"model\",\"name\":\"drag1\",\"properties\":[{\"name\":\"slider_width\",\"kind\":\"Any\",\"default\":5},{\"name\":\"slider_color\",\"kind\":\"Any\",\"default\":\"black\"},{\"name\":\"value\",\"kind\":\"Any\",\"default\":50}]},{\"type\":\"model\",\"name\":\"click1\",\"properties\":[{\"name\":\"terminal_output\",\"kind\":\"Any\",\"default\":\"\"},{\"name\":\"debug_name\",\"kind\":\"Any\",\"default\":\"\"},{\"name\":\"clears\",\"kind\":\"Any\",\"default\":0}]},{\"type\":\"model\",\"name\":\"FastWrapper1\",\"properties\":[{\"name\":\"object\",\"kind\":\"Any\",\"default\":null},{\"name\":\"style\",\"kind\":\"Any\",\"default\":null}]},{\"type\":\"model\",\"name\":\"NotificationAreaBase1\",\"properties\":[{\"name\":\"js_events\",\"kind\":\"Any\",\"default\":{\"type\":\"map\"}},{\"name\":\"position\",\"kind\":\"Any\",\"default\":\"bottom-right\"},{\"name\":\"_clear\",\"kind\":\"Any\",\"default\":0}]},{\"type\":\"model\",\"name\":\"NotificationArea1\",\"properties\":[{\"name\":\"js_events\",\"kind\":\"Any\",\"default\":{\"type\":\"map\"}},{\"name\":\"notifications\",\"kind\":\"Any\",\"default\":[]},{\"name\":\"position\",\"kind\":\"Any\",\"default\":\"bottom-right\"},{\"name\":\"_clear\",\"kind\":\"Any\",\"default\":0},{\"name\":\"types\",\"kind\":\"Any\",\"default\":[{\"type\":\"map\",\"entries\":[[\"type\",\"warning\"],[\"background\",\"#ffc107\"],[\"icon\",{\"type\":\"map\",\"entries\":[[\"className\",\"fas fa-exclamation-triangle\"],[\"tagName\",\"i\"],[\"color\",\"white\"]]}]]},{\"type\":\"map\",\"entries\":[[\"type\",\"info\"],[\"background\",\"#007bff\"],[\"icon\",{\"type\":\"map\",\"entries\":[[\"className\",\"fas fa-info-circle\"],[\"tagName\",\"i\"],[\"color\",\"white\"]]}]]}]}]},{\"type\":\"model\",\"name\":\"Notification\",\"properties\":[{\"name\":\"background\",\"kind\":\"Any\",\"default\":null},{\"name\":\"duration\",\"kind\":\"Any\",\"default\":3000},{\"name\":\"icon\",\"kind\":\"Any\",\"default\":null},{\"name\":\"message\",\"kind\":\"Any\",\"default\":\"\"},{\"name\":\"notification_type\",\"kind\":\"Any\",\"default\":null},{\"name\":\"_destroyed\",\"kind\":\"Any\",\"default\":false}]},{\"type\":\"model\",\"name\":\"TemplateActions1\",\"properties\":[{\"name\":\"open_modal\",\"kind\":\"Any\",\"default\":0},{\"name\":\"close_modal\",\"kind\":\"Any\",\"default\":0}]},{\"type\":\"model\",\"name\":\"BootstrapTemplateActions1\",\"properties\":[{\"name\":\"open_modal\",\"kind\":\"Any\",\"default\":0},{\"name\":\"close_modal\",\"kind\":\"Any\",\"default\":0}]},{\"type\":\"model\",\"name\":\"TemplateEditor1\",\"properties\":[{\"name\":\"layout\",\"kind\":\"Any\",\"default\":[]}]},{\"type\":\"model\",\"name\":\"MaterialTemplateActions1\",\"properties\":[{\"name\":\"open_modal\",\"kind\":\"Any\",\"default\":0},{\"name\":\"close_modal\",\"kind\":\"Any\",\"default\":0}]},{\"type\":\"model\",\"name\":\"ReactiveESM1\"},{\"type\":\"model\",\"name\":\"JSComponent1\"},{\"type\":\"model\",\"name\":\"ReactComponent1\"},{\"type\":\"model\",\"name\":\"AnyWidgetComponent1\"},{\"type\":\"model\",\"name\":\"request_value1\",\"properties\":[{\"name\":\"fill\",\"kind\":\"Any\",\"default\":\"none\"},{\"name\":\"_synced\",\"kind\":\"Any\",\"default\":null},{\"name\":\"_request_sync\",\"kind\":\"Any\",\"default\":0}]}]}};\n",
       "  var render_items = [{\"docid\":\"3b147e06-d2c3-403c-9c06-2bf73e5941b2\",\"roots\":{\"13cb2cdf-15bf-4bbf-a21c-d144768ec4d8\":\"bf17692d-f5c8-4e7e-b279-b560efdd2c0c\"},\"root_ids\":[\"13cb2cdf-15bf-4bbf-a21c-d144768ec4d8\"]}];\n",
       "  var docs = Object.values(docs_json)\n",
       "  if (!docs) {\n",
       "    return\n",
       "  }\n",
       "  const py_version = docs[0].version.replace('rc', '-rc.').replace('.dev', '-dev.')\n",
       "  async function embed_document(root) {\n",
       "    var Bokeh = get_bokeh(root)\n",
       "    await Bokeh.embed.embed_items_notebook(docs_json, render_items);\n",
       "    for (const render_item of render_items) {\n",
       "      for (const root_id of render_item.root_ids) {\n",
       "\tconst id_el = document.getElementById(root_id)\n",
       "\tif (id_el.children.length && id_el.children[0].hasAttribute('data-root-id')) {\n",
       "\t  const root_el = id_el.children[0]\n",
       "\t  root_el.id = root_el.id + '-rendered'\n",
       "\t  for (const child of root_el.children) {\n",
       "            // Ensure JupyterLab does not capture keyboard shortcuts\n",
       "            // see: https://jupyterlab.readthedocs.io/en/4.1.x/extension/notebook.html#keyboard-interaction-model\n",
       "\t    child.setAttribute('data-lm-suppress-shortcuts', 'true')\n",
       "\t  }\n",
       "\t}\n",
       "      }\n",
       "    }\n",
       "  }\n",
       "  function get_bokeh(root) {\n",
       "    if (root.Bokeh === undefined) {\n",
       "      return null\n",
       "    } else if (root.Bokeh.version !== py_version) {\n",
       "      if (root.Bokeh.versions === undefined || !root.Bokeh.versions.has(py_version)) {\n",
       "\treturn null\n",
       "      }\n",
       "      return root.Bokeh.versions.get(py_version);\n",
       "    } else if (root.Bokeh.version === py_version) {\n",
       "      return root.Bokeh\n",
       "    }\n",
       "    return null\n",
       "  }\n",
       "  function is_loaded(root) {\n",
       "    var Bokeh = get_bokeh(root)\n",
       "    return (Bokeh != null && Bokeh.Panel !== undefined)\n",
       "  }\n",
       "  if (is_loaded(root)) {\n",
       "    embed_document(root);\n",
       "  } else {\n",
       "    var attempts = 0;\n",
       "    var timer = setInterval(function(root) {\n",
       "      if (is_loaded(root)) {\n",
       "        clearInterval(timer);\n",
       "        embed_document(root);\n",
       "      } else if (document.readyState == \"complete\") {\n",
       "        attempts++;\n",
       "        if (attempts > 200) {\n",
       "          clearInterval(timer);\n",
       "\t  var Bokeh = get_bokeh(root)\n",
       "\t  if (Bokeh == null || Bokeh.Panel == null) {\n",
       "            console.warn(\"Panel: ERROR: Unable to run Panel code because Bokeh or Panel library is missing\");\n",
       "\t  } else {\n",
       "\t    console.warn(\"Panel: WARNING: Attempting to render but not all required libraries could be resolved.\")\n",
       "\t    embed_document(root)\n",
       "\t  }\n",
       "        }\n",
       "      }\n",
       "    }, 25, root)\n",
       "  }\n",
       "})(window);</script>"
      ]
     },
     "metadata": {
      "application/vnd.holoviews_exec.v0+json": {
       "id": "13cb2cdf-15bf-4bbf-a21c-d144768ec4d8"
      }
     },
     "output_type": "display_data"
    }
   ],
   "source": [
    "from ipyprogressivis.widgets import get_header, Constructor\n",
    "from ipyprogressivis.widgets.chaining.utils import create_root\n",
    "import panel as pn \n",
    "header = get_header()\n",
    "display(header.talker)\n",
    "display(header.backup)\n",
    "pn.extension('ace', 'jsoneditor', 'ipywidgets')\n",
    "_ = header.constructor\n",
    "with header.modules_out:\n",
    "    display(header.board)\n",
    "with header.widgets_out:\n",
    "    display(header.manager)\n",
    "header.talker.labcommand(\"notebook:hide-cell-code\")\n",
    "%reload_ext ipyprogressivis.magics\n",
    "create_root(header.backup)"
   ]
  },
  {
   "cell_type": "markdown",
   "id": "a1717002-8e7c-4266-b362-584a85d98054",
   "metadata": {
    "deletable": false,
    "editable": false,
    "progressivis_tag": "root"
   },
   "source": [
    "## root"
   ]
  },
  {
   "cell_type": "code",
   "execution_count": 2,
   "id": "c6e72869-7edc-474a-b544-aea3ead34daa",
   "metadata": {
    "deletable": false,
    "editable": false,
    "jupyter": {
     "source_hidden": true
    },
    "progressivis_tag": "root"
   },
   "outputs": [
    {
     "data": {
      "image/png": "[encoded data removed]"
     },
     "metadata": {},
     "output_type": "display_data"
    }
   ],
   "source": [
    "# do not run this cell\n",
    "display(header.constructor)\n",
    "header.constructor.start_scheduler()\n",
    "header.talker.labcommand('notebook:hide-cell-code')"
   ]
  },
  {
   "cell_type": "markdown",
   "id": "2d122e19-be16-4779-8c1d-3f4b431db9c2",
   "metadata": {
    "deletable": false,
    "editable": false,
    "progressivis_tag": "Taxis"
   },
   "source": [
    "## Taxis"
   ]
  },
  {
   "cell_type": "code",
   "execution_count": 3,
   "id": "b31c16b7-7f59-489b-ac3a-91edb930dde6",
   "metadata": {
    "deletable": false,
    "editable": false,
    "progressivis_tag": "Taxis"
   },
   "outputs": [
    {
     "data": {
      "image/png": "[encoded data removed]"
     },
     "execution_count": 3,
     "metadata": {},
     "output_type": "execute_result"
    }
   ],
   "source": [
    "Constructor.widget('Taxis', 0)"
   ]
  },
  {
   "cell_type": "markdown",
   "id": "7b5ce6b7-b901-4009-8e89-d41cf32a5727",
   "metadata": {
    "deletable": false,
    "editable": false,
    "progressivis_tag": "Heatmap"
   },
   "source": [
    "## Heatmap"
   ]
  },
  {
   "cell_type": "code",
   "execution_count": 4,
   "id": "0770d90e-8d8f-49dc-be15-706d2c1d32a0",
   "metadata": {
    "deletable": false,
    "editable": false,
    "progressivis_tag": "Heatmap"
   },
   "outputs": [
    {
     "data": {
      "image/png": "[encoded data removed]"
     },
     "execution_count": 4,
     "metadata": {},
     "output_type": "execute_result"
    }
   ],
   "source": [
    "Constructor.widget('Heatmap', 0)"
   ]
  }
 ],
 "metadata": {
  "celltoolbar": "Éditer les Méta-Données",
  "hide_input": false,
  "kernelspec": {
   "display_name": "Python 3 (ipykernel)",
   "language": "python",
   "name": "python3"
  },
  "language_info": {
   "codemirror_mode": {
    "name": "ipython",
    "version": 3
   },
   "file_extension": ".py",
   "mimetype": "text/x-python",
   "name": "python",
   "nbconvert_exporter": "python",
   "pygments_lexer": "ipython3",
   "version": "3.11.4"
  },
  "latex_envs": {
   "LaTeX_envs_menu_present": true,
   "autoclose": false,
   "autocomplete": true,
   "bibliofile": "biblio.bib",
   "cite_by": "apalike",
   "current_citInitial": 1,
   "eqLabelWithNumbers": true,
   "eqNumInitial": 1,
   "hotkeys": {
    "equation": "Ctrl-E",
    "itemize": "Ctrl-I"
   },
   "labels_anchors": false,
   "latex_user_defs": false,
   "report_style_numbering": false,
   "user_envs_cfg": false
  },
  "progressivis_dag_png": "data:image/png;base64,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",
  "progressivis_outs": [
   {},
   {},
   {},
   "data:image/png;base64,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",
   {},
   "data:image/png;base64,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",
   {},
   "data:image/png;base64,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"
  ],
  "progressivis_prev_outs": [
   {},
   {},
   {},
   "data:image/png;base64,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",
   {},
   "data:image/png;base64,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",
   {},
   "data:image/png;base64,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"
  ],
  "toc": {
   "base_numbering": 1,
   "nav_menu": {},
   "number_sections": false,
   "sideBar": true,
   "skip_h1_title": true,
   "title_cell": "PTable of Contents",
   "title_sidebar": "Contents",
   "toc_cell": false,
   "toc_position": {
    "height": "836.875px",
    "left": "59px",
    "top": "111.125px",
    "width": "340px"
   },
   "toc_section_display": true,
   "toc_window_display": true
  },
  "toc-showtags": false,
  "widgets": {
   "application/vnd.jupyter.widget-state+json": {
    "state": {
     "00a29e3bb3694f928121d6f4aa32a012": {
      "model_module": "@jupyter-widgets/controls",
      "model_module_version": "2.0.0",
      "model_name": "HTMLStyleModel",
      "state": {
       "description_width": "",
       "font_size": null,
       "text_color": null
      }
     },
     "021b13adaa1b4fb4afee9864603e192a": {
      "model_module": "@jupyter-widgets/controls",
      "model_module_version": "2.0.0",
      "model_name": "DescriptionStyleModel",
      "state": {
       "description_width": ""
      }
     },
     "056888b391d54faa99fbd379cc1443ee": {
      "model_module": "@jupyter-widgets/base",
      "model_module_version": "2.0.0",
      "model_name": "LayoutModel",
      "state": {}
     },
     "064a4d3c2aa44a77a1680a05aeab8395": {
      "model_module": "@jupyter-widgets/base",
      "model_module_version": "2.0.0",
      "model_name": "LayoutModel",
      "state": {}
     },
     "0652ac6dfcd246d79ac9c9d48aa9e7a7": {
      "model_module": "@jupyter-widgets/controls",
      "model_module_version": "2.0.0",
      "model_name": "HTMLStyleModel",
      "state": {
       "description_width": "",
       "font_size": null,
       "text_color": null
      }
     },
     "068d11b98468406c89f9218fbe4586bb": {
      "model_module": "@jupyter-widgets/controls",
      "model_module_version": "2.0.0",
      "model_name": "LabelModel",
      "state": {
       "layout": "IPY_MODEL_4854405843ce4d2ab9ce0f809eaf71a1",
       "style": "IPY_MODEL_241f9946025344f9b4f5c0bccc06775b"
      }
     },
     "07665bf24e044559a0fb6df2000831a3": {
      "model_module": "@jupyter-widgets/controls",
      "model_module_version": "2.0.0",
      "model_name": "ButtonStyleModel",
      "state": {
       "font_family": null,
       "font_size": null,
       "font_style": null,
       "font_variant": null,
       "font_weight": null,
       "text_color": null,
       "text_decoration": null
      }
     },
     "0914a65b3f914a72ba666ef3ade21c67": {
      "model_module": "@jupyter-widgets/controls",
      "model_module_version": "2.0.0",
      "model_name": "TextStyleModel",
      "state": {
       "description_width": "",
       "font_size": null,
       "text_color": null
      }
     },
     "098b939818f940bd8fbb94ad893b6143": {
      "model_module": "@jupyter-widgets/base",
      "model_module_version": "2.0.0",
      "model_name": "LayoutModel",
      "state": {
       "width": "60%"
      }
     },
     "0a114b949f8d4032ad47cdf6a666abd3": {
      "model_module": "@jupyter-widgets/controls",
      "model_module_version": "2.0.0",
      "model_name": "DescriptionStyleModel",
      "state": {
       "description_width": "initial"
      }
     },
     "0b8701637dc54ff682c2164f2f53ca4e": {
      "model_module": "@jupyter-widgets/controls",
      "model_module_version": "2.0.0",
      "model_name": "HTMLStyleModel",
      "state": {
       "description_width": "",
       "font_size": null,
       "text_color": null
      }
     },
     "0bb09d35d2ea424c970242f0b054d59f": {
      "model_module": "@jupyter-widgets/controls",
      "model_module_version": "2.0.0",
      "model_name": "IntSliderModel",
      "state": {
       "behavior": "drag-tap",
       "continuous_update": false,
       "description": "Gaussian blur:",
       "layout": "IPY_MODEL_e8bc4bf84d36427da92cd6643a2ad9bf",
       "max": 5,
       "style": "IPY_MODEL_1803042ee85c4ada9c221a5262b338a4"
      }
     },
     "0d322189d91645bdb61fd7bf48b62867": {
      "model_module": "@jupyter-widgets/controls",
      "model_module_version": "2.0.0",
      "model_name": "HTMLStyleModel",
      "state": {
       "description_width": "",
       "font_size": null,
       "text_color": null
      }
     },
     "0dc9e444255b4ec39c3e9d434000307b": {
      "model_module": "@jupyter-widgets/controls",
      "model_module_version": "2.0.0",
      "model_name": "HTMLStyleModel",
      "state": {
       "description_width": "",
       "font_size": null,
       "text_color": null
      }
     },
     "0e9fb3ce9c044f3a9015fd38986b5f63": {
      "model_module": "@jupyter-widgets/base",
      "model_module_version": "2.0.0",
      "model_name": "LayoutModel",
      "state": {}
     },
     "0fe6a17946264d76936975c4a5379434": {
      "model_module": "@jupyter-widgets/controls",
      "model_module_version": "2.0.0",
      "model_name": "CheckboxStyleModel",
      "state": {
       "description_width": ""
      }
     },
     "123c87f4b6eb4692b710072302eddcb3": {
      "model_module": "@jupyter-widgets/base",
      "model_module_version": "2.0.0",
      "model_name": "LayoutModel",
      "state": {}
     },
     "12eacb750f814b56ba7b99faeb8a7520": {
      "model_module": "@jupyter-widgets/base",
      "model_module_version": "2.0.0",
      "model_name": "LayoutModel",
      "state": {}
     },
     "1388d0bd3dd24bd180c884d7d287b8c2": {
      "model_module": "@jupyter-widgets/controls",
      "model_module_version": "2.0.0",
      "model_name": "DescriptionStyleModel",
      "state": {
       "description_width": ""
      }
     },
     "13e04958a47140c7b5a9ca161ca6caaa": {
      "model_module": "@jupyter-widgets/controls",
      "model_module_version": "2.0.0",
      "model_name": "DescriptionStyleModel",
      "state": {
       "description_width": ""
      }
     },
     "14a57202885c4ec28ed0c38f4cf30430": {
      "model_module": "@jupyter-widgets/controls",
      "model_module_version": "2.0.0",
      "model_name": "HTMLModel",
      "state": {
       "layout": "IPY_MODEL_a20e63beaadf4e6eaa1256d2622593fe",
       "style": "IPY_MODEL_c3f5c6c1b79348fda6d3ba1a4b0d23e6"
      }
     },
     "15c1986c36e94266a8be12c92a327086": {
      "model_module": "@jupyter-widgets/base",
      "model_module_version": "2.0.0",
      "model_name": "LayoutModel",
      "state": {
       "width": "60%"
      }
     },
     "15ce31aaaf8c496f96c14c4e1b90eb71": {
      "model_module": "@jupyter-widgets/controls",
      "model_module_version": "2.0.0",
      "model_name": "TabModel",
      "state": {
       "children": [
        "IPY_MODEL_cf25664153994aae9e3e4440fec050ab",
        "IPY_MODEL_6eea887ba83043aeab6a206ac1d16768"
       ],
       "layout": "IPY_MODEL_9307489ad36e40a7956c65c1a624d167",
       "selected_index": 0,
       "titles": [
        "Main",
        "Output slots"
       ]
      }
     },
     "160689e5a46344ca8f4f0209093048bb": {
      "model_module": "@jupyter-widgets/controls",
      "model_module_version": "2.0.0",
      "model_name": "HTMLStyleModel",
      "state": {
       "description_width": "",
       "font_size": null,
       "text_color": null
      }
     },
     "160e43046dec4d6cb7b9bc8ac92a7339": {
      "model_module": "@jupyter-widgets/controls",
      "model_module_version": "2.0.0",
      "model_name": "ButtonStyleModel",
      "state": {
       "font_family": null,
       "font_size": null,
       "font_style": null,
       "font_variant": null,
       "font_weight": null,
       "text_color": null,
       "text_decoration": null
      }
     },
     "162eca5c4ad744358d9d2a1761133f82": {
      "model_module": "@jupyter-widgets/base",
      "model_module_version": "2.0.0",
      "model_name": "LayoutModel",
      "state": {}
     },
     "167ea5cc39d24cc481512fde1fdfb9ef": {
      "model_module": "@jupyter-widgets/controls",
      "model_module_version": "2.0.0",
      "model_name": "HTMLModel",
      "state": {
       "layout": "IPY_MODEL_2dc79a2cfbbb427aa9402e7b38d006a6",
       "style": "IPY_MODEL_74357dda7b3443e1ba6159cd255d4aa6"
      }
     },
     "16dac0ca53dc479bafa601c570fb63cd": {
      "model_module": "@jupyter-widgets/controls",
      "model_module_version": "2.0.0",
      "model_name": "HTMLStyleModel",
      "state": {
       "description_width": "",
       "font_size": null,
       "text_color": null
      }
     },
     "17a97332d01b47edb7e427bcbefcdc26": {
      "model_module": "@jupyter-widgets/controls",
      "model_module_version": "2.0.0",
      "model_name": "DescriptionStyleModel",
      "state": {
       "description_width": ""
      }
     },
     "17bca635b7014bc9ab3c3608437e9ad9": {
      "model_module": "@jupyter-widgets/controls",
      "model_module_version": "2.0.0",
      "model_name": "HTMLStyleModel",
      "state": {
       "description_width": "",
       "font_size": null,
       "text_color": null
      }
     },
     "1803042ee85c4ada9c221a5262b338a4": {
      "model_module": "@jupyter-widgets/controls",
      "model_module_version": "2.0.0",
      "model_name": "SliderStyleModel",
      "state": {
       "description_width": "initial"
      }
     },
     "1872678c64ad4b0da5296bca3d23254e": {
      "model_module": "@jupyter-widgets/controls",
      "model_module_version": "2.0.0",
      "model_name": "ButtonModel",
      "state": {
       "description": "Remove subtree",
       "icon": "check",
       "layout": "IPY_MODEL_aa8e8326f1f04dfaafb7a19035835881",
       "style": "IPY_MODEL_c60f637982e841bea841ac0f1f30e65f",
       "tooltip": "Remove subtree"
      }
     },
     "1895c51d035149d192935295e8f9ebe0": {
      "model_module": "@jupyter-widgets/controls",
      "model_module_version": "2.0.0",
      "model_name": "TextStyleModel",
      "state": {
       "description_width": "initial",
       "font_size": null,
       "text_color": null
      }
     },
     "1ac7b24747e7417cb41e3539902c8ac6": {
      "model_module": "@jupyter-widgets/base",
      "model_module_version": "2.0.0",
      "model_name": "LayoutModel",
      "state": {}
     },
     "1c339e16f8e54a81b455c5645445d68c": {
      "model_module": "jupyter-progressivis",
      "model_module_version": "^0.1.0",
      "model_name": "SensitiveHTMLModel",
      "state": {
       "_model_module_version": "^0.1.0",
       "_view_module_version": "^0.1.0",
       "data": {
        "ps-cell_constant_1_classname": "constant",
        "ps-cell_constant_1_id": "constant_1",
        "ps-cell_constant_1_is_visualization": " ",
        "ps-cell_constant_1_last_update": 69,
        "ps-cell_constant_1_order": 1,
        "ps-cell_constant_1_state": "state_terminated",
        "ps-cell_heatmap_1_classname": "heatmap",
        "ps-cell_heatmap_1_id": "heatmap_1",
        "ps-cell_heatmap_1_is_visualization": " ",
        "ps-cell_heatmap_1_last_update": 5249,
        "ps-cell_heatmap_1_order": 7,
        "ps-cell_heatmap_1_state": "state_blocked",
        "ps-cell_histogram2_d_1_classname": "histogram2_d",
        "ps-cell_histogram2_d_1_id": "histogram2_d_1",
        "ps-cell_histogram2_d_1_is_visualization": " ",
        "ps-cell_histogram2_d_1_last_update": 5248,
        "ps-cell_histogram2_d_1_order": 6,
        "ps-cell_histogram2_d_1_state": "state_blocked",
        "ps-cell_max_1_classname": "max",
        "ps-cell_max_1_id": "max_1",
        "ps-cell_max_1_is_visualization": " ",
        "ps-cell_max_1_last_update": 5247,
        "ps-cell_max_1_order": 5,
        "ps-cell_max_1_state": "state_blocked",
        "ps-cell_min_1_classname": "min",
        "ps-cell_min_1_id": "min_1",
        "ps-cell_min_1_is_visualization": " ",
        "ps-cell_min_1_last_update": 5246,
        "ps-cell_min_1_order": 4,
        "ps-cell_min_1_state": "state_blocked",
        "ps-cell_simple_csv_loader_1_classname": "simple_csv_loader",
        "ps-cell_simple_csv_loader_1_id": "simple_csv_loader_1",
        "ps-cell_simple_csv_loader_1_is_visualization": " ",
        "ps-cell_simple_csv_loader_1_last_update": 5245,
        "ps-cell_simple_csv_loader_1_order": 2,
        "ps-cell_simple_csv_loader_1_state": "state_ready",
        "ps-cell_sink_1_classname": "sink",
        "ps-cell_sink_1_id": "sink_1",
        "ps-cell_sink_1_is_visualization": " ",
        "ps-cell_sink_1_last_update": 0,
        "ps-cell_sink_1_order": 3,
        "ps-cell_sink_1_state": "state_terminated",
        "ps-cell_variable_1_classname": "variable",
        "ps-cell_variable_1_id": "variable_1",
        "ps-cell_variable_1_is_visualization": " ",
        "ps-cell_variable_1_last_update": 5250,
        "ps-cell_variable_1_order": 0,
        "ps-cell_variable_1_state": "state_blocked"
       },
       "html": "\n<table class=\"table table-striped table-bordered table-hover table-condensed\">\n<thead><tr><th></th><th>Id</th><th>Class</th><th>State</th><th>Last Update</th>\n<th>Order</th></tr></thead>\n<tbody>\n\n  <tr>\n  \n  <td>\n  \n  <span id=\"ps-cell_variable_1_is_visualization\"> </span>\n  \n  </td>\n  \n  <td>\n  \n  <a class='ps-row-btn' id=\"ps-row-btn_variable_1\" type='button' >variable_1</a>\n  \n  </td>\n  \n  <td>\n  \n  <span id=\"ps-cell_variable_1_classname\">variable</span>\n  \n  </td>\n  \n  <td>\n  \n  <span id=\"ps-cell_variable_1_state\">state_blocked</span>\n  \n  </td>\n  \n  <td>\n  \n  <span id=\"ps-cell_variable_1_last_update\">2847</span>\n  \n  </td>\n  \n  <td>\n  \n  <span id=\"ps-cell_variable_1_order\">0</span>\n  \n  </td>\n  \n  </tr>\n\n  <tr>\n  \n  <td>\n  \n  <span id=\"ps-cell_constant_1_is_visualization\"> </span>\n  \n  </td>\n  \n  <td>\n  \n  <a class='ps-row-btn' id=\"ps-row-btn_constant_1\" type='button' >constant_1</a>\n  \n  </td>\n  \n  <td>\n  \n  <span id=\"ps-cell_constant_1_classname\">constant</span>\n  \n  </td>\n  \n  <td>\n  \n  <span id=\"ps-cell_constant_1_state\">state_terminated</span>\n  \n  </td>\n  \n  <td>\n  \n  <span id=\"ps-cell_constant_1_last_update\">69</span>\n  \n  </td>\n  \n  <td>\n  \n  <span id=\"ps-cell_constant_1_order\">1</span>\n  \n  </td>\n  \n  </tr>\n\n  <tr>\n  \n  <td>\n  \n  <span id=\"ps-cell_simple_csv_loader_1_is_visualization\"> </span>\n  \n  </td>\n  \n  <td>\n  \n  <a class='ps-row-btn' id=\"ps-row-btn_simple_csv_loader_1\" type='button' >simple_csv_loader_1</a>\n  \n  </td>\n  \n  <td>\n  \n  <span id=\"ps-cell_simple_csv_loader_1_classname\">simple_csv_loader</span>\n  \n  </td>\n  \n  <td>\n  \n  <span id=\"ps-cell_simple_csv_loader_1_state\">state_ready</span>\n  \n  </td>\n  \n  <td>\n  \n  <span id=\"ps-cell_simple_csv_loader_1_last_update\">2846</span>\n  \n  </td>\n  \n  <td>\n  \n  <span id=\"ps-cell_simple_csv_loader_1_order\">2</span>\n  \n  </td>\n  \n  </tr>\n\n  <tr>\n  \n  <td>\n  \n  <span id=\"ps-cell_sink_1_is_visualization\"> </span>\n  \n  </td>\n  \n  <td>\n  \n  <a class='ps-row-btn' id=\"ps-row-btn_sink_1\" type='button' >sink_1</a>\n  \n  </td>\n  \n  <td>\n  \n  <span id=\"ps-cell_sink_1_classname\">sink</span>\n  \n  </td>\n  \n  <td>\n  \n  <span id=\"ps-cell_sink_1_state\">state_terminated</span>\n  \n  </td>\n  \n  <td>\n  \n  <span id=\"ps-cell_sink_1_last_update\">0</span>\n  \n  </td>\n  \n  <td>\n  \n  <span id=\"ps-cell_sink_1_order\">3</span>\n  \n  </td>\n  \n  </tr>\n\n  <tr>\n  \n  <td>\n  \n  <span id=\"ps-cell_min_1_is_visualization\"> </span>\n  \n  </td>\n  \n  <td>\n  \n  <a class='ps-row-btn' id=\"ps-row-btn_min_1\" type='button' >min_1</a>\n  \n  </td>\n  \n  <td>\n  \n  <span id=\"ps-cell_min_1_classname\">min</span>\n  \n  </td>\n  \n  <td>\n  \n  <span id=\"ps-cell_min_1_state\">state_ready</span>\n  \n  </td>\n  \n  <td>\n  \n  <span id=\"ps-cell_min_1_last_update\">0</span>\n  \n  </td>\n  \n  <td>\n  \n  <span id=\"ps-cell_min_1_order\">4</span>\n  \n  </td>\n  \n  </tr>\n\n  <tr>\n  \n  <td>\n  \n  <span id=\"ps-cell_max_1_is_visualization\"> </span>\n  \n  </td>\n  \n  <td>\n  \n  <a class='ps-row-btn' id=\"ps-row-btn_max_1\" type='button' >max_1</a>\n  \n  </td>\n  \n  <td>\n  \n  <span id=\"ps-cell_max_1_classname\">max</span>\n  \n  </td>\n  \n  <td>\n  \n  <span id=\"ps-cell_max_1_state\">state_ready</span>\n  \n  </td>\n  \n  <td>\n  \n  <span id=\"ps-cell_max_1_last_update\">0</span>\n  \n  </td>\n  \n  <td>\n  \n  <span id=\"ps-cell_max_1_order\">5</span>\n  \n  </td>\n  \n  </tr>\n\n  <tr>\n  \n  <td>\n  \n  <span id=\"ps-cell_histogram2_d_1_is_visualization\">a</span>\n  \n  </td>\n  \n  <td>\n  \n  <a class='ps-row-btn' id=\"ps-row-btn_histogram2_d_1\" type='button' >histogram2_d_1</a>\n  \n  </td>\n  \n  <td>\n  \n  <span id=\"ps-cell_histogram2_d_1_classname\">histogram2_d</span>\n  \n  </td>\n  \n  <td>\n  \n  <span id=\"ps-cell_histogram2_d_1_state\">state_ready</span>\n  \n  </td>\n  \n  <td>\n  \n  <span id=\"ps-cell_histogram2_d_1_last_update\">0</span>\n  \n  </td>\n  \n  <td>\n  \n  <span id=\"ps-cell_histogram2_d_1_order\">6</span>\n  \n  </td>\n  \n  </tr>\n\n  <tr>\n  \n  <td>\n  \n  <span id=\"ps-cell_heatmap_1_is_visualization\">a</span>\n  \n  </td>\n  \n  <td>\n  \n  <a class='ps-row-btn' id=\"ps-row-btn_heatmap_1\" type='button' >heatmap_1</a>\n  \n  </td>\n  \n  <td>\n  \n  <span id=\"ps-cell_heatmap_1_classname\">heatmap</span>\n  \n  </td>\n  \n  <td>\n  \n  <span id=\"ps-cell_heatmap_1_state\">state_ready</span>\n  \n  </td>\n  \n  <td>\n  \n  <span id=\"ps-cell_heatmap_1_last_update\">0</span>\n  \n  </td>\n  \n  <td>\n  \n  <span id=\"ps-cell_heatmap_1_order\">7</span>\n  \n  </td>\n  \n  </tr>\n\n</tbody>\n</table>",
       "layout": "IPY_MODEL_2699cb71ae5544f2b1c25e338a742ea8",
       "sensitive_css_class": "ps-row-btn",
       "value": {}
      }
     },
     "1d227ac4df0b41738e825a23ac74f661": {
      "model_module": "@jupyter-widgets/controls",
      "model_module_version": "2.0.0",
      "model_name": "HTMLStyleModel",
      "state": {
       "description_width": "",
       "font_size": null,
       "text_color": null
      }
     },
     "1d6f4ec03b374857ba51349f136a2d08": {
      "model_module": "@jupyter-widgets/base",
      "model_module_version": "2.0.0",
      "model_name": "LayoutModel",
      "state": {}
     },
     "1ddf54d94ec84e5aa48fea4ba876b3dd": {
      "model_module": "@jupyter-widgets/base",
      "model_module_version": "2.0.0",
      "model_name": "LayoutModel",
      "state": {}
     },
     "1e053c9b8ab043ac8b4c2053d3e81ab0": {
      "model_module": "@jupyter-widgets/controls",
      "model_module_version": "2.0.0",
      "model_name": "ButtonStyleModel",
      "state": {
       "font_family": null,
       "font_size": null,
       "font_style": null,
       "font_variant": null,
       "font_weight": null,
       "text_color": null,
       "text_decoration": null
      }
     },
     "1e4b597494ec449d8a0fa5f1543a15c4": {
      "model_module": "@jupyter-widgets/base",
      "model_module_version": "2.0.0",
      "model_name": "LayoutModel",
      "state": {}
     },
     "1fbfb8e77f0c44ca9b5f58ce60f417f6": {
      "model_module": "@jupyter-widgets/base",
      "model_module_version": "2.0.0",
      "model_name": "LayoutModel",
      "state": {}
     },
     "22ab328567c04e6baffdb1b395593761": {
      "model_module": "@jupyter-widgets/controls",
      "model_module_version": "2.0.0",
      "model_name": "HTMLModel",
      "state": {
       "layout": "IPY_MODEL_771fba72e1374ed48127b9f20044891e",
       "placeholder": "0",
       "style": "IPY_MODEL_6236e58e4abc4524bb5a3e69f499049e",
       "value": "5250"
      }
     },
     "23f700cd28614546ad8b127ffe02b518": {
      "model_module": "@jupyter-widgets/controls",
      "model_module_version": "2.0.0",
      "model_name": "VBoxModel",
      "state": {
       "children": [
        "IPY_MODEL_72806915c088435b88b55ad482f19ad9",
        "IPY_MODEL_887f16c4ce1e48928091aed79dd960f0"
       ],
       "layout": "IPY_MODEL_dbe2d3209ea94ebaaf15b7ad009def26"
      }
     },
     "241f9946025344f9b4f5c0bccc06775b": {
      "model_module": "@jupyter-widgets/controls",
      "model_module_version": "2.0.0",
      "model_name": "LabelStyleModel",
      "state": {
       "description_width": "",
       "font_family": null,
       "font_size": null,
       "font_style": null,
       "font_variant": null,
       "font_weight": null,
       "text_color": null,
       "text_decoration": null
      }
     },
     "247376f9ae3f468790607f94462cf7ef": {
      "model_module": "@jupyter-widgets/controls",
      "model_module_version": "2.0.0",
      "model_name": "ButtonModel",
      "state": {
       "description": "Start",
       "disabled": true,
       "icon": "check",
       "layout": "IPY_MODEL_55b4f920b9a6445e9e4e1a2bceb5e329",
       "style": "IPY_MODEL_91536af68dc64a7fb8751cc2e257c7f6",
       "tooltip": "Start"
      }
     },
     "2490c9ba8caf43538d014d04dbf0a785": {
      "model_module": "@jupyter-widgets/base",
      "model_module_version": "2.0.0",
      "model_name": "LayoutModel",
      "state": {}
     },
     "24fb249ca4d6492db6e5ad166e89f2ab": {
      "model_module": "jupyter-progressivis",
      "model_module_version": "^0.1.0",
      "model_name": "BackupModel",
      "state": {
       "_model_module_version": "^0.1.0",
       "_view_module_version": "^0.1.0",
       "layout": "IPY_MODEL_419d1693512b488a9c2f6dcfcd58aacf",
       "root_markdown": ""
      }
     },
     "25c353f717ff4db6823ed9d8ad74fd73": {
      "model_module": "@jupyter-widgets/base",
      "model_module_version": "2.0.0",
      "model_name": "LayoutModel",
      "state": {}
     },
     "25eba04eda6d41ddb01b9313682639d1": {
      "model_module": "@jupyter-widgets/base",
      "model_module_version": "2.0.0",
      "model_name": "LayoutModel",
      "state": {}
     },
     "25f4da6d8fe74d9dba1e0ad0c831cfc3": {
      "model_module": "@jupyter-widgets/base",
      "model_module_version": "2.0.0",
      "model_name": "LayoutModel",
      "state": {}
     },
     "2699cb71ae5544f2b1c25e338a742ea8": {
      "model_module": "@jupyter-widgets/base",
      "model_module_version": "2.0.0",
      "model_name": "LayoutModel",
      "state": {
       "height": "500px",
       "overflow": "auto"
      }
     },
     "26da1e96453e4652adf95a507a5d077a": {
      "model_module": "@jupyter-widgets/base",
      "model_module_version": "2.0.0",
      "model_name": "LayoutModel",
      "state": {}
     },
     "274b3d7d6555415aa43d743117fdea5b": {
      "model_module": "@jupyter-widgets/controls",
      "model_module_version": "2.0.0",
      "model_name": "HTMLStyleModel",
      "state": {
       "description_width": "",
       "font_size": null,
       "text_color": null
      }
     },
     "27b7a1fd78974b9ea6b95e9f1d2a9b5f": {
      "model_module": "@jupyter-widgets/controls",
      "model_module_version": "2.0.0",
      "model_name": "HTMLStyleModel",
      "state": {
       "description_width": "",
       "font_size": null,
       "text_color": null
      }
     },
     "2af0b16621d4487c9646cd3ef6b55900": {
      "model_module": "@jupyter-widgets/base",
      "model_module_version": "2.0.0",
      "model_name": "LayoutModel",
      "state": {}
     },
     "2b6555b6cfbc45aa8ea4715325db2b08": {
      "model_module": "@jupyter-widgets/base",
      "model_module_version": "2.0.0",
      "model_name": "LayoutModel",
      "state": {}
     },
     "2ba3abadc3c841b4a4a04b87865dadda": {
      "model_module": "@jupyter-widgets/controls",
      "model_module_version": "2.0.0",
      "model_name": "HTMLModel",
      "state": {
       "layout": "IPY_MODEL_064a4d3c2aa44a77a1680a05aeab8395",
       "style": "IPY_MODEL_30ce88657dd34262bea311d7e1ed7a23"
      }
     },
     "2be817a0a9064f1baa78e3caa1725319": {
      "model_module": "@jupyter-widgets/base",
      "model_module_version": "2.0.0",
      "model_name": "LayoutModel",
      "state": {}
     },
     "2cd9df84ab224561ab8986fcb0713024": {
      "model_module": "@jupyter-widgets/base",
      "model_module_version": "2.0.0",
      "model_name": "LayoutModel",
      "state": {}
     },
     "2d3d6555eb13474cacb03413c8e3d525": {
      "model_module": "@jupyter-widgets/base",
      "model_module_version": "2.0.0",
      "model_name": "LayoutModel",
      "state": {}
     },
     "2d7c372f60f94fcb911e1bd8ab5e6f17": {
      "model_module": "@jupyter-widgets/controls",
      "model_module_version": "2.0.0",
      "model_name": "HTMLModel",
      "state": {
       "layout": "IPY_MODEL_1ddf54d94ec84e5aa48fea4ba876b3dd",
       "style": "IPY_MODEL_cac4852bc7894b3b8e3ded67c79ed1f6"
      }
     },
     "2dc79a2cfbbb427aa9402e7b38d006a6": {
      "model_module": "@jupyter-widgets/base",
      "model_module_version": "2.0.0",
      "model_name": "LayoutModel",
      "state": {}
     },
     "2ddaa3376e66457c8b5197cfa03f4983": {
      "model_module": "@jupyter-widgets/jupyterlab-sidecar",
      "model_module_version": "^1.1",
      "model_name": "SidecarModel",
      "state": {
       "_model_module_version": "^1.1",
       "_view_module_version": "^1.1",
       "layout": "IPY_MODEL_8239aabd5ff74c7bae244cc2b55cff13",
       "outputs": [
        {
         "data": {
          "image/png": "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",
          "metadata": {},
          "output_type": "display_data"
         },
         "metadata": {},
         "output_type": "display_data"
        }
       ],
       "title": "Widgets Output"
      }
     },
     "2e4a72c978494177ba8b86b14cbfc928": {
      "model_module": "@jupyter-widgets/base",
      "model_module_version": "2.0.0",
      "model_name": "LayoutModel",
      "state": {}
     },
     "2f36a644b4554350985cd44e9ba6eeec": {
      "model_module": "@jupyter-widgets/base",
      "model_module_version": "2.0.0",
      "model_name": "LayoutModel",
      "state": {}
     },
     "30ce88657dd34262bea311d7e1ed7a23": {
      "model_module": "@jupyter-widgets/controls",
      "model_module_version": "2.0.0",
      "model_name": "HTMLStyleModel",
      "state": {
       "description_width": "",
       "font_size": null,
       "text_color": null
      }
     },
     "31b2842c365441b0ad12cce12f05b968": {
      "model_module": "@jupyter-widgets/controls",
      "model_module_version": "2.0.0",
      "model_name": "CheckboxStyleModel",
      "state": {
       "description_width": ""
      }
     },
     "323a0bded5e84820ad690764c7fa4e2a": {
      "model_module": "@jupyter-widgets/controls",
      "model_module_version": "2.0.0",
      "model_name": "TextStyleModel",
      "state": {
       "description_width": "",
       "font_size": null,
       "text_color": null
      }
     },
     "3304def0cdd84d7bbff652da78fe7771": {
      "model_module": "@jupyter-widgets/controls",
      "model_module_version": "2.0.0",
      "model_name": "LabelStyleModel",
      "state": {
       "description_width": "",
       "font_family": null,
       "font_size": null,
       "font_style": null,
       "font_variant": null,
       "font_weight": null,
       "text_color": null,
       "text_decoration": null
      }
     },
     "331be477f4e242a3b59fa53cd33197fc": {
      "model_module": "@jupyter-widgets/base",
      "model_module_version": "2.0.0",
      "model_name": "LayoutModel",
      "state": {}
     },
     "3325675176fc4ef599fb27b82444ce2a": {
      "model_module": "@jupyter-widgets/base",
      "model_module_version": "2.0.0",
      "model_name": "LayoutModel",
      "state": {}
     },
     "345fe7aa5fc0482ab411871616a5887c": {
      "model_module": "@jupyter-widgets/controls",
      "model_module_version": "2.0.0",
      "model_name": "VBoxModel",
      "state": {
       "children": [
        "IPY_MODEL_ab4fe34da2514ec8964416845aded5a7",
        "IPY_MODEL_a203cdcbbffc4b88a05d5164d66b84e6",
        "IPY_MODEL_434f8d91981e455585e22cb63549083d"
       ],
       "layout": "IPY_MODEL_ab9fb426b33d4147a04632d974f02926"
      }
     },
     "34d319878e2c4185bdcc6fe240afc700": {
      "model_module": "@jupyter-widgets/controls",
      "model_module_version": "2.0.0",
      "model_name": "HTMLModel",
      "state": {
       "layout": "IPY_MODEL_ce3f014ddfc74a67a1dc372de8debc6c",
       "style": "IPY_MODEL_34ef30e9149d4835add166d50e759059"
      }
     },
     "34ef30e9149d4835add166d50e759059": {
      "model_module": "@jupyter-widgets/controls",
      "model_module_version": "2.0.0",
      "model_name": "HTMLStyleModel",
      "state": {
       "description_width": "",
       "font_size": null,
       "text_color": null
      }
     },
     "358bfc655f26432d90601eccdcd4de8f": {
      "model_module": "@jupyter-widgets/controls",
      "model_module_version": "2.0.0",
      "model_name": "ButtonModel",
      "state": {
       "description": "Start loading csv ...",
       "disabled": true,
       "icon": "check",
       "layout": "IPY_MODEL_2d3d6555eb13474cacb03413c8e3d525",
       "style": "IPY_MODEL_5a512b48dc60479bbd8ca3ea146d620d",
       "tooltip": "Start loading csv ..."
      }
     },
     "35b7d3e9abd64474b81502f013641cda": {
      "model_module": "@jupyter-widgets/controls",
      "model_module_version": "2.0.0",
      "model_name": "HTMLModel",
      "state": {
       "layout": "IPY_MODEL_43edeca1a2e44dd2bbbcde503bebb469",
       "style": "IPY_MODEL_d5e677e87af142868eee098928234cf0"
      }
     },
     "36a3d2b70ae34c19bd0fd5caab610f86": {
      "model_module": "jupyter-progressivis",
      "model_module_version": "^0.1.0",
      "model_name": "TalkerModel",
      "state": {
       "_model_module_version": "^0.1.0",
       "_view_module_version": "^0.1.0",
       "layout": "IPY_MODEL_f23e0d3a9a4f4aac951663998e4a7e5f"
      }
     },
     "378639b02fb2411ba1444af533e7125c": {
      "model_module": "@jupyter-widgets/controls",
      "model_module_version": "2.0.0",
      "model_name": "HTMLStyleModel",
      "state": {
       "description_width": "",
       "font_size": null,
       "text_color": null
      }
     },
     "388cf00621e24629bb6156fe4ff5c52c": {
      "model_module": "@jupyter-widgets/base",
      "model_module_version": "2.0.0",
      "model_name": "LayoutModel",
      "state": {}
     },
     "3c409f2049be43d096158014826c8cd3": {
      "model_module": "@jupyter-widgets/controls",
      "model_module_version": "2.0.0",
      "model_name": "HTMLModel",
      "state": {
       "layout": "IPY_MODEL_056888b391d54faa99fbd379cc1443ee",
       "style": "IPY_MODEL_b854b80933b346bfb0182b22a08e7bab"
      }
     },
     "3d0e739aded84691a69c6bee45a73457": {
      "model_module": "@jupyter-widgets/base",
      "model_module_version": "2.0.0",
      "model_name": "LayoutModel",
      "state": {}
     },
     "3e9e1f41bd6843fa96a1585fa935f38d": {
      "model_module": "@jupyter-widgets/controls",
      "model_module_version": "2.0.0",
      "model_name": "LabelModel",
      "state": {
       "layout": "IPY_MODEL_2cd9df84ab224561ab8986fcb0713024",
       "style": "IPY_MODEL_607b2cef5230480b9e207c3daf3f1ac3"
      }
     },
     "3fb678a067cf4f10a86a8633d8ce8a99": {
      "model_module": "@jupyter-widgets/controls",
      "model_module_version": "2.0.0",
      "model_name": "SelectModel",
      "state": {
       "_options_labels": [
        "",
        "nasc_lat_long",
        "taxis",
        "gaia_mosaic",
        "gaia_pb",
        "nasc_2020~",
        "nasc_2020",
        "taxis_filtered",
        "weather_local",
        "nyc_weather_2015.csv",
        "gaia_files~",
        "all_taxis_filtered",
        "gaia_lon_lat",
        "weather",
        "gaia_lon_lat~",
        "all_taxis_filtered~",
        "nasc_lat_long~",
        "NASC_ALL",
        "gaia_files",
        "gaia_shuffled",
        "raw_weather",
        "taxis_filtered_local",
        "nasc_issue",
        "taxis_local",
        "gaia_ra_dec"
       ],
       "description": "Settings",
       "disabled": true,
       "index": 2,
       "layout": "IPY_MODEL_cf7e580009d24cc2bb232132f07e9e9b",
       "style": "IPY_MODEL_9f95123b044f449ca0df49f8ecf99b86"
      }
     },
     "419d1693512b488a9c2f6dcfcd58aacf": {
      "model_module": "@jupyter-widgets/base",
      "model_module_version": "2.0.0",
      "model_name": "LayoutModel",
      "state": {}
     },
     "42079fdb0ed846b4a9a48d090f32a913": {
      "model_module": "@jupyter-widgets/controls",
      "model_module_version": "2.0.0",
      "model_name": "HTMLModel",
      "state": {
       "layout": "IPY_MODEL_d799b57373044d4fb7c16574fcb9ad99",
       "style": "IPY_MODEL_a40438c0f2c74f53af2066ac3e432b90"
      }
     },
     "42dedd6e08da4ae392cf38c687b10f72": {
      "model_module": "@jupyter-widgets/base",
      "model_module_version": "2.0.0",
      "model_name": "LayoutModel",
      "state": {}
     },
     "434f8d91981e455585e22cb63549083d": {
      "model_module": "@jupyter-widgets/output",
      "model_module_version": "1.0.0",
      "model_name": "OutputModel",
      "state": {
       "layout": "IPY_MODEL_c52ac96ecf6b436a9bff1b18b233f487"
      }
     },
     "43edeca1a2e44dd2bbbcde503bebb469": {
      "model_module": "@jupyter-widgets/base",
      "model_module_version": "2.0.0",
      "model_name": "LayoutModel",
      "state": {}
     },
     "46718d96724643648c5c322131b4846c": {
      "model_module": "@jupyter-widgets/controls",
      "model_module_version": "2.0.0",
      "model_name": "DropdownModel",
      "state": {
       "_options_labels": [
        "NONE",
        "SQRT",
        "CBRT",
        "LOG"
       ],
       "description": "Transform",
       "index": 3,
       "layout": "IPY_MODEL_4b965e09cf9f410f8387e4bea8d4605f",
       "style": "IPY_MODEL_9e24737b04ce41aabfd2aa0cc7de4a52"
      }
     },
     "46cd53c809aa417c8e94e8ebe0ba5662": {
      "model_module": "@jupyter-widgets/base",
      "model_module_version": "2.0.0",
      "model_name": "LayoutModel",
      "state": {}
     },
     "4854405843ce4d2ab9ce0f809eaf71a1": {
      "model_module": "@jupyter-widgets/base",
      "model_module_version": "2.0.0",
      "model_name": "LayoutModel",
      "state": {}
     },
     "48b2d3b409bb4293b9514e73efc874b4": {
      "model_module": "@jupyter-widgets/controls",
      "model_module_version": "2.0.0",
      "model_name": "HTMLStyleModel",
      "state": {
       "description_width": "",
       "font_size": null,
       "text_color": null
      }
     },
     "4a795ea439b14be18a85d002ade08ef0": {
      "model_module": "@jupyter-widgets/base",
      "model_module_version": "2.0.0",
      "model_name": "LayoutModel",
      "state": {}
     },
     "4b965e09cf9f410f8387e4bea8d4605f": {
      "model_module": "@jupyter-widgets/base",
      "model_module_version": "2.0.0",
      "model_name": "LayoutModel",
      "state": {}
     },
     "4f303559bf0c4ab1bb431cabbd82f4a7": {
      "model_module": "@jupyter-widgets/controls",
      "model_module_version": "2.0.0",
      "model_name": "HTMLModel",
      "state": {
       "layout": "IPY_MODEL_acae2352eed04972ac4bd901607ad141",
       "style": "IPY_MODEL_baa847e394424956a635b28a674a79b0"
      }
     },
     "5360b8fdee5147388f6ba4373bb6edfd": {
      "model_module": "@jupyter-widgets/controls",
      "model_module_version": "2.0.0",
      "model_name": "ButtonModel",
      "state": {
       "description": "Create",
       "disabled": true,
       "icon": "check",
       "layout": "IPY_MODEL_9cdd9ba5ab2849eb8eed2e0fdc563cd6",
       "style": "IPY_MODEL_f90bb76342b049919bf40e2708de85f5",
       "tooltip": "Create"
      }
     },
     "54247d6c899e4de28afbab4a8787a5d1": {
      "model_module": "@jupyter-widgets/controls",
      "model_module_version": "2.0.0",
      "model_name": "HTMLModel",
      "state": {
       "layout": "IPY_MODEL_f7613365a49344c9878a39a17a2b3fea",
       "style": "IPY_MODEL_f90862a893f34b5bb4fe412da413cecd"
      }
     },
     "548463144dea41bc9cfe3f742c3d1944": {
      "model_module": "@jupyter-widgets/controls",
      "model_module_version": "2.0.0",
      "model_name": "TextareaModel",
      "state": {
       "description": "New URLs:",
       "layout": "IPY_MODEL_15c1986c36e94266a8be12c92a327086",
       "placeholder": "",
       "style": "IPY_MODEL_0914a65b3f914a72ba666ef3ade21c67"
      }
     },
     "5587f99975684fab9cfae277f5bca286": {
      "model_module": "@jupyter-widgets/controls",
      "model_module_version": "2.0.0",
      "model_name": "HTMLModel",
      "state": {
       "layout": "IPY_MODEL_2e4a72c978494177ba8b86b14cbfc928",
       "style": "IPY_MODEL_0d322189d91645bdb61fd7bf48b62867"
      }
     },
     "55b4f920b9a6445e9e4e1a2bceb5e329": {
      "model_module": "@jupyter-widgets/base",
      "model_module_version": "2.0.0",
      "model_name": "LayoutModel",
      "state": {}
     },
     "562cd8c79b284f648705ab8fd8bbbae1": {
      "model_module": "@jupyter-widgets/controls",
      "model_module_version": "2.0.0",
      "model_name": "HTMLModel",
      "state": {
       "layout": "IPY_MODEL_f5842e90260248fcb09f4b5853cd94f6",
       "style": "IPY_MODEL_aa8fd336d33746ce99e1c99738b5cd41"
      }
     },
     "56768a5e1607492d9e1d110083ae3695": {
      "model_module": "@jupyter-widgets/controls",
      "model_module_version": "2.0.0",
      "model_name": "HTMLModel",
      "state": {
       "layout": "IPY_MODEL_388cf00621e24629bb6156fe4ff5c52c",
       "style": "IPY_MODEL_a4aa44d885d74ee8b23a08cd25253964"
      }
     },
     "568c09b9d519408b96855aa67345a7ea": {
      "model_module": "@jupyter-widgets/controls",
      "model_module_version": "2.0.0",
      "model_name": "HBoxModel",
      "state": {
       "children": [
        "IPY_MODEL_e0b89e49d6194c52b4efab5ae0cef88d",
        "IPY_MODEL_fe9d2f63e912453683962a5f19cfdd04"
       ],
       "layout": "IPY_MODEL_da8ca344d81b429dae10152eaf369026"
      }
     },
     "56d0ba81053b41c3afcd0a27deae90b4": {
      "model_module": "@jupyter-widgets/base",
      "model_module_version": "2.0.0",
      "model_name": "LayoutModel",
      "state": {}
     },
     "5723919522f048769a8f77123deaa195": {
      "model_module": "@jupyter-widgets/base",
      "model_module_version": "2.0.0",
      "model_name": "LayoutModel",
      "state": {}
     },
     "57fee4bb7b504875a47378466213b791": {
      "model_module": "@jupyter-widgets/controls",
      "model_module_version": "2.0.0",
      "model_name": "HTMLModel",
      "state": {
       "layout": "IPY_MODEL_bcfb9b1a02754b14b06ac557a997ca40",
       "style": "IPY_MODEL_17bca635b7014bc9ab3c3608437e9ad9"
      }
     },
     "58e0ccf7e8304ced826052c83c316327": {
      "model_module": "@jupyter-widgets/controls",
      "model_module_version": "2.0.0",
      "model_name": "DropdownModel",
      "state": {
       "_options_labels": [
        "",
        "CSV loader",
        "PARQUET loader",
        "CUSTOM loader"
       ],
       "description": "Loader",
       "disabled": true,
       "index": 1,
       "layout": "IPY_MODEL_3325675176fc4ef599fb27b82444ce2a",
       "style": "IPY_MODEL_0a114b949f8d4032ad47cdf6a666abd3"
      }
     },
     "58f7652ac1a143438baf7eace873d459": {
      "model_module": "@jupyter-widgets/controls",
      "model_module_version": "2.0.0",
      "model_name": "HTMLModel",
      "state": {
       "layout": "IPY_MODEL_89e7ec398f044120b9d63753cf012961",
       "style": "IPY_MODEL_274b3d7d6555415aa43d743117fdea5b"
      }
     },
     "5945238df83c4aaca08ab5de340a8e9f": {
      "model_module": "@jupyter-widgets/controls",
      "model_module_version": "2.0.0",
      "model_name": "VBoxModel",
      "state": {
       "_dom_classes": [
        "progressivis_guest_widget"
       ],
       "children": [
        "IPY_MODEL_69b01b47476c43d7bbb52eac02ba3b8d",
        "IPY_MODEL_3fb678a067cf4f10a86a8633d8ce8a99",
        "IPY_MODEL_42079fdb0ed846b4a9a48d090f32a913",
        "IPY_MODEL_c78e940589d041d78f155a5edd8278ff",
        "IPY_MODEL_9b74e85121cd408cb1c61a375eea8623",
        "IPY_MODEL_fdb81ca2a212453a9b5bd912fd524fa7",
        "IPY_MODEL_9e4599aaef1c40a084ef034fe70ed6a3",
        "IPY_MODEL_56768a5e1607492d9e1d110083ae3695",
        "IPY_MODEL_96743f0662c64be4ba1fac3ee1186fe8"
       ],
       "layout": "IPY_MODEL_1fbfb8e77f0c44ca9b5f58ce60f417f6"
      }
     },
     "59e6ec554f6d4ec8ad27d878b0737931": {
      "model_module": "@jupyter-widgets/controls",
      "model_module_version": "2.0.0",
      "model_name": "HTMLStyleModel",
      "state": {
       "description_width": "",
       "font_size": null,
       "text_color": null
      }
     },
     "5a4095f5991e45b48f8b1d5cbc14b283": {
      "model_module": "@jupyter-widgets/controls",
      "model_module_version": "2.0.0",
      "model_name": "HTMLStyleModel",
      "state": {
       "description_width": "",
       "font_size": null,
       "text_color": null
      }
     },
     "5a512b48dc60479bbd8ca3ea146d620d": {
      "model_module": "@jupyter-widgets/controls",
      "model_module_version": "2.0.0",
      "model_name": "ButtonStyleModel",
      "state": {
       "font_family": null,
       "font_size": null,
       "font_style": null,
       "font_variant": null,
       "font_weight": null,
       "text_color": null,
       "text_decoration": null
      }
     },
     "5bc4fe5c261145118e79d09dd420e839": {
      "model_module": "@jupyter-widgets/base",
      "model_module_version": "2.0.0",
      "model_name": "LayoutModel",
      "state": {}
     },
     "5c9b7182c1a047deae89d9d243eac41c": {
      "model_module": "@jupyter-widgets/controls",
      "model_module_version": "2.0.0",
      "model_name": "ButtonModel",
      "state": {
       "description": "Sniff ...",
       "icon": "check",
       "layout": "IPY_MODEL_f4dce80884634d8a8a06aba9ae83627c",
       "style": "IPY_MODEL_bd7447221784429d99cb6407f0aace7c",
       "tooltip": "Sniff ..."
      }
     },
     "5d8f2cebfcdb4ab4bd4d3481e7756fcc": {
      "model_module": "@jupyter-widgets/base",
      "model_module_version": "2.0.0",
      "model_name": "LayoutModel",
      "state": {}
     },
     "607b2cef5230480b9e207c3daf3f1ac3": {
      "model_module": "@jupyter-widgets/controls",
      "model_module_version": "2.0.0",
      "model_name": "LabelStyleModel",
      "state": {
       "description_width": "",
       "font_family": null,
       "font_size": null,
       "font_style": null,
       "font_variant": null,
       "font_weight": null,
       "text_color": null,
       "text_decoration": null
      }
     },
     "6236e58e4abc4524bb5a3e69f499049e": {
      "model_module": "@jupyter-widgets/controls",
      "model_module_version": "2.0.0",
      "model_name": "HTMLStyleModel",
      "state": {
       "description_width": "",
       "font_size": null,
       "text_color": null
      }
     },
     "69b01b47476c43d7bbb52eac02ba3b8d": {
      "model_module": "@jupyter-widgets/controls",
      "model_module_version": "2.0.0",
      "model_name": "CheckboxModel",
      "state": {
       "description": "Reuse previous settings ...",
       "disabled": true,
       "layout": "IPY_MODEL_12eacb750f814b56ba7b99faeb8a7520",
       "style": "IPY_MODEL_31b2842c365441b0ad12cce12f05b968",
       "value": true
      }
     },
     "69d812ba65974e85a0d185dc6b497bb3": {
      "model_module": "@jupyter-widgets/base",
      "model_module_version": "2.0.0",
      "model_name": "LayoutModel",
      "state": {}
     },
     "6c289ce991ac4b4abc670857df7d710c": {
      "model_module": "@jupyter-widgets/controls",
      "model_module_version": "2.0.0",
      "model_name": "VBoxModel",
      "state": {
       "_dom_classes": [
        "progressivis_guest_widget"
       ],
       "children": [
        "IPY_MODEL_ae06974da4064ad98bd0964795620f0f",
        "IPY_MODEL_cb7c07ac70124f938f9e6fabb4372db9",
        "IPY_MODEL_f9db322babb74b13b9a760e5f4d5ce10",
        "IPY_MODEL_a40db688c77446b6a82b1015eef3d0ea",
        "IPY_MODEL_3e9e1f41bd6843fa96a1585fa935f38d",
        "IPY_MODEL_46718d96724643648c5c322131b4846c",
        "IPY_MODEL_0bb09d35d2ea424c970242f0b054d59f",
        "IPY_MODEL_247376f9ae3f468790607f94462cf7ef",
        "IPY_MODEL_e694b6169f5442b3bf84d1a79d26abf4"
       ],
       "layout": "IPY_MODEL_776365aa39cf422c8e4e0b64f7122a5e"
      }
     },
     "6cb2b1d4d1b74895bde2f443de1c2f3a": {
      "model_module": "@jupyter-widgets/controls",
      "model_module_version": "2.0.0",
      "model_name": "HTMLStyleModel",
      "state": {
       "description_width": "",
       "font_size": null,
       "text_color": null
      }
     },
     "6d8f74d707ce4b3c88e92bc61003255b": {
      "model_module": "@jupyter-widgets/controls",
      "model_module_version": "2.0.0",
      "model_name": "SelectMultipleModel",
      "state": {
       "_options_labels": [
        "https://raw.githubusercontent.com/visgl/deck.gl-data/master/examples/3d-heatmap/heatmap-data.csv",
        "~/DATA/nyc_taxis_2015.csv",
        "~/DATA/nyc_weather_2015.csv",
        "~/JDF2016/progressivis/data/ETLSINASC*.bz2",
        "~/JDF2016/progressivis/data/ETLSINASC.DNRES_PI_2011_t.csv.bz2",
        "~/JDF2016/progressivis/data/nasc_issue.csv",
        ""
       ],
       "description": "Bookmarks",
       "index": [],
       "layout": "IPY_MODEL_6e2f9ba3a1634520be8a5b342dfabf53",
       "rows": 5,
       "style": "IPY_MODEL_1388d0bd3dd24bd180c884d7d287b8c2"
      }
     },
     "6e2f9ba3a1634520be8a5b342dfabf53": {
      "model_module": "@jupyter-widgets/base",
      "model_module_version": "2.0.0",
      "model_name": "LayoutModel",
      "state": {
       "width": "60%"
      }
     },
     "6eea887ba83043aeab6a206ac1d16768": {
      "model_module": "@jupyter-widgets/controls",
      "model_module_version": "2.0.0",
      "model_name": "TabModel",
      "state": {
       "layout": "IPY_MODEL_9f34936f48a24a819ce47d3724c742bc"
      }
     },
     "72219537ced84d8483bc67165d6d730a": {
      "model_module": "@jupyter-widgets/controls",
      "model_module_version": "2.0.0",
      "model_name": "IntTextModel",
      "state": {
       "description": "Max rows to sniff:",
       "layout": "IPY_MODEL_defe81ca39fc4d64a9ce87a6e0c47375",
       "step": 1,
       "style": "IPY_MODEL_c8621b0b8e79448da4ae8992c69a27da",
       "value": 100
      }
     },
     "72806915c088435b88b55ad482f19ad9": {
      "model_module": "@jupyter-widgets/controls",
      "model_module_version": "2.0.0",
      "model_name": "IntProgressModel",
      "state": {
       "description": "Progress",
       "layout": "IPY_MODEL_d6a56b60250e41008b05e5a82db17379",
       "max": 12737041,
       "style": "IPY_MODEL_af213d907bc84be4b58f3a09219e5967",
       "value": 1789000
      }
     },
     "72df31764df04fa8b05a1f2e42a84c64": {
      "model_module": "@jupyter-widgets/base",
      "model_module_version": "2.0.0",
      "model_name": "LayoutModel",
      "state": {}
     },
     "74357dda7b3443e1ba6159cd255d4aa6": {
      "model_module": "@jupyter-widgets/controls",
      "model_module_version": "2.0.0",
      "model_name": "HTMLStyleModel",
      "state": {
       "description_width": "",
       "font_size": null,
       "text_color": null
      }
     },
     "771fba72e1374ed48127b9f20044891e": {
      "model_module": "@jupyter-widgets/base",
      "model_module_version": "2.0.0",
      "model_name": "LayoutModel",
      "state": {}
     },
     "776365aa39cf422c8e4e0b64f7122a5e": {
      "model_module": "@jupyter-widgets/base",
      "model_module_version": "2.0.0",
      "model_name": "LayoutModel",
      "state": {}
     },
     "77d6ae7230f24a0e95729ec19a82cabd": {
      "model_module": "@jupyter-widgets/base",
      "model_module_version": "2.0.0",
      "model_name": "LayoutModel",
      "state": {}
     },
     "7e4e4a421d7d44d6bbc90c95a744330b": {
      "model_module": "@jupyter-widgets/base",
      "model_module_version": "2.0.0",
      "model_name": "LayoutModel",
      "state": {}
     },
     "7f06b1cad9a248a3ae7ac26021541708": {
      "model_module": "@jupyter-widgets/controls",
      "model_module_version": "2.0.0",
      "model_name": "HTMLStyleModel",
      "state": {
       "description_width": "",
       "font_size": null,
       "text_color": null
      }
     },
     "7f316b38bba14e299ad5b92b46415dc4": {
      "model_module": "@jupyter-widgets/controls",
      "model_module_version": "2.0.0",
      "model_name": "VBoxModel",
      "state": {
       "_dom_classes": [
        "progressivis_guest_widget"
       ],
       "children": [
        "IPY_MODEL_9db2765600e145959133e5a70fc0372f",
        "IPY_MODEL_14a57202885c4ec28ed0c38f4cf30430",
        "IPY_MODEL_fbe74b023054465cb2abfe7582bbc905",
        "IPY_MODEL_d7a61521bcb74a2ea505cea10ca39e4d",
        "IPY_MODEL_b6b08d8ef00d4c82a36cdaea80663d1c"
       ],
       "layout": "IPY_MODEL_d1574ced22cb4bf1a10e7d84c4115b44"
      }
     },
     "7fc204e938604a9ab270fe4d75c7cf00": {
      "model_module": "@jupyter-widgets/jupyterlab-sidecar",
      "model_module_version": "^1.1",
      "model_name": "SidecarModel",
      "state": {
       "_model_module_version": "^1.1",
       "_view_module_version": "^1.1",
       "layout": "IPY_MODEL_ca87f9d42a6f40bd8ff7ff287a7e0cfc",
       "outputs": [
        {
         "data": {
          "application/vnd.jupyter.widget-view+json": {
           "model_id": "345fe7aa5fc0482ab411871616a5887c",
           "version_major": 2,
           "version_minor": 0
          },
          "text/plain": "PsBoard(children=(ControlPanel(children=(Button(description='Resume', disabled=True, icon='play', style=Button…"
         },
         "metadata": {},
         "output_type": "display_data"
        }
       ],
       "title": "Modules Output"
      }
     },
     "81f9ac3d437f45d983b347a693d6d260": {
      "model_module": "@jupyter-widgets/controls",
      "model_module_version": "2.0.0",
      "model_name": "HTMLStyleModel",
      "state": {
       "description_width": "",
       "font_size": null,
       "text_color": null
      }
     },
     "8239aabd5ff74c7bae244cc2b55cff13": {
      "model_module": "@jupyter-widgets/base",
      "model_module_version": "2.0.0",
      "model_name": "LayoutModel",
      "state": {}
     },
     "826fcc46c72a4031ae77b735cfcfc2c1": {
      "model_module": "@jupyter-widgets/controls",
      "model_module_version": "2.0.0",
      "model_name": "HTMLModel",
      "state": {
       "layout": "IPY_MODEL_2af0b16621d4487c9646cd3ef6b55900",
       "style": "IPY_MODEL_9303197be3ae496fa2d0202a592cab4c"
      }
     },
     "84fdc7dcdda944398b1232c64370c3f2": {
      "model_module": "@jupyter-widgets/base",
      "model_module_version": "2.0.0",
      "model_name": "LayoutModel",
      "state": {}
     },
     "86514d4f233f40adb7f4ef235e453cef": {
      "model_module": "@jupyter-widgets/base",
      "model_module_version": "2.0.0",
      "model_name": "LayoutModel",
      "state": {}
     },
     "86abe114ae3047e6b90cc93e4626b6ac": {
      "model_module": "@jupyter-widgets/controls",
      "model_module_version": "2.0.0",
      "model_name": "HTMLStyleModel",
      "state": {
       "description_width": "",
       "font_size": null,
       "text_color": null
      }
     },
     "88256c2bbc0849e59703b8b5b9caf151": {
      "model_module": "@jupyter-widgets/base",
      "model_module_version": "2.0.0",
      "model_name": "LayoutModel",
      "state": {}
     },
     "887f16c4ce1e48928091aed79dd960f0": {
      "model_module": "@jupyter-widgets/controls",
      "model_module_version": "2.0.0",
      "model_name": "HBoxModel",
      "state": {
       "children": [
        "IPY_MODEL_e4d72fa4d55344dbaf336a18b0dbc654",
        "IPY_MODEL_f70aaba3327e40788d9b4921fcbe3ff0",
        "IPY_MODEL_f9cf414fedd84abbb9e838aa5a3ea6cd",
        "IPY_MODEL_1872678c64ad4b0da5296bca3d23254e"
       ],
       "layout": "IPY_MODEL_f99a0481b2ae4de1837980259dfe5125"
      }
     },
     "89e7ec398f044120b9d63753cf012961": {
      "model_module": "@jupyter-widgets/base",
      "model_module_version": "2.0.0",
      "model_name": "LayoutModel",
      "state": {}
     },
     "8a4d9aed67304b0db267c6344fdce41c": {
      "model_module": "@jupyter-widgets/controls",
      "model_module_version": "2.0.0",
      "model_name": "ButtonModel",
      "state": {
       "description": "Stop",
       "icon": "stop",
       "layout": "IPY_MODEL_e2fc05a9c03a43c2a0b881b17f4cd830",
       "style": "IPY_MODEL_160e43046dec4d6cb7b9bc8ac92a7339",
       "tooltip": "Stop"
      }
     },
     "8bdc46b2566146529b42bb3012cbdc1b": {
      "model_module": "@jupyter-widgets/base",
      "model_module_version": "2.0.0",
      "model_name": "LayoutModel",
      "state": {}
     },
     "8deb4eb9625f42b992277778c8fe777e": {
      "model_module": "@jupyter-widgets/controls",
      "model_module_version": "2.0.0",
      "model_name": "DescriptionStyleModel",
      "state": {
       "description_width": ""
      }
     },
     "8ee12125c35f44a59725f0c6e966cfc0": {
      "model_module": "@jupyter-widgets/controls",
      "model_module_version": "2.0.0",
      "model_name": "DescriptionStyleModel",
      "state": {
       "description_width": ""
      }
     },
     "906497ce6d5844a18e17e16e55d52b21": {
      "model_module": "@jupyter-widgets/controls",
      "model_module_version": "2.0.0",
      "model_name": "HTMLStyleModel",
      "state": {
       "description_width": "",
       "font_size": null,
       "text_color": null
      }
     },
     "9096b77003454db388673fed6b6bf68d": {
      "model_module": "@jupyter-widgets/controls",
      "model_module_version": "2.0.0",
      "model_name": "HTMLModel",
      "state": {
       "layout": "IPY_MODEL_88256c2bbc0849e59703b8b5b9caf151",
       "style": "IPY_MODEL_81f9ac3d437f45d983b347a693d6d260"
      }
     },
     "91536af68dc64a7fb8751cc2e257c7f6": {
      "model_module": "@jupyter-widgets/controls",
      "model_module_version": "2.0.0",
      "model_name": "ButtonStyleModel",
      "state": {
       "font_family": null,
       "font_size": null,
       "font_style": null,
       "font_variant": null,
       "font_weight": null,
       "text_color": null,
       "text_decoration": null
      }
     },
     "91bda32c018d41a7abba3d625f36f91a": {
      "model_module": "@jupyter-widgets/base",
      "model_module_version": "2.0.0",
      "model_name": "LayoutModel",
      "state": {}
     },
     "91e4896607fa4326bbfaca7e86cc3499": {
      "model_module": "@jupyter-widgets/controls",
      "model_module_version": "2.0.0",
      "model_name": "CheckboxStyleModel",
      "state": {
       "description_width": ""
      }
     },
     "91ff643b20844c3086ee6086390e5110": {
      "model_module": "@jupyter-widgets/controls",
      "model_module_version": "2.0.0",
      "model_name": "LabelStyleModel",
      "state": {
       "description_width": "",
       "font_family": null,
       "font_size": null,
       "font_style": null,
       "font_variant": null,
       "font_weight": null,
       "text_color": null,
       "text_decoration": null
      }
     },
     "9303197be3ae496fa2d0202a592cab4c": {
      "model_module": "@jupyter-widgets/controls",
      "model_module_version": "2.0.0",
      "model_name": "HTMLStyleModel",
      "state": {
       "description_width": "",
       "font_size": null,
       "text_color": null
      }
     },
     "9307489ad36e40a7956c65c1a624d167": {
      "model_module": "@jupyter-widgets/base",
      "model_module_version": "2.0.0",
      "model_name": "LayoutModel",
      "state": {}
     },
     "9423b76ddc9f421eb1349c8f4ba91f54": {
      "model_module": "@jupyter-widgets/controls",
      "model_module_version": "2.0.0",
      "model_name": "HTMLModel",
      "state": {
       "layout": "IPY_MODEL_7e4e4a421d7d44d6bbc90c95a744330b",
       "style": "IPY_MODEL_378639b02fb2411ba1444af533e7125c"
      }
     },
     "947ee344f2b34b47b974ba94cd62da11": {
      "model_module": "@jupyter-widgets/controls",
      "model_module_version": "2.0.0",
      "model_name": "CheckboxStyleModel",
      "state": {
       "description_width": ""
      }
     },
     "96743f0662c64be4ba1fac3ee1186fe8": {
      "model_module": "@jupyter-widgets/controls",
      "model_module_version": "2.0.0",
      "model_name": "HBoxModel",
      "state": {
       "children": [
        "IPY_MODEL_358bfc655f26432d90601eccdcd4de8f",
        "IPY_MODEL_9096b77003454db388673fed6b6bf68d",
        "IPY_MODEL_dca154c149de4c9e9cb904c2276ba154",
        "IPY_MODEL_c5a9cf582fff4a46aba64ce196341895"
       ],
       "layout": "IPY_MODEL_3d0e739aded84691a69c6bee45a73457"
      }
     },
     "967e24d0938d4878950f08358f5491d7": {
      "model_module": "@jupyter-widgets/controls",
      "model_module_version": "2.0.0",
      "model_name": "HTMLModel",
      "state": {
       "layout": "IPY_MODEL_84fdc7dcdda944398b1232c64370c3f2",
       "style": "IPY_MODEL_5a4095f5991e45b48f8b1d5cbc14b283"
      }
     },
     "996da2f3fcc24974b59c935f7c580282": {
      "model_module": "@jupyter-widgets/controls",
      "model_module_version": "2.0.0",
      "model_name": "ButtonModel",
      "state": {
       "description": "Step",
       "disabled": true,
       "icon": "step-forward",
       "layout": "IPY_MODEL_c5bdca2cb8694a89bd5758cac5156ac8",
       "style": "IPY_MODEL_07665bf24e044559a0fb6df2000831a3",
       "tooltip": "Step"
      }
     },
     "99a60c14511543628bd9a956450ce3df": {
      "model_module": "@jupyter-widgets/base",
      "model_module_version": "2.0.0",
      "model_name": "LayoutModel",
      "state": {}
     },
     "9b74e85121cd408cb1c61a375eea8623": {
      "model_module": "@jupyter-widgets/controls",
      "model_module_version": "2.0.0",
      "model_name": "HTMLModel",
      "state": {
       "layout": "IPY_MODEL_42dedd6e08da4ae392cf38c687b10f72",
       "style": "IPY_MODEL_6cb2b1d4d1b74895bde2f443de1c2f3a"
      }
     },
     "9bf7ca7134de40ee87533f51a7441378": {
      "model_module": "@jupyter-widgets/controls",
      "model_module_version": "2.0.0",
      "model_name": "LabelModel",
      "state": {
       "layout": "IPY_MODEL_a5c8fba4299e4f8ea1633c91fdaac27e",
       "style": "IPY_MODEL_a3f20dbde2f04d078eceb9187d0d54de"
      }
     },
     "9c95d347788a4454b65599017d859cb2": {
      "model_module": "@jupyter-widgets/base",
      "model_module_version": "2.0.0",
      "model_name": "LayoutModel",
      "state": {}
     },
     "9cdd9ba5ab2849eb8eed2e0fdc563cd6": {
      "model_module": "@jupyter-widgets/base",
      "model_module_version": "2.0.0",
      "model_name": "LayoutModel",
      "state": {}
     },
     "9d06e8b96b52482d95888bd8da38d38e": {
      "model_module": "@jupyter-widgets/base",
      "model_module_version": "2.0.0",
      "model_name": "LayoutModel",
      "state": {}
     },
     "9db2765600e145959133e5a70fc0372f": {
      "model_module": "@jupyter-widgets/controls",
      "model_module_version": "2.0.0",
      "model_name": "IntProgressModel",
      "state": {
       "description": "ProgressiVis started",
       "layout": "IPY_MODEL_9c95d347788a4454b65599017d859cb2",
       "max": 2,
       "style": "IPY_MODEL_ea4cbad3e8714f86aae9bd216d4d1669",
       "value": 2
      }
     },
     "9e24737b04ce41aabfd2aa0cc7de4a52": {
      "model_module": "@jupyter-widgets/controls",
      "model_module_version": "2.0.0",
      "model_name": "DescriptionStyleModel",
      "state": {
       "description_width": ""
      }
     },
     "9e4599aaef1c40a084ef034fe70ed6a3": {
      "model_module": "@jupyter-widgets/controls",
      "model_module_version": "2.0.0",
      "model_name": "HTMLModel",
      "state": {
       "layout": "IPY_MODEL_25f4da6d8fe74d9dba1e0ad0c831cfc3",
       "style": "IPY_MODEL_a79042398dea476db44b85021a99feb1"
      }
     },
     "9f2df97b8e4241d88a5a6d57b68b73ac": {
      "model_module": "@jupyter-widgets/controls",
      "model_module_version": "2.0.0",
      "model_name": "IntTextModel",
      "state": {
       "description": "Throttle:",
       "layout": "IPY_MODEL_91bda32c018d41a7abba3d625f36f91a",
       "step": 1,
       "style": "IPY_MODEL_8deb4eb9625f42b992277778c8fe777e"
      }
     },
     "9f34936f48a24a819ce47d3724c742bc": {
      "model_module": "@jupyter-widgets/base",
      "model_module_version": "2.0.0",
      "model_name": "LayoutModel",
      "state": {}
     },
     "9f95123b044f449ca0df49f8ecf99b86": {
      "model_module": "@jupyter-widgets/controls",
      "model_module_version": "2.0.0",
      "model_name": "DescriptionStyleModel",
      "state": {
       "description_width": ""
      }
     },
     "9fc8d9c42d3642dbb11ef45d92253019": {
      "model_module": "@jupyter-widgets/base",
      "model_module_version": "2.0.0",
      "model_name": "LayoutModel",
      "state": {}
     },
     "a159bd2752e24664a2de9634099761b1": {
      "model_module": "@jupyter-widgets/controls",
      "model_module_version": "2.0.0",
      "model_name": "HTMLModel",
      "state": {
       "layout": "IPY_MODEL_25eba04eda6d41ddb01b9313682639d1",
       "style": "IPY_MODEL_fe6a58a4a7a644e0874eba71282f1d3f"
      }
     },
     "a203cdcbbffc4b88a05d5164d66b84e6": {
      "model_module": "@jupyter-widgets/controls",
      "model_module_version": "2.0.0",
      "model_name": "TabModel",
      "state": {
       "children": [
        "IPY_MODEL_1c339e16f8e54a81b455c5645445d68c",
        "IPY_MODEL_f4465293b10f48109807196cb258b742"
       ],
       "layout": "IPY_MODEL_b299a257f4934d5884a0a09bf2228eff",
       "selected_index": 0,
       "titles": [
        "Modules",
        "Module graph"
       ]
      }
     },
     "a20e63beaadf4e6eaa1256d2622593fe": {
      "model_module": "@jupyter-widgets/base",
      "model_module_version": "2.0.0",
      "model_name": "LayoutModel",
      "state": {}
     },
     "a2b70f34765f40939c25dedcbfcddb89": {
      "model_module": "@jupyter-widgets/controls",
      "model_module_version": "2.0.0",
      "model_name": "VBoxModel",
      "state": {
       "children": [
        "IPY_MODEL_6c289ce991ac4b4abc670857df7d710c",
        "IPY_MODEL_568c09b9d519408b96855aa67345a7ea"
       ],
       "layout": "IPY_MODEL_a352a4ab3d2847b1b9e11a1e22dd81dc"
      }
     },
     "a2b9e883f517467b9c56ac411fc7bb17": {
      "model_module": "@jupyter-widgets/controls",
      "model_module_version": "2.0.0",
      "model_name": "TextModel",
      "state": {
       "description": "URL to sniff(optional):",
       "layout": "IPY_MODEL_098b939818f940bd8fbb94ad893b6143",
       "placeholder": "",
       "style": "IPY_MODEL_323a0bded5e84820ad690764c7fa4e2a"
      }
     },
     "a352a4ab3d2847b1b9e11a1e22dd81dc": {
      "model_module": "@jupyter-widgets/base",
      "model_module_version": "2.0.0",
      "model_name": "LayoutModel",
      "state": {}
     },
     "a3b5f1e0ae17409197b928d8bd20ab5c": {
      "model_module": "@jupyter-widgets/controls",
      "model_module_version": "2.0.0",
      "model_name": "HTMLModel",
      "state": {
       "layout": "IPY_MODEL_8bdc46b2566146529b42bb3012cbdc1b",
       "style": "IPY_MODEL_906497ce6d5844a18e17e16e55d52b21"
      }
     },
     "a3f20dbde2f04d078eceb9187d0d54de": {
      "model_module": "@jupyter-widgets/controls",
      "model_module_version": "2.0.0",
      "model_name": "LabelStyleModel",
      "state": {
       "description_width": "",
       "font_family": null,
       "font_size": null,
       "font_style": null,
       "font_variant": null,
       "font_weight": null,
       "text_color": null,
       "text_decoration": null
      }
     },
     "a40438c0f2c74f53af2066ac3e432b90": {
      "model_module": "@jupyter-widgets/controls",
      "model_module_version": "2.0.0",
      "model_name": "HTMLStyleModel",
      "state": {
       "description_width": "",
       "font_size": null,
       "text_color": null
      }
     },
     "a40db688c77446b6a82b1015eef3d0ea": {
      "model_module": "@jupyter-widgets/controls",
      "model_module_version": "2.0.0",
      "model_name": "LabelModel",
      "state": {
       "layout": "IPY_MODEL_56d0ba81053b41c3afcd0a27deae90b4",
       "style": "IPY_MODEL_91ff643b20844c3086ee6086390e5110"
      }
     },
     "a4aa44d885d74ee8b23a08cd25253964": {
      "model_module": "@jupyter-widgets/controls",
      "model_module_version": "2.0.0",
      "model_name": "HTMLStyleModel",
      "state": {
       "description_width": "",
       "font_size": null,
       "text_color": null
      }
     },
     "a5c8fba4299e4f8ea1633c91fdaac27e": {
      "model_module": "@jupyter-widgets/base",
      "model_module_version": "2.0.0",
      "model_name": "LayoutModel",
      "state": {}
     },
     "a72a39962cc54a85b4b2697cb7b011e9": {
      "model_module": "@jupyter-widgets/base",
      "model_module_version": "2.0.0",
      "model_name": "LayoutModel",
      "state": {}
     },
     "a79042398dea476db44b85021a99feb1": {
      "model_module": "@jupyter-widgets/controls",
      "model_module_version": "2.0.0",
      "model_name": "HTMLStyleModel",
      "state": {
       "description_width": "",
       "font_size": null,
       "text_color": null
      }
     },
     "a7d096f1e4d442e8add8d4081decf1a0": {
      "model_module": "@jupyter-widgets/controls",
      "model_module_version": "2.0.0",
      "model_name": "HTMLStyleModel",
      "state": {
       "description_width": "",
       "font_size": null,
       "text_color": null
      }
     },
     "a8d16f1cbc334729874f28c4b3d07e7e": {
      "model_module": "jupyter-progressivis",
      "model_module_version": "^0.1.0",
      "model_name": "DagWidgetModel",
      "state": {
       "_model_module_version": "^0.1.0",
       "_view_module_version": "^0.1.0",
       "dag": "{\"dag\": [{\"id\": \"root\", \"divID\": \"root\", \"label\": \"root\", \"parentIds\": []}, {\"id\": \"Taxis\", \"divID\": \"Taxis\", \"label\": \"Taxis\", \"parentIds\": [\"root\"]}, {\"id\": \"Heatmap\", \"divID\": \"Heatmap\", \"label\": \"Heatmap\", \"parentIds\": [\"Taxis\"]}], \"summaries\": {\"root\": {\"progress\": 0, \"status\": \"RUNNING\"}, \"Taxis\": {\"progress\": 0, \"status\": \"RUNNING\"}}, \"summaryVariables\": {\"root\": [\"progress\"], \"Taxis\": [\"progress\"], \"Heatmap\": [\"progress\"]}}",
       "layout": "IPY_MODEL_46cd53c809aa417c8e94e8ebe0ba5662",
       "summaries": "{\"root\": {\"progress\": 0, \"status\": \"RUNNING\"}, \"Taxis\": {\"progress\": 0, \"status\": \"RUNNING\"}, \"Heatmap\": {\"progress\": 0, \"status\": \"RUNNING\"}}"
      }
     },
     "a9b3e113ea7740a1badfa25b23b5345d": {
      "model_module": "@jupyter-widgets/base",
      "model_module_version": "2.0.0",
      "model_name": "LayoutModel",
      "state": {}
     },
     "aa8e8326f1f04dfaafb7a19035835881": {
      "model_module": "@jupyter-widgets/base",
      "model_module_version": "2.0.0",
      "model_name": "LayoutModel",
      "state": {}
     },
     "aa8fd336d33746ce99e1c99738b5cd41": {
      "model_module": "@jupyter-widgets/controls",
      "model_module_version": "2.0.0",
      "model_name": "HTMLStyleModel",
      "state": {
       "description_width": "",
       "font_size": null,
       "text_color": null
      }
     },
     "aabb7fe39ad548458976793e6a843239": {
      "model_module": "@jupyter-widgets/base",
      "model_module_version": "2.0.0",
      "model_name": "LayoutModel",
      "state": {}
     },
     "ab4fe34da2514ec8964416845aded5a7": {
      "model_module": "@jupyter-widgets/controls",
      "model_module_version": "2.0.0",
      "model_name": "HBoxModel",
      "state": {
       "children": [
        "IPY_MODEL_c77754ec0ad64052a8ff8d8b23c29317",
        "IPY_MODEL_8a4d9aed67304b0db267c6344fdce41c",
        "IPY_MODEL_996da2f3fcc24974b59c935f7c580282",
        "IPY_MODEL_22ab328567c04e6baffdb1b395593761"
       ],
       "layout": "IPY_MODEL_25c353f717ff4db6823ed9d8ad74fd73"
      }
     },
     "ab9fb426b33d4147a04632d974f02926": {
      "model_module": "@jupyter-widgets/base",
      "model_module_version": "2.0.0",
      "model_name": "LayoutModel",
      "state": {}
     },
     "acae2352eed04972ac4bd901607ad141": {
      "model_module": "@jupyter-widgets/base",
      "model_module_version": "2.0.0",
      "model_name": "LayoutModel",
      "state": {}
     },
     "ae06974da4064ad98bd0964795620f0f": {
      "model_module": "@jupyter-widgets/controls",
      "model_module_version": "2.0.0",
      "model_name": "DropdownModel",
      "state": {
       "_options_labels": [
        "512*512",
        "256*256",
        "128*128"
       ],
       "description": "Definition",
       "disabled": true,
       "index": 0,
       "layout": "IPY_MODEL_26da1e96453e4652adf95a507a5d077a",
       "style": "IPY_MODEL_8ee12125c35f44a59725f0c6e966cfc0"
      }
     },
     "af213d907bc84be4b58f3a09219e5967": {
      "model_module": "@jupyter-widgets/controls",
      "model_module_version": "2.0.0",
      "model_name": "ProgressStyleModel",
      "state": {
       "description_width": ""
      }
     },
     "b0d1cfa1b6934d69b14651fdab02d6fb": {
      "model_module": "@jupyter-widgets/base",
      "model_module_version": "2.0.0",
      "model_name": "LayoutModel",
      "state": {}
     },
     "b29441b66701409fb903f5abab0ebbea": {
      "model_module": "@jupyter-widgets/controls",
      "model_module_version": "2.0.0",
      "model_name": "HTMLModel",
      "state": {
       "layout": "IPY_MODEL_9fc8d9c42d3642dbb11ef45d92253019",
       "style": "IPY_MODEL_0dc9e444255b4ec39c3e9d434000307b"
      }
     },
     "b299a257f4934d5884a0a09bf2228eff": {
      "model_module": "@jupyter-widgets/base",
      "model_module_version": "2.0.0",
      "model_name": "LayoutModel",
      "state": {}
     },
     "b2abfd5799bf47cb9e1f643155813b90": {
      "model_module": "@jupyter-widgets/controls",
      "model_module_version": "2.0.0",
      "model_name": "HTMLModel",
      "state": {
       "layout": "IPY_MODEL_a9b3e113ea7740a1badfa25b23b5345d",
       "style": "IPY_MODEL_1d227ac4df0b41738e825a23ac74f661"
      }
     },
     "b636704171934aadbb4ee7599e5a9796": {
      "model_module": "@jupyter-widgets/controls",
      "model_module_version": "2.0.0",
      "model_name": "HTMLModel",
      "state": {
       "layout": "IPY_MODEL_331be477f4e242a3b59fa53cd33197fc",
       "style": "IPY_MODEL_a7d096f1e4d442e8add8d4081decf1a0"
      }
     },
     "b6b08d8ef00d4c82a36cdaea80663d1c": {
      "model_module": "@jupyter-widgets/controls",
      "model_module_version": "2.0.0",
      "model_name": "HBoxModel",
      "state": {
       "layout": "IPY_MODEL_a72a39962cc54a85b4b2697cb7b011e9"
      }
     },
     "b7ad30443e884ea19f4ae60a26077233": {
      "model_module": "@jupyter-widgets/controls",
      "model_module_version": "2.0.0",
      "model_name": "VBoxModel",
      "state": {
       "children": [
        "IPY_MODEL_5945238df83c4aaca08ab5de340a8e9f",
        "IPY_MODEL_23f700cd28614546ad8b127ffe02b518"
       ],
       "layout": "IPY_MODEL_1ac7b24747e7417cb41e3539902c8ac6"
      }
     },
     "b84dbeced9e6449c89cea61047413c2d": {
      "model_module": "@jupyter-widgets/base",
      "model_module_version": "2.0.0",
      "model_name": "LayoutModel",
      "state": {}
     },
     "b854b80933b346bfb0182b22a08e7bab": {
      "model_module": "@jupyter-widgets/controls",
      "model_module_version": "2.0.0",
      "model_name": "HTMLStyleModel",
      "state": {
       "description_width": "",
       "font_size": null,
       "text_color": null
      }
     },
     "ba6fe728ef094ebc9fc857eecbee05bb": {
      "model_module": "@jupyter-widgets/controls",
      "model_module_version": "2.0.0",
      "model_name": "HTMLModel",
      "state": {
       "layout": "IPY_MODEL_b84dbeced9e6449c89cea61047413c2d",
       "style": "IPY_MODEL_48b2d3b409bb4293b9514e73efc874b4"
      }
     },
     "baa847e394424956a635b28a674a79b0": {
      "model_module": "@jupyter-widgets/controls",
      "model_module_version": "2.0.0",
      "model_name": "HTMLStyleModel",
      "state": {
       "description_width": "",
       "font_size": null,
       "text_color": null
      }
     },
     "bc088a8899b1477980fb23feeb97ef9a": {
      "model_module": "@jupyter-widgets/controls",
      "model_module_version": "2.0.0",
      "model_name": "HTMLModel",
      "state": {
       "layout": "IPY_MODEL_bfdb81ac96a04e5185618a4063dbe7b1",
       "style": "IPY_MODEL_7f06b1cad9a248a3ae7ac26021541708"
      }
     },
     "bcfb9b1a02754b14b06ac557a997ca40": {
      "model_module": "@jupyter-widgets/base",
      "model_module_version": "2.0.0",
      "model_name": "LayoutModel",
      "state": {}
     },
     "bd5bfa0b7e45496fa40768b3931286c8": {
      "model_module": "@jupyter-widgets/controls",
      "model_module_version": "2.0.0",
      "model_name": "IntSliderModel",
      "state": {
       "behavior": "drag-tap",
       "continuous_update": false,
       "description": "Display rate:",
       "layout": "IPY_MODEL_123c87f4b6eb4692b710072302eddcb3",
       "max": 10,
       "min": 1,
       "style": "IPY_MODEL_fbc279bf90224261a22095824a103ca7",
       "value": 1
      }
     },
     "bd7447221784429d99cb6407f0aace7c": {
      "model_module": "@jupyter-widgets/controls",
      "model_module_version": "2.0.0",
      "model_name": "ButtonStyleModel",
      "state": {
       "font_family": null,
       "font_size": null,
       "font_style": null,
       "font_variant": null,
       "font_weight": null,
       "text_color": null,
       "text_decoration": null
      }
     },
     "bfdb81ac96a04e5185618a4063dbe7b1": {
      "model_module": "@jupyter-widgets/base",
      "model_module_version": "2.0.0",
      "model_name": "LayoutModel",
      "state": {}
     },
     "c0112cf4e66f4ad990d8d83960af9dff": {
      "model_module": "@jupyter-widgets/controls",
      "model_module_version": "2.0.0",
      "model_name": "HTMLStyleModel",
      "state": {
       "description_width": "",
       "font_size": null,
       "text_color": null
      }
     },
     "c304ba48494248439d013555909498c8": {
      "model_module": "@jupyter-widgets/controls",
      "model_module_version": "2.0.0",
      "model_name": "HTMLModel",
      "state": {
       "layout": "IPY_MODEL_99a60c14511543628bd9a956450ce3df",
       "style": "IPY_MODEL_00a29e3bb3694f928121d6f4aa32a012"
      }
     },
     "c3f5c6c1b79348fda6d3ba1a4b0d23e6": {
      "model_module": "@jupyter-widgets/controls",
      "model_module_version": "2.0.0",
      "model_name": "HTMLStyleModel",
      "state": {
       "description_width": "",
       "font_size": null,
       "text_color": null
      }
     },
     "c43e78f95fbe4b95b94dc2f530c4499a": {
      "model_module": "@jupyter-widgets/base",
      "model_module_version": "2.0.0",
      "model_name": "LayoutModel",
      "state": {}
     },
     "c4c578020bb44e198756de32decef0e5": {
      "model_module": "@jupyter-widgets/controls",
      "model_module_version": "2.0.0",
      "model_name": "TextModel",
      "state": {
       "disabled": true,
       "layout": "IPY_MODEL_2490c9ba8caf43538d014d04dbf0a785",
       "placeholder": "optional alias",
       "style": "IPY_MODEL_1895c51d035149d192935295e8f9ebe0",
       "value": "Taxis"
      }
     },
     "c52ac96ecf6b436a9bff1b18b233f487": {
      "model_module": "@jupyter-widgets/base",
      "model_module_version": "2.0.0",
      "model_name": "LayoutModel",
      "state": {}
     },
     "c5a9cf582fff4a46aba64ce196341895": {
      "model_module": "@jupyter-widgets/controls",
      "model_module_version": "2.0.0",
      "model_name": "HTMLModel",
      "state": {
       "layout": "IPY_MODEL_5d8f2cebfcdb4ab4bd4d3481e7756fcc",
       "style": "IPY_MODEL_e11a2f0f24224750866e5bf066c8f20a"
      }
     },
     "c5bdca2cb8694a89bd5758cac5156ac8": {
      "model_module": "@jupyter-widgets/base",
      "model_module_version": "2.0.0",
      "model_name": "LayoutModel",
      "state": {}
     },
     "c60f637982e841bea841ac0f1f30e65f": {
      "model_module": "@jupyter-widgets/controls",
      "model_module_version": "2.0.0",
      "model_name": "ButtonStyleModel",
      "state": {
       "font_family": null,
       "font_size": null,
       "font_style": null,
       "font_variant": null,
       "font_weight": null,
       "text_color": null,
       "text_decoration": null
      }
     },
     "c77754ec0ad64052a8ff8d8b23c29317": {
      "model_module": "@jupyter-widgets/controls",
      "model_module_version": "2.0.0",
      "model_name": "ButtonModel",
      "state": {
       "description": "Resume",
       "disabled": true,
       "icon": "play",
       "layout": "IPY_MODEL_5bc4fe5c261145118e79d09dd420e839",
       "style": "IPY_MODEL_e9ffc307532d480eb8e4c798bddc2e19",
       "tooltip": "Start"
      }
     },
     "c78e940589d041d78f155a5edd8278ff": {
      "model_module": "@jupyter-widgets/controls",
      "model_module_version": "2.0.0",
      "model_name": "HTMLModel",
      "state": {
       "layout": "IPY_MODEL_dd6786f2653b4491bf0c3a8b0eddfac2",
       "style": "IPY_MODEL_86abe114ae3047e6b90cc93e4626b6ac"
      }
     },
     "c8621b0b8e79448da4ae8992c69a27da": {
      "model_module": "@jupyter-widgets/controls",
      "model_module_version": "2.0.0",
      "model_name": "DescriptionStyleModel",
      "state": {
       "description_width": ""
      }
     },
     "ca87f9d42a6f40bd8ff7ff287a7e0cfc": {
      "model_module": "@jupyter-widgets/base",
      "model_module_version": "2.0.0",
      "model_name": "LayoutModel",
      "state": {}
     },
     "cac4852bc7894b3b8e3ded67c79ed1f6": {
      "model_module": "@jupyter-widgets/controls",
      "model_module_version": "2.0.0",
      "model_name": "HTMLStyleModel",
      "state": {
       "description_width": "",
       "font_size": null,
       "text_color": null
      }
     },
     "cb7c07ac70124f938f9e6fabb4372db9": {
      "model_module": "@jupyter-widgets/controls",
      "model_module_version": "2.0.0",
      "model_name": "DropdownModel",
      "state": {
       "_options_labels": [
        "passenger_count:int64",
        "trip_distance:float64",
        "pickup_longitude:float64",
        "pickup_latitude:float64",
        "dropoff_longitude:float64",
        "dropoff_latitude:float64",
        ""
       ],
       "description": "X",
       "disabled": true,
       "index": 2,
       "layout": "IPY_MODEL_aabb7fe39ad548458976793e6a843239",
       "style": "IPY_MODEL_021b13adaa1b4fb4afee9864603e192a"
      }
     },
     "ce3f014ddfc74a67a1dc372de8debc6c": {
      "model_module": "@jupyter-widgets/base",
      "model_module_version": "2.0.0",
      "model_name": "LayoutModel",
      "state": {}
     },
     "cee7b99a69ac46c9b46cc79ba921c952": {
      "model_module": "@jupyter-widgets/controls",
      "model_module_version": "2.0.0",
      "model_name": "TextStyleModel",
      "state": {
       "description_width": "initial",
       "font_size": null,
       "text_color": null
      }
     },
     "cf25664153994aae9e3e4440fec050ab": {
      "model_module": "jupyter-progressivis",
      "model_module_version": "^0.1.0",
      "model_name": "JsonHTMLModel",
      "state": {
       "_model_module_version": "^0.1.0",
       "_view_module_version": "^0.1.0",
       "layout": "IPY_MODEL_4a795ea439b14be18a85d002ade08ef0"
      }
     },
     "cf7e580009d24cc2bb232132f07e9e9b": {
      "model_module": "@jupyter-widgets/base",
      "model_module_version": "2.0.0",
      "model_name": "LayoutModel",
      "state": {
       "width": "60%"
      }
     },
     "d0e07b3b51044aee8f9b7edf710c8a7d": {
      "model_module": "@jupyter-widgets/controls",
      "model_module_version": "2.0.0",
      "model_name": "HTMLModel",
      "state": {
       "layout": "IPY_MODEL_d3b817905ee048658664d1589b45e7d7",
       "style": "IPY_MODEL_16dac0ca53dc479bafa601c570fb63cd"
      }
     },
     "d1574ced22cb4bf1a10e7d84c4115b44": {
      "model_module": "@jupyter-widgets/base",
      "model_module_version": "2.0.0",
      "model_name": "LayoutModel",
      "state": {}
     },
     "d3b817905ee048658664d1589b45e7d7": {
      "model_module": "@jupyter-widgets/base",
      "model_module_version": "2.0.0",
      "model_name": "LayoutModel",
      "state": {}
     },
     "d5e677e87af142868eee098928234cf0": {
      "model_module": "@jupyter-widgets/controls",
      "model_module_version": "2.0.0",
      "model_name": "HTMLStyleModel",
      "state": {
       "description_width": "",
       "font_size": null,
       "text_color": null
      }
     },
     "d6a56b60250e41008b05e5a82db17379": {
      "model_module": "@jupyter-widgets/base",
      "model_module_version": "2.0.0",
      "model_name": "LayoutModel",
      "state": {
       "width": "100%"
      }
     },
     "d799b57373044d4fb7c16574fcb9ad99": {
      "model_module": "@jupyter-widgets/base",
      "model_module_version": "2.0.0",
      "model_name": "LayoutModel",
      "state": {}
     },
     "d7a61521bcb74a2ea505cea10ca39e4d": {
      "model_module": "@jupyter-widgets/controls",
      "model_module_version": "2.0.0",
      "model_name": "HBoxModel",
      "state": {
       "children": [
        "IPY_MODEL_58e0ccf7e8304ced826052c83c316327",
        "IPY_MODEL_c4c578020bb44e198756de32decef0e5",
        "IPY_MODEL_5360b8fdee5147388f6ba4373bb6edfd"
       ],
       "layout": "IPY_MODEL_df76bdd6168d44f8a17d4780f6edc056"
      }
     },
     "d7fec2989b5646fbb2739b2af4e3dccb": {
      "model_module": "@jupyter-widgets/controls",
      "model_module_version": "2.0.0",
      "model_name": "SliderStyleModel",
      "state": {
       "description_width": "initial"
      }
     },
     "d9eba2adc2b549a182443f498afa1b74": {
      "model_module": "@jupyter-widgets/controls",
      "model_module_version": "2.0.0",
      "model_name": "HTMLStyleModel",
      "state": {
       "description_width": "",
       "font_size": null,
       "text_color": null
      }
     },
     "da4b8cffb2084950b7abdd4407e82645": {
      "model_module": "@jupyter-widgets/base",
      "model_module_version": "2.0.0",
      "model_name": "LayoutModel",
      "state": {}
     },
     "da8ca344d81b429dae10152eaf369026": {
      "model_module": "@jupyter-widgets/base",
      "model_module_version": "2.0.0",
      "model_name": "LayoutModel",
      "state": {}
     },
     "dadba6a5b9264819b3c0fad0a44adccd": {
      "model_module": "@jupyter-widgets/controls",
      "model_module_version": "2.0.0",
      "model_name": "HTMLModel",
      "state": {
       "layout": "IPY_MODEL_2b6555b6cfbc45aa8ea4715325db2b08",
       "style": "IPY_MODEL_0b8701637dc54ff682c2164f2f53ca4e"
      }
     },
     "db60b200958344d9b54737eb0f43ffaa": {
      "model_module": "@jupyter-widgets/base",
      "model_module_version": "2.0.0",
      "model_name": "LayoutModel",
      "state": {}
     },
     "dbe2d3209ea94ebaaf15b7ad009def26": {
      "model_module": "@jupyter-widgets/base",
      "model_module_version": "2.0.0",
      "model_name": "LayoutModel",
      "state": {}
     },
     "dca154c149de4c9e9cb904c2276ba154": {
      "model_module": "@jupyter-widgets/controls",
      "model_module_version": "2.0.0",
      "model_name": "ButtonModel",
      "state": {
       "description": "Edit settings",
       "disabled": true,
       "icon": "check",
       "layout": "IPY_MODEL_0e9fb3ce9c044f3a9015fd38986b5f63",
       "style": "IPY_MODEL_f240e19e83cd403d9d8e5ecd01a05fcb",
       "tooltip": "Edit settings"
      }
     },
     "dd2abf41c26947678177d1c5d04a359e": {
      "model_module": "@jupyter-widgets/base",
      "model_module_version": "2.0.0",
      "model_name": "LayoutModel",
      "state": {}
     },
     "dd6786f2653b4491bf0c3a8b0eddfac2": {
      "model_module": "@jupyter-widgets/base",
      "model_module_version": "2.0.0",
      "model_name": "LayoutModel",
      "state": {}
     },
     "defe81ca39fc4d64a9ce87a6e0c47375": {
      "model_module": "@jupyter-widgets/base",
      "model_module_version": "2.0.0",
      "model_name": "LayoutModel",
      "state": {}
     },
     "df76bdd6168d44f8a17d4780f6edc056": {
      "model_module": "@jupyter-widgets/base",
      "model_module_version": "2.0.0",
      "model_name": "LayoutModel",
      "state": {}
     },
     "e0b89e49d6194c52b4efab5ae0cef88d": {
      "model_module": "@jupyter-widgets/controls",
      "model_module_version": "2.0.0",
      "model_name": "IntSliderModel",
      "state": {
       "behavior": "drag-tap",
       "continuous_update": false,
       "description": "Display T:",
       "layout": "IPY_MODEL_9d06e8b96b52482d95888bd8da38d38e",
       "max": 10,
       "min": 1,
       "style": "IPY_MODEL_d7fec2989b5646fbb2739b2af4e3dccb",
       "value": 1
      }
     },
     "e11a2f0f24224750866e5bf066c8f20a": {
      "model_module": "@jupyter-widgets/controls",
      "model_module_version": "2.0.0",
      "model_name": "HTMLStyleModel",
      "state": {
       "description_width": "",
       "font_size": null,
       "text_color": null
      }
     },
     "e2fc05a9c03a43c2a0b881b17f4cd830": {
      "model_module": "@jupyter-widgets/base",
      "model_module_version": "2.0.0",
      "model_name": "LayoutModel",
      "state": {}
     },
     "e4d72fa4d55344dbaf336a18b0dbc654": {
      "model_module": "@jupyter-widgets/controls",
      "model_module_version": "2.0.0",
      "model_name": "DropdownModel",
      "state": {
       "_options_labels": [
        "",
        "Aggregate",
        "Any Vega",
        "Descriptive_statistics",
        "Dump_table",
        "Facade",
        "Group by",
        "Heatmap",
        "Histogram1D",
        "Join",
        "MultiSeries",
        "Python",
        "Quantiles",
        "RangeQuery2D",
        "Scaler",
        "Scatterplot",
        "View",
        "CSV loader",
        "PARQUET loader",
        "CUSTOM loader"
       ],
       "description": "Next stage",
       "index": 7,
       "layout": "IPY_MODEL_dd2abf41c26947678177d1c5d04a359e",
       "style": "IPY_MODEL_13e04958a47140c7b5a9ca161ca6caaa"
      }
     },
     "e694b6169f5442b3bf84d1a79d26abf4": {
      "model_module": "@jupyter-widgets/controls",
      "model_module_version": "2.0.0",
      "model_name": "HTMLModel",
      "state": {
       "layout": "IPY_MODEL_b0d1cfa1b6934d69b14651fdab02d6fb",
       "style": "IPY_MODEL_c0112cf4e66f4ad990d8d83960af9dff",
       "value": "<img src='data:image/png;base64,iVBORw0KGgoAAAANSUhEUgAAAgAAAAIAEAAAAACBg1dlAAADgElEQVR4nO3dMW4TQRQG4DEKpBkpSCshF6lQUKT0dEhI6dJQRQJquik4Ro6QnIBuL5BI5AY0uKGkREju3LgKBUoDdoiB3Tfe/b7aa/+F38ybmdVuSgAAAAAAAAAAAAAAAAAAAAAAAAAAAAAA/I1cohMAAAAAAAAAf+BYD6qkNAEAAAAAAAAAAAAAAAAAAABgUDxSBAAAAAAAAAAAAAAAAAAAAAAAAAAAAAAAAAAAAAAAYnnXMAAAAAAA9MWuPHAHQwQAAAAAkFKyWQgAQ2JeBwAAAIDRmc6iEwDhnA/QtQfRAcZk84I2BNCtSXQA1sll93h5ndLu8fw0OgtDZQCoVNM+PNw7S2n58ev36CwMlyVAbzZr5+ene2dPnj2e3Jb/6qstEfg3BoDeLM43+XTT7k/ePloe3Bb56qs3+05gSzTtq5c3N29enHxLyUzPffmnDEIu09m7nU/vL6/3P0dnAXr39MvzD6+PTnaM6HTJKUClprPFhTU+XbMJWKFccllcKH4Yid8b/VxyadpcopcA0b8Po7LuvL9p+04CBPo5FJiBYVSUPABwX/oGANhe5nEAAAAAAAAAANhybgICANbTKQAAAAAAAED1HOsBUD/vp6mHzgEGbDqLTgAA9EVjDyOk8AGA/0VfAQAAAAAANbBjDwCsp1MAgO1mLgcAgNGzLAAAAFayWAAAAAAAAAAAAAAAAAAAAAAAAAAAAAAAAAAAAAAAAAAAAAAAAAAAAAAAAAAAAKAOuUQnAAAAAAAAAAAAAAAAAAAAAAAAAAAAAAAAAAAAAAAAAAAAAAAAAAAAAAAAAAAAAAAAAAAAAAAAAAAAAAAAAAAAAAAAAAAAAAAAAAAAAAAAAAAAAACgZrlEJwAAAAAAAAAAAAAAAAAAAACATnnEBgAAAAAAAABwF/cWAAAAAAAAAAAAAAAAAAAAAAAAAAAAAAAAAAAAAAAAAAAAAAAAAAAAAAAAAAAAAAAAAAAAAAAAAAAAAAAAAAAAAAAAAAAAAAAAAAAAAAAAAAAAAAAAAAAAAAAAAAAAAAAAAAAAAAAAAAAAAAAAAAAAAAAAAAAAAAAAAAAAAAAAAAAAdcklOgEAAAAAAAAAAAAAAAAAAAAAAAAAAAAAAAAAAAAAAAAAAAAAAAAAAAAAAAAAAECQq3l0AgAAAAAAAAAAAAAAAAAAAAAAAAAAAADgFz8ABBtFWEIuwRsAAAAASUVORK5CYII='/>"
      }
     },
     "e75d5592dd8a45aab03969ad6facf2e8": {
      "model_module": "@jupyter-widgets/controls",
      "model_module_version": "2.0.0",
      "model_name": "HTMLModel",
      "state": {
       "layout": "IPY_MODEL_da4b8cffb2084950b7abdd4407e82645",
       "style": "IPY_MODEL_59e6ec554f6d4ec8ad27d878b0737931"
      }
     },
     "e8bc4bf84d36427da92cd6643a2ad9bf": {
      "model_module": "@jupyter-widgets/base",
      "model_module_version": "2.0.0",
      "model_name": "LayoutModel",
      "state": {}
     },
     "e9ffb6e909e34b4ca91de2a2533a2df7": {
      "model_module": "@jupyter-widgets/controls",
      "model_module_version": "2.0.0",
      "model_name": "HTMLModel",
      "state": {
       "layout": "IPY_MODEL_5723919522f048769a8f77123deaa195",
       "style": "IPY_MODEL_0652ac6dfcd246d79ac9c9d48aa9e7a7"
      }
     },
     "e9ffc307532d480eb8e4c798bddc2e19": {
      "model_module": "@jupyter-widgets/controls",
      "model_module_version": "2.0.0",
      "model_name": "ButtonStyleModel",
      "state": {
       "font_family": null,
       "font_size": null,
       "font_style": null,
       "font_variant": null,
       "font_weight": null,
       "text_color": null,
       "text_decoration": null
      }
     },
     "ea4cbad3e8714f86aae9bd216d4d1669": {
      "model_module": "@jupyter-widgets/controls",
      "model_module_version": "2.0.0",
      "model_name": "ProgressStyleModel",
      "state": {
       "description_width": "initial"
      }
     },
     "efe07628761947f4a93e586f78bc6e1d": {
      "model_module": "@jupyter-widgets/controls",
      "model_module_version": "2.0.0",
      "model_name": "HTMLModel",
      "state": {
       "layout": "IPY_MODEL_77d6ae7230f24a0e95729ec19a82cabd",
       "style": "IPY_MODEL_160689e5a46344ca8f4f0209093048bb"
      }
     },
     "f23e0d3a9a4f4aac951663998e4a7e5f": {
      "model_module": "@jupyter-widgets/base",
      "model_module_version": "2.0.0",
      "model_name": "LayoutModel",
      "state": {}
     },
     "f240e19e83cd403d9d8e5ecd01a05fcb": {
      "model_module": "@jupyter-widgets/controls",
      "model_module_version": "2.0.0",
      "model_name": "ButtonStyleModel",
      "state": {
       "font_family": null,
       "font_size": null,
       "font_style": null,
       "font_variant": null,
       "font_weight": null,
       "text_color": null,
       "text_decoration": null
      }
     },
     "f4465293b10f48109807196cb258b742": {
      "model_module": "jupyter-progressivis",
      "model_module_version": "^0.1.0",
      "model_name": "ModuleGraphModel",
      "state": {
       "_model_module_version": "^0.1.0",
       "_view_module_version": "^0.1.0",
       "data": "{}",
       "layout": "IPY_MODEL_86514d4f233f40adb7f4ef235e453cef"
      }
     },
     "f493bfe391d248ba89c67dabb1c949a9": {
      "model_module": "@jupyter-widgets/controls",
      "model_module_version": "2.0.0",
      "model_name": "HTMLModel",
      "state": {
       "layout": "IPY_MODEL_1d6f4ec03b374857ba51349f136a2d08",
       "style": "IPY_MODEL_d9eba2adc2b549a182443f498afa1b74"
      }
     },
     "f4dce80884634d8a8a06aba9ae83627c": {
      "model_module": "@jupyter-widgets/base",
      "model_module_version": "2.0.0",
      "model_name": "LayoutModel",
      "state": {}
     },
     "f5842e90260248fcb09f4b5853cd94f6": {
      "model_module": "@jupyter-widgets/base",
      "model_module_version": "2.0.0",
      "model_name": "LayoutModel",
      "state": {}
     },
     "f6487461987d48a8ab9937dcd6bd2671": {
      "model_module": "@jupyter-widgets/controls",
      "model_module_version": "2.0.0",
      "model_name": "LabelModel",
      "state": {
       "layout": "IPY_MODEL_c43e78f95fbe4b95b94dc2f530c4499a",
       "style": "IPY_MODEL_3304def0cdd84d7bbff652da78fe7771"
      }
     },
     "f70aaba3327e40788d9b4921fcbe3ff0": {
      "model_module": "@jupyter-widgets/controls",
      "model_module_version": "2.0.0",
      "model_name": "TextModel",
      "state": {
       "layout": "IPY_MODEL_2be817a0a9064f1baa78e3caa1725319",
       "placeholder": "optional alias",
       "style": "IPY_MODEL_cee7b99a69ac46c9b46cc79ba921c952"
      }
     },
     "f7613365a49344c9878a39a17a2b3fea": {
      "model_module": "@jupyter-widgets/base",
      "model_module_version": "2.0.0",
      "model_name": "LayoutModel",
      "state": {}
     },
     "f9069e6f7fc0435eba07f91141e54ed2": {
      "model_module": "@jupyter-widgets/controls",
      "model_module_version": "2.0.0",
      "model_name": "HTMLModel",
      "state": {
       "layout": "IPY_MODEL_1e4b597494ec449d8a0fa5f1543a15c4",
       "style": "IPY_MODEL_27b7a1fd78974b9ea6b95e9f1d2a9b5f"
      }
     },
     "f90862a893f34b5bb4fe412da413cecd": {
      "model_module": "@jupyter-widgets/controls",
      "model_module_version": "2.0.0",
      "model_name": "HTMLStyleModel",
      "state": {
       "description_width": "",
       "font_size": null,
       "text_color": null
      }
     },
     "f90bb76342b049919bf40e2708de85f5": {
      "model_module": "@jupyter-widgets/controls",
      "model_module_version": "2.0.0",
      "model_name": "ButtonStyleModel",
      "state": {
       "font_family": null,
       "font_size": null,
       "font_style": null,
       "font_variant": null,
       "font_weight": null,
       "text_color": null,
       "text_decoration": null
      }
     },
     "f99a0481b2ae4de1837980259dfe5125": {
      "model_module": "@jupyter-widgets/base",
      "model_module_version": "2.0.0",
      "model_name": "LayoutModel",
      "state": {}
     },
     "f9cf414fedd84abbb9e838aa5a3ea6cd": {
      "model_module": "@jupyter-widgets/controls",
      "model_module_version": "2.0.0",
      "model_name": "ButtonModel",
      "state": {
       "description": "Chain it",
       "icon": "check",
       "layout": "IPY_MODEL_db60b200958344d9b54737eb0f43ffaa",
       "style": "IPY_MODEL_1e053c9b8ab043ac8b4c2053d3e81ab0",
       "tooltip": "Chain it"
      }
     },
     "f9db322babb74b13b9a760e5f4d5ce10": {
      "model_module": "@jupyter-widgets/controls",
      "model_module_version": "2.0.0",
      "model_name": "DropdownModel",
      "state": {
       "_options_labels": [
        "passenger_count:int64",
        "trip_distance:float64",
        "pickup_longitude:float64",
        "pickup_latitude:float64",
        "dropoff_longitude:float64",
        "dropoff_latitude:float64",
        ""
       ],
       "description": "Y",
       "disabled": true,
       "index": 3,
       "layout": "IPY_MODEL_69d812ba65974e85a0d185dc6b497bb3",
       "style": "IPY_MODEL_17a97332d01b47edb7e427bcbefcdc26"
      }
     },
     "fbc279bf90224261a22095824a103ca7": {
      "model_module": "@jupyter-widgets/controls",
      "model_module_version": "2.0.0",
      "model_name": "SliderStyleModel",
      "state": {
       "description_width": "initial"
      }
     },
     "fbe74b023054465cb2abfe7582bbc905": {
      "model_module": "@jupyter-widgets/controls",
      "model_module_version": "2.0.0",
      "model_name": "CheckboxModel",
      "state": {
       "description": "Record this scenario",
       "disabled": true,
       "layout": "IPY_MODEL_2f36a644b4554350985cd44e9ba6eeec",
       "style": "IPY_MODEL_0fe6a17946264d76936975c4a5379434",
       "value": true
      }
     },
     "fdb81ca2a212453a9b5bd912fd524fa7": {
      "model_module": "@jupyter-widgets/controls",
      "model_module_version": "2.0.0",
      "model_name": "CheckboxModel",
      "state": {
       "description": "Shuffle URLs",
       "disabled": true,
       "layout": "IPY_MODEL_162eca5c4ad744358d9d2a1761133f82",
       "style": "IPY_MODEL_91e4896607fa4326bbfaca7e86cc3499",
       "value": true
      }
     },
     "fe6a58a4a7a644e0874eba71282f1d3f": {
      "model_module": "@jupyter-widgets/controls",
      "model_module_version": "2.0.0",
      "model_name": "HTMLStyleModel",
      "state": {
       "description_width": "",
       "font_size": null,
       "text_color": null
      }
     },
     "fe9d2f63e912453683962a5f19cfdd04": {
      "model_module": "@jupyter-widgets/controls",
      "model_module_version": "2.0.0",
      "model_name": "CheckboxModel",
      "state": {
       "description": "Active",
       "disabled": false,
       "layout": "IPY_MODEL_72df31764df04fa8b05a1f2e42a84c64",
       "style": "IPY_MODEL_947ee344f2b34b47b974ba94cd62da11",
       "value": true
      }
     }
    },
    "version_major": 2,
    "version_minor": 0
   }
  }
 },
 "nbformat": 4,
 "nbformat_minor": 5
}
