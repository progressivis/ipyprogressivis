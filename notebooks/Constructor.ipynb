{
 "cells": [
  {
   "cell_type": "code",
   "execution_count": 1,
   "id": "7317404e-44d0-4f91-9d77-63903bdfc5af",
   "metadata": {
    "tags": []
   },
   "outputs": [],
   "source": [
    "import ipydagwidget\n",
    "from sidecar import Sidecar\n",
    "wo = Sidecar(title='Widgets Output')\n",
    "manager = ipydagwidget.DagWidgetController()\n",
    "#manager = DagWidgetController()\n",
    "import ipywidgets as widgets\n",
    "with wo:\n",
    "    display(manager)"
   ]
  },
  {
   "cell_type": "code",
   "execution_count": 2,
   "id": "fleet-final",
   "metadata": {
    "tags": []
   },
   "outputs": [
    {
     "name": "stdout",
     "output_type": "stream",
     "text": [
      "no doc\n",
      "finalize: nothing to do on <class 'progressivis.io.simple_csv_loader.SimpleCSVLoader'>\n",
      "params doc <class 'progressivis.io.simple_csv_loader.SimpleCSVLoader'> {}\n",
      "finalize: nothing to do on <class 'progressivis.table.constant.Constant'>\n",
      "params doc <class 'progressivis.table.constant.Constant'> {}\n",
      "finalize: nothing to do on <class 'progressivis.stats.sample.Sample'>\n",
      "params doc <class 'progressivis.stats.sample.Sample'> {}\n",
      "finalize: nothing to do on <class 'progressivis.table.hist_index.HistogramIndex'>\n",
      "params doc <class 'progressivis.table.hist_index.HistogramIndex'> {}\n",
      "finalize: nothing to do on <class 'progressivis.table.range_query_2d.RangeQuery2d'>\n",
      "params doc <class 'progressivis.table.range_query_2d.RangeQuery2d'> {}\n",
      "finalize: nothing to do on <class 'progressivis.table.range_query.RangeQuery'>\n",
      "params doc <class 'progressivis.table.range_query.RangeQuery'> {}\n"
     ]
    },
    {
     "data": {
      "application/vnd.jupyter.widget-view+json": {
       "model_id": "1234917273e749a98b8caf4914de22af",
       "version_major": 2,
       "version_minor": 0
      },
      "text/plain": [
       "Constructor(children=(HTML(value=\"<h2 id='prog_139922837070800'>root</h2>\"), Button(description='Start schedul…"
      ]
     },
     "metadata": {},
     "output_type": "display_data"
    }
   ],
   "source": [
    "from ipyprogressivis.nbwidgets import cleanup_cells, Constructor, PsBoard\n",
    "cleanup_cells(manager)\n",
    "cons = Constructor(manager)\n",
    "mo = Sidecar(title='Modules Output')\n",
    "display(cons)\n",
    "with mo:\n",
    "    display(PsBoard(cons.scheduler))"
   ]
  },
  {
   "cell_type": "code",
   "execution_count": null,
   "id": "854272ae-8e25-4685-b64a-ebd3708414af",
   "metadata": {
    "tags": []
   },
   "outputs": [],
   "source": [
    "cons.scheduler.to_json(short=False)"
   ]
  },
  {
   "cell_type": "markdown",
   "id": "18953226-5296-4a42-9a78-69a0527551a4",
   "metadata": {
    "deletable": false,
    "editable": false,
    "progressivis_tag": "139922798025872",
    "tags": []
   },
   "source": [
    "## Taxis"
   ]
  },
  {
   "cell_type": "code",
   "execution_count": 3,
   "id": "842fe770-2b15-42f0-9398-e8150ec86846",
   "metadata": {
    "deletable": false,
    "editable": false,
    "progressivis_tag": "139922798025872",
    "tags": []
   },
   "outputs": [
    {
     "data": {
      "application/vnd.jupyter.widget-view+json": {
       "model_id": "37bc0b9ee20d46d89247ac1bc559e57b",
       "version_major": 2,
       "version_minor": 0
      },
      "text/plain": [
       "NodeCarrier(children=(CsvLoaderW(children=(Textarea(value='/home/poli/JDF2016/github/weather-us/nyc_2015.csv /…"
      ]
     },
     "execution_count": 3,
     "metadata": {},
     "output_type": "execute_result"
    }
   ],
   "source": [
    "Constructor.widget('Taxis')"
   ]
  }
 ],
 "metadata": {
  "celltoolbar": "Éditer les Méta-Données",
  "hide_input": false,
  "kernelspec": {
   "display_name": "Python 3 (ipykernel)",
   "language": "python",
   "name": "python3"
  },
  "language_info": {
   "codemirror_mode": {
    "name": "ipython",
    "version": 3
   },
   "file_extension": ".py",
   "mimetype": "text/x-python",
   "name": "python",
   "nbconvert_exporter": "python",
   "pygments_lexer": "ipython3",
   "version": "3.11.3"
  },
  "latex_envs": {
   "LaTeX_envs_menu_present": true,
   "autoclose": false,
   "autocomplete": true,
   "bibliofile": "biblio.bib",
   "cite_by": "apalike",
   "current_citInitial": 1,
   "eqLabelWithNumbers": true,
   "eqNumInitial": 1,
   "hotkeys": {
    "equation": "Ctrl-E",
    "itemize": "Ctrl-I"
   },
   "labels_anchors": false,
   "latex_user_defs": false,
   "report_style_numbering": false,
   "user_envs_cfg": false
  },
  "toc": {
   "base_numbering": 1,
   "nav_menu": {},
   "number_sections": false,
   "sideBar": true,
   "skip_h1_title": true,
   "title_cell": "PTable of Contents",
   "title_sidebar": "Contents",
   "toc_cell": false,
   "toc_position": {
    "height": "836.875px",
    "left": "59px",
    "top": "111.125px",
    "width": "340px"
   },
   "toc_section_display": true,
   "toc_window_display": true
  },
  "toc-showtags": false,
  "widgets": {
   "application/vnd.jupyter.widget-state+json": {
    "state": {
     "0055024a874f4e9f82f143966f791781": {
      "model_module": "@jupyter-widgets/controls",
      "model_module_version": "2.0.0",
      "model_name": "TextModel",
      "state": {
       "description": "Unique vals:",
       "layout": "IPY_MODEL_9fb6e01075024e0fa8e07598bf27d75b",
       "style": "IPY_MODEL_e98c261f7e784249a277fb132b1c6916",
       "value": "1/99"
      }
     },
     "00621d52d2534b65a8d6cac71bc86723": {
      "model_module": "@jupyter-widgets/base",
      "model_module_version": "2.0.0",
      "model_name": "LayoutModel",
      "state": {}
     },
     "00914bf37d07417fadf666963d55f84a": {
      "model_module": "@jupyter-widgets/controls",
      "model_module_version": "2.0.0",
      "model_name": "TextModel",
      "state": {
       "description": "Type:",
       "disabled": true,
       "layout": "IPY_MODEL_5db55f7afa1749ebb7708a0da3598385",
       "style": "IPY_MODEL_b2dabb861fe243cdbacf16ac952200cb",
       "value": "float64"
      }
     },
     "0093d3845b534f089ae1d97d654a6d00": {
      "model_module": "@jupyter-widgets/base",
      "model_module_version": "2.0.0",
      "model_name": "LayoutModel",
      "state": {}
     },
     "009e38276141421e9e5868d5dc88540b": {
      "model_module": "@jupyter-widgets/controls",
      "model_module_version": "2.0.0",
      "model_name": "CheckboxModel",
      "state": {
       "description": "NA values",
       "disabled": false,
       "layout": "IPY_MODEL_3e3cad1b15d24dbd904a110114e171bf",
       "style": "IPY_MODEL_f1d8b0ae23fa4176944ec1ae5ea02a3b",
       "value": false
      }
     },
     "00b703fa0be64dea8c8ba1140db0474e": {
      "model_module": "@jupyter-widgets/controls",
      "model_module_version": "2.0.0",
      "model_name": "TextStyleModel",
      "state": {
       "description_width": "",
       "font_size": null,
       "text_color": null
      }
     },
     "00bd79dd71634c708bc59fba7dda7b40": {
      "model_module": "@jupyter-widgets/controls",
      "model_module_version": "2.0.0",
      "model_name": "TextModel",
      "state": {
       "description": "Type:",
       "disabled": true,
       "layout": "IPY_MODEL_d9ff750cedbc4ce9a929b97fbcd2cafc",
       "style": "IPY_MODEL_61f00fa6ec1b422f94b5b2aa2fa748ba",
       "value": "int64"
      }
     },
     "00d3af2f8fbb46c3b4d865bc1c8a7d9c": {
      "model_module": "@jupyter-widgets/controls",
      "model_module_version": "2.0.0",
      "model_name": "LabelModel",
      "state": {
       "layout": "IPY_MODEL_ac03aebeff254fb5919d6ae6cc446757",
       "style": "IPY_MODEL_051119b99f9f4a4ab58c69b91416ed57",
       "value": "dongle"
      }
     },
     "00e44a6e478f4f9da7f20367b35c39dd": {
      "model_module": "@jupyter-widgets/controls",
      "model_module_version": "2.0.0",
      "model_name": "TextStyleModel",
      "state": {
       "description_width": "",
       "font_size": null,
       "text_color": null
      }
     },
     "01196ccb4b6b48449e88f5adb76e58d3": {
      "model_module": "@jupyter-widgets/controls",
      "model_module_version": "2.0.0",
      "model_name": "TextModel",
      "state": {
       "description": "Unique vals:",
       "layout": "IPY_MODEL_fb4055a0b9e94729af7cd42651b6d596",
       "style": "IPY_MODEL_c0cdab4da55c4db281b930970a774892",
       "value": "39/99"
      }
     },
     "012622a37397427e9c7b3f88a7fddcbf": {
      "model_module": "@jupyter-widgets/base",
      "model_module_version": "2.0.0",
      "model_name": "LayoutModel",
      "state": {}
     },
     "0146ecaede4441eaa8f7417728722d9a": {
      "model_module": "@jupyter-widgets/controls",
      "model_module_version": "2.0.0",
      "model_name": "CheckboxStyleModel",
      "state": {
       "description_width": ""
      }
     },
     "015fcee8dd54438fa1e2aaddebcd61df": {
      "model_module": "@jupyter-widgets/controls",
      "model_module_version": "2.0.0",
      "model_name": "TextModel",
      "state": {
       "description": "Rename:",
       "layout": "IPY_MODEL_b4a2a16eaa4b4b9398c27f3d945acbb8",
       "style": "IPY_MODEL_b32700c62e7246be89eac1b28a9a9708",
       "value": "pickup_longitude"
      }
     },
     "016e96bd01274a7b9ec5613c799a6ab3": {
      "model_module": "@jupyter-widgets/base",
      "model_module_version": "2.0.0",
      "model_name": "LayoutModel",
      "state": {}
     },
     "01aa119d6253414485d674a46504825f": {
      "model_module": "@jupyter-widgets/controls",
      "model_module_version": "2.0.0",
      "model_name": "TextModel",
      "state": {
       "description": "Type:",
       "disabled": true,
       "layout": "IPY_MODEL_bc39052c52604474920945bfd2f2ea22",
       "style": "IPY_MODEL_043effe3bf6641819bdbd16ab0ded632",
       "value": "float64"
      }
     },
     "01f54d6269ab475096faf2c2687180d9": {
      "model_module": "@jupyter-widgets/controls",
      "model_module_version": "2.0.0",
      "model_name": "TextStyleModel",
      "state": {
       "description_width": "",
       "font_size": null,
       "text_color": null
      }
     },
     "01f65a51fb244a7fabfeb5808b492178": {
      "model_module": "@jupyter-widgets/controls",
      "model_module_version": "2.0.0",
      "model_name": "DescriptionStyleModel",
      "state": {
       "description_width": ""
      }
     },
     "0234c5971e5646459f0179ee2ca9704b": {
      "model_module": "@jupyter-widgets/base",
      "model_module_version": "2.0.0",
      "model_name": "LayoutModel",
      "state": {}
     },
     "023d4279801040db8bb481bbe4df6536": {
      "model_module": "@jupyter-widgets/controls",
      "model_module_version": "2.0.0",
      "model_name": "TextModel",
      "state": {
       "description": "NA values:",
       "layout": "IPY_MODEL_63e197cf49564e2696a0d744a54a92fb",
       "style": "IPY_MODEL_2070df4a72b546d7a986b5f4ab8ae24f"
      }
     },
     "027ccaea2f8d4eefa71fd2fa94a55835": {
      "model_module": "@jupyter-widgets/controls",
      "model_module_version": "2.0.0",
      "model_name": "DescriptionStyleModel",
      "state": {
       "description_width": ""
      }
     },
     "029a12ff4ba34cc3958d317a69f89c25": {
      "model_module": "@jupyter-widgets/controls",
      "model_module_version": "2.0.0",
      "model_name": "CheckboxStyleModel",
      "state": {
       "description_width": ""
      }
     },
     "02c378ecd2934dcbb60a095bd4320d13": {
      "model_module": "@jupyter-widgets/controls",
      "model_module_version": "2.0.0",
      "model_name": "TextModel",
      "state": {
       "description": "Unique vals:",
       "layout": "IPY_MODEL_8a446831e3b74cbe8a25e2a1d55f9415",
       "style": "IPY_MODEL_0bfe1c6f8b2f4ddca14172013e437f54",
       "value": "3/99"
      }
     },
     "02c77f1a2a374ea98337806241467578": {
      "model_module": "@jupyter-widgets/base",
      "model_module_version": "2.0.0",
      "model_name": "LayoutModel",
      "state": {}
     },
     "02d37a8d509740dc8d6a9877d3dd7469": {
      "model_module": "@jupyter-widgets/controls",
      "model_module_version": "2.0.0",
      "model_name": "DropdownModel",
      "state": {
       "_options_labels": [
        "int8",
        "uint8",
        "int16",
        "uint16",
        "int32",
        "int64",
        "uint32",
        "uint64",
        "float32",
        "float64",
        "str"
       ],
       "description": "Retype:",
       "disabled": true,
       "index": 9,
       "layout": "IPY_MODEL_21e1ba1c4bcf4caeafa24a28988a42f3",
       "style": "IPY_MODEL_01f65a51fb244a7fabfeb5808b492178"
      }
     },
     "02fb36b5bdf04069aa238a2e29843a07": {
      "model_module": "@jupyter-widgets/controls",
      "model_module_version": "2.0.0",
      "model_name": "CheckboxModel",
      "state": {
       "description": "Use",
       "disabled": false,
       "layout": "IPY_MODEL_5828d0db443946cc879325fcde5137b7",
       "style": "IPY_MODEL_343da79e15b74d5cb0d400ad84ba7c04",
       "value": true
      }
     },
     "030b8191cdd24498b7511858627c3f39": {
      "model_module": "@jupyter-widgets/controls",
      "model_module_version": "2.0.0",
      "model_name": "CheckboxModel",
      "state": {
       "description": "NA values",
       "disabled": false,
       "layout": "IPY_MODEL_f6aab19d2eee4c9391853c4d05c89535",
       "style": "IPY_MODEL_17be1039e3304165ba9cc10d31e28afa",
       "value": false
      }
     },
     "033ae55185044a74a158dcd17fdea38c": {
      "model_module": "@jupyter-widgets/controls",
      "model_module_version": "2.0.0",
      "model_name": "TextStyleModel",
      "state": {
       "description_width": "",
       "font_size": null,
       "text_color": null
      }
     },
     "034e6854d58c41bc832601f5eaed4bc4": {
      "model_module": "@jupyter-widgets/controls",
      "model_module_version": "2.0.0",
      "model_name": "TextStyleModel",
      "state": {
       "description_width": "",
       "font_size": null,
       "text_color": null
      }
     },
     "03509277f96443539d3f53ccd5ea5663": {
      "model_module": "@jupyter-widgets/base",
      "model_module_version": "2.0.0",
      "model_name": "LayoutModel",
      "state": {}
     },
     "03a9d9b05ce84f5c89bfcd2c99d861ae": {
      "model_module": "@jupyter-widgets/controls",
      "model_module_version": "2.0.0",
      "model_name": "HTMLStyleModel",
      "state": {
       "description_width": "",
       "font_size": null,
       "text_color": null
      }
     },
     "03abd6ca71434ce187d16863de6eb6d9": {
      "model_module": "@jupyter-widgets/controls",
      "model_module_version": "2.0.0",
      "model_name": "TextStyleModel",
      "state": {
       "description_width": "",
       "font_size": null,
       "text_color": null
      }
     },
     "03c6ed1146444b278eaf6651c188d226": {
      "model_module": "@jupyter-widgets/controls",
      "model_module_version": "2.0.0",
      "model_name": "TextModel",
      "state": {
       "description": "Type:",
       "disabled": true,
       "layout": "IPY_MODEL_3503f1af74424247b979fb717d25b905",
       "style": "IPY_MODEL_abe20089c7564909a5cf7c717a65a378",
       "value": "object"
      }
     },
     "03d2a494e432482d8cb03a75dee1b7f6": {
      "model_module": "@jupyter-widgets/controls",
      "model_module_version": "2.0.0",
      "model_name": "CheckboxStyleModel",
      "state": {
       "description_width": ""
      }
     },
     "03d435ab62ba48f6aad084f36a53a113": {
      "model_module": "@jupyter-widgets/controls",
      "model_module_version": "2.0.0",
      "model_name": "VBoxModel",
      "state": {
       "children": [
        "IPY_MODEL_7c6f6f7d08c540728a757565f634f6fe",
        "IPY_MODEL_1575768826a4487fb894eb9e77307d51",
        "IPY_MODEL_e8ce69ff69724da0a3887b3ece2d9f29",
        "IPY_MODEL_dc3e93cf22c1424891938614893bf6b3",
        "IPY_MODEL_a82d760e500c45ebb4b67b70bc0cdb23",
        "IPY_MODEL_48c60a21fc5c42c9a374c7b3c19d4ba9",
        "IPY_MODEL_4149b229265d4f66926690a8833ffe22"
       ],
       "layout": "IPY_MODEL_74f0a3798d9d424591ea1161ac69619d"
      }
     },
     "03e1306e724f47d9ab893067cc348d11": {
      "model_module": "@jupyter-widgets/base",
      "model_module_version": "2.0.0",
      "model_name": "LayoutModel",
      "state": {}
     },
     "04068212dca44b7c99b6d859b7dbe258": {
      "model_module": "@jupyter-widgets/controls",
      "model_module_version": "2.0.0",
      "model_name": "TextStyleModel",
      "state": {
       "description_width": "",
       "font_size": null,
       "text_color": null
      }
     },
     "043effe3bf6641819bdbd16ab0ded632": {
      "model_module": "@jupyter-widgets/controls",
      "model_module_version": "2.0.0",
      "model_name": "TextStyleModel",
      "state": {
       "description_width": "",
       "font_size": null,
       "text_color": null
      }
     },
     "044e293f3ec44832bc994a96b37f53c3": {
      "model_module": "@jupyter-widgets/controls",
      "model_module_version": "2.0.0",
      "model_name": "TextModel",
      "state": {
       "description": "Separator:",
       "disabled": true,
       "layout": "IPY_MODEL_d62a3b920c97497897a55adec585870f",
       "placeholder": "if many values",
       "style": "IPY_MODEL_cbbd33ff656945889d18c2df4fad7347"
      }
     },
     "045ac2be51b1467ca924ec693311cfb8": {
      "model_module": "@jupyter-widgets/base",
      "model_module_version": "2.0.0",
      "model_name": "LayoutModel",
      "state": {}
     },
     "04a63e3959304f0ea6f5e846eff9bf6c": {
      "model_module": "@jupyter-widgets/base",
      "model_module_version": "2.0.0",
      "model_name": "LayoutModel",
      "state": {}
     },
     "04ab01f17c6543e08effbf512dcba1ab": {
      "model_module": "@jupyter-widgets/controls",
      "model_module_version": "2.0.0",
      "model_name": "TextStyleModel",
      "state": {
       "description_width": "",
       "font_size": null,
       "text_color": null
      }
     },
     "04e2183c033146d48dd48381bf0791fc": {
      "model_module": "@jupyter-widgets/controls",
      "model_module_version": "2.0.0",
      "model_name": "TextStyleModel",
      "state": {
       "description_width": "",
       "font_size": null,
       "text_color": null
      }
     },
     "04f6b72bc04749cf90f37849bf193a50": {
      "model_module": "@jupyter-widgets/base",
      "model_module_version": "2.0.0",
      "model_name": "LayoutModel",
      "state": {}
     },
     "051119b99f9f4a4ab58c69b91416ed57": {
      "model_module": "@jupyter-widgets/controls",
      "model_module_version": "2.0.0",
      "model_name": "LabelStyleModel",
      "state": {
       "description_width": "",
       "font_family": null,
       "font_size": null,
       "font_style": null,
       "font_variant": null,
       "font_weight": null,
       "text_color": null,
       "text_decoration": null
      }
     },
     "0515a19cd84f4fa3847ffc2908920d50": {
      "model_module": "@jupyter-widgets/controls",
      "model_module_version": "2.0.0",
      "model_name": "TextStyleModel",
      "state": {
       "description_width": "",
       "font_size": null,
       "text_color": null
      }
     },
     "0525de2f5cfa410aac0429bc25a1ff8e": {
      "model_module": "@jupyter-widgets/controls",
      "model_module_version": "2.0.0",
      "model_name": "TabModel",
      "state": {
       "children": [
        "IPY_MODEL_c88140f8cf9040cb85c0bbd1c85270eb",
        "IPY_MODEL_736adbb7cd364aa4a5aef0cbdd5e390f"
       ],
       "layout": "IPY_MODEL_8620f6ccf9164d7b8e6635a9aad4cf79",
       "selected_index": 0,
       "titles": [
        "Modules",
        "Module graph"
       ]
      }
     },
     "05ad4e45b3ba42f2b22ec1390940b9a2": {
      "model_module": "@jupyter-widgets/base",
      "model_module_version": "2.0.0",
      "model_name": "LayoutModel",
      "state": {}
     },
     "05b0c398eca3498496dfc8d7e91b8ee5": {
      "model_module": "@jupyter-widgets/controls",
      "model_module_version": "2.0.0",
      "model_name": "TextStyleModel",
      "state": {
       "description_width": "",
       "font_size": null,
       "text_color": null
      }
     },
     "061b7c3b05f5409db76c531519943487": {
      "model_module": "@jupyter-widgets/controls",
      "model_module_version": "2.0.0",
      "model_name": "CheckboxStyleModel",
      "state": {
       "description_width": ""
      }
     },
     "0620a03d0f5f4434b3f7528a8136c1ae": {
      "model_module": "@jupyter-widgets/base",
      "model_module_version": "2.0.0",
      "model_name": "LayoutModel",
      "state": {}
     },
     "0642bb80ad674cc38d6311d36a350488": {
      "model_module": "@jupyter-widgets/controls",
      "model_module_version": "2.0.0",
      "model_name": "CheckboxModel",
      "state": {
       "description": "NA values",
       "disabled": false,
       "layout": "IPY_MODEL_61607e8ed50e4ce1aad905fc08fbd065",
       "style": "IPY_MODEL_195f86cc26c64e5081f3ee042c7228ca",
       "value": false
      }
     },
     "06917a3bfb2d4a87931be598e81a4ad9": {
      "model_module": "@jupyter-widgets/base",
      "model_module_version": "2.0.0",
      "model_name": "LayoutModel",
      "state": {}
     },
     "069672064a404a7c9f8fbd5144801868": {
      "model_module": "@jupyter-widgets/base",
      "model_module_version": "2.0.0",
      "model_name": "LayoutModel",
      "state": {}
     },
     "06a7a070ec5b44a7b8be09872626651b": {
      "model_module": "@jupyter-widgets/controls",
      "model_module_version": "2.0.0",
      "model_name": "TextStyleModel",
      "state": {
       "description_width": "",
       "font_size": null,
       "text_color": null
      }
     },
     "06bc3eb95fef4653b3018d69a861ab9d": {
      "model_module": "@jupyter-widgets/controls",
      "model_module_version": "2.0.0",
      "model_name": "CheckboxModel",
      "state": {
       "description": "NA values",
       "disabled": false,
       "layout": "IPY_MODEL_c8317463a5e04b85a1d949e44f8d7aa8",
       "style": "IPY_MODEL_0ef209cdb70a43e7ab7332252f99d56e",
       "value": false
      }
     },
     "06c2cf7e3ab4455a99442f17b7544b64": {
      "model_module": "@jupyter-widgets/controls",
      "model_module_version": "2.0.0",
      "model_name": "CheckboxStyleModel",
      "state": {
       "description_width": ""
      }
     },
     "06f468abe0b04244a07447142dd2e123": {
      "model_module": "@jupyter-widgets/controls",
      "model_module_version": "2.0.0",
      "model_name": "CheckboxStyleModel",
      "state": {
       "description_width": ""
      }
     },
     "073a900dfb524bdb94fefc94bf9838e8": {
      "model_module": "@jupyter-widgets/controls",
      "model_module_version": "2.0.0",
      "model_name": "TextStyleModel",
      "state": {
       "description_width": "",
       "font_size": null,
       "text_color": null
      }
     },
     "0777a7c711cd491483c4e202fd5816d9": {
      "model_module": "@jupyter-widgets/base",
      "model_module_version": "2.0.0",
      "model_name": "LayoutModel",
      "state": {}
     },
     "0808da77887046ae8716fd415a78e2fd": {
      "model_module": "@jupyter-widgets/base",
      "model_module_version": "2.0.0",
      "model_name": "LayoutModel",
      "state": {}
     },
     "0818e57369d84fbb93a98e9268da9374": {
      "model_module": "@jupyter-widgets/base",
      "model_module_version": "2.0.0",
      "model_name": "LayoutModel",
      "state": {}
     },
     "08607819b1e04aba8d741293ce5baa08": {
      "model_module": "@jupyter-widgets/base",
      "model_module_version": "2.0.0",
      "model_name": "LayoutModel",
      "state": {}
     },
     "08781ff5108747c681f1c04a8b8b4200": {
      "model_module": "@jupyter-widgets/controls",
      "model_module_version": "2.0.0",
      "model_name": "TextStyleModel",
      "state": {
       "description_width": "",
       "font_size": null,
       "text_color": null
      }
     },
     "088047fa56b94862b19f50fc460f9341": {
      "model_module": "@jupyter-widgets/controls",
      "model_module_version": "2.0.0",
      "model_name": "TextStyleModel",
      "state": {
       "description_width": "",
       "font_size": null,
       "text_color": null
      }
     },
     "088d7ec54c4748ecba96b0dd3bee8b8f": {
      "model_module": "@jupyter-widgets/controls",
      "model_module_version": "2.0.0",
      "model_name": "TextModel",
      "state": {
       "description": "Type:",
       "disabled": true,
       "layout": "IPY_MODEL_d026226b4265417e996c70b02c9ca6f4",
       "style": "IPY_MODEL_ebece72b8181458fbee18e6f048a1c0e",
       "value": "float64"
      }
     },
     "0893b9f062854eb19a386f0c5f7a5f4e": {
      "model_module": "@jupyter-widgets/base",
      "model_module_version": "2.0.0",
      "model_name": "LayoutModel",
      "state": {}
     },
     "089c3fc4f30e496a9b8889e89fd1e109": {
      "model_module": "@jupyter-widgets/base",
      "model_module_version": "2.0.0",
      "model_name": "LayoutModel",
      "state": {}
     },
     "08b2319dd93142989a501dbcba4dd514": {
      "model_module": "@jupyter-widgets/base",
      "model_module_version": "2.0.0",
      "model_name": "LayoutModel",
      "state": {}
     },
     "08c838063fca4853a6836b70499eeafc": {
      "model_module": "@jupyter-widgets/base",
      "model_module_version": "2.0.0",
      "model_name": "LayoutModel",
      "state": {}
     },
     "08ca239bf4b34afba2c2d7101af542ca": {
      "model_module": "@jupyter-widgets/controls",
      "model_module_version": "2.0.0",
      "model_name": "CheckboxModel",
      "state": {
       "description": "NA values",
       "disabled": false,
       "layout": "IPY_MODEL_99aa056561e1462e92ec730423bdac4a",
       "style": "IPY_MODEL_36c820f4e7dc45fcac7dead0037f8ed4",
       "value": false
      }
     },
     "08d00db6754c4ee48cfc690d4a980fa1": {
      "model_module": "@jupyter-widgets/controls",
      "model_module_version": "2.0.0",
      "model_name": "DescriptionStyleModel",
      "state": {
       "description_width": ""
      }
     },
     "08ef1cac66c54ecb9593dcfd81857b3a": {
      "model_module": "@jupyter-widgets/base",
      "model_module_version": "2.0.0",
      "model_name": "LayoutModel",
      "state": {}
     },
     "09032a958b6d4b60939f9d31ef2ee538": {
      "model_module": "@jupyter-widgets/base",
      "model_module_version": "2.0.0",
      "model_name": "LayoutModel",
      "state": {}
     },
     "09105681f4e24c3ea71321fc430438c4": {
      "model_module": "@jupyter-widgets/base",
      "model_module_version": "2.0.0",
      "model_name": "LayoutModel",
      "state": {}
     },
     "093aa710f99f4d5faa5f151ff2f38097": {
      "model_module": "@jupyter-widgets/controls",
      "model_module_version": "2.0.0",
      "model_name": "CheckboxStyleModel",
      "state": {
       "description_width": ""
      }
     },
     "0989a7870cc843ebab9d221ac704c39c": {
      "model_module": "@jupyter-widgets/controls",
      "model_module_version": "2.0.0",
      "model_name": "TextStyleModel",
      "state": {
       "description_width": "",
       "font_size": null,
       "text_color": null
      }
     },
     "09ac97532b954a509782c688f0ffac00": {
      "model_module": "@jupyter-widgets/controls",
      "model_module_version": "2.0.0",
      "model_name": "TextStyleModel",
      "state": {
       "description_width": "",
       "font_size": null,
       "text_color": null
      }
     },
     "09b46029bbac474bb38984856adc7c50": {
      "model_module": "@jupyter-widgets/controls",
      "model_module_version": "2.0.0",
      "model_name": "TextModel",
      "state": {
       "continuous_update": false,
       "description": "Name:",
       "disabled": true,
       "layout": "IPY_MODEL_9ee74af2fb4a4acd843fac9d49f31a5e",
       "style": "IPY_MODEL_f9028de3d2a442c4953830ee6ce8826b",
       "value": "VendorID"
      }
     },
     "09c241c8b7364695bfdd787fab91c61a": {
      "model_module": "@jupyter-widgets/controls",
      "model_module_version": "2.0.0",
      "model_name": "TextStyleModel",
      "state": {
       "description_width": "",
       "font_size": null,
       "text_color": null
      }
     },
     "09da8cfd44544e0084a67a832378e30a": {
      "model_module": "@jupyter-widgets/controls",
      "model_module_version": "2.0.0",
      "model_name": "DropdownModel",
      "state": {
       "_options_labels": [
        "int8",
        "uint8",
        "int16",
        "uint16",
        "int32",
        "int64",
        "uint32",
        "uint64",
        "float32",
        "float64",
        "str"
       ],
       "description": "Retype:",
       "disabled": true,
       "index": 5,
       "layout": "IPY_MODEL_aa348b43ffb244cda3e3f95ed0842ecd",
       "style": "IPY_MODEL_efa85ff6526a47b8b03e9103854e7d9e"
      }
     },
     "09df9f77423c43138f011aff9f69af38": {
      "model_module": "@jupyter-widgets/controls",
      "model_module_version": "2.0.0",
      "model_name": "DropdownModel",
      "state": {
       "_options_labels": [
        "object",
        "str",
        "category",
        "datetime"
       ],
       "description": "Retype:",
       "index": 0,
       "layout": "IPY_MODEL_76338d695a28411ea9cd298cde3ea126",
       "style": "IPY_MODEL_4b3edde7123e40d4bd251ad837185be0"
      }
     },
     "0a176de73d8d45f2ba357c8a06fbbfba": {
      "model_module": "@jupyter-widgets/controls",
      "model_module_version": "2.0.0",
      "model_name": "CheckboxStyleModel",
      "state": {
       "description_width": ""
      }
     },
     "0a3c3b7de8ce4c308e46f67d3327219e": {
      "model_module": "@jupyter-widgets/controls",
      "model_module_version": "2.0.0",
      "model_name": "TextModel",
      "state": {
       "description": "Unique vals:",
       "layout": "IPY_MODEL_fc36ce5beaa24722a0a35b0920c9c733",
       "style": "IPY_MODEL_37dd1f274f3f4ea2873a396d7dfd5294",
       "value": "99/99"
      }
     },
     "0a46a5d31bce4e62ac20d12f358b84eb": {
      "model_module": "@jupyter-widgets/base",
      "model_module_version": "2.0.0",
      "model_name": "LayoutModel",
      "state": {}
     },
     "0a7b8af1d3424078ac3b14376d3b3c03": {
      "model_module": "@jupyter-widgets/base",
      "model_module_version": "2.0.0",
      "model_name": "LayoutModel",
      "state": {}
     },
     "0a87225d8b244d4d85dab09d5b7b2403": {
      "model_module": "@jupyter-widgets/base",
      "model_module_version": "2.0.0",
      "model_name": "LayoutModel",
      "state": {}
     },
     "0aadf51a7acf496ebb800859f78f743a": {
      "model_module": "@jupyter-widgets/controls",
      "model_module_version": "2.0.0",
      "model_name": "TextStyleModel",
      "state": {
       "description_width": "",
       "font_size": null,
       "text_color": null
      }
     },
     "0ab7f7ef01e349e98fea5b2ac17ff955": {
      "model_module": "@jupyter-widgets/base",
      "model_module_version": "2.0.0",
      "model_name": "LayoutModel",
      "state": {}
     },
     "0acd9129aebd478db82d2b40175e5655": {
      "model_module": "@jupyter-widgets/base",
      "model_module_version": "2.0.0",
      "model_name": "LayoutModel",
      "state": {}
     },
     "0ad75070e4194a69acc1fce7473cbb09": {
      "model_module": "@jupyter-widgets/controls",
      "model_module_version": "2.0.0",
      "model_name": "TextModel",
      "state": {
       "description": "Separator:",
       "disabled": true,
       "layout": "IPY_MODEL_80fcbf2f84b34dbfa3e27854a7b01b31",
       "placeholder": "if many values",
       "style": "IPY_MODEL_81cb9739e1f446909f05cd1f62e9789c"
      }
     },
     "0af28fd73e934d0c94a0033c433966ad": {
      "model_module": "@jupyter-widgets/controls",
      "model_module_version": "2.0.0",
      "model_name": "TextStyleModel",
      "state": {
       "description_width": "",
       "font_size": null,
       "text_color": null
      }
     },
     "0b06aeed51044eb9887f5de6d3d81c48": {
      "model_module": "@jupyter-widgets/controls",
      "model_module_version": "2.0.0",
      "model_name": "TextStyleModel",
      "state": {
       "description_width": "",
       "font_size": null,
       "text_color": null
      }
     },
     "0b0727926d664d3290b5837c8ce6cdb6": {
      "model_module": "@jupyter-widgets/controls",
      "model_module_version": "2.0.0",
      "model_name": "TextModel",
      "state": {
       "description": "Rename:",
       "layout": "IPY_MODEL_8ea2d2c714fc4da8bf6e2b1753966507",
       "style": "IPY_MODEL_e5b5d4c288f747189b665a3caaa88e38",
       "value": "dropoff_longitude"
      }
     },
     "0b320fb7e0b44964b861d3b8082d818a": {
      "model_module": "@jupyter-widgets/controls",
      "model_module_version": "2.0.0",
      "model_name": "CheckboxStyleModel",
      "state": {
       "description_width": ""
      }
     },
     "0bc4ce39877e4e698bb288538664e215": {
      "model_module": "@jupyter-widgets/controls",
      "model_module_version": "2.0.0",
      "model_name": "HTMLModel",
      "state": {
       "layout": "IPY_MODEL_380e83c6e30d429ebf749d4778054483",
       "style": "IPY_MODEL_9b5c2c3d9917452ebd3f05bda1bdef18"
      }
     },
     "0bfe1c6f8b2f4ddca14172013e437f54": {
      "model_module": "@jupyter-widgets/controls",
      "model_module_version": "2.0.0",
      "model_name": "TextStyleModel",
      "state": {
       "description_width": "",
       "font_size": null,
       "text_color": null
      }
     },
     "0bfeb8cef1fb42c9b451936ab7ccd361": {
      "model_module": "@jupyter-widgets/controls",
      "model_module_version": "2.0.0",
      "model_name": "TextStyleModel",
      "state": {
       "description_width": "",
       "font_size": null,
       "text_color": null
      }
     },
     "0c053c469d0b4b698b8d026af200248d": {
      "model_module": "@jupyter-widgets/controls",
      "model_module_version": "2.0.0",
      "model_name": "TextModel",
      "state": {
       "description": "Separator:",
       "disabled": true,
       "layout": "IPY_MODEL_fc181b7f52ab45d6b399f10503ecc87d",
       "placeholder": "if many values",
       "style": "IPY_MODEL_7318756283a8484cb3d484f96825bda5"
      }
     },
     "0c068c00722245dbba6568ff1a78fe03": {
      "model_module": "@jupyter-widgets/controls",
      "model_module_version": "2.0.0",
      "model_name": "TextStyleModel",
      "state": {
       "description_width": "",
       "font_size": null,
       "text_color": null
      }
     },
     "0c1c867867324fd9bc5cc7b352aa6b97": {
      "model_module": "@jupyter-widgets/controls",
      "model_module_version": "2.0.0",
      "model_name": "CheckboxModel",
      "state": {
       "description": "Use",
       "disabled": false,
       "layout": "IPY_MODEL_1f10c33c1ad44267b995bffa9b779672",
       "style": "IPY_MODEL_f76a4fe6f5d8470c9229815793c2e278",
       "value": true
      }
     },
     "0c5a769aaad04f329f7485560504df55": {
      "model_module": "@jupyter-widgets/controls",
      "model_module_version": "2.0.0",
      "model_name": "TextStyleModel",
      "state": {
       "description_width": "",
       "font_size": null,
       "text_color": null
      }
     },
     "0cc0d7434ab5479182a178cc6ab7568b": {
      "model_module": "@jupyter-widgets/controls",
      "model_module_version": "2.0.0",
      "model_name": "DropdownModel",
      "state": {
       "_options_labels": [
        "int8",
        "uint8",
        "int16",
        "uint16",
        "int32",
        "int64",
        "uint32",
        "uint64",
        "float32",
        "float64",
        "str"
       ],
       "description": "Retype:",
       "index": 5,
       "layout": "IPY_MODEL_430fec8a19244cb0b89be2e29d2025a2",
       "style": "IPY_MODEL_757993a4b48145d481909efc60ea0aa0"
      }
     },
     "0cd5d86a219c4f0a8ae2a369dec24174": {
      "model_module": "@jupyter-widgets/base",
      "model_module_version": "2.0.0",
      "model_name": "LayoutModel",
      "state": {}
     },
     "0d1c0f71769b4147844321d482ad3bff": {
      "model_module": "@jupyter-widgets/base",
      "model_module_version": "2.0.0",
      "model_name": "LayoutModel",
      "state": {}
     },
     "0d312b3d551e4b46b037e9317634a6b9": {
      "model_module": "@jupyter-widgets/controls",
      "model_module_version": "2.0.0",
      "model_name": "TextModel",
      "state": {
       "description": "Separator:",
       "disabled": true,
       "layout": "IPY_MODEL_a866549a068d43bbb8d90928f32c32fe",
       "placeholder": "if many values",
       "style": "IPY_MODEL_0f1e5079c6c24d988db86eb19dcab5fb"
      }
     },
     "0d46fa4d2dde49f18fd244b5e9bdb894": {
      "model_module": "@jupyter-widgets/base",
      "model_module_version": "2.0.0",
      "model_name": "LayoutModel",
      "state": {
       "width": "100%"
      }
     },
     "0d6690c8342747e5804a325985176c74": {
      "model_module": "@jupyter-widgets/controls",
      "model_module_version": "2.0.0",
      "model_name": "TextModel",
      "state": {
       "description": "Separator:",
       "disabled": true,
       "layout": "IPY_MODEL_c4c9d9d5e7d44b44a1d9ff5115c0213d",
       "placeholder": "if many values",
       "style": "IPY_MODEL_b7f515c5e9734783be9b449a22369087"
      }
     },
     "0d69d044ac56452e81c5a2f3b8b53416": {
      "model_module": "@jupyter-widgets/base",
      "model_module_version": "2.0.0",
      "model_name": "LayoutModel",
      "state": {}
     },
     "0d86237a94224d16ace08856c5d29062": {
      "model_module": "@jupyter-widgets/base",
      "model_module_version": "2.0.0",
      "model_name": "LayoutModel",
      "state": {}
     },
     "0d9e2ff36162453da7804ebbe007aa51": {
      "model_module": "@jupyter-widgets/base",
      "model_module_version": "2.0.0",
      "model_name": "LayoutModel",
      "state": {}
     },
     "0dab4a22d4904e0399d5aaa5d930051e": {
      "model_module": "@jupyter-widgets/controls",
      "model_module_version": "2.0.0",
      "model_name": "TextStyleModel",
      "state": {
       "description_width": "",
       "font_size": null,
       "text_color": null
      }
     },
     "0daf32298d3c4d77a8af8e22056ff6c2": {
      "model_module": "@jupyter-widgets/base",
      "model_module_version": "2.0.0",
      "model_name": "LayoutModel",
      "state": {}
     },
     "0dbddd3dc35047848a236d0a914afbd6": {
      "model_module": "@jupyter-widgets/controls",
      "model_module_version": "2.0.0",
      "model_name": "TextModel",
      "state": {
       "description": "Type:",
       "disabled": true,
       "layout": "IPY_MODEL_fa35af04f0e94ce2affbdfb37fdaf226",
       "style": "IPY_MODEL_a648e3cc9a1844c0a2a9180989bb49cb",
       "value": "object"
      }
     },
     "0dea7a60c47e4b8d8c8cb4f70b75e2e5": {
      "model_module": "@jupyter-widgets/base",
      "model_module_version": "2.0.0",
      "model_name": "LayoutModel",
      "state": {}
     },
     "0e05b250fa5a48d79fe2a48058b7ffc4": {
      "model_module": "@jupyter-widgets/controls",
      "model_module_version": "2.0.0",
      "model_name": "CheckboxStyleModel",
      "state": {
       "description_width": ""
      }
     },
     "0e0954ab4b7c46488f47be1a93c30cbb": {
      "model_module": "@jupyter-widgets/controls",
      "model_module_version": "2.0.0",
      "model_name": "TextStyleModel",
      "state": {
       "description_width": "",
       "font_size": null,
       "text_color": null
      }
     },
     "0e3736f16c6749779b8f21eb8e0d1c53": {
      "model_module": "@jupyter-widgets/controls",
      "model_module_version": "2.0.0",
      "model_name": "LabelStyleModel",
      "state": {
       "description_width": "",
       "font_family": null,
       "font_size": null,
       "font_style": null,
       "font_variant": null,
       "font_weight": null,
       "text_color": null,
       "text_decoration": null
      }
     },
     "0e3b96c6daf14e64acfc9a6ac18472c6": {
      "model_module": "@jupyter-widgets/controls",
      "model_module_version": "2.0.0",
      "model_name": "TextModel",
      "state": {
       "description": "Rename:",
       "layout": "IPY_MODEL_63f3b7394691423cb2e8893a3246ba4b",
       "style": "IPY_MODEL_47b3bb9a03284581b3b2d26d1131f953",
       "value": "mta_tax"
      }
     },
     "0e6c844ada3347fa9e172705a1e8f402": {
      "model_module": "@jupyter-widgets/controls",
      "model_module_version": "2.0.0",
      "model_name": "CheckboxStyleModel",
      "state": {
       "description_width": ""
      }
     },
     "0ea1ffa37ddb4c368808d83bfb47d3fe": {
      "model_module": "@jupyter-widgets/base",
      "model_module_version": "2.0.0",
      "model_name": "LayoutModel",
      "state": {}
     },
     "0ef209cdb70a43e7ab7332252f99d56e": {
      "model_module": "@jupyter-widgets/controls",
      "model_module_version": "2.0.0",
      "model_name": "CheckboxStyleModel",
      "state": {
       "description_width": ""
      }
     },
     "0ef69edfd69d47568fa1eee6c5a3dc91": {
      "model_module": "@jupyter-widgets/controls",
      "model_module_version": "2.0.0",
      "model_name": "TextModel",
      "state": {
       "description": "NA values:",
       "layout": "IPY_MODEL_c684db8ef7b84132bb813f38e23da84a",
       "style": "IPY_MODEL_a715847bd62e45e4a70b2d2587e4f281"
      }
     },
     "0f0479b6cdfc4245bad043573c8a2f99": {
      "model_module": "@jupyter-widgets/base",
      "model_module_version": "2.0.0",
      "model_name": "LayoutModel",
      "state": {}
     },
     "0f14bfe87ca041a3b1b03246ee478c9c": {
      "model_module": "@jupyter-widgets/base",
      "model_module_version": "2.0.0",
      "model_name": "LayoutModel",
      "state": {}
     },
     "0f1e5079c6c24d988db86eb19dcab5fb": {
      "model_module": "@jupyter-widgets/controls",
      "model_module_version": "2.0.0",
      "model_name": "TextStyleModel",
      "state": {
       "description_width": "",
       "font_size": null,
       "text_color": null
      }
     },
     "0f8dc62c6451441e9d686435f538cead": {
      "model_module": "@jupyter-widgets/controls",
      "model_module_version": "2.0.0",
      "model_name": "TextModel",
      "state": {
       "description": "Rename:",
       "layout": "IPY_MODEL_60a6c051ebdc42f49712a927d7abc8e6",
       "style": "IPY_MODEL_b9e3e925cf544a24bd6268efe8104011",
       "value": "RatecodeID"
      }
     },
     "0fb2799edeba4d0bbaca83b7b3407e4a": {
      "model_module": "@jupyter-widgets/controls",
      "model_module_version": "2.0.0",
      "model_name": "TextModel",
      "state": {
       "continuous_update": false,
       "description": "Name:",
       "disabled": true,
       "layout": "IPY_MODEL_cf7cfe727857488da0845ceff71e3892",
       "style": "IPY_MODEL_616befdea594404eaf425eb7602bc046",
       "value": "RatecodeID"
      }
     },
     "0fd04272c5e44ebabd507637ddf90790": {
      "model_module": "@jupyter-widgets/controls",
      "model_module_version": "2.0.0",
      "model_name": "CheckboxModel",
      "state": {
       "description": "Use",
       "disabled": false,
       "layout": "IPY_MODEL_f3fb69d8e5844097be1e559c5d77cb06",
       "style": "IPY_MODEL_4efaa75cdd534803897fcb9f8246faee",
       "value": true
      }
     },
     "0ff15a5916b94f32ba87f9fce6ed9353": {
      "model_module": "@jupyter-widgets/controls",
      "model_module_version": "2.0.0",
      "model_name": "TextStyleModel",
      "state": {
       "description_width": "",
       "font_size": null,
       "text_color": null
      }
     },
     "1024ebdb8ceb4b3aa0b9148b68580340": {
      "model_module": "@jupyter-widgets/controls",
      "model_module_version": "2.0.0",
      "model_name": "DescriptionStyleModel",
      "state": {
       "description_width": ""
      }
     },
     "105c2dd66ba3492a997022017de61f61": {
      "model_module": "@jupyter-widgets/base",
      "model_module_version": "2.0.0",
      "model_name": "LayoutModel",
      "state": {}
     },
     "105fa68b40d34a5dafe6c3cf4a93f38c": {
      "model_module": "@jupyter-widgets/controls",
      "model_module_version": "2.0.0",
      "model_name": "TextStyleModel",
      "state": {
       "description_width": "",
       "font_size": null,
       "text_color": null
      }
     },
     "10785c88ef6f43d28df3f3dde1789135": {
      "model_module": "@jupyter-widgets/base",
      "model_module_version": "2.0.0",
      "model_name": "LayoutModel",
      "state": {}
     },
     "107fbb39f216406e9e6347daa93c0d03": {
      "model_module": "@jupyter-widgets/base",
      "model_module_version": "2.0.0",
      "model_name": "LayoutModel",
      "state": {}
     },
     "1098acd3518e4883a15aa1a99510495a": {
      "model_module": "@jupyter-widgets/controls",
      "model_module_version": "2.0.0",
      "model_name": "TextStyleModel",
      "state": {
       "description_width": "",
       "font_size": null,
       "text_color": null
      }
     },
     "11027c1d6aff4adfac8d1750b1585e65": {
      "model_module": "@jupyter-widgets/controls",
      "model_module_version": "2.0.0",
      "model_name": "TextModel",
      "state": {
       "continuous_update": false,
       "description": "Name:",
       "disabled": true,
       "layout": "IPY_MODEL_08ef1cac66c54ecb9593dcfd81857b3a",
       "style": "IPY_MODEL_8ec712ccb1be44a69349b6170d5d6de3",
       "value": "pickup_latitude"
      }
     },
     "1194d39a2ecd4e45bd78bd651cc22ad2": {
      "model_module": "@jupyter-widgets/controls",
      "model_module_version": "2.0.0",
      "model_name": "DropdownModel",
      "state": {
       "_options_labels": [
        "int8",
        "uint8",
        "int16",
        "uint16",
        "int32",
        "int64",
        "uint32",
        "uint64",
        "float32",
        "float64",
        "str"
       ],
       "description": "Retype:",
       "index": 9,
       "layout": "IPY_MODEL_eac0af0842d744618e656a05fddfa17d",
       "style": "IPY_MODEL_5d4526e4a8e044f9bd7541e1771f5be7"
      }
     },
     "1234917273e749a98b8caf4914de22af": {
      "model_module": "@jupyter-widgets/controls",
      "model_module_version": "2.0.0",
      "model_name": "VBoxModel",
      "state": {
       "children": [
        "IPY_MODEL_5d6a18b0a90c43d2bc0a2cecf5f2ae6c",
        "IPY_MODEL_a34cf2f268014a539d7ed42c37115b86",
        "IPY_MODEL_774816dbd51c4b2195b4b591905d09e0",
        "IPY_MODEL_e57ec74a13514a4d8a9de76dfceadb36"
       ],
       "layout": "IPY_MODEL_bb1d93874dd2493fb05211dd176cd78d"
      }
     },
     "1286f822891449f7b561f82eef999f8c": {
      "model_module": "@jupyter-widgets/controls",
      "model_module_version": "2.0.0",
      "model_name": "TextModel",
      "state": {
       "continuous_update": false,
       "description": "False values",
       "layout": "IPY_MODEL_388f8e355b3645b688ee421019e54b7a",
       "style": "IPY_MODEL_8114b36c67924c2b90015e55348f4867"
      }
     },
     "12b308b4f8064f8e868de7dba15fba56": {
      "model_module": "@jupyter-widgets/controls",
      "model_module_version": "2.0.0",
      "model_name": "DropdownModel",
      "state": {
       "_options_labels": [
        "int8",
        "uint8",
        "int16",
        "uint16",
        "int32",
        "int64",
        "uint32",
        "uint64",
        "float32",
        "float64",
        "str"
       ],
       "description": "Retype:",
       "disabled": true,
       "index": 9,
       "layout": "IPY_MODEL_d8fdc904ba0c440594f9a7c5d0878f27",
       "style": "IPY_MODEL_1cdbe0ae121241d7a7f44cdf11c0ff6a"
      }
     },
     "12bd462b92b64b6ea7e615649bfecfb0": {
      "model_module": "@jupyter-widgets/base",
      "model_module_version": "2.0.0",
      "model_name": "LayoutModel",
      "state": {}
     },
     "12d8a1285e6a47df901b83d2997f90a6": {
      "model_module": "@jupyter-widgets/base",
      "model_module_version": "2.0.0",
      "model_name": "LayoutModel",
      "state": {}
     },
     "12d9ff5b10bb46ae8ede1239ac78b022": {
      "model_module": "@jupyter-widgets/controls",
      "model_module_version": "2.0.0",
      "model_name": "TextModel",
      "state": {
       "description": "Type:",
       "disabled": true,
       "layout": "IPY_MODEL_f682125726bc40a382420235c7abba4e",
       "style": "IPY_MODEL_4466d1a9c3f8483dad4bd10a459d6a87",
       "value": "object"
      }
     },
     "1304b578cc4c4d88bfe0f8048ed20b62": {
      "model_module": "@jupyter-widgets/controls",
      "model_module_version": "2.0.0",
      "model_name": "VBoxModel",
      "state": {
       "children": [
        "IPY_MODEL_7f6e5ce360b5431f81d97d37696a8ba8",
        "IPY_MODEL_5139fb6df64241619001208c3d3a1857",
        "IPY_MODEL_e0fc7a28a9ec401bb3f59c60c831547b",
        "IPY_MODEL_5f93bd2ced8a4d6684a571799d49a1c0",
        "IPY_MODEL_3ba5998f62d14725b7f2759dd41bbefa",
        "IPY_MODEL_b9c4307d1697430bafca6c340113ded7",
        "IPY_MODEL_be0f739d3d1c4107addb66f134eb4dcc"
       ],
       "layout": "IPY_MODEL_6a7e8759b13047b494be65d26e0f5c71"
      }
     },
     "132a72ed71764998818572298e196d39": {
      "model_module": "@jupyter-widgets/controls",
      "model_module_version": "2.0.0",
      "model_name": "VBoxModel",
      "state": {
       "children": [
        "IPY_MODEL_6cdf247d96dc43b892ff6c58ffee6e81",
        "IPY_MODEL_c68bca574aac439d9ed2d68fa9591a14",
        "IPY_MODEL_a8bbb20fc9ef46989b7b77a3b789dc9e",
        "IPY_MODEL_12b308b4f8064f8e868de7dba15fba56",
        "IPY_MODEL_34bae296f8ac4425be82ff3a5b362e83",
        "IPY_MODEL_438d4127c557430cbdb9d2a20b75a72e",
        "IPY_MODEL_af887e7bd8d34c32acf9abaf812c9740"
       ],
       "layout": "IPY_MODEL_86031240695a47a1810b77f4270de929"
      }
     },
     "132c0e10c83f4c82893be306b704d2d6": {
      "model_module": "@jupyter-widgets/base",
      "model_module_version": "2.0.0",
      "model_name": "LayoutModel",
      "state": {}
     },
     "13302f5b9e4e4d339c092413f19bc3e2": {
      "model_module": "@jupyter-widgets/controls",
      "model_module_version": "2.0.0",
      "model_name": "TextModel",
      "state": {
       "continuous_update": false,
       "description": "Name:",
       "disabled": true,
       "layout": "IPY_MODEL_969aa072275d4bd0adfbe324a8063e62",
       "style": "IPY_MODEL_738352eb6d9a4a71b44745bd52e93e4d",
       "value": "trip_distance"
      }
     },
     "1369881a772e4f15aaba1d9f9a57c41a": {
      "model_module": "@jupyter-widgets/controls",
      "model_module_version": "2.0.0",
      "model_name": "ButtonStyleModel",
      "state": {
       "font_family": null,
       "font_size": null,
       "font_style": null,
       "font_variant": null,
       "font_weight": null,
       "text_color": null,
       "text_decoration": null
      }
     },
     "13d7f87fb228490eb9582cf7641c3629": {
      "model_module": "@jupyter-widgets/controls",
      "model_module_version": "2.0.0",
      "model_name": "TextModel",
      "state": {
       "description": "Unique vals:",
       "layout": "IPY_MODEL_c35ad3964ac240baa0bf91545f60d466",
       "style": "IPY_MODEL_3682a1c60986490e9405f654ba822098",
       "value": "68/99"
      }
     },
     "141f8aadc3ec412c94c4856e18c8448f": {
      "model_module": "@jupyter-widgets/controls",
      "model_module_version": "2.0.0",
      "model_name": "VBoxModel",
      "state": {
       "children": [
        "IPY_MODEL_f952c89767aa4c669737e726d64d3e07",
        "IPY_MODEL_9229416180af40b08e6d7d7a46eac3ac",
        "IPY_MODEL_f18bf113ebb34cfd9947d0f3296deac4",
        "IPY_MODEL_cbaa4e1ae9a64804bd6cb55ccaa8ae44",
        "IPY_MODEL_52ad8e07df864880bfc57d2d44d9c847",
        "IPY_MODEL_d841361e2c694633955933688086a89c",
        "IPY_MODEL_ef8a39d7dbb84c4e96c6797cdacbe1e3"
       ],
       "layout": "IPY_MODEL_6cc24ff817cc4730ba10aaa546cf2c03"
      }
     },
     "143a4e5f3f7b44899f1c90b17d2815b0": {
      "model_module": "@jupyter-widgets/base",
      "model_module_version": "2.0.0",
      "model_name": "LayoutModel",
      "state": {}
     },
     "1441f374a7a040c6b617b54ab6f79fb9": {
      "model_module": "@jupyter-widgets/base",
      "model_module_version": "2.0.0",
      "model_name": "LayoutModel",
      "state": {}
     },
     "144a842061c94870bec83c70fbd67736": {
      "model_module": "@jupyter-widgets/base",
      "model_module_version": "2.0.0",
      "model_name": "LayoutModel",
      "state": {}
     },
     "14683b9fbe88491f9f6354eb08a37e73": {
      "model_module": "@jupyter-widgets/controls",
      "model_module_version": "2.0.0",
      "model_name": "TextStyleModel",
      "state": {
       "description_width": "",
       "font_size": null,
       "text_color": null
      }
     },
     "14855467b0fa4d309a01b1c767f3c4bf": {
      "model_module": "@jupyter-widgets/base",
      "model_module_version": "2.0.0",
      "model_name": "LayoutModel",
      "state": {}
     },
     "1485b71636764adfaaf250a9305395e1": {
      "model_module": "@jupyter-widgets/controls",
      "model_module_version": "2.0.0",
      "model_name": "TextStyleModel",
      "state": {
       "description_width": "",
       "font_size": null,
       "text_color": null
      }
     },
     "14b9ac6b124f462aad86ffd3e395f4dc": {
      "model_module": "@jupyter-widgets/controls",
      "model_module_version": "2.0.0",
      "model_name": "TextStyleModel",
      "state": {
       "description_width": "",
       "font_size": null,
       "text_color": null
      }
     },
     "14bda12bafd44db3b1dece29cda0123a": {
      "model_module": "@jupyter-widgets/controls",
      "model_module_version": "2.0.0",
      "model_name": "TextModel",
      "state": {
       "description": "NA values:",
       "layout": "IPY_MODEL_1ad33862f21b4062ba30eb8575e35d11",
       "style": "IPY_MODEL_fba4f16f74d8479180b0780a1e924a4e"
      }
     },
     "14ed76c1d08a41489c13ba9d9f21200d": {
      "model_module": "@jupyter-widgets/controls",
      "model_module_version": "2.0.0",
      "model_name": "CheckboxModel",
      "state": {
       "description": "NA values",
       "disabled": false,
       "layout": "IPY_MODEL_25f6e88c672f40e6bacd3a4274cdab50",
       "style": "IPY_MODEL_65b992ffddbb4ea2a8f892f7ae244a37",
       "value": false
      }
     },
     "152be7203a0e41eb897270dd744876aa": {
      "model_module": "@jupyter-widgets/controls",
      "model_module_version": "2.0.0",
      "model_name": "CheckboxModel",
      "state": {
       "description": "Use",
       "disabled": false,
       "layout": "IPY_MODEL_089c3fc4f30e496a9b8889e89fd1e109",
       "style": "IPY_MODEL_2f68b1a4ede9492db3093b93a65c9462",
       "value": true
      }
     },
     "15470f92ab034807bd67abdf297f9208": {
      "model_module": "@jupyter-widgets/controls",
      "model_module_version": "2.0.0",
      "model_name": "CheckboxModel",
      "state": {
       "description": "Use",
       "disabled": false,
       "layout": "IPY_MODEL_2cea6a3210374e64ad9c049326a40bc5",
       "style": "IPY_MODEL_d89ee1ba82fb488cb86627923f31194d",
       "value": true
      }
     },
     "154b062fc9c04dae84f3013112e0950f": {
      "model_module": "@jupyter-widgets/base",
      "model_module_version": "2.0.0",
      "model_name": "LayoutModel",
      "state": {}
     },
     "155bbf94c1b84e24b92cbf479a115de5": {
      "model_module": "@jupyter-widgets/controls",
      "model_module_version": "2.0.0",
      "model_name": "VBoxModel",
      "state": {
       "children": [
        "IPY_MODEL_e7e03acb86764087a2b2f8cc000f4bde",
        "IPY_MODEL_6fc272136e0c42428a3dde5c94394cf9",
        "IPY_MODEL_5b0e76d17cc74fe1bfb4d43e2f217ce9",
        "IPY_MODEL_8420a099341a4babbbc933eacc55251c",
        "IPY_MODEL_c903899513cd40c09b2f8a1b361025f8",
        "IPY_MODEL_b960e96489cc4577b87992b4c7343419",
        "IPY_MODEL_e73b9c88c7a34bcfb39af63c32415634"
       ],
       "layout": "IPY_MODEL_9b94d9cf2b6c43dd9f552ff7dedecba6"
      }
     },
     "156bb038c4954d769cd706e78a3be363": {
      "model_module": "@jupyter-widgets/base",
      "model_module_version": "2.0.0",
      "model_name": "LayoutModel",
      "state": {}
     },
     "1575768826a4487fb894eb9e77307d51": {
      "model_module": "@jupyter-widgets/controls",
      "model_module_version": "2.0.0",
      "model_name": "TextModel",
      "state": {
       "description": "Rename:",
       "layout": "IPY_MODEL_9305502413e0484d8e63b13298c7d0c1",
       "style": "IPY_MODEL_05b0c398eca3498496dfc8d7e91b8ee5",
       "value": "tolls_amount"
      }
     },
     "157f3e045eca41539a542bb4feb58a7b": {
      "model_module": "@jupyter-widgets/controls",
      "model_module_version": "2.0.0",
      "model_name": "HTMLStyleModel",
      "state": {
       "description_width": "",
       "font_size": null,
       "text_color": null
      }
     },
     "15aef3fbeb5e49e28791f5f1314adb65": {
      "model_module": "@jupyter-widgets/controls",
      "model_module_version": "2.0.0",
      "model_name": "CheckboxModel",
      "state": {
       "description": "NA values",
       "disabled": false,
       "layout": "IPY_MODEL_d9cc217895714460bc650ef07e5e38c0",
       "style": "IPY_MODEL_d0dbba8cd7ec4d5f9f41b811be1caccd",
       "value": false
      }
     },
     "15cddc19f3a942bcbc4781333facbd03": {
      "model_module": "@jupyter-widgets/base",
      "model_module_version": "2.0.0",
      "model_name": "LayoutModel",
      "state": {}
     },
     "163b3e7398304e84ae7200d009405446": {
      "model_module": "@jupyter-widgets/base",
      "model_module_version": "2.0.0",
      "model_name": "LayoutModel",
      "state": {}
     },
     "1675d71a58254e1cb55388fc26251563": {
      "model_module": "@jupyter-widgets/base",
      "model_module_version": "2.0.0",
      "model_name": "LayoutModel",
      "state": {}
     },
     "1693895e99cf4b48a166d042f46492b9": {
      "model_module": "@jupyter-widgets/base",
      "model_module_version": "2.0.0",
      "model_name": "LayoutModel",
      "state": {}
     },
     "1695b77c6eed4bcf862ef0f22e9edf6c": {
      "model_module": "@jupyter-widgets/base",
      "model_module_version": "2.0.0",
      "model_name": "LayoutModel",
      "state": {}
     },
     "169661d6ef10404c99c7deb4748df636": {
      "model_module": "@jupyter-widgets/controls",
      "model_module_version": "2.0.0",
      "model_name": "TextModel",
      "state": {
       "description": "NA values:",
       "layout": "IPY_MODEL_45f0984dc3d44217ac7a5ae9f27df9b0",
       "style": "IPY_MODEL_ea1a5397539340bcbe84b95e1392bc8c"
      }
     },
     "1696ade9a4eb4567a6a61eddbeb463dc": {
      "model_module": "@jupyter-widgets/base",
      "model_module_version": "2.0.0",
      "model_name": "LayoutModel",
      "state": {}
     },
     "16b79b791f8c43a9aa2a1f4c4d35e005": {
      "model_module": "@jupyter-widgets/base",
      "model_module_version": "2.0.0",
      "model_name": "LayoutModel",
      "state": {}
     },
     "16bcb3c432e24e61b45c6851f492e5cf": {
      "model_module": "@jupyter-widgets/controls",
      "model_module_version": "2.0.0",
      "model_name": "CheckboxStyleModel",
      "state": {
       "description_width": ""
      }
     },
     "16c0e2b36e104c90842cbcbf7cf93efc": {
      "model_module": "@jupyter-widgets/base",
      "model_module_version": "2.0.0",
      "model_name": "LayoutModel",
      "state": {}
     },
     "16c553f0ba7e475abae9320ceb5c3fbf": {
      "model_module": "@jupyter-widgets/controls",
      "model_module_version": "2.0.0",
      "model_name": "CheckboxStyleModel",
      "state": {
       "description_width": ""
      }
     },
     "16db6245a35646a8af5b2cc4f54dcdc8": {
      "model_module": "@jupyter-widgets/controls",
      "model_module_version": "2.0.0",
      "model_name": "TextStyleModel",
      "state": {
       "description_width": "",
       "font_size": null,
       "text_color": null
      }
     },
     "16e28d13de964ef1b5196a3d1979d0bf": {
      "model_module": "@jupyter-widgets/controls",
      "model_module_version": "2.0.0",
      "model_name": "TextStyleModel",
      "state": {
       "description_width": "",
       "font_size": null,
       "text_color": null
      }
     },
     "1701adb399b54333a7acd49fd83dc779": {
      "model_module": "@jupyter-widgets/controls",
      "model_module_version": "2.0.0",
      "model_name": "TextStyleModel",
      "state": {
       "description_width": "",
       "font_size": null,
       "text_color": null
      }
     },
     "175c043c010946c0aa1599e44869da3b": {
      "model_module": "@jupyter-widgets/base",
      "model_module_version": "2.0.0",
      "model_name": "LayoutModel",
      "state": {
       "width": "100%"
      }
     },
     "178b3f335f244f22933d662201b5ba9d": {
      "model_module": "@jupyter-widgets/controls",
      "model_module_version": "2.0.0",
      "model_name": "TextStyleModel",
      "state": {
       "description_width": "",
       "font_size": null,
       "text_color": null
      }
     },
     "179c8d44d195456abbbf71452f43056a": {
      "model_module": "@jupyter-widgets/base",
      "model_module_version": "2.0.0",
      "model_name": "LayoutModel",
      "state": {}
     },
     "17be1039e3304165ba9cc10d31e28afa": {
      "model_module": "@jupyter-widgets/controls",
      "model_module_version": "2.0.0",
      "model_name": "CheckboxStyleModel",
      "state": {
       "description_width": ""
      }
     },
     "17c50cde773047c0ac7ed83f29987e70": {
      "model_module": "@jupyter-widgets/controls",
      "model_module_version": "2.0.0",
      "model_name": "TextModel",
      "state": {
       "description": "NA values:",
       "layout": "IPY_MODEL_e3073163c6bf4b15948d94a3cd037d05",
       "style": "IPY_MODEL_5607252bfea14b9f8ae67284f8911e05"
      }
     },
     "180ca52e5ec44c45abea8b3a8335a0fb": {
      "model_module": "@jupyter-widgets/base",
      "model_module_version": "2.0.0",
      "model_name": "LayoutModel",
      "state": {}
     },
     "1858cd583e5a4bc8bcbb1ca29dd43d1e": {
      "model_module": "@jupyter-widgets/base",
      "model_module_version": "2.0.0",
      "model_name": "LayoutModel",
      "state": {}
     },
     "18b73edf7a5243caad09de1b72837795": {
      "model_module": "@jupyter-widgets/controls",
      "model_module_version": "2.0.0",
      "model_name": "CheckboxStyleModel",
      "state": {
       "description_width": ""
      }
     },
     "18d799fea68a433aa87cd5c96e37672b": {
      "model_module": "@jupyter-widgets/controls",
      "model_module_version": "2.0.0",
      "model_name": "LabelModel",
      "state": {
       "layout": "IPY_MODEL_a0c523c552d84068941bca1688e58cd7",
       "style": "IPY_MODEL_7fc4e20ac08644978802cec9372e1fd7",
       "value": "CmdLine:"
      }
     },
     "18e9c5f172874fa28e48c1c0bafaa8fe": {
      "model_module": "@jupyter-widgets/controls",
      "model_module_version": "2.0.0",
      "model_name": "VBoxModel",
      "state": {
       "children": [
        "IPY_MODEL_8eaa787cc1924303ad78360f212df549",
        "IPY_MODEL_3eacc3b19c4242efa97e387680e8620c",
        "IPY_MODEL_c9c8760bdf194ae3a9510419b268508f",
        "IPY_MODEL_e266be21acca4589b3c77c55aea71e72",
        "IPY_MODEL_a4a4aa97efd94d7bbe86873df33488f8",
        "IPY_MODEL_ef45dd6cbfa845b8a2307630aad0aebe",
        "IPY_MODEL_6e72cc80f7ca452f9e7ddcdf5f736efb"
       ],
       "layout": "IPY_MODEL_6119d00c65a04049a32540f116c96fa8"
      }
     },
     "18f48909fa8f4d77bf983d4ed501c58f": {
      "model_module": "@jupyter-widgets/controls",
      "model_module_version": "2.0.0",
      "model_name": "VBoxModel",
      "state": {
       "children": [
        "IPY_MODEL_c7df365e93b848eb923037b5c9ebfd13",
        "IPY_MODEL_bf58658e4580492787002fcdcaf43744",
        "IPY_MODEL_fcc0c29813a149c9a690445cde30b008",
        "IPY_MODEL_f771c249a63d46d78e709a02819796c2",
        "IPY_MODEL_d76d2b38987a4100908301af8745f16b",
        "IPY_MODEL_0055024a874f4e9f82f143966f791781",
        "IPY_MODEL_009e38276141421e9e5868d5dc88540b"
       ],
       "layout": "IPY_MODEL_212fa1063a31481bab67592fcae4b7e7"
      }
     },
     "19243ddafd514df7b934beee094cb976": {
      "model_module": "@jupyter-widgets/controls",
      "model_module_version": "2.0.0",
      "model_name": "TextModel",
      "state": {
       "description": "Rename:",
       "layout": "IPY_MODEL_aca6078f0af84d9abf1c265a5fe0b236",
       "style": "IPY_MODEL_c439efd482c3432e9eb247e99ae6a11f",
       "value": "improvement_surcharge"
      }
     },
     "192efe2437f74f1898ba755601b331d5": {
      "model_module": "@jupyter-widgets/controls",
      "model_module_version": "2.0.0",
      "model_name": "TextModel",
      "state": {
       "continuous_update": false,
       "description": "Name:",
       "disabled": true,
       "layout": "IPY_MODEL_9ff0a71712654c1a963a87bce00256db",
       "style": "IPY_MODEL_21daefb36f68499098d663a2a3d17108",
       "value": "dropoff_longitude"
      }
     },
     "195ed60b93ec4652857b1a4361344c52": {
      "model_module": "@jupyter-widgets/controls",
      "model_module_version": "2.0.0",
      "model_name": "TextStyleModel",
      "state": {
       "description_width": "",
       "font_size": null,
       "text_color": null
      }
     },
     "195f86cc26c64e5081f3ee042c7228ca": {
      "model_module": "@jupyter-widgets/controls",
      "model_module_version": "2.0.0",
      "model_name": "CheckboxStyleModel",
      "state": {
       "description_width": ""
      }
     },
     "1961ef19a03441bf9251f2b40e264ddf": {
      "model_module": "@jupyter-widgets/controls",
      "model_module_version": "2.0.0",
      "model_name": "CheckboxStyleModel",
      "state": {
       "description_width": ""
      }
     },
     "19907bf18acf4500a7f2ff001ebe6ce1": {
      "model_module": "@jupyter-widgets/base",
      "model_module_version": "2.0.0",
      "model_name": "LayoutModel",
      "state": {}
     },
     "19909e467a2a47c0adc583664c1aa9aa": {
      "model_module": "@jupyter-widgets/base",
      "model_module_version": "2.0.0",
      "model_name": "LayoutModel",
      "state": {}
     },
     "19e36c8ca192468286edaacd678406f7": {
      "model_module": "@jupyter-widgets/controls",
      "model_module_version": "2.0.0",
      "model_name": "VBoxModel",
      "state": {
       "children": [
        "IPY_MODEL_09b46029bbac474bb38984856adc7c50",
        "IPY_MODEL_77db87c6191c42ecbeb080cdf1317908",
        "IPY_MODEL_be61a0d860ba4b5f990edbe28009b236",
        "IPY_MODEL_0cc0d7434ab5479182a178cc6ab7568b",
        "IPY_MODEL_4043d7ae7476447f9906bce0be80af20",
        "IPY_MODEL_2f4e352b1824439c9bbfca964ea3ce7b",
        "IPY_MODEL_ce330cdfb0844b09bf1972d191196131"
       ],
       "layout": "IPY_MODEL_0d86237a94224d16ace08856c5d29062"
      }
     },
     "1a5d506608f84fe8b1e619fe87f31ddc": {
      "model_module": "@jupyter-widgets/controls",
      "model_module_version": "2.0.0",
      "model_name": "TextModel",
      "state": {
       "continuous_update": false,
       "description": "Name:",
       "disabled": true,
       "layout": "IPY_MODEL_5c26608b6a644ba99b251ea2949ee789",
       "style": "IPY_MODEL_32b5a928caed4580880e283eb5c2adf1",
       "value": "RateCodeID"
      }
     },
     "1a7e56ccccc243e5a4df072cade82ae4": {
      "model_module": "@jupyter-widgets/controls",
      "model_module_version": "2.0.0",
      "model_name": "CheckboxModel",
      "state": {
       "description": "Use",
       "disabled": false,
       "layout": "IPY_MODEL_44ce785ef92048cbb4eb40e73eea7284",
       "style": "IPY_MODEL_7d4b5b5f1f3f436988acfe56fb01805f",
       "value": true
      }
     },
     "1a84d95c4ea34025bd492f69670a23da": {
      "model_module": "@jupyter-widgets/controls",
      "model_module_version": "2.0.0",
      "model_name": "DropdownModel",
      "state": {
       "_options_labels": [
        "",
        "Descriptive_statistics",
        "Group by",
        "Aggregate",
        "Dump_table",
        "Join",
        "MultiSeries",
        "Scatterplot",
        "View",
        "Histogram1D",
        "Scaler"
       ],
       "description": "Next stage",
       "index": 0,
       "layout": "IPY_MODEL_22a09e614db6474da1deb1f37be8f7a5",
       "style": "IPY_MODEL_9c96c24675104ea8a0ec2fd7f968595c"
      }
     },
     "1a9f70b366a94752b5d3907e98851a82": {
      "model_module": "@jupyter-widgets/controls",
      "model_module_version": "2.0.0",
      "model_name": "TextStyleModel",
      "state": {
       "description_width": "",
       "font_size": null,
       "text_color": null
      }
     },
     "1ad33862f21b4062ba30eb8575e35d11": {
      "model_module": "@jupyter-widgets/base",
      "model_module_version": "2.0.0",
      "model_name": "LayoutModel",
      "state": {}
     },
     "1ad9d6580c494aa18dd387bd52389f2b": {
      "model_module": "@jupyter-widgets/controls",
      "model_module_version": "2.0.0",
      "model_name": "BoundedIntTextModel",
      "state": {
       "description": "Header:",
       "layout": "IPY_MODEL_e30c0d7e6d524142ab8a305c973fd621",
       "max": 1000,
       "min": -1,
       "style": "IPY_MODEL_4a6e0bdcc14f4d8ea971c7214da40160"
      }
     },
     "1ae505f29856492c98dbcbc32850e3ee": {
      "model_module": "@jupyter-widgets/controls",
      "model_module_version": "2.0.0",
      "model_name": "CheckboxStyleModel",
      "state": {
       "description_width": ""
      }
     },
     "1b251b53f65747fe952c13947cbd003c": {
      "model_module": "@jupyter-widgets/controls",
      "model_module_version": "2.0.0",
      "model_name": "TextStyleModel",
      "state": {
       "description_width": "",
       "font_size": null,
       "text_color": null
      }
     },
     "1b3bfcc614c74eb7a0d5e5a1cc470646": {
      "model_module": "@jupyter-widgets/base",
      "model_module_version": "2.0.0",
      "model_name": "LayoutModel",
      "state": {}
     },
     "1b3dc91dd8924fdf8ccae4bc4cf01de5": {
      "model_module": "@jupyter-widgets/controls",
      "model_module_version": "2.0.0",
      "model_name": "TextModel",
      "state": {
       "description": "Type:",
       "disabled": true,
       "layout": "IPY_MODEL_70f50b0709854fff802193594e1a8a39",
       "style": "IPY_MODEL_fdab3f55b7ab40be84fa42e3ff5ce551",
       "value": "object"
      }
     },
     "1b66cd36e59244f9915fe6326810839e": {
      "model_module": "@jupyter-widgets/base",
      "model_module_version": "2.0.0",
      "model_name": "LayoutModel",
      "state": {}
     },
     "1b7da9fcc7584c089008d16cf35ab534": {
      "model_module": "@jupyter-widgets/controls",
      "model_module_version": "2.0.0",
      "model_name": "TextModel",
      "state": {
       "description": "Unique vals:",
       "layout": "IPY_MODEL_5b646fbb678047c484329e442ff8f96f",
       "style": "IPY_MODEL_771b74bb5e9e444e943885753f823797",
       "value": "99/99"
      }
     },
     "1ba52b5c7d1c428996dd79867d75f42e": {
      "model_module": "@jupyter-widgets/controls",
      "model_module_version": "2.0.0",
      "model_name": "TextModel",
      "state": {
       "description": "Separator:",
       "disabled": true,
       "layout": "IPY_MODEL_a278d55e4d9141a4ae49d39f171d3953",
       "placeholder": "if many values",
       "style": "IPY_MODEL_3b007801671b451d908c75e32607c9f8"
      }
     },
     "1bbb48cf8cbe44c9a02452274a63b482": {
      "model_module": "@jupyter-widgets/controls",
      "model_module_version": "2.0.0",
      "model_name": "TextModel",
      "state": {
       "description": "Type:",
       "disabled": true,
       "layout": "IPY_MODEL_61cf148b902045d9b525d0711c5c35b3",
       "style": "IPY_MODEL_4f8c8410e1c84ee391ab4e9c8d46837a",
       "value": "float64"
      }
     },
     "1bd470bd735342b183b9dff8dcdd921e": {
      "model_module": "@jupyter-widgets/base",
      "model_module_version": "2.0.0",
      "model_name": "LayoutModel",
      "state": {}
     },
     "1bf1aca844564520bf6341068165117f": {
      "model_module": "@jupyter-widgets/controls",
      "model_module_version": "2.0.0",
      "model_name": "TextModel",
      "state": {
       "description": "Rename:",
       "layout": "IPY_MODEL_ec12c07b63b94a27a6d1dbafa7fc3dd4",
       "style": "IPY_MODEL_1701adb399b54333a7acd49fd83dc779",
       "value": "passenger_count"
      }
     },
     "1c1dd3028bdd4497a580384e7b46fbfd": {
      "model_module": "@jupyter-widgets/base",
      "model_module_version": "2.0.0",
      "model_name": "LayoutModel",
      "state": {}
     },
     "1c5c43b02f404a43bcd4af5456f1836f": {
      "model_module": "@jupyter-widgets/base",
      "model_module_version": "2.0.0",
      "model_name": "LayoutModel",
      "state": {}
     },
     "1c69152118284809a2eb16ed60a703e1": {
      "model_module": "@jupyter-widgets/base",
      "model_module_version": "2.0.0",
      "model_name": "LayoutModel",
      "state": {}
     },
     "1c8320c47670493fb4fff418d5543ebd": {
      "model_module": "@jupyter-widgets/controls",
      "model_module_version": "2.0.0",
      "model_name": "TextStyleModel",
      "state": {
       "description_width": "",
       "font_size": null,
       "text_color": null
      }
     },
     "1cc5e7c9d1b6495392273dc17bdb8952": {
      "model_module": "@jupyter-widgets/base",
      "model_module_version": "2.0.0",
      "model_name": "LayoutModel",
      "state": {}
     },
     "1cccae8f357d4796859d433fb3777149": {
      "model_module": "@jupyter-widgets/controls",
      "model_module_version": "2.0.0",
      "model_name": "VBoxModel",
      "state": {
       "children": [
        "IPY_MODEL_bd7feca934894d4192936136abd7804b",
        "IPY_MODEL_7d3a0338f9114a9c9f7951f94ad9032b"
       ],
       "layout": "IPY_MODEL_78ef4dee3ab64721885882b200e1a061"
      }
     },
     "1cd0c8d0af5543fa8c9019989d344ad7": {
      "model_module": "@jupyter-widgets/base",
      "model_module_version": "2.0.0",
      "model_name": "LayoutModel",
      "state": {}
     },
     "1cdbe0ae121241d7a7f44cdf11c0ff6a": {
      "model_module": "@jupyter-widgets/controls",
      "model_module_version": "2.0.0",
      "model_name": "DescriptionStyleModel",
      "state": {
       "description_width": ""
      }
     },
     "1cef16ea2e144eab945c3426d0a87dfb": {
      "model_module": "@jupyter-widgets/controls",
      "model_module_version": "2.0.0",
      "model_name": "TextStyleModel",
      "state": {
       "description_width": "",
       "font_size": null,
       "text_color": null
      }
     },
     "1d09c3f72c784b45bbbc2c589d7e78ac": {
      "model_module": "@jupyter-widgets/base",
      "model_module_version": "2.0.0",
      "model_name": "LayoutModel",
      "state": {}
     },
     "1d74b510f5814c119426b1b9a2e22bd1": {
      "model_module": "@jupyter-widgets/controls",
      "model_module_version": "2.0.0",
      "model_name": "DescriptionStyleModel",
      "state": {
       "description_width": ""
      }
     },
     "1d7ddfe4bee941469a2caf2bb669c12a": {
      "model_module": "@jupyter-widgets/base",
      "model_module_version": "2.0.0",
      "model_name": "LayoutModel",
      "state": {}
     },
     "1d7e7b5855b34bb799b08a82dd365333": {
      "model_module": "@jupyter-widgets/controls",
      "model_module_version": "2.0.0",
      "model_name": "TextStyleModel",
      "state": {
       "description_width": "",
       "font_size": null,
       "text_color": null
      }
     },
     "1d83795a733d48aca75218654acde208": {
      "model_module": "@jupyter-widgets/base",
      "model_module_version": "2.0.0",
      "model_name": "LayoutModel",
      "state": {}
     },
     "1d90f4948c9f495fb4e1be72fa25e0e3": {
      "model_module": "@jupyter-widgets/base",
      "model_module_version": "2.0.0",
      "model_name": "LayoutModel",
      "state": {}
     },
     "1db4b6ac06d8435dac92f1654721bdc5": {
      "model_module": "@jupyter-widgets/controls",
      "model_module_version": "2.0.0",
      "model_name": "TextModel",
      "state": {
       "continuous_update": false,
       "description": "Name:",
       "disabled": true,
       "layout": "IPY_MODEL_8ebb2f94bd2549198b8c98607b27e24e",
       "style": "IPY_MODEL_dd3b413980054afea7f2b9e33282d3a9",
       "value": "passenger_count"
      }
     },
     "1dba433a01014c668faceff2ad418b3a": {
      "model_module": "@jupyter-widgets/base",
      "model_module_version": "2.0.0",
      "model_name": "LayoutModel",
      "state": {}
     },
     "1e1a30e055774095be480a2f8d375d2c": {
      "model_module": "@jupyter-widgets/base",
      "model_module_version": "2.0.0",
      "model_name": "LayoutModel",
      "state": {}
     },
     "1e7540a72b1c41169cfae3d4f7488c48": {
      "model_module": "@jupyter-widgets/base",
      "model_module_version": "2.0.0",
      "model_name": "LayoutModel",
      "state": {}
     },
     "1eb94998847d480c9cf2b35f4a6fae2b": {
      "model_module": "@jupyter-widgets/base",
      "model_module_version": "2.0.0",
      "model_name": "LayoutModel",
      "state": {}
     },
     "1ee1769a24b7435f9a4db7780484302f": {
      "model_module": "@jupyter-widgets/controls",
      "model_module_version": "2.0.0",
      "model_name": "CheckboxStyleModel",
      "state": {
       "description_width": ""
      }
     },
     "1f10c33c1ad44267b995bffa9b779672": {
      "model_module": "@jupyter-widgets/base",
      "model_module_version": "2.0.0",
      "model_name": "LayoutModel",
      "state": {}
     },
     "1f5c2f1a60724a779bfa80afbcd1d2b7": {
      "model_module": "@jupyter-widgets/controls",
      "model_module_version": "2.0.0",
      "model_name": "DescriptionStyleModel",
      "state": {
       "description_width": ""
      }
     },
     "1fc1659adab14faaa7885b010d13ed38": {
      "model_module": "@jupyter-widgets/controls",
      "model_module_version": "2.0.0",
      "model_name": "TextStyleModel",
      "state": {
       "description_width": "",
       "font_size": null,
       "text_color": null
      }
     },
     "1fda2dc3d7374dd1a8201414d315ee59": {
      "model_module": "@jupyter-widgets/controls",
      "model_module_version": "2.0.0",
      "model_name": "CheckboxModel",
      "state": {
       "description": "Use",
       "disabled": false,
       "layout": "IPY_MODEL_ca9323dfd6054591ae57e472d9e9e578",
       "style": "IPY_MODEL_1961ef19a03441bf9251f2b40e264ddf",
       "value": true
      }
     },
     "1fe57d38a374415fab8be813e0082332": {
      "model_module": "@jupyter-widgets/base",
      "model_module_version": "2.0.0",
      "model_name": "LayoutModel",
      "state": {}
     },
     "2001bf4eed4d43ff840cc0146504ba6e": {
      "model_module": "@jupyter-widgets/base",
      "model_module_version": "2.0.0",
      "model_name": "LayoutModel",
      "state": {}
     },
     "20179dfb52554943b5f1a119012d3d21": {
      "model_module": "@jupyter-widgets/base",
      "model_module_version": "2.0.0",
      "model_name": "LayoutModel",
      "state": {}
     },
     "201b6acbc841411e92aa47890df16550": {
      "model_module": "@jupyter-widgets/controls",
      "model_module_version": "2.0.0",
      "model_name": "DescriptionStyleModel",
      "state": {
       "description_width": ""
      }
     },
     "206956a8e015495cbb14b7b26a5a23c8": {
      "model_module": "@jupyter-widgets/controls",
      "model_module_version": "2.0.0",
      "model_name": "DropdownModel",
      "state": {
       "_options_labels": [
        "int8",
        "uint8",
        "int16",
        "uint16",
        "int32",
        "int64",
        "uint32",
        "uint64",
        "float32",
        "float64",
        "str"
       ],
       "description": "Retype:",
       "disabled": true,
       "index": 9,
       "layout": "IPY_MODEL_c900b73aaac44edda1e5be571be2b8cf",
       "style": "IPY_MODEL_5dea70e586014988b0599669a37858a2"
      }
     },
     "2070df4a72b546d7a986b5f4ab8ae24f": {
      "model_module": "@jupyter-widgets/controls",
      "model_module_version": "2.0.0",
      "model_name": "TextStyleModel",
      "state": {
       "description_width": "",
       "font_size": null,
       "text_color": null
      }
     },
     "2080733c12cd45798d204d89556ae165": {
      "model_module": "@jupyter-widgets/controls",
      "model_module_version": "2.0.0",
      "model_name": "CheckboxModel",
      "state": {
       "description": "Infer datetime",
       "disabled": false,
       "layout": "IPY_MODEL_b99b0a4354a94c1a86f40c2e9cefad4a",
       "style": "IPY_MODEL_06f468abe0b04244a07447142dd2e123",
       "value": false
      }
     },
     "20b9052a1b3f4e9eb01d19bcbcce39cc": {
      "model_module": "@jupyter-widgets/base",
      "model_module_version": "2.0.0",
      "model_name": "LayoutModel",
      "state": {}
     },
     "20c3c72fe8ee48dfa6b71ef7c096c2f4": {
      "model_module": "@jupyter-widgets/controls",
      "model_module_version": "2.0.0",
      "model_name": "TextModel",
      "state": {
       "description": "Type:",
       "disabled": true,
       "layout": "IPY_MODEL_d7d2685700df473992ee19ff6f57e4a2",
       "style": "IPY_MODEL_a9c1f8d902f54b4f9e9150b9e0d63a5d",
       "value": "float64"
      }
     },
     "2118a43df8e745389b19d84526c4969d": {
      "model_module": "@jupyter-widgets/controls",
      "model_module_version": "2.0.0",
      "model_name": "CheckboxModel",
      "state": {
       "description": "Use",
       "disabled": false,
       "layout": "IPY_MODEL_9c02744e9baa44379331cf2434b64e52",
       "style": "IPY_MODEL_c167e0fc36664e0a8a95e9508c2335d4",
       "value": true
      }
     },
     "212fa1063a31481bab67592fcae4b7e7": {
      "model_module": "@jupyter-widgets/base",
      "model_module_version": "2.0.0",
      "model_name": "LayoutModel",
      "state": {}
     },
     "2144313943ae40a9a78c3676c8f138a9": {
      "model_module": "@jupyter-widgets/base",
      "model_module_version": "2.0.0",
      "model_name": "LayoutModel",
      "state": {}
     },
     "214f0db2d31141a48817924c3cdfff9f": {
      "model_module": "@jupyter-widgets/controls",
      "model_module_version": "2.0.0",
      "model_name": "TextStyleModel",
      "state": {
       "description_width": "",
       "font_size": null,
       "text_color": null
      }
     },
     "2175a1192fc749328292f703a12dc10e": {
      "model_module": "@jupyter-widgets/controls",
      "model_module_version": "2.0.0",
      "model_name": "TextStyleModel",
      "state": {
       "description_width": "",
       "font_size": null,
       "text_color": null
      }
     },
     "218a5e82b0344f3ead5c74ecb8881e36": {
      "model_module": "@jupyter-widgets/controls",
      "model_module_version": "2.0.0",
      "model_name": "CheckboxModel",
      "state": {
       "description": "NA values",
       "disabled": false,
       "layout": "IPY_MODEL_53e24957a6634e16ae26434502e3583b",
       "style": "IPY_MODEL_bbacbe409149424b949a43fbf35df21d",
       "value": false
      }
     },
     "21b2ad415f0a46bfbe6d532160e4f822": {
      "model_module": "@jupyter-widgets/controls",
      "model_module_version": "2.0.0",
      "model_name": "TextStyleModel",
      "state": {
       "description_width": "",
       "font_size": null,
       "text_color": null
      }
     },
     "21b956e4ef33439ca9a4ddcc0466b12c": {
      "model_module": "@jupyter-widgets/controls",
      "model_module_version": "2.0.0",
      "model_name": "TextModel",
      "state": {
       "description": "Separator:",
       "disabled": true,
       "layout": "IPY_MODEL_c2acbb565b3948278b7c986294b18603",
       "placeholder": "if many values",
       "style": "IPY_MODEL_937a7ed28eb94dd784494d71f2b39b4f"
      }
     },
     "21daefb36f68499098d663a2a3d17108": {
      "model_module": "@jupyter-widgets/controls",
      "model_module_version": "2.0.0",
      "model_name": "TextStyleModel",
      "state": {
       "description_width": "",
       "font_size": null,
       "text_color": null
      }
     },
     "21e1ba1c4bcf4caeafa24a28988a42f3": {
      "model_module": "@jupyter-widgets/base",
      "model_module_version": "2.0.0",
      "model_name": "LayoutModel",
      "state": {}
     },
     "22282e65e4234e44963290a94f74b6e1": {
      "model_module": "@jupyter-widgets/controls",
      "model_module_version": "2.0.0",
      "model_name": "TextModel",
      "state": {
       "description": "NA values:",
       "layout": "IPY_MODEL_fe53859e313d496790cf2daef4edf954",
       "style": "IPY_MODEL_66df0f2f5fe4474ca34eb86c54409e05"
      }
     },
     "228b3ef395dd43edaa8f592e894ccaaf": {
      "model_module": "@jupyter-widgets/controls",
      "model_module_version": "2.0.0",
      "model_name": "TextModel",
      "state": {
       "description": "Rename:",
       "layout": "IPY_MODEL_493d90c433854a9e8b5b4ad54fe621cd",
       "style": "IPY_MODEL_81df76efd2ff4a6484f06f29acf92230",
       "value": "tpep_dropoff_datetime"
      }
     },
     "22a09e614db6474da1deb1f37be8f7a5": {
      "model_module": "@jupyter-widgets/base",
      "model_module_version": "2.0.0",
      "model_name": "LayoutModel",
      "state": {}
     },
     "22acbfc73eed457bbd8312355c7fe4a3": {
      "model_module": "@jupyter-widgets/controls",
      "model_module_version": "2.0.0",
      "model_name": "CheckboxModel",
      "state": {
       "description": "Use",
       "disabled": false,
       "layout": "IPY_MODEL_510995e695ce4775909a044076dab213",
       "style": "IPY_MODEL_56b3533afbdb4ef295a0bc4fecd99d9f",
       "value": false
      }
     },
     "22b4079ab73048dabac118ebe6c9fa23": {
      "model_module": "@jupyter-widgets/controls",
      "model_module_version": "2.0.0",
      "model_name": "DescriptionStyleModel",
      "state": {
       "description_width": ""
      }
     },
     "22e4f43d8b9f4c32b71486c2e0423dc8": {
      "model_module": "@jupyter-widgets/controls",
      "model_module_version": "2.0.0",
      "model_name": "TextStyleModel",
      "state": {
       "description_width": "",
       "font_size": null,
       "text_color": null
      }
     },
     "23330f601a77415297c88a7dbaeb6ac7": {
      "model_module": "@jupyter-widgets/base",
      "model_module_version": "2.0.0",
      "model_name": "LayoutModel",
      "state": {}
     },
     "23362e8cff634994be8c0c31e51acb9f": {
      "model_module": "@jupyter-widgets/controls",
      "model_module_version": "2.0.0",
      "model_name": "TextModel",
      "state": {
       "description": "Type:",
       "disabled": true,
       "layout": "IPY_MODEL_613cc2ce20f545b3af5b6bb879ed9a2f",
       "style": "IPY_MODEL_195ed60b93ec4652857b1a4361344c52",
       "value": "float64"
      }
     },
     "233cfb23fff7497cb36651db89bd0207": {
      "model_module": "@jupyter-widgets/base",
      "model_module_version": "2.0.0",
      "model_name": "LayoutModel",
      "state": {}
     },
     "233e722878c54d38991957a88f2597e5": {
      "model_module": "@jupyter-widgets/base",
      "model_module_version": "2.0.0",
      "model_name": "LayoutModel",
      "state": {
       "visibility": "hidden"
      }
     },
     "2345eb96cb704552a26fbc65ac7addeb": {
      "model_module": "@jupyter-widgets/controls",
      "model_module_version": "2.0.0",
      "model_name": "CheckboxStyleModel",
      "state": {
       "description_width": ""
      }
     },
     "235345b39a8f43f68876dc4aa191bc97": {
      "model_module": "@jupyter-widgets/controls",
      "model_module_version": "2.0.0",
      "model_name": "TextStyleModel",
      "state": {
       "description_width": "",
       "font_size": null,
       "text_color": null
      }
     },
     "237f1948c1e3468892d4e5f9f41f0cd9": {
      "model_module": "@jupyter-widgets/base",
      "model_module_version": "2.0.0",
      "model_name": "LayoutModel",
      "state": {}
     },
     "237fab4b179241ac94490a1a2c44125e": {
      "model_module": "@jupyter-widgets/controls",
      "model_module_version": "2.0.0",
      "model_name": "DropdownModel",
      "state": {
       "_options_labels": [
        "int8",
        "uint8",
        "int16",
        "uint16",
        "int32",
        "int64",
        "uint32",
        "uint64",
        "float32",
        "float64",
        "str"
       ],
       "description": "Retype:",
       "index": 9,
       "layout": "IPY_MODEL_5f3d3dd3144b4c05b5c3cb6fa6fe278b",
       "style": "IPY_MODEL_c867781014424f18bbf6a93696c196b9"
      }
     },
     "238a6aa7659e4987ab1aad5207c292ad": {
      "model_module": "@jupyter-widgets/controls",
      "model_module_version": "2.0.0",
      "model_name": "ButtonModel",
      "state": {
       "description": "Resume",
       "disabled": true,
       "icon": "play",
       "layout": "IPY_MODEL_52067d1c0548461e94cfe381afae1687",
       "style": "IPY_MODEL_4ce816229a944f01a4f3a2aa331864f2",
       "tooltip": "Start"
      }
     },
     "23af7f306ec9468eb042fdedaf8f96c1": {
      "model_module": "@jupyter-widgets/controls",
      "model_module_version": "2.0.0",
      "model_name": "TextModel",
      "state": {
       "description": "Rename:",
       "layout": "IPY_MODEL_5dd25305b2e54e409dbf580083417895",
       "style": "IPY_MODEL_c10e1177d3b942ee8b77f8fea23413dd",
       "value": "pickup_longitude"
      }
     },
     "23d7629c7ffb44d9ab4a3ea28c0c20c9": {
      "model_module": "@jupyter-widgets/controls",
      "model_module_version": "2.0.0",
      "model_name": "TextStyleModel",
      "state": {
       "description_width": "",
       "font_size": null,
       "text_color": null
      }
     },
     "23ef8427a8b04e769956076263f988c5": {
      "model_module": "@jupyter-widgets/controls",
      "model_module_version": "2.0.0",
      "model_name": "CheckboxModel",
      "state": {
       "description": "NA values",
       "disabled": false,
       "layout": "IPY_MODEL_7721788dc66a4ab2986e183e95ba3fe0",
       "style": "IPY_MODEL_06c2cf7e3ab4455a99442f17b7544b64",
       "value": false
      }
     },
     "24180ca9b75643a99ed7edf96e10bbed": {
      "model_module": "@jupyter-widgets/base",
      "model_module_version": "2.0.0",
      "model_name": "LayoutModel",
      "state": {}
     },
     "241e0c2b39cf47d3be3f68c5c954421d": {
      "model_module": "@jupyter-widgets/controls",
      "model_module_version": "2.0.0",
      "model_name": "CheckboxModel",
      "state": {
       "description": "NA values",
       "disabled": false,
       "layout": "IPY_MODEL_7cca389910ff435283d6f54c6808c3fb",
       "style": "IPY_MODEL_2e580d1a13fa4def91a32e01cd777ec4",
       "value": false
      }
     },
     "24299e090d484da6b7d72075e644db0e": {
      "model_module": "@jupyter-widgets/base",
      "model_module_version": "2.0.0",
      "model_name": "LayoutModel",
      "state": {}
     },
     "242c3b5914db47438ced08de4ab5ccd5": {
      "model_module": "@jupyter-widgets/controls",
      "model_module_version": "2.0.0",
      "model_name": "TextModel",
      "state": {
       "continuous_update": false,
       "description": "Name:",
       "disabled": true,
       "layout": "IPY_MODEL_8be0b60351654444a7945518c89acd0f",
       "style": "IPY_MODEL_c2be93f6dd9e47c89c8623c093cf4f9b",
       "value": "mta_tax"
      }
     },
     "24c2ab42d17846fca0dc71412e1efa0a": {
      "model_module": "@jupyter-widgets/controls",
      "model_module_version": "2.0.0",
      "model_name": "VBoxModel",
      "state": {
       "children": [
        "IPY_MODEL_f476283c7a854313b3993864ee149059",
        "IPY_MODEL_c3c88a22290d4a0cadc1a26fc9de718a",
        "IPY_MODEL_088d7ec54c4748ecba96b0dd3bee8b8f",
        "IPY_MODEL_4bb9cb7610b84a4d94cfc8bca8edcc80",
        "IPY_MODEL_87c496923e8640908aa535530bcc7015",
        "IPY_MODEL_e15f24d0d938408bb9465b7b8059cd30",
        "IPY_MODEL_7e249cd823264bdfa812e1a4c3f2f1fe"
       ],
       "layout": "IPY_MODEL_09105681f4e24c3ea71321fc430438c4"
      }
     },
     "24e117cc5c0a42f88d2e95bef15976be": {
      "model_module": "@jupyter-widgets/base",
      "model_module_version": "2.0.0",
      "model_name": "LayoutModel",
      "state": {}
     },
     "24f224f74c5446498b6f3dd3b0ef4cf6": {
      "model_module": "@jupyter-widgets/controls",
      "model_module_version": "2.0.0",
      "model_name": "DescriptionStyleModel",
      "state": {
       "description_width": ""
      }
     },
     "2520bbbec10042a7a6fdb54714f6a1ac": {
      "model_module": "@jupyter-widgets/base",
      "model_module_version": "2.0.0",
      "model_name": "LayoutModel",
      "state": {}
     },
     "25779129965f49ca9ab824122faa8dc2": {
      "model_module": "@jupyter-widgets/controls",
      "model_module_version": "2.0.0",
      "model_name": "TextStyleModel",
      "state": {
       "description_width": "",
       "font_size": null,
       "text_color": null
      }
     },
     "25d05ea567f448cb9905536e6579016e": {
      "model_module": "@jupyter-widgets/base",
      "model_module_version": "2.0.0",
      "model_name": "LayoutModel",
      "state": {}
     },
     "25f044d6f38b4b45b25f69acc3e3b028": {
      "model_module": "@jupyter-widgets/controls",
      "model_module_version": "2.0.0",
      "model_name": "TextModel",
      "state": {
       "description": "Separator:",
       "disabled": true,
       "layout": "IPY_MODEL_884480e872654f71bc5538c410b16294",
       "placeholder": "if many values",
       "style": "IPY_MODEL_962a7b59cf4c4ec082eba6fea90e2642"
      }
     },
     "25f6e88c672f40e6bacd3a4274cdab50": {
      "model_module": "@jupyter-widgets/base",
      "model_module_version": "2.0.0",
      "model_name": "LayoutModel",
      "state": {}
     },
     "261a0001019d4e7792c2abb1aaac6ca2": {
      "model_module": "@jupyter-widgets/controls",
      "model_module_version": "2.0.0",
      "model_name": "TextModel",
      "state": {
       "description": "NA values:",
       "layout": "IPY_MODEL_c4b68246da034ba7930514f0ba26bd4f",
       "style": "IPY_MODEL_2ff498d080734085be5dc61b13aafdba"
      }
     },
     "261ddda26d0048ba92ceb682cbfce81e": {
      "model_module": "@jupyter-widgets/controls",
      "model_module_version": "2.0.0",
      "model_name": "TextStyleModel",
      "state": {
       "description_width": "",
       "font_size": null,
       "text_color": null
      }
     },
     "265c6efdd61d478cb90f344d8bd50462": {
      "model_module": "@jupyter-widgets/controls",
      "model_module_version": "2.0.0",
      "model_name": "CheckboxModel",
      "state": {
       "description": "NA values",
       "disabled": false,
       "layout": "IPY_MODEL_c6174a7bcb934ea69bbedd76ba6fa0b6",
       "style": "IPY_MODEL_c5e8a6fa5f7c42b89806e4a7138f1c93",
       "value": false
      }
     },
     "268bc71f33334ca993650c5a060f273d": {
      "model_module": "@jupyter-widgets/controls",
      "model_module_version": "2.0.0",
      "model_name": "TextModel",
      "state": {
       "description": "Rename:",
       "layout": "IPY_MODEL_bc0f8a5c49a240d1b6bd7c6a65b7c2e8",
       "style": "IPY_MODEL_441f5cceb2634d388c65aadd67818bfb",
       "value": "dropoff_latitude"
      }
     },
     "26bd7f9a1d7f4e9fa77d7529b261a285": {
      "model_module": "@jupyter-widgets/controls",
      "model_module_version": "2.0.0",
      "model_name": "TextStyleModel",
      "state": {
       "description_width": "",
       "font_size": null,
       "text_color": null
      }
     },
     "27062b7e8bf741acaf665b8fea53b848": {
      "model_module": "@jupyter-widgets/controls",
      "model_module_version": "2.0.0",
      "model_name": "VBoxModel",
      "state": {
       "children": [
        "IPY_MODEL_4f356b869d2b4ef48aace1e38792cf75",
        "IPY_MODEL_87c1290e19a0460e84f2c6abf874d991",
        "IPY_MODEL_9b07f2d2bc8f4f9990842ee156edd3c4",
        "IPY_MODEL_bc982753e3b7442285c746d0f26097c1",
        "IPY_MODEL_0fd04272c5e44ebabd507637ddf90790",
        "IPY_MODEL_02c378ecd2934dcbb60a095bd4320d13",
        "IPY_MODEL_59b4f214b49947199767066f5eacde7e"
       ],
       "layout": "IPY_MODEL_e2a8dab8f47e47919d4a8caae54dd5c7"
      }
     },
     "270ed7da0e104b61953d119b55b0a385": {
      "model_module": "@jupyter-widgets/controls",
      "model_module_version": "2.0.0",
      "model_name": "TextStyleModel",
      "state": {
       "description_width": "",
       "font_size": null,
       "text_color": null
      }
     },
     "272805a2148e4c3daa056759381d38e3": {
      "model_module": "@jupyter-widgets/base",
      "model_module_version": "2.0.0",
      "model_name": "LayoutModel",
      "state": {}
     },
     "272b61537cf54b25b1455319c4f9cc9f": {
      "model_module": "@jupyter-widgets/controls",
      "model_module_version": "2.0.0",
      "model_name": "TabModel",
      "state": {
       "children": [
        "IPY_MODEL_eacf72138ce64bba97f70efd3a59d6a8",
        "IPY_MODEL_c8926d2f6f0d470eb88ecfe1e7d9b8e6"
       ],
       "layout": "IPY_MODEL_d3ec238961084589a3a840842bfc8509",
       "selected_index": 0,
       "titles": [
        "Main",
        "Output slots"
       ]
      }
     },
     "273146b2eb2d413e8e2138d082c72943": {
      "model_module": "@jupyter-widgets/controls",
      "model_module_version": "2.0.0",
      "model_name": "CheckboxModel",
      "state": {
       "description": "NA values",
       "disabled": false,
       "layout": "IPY_MODEL_bf8345310a834b8498b1115c4e8b783a",
       "style": "IPY_MODEL_71e7a86345404f0b9b831fd97f54c083",
       "value": false
      }
     },
     "2731d2dc040941c08ad07a4b1bbc876c": {
      "model_module": "@jupyter-widgets/controls",
      "model_module_version": "2.0.0",
      "model_name": "LabelModel",
      "state": {
       "layout": "IPY_MODEL_c34e7e093d094674bb3314ab9b62b7ed",
       "style": "IPY_MODEL_d8071bc857c34fb8aa7f89c417531ae9",
       "value": "dongle"
      }
     },
     "275e970539f64d6faa3155abdbac0b28": {
      "model_module": "@jupyter-widgets/base",
      "model_module_version": "2.0.0",
      "model_name": "LayoutModel",
      "state": {}
     },
     "2774345a41524c1f8cbdc0209ba5f109": {
      "model_module": "@jupyter-widgets/controls",
      "model_module_version": "2.0.0",
      "model_name": "TextModel",
      "state": {
       "description": "Rename:",
       "layout": "IPY_MODEL_4738b7fffbd445619f25335a71cf874c",
       "style": "IPY_MODEL_44eb9f0716aa472395c93abc4e2fd3e7",
       "value": "tpep_dropoff_datetime"
      }
     },
     "27bce017a2f1436489eac3344292aca7": {
      "model_module": "@jupyter-widgets/controls",
      "model_module_version": "2.0.0",
      "model_name": "TextModel",
      "state": {
       "description": "NA values:",
       "layout": "IPY_MODEL_8928473c80774d6fa0bf4ca5bc52b339",
       "style": "IPY_MODEL_09c241c8b7364695bfdd787fab91c61a"
      }
     },
     "27de0db7fdb844d699895a2867e92ba6": {
      "model_module": "@jupyter-widgets/base",
      "model_module_version": "2.0.0",
      "model_name": "LayoutModel",
      "state": {}
     },
     "27f54939cdf74680b92d534183f8c26e": {
      "model_module": "@jupyter-widgets/controls",
      "model_module_version": "2.0.0",
      "model_name": "VBoxModel",
      "state": {
       "children": [
        "IPY_MODEL_b317b2a300df4fd1bf7cd3d5663fae5d",
        "IPY_MODEL_30097676d75d4d9a88e5dd4acce00842",
        "IPY_MODEL_80a98c728ae745bfb01cf2ca3f6d2c4d",
        "IPY_MODEL_f2b4922997fd4228b699692f2f3e0900",
        "IPY_MODEL_2e73ef44776e41d8b3e579da91bf12e3",
        "IPY_MODEL_13d7f87fb228490eb9582cf7641c3629",
        "IPY_MODEL_3cc5a215262d4cf3a890d7c13d4be044"
       ],
       "layout": "IPY_MODEL_b8d0a7ba6e8746f2b16c5d7bcc3de9d2"
      }
     },
     "288c8fcbd32a430db562b45f93c67c27": {
      "model_module": "@jupyter-widgets/controls",
      "model_module_version": "2.0.0",
      "model_name": "CheckboxStyleModel",
      "state": {
       "description_width": ""
      }
     },
     "28b7853a654f45bcaabb033b7ee1825c": {
      "model_module": "@jupyter-widgets/controls",
      "model_module_version": "2.0.0",
      "model_name": "TextareaModel",
      "state": {
       "layout": "IPY_MODEL_175c043c010946c0aa1599e44869da3b",
       "rows": 3,
       "style": "IPY_MODEL_3f522cb06c2d4cde8f622f606a80c5ac",
       "value": "{'delimiter': ',', 'header': 0, 'index_col': False, 'usecols': ['tpep_pickup_datetime', 'tpep_dropoff_datetime', 'passenger_count', 'trip_distance'], 'dtype': {'tpep_pickup_datetime': 'str', 'tpep_dropoff_datetime': 'str'}, 'parse_dates': ['tpep_pickup_datetime', 'tpep_dropoff_datetime'], 'doublequote': False}"
      }
     },
     "292aec71213648688c4b11de970f04ec": {
      "model_module": "@jupyter-widgets/controls",
      "model_module_version": "2.0.0",
      "model_name": "TextModel",
      "state": {
       "description": "Separator:",
       "disabled": true,
       "layout": "IPY_MODEL_c80de9e9330f4ff79afedfe41cc20518",
       "placeholder": "if many values",
       "style": "IPY_MODEL_5ac0495b34c44d3a85b2af9f34db5d6f"
      }
     },
     "2930251bdacf4438b393514f3d89e647": {
      "model_module": "@jupyter-widgets/controls",
      "model_module_version": "2.0.0",
      "model_name": "TextStyleModel",
      "state": {
       "description_width": "",
       "font_size": null,
       "text_color": null
      }
     },
     "2934fe71b9e14c24b3ce0c936bf50838": {
      "model_module": "@jupyter-widgets/controls",
      "model_module_version": "2.0.0",
      "model_name": "TextStyleModel",
      "state": {
       "description_width": "",
       "font_size": null,
       "text_color": null
      }
     },
     "293d6f189ae64e96b8d380233f19cfda": {
      "model_module": "@jupyter-widgets/base",
      "model_module_version": "2.0.0",
      "model_name": "LayoutModel",
      "state": {}
     },
     "2952768753f648a3a28d99d8cf20128f": {
      "model_module": "@jupyter-widgets/controls",
      "model_module_version": "2.0.0",
      "model_name": "TextModel",
      "state": {
       "description": "Separator:",
       "disabled": true,
       "layout": "IPY_MODEL_293d6f189ae64e96b8d380233f19cfda",
       "placeholder": "if many values",
       "style": "IPY_MODEL_d62faee585fd46f28a329bfedf087d3f"
      }
     },
     "296118c6c2ec4d37a9933a5d1e782861": {
      "model_module": "@jupyter-widgets/controls",
      "model_module_version": "2.0.0",
      "model_name": "TextStyleModel",
      "state": {
       "description_width": "",
       "font_size": null,
       "text_color": null
      }
     },
     "2969610836674a49b217afb5c2b23d06": {
      "model_module": "@jupyter-widgets/base",
      "model_module_version": "2.0.0",
      "model_name": "LayoutModel",
      "state": {}
     },
     "296f42eec501465ead1ed671924a62dd": {
      "model_module": "@jupyter-widgets/base",
      "model_module_version": "2.0.0",
      "model_name": "LayoutModel",
      "state": {}
     },
     "29a43c2c3b7048b08ef3abed608cfea1": {
      "model_module": "@jupyter-widgets/base",
      "model_module_version": "2.0.0",
      "model_name": "LayoutModel",
      "state": {}
     },
     "29c6750b20ce44449f443944a7aaf5a7": {
      "model_module": "@jupyter-widgets/base",
      "model_module_version": "2.0.0",
      "model_name": "LayoutModel",
      "state": {}
     },
     "2a0b0e3667bf4665bf7b498c384d93c4": {
      "model_module": "@jupyter-widgets/base",
      "model_module_version": "2.0.0",
      "model_name": "LayoutModel",
      "state": {}
     },
     "2a1c5120da8c493d9ab016abe41e1adb": {
      "model_module": "@jupyter-widgets/base",
      "model_module_version": "2.0.0",
      "model_name": "LayoutModel",
      "state": {}
     },
     "2a2982992b4f46f593675a043daef7ac": {
      "model_module": "@jupyter-widgets/base",
      "model_module_version": "2.0.0",
      "model_name": "LayoutModel",
      "state": {}
     },
     "2a721315ad434491b07be9112b26cfde": {
      "model_module": "@jupyter-widgets/base",
      "model_module_version": "2.0.0",
      "model_name": "LayoutModel",
      "state": {}
     },
     "2a871c77b2e24feca3cd5864e2813ead": {
      "model_module": "@jupyter-widgets/base",
      "model_module_version": "2.0.0",
      "model_name": "LayoutModel",
      "state": {
       "width": "100%"
      }
     },
     "2a9aacd3c01f44049e99eab0f79b0f7b": {
      "model_module": "@jupyter-widgets/controls",
      "model_module_version": "2.0.0",
      "model_name": "ButtonStyleModel",
      "state": {
       "font_family": null,
       "font_size": null,
       "font_style": null,
       "font_variant": null,
       "font_weight": null,
       "text_color": null,
       "text_decoration": null
      }
     },
     "2ac041d8f6e24e0aafaf5a8b4d0bffe5": {
      "model_module": "@jupyter-widgets/controls",
      "model_module_version": "2.0.0",
      "model_name": "TextStyleModel",
      "state": {
       "description_width": "",
       "font_size": null,
       "text_color": null
      }
     },
     "2ace5b6d2bed4771bbfd48df25372f50": {
      "model_module": "@jupyter-widgets/controls",
      "model_module_version": "2.0.0",
      "model_name": "DescriptionStyleModel",
      "state": {
       "description_width": ""
      }
     },
     "2ad26e25cf644fa3bd17f7966a08599e": {
      "model_module": "@jupyter-widgets/controls",
      "model_module_version": "2.0.0",
      "model_name": "TextModel",
      "state": {
       "description": "Separator:",
       "disabled": true,
       "layout": "IPY_MODEL_40873309311a4fd2b542e4e861373399",
       "placeholder": "if many values",
       "style": "IPY_MODEL_3ef274a712e348febbe2c8018336d799"
      }
     },
     "2b01c7154259473abfc42254b32b5de0": {
      "model_module": "@jupyter-widgets/controls",
      "model_module_version": "2.0.0",
      "model_name": "TextStyleModel",
      "state": {
       "description_width": "",
       "font_size": null,
       "text_color": null
      }
     },
     "2b09ef41357b4a08b5bb3eae499bba0d": {
      "model_module": "@jupyter-widgets/controls",
      "model_module_version": "2.0.0",
      "model_name": "TextStyleModel",
      "state": {
       "description_width": "",
       "font_size": null,
       "text_color": null
      }
     },
     "2b28e77e0f8c436085829d9336503a07": {
      "model_module": "@jupyter-widgets/controls",
      "model_module_version": "2.0.0",
      "model_name": "TextStyleModel",
      "state": {
       "description_width": "",
       "font_size": null,
       "text_color": null
      }
     },
     "2b51d9791b6b4f7bb9ef888b0673c8c7": {
      "model_module": "@jupyter-widgets/controls",
      "model_module_version": "2.0.0",
      "model_name": "TextModel",
      "state": {
       "description": "NA values:",
       "layout": "IPY_MODEL_3333699ac55e43818a7ac00348827c8a",
       "style": "IPY_MODEL_de0d5e75faab419bbb98458efc77f647"
      }
     },
     "2ba6bf50b51842c3aed9c6073ba53ae1": {
      "model_module": "@jupyter-widgets/base",
      "model_module_version": "2.0.0",
      "model_name": "LayoutModel",
      "state": {}
     },
     "2bbcbae96a9542d38ef13de3c2609469": {
      "model_module": "@jupyter-widgets/base",
      "model_module_version": "2.0.0",
      "model_name": "LayoutModel",
      "state": {}
     },
     "2be3b7ae095d4a449ffa54360468e06d": {
      "model_module": "@jupyter-widgets/controls",
      "model_module_version": "2.0.0",
      "model_name": "TextModel",
      "state": {
       "description": "NA values:",
       "layout": "IPY_MODEL_7e2f3300aae04ef9bcdca243468b634c",
       "style": "IPY_MODEL_f523d8c1f13a4208af95fcb6b8b24d47"
      }
     },
     "2c1ad93593ff439abf0b0625b2749a44": {
      "model_module": "@jupyter-widgets/base",
      "model_module_version": "2.0.0",
      "model_name": "LayoutModel",
      "state": {}
     },
     "2c4b1b24f70f41f19f7252bcbfc7a350": {
      "model_module": "@jupyter-widgets/base",
      "model_module_version": "2.0.0",
      "model_name": "LayoutModel",
      "state": {}
     },
     "2c5220e851e3444697641eeb49551f15": {
      "model_module": "@jupyter-widgets/controls",
      "model_module_version": "2.0.0",
      "model_name": "CheckboxModel",
      "state": {
       "description": "NA values",
       "disabled": false,
       "layout": "IPY_MODEL_bcf4d1c4a6c14a949fc82cb8c2487741",
       "style": "IPY_MODEL_97685c81a5e24eebabe70e04316ac830",
       "value": false
      }
     },
     "2c5299bdc13a4076b7663427ffb75c85": {
      "model_module": "@jupyter-widgets/controls",
      "model_module_version": "2.0.0",
      "model_name": "TextModel",
      "state": {
       "description": "Rename:",
       "layout": "IPY_MODEL_c914de2bb722415680c47d41e4ab10eb",
       "style": "IPY_MODEL_cfb0da10d1c34f2994e03d8767c06f4d",
       "value": "extra"
      }
     },
     "2c573ca68b0f4fbb8e28b36e41e91023": {
      "model_module": "@jupyter-widgets/controls",
      "model_module_version": "2.0.0",
      "model_name": "VBoxModel",
      "state": {
       "children": [
        "IPY_MODEL_38fafc1397cc43d7b5f716b55ad3df75",
        "IPY_MODEL_38d9eaec12d54f0a8bbd10856fb9d41b",
        "IPY_MODEL_1bbb48cf8cbe44c9a02452274a63b482",
        "IPY_MODEL_9117fdcb5f0b4a94bf5a93661cf4ee33",
        "IPY_MODEL_ab5e4282a5d34b5c98eb0043a098126c",
        "IPY_MODEL_7661383e17c44223a18ba284b7a565eb",
        "IPY_MODEL_f8bfac0346894e3bbb16d322b02755ce"
       ],
       "layout": "IPY_MODEL_40e27dbd00cb401da75d872b5461ce6d"
      }
     },
     "2c5d0b2a571e433783ed1877261e8beb": {
      "model_module": "@jupyter-widgets/controls",
      "model_module_version": "2.0.0",
      "model_name": "TextModel",
      "state": {
       "description": "Rename:",
       "layout": "IPY_MODEL_c034916727ae4af6a319a4053bd464b0",
       "style": "IPY_MODEL_37722cd680b9474d91ba2bbe571ea36b",
       "value": "tpep_dropoff_datetime"
      }
     },
     "2c7073e6550945d18df26e8df9d31db3": {
      "model_module": "@jupyter-widgets/controls",
      "model_module_version": "2.0.0",
      "model_name": "TextModel",
      "state": {
       "description": "Unique vals:",
       "layout": "IPY_MODEL_aea0549feee64970ba7471e00dcc8f16",
       "style": "IPY_MODEL_52c42f5bdeae415ea253afdf050765e5",
       "value": "99/99"
      }
     },
     "2c839afcfa144599aa36cd02b2007313": {
      "model_module": "@jupyter-widgets/controls",
      "model_module_version": "2.0.0",
      "model_name": "TextModel",
      "state": {
       "continuous_update": false,
       "description": "Name:",
       "disabled": true,
       "layout": "IPY_MODEL_0777a7c711cd491483c4e202fd5816d9",
       "style": "IPY_MODEL_412fadbb20fc42159798056654fd2871",
       "value": "mta_tax"
      }
     },
     "2cca32f56c7747f68cf9281d55aed380": {
      "model_module": "@jupyter-widgets/base",
      "model_module_version": "2.0.0",
      "model_name": "LayoutModel",
      "state": {}
     },
     "2ce5b9d893b94a4ba053042550e20a6f": {
      "model_module": "@jupyter-widgets/controls",
      "model_module_version": "2.0.0",
      "model_name": "TextStyleModel",
      "state": {
       "description_width": "",
       "font_size": null,
       "text_color": null
      }
     },
     "2cea6a3210374e64ad9c049326a40bc5": {
      "model_module": "@jupyter-widgets/base",
      "model_module_version": "2.0.0",
      "model_name": "LayoutModel",
      "state": {}
     },
     "2cfd78995fa84cafab056476f6f13ce8": {
      "model_module": "@jupyter-widgets/base",
      "model_module_version": "2.0.0",
      "model_name": "LayoutModel",
      "state": {}
     },
     "2d02763801504297bdaf820bd61974e0": {
      "model_module": "@jupyter-widgets/controls",
      "model_module_version": "2.0.0",
      "model_name": "TextStyleModel",
      "state": {
       "description_width": "",
       "font_size": null,
       "text_color": null
      }
     },
     "2d093e6488b343d4bbfc582acead1675": {
      "model_module": "@jupyter-widgets/controls",
      "model_module_version": "2.0.0",
      "model_name": "VBoxModel",
      "state": {
       "children": [
        "IPY_MODEL_0fb2799edeba4d0bbaca83b7b3407e4a",
        "IPY_MODEL_0f8dc62c6451441e9d686435f538cead",
        "IPY_MODEL_c2591b7e085c4458ba3965dad307f6b3",
        "IPY_MODEL_4214ced51d2f408f90eadb76fa02a4c0",
        "IPY_MODEL_4950e62ded86495fbbef81481a08dca6",
        "IPY_MODEL_fc1a153d6a1d4b6eaa443d580f2495b0",
        "IPY_MODEL_7b874f849f72430fa8798500f3388231"
       ],
       "layout": "IPY_MODEL_f535f2544a6c48d78be92824f2283242"
      }
     },
     "2d13fd447a4d4cc69108f56b3fc9d1aa": {
      "model_module": "@jupyter-widgets/base",
      "model_module_version": "2.0.0",
      "model_name": "LayoutModel",
      "state": {}
     },
     "2d424c59509b43bf9e7c5774ee35efdd": {
      "model_module": "@jupyter-widgets/controls",
      "model_module_version": "2.0.0",
      "model_name": "TextStyleModel",
      "state": {
       "description_width": "",
       "font_size": null,
       "text_color": null
      }
     },
     "2d8fd9bdca784399aa29f116ae4ba71c": {
      "model_module": "@jupyter-widgets/controls",
      "model_module_version": "2.0.0",
      "model_name": "TextModel",
      "state": {
       "description": "Separator:",
       "disabled": true,
       "layout": "IPY_MODEL_cfccacf4dcb049669568e00abbe830e9",
       "placeholder": "if many values",
       "style": "IPY_MODEL_d85e09ec99cd43558cb593573a5a91be"
      }
     },
     "2daf5bf697ab4b41a9689cb0557bc113": {
      "model_module": "@jupyter-widgets/controls",
      "model_module_version": "2.0.0",
      "model_name": "VBoxModel",
      "state": {
       "children": [
        "IPY_MODEL_bbe7902c3b404e7ab5a1a49d82249149",
        "IPY_MODEL_e3eb50763bfb429d89ac75c698ddaf60",
        "IPY_MODEL_da4465da502f443cb3f9169540966ddc",
        "IPY_MODEL_b25b4bb8f881419f8b014e88b7a31962",
        "IPY_MODEL_561c6ab6f5264606a756b6f4ebaa550a",
        "IPY_MODEL_7fc4091fb05c476db279f6955b23962e",
        "IPY_MODEL_5a38fdbfe8544180bf4f8737f5dcae5a"
       ],
       "layout": "IPY_MODEL_90fa0014e0bf431b94664ef3f516132c"
      }
     },
     "2e1440bb3b2844579092791c73842069": {
      "model_module": "@jupyter-widgets/controls",
      "model_module_version": "2.0.0",
      "model_name": "TextModel",
      "state": {
       "description": "Type:",
       "disabled": true,
       "layout": "IPY_MODEL_e8ea42d74e5549c991b3ad07c0ed74bd",
       "style": "IPY_MODEL_3a517759db1a4436adec42a0a6a3a2f9",
       "value": "float64"
      }
     },
     "2e24138be68e4ec9a1e5030257788ee7": {
      "model_module": "@jupyter-widgets/controls",
      "model_module_version": "2.0.0",
      "model_name": "TextStyleModel",
      "state": {
       "description_width": "",
       "font_size": null,
       "text_color": null
      }
     },
     "2e580d1a13fa4def91a32e01cd777ec4": {
      "model_module": "@jupyter-widgets/controls",
      "model_module_version": "2.0.0",
      "model_name": "CheckboxStyleModel",
      "state": {
       "description_width": ""
      }
     },
     "2e73ef44776e41d8b3e579da91bf12e3": {
      "model_module": "@jupyter-widgets/controls",
      "model_module_version": "2.0.0",
      "model_name": "CheckboxModel",
      "state": {
       "description": "Use",
       "disabled": false,
       "layout": "IPY_MODEL_8800d5d3389040e683e5e4ed30383db2",
       "style": "IPY_MODEL_7f3d9f25e79042cca1d123f388e9b862",
       "value": true
      }
     },
     "2e7a3ca1d6cf4683bac3019d1c6519ef": {
      "model_module": "@jupyter-widgets/controls",
      "model_module_version": "2.0.0",
      "model_name": "CheckboxModel",
      "state": {
       "description": "NA values",
       "disabled": false,
       "layout": "IPY_MODEL_b4c23610b2c64e0eaeead8fe7557d83e",
       "style": "IPY_MODEL_7d9f6f77fb2b4691bc87b042c8f7f45b",
       "value": false
      }
     },
     "2ea2ae05daeb4b8ba1c77145361c8d11": {
      "model_module": "@jupyter-widgets/controls",
      "model_module_version": "2.0.0",
      "model_name": "TextModel",
      "state": {
       "description": "NA values:",
       "layout": "IPY_MODEL_09032a958b6d4b60939f9d31ef2ee538",
       "style": "IPY_MODEL_9b25e1f05f3f41139fdec4ada3747aa3"
      }
     },
     "2eecac4c07b94d6fbb5f1a579de744e4": {
      "model_module": "@jupyter-widgets/controls",
      "model_module_version": "2.0.0",
      "model_name": "TextStyleModel",
      "state": {
       "description_width": "",
       "font_size": null,
       "text_color": null
      }
     },
     "2f3a551335c0425893bc00a6961c4518": {
      "model_module": "@jupyter-widgets/controls",
      "model_module_version": "2.0.0",
      "model_name": "DescriptionStyleModel",
      "state": {
       "description_width": ""
      }
     },
     "2f48c611961a414ab019dad6734871fa": {
      "model_module": "@jupyter-widgets/controls",
      "model_module_version": "2.0.0",
      "model_name": "TextModel",
      "state": {
       "description": "Separator:",
       "disabled": true,
       "layout": "IPY_MODEL_ed44e29965b248a2b93fdeb30c80688a",
       "placeholder": "if many values",
       "style": "IPY_MODEL_35f874609a154768981ce711d0f26b53"
      }
     },
     "2f4e352b1824439c9bbfca964ea3ce7b": {
      "model_module": "@jupyter-widgets/controls",
      "model_module_version": "2.0.0",
      "model_name": "TextModel",
      "state": {
       "description": "Unique vals:",
       "layout": "IPY_MODEL_457d48388c484d918e2edebabd7dbfca",
       "style": "IPY_MODEL_598ed57c672740908e1a51da908ad537",
       "value": "2/99"
      }
     },
     "2f4f221c34ba4624ac7bbc758d3e0832": {
      "model_module": "@jupyter-widgets/controls",
      "model_module_version": "2.0.0",
      "model_name": "TextModel",
      "state": {
       "continuous_update": false,
       "description": "Name:",
       "disabled": true,
       "layout": "IPY_MODEL_f182d5e7b1894418bdce53e2767f6d93",
       "style": "IPY_MODEL_5f905458e3a94d6ca95f706e6ab16fb7",
       "value": "extra"
      }
     },
     "2f688a2da3c24b21983f77117adcbfc2": {
      "model_module": "@jupyter-widgets/base",
      "model_module_version": "2.0.0",
      "model_name": "LayoutModel",
      "state": {}
     },
     "2f68b1a4ede9492db3093b93a65c9462": {
      "model_module": "@jupyter-widgets/controls",
      "model_module_version": "2.0.0",
      "model_name": "CheckboxStyleModel",
      "state": {
       "description_width": ""
      }
     },
     "2f6fe1a73a1442898f7f2ba84c2fdf1c": {
      "model_module": "@jupyter-widgets/base",
      "model_module_version": "2.0.0",
      "model_name": "LayoutModel",
      "state": {}
     },
     "2f7afa1f2d4b4eddb1f85b92e586fcca": {
      "model_module": "@jupyter-widgets/base",
      "model_module_version": "2.0.0",
      "model_name": "LayoutModel",
      "state": {}
     },
     "2f951261d6aa4c0f8ec88d919fb8aa3f": {
      "model_module": "@jupyter-widgets/controls",
      "model_module_version": "2.0.0",
      "model_name": "TextStyleModel",
      "state": {
       "description_width": "",
       "font_size": null,
       "text_color": null
      }
     },
     "2f9d12836b094b12991e6a4c38983818": {
      "model_module": "@jupyter-widgets/controls",
      "model_module_version": "2.0.0",
      "model_name": "TextModel",
      "state": {
       "description": "Type:",
       "disabled": true,
       "layout": "IPY_MODEL_68359d82459d4200b7e110aa525b6f23",
       "style": "IPY_MODEL_902d8499ca9342439f2302c37242d7a5",
       "value": "float64"
      }
     },
     "2fee54b1769e428f93f7b5df65462399": {
      "model_module": "@jupyter-widgets/base",
      "model_module_version": "2.0.0",
      "model_name": "LayoutModel",
      "state": {}
     },
     "2ff498d080734085be5dc61b13aafdba": {
      "model_module": "@jupyter-widgets/controls",
      "model_module_version": "2.0.0",
      "model_name": "TextStyleModel",
      "state": {
       "description_width": "",
       "font_size": null,
       "text_color": null
      }
     },
     "30097676d75d4d9a88e5dd4acce00842": {
      "model_module": "@jupyter-widgets/controls",
      "model_module_version": "2.0.0",
      "model_name": "TextModel",
      "state": {
       "description": "Rename:",
       "layout": "IPY_MODEL_ee55ee86d4364f6a9ebe0bd9a359c42f",
       "style": "IPY_MODEL_25779129965f49ca9ab824122faa8dc2",
       "value": "trip_distance"
      }
     },
     "3067c16ed99449d9b2f3c19f06e0c2b0": {
      "model_module": "@jupyter-widgets/controls",
      "model_module_version": "2.0.0",
      "model_name": "TextStyleModel",
      "state": {
       "description_width": "",
       "font_size": null,
       "text_color": null
      }
     },
     "30769fd08cde45cfbfff5c6c13c30e9e": {
      "model_module": "@jupyter-widgets/base",
      "model_module_version": "2.0.0",
      "model_name": "LayoutModel",
      "state": {}
     },
     "308e4388e69f4a859e94b9ddd9abffa8": {
      "model_module": "@jupyter-widgets/controls",
      "model_module_version": "2.0.0",
      "model_name": "DescriptionStyleModel",
      "state": {
       "description_width": ""
      }
     },
     "30a40381f21245b89ad4967f5f0abcec": {
      "model_module": "@jupyter-widgets/controls",
      "model_module_version": "2.0.0",
      "model_name": "CheckboxStyleModel",
      "state": {
       "description_width": ""
      }
     },
     "30cfeed950a143edb650961b83cf49dd": {
      "model_module": "@jupyter-widgets/controls",
      "model_module_version": "2.0.0",
      "model_name": "TextModel",
      "state": {
       "description": "Rename:",
       "layout": "IPY_MODEL_4ce345588ea249a694bf9934cd2bc93b",
       "style": "IPY_MODEL_f15290dba73c4345b152b492ff7f3ee4",
       "value": "dropoff_latitude"
      }
     },
     "310c7748856a4125a66762522d907e35": {
      "model_module": "@jupyter-widgets/controls",
      "model_module_version": "2.0.0",
      "model_name": "CheckboxModel",
      "state": {
       "description": "NA values",
       "disabled": false,
       "layout": "IPY_MODEL_bc3e3e4ce51046f8844f14e0e995a76c",
       "style": "IPY_MODEL_f12fef9dbd6948cfaa5a932d42e82c8b",
       "value": false
      }
     },
     "31404520cada452bab6c18e291757b13": {
      "model_module": "@jupyter-widgets/controls",
      "model_module_version": "2.0.0",
      "model_name": "TextStyleModel",
      "state": {
       "description_width": "",
       "font_size": null,
       "text_color": null
      }
     },
     "319bd2b11ff74ee395d8592cadcfa63e": {
      "model_module": "@jupyter-widgets/controls",
      "model_module_version": "2.0.0",
      "model_name": "TextStyleModel",
      "state": {
       "description_width": "",
       "font_size": null,
       "text_color": null
      }
     },
     "31bf121602dc445fbc251f8238ee44e1": {
      "model_module": "@jupyter-widgets/base",
      "model_module_version": "2.0.0",
      "model_name": "LayoutModel",
      "state": {}
     },
     "31f19492554a46b5a9cebbbfcc11822d": {
      "model_module": "@jupyter-widgets/controls",
      "model_module_version": "2.0.0",
      "model_name": "DescriptionStyleModel",
      "state": {
       "description_width": ""
      }
     },
     "3209d4f464fc457f9ffa48d233fe4eeb": {
      "model_module": "@jupyter-widgets/controls",
      "model_module_version": "2.0.0",
      "model_name": "TabModel",
      "state": {
       "children": [
        "IPY_MODEL_8b648918d55144f4b96c9a1e4536464b",
        "IPY_MODEL_b0b57f2f2fd14e40bcea164b542207f2",
        "IPY_MODEL_679cb39c7ee046809c9b0aa49d59a4f0",
        "IPY_MODEL_7d7bd90a26184f149c26a9ccbc4d3129"
       ],
       "layout": "IPY_MODEL_bf42f5115a0f4e31966f63a60bf46a60",
       "selected_index": 0,
       "titles": [
        "Delimiters",
        "Dates",
        "Header",
        "Special values"
       ]
      }
     },
     "3241b0f647204ed38a69af7f32fbc78b": {
      "model_module": "@jupyter-widgets/controls",
      "model_module_version": "2.0.0",
      "model_name": "TextModel",
      "state": {
       "description": "Separator:",
       "disabled": true,
       "layout": "IPY_MODEL_f877035569484eb3812ebb277b5e41f6",
       "placeholder": "if many values",
       "style": "IPY_MODEL_e5ce38b936ae45108f54fa6a48694392"
      }
     },
     "324a7f484ad44f00bf4a1df4cb037ef3": {
      "model_module": "@jupyter-widgets/base",
      "model_module_version": "2.0.0",
      "model_name": "LayoutModel",
      "state": {}
     },
     "32825eb57382499786013bfb0389c42a": {
      "model_module": "@jupyter-widgets/controls",
      "model_module_version": "2.0.0",
      "model_name": "TextModel",
      "state": {
       "continuous_update": false,
       "description": "Name:",
       "disabled": true,
       "layout": "IPY_MODEL_b6fe52a736444766a17cfee924be8438",
       "style": "IPY_MODEL_9db2601ccfbf44feb1f1f5c76e046197",
       "value": "store_and_fwd_flag"
      }
     },
     "32897f04ed714cad8e7d0d16284c7edc": {
      "model_module": "@jupyter-widgets/base",
      "model_module_version": "2.0.0",
      "model_name": "LayoutModel",
      "state": {}
     },
     "32a68b865333489c8fbfbf0ed0e823c5": {
      "model_module": "@jupyter-widgets/base",
      "model_module_version": "2.0.0",
      "model_name": "LayoutModel",
      "state": {}
     },
     "32b5a928caed4580880e283eb5c2adf1": {
      "model_module": "@jupyter-widgets/controls",
      "model_module_version": "2.0.0",
      "model_name": "TextStyleModel",
      "state": {
       "description_width": "",
       "font_size": null,
       "text_color": null
      }
     },
     "32c4f6ce3755481c8460f1dbadfa3aff": {
      "model_module": "@jupyter-widgets/controls",
      "model_module_version": "2.0.0",
      "model_name": "TextStyleModel",
      "state": {
       "description_width": "",
       "font_size": null,
       "text_color": null
      }
     },
     "32d8daa5c5f44be2a791df7f996c7f0c": {
      "model_module": "@jupyter-widgets/controls",
      "model_module_version": "2.0.0",
      "model_name": "TextModel",
      "state": {
       "description": "Unique vals:",
       "layout": "IPY_MODEL_fe9ea77ef6ee44ad9f5d9bcd97ac7685",
       "style": "IPY_MODEL_ea0d0489e5d74db0b2223a4d94616542",
       "value": "1/99"
      }
     },
     "32f1e81e364240cdab5c956f9ed0033c": {
      "model_module": "@jupyter-widgets/controls",
      "model_module_version": "2.0.0",
      "model_name": "CheckboxModel",
      "state": {
       "description": "Use",
       "disabled": false,
       "layout": "IPY_MODEL_9aaf9c5548e64775bae57e73db1b4671",
       "style": "IPY_MODEL_96e04c169619496aa2c1529407eb53e5",
       "value": true
      }
     },
     "3301954478d54b38ac09fabac5c626b3": {
      "model_module": "@jupyter-widgets/controls",
      "model_module_version": "2.0.0",
      "model_name": "DropdownModel",
      "state": {
       "_options_labels": [
        "object",
        "str",
        "category",
        "datetime"
       ],
       "description": "Retype:",
       "disabled": true,
       "index": 0,
       "layout": "IPY_MODEL_6b44612149cf48ec8ff8db9f51f3093a",
       "style": "IPY_MODEL_97bb79e716834596b922d482cbeb3d63"
      }
     },
     "3312b16dbbd14e4eba83dd9707a5c36d": {
      "model_module": "@jupyter-widgets/controls",
      "model_module_version": "2.0.0",
      "model_name": "TextModel",
      "state": {
       "continuous_update": false,
       "description": "Name:",
       "disabled": true,
       "layout": "IPY_MODEL_380efc44b43d4560b52cca54d6616708",
       "style": "IPY_MODEL_486a5367fbd4415a96b21c432923063a",
       "value": "payment_type"
      }
     },
     "3333699ac55e43818a7ac00348827c8a": {
      "model_module": "@jupyter-widgets/base",
      "model_module_version": "2.0.0",
      "model_name": "LayoutModel",
      "state": {}
     },
     "335e28ffd34f4d77be5feb53cedbb69f": {
      "model_module": "@jupyter-widgets/base",
      "model_module_version": "2.0.0",
      "model_name": "LayoutModel",
      "state": {}
     },
     "341d715dc1df4efb892f634e85b8dd29": {
      "model_module": "@jupyter-widgets/controls",
      "model_module_version": "2.0.0",
      "model_name": "CheckboxStyleModel",
      "state": {
       "description_width": ""
      }
     },
     "343da79e15b74d5cb0d400ad84ba7c04": {
      "model_module": "@jupyter-widgets/controls",
      "model_module_version": "2.0.0",
      "model_name": "CheckboxStyleModel",
      "state": {
       "description_width": ""
      }
     },
     "3454f87eafe7490c92d7865dd1da4b82": {
      "model_module": "@jupyter-widgets/base",
      "model_module_version": "2.0.0",
      "model_name": "LayoutModel",
      "state": {}
     },
     "34785079b1cc4408b6e98d18725bae4b": {
      "model_module": "@jupyter-widgets/controls",
      "model_module_version": "2.0.0",
      "model_name": "TextStyleModel",
      "state": {
       "description_width": "",
       "font_size": null,
       "text_color": null
      }
     },
     "34860d1c01fd434cb618bb2e271ab6a8": {
      "model_module": "@jupyter-widgets/controls",
      "model_module_version": "2.0.0",
      "model_name": "TextStyleModel",
      "state": {
       "description_width": "",
       "font_size": null,
       "text_color": null
      }
     },
     "348c3ef30db34fc89485e49a8cc0e79d": {
      "model_module": "@jupyter-widgets/base",
      "model_module_version": "2.0.0",
      "model_name": "LayoutModel",
      "state": {}
     },
     "34b29e6a830144d4ac7a4fbc242a6c88": {
      "model_module": "@jupyter-widgets/controls",
      "model_module_version": "2.0.0",
      "model_name": "TextModel",
      "state": {
       "description": "Separator:",
       "disabled": true,
       "layout": "IPY_MODEL_b50687b32d744c48aa3943730bfab8e2",
       "placeholder": "if many values",
       "style": "IPY_MODEL_53f210985a3d4147a239e891c7471c52"
      }
     },
     "34bae296f8ac4425be82ff3a5b362e83": {
      "model_module": "@jupyter-widgets/controls",
      "model_module_version": "2.0.0",
      "model_name": "CheckboxModel",
      "state": {
       "description": "Use",
       "disabled": false,
       "layout": "IPY_MODEL_9bde04cd69cf475e89be56b461578a24",
       "style": "IPY_MODEL_64706c70d1f642cdba1edd4b2a30ff4d",
       "value": false
      }
     },
     "34c771a2a286452986472261913806e6": {
      "model_module": "@jupyter-widgets/controls",
      "model_module_version": "2.0.0",
      "model_name": "TextModel",
      "state": {
       "continuous_update": false,
       "description": "Name:",
       "disabled": true,
       "layout": "IPY_MODEL_ba071e7e238d48648837ba1b5201a5fe",
       "style": "IPY_MODEL_671abd139bb94da09185c39f96a02785",
       "value": "RatecodeID"
      }
     },
     "34eafb8694f74eac91334847e943285a": {
      "model_module": "@jupyter-widgets/base",
      "model_module_version": "2.0.0",
      "model_name": "LayoutModel",
      "state": {}
     },
     "3501c04755314ffb824d8aacffd47a98": {
      "model_module": "@jupyter-widgets/controls",
      "model_module_version": "2.0.0",
      "model_name": "DescriptionStyleModel",
      "state": {
       "description_width": ""
      }
     },
     "3503f1af74424247b979fb717d25b905": {
      "model_module": "@jupyter-widgets/base",
      "model_module_version": "2.0.0",
      "model_name": "LayoutModel",
      "state": {}
     },
     "3538393f74984ed58174bea67abe2590": {
      "model_module": "@jupyter-widgets/base",
      "model_module_version": "2.0.0",
      "model_name": "LayoutModel",
      "state": {}
     },
     "3557e12fb535475d956b2229747eece6": {
      "model_module": "@jupyter-widgets/controls",
      "model_module_version": "2.0.0",
      "model_name": "TextStyleModel",
      "state": {
       "description_width": "",
       "font_size": null,
       "text_color": null
      }
     },
     "35b8d5935a1c4e778c263c8479d815ae": {
      "model_module": "@jupyter-widgets/controls",
      "model_module_version": "2.0.0",
      "model_name": "TextModel",
      "state": {
       "description": "Unique vals:",
       "layout": "IPY_MODEL_fbddb983166d4e3fb81c3a355f945d9f",
       "style": "IPY_MODEL_2175a1192fc749328292f703a12dc10e",
       "value": "2/99"
      }
     },
     "35f874609a154768981ce711d0f26b53": {
      "model_module": "@jupyter-widgets/controls",
      "model_module_version": "2.0.0",
      "model_name": "TextStyleModel",
      "state": {
       "description_width": "",
       "font_size": null,
       "text_color": null
      }
     },
     "3607b52a0d2748bca1afbfcca221bd36": {
      "model_module": "jupyter-dagwidget",
      "model_module_version": "^0.1.0",
      "model_name": "DagWidgetModel",
      "state": {
       "_model_module_version": "^0.1.0",
       "_view_module_version": "^0.1.0",
       "dag": "{\"dag\": [{\"id\": \"root\", \"divID\": \"prog_139922837070800\", \"label\": \"root\", \"parentIds\": []}, {\"id\": \"Taxis\", \"divID\": \"Taxis\", \"label\": \"Taxis\", \"parentIds\": [\"root\"]}], \"summaries\": {}, \"summaryVariables\": {\"root\": [\"progress\"], \"Taxis\": [\"progress\"]}}",
       "layout": "IPY_MODEL_c9dbb5806a8a455c8fa105a6c5ddd10b",
       "summaries": "{\"Taxis\": {\"progress\": 0, \"status\": \"RUNNING\"}}"
      }
     },
     "361cd64b622b4c5a8020cd7eee529335": {
      "model_module": "@jupyter-widgets/base",
      "model_module_version": "2.0.0",
      "model_name": "LayoutModel",
      "state": {}
     },
     "362006dceefb4468904320c736b298dc": {
      "model_module": "@jupyter-widgets/controls",
      "model_module_version": "2.0.0",
      "model_name": "TextModel",
      "state": {
       "description": "Type:",
       "disabled": true,
       "layout": "IPY_MODEL_6727ef77bf324374a7dc41e73b5b291c",
       "style": "IPY_MODEL_bc850086f2c3442ba24c5e7488554ab0",
       "value": "float64"
      }
     },
     "36229ffeddd44e118ba985191eeb928d": {
      "model_module": "@jupyter-widgets/controls",
      "model_module_version": "2.0.0",
      "model_name": "CheckboxStyleModel",
      "state": {
       "description_width": ""
      }
     },
     "367cc2d86cf040978345234581ef6209": {
      "model_module": "@jupyter-widgets/base",
      "model_module_version": "2.0.0",
      "model_name": "LayoutModel",
      "state": {}
     },
     "3682a1c60986490e9405f654ba822098": {
      "model_module": "@jupyter-widgets/controls",
      "model_module_version": "2.0.0",
      "model_name": "TextStyleModel",
      "state": {
       "description_width": "",
       "font_size": null,
       "text_color": null
      }
     },
     "3685685d0e4148d38355ed6a3d92abd2": {
      "model_module": "@jupyter-widgets/base",
      "model_module_version": "2.0.0",
      "model_name": "LayoutModel",
      "state": {}
     },
     "368c61ef55374d32b21cf226e42db334": {
      "model_module": "@jupyter-widgets/base",
      "model_module_version": "2.0.0",
      "model_name": "LayoutModel",
      "state": {}
     },
     "36b299cb3d0042c39a52ee6a09ab69bc": {
      "model_module": "@jupyter-widgets/controls",
      "model_module_version": "2.0.0",
      "model_name": "TextModel",
      "state": {
       "description": "Type:",
       "disabled": true,
       "layout": "IPY_MODEL_b7558600995e4996b53c3c2dccdedbc3",
       "style": "IPY_MODEL_6ed2157eb51442f9810f255ae37cbccd",
       "value": "int64"
      }
     },
     "36c820f4e7dc45fcac7dead0037f8ed4": {
      "model_module": "@jupyter-widgets/controls",
      "model_module_version": "2.0.0",
      "model_name": "CheckboxStyleModel",
      "state": {
       "description_width": ""
      }
     },
     "36f6ca121d43447aa5489cdeb18e7f67": {
      "model_module": "@jupyter-widgets/controls",
      "model_module_version": "2.0.0",
      "model_name": "DescriptionStyleModel",
      "state": {
       "description_width": ""
      }
     },
     "3732bdb6186b4c1eb5b922eb7d47c5a9": {
      "model_module": "@jupyter-widgets/controls",
      "model_module_version": "2.0.0",
      "model_name": "TextModel",
      "state": {
       "continuous_update": false,
       "description": "Name:",
       "disabled": true,
       "layout": "IPY_MODEL_b969ce24bea24b5b8f061e728d397c95",
       "style": "IPY_MODEL_8fb54d1c523146c492618c3aa575d34a",
       "value": "tpep_pickup_datetime"
      }
     },
     "375d096952104d79bafb7fc6190ca41b": {
      "model_module": "@jupyter-widgets/controls",
      "model_module_version": "2.0.0",
      "model_name": "TextStyleModel",
      "state": {
       "description_width": "",
       "font_size": null,
       "text_color": null
      }
     },
     "37722cd680b9474d91ba2bbe571ea36b": {
      "model_module": "@jupyter-widgets/controls",
      "model_module_version": "2.0.0",
      "model_name": "TextStyleModel",
      "state": {
       "description_width": "",
       "font_size": null,
       "text_color": null
      }
     },
     "37bc0b9ee20d46d89247ac1bc559e57b": {
      "model_module": "@jupyter-widgets/controls",
      "model_module_version": "2.0.0",
      "model_name": "VBoxModel",
      "state": {
       "children": [
        "IPY_MODEL_709a971122864ce2a8354cbd48ef082b",
        "IPY_MODEL_9ca176b27d4e49d4ba2c917d3e24f777"
       ],
       "layout": "IPY_MODEL_6235bacf775444f48b90b0385d29189d"
      }
     },
     "37d9f549228a43f7a5864623e3101f31": {
      "model_module": "@jupyter-widgets/controls",
      "model_module_version": "2.0.0",
      "model_name": "TextModel",
      "state": {
       "description": "Separator:",
       "disabled": true,
       "layout": "IPY_MODEL_722c9d7228994dfdb85c5027013cba65",
       "placeholder": "if many values",
       "style": "IPY_MODEL_64ba9579094f4b499bf1e6812f8c5dcb"
      }
     },
     "37dd1f274f3f4ea2873a396d7dfd5294": {
      "model_module": "@jupyter-widgets/controls",
      "model_module_version": "2.0.0",
      "model_name": "TextStyleModel",
      "state": {
       "description_width": "",
       "font_size": null,
       "text_color": null
      }
     },
     "3808342adf60481cbebfef07dd357763": {
      "model_module": "@jupyter-widgets/controls",
      "model_module_version": "2.0.0",
      "model_name": "TextStyleModel",
      "state": {
       "description_width": "",
       "font_size": null,
       "text_color": null
      }
     },
     "380e83c6e30d429ebf749d4778054483": {
      "model_module": "@jupyter-widgets/base",
      "model_module_version": "2.0.0",
      "model_name": "LayoutModel",
      "state": {}
     },
     "380efc44b43d4560b52cca54d6616708": {
      "model_module": "@jupyter-widgets/base",
      "model_module_version": "2.0.0",
      "model_name": "LayoutModel",
      "state": {}
     },
     "3835f83354bf4adb858b9009007d0c33": {
      "model_module": "@jupyter-widgets/base",
      "model_module_version": "2.0.0",
      "model_name": "LayoutModel",
      "state": {}
     },
     "385e06214b144d2e9644e06db3116031": {
      "model_module": "@jupyter-widgets/controls",
      "model_module_version": "2.0.0",
      "model_name": "CheckboxModel",
      "state": {
       "description": "Use",
       "disabled": false,
       "layout": "IPY_MODEL_544ca91fc38148b3b33a6ae50d5e3281",
       "style": "IPY_MODEL_39757ef371ce47008b78181fbfcb8f38",
       "value": true
      }
     },
     "38601d3da8f94b17b206aa7b25523542": {
      "model_module": "@jupyter-widgets/controls",
      "model_module_version": "2.0.0",
      "model_name": "TextStyleModel",
      "state": {
       "description_width": "",
       "font_size": null,
       "text_color": null
      }
     },
     "388609720d914087a84fbc71a68c11ca": {
      "model_module": "@jupyter-widgets/controls",
      "model_module_version": "2.0.0",
      "model_name": "TextModel",
      "state": {
       "description": "Type:",
       "disabled": true,
       "layout": "IPY_MODEL_e1b231ecec014b428ccfcac3fc044e85",
       "style": "IPY_MODEL_8d698208861a401a9bd1a2cbee947146",
       "value": "int64"
      }
     },
     "388f8e355b3645b688ee421019e54b7a": {
      "model_module": "@jupyter-widgets/base",
      "model_module_version": "2.0.0",
      "model_name": "LayoutModel",
      "state": {}
     },
     "389ba47a4589470faf60da1835431bff": {
      "model_module": "@jupyter-widgets/controls",
      "model_module_version": "2.0.0",
      "model_name": "TextModel",
      "state": {
       "description": "Type:",
       "disabled": true,
       "layout": "IPY_MODEL_3b752f20c66246e2bf90aea56961d250",
       "style": "IPY_MODEL_ea4faaae113f4abbaa5ce68bd204a6fe",
       "value": "float64"
      }
     },
     "38a93765f0b740bda50c201c9cbb86e5": {
      "model_module": "@jupyter-widgets/base",
      "model_module_version": "2.0.0",
      "model_name": "LayoutModel",
      "state": {}
     },
     "38a9fc90313c43aba7cc9e5a2ac1e84b": {
      "model_module": "@jupyter-widgets/controls",
      "model_module_version": "2.0.0",
      "model_name": "TextStyleModel",
      "state": {
       "description_width": "",
       "font_size": null,
       "text_color": null
      }
     },
     "38c384aa5734494bbecd630eb07bbe2f": {
      "model_module": "@jupyter-widgets/controls",
      "model_module_version": "2.0.0",
      "model_name": "VBoxModel",
      "state": {
       "children": [
        "IPY_MODEL_ba1df9cc159c442fbc7e27c68d6e4700",
        "IPY_MODEL_6631993cd40c4c1c8aec0806ce67f541",
        "IPY_MODEL_6bd91670d32847be8f80c1ba484344a8",
        "IPY_MODEL_c2e7f383936b45248ea31bf8bbd69a14",
        "IPY_MODEL_1fda2dc3d7374dd1a8201414d315ee59",
        "IPY_MODEL_1b7da9fcc7584c089008d16cf35ab534",
        "IPY_MODEL_b7668336e54b4d41bf27744969f2164d"
       ],
       "layout": "IPY_MODEL_d521f1cebd0343cbb2ba90e82c77a0bb"
      }
     },
     "38d9eaec12d54f0a8bbd10856fb9d41b": {
      "model_module": "@jupyter-widgets/controls",
      "model_module_version": "2.0.0",
      "model_name": "TextModel",
      "state": {
       "description": "Rename:",
       "layout": "IPY_MODEL_e9c23fd6eab648e7b6a8fd31ccc4e6ef",
       "style": "IPY_MODEL_9ecd70a62f8b4700956d9acb358b5bcc",
       "value": "tip_amount"
      }
     },
     "38e3445043c9400d97996f17920c4a4f": {
      "model_module": "@jupyter-widgets/controls",
      "model_module_version": "2.0.0",
      "model_name": "ButtonModel",
      "state": {
       "description": "Remove subtree",
       "icon": "check",
       "layout": "IPY_MODEL_497cc283fac34d3095f1b456b4491ffb",
       "style": "IPY_MODEL_3c81a649ae14476dac0d01ce3ac784e6",
       "tooltip": "Remove subtree"
      }
     },
     "38fafc1397cc43d7b5f716b55ad3df75": {
      "model_module": "@jupyter-widgets/controls",
      "model_module_version": "2.0.0",
      "model_name": "TextModel",
      "state": {
       "continuous_update": false,
       "description": "Name:",
       "disabled": true,
       "layout": "IPY_MODEL_1441f374a7a040c6b617b54ab6f79fb9",
       "style": "IPY_MODEL_ed407d3548ec47388135e86953130fb6",
       "value": "tip_amount"
      }
     },
     "39453c760920461496206537dd3d15e5": {
      "model_module": "@jupyter-widgets/controls",
      "model_module_version": "2.0.0",
      "model_name": "TextStyleModel",
      "state": {
       "description_width": "",
       "font_size": null,
       "text_color": null
      }
     },
     "394c4cd89230495a879b6b8e28d38aa0": {
      "model_module": "@jupyter-widgets/base",
      "model_module_version": "2.0.0",
      "model_name": "LayoutModel",
      "state": {}
     },
     "39757ef371ce47008b78181fbfcb8f38": {
      "model_module": "@jupyter-widgets/controls",
      "model_module_version": "2.0.0",
      "model_name": "CheckboxStyleModel",
      "state": {
       "description_width": ""
      }
     },
     "398c4259100842fd96a5c56258da1d01": {
      "model_module": "@jupyter-widgets/base",
      "model_module_version": "2.0.0",
      "model_name": "LayoutModel",
      "state": {}
     },
     "39a4e7b244cb4faf8af90c566193d110": {
      "model_module": "@jupyter-widgets/controls",
      "model_module_version": "2.0.0",
      "model_name": "DropdownModel",
      "state": {
       "_options_labels": [
        "int8",
        "uint8",
        "int16",
        "uint16",
        "int32",
        "int64",
        "uint32",
        "uint64",
        "float32",
        "float64",
        "str"
       ],
       "description": "Retype:",
       "index": 9,
       "layout": "IPY_MODEL_0a7b8af1d3424078ac3b14376d3b3c03",
       "style": "IPY_MODEL_9da27adb878a481bb519e91cf48f88b3"
      }
     },
     "39b196d5fd9347c888583ac564aa4b8a": {
      "model_module": "@jupyter-widgets/controls",
      "model_module_version": "2.0.0",
      "model_name": "DescriptionStyleModel",
      "state": {
       "description_width": ""
      }
     },
     "39c34a1b785147fea22c9855d055a789": {
      "model_module": "@jupyter-widgets/controls",
      "model_module_version": "2.0.0",
      "model_name": "TextStyleModel",
      "state": {
       "description_width": "",
       "font_size": null,
       "text_color": null
      }
     },
     "39c847de2c0c4bb685dad7dc7ccb960c": {
      "model_module": "@jupyter-widgets/base",
      "model_module_version": "2.0.0",
      "model_name": "LayoutModel",
      "state": {}
     },
     "39df4f5b7d764a2e910f6cc6867fa9cd": {
      "model_module": "@jupyter-widgets/controls",
      "model_module_version": "2.0.0",
      "model_name": "CheckboxStyleModel",
      "state": {
       "description_width": ""
      }
     },
     "39fc10fa98cb48d491e8270b67a99d96": {
      "model_module": "@jupyter-widgets/base",
      "model_module_version": "2.0.0",
      "model_name": "LayoutModel",
      "state": {}
     },
     "3a517759db1a4436adec42a0a6a3a2f9": {
      "model_module": "@jupyter-widgets/controls",
      "model_module_version": "2.0.0",
      "model_name": "TextStyleModel",
      "state": {
       "description_width": "",
       "font_size": null,
       "text_color": null
      }
     },
     "3a5cd3ab251d4f1fbe8249adbfbd9fab": {
      "model_module": "@jupyter-widgets/controls",
      "model_module_version": "2.0.0",
      "model_name": "TextStyleModel",
      "state": {
       "description_width": "",
       "font_size": null,
       "text_color": null
      }
     },
     "3aa6c1e8d4ca44d0b2e3c809afb7130b": {
      "model_module": "@jupyter-widgets/base",
      "model_module_version": "2.0.0",
      "model_name": "LayoutModel",
      "state": {}
     },
     "3ab93eba6e4f42399108f6cd6a41ccc3": {
      "model_module": "@jupyter-widgets/base",
      "model_module_version": "2.0.0",
      "model_name": "LayoutModel",
      "state": {}
     },
     "3b007801671b451d908c75e32607c9f8": {
      "model_module": "@jupyter-widgets/controls",
      "model_module_version": "2.0.0",
      "model_name": "TextStyleModel",
      "state": {
       "description_width": "",
       "font_size": null,
       "text_color": null
      }
     },
     "3b04e472a08c4f0fbafee78d4f129b9a": {
      "model_module": "@jupyter-widgets/controls",
      "model_module_version": "2.0.0",
      "model_name": "DescriptionStyleModel",
      "state": {
       "description_width": ""
      }
     },
     "3b07fec379664ab78602c4b0c49ac13d": {
      "model_module": "@jupyter-widgets/controls",
      "model_module_version": "2.0.0",
      "model_name": "TextModel",
      "state": {
       "continuous_update": false,
       "description": "Name:",
       "disabled": true,
       "layout": "IPY_MODEL_4e5229cff754427e8eb125e5213bf6ca",
       "style": "IPY_MODEL_08781ff5108747c681f1c04a8b8b4200",
       "value": "tpep_dropoff_datetime"
      }
     },
     "3b251ffd4bdf42eba0f13c3d52e8b7a8": {
      "model_module": "@jupyter-widgets/controls",
      "model_module_version": "2.0.0",
      "model_name": "VBoxModel",
      "state": {
       "children": [
        "IPY_MODEL_fc5784aa52ee437098a55577881e7ff9",
        "IPY_MODEL_ae6234df74a14fe0990fb9cde7d0806b",
        "IPY_MODEL_d10e6cfed99f4d2db5d820b7982428ae",
        "IPY_MODEL_8a64eefd60384d1aaf14d854b93381df",
        "IPY_MODEL_e60e26e065c4497396c53553d5e61809",
        "IPY_MODEL_ed3de259844646e5a4722b5670a28941",
        "IPY_MODEL_f5eb69320b004905ba73f927c1c30977"
       ],
       "layout": "IPY_MODEL_54d6b6634b414c589e62e8521b73701d"
      }
     },
     "3b5897854c5040e4ba420c734534b56b": {
      "model_module": "@jupyter-widgets/controls",
      "model_module_version": "2.0.0",
      "model_name": "TextStyleModel",
      "state": {
       "description_width": "",
       "font_size": null,
       "text_color": null
      }
     },
     "3b59a1d1ec6b49fba87b8c2f7a647c03": {
      "model_module": "@jupyter-widgets/controls",
      "model_module_version": "2.0.0",
      "model_name": "TextModel",
      "state": {
       "description": "Type:",
       "disabled": true,
       "layout": "IPY_MODEL_6004a0bbfc714e2cbdc424d92a481450",
       "style": "IPY_MODEL_94d29f07d5544d798a7bc7bd50e47a61",
       "value": "int64"
      }
     },
     "3b6acb363d1d408c9035584115430f6c": {
      "model_module": "@jupyter-widgets/controls",
      "model_module_version": "2.0.0",
      "model_name": "TextStyleModel",
      "state": {
       "description_width": "",
       "font_size": null,
       "text_color": null
      }
     },
     "3b72764a3fbe455ea53808b4f2c821a4": {
      "model_module": "@jupyter-widgets/controls",
      "model_module_version": "2.0.0",
      "model_name": "TextStyleModel",
      "state": {
       "description_width": "",
       "font_size": null,
       "text_color": null
      }
     },
     "3b752f20c66246e2bf90aea56961d250": {
      "model_module": "@jupyter-widgets/base",
      "model_module_version": "2.0.0",
      "model_name": "LayoutModel",
      "state": {}
     },
     "3ba5998f62d14725b7f2759dd41bbefa": {
      "model_module": "@jupyter-widgets/controls",
      "model_module_version": "2.0.0",
      "model_name": "CheckboxModel",
      "state": {
       "description": "Use",
       "disabled": false,
       "layout": "IPY_MODEL_b751e616281c49a6a99034e5bf27bf99",
       "style": "IPY_MODEL_b3494c55d4df41759bfdf193998dde8a",
       "value": false
      }
     },
     "3ba87475ebde4d0bab818a3101b0ed18": {
      "model_module": "@jupyter-widgets/controls",
      "model_module_version": "2.0.0",
      "model_name": "BoundedIntTextModel",
      "state": {
       "description": "Lines:",
       "layout": "IPY_MODEL_00621d52d2534b65a8d6cac71bc86723",
       "max": 1000,
       "min": 10,
       "style": "IPY_MODEL_b10d5ef89c584f489353a8d9822c1fa1",
       "value": 100
      }
     },
     "3bceed98f26449af99fd59a62537ec10": {
      "model_module": "@jupyter-widgets/controls",
      "model_module_version": "2.0.0",
      "model_name": "TextModel",
      "state": {
       "description": "Unique vals:",
       "layout": "IPY_MODEL_c7a5fb286de44e5cb54b822d9f90e424",
       "style": "IPY_MODEL_539635df79f84f008124bae64db03ae8",
       "value": "2/99"
      }
     },
     "3c080a499cf448539d56502d2f94b6f3": {
      "model_module": "@jupyter-widgets/controls",
      "model_module_version": "2.0.0",
      "model_name": "LabelModel",
      "state": {
       "layout": "IPY_MODEL_8a01407485db41c89e8a9a598d769e62",
       "style": "IPY_MODEL_fcb4e1f319084509b198431e34669955",
       "value": "dongle"
      }
     },
     "3c3e7ed8396748e48324f3b21787e896": {
      "model_module": "@jupyter-widgets/controls",
      "model_module_version": "2.0.0",
      "model_name": "TextModel",
      "state": {
       "description": "Rename:",
       "layout": "IPY_MODEL_04a63e3959304f0ea6f5e846eff9bf6c",
       "style": "IPY_MODEL_1485b71636764adfaaf250a9305395e1",
       "value": "mta_tax"
      }
     },
     "3c5dcf83d1b34dbda7f993509d41ff62": {
      "model_module": "@jupyter-widgets/controls",
      "model_module_version": "2.0.0",
      "model_name": "TextStyleModel",
      "state": {
       "description_width": "",
       "font_size": null,
       "text_color": null
      }
     },
     "3c5e726d5cdc4d85b19f2a6547777968": {
      "model_module": "@jupyter-widgets/controls",
      "model_module_version": "2.0.0",
      "model_name": "TextStyleModel",
      "state": {
       "description_width": "",
       "font_size": null,
       "text_color": null
      }
     },
     "3c81a649ae14476dac0d01ce3ac784e6": {
      "model_module": "@jupyter-widgets/controls",
      "model_module_version": "2.0.0",
      "model_name": "ButtonStyleModel",
      "state": {
       "font_family": null,
       "font_size": null,
       "font_style": null,
       "font_variant": null,
       "font_weight": null,
       "text_color": null,
       "text_decoration": null
      }
     },
     "3cb89b70a6004b5b9afc0e7c27c85dab": {
      "model_module": "@jupyter-widgets/controls",
      "model_module_version": "2.0.0",
      "model_name": "TextModel",
      "state": {
       "description": "NA values:",
       "layout": "IPY_MODEL_a973648b5a4449269e569efb052190d4",
       "style": "IPY_MODEL_607ff4292a6e47209b0cbc3b368f5281"
      }
     },
     "3cc0e1eeb68543efaf5b54444c0de9da": {
      "model_module": "@jupyter-widgets/base",
      "model_module_version": "2.0.0",
      "model_name": "LayoutModel",
      "state": {}
     },
     "3cc5a215262d4cf3a890d7c13d4be044": {
      "model_module": "@jupyter-widgets/controls",
      "model_module_version": "2.0.0",
      "model_name": "CheckboxModel",
      "state": {
       "description": "NA values",
       "disabled": false,
       "layout": "IPY_MODEL_6c3db25cc25149eb87f8c5766be5c07c",
       "style": "IPY_MODEL_30a40381f21245b89ad4967f5f0abcec",
       "value": false
      }
     },
     "3d04813e6ef44a089d41409a4b1eb6ee": {
      "model_module": "@jupyter-widgets/controls",
      "model_module_version": "2.0.0",
      "model_name": "CheckboxModel",
      "state": {
       "description": "Use",
       "disabled": false,
       "layout": "IPY_MODEL_469e88dda3ff45c4b74a99ebf253de18",
       "style": "IPY_MODEL_da8b6988b1154b609394a1987ab6c3ed",
       "value": true
      }
     },
     "3d67387e680948ddb0ac48877433d9cf": {
      "model_module": "@jupyter-widgets/controls",
      "model_module_version": "2.0.0",
      "model_name": "TextModel",
      "state": {
       "description": "Rename:",
       "layout": "IPY_MODEL_0daf32298d3c4d77a8af8e22056ff6c2",
       "style": "IPY_MODEL_675e6d3984a2403da3881e74695b2d0e",
       "value": "fare_amount"
      }
     },
     "3dcb6a28ca704794b6f695604334cc5b": {
      "model_module": "@jupyter-widgets/controls",
      "model_module_version": "2.0.0",
      "model_name": "TextStyleModel",
      "state": {
       "description_width": "",
       "font_size": null,
       "text_color": null
      }
     },
     "3dd7be22798e43a8bae8184f0742dbd6": {
      "model_module": "@jupyter-widgets/base",
      "model_module_version": "2.0.0",
      "model_name": "LayoutModel",
      "state": {}
     },
     "3e3cad1b15d24dbd904a110114e171bf": {
      "model_module": "@jupyter-widgets/base",
      "model_module_version": "2.0.0",
      "model_name": "LayoutModel",
      "state": {}
     },
     "3eacc3b19c4242efa97e387680e8620c": {
      "model_module": "@jupyter-widgets/controls",
      "model_module_version": "2.0.0",
      "model_name": "TextModel",
      "state": {
       "description": "Rename:",
       "layout": "IPY_MODEL_af446dcdeb844a9cb71e77627ecf4a30",
       "style": "IPY_MODEL_e0ff40463bad4bb59cbeb29dd0327346",
       "value": "total_amount"
      }
     },
     "3ef274a712e348febbe2c8018336d799": {
      "model_module": "@jupyter-widgets/controls",
      "model_module_version": "2.0.0",
      "model_name": "TextStyleModel",
      "state": {
       "description_width": "",
       "font_size": null,
       "text_color": null
      }
     },
     "3ef2db64294146d48db0ca50cc20bc67": {
      "model_module": "@jupyter-widgets/controls",
      "model_module_version": "2.0.0",
      "model_name": "DropdownModel",
      "state": {
       "_options_labels": [
        "int8",
        "uint8",
        "int16",
        "uint16",
        "int32",
        "int64",
        "uint32",
        "uint64",
        "float32",
        "float64",
        "str"
       ],
       "description": "Retype:",
       "index": 9,
       "layout": "IPY_MODEL_66b9be07e232431ea08b24ae8e3b22c1",
       "style": "IPY_MODEL_937b18e385b0455d89338fb406fb85e1"
      }
     },
     "3f181ffddfb94368876a98150dbd76c4": {
      "model_module": "@jupyter-widgets/base",
      "model_module_version": "2.0.0",
      "model_name": "LayoutModel",
      "state": {}
     },
     "3f522cb06c2d4cde8f622f606a80c5ac": {
      "model_module": "@jupyter-widgets/controls",
      "model_module_version": "2.0.0",
      "model_name": "TextStyleModel",
      "state": {
       "description_width": "",
       "font_size": null,
       "text_color": null
      }
     },
     "3f73c15b81e34dbc84f01b701d8f4f72": {
      "model_module": "@jupyter-widgets/base",
      "model_module_version": "2.0.0",
      "model_name": "LayoutModel",
      "state": {}
     },
     "3f743b53418a43b7962fc9524c4b308d": {
      "model_module": "@jupyter-widgets/controls",
      "model_module_version": "2.0.0",
      "model_name": "HTMLStyleModel",
      "state": {
       "description_width": "",
       "font_size": null,
       "text_color": null
      }
     },
     "3f7807ad49a541dda912d081da365a7e": {
      "model_module": "@jupyter-widgets/controls",
      "model_module_version": "2.0.0",
      "model_name": "TextStyleModel",
      "state": {
       "description_width": "",
       "font_size": null,
       "text_color": null
      }
     },
     "3fb0997fe7e348b9b7de40a06fd5f4c7": {
      "model_module": "@jupyter-widgets/base",
      "model_module_version": "2.0.0",
      "model_name": "LayoutModel",
      "state": {}
     },
     "3fe1ea8442b94efea9a8207d6546aeed": {
      "model_module": "@jupyter-widgets/controls",
      "model_module_version": "2.0.0",
      "model_name": "TextStyleModel",
      "state": {
       "description_width": "",
       "font_size": null,
       "text_color": null
      }
     },
     "3fe263d238f742e2904112f4ab618807": {
      "model_module": "@jupyter-widgets/base",
      "model_module_version": "2.0.0",
      "model_name": "LayoutModel",
      "state": {}
     },
     "401eb284da594f039a0605ff67dd2ba0": {
      "model_module": "@jupyter-widgets/controls",
      "model_module_version": "2.0.0",
      "model_name": "SelectModel",
      "state": {
       "_options_labels": [
        "Unnamed: 0",
        "VendorID",
        "tpep_pickup_datetime",
        "tpep_dropoff_datetime",
        "passenger_count",
        "trip_distance",
        "pickup_longitude",
        "pickup_latitude",
        "RateCodeID",
        "store_and_fwd_flag",
        "dropoff_longitude",
        "dropoff_latitude",
        "payment_type",
        "fare_amount",
        "extra",
        "mta_tax",
        "tip_amount",
        "tolls_amount",
        "improvement_surcharge",
        "total_amount",
        "RatecodeID"
       ],
       "index": 5,
       "layout": "IPY_MODEL_06917a3bfb2d4a87931be598e81a4ad9",
       "rows": 7,
       "style": "IPY_MODEL_7ee7f53c5cb0432a941d22ae241de4dd"
      }
     },
     "401eff22deb6421aa00ac951e26aed88": {
      "model_module": "@jupyter-widgets/controls",
      "model_module_version": "2.0.0",
      "model_name": "CheckboxModel",
      "state": {
       "description": "Use",
       "disabled": false,
       "layout": "IPY_MODEL_c892f8edfa7849d3842ec0cd166cc414",
       "style": "IPY_MODEL_341d715dc1df4efb892f634e85b8dd29",
       "value": true
      }
     },
     "4043d7ae7476447f9906bce0be80af20": {
      "model_module": "@jupyter-widgets/controls",
      "model_module_version": "2.0.0",
      "model_name": "CheckboxModel",
      "state": {
       "description": "Use",
       "disabled": false,
       "layout": "IPY_MODEL_154b062fc9c04dae84f3013112e0950f",
       "style": "IPY_MODEL_86d81d9532024ac588fdcffa917b8d52",
       "value": true
      }
     },
     "4051610fca6e4c97b2aff121bd69f491": {
      "model_module": "@jupyter-widgets/controls",
      "model_module_version": "2.0.0",
      "model_name": "CheckboxModel",
      "state": {
       "description": "NA values",
       "disabled": false,
       "layout": "IPY_MODEL_105c2dd66ba3492a997022017de61f61",
       "style": "IPY_MODEL_47f4ada8054a4b62902baacb543dd61e",
       "value": false
      }
     },
     "4062cf03c49841929f69b60769128b51": {
      "model_module": "@jupyter-widgets/controls",
      "model_module_version": "2.0.0",
      "model_name": "TextModel",
      "state": {
       "description": "Rename:",
       "layout": "IPY_MODEL_eaa5c79163e04304839ccef50b5e0e4d",
       "style": "IPY_MODEL_c34a882ee3b749e381b31359b56e41be",
       "value": "tpep_pickup_datetime"
      }
     },
     "408406bfd6814e5e9a02ce198c12cc49": {
      "model_module": "@jupyter-widgets/controls",
      "model_module_version": "2.0.0",
      "model_name": "VBoxModel",
      "state": {
       "children": [
        "IPY_MODEL_a2d58740b4ee4c16bf35cb27f8a66a53",
        "IPY_MODEL_c476ae6f029344c89382d3cdfb0054a3",
        "IPY_MODEL_57bd3cd98b3146b4b66bf4e4b75c9815",
        "IPY_MODEL_99086ae78b1c47478459af479ad00369",
        "IPY_MODEL_e6196d2d9f714f37a459bddcda4f337f",
        "IPY_MODEL_932d1671f23746d8a6c10c7f5aa275f5",
        "IPY_MODEL_55af8b9a065848bda30dfef905230ad5"
       ],
       "layout": "IPY_MODEL_8676b75096e84db5b9e46fa3ecb23b8b"
      }
     },
     "40873309311a4fd2b542e4e861373399": {
      "model_module": "@jupyter-widgets/base",
      "model_module_version": "2.0.0",
      "model_name": "LayoutModel",
      "state": {}
     },
     "409b8c1787f3411ab8c50299ad27c5b9": {
      "model_module": "@jupyter-widgets/controls",
      "model_module_version": "2.0.0",
      "model_name": "TextModel",
      "state": {
       "description": "NA values:",
       "layout": "IPY_MODEL_361cd64b622b4c5a8020cd7eee529335",
       "style": "IPY_MODEL_8a4c3c0785d842a1955c907dd3f9fd8c"
      }
     },
     "40ad410eb4494552a6cbd4de01456f01": {
      "model_module": "@jupyter-widgets/controls",
      "model_module_version": "2.0.0",
      "model_name": "CheckboxStyleModel",
      "state": {
       "description_width": ""
      }
     },
     "40ae4ee0982f4e9988895be8d95af39b": {
      "model_module": "@jupyter-widgets/controls",
      "model_module_version": "2.0.0",
      "model_name": "TextModel",
      "state": {
       "description": "Separator:",
       "disabled": true,
       "layout": "IPY_MODEL_c7b9335887aa4a8f800326753370df17",
       "placeholder": "if many values",
       "style": "IPY_MODEL_d99923d406ad4c4f8d247db60de78d15"
      }
     },
     "40b5fe6a469e4bb4a80213bcc38b3f90": {
      "model_module": "@jupyter-widgets/controls",
      "model_module_version": "2.0.0",
      "model_name": "TextStyleModel",
      "state": {
       "description_width": "",
       "font_size": null,
       "text_color": null
      }
     },
     "40cc52faf271401e9efd6a002d892357": {
      "model_module": "@jupyter-widgets/base",
      "model_module_version": "2.0.0",
      "model_name": "LayoutModel",
      "state": {}
     },
     "40e27dbd00cb401da75d872b5461ce6d": {
      "model_module": "@jupyter-widgets/base",
      "model_module_version": "2.0.0",
      "model_name": "LayoutModel",
      "state": {}
     },
     "412fadbb20fc42159798056654fd2871": {
      "model_module": "@jupyter-widgets/controls",
      "model_module_version": "2.0.0",
      "model_name": "TextStyleModel",
      "state": {
       "description_width": "",
       "font_size": null,
       "text_color": null
      }
     },
     "41488e555d604d49a5dd872836d90627": {
      "model_module": "@jupyter-widgets/base",
      "model_module_version": "2.0.0",
      "model_name": "LayoutModel",
      "state": {}
     },
     "4149b229265d4f66926690a8833ffe22": {
      "model_module": "@jupyter-widgets/controls",
      "model_module_version": "2.0.0",
      "model_name": "CheckboxModel",
      "state": {
       "description": "NA values",
       "disabled": false,
       "layout": "IPY_MODEL_3538393f74984ed58174bea67abe2590",
       "style": "IPY_MODEL_575ab4049d024fa79f8f72f6689976c8",
       "value": false
      }
     },
     "41531284d05648008b59389a76757360": {
      "model_module": "@jupyter-widgets/controls",
      "model_module_version": "2.0.0",
      "model_name": "TextModel",
      "state": {
       "description": "Unique vals:",
       "layout": "IPY_MODEL_e123754b97e34495a22d309eb90ccc95",
       "style": "IPY_MODEL_f13720da65c14ae8baf7b1e9f944d0c4",
       "value": "99/99"
      }
     },
     "41819813ed2845a48cd896d4657045e4": {
      "model_module": "@jupyter-widgets/controls",
      "model_module_version": "2.0.0",
      "model_name": "DropdownModel",
      "state": {
       "_options_labels": [
        "object",
        "str",
        "category",
        "datetime"
       ],
       "description": "Retype:",
       "index": 3,
       "layout": "IPY_MODEL_9cfe4baa5b4e41639acd70788e53d139",
       "style": "IPY_MODEL_39b196d5fd9347c888583ac564aa4b8a"
      }
     },
     "41be8df5a6da4dc78a0a74d789d8eb4d": {
      "model_module": "@jupyter-widgets/base",
      "model_module_version": "2.0.0",
      "model_name": "LayoutModel",
      "state": {}
     },
     "41ce96c5a145451082cece86fffd317a": {
      "model_module": "@jupyter-widgets/base",
      "model_module_version": "2.0.0",
      "model_name": "LayoutModel",
      "state": {}
     },
     "41d9da43d21a41858ee143ce8fe1832b": {
      "model_module": "@jupyter-widgets/controls",
      "model_module_version": "2.0.0",
      "model_name": "TextStyleModel",
      "state": {
       "description_width": "",
       "font_size": null,
       "text_color": null
      }
     },
     "4214ced51d2f408f90eadb76fa02a4c0": {
      "model_module": "@jupyter-widgets/controls",
      "model_module_version": "2.0.0",
      "model_name": "DropdownModel",
      "state": {
       "_options_labels": [
        "int8",
        "uint8",
        "int16",
        "uint16",
        "int32",
        "int64",
        "uint32",
        "uint64",
        "float32",
        "float64",
        "str"
       ],
       "description": "Retype:",
       "index": 9,
       "layout": "IPY_MODEL_6174070df44246ecbba19f30a490b261",
       "style": "IPY_MODEL_201b6acbc841411e92aa47890df16550"
      }
     },
     "421ce71df7c84fa8b506126959bce61d": {
      "model_module": "@jupyter-widgets/base",
      "model_module_version": "2.0.0",
      "model_name": "LayoutModel",
      "state": {}
     },
     "4234486ae3454d3a988774bdf865d3fd": {
      "model_module": "@jupyter-widgets/controls",
      "model_module_version": "2.0.0",
      "model_name": "TextModel",
      "state": {
       "description": "Unique vals:",
       "layout": "IPY_MODEL_32897f04ed714cad8e7d0d16284c7edc",
       "style": "IPY_MODEL_7ce34306dd4840bda408de947da951a6",
       "value": "99/99"
      }
     },
     "4269c5a7d43f454d851b9621c2b2862a": {
      "model_module": "@jupyter-widgets/controls",
      "model_module_version": "2.0.0",
      "model_name": "CheckboxStyleModel",
      "state": {
       "description_width": ""
      }
     },
     "42a10487c97840418d28607ecfda3255": {
      "model_module": "@jupyter-widgets/base",
      "model_module_version": "2.0.0",
      "model_name": "LayoutModel",
      "state": {}
     },
     "42bea3cd52294e6690339ebfa25f9fd5": {
      "model_module": "@jupyter-widgets/controls",
      "model_module_version": "2.0.0",
      "model_name": "TextStyleModel",
      "state": {
       "description_width": "",
       "font_size": null,
       "text_color": null
      }
     },
     "42db8eb51df3458ca127b156e06f568d": {
      "model_module": "@jupyter-widgets/base",
      "model_module_version": "2.0.0",
      "model_name": "LayoutModel",
      "state": {}
     },
     "42ec4f0bd1a04a6a8033c9c9f500cd5a": {
      "model_module": "@jupyter-widgets/base",
      "model_module_version": "2.0.0",
      "model_name": "LayoutModel",
      "state": {}
     },
     "42f7df4210f74c28b8bd3d5cc3167453": {
      "model_module": "@jupyter-widgets/controls",
      "model_module_version": "2.0.0",
      "model_name": "DropdownModel",
      "state": {
       "_options_labels": [
        "int8",
        "uint8",
        "int16",
        "uint16",
        "int32",
        "int64",
        "uint32",
        "uint64",
        "float32",
        "float64",
        "str"
       ],
       "description": "Retype:",
       "index": 9,
       "layout": "IPY_MODEL_41be8df5a6da4dc78a0a74d789d8eb4d",
       "style": "IPY_MODEL_36f6ca121d43447aa5489cdeb18e7f67"
      }
     },
     "43036d6b7ebc4a21911d3aa0414302e7": {
      "model_module": "@jupyter-widgets/controls",
      "model_module_version": "2.0.0",
      "model_name": "TextModel",
      "state": {
       "description": "Unique vals:",
       "layout": "IPY_MODEL_32a68b865333489c8fbfbf0ed0e823c5",
       "style": "IPY_MODEL_7c46763a2e334d0fb45c09a06569e8cf",
       "value": "2/99"
      }
     },
     "430fec8a19244cb0b89be2e29d2025a2": {
      "model_module": "@jupyter-widgets/base",
      "model_module_version": "2.0.0",
      "model_name": "LayoutModel",
      "state": {}
     },
     "43440fd6a3eb4abd97fc8d147956605a": {
      "model_module": "@jupyter-widgets/controls",
      "model_module_version": "2.0.0",
      "model_name": "TextStyleModel",
      "state": {
       "description_width": "",
       "font_size": null,
       "text_color": null
      }
     },
     "4358b79bc4b5495a85ba03f5e3b25902": {
      "model_module": "@jupyter-widgets/base",
      "model_module_version": "2.0.0",
      "model_name": "LayoutModel",
      "state": {}
     },
     "4370ceb1e658467092a15425d3ba3605": {
      "model_module": "@jupyter-widgets/controls",
      "model_module_version": "2.0.0",
      "model_name": "TextModel",
      "state": {
       "description": "NA values:",
       "layout": "IPY_MODEL_3f181ffddfb94368876a98150dbd76c4",
       "style": "IPY_MODEL_f643ac8c0b05498ca889ecbe85b19b3c"
      }
     },
     "438d4127c557430cbdb9d2a20b75a72e": {
      "model_module": "@jupyter-widgets/controls",
      "model_module_version": "2.0.0",
      "model_name": "TextModel",
      "state": {
       "description": "Unique vals:",
       "layout": "IPY_MODEL_143a4e5f3f7b44899f1c90b17d2815b0",
       "style": "IPY_MODEL_bdac99f6a37a401682cca56a8b6a801f",
       "value": "99/99"
      }
     },
     "43bd4b6d2eef4255ae296edf7939825a": {
      "model_module": "@jupyter-widgets/controls",
      "model_module_version": "2.0.0",
      "model_name": "ButtonModel",
      "state": {
       "description": "Start loading csv ...",
       "disabled": true,
       "icon": "check",
       "layout": "IPY_MODEL_fca9651df53a484bac5439de28002580",
       "style": "IPY_MODEL_b636ebc15e4641dd9bd455ce35ef0aae",
       "tooltip": "Start loading csv ..."
      }
     },
     "43c1d524a78144a0a4332091e33b4991": {
      "model_module": "@jupyter-widgets/controls",
      "model_module_version": "2.0.0",
      "model_name": "VBoxModel",
      "state": {
       "children": [
        "IPY_MODEL_1db4b6ac06d8435dac92f1654721bdc5",
        "IPY_MODEL_8c72d07a47b14ec0be988a59466db584",
        "IPY_MODEL_388609720d914087a84fbc71a68c11ca",
        "IPY_MODEL_ab4fa903df2d423889e90359949f381a",
        "IPY_MODEL_4648c63795db461190ad301a77ac2b82",
        "IPY_MODEL_8f0a1eb1fbde4e9aafd4a57f1050113a",
        "IPY_MODEL_7496a47d9cf24daca8aed9bb952f6a44"
       ],
       "layout": "IPY_MODEL_d69c1cd11cd449538b2be8b3efc918b0"
      }
     },
     "44167b67605d492b96223a7c1d62ad3a": {
      "model_module": "@jupyter-widgets/base",
      "model_module_version": "2.0.0",
      "model_name": "LayoutModel",
      "state": {}
     },
     "441f5cceb2634d388c65aadd67818bfb": {
      "model_module": "@jupyter-widgets/controls",
      "model_module_version": "2.0.0",
      "model_name": "TextStyleModel",
      "state": {
       "description_width": "",
       "font_size": null,
       "text_color": null
      }
     },
     "44424b1c3d3d44a59bd28edf447c67f4": {
      "model_module": "@jupyter-widgets/controls",
      "model_module_version": "2.0.0",
      "model_name": "TextStyleModel",
      "state": {
       "description_width": "",
       "font_size": null,
       "text_color": null
      }
     },
     "4466d1a9c3f8483dad4bd10a459d6a87": {
      "model_module": "@jupyter-widgets/controls",
      "model_module_version": "2.0.0",
      "model_name": "TextStyleModel",
      "state": {
       "description_width": "",
       "font_size": null,
       "text_color": null
      }
     },
     "4473a56d528f41a388534efec549f29c": {
      "model_module": "@jupyter-widgets/controls",
      "model_module_version": "2.0.0",
      "model_name": "TextStyleModel",
      "state": {
       "description_width": "",
       "font_size": null,
       "text_color": null
      }
     },
     "44894308b9fe496685a850b16223f0fe": {
      "model_module": "@jupyter-widgets/base",
      "model_module_version": "2.0.0",
      "model_name": "LayoutModel",
      "state": {}
     },
     "44a3f210fa91445ebdf1400c61f45b2d": {
      "model_module": "@jupyter-widgets/base",
      "model_module_version": "2.0.0",
      "model_name": "LayoutModel",
      "state": {}
     },
     "44c8ea987c4848a9b1d6d38fa809c502": {
      "model_module": "@jupyter-widgets/controls",
      "model_module_version": "2.0.0",
      "model_name": "DropdownModel",
      "state": {
       "_options_labels": [
        "object",
        "str",
        "category",
        "datetime"
       ],
       "description": "Retype:",
       "index": 0,
       "layout": "IPY_MODEL_2cca32f56c7747f68cf9281d55aed380",
       "style": "IPY_MODEL_5d38185640b0440fa1656d765209102f"
      }
     },
     "44ce785ef92048cbb4eb40e73eea7284": {
      "model_module": "@jupyter-widgets/base",
      "model_module_version": "2.0.0",
      "model_name": "LayoutModel",
      "state": {}
     },
     "44d0f8b57e5f4407b5e34f9f5eb5d996": {
      "model_module": "@jupyter-widgets/base",
      "model_module_version": "2.0.0",
      "model_name": "LayoutModel",
      "state": {}
     },
     "44eb9f0716aa472395c93abc4e2fd3e7": {
      "model_module": "@jupyter-widgets/controls",
      "model_module_version": "2.0.0",
      "model_name": "TextStyleModel",
      "state": {
       "description_width": "",
       "font_size": null,
       "text_color": null
      }
     },
     "44f01d3efb7343d69905309778e38267": {
      "model_module": "@jupyter-widgets/controls",
      "model_module_version": "2.0.0",
      "model_name": "TextStyleModel",
      "state": {
       "description_width": "",
       "font_size": null,
       "text_color": null
      }
     },
     "44f91060f67d4f82a1e8bfac760506f6": {
      "model_module": "@jupyter-widgets/base",
      "model_module_version": "2.0.0",
      "model_name": "LayoutModel",
      "state": {
       "visibility": "hidden"
      }
     },
     "4521bb5056f64ab0a128a9be9975fe20": {
      "model_module": "@jupyter-widgets/controls",
      "model_module_version": "2.0.0",
      "model_name": "VBoxModel",
      "state": {
       "children": [
        "IPY_MODEL_46b939624c364738b53c4d0a7387d542",
        "IPY_MODEL_c43c3264d9f94ec19c380afa0e0de521",
        "IPY_MODEL_23362e8cff634994be8c0c31e51acb9f",
        "IPY_MODEL_02d37a8d509740dc8d6a9877d3dd7469",
        "IPY_MODEL_5153fe572859488b84bacd3a6f26591b",
        "IPY_MODEL_ae47560cc6ac42baba93e7d4e3722d53",
        "IPY_MODEL_0642bb80ad674cc38d6311d36a350488"
       ],
       "layout": "IPY_MODEL_04f6b72bc04749cf90f37849bf193a50"
      }
     },
     "45261dd4f5424695966a40646f90f73b": {
      "model_module": "@jupyter-widgets/controls",
      "model_module_version": "2.0.0",
      "model_name": "CheckboxModel",
      "state": {
       "description": "Use",
       "disabled": false,
       "layout": "IPY_MODEL_835f80e6e3cd4414a4eea837b528a567",
       "style": "IPY_MODEL_6cbf995cede9430da0c5464701cab878",
       "value": true
      }
     },
     "457275f93f89408bbb261d2c3485d3d5": {
      "model_module": "@jupyter-widgets/controls",
      "model_module_version": "2.0.0",
      "model_name": "CheckboxModel",
      "state": {
       "description": "NA values",
       "disabled": false,
       "layout": "IPY_MODEL_f1d3b80b510d4602acd2441b2b9488c5",
       "style": "IPY_MODEL_afa1c582c6654f71b09f8cfe79f313e4",
       "value": false
      }
     },
     "457d48388c484d918e2edebabd7dbfca": {
      "model_module": "@jupyter-widgets/base",
      "model_module_version": "2.0.0",
      "model_name": "LayoutModel",
      "state": {}
     },
     "45a21beff17c4e3cbdcadb8ec95d03a7": {
      "model_module": "@jupyter-widgets/controls",
      "model_module_version": "2.0.0",
      "model_name": "TextModel",
      "state": {
       "description": "Rename:",
       "layout": "IPY_MODEL_8f216dd92ac24b289a8f96c3dd3cd69f",
       "style": "IPY_MODEL_ac1f1c6de9764824bb26e953e6404676",
       "value": "RatecodeID"
      }
     },
     "45d46e42e40e4b019776188f8d12746d": {
      "model_module": "@jupyter-widgets/controls",
      "model_module_version": "2.0.0",
      "model_name": "CheckboxModel",
      "state": {
       "description": "NA values",
       "disabled": false,
       "layout": "IPY_MODEL_f08705d8b9cd4d96ab86f1069fa8f8e2",
       "style": "IPY_MODEL_4269c5a7d43f454d851b9621c2b2862a",
       "value": false
      }
     },
     "45de1b07096e43d29b4a41def2a3e05f": {
      "model_module": "@jupyter-widgets/controls",
      "model_module_version": "2.0.0",
      "model_name": "DropdownModel",
      "state": {
       "_options_labels": [
        "int8",
        "uint8",
        "int16",
        "uint16",
        "int32",
        "int64",
        "uint32",
        "uint64",
        "float32",
        "float64",
        "str"
       ],
       "description": "Retype:",
       "index": 9,
       "layout": "IPY_MODEL_0cd5d86a219c4f0a8ae2a369dec24174",
       "style": "IPY_MODEL_5ec62cc3adce401592dc25c9ee19fc52"
      }
     },
     "45f0984dc3d44217ac7a5ae9f27df9b0": {
      "model_module": "@jupyter-widgets/base",
      "model_module_version": "2.0.0",
      "model_name": "LayoutModel",
      "state": {}
     },
     "460057fb19e1405394a7272acd47c904": {
      "model_module": "@jupyter-widgets/base",
      "model_module_version": "2.0.0",
      "model_name": "LayoutModel",
      "state": {}
     },
     "460db9f04d2044efbe55f5eaa164af67": {
      "model_module": "@jupyter-widgets/controls",
      "model_module_version": "2.0.0",
      "model_name": "TextModel",
      "state": {
       "description": "NA values:",
       "layout": "IPY_MODEL_24180ca9b75643a99ed7edf96e10bbed",
       "style": "IPY_MODEL_1a9f70b366a94752b5d3907e98851a82"
      }
     },
     "460f90ec1f314f2582bf45ba5f1841b6": {
      "model_module": "@jupyter-widgets/controls",
      "model_module_version": "2.0.0",
      "model_name": "CheckboxModel",
      "state": {
       "description": "NA values",
       "disabled": false,
       "layout": "IPY_MODEL_f3f6df5c45024bffb51e25f8d910076c",
       "style": "IPY_MODEL_7d1a15724191430799e6482c51a57716",
       "value": false
      }
     },
     "463e312a083f40b089f5483bc057a697": {
      "model_module": "@jupyter-widgets/base",
      "model_module_version": "2.0.0",
      "model_name": "LayoutModel",
      "state": {}
     },
     "464530e1dca345969e8a3a069671b8c0": {
      "model_module": "@jupyter-widgets/base",
      "model_module_version": "2.0.0",
      "model_name": "LayoutModel",
      "state": {}
     },
     "4648c63795db461190ad301a77ac2b82": {
      "model_module": "@jupyter-widgets/controls",
      "model_module_version": "2.0.0",
      "model_name": "CheckboxModel",
      "state": {
       "description": "Use",
       "disabled": false,
       "layout": "IPY_MODEL_606a5d7149574edda43498892f657141",
       "style": "IPY_MODEL_16c553f0ba7e475abae9320ceb5c3fbf",
       "value": true
      }
     },
     "465e560a0d224240bbbe615dee8b2d28": {
      "model_module": "@jupyter-widgets/controls",
      "model_module_version": "2.0.0",
      "model_name": "VBoxModel",
      "state": {
       "children": [
        "IPY_MODEL_5e86b9d4832c4d0f9cfa30cea9f14f6c",
        "IPY_MODEL_a89dfbbba9c64817a7e1ca2b2d53060f",
        "IPY_MODEL_c467ebe98603452690242db5b3f9df3b",
        "IPY_MODEL_867c2562f1a64920883240278d32bd60",
        "IPY_MODEL_d16857a37ed644a0b6fcf924725d1a89",
        "IPY_MODEL_70d9676e9ecc41889824fa1810e95d5e",
        "IPY_MODEL_8f3afea41a794a2f9b31db90b2639d06"
       ],
       "layout": "IPY_MODEL_fd850db5bd254e48b0ce9e1d3d8c170b"
      }
     },
     "469e88dda3ff45c4b74a99ebf253de18": {
      "model_module": "@jupyter-widgets/base",
      "model_module_version": "2.0.0",
      "model_name": "LayoutModel",
      "state": {}
     },
     "46b2f25435824c5c955778f783714ea4": {
      "model_module": "@jupyter-widgets/controls",
      "model_module_version": "2.0.0",
      "model_name": "TextModel",
      "state": {
       "description": "Unique vals:",
       "layout": "IPY_MODEL_80345e27825c48998847b557dbdc0842",
       "style": "IPY_MODEL_eb28328a821944ee993c2d0cf662042c",
       "value": "6/99"
      }
     },
     "46b939624c364738b53c4d0a7387d542": {
      "model_module": "@jupyter-widgets/controls",
      "model_module_version": "2.0.0",
      "model_name": "TextModel",
      "state": {
       "continuous_update": false,
       "description": "Name:",
       "disabled": true,
       "layout": "IPY_MODEL_348c3ef30db34fc89485e49a8cc0e79d",
       "style": "IPY_MODEL_00e44a6e478f4f9da7f20367b35c39dd",
       "value": "mta_tax"
      }
     },
     "46c1ea428df04b889ce086ec14d0b548": {
      "model_module": "@jupyter-widgets/base",
      "model_module_version": "2.0.0",
      "model_name": "LayoutModel",
      "state": {}
     },
     "46f21c6cf9b74955b292a409e1db93be": {
      "model_module": "@jupyter-widgets/controls",
      "model_module_version": "2.0.0",
      "model_name": "TextStyleModel",
      "state": {
       "description_width": "",
       "font_size": null,
       "text_color": null
      }
     },
     "4738b7fffbd445619f25335a71cf874c": {
      "model_module": "@jupyter-widgets/base",
      "model_module_version": "2.0.0",
      "model_name": "LayoutModel",
      "state": {}
     },
     "47402d3f236e441b8e6d2cbc685f7376": {
      "model_module": "@jupyter-widgets/base",
      "model_module_version": "2.0.0",
      "model_name": "LayoutModel",
      "state": {}
     },
     "47703f96705646d9acf3cca644256837": {
      "model_module": "@jupyter-widgets/controls",
      "model_module_version": "2.0.0",
      "model_name": "TextModel",
      "state": {
       "description": "Separator:",
       "disabled": true,
       "layout": "IPY_MODEL_e56c85bd39c44cb58880013a05f30448",
       "placeholder": "if many values",
       "style": "IPY_MODEL_b0371965bc0a48918490a78db1579752"
      }
     },
     "4776200a256d4737985869566ef61798": {
      "model_module": "@jupyter-widgets/controls",
      "model_module_version": "2.0.0",
      "model_name": "TextModel",
      "state": {
       "description": "Unique vals:",
       "layout": "IPY_MODEL_cc7d45222f41422c97ab74c4fc56e413",
       "style": "IPY_MODEL_3f7807ad49a541dda912d081da365a7e",
       "value": "6/99"
      }
     },
     "477fdeb46e574b9c81ba75d52b4bcdd2": {
      "model_module": "@jupyter-widgets/base",
      "model_module_version": "2.0.0",
      "model_name": "LayoutModel",
      "state": {}
     },
     "47b3bb9a03284581b3b2d26d1131f953": {
      "model_module": "@jupyter-widgets/controls",
      "model_module_version": "2.0.0",
      "model_name": "TextStyleModel",
      "state": {
       "description_width": "",
       "font_size": null,
       "text_color": null
      }
     },
     "47d1a84710f34827b7a163a374f7bacb": {
      "model_module": "@jupyter-widgets/controls",
      "model_module_version": "2.0.0",
      "model_name": "CheckboxModel",
      "state": {
       "description": "NA values",
       "disabled": false,
       "layout": "IPY_MODEL_c064fead87864f7e93ad88c528498c40",
       "style": "IPY_MODEL_ce1636c1926344f4b3cda72342f6a21b",
       "value": false
      }
     },
     "47e0082ec1094356b0ca7dda0bb50355": {
      "model_module": "@jupyter-widgets/controls",
      "model_module_version": "2.0.0",
      "model_name": "TextStyleModel",
      "state": {
       "description_width": "",
       "font_size": null,
       "text_color": null
      }
     },
     "47f4ada8054a4b62902baacb543dd61e": {
      "model_module": "@jupyter-widgets/controls",
      "model_module_version": "2.0.0",
      "model_name": "CheckboxStyleModel",
      "state": {
       "description_width": ""
      }
     },
     "483ebef2255845f797e413f125a533a1": {
      "model_module": "@jupyter-widgets/controls",
      "model_module_version": "2.0.0",
      "model_name": "TextModel",
      "state": {
       "description": "Unique vals:",
       "layout": "IPY_MODEL_6812a7020f1a40febd8dc3fa50e6d978",
       "style": "IPY_MODEL_c83b07002c9c40c4917ebac8298af23c",
       "value": "99/99"
      }
     },
     "48618effeb814a36b7565496ba3a294c": {
      "model_module": "@jupyter-widgets/controls",
      "model_module_version": "2.0.0",
      "model_name": "TextareaModel",
      "state": {
       "description": "URLS:",
       "disabled": true,
       "layout": "IPY_MODEL_0d46fa4d2dde49f18fd244b5e9bdb894",
       "placeholder": "",
       "style": "IPY_MODEL_4c6229964fb144ed897afd703ed174a8",
       "value": "/home/poli/JDF2016/github/nyc-taxi/bigtaxi.csv"
      }
     },
     "486a5367fbd4415a96b21c432923063a": {
      "model_module": "@jupyter-widgets/controls",
      "model_module_version": "2.0.0",
      "model_name": "TextStyleModel",
      "state": {
       "description_width": "",
       "font_size": null,
       "text_color": null
      }
     },
     "488f0dea636f49cfac53322acd160cb2": {
      "model_module": "@jupyter-widgets/base",
      "model_module_version": "2.0.0",
      "model_name": "LayoutModel",
      "state": {}
     },
     "48c49d696bf442e5a0f94f1041de6bf9": {
      "model_module": "@jupyter-widgets/controls",
      "model_module_version": "2.0.0",
      "model_name": "DescriptionStyleModel",
      "state": {
       "description_width": ""
      }
     },
     "48c60a21fc5c42c9a374c7b3c19d4ba9": {
      "model_module": "@jupyter-widgets/controls",
      "model_module_version": "2.0.0",
      "model_name": "TextModel",
      "state": {
       "description": "Unique vals:",
       "layout": "IPY_MODEL_1c69152118284809a2eb16ed60a703e1",
       "style": "IPY_MODEL_09ac97532b954a509782c688f0ffac00",
       "value": "3/99"
      }
     },
     "493d90c433854a9e8b5b4ad54fe621cd": {
      "model_module": "@jupyter-widgets/base",
      "model_module_version": "2.0.0",
      "model_name": "LayoutModel",
      "state": {}
     },
     "4950e62ded86495fbbef81481a08dca6": {
      "model_module": "@jupyter-widgets/controls",
      "model_module_version": "2.0.0",
      "model_name": "CheckboxModel",
      "state": {
       "description": "Use",
       "disabled": false,
       "layout": "IPY_MODEL_1693895e99cf4b48a166d042f46492b9",
       "style": "IPY_MODEL_a5bb2b7321ba4025b52daa29e7877399",
       "value": true
      }
     },
     "497cc283fac34d3095f1b456b4491ffb": {
      "model_module": "@jupyter-widgets/base",
      "model_module_version": "2.0.0",
      "model_name": "LayoutModel",
      "state": {}
     },
     "498489a5d21846b5932510cca01f2885": {
      "model_module": "@jupyter-widgets/controls",
      "model_module_version": "2.0.0",
      "model_name": "TextStyleModel",
      "state": {
       "description_width": "",
       "font_size": null,
       "text_color": null
      }
     },
     "49915f5a7e974da89877a4cf36caf319": {
      "model_module": "@jupyter-widgets/controls",
      "model_module_version": "2.0.0",
      "model_name": "TextModel",
      "state": {
       "description": "Type:",
       "disabled": true,
       "layout": "IPY_MODEL_eba486095f97445999b2c4a5d58f30fe",
       "style": "IPY_MODEL_2d424c59509b43bf9e7c5774ee35efdd",
       "value": "float64"
      }
     },
     "499d7c6580ed4cac8c21c7e5ea00405a": {
      "model_module": "@jupyter-widgets/controls",
      "model_module_version": "2.0.0",
      "model_name": "TextModel",
      "state": {
       "continuous_update": false,
       "description": "Name:",
       "disabled": true,
       "layout": "IPY_MODEL_71781b63012f4cdf9319b86603bdf720",
       "style": "IPY_MODEL_c05097370b984a01bc8d6b3db50a09f9",
       "value": "pickup_longitude"
      }
     },
     "49be36cf5db24ecbbbfa1f4a2e44490e": {
      "model_module": "@jupyter-widgets/base",
      "model_module_version": "2.0.0",
      "model_name": "LayoutModel",
      "state": {}
     },
     "49f42025ce2b4690848435193587e105": {
      "model_module": "@jupyter-widgets/base",
      "model_module_version": "2.0.0",
      "model_name": "LayoutModel",
      "state": {}
     },
     "49feaeb055754b33857b77cfd134d020": {
      "model_module": "@jupyter-widgets/controls",
      "model_module_version": "2.0.0",
      "model_name": "CheckboxStyleModel",
      "state": {
       "description_width": ""
      }
     },
     "4a085a9ba40246518a951f679e8a8f01": {
      "model_module": "@jupyter-widgets/controls",
      "model_module_version": "2.0.0",
      "model_name": "TextModel",
      "state": {
       "description": "Rename:",
       "layout": "IPY_MODEL_ea90e6e3177948f99260232f214b2788",
       "style": "IPY_MODEL_b3dcb7b3b3244cb28406668e7080e228",
       "value": "payment_type"
      }
     },
     "4a25b9970b09413a904c29f550d28205": {
      "model_module": "@jupyter-widgets/base",
      "model_module_version": "2.0.0",
      "model_name": "LayoutModel",
      "state": {}
     },
     "4a6e0bdcc14f4d8ea971c7214da40160": {
      "model_module": "@jupyter-widgets/controls",
      "model_module_version": "2.0.0",
      "model_name": "DescriptionStyleModel",
      "state": {
       "description_width": ""
      }
     },
     "4a77a26f0c9a45da966b8ec572b37940": {
      "model_module": "@jupyter-widgets/controls",
      "model_module_version": "2.0.0",
      "model_name": "TextModel",
      "state": {
       "description": "NA values:",
       "layout": "IPY_MODEL_fe7f8f01af4448e38eaf16869b1a90ee",
       "style": "IPY_MODEL_8ce330db893b4a0f8e40f1b991258bf6"
      }
     },
     "4a7902bc69e54b90bbcef933e6290f6a": {
      "model_module": "@jupyter-widgets/controls",
      "model_module_version": "2.0.0",
      "model_name": "TextModel",
      "state": {
       "description": "Separator:",
       "disabled": true,
       "layout": "IPY_MODEL_9acfa6aea684405c8f85c92f9ce2f833",
       "placeholder": "if many values",
       "style": "IPY_MODEL_fb814c1fea4a40bd9d8f72b7dfd65e47"
      }
     },
     "4aa0aa9d81fa45b185076c32b83889dd": {
      "model_module": "@jupyter-widgets/base",
      "model_module_version": "2.0.0",
      "model_name": "LayoutModel",
      "state": {}
     },
     "4ab86cc03d524423a6b52a83df0dcc38": {
      "model_module": "@jupyter-widgets/controls",
      "model_module_version": "2.0.0",
      "model_name": "HTMLModel",
      "state": {
       "layout": "IPY_MODEL_5d5abcb36e36427a9f9f72863ac54f57",
       "style": "IPY_MODEL_3f743b53418a43b7962fc9524c4b308d",
       "value": "<pre style=\"white-space: pre\">,VendorID,tpep_pickup_datetime,tpep_dropoff_datetime,passenger_count,trip_distance,pickup_longitude,pickup_latitude,RateCodeID,store_and_fwd_flag,dropoff_longitude,dropoff_latitude,payment_type,fare_amount,extra,mta_tax,tip_amount,tolls_amount,improvement_surcharge,total_amount,RatecodeID\n0,1,2015-08-16 04:08:05,2015-08-16 04:25:54,2,7.7,-73.98777770996092,40.71931457519531,,N,-73.97032928466798,40.79659271240234,2,23.5,0.5,0.5,0.0,0.0,0.3,24.8,1.0\n1,1,2015-02-14 19:52:51,2015-02-14 19:55:28,1,0.8,-73.95528411865233,40.77351760864258,1.0,N,-73.95024871826173,40.78369140625,1,4.5,0.0,0.5,1.0,0.0,0.3,6.3,\n2,1,2015-02-03 20:50:28,2015-02-03 20:55:13,1,0.9,-73.99488830566406,40.7398681640625,1.0,N,-73.9912567138672,40.75007247924805,2,5.5,0.5,0.5,0.0,0.0,0.3,6.8,\n3,2,2015-11-23 01:13:45,2015-11-23 01:22:26,2,2.21,-73.95648193359375,40.77117156982422,,N,-73.97894287109375,40.77727890014648,1,9.0,0.5,0.5,2.06,0.0,0.3,12.36,1.0\n4,2,2015-03-10 06:21:42,2015-03-10 06:25:32,1,0.83,-73.95474243164062,40.773391723632805,1.0,N,-73.95068359375,40.78321075439453,1,5.0,0.0,0.5,1.16,0.0,0.3,6.96,\n5,1,2015-10-01 00:25:04,2015-10-01 00:43:39,1,4.3,-73.98939514160156,40.72305679321289,,N,-73.98197174072266,40.77014923095703,2,16.0,0.5,0.5,0.0,0.0,0.3,17.3,1.0\n6,2,2015-06-01 00:07:41,2015-06-01 00:43:42,1,18.57,-73.78096771240233,40.64508056640625,2.0,N,-73.97061920166014,40.758522033691406,1,52.0,0.0,0.5,0.0,0.0,0.3,52.8,\n7,1,2015-08-16 04:17:30,2015-08-16 04:45:21,1,8.5,-74.00114440917967,40.73162460327149,,N,-73.87373352050781,40.756717681884766,2,27.5,0.5,0.5,0.0,0.0,0.3,28.8,1.0\n8,1,2015-08-16 05:33:06,2015-08-16 06:01:07,1,17.9,-73.9781951904297,40.76252365112305,,N,-73.7767562866211,40.6447868347168,1,52.0,0.0,0.5,11.65,5.54,0.3,69.99,2.0\n9,1,2015-05-11 14:39:11,2015-05-11 14:49:53,1,1.1,-73.98455047607422,40.73223114013672,1.0,N,-73.98724365234375,40.74405670166016,2,8.5,0.0,0.5,0.0,0.0,0.3,9.3,\n10,2,2015-01-18 17:19:43,2015-01-18 17:51:30,1,19.57,-73.99375915527344,40.751651763916016,3.0,N,-74.17704010009764,40.69488906860352,1,70.0,0.0,0.0,24.52,11.75,0.3,106.57,\n11,1,2015-01-23 23:07:32,2015-01-23 23:10:34,1,0.7,-73.93081665039062,40.74430847167969,1.0,N,-73.93648529052734,40.73612976074219,2,4.5,0.5,0.5,0.0,0.0,0.3,5.8,\n12,2,2015-04-21 08:27:08,2015-04-21 08:36:27,1,1.05,-73.98745727539062,40.75064086914063,1.0,N,-73.98390960693358,40.76203918457031,1,7.5,0.0,0.5,2.49,0.0,0.3,10.79,\n13,1,2015-05-24 23:06:48,2015-05-24 23:24:26,4,3.1,-73.99645233154298,40.72190475463867,1.0,N,-73.98555755615233,40.75999450683594,1,14.5,0.5,0.5,3.0,0.0,0.3,18.8,\n14,1,2015-05-14 11:58:39,2015-05-14 12:04:06,1,0.8,-73.98023986816406,40.7540283203125,1.0,N,-73.98837280273438,40.74480819702149,2,5.5,0.0,0.5,0.0,0.0,0.3,6.3,\n15,2,2015-06-01 00:06:23,2015-06-01 00:25:56,3,9.6,-73.86284637451173,40.76879119873047,1.0,N,-73.98310089111328,40.7349853515625,1,28.0,0.5,0.5,6.97,5.54,0.3,41.81,\n16,1,2015-08-16 04:12:50,2015-08-16 04:17:56,1,0.6,-73.98336791992188,40.72625732421875,,N,-73.98990631103516,40.7192497253418,1,5.5,0.5,0.5,1.0,0.0,0.3,7.8,1.0\n17,1,2015-04-05 10:11:02,2015-04-05 10:14:01,2,0.6,-73.9934844970703,40.75212478637695,1.0,N,-73.98699188232422,40.757598876953125,1,4.5,0.0,0.5,1.05,0.0,0.3,6.35,\n18,2,2015-04-03 08:36:11,2015-04-03 09:01:02,4,11.63,-73.98079681396483,40.73803329467773,1.0,N,-73.96250152587889,40.625045776367195,1,34.5,0.0,0.5,5.0,5.54,0.3,45.84,\n19,1,2015-01-28 08:50:29,2015-01-28 08:56:52,2,0.9,-73.99573516845702,40.72671890258789,1.0,N,-73.98619842529298,40.734500885009766,2,6.0,0.0,0.5,0.0,0.0,0.3,6.8,\n20,1,2015-02-14 17:29:57,2015-02-14 17:49:26,1,2.4,-74.00560760498048,40.74567031860352,1.0,N,-73.99938201904298,40.71961212158203,1,13.5,0.0,0.5,2.85,0.0,0.3,17.15,\n21,2,2015-12-04 19:18:49,2015-12-04 19:43:19,1,7.69,-73.8860626220703,40.77276611328125,,N,-73.96175384521484,40.796268463134766,1,25.0,1.0,0.5,3.0,5.54,0.3,35.34,1.0\n22,2,2015-04-28 11:48:59,2015-04-28 11:53:57,1,0.86,-73.98097229003906,40.78452301025391,1.0,N,-73.9894027709961,40.77643585205078,1,5.5,0.0,0.5,1.26,0.0,0.3,7.56,\n23,2,2015-06-02 11:29:21,2015-06-02 12:58:41,1,18.66,-73.7904281616211,40.644161224365234,2.0,N,-73.98798370361328,40.7630615234375,2,52.0,0.0,0.5,0.0,5.54,0.3,58.34,\n24,2,2015-05-03 04:52:34,2015-05-03 04:57:47,1,0.68,-73.99742126464844,40.72079086303711,1.0,N,-74.00116729736328,40.7276611328125,2,5.5,0.5,0.5,0.0,0.0,0.3,6.8,\n25,2,2015-03-21 22:15:24,2015-03-21 22:56:13,2,20.62,-73.7913589477539,40.645523071289055,2.0,N,-74.00894165039062,40.71575164794922,2,52.0,0.0,0.5,0.0,0.0,0.3,52.8,\n26,2,2015-07-01 00:07:55,2015-07-01 00:11:37,1,0.9,-73.98782348632812,40.755077362060554,,N,-73.9924087524414,40.74529647827149,1,5.0,0.5,0.5,1.26,0.0,0.3,7.56,1.0\n27,2,2015-03-09 10:22:35,2015-03-09 10:27:04,5,0.68,-73.97940063476561,40.76700973510742,1.0,N,-73.97830963134764,40.77473068237305,1,5.0,0.0,0.5,1.16,0.0,0.3,6.96,\n28,1,2015-12-04 19:26:02,2015-12-04 19:35:19,1,1.2,-74.0013656616211,40.73119735717773,,N,-73.98904418945312,40.74363327026367,1,7.5,1.0,0.5,1.85,0.0,0.3,11.15,1.0\n29,2,2015-08-16 05:29:17,2015-08-16 05:53:05,1,11.98,-73.96673583984375,40.76137161254882,,N,-73.79753112792967,40.70912170410156,1,34.5,0.5,0.5,0.0,0.0,0.3,35.8,1.0\n30,2,2015-11-01 00:09:30,2015-11-01 00:27:24,1,1.66,-73.97614288330078,40.748416900634766,,N,-73.98760223388672,40.73265075683594,1,12.0,0.5,0.5,2.66,0.0,0.3,15.96,1.0\n31,1,2015-11-01 00:00:03,2015-11-01 00:41:07,1,2.3,-74.00461578369139,40.72211837768555,,N,-73.98206329345702,40.74015045166016,1,24.0,0.5,0.5,0.0,0.0,0.3,25.3,1.0\n32,2,2015-12-04 19:16:38,2015-12-04 19:43:37,1,1.58,-73.96039581298828,40.76256561279297,,N,-73.98223114013672,40.762325286865234,2,16.0,1.0,0.5,0.0,0.0,0.3,17.8,1.0\n33,2,2015-04-21 08:27:09,2015-04-21 08:35:02,1,0.87,-73.992431640625,40.742671966552734,1.0,N,-73.9783477783203,40.73713684082031,2,7.0,0.0,0.5,0.0,0.0,0.3,7.8,\n34,1,2015-11-23 00:37:04,2015-11-23 00:43:06,1,1.0,-74.0060043334961,40.74000549316406,,N,-73.99484252929686,40.75024032592773,2,6.5,0.5,0.5,0.0,0.0,0.3,7.8,1.0\n35,2,2015-01-15 19:05:43,2015-01-15 19:15:09,5,1.57,-73.97842407226561,40.74620819091797,1.0,N,-73.98021697998048,40.72854232788086,1,8.0,1.0,0.5,1.8,0.0,0.3,11.6,\n36,2,2015-11-23 01:06:39,2015-11-23 01:19:29,2,8.93,-74.0077896118164,40.71230316162109,,N,-73.89258575439453,40.74713516235352,2,25.0,0.5,0.5,0.0,0.0,0.3,26.3,1.0\n37,1,2015-05-06 01:28:53,2015-05-06 01:33:39,1,0.9,-73.98421478271484,40.75523376464844,1.0,N,-73.99813842773438,40.756641387939446,1,5.5,0.5,0.5,1.7,0.0,0.3,8.5,\n38,2,2015-12-04 19:29:42,2015-12-04 20:17:21,1,5.88,-73.95745849609375,40.776809692382805,,N,-73.99185943603516,40.71493148803711,2,30.0,1.0,0.5,0.0,0.0,0.3,31.8,1.0\n39,2,2015-07-01 00:22:58,2015-07-01 00:25:43,5,0.55,-73.98775482177734,40.76210784912109,,N,-73.98880767822266,40.75862121582031,2,4.0,0.5,0.5,0.0,0.0,0.3,5.3,1.0\n40,2,2015-11-23 01:16:50,2015-11-23 01:24:14,5,2.03,-73.97673797607422,40.758331298828125,,N,-73.95281982421875,40.76988983154297,1,8.5,0.5,0.5,1.96,0.0,0.3,11.76,1.0\n41,1,2015-07-01 00:05:31,2015-07-01 00:20:56,1,2.5,-73.95823669433594,40.76887130737305,,N,-73.98766326904298,40.74979782104492,2,11.5,0.5,0.5,0.0,0.0,0.3,12.8,1.0\n42,1,2015-06-04 15:18:11,2015-06-04 15:42:57,1,2.5,-74.00701904296875,40.7486457824707,1.0,N,-73.97115325927734,40.74825668334961,2,16.0,0.0,0.5,0.0,0.0,0.3,16.8,\n43,1,2015-05-14 13:17:38,2015-05-14 13:37:35,2,1.5,-73.97463226318358,40.756778717041016,1.0,N,-73.99112701416014,40.75048065185546,2,13.0,0.0,0.5,0.0,0.0,0.3,13.8,\n44,2,2015-09-01 00:24:32,2015-09-01 00:43:12,1,5.12,-73.98822021484375,40.72134017944336,,N,-73.98706817626953,40.72959899902344,1,18.0,0.5,0.5,3.86,0.0,0.3,23.16,1.0\n45,1,2015-06-01 00:12:27,2015-06-01 00:14:50,1,0.8,-74.00525665283203,40.73702621459961,1.0,N,-73.997314453125,40.74678802490234,2,4.5,0.5,0.5,0.0,0.0,0.3,5.8,\n46,2,2015-09-01 00:13:54,2015-09-01 00:23:21,1,2.02,-73.9896240234375,40.725955963134766,,N,-73.98059844970702,40.74974060058594,1,9.5,0.5,0.5,1.75,0.0,0.3,12.55,1.0\n47,1,2015-09-01 00:02:04,2015-09-01 00:15:29,1,3.5,-73.98910522460938,40.73746109008789,,N,-73.95314788818358,40.77154541015625,1,12.5,0.5,0.5,1.5,0.0,0.3,15.3,1.0\n48,2,2015-12-04 19:16:04,2015-12-04 19:35:15,1,4.17,-73.98797607421875,40.722633361816406,,N,-73.95410919189453,40.73025131225586,1,16.5,1.0,0.5,3.66,0.0,0.3,21.96,1.0\n49,1,2015-03-11 22:20:50,2015-03-11 22:30:48,1,1.2,-73.99797821044923,40.713844299316406,1.0,N,-73.9912109375,40.72771453857422,1,8.0,0.5,0.5,2.3,0.0,0.3,11.6,\n50,1,2015-01-18 12:34:38,2015-01-18 13:03:55,2,11.1,-73.99659729003906,40.73248672485352,1.0,N,-74.01134490966798,40.63004302978516,1,33.0,0.0,0.5,6.76,0.0,0.3,40.56,\n51,1,2015-11-23 00:31:36,2015-11-23 00:47:29,1,3.8,-73.9842758178711,40.72525787353516,,N,-73.94554901123048,40.72550964355469,1,14.5,0.5,0.5,1.0,0.0,0.3,16.8,1.0\n52,1,2015-02-22 22:03:02,2015-02-22 22:06:50,1,0.7,-73.98094940185547,40.76778030395508,1.0,N,-73.98202514648438,40.778282165527344,1,5.0,0.5,0.5,1.25,0.0,0.3,7.55,\n53,2,2015-04-02 21:12:24,2015-04-02 21:16:29,6,0.74,-74.0028305053711,40.70856857299805,1.0,N,-74.0133285522461,40.70476913452149,2,5.0,0.5,0.5,0.0,0.0,0.3,6.3,\n54,1,2015-12-04 19:14:03,2015-12-04 19:22:02,1,1.3,-73.9578399658203,40.77953338623047,,N,-73.96961975097656,40.78955459594727,1,7.5,1.0,0.5,1.5,0.0,0.3,10.8,1.0\n55,2,2015-12-04 19:17:13,2015-12-04 19:30:47,2,0.9,-73.9820785522461,40.768165588378906,,N,-73.96904754638672,40.76522064208984,1,9.5,1.0,0.5,2.26,0.0,0.3,13.56,1.0\n56,1,2015-12-04 19:23:09,2015-12-04 19:30:12,2,1.0,-73.95003509521484,40.77180480957031,,N,-73.95980834960938,40.77009963989258,1,6.5,1.0,0.5,1.65,0.0,0.3,9.95,1.0\n57,2,2015-09-01 00:33:33,2015-09-01 00:43:20,2,4.26,-73.86273956298828,40.768856048583984,,N,-73.92644500732422,40.76814651489258,1,14.0,0.5,0.5,3.06,0.0,0.3,18.36,1.0\n58,2,2015-02-17 11:20:41,2015-02-17 11:33:13,1,2.64,-73.96666717529298,40.80445098876953,1.0,N,-73.95437622070312,40.7791404724121,2,11.0,0.0,0.5,0.0,0.0,0.3,11.8,\n59,2,2015-08-16 05:48:08,2015-08-16 05:57:25,1,3.59,-73.9861831665039,40.76219177246094,,N,-73.9671401977539,40.798370361328125,2,12.5,0.5,0.5,0.0,0.0,0.3,13.8,1.0\n60,2,2015-09-01 00:14:34,2015-09-01 00:20:31,1,0.78,-73.99127197265625,40.723411560058594,,N,-73.98915100097656,40.7315788269043,2,5.5,0.5,0.5,0.0,0.0,0.3,6.8,1.0\n61,1,2015-06-02 11:25:05,2015-06-02 11:43:32,1,1.3,-73.98680877685547,40.73961639404297,1.0,N,-73.98435974121092,40.75461959838867,2,12.0,0.0,0.5,0.0,0.0,0.3,12.8,\n62,2,2015-02-18 22:31:50,2015-02-18 22:38:04,6,1.71,-73.97624206542967,40.68200302124024,1.0,N,-73.96300506591797,40.66138458251953,1,7.5,0.5,0.5,0.0,0.0,0.3,8.8,\n63,1,2015-05-06 06:57:22,2015-05-06 07:03:55,2,0.9,-73.99766540527344,40.75663375854492,1.0,N,-73.99286651611328,40.768112182617195,2,6.5,0.0,0.5,0.0,0.0,0.3,7.3,\n64,1,2015-03-31 11:17:27,2015-03-31 11:30:23,1,1.5,-73.97275543212889,40.7537956237793,1.0,N,-73.99183654785155,40.74998474121094,2,9.5,0.0,0.5,0.0,0.0,0.3,10.3,\n65,2,2015-06-02 11:31:41,2015-06-02 11:37:43,6,0.29,-73.9562759399414,40.78165817260742,1.0,N,-73.95875549316406,40.77823257446289,1,5.5,0.0,0.5,1.26,0.0,0.3,7.56,\n66,1,2015-09-01 00:50:10,2015-09-01 00:55:46,1,1.3,-73.97572326660156,40.74083709716797,,N,-73.99095153808595,40.75115585327149,2,6.5,0.5,0.5,0.0,0.0,0.3,7.8,1.0\n67,2,2015-08-16 04:31:31,2015-08-16 04:37:03,2,1.35,-73.99858093261719,40.740058898925774,,N,-73.98143768310547,40.72906112670898,2,6.5,0.5,0.5,0.0,0.0,0.3,7.8,1.0\n68,2,2015-07-01 00:12:17,2015-07-01 00:22:04,5,1.7,-74.00760650634764,40.740909576416016,,N,-73.99858093261719,40.723011016845696,2,8.5,0.5,0.5,0.0,0.0,0.3,9.8,1.0\n69,2,2015-08-16 05:23:44,2015-08-16 05:35:32,1,4.1,-73.98252105712889,40.73152923583984,,N,-73.9495391845703,40.78112030029297,1,13.5,0.5,0.5,1.0,0.0,0.3,15.8,1.0\n70,1,2015-11-23 00:48:37,2015-11-23 00:52:43,1,0.4,-73.96224975585938,40.776412963867195,,N,-73.96759033203125,40.77190399169922,2,4.0,0.5,0.5,0.0,0.0,0.3,5.3,1.0\n71,1,2015-10-01 00:02:58,2015-10-01 00:07:55,1,1.0,-74.0043716430664,40.742454528808594,,N,-73.99319458007811,40.752002716064446,1,6.0,0.5,0.5,0.0,0.0,0.3,7.3,1.0\n72,1,2015-10-14 10:27:42,2015-10-14 10:50:13,2,2.5,-74.00244140625,40.73014831542969,,N,-73.97952270507811,40.76248550415039,1,14.5,0.0,0.5,3.05,0.0,0.3,18.35,1.0\n73,2,2015-12-04 19:16:54,2015-12-04 19:22:03,1,0.83,-73.9715576171875,40.75811004638672,,N,-73.96977996826173,40.74966049194336,1,5.5,1.0,0.5,4.0,0.0,0.3,11.3,1.0\n74,1,2015-01-08 13:28:35,2015-01-08 13:37:43,1,1.1,-73.99134826660156,40.74486923217773,1.0,N,-73.99039459228516,40.7567138671875,2,7.5,0.0,0.5,0.0,0.0,0.3,8.3,\n75,1,2015-12-04 19:12:31,2015-12-04 19:31:21,1,1.9,-73.96834564208984,40.76243209838867,,N,-73.99010467529298,40.75120162963867,1,12.5,1.0,0.5,2.85,0.0,0.3,17.15,1.0\n76,2,2015-02-21 07:06:54,2015-02-21 07:21:25,1,9.75,-73.99855041503906,40.722930908203125,1.0,N,-73.87326049804686,40.77428817749024,1,28.0,0.0,0.5,4.2,0.0,0.3,33.0,\n77,1,2015-07-01 00:37:28,2015-07-01 01:08:48,1,4.4,-73.98766326904298,40.72867202758789,,N,-73.99392700195312,40.74419784545898,2,22.5,0.5,0.5,0.0,0.0,0.3,23.8,1.0\n78,2,2015-03-10 21:07:48,2015-03-10 21:10:29,3,0.57,-73.95330047607422,40.78265380859375,1.0,N,-73.95835876464845,40.77586364746094,2,4.0,0.5,0.5,0.0,0.0,0.3,5.3,\n79,1,2015-08-16 04:22:36,2015-08-16 04:32:00,1,2.4,-73.98511505126953,40.755420684814446,,N,-73.99037170410156,40.73183441162109,1,9.5,0.5,0.5,2.15,0.0,0.3,12.95,1.0\n80,1,2015-06-02 11:29:26,2015-06-02 11:35:15,1,0.9,-73.97920989990233,40.7776756286621,1.0,N,-73.97309875488281,40.78693771362305,2,6.0,0.0,0.5,0.0,0.0,0.3,6.8,\n81,1,2015-10-01 00:30:33,2015-10-01 00:52:24,4,5.4,-74.00096893310547,40.729297637939446,,N,-73.96835327148438,40.78987884521485,2,19.5,0.5,0.5,0.0,0.0,0.3,20.8,1.0\n82,1,2015-10-14 10:24:49,2015-10-14 10:41:18,1,0.9,-73.96873474121092,40.75462341308594,,N,-73.9696044921875,40.763816833496094,1,10.5,0.0,0.5,2.8,0.0,0.3,14.1,1.0\n83,1,2015-07-01 00:12:42,2015-07-01 00:16:58,1,0.8,-73.98895263671875,40.758277893066406,,N,-73.98887634277344,40.76674270629882,1,5.0,0.5,0.5,0.63,0.0,0.3,6.93,1.0\n84,2,2015-02-12 12:38:13,2015-02-12 12:47:40,5,1.05,-73.99429321289062,40.73611831665039,1.0,N,-74.00567626953125,40.74563980102539,2,7.5,0.0,0.5,0.0,0.0,0.3,8.3,\n85,2,2015-09-01 00:12:57,2015-09-01 00:22:34,1,1.9,-73.98164367675781,40.72446060180664,,N,-74.00543212890625,40.71731948852539,2,9.0,0.5,0.5,0.0,0.0,0.3,10.3,1.0\n86,1,2015-05-30 18:01:48,2015-05-30 18:06:56,1,0.8,-73.99336242675781,40.72726440429688,1.0,N,-73.99124908447266,40.73612594604492,1,5.5,0.0,0.5,1.0,0.0,0.3,7.3,\n87,1,2015-08-16 05:02:56,2015-08-16 05:06:34,2,0.7,-73.97723388671875,40.78763961791992,,N,-73.98229217529298,40.77766418457031,2,5.0,0.5,0.5,0.0,0.0,0.3,6.3,1.0\n88,2,2015-06-02 11:21:10,2015-06-02 11:43:55,1,5.51,-73.99716186523438,40.71297454833984,1.0,N,-73.95288848876953,40.767372131347656,2,20.0,0.0,0.5,0.0,0.0,0.3,20.8,\n89,1,2015-03-12 07:15:14,2015-03-12 07:18:57,1,0.6,-73.99115753173827,40.745304107666016,1.0,N,-73.9913330078125,40.73926544189453,1,4.5,0.0,0.5,1.55,0.0,0.3,6.85,\n90,2,2015-05-22 00:41:01,2015-05-22 00:49:39,1,2.0,-73.98710632324217,40.72932434082031,1.0,N,-73.99126434326173,40.75022888183594,2,8.5,0.5,0.5,0.0,0.0,0.3,9.8,\n91,2,2015-10-01 00:11:50,2015-10-01 00:16:27,4,1.19,-73.97315979003906,40.763496398925774,,N,-73.97470855712889,40.75118637084961,2,5.5,0.5,0.5,0.0,0.0,0.3,6.8,1.0\n92,2,2015-02-25 14:27:43,2015-02-25 14:36:21,2,1.24,-73.99429321289062,40.74615859985352,1.0,N,-73.9969711303711,40.7578010559082,1,7.5,0.0,0.5,2.08,0.0,0.3,10.38,\n93,2,2015-06-04 15:23:18,2015-06-04 15:35:39,1,1.68,-73.93360137939453,40.79518127441406,1.0,N,-73.95957183837889,40.80139923095703,1,9.5,0.0,0.5,0.0,0.0,0.3,10.3,\n94,1,2015-01-26 13:33:52,2015-01-26 13:42:45,2,1.2,-73.98094940185547,40.75329208374024,1.0,N,-73.97156524658203,40.760379791259766,1,7.0,0.0,0.5,1.55,0.0,0.3,9.35,\n95,2,2015-03-07 18:52:29,2015-03-07 19:22:48,1,5.59,-73.9762191772461,40.7376365661621,1.0,N,-73.9481430053711,40.79312515258789,1,21.5,0.0,0.5,2.0,0.0,0.3,24.3,\n96,2,2015-01-28 17:32:21,2015-01-28 18:00:28,3,4.69,-73.99244689941406,40.74853515625,1.0,N,-73.96267700195312,40.71221160888672,1,21.0,1.0,0.5,4.4,0.0,0.3,27.2,\n97,2,2015-02-24 10:05:55,2015-02-24 10:18:16,6,1.17,-73.97525024414062,40.76242065429688,1.0,N,-73.98921966552734,40.757709503173835,2,9.0,0.0,0.5,0.0,0.0,0.3,9.8,\n98,1,2015-11-23 00:40:12,2015-11-23 00:52:05,1,2.5,-73.98372650146483,40.75075149536133,,N,-73.98374938964845,40.7301139831543,1,11.0,0.5,0.5,2.45,0.0,0.3,14.75,1.0\n</pre>"
      }
     },
     "4ac46b2bfbd641a991c671238a913f0b": {
      "model_module": "@jupyter-widgets/base",
      "model_module_version": "2.0.0",
      "model_name": "LayoutModel",
      "state": {}
     },
     "4ac683f2bb2f4dd8876f645a2737bccc": {
      "model_module": "@jupyter-widgets/controls",
      "model_module_version": "2.0.0",
      "model_name": "DropdownModel",
      "state": {
       "_options_labels": [
        "int8",
        "uint8",
        "int16",
        "uint16",
        "int32",
        "int64",
        "uint32",
        "uint64",
        "float32",
        "float64",
        "str"
       ],
       "description": "Retype:",
       "index": 5,
       "layout": "IPY_MODEL_6d0bf154a24a455898f5a86db71d9e66",
       "style": "IPY_MODEL_5fb094f317fe4c488bee32988633ee2f"
      }
     },
     "4b3edde7123e40d4bd251ad837185be0": {
      "model_module": "@jupyter-widgets/controls",
      "model_module_version": "2.0.0",
      "model_name": "DescriptionStyleModel",
      "state": {
       "description_width": ""
      }
     },
     "4b3fde9b85844601bd626d831556e6e7": {
      "model_module": "@jupyter-widgets/controls",
      "model_module_version": "2.0.0",
      "model_name": "TextStyleModel",
      "state": {
       "description_width": "",
       "font_size": null,
       "text_color": null
      }
     },
     "4b4c36d387bd4f3b9781e303c755a8d6": {
      "model_module": "@jupyter-widgets/controls",
      "model_module_version": "2.0.0",
      "model_name": "DescriptionStyleModel",
      "state": {
       "description_width": ""
      }
     },
     "4b7cc2cda20545018d39ee6f1f706364": {
      "model_module": "@jupyter-widgets/controls",
      "model_module_version": "2.0.0",
      "model_name": "TextStyleModel",
      "state": {
       "description_width": "",
       "font_size": null,
       "text_color": null
      }
     },
     "4bb9cb7610b84a4d94cfc8bca8edcc80": {
      "model_module": "@jupyter-widgets/controls",
      "model_module_version": "2.0.0",
      "model_name": "DropdownModel",
      "state": {
       "_options_labels": [
        "int8",
        "uint8",
        "int16",
        "uint16",
        "int32",
        "int64",
        "uint32",
        "uint64",
        "float32",
        "float64",
        "str"
       ],
       "description": "Retype:",
       "index": 9,
       "layout": "IPY_MODEL_6993c22264be46328a6e1e72d26afb4d",
       "style": "IPY_MODEL_a4a34e71e0264e17b821ba8dcae6e97a"
      }
     },
     "4bbecb53741745f4ad8fc6b5bf035fb4": {
      "model_module": "@jupyter-widgets/controls",
      "model_module_version": "2.0.0",
      "model_name": "TextModel",
      "state": {
       "description": "Rename:",
       "layout": "IPY_MODEL_d8c8406438244a4c879bcd4bdb7e2b0f",
       "style": "IPY_MODEL_3b5897854c5040e4ba420c734534b56b",
       "value": "pickup_longitude"
      }
     },
     "4bc05525d79c4cfcbcd76732b0719b5b": {
      "model_module": "@jupyter-widgets/controls",
      "model_module_version": "2.0.0",
      "model_name": "CheckboxStyleModel",
      "state": {
       "description_width": ""
      }
     },
     "4bcddc2b55be41508627a26dbc3505f2": {
      "model_module": "@jupyter-widgets/controls",
      "model_module_version": "2.0.0",
      "model_name": "LabelModel",
      "state": {
       "layout": "IPY_MODEL_675201c05b4643338b31aa35fa7fb48c",
       "style": "IPY_MODEL_8107d513491948528d5c8cfe6a8542dc",
       "value": "No PColumn Selected"
      }
     },
     "4c3ba1451b8144a3912a226896342a79": {
      "model_module": "@jupyter-widgets/controls",
      "model_module_version": "2.0.0",
      "model_name": "TextStyleModel",
      "state": {
       "description_width": "",
       "font_size": null,
       "text_color": null
      }
     },
     "4c3d3b329e124fb192acdf27b41a5283": {
      "model_module": "@jupyter-widgets/base",
      "model_module_version": "2.0.0",
      "model_name": "LayoutModel",
      "state": {}
     },
     "4c5a647ad66d4533a1ddab8d5d9a65dc": {
      "model_module": "@jupyter-widgets/base",
      "model_module_version": "2.0.0",
      "model_name": "LayoutModel",
      "state": {}
     },
     "4c6229964fb144ed897afd703ed174a8": {
      "model_module": "@jupyter-widgets/controls",
      "model_module_version": "2.0.0",
      "model_name": "TextStyleModel",
      "state": {
       "description_width": "",
       "font_size": null,
       "text_color": null
      }
     },
     "4c6b5e02953f4befad9f83a5c2c7b241": {
      "model_module": "@jupyter-widgets/base",
      "model_module_version": "2.0.0",
      "model_name": "LayoutModel",
      "state": {}
     },
     "4c8fa1a75bc546c087ff5fe33aac56a5": {
      "model_module": "@jupyter-widgets/base",
      "model_module_version": "2.0.0",
      "model_name": "LayoutModel",
      "state": {}
     },
     "4ce345588ea249a694bf9934cd2bc93b": {
      "model_module": "@jupyter-widgets/base",
      "model_module_version": "2.0.0",
      "model_name": "LayoutModel",
      "state": {}
     },
     "4ce816229a944f01a4f3a2aa331864f2": {
      "model_module": "@jupyter-widgets/controls",
      "model_module_version": "2.0.0",
      "model_name": "ButtonStyleModel",
      "state": {
       "font_family": null,
       "font_size": null,
       "font_style": null,
       "font_variant": null,
       "font_weight": null,
       "text_color": null,
       "text_decoration": null
      }
     },
     "4d909b968ce34d0baa61735bd7cf0246": {
      "model_module": "@jupyter-widgets/controls",
      "model_module_version": "2.0.0",
      "model_name": "LabelModel",
      "state": {
       "layout": "IPY_MODEL_233e722878c54d38991957a88f2597e5",
       "style": "IPY_MODEL_d2b5abe0eec348bca377c28b105b460c",
       "value": "dongle"
      }
     },
     "4d9d79f167c1479499eec1789e3754da": {
      "model_module": "@jupyter-widgets/controls",
      "model_module_version": "2.0.0",
      "model_name": "DescriptionStyleModel",
      "state": {
       "description_width": ""
      }
     },
     "4e0586c9c42f44de8000c3d835de526b": {
      "model_module": "@jupyter-widgets/base",
      "model_module_version": "2.0.0",
      "model_name": "LayoutModel",
      "state": {}
     },
     "4e14521a8908409d9e740806a2d79180": {
      "model_module": "@jupyter-widgets/controls",
      "model_module_version": "2.0.0",
      "model_name": "DescriptionStyleModel",
      "state": {
       "description_width": ""
      }
     },
     "4e2ae3bdee5346e598ee2af8e3fa3de1": {
      "model_module": "@jupyter-widgets/base",
      "model_module_version": "2.0.0",
      "model_name": "LayoutModel",
      "state": {}
     },
     "4e3b5513c3914c16af67874c733b6b98": {
      "model_module": "@jupyter-widgets/controls",
      "model_module_version": "2.0.0",
      "model_name": "DescriptionStyleModel",
      "state": {
       "description_width": ""
      }
     },
     "4e5229cff754427e8eb125e5213bf6ca": {
      "model_module": "@jupyter-widgets/base",
      "model_module_version": "2.0.0",
      "model_name": "LayoutModel",
      "state": {}
     },
     "4e73b99d6d574bf2b0b2e0f923e1a60c": {
      "model_module": "@jupyter-widgets/base",
      "model_module_version": "2.0.0",
      "model_name": "LayoutModel",
      "state": {}
     },
     "4e80c98c88604da4a0c3f467a278bcac": {
      "model_module": "@jupyter-widgets/controls",
      "model_module_version": "2.0.0",
      "model_name": "TextStyleModel",
      "state": {
       "description_width": "",
       "font_size": null,
       "text_color": null
      }
     },
     "4e961b0e6512483d95d2f74227471115": {
      "model_module": "@jupyter-widgets/base",
      "model_module_version": "2.0.0",
      "model_name": "LayoutModel",
      "state": {}
     },
     "4ecfebc436194964b0fa9bd07f3c8170": {
      "model_module": "@jupyter-widgets/controls",
      "model_module_version": "2.0.0",
      "model_name": "TextModel",
      "state": {
       "continuous_update": false,
       "description": "Name:",
       "disabled": true,
       "layout": "IPY_MODEL_e45315d79bd84c9b8b4ab6a1a969b5bd",
       "style": "IPY_MODEL_8f954a5e909f442ea07408323ff8c5a1",
       "value": "trip_distance"
      }
     },
     "4eeb9a8570d14c8f932197d1baf003fb": {
      "model_module": "@jupyter-widgets/base",
      "model_module_version": "2.0.0",
      "model_name": "LayoutModel",
      "state": {}
     },
     "4efaa75cdd534803897fcb9f8246faee": {
      "model_module": "@jupyter-widgets/controls",
      "model_module_version": "2.0.0",
      "model_name": "CheckboxStyleModel",
      "state": {
       "description_width": ""
      }
     },
     "4f2e5675d11a4546842f1f0293816063": {
      "model_module": "@jupyter-widgets/controls",
      "model_module_version": "2.0.0",
      "model_name": "TextStyleModel",
      "state": {
       "description_width": "",
       "font_size": null,
       "text_color": null
      }
     },
     "4f356b869d2b4ef48aace1e38792cf75": {
      "model_module": "@jupyter-widgets/controls",
      "model_module_version": "2.0.0",
      "model_name": "TextModel",
      "state": {
       "continuous_update": false,
       "description": "Name:",
       "disabled": true,
       "layout": "IPY_MODEL_3ab93eba6e4f42399108f6cd6a41ccc3",
       "style": "IPY_MODEL_3dcb6a28ca704794b6f695604334cc5b",
       "value": "tolls_amount"
      }
     },
     "4f444f7d9d75460eb1fd163c8bd0aa0b": {
      "model_module": "@jupyter-widgets/controls",
      "model_module_version": "2.0.0",
      "model_name": "TextStyleModel",
      "state": {
       "description_width": "",
       "font_size": null,
       "text_color": null
      }
     },
     "4f8c8410e1c84ee391ab4e9c8d46837a": {
      "model_module": "@jupyter-widgets/controls",
      "model_module_version": "2.0.0",
      "model_name": "TextStyleModel",
      "state": {
       "description_width": "",
       "font_size": null,
       "text_color": null
      }
     },
     "4fcd86fffb4e431c826cc4b41403016f": {
      "model_module": "@jupyter-widgets/controls",
      "model_module_version": "2.0.0",
      "model_name": "TextStyleModel",
      "state": {
       "description_width": "",
       "font_size": null,
       "text_color": null
      }
     },
     "4fe180c9650e4015a959549472c4a7c2": {
      "model_module": "@jupyter-widgets/controls",
      "model_module_version": "2.0.0",
      "model_name": "VBoxModel",
      "state": {
       "children": [
        "IPY_MODEL_773fb92dd4474c7f8f19106982522303",
        "IPY_MODEL_f6018f354a8d461da222425c3939c213",
        "IPY_MODEL_ea9896d403a74594a9ca5a5932734a01",
        "IPY_MODEL_3301954478d54b38ac09fabac5c626b3",
        "IPY_MODEL_cfc484bda3cc43bcb77861f9df030bcd",
        "IPY_MODEL_52fb93ea80c840a78cf23b7c7e606029",
        "IPY_MODEL_e379e50afa1a48cbab3044023f298e86"
       ],
       "layout": "IPY_MODEL_c4e78c99a7334868999ed8e88af6bf8e"
      }
     },
     "4ff80a4636f649c581fbe1f003a48e82": {
      "model_module": "@jupyter-widgets/base",
      "model_module_version": "2.0.0",
      "model_name": "LayoutModel",
      "state": {}
     },
     "5006d256bbf5418987caf941817eb46c": {
      "model_module": "@jupyter-widgets/controls",
      "model_module_version": "2.0.0",
      "model_name": "TextStyleModel",
      "state": {
       "description_width": "",
       "font_size": null,
       "text_color": null
      }
     },
     "501544ac17e847de8cd2b27e10671e74": {
      "model_module": "@jupyter-widgets/base",
      "model_module_version": "2.0.0",
      "model_name": "LayoutModel",
      "state": {}
     },
     "503fd57aa89c4246a4cf56d6fd3dedab": {
      "model_module": "@jupyter-widgets/controls",
      "model_module_version": "2.0.0",
      "model_name": "CheckboxStyleModel",
      "state": {
       "description_width": ""
      }
     },
     "5048bf7f92844507921e631d084e447f": {
      "model_module": "@jupyter-widgets/base",
      "model_module_version": "2.0.0",
      "model_name": "LayoutModel",
      "state": {}
     },
     "504e247770e349aab12c152955553d8a": {
      "model_module": "@jupyter-widgets/base",
      "model_module_version": "2.0.0",
      "model_name": "LayoutModel",
      "state": {}
     },
     "5070bf2461a6414dbd7364b8ff7d4724": {
      "model_module": "@jupyter-widgets/controls",
      "model_module_version": "2.0.0",
      "model_name": "CheckboxStyleModel",
      "state": {
       "description_width": ""
      }
     },
     "50b4e46f225e4a22a3fe2095b29001f4": {
      "model_module": "@jupyter-widgets/base",
      "model_module_version": "2.0.0",
      "model_name": "LayoutModel",
      "state": {}
     },
     "50b5508cb338423785f039b15947812d": {
      "model_module": "@jupyter-widgets/controls",
      "model_module_version": "2.0.0",
      "model_name": "HTMLModel",
      "state": {
       "layout": "IPY_MODEL_5d0f9a1412ac4512be90f8615ff29fe5",
       "placeholder": "0",
       "style": "IPY_MODEL_157f3e045eca41539a542bb4feb58a7b",
       "value": "4638"
      }
     },
     "50c2d5a866374ce0a1b93fd71266f204": {
      "model_module": "@jupyter-widgets/controls",
      "model_module_version": "2.0.0",
      "model_name": "TextStyleModel",
      "state": {
       "description_width": "",
       "font_size": null,
       "text_color": null
      }
     },
     "50db6fdc0c3e447a984d0311fe805f89": {
      "model_module": "@jupyter-widgets/base",
      "model_module_version": "2.0.0",
      "model_name": "LayoutModel",
      "state": {}
     },
     "50e1d869ea8549fbbbf6872ff243b717": {
      "model_module": "@jupyter-widgets/controls",
      "model_module_version": "2.0.0",
      "model_name": "TextStyleModel",
      "state": {
       "description_width": "",
       "font_size": null,
       "text_color": null
      }
     },
     "510995e695ce4775909a044076dab213": {
      "model_module": "@jupyter-widgets/base",
      "model_module_version": "2.0.0",
      "model_name": "LayoutModel",
      "state": {}
     },
     "5139fb6df64241619001208c3d3a1857": {
      "model_module": "@jupyter-widgets/controls",
      "model_module_version": "2.0.0",
      "model_name": "TextModel",
      "state": {
       "description": "Rename:",
       "layout": "IPY_MODEL_8f68947b299e48d593f97ff0f3d6b901",
       "style": "IPY_MODEL_270ed7da0e104b61953d119b55b0a385",
       "value": "fare_amount"
      }
     },
     "5153fe572859488b84bacd3a6f26591b": {
      "model_module": "@jupyter-widgets/controls",
      "model_module_version": "2.0.0",
      "model_name": "CheckboxModel",
      "state": {
       "description": "Use",
       "disabled": false,
       "layout": "IPY_MODEL_d6133e3d49264030b59777a0c809a53c",
       "style": "IPY_MODEL_fa4b0cff19024fca8a082a1fc2068920",
       "value": false
      }
     },
     "516d6ba8a4d446d68af0815a8696cb91": {
      "model_module": "@jupyter-widgets/controls",
      "model_module_version": "2.0.0",
      "model_name": "TextModel",
      "state": {
       "description": "Unique vals:",
       "layout": "IPY_MODEL_73784c969ad44f45a0c9a0596c91f803",
       "style": "IPY_MODEL_44424b1c3d3d44a59bd28edf447c67f4",
       "value": "2/99"
      }
     },
     "51854fe173724307b1a7ab95b871554b": {
      "model_module": "@jupyter-widgets/base",
      "model_module_version": "2.0.0",
      "model_name": "LayoutModel",
      "state": {}
     },
     "519b48ed835c4cecb6ba70fddbd32591": {
      "model_module": "@jupyter-widgets/controls",
      "model_module_version": "2.0.0",
      "model_name": "LabelModel",
      "state": {
       "layout": "IPY_MODEL_6e04008a6fd54e89bf1a93fc181e53ee",
       "style": "IPY_MODEL_61297668ffaa4c7b80f301638575d5f4",
       "value": "dongle"
      }
     },
     "51a428ac35f24acca932ebbe4747ea4a": {
      "model_module": "@jupyter-widgets/controls",
      "model_module_version": "2.0.0",
      "model_name": "DropdownModel",
      "state": {
       "_options_labels": [
        "int8",
        "uint8",
        "int16",
        "uint16",
        "int32",
        "int64",
        "uint32",
        "uint64",
        "float32",
        "float64",
        "str"
       ],
       "description": "Retype:",
       "index": 5,
       "layout": "IPY_MODEL_769ec4a5cd7a444dba346261c0747a43",
       "style": "IPY_MODEL_e9dab5b7aa9243ee83dc53327538d845"
      }
     },
     "51eb2c8dda654d9e949a25da3acbae0e": {
      "model_module": "@jupyter-widgets/base",
      "model_module_version": "2.0.0",
      "model_name": "LayoutModel",
      "state": {}
     },
     "52067d1c0548461e94cfe381afae1687": {
      "model_module": "@jupyter-widgets/base",
      "model_module_version": "2.0.0",
      "model_name": "LayoutModel",
      "state": {}
     },
     "5240bb4c74c14be68c80bcdef7b952cf": {
      "model_module": "@jupyter-widgets/controls",
      "model_module_version": "2.0.0",
      "model_name": "TextStyleModel",
      "state": {
       "description_width": "",
       "font_size": null,
       "text_color": null
      }
     },
     "524d063becf14970945164a16f23a369": {
      "model_module": "@jupyter-widgets/controls",
      "model_module_version": "2.0.0",
      "model_name": "TextModel",
      "state": {
       "description": "Separator:",
       "disabled": true,
       "layout": "IPY_MODEL_4aa0aa9d81fa45b185076c32b83889dd",
       "placeholder": "if many values",
       "style": "IPY_MODEL_55151d0d022d4056ba3def9188082383"
      }
     },
     "5251eec0690344138968e42916573764": {
      "model_module": "@jupyter-widgets/controls",
      "model_module_version": "2.0.0",
      "model_name": "TextModel",
      "state": {
       "description": "Separator:",
       "disabled": true,
       "layout": "IPY_MODEL_24299e090d484da6b7d72075e644db0e",
       "placeholder": "if many values",
       "style": "IPY_MODEL_a89c4d9fbfe349e88f9710161b285eef"
      }
     },
     "527aa5256d084f26a9c8880e58f769c4": {
      "model_module": "@jupyter-widgets/controls",
      "model_module_version": "2.0.0",
      "model_name": "TextModel",
      "state": {
       "description": "NA values:",
       "layout": "IPY_MODEL_368c61ef55374d32b21cf226e42db334",
       "style": "IPY_MODEL_70b370b5b82c4e1b94a8323904ecf15d"
      }
     },
     "52a4aac3a4ae48878db3c2ff2954ef5f": {
      "model_module": "@jupyter-widgets/controls",
      "model_module_version": "2.0.0",
      "model_name": "TextModel",
      "state": {
       "description": "CSV loader:",
       "layout": "IPY_MODEL_bb9c9efd8a4f420a82556a92eaa9509b",
       "placeholder": "optional alias",
       "style": "IPY_MODEL_2f951261d6aa4c0f8ec88d919fb8aa3f"
      }
     },
     "52ad8e07df864880bfc57d2d44d9c847": {
      "model_module": "@jupyter-widgets/controls",
      "model_module_version": "2.0.0",
      "model_name": "CheckboxModel",
      "state": {
       "description": "Use",
       "disabled": false,
       "layout": "IPY_MODEL_7a02e31cb5bc49cfbded23088fc342e6",
       "style": "IPY_MODEL_5070bf2461a6414dbd7364b8ff7d4724",
       "value": false
      }
     },
     "52c42f5bdeae415ea253afdf050765e5": {
      "model_module": "@jupyter-widgets/controls",
      "model_module_version": "2.0.0",
      "model_name": "TextStyleModel",
      "state": {
       "description_width": "",
       "font_size": null,
       "text_color": null
      }
     },
     "52e48bd8c95a4ba88e4df0a033b8d3d0": {
      "model_module": "@jupyter-widgets/controls",
      "model_module_version": "2.0.0",
      "model_name": "TextModel",
      "state": {
       "description": "Rename:",
       "layout": "IPY_MODEL_91b45a9bc92843cf8bddc21b38c8b80a",
       "style": "IPY_MODEL_8280bbd3c71d4fb4aec16c70c32f7e9a",
       "value": "RatecodeID"
      }
     },
     "52f6ea15ff4e482e85502b064dce8f1d": {
      "model_module": "@jupyter-widgets/controls",
      "model_module_version": "2.0.0",
      "model_name": "TextStyleModel",
      "state": {
       "description_width": "",
       "font_size": null,
       "text_color": null
      }
     },
     "52fb93ea80c840a78cf23b7c7e606029": {
      "model_module": "@jupyter-widgets/controls",
      "model_module_version": "2.0.0",
      "model_name": "TextModel",
      "state": {
       "description": "Unique vals:",
       "layout": "IPY_MODEL_b7d3bbdd6aca429fb6475aff426c83ad",
       "style": "IPY_MODEL_88241aea1abf492c8d218e5d417e5f10",
       "value": "1/99"
      }
     },
     "5335331470174c12a512076a5656dd72": {
      "model_module": "@jupyter-widgets/controls",
      "model_module_version": "2.0.0",
      "model_name": "TextStyleModel",
      "state": {
       "description_width": "",
       "font_size": null,
       "text_color": null
      }
     },
     "533bebfc9e234097b91fd10646e236f5": {
      "model_module": "@jupyter-widgets/controls",
      "model_module_version": "2.0.0",
      "model_name": "TextStyleModel",
      "state": {
       "description_width": "",
       "font_size": null,
       "text_color": null
      }
     },
     "53420c53faab48178504f40af66b4e6d": {
      "model_module": "@jupyter-widgets/base",
      "model_module_version": "2.0.0",
      "model_name": "LayoutModel",
      "state": {}
     },
     "53479993f1f64fe5a9a008ca50828914": {
      "model_module": "@jupyter-widgets/base",
      "model_module_version": "2.0.0",
      "model_name": "LayoutModel",
      "state": {}
     },
     "53505e87741e404a865a336b77e441d2": {
      "model_module": "@jupyter-widgets/controls",
      "model_module_version": "2.0.0",
      "model_name": "TextModel",
      "state": {
       "description": "Separator:",
       "disabled": true,
       "layout": "IPY_MODEL_2c4b1b24f70f41f19f7252bcbfc7a350",
       "placeholder": "if many values",
       "style": "IPY_MODEL_e79bcf41edd441f289d4d0ee5b70d423"
      }
     },
     "5357fd8dfa5c4bcab8d1251853db60ba": {
      "model_module": "@jupyter-widgets/controls",
      "model_module_version": "2.0.0",
      "model_name": "TextStyleModel",
      "state": {
       "description_width": "",
       "font_size": null,
       "text_color": null
      }
     },
     "53680d2182a64a6e92d064aae0b60f2d": {
      "model_module": "@jupyter-widgets/controls",
      "model_module_version": "2.0.0",
      "model_name": "TextStyleModel",
      "state": {
       "description_width": "",
       "font_size": null,
       "text_color": null
      }
     },
     "539635df79f84f008124bae64db03ae8": {
      "model_module": "@jupyter-widgets/controls",
      "model_module_version": "2.0.0",
      "model_name": "TextStyleModel",
      "state": {
       "description_width": "",
       "font_size": null,
       "text_color": null
      }
     },
     "53dc241d2d36431a865c2c60ee7530b4": {
      "model_module": "@jupyter-widgets/base",
      "model_module_version": "2.0.0",
      "model_name": "LayoutModel",
      "state": {}
     },
     "53e1987c815843a7a0b4c8c6c8e99024": {
      "model_module": "@jupyter-widgets/base",
      "model_module_version": "2.0.0",
      "model_name": "LayoutModel",
      "state": {}
     },
     "53e24957a6634e16ae26434502e3583b": {
      "model_module": "@jupyter-widgets/base",
      "model_module_version": "2.0.0",
      "model_name": "LayoutModel",
      "state": {}
     },
     "53f210985a3d4147a239e891c7471c52": {
      "model_module": "@jupyter-widgets/controls",
      "model_module_version": "2.0.0",
      "model_name": "TextStyleModel",
      "state": {
       "description_width": "",
       "font_size": null,
       "text_color": null
      }
     },
     "544ca91fc38148b3b33a6ae50d5e3281": {
      "model_module": "@jupyter-widgets/base",
      "model_module_version": "2.0.0",
      "model_name": "LayoutModel",
      "state": {}
     },
     "5450acba89d24835a8be1f3f498f0c2a": {
      "model_module": "@jupyter-widgets/base",
      "model_module_version": "2.0.0",
      "model_name": "LayoutModel",
      "state": {}
     },
     "548cade46b904bae98785e43de241e8a": {
      "model_module": "@jupyter-widgets/controls",
      "model_module_version": "2.0.0",
      "model_name": "CheckboxModel",
      "state": {
       "description": "Use",
       "disabled": false,
       "layout": "IPY_MODEL_2cfd78995fa84cafab056476f6f13ce8",
       "style": "IPY_MODEL_b9f0c0fe14e7484a9cbb4dd7c65a709e",
       "value": true
      }
     },
     "54b9bcbf2f7d40cfbba4b4fa16fcb7a1": {
      "model_module": "@jupyter-widgets/base",
      "model_module_version": "2.0.0",
      "model_name": "LayoutModel",
      "state": {}
     },
     "54c44974c3a942d5b62b1a8354efe421": {
      "model_module": "@jupyter-widgets/controls",
      "model_module_version": "2.0.0",
      "model_name": "DescriptionStyleModel",
      "state": {
       "description_width": ""
      }
     },
     "54cdd61605414539b7dd43f9ef17cc5e": {
      "model_module": "@jupyter-widgets/base",
      "model_module_version": "2.0.0",
      "model_name": "LayoutModel",
      "state": {}
     },
     "54d6b6634b414c589e62e8521b73701d": {
      "model_module": "@jupyter-widgets/base",
      "model_module_version": "2.0.0",
      "model_name": "LayoutModel",
      "state": {}
     },
     "55151d0d022d4056ba3def9188082383": {
      "model_module": "@jupyter-widgets/controls",
      "model_module_version": "2.0.0",
      "model_name": "TextStyleModel",
      "state": {
       "description_width": "",
       "font_size": null,
       "text_color": null
      }
     },
     "553d86e716cd4a46bb15d337d33c1a2d": {
      "model_module": "@jupyter-widgets/base",
      "model_module_version": "2.0.0",
      "model_name": "LayoutModel",
      "state": {}
     },
     "558bbd8d48e0405ca7c57627a76e4bd1": {
      "model_module": "@jupyter-widgets/base",
      "model_module_version": "2.0.0",
      "model_name": "LayoutModel",
      "state": {}
     },
     "5593fa17531d452fa610f06ba08f3a47": {
      "model_module": "@jupyter-widgets/base",
      "model_module_version": "2.0.0",
      "model_name": "LayoutModel",
      "state": {}
     },
     "559f4d5392f2455fbe82cf8814dd2552": {
      "model_module": "@jupyter-widgets/controls",
      "model_module_version": "2.0.0",
      "model_name": "BoundedIntTextModel",
      "state": {
       "description": "Skip rows:",
       "layout": "IPY_MODEL_40cc52faf271401e9efd6a002d892357",
       "max": 1000,
       "style": "IPY_MODEL_7b7cafc428544e0bac33f92097163c7d"
      }
     },
     "55af8b9a065848bda30dfef905230ad5": {
      "model_module": "@jupyter-widgets/controls",
      "model_module_version": "2.0.0",
      "model_name": "CheckboxModel",
      "state": {
       "description": "NA values",
       "disabled": false,
       "layout": "IPY_MODEL_b6c4142325694809928868cb9c1d128a",
       "style": "IPY_MODEL_66c9023fe5a5432a89e1648e3e376202",
       "value": false
      }
     },
     "55c4fd28237e46bfa8725f6af582dcc0": {
      "model_module": "@jupyter-widgets/controls",
      "model_module_version": "2.0.0",
      "model_name": "TextStyleModel",
      "state": {
       "description_width": "",
       "font_size": null,
       "text_color": null
      }
     },
     "55ea6aa5206d45d593fdfc8445751c4a": {
      "model_module": "@jupyter-widgets/base",
      "model_module_version": "2.0.0",
      "model_name": "LayoutModel",
      "state": {}
     },
     "55ed39fdb85e4f858d9ab4dcc6bbc51e": {
      "model_module": "@jupyter-widgets/controls",
      "model_module_version": "2.0.0",
      "model_name": "TextStyleModel",
      "state": {
       "description_width": "",
       "font_size": null,
       "text_color": null
      }
     },
     "5607252bfea14b9f8ae67284f8911e05": {
      "model_module": "@jupyter-widgets/controls",
      "model_module_version": "2.0.0",
      "model_name": "TextStyleModel",
      "state": {
       "description_width": "",
       "font_size": null,
       "text_color": null
      }
     },
     "560e6e0fa59b49bb94e711a8f6a54c9b": {
      "model_module": "@jupyter-widgets/base",
      "model_module_version": "2.0.0",
      "model_name": "LayoutModel",
      "state": {}
     },
     "561c6ab6f5264606a756b6f4ebaa550a": {
      "model_module": "@jupyter-widgets/controls",
      "model_module_version": "2.0.0",
      "model_name": "CheckboxModel",
      "state": {
       "description": "Use",
       "disabled": false,
       "layout": "IPY_MODEL_4e2ae3bdee5346e598ee2af8e3fa3de1",
       "style": "IPY_MODEL_6a1b3812940f45898c1c04a8283954ac",
       "value": true
      }
     },
     "5626e257324b4d47bf32677b7562f994": {
      "model_module": "@jupyter-widgets/controls",
      "model_module_version": "2.0.0",
      "model_name": "ButtonModel",
      "state": {
       "description": "Sniff ...",
       "disabled": true,
       "icon": "check",
       "layout": "IPY_MODEL_84321487292c451d88ec34e8c05387d1",
       "style": "IPY_MODEL_2a9aacd3c01f44049e99eab0f79b0f7b",
       "tooltip": "Sniff ..."
      }
     },
     "5687dd6f1ecc45fda0f22d6cf7c24ca0": {
      "model_module": "@jupyter-widgets/controls",
      "model_module_version": "2.0.0",
      "model_name": "TextStyleModel",
      "state": {
       "description_width": "",
       "font_size": null,
       "text_color": null
      }
     },
     "568c644ba5304a999428ff6a1dc497f1": {
      "model_module": "@jupyter-widgets/controls",
      "model_module_version": "2.0.0",
      "model_name": "CheckboxStyleModel",
      "state": {
       "description_width": ""
      }
     },
     "569a574be16d4341b566fe626e8e6864": {
      "model_module": "@jupyter-widgets/base",
      "model_module_version": "2.0.0",
      "model_name": "LayoutModel",
      "state": {}
     },
     "56a47aa74e1c4be4a03109c748c38694": {
      "model_module": "@jupyter-widgets/controls",
      "model_module_version": "2.0.0",
      "model_name": "TextStyleModel",
      "state": {
       "description_width": "",
       "font_size": null,
       "text_color": null
      }
     },
     "56b3533afbdb4ef295a0bc4fecd99d9f": {
      "model_module": "@jupyter-widgets/controls",
      "model_module_version": "2.0.0",
      "model_name": "CheckboxStyleModel",
      "state": {
       "description_width": ""
      }
     },
     "56bc84bd49734d38957d1b537abe0519": {
      "model_module": "@jupyter-widgets/controls",
      "model_module_version": "2.0.0",
      "model_name": "TextModel",
      "state": {
       "description": "Rename:",
       "layout": "IPY_MODEL_1e1a30e055774095be480a2f8d375d2c",
       "style": "IPY_MODEL_5bbe113f5f114367a0ed52488b9d3534",
       "value": "extra"
      }
     },
     "56f28ce8230a4b70a44df10fc76100a8": {
      "model_module": "@jupyter-widgets/controls",
      "model_module_version": "2.0.0",
      "model_name": "DescriptionStyleModel",
      "state": {
       "description_width": ""
      }
     },
     "571bc4b8c432403aa13bb764eb0b48d0": {
      "model_module": "@jupyter-widgets/controls",
      "model_module_version": "2.0.0",
      "model_name": "TextStyleModel",
      "state": {
       "description_width": "",
       "font_size": null,
       "text_color": null
      }
     },
     "572fbd6c7b58421d8b5eeaca44a13749": {
      "model_module": "@jupyter-widgets/controls",
      "model_module_version": "2.0.0",
      "model_name": "TextStyleModel",
      "state": {
       "description_width": "",
       "font_size": null,
       "text_color": null
      }
     },
     "573c80b2e5e945ddbb4f78c3dcc8c561": {
      "model_module": "@jupyter-widgets/controls",
      "model_module_version": "2.0.0",
      "model_name": "TextModel",
      "state": {
       "description": "Rename:",
       "layout": "IPY_MODEL_c94e29399cf64e0596c158d965f829aa",
       "style": "IPY_MODEL_ccb264ba60184056a36667ec2e25cf2a",
       "value": "pickup_latitude"
      }
     },
     "5750a652fe884d68841c459017df26ba": {
      "model_module": "@jupyter-widgets/base",
      "model_module_version": "2.0.0",
      "model_name": "LayoutModel",
      "state": {}
     },
     "575ab4049d024fa79f8f72f6689976c8": {
      "model_module": "@jupyter-widgets/controls",
      "model_module_version": "2.0.0",
      "model_name": "CheckboxStyleModel",
      "state": {
       "description_width": ""
      }
     },
     "576b38533d9d44169c224f7d8081263b": {
      "model_module": "@jupyter-widgets/base",
      "model_module_version": "2.0.0",
      "model_name": "LayoutModel",
      "state": {}
     },
     "578a9bd723cb4090a5240f4c9cd9d13c": {
      "model_module": "@jupyter-widgets/controls",
      "model_module_version": "2.0.0",
      "model_name": "TextModel",
      "state": {
       "description": "Type:",
       "disabled": true,
       "layout": "IPY_MODEL_b22eb02c3db0477fb7fd94aebd04d0b6",
       "style": "IPY_MODEL_71c27f23dc954b4fb7657c26bbf8c6f3",
       "value": "int64"
      }
     },
     "57bd3cd98b3146b4b66bf4e4b75c9815": {
      "model_module": "@jupyter-widgets/controls",
      "model_module_version": "2.0.0",
      "model_name": "TextModel",
      "state": {
       "description": "Type:",
       "disabled": true,
       "layout": "IPY_MODEL_29a43c2c3b7048b08ef3abed608cfea1",
       "style": "IPY_MODEL_efa6633743cf4fd6b233e78d0618854e",
       "value": "float64"
      }
     },
     "57f1bf32969d4ba3be2fd9fbf83ea476": {
      "model_module": "@jupyter-widgets/controls",
      "model_module_version": "2.0.0",
      "model_name": "TextStyleModel",
      "state": {
       "description_width": "",
       "font_size": null,
       "text_color": null
      }
     },
     "5828d0db443946cc879325fcde5137b7": {
      "model_module": "@jupyter-widgets/base",
      "model_module_version": "2.0.0",
      "model_name": "LayoutModel",
      "state": {}
     },
     "588019edeaf043f0b5e0a6494bca5e0f": {
      "model_module": "@jupyter-widgets/controls",
      "model_module_version": "2.0.0",
      "model_name": "VBoxModel",
      "state": {
       "children": [
        "IPY_MODEL_a8cf6b53b4574aa68e8e255ad926a68f",
        "IPY_MODEL_0b0727926d664d3290b5837c8ce6cdb6",
        "IPY_MODEL_a4672936228d4c438b76573073d331bb",
        "IPY_MODEL_237fab4b179241ac94490a1a2c44125e",
        "IPY_MODEL_e2cb80af2e31444fa418ad702a4e9001",
        "IPY_MODEL_d63f9164e9c84ecea261db5c26538ad3",
        "IPY_MODEL_08ca239bf4b34afba2c2d7101af542ca"
       ],
       "layout": "IPY_MODEL_49f42025ce2b4690848435193587e105"
      }
     },
     "589373ac7e654f2dbdeb7a4fcb41a3cc": {
      "model_module": "@jupyter-widgets/controls",
      "model_module_version": "2.0.0",
      "model_name": "DescriptionStyleModel",
      "state": {
       "description_width": ""
      }
     },
     "58f330cca1504617aa7cbe6490c3ac0d": {
      "model_module": "@jupyter-widgets/base",
      "model_module_version": "2.0.0",
      "model_name": "LayoutModel",
      "state": {}
     },
     "595299734571410c88a0a6878b2ddca8": {
      "model_module": "@jupyter-widgets/controls",
      "model_module_version": "2.0.0",
      "model_name": "LabelStyleModel",
      "state": {
       "description_width": "",
       "font_family": null,
       "font_size": null,
       "font_style": null,
       "font_variant": null,
       "font_weight": null,
       "text_color": null,
       "text_decoration": null
      }
     },
     "597f595104a248e09cc4d80a1366dee2": {
      "model_module": "@jupyter-widgets/controls",
      "model_module_version": "2.0.0",
      "model_name": "LabelStyleModel",
      "state": {
       "description_width": "",
       "font_family": null,
       "font_size": null,
       "font_style": null,
       "font_variant": null,
       "font_weight": null,
       "text_color": null,
       "text_decoration": null
      }
     },
     "598ed57c672740908e1a51da908ad537": {
      "model_module": "@jupyter-widgets/controls",
      "model_module_version": "2.0.0",
      "model_name": "TextStyleModel",
      "state": {
       "description_width": "",
       "font_size": null,
       "text_color": null
      }
     },
     "59b4f214b49947199767066f5eacde7e": {
      "model_module": "@jupyter-widgets/controls",
      "model_module_version": "2.0.0",
      "model_name": "CheckboxModel",
      "state": {
       "description": "NA values",
       "disabled": false,
       "layout": "IPY_MODEL_d67ec3ba807a42e3ba99dd54dee5b8c2",
       "style": "IPY_MODEL_1ae505f29856492c98dbcbc32850e3ee",
       "value": false
      }
     },
     "59c091e4dff448b2a823941e5171d50e": {
      "model_module": "@jupyter-widgets/controls",
      "model_module_version": "2.0.0",
      "model_name": "TextModel",
      "state": {
       "description": "Rename:",
       "layout": "IPY_MODEL_08607819b1e04aba8d741293ce5baa08",
       "style": "IPY_MODEL_04e2183c033146d48dd48381bf0791fc",
       "value": "RateCodeID"
      }
     },
     "59d05b375172475297f0a5fe054d6fcd": {
      "model_module": "@jupyter-widgets/base",
      "model_module_version": "2.0.0",
      "model_name": "LayoutModel",
      "state": {
       "visibility": "hidden"
      }
     },
     "5a0bb17032ff4983af583ebff3835f43": {
      "model_module": "@jupyter-widgets/base",
      "model_module_version": "2.0.0",
      "model_name": "LayoutModel",
      "state": {}
     },
     "5a38fdbfe8544180bf4f8737f5dcae5a": {
      "model_module": "@jupyter-widgets/controls",
      "model_module_version": "2.0.0",
      "model_name": "CheckboxModel",
      "state": {
       "description": "NA values",
       "disabled": false,
       "layout": "IPY_MODEL_560e6e0fa59b49bb94e711a8f6a54c9b",
       "style": "IPY_MODEL_bd75059f7138430ba2c5f1d17ee97545",
       "value": false
      }
     },
     "5a4d3bf5449241df9e05b4ca438879fe": {
      "model_module": "@jupyter-widgets/controls",
      "model_module_version": "2.0.0",
      "model_name": "CheckboxStyleModel",
      "state": {
       "description_width": ""
      }
     },
     "5ac0495b34c44d3a85b2af9f34db5d6f": {
      "model_module": "@jupyter-widgets/controls",
      "model_module_version": "2.0.0",
      "model_name": "TextStyleModel",
      "state": {
       "description_width": "",
       "font_size": null,
       "text_color": null
      }
     },
     "5ae118ab442a44439b7f5519f186bd8e": {
      "model_module": "@jupyter-widgets/base",
      "model_module_version": "2.0.0",
      "model_name": "LayoutModel",
      "state": {}
     },
     "5af38c1c979f47c4a6d7ca0096568363": {
      "model_module": "@jupyter-widgets/controls",
      "model_module_version": "2.0.0",
      "model_name": "TextStyleModel",
      "state": {
       "description_width": "",
       "font_size": null,
       "text_color": null
      }
     },
     "5b0e76d17cc74fe1bfb4d43e2f217ce9": {
      "model_module": "@jupyter-widgets/controls",
      "model_module_version": "2.0.0",
      "model_name": "TextModel",
      "state": {
       "description": "Type:",
       "disabled": true,
       "layout": "IPY_MODEL_f8fe4245894b4f6e85fd42d3d7e3a802",
       "style": "IPY_MODEL_c0764134478b4394997d7c20e4ef53e1",
       "value": "float64"
      }
     },
     "5b646fbb678047c484329e442ff8f96f": {
      "model_module": "@jupyter-widgets/base",
      "model_module_version": "2.0.0",
      "model_name": "LayoutModel",
      "state": {}
     },
     "5b6e3661b16f4e22a929bebd21329212": {
      "model_module": "@jupyter-widgets/base",
      "model_module_version": "2.0.0",
      "model_name": "LayoutModel",
      "state": {}
     },
     "5bbe113f5f114367a0ed52488b9d3534": {
      "model_module": "@jupyter-widgets/controls",
      "model_module_version": "2.0.0",
      "model_name": "TextStyleModel",
      "state": {
       "description_width": "",
       "font_size": null,
       "text_color": null
      }
     },
     "5bc2fc5de03545939b7407f1b97b08a0": {
      "model_module": "@jupyter-widgets/controls",
      "model_module_version": "2.0.0",
      "model_name": "ButtonStyleModel",
      "state": {
       "font_family": null,
       "font_size": null,
       "font_style": null,
       "font_variant": null,
       "font_weight": null,
       "text_color": null,
       "text_decoration": null
      }
     },
     "5c13c1715535478e89f99d7ef0189a7a": {
      "model_module": "@jupyter-widgets/base",
      "model_module_version": "2.0.0",
      "model_name": "LayoutModel",
      "state": {}
     },
     "5c26608b6a644ba99b251ea2949ee789": {
      "model_module": "@jupyter-widgets/base",
      "model_module_version": "2.0.0",
      "model_name": "LayoutModel",
      "state": {}
     },
     "5c93d805050242e3b75a473729add561": {
      "model_module": "@jupyter-widgets/base",
      "model_module_version": "2.0.0",
      "model_name": "LayoutModel",
      "state": {}
     },
     "5ca956ca77b241a9984eaf2c7353358b": {
      "model_module": "@jupyter-widgets/base",
      "model_module_version": "2.0.0",
      "model_name": "LayoutModel",
      "state": {}
     },
     "5ccca83ca46246a68d7a2acc1fd30c63": {
      "model_module": "@jupyter-widgets/base",
      "model_module_version": "2.0.0",
      "model_name": "LayoutModel",
      "state": {}
     },
     "5cea31a0736a4fdba5bd352a320bb51e": {
      "model_module": "@jupyter-widgets/controls",
      "model_module_version": "2.0.0",
      "model_name": "TextModel",
      "state": {
       "description": "URL to sniff(optional):",
       "disabled": true,
       "layout": "IPY_MODEL_2a871c77b2e24feca3cd5864e2813ead",
       "placeholder": "",
       "style": "IPY_MODEL_0ff15a5916b94f32ba87f9fce6ed9353"
      }
     },
     "5d0f9a1412ac4512be90f8615ff29fe5": {
      "model_module": "@jupyter-widgets/base",
      "model_module_version": "2.0.0",
      "model_name": "LayoutModel",
      "state": {}
     },
     "5d144d6f1c4c4b2c92ba76abc83bd469": {
      "model_module": "@jupyter-widgets/base",
      "model_module_version": "2.0.0",
      "model_name": "LayoutModel",
      "state": {}
     },
     "5d17d0cf37dd498d83c43bc8f5542e44": {
      "model_module": "@jupyter-widgets/base",
      "model_module_version": "2.0.0",
      "model_name": "LayoutModel",
      "state": {}
     },
     "5d38185640b0440fa1656d765209102f": {
      "model_module": "@jupyter-widgets/controls",
      "model_module_version": "2.0.0",
      "model_name": "DescriptionStyleModel",
      "state": {
       "description_width": ""
      }
     },
     "5d4526e4a8e044f9bd7541e1771f5be7": {
      "model_module": "@jupyter-widgets/controls",
      "model_module_version": "2.0.0",
      "model_name": "DescriptionStyleModel",
      "state": {
       "description_width": ""
      }
     },
     "5d55f2f55d43464a9e3446b10355235a": {
      "model_module": "@jupyter-widgets/controls",
      "model_module_version": "2.0.0",
      "model_name": "TextModel",
      "state": {
       "description": "NA values:",
       "layout": "IPY_MODEL_73db7a465ea546e389cf8d3814975fb3",
       "style": "IPY_MODEL_21b2ad415f0a46bfbe6d532160e4f822"
      }
     },
     "5d5abcb36e36427a9f9f72863ac54f57": {
      "model_module": "@jupyter-widgets/base",
      "model_module_version": "2.0.0",
      "model_name": "LayoutModel",
      "state": {}
     },
     "5d6a18b0a90c43d2bc0a2cecf5f2ae6c": {
      "model_module": "@jupyter-widgets/controls",
      "model_module_version": "2.0.0",
      "model_name": "HTMLModel",
      "state": {
       "layout": "IPY_MODEL_da1f34760c854cb5aa5d87736c5feeaa",
       "style": "IPY_MODEL_03a9d9b05ce84f5c89bfcd2c99d861ae",
       "value": "<h2 id='prog_139922837070800'>root</h2>"
      }
     },
     "5db55f7afa1749ebb7708a0da3598385": {
      "model_module": "@jupyter-widgets/base",
      "model_module_version": "2.0.0",
      "model_name": "LayoutModel",
      "state": {}
     },
     "5dd25305b2e54e409dbf580083417895": {
      "model_module": "@jupyter-widgets/base",
      "model_module_version": "2.0.0",
      "model_name": "LayoutModel",
      "state": {}
     },
     "5dea70e586014988b0599669a37858a2": {
      "model_module": "@jupyter-widgets/controls",
      "model_module_version": "2.0.0",
      "model_name": "DescriptionStyleModel",
      "state": {
       "description_width": ""
      }
     },
     "5e5d50d8add941228d9bafdc13d50215": {
      "model_module": "@jupyter-widgets/controls",
      "model_module_version": "2.0.0",
      "model_name": "TextModel",
      "state": {
       "description": "Rename:",
       "layout": "IPY_MODEL_2969610836674a49b217afb5c2b23d06",
       "style": "IPY_MODEL_b98654fc85a04980aab91cc6dd4dc752",
       "value": "Unnamed: 0"
      }
     },
     "5e86b9d4832c4d0f9cfa30cea9f14f6c": {
      "model_module": "@jupyter-widgets/controls",
      "model_module_version": "2.0.0",
      "model_name": "TextModel",
      "state": {
       "continuous_update": false,
       "description": "Name:",
       "disabled": true,
       "layout": "IPY_MODEL_39c847de2c0c4bb685dad7dc7ccb960c",
       "style": "IPY_MODEL_8770764ff5264d96ac35381fffbc9b72",
       "value": "tip_amount"
      }
     },
     "5ec62cc3adce401592dc25c9ee19fc52": {
      "model_module": "@jupyter-widgets/controls",
      "model_module_version": "2.0.0",
      "model_name": "DescriptionStyleModel",
      "state": {
       "description_width": ""
      }
     },
     "5ec715d1ff3a4d3f8ae67be3b0496d85": {
      "model_module": "@jupyter-widgets/base",
      "model_module_version": "2.0.0",
      "model_name": "LayoutModel",
      "state": {}
     },
     "5ed9555b6fc34885b3d32b7f4f6f51ca": {
      "model_module": "@jupyter-widgets/controls",
      "model_module_version": "2.0.0",
      "model_name": "VBoxModel",
      "state": {
       "children": [
        "IPY_MODEL_efa0624560bb472c8298f0337bba5a9f",
        "IPY_MODEL_30cfeed950a143edb650961b83cf49dd",
        "IPY_MODEL_362006dceefb4468904320c736b298dc",
        "IPY_MODEL_c9953182d8fb465b9451819714618670",
        "IPY_MODEL_7c211659cfba42a387f3938e628a7166",
        "IPY_MODEL_cf9359533ae0478b9d1f4ffcfb65f733",
        "IPY_MODEL_dbf0e346a4cd4365aaea3c94c2c0ec8d"
       ],
       "layout": "IPY_MODEL_e139ac0dca90487a8f1e4ea17a7ebad9"
      }
     },
     "5ee3f5743c9b4fafbf7d24d9a722f4bb": {
      "model_module": "@jupyter-widgets/controls",
      "model_module_version": "2.0.0",
      "model_name": "TextModel",
      "state": {
       "description": "NA values:",
       "layout": "IPY_MODEL_aec787904d514ec6b9d909f075988fb1",
       "style": "IPY_MODEL_dc20d181c66c44439c8f12612a42f402"
      }
     },
     "5eefe640025c445789b5207d3b574496": {
      "model_module": "@jupyter-widgets/controls",
      "model_module_version": "2.0.0",
      "model_name": "VBoxModel",
      "state": {
       "children": [
        "IPY_MODEL_8ecf800669854596bc5cc413aff00ed9",
        "IPY_MODEL_643db6e186dd4f2aa2e4efc871d56674",
        "IPY_MODEL_6cd52ef36958462094fc19cbeb90055c"
       ],
       "layout": "IPY_MODEL_d2c2927b0b1b4ebbada207f13693c2b5"
      }
     },
     "5f1f47b8f03f48d89c6eabc956898b49": {
      "model_module": "@jupyter-widgets/controls",
      "model_module_version": "2.0.0",
      "model_name": "TextStyleModel",
      "state": {
       "description_width": "",
       "font_size": null,
       "text_color": null
      }
     },
     "5f3d3dd3144b4c05b5c3cb6fa6fe278b": {
      "model_module": "@jupyter-widgets/base",
      "model_module_version": "2.0.0",
      "model_name": "LayoutModel",
      "state": {}
     },
     "5f576358fb244bd78679c1d5795fb010": {
      "model_module": "@jupyter-widgets/controls",
      "model_module_version": "2.0.0",
      "model_name": "CheckboxStyleModel",
      "state": {
       "description_width": ""
      }
     },
     "5f905458e3a94d6ca95f706e6ab16fb7": {
      "model_module": "@jupyter-widgets/controls",
      "model_module_version": "2.0.0",
      "model_name": "TextStyleModel",
      "state": {
       "description_width": "",
       "font_size": null,
       "text_color": null
      }
     },
     "5f93bd2ced8a4d6684a571799d49a1c0": {
      "model_module": "@jupyter-widgets/controls",
      "model_module_version": "2.0.0",
      "model_name": "DropdownModel",
      "state": {
       "_options_labels": [
        "int8",
        "uint8",
        "int16",
        "uint16",
        "int32",
        "int64",
        "uint32",
        "uint64",
        "float32",
        "float64",
        "str"
       ],
       "description": "Retype:",
       "disabled": true,
       "index": 9,
       "layout": "IPY_MODEL_f86575eaa729446c8ce5103272354a91",
       "style": "IPY_MODEL_e5058868905445fb92c5849b89524dda"
      }
     },
     "5f9b7035e26a4bda86f27acf560233bf": {
      "model_module": "@jupyter-widgets/base",
      "model_module_version": "2.0.0",
      "model_name": "LayoutModel",
      "state": {}
     },
     "5fb094f317fe4c488bee32988633ee2f": {
      "model_module": "@jupyter-widgets/controls",
      "model_module_version": "2.0.0",
      "model_name": "DescriptionStyleModel",
      "state": {
       "description_width": ""
      }
     },
     "5fce911e1aac4df39b41ba321f231851": {
      "model_module": "@jupyter-widgets/controls",
      "model_module_version": "2.0.0",
      "model_name": "TextStyleModel",
      "state": {
       "description_width": "",
       "font_size": null,
       "text_color": null
      }
     },
     "5fd0ccf803dc45dd8629ca6195f5d5d4": {
      "model_module": "@jupyter-widgets/controls",
      "model_module_version": "2.0.0",
      "model_name": "TextModel",
      "state": {
       "description": "Separator:",
       "disabled": true,
       "layout": "IPY_MODEL_d00e930dce85437396a7d9a12c819680",
       "placeholder": "if many values",
       "style": "IPY_MODEL_dd5617898bbe418798575991aea62797"
      }
     },
     "5ff2c49f7f0a48539da1ad730df1157f": {
      "model_module": "@jupyter-widgets/controls",
      "model_module_version": "2.0.0",
      "model_name": "TextStyleModel",
      "state": {
       "description_width": "",
       "font_size": null,
       "text_color": null
      }
     },
     "6004a0bbfc714e2cbdc424d92a481450": {
      "model_module": "@jupyter-widgets/base",
      "model_module_version": "2.0.0",
      "model_name": "LayoutModel",
      "state": {}
     },
     "6023be27904946b88692ddc69c1e3776": {
      "model_module": "@jupyter-widgets/controls",
      "model_module_version": "2.0.0",
      "model_name": "TextModel",
      "state": {
       "description": "Unique vals:",
       "layout": "IPY_MODEL_a62192616e2a4b579f7f2bb5a60d8db0",
       "style": "IPY_MODEL_8d306129980941fd89b78fb4903c60c6",
       "value": "1/99"
      }
     },
     "606a5d7149574edda43498892f657141": {
      "model_module": "@jupyter-widgets/base",
      "model_module_version": "2.0.0",
      "model_name": "LayoutModel",
      "state": {}
     },
     "607ff4292a6e47209b0cbc3b368f5281": {
      "model_module": "@jupyter-widgets/controls",
      "model_module_version": "2.0.0",
      "model_name": "TextStyleModel",
      "state": {
       "description_width": "",
       "font_size": null,
       "text_color": null
      }
     },
     "6095c42533c74c7ba211a1288cae33ab": {
      "model_module": "@jupyter-widgets/controls",
      "model_module_version": "2.0.0",
      "model_name": "TextStyleModel",
      "state": {
       "description_width": "",
       "font_size": null,
       "text_color": null
      }
     },
     "60a6c051ebdc42f49712a927d7abc8e6": {
      "model_module": "@jupyter-widgets/base",
      "model_module_version": "2.0.0",
      "model_name": "LayoutModel",
      "state": {}
     },
     "60bdf0bf074947338687071644a19b41": {
      "model_module": "@jupyter-widgets/controls",
      "model_module_version": "2.0.0",
      "model_name": "ButtonModel",
      "state": {
       "description": "Stop",
       "icon": "stop",
       "layout": "IPY_MODEL_558bbd8d48e0405ca7c57627a76e4bd1",
       "style": "IPY_MODEL_ef601170e06b4d1abbfdad9645ce37e7",
       "tooltip": "Stop"
      }
     },
     "60ee2b41d9214d498ad69d21f831747c": {
      "model_module": "@jupyter-widgets/controls",
      "model_module_version": "2.0.0",
      "model_name": "TextModel",
      "state": {
       "description": "NA values:",
       "layout": "IPY_MODEL_53e1987c815843a7a0b4c8c6c8e99024",
       "style": "IPY_MODEL_74d42148317b4b9394b3694c327edc11"
      }
     },
     "6119d00c65a04049a32540f116c96fa8": {
      "model_module": "@jupyter-widgets/base",
      "model_module_version": "2.0.0",
      "model_name": "LayoutModel",
      "state": {}
     },
     "61297668ffaa4c7b80f301638575d5f4": {
      "model_module": "@jupyter-widgets/controls",
      "model_module_version": "2.0.0",
      "model_name": "LabelStyleModel",
      "state": {
       "description_width": "",
       "font_family": null,
       "font_size": null,
       "font_style": null,
       "font_variant": null,
       "font_weight": null,
       "text_color": null,
       "text_decoration": null
      }
     },
     "613cc2ce20f545b3af5b6bb879ed9a2f": {
      "model_module": "@jupyter-widgets/base",
      "model_module_version": "2.0.0",
      "model_name": "LayoutModel",
      "state": {}
     },
     "61607e8ed50e4ce1aad905fc08fbd065": {
      "model_module": "@jupyter-widgets/base",
      "model_module_version": "2.0.0",
      "model_name": "LayoutModel",
      "state": {}
     },
     "616befdea594404eaf425eb7602bc046": {
      "model_module": "@jupyter-widgets/controls",
      "model_module_version": "2.0.0",
      "model_name": "TextStyleModel",
      "state": {
       "description_width": "",
       "font_size": null,
       "text_color": null
      }
     },
     "6174070df44246ecbba19f30a490b261": {
      "model_module": "@jupyter-widgets/base",
      "model_module_version": "2.0.0",
      "model_name": "LayoutModel",
      "state": {}
     },
     "618bee1e11494c729e5501fe7ced3342": {
      "model_module": "@jupyter-widgets/controls",
      "model_module_version": "2.0.0",
      "model_name": "TextStyleModel",
      "state": {
       "description_width": "",
       "font_size": null,
       "text_color": null
      }
     },
     "618cf5bfcd0446b8969f2579bf4a14ed": {
      "model_module": "@jupyter-widgets/base",
      "model_module_version": "2.0.0",
      "model_name": "LayoutModel",
      "state": {}
     },
     "61ad5d51b09f48e7be7fe57e16006d91": {
      "model_module": "@jupyter-widgets/controls",
      "model_module_version": "2.0.0",
      "model_name": "TextModel",
      "state": {
       "description": "Rename:",
       "layout": "IPY_MODEL_1c5c43b02f404a43bcd4af5456f1836f",
       "style": "IPY_MODEL_cef268e59bcb45729e6c7f25bd2fa86d",
       "value": "pickup_latitude"
      }
     },
     "61bb2f91214e42b2a3a9bf75ee3ed47d": {
      "model_module": "@jupyter-widgets/controls",
      "model_module_version": "2.0.0",
      "model_name": "TextModel",
      "state": {
       "continuous_update": false,
       "description": "Name:",
       "disabled": true,
       "layout": "IPY_MODEL_f958a0c18a7a44508e5697409b90390f",
       "style": "IPY_MODEL_f4da4518cc45427ea0007f83cd300a53",
       "value": "VendorID"
      }
     },
     "61cb9b3586474d308cac300cc4098d6c": {
      "model_module": "@jupyter-widgets/base",
      "model_module_version": "2.0.0",
      "model_name": "LayoutModel",
      "state": {}
     },
     "61cf148b902045d9b525d0711c5c35b3": {
      "model_module": "@jupyter-widgets/base",
      "model_module_version": "2.0.0",
      "model_name": "LayoutModel",
      "state": {}
     },
     "61f00fa6ec1b422f94b5b2aa2fa748ba": {
      "model_module": "@jupyter-widgets/controls",
      "model_module_version": "2.0.0",
      "model_name": "TextStyleModel",
      "state": {
       "description_width": "",
       "font_size": null,
       "text_color": null
      }
     },
     "6235bacf775444f48b90b0385d29189d": {
      "model_module": "@jupyter-widgets/base",
      "model_module_version": "2.0.0",
      "model_name": "LayoutModel",
      "state": {}
     },
     "623b77959c244360a676edf0241a3489": {
      "model_module": "@jupyter-widgets/base",
      "model_module_version": "2.0.0",
      "model_name": "LayoutModel",
      "state": {}
     },
     "62dadcb427a146f9a3345b0751c03292": {
      "model_module": "@jupyter-widgets/base",
      "model_module_version": "2.0.0",
      "model_name": "LayoutModel",
      "state": {}
     },
     "6347dff3684d47d8a3574bb8dd988905": {
      "model_module": "@jupyter-widgets/base",
      "model_module_version": "2.0.0",
      "model_name": "LayoutModel",
      "state": {}
     },
     "634b8bd9f5e4475587a34efe07cead9f": {
      "model_module": "@jupyter-widgets/controls",
      "model_module_version": "2.0.0",
      "model_name": "TextStyleModel",
      "state": {
       "description_width": "",
       "font_size": null,
       "text_color": null
      }
     },
     "638299a5ab444cd9942b057b164155fb": {
      "model_module": "@jupyter-widgets/controls",
      "model_module_version": "2.0.0",
      "model_name": "TextStyleModel",
      "state": {
       "description_width": "",
       "font_size": null,
       "text_color": null
      }
     },
     "63e197cf49564e2696a0d744a54a92fb": {
      "model_module": "@jupyter-widgets/base",
      "model_module_version": "2.0.0",
      "model_name": "LayoutModel",
      "state": {}
     },
     "63f3b7394691423cb2e8893a3246ba4b": {
      "model_module": "@jupyter-widgets/base",
      "model_module_version": "2.0.0",
      "model_name": "LayoutModel",
      "state": {}
     },
     "63f42189babb403299f718c76d2f051e": {
      "model_module": "@jupyter-widgets/controls",
      "model_module_version": "2.0.0",
      "model_name": "TextModel",
      "state": {
       "description": "Separator:",
       "disabled": true,
       "layout": "IPY_MODEL_576b38533d9d44169c224f7d8081263b",
       "placeholder": "if many values",
       "style": "IPY_MODEL_a434aca7724b469baeca98f38e7d2d3b"
      }
     },
     "6413d54076d44dffbddad57d3fbdbb06": {
      "model_module": "@jupyter-widgets/controls",
      "model_module_version": "2.0.0",
      "model_name": "TextModel",
      "state": {
       "description": "Unique vals:",
       "layout": "IPY_MODEL_107fbb39f216406e9e6347daa93c0d03",
       "style": "IPY_MODEL_b8547fa6f0b346e485b247b53cb77e8d",
       "value": "2/99"
      }
     },
     "643db6e186dd4f2aa2e4efc871d56674": {
      "model_module": "@jupyter-widgets/controls",
      "model_module_version": "2.0.0",
      "model_name": "HBoxModel",
      "state": {
       "children": [
        "IPY_MODEL_dfa3246c85d24f53b046732bbad5bdba",
        "IPY_MODEL_18d799fea68a433aa87cd5c96e37672b",
        "IPY_MODEL_28b7853a654f45bcaabb033b7ee1825c"
       ],
       "layout": "IPY_MODEL_9368d186007348879738a815a5a01913"
      }
     },
     "64706c70d1f642cdba1edd4b2a30ff4d": {
      "model_module": "@jupyter-widgets/controls",
      "model_module_version": "2.0.0",
      "model_name": "CheckboxStyleModel",
      "state": {
       "description_width": ""
      }
     },
     "6489f16a29c34ac69bc370e4570040a9": {
      "model_module": "@jupyter-widgets/controls",
      "model_module_version": "2.0.0",
      "model_name": "TextModel",
      "state": {
       "description": "Separator:",
       "disabled": true,
       "layout": "IPY_MODEL_7182535eb0f748759eb867217dc946d6",
       "placeholder": "if many values",
       "style": "IPY_MODEL_5240bb4c74c14be68c80bcdef7b952cf"
      }
     },
     "64ba9579094f4b499bf1e6812f8c5dcb": {
      "model_module": "@jupyter-widgets/controls",
      "model_module_version": "2.0.0",
      "model_name": "TextStyleModel",
      "state": {
       "description_width": "",
       "font_size": null,
       "text_color": null
      }
     },
     "64bfc4b291804de19d3d12316e430438": {
      "model_module": "@jupyter-widgets/controls",
      "model_module_version": "2.0.0",
      "model_name": "TextStyleModel",
      "state": {
       "description_width": "",
       "font_size": null,
       "text_color": null
      }
     },
     "64e50f3598964ea88f519c844be87e32": {
      "model_module": "@jupyter-widgets/base",
      "model_module_version": "2.0.0",
      "model_name": "LayoutModel",
      "state": {}
     },
     "651f87ec7d11400d88703b7e9f40850e": {
      "model_module": "@jupyter-widgets/controls",
      "model_module_version": "2.0.0",
      "model_name": "TextStyleModel",
      "state": {
       "description_width": "",
       "font_size": null,
       "text_color": null
      }
     },
     "651febfee9984d1780f2018298227394": {
      "model_module": "@jupyter-widgets/base",
      "model_module_version": "2.0.0",
      "model_name": "LayoutModel",
      "state": {}
     },
     "653beca764694af3ba2f4c2d7be514b1": {
      "model_module": "@jupyter-widgets/controls",
      "model_module_version": "2.0.0",
      "model_name": "TextModel",
      "state": {
       "description": "Separator:",
       "disabled": true,
       "layout": "IPY_MODEL_0f14bfe87ca041a3b1b03246ee478c9c",
       "placeholder": "if many values",
       "style": "IPY_MODEL_cf1af06d0aa941b68df29fd7d667d43c"
      }
     },
     "6596ddb022b545668e77487ccc530736": {
      "model_module": "@jupyter-widgets/base",
      "model_module_version": "2.0.0",
      "model_name": "LayoutModel",
      "state": {}
     },
     "65b992ffddbb4ea2a8f892f7ae244a37": {
      "model_module": "@jupyter-widgets/controls",
      "model_module_version": "2.0.0",
      "model_name": "CheckboxStyleModel",
      "state": {
       "description_width": ""
      }
     },
     "65d68fc9f5c2406db311d0c5f65f838e": {
      "model_module": "@jupyter-widgets/controls",
      "model_module_version": "2.0.0",
      "model_name": "TextStyleModel",
      "state": {
       "description_width": "",
       "font_size": null,
       "text_color": null
      }
     },
     "66008283aa9a459aad23ed4d2a7dcce8": {
      "model_module": "@jupyter-widgets/base",
      "model_module_version": "2.0.0",
      "model_name": "LayoutModel",
      "state": {}
     },
     "6602923e2e7a4d1baa79498d0c8075f5": {
      "model_module": "@jupyter-widgets/base",
      "model_module_version": "2.0.0",
      "model_name": "LayoutModel",
      "state": {}
     },
     "66255391941f436baace1069f0c3c737": {
      "model_module": "@jupyter-widgets/controls",
      "model_module_version": "2.0.0",
      "model_name": "TextStyleModel",
      "state": {
       "description_width": "",
       "font_size": null,
       "text_color": null
      }
     },
     "6631993cd40c4c1c8aec0806ce67f541": {
      "model_module": "@jupyter-widgets/controls",
      "model_module_version": "2.0.0",
      "model_name": "TextModel",
      "state": {
       "description": "Rename:",
       "layout": "IPY_MODEL_939ed3fdb60247c8b3a0ec11b343d873",
       "style": "IPY_MODEL_a724f492bb4346358dc9525d7a3f32d0",
       "value": "Unnamed: 0"
      }
     },
     "66471e4e301d4fc39f648d3057b85ae5": {
      "model_module": "@jupyter-widgets/controls",
      "model_module_version": "2.0.0",
      "model_name": "TextModel",
      "state": {
       "description": "Separator:",
       "disabled": true,
       "layout": "IPY_MODEL_42ec4f0bd1a04a6a8033c9c9f500cd5a",
       "placeholder": "if many values",
       "style": "IPY_MODEL_f4b6ffaa4a3343a7b7c6bb89c96a99a5"
      }
     },
     "665b651fb08244f9a037b7610e07025c": {
      "model_module": "@jupyter-widgets/controls",
      "model_module_version": "2.0.0",
      "model_name": "TextModel",
      "state": {
       "description": "Type:",
       "disabled": true,
       "layout": "IPY_MODEL_8dc98c6bfccf48a2b737953f091adc64",
       "style": "IPY_MODEL_69ca72ce4cc5430e88c9c8c074697825",
       "value": "float64"
      }
     },
     "666eb079662f487baef095610be402e5": {
      "model_module": "@jupyter-widgets/base",
      "model_module_version": "2.0.0",
      "model_name": "LayoutModel",
      "state": {}
     },
     "66b9be07e232431ea08b24ae8e3b22c1": {
      "model_module": "@jupyter-widgets/base",
      "model_module_version": "2.0.0",
      "model_name": "LayoutModel",
      "state": {}
     },
     "66c9023fe5a5432a89e1648e3e376202": {
      "model_module": "@jupyter-widgets/controls",
      "model_module_version": "2.0.0",
      "model_name": "CheckboxStyleModel",
      "state": {
       "description_width": ""
      }
     },
     "66d45a6139944892b229b9f2cfbcbd57": {
      "model_module": "@jupyter-widgets/base",
      "model_module_version": "2.0.0",
      "model_name": "LayoutModel",
      "state": {}
     },
     "66df0f2f5fe4474ca34eb86c54409e05": {
      "model_module": "@jupyter-widgets/controls",
      "model_module_version": "2.0.0",
      "model_name": "TextStyleModel",
      "state": {
       "description_width": "",
       "font_size": null,
       "text_color": null
      }
     },
     "66fdc0725a3542fd9a3b3ba53b2f1203": {
      "model_module": "@jupyter-widgets/controls",
      "model_module_version": "2.0.0",
      "model_name": "CheckboxStyleModel",
      "state": {
       "description_width": ""
      }
     },
     "671abd139bb94da09185c39f96a02785": {
      "model_module": "@jupyter-widgets/controls",
      "model_module_version": "2.0.0",
      "model_name": "TextStyleModel",
      "state": {
       "description_width": "",
       "font_size": null,
       "text_color": null
      }
     },
     "6727ef77bf324374a7dc41e73b5b291c": {
      "model_module": "@jupyter-widgets/base",
      "model_module_version": "2.0.0",
      "model_name": "LayoutModel",
      "state": {}
     },
     "675201c05b4643338b31aa35fa7fb48c": {
      "model_module": "@jupyter-widgets/base",
      "model_module_version": "2.0.0",
      "model_name": "LayoutModel",
      "state": {}
     },
     "675e6d3984a2403da3881e74695b2d0e": {
      "model_module": "@jupyter-widgets/controls",
      "model_module_version": "2.0.0",
      "model_name": "TextStyleModel",
      "state": {
       "description_width": "",
       "font_size": null,
       "text_color": null
      }
     },
     "675e92b769b243609348ef9bcc9947bf": {
      "model_module": "@jupyter-widgets/controls",
      "model_module_version": "2.0.0",
      "model_name": "TextModel",
      "state": {
       "description": "NA values:",
       "layout": "IPY_MODEL_ea905102fa2f406181dd1b6c9de0b268",
       "style": "IPY_MODEL_ac6f41c1407d46e9ae9d6b9354929fa2"
      }
     },
     "6761b0119b12480c9f6d9b783e12423d": {
      "model_module": "@jupyter-widgets/controls",
      "model_module_version": "2.0.0",
      "model_name": "TextModel",
      "state": {
       "description": "NA values:",
       "layout": "IPY_MODEL_0893b9f062854eb19a386f0c5f7a5f4e",
       "style": "IPY_MODEL_4f444f7d9d75460eb1fd163c8bd0aa0b"
      }
     },
     "679cb39c7ee046809c9b0aa49d59a4f0": {
      "model_module": "@jupyter-widgets/controls",
      "model_module_version": "2.0.0",
      "model_name": "VBoxModel",
      "state": {
       "children": [
        "IPY_MODEL_3ba87475ebde4d0bab818a3101b0ed18",
        "IPY_MODEL_1ad9d6580c494aa18dd387bd52389f2b",
        "IPY_MODEL_559f4d5392f2455fbe82cf8814dd2552"
       ],
       "layout": "IPY_MODEL_78ef4dee3ab64721885882b200e1a061"
      }
     },
     "67b4f55fa4c14270bef4c6c13928574f": {
      "model_module": "@jupyter-widgets/controls",
      "model_module_version": "2.0.0",
      "model_name": "TextStyleModel",
      "state": {
       "description_width": "",
       "font_size": null,
       "text_color": null
      }
     },
     "67f2adecd7c848cf8054f2121d610143": {
      "model_module": "@jupyter-widgets/controls",
      "model_module_version": "2.0.0",
      "model_name": "TextStyleModel",
      "state": {
       "description_width": "",
       "font_size": null,
       "text_color": null
      }
     },
     "6812a7020f1a40febd8dc3fa50e6d978": {
      "model_module": "@jupyter-widgets/base",
      "model_module_version": "2.0.0",
      "model_name": "LayoutModel",
      "state": {}
     },
     "682d8f79e4fe4bd7a7f3438f6fbaf1eb": {
      "model_module": "@jupyter-widgets/controls",
      "model_module_version": "2.0.0",
      "model_name": "TextStyleModel",
      "state": {
       "description_width": "",
       "font_size": null,
       "text_color": null
      }
     },
     "68359d82459d4200b7e110aa525b6f23": {
      "model_module": "@jupyter-widgets/base",
      "model_module_version": "2.0.0",
      "model_name": "LayoutModel",
      "state": {}
     },
     "68486fde047245579fba75be65faceba": {
      "model_module": "@jupyter-widgets/controls",
      "model_module_version": "2.0.0",
      "model_name": "DropdownModel",
      "state": {
       "_options_labels": [
        "int8",
        "uint8",
        "int16",
        "uint16",
        "int32",
        "int64",
        "uint32",
        "uint64",
        "float32",
        "float64",
        "str"
       ],
       "description": "Retype:",
       "disabled": true,
       "index": 9,
       "layout": "IPY_MODEL_19909e467a2a47c0adc583664c1aa9aa",
       "style": "IPY_MODEL_a27e6e1dfb95463f82aae2dfecb26500"
      }
     },
     "6868fd138b8b4c9090494463b8302430": {
      "model_module": "@jupyter-widgets/controls",
      "model_module_version": "2.0.0",
      "model_name": "TextModel",
      "state": {
       "description": "Unique vals:",
       "layout": "IPY_MODEL_bf71f3bf1416423fb028934fffc06433",
       "style": "IPY_MODEL_a813b0e0197d4777b4a667b9432bb637",
       "value": "1/99"
      }
     },
     "6870c047f10c436ca8f52f9a8d7b628d": {
      "model_module": "@jupyter-widgets/base",
      "model_module_version": "2.0.0",
      "model_name": "LayoutModel",
      "state": {}
     },
     "68f7d01d1a464df3a4b815f801a98fbd": {
      "model_module": "@jupyter-widgets/base",
      "model_module_version": "2.0.0",
      "model_name": "LayoutModel",
      "state": {}
     },
     "698e85962e374e4387bb1eb85bb0b1b0": {
      "model_module": "@jupyter-widgets/controls",
      "model_module_version": "2.0.0",
      "model_name": "CheckboxStyleModel",
      "state": {
       "description_width": ""
      }
     },
     "6993c22264be46328a6e1e72d26afb4d": {
      "model_module": "@jupyter-widgets/base",
      "model_module_version": "2.0.0",
      "model_name": "LayoutModel",
      "state": {}
     },
     "6994874a807e4cc3ac37092a3a5ebb88": {
      "model_module": "@jupyter-widgets/controls",
      "model_module_version": "2.0.0",
      "model_name": "TextStyleModel",
      "state": {
       "description_width": "",
       "font_size": null,
       "text_color": null
      }
     },
     "69ca72ce4cc5430e88c9c8c074697825": {
      "model_module": "@jupyter-widgets/controls",
      "model_module_version": "2.0.0",
      "model_name": "TextStyleModel",
      "state": {
       "description_width": "",
       "font_size": null,
       "text_color": null
      }
     },
     "69e770bcd7b74d84a32a782a54eab587": {
      "model_module": "@jupyter-widgets/controls",
      "model_module_version": "2.0.0",
      "model_name": "TextStyleModel",
      "state": {
       "description_width": "",
       "font_size": null,
       "text_color": null
      }
     },
     "6a1b3812940f45898c1c04a8283954ac": {
      "model_module": "@jupyter-widgets/controls",
      "model_module_version": "2.0.0",
      "model_name": "CheckboxStyleModel",
      "state": {
       "description_width": ""
      }
     },
     "6a39ca00bea9404991a71911e3f28c7c": {
      "model_module": "@jupyter-widgets/controls",
      "model_module_version": "2.0.0",
      "model_name": "DropdownModel",
      "state": {
       "_options_labels": [
        "int8",
        "uint8",
        "int16",
        "uint16",
        "int32",
        "int64",
        "uint32",
        "uint64",
        "float32",
        "float64",
        "str"
       ],
       "description": "Retype:",
       "disabled": true,
       "index": 9,
       "layout": "IPY_MODEL_9acb6d700d5e4ca1a9108c3cce1b8a81",
       "style": "IPY_MODEL_4e3b5513c3914c16af67874c733b6b98"
      }
     },
     "6a4850ad818946e391b912b7242c5e23": {
      "model_module": "@jupyter-widgets/controls",
      "model_module_version": "2.0.0",
      "model_name": "TextModel",
      "state": {
       "continuous_update": false,
       "description": "Name:",
       "disabled": true,
       "layout": "IPY_MODEL_47402d3f236e441b8e6d2cbc685f7376",
       "style": "IPY_MODEL_9390b58e3baf43cea0382c239ec439db",
       "value": "fare_amount"
      }
     },
     "6a7e8759b13047b494be65d26e0f5c71": {
      "model_module": "@jupyter-widgets/base",
      "model_module_version": "2.0.0",
      "model_name": "LayoutModel",
      "state": {}
     },
     "6b44612149cf48ec8ff8db9f51f3093a": {
      "model_module": "@jupyter-widgets/base",
      "model_module_version": "2.0.0",
      "model_name": "LayoutModel",
      "state": {}
     },
     "6b63d21f47b94374b62a6af6265d4b17": {
      "model_module": "@jupyter-widgets/controls",
      "model_module_version": "2.0.0",
      "model_name": "TextStyleModel",
      "state": {
       "description_width": "",
       "font_size": null,
       "text_color": null
      }
     },
     "6bd91670d32847be8f80c1ba484344a8": {
      "model_module": "@jupyter-widgets/controls",
      "model_module_version": "2.0.0",
      "model_name": "TextModel",
      "state": {
       "description": "Type:",
       "disabled": true,
       "layout": "IPY_MODEL_2a721315ad434491b07be9112b26cfde",
       "style": "IPY_MODEL_b4cd21a6d41f4097a117b0ea819287f1",
       "value": "int64"
      }
     },
     "6c02433c82ca481d98e5aec048179942": {
      "model_module": "@jupyter-widgets/controls",
      "model_module_version": "2.0.0",
      "model_name": "CheckboxModel",
      "state": {
       "description": "Use",
       "disabled": false,
       "layout": "IPY_MODEL_623b77959c244360a676edf0241a3489",
       "style": "IPY_MODEL_baa4f6ed4ef14c3b88b2c7e40cf3420f",
       "value": true
      }
     },
     "6c2500c6ffbd4e4ba0d2ec6de82c09cf": {
      "model_module": "@jupyter-widgets/base",
      "model_module_version": "2.0.0",
      "model_name": "LayoutModel",
      "state": {}
     },
     "6c2826a20f7349c5b45ae582132960bf": {
      "model_module": "@jupyter-widgets/controls",
      "model_module_version": "2.0.0",
      "model_name": "TextModel",
      "state": {
       "description": "NA values:",
       "layout": "IPY_MODEL_f838dd251d534b768810a34a364da155",
       "style": "IPY_MODEL_14683b9fbe88491f9f6354eb08a37e73"
      }
     },
     "6c3db25cc25149eb87f8c5766be5c07c": {
      "model_module": "@jupyter-widgets/base",
      "model_module_version": "2.0.0",
      "model_name": "LayoutModel",
      "state": {}
     },
     "6c69f083accc4c0b8669a5c73c64d5ed": {
      "model_module": "@jupyter-widgets/base",
      "model_module_version": "2.0.0",
      "model_name": "LayoutModel",
      "state": {}
     },
     "6cbf995cede9430da0c5464701cab878": {
      "model_module": "@jupyter-widgets/controls",
      "model_module_version": "2.0.0",
      "model_name": "CheckboxStyleModel",
      "state": {
       "description_width": ""
      }
     },
     "6cc24ff817cc4730ba10aaa546cf2c03": {
      "model_module": "@jupyter-widgets/base",
      "model_module_version": "2.0.0",
      "model_name": "LayoutModel",
      "state": {}
     },
     "6cd52ef36958462094fc19cbeb90055c": {
      "model_module": "@jupyter-widgets/controls",
      "model_module_version": "2.0.0",
      "model_name": "TabModel",
      "state": {
       "children": [
        "IPY_MODEL_4ab86cc03d524423a6b52a83df0dcc38",
        "IPY_MODEL_9b445106fb1d446e9931c9d9c8c11b44",
        "IPY_MODEL_0bc4ce39877e4e698bb288538664e215"
       ],
       "layout": "IPY_MODEL_e054d6a1869d4a219ae4c30a253f4a3d",
       "selected_index": 1,
       "titles": [
        "Head",
        "DataFrame",
        "DataFrame2"
       ]
      }
     },
     "6cdf247d96dc43b892ff6c58ffee6e81": {
      "model_module": "@jupyter-widgets/controls",
      "model_module_version": "2.0.0",
      "model_name": "TextModel",
      "state": {
       "continuous_update": false,
       "description": "Name:",
       "disabled": true,
       "layout": "IPY_MODEL_41ce96c5a145451082cece86fffd317a",
       "style": "IPY_MODEL_00b703fa0be64dea8c8ba1140db0474e",
       "value": "dropoff_longitude"
      }
     },
     "6ce5c180d96844a9be112045bd738dae": {
      "model_module": "@jupyter-widgets/controls",
      "model_module_version": "2.0.0",
      "model_name": "CheckboxModel",
      "state": {
       "description": "NA values",
       "disabled": false,
       "layout": "IPY_MODEL_ca0e21b0e761432d9a3c937c224dfd7c",
       "style": "IPY_MODEL_fd5aad139cc244dea08b39b76431ea10",
       "value": false
      }
     },
     "6ce6812476584686b1b8e3b4aa5957e6": {
      "model_module": "@jupyter-widgets/controls",
      "model_module_version": "2.0.0",
      "model_name": "TextModel",
      "state": {
       "description": "NA values:",
       "layout": "IPY_MODEL_e5da5a05c1634ecaa30b418a4249e56c",
       "style": "IPY_MODEL_b4e6f4a6473f45af8ca9f833a9edf24f"
      }
     },
     "6ce950aa57f442cca75b4df6769ce3ce": {
      "model_module": "@jupyter-widgets/controls",
      "model_module_version": "2.0.0",
      "model_name": "TextModel",
      "state": {
       "description": "NA values:",
       "layout": "IPY_MODEL_bf711c47b9c748eab01178b4003ab55a",
       "style": "IPY_MODEL_d295794b448c4556a04e867d603a0047"
      }
     },
     "6ced6ea37ba34d5780a2d54210f508be": {
      "model_module": "@jupyter-widgets/base",
      "model_module_version": "2.0.0",
      "model_name": "LayoutModel",
      "state": {}
     },
     "6cef096bde6346d9a84abc42dfb582be": {
      "model_module": "@jupyter-widgets/controls",
      "model_module_version": "2.0.0",
      "model_name": "TextModel",
      "state": {
       "description": "Separator:",
       "disabled": true,
       "layout": "IPY_MODEL_8297e04facaa4676ab1b1aa37f482060",
       "placeholder": "if many values",
       "style": "IPY_MODEL_e2fd049bac614be68d5b391a3c878755"
      }
     },
     "6d0bf154a24a455898f5a86db71d9e66": {
      "model_module": "@jupyter-widgets/base",
      "model_module_version": "2.0.0",
      "model_name": "LayoutModel",
      "state": {}
     },
     "6d273145dcfc41bda00cae6ee69a4e80": {
      "model_module": "@jupyter-widgets/controls",
      "model_module_version": "2.0.0",
      "model_name": "DescriptionStyleModel",
      "state": {
       "description_width": ""
      }
     },
     "6d3621ba8e7c4965b218d26676d1bf8d": {
      "model_module": "@jupyter-widgets/controls",
      "model_module_version": "2.0.0",
      "model_name": "VBoxModel",
      "state": {
       "children": [
        "IPY_MODEL_adc050acdfae4613ae64460ce7d155ae",
        "IPY_MODEL_be3228637e664248a5db127e3b604fa7",
        "IPY_MODEL_0dbddd3dc35047848a236d0a914afbd6",
        "IPY_MODEL_bcad1e22999549d987e419385e6c32a5",
        "IPY_MODEL_32f1e81e364240cdab5c956f9ed0033c",
        "IPY_MODEL_d83c4f5921dd45dc8a46dfdf13cf1170",
        "IPY_MODEL_265c6efdd61d478cb90f344d8bd50462"
       ],
       "layout": "IPY_MODEL_722a370b8de246c69cd3bd563f45c670"
      }
     },
     "6df01f5f2b2f4c1a80fc14761f1e8a0f": {
      "model_module": "@jupyter-widgets/base",
      "model_module_version": "2.0.0",
      "model_name": "LayoutModel",
      "state": {}
     },
     "6df2351e3cb646968ee73e20932368f8": {
      "model_module": "@jupyter-widgets/controls",
      "model_module_version": "2.0.0",
      "model_name": "CheckboxStyleModel",
      "state": {
       "description_width": ""
      }
     },
     "6df30f53367546be8d8c7c85abc95a28": {
      "model_module": "@jupyter-widgets/controls",
      "model_module_version": "2.0.0",
      "model_name": "TextStyleModel",
      "state": {
       "description_width": "",
       "font_size": null,
       "text_color": null
      }
     },
     "6e04008a6fd54e89bf1a93fc181e53ee": {
      "model_module": "@jupyter-widgets/base",
      "model_module_version": "2.0.0",
      "model_name": "LayoutModel",
      "state": {
       "visibility": "hidden"
      }
     },
     "6e0ed39ba73a44bdbba2196319772218": {
      "model_module": "@jupyter-widgets/controls",
      "model_module_version": "2.0.0",
      "model_name": "TextStyleModel",
      "state": {
       "description_width": "",
       "font_size": null,
       "text_color": null
      }
     },
     "6e6997976c894b1b9fbab66f3c961c8a": {
      "model_module": "@jupyter-widgets/base",
      "model_module_version": "2.0.0",
      "model_name": "LayoutModel",
      "state": {}
     },
     "6e72cc80f7ca452f9e7ddcdf5f736efb": {
      "model_module": "@jupyter-widgets/controls",
      "model_module_version": "2.0.0",
      "model_name": "CheckboxModel",
      "state": {
       "description": "NA values",
       "disabled": false,
       "layout": "IPY_MODEL_cd22e45da5bb491c95b48199e51bb697",
       "style": "IPY_MODEL_84333119fde84a91aadb597d75b76bac",
       "value": false
      }
     },
     "6e74ce6d13694923ae17e90ecd5adbbe": {
      "model_module": "@jupyter-widgets/base",
      "model_module_version": "2.0.0",
      "model_name": "LayoutModel",
      "state": {}
     },
     "6ebd93409bbe465d9922920148edf570": {
      "model_module": "@jupyter-widgets/controls",
      "model_module_version": "2.0.0",
      "model_name": "CheckboxStyleModel",
      "state": {
       "description_width": ""
      }
     },
     "6ed2157eb51442f9810f255ae37cbccd": {
      "model_module": "@jupyter-widgets/controls",
      "model_module_version": "2.0.0",
      "model_name": "TextStyleModel",
      "state": {
       "description_width": "",
       "font_size": null,
       "text_color": null
      }
     },
     "6f61182e5fd54abb9b857ba10c9ea3b7": {
      "model_module": "@jupyter-widgets/controls",
      "model_module_version": "2.0.0",
      "model_name": "TextStyleModel",
      "state": {
       "description_width": "",
       "font_size": null,
       "text_color": null
      }
     },
     "6f61b944037348069940783f786a3dcb": {
      "model_module": "@jupyter-widgets/controls",
      "model_module_version": "2.0.0",
      "model_name": "TextModel",
      "state": {
       "description": "NA values:",
       "layout": "IPY_MODEL_651febfee9984d1780f2018298227394",
       "style": "IPY_MODEL_50e1d869ea8549fbbbf6872ff243b717"
      }
     },
     "6f7686e9a1e44990be480bac2bddd97a": {
      "model_module": "@jupyter-widgets/controls",
      "model_module_version": "2.0.0",
      "model_name": "CheckboxModel",
      "state": {
       "description": "Use",
       "disabled": false,
       "layout": "IPY_MODEL_5a0bb17032ff4983af583ebff3835f43",
       "style": "IPY_MODEL_a38a23e246a3405eb45d85ed725e4656",
       "value": true
      }
     },
     "6f7bc6a629ac406dab060d18b03840dc": {
      "model_module": "@jupyter-widgets/controls",
      "model_module_version": "2.0.0",
      "model_name": "DropdownModel",
      "state": {
       "_options_labels": [
        "int8",
        "uint8",
        "int16",
        "uint16",
        "int32",
        "int64",
        "uint32",
        "uint64",
        "float32",
        "float64",
        "str"
       ],
       "description": "Retype:",
       "index": 9,
       "layout": "IPY_MODEL_b6b05c4a8fd84d689cb5d0359add6cba",
       "style": "IPY_MODEL_ad9e6849aace44e2b2469de4b62f1c89"
      }
     },
     "6f7c66d5581d42de8ec62a2f88d6db90": {
      "model_module": "@jupyter-widgets/base",
      "model_module_version": "2.0.0",
      "model_name": "LayoutModel",
      "state": {}
     },
     "6f988a7f7b53425ea5fad16462bddc39": {
      "model_module": "@jupyter-widgets/controls",
      "model_module_version": "2.0.0",
      "model_name": "VBoxModel",
      "state": {
       "children": [
        "IPY_MODEL_192efe2437f74f1898ba755601b331d5",
        "IPY_MODEL_933bbe3e107f48cdbfb0f3cd48006ec7",
        "IPY_MODEL_20c3c72fe8ee48dfa6b71ef7c096c2f4",
        "IPY_MODEL_d2c5f4451d094c579ef3e24fffd259b0",
        "IPY_MODEL_1a7e56ccccc243e5a4df072cade82ae4",
        "IPY_MODEL_483ebef2255845f797e413f125a533a1",
        "IPY_MODEL_460f90ec1f314f2582bf45ba5f1841b6"
       ],
       "layout": "IPY_MODEL_e932a84b4bb3449c8e8da4e461d526f4"
      }
     },
     "6fc272136e0c42428a3dde5c94394cf9": {
      "model_module": "@jupyter-widgets/controls",
      "model_module_version": "2.0.0",
      "model_name": "TextModel",
      "state": {
       "description": "Rename:",
       "layout": "IPY_MODEL_8768b7325c5f4f22a7d62d0f1a0b422e",
       "style": "IPY_MODEL_4b3fde9b85844601bd626d831556e6e7",
       "value": "total_amount"
      }
     },
     "6fe0e0da736c40a8bfdeebfe45d81e70": {
      "model_module": "@jupyter-widgets/controls",
      "model_module_version": "2.0.0",
      "model_name": "TextModel",
      "state": {
       "description": "NA values:",
       "layout": "IPY_MODEL_54b9bcbf2f7d40cfbba4b4fa16fcb7a1",
       "style": "IPY_MODEL_8de4ec5cd6854e478464facf095ac7b3"
      }
     },
     "6fe10899dabd4fc18c46d50ae735ff5c": {
      "model_module": "@jupyter-widgets/controls",
      "model_module_version": "2.0.0",
      "model_name": "TextStyleModel",
      "state": {
       "description_width": "",
       "font_size": null,
       "text_color": null
      }
     },
     "7003266a18c045ea8c6f9a956b99002f": {
      "model_module": "@jupyter-widgets/controls",
      "model_module_version": "2.0.0",
      "model_name": "DropdownModel",
      "state": {
       "_options_labels": [
        "int8",
        "uint8",
        "int16",
        "uint16",
        "int32",
        "int64",
        "uint32",
        "uint64",
        "float32",
        "float64",
        "str"
       ],
       "description": "Retype:",
       "index": 5,
       "layout": "IPY_MODEL_460057fb19e1405394a7272acd47c904",
       "style": "IPY_MODEL_c133c3ce36c34d1ca86f947ece9b1d3f"
      }
     },
     "7009c319e6a14f329304173166eef56a": {
      "model_module": "@jupyter-widgets/controls",
      "model_module_version": "2.0.0",
      "model_name": "VBoxModel",
      "state": {
       "children": [
        "IPY_MODEL_89ef81c7dab24459a78f8463cd9d2e73",
        "IPY_MODEL_ced319ddd0bb426abb6f8c6746c6db80",
        "IPY_MODEL_d357d8c2208749e4bc26ea0d135a1c3e",
        "IPY_MODEL_aefe9fee28cf49c0a52b87617a869645",
        "IPY_MODEL_152be7203a0e41eb897270dd744876aa",
        "IPY_MODEL_78c4662b660d42ae895383310fc2199a",
        "IPY_MODEL_d201a6c3f81c4494a32080093b489150"
       ],
       "layout": "IPY_MODEL_ba5683c281a9482188c88e8805326c9c"
      }
     },
     "701a64f373de4f68bcc715b44825a780": {
      "model_module": "@jupyter-widgets/controls",
      "model_module_version": "2.0.0",
      "model_name": "IntTextModel",
      "state": {
       "description": "Rows:",
       "disabled": true,
       "layout": "IPY_MODEL_272805a2148e4c3daa056759381d38e3",
       "step": 1,
       "style": "IPY_MODEL_8f745dd21d854e549015c521d0a8fd34",
       "value": 100
      }
     },
     "701b252f7d9d4172a2df794684d286cc": {
      "model_module": "@jupyter-widgets/controls",
      "model_module_version": "2.0.0",
      "model_name": "TextStyleModel",
      "state": {
       "description_width": "",
       "font_size": null,
       "text_color": null
      }
     },
     "701b9df3cb9f4a2cb3efcc661a1e26bf": {
      "model_module": "@jupyter-widgets/base",
      "model_module_version": "2.0.0",
      "model_name": "LayoutModel",
      "state": {}
     },
     "7060e65c2d2b4bd4895b162631253c39": {
      "model_module": "@jupyter-widgets/controls",
      "model_module_version": "2.0.0",
      "model_name": "CheckboxModel",
      "state": {
       "description": "NA values",
       "disabled": false,
       "layout": "IPY_MODEL_ecc99e2667364d74b5346a16c299eabb",
       "style": "IPY_MODEL_7160a14f6c444081af2060b13e4b87a0",
       "value": false
      }
     },
     "709a971122864ce2a8354cbd48ef082b": {
      "model_module": "@jupyter-widgets/controls",
      "model_module_version": "2.0.0",
      "model_name": "VBoxModel",
      "state": {
       "children": [
        "IPY_MODEL_48618effeb814a36b7565496ba3a294c",
        "IPY_MODEL_5cea31a0736a4fdba5bd352a320bb51e",
        "IPY_MODEL_701a64f373de4f68bcc715b44825a780",
        "IPY_MODEL_5626e257324b4d47bf32677b7562f994",
        "IPY_MODEL_5eefe640025c445789b5207d3b574496",
        "IPY_MODEL_43bd4b6d2eef4255ae296edf7939825a"
       ],
       "layout": "IPY_MODEL_1696ade9a4eb4567a6a61eddbeb463dc"
      }
     },
     "709ca7fc63cb48fcbe7b3688e3238415": {
      "model_module": "@jupyter-widgets/controls",
      "model_module_version": "2.0.0",
      "model_name": "DropdownModel",
      "state": {
       "_options_labels": [
        "int8",
        "uint8",
        "int16",
        "uint16",
        "int32",
        "int64",
        "uint32",
        "uint64",
        "float32",
        "float64",
        "str"
       ],
       "description": "Retype:",
       "index": 5,
       "layout": "IPY_MODEL_abd63443a2b34fa6ba9c82086e18226c",
       "style": "IPY_MODEL_54c44974c3a942d5b62b1a8354efe421"
      }
     },
     "70b370b5b82c4e1b94a8323904ecf15d": {
      "model_module": "@jupyter-widgets/controls",
      "model_module_version": "2.0.0",
      "model_name": "TextStyleModel",
      "state": {
       "description_width": "",
       "font_size": null,
       "text_color": null
      }
     },
     "70d9676e9ecc41889824fa1810e95d5e": {
      "model_module": "@jupyter-widgets/controls",
      "model_module_version": "2.0.0",
      "model_name": "TextModel",
      "state": {
       "description": "Unique vals:",
       "layout": "IPY_MODEL_ac8bb58d00214a6caf8cf4e91a996d6b",
       "style": "IPY_MODEL_72536863300b4a218470212050912e0f",
       "value": "39/99"
      }
     },
     "70f50b0709854fff802193594e1a8a39": {
      "model_module": "@jupyter-widgets/base",
      "model_module_version": "2.0.0",
      "model_name": "LayoutModel",
      "state": {}
     },
     "71057c15c713413a87d8a5daed96567f": {
      "model_module": "@jupyter-widgets/controls",
      "model_module_version": "2.0.0",
      "model_name": "CheckboxStyleModel",
      "state": {
       "description_width": ""
      }
     },
     "7147c3b058044f2293c7186c126abb67": {
      "model_module": "@jupyter-widgets/controls",
      "model_module_version": "2.0.0",
      "model_name": "TextStyleModel",
      "state": {
       "description_width": "",
       "font_size": null,
       "text_color": null
      }
     },
     "7160a14f6c444081af2060b13e4b87a0": {
      "model_module": "@jupyter-widgets/controls",
      "model_module_version": "2.0.0",
      "model_name": "CheckboxStyleModel",
      "state": {
       "description_width": ""
      }
     },
     "717072b9b16a4ac285c964777f3f1a47": {
      "model_module": "@jupyter-widgets/controls",
      "model_module_version": "2.0.0",
      "model_name": "LabelModel",
      "state": {
       "layout": "IPY_MODEL_3dd7be22798e43a8bae8184f0742dbd6",
       "style": "IPY_MODEL_8bcbe03ce5ae4510aaeac282589897ad"
      }
     },
     "71781b63012f4cdf9319b86603bdf720": {
      "model_module": "@jupyter-widgets/base",
      "model_module_version": "2.0.0",
      "model_name": "LayoutModel",
      "state": {}
     },
     "717fb005b7f84958a1e82c1a52e19543": {
      "model_module": "@jupyter-widgets/controls",
      "model_module_version": "2.0.0",
      "model_name": "CheckboxModel",
      "state": {
       "description": "Use",
       "disabled": false,
       "layout": "IPY_MODEL_1675d71a58254e1cb55388fc26251563",
       "style": "IPY_MODEL_ed27ea87b4904a0ba4f96668e341f516",
       "value": true
      }
     },
     "7182535eb0f748759eb867217dc946d6": {
      "model_module": "@jupyter-widgets/base",
      "model_module_version": "2.0.0",
      "model_name": "LayoutModel",
      "state": {}
     },
     "7182cc8557094c34a1c2974660587c0d": {
      "model_module": "@jupyter-widgets/controls",
      "model_module_version": "2.0.0",
      "model_name": "TextModel",
      "state": {
       "description": "Type:",
       "disabled": true,
       "layout": "IPY_MODEL_ac5497c756f64bf8b7442b799097b672",
       "style": "IPY_MODEL_ef1e6c9bbb684acd8ac1a36c7696c955",
       "value": "float64"
      }
     },
     "71c27f23dc954b4fb7657c26bbf8c6f3": {
      "model_module": "@jupyter-widgets/controls",
      "model_module_version": "2.0.0",
      "model_name": "TextStyleModel",
      "state": {
       "description_width": "",
       "font_size": null,
       "text_color": null
      }
     },
     "71e505ff35f04bc08463e2407f9431ef": {
      "model_module": "@jupyter-widgets/controls",
      "model_module_version": "2.0.0",
      "model_name": "TextStyleModel",
      "state": {
       "description_width": "",
       "font_size": null,
       "text_color": null
      }
     },
     "71e7a86345404f0b9b831fd97f54c083": {
      "model_module": "@jupyter-widgets/controls",
      "model_module_version": "2.0.0",
      "model_name": "CheckboxStyleModel",
      "state": {
       "description_width": ""
      }
     },
     "7221f5ffce4646708dfdbe6eb616cdb6": {
      "model_module": "@jupyter-widgets/base",
      "model_module_version": "2.0.0",
      "model_name": "LayoutModel",
      "state": {}
     },
     "722a370b8de246c69cd3bd563f45c670": {
      "model_module": "@jupyter-widgets/base",
      "model_module_version": "2.0.0",
      "model_name": "LayoutModel",
      "state": {}
     },
     "722c9d7228994dfdb85c5027013cba65": {
      "model_module": "@jupyter-widgets/base",
      "model_module_version": "2.0.0",
      "model_name": "LayoutModel",
      "state": {}
     },
     "72536863300b4a218470212050912e0f": {
      "model_module": "@jupyter-widgets/controls",
      "model_module_version": "2.0.0",
      "model_name": "TextStyleModel",
      "state": {
       "description_width": "",
       "font_size": null,
       "text_color": null
      }
     },
     "7262274891de47f79af62ed96f26c2ca": {
      "model_module": "@jupyter-widgets/controls",
      "model_module_version": "2.0.0",
      "model_name": "CheckboxModel",
      "state": {
       "description": "Use",
       "disabled": false,
       "layout": "IPY_MODEL_aafd792d386d49e6b2fb7b90fefc17f2",
       "style": "IPY_MODEL_db4402618e5a406dac8ebefe2bd08d1b",
       "value": true
      }
     },
     "72793aaa56dc4a3d975d49452fecbbcf": {
      "model_module": "@jupyter-widgets/controls",
      "model_module_version": "2.0.0",
      "model_name": "TextModel",
      "state": {
       "continuous_update": false,
       "description": "Name:",
       "disabled": true,
       "layout": "IPY_MODEL_1695b77c6eed4bcf862ef0f22e9edf6c",
       "style": "IPY_MODEL_2e24138be68e4ec9a1e5030257788ee7",
       "value": "Unnamed: 0"
      }
     },
     "7318756283a8484cb3d484f96825bda5": {
      "model_module": "@jupyter-widgets/controls",
      "model_module_version": "2.0.0",
      "model_name": "TextStyleModel",
      "state": {
       "description_width": "",
       "font_size": null,
       "text_color": null
      }
     },
     "736adbb7cd364aa4a5aef0cbdd5e390f": {
      "model_module": "jupyter-progressivis",
      "model_module_version": "^0.1.0",
      "model_name": "ModuleGraphModel",
      "state": {
       "_model_module_version": "^0.1.0",
       "_view_module_version": "^0.1.0",
       "data": "{\"modules\": [{\"is_running\": true, \"is_terminated\": false, \"run_number\": 1613, \"id\": \"dyn_var_1\", \"classname\": \"dyn_var\", \"is_visualization\": false, \"last_update\": 1613, \"state\": \"state_blocked\", \"quality\": 0.0, \"progress\": [0, 0], \"speed\": [12665.923312613892, 13033.391727241959, 13033.391727241959, 3417.331312010232, 3417.331312010232, 15122.187464839051, 15122.187464839051, 15394.562708818488, 15394.562708818488, 6803.831960407377, 6803.831960407377, 9101.74837295241, 9101.74837295241, 13690.190782289696, 13690.190782289696], \"order\": 0, \"start_time\": 0, \"end_time\": 68.56195761499839, \"input_slots\": {\"_params\": null}, \"output_slots\": {\"result\": [{\"output_name\": \"result\", \"output_module\": \"dyn_var_1\", \"input_name\": \"inp.0001\", \"input_module\": \"sink_1\"}], \"_trace\": null}, \"default_step_size\": 100, \"parameters\": {\"quantum\": 0.5, \"debug\": false}}, {\"is_running\": true, \"is_terminated\": false, \"run_number\": 1613, \"id\": \"constant_1\", \"classname\": \"constant\", \"is_visualization\": false, \"last_update\": 117, \"state\": \"state_terminated\", \"quality\": 0.0, \"progress\": [0, 0], \"speed\": [], \"order\": 1, \"start_time\": 0, \"end_time\": 57.06690284399883, \"input_slots\": {\"_params\": null}, \"output_slots\": {\"result\": [{\"output_name\": \"result\", \"output_module\": \"constant_1\", \"input_name\": \"filenames\", \"input_module\": \"simple_csv_loader_1\"}], \"_trace\": null}, \"default_step_size\": 100, \"parameters\": {\"quantum\": 0.5, \"debug\": false}}, {\"is_running\": true, \"is_terminated\": false, \"run_number\": 1613, \"id\": \"simple_csv_loader_1\", \"classname\": \"simple_csv_loader\", \"is_visualization\": false, \"last_update\": 1612, \"state\": \"state_ready\", \"quality\": 0.0, \"progress\": [124518400, 24308674770], \"speed\": [57879.87297841728, 49269.6974485173, 49269.6974485173, 32247.716118799235, 32247.716118799235, 51216.62270267399, 51216.62270267399, 55802.313386601694, 55802.313386601694, 57857.318992248685, 57857.318992248685, 32907.19286417661, 32907.19286417661, 26677.09136142125, 26677.09136142125], \"order\": 2, \"start_time\": 0, \"end_time\": 68.56057135499941, \"input_slots\": {\"filenames\": {\"output_name\": \"result\", \"output_module\": \"constant_1\", \"input_name\": \"filenames\", \"input_module\": \"simple_csv_loader_1\"}, \"_params\": null}, \"output_slots\": {\"result\": [{\"output_name\": \"result\", \"output_module\": \"simple_csv_loader_1\", \"input_name\": \"inp.0002\", \"input_module\": \"sink_1\"}], \"anomalies\": null, \"missing\": null, \"_trace\": null}, \"default_step_size\": 1000, \"parameters\": {\"quantum\": 0.5, \"debug\": false}}, {\"is_running\": true, \"is_terminated\": false, \"run_number\": 1613, \"id\": \"sink_1\", \"classname\": \"sink\", \"is_visualization\": false, \"last_update\": 0, \"state\": \"state_terminated\", \"quality\": 0.0, \"progress\": [124518400, 24308674770], \"speed\": [], \"order\": 3, \"start_time\": 0, \"end_time\": 0, \"input_slots\": {\"inp\": null, \"_params\": null, \"inp.0001\": {\"output_name\": \"result\", \"output_module\": \"dyn_var_1\", \"input_name\": \"inp.0001\", \"input_module\": \"sink_1\"}, \"inp.0002\": {\"output_name\": \"result\", \"output_module\": \"simple_csv_loader_1\", \"input_name\": \"inp.0002\", \"input_module\": \"sink_1\"}}, \"output_slots\": {\"_trace\": null}, \"default_step_size\": 100, \"parameters\": {\"quantum\": 0.5, \"debug\": false}}], \"is_running\": true, \"is_terminated\": false, \"run_number\": 1613, \"status\": \"success\"}",
       "layout": "IPY_MODEL_2a1c5120da8c493d9ab016abe41e1adb"
      }
     },
     "73784c969ad44f45a0c9a0596c91f803": {
      "model_module": "@jupyter-widgets/base",
      "model_module_version": "2.0.0",
      "model_name": "LayoutModel",
      "state": {}
     },
     "738352eb6d9a4a71b44745bd52e93e4d": {
      "model_module": "@jupyter-widgets/controls",
      "model_module_version": "2.0.0",
      "model_name": "TextStyleModel",
      "state": {
       "description_width": "",
       "font_size": null,
       "text_color": null
      }
     },
     "73cc5e1f2ec44e99b50840a9bdb86213": {
      "model_module": "@jupyter-widgets/controls",
      "model_module_version": "2.0.0",
      "model_name": "TextStyleModel",
      "state": {
       "description_width": "",
       "font_size": null,
       "text_color": null
      }
     },
     "73db7a465ea546e389cf8d3814975fb3": {
      "model_module": "@jupyter-widgets/base",
      "model_module_version": "2.0.0",
      "model_name": "LayoutModel",
      "state": {}
     },
     "7462d37cd1c64d599ed3efe015d9618f": {
      "model_module": "@jupyter-widgets/controls",
      "model_module_version": "2.0.0",
      "model_name": "CheckboxStyleModel",
      "state": {
       "description_width": ""
      }
     },
     "74916c3901154ec58c16e44732f32092": {
      "model_module": "@jupyter-widgets/controls",
      "model_module_version": "2.0.0",
      "model_name": "TextStyleModel",
      "state": {
       "description_width": "",
       "font_size": null,
       "text_color": null
      }
     },
     "7496a47d9cf24daca8aed9bb952f6a44": {
      "model_module": "@jupyter-widgets/controls",
      "model_module_version": "2.0.0",
      "model_name": "CheckboxModel",
      "state": {
       "description": "NA values",
       "disabled": false,
       "layout": "IPY_MODEL_9da2bfe3810b461eb32eb63b88fd1734",
       "style": "IPY_MODEL_f0e79860a54041ab99407b4468f26fa7",
       "value": false
      }
     },
     "74d3798fbb4f4a1da8d6184acd108b72": {
      "model_module": "@jupyter-widgets/controls",
      "model_module_version": "2.0.0",
      "model_name": "TextStyleModel",
      "state": {
       "description_width": "",
       "font_size": null,
       "text_color": null
      }
     },
     "74d42148317b4b9394b3694c327edc11": {
      "model_module": "@jupyter-widgets/controls",
      "model_module_version": "2.0.0",
      "model_name": "TextStyleModel",
      "state": {
       "description_width": "",
       "font_size": null,
       "text_color": null
      }
     },
     "74e48d8ba2e3429c8a1d6c4559457b8b": {
      "model_module": "@jupyter-widgets/controls",
      "model_module_version": "2.0.0",
      "model_name": "TextModel",
      "state": {
       "description": "NA values:",
       "layout": "IPY_MODEL_e166e3612f034f0dacc548751ee36b54",
       "style": "IPY_MODEL_40b5fe6a469e4bb4a80213bcc38b3f90"
      }
     },
     "74f0a3798d9d424591ea1161ac69619d": {
      "model_module": "@jupyter-widgets/base",
      "model_module_version": "2.0.0",
      "model_name": "LayoutModel",
      "state": {}
     },
     "753f9c31e7514ed89d6856e25ee40833": {
      "model_module": "@jupyter-widgets/controls",
      "model_module_version": "2.0.0",
      "model_name": "TextModel",
      "state": {
       "description": "Separator:",
       "disabled": true,
       "layout": "IPY_MODEL_3cc0e1eeb68543efaf5b54444c0de9da",
       "placeholder": "if many values",
       "style": "IPY_MODEL_0c5a769aaad04f329f7485560504df55"
      }
     },
     "754a50f110d24f4fb8b52342e7b8d6ef": {
      "model_module": "@jupyter-widgets/controls",
      "model_module_version": "2.0.0",
      "model_name": "CheckboxModel",
      "state": {
       "description": "Enable/disable all",
       "disabled": false,
       "layout": "IPY_MODEL_666eb079662f487baef095610be402e5",
       "style": "IPY_MODEL_8b74764f598a4e5cb3dc906b59f15eb6",
       "value": false
      }
     },
     "757993a4b48145d481909efc60ea0aa0": {
      "model_module": "@jupyter-widgets/controls",
      "model_module_version": "2.0.0",
      "model_name": "DescriptionStyleModel",
      "state": {
       "description_width": ""
      }
     },
     "75d733dba83a477a9ad99bdc206112e2": {
      "model_module": "@jupyter-widgets/base",
      "model_module_version": "2.0.0",
      "model_name": "LayoutModel",
      "state": {}
     },
     "75df438712b845858be5272a5ba96a57": {
      "model_module": "@jupyter-widgets/controls",
      "model_module_version": "2.0.0",
      "model_name": "TextStyleModel",
      "state": {
       "description_width": "",
       "font_size": null,
       "text_color": null
      }
     },
     "7600f00c28df47a7afe210c00adf304b": {
      "model_module": "@jupyter-widgets/controls",
      "model_module_version": "2.0.0",
      "model_name": "VBoxModel",
      "state": {
       "children": [
        "IPY_MODEL_ddf7147ac3d740568cedccf8fc0770e8",
        "IPY_MODEL_5e5d50d8add941228d9bafdc13d50215",
        "IPY_MODEL_7ea20436e6f04829b1b2badd47555a5c",
        "IPY_MODEL_8025a337b05b42b1be322cbe4e3c3bbc",
        "IPY_MODEL_ff716509388f40508f68c207dc0852b3",
        "IPY_MODEL_a7383f1bb72e4c6aa48241d6ca70e9a9",
        "IPY_MODEL_15aef3fbeb5e49e28791f5f1314adb65"
       ],
       "layout": "IPY_MODEL_0620a03d0f5f4434b3f7528a8136c1ae"
      }
     },
     "760c17e73900469cb8f1700696ab71be": {
      "model_module": "@jupyter-widgets/controls",
      "model_module_version": "2.0.0",
      "model_name": "LabelStyleModel",
      "state": {
       "description_width": "",
       "font_family": null,
       "font_size": null,
       "font_style": null,
       "font_variant": null,
       "font_weight": null,
       "text_color": null,
       "text_decoration": null
      }
     },
     "761210d916c246d6898f32db18444b65": {
      "model_module": "@jupyter-widgets/controls",
      "model_module_version": "2.0.0",
      "model_name": "CheckboxModel",
      "state": {
       "description": "Use",
       "disabled": false,
       "layout": "IPY_MODEL_d6d5dab949b74871ba57359ca03c6b1a",
       "style": "IPY_MODEL_568c644ba5304a999428ff6a1dc497f1",
       "value": true
      }
     },
     "7614ad308e7b4e37820483ce2e409273": {
      "model_module": "@jupyter-widgets/controls",
      "model_module_version": "2.0.0",
      "model_name": "TextStyleModel",
      "state": {
       "description_width": "",
       "font_size": null,
       "text_color": null
      }
     },
     "7630706cace24b9e8ec675c56e0d9970": {
      "model_module": "@jupyter-widgets/base",
      "model_module_version": "2.0.0",
      "model_name": "LayoutModel",
      "state": {}
     },
     "7633362391d147f88c4fc08e24589603": {
      "model_module": "@jupyter-widgets/controls",
      "model_module_version": "2.0.0",
      "model_name": "TextModel",
      "state": {
       "description": "Separator:",
       "disabled": true,
       "layout": "IPY_MODEL_4c8fa1a75bc546c087ff5fe33aac56a5",
       "placeholder": "if many values",
       "style": "IPY_MODEL_235345b39a8f43f68876dc4aa191bc97"
      }
     },
     "76338d695a28411ea9cd298cde3ea126": {
      "model_module": "@jupyter-widgets/base",
      "model_module_version": "2.0.0",
      "model_name": "LayoutModel",
      "state": {}
     },
     "764b16b9117f49bf8f752d7cc766d7e5": {
      "model_module": "@jupyter-widgets/controls",
      "model_module_version": "2.0.0",
      "model_name": "CheckboxStyleModel",
      "state": {
       "description_width": ""
      }
     },
     "7661383e17c44223a18ba284b7a565eb": {
      "model_module": "@jupyter-widgets/controls",
      "model_module_version": "2.0.0",
      "model_name": "TextModel",
      "state": {
       "description": "Unique vals:",
       "layout": "IPY_MODEL_961cfb0140c44555ae8950580a429dae",
       "style": "IPY_MODEL_822f828e9c5c4fc88ec0f5c6062ff885",
       "value": "39/99"
      }
     },
     "769ec4a5cd7a444dba346261c0747a43": {
      "model_module": "@jupyter-widgets/base",
      "model_module_version": "2.0.0",
      "model_name": "LayoutModel",
      "state": {}
     },
     "76ecc540bfa349d4876d94e507b0df6f": {
      "model_module": "@jupyter-widgets/controls",
      "model_module_version": "2.0.0",
      "model_name": "CheckboxStyleModel",
      "state": {
       "description_width": ""
      }
     },
     "771b74bb5e9e444e943885753f823797": {
      "model_module": "@jupyter-widgets/controls",
      "model_module_version": "2.0.0",
      "model_name": "TextStyleModel",
      "state": {
       "description_width": "",
       "font_size": null,
       "text_color": null
      }
     },
     "7721788dc66a4ab2986e183e95ba3fe0": {
      "model_module": "@jupyter-widgets/base",
      "model_module_version": "2.0.0",
      "model_name": "LayoutModel",
      "state": {}
     },
     "773e5474a757406fb81b4258835d651e": {
      "model_module": "@jupyter-widgets/controls",
      "model_module_version": "2.0.0",
      "model_name": "VBoxModel",
      "state": {
       "children": [
        "IPY_MODEL_13302f5b9e4e4d339c092413f19bc3e2",
        "IPY_MODEL_91ad58f6ac8e4568ba3b28578ecb9807",
        "IPY_MODEL_cfc47f7e0a4e431f8e06da4742d088b7",
        "IPY_MODEL_39a4e7b244cb4faf8af90c566193d110",
        "IPY_MODEL_8ac16ff35aef41c792dfd8468655daf3",
        "IPY_MODEL_ec750daaf5fa4789adeb76b80409925b",
        "IPY_MODEL_950ef669367b4d2d913656faebae02eb"
       ],
       "layout": "IPY_MODEL_fb8a931852354559bbe134fdbeb58a66"
      }
     },
     "773fb92dd4474c7f8f19106982522303": {
      "model_module": "@jupyter-widgets/controls",
      "model_module_version": "2.0.0",
      "model_name": "TextModel",
      "state": {
       "continuous_update": false,
       "description": "Name:",
       "disabled": true,
       "layout": "IPY_MODEL_50db6fdc0c3e447a984d0311fe805f89",
       "style": "IPY_MODEL_66255391941f436baace1069f0c3c737",
       "value": "store_and_fwd_flag"
      }
     },
     "774271079ef54e799396d61b8f831687": {
      "model_module": "@jupyter-widgets/controls",
      "model_module_version": "2.0.0",
      "model_name": "TextModel",
      "state": {
       "continuous_update": false,
       "description": "Name:",
       "disabled": true,
       "layout": "IPY_MODEL_911e4702fc214ac28cb1f43163253540",
       "style": "IPY_MODEL_50c2d5a866374ce0a1b93fd71266f204",
       "value": "payment_type"
      }
     },
     "774816dbd51c4b2195b4b591905d09e0": {
      "model_module": "@jupyter-widgets/controls",
      "model_module_version": "2.0.0",
      "model_name": "HBoxModel",
      "state": {
       "children": [
        "IPY_MODEL_52a4aac3a4ae48878db3c2ff2954ef5f",
        "IPY_MODEL_d35d575c218b4b16bcc03570314a272a"
       ],
       "layout": "IPY_MODEL_50b4e46f225e4a22a3fe2095b29001f4"
      }
     },
     "774f04ee8d9a491abf202ba56a3ca903": {
      "model_module": "@jupyter-widgets/controls",
      "model_module_version": "2.0.0",
      "model_name": "TextStyleModel",
      "state": {
       "description_width": "",
       "font_size": null,
       "text_color": null
      }
     },
     "776c6961434e43648082e8666be1309e": {
      "model_module": "@jupyter-widgets/base",
      "model_module_version": "2.0.0",
      "model_name": "LayoutModel",
      "state": {}
     },
     "778ba375fe2e405d84611e479af6ca44": {
      "model_module": "@jupyter-widgets/controls",
      "model_module_version": "2.0.0",
      "model_name": "TextStyleModel",
      "state": {
       "description_width": "",
       "font_size": null,
       "text_color": null
      }
     },
     "77db87c6191c42ecbeb080cdf1317908": {
      "model_module": "@jupyter-widgets/controls",
      "model_module_version": "2.0.0",
      "model_name": "TextModel",
      "state": {
       "description": "Rename:",
       "layout": "IPY_MODEL_d1e56bb96b7847ec93649e76f018d097",
       "style": "IPY_MODEL_7ab9b01ec0f8495b94fd4a42161f7c27",
       "value": "VendorID"
      }
     },
     "77e94828447f42cbb96e4f43ac1d3a35": {
      "model_module": "@jupyter-widgets/controls",
      "model_module_version": "2.0.0",
      "model_name": "DescriptionStyleModel",
      "state": {
       "description_width": ""
      }
     },
     "77ec5fa4d79843318fd90d3ed12af66c": {
      "model_module": "@jupyter-widgets/base",
      "model_module_version": "2.0.0",
      "model_name": "LayoutModel",
      "state": {}
     },
     "7814eceb3146420bbdffc4413213498c": {
      "model_module": "@jupyter-widgets/controls",
      "model_module_version": "2.0.0",
      "model_name": "CheckboxStyleModel",
      "state": {
       "description_width": ""
      }
     },
     "781bae5939c94187a7a2039d06c2a5aa": {
      "model_module": "@jupyter-widgets/controls",
      "model_module_version": "2.0.0",
      "model_name": "TextModel",
      "state": {
       "description": "Separator:",
       "disabled": true,
       "layout": "IPY_MODEL_5ec715d1ff3a4d3f8ae67be3b0496d85",
       "placeholder": "if many values",
       "style": "IPY_MODEL_26bd7f9a1d7f4e9fa77d7529b261a285"
      }
     },
     "7836f9d80c3440668d4c21546cebded5": {
      "model_module": "@jupyter-widgets/controls",
      "model_module_version": "2.0.0",
      "model_name": "TextModel",
      "state": {
       "continuous_update": false,
       "description": "NA values",
       "layout": "IPY_MODEL_cbbc6cb882bd4ec799b6f9ccded0df99",
       "style": "IPY_MODEL_85c3c2ccab614b559245fe88a42c627d"
      }
     },
     "78bc5116f7934d81becd4e48f051b451": {
      "model_module": "@jupyter-widgets/controls",
      "model_module_version": "2.0.0",
      "model_name": "TextStyleModel",
      "state": {
       "description_width": "",
       "font_size": null,
       "text_color": null
      }
     },
     "78bd726016364a8e90c1527e72840bbf": {
      "model_module": "@jupyter-widgets/base",
      "model_module_version": "2.0.0",
      "model_name": "LayoutModel",
      "state": {}
     },
     "78c4662b660d42ae895383310fc2199a": {
      "model_module": "@jupyter-widgets/controls",
      "model_module_version": "2.0.0",
      "model_name": "TextModel",
      "state": {
       "description": "Unique vals:",
       "layout": "IPY_MODEL_c15cd30c8e6145d1a0922361699ccd0f",
       "style": "IPY_MODEL_821a5f7bf36846088ee3056ac8b49905",
       "value": "39/99"
      }
     },
     "78cddc8efadd4154b7773797257a8698": {
      "model_module": "@jupyter-widgets/base",
      "model_module_version": "2.0.0",
      "model_name": "LayoutModel",
      "state": {}
     },
     "78ef4dee3ab64721885882b200e1a061": {
      "model_module": "@jupyter-widgets/base",
      "model_module_version": "2.0.0",
      "model_name": "LayoutModel",
      "state": {
       "border_bottom": "solid",
       "border_left": "solid",
       "border_right": "solid",
       "border_top": "solid"
      }
     },
     "78feb46fc45c4db5b81d2a5639682db4": {
      "model_module": "@jupyter-widgets/base",
      "model_module_version": "2.0.0",
      "model_name": "LayoutModel",
      "state": {}
     },
     "790cda53eb9a4922aa4d8b6a13c3738b": {
      "model_module": "@jupyter-widgets/base",
      "model_module_version": "2.0.0",
      "model_name": "LayoutModel",
      "state": {}
     },
     "791277aa9983456e8dda4c43bbddff41": {
      "model_module": "@jupyter-widgets/controls",
      "model_module_version": "2.0.0",
      "model_name": "DescriptionStyleModel",
      "state": {
       "description_width": ""
      }
     },
     "7944c6a0cac2407c894b79a9a141348f": {
      "model_module": "@jupyter-widgets/controls",
      "model_module_version": "2.0.0",
      "model_name": "TextModel",
      "state": {
       "description": "NA values:",
       "layout": "IPY_MODEL_c8f32da86eb046a49b7e9b7ff5d58299",
       "style": "IPY_MODEL_319bd2b11ff74ee395d8592cadcfa63e"
      }
     },
     "7965db3a6d734bd6a49ce87abb346410": {
      "model_module": "@jupyter-widgets/controls",
      "model_module_version": "2.0.0",
      "model_name": "TextModel",
      "state": {
       "description": "NA values:",
       "layout": "IPY_MODEL_4ac46b2bfbd641a991c671238a913f0b",
       "style": "IPY_MODEL_178b3f335f244f22933d662201b5ba9d"
      }
     },
     "7974a629880f4edca8f6df12b5ff809a": {
      "model_module": "@jupyter-widgets/base",
      "model_module_version": "2.0.0",
      "model_name": "LayoutModel",
      "state": {}
     },
     "79ae6566e8114db29495c1ee43b0b96e": {
      "model_module": "@jupyter-widgets/controls",
      "model_module_version": "2.0.0",
      "model_name": "TextStyleModel",
      "state": {
       "description_width": "",
       "font_size": null,
       "text_color": null
      }
     },
     "79e79d1444ce4961b49b636f566de510": {
      "model_module": "@jupyter-widgets/controls",
      "model_module_version": "2.0.0",
      "model_name": "VBoxModel",
      "state": {
       "children": [
        "IPY_MODEL_3732bdb6186b4c1eb5b922eb7d47c5a9",
        "IPY_MODEL_4062cf03c49841929f69b60769128b51",
        "IPY_MODEL_b26e8ff6153d417dbb9a47bb847bf7b3",
        "IPY_MODEL_dcb0e696fdc74350826de08fbc8fbc47",
        "IPY_MODEL_02fb36b5bdf04069aa238a2e29843a07",
        "IPY_MODEL_b4d8f6813adb4050aab89f280cac8532",
        "IPY_MODEL_7e34266203b94fe2bb5d02089e461f11"
       ],
       "layout": "IPY_MODEL_51854fe173724307b1a7ab95b871554b"
      }
     },
     "79f499954d4b40b4afa9207c16a167e0": {
      "model_module": "@jupyter-widgets/base",
      "model_module_version": "2.0.0",
      "model_name": "LayoutModel",
      "state": {}
     },
     "79f63d083273449ca3c5fae260899966": {
      "model_module": "@jupyter-widgets/controls",
      "model_module_version": "2.0.0",
      "model_name": "TextStyleModel",
      "state": {
       "description_width": "",
       "font_size": null,
       "text_color": null
      }
     },
     "7a02e31cb5bc49cfbded23088fc342e6": {
      "model_module": "@jupyter-widgets/base",
      "model_module_version": "2.0.0",
      "model_name": "LayoutModel",
      "state": {}
     },
     "7a4f6f9fb6694404ac670943f6f8f466": {
      "model_module": "@jupyter-widgets/controls",
      "model_module_version": "2.0.0",
      "model_name": "TextModel",
      "state": {
       "description": "Type:",
       "disabled": true,
       "layout": "IPY_MODEL_1d7ddfe4bee941469a2caf2bb669c12a",
       "style": "IPY_MODEL_71e505ff35f04bc08463e2407f9431ef",
       "value": "int64"
      }
     },
     "7a9f2c6860324752b54068a20403584e": {
      "model_module": "@jupyter-widgets/controls",
      "model_module_version": "2.0.0",
      "model_name": "DescriptionStyleModel",
      "state": {
       "description_width": ""
      }
     },
     "7a9f309d2ea449e9a81f29a4e2dc4958": {
      "model_module": "@jupyter-widgets/controls",
      "model_module_version": "2.0.0",
      "model_name": "VBoxModel",
      "state": {
       "children": [
        "IPY_MODEL_774271079ef54e799396d61b8f831687",
        "IPY_MODEL_e8c5c0ae53b24cf0b55c0033e1db4e51",
        "IPY_MODEL_7a4f6f9fb6694404ac670943f6f8f466",
        "IPY_MODEL_51a428ac35f24acca932ebbe4747ea4a",
        "IPY_MODEL_548cade46b904bae98785e43de241e8a",
        "IPY_MODEL_43036d6b7ebc4a21911d3aa0414302e7",
        "IPY_MODEL_ac24b7b9e23e4069845c4b129d684f4c"
       ],
       "layout": "IPY_MODEL_4c6b5e02953f4befad9f83a5c2c7b241"
      }
     },
     "7ab9b01ec0f8495b94fd4a42161f7c27": {
      "model_module": "@jupyter-widgets/controls",
      "model_module_version": "2.0.0",
      "model_name": "TextStyleModel",
      "state": {
       "description_width": "",
       "font_size": null,
       "text_color": null
      }
     },
     "7acbe8522b084a14ba591f2c515c7c89": {
      "model_module": "@jupyter-widgets/controls",
      "model_module_version": "2.0.0",
      "model_name": "TextModel",
      "state": {
       "description": "Type:",
       "disabled": true,
       "layout": "IPY_MODEL_b960bca3ebc642038df1166c8e759efb",
       "style": "IPY_MODEL_14b9ac6b124f462aad86ffd3e395f4dc",
       "value": "int64"
      }
     },
     "7acc48716fa34c37bff55ff1acbaa06c": {
      "model_module": "@jupyter-widgets/base",
      "model_module_version": "2.0.0",
      "model_name": "LayoutModel",
      "state": {}
     },
     "7b3ffad88cf84464bff49d0573c700fa": {
      "model_module": "@jupyter-widgets/controls",
      "model_module_version": "2.0.0",
      "model_name": "VBoxModel",
      "state": {
       "children": [
        "IPY_MODEL_8b76fe927d164871bad6fa85e0e00e86",
        "IPY_MODEL_c578b3b0f4c0421493eab9e295aa40fa",
        "IPY_MODEL_665b651fb08244f9a037b7610e07025c",
        "IPY_MODEL_6f7bc6a629ac406dab060d18b03840dc",
        "IPY_MODEL_f1f8acaadf774f2689066ce824d93fb7",
        "IPY_MODEL_feb67d57a2484956b2f09b5715afe3a0",
        "IPY_MODEL_47d1a84710f34827b7a163a374f7bacb"
       ],
       "layout": "IPY_MODEL_a3da008029834dada037ae523a476eda"
      }
     },
     "7b73547280fc467cb1a2d370317b05c0": {
      "model_module": "@jupyter-widgets/controls",
      "model_module_version": "2.0.0",
      "model_name": "TextModel",
      "state": {
       "continuous_update": false,
       "description": "Name:",
       "disabled": true,
       "layout": "IPY_MODEL_08c838063fca4853a6836b70499eeafc",
       "style": "IPY_MODEL_efee2d7721a3472bb6c273a20f3113ae",
       "value": "improvement_surcharge"
      }
     },
     "7b7cafc428544e0bac33f92097163c7d": {
      "model_module": "@jupyter-widgets/controls",
      "model_module_version": "2.0.0",
      "model_name": "DescriptionStyleModel",
      "state": {
       "description_width": ""
      }
     },
     "7b874f849f72430fa8798500f3388231": {
      "model_module": "@jupyter-widgets/controls",
      "model_module_version": "2.0.0",
      "model_name": "CheckboxModel",
      "state": {
       "description": "NA values",
       "disabled": false,
       "layout": "IPY_MODEL_b5137f97e2924e689fce42e0cbc94484",
       "style": "IPY_MODEL_0b320fb7e0b44964b861d3b8082d818a",
       "value": false
      }
     },
     "7bbbadd8e96c4498bff7d28bf2845caa": {
      "model_module": "@jupyter-widgets/controls",
      "model_module_version": "2.0.0",
      "model_name": "CheckboxStyleModel",
      "state": {
       "description_width": ""
      }
     },
     "7be2f132c46c4032bc7a346449912373": {
      "model_module": "@jupyter-widgets/base",
      "model_module_version": "2.0.0",
      "model_name": "LayoutModel",
      "state": {}
     },
     "7c01e23b4f4f4623a16398008c22b78d": {
      "model_module": "@jupyter-widgets/controls",
      "model_module_version": "2.0.0",
      "model_name": "TextModel",
      "state": {
       "description": "Separator:",
       "disabled": true,
       "layout": "IPY_MODEL_bf67fb62f57445969a08e0fb47021d05",
       "placeholder": "if many values",
       "style": "IPY_MODEL_67b4f55fa4c14270bef4c6c13928574f"
      }
     },
     "7c211659cfba42a387f3938e628a7166": {
      "model_module": "@jupyter-widgets/controls",
      "model_module_version": "2.0.0",
      "model_name": "CheckboxModel",
      "state": {
       "description": "Use",
       "disabled": false,
       "layout": "IPY_MODEL_275e970539f64d6faa3155abdbac0b28",
       "style": "IPY_MODEL_029a12ff4ba34cc3958d317a69f89c25",
       "value": true
      }
     },
     "7c46763a2e334d0fb45c09a06569e8cf": {
      "model_module": "@jupyter-widgets/controls",
      "model_module_version": "2.0.0",
      "model_name": "TextStyleModel",
      "state": {
       "description_width": "",
       "font_size": null,
       "text_color": null
      }
     },
     "7c6f6f7d08c540728a757565f634f6fe": {
      "model_module": "@jupyter-widgets/controls",
      "model_module_version": "2.0.0",
      "model_name": "TextModel",
      "state": {
       "continuous_update": false,
       "description": "Name:",
       "disabled": true,
       "layout": "IPY_MODEL_701b9df3cb9f4a2cb3efcc661a1e26bf",
       "style": "IPY_MODEL_8dbcdd374342400bae890cd18014c8ee",
       "value": "tolls_amount"
      }
     },
     "7c7fe714465d4c69b152454f68cd7c98": {
      "model_module": "@jupyter-widgets/controls",
      "model_module_version": "2.0.0",
      "model_name": "CheckboxStyleModel",
      "state": {
       "description_width": ""
      }
     },
     "7ca4f00e111f44c3ae56cd7d02fb4a6e": {
      "model_module": "@jupyter-widgets/controls",
      "model_module_version": "2.0.0",
      "model_name": "TextStyleModel",
      "state": {
       "description_width": "",
       "font_size": null,
       "text_color": null
      }
     },
     "7cb6a20931894b839a824bad236a617d": {
      "model_module": "@jupyter-widgets/controls",
      "model_module_version": "2.0.0",
      "model_name": "TextStyleModel",
      "state": {
       "description_width": "",
       "font_size": null,
       "text_color": null
      }
     },
     "7cca389910ff435283d6f54c6808c3fb": {
      "model_module": "@jupyter-widgets/base",
      "model_module_version": "2.0.0",
      "model_name": "LayoutModel",
      "state": {}
     },
     "7ce34306dd4840bda408de947da951a6": {
      "model_module": "@jupyter-widgets/controls",
      "model_module_version": "2.0.0",
      "model_name": "TextStyleModel",
      "state": {
       "description_width": "",
       "font_size": null,
       "text_color": null
      }
     },
     "7d1a15724191430799e6482c51a57716": {
      "model_module": "@jupyter-widgets/controls",
      "model_module_version": "2.0.0",
      "model_name": "CheckboxStyleModel",
      "state": {
       "description_width": ""
      }
     },
     "7d1ab27896d1403e8b41b01087c93e08": {
      "model_module": "@jupyter-widgets/base",
      "model_module_version": "2.0.0",
      "model_name": "LayoutModel",
      "state": {}
     },
     "7d3a0338f9114a9c9f7951f94ad9032b": {
      "model_module": "@jupyter-widgets/controls",
      "model_module_version": "2.0.0",
      "model_name": "BoxModel",
      "state": {
       "children": [
        "IPY_MODEL_27f54939cdf74680b92d534183f8c26e"
       ],
       "layout": "IPY_MODEL_ea6b65799f054e1ebd1909bb8ce3b5bf"
      }
     },
     "7d428dad86f546b8b3463f772a6eb5e2": {
      "model_module": "@jupyter-widgets/controls",
      "model_module_version": "2.0.0",
      "model_name": "CheckboxStyleModel",
      "state": {
       "description_width": ""
      }
     },
     "7d45762b37714d8b9e03fd166b5815b3": {
      "model_module": "@jupyter-widgets/controls",
      "model_module_version": "2.0.0",
      "model_name": "VBoxModel",
      "state": {
       "children": [
        "IPY_MODEL_8c784d71d90a420b9e0d528421632497",
        "IPY_MODEL_d0d95022a69d4efeba069dc650fec153",
        "IPY_MODEL_03c6ed1146444b278eaf6651c188d226",
        "IPY_MODEL_a5fc6631bba54d72b85b40b9ebaf11b6",
        "IPY_MODEL_df0184cebe5648febe1359672643fa04",
        "IPY_MODEL_6868fd138b8b4c9090494463b8302430",
        "IPY_MODEL_a92d0e35c43a4795bc0653f96c7a1f27"
       ],
       "layout": "IPY_MODEL_5c13c1715535478e89f99d7ef0189a7a"
      }
     },
     "7d4b5b5f1f3f436988acfe56fb01805f": {
      "model_module": "@jupyter-widgets/controls",
      "model_module_version": "2.0.0",
      "model_name": "CheckboxStyleModel",
      "state": {
       "description_width": ""
      }
     },
     "7d7bd90a26184f149c26a9ccbc4d3129": {
      "model_module": "@jupyter-widgets/controls",
      "model_module_version": "2.0.0",
      "model_name": "VBoxModel",
      "state": {
       "children": [
        "IPY_MODEL_9256c3caf2d64a719cfd082adbdd179b",
        "IPY_MODEL_1286f822891449f7b561f82eef999f8c",
        "IPY_MODEL_7836f9d80c3440668d4c21546cebded5"
       ],
       "layout": "IPY_MODEL_78ef4dee3ab64721885882b200e1a061"
      }
     },
     "7d8fcf1476a7420a876099d44a195a7e": {
      "model_module": "@jupyter-widgets/controls",
      "model_module_version": "2.0.0",
      "model_name": "TextStyleModel",
      "state": {
       "description_width": "",
       "font_size": null,
       "text_color": null
      }
     },
     "7d9f29a1cce84e17afe218432f20b91c": {
      "model_module": "@jupyter-widgets/controls",
      "model_module_version": "2.0.0",
      "model_name": "TextStyleModel",
      "state": {
       "description_width": "",
       "font_size": null,
       "text_color": null
      }
     },
     "7d9f6f77fb2b4691bc87b042c8f7f45b": {
      "model_module": "@jupyter-widgets/controls",
      "model_module_version": "2.0.0",
      "model_name": "CheckboxStyleModel",
      "state": {
       "description_width": ""
      }
     },
     "7db5a53df51e43b481157beab2ccf75a": {
      "model_module": "@jupyter-widgets/controls",
      "model_module_version": "2.0.0",
      "model_name": "VBoxModel",
      "state": {
       "children": [
        "IPY_MODEL_802336531d3a4587ba297817e11f172f",
        "IPY_MODEL_8a128d3f68674268b7c5a3ef4f83a1bf",
        "IPY_MODEL_92dfa91ad1a44a9f9fc7be7f8918c9f3",
        "IPY_MODEL_e19c72e7e88c4f868aa2ab0b05572d1c",
        "IPY_MODEL_7262274891de47f79af62ed96f26c2ca",
        "IPY_MODEL_41531284d05648008b59389a76757360",
        "IPY_MODEL_c756ce42d53645c8abdeb840a745fb01"
       ],
       "layout": "IPY_MODEL_c9a424d66ef1414b84376b9d6fa63f2f"
      }
     },
     "7df8d43673ad421394e61d10a9507fc5": {
      "model_module": "@jupyter-widgets/controls",
      "model_module_version": "2.0.0",
      "model_name": "LabelModel",
      "state": {
       "layout": "IPY_MODEL_59d05b375172475297f0a5fe054d6fcd",
       "style": "IPY_MODEL_0e3736f16c6749779b8f21eb8e0d1c53",
       "value": "dongle"
      }
     },
     "7e249cd823264bdfa812e1a4c3f2f1fe": {
      "model_module": "@jupyter-widgets/controls",
      "model_module_version": "2.0.0",
      "model_name": "CheckboxModel",
      "state": {
       "description": "NA values",
       "disabled": false,
       "layout": "IPY_MODEL_6f7c66d5581d42de8ec62a2f88d6db90",
       "style": "IPY_MODEL_eb89da07c4fc4466a752ead65cfcd934",
       "value": false
      }
     },
     "7e2f3300aae04ef9bcdca243468b634c": {
      "model_module": "@jupyter-widgets/base",
      "model_module_version": "2.0.0",
      "model_name": "LayoutModel",
      "state": {}
     },
     "7e34266203b94fe2bb5d02089e461f11": {
      "model_module": "@jupyter-widgets/controls",
      "model_module_version": "2.0.0",
      "model_name": "CheckboxModel",
      "state": {
       "description": "NA values",
       "disabled": false,
       "layout": "IPY_MODEL_ec0a92454fc24f2295357cc371c7e55e",
       "style": "IPY_MODEL_6ebd93409bbe465d9922920148edf570",
       "value": false
      }
     },
     "7ea20436e6f04829b1b2badd47555a5c": {
      "model_module": "@jupyter-widgets/controls",
      "model_module_version": "2.0.0",
      "model_name": "TextModel",
      "state": {
       "description": "Type:",
       "disabled": true,
       "layout": "IPY_MODEL_29c6750b20ce44449f443944a7aaf5a7",
       "style": "IPY_MODEL_b0847d92adcd4bf3a973d3d552e4d45a",
       "value": "int64"
      }
     },
     "7ee7f53c5cb0432a941d22ae241de4dd": {
      "model_module": "@jupyter-widgets/controls",
      "model_module_version": "2.0.0",
      "model_name": "DescriptionStyleModel",
      "state": {
       "description_width": ""
      }
     },
     "7f271955d44a48d092d1173f73ea09e8": {
      "model_module": "@jupyter-widgets/controls",
      "model_module_version": "2.0.0",
      "model_name": "TextModel",
      "state": {
       "description": "Rename:",
       "layout": "IPY_MODEL_ca0eaf61094744a1abc4dbc3ae29bd09",
       "style": "IPY_MODEL_b6b577999f5b4ed2a4e3e738d2bea40a",
       "value": "Unnamed: 0"
      }
     },
     "7f3d9f25e79042cca1d123f388e9b862": {
      "model_module": "@jupyter-widgets/controls",
      "model_module_version": "2.0.0",
      "model_name": "CheckboxStyleModel",
      "state": {
       "description_width": ""
      }
     },
     "7f5b82a5f093490893d7c0d87b834185": {
      "model_module": "@jupyter-widgets/controls",
      "model_module_version": "2.0.0",
      "model_name": "VBoxModel",
      "state": {
       "children": [
        "IPY_MODEL_e8d1d89b87de45fead9585b22e1d3303",
        "IPY_MODEL_401eb284da594f039a0605ff67dd2ba0",
        "IPY_MODEL_754a50f110d24f4fb8b52342e7b8d6ef"
       ],
       "layout": "IPY_MODEL_78ef4dee3ab64721885882b200e1a061"
      }
     },
     "7f645412266b4738bff96acedc4e1cf8": {
      "model_module": "@jupyter-widgets/controls",
      "model_module_version": "2.0.0",
      "model_name": "TextStyleModel",
      "state": {
       "description_width": "",
       "font_size": null,
       "text_color": null
      }
     },
     "7f6e5ce360b5431f81d97d37696a8ba8": {
      "model_module": "@jupyter-widgets/controls",
      "model_module_version": "2.0.0",
      "model_name": "TextModel",
      "state": {
       "continuous_update": false,
       "description": "Name:",
       "disabled": true,
       "layout": "IPY_MODEL_790cda53eb9a4922aa4d8b6a13c3738b",
       "style": "IPY_MODEL_55ed39fdb85e4f858d9ab4dcc6bbc51e",
       "value": "fare_amount"
      }
     },
     "7fb4cd60b1f448ce8313dc33efd69926": {
      "model_module": "@jupyter-widgets/controls",
      "model_module_version": "2.0.0",
      "model_name": "TextStyleModel",
      "state": {
       "description_width": "",
       "font_size": null,
       "text_color": null
      }
     },
     "7fc4091fb05c476db279f6955b23962e": {
      "model_module": "@jupyter-widgets/controls",
      "model_module_version": "2.0.0",
      "model_name": "TextModel",
      "state": {
       "description": "Unique vals:",
       "layout": "IPY_MODEL_78cddc8efadd4154b7773797257a8698",
       "style": "IPY_MODEL_9de7a3a8e2b24b8bb672e4f46c467640",
       "value": "3/99"
      }
     },
     "7fc4e20ac08644978802cec9372e1fd7": {
      "model_module": "@jupyter-widgets/controls",
      "model_module_version": "2.0.0",
      "model_name": "LabelStyleModel",
      "state": {
       "description_width": "",
       "font_family": null,
       "font_size": null,
       "font_style": null,
       "font_variant": null,
       "font_weight": null,
       "text_color": null,
       "text_decoration": null
      }
     },
     "802336531d3a4587ba297817e11f172f": {
      "model_module": "@jupyter-widgets/controls",
      "model_module_version": "2.0.0",
      "model_name": "TextModel",
      "state": {
       "continuous_update": false,
       "description": "Name:",
       "disabled": true,
       "layout": "IPY_MODEL_463e312a083f40b089f5483bc057a697",
       "style": "IPY_MODEL_31404520cada452bab6c18e291757b13",
       "value": "tpep_pickup_datetime"
      }
     },
     "8025a337b05b42b1be322cbe4e3c3bbc": {
      "model_module": "@jupyter-widgets/controls",
      "model_module_version": "2.0.0",
      "model_name": "DropdownModel",
      "state": {
       "_options_labels": [
        "int8",
        "uint8",
        "int16",
        "uint16",
        "int32",
        "int64",
        "uint32",
        "uint64",
        "float32",
        "float64",
        "str"
       ],
       "description": "Retype:",
       "index": 5,
       "layout": "IPY_MODEL_0f0479b6cdfc4245bad043573c8a2f99",
       "style": "IPY_MODEL_027ccaea2f8d4eefa71fd2fa94a55835"
      }
     },
     "80345e27825c48998847b557dbdc0842": {
      "model_module": "@jupyter-widgets/base",
      "model_module_version": "2.0.0",
      "model_name": "LayoutModel",
      "state": {}
     },
     "80574a10b81b494f8e383759cc4a34b4": {
      "model_module": "@jupyter-widgets/controls",
      "model_module_version": "2.0.0",
      "model_name": "CheckboxStyleModel",
      "state": {
       "description_width": ""
      }
     },
     "8068f095d2cb4299a422d30575b65a2a": {
      "model_module": "@jupyter-widgets/controls",
      "model_module_version": "2.0.0",
      "model_name": "CheckboxModel",
      "state": {
       "description": "Use",
       "disabled": false,
       "layout": "IPY_MODEL_5ae118ab442a44439b7f5519f186bd8e",
       "style": "IPY_MODEL_bb75e8b7bc134bc5a03a99bfcb4d4f0e",
       "value": true
      }
     },
     "807cb9b7c1844ca2851b1402077e9694": {
      "model_module": "@jupyter-widgets/base",
      "model_module_version": "2.0.0",
      "model_name": "LayoutModel",
      "state": {}
     },
     "808e377f148f4b0ca7e9abc214e60b3e": {
      "model_module": "@jupyter-widgets/controls",
      "model_module_version": "2.0.0",
      "model_name": "DropdownModel",
      "state": {
       "_options_labels": [
        "int8",
        "uint8",
        "int16",
        "uint16",
        "int32",
        "int64",
        "uint32",
        "uint64",
        "float32",
        "float64",
        "str"
       ],
       "description": "Retype:",
       "index": 9,
       "layout": "IPY_MODEL_be7d754000da4895a32a138864af82c4",
       "style": "IPY_MODEL_4d9d79f167c1479499eec1789e3754da"
      }
     },
     "80a98c728ae745bfb01cf2ca3f6d2c4d": {
      "model_module": "@jupyter-widgets/controls",
      "model_module_version": "2.0.0",
      "model_name": "TextModel",
      "state": {
       "description": "Type:",
       "disabled": true,
       "layout": "IPY_MODEL_db0f8d0339eb4465b3e74a2511ad4d1c",
       "style": "IPY_MODEL_38601d3da8f94b17b206aa7b25523542",
       "value": "float64"
      }
     },
     "80be5180b853475c9c3cf9bf516b8e9d": {
      "model_module": "@jupyter-widgets/controls",
      "model_module_version": "2.0.0",
      "model_name": "CheckboxStyleModel",
      "state": {
       "description_width": ""
      }
     },
     "80fcbf2f84b34dbfa3e27854a7b01b31": {
      "model_module": "@jupyter-widgets/base",
      "model_module_version": "2.0.0",
      "model_name": "LayoutModel",
      "state": {}
     },
     "8107d513491948528d5c8cfe6a8542dc": {
      "model_module": "@jupyter-widgets/controls",
      "model_module_version": "2.0.0",
      "model_name": "LabelStyleModel",
      "state": {
       "description_width": "",
       "font_family": null,
       "font_size": null,
       "font_style": null,
       "font_variant": null,
       "font_weight": null,
       "text_color": null,
       "text_decoration": null
      }
     },
     "8114b36c67924c2b90015e55348f4867": {
      "model_module": "@jupyter-widgets/controls",
      "model_module_version": "2.0.0",
      "model_name": "TextStyleModel",
      "state": {
       "description_width": "",
       "font_size": null,
       "text_color": null
      }
     },
     "81cb9739e1f446909f05cd1f62e9789c": {
      "model_module": "@jupyter-widgets/controls",
      "model_module_version": "2.0.0",
      "model_name": "TextStyleModel",
      "state": {
       "description_width": "",
       "font_size": null,
       "text_color": null
      }
     },
     "81df76efd2ff4a6484f06f29acf92230": {
      "model_module": "@jupyter-widgets/controls",
      "model_module_version": "2.0.0",
      "model_name": "TextStyleModel",
      "state": {
       "description_width": "",
       "font_size": null,
       "text_color": null
      }
     },
     "82043c078b6646ebb07c7153d45a6627": {
      "model_module": "@jupyter-widgets/controls",
      "model_module_version": "2.0.0",
      "model_name": "CheckboxModel",
      "state": {
       "description": "NA values",
       "disabled": false,
       "layout": "IPY_MODEL_bef10dfc72c646b5bb6ccf445cd40f85",
       "style": "IPY_MODEL_b949c39b977e4c9e806056b9679b1c17",
       "value": false
      }
     },
     "821a5f7bf36846088ee3056ac8b49905": {
      "model_module": "@jupyter-widgets/controls",
      "model_module_version": "2.0.0",
      "model_name": "TextStyleModel",
      "state": {
       "description_width": "",
       "font_size": null,
       "text_color": null
      }
     },
     "822f828e9c5c4fc88ec0f5c6062ff885": {
      "model_module": "@jupyter-widgets/controls",
      "model_module_version": "2.0.0",
      "model_name": "TextStyleModel",
      "state": {
       "description_width": "",
       "font_size": null,
       "text_color": null
      }
     },
     "8264b50bbfae48388546ad89ba507051": {
      "model_module": "@jupyter-widgets/base",
      "model_module_version": "2.0.0",
      "model_name": "LayoutModel",
      "state": {}
     },
     "8280bbd3c71d4fb4aec16c70c32f7e9a": {
      "model_module": "@jupyter-widgets/controls",
      "model_module_version": "2.0.0",
      "model_name": "TextStyleModel",
      "state": {
       "description_width": "",
       "font_size": null,
       "text_color": null
      }
     },
     "8297e04facaa4676ab1b1aa37f482060": {
      "model_module": "@jupyter-widgets/base",
      "model_module_version": "2.0.0",
      "model_name": "LayoutModel",
      "state": {}
     },
     "82a62983d4c947ae90e50c214649e0aa": {
      "model_module": "@jupyter-widgets/controls",
      "model_module_version": "2.0.0",
      "model_name": "TextModel",
      "state": {
       "description": "Rename:",
       "layout": "IPY_MODEL_79f499954d4b40b4afa9207c16a167e0",
       "style": "IPY_MODEL_a2c0e0bb595d401ba14fadf5406e2e67",
       "value": "store_and_fwd_flag"
      }
     },
     "82edffd18d2d4ff2b15f39efa369ce65": {
      "model_module": "@jupyter-widgets/controls",
      "model_module_version": "2.0.0",
      "model_name": "ButtonModel",
      "state": {
       "description": "Create",
       "icon": "check",
       "layout": "IPY_MODEL_49be36cf5db24ecbbbfa1f4a2e44490e",
       "style": "IPY_MODEL_b803ec69c03b4816a247b83f21dbb7e9",
       "tooltip": "Create"
      }
     },
     "82f49204827e44538384b65c230e2b9a": {
      "model_module": "@jupyter-widgets/controls",
      "model_module_version": "2.0.0",
      "model_name": "TextModel",
      "state": {
       "description": "NA values:",
       "layout": "IPY_MODEL_163b3e7398304e84ae7200d009405446",
       "style": "IPY_MODEL_0bfeb8cef1fb42c9b451936ab7ccd361"
      }
     },
     "8325f12db48647bbb5f0256419a47fb9": {
      "model_module": "@jupyter-widgets/controls",
      "model_module_version": "2.0.0",
      "model_name": "TextStyleModel",
      "state": {
       "description_width": "",
       "font_size": null,
       "text_color": null
      }
     },
     "835f80e6e3cd4414a4eea837b528a567": {
      "model_module": "@jupyter-widgets/base",
      "model_module_version": "2.0.0",
      "model_name": "LayoutModel",
      "state": {}
     },
     "83a32d2e6e8a4a289ea66a19c26ad530": {
      "model_module": "@jupyter-widgets/controls",
      "model_module_version": "2.0.0",
      "model_name": "TextStyleModel",
      "state": {
       "description_width": "",
       "font_size": null,
       "text_color": null
      }
     },
     "840ed02358df48cc996a5e731180d451": {
      "model_module": "@jupyter-widgets/base",
      "model_module_version": "2.0.0",
      "model_name": "LayoutModel",
      "state": {}
     },
     "8420a099341a4babbbc933eacc55251c": {
      "model_module": "@jupyter-widgets/controls",
      "model_module_version": "2.0.0",
      "model_name": "DropdownModel",
      "state": {
       "_options_labels": [
        "int8",
        "uint8",
        "int16",
        "uint16",
        "int32",
        "int64",
        "uint32",
        "uint64",
        "float32",
        "float64",
        "str"
       ],
       "description": "Retype:",
       "disabled": true,
       "index": 9,
       "layout": "IPY_MODEL_e61a72080e1d499b9e869ec01dfad85d",
       "style": "IPY_MODEL_e7c60c1c8c7f46288afb2c0a9b8e241e"
      }
     },
     "84235aa00b23429e9f8f3785cab75489": {
      "model_module": "@jupyter-widgets/controls",
      "model_module_version": "2.0.0",
      "model_name": "CheckboxModel",
      "state": {
       "description": "Use",
       "disabled": false,
       "layout": "IPY_MODEL_77ec5fa4d79843318fd90d3ed12af66c",
       "style": "IPY_MODEL_7814eceb3146420bbdffc4413213498c",
       "value": false
      }
     },
     "8425499cc5d14cfe95c9f19a6daf6a27": {
      "model_module": "@jupyter-widgets/base",
      "model_module_version": "2.0.0",
      "model_name": "LayoutModel",
      "state": {}
     },
     "84321487292c451d88ec34e8c05387d1": {
      "model_module": "@jupyter-widgets/base",
      "model_module_version": "2.0.0",
      "model_name": "LayoutModel",
      "state": {}
     },
     "84333119fde84a91aadb597d75b76bac": {
      "model_module": "@jupyter-widgets/controls",
      "model_module_version": "2.0.0",
      "model_name": "CheckboxStyleModel",
      "state": {
       "description_width": ""
      }
     },
     "84352867913241f0a840ff6d3bfe369c": {
      "model_module": "@jupyter-widgets/controls",
      "model_module_version": "2.0.0",
      "model_name": "TextModel",
      "state": {
       "description": "NA values:",
       "layout": "IPY_MODEL_a7f90f0cbca949f2ac673f45cf80bffe",
       "style": "IPY_MODEL_cae628222b784ada8c904815c09c0602"
      }
     },
     "84d19d961b4a4896a127eb4f57b3760a": {
      "model_module": "@jupyter-widgets/base",
      "model_module_version": "2.0.0",
      "model_name": "LayoutModel",
      "state": {}
     },
     "84dc1e2f753e439a85d18660cb2d8ecb": {
      "model_module": "@jupyter-widgets/base",
      "model_module_version": "2.0.0",
      "model_name": "LayoutModel",
      "state": {}
     },
     "8505fd8d846c434486748943025337db": {
      "model_module": "@jupyter-widgets/controls",
      "model_module_version": "2.0.0",
      "model_name": "TextStyleModel",
      "state": {
       "description_width": "",
       "font_size": null,
       "text_color": null
      }
     },
     "850d63586737409a9685dcb3f1390d47": {
      "model_module": "@jupyter-widgets/controls",
      "model_module_version": "2.0.0",
      "model_name": "TextModel",
      "state": {
       "description": "Separator:",
       "disabled": true,
       "layout": "IPY_MODEL_7630706cace24b9e8ec675c56e0d9970",
       "placeholder": "if many values",
       "style": "IPY_MODEL_abf4b15ef2c945aea5de640d112352fe"
      }
     },
     "8538e77b64224f4c8c6bacbcd1ad9b31": {
      "model_module": "@jupyter-widgets/controls",
      "model_module_version": "2.0.0",
      "model_name": "TextModel",
      "state": {
       "description": "NA values:",
       "layout": "IPY_MODEL_66008283aa9a459aad23ed4d2a7dcce8",
       "style": "IPY_MODEL_92417544e594477fbf8dfb9e2d8af88e"
      }
     },
     "858445c0ae0047628c92b4bb9eac3e88": {
      "model_module": "@jupyter-widgets/base",
      "model_module_version": "2.0.0",
      "model_name": "LayoutModel",
      "state": {}
     },
     "858471aac489497aa85518a019276a39": {
      "model_module": "@jupyter-widgets/controls",
      "model_module_version": "2.0.0",
      "model_name": "VBoxModel",
      "state": {
       "children": [
        "IPY_MODEL_f66a623c8454482b8ffbb68a341042de",
        "IPY_MODEL_61ad5d51b09f48e7be7fe57e16006d91",
        "IPY_MODEL_d60d25ec96b649c6baeea8bc9fff0403",
        "IPY_MODEL_b2977d9220924e238218a409329a49ba",
        "IPY_MODEL_93f6a463dd9b4352863f1214ef1e3fbb",
        "IPY_MODEL_2c7073e6550945d18df26e8df9d31db3",
        "IPY_MODEL_8a3b67ce2659466f89327fe75fee6eb7"
       ],
       "layout": "IPY_MODEL_237f1948c1e3468892d4e5f9f41f0cd9"
      }
     },
     "85a679bae3b74de0a139419561c5b578": {
      "model_module": "@jupyter-widgets/controls",
      "model_module_version": "2.0.0",
      "model_name": "TextStyleModel",
      "state": {
       "description_width": "",
       "font_size": null,
       "text_color": null
      }
     },
     "85a7e51e1d6b4b27a6e1ff786047da67": {
      "model_module": "@jupyter-widgets/controls",
      "model_module_version": "2.0.0",
      "model_name": "VBoxModel",
      "state": {
       "children": [
        "IPY_MODEL_a9dd27cbd77a48ac868af2f2cdc2045b",
        "IPY_MODEL_9af33fd2da2744f1a18fd6d1e2b2f9a2",
        "IPY_MODEL_7acbe8522b084a14ba591f2c515c7c89",
        "IPY_MODEL_7003266a18c045ea8c6f9a956b99002f",
        "IPY_MODEL_6c02433c82ca481d98e5aec048179942",
        "IPY_MODEL_46b2f25435824c5c955778f783714ea4",
        "IPY_MODEL_a840d9845e3d4a20a22d1d15835cb9bb"
       ],
       "layout": "IPY_MODEL_8a8081cd00604a78a704c793a0a65308"
      }
     },
     "85c3c2ccab614b559245fe88a42c627d": {
      "model_module": "@jupyter-widgets/controls",
      "model_module_version": "2.0.0",
      "model_name": "TextStyleModel",
      "state": {
       "description_width": "",
       "font_size": null,
       "text_color": null
      }
     },
     "85eedfcf9cd44cd5a1b6d9670a83801b": {
      "model_module": "@jupyter-widgets/controls",
      "model_module_version": "2.0.0",
      "model_name": "TextStyleModel",
      "state": {
       "description_width": "",
       "font_size": null,
       "text_color": null
      }
     },
     "86031240695a47a1810b77f4270de929": {
      "model_module": "@jupyter-widgets/base",
      "model_module_version": "2.0.0",
      "model_name": "LayoutModel",
      "state": {}
     },
     "8603450d98af45fba67ac73730b900ed": {
      "model_module": "@jupyter-widgets/base",
      "model_module_version": "2.0.0",
      "model_name": "LayoutModel",
      "state": {}
     },
     "86128ddc4dee42cd8c54f17ff16e6bdc": {
      "model_module": "@jupyter-widgets/base",
      "model_module_version": "2.0.0",
      "model_name": "LayoutModel",
      "state": {}
     },
     "8620f6ccf9164d7b8e6635a9aad4cf79": {
      "model_module": "@jupyter-widgets/base",
      "model_module_version": "2.0.0",
      "model_name": "LayoutModel",
      "state": {}
     },
     "8641f28ede7b417f94959e2fb1675738": {
      "model_module": "@jupyter-widgets/controls",
      "model_module_version": "2.0.0",
      "model_name": "DescriptionStyleModel",
      "state": {
       "description_width": ""
      }
     },
     "866d669ac82e4cd0ac497f91f0f7c42b": {
      "model_module": "@jupyter-widgets/controls",
      "model_module_version": "2.0.0",
      "model_name": "TextStyleModel",
      "state": {
       "description_width": "",
       "font_size": null,
       "text_color": null
      }
     },
     "8676b75096e84db5b9e46fa3ecb23b8b": {
      "model_module": "@jupyter-widgets/base",
      "model_module_version": "2.0.0",
      "model_name": "LayoutModel",
      "state": {}
     },
     "867c2562f1a64920883240278d32bd60": {
      "model_module": "@jupyter-widgets/controls",
      "model_module_version": "2.0.0",
      "model_name": "DropdownModel",
      "state": {
       "_options_labels": [
        "int8",
        "uint8",
        "int16",
        "uint16",
        "int32",
        "int64",
        "uint32",
        "uint64",
        "float32",
        "float64",
        "str"
       ],
       "description": "Retype:",
       "disabled": true,
       "index": 9,
       "layout": "IPY_MODEL_d9512ceacf074469a3e6f374e976e02a",
       "style": "IPY_MODEL_4b4c36d387bd4f3b9781e303c755a8d6"
      }
     },
     "86bfe940c4e9483b9ca256a781c033af": {
      "model_module": "@jupyter-widgets/base",
      "model_module_version": "2.0.0",
      "model_name": "LayoutModel",
      "state": {}
     },
     "86d81d9532024ac588fdcffa917b8d52": {
      "model_module": "@jupyter-widgets/controls",
      "model_module_version": "2.0.0",
      "model_name": "CheckboxStyleModel",
      "state": {
       "description_width": ""
      }
     },
     "86e1c0f6ef604e75a30c3ac706db5b65": {
      "model_module": "@jupyter-widgets/controls",
      "model_module_version": "2.0.0",
      "model_name": "TextModel",
      "state": {
       "description": "Unique vals:",
       "layout": "IPY_MODEL_ca9308670e2145fbae4351374cde0ae4",
       "style": "IPY_MODEL_2b09ef41357b4a08b5bb3eae499bba0d",
       "value": "99/99"
      }
     },
     "86f3d9261dd1483fa4fd86c4b588c8e0": {
      "model_module": "@jupyter-widgets/controls",
      "model_module_version": "2.0.0",
      "model_name": "CheckboxModel",
      "state": {
       "description": "Use",
       "disabled": false,
       "layout": "IPY_MODEL_62dadcb427a146f9a3345b0751c03292",
       "style": "IPY_MODEL_80574a10b81b494f8e383759cc4a34b4",
       "value": false
      }
     },
     "8768b7325c5f4f22a7d62d0f1a0b422e": {
      "model_module": "@jupyter-widgets/base",
      "model_module_version": "2.0.0",
      "model_name": "LayoutModel",
      "state": {}
     },
     "8770764ff5264d96ac35381fffbc9b72": {
      "model_module": "@jupyter-widgets/controls",
      "model_module_version": "2.0.0",
      "model_name": "TextStyleModel",
      "state": {
       "description_width": "",
       "font_size": null,
       "text_color": null
      }
     },
     "879ac3ddca144fefa39b08370d0af2e5": {
      "model_module": "@jupyter-widgets/base",
      "model_module_version": "2.0.0",
      "model_name": "LayoutModel",
      "state": {}
     },
     "87c1290e19a0460e84f2c6abf874d991": {
      "model_module": "@jupyter-widgets/controls",
      "model_module_version": "2.0.0",
      "model_name": "TextModel",
      "state": {
       "description": "Rename:",
       "layout": "IPY_MODEL_dee65791348649a88039b2e1a9c58a99",
       "style": "IPY_MODEL_8b77eee7eade451e88510cf340d4d05a",
       "value": "tolls_amount"
      }
     },
     "87c496923e8640908aa535530bcc7015": {
      "model_module": "@jupyter-widgets/controls",
      "model_module_version": "2.0.0",
      "model_name": "CheckboxModel",
      "state": {
       "description": "Use",
       "disabled": false,
       "layout": "IPY_MODEL_41488e555d604d49a5dd872836d90627",
       "style": "IPY_MODEL_ac9915229ef14eed97a7af9e8ab881ed",
       "value": true
      }
     },
     "87e8365f4ea2478fa35ed079c22e2952": {
      "model_module": "@jupyter-widgets/base",
      "model_module_version": "2.0.0",
      "model_name": "LayoutModel",
      "state": {}
     },
     "8800d5d3389040e683e5e4ed30383db2": {
      "model_module": "@jupyter-widgets/base",
      "model_module_version": "2.0.0",
      "model_name": "LayoutModel",
      "state": {}
     },
     "88241aea1abf492c8d218e5d417e5f10": {
      "model_module": "@jupyter-widgets/controls",
      "model_module_version": "2.0.0",
      "model_name": "TextStyleModel",
      "state": {
       "description_width": "",
       "font_size": null,
       "text_color": null
      }
     },
     "8830c8557ab04c6493ba4461221a8892": {
      "model_module": "@jupyter-widgets/controls",
      "model_module_version": "2.0.0",
      "model_name": "TextStyleModel",
      "state": {
       "description_width": "",
       "font_size": null,
       "text_color": null
      }
     },
     "884480e872654f71bc5538c410b16294": {
      "model_module": "@jupyter-widgets/base",
      "model_module_version": "2.0.0",
      "model_name": "LayoutModel",
      "state": {}
     },
     "884ed739f7a548329a1c996d67752ee4": {
      "model_module": "@jupyter-widgets/controls",
      "model_module_version": "2.0.0",
      "model_name": "TextStyleModel",
      "state": {
       "description_width": "",
       "font_size": null,
       "text_color": null
      }
     },
     "885892c0818642fd9a13b2e7843d589c": {
      "model_module": "@jupyter-widgets/base",
      "model_module_version": "2.0.0",
      "model_name": "LayoutModel",
      "state": {}
     },
     "88de47ba18574e36826458e7d421ed32": {
      "model_module": "@jupyter-widgets/controls",
      "model_module_version": "2.0.0",
      "model_name": "TextStyleModel",
      "state": {
       "description_width": "",
       "font_size": null,
       "text_color": null
      }
     },
     "8928473c80774d6fa0bf4ca5bc52b339": {
      "model_module": "@jupyter-widgets/base",
      "model_module_version": "2.0.0",
      "model_name": "LayoutModel",
      "state": {}
     },
     "892eaf7079e842668d32d2048bf3d34e": {
      "model_module": "@jupyter-widgets/controls",
      "model_module_version": "2.0.0",
      "model_name": "VBoxModel",
      "state": {
       "children": [
        "IPY_MODEL_1a5d506608f84fe8b1e619fe87f31ddc",
        "IPY_MODEL_59c091e4dff448b2a823941e5171d50e",
        "IPY_MODEL_e6e1fdb0ec374ee99ca3f3c99330f2ca",
        "IPY_MODEL_d3be06be6ad64a02960c22bf0b28fafa",
        "IPY_MODEL_a30a273bb2f2454f96ae606abc4fe5bb",
        "IPY_MODEL_e61e03187e1c4ad2ae7c4971d063d9db",
        "IPY_MODEL_273146b2eb2d413e8e2138d082c72943"
       ],
       "layout": "IPY_MODEL_8ec8349e8a334e56a25c8f1d560b7213"
      }
     },
     "89816dbd2530438697bc65394ec01f1c": {
      "model_module": "@jupyter-widgets/base",
      "model_module_version": "2.0.0",
      "model_name": "LayoutModel",
      "state": {}
     },
     "89b7c7bb00194e2f9eb8454df8ea4714": {
      "model_module": "@jupyter-widgets/base",
      "model_module_version": "2.0.0",
      "model_name": "LayoutModel",
      "state": {}
     },
     "89c227b8355c44c2abd2349ddfc7489f": {
      "model_module": "@jupyter-widgets/controls",
      "model_module_version": "2.0.0",
      "model_name": "TextModel",
      "state": {
       "description": "Separator:",
       "disabled": true,
       "layout": "IPY_MODEL_fb078932655341dfb4be6fe444b44e10",
       "placeholder": "if many values",
       "style": "IPY_MODEL_1098acd3518e4883a15aa1a99510495a"
      }
     },
     "89ed7d337b134dd6883c13baec958ac4": {
      "model_module": "@jupyter-widgets/controls",
      "model_module_version": "2.0.0",
      "model_name": "DescriptionStyleModel",
      "state": {
       "description_width": ""
      }
     },
     "89ef81c7dab24459a78f8463cd9d2e73": {
      "model_module": "@jupyter-widgets/controls",
      "model_module_version": "2.0.0",
      "model_name": "TextModel",
      "state": {
       "continuous_update": false,
       "description": "Name:",
       "disabled": true,
       "layout": "IPY_MODEL_a7eb0d9c93af4e229d93a1425ae7d84d",
       "style": "IPY_MODEL_32c4f6ce3755481c8460f1dbadfa3aff",
       "value": "tip_amount"
      }
     },
     "8a01407485db41c89e8a9a598d769e62": {
      "model_module": "@jupyter-widgets/base",
      "model_module_version": "2.0.0",
      "model_name": "LayoutModel",
      "state": {
       "visibility": "hidden"
      }
     },
     "8a128d3f68674268b7c5a3ef4f83a1bf": {
      "model_module": "@jupyter-widgets/controls",
      "model_module_version": "2.0.0",
      "model_name": "TextModel",
      "state": {
       "description": "Rename:",
       "layout": "IPY_MODEL_1dba433a01014c668faceff2ad418b3a",
       "style": "IPY_MODEL_93804d556cbc4d60b1a4324b594cb187",
       "value": "tpep_pickup_datetime"
      }
     },
     "8a3b67ce2659466f89327fe75fee6eb7": {
      "model_module": "@jupyter-widgets/controls",
      "model_module_version": "2.0.0",
      "model_name": "CheckboxModel",
      "state": {
       "description": "NA values",
       "disabled": false,
       "layout": "IPY_MODEL_39fc10fa98cb48d491e8270b67a99d96",
       "style": "IPY_MODEL_fae746b6a9d8405b93edbd2e39b13a00",
       "value": false
      }
     },
     "8a446831e3b74cbe8a25e2a1d55f9415": {
      "model_module": "@jupyter-widgets/base",
      "model_module_version": "2.0.0",
      "model_name": "LayoutModel",
      "state": {}
     },
     "8a4c3c0785d842a1955c907dd3f9fd8c": {
      "model_module": "@jupyter-widgets/controls",
      "model_module_version": "2.0.0",
      "model_name": "TextStyleModel",
      "state": {
       "description_width": "",
       "font_size": null,
       "text_color": null
      }
     },
     "8a64eefd60384d1aaf14d854b93381df": {
      "model_module": "@jupyter-widgets/controls",
      "model_module_version": "2.0.0",
      "model_name": "DropdownModel",
      "state": {
       "_options_labels": [
        "int8",
        "uint8",
        "int16",
        "uint16",
        "int32",
        "int64",
        "uint32",
        "uint64",
        "float32",
        "float64",
        "str"
       ],
       "description": "Retype:",
       "index": 9,
       "layout": "IPY_MODEL_2f688a2da3c24b21983f77117adcbfc2",
       "style": "IPY_MODEL_f74aee2b5a81420cbef449bf3a3b960e"
      }
     },
     "8a8081cd00604a78a704c793a0a65308": {
      "model_module": "@jupyter-widgets/base",
      "model_module_version": "2.0.0",
      "model_name": "LayoutModel",
      "state": {}
     },
     "8a824f675ef64f5e832fcf5b4dda4a97": {
      "model_module": "@jupyter-widgets/base",
      "model_module_version": "2.0.0",
      "model_name": "LayoutModel",
      "state": {}
     },
     "8ac16ff35aef41c792dfd8468655daf3": {
      "model_module": "@jupyter-widgets/controls",
      "model_module_version": "2.0.0",
      "model_name": "CheckboxModel",
      "state": {
       "description": "Use",
       "disabled": false,
       "layout": "IPY_MODEL_bf903156473d4191b92a3a32cebb87f7",
       "style": "IPY_MODEL_c20dc29c497b44fa8a1d759d5bb243d7",
       "value": true
      }
     },
     "8b07ef60eaf4444e85aaad503217334f": {
      "model_module": "@jupyter-widgets/base",
      "model_module_version": "2.0.0",
      "model_name": "LayoutModel",
      "state": {}
     },
     "8b22a4b789404fb38fab4d6865b54c5c": {
      "model_module": "@jupyter-widgets/controls",
      "model_module_version": "2.0.0",
      "model_name": "TextModel",
      "state": {
       "description": "Separator:",
       "disabled": true,
       "layout": "IPY_MODEL_a8aee4b895b44ff9a144453cba8e7656",
       "placeholder": "if many values",
       "style": "IPY_MODEL_0dab4a22d4904e0399d5aaa5d930051e"
      }
     },
     "8b3b28bae4a746c9947a3bff1d64abd3": {
      "model_module": "@jupyter-widgets/controls",
      "model_module_version": "2.0.0",
      "model_name": "VBoxModel",
      "state": {
       "children": [
        "IPY_MODEL_32825eb57382499786013bfb0389c42a",
        "IPY_MODEL_82a62983d4c947ae90e50c214649e0aa",
        "IPY_MODEL_12d9ff5b10bb46ae8ede1239ac78b022",
        "IPY_MODEL_44c8ea987c4848a9b1d6d38fa809c502",
        "IPY_MODEL_c920cf767c4d47d9a06fa2b6b9d33c72",
        "IPY_MODEL_fbf06ee5d4bb47bd8ed325da7d99f897",
        "IPY_MODEL_f3799d32d91f4950bbaedd446add9214"
       ],
       "layout": "IPY_MODEL_902f67ae54eb46ca81335470e7fdc973"
      }
     },
     "8b3cd1beecc2422c87662e21b5e4515e": {
      "model_module": "@jupyter-widgets/base",
      "model_module_version": "2.0.0",
      "model_name": "LayoutModel",
      "state": {}
     },
     "8b647e870c394fdca94528f5f1ede441": {
      "model_module": "@jupyter-widgets/base",
      "model_module_version": "2.0.0",
      "model_name": "LayoutModel",
      "state": {}
     },
     "8b648918d55144f4b96c9a1e4536464b": {
      "model_module": "@jupyter-widgets/controls",
      "model_module_version": "2.0.0",
      "model_name": "VBoxModel",
      "state": {
       "children": [
        "IPY_MODEL_bb568abba8f74cbeb934d5dba0cc8bc8",
        "IPY_MODEL_f4678fa59d334aa49110452a807d23ff"
       ],
       "layout": "IPY_MODEL_78ef4dee3ab64721885882b200e1a061"
      }
     },
     "8b74764f598a4e5cb3dc906b59f15eb6": {
      "model_module": "@jupyter-widgets/controls",
      "model_module_version": "2.0.0",
      "model_name": "CheckboxStyleModel",
      "state": {
       "description_width": ""
      }
     },
     "8b76fe927d164871bad6fa85e0e00e86": {
      "model_module": "@jupyter-widgets/controls",
      "model_module_version": "2.0.0",
      "model_name": "TextModel",
      "state": {
       "continuous_update": false,
       "description": "Name:",
       "disabled": true,
       "layout": "IPY_MODEL_61cb9b3586474d308cac300cc4098d6c",
       "style": "IPY_MODEL_da7e75e7e8264362a8896399051db137",
       "value": "RateCodeID"
      }
     },
     "8b77eee7eade451e88510cf340d4d05a": {
      "model_module": "@jupyter-widgets/controls",
      "model_module_version": "2.0.0",
      "model_name": "TextStyleModel",
      "state": {
       "description_width": "",
       "font_size": null,
       "text_color": null
      }
     },
     "8bb820eedcd24df5b86b655c40acf21a": {
      "model_module": "@jupyter-widgets/controls",
      "model_module_version": "2.0.0",
      "model_name": "TextStyleModel",
      "state": {
       "description_width": "",
       "font_size": null,
       "text_color": null
      }
     },
     "8bcbe03ce5ae4510aaeac282589897ad": {
      "model_module": "@jupyter-widgets/controls",
      "model_module_version": "2.0.0",
      "model_name": "LabelStyleModel",
      "state": {
       "description_width": "",
       "font_family": null,
       "font_size": null,
       "font_style": null,
       "font_variant": null,
       "font_weight": null,
       "text_color": null,
       "text_decoration": null
      }
     },
     "8be0b60351654444a7945518c89acd0f": {
      "model_module": "@jupyter-widgets/base",
      "model_module_version": "2.0.0",
      "model_name": "LayoutModel",
      "state": {}
     },
     "8c72d07a47b14ec0be988a59466db584": {
      "model_module": "@jupyter-widgets/controls",
      "model_module_version": "2.0.0",
      "model_name": "TextModel",
      "state": {
       "description": "Rename:",
       "layout": "IPY_MODEL_2bbcbae96a9542d38ef13de3c2609469",
       "style": "IPY_MODEL_571bc4b8c432403aa13bb764eb0b48d0",
       "value": "passenger_count"
      }
     },
     "8c784d71d90a420b9e0d528421632497": {
      "model_module": "@jupyter-widgets/controls",
      "model_module_version": "2.0.0",
      "model_name": "TextModel",
      "state": {
       "continuous_update": false,
       "description": "Name:",
       "disabled": true,
       "layout": "IPY_MODEL_180ca52e5ec44c45abea8b3a8335a0fb",
       "style": "IPY_MODEL_cc065847286149d9b8e8447b3878b1e4",
       "value": "store_and_fwd_flag"
      }
     },
     "8cc0a459f00c4a4689b0280e682c569f": {
      "model_module": "@jupyter-widgets/base",
      "model_module_version": "2.0.0",
      "model_name": "LayoutModel",
      "state": {}
     },
     "8cdcbef3dbca4e70b22bf1cb0d5ac321": {
      "model_module": "@jupyter-widgets/base",
      "model_module_version": "2.0.0",
      "model_name": "LayoutModel",
      "state": {}
     },
     "8ce330db893b4a0f8e40f1b991258bf6": {
      "model_module": "@jupyter-widgets/controls",
      "model_module_version": "2.0.0",
      "model_name": "TextStyleModel",
      "state": {
       "description_width": "",
       "font_size": null,
       "text_color": null
      }
     },
     "8d1beb00dd8e424a8d97c3067f93f1e0": {
      "model_module": "@jupyter-widgets/controls",
      "model_module_version": "2.0.0",
      "model_name": "TextModel",
      "state": {
       "description": "Separator:",
       "disabled": true,
       "layout": "IPY_MODEL_2a0b0e3667bf4665bf7b498c384d93c4",
       "placeholder": "if many values",
       "style": "IPY_MODEL_85eedfcf9cd44cd5a1b6d9670a83801b"
      }
     },
     "8d306129980941fd89b78fb4903c60c6": {
      "model_module": "@jupyter-widgets/controls",
      "model_module_version": "2.0.0",
      "model_name": "TextStyleModel",
      "state": {
       "description_width": "",
       "font_size": null,
       "text_color": null
      }
     },
     "8d528eb031bd44cf8e01692361155691": {
      "model_module": "@jupyter-widgets/base",
      "model_module_version": "2.0.0",
      "model_name": "LayoutModel",
      "state": {}
     },
     "8d698208861a401a9bd1a2cbee947146": {
      "model_module": "@jupyter-widgets/controls",
      "model_module_version": "2.0.0",
      "model_name": "TextStyleModel",
      "state": {
       "description_width": "",
       "font_size": null,
       "text_color": null
      }
     },
     "8d8d3f6da1cc45baa0b73e1dce7d3a10": {
      "model_module": "@jupyter-widgets/controls",
      "model_module_version": "2.0.0",
      "model_name": "TextStyleModel",
      "state": {
       "description_width": "",
       "font_size": null,
       "text_color": null
      }
     },
     "8dbcdd374342400bae890cd18014c8ee": {
      "model_module": "@jupyter-widgets/controls",
      "model_module_version": "2.0.0",
      "model_name": "TextStyleModel",
      "state": {
       "description_width": "",
       "font_size": null,
       "text_color": null
      }
     },
     "8dbff3f027074c83927fe3237b7c6dee": {
      "model_module": "@jupyter-widgets/controls",
      "model_module_version": "2.0.0",
      "model_name": "DescriptionStyleModel",
      "state": {
       "description_width": ""
      }
     },
     "8dc98c6bfccf48a2b737953f091adc64": {
      "model_module": "@jupyter-widgets/base",
      "model_module_version": "2.0.0",
      "model_name": "LayoutModel",
      "state": {}
     },
     "8de4ec5cd6854e478464facf095ac7b3": {
      "model_module": "@jupyter-widgets/controls",
      "model_module_version": "2.0.0",
      "model_name": "TextStyleModel",
      "state": {
       "description_width": "",
       "font_size": null,
       "text_color": null
      }
     },
     "8df2380f1d0e4c8583a78cca15b0238b": {
      "model_module": "@jupyter-widgets/base",
      "model_module_version": "2.0.0",
      "model_name": "LayoutModel",
      "state": {}
     },
     "8e29017603fc41cb925b5428e94914c8": {
      "model_module": "@jupyter-widgets/controls",
      "model_module_version": "2.0.0",
      "model_name": "CheckboxModel",
      "state": {
       "description": "NA values",
       "disabled": false,
       "layout": "IPY_MODEL_fbac7a4aee094ee58d4ad5c98c8b5ac3",
       "style": "IPY_MODEL_71057c15c713413a87d8a5daed96567f",
       "value": false
      }
     },
     "8e2c6ec609204c09bcea77fa54f77099": {
      "model_module": "@jupyter-widgets/controls",
      "model_module_version": "2.0.0",
      "model_name": "CheckboxStyleModel",
      "state": {
       "description_width": ""
      }
     },
     "8e4d78d07f52480e8c11982657eab7e2": {
      "model_module": "@jupyter-widgets/controls",
      "model_module_version": "2.0.0",
      "model_name": "TextModel",
      "state": {
       "description": "Separator:",
       "disabled": true,
       "layout": "IPY_MODEL_6602923e2e7a4d1baa79498d0c8075f5",
       "placeholder": "if many values",
       "style": "IPY_MODEL_57f1bf32969d4ba3be2fd9fbf83ea476"
      }
     },
     "8e66653ecfc04e639e500a3105f00eb3": {
      "model_module": "@jupyter-widgets/controls",
      "model_module_version": "2.0.0",
      "model_name": "DescriptionStyleModel",
      "state": {
       "description_width": ""
      }
     },
     "8e9c2ddb75d24acdaa96a1b601d4418f": {
      "model_module": "@jupyter-widgets/controls",
      "model_module_version": "2.0.0",
      "model_name": "TextModel",
      "state": {
       "continuous_update": false,
       "description": "Name:",
       "disabled": true,
       "layout": "IPY_MODEL_c6f156a8a2784885a3e0449c74b2bd69",
       "style": "IPY_MODEL_e114c5ba6eac4520bd5cae20c2f92e5e",
       "value": "improvement_surcharge"
      }
     },
     "8ea1911681514ea4a39cc1a710f55777": {
      "model_module": "@jupyter-widgets/controls",
      "model_module_version": "2.0.0",
      "model_name": "TextModel",
      "state": {
       "description": "NA values:",
       "layout": "IPY_MODEL_4c5a647ad66d4533a1ddab8d5d9a65dc",
       "style": "IPY_MODEL_5af38c1c979f47c4a6d7ca0096568363"
      }
     },
     "8ea2d2c714fc4da8bf6e2b1753966507": {
      "model_module": "@jupyter-widgets/base",
      "model_module_version": "2.0.0",
      "model_name": "LayoutModel",
      "state": {}
     },
     "8eaa787cc1924303ad78360f212df549": {
      "model_module": "@jupyter-widgets/controls",
      "model_module_version": "2.0.0",
      "model_name": "TextModel",
      "state": {
       "continuous_update": false,
       "description": "Name:",
       "disabled": true,
       "layout": "IPY_MODEL_6e6997976c894b1b9fbab66f3c961c8a",
       "style": "IPY_MODEL_1c8320c47670493fb4fff418d5543ebd",
       "value": "total_amount"
      }
     },
     "8eb3b221c1464f66a72f367246a05e1d": {
      "model_module": "@jupyter-widgets/controls",
      "model_module_version": "2.0.0",
      "model_name": "TextModel",
      "state": {
       "description": "NA values:",
       "layout": "IPY_MODEL_d06e7615cdcc450bb559ca7ce8686c11",
       "style": "IPY_MODEL_79f63d083273449ca3c5fae260899966"
      }
     },
     "8ebb2f94bd2549198b8c98607b27e24e": {
      "model_module": "@jupyter-widgets/base",
      "model_module_version": "2.0.0",
      "model_name": "LayoutModel",
      "state": {}
     },
     "8ec712ccb1be44a69349b6170d5d6de3": {
      "model_module": "@jupyter-widgets/controls",
      "model_module_version": "2.0.0",
      "model_name": "TextStyleModel",
      "state": {
       "description_width": "",
       "font_size": null,
       "text_color": null
      }
     },
     "8ec8349e8a334e56a25c8f1d560b7213": {
      "model_module": "@jupyter-widgets/base",
      "model_module_version": "2.0.0",
      "model_name": "LayoutModel",
      "state": {}
     },
     "8ecf800669854596bc5cc413aff00ed9": {
      "model_module": "@jupyter-widgets/controls",
      "model_module_version": "2.0.0",
      "model_name": "HBoxModel",
      "state": {
       "children": [
        "IPY_MODEL_3209d4f464fc457f9ffa48d233fe4eeb",
        "IPY_MODEL_7f5b82a5f093490893d7c0d87b834185",
        "IPY_MODEL_1cccae8f357d4796859d433fb3777149"
       ],
       "layout": "IPY_MODEL_20179dfb52554943b5f1a119012d3d21"
      }
     },
     "8f0a1eb1fbde4e9aafd4a57f1050113a": {
      "model_module": "@jupyter-widgets/controls",
      "model_module_version": "2.0.0",
      "model_name": "TextModel",
      "state": {
       "description": "Unique vals:",
       "layout": "IPY_MODEL_4358b79bc4b5495a85ba03f5e3b25902",
       "style": "IPY_MODEL_6e0ed39ba73a44bdbba2196319772218",
       "value": "6/99"
      }
     },
     "8f216dd92ac24b289a8f96c3dd3cd69f": {
      "model_module": "@jupyter-widgets/base",
      "model_module_version": "2.0.0",
      "model_name": "LayoutModel",
      "state": {}
     },
     "8f3afea41a794a2f9b31db90b2639d06": {
      "model_module": "@jupyter-widgets/controls",
      "model_module_version": "2.0.0",
      "model_name": "CheckboxModel",
      "state": {
       "description": "NA values",
       "disabled": false,
       "layout": "IPY_MODEL_54cdd61605414539b7dd43f9ef17cc5e",
       "style": "IPY_MODEL_e8839a5d6d714e6f88d207967adb4b5c",
       "value": false
      }
     },
     "8f68947b299e48d593f97ff0f3d6b901": {
      "model_module": "@jupyter-widgets/base",
      "model_module_version": "2.0.0",
      "model_name": "LayoutModel",
      "state": {}
     },
     "8f745dd21d854e549015c521d0a8fd34": {
      "model_module": "@jupyter-widgets/controls",
      "model_module_version": "2.0.0",
      "model_name": "DescriptionStyleModel",
      "state": {
       "description_width": ""
      }
     },
     "8f954a5e909f442ea07408323ff8c5a1": {
      "model_module": "@jupyter-widgets/controls",
      "model_module_version": "2.0.0",
      "model_name": "TextStyleModel",
      "state": {
       "description_width": "",
       "font_size": null,
       "text_color": null
      }
     },
     "8fb54d1c523146c492618c3aa575d34a": {
      "model_module": "@jupyter-widgets/controls",
      "model_module_version": "2.0.0",
      "model_name": "TextStyleModel",
      "state": {
       "description_width": "",
       "font_size": null,
       "text_color": null
      }
     },
     "9005dce43b1846f7a95f4c12e02b93ec": {
      "model_module": "@jupyter-widgets/controls",
      "model_module_version": "2.0.0",
      "model_name": "CheckboxModel",
      "state": {
       "description": "Use",
       "disabled": false,
       "layout": "IPY_MODEL_1cd0c8d0af5543fa8c9019989d344ad7",
       "style": "IPY_MODEL_4bc05525d79c4cfcbcd76732b0719b5b",
       "value": true
      }
     },
     "9017ff98786e426682c3784d1e1b309a": {
      "model_module": "@jupyter-widgets/base",
      "model_module_version": "2.0.0",
      "model_name": "LayoutModel",
      "state": {}
     },
     "902d8499ca9342439f2302c37242d7a5": {
      "model_module": "@jupyter-widgets/controls",
      "model_module_version": "2.0.0",
      "model_name": "TextStyleModel",
      "state": {
       "description_width": "",
       "font_size": null,
       "text_color": null
      }
     },
     "902f67ae54eb46ca81335470e7fdc973": {
      "model_module": "@jupyter-widgets/base",
      "model_module_version": "2.0.0",
      "model_name": "LayoutModel",
      "state": {}
     },
     "90757074512e430d8480e3376b53e1c2": {
      "model_module": "@jupyter-widgets/base",
      "model_module_version": "2.0.0",
      "model_name": "LayoutModel",
      "state": {}
     },
     "9088c03e55ca4d33848f6ffccbc5f9eb": {
      "model_module": "@jupyter-widgets/controls",
      "model_module_version": "2.0.0",
      "model_name": "TextStyleModel",
      "state": {
       "description_width": "",
       "font_size": null,
       "text_color": null
      }
     },
     "909809ee4c4845a985f937b804b56f7b": {
      "model_module": "@jupyter-widgets/controls",
      "model_module_version": "2.0.0",
      "model_name": "LabelModel",
      "state": {
       "layout": "IPY_MODEL_16b79b791f8c43a9aa2a1f4c4d35e005",
       "style": "IPY_MODEL_9c1adafeba8c4d5d903188bb14340e8e"
      }
     },
     "90be37357b354acc83b1a0ab887e2425": {
      "model_module": "@jupyter-widgets/controls",
      "model_module_version": "2.0.0",
      "model_name": "DescriptionStyleModel",
      "state": {
       "description_width": ""
      }
     },
     "90e9be0688d942749dca8a0f77137c46": {
      "model_module": "@jupyter-widgets/base",
      "model_module_version": "2.0.0",
      "model_name": "LayoutModel",
      "state": {}
     },
     "90fa0014e0bf431b94664ef3f516132c": {
      "model_module": "@jupyter-widgets/base",
      "model_module_version": "2.0.0",
      "model_name": "LayoutModel",
      "state": {}
     },
     "9117fdcb5f0b4a94bf5a93661cf4ee33": {
      "model_module": "@jupyter-widgets/controls",
      "model_module_version": "2.0.0",
      "model_name": "DropdownModel",
      "state": {
       "_options_labels": [
        "int8",
        "uint8",
        "int16",
        "uint16",
        "int32",
        "int64",
        "uint32",
        "uint64",
        "float32",
        "float64",
        "str"
       ],
       "description": "Retype:",
       "index": 9,
       "layout": "IPY_MODEL_97b0f32c98024142b1ba60f376120149",
       "style": "IPY_MODEL_c6d5fe0dd911424eb396439944993bf1"
      }
     },
     "911e4702fc214ac28cb1f43163253540": {
      "model_module": "@jupyter-widgets/base",
      "model_module_version": "2.0.0",
      "model_name": "LayoutModel",
      "state": {}
     },
     "911efa1b2c774c5ba3818ada3bbd51fb": {
      "model_module": "@jupyter-widgets/controls",
      "model_module_version": "2.0.0",
      "model_name": "TextModel",
      "state": {
       "description": "Separator:",
       "disabled": true,
       "layout": "IPY_MODEL_44894308b9fe496685a850b16223f0fe",
       "placeholder": "if many values",
       "style": "IPY_MODEL_261ddda26d0048ba92ceb682cbfce81e"
      }
     },
     "91a76da8b5cf4f599d13356adf91379f": {
      "model_module": "@jupyter-widgets/controls",
      "model_module_version": "2.0.0",
      "model_name": "CheckboxStyleModel",
      "state": {
       "description_width": ""
      }
     },
     "91ad58f6ac8e4568ba3b28578ecb9807": {
      "model_module": "@jupyter-widgets/controls",
      "model_module_version": "2.0.0",
      "model_name": "TextModel",
      "state": {
       "description": "Rename:",
       "layout": "IPY_MODEL_53479993f1f64fe5a9a008ca50828914",
       "style": "IPY_MODEL_56a47aa74e1c4be4a03109c748c38694",
       "value": "trip_distance"
      }
     },
     "91b45a9bc92843cf8bddc21b38c8b80a": {
      "model_module": "@jupyter-widgets/base",
      "model_module_version": "2.0.0",
      "model_name": "LayoutModel",
      "state": {}
     },
     "91f84d2fbc7a42ec9411e25519eb343c": {
      "model_module": "@jupyter-widgets/controls",
      "model_module_version": "2.0.0",
      "model_name": "TextStyleModel",
      "state": {
       "description_width": "",
       "font_size": null,
       "text_color": null
      }
     },
     "9225aaa8b950423b93b909f9a0fe6c08": {
      "model_module": "@jupyter-widgets/controls",
      "model_module_version": "2.0.0",
      "model_name": "DropdownModel",
      "state": {
       "_options_labels": [
        "int8",
        "uint8",
        "int16",
        "uint16",
        "int32",
        "int64",
        "uint32",
        "uint64",
        "float32",
        "float64",
        "str"
       ],
       "description": "Retype:",
       "index": 9,
       "layout": "IPY_MODEL_f276fe34e8244e41a6ffe41bed6be1cd",
       "style": "IPY_MODEL_f2489dd10f1b4107923b1602986abf71"
      }
     },
     "9229416180af40b08e6d7d7a46eac3ac": {
      "model_module": "@jupyter-widgets/controls",
      "model_module_version": "2.0.0",
      "model_name": "TextModel",
      "state": {
       "description": "Rename:",
       "layout": "IPY_MODEL_b8051de294e540f59281f5d60f892609",
       "style": "IPY_MODEL_4f2e5675d11a4546842f1f0293816063",
       "value": "tolls_amount"
      }
     },
     "9240ff447294461e82e40c2906693677": {
      "model_module": "@jupyter-widgets/controls",
      "model_module_version": "2.0.0",
      "model_name": "CheckboxModel",
      "state": {
       "description": "Use",
       "disabled": false,
       "layout": "IPY_MODEL_398c4259100842fd96a5c56258da1d01",
       "style": "IPY_MODEL_8e2c6ec609204c09bcea77fa54f77099",
       "value": false
      }
     },
     "92417544e594477fbf8dfb9e2d8af88e": {
      "model_module": "@jupyter-widgets/controls",
      "model_module_version": "2.0.0",
      "model_name": "TextStyleModel",
      "state": {
       "description_width": "",
       "font_size": null,
       "text_color": null
      }
     },
     "924fd25784694ccd8c25ad12a23326cc": {
      "model_module": "@jupyter-widgets/controls",
      "model_module_version": "2.0.0",
      "model_name": "TextModel",
      "state": {
       "description": "NA values:",
       "layout": "IPY_MODEL_421ce71df7c84fa8b506126959bce61d",
       "style": "IPY_MODEL_73cc5e1f2ec44e99b50840a9bdb86213"
      }
     },
     "9256c3caf2d64a719cfd082adbdd179b": {
      "model_module": "@jupyter-widgets/controls",
      "model_module_version": "2.0.0",
      "model_name": "TextModel",
      "state": {
       "continuous_update": false,
       "description": "True values",
       "layout": "IPY_MODEL_8b647e870c394fdca94528f5f1ede441",
       "style": "IPY_MODEL_4fcd86fffb4e431c826cc4b41403016f"
      }
     },
     "92702a0d3b1b482e9e5e7b1c14f8f03c": {
      "model_module": "@jupyter-widgets/base",
      "model_module_version": "2.0.0",
      "model_name": "LayoutModel",
      "state": {}
     },
     "929dab7083a8491f8782ebe1d6c86727": {
      "model_module": "@jupyter-widgets/base",
      "model_module_version": "2.0.0",
      "model_name": "LayoutModel",
      "state": {}
     },
     "92a19811d3a14d88be52a3b4ee08cfec": {
      "model_module": "@jupyter-widgets/controls",
      "model_module_version": "2.0.0",
      "model_name": "TextModel",
      "state": {
       "description": "NA values:",
       "layout": "IPY_MODEL_1cc5e7c9d1b6495392273dc17bdb8952",
       "style": "IPY_MODEL_a4c2d0f25e6e419f84d63231372c8d37"
      }
     },
     "92df23e8bc82421f9dc119761be673ec": {
      "model_module": "@jupyter-widgets/base",
      "model_module_version": "2.0.0",
      "model_name": "LayoutModel",
      "state": {}
     },
     "92dfa91ad1a44a9f9fc7be7f8918c9f3": {
      "model_module": "@jupyter-widgets/controls",
      "model_module_version": "2.0.0",
      "model_name": "TextModel",
      "state": {
       "description": "Type:",
       "disabled": true,
       "layout": "IPY_MODEL_3fe263d238f742e2904112f4ab618807",
       "style": "IPY_MODEL_39c34a1b785147fea22c9855d055a789",
       "value": "object"
      }
     },
     "9305502413e0484d8e63b13298c7d0c1": {
      "model_module": "@jupyter-widgets/base",
      "model_module_version": "2.0.0",
      "model_name": "LayoutModel",
      "state": {}
     },
     "930aeadc70e64c93b71f19823a518988": {
      "model_module": "@jupyter-widgets/controls",
      "model_module_version": "2.0.0",
      "model_name": "TextModel",
      "state": {
       "description": "Type:",
       "disabled": true,
       "layout": "IPY_MODEL_d3579f295ccf4d628b9b526282cf2918",
       "style": "IPY_MODEL_34785079b1cc4408b6e98d18725bae4b",
       "value": "object"
      }
     },
     "932d1671f23746d8a6c10c7f5aa275f5": {
      "model_module": "@jupyter-widgets/controls",
      "model_module_version": "2.0.0",
      "model_name": "TextModel",
      "state": {
       "description": "Unique vals:",
       "layout": "IPY_MODEL_a9453bf813944212bf06d1664cfcaf9d",
       "style": "IPY_MODEL_e594dae5552d429db7e3bbb38cc73db9",
       "value": "99/99"
      }
     },
     "933bbe3e107f48cdbfb0f3cd48006ec7": {
      "model_module": "@jupyter-widgets/controls",
      "model_module_version": "2.0.0",
      "model_name": "TextModel",
      "state": {
       "description": "Rename:",
       "layout": "IPY_MODEL_e91b98dba5ae4c9e9eb00e1bd551b858",
       "style": "IPY_MODEL_778ba375fe2e405d84611e479af6ca44",
       "value": "dropoff_longitude"
      }
     },
     "933ede2eb6b049daaa294ec85315caaf": {
      "model_module": "@jupyter-widgets/controls",
      "model_module_version": "2.0.0",
      "model_name": "TextModel",
      "state": {
       "continuous_update": false,
       "description": "Name:",
       "disabled": true,
       "layout": "IPY_MODEL_bc9f5b9f567c44bf805540ef02203026",
       "style": "IPY_MODEL_64bfc4b291804de19d3d12316e430438",
       "value": "RatecodeID"
      }
     },
     "93558999420546e487138dfee9761b86": {
      "model_module": "@jupyter-widgets/base",
      "model_module_version": "2.0.0",
      "model_name": "LayoutModel",
      "state": {}
     },
     "9368d186007348879738a815a5a01913": {
      "model_module": "@jupyter-widgets/base",
      "model_module_version": "2.0.0",
      "model_name": "LayoutModel",
      "state": {}
     },
     "9377e8cf2b8e42db86a0b4b9c4be09de": {
      "model_module": "@jupyter-widgets/base",
      "model_module_version": "2.0.0",
      "model_name": "LayoutModel",
      "state": {}
     },
     "937a7ed28eb94dd784494d71f2b39b4f": {
      "model_module": "@jupyter-widgets/controls",
      "model_module_version": "2.0.0",
      "model_name": "TextStyleModel",
      "state": {
       "description_width": "",
       "font_size": null,
       "text_color": null
      }
     },
     "937b18e385b0455d89338fb406fb85e1": {
      "model_module": "@jupyter-widgets/controls",
      "model_module_version": "2.0.0",
      "model_name": "DescriptionStyleModel",
      "state": {
       "description_width": ""
      }
     },
     "93804d556cbc4d60b1a4324b594cb187": {
      "model_module": "@jupyter-widgets/controls",
      "model_module_version": "2.0.0",
      "model_name": "TextStyleModel",
      "state": {
       "description_width": "",
       "font_size": null,
       "text_color": null
      }
     },
     "9390b58e3baf43cea0382c239ec439db": {
      "model_module": "@jupyter-widgets/controls",
      "model_module_version": "2.0.0",
      "model_name": "TextStyleModel",
      "state": {
       "description_width": "",
       "font_size": null,
       "text_color": null
      }
     },
     "939ed3fdb60247c8b3a0ec11b343d873": {
      "model_module": "@jupyter-widgets/base",
      "model_module_version": "2.0.0",
      "model_name": "LayoutModel",
      "state": {}
     },
     "93d6afd155334f9e959094d1ed07309e": {
      "model_module": "@jupyter-widgets/controls",
      "model_module_version": "2.0.0",
      "model_name": "DropdownModel",
      "state": {
       "_options_labels": [
        "int8",
        "uint8",
        "int16",
        "uint16",
        "int32",
        "int64",
        "uint32",
        "uint64",
        "float32",
        "float64",
        "str"
       ],
       "description": "Retype:",
       "index": 9,
       "layout": "IPY_MODEL_12bd462b92b64b6ea7e615649bfecfb0",
       "style": "IPY_MODEL_3b04e472a08c4f0fbafee78d4f129b9a"
      }
     },
     "93f2ea1c1a1947d489428a4a78ae8a63": {
      "model_module": "@jupyter-widgets/controls",
      "model_module_version": "2.0.0",
      "model_name": "VBoxModel",
      "state": {
       "children": [
        "IPY_MODEL_cd711cf5ea4941dab4b51f0cd735fbb0",
        "IPY_MODEL_1bf1aca844564520bf6341068165117f",
        "IPY_MODEL_aa5cb31ffcab402f8df0e2ea1e6460c8",
        "IPY_MODEL_709ca7fc63cb48fcbe7b3688e3238415",
        "IPY_MODEL_0c1c867867324fd9bc5cc7b352aa6b97",
        "IPY_MODEL_4776200a256d4737985869566ef61798",
        "IPY_MODEL_030b8191cdd24498b7511858627c3f39"
       ],
       "layout": "IPY_MODEL_8cdcbef3dbca4e70b22bf1cb0d5ac321"
      }
     },
     "93f6a463dd9b4352863f1214ef1e3fbb": {
      "model_module": "@jupyter-widgets/controls",
      "model_module_version": "2.0.0",
      "model_name": "CheckboxModel",
      "state": {
       "description": "Use",
       "disabled": false,
       "layout": "IPY_MODEL_d673d921d66c457c9c16a65f29bb0ace",
       "style": "IPY_MODEL_0e05b250fa5a48d79fe2a48058b7ffc4",
       "value": true
      }
     },
     "94018797502b4387a841f2ef30392dd2": {
      "model_module": "@jupyter-widgets/controls",
      "model_module_version": "2.0.0",
      "model_name": "TextModel",
      "state": {
       "description": "Separator:",
       "disabled": true,
       "layout": "IPY_MODEL_1b66cd36e59244f9915fe6326810839e",
       "placeholder": "if many values",
       "style": "IPY_MODEL_3b6acb363d1d408c9035584115430f6c"
      }
     },
     "943d136eefae4a19be812306a48cadd0": {
      "model_module": "@jupyter-widgets/base",
      "model_module_version": "2.0.0",
      "model_name": "LayoutModel",
      "state": {}
     },
     "944c0748005e4808a5fdeba5178adb74": {
      "model_module": "@jupyter-widgets/base",
      "model_module_version": "2.0.0",
      "model_name": "LayoutModel",
      "state": {}
     },
     "9459f8b674b042099ec3fc37c67fe73f": {
      "model_module": "@jupyter-widgets/controls",
      "model_module_version": "2.0.0",
      "model_name": "CheckboxModel",
      "state": {
       "description": "Use",
       "disabled": false,
       "layout": "IPY_MODEL_2d13fd447a4d4cc69108f56b3fc9d1aa",
       "style": "IPY_MODEL_f1df435f23e341de862d8bbd4e1b8c77",
       "value": true
      }
     },
     "946d392129fa4c97a3dc442f81cefddb": {
      "model_module": "@jupyter-widgets/controls",
      "model_module_version": "2.0.0",
      "model_name": "TextModel",
      "state": {
       "description": "Unique vals:",
       "layout": "IPY_MODEL_ea3aff93e1b54513a17280032e824325",
       "style": "IPY_MODEL_da87caef0a544540a6adc8cb0faea7b9",
       "value": "99/99"
      }
     },
     "949ee3294f0d4ab6916436a68eea9eb7": {
      "model_module": "@jupyter-widgets/controls",
      "model_module_version": "2.0.0",
      "model_name": "LabelModel",
      "state": {
       "layout": "IPY_MODEL_97c4d4295967492c84f369f14153e335",
       "style": "IPY_MODEL_760c17e73900469cb8f1700696ab71be",
       "value": "dongle"
      }
     },
     "94d29f07d5544d798a7bc7bd50e47a61": {
      "model_module": "@jupyter-widgets/controls",
      "model_module_version": "2.0.0",
      "model_name": "TextStyleModel",
      "state": {
       "description_width": "",
       "font_size": null,
       "text_color": null
      }
     },
     "94f84286da444d3da718f17d8a6854a9": {
      "model_module": "@jupyter-widgets/base",
      "model_module_version": "2.0.0",
      "model_name": "LayoutModel",
      "state": {}
     },
     "950ef669367b4d2d913656faebae02eb": {
      "model_module": "@jupyter-widgets/controls",
      "model_module_version": "2.0.0",
      "model_name": "CheckboxModel",
      "state": {
       "description": "NA values",
       "disabled": false,
       "layout": "IPY_MODEL_fc18309beb2c4850b1e41e552c74bbcc",
       "style": "IPY_MODEL_5f576358fb244bd78679c1d5795fb010",
       "value": false
      }
     },
     "95c23709d6714576bcee1ffc8b93627a": {
      "model_module": "@jupyter-widgets/controls",
      "model_module_version": "2.0.0",
      "model_name": "TextModel",
      "state": {
       "description": "Rename:",
       "layout": "IPY_MODEL_20b9052a1b3f4e9eb01d19bcbcce39cc",
       "style": "IPY_MODEL_0515a19cd84f4fa3847ffc2908920d50",
       "value": "trip_distance"
      }
     },
     "96136525546c40ba8dec57a3bcce4997": {
      "model_module": "@jupyter-widgets/controls",
      "model_module_version": "2.0.0",
      "model_name": "VBoxModel",
      "state": {
       "children": [
        "IPY_MODEL_ed429792b84d491a981f44f06edf5c25",
        "IPY_MODEL_2c5d0b2a571e433783ed1877261e8beb",
        "IPY_MODEL_930aeadc70e64c93b71f19823a518988",
        "IPY_MODEL_41819813ed2845a48cd896d4657045e4",
        "IPY_MODEL_401eff22deb6421aa00ac951e26aed88",
        "IPY_MODEL_86e1c0f6ef604e75a30c3ac706db5b65",
        "IPY_MODEL_b43a0234162644c5a98818e7ea806d70"
       ],
       "layout": "IPY_MODEL_776c6961434e43648082e8666be1309e"
      }
     },
     "961cfb0140c44555ae8950580a429dae": {
      "model_module": "@jupyter-widgets/base",
      "model_module_version": "2.0.0",
      "model_name": "LayoutModel",
      "state": {}
     },
     "962a7b59cf4c4ec082eba6fea90e2642": {
      "model_module": "@jupyter-widgets/controls",
      "model_module_version": "2.0.0",
      "model_name": "TextStyleModel",
      "state": {
       "description_width": "",
       "font_size": null,
       "text_color": null
      }
     },
     "96441f0061fc4af5a91dc0f477311d45": {
      "model_module": "@jupyter-widgets/base",
      "model_module_version": "2.0.0",
      "model_name": "LayoutModel",
      "state": {}
     },
     "9644d6becf1944f7b979cd87ef3fb07e": {
      "model_module": "@jupyter-widgets/base",
      "model_module_version": "2.0.0",
      "model_name": "LayoutModel",
      "state": {}
     },
     "96719162179d46db926b6c5eb06827d4": {
      "model_module": "@jupyter-widgets/base",
      "model_module_version": "2.0.0",
      "model_name": "LayoutModel",
      "state": {}
     },
     "9699e3834097442cb78f4c6bcdcfc9ef": {
      "model_module": "@jupyter-widgets/controls",
      "model_module_version": "2.0.0",
      "model_name": "TextModel",
      "state": {
       "description": "NA values:",
       "layout": "IPY_MODEL_4a25b9970b09413a904c29f550d28205",
       "style": "IPY_MODEL_375d096952104d79bafb7fc6190ca41b"
      }
     },
     "969aa072275d4bd0adfbe324a8063e62": {
      "model_module": "@jupyter-widgets/base",
      "model_module_version": "2.0.0",
      "model_name": "LayoutModel",
      "state": {}
     },
     "96c37dc3b36f4608adcb18d244a7fdf6": {
      "model_module": "@jupyter-widgets/controls",
      "model_module_version": "2.0.0",
      "model_name": "TextModel",
      "state": {
       "description": "NA values:",
       "layout": "IPY_MODEL_016e96bd01274a7b9ec5613c799a6ab3",
       "style": "IPY_MODEL_af6ae0e9adc348a4adba5b83d651e1bb"
      }
     },
     "96d77fa7784e42d5b46c30ab7a9b26ac": {
      "model_module": "@jupyter-widgets/base",
      "model_module_version": "2.0.0",
      "model_name": "LayoutModel",
      "state": {}
     },
     "96e04c169619496aa2c1529407eb53e5": {
      "model_module": "@jupyter-widgets/controls",
      "model_module_version": "2.0.0",
      "model_name": "CheckboxStyleModel",
      "state": {
       "description_width": ""
      }
     },
     "96f1b6f568a042ee9b10c582d68fceae": {
      "model_module": "@jupyter-widgets/controls",
      "model_module_version": "2.0.0",
      "model_name": "VBoxModel",
      "state": {
       "children": [
        "IPY_MODEL_9810153303b643ab99c5a292dacb8085",
        "IPY_MODEL_a85195a7dcc44db98906f3fca25454fa",
        "IPY_MODEL_3b59a1d1ec6b49fba87b8c2f7a647c03",
        "IPY_MODEL_f43194f7ee9f4c48858c123f702ca544",
        "IPY_MODEL_bac68ec6240e4addbe762c092fff4b0e",
        "IPY_MODEL_d14621924aa74bcd8e726d8a35c92595",
        "IPY_MODEL_14ed76c1d08a41489c13ba9d9f21200d"
       ],
       "layout": "IPY_MODEL_aec992c702ff4fb6be9791811e23ab50"
      }
     },
     "973681f59913436fb2b7c45f5ed44308": {
      "model_module": "@jupyter-widgets/base",
      "model_module_version": "2.0.0",
      "model_name": "LayoutModel",
      "state": {}
     },
     "97685c81a5e24eebabe70e04316ac830": {
      "model_module": "@jupyter-widgets/controls",
      "model_module_version": "2.0.0",
      "model_name": "CheckboxStyleModel",
      "state": {
       "description_width": ""
      }
     },
     "97b0f32c98024142b1ba60f376120149": {
      "model_module": "@jupyter-widgets/base",
      "model_module_version": "2.0.0",
      "model_name": "LayoutModel",
      "state": {}
     },
     "97bb79e716834596b922d482cbeb3d63": {
      "model_module": "@jupyter-widgets/controls",
      "model_module_version": "2.0.0",
      "model_name": "DescriptionStyleModel",
      "state": {
       "description_width": ""
      }
     },
     "97c4d4295967492c84f369f14153e335": {
      "model_module": "@jupyter-widgets/base",
      "model_module_version": "2.0.0",
      "model_name": "LayoutModel",
      "state": {
       "visibility": "hidden"
      }
     },
     "97e594db509048ac8934bf71d417591b": {
      "model_module": "@jupyter-widgets/controls",
      "model_module_version": "2.0.0",
      "model_name": "TextModel",
      "state": {
       "description": "Rename:",
       "layout": "IPY_MODEL_eecc4f2f0e024cf48ded03b5e44c59a7",
       "style": "IPY_MODEL_bb969d2c88994efc96f75a9e584f5371",
       "value": "RateCodeID"
      }
     },
     "9810153303b643ab99c5a292dacb8085": {
      "model_module": "@jupyter-widgets/controls",
      "model_module_version": "2.0.0",
      "model_name": "TextModel",
      "state": {
       "continuous_update": false,
       "description": "Name:",
       "disabled": true,
       "layout": "IPY_MODEL_44a3f210fa91445ebdf1400c61f45b2d",
       "style": "IPY_MODEL_4e80c98c88604da4a0c3f467a278bcac",
       "value": "VendorID"
      }
     },
     "986cfa1f032343dea980a35dc45fceac": {
      "model_module": "@jupyter-widgets/controls",
      "model_module_version": "2.0.0",
      "model_name": "TextStyleModel",
      "state": {
       "description_width": "",
       "font_size": null,
       "text_color": null
      }
     },
     "98784487c1ce4d7a9c217bad3455456b": {
      "model_module": "@jupyter-widgets/base",
      "model_module_version": "2.0.0",
      "model_name": "LayoutModel",
      "state": {}
     },
     "988ab984f7ed457e86272aaa6406c7b2": {
      "model_module": "@jupyter-widgets/base",
      "model_module_version": "2.0.0",
      "model_name": "LayoutModel",
      "state": {}
     },
     "98942603fcef49a69b09c81a7c1033eb": {
      "model_module": "@jupyter-widgets/base",
      "model_module_version": "2.0.0",
      "model_name": "LayoutModel",
      "state": {}
     },
     "98ab2dacf48648d99e69f59947e4e033": {
      "model_module": "@jupyter-widgets/base",
      "model_module_version": "2.0.0",
      "model_name": "LayoutModel",
      "state": {}
     },
     "98e96375d8fe4116899800373b805383": {
      "model_module": "@jupyter-widgets/controls",
      "model_module_version": "2.0.0",
      "model_name": "TextStyleModel",
      "state": {
       "description_width": "",
       "font_size": null,
       "text_color": null
      }
     },
     "99086ae78b1c47478459af479ad00369": {
      "model_module": "@jupyter-widgets/controls",
      "model_module_version": "2.0.0",
      "model_name": "DropdownModel",
      "state": {
       "_options_labels": [
        "int8",
        "uint8",
        "int16",
        "uint16",
        "int32",
        "int64",
        "uint32",
        "uint64",
        "float32",
        "float64",
        "str"
       ],
       "description": "Retype:",
       "disabled": true,
       "index": 9,
       "layout": "IPY_MODEL_569a574be16d4341b566fe626e8e6864",
       "style": "IPY_MODEL_8e66653ecfc04e639e500a3105f00eb3"
      }
     },
     "99aa056561e1462e92ec730423bdac4a": {
      "model_module": "@jupyter-widgets/base",
      "model_module_version": "2.0.0",
      "model_name": "LayoutModel",
      "state": {}
     },
     "99b28cbd80264a64b67315f15f8bd65c": {
      "model_module": "@jupyter-widgets/controls",
      "model_module_version": "2.0.0",
      "model_name": "TextModel",
      "state": {
       "description": "Separator:",
       "disabled": true,
       "layout": "IPY_MODEL_dc3098e36bad4b17a653097041a5d980",
       "placeholder": "if many values",
       "style": "IPY_MODEL_5335331470174c12a512076a5656dd72"
      }
     },
     "9a0796a7a85549a885e8b29c2f3679aa": {
      "model_module": "@jupyter-widgets/controls",
      "model_module_version": "2.0.0",
      "model_name": "TextModel",
      "state": {
       "description": "NA values:",
       "layout": "IPY_MODEL_6df01f5f2b2f4c1a80fc14761f1e8a0f",
       "style": "IPY_MODEL_ae7121690220422b8e778027a4f03a6a"
      }
     },
     "9a15076a29d9480180b9870f9fda45a2": {
      "model_module": "@jupyter-widgets/base",
      "model_module_version": "2.0.0",
      "model_name": "LayoutModel",
      "state": {}
     },
     "9a29b4a909e54535a3a5c3a12ea97a13": {
      "model_module": "@jupyter-widgets/controls",
      "model_module_version": "2.0.0",
      "model_name": "TextStyleModel",
      "state": {
       "description_width": "",
       "font_size": null,
       "text_color": null
      }
     },
     "9a85b8836418468fb781ba4ec28d9b1e": {
      "model_module": "@jupyter-widgets/controls",
      "model_module_version": "2.0.0",
      "model_name": "CheckboxStyleModel",
      "state": {
       "description_width": ""
      }
     },
     "9aaf9c5548e64775bae57e73db1b4671": {
      "model_module": "@jupyter-widgets/base",
      "model_module_version": "2.0.0",
      "model_name": "LayoutModel",
      "state": {}
     },
     "9ab0403ff6be4bedb05f8686a270a606": {
      "model_module": "@jupyter-widgets/controls",
      "model_module_version": "2.0.0",
      "model_name": "DescriptionStyleModel",
      "state": {
       "description_width": ""
      }
     },
     "9acb6d700d5e4ca1a9108c3cce1b8a81": {
      "model_module": "@jupyter-widgets/base",
      "model_module_version": "2.0.0",
      "model_name": "LayoutModel",
      "state": {}
     },
     "9acfa6aea684405c8f85c92f9ce2f833": {
      "model_module": "@jupyter-widgets/base",
      "model_module_version": "2.0.0",
      "model_name": "LayoutModel",
      "state": {}
     },
     "9aecf062f3b64a55a8d76a8d4c213993": {
      "model_module": "@jupyter-widgets/controls",
      "model_module_version": "2.0.0",
      "model_name": "TextStyleModel",
      "state": {
       "description_width": "",
       "font_size": null,
       "text_color": null
      }
     },
     "9af33fd2da2744f1a18fd6d1e2b2f9a2": {
      "model_module": "@jupyter-widgets/controls",
      "model_module_version": "2.0.0",
      "model_name": "TextModel",
      "state": {
       "description": "Rename:",
       "layout": "IPY_MODEL_ada756b75f6b4717b8092078cd374304",
       "style": "IPY_MODEL_fba6107f88e842949ab28ac50ca6d5a8",
       "value": "passenger_count"
      }
     },
     "9af5f1cbcb7242d493d23d76f0b7f0eb": {
      "model_module": "@jupyter-widgets/base",
      "model_module_version": "2.0.0",
      "model_name": "LayoutModel",
      "state": {}
     },
     "9af9276788ce435d826c8e907171dd0f": {
      "model_module": "@jupyter-widgets/controls",
      "model_module_version": "2.0.0",
      "model_name": "TextModel",
      "state": {
       "continuous_update": false,
       "description": "Name:",
       "disabled": true,
       "layout": "IPY_MODEL_5593fa17531d452fa610f06ba08f3a47",
       "style": "IPY_MODEL_9f7af3b69bad4f76adf4a194117571cf",
       "value": "payment_type"
      }
     },
     "9b07f2d2bc8f4f9990842ee156edd3c4": {
      "model_module": "@jupyter-widgets/controls",
      "model_module_version": "2.0.0",
      "model_name": "TextModel",
      "state": {
       "description": "Type:",
       "disabled": true,
       "layout": "IPY_MODEL_012622a37397427e9c7b3f88a7fddcbf",
       "style": "IPY_MODEL_7147c3b058044f2293c7186c126abb67",
       "value": "float64"
      }
     },
     "9b25e1f05f3f41139fdec4ada3747aa3": {
      "model_module": "@jupyter-widgets/controls",
      "model_module_version": "2.0.0",
      "model_name": "TextStyleModel",
      "state": {
       "description_width": "",
       "font_size": null,
       "text_color": null
      }
     },
     "9b445106fb1d446e9931c9d9c8c11b44": {
      "model_module": "@jupyter-widgets/controls",
      "model_module_version": "2.0.0",
      "model_name": "HTMLModel",
      "state": {
       "layout": "IPY_MODEL_1858cd583e5a4bc8bcbb1ca29dd43d1e",
       "style": "IPY_MODEL_f9a7b6ce37a145c683d244b264892ea3",
       "value": "<div>\n<style scoped>\n    .dataframe tbody tr th:only-of-type {\n        vertical-align: middle;\n    }\n\n    .dataframe tbody tr th {\n        vertical-align: top;\n    }\n\n    .dataframe thead th {\n        text-align: right;\n    }\n</style>\n<table border=\"1\" class=\"dataframe\">\n  <thead>\n    <tr style=\"text-align: right;\">\n      <th></th>\n      <th>Unnamed: 0</th>\n      <th>VendorID</th>\n      <th>tpep_pickup_datetime</th>\n      <th>tpep_dropoff_datetime</th>\n      <th>passenger_count</th>\n      <th>trip_distance</th>\n      <th>pickup_longitude</th>\n      <th>pickup_latitude</th>\n      <th>RateCodeID</th>\n      <th>store_and_fwd_flag</th>\n      <th>dropoff_longitude</th>\n      <th>dropoff_latitude</th>\n      <th>payment_type</th>\n      <th>fare_amount</th>\n      <th>extra</th>\n      <th>mta_tax</th>\n      <th>tip_amount</th>\n      <th>tolls_amount</th>\n      <th>improvement_surcharge</th>\n      <th>total_amount</th>\n      <th>RatecodeID</th>\n    </tr>\n  </thead>\n  <tbody>\n    <tr>\n      <th>0</th>\n      <td>0</td>\n      <td>1</td>\n      <td>2015-08-16 04:08:05</td>\n      <td>2015-08-16 04:25:54</td>\n      <td>2</td>\n      <td>7.70</td>\n      <td>-73.987778</td>\n      <td>40.719315</td>\n      <td>NaN</td>\n      <td>N</td>\n      <td>-73.970329</td>\n      <td>40.796593</td>\n      <td>2</td>\n      <td>23.5</td>\n      <td>0.5</td>\n      <td>0.5</td>\n      <td>0.00</td>\n      <td>0.00</td>\n      <td>0.3</td>\n      <td>24.80</td>\n      <td>1.0</td>\n    </tr>\n    <tr>\n      <th>1</th>\n      <td>1</td>\n      <td>1</td>\n      <td>2015-02-14 19:52:51</td>\n      <td>2015-02-14 19:55:28</td>\n      <td>1</td>\n      <td>0.80</td>\n      <td>-73.955284</td>\n      <td>40.773518</td>\n      <td>1.0</td>\n      <td>N</td>\n      <td>-73.950249</td>\n      <td>40.783691</td>\n      <td>1</td>\n      <td>4.5</td>\n      <td>0.0</td>\n      <td>0.5</td>\n      <td>1.00</td>\n      <td>0.00</td>\n      <td>0.3</td>\n      <td>6.30</td>\n      <td>NaN</td>\n    </tr>\n    <tr>\n      <th>2</th>\n      <td>2</td>\n      <td>1</td>\n      <td>2015-02-03 20:50:28</td>\n      <td>2015-02-03 20:55:13</td>\n      <td>1</td>\n      <td>0.90</td>\n      <td>-73.994888</td>\n      <td>40.739868</td>\n      <td>1.0</td>\n      <td>N</td>\n      <td>-73.991257</td>\n      <td>40.750072</td>\n      <td>2</td>\n      <td>5.5</td>\n      <td>0.5</td>\n      <td>0.5</td>\n      <td>0.00</td>\n      <td>0.00</td>\n      <td>0.3</td>\n      <td>6.80</td>\n      <td>NaN</td>\n    </tr>\n    <tr>\n      <th>3</th>\n      <td>3</td>\n      <td>2</td>\n      <td>2015-11-23 01:13:45</td>\n      <td>2015-11-23 01:22:26</td>\n      <td>2</td>\n      <td>2.21</td>\n      <td>-73.956482</td>\n      <td>40.771172</td>\n      <td>NaN</td>\n      <td>N</td>\n      <td>-73.978943</td>\n      <td>40.777279</td>\n      <td>1</td>\n      <td>9.0</td>\n      <td>0.5</td>\n      <td>0.5</td>\n      <td>2.06</td>\n      <td>0.00</td>\n      <td>0.3</td>\n      <td>12.36</td>\n      <td>1.0</td>\n    </tr>\n    <tr>\n      <th>4</th>\n      <td>4</td>\n      <td>2</td>\n      <td>2015-03-10 06:21:42</td>\n      <td>2015-03-10 06:25:32</td>\n      <td>1</td>\n      <td>0.83</td>\n      <td>-73.954742</td>\n      <td>40.773392</td>\n      <td>1.0</td>\n      <td>N</td>\n      <td>-73.950684</td>\n      <td>40.783211</td>\n      <td>1</td>\n      <td>5.0</td>\n      <td>0.0</td>\n      <td>0.5</td>\n      <td>1.16</td>\n      <td>0.00</td>\n      <td>0.3</td>\n      <td>6.96</td>\n      <td>NaN</td>\n    </tr>\n    <tr>\n      <th>5</th>\n      <td>5</td>\n      <td>1</td>\n      <td>2015-10-01 00:25:04</td>\n      <td>2015-10-01 00:43:39</td>\n      <td>1</td>\n      <td>4.30</td>\n      <td>-73.989395</td>\n      <td>40.723057</td>\n      <td>NaN</td>\n      <td>N</td>\n      <td>-73.981972</td>\n      <td>40.770149</td>\n      <td>2</td>\n      <td>16.0</td>\n      <td>0.5</td>\n      <td>0.5</td>\n      <td>0.00</td>\n      <td>0.00</td>\n      <td>0.3</td>\n      <td>17.30</td>\n      <td>1.0</td>\n    </tr>\n    <tr>\n      <th>6</th>\n      <td>6</td>\n      <td>2</td>\n      <td>2015-06-01 00:07:41</td>\n      <td>2015-06-01 00:43:42</td>\n      <td>1</td>\n      <td>18.57</td>\n      <td>-73.780968</td>\n      <td>40.645081</td>\n      <td>2.0</td>\n      <td>N</td>\n      <td>-73.970619</td>\n      <td>40.758522</td>\n      <td>1</td>\n      <td>52.0</td>\n      <td>0.0</td>\n      <td>0.5</td>\n      <td>0.00</td>\n      <td>0.00</td>\n      <td>0.3</td>\n      <td>52.80</td>\n      <td>NaN</td>\n    </tr>\n    <tr>\n      <th>7</th>\n      <td>7</td>\n      <td>1</td>\n      <td>2015-08-16 04:17:30</td>\n      <td>2015-08-16 04:45:21</td>\n      <td>1</td>\n      <td>8.50</td>\n      <td>-74.001144</td>\n      <td>40.731625</td>\n      <td>NaN</td>\n      <td>N</td>\n      <td>-73.873734</td>\n      <td>40.756718</td>\n      <td>2</td>\n      <td>27.5</td>\n      <td>0.5</td>\n      <td>0.5</td>\n      <td>0.00</td>\n      <td>0.00</td>\n      <td>0.3</td>\n      <td>28.80</td>\n      <td>1.0</td>\n    </tr>\n    <tr>\n      <th>8</th>\n      <td>8</td>\n      <td>1</td>\n      <td>2015-08-16 05:33:06</td>\n      <td>2015-08-16 06:01:07</td>\n      <td>1</td>\n      <td>17.90</td>\n      <td>-73.978195</td>\n      <td>40.762524</td>\n      <td>NaN</td>\n      <td>N</td>\n      <td>-73.776756</td>\n      <td>40.644787</td>\n      <td>1</td>\n      <td>52.0</td>\n      <td>0.0</td>\n      <td>0.5</td>\n      <td>11.65</td>\n      <td>5.54</td>\n      <td>0.3</td>\n      <td>69.99</td>\n      <td>2.0</td>\n    </tr>\n    <tr>\n      <th>9</th>\n      <td>9</td>\n      <td>1</td>\n      <td>2015-05-11 14:39:11</td>\n      <td>2015-05-11 14:49:53</td>\n      <td>1</td>\n      <td>1.10</td>\n      <td>-73.984550</td>\n      <td>40.732231</td>\n      <td>1.0</td>\n      <td>N</td>\n      <td>-73.987244</td>\n      <td>40.744057</td>\n      <td>2</td>\n      <td>8.5</td>\n      <td>0.0</td>\n      <td>0.5</td>\n      <td>0.00</td>\n      <td>0.00</td>\n      <td>0.3</td>\n      <td>9.30</td>\n      <td>NaN</td>\n    </tr>\n    <tr>\n      <th>10</th>\n      <td>10</td>\n      <td>2</td>\n      <td>2015-01-18 17:19:43</td>\n      <td>2015-01-18 17:51:30</td>\n      <td>1</td>\n      <td>19.57</td>\n      <td>-73.993759</td>\n      <td>40.751652</td>\n      <td>3.0</td>\n      <td>N</td>\n      <td>-74.177040</td>\n      <td>40.694889</td>\n      <td>1</td>\n      <td>70.0</td>\n      <td>0.0</td>\n      <td>0.0</td>\n      <td>24.52</td>\n      <td>11.75</td>\n      <td>0.3</td>\n      <td>106.57</td>\n      <td>NaN</td>\n    </tr>\n    <tr>\n      <th>11</th>\n      <td>11</td>\n      <td>1</td>\n      <td>2015-01-23 23:07:32</td>\n      <td>2015-01-23 23:10:34</td>\n      <td>1</td>\n      <td>0.70</td>\n      <td>-73.930817</td>\n      <td>40.744308</td>\n      <td>1.0</td>\n      <td>N</td>\n      <td>-73.936485</td>\n      <td>40.736130</td>\n      <td>2</td>\n      <td>4.5</td>\n      <td>0.5</td>\n      <td>0.5</td>\n      <td>0.00</td>\n      <td>0.00</td>\n      <td>0.3</td>\n      <td>5.80</td>\n      <td>NaN</td>\n    </tr>\n    <tr>\n      <th>12</th>\n      <td>12</td>\n      <td>2</td>\n      <td>2015-04-21 08:27:08</td>\n      <td>2015-04-21 08:36:27</td>\n      <td>1</td>\n      <td>1.05</td>\n      <td>-73.987457</td>\n      <td>40.750641</td>\n      <td>1.0</td>\n      <td>N</td>\n      <td>-73.983910</td>\n      <td>40.762039</td>\n      <td>1</td>\n      <td>7.5</td>\n      <td>0.0</td>\n      <td>0.5</td>\n      <td>2.49</td>\n      <td>0.00</td>\n      <td>0.3</td>\n      <td>10.79</td>\n      <td>NaN</td>\n    </tr>\n    <tr>\n      <th>13</th>\n      <td>13</td>\n      <td>1</td>\n      <td>2015-05-24 23:06:48</td>\n      <td>2015-05-24 23:24:26</td>\n      <td>4</td>\n      <td>3.10</td>\n      <td>-73.996452</td>\n      <td>40.721905</td>\n      <td>1.0</td>\n      <td>N</td>\n      <td>-73.985558</td>\n      <td>40.759995</td>\n      <td>1</td>\n      <td>14.5</td>\n      <td>0.5</td>\n      <td>0.5</td>\n      <td>3.00</td>\n      <td>0.00</td>\n      <td>0.3</td>\n      <td>18.80</td>\n      <td>NaN</td>\n    </tr>\n    <tr>\n      <th>14</th>\n      <td>14</td>\n      <td>1</td>\n      <td>2015-05-14 11:58:39</td>\n      <td>2015-05-14 12:04:06</td>\n      <td>1</td>\n      <td>0.80</td>\n      <td>-73.980240</td>\n      <td>40.754028</td>\n      <td>1.0</td>\n      <td>N</td>\n      <td>-73.988373</td>\n      <td>40.744808</td>\n      <td>2</td>\n      <td>5.5</td>\n      <td>0.0</td>\n      <td>0.5</td>\n      <td>0.00</td>\n      <td>0.00</td>\n      <td>0.3</td>\n      <td>6.30</td>\n      <td>NaN</td>\n    </tr>\n    <tr>\n      <th>15</th>\n      <td>15</td>\n      <td>2</td>\n      <td>2015-06-01 00:06:23</td>\n      <td>2015-06-01 00:25:56</td>\n      <td>3</td>\n      <td>9.60</td>\n      <td>-73.862846</td>\n      <td>40.768791</td>\n      <td>1.0</td>\n      <td>N</td>\n      <td>-73.983101</td>\n      <td>40.734985</td>\n      <td>1</td>\n      <td>28.0</td>\n      <td>0.5</td>\n      <td>0.5</td>\n      <td>6.97</td>\n      <td>5.54</td>\n      <td>0.3</td>\n      <td>41.81</td>\n      <td>NaN</td>\n    </tr>\n    <tr>\n      <th>16</th>\n      <td>16</td>\n      <td>1</td>\n      <td>2015-08-16 04:12:50</td>\n      <td>2015-08-16 04:17:56</td>\n      <td>1</td>\n      <td>0.60</td>\n      <td>-73.983368</td>\n      <td>40.726257</td>\n      <td>NaN</td>\n      <td>N</td>\n      <td>-73.989906</td>\n      <td>40.719250</td>\n      <td>1</td>\n      <td>5.5</td>\n      <td>0.5</td>\n      <td>0.5</td>\n      <td>1.00</td>\n      <td>0.00</td>\n      <td>0.3</td>\n      <td>7.80</td>\n      <td>1.0</td>\n    </tr>\n    <tr>\n      <th>17</th>\n      <td>17</td>\n      <td>1</td>\n      <td>2015-04-05 10:11:02</td>\n      <td>2015-04-05 10:14:01</td>\n      <td>2</td>\n      <td>0.60</td>\n      <td>-73.993484</td>\n      <td>40.752125</td>\n      <td>1.0</td>\n      <td>N</td>\n      <td>-73.986992</td>\n      <td>40.757599</td>\n      <td>1</td>\n      <td>4.5</td>\n      <td>0.0</td>\n      <td>0.5</td>\n      <td>1.05</td>\n      <td>0.00</td>\n      <td>0.3</td>\n      <td>6.35</td>\n      <td>NaN</td>\n    </tr>\n    <tr>\n      <th>18</th>\n      <td>18</td>\n      <td>2</td>\n      <td>2015-04-03 08:36:11</td>\n      <td>2015-04-03 09:01:02</td>\n      <td>4</td>\n      <td>11.63</td>\n      <td>-73.980797</td>\n      <td>40.738033</td>\n      <td>1.0</td>\n      <td>N</td>\n      <td>-73.962502</td>\n      <td>40.625046</td>\n      <td>1</td>\n      <td>34.5</td>\n      <td>0.0</td>\n      <td>0.5</td>\n      <td>5.00</td>\n      <td>5.54</td>\n      <td>0.3</td>\n      <td>45.84</td>\n      <td>NaN</td>\n    </tr>\n    <tr>\n      <th>19</th>\n      <td>19</td>\n      <td>1</td>\n      <td>2015-01-28 08:50:29</td>\n      <td>2015-01-28 08:56:52</td>\n      <td>2</td>\n      <td>0.90</td>\n      <td>-73.995735</td>\n      <td>40.726719</td>\n      <td>1.0</td>\n      <td>N</td>\n      <td>-73.986198</td>\n      <td>40.734501</td>\n      <td>2</td>\n      <td>6.0</td>\n      <td>0.0</td>\n      <td>0.5</td>\n      <td>0.00</td>\n      <td>0.00</td>\n      <td>0.3</td>\n      <td>6.80</td>\n      <td>NaN</td>\n    </tr>\n    <tr>\n      <th>20</th>\n      <td>20</td>\n      <td>1</td>\n      <td>2015-02-14 17:29:57</td>\n      <td>2015-02-14 17:49:26</td>\n      <td>1</td>\n      <td>2.40</td>\n      <td>-74.005608</td>\n      <td>40.745670</td>\n      <td>1.0</td>\n      <td>N</td>\n      <td>-73.999382</td>\n      <td>40.719612</td>\n      <td>1</td>\n      <td>13.5</td>\n      <td>0.0</td>\n      <td>0.5</td>\n      <td>2.85</td>\n      <td>0.00</td>\n      <td>0.3</td>\n      <td>17.15</td>\n      <td>NaN</td>\n    </tr>\n    <tr>\n      <th>21</th>\n      <td>21</td>\n      <td>2</td>\n      <td>2015-12-04 19:18:49</td>\n      <td>2015-12-04 19:43:19</td>\n      <td>1</td>\n      <td>7.69</td>\n      <td>-73.886063</td>\n      <td>40.772766</td>\n      <td>NaN</td>\n      <td>N</td>\n      <td>-73.961754</td>\n      <td>40.796268</td>\n      <td>1</td>\n      <td>25.0</td>\n      <td>1.0</td>\n      <td>0.5</td>\n      <td>3.00</td>\n      <td>5.54</td>\n      <td>0.3</td>\n      <td>35.34</td>\n      <td>1.0</td>\n    </tr>\n    <tr>\n      <th>22</th>\n      <td>22</td>\n      <td>2</td>\n      <td>2015-04-28 11:48:59</td>\n      <td>2015-04-28 11:53:57</td>\n      <td>1</td>\n      <td>0.86</td>\n      <td>-73.980972</td>\n      <td>40.784523</td>\n      <td>1.0</td>\n      <td>N</td>\n      <td>-73.989403</td>\n      <td>40.776436</td>\n      <td>1</td>\n      <td>5.5</td>\n      <td>0.0</td>\n      <td>0.5</td>\n      <td>1.26</td>\n      <td>0.00</td>\n      <td>0.3</td>\n      <td>7.56</td>\n      <td>NaN</td>\n    </tr>\n    <tr>\n      <th>23</th>\n      <td>23</td>\n      <td>2</td>\n      <td>2015-06-02 11:29:21</td>\n      <td>2015-06-02 12:58:41</td>\n      <td>1</td>\n      <td>18.66</td>\n      <td>-73.790428</td>\n      <td>40.644161</td>\n      <td>2.0</td>\n      <td>N</td>\n      <td>-73.987984</td>\n      <td>40.763062</td>\n      <td>2</td>\n      <td>52.0</td>\n      <td>0.0</td>\n      <td>0.5</td>\n      <td>0.00</td>\n      <td>5.54</td>\n      <td>0.3</td>\n      <td>58.34</td>\n      <td>NaN</td>\n    </tr>\n    <tr>\n      <th>24</th>\n      <td>24</td>\n      <td>2</td>\n      <td>2015-05-03 04:52:34</td>\n      <td>2015-05-03 04:57:47</td>\n      <td>1</td>\n      <td>0.68</td>\n      <td>-73.997421</td>\n      <td>40.720791</td>\n      <td>1.0</td>\n      <td>N</td>\n      <td>-74.001167</td>\n      <td>40.727661</td>\n      <td>2</td>\n      <td>5.5</td>\n      <td>0.5</td>\n      <td>0.5</td>\n      <td>0.00</td>\n      <td>0.00</td>\n      <td>0.3</td>\n      <td>6.80</td>\n      <td>NaN</td>\n    </tr>\n    <tr>\n      <th>25</th>\n      <td>25</td>\n      <td>2</td>\n      <td>2015-03-21 22:15:24</td>\n      <td>2015-03-21 22:56:13</td>\n      <td>2</td>\n      <td>20.62</td>\n      <td>-73.791359</td>\n      <td>40.645523</td>\n      <td>2.0</td>\n      <td>N</td>\n      <td>-74.008942</td>\n      <td>40.715752</td>\n      <td>2</td>\n      <td>52.0</td>\n      <td>0.0</td>\n      <td>0.5</td>\n      <td>0.00</td>\n      <td>0.00</td>\n      <td>0.3</td>\n      <td>52.80</td>\n      <td>NaN</td>\n    </tr>\n    <tr>\n      <th>26</th>\n      <td>26</td>\n      <td>2</td>\n      <td>2015-07-01 00:07:55</td>\n      <td>2015-07-01 00:11:37</td>\n      <td>1</td>\n      <td>0.90</td>\n      <td>-73.987823</td>\n      <td>40.755077</td>\n      <td>NaN</td>\n      <td>N</td>\n      <td>-73.992409</td>\n      <td>40.745296</td>\n      <td>1</td>\n      <td>5.0</td>\n      <td>0.5</td>\n      <td>0.5</td>\n      <td>1.26</td>\n      <td>0.00</td>\n      <td>0.3</td>\n      <td>7.56</td>\n      <td>1.0</td>\n    </tr>\n    <tr>\n      <th>27</th>\n      <td>27</td>\n      <td>2</td>\n      <td>2015-03-09 10:22:35</td>\n      <td>2015-03-09 10:27:04</td>\n      <td>5</td>\n      <td>0.68</td>\n      <td>-73.979401</td>\n      <td>40.767010</td>\n      <td>1.0</td>\n      <td>N</td>\n      <td>-73.978310</td>\n      <td>40.774731</td>\n      <td>1</td>\n      <td>5.0</td>\n      <td>0.0</td>\n      <td>0.5</td>\n      <td>1.16</td>\n      <td>0.00</td>\n      <td>0.3</td>\n      <td>6.96</td>\n      <td>NaN</td>\n    </tr>\n    <tr>\n      <th>28</th>\n      <td>28</td>\n      <td>1</td>\n      <td>2015-12-04 19:26:02</td>\n      <td>2015-12-04 19:35:19</td>\n      <td>1</td>\n      <td>1.20</td>\n      <td>-74.001366</td>\n      <td>40.731197</td>\n      <td>NaN</td>\n      <td>N</td>\n      <td>-73.989044</td>\n      <td>40.743633</td>\n      <td>1</td>\n      <td>7.5</td>\n      <td>1.0</td>\n      <td>0.5</td>\n      <td>1.85</td>\n      <td>0.00</td>\n      <td>0.3</td>\n      <td>11.15</td>\n      <td>1.0</td>\n    </tr>\n    <tr>\n      <th>29</th>\n      <td>29</td>\n      <td>2</td>\n      <td>2015-08-16 05:29:17</td>\n      <td>2015-08-16 05:53:05</td>\n      <td>1</td>\n      <td>11.98</td>\n      <td>-73.966736</td>\n      <td>40.761372</td>\n      <td>NaN</td>\n      <td>N</td>\n      <td>-73.797531</td>\n      <td>40.709122</td>\n      <td>1</td>\n      <td>34.5</td>\n      <td>0.5</td>\n      <td>0.5</td>\n      <td>0.00</td>\n      <td>0.00</td>\n      <td>0.3</td>\n      <td>35.80</td>\n      <td>1.0</td>\n    </tr>\n    <tr>\n      <th>30</th>\n      <td>30</td>\n      <td>2</td>\n      <td>2015-11-01 00:09:30</td>\n      <td>2015-11-01 00:27:24</td>\n      <td>1</td>\n      <td>1.66</td>\n      <td>-73.976143</td>\n      <td>40.748417</td>\n      <td>NaN</td>\n      <td>N</td>\n      <td>-73.987602</td>\n      <td>40.732651</td>\n      <td>1</td>\n      <td>12.0</td>\n      <td>0.5</td>\n      <td>0.5</td>\n      <td>2.66</td>\n      <td>0.00</td>\n      <td>0.3</td>\n      <td>15.96</td>\n      <td>1.0</td>\n    </tr>\n    <tr>\n      <th>31</th>\n      <td>31</td>\n      <td>1</td>\n      <td>2015-11-01 00:00:03</td>\n      <td>2015-11-01 00:41:07</td>\n      <td>1</td>\n      <td>2.30</td>\n      <td>-74.004616</td>\n      <td>40.722118</td>\n      <td>NaN</td>\n      <td>N</td>\n      <td>-73.982063</td>\n      <td>40.740150</td>\n      <td>1</td>\n      <td>24.0</td>\n      <td>0.5</td>\n      <td>0.5</td>\n      <td>0.00</td>\n      <td>0.00</td>\n      <td>0.3</td>\n      <td>25.30</td>\n      <td>1.0</td>\n    </tr>\n    <tr>\n      <th>32</th>\n      <td>32</td>\n      <td>2</td>\n      <td>2015-12-04 19:16:38</td>\n      <td>2015-12-04 19:43:37</td>\n      <td>1</td>\n      <td>1.58</td>\n      <td>-73.960396</td>\n      <td>40.762566</td>\n      <td>NaN</td>\n      <td>N</td>\n      <td>-73.982231</td>\n      <td>40.762325</td>\n      <td>2</td>\n      <td>16.0</td>\n      <td>1.0</td>\n      <td>0.5</td>\n      <td>0.00</td>\n      <td>0.00</td>\n      <td>0.3</td>\n      <td>17.80</td>\n      <td>1.0</td>\n    </tr>\n    <tr>\n      <th>33</th>\n      <td>33</td>\n      <td>2</td>\n      <td>2015-04-21 08:27:09</td>\n      <td>2015-04-21 08:35:02</td>\n      <td>1</td>\n      <td>0.87</td>\n      <td>-73.992432</td>\n      <td>40.742672</td>\n      <td>1.0</td>\n      <td>N</td>\n      <td>-73.978348</td>\n      <td>40.737137</td>\n      <td>2</td>\n      <td>7.0</td>\n      <td>0.0</td>\n      <td>0.5</td>\n      <td>0.00</td>\n      <td>0.00</td>\n      <td>0.3</td>\n      <td>7.80</td>\n      <td>NaN</td>\n    </tr>\n    <tr>\n      <th>34</th>\n      <td>34</td>\n      <td>1</td>\n      <td>2015-11-23 00:37:04</td>\n      <td>2015-11-23 00:43:06</td>\n      <td>1</td>\n      <td>1.00</td>\n      <td>-74.006004</td>\n      <td>40.740005</td>\n      <td>NaN</td>\n      <td>N</td>\n      <td>-73.994843</td>\n      <td>40.750240</td>\n      <td>2</td>\n      <td>6.5</td>\n      <td>0.5</td>\n      <td>0.5</td>\n      <td>0.00</td>\n      <td>0.00</td>\n      <td>0.3</td>\n      <td>7.80</td>\n      <td>1.0</td>\n    </tr>\n    <tr>\n      <th>35</th>\n      <td>35</td>\n      <td>2</td>\n      <td>2015-01-15 19:05:43</td>\n      <td>2015-01-15 19:15:09</td>\n      <td>5</td>\n      <td>1.57</td>\n      <td>-73.978424</td>\n      <td>40.746208</td>\n      <td>1.0</td>\n      <td>N</td>\n      <td>-73.980217</td>\n      <td>40.728542</td>\n      <td>1</td>\n      <td>8.0</td>\n      <td>1.0</td>\n      <td>0.5</td>\n      <td>1.80</td>\n      <td>0.00</td>\n      <td>0.3</td>\n      <td>11.60</td>\n      <td>NaN</td>\n    </tr>\n    <tr>\n      <th>36</th>\n      <td>36</td>\n      <td>2</td>\n      <td>2015-11-23 01:06:39</td>\n      <td>2015-11-23 01:19:29</td>\n      <td>2</td>\n      <td>8.93</td>\n      <td>-74.007790</td>\n      <td>40.712303</td>\n      <td>NaN</td>\n      <td>N</td>\n      <td>-73.892586</td>\n      <td>40.747135</td>\n      <td>2</td>\n      <td>25.0</td>\n      <td>0.5</td>\n      <td>0.5</td>\n      <td>0.00</td>\n      <td>0.00</td>\n      <td>0.3</td>\n      <td>26.30</td>\n      <td>1.0</td>\n    </tr>\n    <tr>\n      <th>37</th>\n      <td>37</td>\n      <td>1</td>\n      <td>2015-05-06 01:28:53</td>\n      <td>2015-05-06 01:33:39</td>\n      <td>1</td>\n      <td>0.90</td>\n      <td>-73.984215</td>\n      <td>40.755234</td>\n      <td>1.0</td>\n      <td>N</td>\n      <td>-73.998138</td>\n      <td>40.756641</td>\n      <td>1</td>\n      <td>5.5</td>\n      <td>0.5</td>\n      <td>0.5</td>\n      <td>1.70</td>\n      <td>0.00</td>\n      <td>0.3</td>\n      <td>8.50</td>\n      <td>NaN</td>\n    </tr>\n    <tr>\n      <th>38</th>\n      <td>38</td>\n      <td>2</td>\n      <td>2015-12-04 19:29:42</td>\n      <td>2015-12-04 20:17:21</td>\n      <td>1</td>\n      <td>5.88</td>\n      <td>-73.957458</td>\n      <td>40.776810</td>\n      <td>NaN</td>\n      <td>N</td>\n      <td>-73.991859</td>\n      <td>40.714931</td>\n      <td>2</td>\n      <td>30.0</td>\n      <td>1.0</td>\n      <td>0.5</td>\n      <td>0.00</td>\n      <td>0.00</td>\n      <td>0.3</td>\n      <td>31.80</td>\n      <td>1.0</td>\n    </tr>\n    <tr>\n      <th>39</th>\n      <td>39</td>\n      <td>2</td>\n      <td>2015-07-01 00:22:58</td>\n      <td>2015-07-01 00:25:43</td>\n      <td>5</td>\n      <td>0.55</td>\n      <td>-73.987755</td>\n      <td>40.762108</td>\n      <td>NaN</td>\n      <td>N</td>\n      <td>-73.988808</td>\n      <td>40.758621</td>\n      <td>2</td>\n      <td>4.0</td>\n      <td>0.5</td>\n      <td>0.5</td>\n      <td>0.00</td>\n      <td>0.00</td>\n      <td>0.3</td>\n      <td>5.30</td>\n      <td>1.0</td>\n    </tr>\n    <tr>\n      <th>40</th>\n      <td>40</td>\n      <td>2</td>\n      <td>2015-11-23 01:16:50</td>\n      <td>2015-11-23 01:24:14</td>\n      <td>5</td>\n      <td>2.03</td>\n      <td>-73.976738</td>\n      <td>40.758331</td>\n      <td>NaN</td>\n      <td>N</td>\n      <td>-73.952820</td>\n      <td>40.769890</td>\n      <td>1</td>\n      <td>8.5</td>\n      <td>0.5</td>\n      <td>0.5</td>\n      <td>1.96</td>\n      <td>0.00</td>\n      <td>0.3</td>\n      <td>11.76</td>\n      <td>1.0</td>\n    </tr>\n    <tr>\n      <th>41</th>\n      <td>41</td>\n      <td>1</td>\n      <td>2015-07-01 00:05:31</td>\n      <td>2015-07-01 00:20:56</td>\n      <td>1</td>\n      <td>2.50</td>\n      <td>-73.958237</td>\n      <td>40.768871</td>\n      <td>NaN</td>\n      <td>N</td>\n      <td>-73.987663</td>\n      <td>40.749798</td>\n      <td>2</td>\n      <td>11.5</td>\n      <td>0.5</td>\n      <td>0.5</td>\n      <td>0.00</td>\n      <td>0.00</td>\n      <td>0.3</td>\n      <td>12.80</td>\n      <td>1.0</td>\n    </tr>\n    <tr>\n      <th>42</th>\n      <td>42</td>\n      <td>1</td>\n      <td>2015-06-04 15:18:11</td>\n      <td>2015-06-04 15:42:57</td>\n      <td>1</td>\n      <td>2.50</td>\n      <td>-74.007019</td>\n      <td>40.748646</td>\n      <td>1.0</td>\n      <td>N</td>\n      <td>-73.971153</td>\n      <td>40.748257</td>\n      <td>2</td>\n      <td>16.0</td>\n      <td>0.0</td>\n      <td>0.5</td>\n      <td>0.00</td>\n      <td>0.00</td>\n      <td>0.3</td>\n      <td>16.80</td>\n      <td>NaN</td>\n    </tr>\n    <tr>\n      <th>43</th>\n      <td>43</td>\n      <td>1</td>\n      <td>2015-05-14 13:17:38</td>\n      <td>2015-05-14 13:37:35</td>\n      <td>2</td>\n      <td>1.50</td>\n      <td>-73.974632</td>\n      <td>40.756779</td>\n      <td>1.0</td>\n      <td>N</td>\n      <td>-73.991127</td>\n      <td>40.750481</td>\n      <td>2</td>\n      <td>13.0</td>\n      <td>0.0</td>\n      <td>0.5</td>\n      <td>0.00</td>\n      <td>0.00</td>\n      <td>0.3</td>\n      <td>13.80</td>\n      <td>NaN</td>\n    </tr>\n    <tr>\n      <th>44</th>\n      <td>44</td>\n      <td>2</td>\n      <td>2015-09-01 00:24:32</td>\n      <td>2015-09-01 00:43:12</td>\n      <td>1</td>\n      <td>5.12</td>\n      <td>-73.988220</td>\n      <td>40.721340</td>\n      <td>NaN</td>\n      <td>N</td>\n      <td>-73.987068</td>\n      <td>40.729599</td>\n      <td>1</td>\n      <td>18.0</td>\n      <td>0.5</td>\n      <td>0.5</td>\n      <td>3.86</td>\n      <td>0.00</td>\n      <td>0.3</td>\n      <td>23.16</td>\n      <td>1.0</td>\n    </tr>\n    <tr>\n      <th>45</th>\n      <td>45</td>\n      <td>1</td>\n      <td>2015-06-01 00:12:27</td>\n      <td>2015-06-01 00:14:50</td>\n      <td>1</td>\n      <td>0.80</td>\n      <td>-74.005257</td>\n      <td>40.737026</td>\n      <td>1.0</td>\n      <td>N</td>\n      <td>-73.997314</td>\n      <td>40.746788</td>\n      <td>2</td>\n      <td>4.5</td>\n      <td>0.5</td>\n      <td>0.5</td>\n      <td>0.00</td>\n      <td>0.00</td>\n      <td>0.3</td>\n      <td>5.80</td>\n      <td>NaN</td>\n    </tr>\n    <tr>\n      <th>46</th>\n      <td>46</td>\n      <td>2</td>\n      <td>2015-09-01 00:13:54</td>\n      <td>2015-09-01 00:23:21</td>\n      <td>1</td>\n      <td>2.02</td>\n      <td>-73.989624</td>\n      <td>40.725956</td>\n      <td>NaN</td>\n      <td>N</td>\n      <td>-73.980598</td>\n      <td>40.749741</td>\n      <td>1</td>\n      <td>9.5</td>\n      <td>0.5</td>\n      <td>0.5</td>\n      <td>1.75</td>\n      <td>0.00</td>\n      <td>0.3</td>\n      <td>12.55</td>\n      <td>1.0</td>\n    </tr>\n    <tr>\n      <th>47</th>\n      <td>47</td>\n      <td>1</td>\n      <td>2015-09-01 00:02:04</td>\n      <td>2015-09-01 00:15:29</td>\n      <td>1</td>\n      <td>3.50</td>\n      <td>-73.989105</td>\n      <td>40.737461</td>\n      <td>NaN</td>\n      <td>N</td>\n      <td>-73.953148</td>\n      <td>40.771545</td>\n      <td>1</td>\n      <td>12.5</td>\n      <td>0.5</td>\n      <td>0.5</td>\n      <td>1.50</td>\n      <td>0.00</td>\n      <td>0.3</td>\n      <td>15.30</td>\n      <td>1.0</td>\n    </tr>\n    <tr>\n      <th>48</th>\n      <td>48</td>\n      <td>2</td>\n      <td>2015-12-04 19:16:04</td>\n      <td>2015-12-04 19:35:15</td>\n      <td>1</td>\n      <td>4.17</td>\n      <td>-73.987976</td>\n      <td>40.722633</td>\n      <td>NaN</td>\n      <td>N</td>\n      <td>-73.954109</td>\n      <td>40.730251</td>\n      <td>1</td>\n      <td>16.5</td>\n      <td>1.0</td>\n      <td>0.5</td>\n      <td>3.66</td>\n      <td>0.00</td>\n      <td>0.3</td>\n      <td>21.96</td>\n      <td>1.0</td>\n    </tr>\n    <tr>\n      <th>49</th>\n      <td>49</td>\n      <td>1</td>\n      <td>2015-03-11 22:20:50</td>\n      <td>2015-03-11 22:30:48</td>\n      <td>1</td>\n      <td>1.20</td>\n      <td>-73.997978</td>\n      <td>40.713844</td>\n      <td>1.0</td>\n      <td>N</td>\n      <td>-73.991211</td>\n      <td>40.727715</td>\n      <td>1</td>\n      <td>8.0</td>\n      <td>0.5</td>\n      <td>0.5</td>\n      <td>2.30</td>\n      <td>0.00</td>\n      <td>0.3</td>\n      <td>11.60</td>\n      <td>NaN</td>\n    </tr>\n    <tr>\n      <th>50</th>\n      <td>50</td>\n      <td>1</td>\n      <td>2015-01-18 12:34:38</td>\n      <td>2015-01-18 13:03:55</td>\n      <td>2</td>\n      <td>11.10</td>\n      <td>-73.996597</td>\n      <td>40.732487</td>\n      <td>1.0</td>\n      <td>N</td>\n      <td>-74.011345</td>\n      <td>40.630043</td>\n      <td>1</td>\n      <td>33.0</td>\n      <td>0.0</td>\n      <td>0.5</td>\n      <td>6.76</td>\n      <td>0.00</td>\n      <td>0.3</td>\n      <td>40.56</td>\n      <td>NaN</td>\n    </tr>\n    <tr>\n      <th>51</th>\n      <td>51</td>\n      <td>1</td>\n      <td>2015-11-23 00:31:36</td>\n      <td>2015-11-23 00:47:29</td>\n      <td>1</td>\n      <td>3.80</td>\n      <td>-73.984276</td>\n      <td>40.725258</td>\n      <td>NaN</td>\n      <td>N</td>\n      <td>-73.945549</td>\n      <td>40.725510</td>\n      <td>1</td>\n      <td>14.5</td>\n      <td>0.5</td>\n      <td>0.5</td>\n      <td>1.00</td>\n      <td>0.00</td>\n      <td>0.3</td>\n      <td>16.80</td>\n      <td>1.0</td>\n    </tr>\n    <tr>\n      <th>52</th>\n      <td>52</td>\n      <td>1</td>\n      <td>2015-02-22 22:03:02</td>\n      <td>2015-02-22 22:06:50</td>\n      <td>1</td>\n      <td>0.70</td>\n      <td>-73.980949</td>\n      <td>40.767780</td>\n      <td>1.0</td>\n      <td>N</td>\n      <td>-73.982025</td>\n      <td>40.778282</td>\n      <td>1</td>\n      <td>5.0</td>\n      <td>0.5</td>\n      <td>0.5</td>\n      <td>1.25</td>\n      <td>0.00</td>\n      <td>0.3</td>\n      <td>7.55</td>\n      <td>NaN</td>\n    </tr>\n    <tr>\n      <th>53</th>\n      <td>53</td>\n      <td>2</td>\n      <td>2015-04-02 21:12:24</td>\n      <td>2015-04-02 21:16:29</td>\n      <td>6</td>\n      <td>0.74</td>\n      <td>-74.002831</td>\n      <td>40.708569</td>\n      <td>1.0</td>\n      <td>N</td>\n      <td>-74.013329</td>\n      <td>40.704769</td>\n      <td>2</td>\n      <td>5.0</td>\n      <td>0.5</td>\n      <td>0.5</td>\n      <td>0.00</td>\n      <td>0.00</td>\n      <td>0.3</td>\n      <td>6.30</td>\n      <td>NaN</td>\n    </tr>\n    <tr>\n      <th>54</th>\n      <td>54</td>\n      <td>1</td>\n      <td>2015-12-04 19:14:03</td>\n      <td>2015-12-04 19:22:02</td>\n      <td>1</td>\n      <td>1.30</td>\n      <td>-73.957840</td>\n      <td>40.779533</td>\n      <td>NaN</td>\n      <td>N</td>\n      <td>-73.969620</td>\n      <td>40.789555</td>\n      <td>1</td>\n      <td>7.5</td>\n      <td>1.0</td>\n      <td>0.5</td>\n      <td>1.50</td>\n      <td>0.00</td>\n      <td>0.3</td>\n      <td>10.80</td>\n      <td>1.0</td>\n    </tr>\n    <tr>\n      <th>55</th>\n      <td>55</td>\n      <td>2</td>\n      <td>2015-12-04 19:17:13</td>\n      <td>2015-12-04 19:30:47</td>\n      <td>2</td>\n      <td>0.90</td>\n      <td>-73.982079</td>\n      <td>40.768166</td>\n      <td>NaN</td>\n      <td>N</td>\n      <td>-73.969048</td>\n      <td>40.765221</td>\n      <td>1</td>\n      <td>9.5</td>\n      <td>1.0</td>\n      <td>0.5</td>\n      <td>2.26</td>\n      <td>0.00</td>\n      <td>0.3</td>\n      <td>13.56</td>\n      <td>1.0</td>\n    </tr>\n    <tr>\n      <th>56</th>\n      <td>56</td>\n      <td>1</td>\n      <td>2015-12-04 19:23:09</td>\n      <td>2015-12-04 19:30:12</td>\n      <td>2</td>\n      <td>1.00</td>\n      <td>-73.950035</td>\n      <td>40.771805</td>\n      <td>NaN</td>\n      <td>N</td>\n      <td>-73.959808</td>\n      <td>40.770100</td>\n      <td>1</td>\n      <td>6.5</td>\n      <td>1.0</td>\n      <td>0.5</td>\n      <td>1.65</td>\n      <td>0.00</td>\n      <td>0.3</td>\n      <td>9.95</td>\n      <td>1.0</td>\n    </tr>\n    <tr>\n      <th>57</th>\n      <td>57</td>\n      <td>2</td>\n      <td>2015-09-01 00:33:33</td>\n      <td>2015-09-01 00:43:20</td>\n      <td>2</td>\n      <td>4.26</td>\n      <td>-73.862740</td>\n      <td>40.768856</td>\n      <td>NaN</td>\n      <td>N</td>\n      <td>-73.926445</td>\n      <td>40.768147</td>\n      <td>1</td>\n      <td>14.0</td>\n      <td>0.5</td>\n      <td>0.5</td>\n      <td>3.06</td>\n      <td>0.00</td>\n      <td>0.3</td>\n      <td>18.36</td>\n      <td>1.0</td>\n    </tr>\n    <tr>\n      <th>58</th>\n      <td>58</td>\n      <td>2</td>\n      <td>2015-02-17 11:20:41</td>\n      <td>2015-02-17 11:33:13</td>\n      <td>1</td>\n      <td>2.64</td>\n      <td>-73.966667</td>\n      <td>40.804451</td>\n      <td>1.0</td>\n      <td>N</td>\n      <td>-73.954376</td>\n      <td>40.779140</td>\n      <td>2</td>\n      <td>11.0</td>\n      <td>0.0</td>\n      <td>0.5</td>\n      <td>0.00</td>\n      <td>0.00</td>\n      <td>0.3</td>\n      <td>11.80</td>\n      <td>NaN</td>\n    </tr>\n    <tr>\n      <th>59</th>\n      <td>59</td>\n      <td>2</td>\n      <td>2015-08-16 05:48:08</td>\n      <td>2015-08-16 05:57:25</td>\n      <td>1</td>\n      <td>3.59</td>\n      <td>-73.986183</td>\n      <td>40.762192</td>\n      <td>NaN</td>\n      <td>N</td>\n      <td>-73.967140</td>\n      <td>40.798370</td>\n      <td>2</td>\n      <td>12.5</td>\n      <td>0.5</td>\n      <td>0.5</td>\n      <td>0.00</td>\n      <td>0.00</td>\n      <td>0.3</td>\n      <td>13.80</td>\n      <td>1.0</td>\n    </tr>\n    <tr>\n      <th>60</th>\n      <td>60</td>\n      <td>2</td>\n      <td>2015-09-01 00:14:34</td>\n      <td>2015-09-01 00:20:31</td>\n      <td>1</td>\n      <td>0.78</td>\n      <td>-73.991272</td>\n      <td>40.723412</td>\n      <td>NaN</td>\n      <td>N</td>\n      <td>-73.989151</td>\n      <td>40.731579</td>\n      <td>2</td>\n      <td>5.5</td>\n      <td>0.5</td>\n      <td>0.5</td>\n      <td>0.00</td>\n      <td>0.00</td>\n      <td>0.3</td>\n      <td>6.80</td>\n      <td>1.0</td>\n    </tr>\n    <tr>\n      <th>61</th>\n      <td>61</td>\n      <td>1</td>\n      <td>2015-06-02 11:25:05</td>\n      <td>2015-06-02 11:43:32</td>\n      <td>1</td>\n      <td>1.30</td>\n      <td>-73.986809</td>\n      <td>40.739616</td>\n      <td>1.0</td>\n      <td>N</td>\n      <td>-73.984360</td>\n      <td>40.754620</td>\n      <td>2</td>\n      <td>12.0</td>\n      <td>0.0</td>\n      <td>0.5</td>\n      <td>0.00</td>\n      <td>0.00</td>\n      <td>0.3</td>\n      <td>12.80</td>\n      <td>NaN</td>\n    </tr>\n    <tr>\n      <th>62</th>\n      <td>62</td>\n      <td>2</td>\n      <td>2015-02-18 22:31:50</td>\n      <td>2015-02-18 22:38:04</td>\n      <td>6</td>\n      <td>1.71</td>\n      <td>-73.976242</td>\n      <td>40.682003</td>\n      <td>1.0</td>\n      <td>N</td>\n      <td>-73.963005</td>\n      <td>40.661385</td>\n      <td>1</td>\n      <td>7.5</td>\n      <td>0.5</td>\n      <td>0.5</td>\n      <td>0.00</td>\n      <td>0.00</td>\n      <td>0.3</td>\n      <td>8.80</td>\n      <td>NaN</td>\n    </tr>\n    <tr>\n      <th>63</th>\n      <td>63</td>\n      <td>1</td>\n      <td>2015-05-06 06:57:22</td>\n      <td>2015-05-06 07:03:55</td>\n      <td>2</td>\n      <td>0.90</td>\n      <td>-73.997665</td>\n      <td>40.756634</td>\n      <td>1.0</td>\n      <td>N</td>\n      <td>-73.992867</td>\n      <td>40.768112</td>\n      <td>2</td>\n      <td>6.5</td>\n      <td>0.0</td>\n      <td>0.5</td>\n      <td>0.00</td>\n      <td>0.00</td>\n      <td>0.3</td>\n      <td>7.30</td>\n      <td>NaN</td>\n    </tr>\n    <tr>\n      <th>64</th>\n      <td>64</td>\n      <td>1</td>\n      <td>2015-03-31 11:17:27</td>\n      <td>2015-03-31 11:30:23</td>\n      <td>1</td>\n      <td>1.50</td>\n      <td>-73.972755</td>\n      <td>40.753796</td>\n      <td>1.0</td>\n      <td>N</td>\n      <td>-73.991837</td>\n      <td>40.749985</td>\n      <td>2</td>\n      <td>9.5</td>\n      <td>0.0</td>\n      <td>0.5</td>\n      <td>0.00</td>\n      <td>0.00</td>\n      <td>0.3</td>\n      <td>10.30</td>\n      <td>NaN</td>\n    </tr>\n    <tr>\n      <th>65</th>\n      <td>65</td>\n      <td>2</td>\n      <td>2015-06-02 11:31:41</td>\n      <td>2015-06-02 11:37:43</td>\n      <td>6</td>\n      <td>0.29</td>\n      <td>-73.956276</td>\n      <td>40.781658</td>\n      <td>1.0</td>\n      <td>N</td>\n      <td>-73.958755</td>\n      <td>40.778233</td>\n      <td>1</td>\n      <td>5.5</td>\n      <td>0.0</td>\n      <td>0.5</td>\n      <td>1.26</td>\n      <td>0.00</td>\n      <td>0.3</td>\n      <td>7.56</td>\n      <td>NaN</td>\n    </tr>\n    <tr>\n      <th>66</th>\n      <td>66</td>\n      <td>1</td>\n      <td>2015-09-01 00:50:10</td>\n      <td>2015-09-01 00:55:46</td>\n      <td>1</td>\n      <td>1.30</td>\n      <td>-73.975723</td>\n      <td>40.740837</td>\n      <td>NaN</td>\n      <td>N</td>\n      <td>-73.990952</td>\n      <td>40.751156</td>\n      <td>2</td>\n      <td>6.5</td>\n      <td>0.5</td>\n      <td>0.5</td>\n      <td>0.00</td>\n      <td>0.00</td>\n      <td>0.3</td>\n      <td>7.80</td>\n      <td>1.0</td>\n    </tr>\n    <tr>\n      <th>67</th>\n      <td>67</td>\n      <td>2</td>\n      <td>2015-08-16 04:31:31</td>\n      <td>2015-08-16 04:37:03</td>\n      <td>2</td>\n      <td>1.35</td>\n      <td>-73.998581</td>\n      <td>40.740059</td>\n      <td>NaN</td>\n      <td>N</td>\n      <td>-73.981438</td>\n      <td>40.729061</td>\n      <td>2</td>\n      <td>6.5</td>\n      <td>0.5</td>\n      <td>0.5</td>\n      <td>0.00</td>\n      <td>0.00</td>\n      <td>0.3</td>\n      <td>7.80</td>\n      <td>1.0</td>\n    </tr>\n    <tr>\n      <th>68</th>\n      <td>68</td>\n      <td>2</td>\n      <td>2015-07-01 00:12:17</td>\n      <td>2015-07-01 00:22:04</td>\n      <td>5</td>\n      <td>1.70</td>\n      <td>-74.007607</td>\n      <td>40.740910</td>\n      <td>NaN</td>\n      <td>N</td>\n      <td>-73.998581</td>\n      <td>40.723011</td>\n      <td>2</td>\n      <td>8.5</td>\n      <td>0.5</td>\n      <td>0.5</td>\n      <td>0.00</td>\n      <td>0.00</td>\n      <td>0.3</td>\n      <td>9.80</td>\n      <td>1.0</td>\n    </tr>\n    <tr>\n      <th>69</th>\n      <td>69</td>\n      <td>2</td>\n      <td>2015-08-16 05:23:44</td>\n      <td>2015-08-16 05:35:32</td>\n      <td>1</td>\n      <td>4.10</td>\n      <td>-73.982521</td>\n      <td>40.731529</td>\n      <td>NaN</td>\n      <td>N</td>\n      <td>-73.949539</td>\n      <td>40.781120</td>\n      <td>1</td>\n      <td>13.5</td>\n      <td>0.5</td>\n      <td>0.5</td>\n      <td>1.00</td>\n      <td>0.00</td>\n      <td>0.3</td>\n      <td>15.80</td>\n      <td>1.0</td>\n    </tr>\n    <tr>\n      <th>70</th>\n      <td>70</td>\n      <td>1</td>\n      <td>2015-11-23 00:48:37</td>\n      <td>2015-11-23 00:52:43</td>\n      <td>1</td>\n      <td>0.40</td>\n      <td>-73.962250</td>\n      <td>40.776413</td>\n      <td>NaN</td>\n      <td>N</td>\n      <td>-73.967590</td>\n      <td>40.771904</td>\n      <td>2</td>\n      <td>4.0</td>\n      <td>0.5</td>\n      <td>0.5</td>\n      <td>0.00</td>\n      <td>0.00</td>\n      <td>0.3</td>\n      <td>5.30</td>\n      <td>1.0</td>\n    </tr>\n    <tr>\n      <th>71</th>\n      <td>71</td>\n      <td>1</td>\n      <td>2015-10-01 00:02:58</td>\n      <td>2015-10-01 00:07:55</td>\n      <td>1</td>\n      <td>1.00</td>\n      <td>-74.004372</td>\n      <td>40.742455</td>\n      <td>NaN</td>\n      <td>N</td>\n      <td>-73.993195</td>\n      <td>40.752003</td>\n      <td>1</td>\n      <td>6.0</td>\n      <td>0.5</td>\n      <td>0.5</td>\n      <td>0.00</td>\n      <td>0.00</td>\n      <td>0.3</td>\n      <td>7.30</td>\n      <td>1.0</td>\n    </tr>\n    <tr>\n      <th>72</th>\n      <td>72</td>\n      <td>1</td>\n      <td>2015-10-14 10:27:42</td>\n      <td>2015-10-14 10:50:13</td>\n      <td>2</td>\n      <td>2.50</td>\n      <td>-74.002441</td>\n      <td>40.730148</td>\n      <td>NaN</td>\n      <td>N</td>\n      <td>-73.979523</td>\n      <td>40.762486</td>\n      <td>1</td>\n      <td>14.5</td>\n      <td>0.0</td>\n      <td>0.5</td>\n      <td>3.05</td>\n      <td>0.00</td>\n      <td>0.3</td>\n      <td>18.35</td>\n      <td>1.0</td>\n    </tr>\n    <tr>\n      <th>73</th>\n      <td>73</td>\n      <td>2</td>\n      <td>2015-12-04 19:16:54</td>\n      <td>2015-12-04 19:22:03</td>\n      <td>1</td>\n      <td>0.83</td>\n      <td>-73.971558</td>\n      <td>40.758110</td>\n      <td>NaN</td>\n      <td>N</td>\n      <td>-73.969780</td>\n      <td>40.749660</td>\n      <td>1</td>\n      <td>5.5</td>\n      <td>1.0</td>\n      <td>0.5</td>\n      <td>4.00</td>\n      <td>0.00</td>\n      <td>0.3</td>\n      <td>11.30</td>\n      <td>1.0</td>\n    </tr>\n    <tr>\n      <th>74</th>\n      <td>74</td>\n      <td>1</td>\n      <td>2015-01-08 13:28:35</td>\n      <td>2015-01-08 13:37:43</td>\n      <td>1</td>\n      <td>1.10</td>\n      <td>-73.991348</td>\n      <td>40.744869</td>\n      <td>1.0</td>\n      <td>N</td>\n      <td>-73.990395</td>\n      <td>40.756714</td>\n      <td>2</td>\n      <td>7.5</td>\n      <td>0.0</td>\n      <td>0.5</td>\n      <td>0.00</td>\n      <td>0.00</td>\n      <td>0.3</td>\n      <td>8.30</td>\n      <td>NaN</td>\n    </tr>\n    <tr>\n      <th>75</th>\n      <td>75</td>\n      <td>1</td>\n      <td>2015-12-04 19:12:31</td>\n      <td>2015-12-04 19:31:21</td>\n      <td>1</td>\n      <td>1.90</td>\n      <td>-73.968346</td>\n      <td>40.762432</td>\n      <td>NaN</td>\n      <td>N</td>\n      <td>-73.990105</td>\n      <td>40.751202</td>\n      <td>1</td>\n      <td>12.5</td>\n      <td>1.0</td>\n      <td>0.5</td>\n      <td>2.85</td>\n      <td>0.00</td>\n      <td>0.3</td>\n      <td>17.15</td>\n      <td>1.0</td>\n    </tr>\n    <tr>\n      <th>76</th>\n      <td>76</td>\n      <td>2</td>\n      <td>2015-02-21 07:06:54</td>\n      <td>2015-02-21 07:21:25</td>\n      <td>1</td>\n      <td>9.75</td>\n      <td>-73.998550</td>\n      <td>40.722931</td>\n      <td>1.0</td>\n      <td>N</td>\n      <td>-73.873260</td>\n      <td>40.774288</td>\n      <td>1</td>\n      <td>28.0</td>\n      <td>0.0</td>\n      <td>0.5</td>\n      <td>4.20</td>\n      <td>0.00</td>\n      <td>0.3</td>\n      <td>33.00</td>\n      <td>NaN</td>\n    </tr>\n    <tr>\n      <th>77</th>\n      <td>77</td>\n      <td>1</td>\n      <td>2015-07-01 00:37:28</td>\n      <td>2015-07-01 01:08:48</td>\n      <td>1</td>\n      <td>4.40</td>\n      <td>-73.987663</td>\n      <td>40.728672</td>\n      <td>NaN</td>\n      <td>N</td>\n      <td>-73.993927</td>\n      <td>40.744198</td>\n      <td>2</td>\n      <td>22.5</td>\n      <td>0.5</td>\n      <td>0.5</td>\n      <td>0.00</td>\n      <td>0.00</td>\n      <td>0.3</td>\n      <td>23.80</td>\n      <td>1.0</td>\n    </tr>\n    <tr>\n      <th>78</th>\n      <td>78</td>\n      <td>2</td>\n      <td>2015-03-10 21:07:48</td>\n      <td>2015-03-10 21:10:29</td>\n      <td>3</td>\n      <td>0.57</td>\n      <td>-73.953300</td>\n      <td>40.782654</td>\n      <td>1.0</td>\n      <td>N</td>\n      <td>-73.958359</td>\n      <td>40.775864</td>\n      <td>2</td>\n      <td>4.0</td>\n      <td>0.5</td>\n      <td>0.5</td>\n      <td>0.00</td>\n      <td>0.00</td>\n      <td>0.3</td>\n      <td>5.30</td>\n      <td>NaN</td>\n    </tr>\n    <tr>\n      <th>79</th>\n      <td>79</td>\n      <td>1</td>\n      <td>2015-08-16 04:22:36</td>\n      <td>2015-08-16 04:32:00</td>\n      <td>1</td>\n      <td>2.40</td>\n      <td>-73.985115</td>\n      <td>40.755421</td>\n      <td>NaN</td>\n      <td>N</td>\n      <td>-73.990372</td>\n      <td>40.731834</td>\n      <td>1</td>\n      <td>9.5</td>\n      <td>0.5</td>\n      <td>0.5</td>\n      <td>2.15</td>\n      <td>0.00</td>\n      <td>0.3</td>\n      <td>12.95</td>\n      <td>1.0</td>\n    </tr>\n    <tr>\n      <th>80</th>\n      <td>80</td>\n      <td>1</td>\n      <td>2015-06-02 11:29:26</td>\n      <td>2015-06-02 11:35:15</td>\n      <td>1</td>\n      <td>0.90</td>\n      <td>-73.979210</td>\n      <td>40.777676</td>\n      <td>1.0</td>\n      <td>N</td>\n      <td>-73.973099</td>\n      <td>40.786938</td>\n      <td>2</td>\n      <td>6.0</td>\n      <td>0.0</td>\n      <td>0.5</td>\n      <td>0.00</td>\n      <td>0.00</td>\n      <td>0.3</td>\n      <td>6.80</td>\n      <td>NaN</td>\n    </tr>\n    <tr>\n      <th>81</th>\n      <td>81</td>\n      <td>1</td>\n      <td>2015-10-01 00:30:33</td>\n      <td>2015-10-01 00:52:24</td>\n      <td>4</td>\n      <td>5.40</td>\n      <td>-74.000969</td>\n      <td>40.729298</td>\n      <td>NaN</td>\n      <td>N</td>\n      <td>-73.968353</td>\n      <td>40.789879</td>\n      <td>2</td>\n      <td>19.5</td>\n      <td>0.5</td>\n      <td>0.5</td>\n      <td>0.00</td>\n      <td>0.00</td>\n      <td>0.3</td>\n      <td>20.80</td>\n      <td>1.0</td>\n    </tr>\n    <tr>\n      <th>82</th>\n      <td>82</td>\n      <td>1</td>\n      <td>2015-10-14 10:24:49</td>\n      <td>2015-10-14 10:41:18</td>\n      <td>1</td>\n      <td>0.90</td>\n      <td>-73.968735</td>\n      <td>40.754623</td>\n      <td>NaN</td>\n      <td>N</td>\n      <td>-73.969604</td>\n      <td>40.763817</td>\n      <td>1</td>\n      <td>10.5</td>\n      <td>0.0</td>\n      <td>0.5</td>\n      <td>2.80</td>\n      <td>0.00</td>\n      <td>0.3</td>\n      <td>14.10</td>\n      <td>1.0</td>\n    </tr>\n    <tr>\n      <th>83</th>\n      <td>83</td>\n      <td>1</td>\n      <td>2015-07-01 00:12:42</td>\n      <td>2015-07-01 00:16:58</td>\n      <td>1</td>\n      <td>0.80</td>\n      <td>-73.988953</td>\n      <td>40.758278</td>\n      <td>NaN</td>\n      <td>N</td>\n      <td>-73.988876</td>\n      <td>40.766743</td>\n      <td>1</td>\n      <td>5.0</td>\n      <td>0.5</td>\n      <td>0.5</td>\n      <td>0.63</td>\n      <td>0.00</td>\n      <td>0.3</td>\n      <td>6.93</td>\n      <td>1.0</td>\n    </tr>\n    <tr>\n      <th>84</th>\n      <td>84</td>\n      <td>2</td>\n      <td>2015-02-12 12:38:13</td>\n      <td>2015-02-12 12:47:40</td>\n      <td>5</td>\n      <td>1.05</td>\n      <td>-73.994293</td>\n      <td>40.736118</td>\n      <td>1.0</td>\n      <td>N</td>\n      <td>-74.005676</td>\n      <td>40.745640</td>\n      <td>2</td>\n      <td>7.5</td>\n      <td>0.0</td>\n      <td>0.5</td>\n      <td>0.00</td>\n      <td>0.00</td>\n      <td>0.3</td>\n      <td>8.30</td>\n      <td>NaN</td>\n    </tr>\n    <tr>\n      <th>85</th>\n      <td>85</td>\n      <td>2</td>\n      <td>2015-09-01 00:12:57</td>\n      <td>2015-09-01 00:22:34</td>\n      <td>1</td>\n      <td>1.90</td>\n      <td>-73.981644</td>\n      <td>40.724461</td>\n      <td>NaN</td>\n      <td>N</td>\n      <td>-74.005432</td>\n      <td>40.717319</td>\n      <td>2</td>\n      <td>9.0</td>\n      <td>0.5</td>\n      <td>0.5</td>\n      <td>0.00</td>\n      <td>0.00</td>\n      <td>0.3</td>\n      <td>10.30</td>\n      <td>1.0</td>\n    </tr>\n    <tr>\n      <th>86</th>\n      <td>86</td>\n      <td>1</td>\n      <td>2015-05-30 18:01:48</td>\n      <td>2015-05-30 18:06:56</td>\n      <td>1</td>\n      <td>0.80</td>\n      <td>-73.993362</td>\n      <td>40.727264</td>\n      <td>1.0</td>\n      <td>N</td>\n      <td>-73.991249</td>\n      <td>40.736126</td>\n      <td>1</td>\n      <td>5.5</td>\n      <td>0.0</td>\n      <td>0.5</td>\n      <td>1.00</td>\n      <td>0.00</td>\n      <td>0.3</td>\n      <td>7.30</td>\n      <td>NaN</td>\n    </tr>\n    <tr>\n      <th>87</th>\n      <td>87</td>\n      <td>1</td>\n      <td>2015-08-16 05:02:56</td>\n      <td>2015-08-16 05:06:34</td>\n      <td>2</td>\n      <td>0.70</td>\n      <td>-73.977234</td>\n      <td>40.787640</td>\n      <td>NaN</td>\n      <td>N</td>\n      <td>-73.982292</td>\n      <td>40.777664</td>\n      <td>2</td>\n      <td>5.0</td>\n      <td>0.5</td>\n      <td>0.5</td>\n      <td>0.00</td>\n      <td>0.00</td>\n      <td>0.3</td>\n      <td>6.30</td>\n      <td>1.0</td>\n    </tr>\n    <tr>\n      <th>88</th>\n      <td>88</td>\n      <td>2</td>\n      <td>2015-06-02 11:21:10</td>\n      <td>2015-06-02 11:43:55</td>\n      <td>1</td>\n      <td>5.51</td>\n      <td>-73.997162</td>\n      <td>40.712975</td>\n      <td>1.0</td>\n      <td>N</td>\n      <td>-73.952888</td>\n      <td>40.767372</td>\n      <td>2</td>\n      <td>20.0</td>\n      <td>0.0</td>\n      <td>0.5</td>\n      <td>0.00</td>\n      <td>0.00</td>\n      <td>0.3</td>\n      <td>20.80</td>\n      <td>NaN</td>\n    </tr>\n    <tr>\n      <th>89</th>\n      <td>89</td>\n      <td>1</td>\n      <td>2015-03-12 07:15:14</td>\n      <td>2015-03-12 07:18:57</td>\n      <td>1</td>\n      <td>0.60</td>\n      <td>-73.991158</td>\n      <td>40.745304</td>\n      <td>1.0</td>\n      <td>N</td>\n      <td>-73.991333</td>\n      <td>40.739265</td>\n      <td>1</td>\n      <td>4.5</td>\n      <td>0.0</td>\n      <td>0.5</td>\n      <td>1.55</td>\n      <td>0.00</td>\n      <td>0.3</td>\n      <td>6.85</td>\n      <td>NaN</td>\n    </tr>\n    <tr>\n      <th>90</th>\n      <td>90</td>\n      <td>2</td>\n      <td>2015-05-22 00:41:01</td>\n      <td>2015-05-22 00:49:39</td>\n      <td>1</td>\n      <td>2.00</td>\n      <td>-73.987106</td>\n      <td>40.729324</td>\n      <td>1.0</td>\n      <td>N</td>\n      <td>-73.991264</td>\n      <td>40.750229</td>\n      <td>2</td>\n      <td>8.5</td>\n      <td>0.5</td>\n      <td>0.5</td>\n      <td>0.00</td>\n      <td>0.00</td>\n      <td>0.3</td>\n      <td>9.80</td>\n      <td>NaN</td>\n    </tr>\n    <tr>\n      <th>91</th>\n      <td>91</td>\n      <td>2</td>\n      <td>2015-10-01 00:11:50</td>\n      <td>2015-10-01 00:16:27</td>\n      <td>4</td>\n      <td>1.19</td>\n      <td>-73.973160</td>\n      <td>40.763496</td>\n      <td>NaN</td>\n      <td>N</td>\n      <td>-73.974709</td>\n      <td>40.751186</td>\n      <td>2</td>\n      <td>5.5</td>\n      <td>0.5</td>\n      <td>0.5</td>\n      <td>0.00</td>\n      <td>0.00</td>\n      <td>0.3</td>\n      <td>6.80</td>\n      <td>1.0</td>\n    </tr>\n    <tr>\n      <th>92</th>\n      <td>92</td>\n      <td>2</td>\n      <td>2015-02-25 14:27:43</td>\n      <td>2015-02-25 14:36:21</td>\n      <td>2</td>\n      <td>1.24</td>\n      <td>-73.994293</td>\n      <td>40.746159</td>\n      <td>1.0</td>\n      <td>N</td>\n      <td>-73.996971</td>\n      <td>40.757801</td>\n      <td>1</td>\n      <td>7.5</td>\n      <td>0.0</td>\n      <td>0.5</td>\n      <td>2.08</td>\n      <td>0.00</td>\n      <td>0.3</td>\n      <td>10.38</td>\n      <td>NaN</td>\n    </tr>\n    <tr>\n      <th>93</th>\n      <td>93</td>\n      <td>2</td>\n      <td>2015-06-04 15:23:18</td>\n      <td>2015-06-04 15:35:39</td>\n      <td>1</td>\n      <td>1.68</td>\n      <td>-73.933601</td>\n      <td>40.795181</td>\n      <td>1.0</td>\n      <td>N</td>\n      <td>-73.959572</td>\n      <td>40.801399</td>\n      <td>1</td>\n      <td>9.5</td>\n      <td>0.0</td>\n      <td>0.5</td>\n      <td>0.00</td>\n      <td>0.00</td>\n      <td>0.3</td>\n      <td>10.30</td>\n      <td>NaN</td>\n    </tr>\n    <tr>\n      <th>94</th>\n      <td>94</td>\n      <td>1</td>\n      <td>2015-01-26 13:33:52</td>\n      <td>2015-01-26 13:42:45</td>\n      <td>2</td>\n      <td>1.20</td>\n      <td>-73.980949</td>\n      <td>40.753292</td>\n      <td>1.0</td>\n      <td>N</td>\n      <td>-73.971565</td>\n      <td>40.760380</td>\n      <td>1</td>\n      <td>7.0</td>\n      <td>0.0</td>\n      <td>0.5</td>\n      <td>1.55</td>\n      <td>0.00</td>\n      <td>0.3</td>\n      <td>9.35</td>\n      <td>NaN</td>\n    </tr>\n    <tr>\n      <th>95</th>\n      <td>95</td>\n      <td>2</td>\n      <td>2015-03-07 18:52:29</td>\n      <td>2015-03-07 19:22:48</td>\n      <td>1</td>\n      <td>5.59</td>\n      <td>-73.976219</td>\n      <td>40.737637</td>\n      <td>1.0</td>\n      <td>N</td>\n      <td>-73.948143</td>\n      <td>40.793125</td>\n      <td>1</td>\n      <td>21.5</td>\n      <td>0.0</td>\n      <td>0.5</td>\n      <td>2.00</td>\n      <td>0.00</td>\n      <td>0.3</td>\n      <td>24.30</td>\n      <td>NaN</td>\n    </tr>\n    <tr>\n      <th>96</th>\n      <td>96</td>\n      <td>2</td>\n      <td>2015-01-28 17:32:21</td>\n      <td>2015-01-28 18:00:28</td>\n      <td>3</td>\n      <td>4.69</td>\n      <td>-73.992447</td>\n      <td>40.748535</td>\n      <td>1.0</td>\n      <td>N</td>\n      <td>-73.962677</td>\n      <td>40.712212</td>\n      <td>1</td>\n      <td>21.0</td>\n      <td>1.0</td>\n      <td>0.5</td>\n      <td>4.40</td>\n      <td>0.00</td>\n      <td>0.3</td>\n      <td>27.20</td>\n      <td>NaN</td>\n    </tr>\n    <tr>\n      <th>97</th>\n      <td>97</td>\n      <td>2</td>\n      <td>2015-02-24 10:05:55</td>\n      <td>2015-02-24 10:18:16</td>\n      <td>6</td>\n      <td>1.17</td>\n      <td>-73.975250</td>\n      <td>40.762421</td>\n      <td>1.0</td>\n      <td>N</td>\n      <td>-73.989220</td>\n      <td>40.757710</td>\n      <td>2</td>\n      <td>9.0</td>\n      <td>0.0</td>\n      <td>0.5</td>\n      <td>0.00</td>\n      <td>0.00</td>\n      <td>0.3</td>\n      <td>9.80</td>\n      <td>NaN</td>\n    </tr>\n    <tr>\n      <th>98</th>\n      <td>98</td>\n      <td>1</td>\n      <td>2015-11-23 00:40:12</td>\n      <td>2015-11-23 00:52:05</td>\n      <td>1</td>\n      <td>2.50</td>\n      <td>-73.983727</td>\n      <td>40.750751</td>\n      <td>NaN</td>\n      <td>N</td>\n      <td>-73.983749</td>\n      <td>40.730114</td>\n      <td>1</td>\n      <td>11.0</td>\n      <td>0.5</td>\n      <td>0.5</td>\n      <td>2.45</td>\n      <td>0.00</td>\n      <td>0.3</td>\n      <td>14.75</td>\n      <td>1.0</td>\n    </tr>\n  </tbody>\n</table>\n</div>"
      }
     },
     "9b52f6050c1945238c28cd1a248832af": {
      "model_module": "@jupyter-widgets/base",
      "model_module_version": "2.0.0",
      "model_name": "LayoutModel",
      "state": {}
     },
     "9b5455dba62947da988ddaad737790a3": {
      "model_module": "@jupyter-widgets/controls",
      "model_module_version": "2.0.0",
      "model_name": "TextStyleModel",
      "state": {
       "description_width": "",
       "font_size": null,
       "text_color": null
      }
     },
     "9b5c2c3d9917452ebd3f05bda1bdef18": {
      "model_module": "@jupyter-widgets/controls",
      "model_module_version": "2.0.0",
      "model_name": "HTMLStyleModel",
      "state": {
       "description_width": "",
       "font_size": null,
       "text_color": null
      }
     },
     "9b6ca7d9d89f49d48cb6ab9c5fe24bbc": {
      "model_module": "@jupyter-widgets/controls",
      "model_module_version": "2.0.0",
      "model_name": "TextModel",
      "state": {
       "description": "Unique vals:",
       "layout": "IPY_MODEL_ab30670a46e94b6cbe5d8365c3d50aa0",
       "style": "IPY_MODEL_8505fd8d846c434486748943025337db",
       "value": "2/99"
      }
     },
     "9b94d9cf2b6c43dd9f552ff7dedecba6": {
      "model_module": "@jupyter-widgets/base",
      "model_module_version": "2.0.0",
      "model_name": "LayoutModel",
      "state": {}
     },
     "9b9b1efe696f492b91a4e77e84fe7c2b": {
      "model_module": "@jupyter-widgets/controls",
      "model_module_version": "2.0.0",
      "model_name": "ButtonStyleModel",
      "state": {
       "font_family": null,
       "font_size": null,
       "font_style": null,
       "font_variant": null,
       "font_weight": null,
       "text_color": null,
       "text_decoration": null
      }
     },
     "9ba18ac2b7f44c3998d3f074dcd07f14": {
      "model_module": "@jupyter-widgets/controls",
      "model_module_version": "2.0.0",
      "model_name": "CheckboxStyleModel",
      "state": {
       "description_width": ""
      }
     },
     "9bde04cd69cf475e89be56b461578a24": {
      "model_module": "@jupyter-widgets/base",
      "model_module_version": "2.0.0",
      "model_name": "LayoutModel",
      "state": {}
     },
     "9be568ac97514d868f7fe213aa62e4a8": {
      "model_module": "@jupyter-widgets/base",
      "model_module_version": "2.0.0",
      "model_name": "LayoutModel",
      "state": {}
     },
     "9c02744e9baa44379331cf2434b64e52": {
      "model_module": "@jupyter-widgets/base",
      "model_module_version": "2.0.0",
      "model_name": "LayoutModel",
      "state": {}
     },
     "9c1adafeba8c4d5d903188bb14340e8e": {
      "model_module": "@jupyter-widgets/controls",
      "model_module_version": "2.0.0",
      "model_name": "LabelStyleModel",
      "state": {
       "description_width": "",
       "font_family": null,
       "font_size": null,
       "font_style": null,
       "font_variant": null,
       "font_weight": null,
       "text_color": null,
       "text_decoration": null
      }
     },
     "9c85b496baf941dc971270753604a7de": {
      "model_module": "@jupyter-widgets/base",
      "model_module_version": "2.0.0",
      "model_name": "LayoutModel",
      "state": {}
     },
     "9c956c31e17b4b608095d575f69379d1": {
      "model_module": "@jupyter-widgets/controls",
      "model_module_version": "2.0.0",
      "model_name": "TextModel",
      "state": {
       "description": "Unique vals:",
       "layout": "IPY_MODEL_5048bf7f92844507921e631d084e447f",
       "style": "IPY_MODEL_5ff2c49f7f0a48539da1ad730df1157f",
       "value": "3/99"
      }
     },
     "9c96c24675104ea8a0ec2fd7f968595c": {
      "model_module": "@jupyter-widgets/controls",
      "model_module_version": "2.0.0",
      "model_name": "DescriptionStyleModel",
      "state": {
       "description_width": ""
      }
     },
     "9ca176b27d4e49d4ba2c917d3e24f777": {
      "model_module": "@jupyter-widgets/controls",
      "model_module_version": "2.0.0",
      "model_name": "HBoxModel",
      "state": {
       "children": [
        "IPY_MODEL_1a84d95c4ea34025bd492f69670a23da",
        "IPY_MODEL_d3b8c93450f940d68ab26f1319e5b4aa",
        "IPY_MODEL_38e3445043c9400d97996f17920c4a4f"
       ],
       "layout": "IPY_MODEL_6c2500c6ffbd4e4ba0d2ec6de82c09cf"
      }
     },
     "9cfe4baa5b4e41639acd70788e53d139": {
      "model_module": "@jupyter-widgets/base",
      "model_module_version": "2.0.0",
      "model_name": "LayoutModel",
      "state": {}
     },
     "9d1b2965b0ba4a96864edf8ad2251806": {
      "model_module": "@jupyter-widgets/controls",
      "model_module_version": "2.0.0",
      "model_name": "TextStyleModel",
      "state": {
       "description_width": "",
       "font_size": null,
       "text_color": null
      }
     },
     "9d31de8e99864b98b87fd18c8fb496a6": {
      "model_module": "@jupyter-widgets/base",
      "model_module_version": "2.0.0",
      "model_name": "LayoutModel",
      "state": {}
     },
     "9da27adb878a481bb519e91cf48f88b3": {
      "model_module": "@jupyter-widgets/controls",
      "model_module_version": "2.0.0",
      "model_name": "DescriptionStyleModel",
      "state": {
       "description_width": ""
      }
     },
     "9da2bfe3810b461eb32eb63b88fd1734": {
      "model_module": "@jupyter-widgets/base",
      "model_module_version": "2.0.0",
      "model_name": "LayoutModel",
      "state": {}
     },
     "9da31e6b37f349d4af9b1cc89418e402": {
      "model_module": "@jupyter-widgets/controls",
      "model_module_version": "2.0.0",
      "model_name": "TextModel",
      "state": {
       "description": "Separator:",
       "disabled": true,
       "layout": "IPY_MODEL_90757074512e430d8480e3376b53e1c2",
       "placeholder": "if many values",
       "style": "IPY_MODEL_98e96375d8fe4116899800373b805383"
      }
     },
     "9db2601ccfbf44feb1f1f5c76e046197": {
      "model_module": "@jupyter-widgets/controls",
      "model_module_version": "2.0.0",
      "model_name": "TextStyleModel",
      "state": {
       "description_width": "",
       "font_size": null,
       "text_color": null
      }
     },
     "9de7a3a8e2b24b8bb672e4f46c467640": {
      "model_module": "@jupyter-widgets/controls",
      "model_module_version": "2.0.0",
      "model_name": "TextStyleModel",
      "state": {
       "description_width": "",
       "font_size": null,
       "text_color": null
      }
     },
     "9ec5f54210e145519ea231a144ff32e3": {
      "model_module": "@jupyter-widgets/controls",
      "model_module_version": "2.0.0",
      "model_name": "TextModel",
      "state": {
       "description": "Separator:",
       "disabled": true,
       "layout": "IPY_MODEL_c598a3772b864fa4b9ca11310dee6036",
       "placeholder": "if many values",
       "style": "IPY_MODEL_c1fe9bf2f0b2498eb64e6e5899664286"
      }
     },
     "9ecd70a62f8b4700956d9acb358b5bcc": {
      "model_module": "@jupyter-widgets/controls",
      "model_module_version": "2.0.0",
      "model_name": "TextStyleModel",
      "state": {
       "description_width": "",
       "font_size": null,
       "text_color": null
      }
     },
     "9ed9d3a3ed2f4a54a837bae35f02712a": {
      "model_module": "@jupyter-widgets/controls",
      "model_module_version": "2.0.0",
      "model_name": "TextModel",
      "state": {
       "description": "Separator:",
       "disabled": true,
       "layout": "IPY_MODEL_f1850d1181b5422aa4f0d28dec4023ce",
       "placeholder": "if many values",
       "style": "IPY_MODEL_c3aebd98963b435aafaa5cceb31fd2eb"
      }
     },
     "9ee74af2fb4a4acd843fac9d49f31a5e": {
      "model_module": "@jupyter-widgets/base",
      "model_module_version": "2.0.0",
      "model_name": "LayoutModel",
      "state": {}
     },
     "9f2eac02a9074656846d36d42fec55c5": {
      "model_module": "@jupyter-widgets/controls",
      "model_module_version": "2.0.0",
      "model_name": "TextStyleModel",
      "state": {
       "description_width": "",
       "font_size": null,
       "text_color": null
      }
     },
     "9f363dc23e744baa8808d2c535b60738": {
      "model_module": "@jupyter-widgets/controls",
      "model_module_version": "2.0.0",
      "model_name": "CheckboxModel",
      "state": {
       "description": "Use",
       "disabled": false,
       "layout": "IPY_MODEL_aa4897b6b83440c2a63d4a72efbfd8a3",
       "style": "IPY_MODEL_91a76da8b5cf4f599d13356adf91379f",
       "value": false
      }
     },
     "9f7af3b69bad4f76adf4a194117571cf": {
      "model_module": "@jupyter-widgets/controls",
      "model_module_version": "2.0.0",
      "model_name": "TextStyleModel",
      "state": {
       "description_width": "",
       "font_size": null,
       "text_color": null
      }
     },
     "9faec73d1e0b4cf7bb3d241961136a00": {
      "model_module": "@jupyter-widgets/controls",
      "model_module_version": "2.0.0",
      "model_name": "DropdownModel",
      "state": {
       "_options_labels": [
        "int8",
        "uint8",
        "int16",
        "uint16",
        "int32",
        "int64",
        "uint32",
        "uint64",
        "float32",
        "float64",
        "str"
       ],
       "description": "Retype:",
       "disabled": true,
       "index": 9,
       "layout": "IPY_MODEL_bc8826db93a0470fa69c5436e8d88264",
       "style": "IPY_MODEL_89ed7d337b134dd6883c13baec958ac4"
      }
     },
     "9fb5a76deac046768c1d0f2dd53e9e21": {
      "model_module": "@jupyter-widgets/controls",
      "model_module_version": "2.0.0",
      "model_name": "TextStyleModel",
      "state": {
       "description_width": "",
       "font_size": null,
       "text_color": null
      }
     },
     "9fb6e01075024e0fa8e07598bf27d75b": {
      "model_module": "@jupyter-widgets/base",
      "model_module_version": "2.0.0",
      "model_name": "LayoutModel",
      "state": {}
     },
     "9fbc37f9102d4f3288d4e58bc857f793": {
      "model_module": "@jupyter-widgets/base",
      "model_module_version": "2.0.0",
      "model_name": "LayoutModel",
      "state": {}
     },
     "9ff0a71712654c1a963a87bce00256db": {
      "model_module": "@jupyter-widgets/base",
      "model_module_version": "2.0.0",
      "model_name": "LayoutModel",
      "state": {}
     },
     "a05401e4ee234cdebb3ba6eb39526f56": {
      "model_module": "@jupyter-widgets/base",
      "model_module_version": "2.0.0",
      "model_name": "LayoutModel",
      "state": {}
     },
     "a0c523c552d84068941bca1688e58cd7": {
      "model_module": "@jupyter-widgets/base",
      "model_module_version": "2.0.0",
      "model_name": "LayoutModel",
      "state": {}
     },
     "a19827d3f7e44588963b0a78b4ad7fe2": {
      "model_module": "@jupyter-widgets/controls",
      "model_module_version": "2.0.0",
      "model_name": "TextStyleModel",
      "state": {
       "description_width": "",
       "font_size": null,
       "text_color": null
      }
     },
     "a1d0e336ed7c411ebaa9ebb33a2d9ea7": {
      "model_module": "@jupyter-widgets/base",
      "model_module_version": "2.0.0",
      "model_name": "LayoutModel",
      "state": {}
     },
     "a206314303524f7db90743bcb466ccb9": {
      "model_module": "@jupyter-widgets/base",
      "model_module_version": "2.0.0",
      "model_name": "LayoutModel",
      "state": {}
     },
     "a21b521bb7644f58a634cdf74e765a75": {
      "model_module": "@jupyter-widgets/controls",
      "model_module_version": "2.0.0",
      "model_name": "CheckboxStyleModel",
      "state": {
       "description_width": ""
      }
     },
     "a24debaf892d41e98fa920097f9f3454": {
      "model_module": "@jupyter-widgets/base",
      "model_module_version": "2.0.0",
      "model_name": "LayoutModel",
      "state": {}
     },
     "a25d564c0eab402f9272a0f9c1031c27": {
      "model_module": "@jupyter-widgets/base",
      "model_module_version": "2.0.0",
      "model_name": "LayoutModel",
      "state": {}
     },
     "a278d55e4d9141a4ae49d39f171d3953": {
      "model_module": "@jupyter-widgets/base",
      "model_module_version": "2.0.0",
      "model_name": "LayoutModel",
      "state": {}
     },
     "a27e6e1dfb95463f82aae2dfecb26500": {
      "model_module": "@jupyter-widgets/controls",
      "model_module_version": "2.0.0",
      "model_name": "DescriptionStyleModel",
      "state": {
       "description_width": ""
      }
     },
     "a2c0e0bb595d401ba14fadf5406e2e67": {
      "model_module": "@jupyter-widgets/controls",
      "model_module_version": "2.0.0",
      "model_name": "TextStyleModel",
      "state": {
       "description_width": "",
       "font_size": null,
       "text_color": null
      }
     },
     "a2d58740b4ee4c16bf35cb27f8a66a53": {
      "model_module": "@jupyter-widgets/controls",
      "model_module_version": "2.0.0",
      "model_name": "TextModel",
      "state": {
       "continuous_update": false,
       "description": "Name:",
       "disabled": true,
       "layout": "IPY_MODEL_501544ac17e847de8cd2b27e10671e74",
       "style": "IPY_MODEL_16e28d13de964ef1b5196a3d1979d0bf",
       "value": "pickup_latitude"
      }
     },
     "a2f44f741a5a45e88f1ca00b71203a77": {
      "model_module": "@jupyter-widgets/controls",
      "model_module_version": "2.0.0",
      "model_name": "TextModel",
      "state": {
       "continuous_update": false,
       "description": "Name:",
       "disabled": true,
       "layout": "IPY_MODEL_aa3dffdcf14145f399a70815481095b1",
       "style": "IPY_MODEL_3067c16ed99449d9b2f3c19f06e0c2b0",
       "value": "pickup_longitude"
      }
     },
     "a30a273bb2f2454f96ae606abc4fe5bb": {
      "model_module": "@jupyter-widgets/controls",
      "model_module_version": "2.0.0",
      "model_name": "CheckboxModel",
      "state": {
       "description": "Use",
       "disabled": false,
       "layout": "IPY_MODEL_0234c5971e5646459f0179ee2ca9704b",
       "style": "IPY_MODEL_b06b1e3fa0154a569fb843832e98a07d",
       "value": true
      }
     },
     "a34cf2f268014a539d7ed42c37115b86": {
      "model_module": "@jupyter-widgets/controls",
      "model_module_version": "2.0.0",
      "model_name": "ButtonModel",
      "state": {
       "description": "Start scheduler ...",
       "disabled": true,
       "icon": "check",
       "layout": "IPY_MODEL_6870c047f10c436ca8f52f9a8d7b628d",
       "style": "IPY_MODEL_1369881a772e4f15aaba1d9f9a57c41a",
       "tooltip": "Start scheduler ..."
      }
     },
     "a36030876ba342e7981c3bb8b1da0916": {
      "model_module": "@jupyter-widgets/controls",
      "model_module_version": "2.0.0",
      "model_name": "TextModel",
      "state": {
       "description": "NA values:",
       "layout": "IPY_MODEL_38a93765f0b740bda50c201c9cbb86e5",
       "style": "IPY_MODEL_2ce5b9d893b94a4ba053042550e20a6f"
      }
     },
     "a36330cf976e4e4eb5c50e3dbd68b51f": {
      "model_module": "@jupyter-widgets/controls",
      "model_module_version": "2.0.0",
      "model_name": "CheckboxModel",
      "state": {
       "description": "Use",
       "disabled": false,
       "layout": "IPY_MODEL_8df2380f1d0e4c8583a78cca15b0238b",
       "style": "IPY_MODEL_f1ff7d0055b245b4bca92615f9edc621",
       "value": true
      }
     },
     "a38a23e246a3405eb45d85ed725e4656": {
      "model_module": "@jupyter-widgets/controls",
      "model_module_version": "2.0.0",
      "model_name": "CheckboxStyleModel",
      "state": {
       "description_width": ""
      }
     },
     "a3d5c34040684f34af44c413317f8679": {
      "model_module": "@jupyter-widgets/controls",
      "model_module_version": "2.0.0",
      "model_name": "TextStyleModel",
      "state": {
       "description_width": "",
       "font_size": null,
       "text_color": null
      }
     },
     "a3da008029834dada037ae523a476eda": {
      "model_module": "@jupyter-widgets/base",
      "model_module_version": "2.0.0",
      "model_name": "LayoutModel",
      "state": {}
     },
     "a41cd2b61fff4511a16144aa3f3b41ed": {
      "model_module": "@jupyter-widgets/base",
      "model_module_version": "2.0.0",
      "model_name": "LayoutModel",
      "state": {}
     },
     "a434aca7724b469baeca98f38e7d2d3b": {
      "model_module": "@jupyter-widgets/controls",
      "model_module_version": "2.0.0",
      "model_name": "TextStyleModel",
      "state": {
       "description_width": "",
       "font_size": null,
       "text_color": null
      }
     },
     "a4672936228d4c438b76573073d331bb": {
      "model_module": "@jupyter-widgets/controls",
      "model_module_version": "2.0.0",
      "model_name": "TextModel",
      "state": {
       "description": "Type:",
       "disabled": true,
       "layout": "IPY_MODEL_367cc2d86cf040978345234581ef6209",
       "style": "IPY_MODEL_e72a7a5afb4244c39eebd8a5da8e34a0",
       "value": "float64"
      }
     },
     "a4a34e71e0264e17b821ba8dcae6e97a": {
      "model_module": "@jupyter-widgets/controls",
      "model_module_version": "2.0.0",
      "model_name": "DescriptionStyleModel",
      "state": {
       "description_width": ""
      }
     },
     "a4a4aa97efd94d7bbe86873df33488f8": {
      "model_module": "@jupyter-widgets/controls",
      "model_module_version": "2.0.0",
      "model_name": "CheckboxModel",
      "state": {
       "description": "Use",
       "disabled": false,
       "layout": "IPY_MODEL_840ed02358df48cc996a5e731180d451",
       "style": "IPY_MODEL_40ad410eb4494552a6cbd4de01456f01",
       "value": true
      }
     },
     "a4c2d0f25e6e419f84d63231372c8d37": {
      "model_module": "@jupyter-widgets/controls",
      "model_module_version": "2.0.0",
      "model_name": "TextStyleModel",
      "state": {
       "description_width": "",
       "font_size": null,
       "text_color": null
      }
     },
     "a5a04f764e9f47e096eca51b0fbd46ce": {
      "model_module": "@jupyter-widgets/controls",
      "model_module_version": "2.0.0",
      "model_name": "TextModel",
      "state": {
       "description": "NA values:",
       "layout": "IPY_MODEL_b91594c2ed904fb0a881134f57ee4a3b",
       "style": "IPY_MODEL_2d02763801504297bdaf820bd61974e0"
      }
     },
     "a5bb2b7321ba4025b52daa29e7877399": {
      "model_module": "@jupyter-widgets/controls",
      "model_module_version": "2.0.0",
      "model_name": "CheckboxStyleModel",
      "state": {
       "description_width": ""
      }
     },
     "a5fc6631bba54d72b85b40b9ebaf11b6": {
      "model_module": "@jupyter-widgets/controls",
      "model_module_version": "2.0.0",
      "model_name": "DropdownModel",
      "state": {
       "_options_labels": [
        "object",
        "str",
        "category",
        "datetime"
       ],
       "description": "Retype:",
       "index": 0,
       "layout": "IPY_MODEL_2fee54b1769e428f93f7b5df65462399",
       "style": "IPY_MODEL_2ace5b6d2bed4771bbfd48df25372f50"
      }
     },
     "a60d0353c6f44070b8fbc1a7184b25d3": {
      "model_module": "@jupyter-widgets/controls",
      "model_module_version": "2.0.0",
      "model_name": "VBoxModel",
      "state": {
       "children": [
        "IPY_MODEL_9af9276788ce435d826c8e907171dd0f",
        "IPY_MODEL_4a085a9ba40246518a951f679e8a8f01",
        "IPY_MODEL_ed7565c489c04c21a39be21a910c076b",
        "IPY_MODEL_f1c626e3905c4312b7c8fa2aebe737af",
        "IPY_MODEL_2118a43df8e745389b19d84526c4969d",
        "IPY_MODEL_c67ee90538544a5691a03fd80fc68ac5",
        "IPY_MODEL_dd35c833640e42e4a82aa1153a5360b9"
       ],
       "layout": "IPY_MODEL_394c4cd89230495a879b6b8e28d38aa0"
      }
     },
     "a61732e346204e0c911ba0b1a302a25b": {
      "model_module": "@jupyter-widgets/controls",
      "model_module_version": "2.0.0",
      "model_name": "TextModel",
      "state": {
       "description": "Type:",
       "disabled": true,
       "layout": "IPY_MODEL_16c0e2b36e104c90842cbcbf7cf93efc",
       "style": "IPY_MODEL_01f54d6269ab475096faf2c2687180d9",
       "value": "float64"
      }
     },
     "a62192616e2a4b579f7f2bb5a60d8db0": {
      "model_module": "@jupyter-widgets/base",
      "model_module_version": "2.0.0",
      "model_name": "LayoutModel",
      "state": {}
     },
     "a648e3cc9a1844c0a2a9180989bb49cb": {
      "model_module": "@jupyter-widgets/controls",
      "model_module_version": "2.0.0",
      "model_name": "TextStyleModel",
      "state": {
       "description_width": "",
       "font_size": null,
       "text_color": null
      }
     },
     "a6e3bb638c064adf872336f0dcab5041": {
      "model_module": "@jupyter-widgets/controls",
      "model_module_version": "2.0.0",
      "model_name": "TextStyleModel",
      "state": {
       "description_width": "",
       "font_size": null,
       "text_color": null
      }
     },
     "a6f6f36370254c29a5a1b0a3e1350a78": {
      "model_module": "@jupyter-widgets/base",
      "model_module_version": "2.0.0",
      "model_name": "LayoutModel",
      "state": {}
     },
     "a715847bd62e45e4a70b2d2587e4f281": {
      "model_module": "@jupyter-widgets/controls",
      "model_module_version": "2.0.0",
      "model_name": "TextStyleModel",
      "state": {
       "description_width": "",
       "font_size": null,
       "text_color": null
      }
     },
     "a724f492bb4346358dc9525d7a3f32d0": {
      "model_module": "@jupyter-widgets/controls",
      "model_module_version": "2.0.0",
      "model_name": "TextStyleModel",
      "state": {
       "description_width": "",
       "font_size": null,
       "text_color": null
      }
     },
     "a7383f1bb72e4c6aa48241d6ca70e9a9": {
      "model_module": "@jupyter-widgets/controls",
      "model_module_version": "2.0.0",
      "model_name": "TextModel",
      "state": {
       "description": "Unique vals:",
       "layout": "IPY_MODEL_e54e1ef3a3fc46d282914c26464456b8",
       "style": "IPY_MODEL_47e0082ec1094356b0ca7dda0bb50355",
       "value": "99/99"
      }
     },
     "a73ed4f2ec4346c3961640fb60af705b": {
      "model_module": "@jupyter-widgets/base",
      "model_module_version": "2.0.0",
      "model_name": "LayoutModel",
      "state": {}
     },
     "a79c426c44704188b6628fc86a16042a": {
      "model_module": "@jupyter-widgets/controls",
      "model_module_version": "2.0.0",
      "model_name": "DropdownModel",
      "state": {
       "_options_labels": [
        "int8",
        "uint8",
        "int16",
        "uint16",
        "int32",
        "int64",
        "uint32",
        "uint64",
        "float32",
        "float64",
        "str"
       ],
       "description": "Retype:",
       "disabled": true,
       "index": 9,
       "layout": "IPY_MODEL_324a7f484ad44f00bf4a1df4cb037ef3",
       "style": "IPY_MODEL_bddfff71995d494da511503709af8090"
      }
     },
     "a7a4afd680b845e797fa2017e7afb925": {
      "model_module": "@jupyter-widgets/base",
      "model_module_version": "2.0.0",
      "model_name": "LayoutModel",
      "state": {}
     },
     "a7ac7ff2a4d9419aa19e6bf1234ae0b3": {
      "model_module": "@jupyter-widgets/controls",
      "model_module_version": "2.0.0",
      "model_name": "TextModel",
      "state": {
       "description": "Rename:",
       "layout": "IPY_MODEL_78bd726016364a8e90c1527e72840bbf",
       "style": "IPY_MODEL_7fb4cd60b1f448ce8313dc33efd69926",
       "value": "payment_type"
      }
     },
     "a7eb0d9c93af4e229d93a1425ae7d84d": {
      "model_module": "@jupyter-widgets/base",
      "model_module_version": "2.0.0",
      "model_name": "LayoutModel",
      "state": {}
     },
     "a7f4e8583cd1442882fbb3148675f8c7": {
      "model_module": "@jupyter-widgets/base",
      "model_module_version": "2.0.0",
      "model_name": "LayoutModel",
      "state": {}
     },
     "a7f90f0cbca949f2ac673f45cf80bffe": {
      "model_module": "@jupyter-widgets/base",
      "model_module_version": "2.0.0",
      "model_name": "LayoutModel",
      "state": {}
     },
     "a813b0e0197d4777b4a667b9432bb637": {
      "model_module": "@jupyter-widgets/controls",
      "model_module_version": "2.0.0",
      "model_name": "TextStyleModel",
      "state": {
       "description_width": "",
       "font_size": null,
       "text_color": null
      }
     },
     "a82d760e500c45ebb4b67b70bc0cdb23": {
      "model_module": "@jupyter-widgets/controls",
      "model_module_version": "2.0.0",
      "model_name": "CheckboxModel",
      "state": {
       "description": "Use",
       "disabled": false,
       "layout": "IPY_MODEL_885892c0818642fd9a13b2e7843d589c",
       "style": "IPY_MODEL_0a176de73d8d45f2ba357c8a06fbbfba",
       "value": true
      }
     },
     "a840d9845e3d4a20a22d1d15835cb9bb": {
      "model_module": "@jupyter-widgets/controls",
      "model_module_version": "2.0.0",
      "model_name": "CheckboxModel",
      "state": {
       "description": "NA values",
       "disabled": false,
       "layout": "IPY_MODEL_0d1c0f71769b4147844321d482ad3bff",
       "style": "IPY_MODEL_b8ac7e5102ad489398ea1e5f37242731",
       "value": false
      }
     },
     "a85195a7dcc44db98906f3fca25454fa": {
      "model_module": "@jupyter-widgets/controls",
      "model_module_version": "2.0.0",
      "model_name": "TextModel",
      "state": {
       "description": "Rename:",
       "layout": "IPY_MODEL_f6ec5c101430486b857d8cae64cc8f3d",
       "style": "IPY_MODEL_4b7cc2cda20545018d39ee6f1f706364",
       "value": "VendorID"
      }
     },
     "a858c470db6e4cf084eeeb116b1b1281": {
      "model_module": "@jupyter-widgets/controls",
      "model_module_version": "2.0.0",
      "model_name": "TextModel",
      "state": {
       "description": "Separator:",
       "disabled": true,
       "layout": "IPY_MODEL_2a2982992b4f46f593675a043daef7ac",
       "placeholder": "if many values",
       "style": "IPY_MODEL_638299a5ab444cd9942b057b164155fb"
      }
     },
     "a866549a068d43bbb8d90928f32c32fe": {
      "model_module": "@jupyter-widgets/base",
      "model_module_version": "2.0.0",
      "model_name": "LayoutModel",
      "state": {}
     },
     "a89c4d9fbfe349e88f9710161b285eef": {
      "model_module": "@jupyter-widgets/controls",
      "model_module_version": "2.0.0",
      "model_name": "TextStyleModel",
      "state": {
       "description_width": "",
       "font_size": null,
       "text_color": null
      }
     },
     "a89dfbbba9c64817a7e1ca2b2d53060f": {
      "model_module": "@jupyter-widgets/controls",
      "model_module_version": "2.0.0",
      "model_name": "TextModel",
      "state": {
       "description": "Rename:",
       "layout": "IPY_MODEL_d12ae9dc5b7a40ecabdb537c47c07b12",
       "style": "IPY_MODEL_1d7e7b5855b34bb799b08a82dd365333",
       "value": "tip_amount"
      }
     },
     "a8aee4b895b44ff9a144453cba8e7656": {
      "model_module": "@jupyter-widgets/base",
      "model_module_version": "2.0.0",
      "model_name": "LayoutModel",
      "state": {}
     },
     "a8bbb20fc9ef46989b7b77a3b789dc9e": {
      "model_module": "@jupyter-widgets/controls",
      "model_module_version": "2.0.0",
      "model_name": "TextModel",
      "state": {
       "description": "Type:",
       "disabled": true,
       "layout": "IPY_MODEL_3fb0997fe7e348b9b7de40a06fd5f4c7",
       "style": "IPY_MODEL_1fc1659adab14faaa7885b010d13ed38",
       "value": "float64"
      }
     },
     "a8cf6b53b4574aa68e8e255ad926a68f": {
      "model_module": "@jupyter-widgets/controls",
      "model_module_version": "2.0.0",
      "model_name": "TextModel",
      "state": {
       "continuous_update": false,
       "description": "Name:",
       "disabled": true,
       "layout": "IPY_MODEL_34eafb8694f74eac91334847e943285a",
       "style": "IPY_MODEL_4473a56d528f41a388534efec549f29c",
       "value": "dropoff_longitude"
      }
     },
     "a8d18cd914e74f708367d04251d76e69": {
      "model_module": "@jupyter-widgets/controls",
      "model_module_version": "2.0.0",
      "model_name": "VBoxModel",
      "state": {
       "children": [
        "IPY_MODEL_ff0e2acaa3af4c0dbe8cd0614c9a87ea",
        "IPY_MODEL_0525de2f5cfa410aac0429bc25a1ff8e",
        "IPY_MODEL_c2aa13c350a64950bbdd60f8a1adfa63"
       ],
       "layout": "IPY_MODEL_31bf121602dc445fbc251f8238ee44e1"
      }
     },
     "a92d0e35c43a4795bc0653f96c7a1f27": {
      "model_module": "@jupyter-widgets/controls",
      "model_module_version": "2.0.0",
      "model_name": "CheckboxModel",
      "state": {
       "description": "NA values",
       "disabled": false,
       "layout": "IPY_MODEL_d7dde3e670e64e718405c70261004c06",
       "style": "IPY_MODEL_5a4d3bf5449241df9e05b4ca438879fe",
       "value": false
      }
     },
     "a933f60407244dcfadabc27dd501f5ae": {
      "model_module": "@jupyter-widgets/controls",
      "model_module_version": "2.0.0",
      "model_name": "TextStyleModel",
      "state": {
       "description_width": "",
       "font_size": null,
       "text_color": null
      }
     },
     "a9453bf813944212bf06d1664cfcaf9d": {
      "model_module": "@jupyter-widgets/base",
      "model_module_version": "2.0.0",
      "model_name": "LayoutModel",
      "state": {}
     },
     "a948d6ffd2c14359982fef118d7ab83c": {
      "model_module": "@jupyter-widgets/controls",
      "model_module_version": "2.0.0",
      "model_name": "VBoxModel",
      "state": {
       "children": [
        "IPY_MODEL_7b73547280fc467cb1a2d370317b05c0",
        "IPY_MODEL_19243ddafd514df7b934beee094cb976",
        "IPY_MODEL_389ba47a4589470faf60da1835431bff",
        "IPY_MODEL_a79c426c44704188b6628fc86a16042a",
        "IPY_MODEL_9f363dc23e744baa8808d2c535b60738",
        "IPY_MODEL_6023be27904946b88692ddc69c1e3776",
        "IPY_MODEL_b823caec706d443698222925a1aca6e7"
       ],
       "layout": "IPY_MODEL_d54962a0905641e0942bece8879a35b0"
      }
     },
     "a973648b5a4449269e569efb052190d4": {
      "model_module": "@jupyter-widgets/base",
      "model_module_version": "2.0.0",
      "model_name": "LayoutModel",
      "state": {}
     },
     "a9c1f8d902f54b4f9e9150b9e0d63a5d": {
      "model_module": "@jupyter-widgets/controls",
      "model_module_version": "2.0.0",
      "model_name": "TextStyleModel",
      "state": {
       "description_width": "",
       "font_size": null,
       "text_color": null
      }
     },
     "a9c42465ce4b427c8e38270aeec43328": {
      "model_module": "@jupyter-widgets/base",
      "model_module_version": "2.0.0",
      "model_name": "LayoutModel",
      "state": {}
     },
     "a9c7e0a61ecd4d3c8607eaf41da95e2b": {
      "model_module": "@jupyter-widgets/base",
      "model_module_version": "2.0.0",
      "model_name": "LayoutModel",
      "state": {}
     },
     "a9d9a679b5a44e0389e10469dac1ba1f": {
      "model_module": "@jupyter-widgets/base",
      "model_module_version": "2.0.0",
      "model_name": "LayoutModel",
      "state": {}
     },
     "a9dd27cbd77a48ac868af2f2cdc2045b": {
      "model_module": "@jupyter-widgets/controls",
      "model_module_version": "2.0.0",
      "model_name": "TextModel",
      "state": {
       "continuous_update": false,
       "description": "Name:",
       "disabled": true,
       "layout": "IPY_MODEL_e4e494dc352c4d0e9f6537e2d302097b",
       "style": "IPY_MODEL_f20837d7434b4112961f519e9dc48427",
       "value": "passenger_count"
      }
     },
     "aa348b43ffb244cda3e3f95ed0842ecd": {
      "model_module": "@jupyter-widgets/base",
      "model_module_version": "2.0.0",
      "model_name": "LayoutModel",
      "state": {}
     },
     "aa3dffdcf14145f399a70815481095b1": {
      "model_module": "@jupyter-widgets/base",
      "model_module_version": "2.0.0",
      "model_name": "LayoutModel",
      "state": {}
     },
     "aa4897b6b83440c2a63d4a72efbfd8a3": {
      "model_module": "@jupyter-widgets/base",
      "model_module_version": "2.0.0",
      "model_name": "LayoutModel",
      "state": {}
     },
     "aa5cb31ffcab402f8df0e2ea1e6460c8": {
      "model_module": "@jupyter-widgets/controls",
      "model_module_version": "2.0.0",
      "model_name": "TextModel",
      "state": {
       "description": "Type:",
       "disabled": true,
       "layout": "IPY_MODEL_68f7d01d1a464df3a4b815f801a98fbd",
       "style": "IPY_MODEL_75df438712b845858be5272a5ba96a57",
       "value": "int64"
      }
     },
     "aa89a94c37cd48178ce28e79b1a4a107": {
      "model_module": "@jupyter-widgets/controls",
      "model_module_version": "2.0.0",
      "model_name": "TextStyleModel",
      "state": {
       "description_width": "",
       "font_size": null,
       "text_color": null
      }
     },
     "aa91138c55784a0c8a0172eb4c06541f": {
      "model_module": "@jupyter-widgets/controls",
      "model_module_version": "2.0.0",
      "model_name": "TextStyleModel",
      "state": {
       "description_width": "",
       "font_size": null,
       "text_color": null
      }
     },
     "aa995ce6074f46e3872785034bbaa8de": {
      "model_module": "@jupyter-widgets/base",
      "model_module_version": "2.0.0",
      "model_name": "LayoutModel",
      "state": {}
     },
     "aac47466ecf64145a794e52f11399f87": {
      "model_module": "@jupyter-widgets/controls",
      "model_module_version": "2.0.0",
      "model_name": "TextStyleModel",
      "state": {
       "description_width": "",
       "font_size": null,
       "text_color": null
      }
     },
     "aafd792d386d49e6b2fb7b90fefc17f2": {
      "model_module": "@jupyter-widgets/base",
      "model_module_version": "2.0.0",
      "model_name": "LayoutModel",
      "state": {}
     },
     "ab261dc26ca54ba49005dc46c9824cec": {
      "model_module": "@jupyter-widgets/controls",
      "model_module_version": "2.0.0",
      "model_name": "LabelStyleModel",
      "state": {
       "description_width": "",
       "font_family": null,
       "font_size": null,
       "font_style": null,
       "font_variant": null,
       "font_weight": null,
       "text_color": null,
       "text_decoration": null
      }
     },
     "ab30670a46e94b6cbe5d8365c3d50aa0": {
      "model_module": "@jupyter-widgets/base",
      "model_module_version": "2.0.0",
      "model_name": "LayoutModel",
      "state": {}
     },
     "ab4c0af97ea24c7b8dd309c891611594": {
      "model_module": "@jupyter-widgets/controls",
      "model_module_version": "2.0.0",
      "model_name": "TextModel",
      "state": {
       "description": "Type:",
       "disabled": true,
       "layout": "IPY_MODEL_a9d9a679b5a44e0389e10469dac1ba1f",
       "style": "IPY_MODEL_fb2b6aa088cc49a7977422325f2d39af",
       "value": "float64"
      }
     },
     "ab4fa903df2d423889e90359949f381a": {
      "model_module": "@jupyter-widgets/controls",
      "model_module_version": "2.0.0",
      "model_name": "DropdownModel",
      "state": {
       "_options_labels": [
        "int8",
        "uint8",
        "int16",
        "uint16",
        "int32",
        "int64",
        "uint32",
        "uint64",
        "float32",
        "float64",
        "str"
       ],
       "description": "Retype:",
       "index": 5,
       "layout": "IPY_MODEL_7acc48716fa34c37bff55ff1acbaa06c",
       "style": "IPY_MODEL_7a9f2c6860324752b54068a20403584e"
      }
     },
     "ab5e4282a5d34b5c98eb0043a098126c": {
      "model_module": "@jupyter-widgets/controls",
      "model_module_version": "2.0.0",
      "model_name": "CheckboxModel",
      "state": {
       "description": "Use",
       "disabled": false,
       "layout": "IPY_MODEL_10785c88ef6f43d28df3f3dde1789135",
       "style": "IPY_MODEL_698e85962e374e4387bb1eb85bb0b1b0",
       "value": true
      }
     },
     "abb2fdba8b2d4c2781804db5668b4ac9": {
      "model_module": "@jupyter-widgets/controls",
      "model_module_version": "2.0.0",
      "model_name": "CheckboxStyleModel",
      "state": {
       "description_width": ""
      }
     },
     "abb5bcb3cc8f48ab9b02d883e2d7fa56": {
      "model_module": "@jupyter-widgets/controls",
      "model_module_version": "2.0.0",
      "model_name": "TextModel",
      "state": {
       "description": "Separator:",
       "disabled": true,
       "layout": "IPY_MODEL_5d17d0cf37dd498d83c43bc8f5542e44",
       "placeholder": "if many values",
       "style": "IPY_MODEL_04ab01f17c6543e08effbf512dcba1ab"
      }
     },
     "abd63443a2b34fa6ba9c82086e18226c": {
      "model_module": "@jupyter-widgets/base",
      "model_module_version": "2.0.0",
      "model_name": "LayoutModel",
      "state": {}
     },
     "abe20089c7564909a5cf7c717a65a378": {
      "model_module": "@jupyter-widgets/controls",
      "model_module_version": "2.0.0",
      "model_name": "TextStyleModel",
      "state": {
       "description_width": "",
       "font_size": null,
       "text_color": null
      }
     },
     "abf4b15ef2c945aea5de640d112352fe": {
      "model_module": "@jupyter-widgets/controls",
      "model_module_version": "2.0.0",
      "model_name": "TextStyleModel",
      "state": {
       "description_width": "",
       "font_size": null,
       "text_color": null
      }
     },
     "ac001d270e10477f98232e51c235cb54": {
      "model_module": "@jupyter-widgets/controls",
      "model_module_version": "2.0.0",
      "model_name": "TextModel",
      "state": {
       "description": "Separator:",
       "disabled": true,
       "layout": "IPY_MODEL_a7a4afd680b845e797fa2017e7afb925",
       "placeholder": "if many values",
       "style": "IPY_MODEL_83a32d2e6e8a4a289ea66a19c26ad530"
      }
     },
     "ac03aebeff254fb5919d6ae6cc446757": {
      "model_module": "@jupyter-widgets/base",
      "model_module_version": "2.0.0",
      "model_name": "LayoutModel",
      "state": {
       "visibility": "hidden"
      }
     },
     "ac0cbe2faf2e4f73b7bba6c6b3f0baec": {
      "model_module": "@jupyter-widgets/controls",
      "model_module_version": "2.0.0",
      "model_name": "VBoxModel",
      "state": {
       "children": [
        "IPY_MODEL_f88e668392e04973b4944310d5b46f26",
        "IPY_MODEL_56bc84bd49734d38957d1b537abe0519",
        "IPY_MODEL_7182cc8557094c34a1c2974660587c0d",
        "IPY_MODEL_d5b2cf5034324633bb5081c62a18c802",
        "IPY_MODEL_c4292964e4104aeb95a0794ac913180b",
        "IPY_MODEL_bb8b6867078543bb9cca1168810e8d8b",
        "IPY_MODEL_45d46e42e40e4b019776188f8d12746d"
       ],
       "layout": "IPY_MODEL_879ac3ddca144fefa39b08370d0af2e5"
      }
     },
     "ac1f1c6de9764824bb26e953e6404676": {
      "model_module": "@jupyter-widgets/controls",
      "model_module_version": "2.0.0",
      "model_name": "TextStyleModel",
      "state": {
       "description_width": "",
       "font_size": null,
       "text_color": null
      }
     },
     "ac236b5ad5f3405b9b3083cd9de8e177": {
      "model_module": "@jupyter-widgets/base",
      "model_module_version": "2.0.0",
      "model_name": "LayoutModel",
      "state": {}
     },
     "ac24b7b9e23e4069845c4b129d684f4c": {
      "model_module": "@jupyter-widgets/controls",
      "model_module_version": "2.0.0",
      "model_name": "CheckboxModel",
      "state": {
       "description": "NA values",
       "disabled": false,
       "layout": "IPY_MODEL_0808da77887046ae8716fd415a78e2fd",
       "style": "IPY_MODEL_80be5180b853475c9c3cf9bf516b8e9d",
       "value": false
      }
     },
     "ac5497c756f64bf8b7442b799097b672": {
      "model_module": "@jupyter-widgets/base",
      "model_module_version": "2.0.0",
      "model_name": "LayoutModel",
      "state": {}
     },
     "ac693705dcc84b768ab7bb055bbb2222": {
      "model_module": "@jupyter-widgets/controls",
      "model_module_version": "2.0.0",
      "model_name": "CheckboxModel",
      "state": {
       "description": "NA values",
       "disabled": false,
       "layout": "IPY_MODEL_618cf5bfcd0446b8969f2579bf4a14ed",
       "style": "IPY_MODEL_b638a78e82ef4f7fb00d0c08376a80dd",
       "value": false
      }
     },
     "ac6f41c1407d46e9ae9d6b9354929fa2": {
      "model_module": "@jupyter-widgets/controls",
      "model_module_version": "2.0.0",
      "model_name": "TextStyleModel",
      "state": {
       "description_width": "",
       "font_size": null,
       "text_color": null
      }
     },
     "ac6f698a0e234e3483a5699a6dc8f2fa": {
      "model_module": "@jupyter-widgets/base",
      "model_module_version": "2.0.0",
      "model_name": "LayoutModel",
      "state": {
       "visibility": "hidden"
      }
     },
     "ac8bb58d00214a6caf8cf4e91a996d6b": {
      "model_module": "@jupyter-widgets/base",
      "model_module_version": "2.0.0",
      "model_name": "LayoutModel",
      "state": {}
     },
     "ac9915229ef14eed97a7af9e8ab881ed": {
      "model_module": "@jupyter-widgets/controls",
      "model_module_version": "2.0.0",
      "model_name": "CheckboxStyleModel",
      "state": {
       "description_width": ""
      }
     },
     "aca6078f0af84d9abf1c265a5fe0b236": {
      "model_module": "@jupyter-widgets/base",
      "model_module_version": "2.0.0",
      "model_name": "LayoutModel",
      "state": {}
     },
     "acb5541a099a42b0822ca7a7afd86543": {
      "model_module": "@jupyter-widgets/controls",
      "model_module_version": "2.0.0",
      "model_name": "TextStyleModel",
      "state": {
       "description_width": "",
       "font_size": null,
       "text_color": null
      }
     },
     "ad5a17cb02b34880be248dd6c51d5bd4": {
      "model_module": "@jupyter-widgets/controls",
      "model_module_version": "2.0.0",
      "model_name": "VBoxModel",
      "state": {
       "children": [
        "IPY_MODEL_6a4850ad818946e391b912b7242c5e23",
        "IPY_MODEL_3d67387e680948ddb0ac48877433d9cf",
        "IPY_MODEL_f1d2b0514fd14468ba2457a8c0568815",
        "IPY_MODEL_808e377f148f4b0ca7e9abc214e60b3e",
        "IPY_MODEL_ffaa86848c364315820c5faf4bd5d4b3",
        "IPY_MODEL_01196ccb4b6b48449e88f5adb76e58d3",
        "IPY_MODEL_c41219c16e034a7ab474ef45aefbf95d"
       ],
       "layout": "IPY_MODEL_0dea7a60c47e4b8d8c8cb4f70b75e2e5"
      }
     },
     "ad9788666268481182a6e5f36cbbbfb3": {
      "model_module": "@jupyter-widgets/base",
      "model_module_version": "2.0.0",
      "model_name": "LayoutModel",
      "state": {}
     },
     "ad9e6849aace44e2b2469de4b62f1c89": {
      "model_module": "@jupyter-widgets/controls",
      "model_module_version": "2.0.0",
      "model_name": "DescriptionStyleModel",
      "state": {
       "description_width": ""
      }
     },
     "ada756b75f6b4717b8092078cd374304": {
      "model_module": "@jupyter-widgets/base",
      "model_module_version": "2.0.0",
      "model_name": "LayoutModel",
      "state": {}
     },
     "adac1084e78f4174991efcdad69a46a5": {
      "model_module": "@jupyter-widgets/controls",
      "model_module_version": "2.0.0",
      "model_name": "VBoxModel",
      "state": {
       "children": [
        "IPY_MODEL_a2f44f741a5a45e88f1ca00b71203a77",
        "IPY_MODEL_23af7f306ec9468eb042fdedaf8f96c1",
        "IPY_MODEL_f3e76018c5e842da86b0e616be16ad50",
        "IPY_MODEL_93d6afd155334f9e959094d1ed07309e",
        "IPY_MODEL_3d04813e6ef44a089d41409a4b1eb6ee",
        "IPY_MODEL_c19a94ffcbd14dbf914a08b79ff9ddf5",
        "IPY_MODEL_bbc568df4ef0454283156db1e6cc49a9"
       ],
       "layout": "IPY_MODEL_d41e121a9f29402baf3a764161fa0790"
      }
     },
     "adc050acdfae4613ae64460ce7d155ae": {
      "model_module": "@jupyter-widgets/controls",
      "model_module_version": "2.0.0",
      "model_name": "TextModel",
      "state": {
       "continuous_update": false,
       "description": "Name:",
       "disabled": true,
       "layout": "IPY_MODEL_66d45a6139944892b229b9f2cfbcbd57",
       "style": "IPY_MODEL_3b72764a3fbe455ea53808b4f2c821a4",
       "value": "tpep_pickup_datetime"
      }
     },
     "ae47560cc6ac42baba93e7d4e3722d53": {
      "model_module": "@jupyter-widgets/controls",
      "model_module_version": "2.0.0",
      "model_name": "TextModel",
      "state": {
       "description": "Unique vals:",
       "layout": "IPY_MODEL_96719162179d46db926b6c5eb06827d4",
       "style": "IPY_MODEL_fd975ea29b6f4b69a8d3c5c319fcbded",
       "value": "2/99"
      }
     },
     "ae6234df74a14fe0990fb9cde7d0806b": {
      "model_module": "@jupyter-widgets/controls",
      "model_module_version": "2.0.0",
      "model_name": "TextModel",
      "state": {
       "description": "Rename:",
       "layout": "IPY_MODEL_1eb94998847d480c9cf2b35f4a6fae2b",
       "style": "IPY_MODEL_fc3164814d8a4ac384c3e3e3fc916179",
       "value": "dropoff_latitude"
      }
     },
     "ae7121690220422b8e778027a4f03a6a": {
      "model_module": "@jupyter-widgets/controls",
      "model_module_version": "2.0.0",
      "model_name": "TextStyleModel",
      "state": {
       "description_width": "",
       "font_size": null,
       "text_color": null
      }
     },
     "aea0549feee64970ba7471e00dcc8f16": {
      "model_module": "@jupyter-widgets/base",
      "model_module_version": "2.0.0",
      "model_name": "LayoutModel",
      "state": {}
     },
     "aeafbf81f1234728a5c025aca83e2fda": {
      "model_module": "@jupyter-widgets/base",
      "model_module_version": "2.0.0",
      "model_name": "LayoutModel",
      "state": {}
     },
     "aec787904d514ec6b9d909f075988fb1": {
      "model_module": "@jupyter-widgets/base",
      "model_module_version": "2.0.0",
      "model_name": "LayoutModel",
      "state": {}
     },
     "aec992c702ff4fb6be9791811e23ab50": {
      "model_module": "@jupyter-widgets/base",
      "model_module_version": "2.0.0",
      "model_name": "LayoutModel",
      "state": {}
     },
     "aefe9fee28cf49c0a52b87617a869645": {
      "model_module": "@jupyter-widgets/controls",
      "model_module_version": "2.0.0",
      "model_name": "DropdownModel",
      "state": {
       "_options_labels": [
        "int8",
        "uint8",
        "int16",
        "uint16",
        "int32",
        "int64",
        "uint32",
        "uint64",
        "float32",
        "float64",
        "str"
       ],
       "description": "Retype:",
       "index": 9,
       "layout": "IPY_MODEL_53dc241d2d36431a865c2c60ee7530b4",
       "style": "IPY_MODEL_9ab0403ff6be4bedb05f8686a270a606"
      }
     },
     "af446dcdeb844a9cb71e77627ecf4a30": {
      "model_module": "@jupyter-widgets/base",
      "model_module_version": "2.0.0",
      "model_name": "LayoutModel",
      "state": {}
     },
     "af6ae0e9adc348a4adba5b83d651e1bb": {
      "model_module": "@jupyter-widgets/controls",
      "model_module_version": "2.0.0",
      "model_name": "TextStyleModel",
      "state": {
       "description_width": "",
       "font_size": null,
       "text_color": null
      }
     },
     "af887e7bd8d34c32acf9abaf812c9740": {
      "model_module": "@jupyter-widgets/controls",
      "model_module_version": "2.0.0",
      "model_name": "CheckboxModel",
      "state": {
       "description": "NA values",
       "disabled": false,
       "layout": "IPY_MODEL_943d136eefae4a19be812306a48cadd0",
       "style": "IPY_MODEL_18b73edf7a5243caad09de1b72837795",
       "value": false
      }
     },
     "afa1c582c6654f71b09f8cfe79f313e4": {
      "model_module": "@jupyter-widgets/controls",
      "model_module_version": "2.0.0",
      "model_name": "CheckboxStyleModel",
      "state": {
       "description_width": ""
      }
     },
     "b0371965bc0a48918490a78db1579752": {
      "model_module": "@jupyter-widgets/controls",
      "model_module_version": "2.0.0",
      "model_name": "TextStyleModel",
      "state": {
       "description_width": "",
       "font_size": null,
       "text_color": null
      }
     },
     "b06b1e3fa0154a569fb843832e98a07d": {
      "model_module": "@jupyter-widgets/controls",
      "model_module_version": "2.0.0",
      "model_name": "CheckboxStyleModel",
      "state": {
       "description_width": ""
      }
     },
     "b0847d92adcd4bf3a973d3d552e4d45a": {
      "model_module": "@jupyter-widgets/controls",
      "model_module_version": "2.0.0",
      "model_name": "TextStyleModel",
      "state": {
       "description_width": "",
       "font_size": null,
       "text_color": null
      }
     },
     "b08cfab8617541aa9eb8f55421952502": {
      "model_module": "@jupyter-widgets/controls",
      "model_module_version": "2.0.0",
      "model_name": "DescriptionStyleModel",
      "state": {
       "description_width": ""
      }
     },
     "b0b57f2f2fd14e40bcea164b542207f2": {
      "model_module": "@jupyter-widgets/controls",
      "model_module_version": "2.0.0",
      "model_name": "VBoxModel",
      "state": {
       "children": [
        "IPY_MODEL_ceabb798765f4f36b9b5fc53b9d41488",
        "IPY_MODEL_2080733c12cd45798d204d89556ae165",
        "IPY_MODEL_bc969ef21c0a42438941daa8b03c3738"
       ],
       "layout": "IPY_MODEL_78ef4dee3ab64721885882b200e1a061"
      }
     },
     "b0e6c1f6a1424d9f93298b351be4d29c": {
      "model_module": "@jupyter-widgets/base",
      "model_module_version": "2.0.0",
      "model_name": "LayoutModel",
      "state": {}
     },
     "b10d5ef89c584f489353a8d9822c1fa1": {
      "model_module": "@jupyter-widgets/controls",
      "model_module_version": "2.0.0",
      "model_name": "DescriptionStyleModel",
      "state": {
       "description_width": ""
      }
     },
     "b1880144e60c451db084af83f853393e": {
      "model_module": "@jupyter-widgets/controls",
      "model_module_version": "2.0.0",
      "model_name": "CheckboxModel",
      "state": {
       "description": "NA values",
       "disabled": false,
       "layout": "IPY_MODEL_df466a6a415140fa87c8022ecbfda772",
       "style": "IPY_MODEL_a21b521bb7644f58a634cdf74e765a75",
       "value": false
      }
     },
     "b1c78b6cfcf14bf697ee4ed58b0718fb": {
      "model_module": "@jupyter-widgets/controls",
      "model_module_version": "2.0.0",
      "model_name": "TextModel",
      "state": {
       "description": "NA values:",
       "layout": "IPY_MODEL_9a15076a29d9480180b9870f9fda45a2",
       "style": "IPY_MODEL_b2fdf521d1f043bb9a95df601629a1d4"
      }
     },
     "b1deb2b29c3d42a78578b9289de75781": {
      "model_module": "@jupyter-widgets/controls",
      "model_module_version": "2.0.0",
      "model_name": "TextModel",
      "state": {
       "description": "Separator:",
       "disabled": true,
       "layout": "IPY_MODEL_96441f0061fc4af5a91dc0f477311d45",
       "placeholder": "if many values",
       "style": "IPY_MODEL_5006d256bbf5418987caf941817eb46c"
      }
     },
     "b1f18532959a4cf99f5d7a95a2014fd0": {
      "model_module": "@jupyter-widgets/controls",
      "model_module_version": "2.0.0",
      "model_name": "CheckboxStyleModel",
      "state": {
       "description_width": ""
      }
     },
     "b1fae0ade7994083bd090160884e2170": {
      "model_module": "@jupyter-widgets/controls",
      "model_module_version": "2.0.0",
      "model_name": "TextModel",
      "state": {
       "description": "NA values:",
       "layout": "IPY_MODEL_c174dfe7cc604f6e844b76e7b1906585",
       "style": "IPY_MODEL_6df30f53367546be8d8c7c85abc95a28"
      }
     },
     "b22eb02c3db0477fb7fd94aebd04d0b6": {
      "model_module": "@jupyter-widgets/base",
      "model_module_version": "2.0.0",
      "model_name": "LayoutModel",
      "state": {}
     },
     "b238a86648a2418098345de207b6bcda": {
      "model_module": "@jupyter-widgets/base",
      "model_module_version": "2.0.0",
      "model_name": "LayoutModel",
      "state": {}
     },
     "b248a3173ce34ce48bcdb52f7163d99f": {
      "model_module": "@jupyter-widgets/controls",
      "model_module_version": "2.0.0",
      "model_name": "TextModel",
      "state": {
       "description": "NA values:",
       "layout": "IPY_MODEL_0acd9129aebd478db82d2b40175e5655",
       "style": "IPY_MODEL_7ca4f00e111f44c3ae56cd7d02fb4a6e"
      }
     },
     "b25b4bb8f881419f8b014e88b7a31962": {
      "model_module": "@jupyter-widgets/controls",
      "model_module_version": "2.0.0",
      "model_name": "DropdownModel",
      "state": {
       "_options_labels": [
        "int8",
        "uint8",
        "int16",
        "uint16",
        "int32",
        "int64",
        "uint32",
        "uint64",
        "float32",
        "float64",
        "str"
       ],
       "description": "Retype:",
       "index": 9,
       "layout": "IPY_MODEL_bf3cd22f56104eebba9f06874c0f2a24",
       "style": "IPY_MODEL_589373ac7e654f2dbdeb7a4fcb41a3cc"
      }
     },
     "b26e8ff6153d417dbb9a47bb847bf7b3": {
      "model_module": "@jupyter-widgets/controls",
      "model_module_version": "2.0.0",
      "model_name": "TextModel",
      "state": {
       "description": "Type:",
       "disabled": true,
       "layout": "IPY_MODEL_05ad4e45b3ba42f2b22ec1390940b9a2",
       "style": "IPY_MODEL_d186fab886dd44cfa6da21cf5a0ef60e",
       "value": "object"
      }
     },
     "b2977d9220924e238218a409329a49ba": {
      "model_module": "@jupyter-widgets/controls",
      "model_module_version": "2.0.0",
      "model_name": "DropdownModel",
      "state": {
       "_options_labels": [
        "int8",
        "uint8",
        "int16",
        "uint16",
        "int32",
        "int64",
        "uint32",
        "uint64",
        "float32",
        "float64",
        "str"
       ],
       "description": "Retype:",
       "index": 9,
       "layout": "IPY_MODEL_86bfe940c4e9483b9ca256a781c033af",
       "style": "IPY_MODEL_e93e88b3191e4c278a34ab34713ff631"
      }
     },
     "b2c6dcaca1434583bf07ceff4773dd85": {
      "model_module": "@jupyter-widgets/base",
      "model_module_version": "2.0.0",
      "model_name": "LayoutModel",
      "state": {}
     },
     "b2dabb861fe243cdbacf16ac952200cb": {
      "model_module": "@jupyter-widgets/controls",
      "model_module_version": "2.0.0",
      "model_name": "TextStyleModel",
      "state": {
       "description_width": "",
       "font_size": null,
       "text_color": null
      }
     },
     "b2ef42ed09e44a2c9bbb15de2c3ea5b5": {
      "model_module": "@jupyter-widgets/controls",
      "model_module_version": "2.0.0",
      "model_name": "CheckboxStyleModel",
      "state": {
       "description_width": ""
      }
     },
     "b2f49b6b958645dd8f7222dd4f16823b": {
      "model_module": "@jupyter-widgets/controls",
      "model_module_version": "2.0.0",
      "model_name": "CheckboxStyleModel",
      "state": {
       "description_width": ""
      }
     },
     "b2fa540cf3c54790aef0bf8b8a6d0864": {
      "model_module": "@jupyter-widgets/controls",
      "model_module_version": "2.0.0",
      "model_name": "TextModel",
      "state": {
       "description": "NA values:",
       "layout": "IPY_MODEL_24e117cc5c0a42f88d2e95bef15976be",
       "style": "IPY_MODEL_3fe1ea8442b94efea9a8207d6546aeed"
      }
     },
     "b2fdf521d1f043bb9a95df601629a1d4": {
      "model_module": "@jupyter-widgets/controls",
      "model_module_version": "2.0.0",
      "model_name": "TextStyleModel",
      "state": {
       "description_width": "",
       "font_size": null,
       "text_color": null
      }
     },
     "b317b2a300df4fd1bf7cd3d5663fae5d": {
      "model_module": "@jupyter-widgets/controls",
      "model_module_version": "2.0.0",
      "model_name": "TextModel",
      "state": {
       "continuous_update": false,
       "description": "Name:",
       "disabled": true,
       "layout": "IPY_MODEL_d78eb38f445b46219bf7abd9b47fcc9d",
       "style": "IPY_MODEL_fac8890ae0354662940513351f6cb969",
       "value": "trip_distance"
      }
     },
     "b32700c62e7246be89eac1b28a9a9708": {
      "model_module": "@jupyter-widgets/controls",
      "model_module_version": "2.0.0",
      "model_name": "TextStyleModel",
      "state": {
       "description_width": "",
       "font_size": null,
       "text_color": null
      }
     },
     "b3494c55d4df41759bfdf193998dde8a": {
      "model_module": "@jupyter-widgets/controls",
      "model_module_version": "2.0.0",
      "model_name": "CheckboxStyleModel",
      "state": {
       "description_width": ""
      }
     },
     "b3dcb7b3b3244cb28406668e7080e228": {
      "model_module": "@jupyter-widgets/controls",
      "model_module_version": "2.0.0",
      "model_name": "TextStyleModel",
      "state": {
       "description_width": "",
       "font_size": null,
       "text_color": null
      }
     },
     "b414e1df147241dd9d69577731de6b3f": {
      "model_module": "@jupyter-widgets/base",
      "model_module_version": "2.0.0",
      "model_name": "LayoutModel",
      "state": {}
     },
     "b42fa0cd705843dc809ae3a108d5f99c": {
      "model_module": "@jupyter-widgets/controls",
      "model_module_version": "2.0.0",
      "model_name": "CheckboxStyleModel",
      "state": {
       "description_width": ""
      }
     },
     "b43a0234162644c5a98818e7ea806d70": {
      "model_module": "@jupyter-widgets/controls",
      "model_module_version": "2.0.0",
      "model_name": "CheckboxModel",
      "state": {
       "description": "NA values",
       "disabled": false,
       "layout": "IPY_MODEL_ec6c2b6804844cb6bd7de0ce42258af5",
       "style": "IPY_MODEL_7d428dad86f546b8b3463f772a6eb5e2",
       "value": false
      }
     },
     "b472205d975343cbb2d680421556612d": {
      "model_module": "@jupyter-widgets/controls",
      "model_module_version": "2.0.0",
      "model_name": "VBoxModel",
      "state": {
       "children": [
        "IPY_MODEL_c2ff6d768e4f4f039000dc438b43d37e",
        "IPY_MODEL_c643a2090d67427ca0077edf84e795ac",
        "IPY_MODEL_01aa119d6253414485d674a46504825f",
        "IPY_MODEL_42f7df4210f74c28b8bd3d5cc3167453",
        "IPY_MODEL_e4b5d2bc951746c18e08262bcc42b440",
        "IPY_MODEL_f0a403fad80b4a72bcd529fc01a8df98",
        "IPY_MODEL_f929ed7446f142308ee1683233113776"
       ],
       "layout": "IPY_MODEL_15cddc19f3a942bcbc4781333facbd03"
      }
     },
     "b4a2a16eaa4b4b9398c27f3d945acbb8": {
      "model_module": "@jupyter-widgets/base",
      "model_module_version": "2.0.0",
      "model_name": "LayoutModel",
      "state": {}
     },
     "b4c23610b2c64e0eaeead8fe7557d83e": {
      "model_module": "@jupyter-widgets/base",
      "model_module_version": "2.0.0",
      "model_name": "LayoutModel",
      "state": {}
     },
     "b4cd21a6d41f4097a117b0ea819287f1": {
      "model_module": "@jupyter-widgets/controls",
      "model_module_version": "2.0.0",
      "model_name": "TextStyleModel",
      "state": {
       "description_width": "",
       "font_size": null,
       "text_color": null
      }
     },
     "b4d8f6813adb4050aab89f280cac8532": {
      "model_module": "@jupyter-widgets/controls",
      "model_module_version": "2.0.0",
      "model_name": "TextModel",
      "state": {
       "description": "Unique vals:",
       "layout": "IPY_MODEL_8425499cc5d14cfe95c9f19a6daf6a27",
       "style": "IPY_MODEL_03abd6ca71434ce187d16863de6eb6d9",
       "value": "99/99"
      }
     },
     "b4dff4c6f45a4e4d961022c73353dccb": {
      "model_module": "@jupyter-widgets/controls",
      "model_module_version": "2.0.0",
      "model_name": "TextStyleModel",
      "state": {
       "description_width": "",
       "font_size": null,
       "text_color": null
      }
     },
     "b4e6f4a6473f45af8ca9f833a9edf24f": {
      "model_module": "@jupyter-widgets/controls",
      "model_module_version": "2.0.0",
      "model_name": "TextStyleModel",
      "state": {
       "description_width": "",
       "font_size": null,
       "text_color": null
      }
     },
     "b50687b32d744c48aa3943730bfab8e2": {
      "model_module": "@jupyter-widgets/base",
      "model_module_version": "2.0.0",
      "model_name": "LayoutModel",
      "state": {}
     },
     "b5137f97e2924e689fce42e0cbc94484": {
      "model_module": "@jupyter-widgets/base",
      "model_module_version": "2.0.0",
      "model_name": "LayoutModel",
      "state": {}
     },
     "b52fc0711b9b42c1999d13787053c8ce": {
      "model_module": "@jupyter-widgets/controls",
      "model_module_version": "2.0.0",
      "model_name": "LabelStyleModel",
      "state": {
       "description_width": "",
       "font_family": null,
       "font_size": null,
       "font_style": null,
       "font_variant": null,
       "font_weight": null,
       "text_color": null,
       "text_decoration": null
      }
     },
     "b536245f807e4b7db00b41dcfd77bcac": {
      "model_module": "@jupyter-widgets/controls",
      "model_module_version": "2.0.0",
      "model_name": "TextStyleModel",
      "state": {
       "description_width": "",
       "font_size": null,
       "text_color": null
      }
     },
     "b5466456781249b59e4d5ece993c9a7b": {
      "model_module": "@jupyter-widgets/controls",
      "model_module_version": "2.0.0",
      "model_name": "VBoxModel",
      "state": {
       "children": [
        "IPY_MODEL_4ecfebc436194964b0fa9bd07f3c8170",
        "IPY_MODEL_95c23709d6714576bcee1ffc8b93627a",
        "IPY_MODEL_2f9d12836b094b12991e6a4c38983818",
        "IPY_MODEL_1194d39a2ecd4e45bd78bd651cc22ad2",
        "IPY_MODEL_8068f095d2cb4299a422d30575b65a2a",
        "IPY_MODEL_b7d42f163a4a4c5186943c1a86684b56",
        "IPY_MODEL_6ce5c180d96844a9be112045bd738dae"
       ],
       "layout": "IPY_MODEL_6c69f083accc4c0b8669a5c73c64d5ed"
      }
     },
     "b636ebc15e4641dd9bd455ce35ef0aae": {
      "model_module": "@jupyter-widgets/controls",
      "model_module_version": "2.0.0",
      "model_name": "ButtonStyleModel",
      "state": {
       "font_family": null,
       "font_size": null,
       "font_style": null,
       "font_variant": null,
       "font_weight": null,
       "text_color": null,
       "text_decoration": null
      }
     },
     "b638a78e82ef4f7fb00d0c08376a80dd": {
      "model_module": "@jupyter-widgets/controls",
      "model_module_version": "2.0.0",
      "model_name": "CheckboxStyleModel",
      "state": {
       "description_width": ""
      }
     },
     "b67964e5fcb246828bb1bef904120a40": {
      "model_module": "@jupyter-widgets/controls",
      "model_module_version": "2.0.0",
      "model_name": "TextModel",
      "state": {
       "description": "Separator:",
       "disabled": true,
       "layout": "IPY_MODEL_42db8eb51df3458ca127b156e06f568d",
       "placeholder": "if many values",
       "style": "IPY_MODEL_06a7a070ec5b44a7b8be09872626651b"
      }
     },
     "b6b05c4a8fd84d689cb5d0359add6cba": {
      "model_module": "@jupyter-widgets/base",
      "model_module_version": "2.0.0",
      "model_name": "LayoutModel",
      "state": {}
     },
     "b6b577999f5b4ed2a4e3e738d2bea40a": {
      "model_module": "@jupyter-widgets/controls",
      "model_module_version": "2.0.0",
      "model_name": "TextStyleModel",
      "state": {
       "description_width": "",
       "font_size": null,
       "text_color": null
      }
     },
     "b6c4142325694809928868cb9c1d128a": {
      "model_module": "@jupyter-widgets/base",
      "model_module_version": "2.0.0",
      "model_name": "LayoutModel",
      "state": {}
     },
     "b6fe52a736444766a17cfee924be8438": {
      "model_module": "@jupyter-widgets/base",
      "model_module_version": "2.0.0",
      "model_name": "LayoutModel",
      "state": {}
     },
     "b741da76863c44d785422dbd26f5076c": {
      "model_module": "@jupyter-widgets/controls",
      "model_module_version": "2.0.0",
      "model_name": "TextModel",
      "state": {
       "description": "Type:",
       "disabled": true,
       "layout": "IPY_MODEL_3685685d0e4148d38355ed6a3d92abd2",
       "style": "IPY_MODEL_774f04ee8d9a491abf202ba56a3ca903",
       "value": "float64"
      }
     },
     "b751e616281c49a6a99034e5bf27bf99": {
      "model_module": "@jupyter-widgets/base",
      "model_module_version": "2.0.0",
      "model_name": "LayoutModel",
      "state": {}
     },
     "b7558600995e4996b53c3c2dccdedbc3": {
      "model_module": "@jupyter-widgets/base",
      "model_module_version": "2.0.0",
      "model_name": "LayoutModel",
      "state": {}
     },
     "b7668336e54b4d41bf27744969f2164d": {
      "model_module": "@jupyter-widgets/controls",
      "model_module_version": "2.0.0",
      "model_name": "CheckboxModel",
      "state": {
       "description": "NA values",
       "disabled": false,
       "layout": "IPY_MODEL_8cc0a459f00c4a4689b0280e682c569f",
       "style": "IPY_MODEL_76ecc540bfa349d4876d94e507b0df6f",
       "value": false
      }
     },
     "b7d3bbdd6aca429fb6475aff426c83ad": {
      "model_module": "@jupyter-widgets/base",
      "model_module_version": "2.0.0",
      "model_name": "LayoutModel",
      "state": {}
     },
     "b7d42f163a4a4c5186943c1a86684b56": {
      "model_module": "@jupyter-widgets/controls",
      "model_module_version": "2.0.0",
      "model_name": "TextModel",
      "state": {
       "description": "Unique vals:",
       "layout": "IPY_MODEL_9be568ac97514d868f7fe213aa62e4a8",
       "style": "IPY_MODEL_c140ad3b9eaa406ebedaadc982176988",
       "value": "68/99"
      }
     },
     "b7f515c5e9734783be9b449a22369087": {
      "model_module": "@jupyter-widgets/controls",
      "model_module_version": "2.0.0",
      "model_name": "TextStyleModel",
      "state": {
       "description_width": "",
       "font_size": null,
       "text_color": null
      }
     },
     "b803ec69c03b4816a247b83f21dbb7e9": {
      "model_module": "@jupyter-widgets/controls",
      "model_module_version": "2.0.0",
      "model_name": "ButtonStyleModel",
      "state": {
       "font_family": null,
       "font_size": null,
       "font_style": null,
       "font_variant": null,
       "font_weight": null,
       "text_color": null,
       "text_decoration": null
      }
     },
     "b8051de294e540f59281f5d60f892609": {
      "model_module": "@jupyter-widgets/base",
      "model_module_version": "2.0.0",
      "model_name": "LayoutModel",
      "state": {}
     },
     "b823caec706d443698222925a1aca6e7": {
      "model_module": "@jupyter-widgets/controls",
      "model_module_version": "2.0.0",
      "model_name": "CheckboxModel",
      "state": {
       "description": "NA values",
       "disabled": false,
       "layout": "IPY_MODEL_b8cc4be9472046489e05a80a739dd2dd",
       "style": "IPY_MODEL_36229ffeddd44e118ba985191eeb928d",
       "value": false
      }
     },
     "b8547fa6f0b346e485b247b53cb77e8d": {
      "model_module": "@jupyter-widgets/controls",
      "model_module_version": "2.0.0",
      "model_name": "TextStyleModel",
      "state": {
       "description_width": "",
       "font_size": null,
       "text_color": null
      }
     },
     "b868bb4354104391b7fc5fe2a49bcc7b": {
      "model_module": "@jupyter-widgets/base",
      "model_module_version": "2.0.0",
      "model_name": "LayoutModel",
      "state": {}
     },
     "b8ac7e5102ad489398ea1e5f37242731": {
      "model_module": "@jupyter-widgets/controls",
      "model_module_version": "2.0.0",
      "model_name": "CheckboxStyleModel",
      "state": {
       "description_width": ""
      }
     },
     "b8cc4be9472046489e05a80a739dd2dd": {
      "model_module": "@jupyter-widgets/base",
      "model_module_version": "2.0.0",
      "model_name": "LayoutModel",
      "state": {}
     },
     "b8d0a7ba6e8746f2b16c5d7bcc3de9d2": {
      "model_module": "@jupyter-widgets/base",
      "model_module_version": "2.0.0",
      "model_name": "LayoutModel",
      "state": {}
     },
     "b8d4b0bc87554652821691ffd84e211e": {
      "model_module": "@jupyter-widgets/controls",
      "model_module_version": "2.0.0",
      "model_name": "VBoxModel",
      "state": {
       "children": [
        "IPY_MODEL_3b07fec379664ab78602c4b0c49ac13d",
        "IPY_MODEL_2774345a41524c1f8cbdc0209ba5f109",
        "IPY_MODEL_c9d5067f51644bdab71d950fa070a913",
        "IPY_MODEL_09df9f77423c43138f011aff9f69af38",
        "IPY_MODEL_6f7686e9a1e44990be480bac2bddd97a",
        "IPY_MODEL_4234486ae3454d3a988774bdf865d3fd",
        "IPY_MODEL_310c7748856a4125a66762522d907e35"
       ],
       "layout": "IPY_MODEL_1d83795a733d48aca75218654acde208"
      }
     },
     "b9140ac4cedf46779d366093a098170f": {
      "model_module": "@jupyter-widgets/base",
      "model_module_version": "2.0.0",
      "model_name": "LayoutModel",
      "state": {}
     },
     "b91594c2ed904fb0a881134f57ee4a3b": {
      "model_module": "@jupyter-widgets/base",
      "model_module_version": "2.0.0",
      "model_name": "LayoutModel",
      "state": {}
     },
     "b949c39b977e4c9e806056b9679b1c17": {
      "model_module": "@jupyter-widgets/controls",
      "model_module_version": "2.0.0",
      "model_name": "CheckboxStyleModel",
      "state": {
       "description_width": ""
      }
     },
     "b960bca3ebc642038df1166c8e759efb": {
      "model_module": "@jupyter-widgets/base",
      "model_module_version": "2.0.0",
      "model_name": "LayoutModel",
      "state": {}
     },
     "b960e96489cc4577b87992b4c7343419": {
      "model_module": "@jupyter-widgets/controls",
      "model_module_version": "2.0.0",
      "model_name": "TextModel",
      "state": {
       "description": "Unique vals:",
       "layout": "IPY_MODEL_08b2319dd93142989a501dbcba4dd514",
       "style": "IPY_MODEL_bf83069110674591873205d30a73a43d",
       "value": "67/99"
      }
     },
     "b969ce24bea24b5b8f061e728d397c95": {
      "model_module": "@jupyter-widgets/base",
      "model_module_version": "2.0.0",
      "model_name": "LayoutModel",
      "state": {}
     },
     "b98654fc85a04980aab91cc6dd4dc752": {
      "model_module": "@jupyter-widgets/controls",
      "model_module_version": "2.0.0",
      "model_name": "TextStyleModel",
      "state": {
       "description_width": "",
       "font_size": null,
       "text_color": null
      }
     },
     "b99b0a4354a94c1a86f40c2e9cefad4a": {
      "model_module": "@jupyter-widgets/base",
      "model_module_version": "2.0.0",
      "model_name": "LayoutModel",
      "state": {}
     },
     "b9c4307d1697430bafca6c340113ded7": {
      "model_module": "@jupyter-widgets/controls",
      "model_module_version": "2.0.0",
      "model_name": "TextModel",
      "state": {
       "description": "Unique vals:",
       "layout": "IPY_MODEL_5f9b7035e26a4bda86f27acf560233bf",
       "style": "IPY_MODEL_0af28fd73e934d0c94a0033c433966ad",
       "value": "39/99"
      }
     },
     "b9e3e925cf544a24bd6268efe8104011": {
      "model_module": "@jupyter-widgets/controls",
      "model_module_version": "2.0.0",
      "model_name": "TextStyleModel",
      "state": {
       "description_width": "",
       "font_size": null,
       "text_color": null
      }
     },
     "b9f0c0fe14e7484a9cbb4dd7c65a709e": {
      "model_module": "@jupyter-widgets/controls",
      "model_module_version": "2.0.0",
      "model_name": "CheckboxStyleModel",
      "state": {
       "description_width": ""
      }
     },
     "ba071e7e238d48648837ba1b5201a5fe": {
      "model_module": "@jupyter-widgets/base",
      "model_module_version": "2.0.0",
      "model_name": "LayoutModel",
      "state": {}
     },
     "ba1df9cc159c442fbc7e27c68d6e4700": {
      "model_module": "@jupyter-widgets/controls",
      "model_module_version": "2.0.0",
      "model_name": "TextModel",
      "state": {
       "continuous_update": false,
       "description": "Name:",
       "disabled": true,
       "layout": "IPY_MODEL_335e28ffd34f4d77be5feb53cedbb69f",
       "style": "IPY_MODEL_0989a7870cc843ebab9d221ac704c39c",
       "value": "Unnamed: 0"
      }
     },
     "ba5683c281a9482188c88e8805326c9c": {
      "model_module": "@jupyter-widgets/base",
      "model_module_version": "2.0.0",
      "model_name": "LayoutModel",
      "state": {}
     },
     "baa0ea6f05044e9d90c61ed8c3aafb8c": {
      "model_module": "@jupyter-widgets/base",
      "model_module_version": "2.0.0",
      "model_name": "LayoutModel",
      "state": {}
     },
     "baa4f6ed4ef14c3b88b2c7e40cf3420f": {
      "model_module": "@jupyter-widgets/controls",
      "model_module_version": "2.0.0",
      "model_name": "CheckboxStyleModel",
      "state": {
       "description_width": ""
      }
     },
     "bac68ec6240e4addbe762c092fff4b0e": {
      "model_module": "@jupyter-widgets/controls",
      "model_module_version": "2.0.0",
      "model_name": "CheckboxModel",
      "state": {
       "description": "Use",
       "disabled": false,
       "layout": "IPY_MODEL_988ab984f7ed457e86272aaa6406c7b2",
       "style": "IPY_MODEL_9a85b8836418468fb781ba4ec28d9b1e",
       "value": false
      }
     },
     "bad156448bac4b4fbfff0ba2d1aa90a0": {
      "model_module": "@jupyter-widgets/controls",
      "model_module_version": "2.0.0",
      "model_name": "TextModel",
      "state": {
       "continuous_update": false,
       "description": "Name:",
       "disabled": true,
       "layout": "IPY_MODEL_a24debaf892d41e98fa920097f9f3454",
       "style": "IPY_MODEL_fbe28a7a06c74188bb97d2f45c4aebf7",
       "value": "tpep_dropoff_datetime"
      }
     },
     "bb1d93874dd2493fb05211dd176cd78d": {
      "model_module": "@jupyter-widgets/base",
      "model_module_version": "2.0.0",
      "model_name": "LayoutModel",
      "state": {}
     },
     "bb568abba8f74cbeb934d5dba0cc8bc8": {
      "model_module": "@jupyter-widgets/controls",
      "model_module_version": "2.0.0",
      "model_name": "RadioButtonsModel",
      "state": {
       "_options_labels": [
        ",",
        ";",
        "<TAB>",
        "<SPACE>",
        ":",
        "skip initial space"
       ],
       "index": 0,
       "layout": "IPY_MODEL_fb896c27d3c84d958496297b7e7971f3",
       "style": "IPY_MODEL_308e4388e69f4a859e94b9ddd9abffa8"
      }
     },
     "bb75e8b7bc134bc5a03a99bfcb4d4f0e": {
      "model_module": "@jupyter-widgets/controls",
      "model_module_version": "2.0.0",
      "model_name": "CheckboxStyleModel",
      "state": {
       "description_width": ""
      }
     },
     "bb8b6867078543bb9cca1168810e8d8b": {
      "model_module": "@jupyter-widgets/controls",
      "model_module_version": "2.0.0",
      "model_name": "TextModel",
      "state": {
       "description": "Unique vals:",
       "layout": "IPY_MODEL_5b6e3661b16f4e22a929bebd21329212",
       "style": "IPY_MODEL_74916c3901154ec58c16e44732f32092",
       "value": "3/99"
      }
     },
     "bb969d2c88994efc96f75a9e584f5371": {
      "model_module": "@jupyter-widgets/controls",
      "model_module_version": "2.0.0",
      "model_name": "TextStyleModel",
      "state": {
       "description_width": "",
       "font_size": null,
       "text_color": null
      }
     },
     "bb9c9efd8a4f420a82556a92eaa9509b": {
      "model_module": "@jupyter-widgets/base",
      "model_module_version": "2.0.0",
      "model_name": "LayoutModel",
      "state": {}
     },
     "bbacbe409149424b949a43fbf35df21d": {
      "model_module": "@jupyter-widgets/controls",
      "model_module_version": "2.0.0",
      "model_name": "CheckboxStyleModel",
      "state": {
       "description_width": ""
      }
     },
     "bbc568df4ef0454283156db1e6cc49a9": {
      "model_module": "@jupyter-widgets/controls",
      "model_module_version": "2.0.0",
      "model_name": "CheckboxModel",
      "state": {
       "description": "NA values",
       "disabled": false,
       "layout": "IPY_MODEL_c393e386b7a04e678064db8df8d10b71",
       "style": "IPY_MODEL_b42fa0cd705843dc809ae3a108d5f99c",
       "value": false
      }
     },
     "bbe7902c3b404e7ab5a1a49d82249149": {
      "model_module": "@jupyter-widgets/controls",
      "model_module_version": "2.0.0",
      "model_name": "TextModel",
      "state": {
       "continuous_update": false,
       "description": "Name:",
       "disabled": true,
       "layout": "IPY_MODEL_5d144d6f1c4c4b2c92ba76abc83bd469",
       "style": "IPY_MODEL_9fb5a76deac046768c1d0f2dd53e9e21",
       "value": "extra"
      }
     },
     "bc0f8a5c49a240d1b6bd7c6a65b7c2e8": {
      "model_module": "@jupyter-widgets/base",
      "model_module_version": "2.0.0",
      "model_name": "LayoutModel",
      "state": {}
     },
     "bc39052c52604474920945bfd2f2ea22": {
      "model_module": "@jupyter-widgets/base",
      "model_module_version": "2.0.0",
      "model_name": "LayoutModel",
      "state": {}
     },
     "bc3e3e4ce51046f8844f14e0e995a76c": {
      "model_module": "@jupyter-widgets/base",
      "model_module_version": "2.0.0",
      "model_name": "LayoutModel",
      "state": {}
     },
     "bc7b990a48174974b0acd841c6581198": {
      "model_module": "@jupyter-widgets/base",
      "model_module_version": "2.0.0",
      "model_name": "LayoutModel",
      "state": {}
     },
     "bc850086f2c3442ba24c5e7488554ab0": {
      "model_module": "@jupyter-widgets/controls",
      "model_module_version": "2.0.0",
      "model_name": "TextStyleModel",
      "state": {
       "description_width": "",
       "font_size": null,
       "text_color": null
      }
     },
     "bc8826db93a0470fa69c5436e8d88264": {
      "model_module": "@jupyter-widgets/base",
      "model_module_version": "2.0.0",
      "model_name": "LayoutModel",
      "state": {}
     },
     "bc969ef21c0a42438941daa8b03c3738": {
      "model_module": "@jupyter-widgets/controls",
      "model_module_version": "2.0.0",
      "model_name": "TextModel",
      "state": {
       "description": "Date parser:",
       "layout": "IPY_MODEL_e61202549d2541a68935e46b26111cd2",
       "style": "IPY_MODEL_033ae55185044a74a158dcd17fdea38c"
      }
     },
     "bc982753e3b7442285c746d0f26097c1": {
      "model_module": "@jupyter-widgets/controls",
      "model_module_version": "2.0.0",
      "model_name": "DropdownModel",
      "state": {
       "_options_labels": [
        "int8",
        "uint8",
        "int16",
        "uint16",
        "int32",
        "int64",
        "uint32",
        "uint64",
        "float32",
        "float64",
        "str"
       ],
       "description": "Retype:",
       "index": 9,
       "layout": "IPY_MODEL_b238a86648a2418098345de207b6bcda",
       "style": "IPY_MODEL_1f5c2f1a60724a779bfa80afbcd1d2b7"
      }
     },
     "bc9f5b9f567c44bf805540ef02203026": {
      "model_module": "@jupyter-widgets/base",
      "model_module_version": "2.0.0",
      "model_name": "LayoutModel",
      "state": {}
     },
     "bcad1e22999549d987e419385e6c32a5": {
      "model_module": "@jupyter-widgets/controls",
      "model_module_version": "2.0.0",
      "model_name": "DropdownModel",
      "state": {
       "_options_labels": [
        "object",
        "str",
        "category",
        "datetime"
       ],
       "description": "Retype:",
       "index": 0,
       "layout": "IPY_MODEL_46c1ea428df04b889ce086ec14d0b548",
       "style": "IPY_MODEL_24f224f74c5446498b6f3dd3b0ef4cf6"
      }
     },
     "bcde715ecd9b479dbb3d5e9682eb98b8": {
      "model_module": "@jupyter-widgets/base",
      "model_module_version": "2.0.0",
      "model_name": "LayoutModel",
      "state": {}
     },
     "bcf4d1c4a6c14a949fc82cb8c2487741": {
      "model_module": "@jupyter-widgets/base",
      "model_module_version": "2.0.0",
      "model_name": "LayoutModel",
      "state": {}
     },
     "bcf61af1710248f2a2ca2d79e6648a88": {
      "model_module": "@jupyter-widgets/controls",
      "model_module_version": "2.0.0",
      "model_name": "TextModel",
      "state": {
       "description": "Rename:",
       "layout": "IPY_MODEL_fb941a1490434ef49b6f5f8fd4304a74",
       "style": "IPY_MODEL_67f2adecd7c848cf8054f2121d610143",
       "value": "improvement_surcharge"
      }
     },
     "bd2de63346d7457ba26e39038128d476": {
      "model_module": "@jupyter-widgets/base",
      "model_module_version": "2.0.0",
      "model_name": "LayoutModel",
      "state": {}
     },
     "bd75059f7138430ba2c5f1d17ee97545": {
      "model_module": "@jupyter-widgets/controls",
      "model_module_version": "2.0.0",
      "model_name": "CheckboxStyleModel",
      "state": {
       "description_width": ""
      }
     },
     "bd7feca934894d4192936136abd7804b": {
      "model_module": "@jupyter-widgets/controls",
      "model_module_version": "2.0.0",
      "model_name": "LabelModel",
      "state": {
       "layout": "IPY_MODEL_6ced6ea37ba34d5780a2d54210f508be",
       "style": "IPY_MODEL_ab261dc26ca54ba49005dc46c9824cec",
       "value": "Selected PColumn"
      }
     },
     "bdac99f6a37a401682cca56a8b6a801f": {
      "model_module": "@jupyter-widgets/controls",
      "model_module_version": "2.0.0",
      "model_name": "TextStyleModel",
      "state": {
       "description_width": "",
       "font_size": null,
       "text_color": null
      }
     },
     "bdc6476ede294ba3b4b2b2083ff1feb7": {
      "model_module": "@jupyter-widgets/controls",
      "model_module_version": "2.0.0",
      "model_name": "VBoxModel",
      "state": {
       "children": [
        "IPY_MODEL_8e9c2ddb75d24acdaa96a1b601d4418f",
        "IPY_MODEL_bcf61af1710248f2a2ca2d79e6648a88",
        "IPY_MODEL_2e1440bb3b2844579092791c73842069",
        "IPY_MODEL_ca63aadfe4b248df8081bd522b84b9cf",
        "IPY_MODEL_15470f92ab034807bd67abdf297f9208",
        "IPY_MODEL_32d8daa5c5f44be2a791df7f996c7f0c",
        "IPY_MODEL_241e0c2b39cf47d3be3f68c5c954421d"
       ],
       "layout": "IPY_MODEL_5c93d805050242e3b75a473729add561"
      }
     },
     "bddfff71995d494da511503709af8090": {
      "model_module": "@jupyter-widgets/controls",
      "model_module_version": "2.0.0",
      "model_name": "DescriptionStyleModel",
      "state": {
       "description_width": ""
      }
     },
     "be0f739d3d1c4107addb66f134eb4dcc": {
      "model_module": "@jupyter-widgets/controls",
      "model_module_version": "2.0.0",
      "model_name": "CheckboxModel",
      "state": {
       "description": "NA values",
       "disabled": false,
       "layout": "IPY_MODEL_929dab7083a8491f8782ebe1d6c86727",
       "style": "IPY_MODEL_c5a6714e70294f3bbe1cc63764f66fc1",
       "value": false
      }
     },
     "be3228637e664248a5db127e3b604fa7": {
      "model_module": "@jupyter-widgets/controls",
      "model_module_version": "2.0.0",
      "model_name": "TextModel",
      "state": {
       "description": "Rename:",
       "layout": "IPY_MODEL_156bb038c4954d769cd706e78a3be363",
       "style": "IPY_MODEL_866d669ac82e4cd0ac497f91f0f7c42b",
       "value": "tpep_pickup_datetime"
      }
     },
     "be61a0d860ba4b5f990edbe28009b236": {
      "model_module": "@jupyter-widgets/controls",
      "model_module_version": "2.0.0",
      "model_name": "TextModel",
      "state": {
       "description": "Type:",
       "disabled": true,
       "layout": "IPY_MODEL_e18f412007a346aebae4620a60190414",
       "style": "IPY_MODEL_9d1b2965b0ba4a96864edf8ad2251806",
       "value": "int64"
      }
     },
     "be7d754000da4895a32a138864af82c4": {
      "model_module": "@jupyter-widgets/base",
      "model_module_version": "2.0.0",
      "model_name": "LayoutModel",
      "state": {}
     },
     "be86b93b8d25458cb204d7a28db3f0f9": {
      "model_module": "@jupyter-widgets/controls",
      "model_module_version": "2.0.0",
      "model_name": "CheckboxStyleModel",
      "state": {
       "description_width": ""
      }
     },
     "bef10dfc72c646b5bb6ccf445cd40f85": {
      "model_module": "@jupyter-widgets/base",
      "model_module_version": "2.0.0",
      "model_name": "LayoutModel",
      "state": {}
     },
     "befda5b930e14c3a817aae8f6df5fa3d": {
      "model_module": "@jupyter-widgets/controls",
      "model_module_version": "2.0.0",
      "model_name": "DropdownModel",
      "state": {
       "_options_labels": [
        "int8",
        "uint8",
        "int16",
        "uint16",
        "int32",
        "int64",
        "uint32",
        "uint64",
        "float32",
        "float64",
        "str"
       ],
       "description": "Retype:",
       "disabled": true,
       "index": 9,
       "layout": "IPY_MODEL_d91cf757f2f24287970d7810ed8b91e0",
       "style": "IPY_MODEL_77e94828447f42cbb96e4f43ac1d3a35"
      }
     },
     "bf0049be22b54b6c956a738d26d9b8b4": {
      "model_module": "@jupyter-widgets/base",
      "model_module_version": "2.0.0",
      "model_name": "LayoutModel",
      "state": {}
     },
     "bf3cd22f56104eebba9f06874c0f2a24": {
      "model_module": "@jupyter-widgets/base",
      "model_module_version": "2.0.0",
      "model_name": "LayoutModel",
      "state": {}
     },
     "bf42f5115a0f4e31966f63a60bf46a60": {
      "model_module": "@jupyter-widgets/base",
      "model_module_version": "2.0.0",
      "model_name": "LayoutModel",
      "state": {}
     },
     "bf58658e4580492787002fcdcaf43744": {
      "model_module": "@jupyter-widgets/controls",
      "model_module_version": "2.0.0",
      "model_name": "TextModel",
      "state": {
       "description": "Rename:",
       "layout": "IPY_MODEL_f8468546d48e48488b1f717f31836f37",
       "style": "IPY_MODEL_9b5455dba62947da988ddaad737790a3",
       "value": "improvement_surcharge"
      }
     },
     "bf67fb62f57445969a08e0fb47021d05": {
      "model_module": "@jupyter-widgets/base",
      "model_module_version": "2.0.0",
      "model_name": "LayoutModel",
      "state": {}
     },
     "bf6980f8c8ba478a81a76f2ea60fb56a": {
      "model_module": "@jupyter-widgets/controls",
      "model_module_version": "2.0.0",
      "model_name": "TextModel",
      "state": {
       "description": "NA values:",
       "layout": "IPY_MODEL_a41cd2b61fff4511a16144aa3f3b41ed",
       "style": "IPY_MODEL_6994874a807e4cc3ac37092a3a5ebb88"
      }
     },
     "bf711c47b9c748eab01178b4003ab55a": {
      "model_module": "@jupyter-widgets/base",
      "model_module_version": "2.0.0",
      "model_name": "LayoutModel",
      "state": {}
     },
     "bf71f3bf1416423fb028934fffc06433": {
      "model_module": "@jupyter-widgets/base",
      "model_module_version": "2.0.0",
      "model_name": "LayoutModel",
      "state": {}
     },
     "bf83069110674591873205d30a73a43d": {
      "model_module": "@jupyter-widgets/controls",
      "model_module_version": "2.0.0",
      "model_name": "TextStyleModel",
      "state": {
       "description_width": "",
       "font_size": null,
       "text_color": null
      }
     },
     "bf8345310a834b8498b1115c4e8b783a": {
      "model_module": "@jupyter-widgets/base",
      "model_module_version": "2.0.0",
      "model_name": "LayoutModel",
      "state": {}
     },
     "bf903156473d4191b92a3a32cebb87f7": {
      "model_module": "@jupyter-widgets/base",
      "model_module_version": "2.0.0",
      "model_name": "LayoutModel",
      "state": {}
     },
     "bf931c22e0234b8e89b397a37ef7726b": {
      "model_module": "@jupyter-widgets/base",
      "model_module_version": "2.0.0",
      "model_name": "LayoutModel",
      "state": {}
     },
     "bfa9ada2af544bb6922669234ea1f1fa": {
      "model_module": "@jupyter-widgets/controls",
      "model_module_version": "2.0.0",
      "model_name": "TextModel",
      "state": {
       "description": "Separator:",
       "disabled": true,
       "layout": "IPY_MODEL_a7f4e8583cd1442882fbb3148675f8c7",
       "placeholder": "if many values",
       "style": "IPY_MODEL_2b28e77e0f8c436085829d9336503a07"
      }
     },
     "c03426f7f1314976a0764af04e3d8b3d": {
      "model_module": "@jupyter-widgets/controls",
      "model_module_version": "2.0.0",
      "model_name": "TextModel",
      "state": {
       "description": "NA values:",
       "layout": "IPY_MODEL_baa0ea6f05044e9d90c61ed8c3aafb8c",
       "style": "IPY_MODEL_634b8bd9f5e4475587a34efe07cead9f"
      }
     },
     "c034916727ae4af6a319a4053bd464b0": {
      "model_module": "@jupyter-widgets/base",
      "model_module_version": "2.0.0",
      "model_name": "LayoutModel",
      "state": {}
     },
     "c05097370b984a01bc8d6b3db50a09f9": {
      "model_module": "@jupyter-widgets/controls",
      "model_module_version": "2.0.0",
      "model_name": "TextStyleModel",
      "state": {
       "description_width": "",
       "font_size": null,
       "text_color": null
      }
     },
     "c064fead87864f7e93ad88c528498c40": {
      "model_module": "@jupyter-widgets/base",
      "model_module_version": "2.0.0",
      "model_name": "LayoutModel",
      "state": {}
     },
     "c0764134478b4394997d7c20e4ef53e1": {
      "model_module": "@jupyter-widgets/controls",
      "model_module_version": "2.0.0",
      "model_name": "TextStyleModel",
      "state": {
       "description_width": "",
       "font_size": null,
       "text_color": null
      }
     },
     "c0cdab4da55c4db281b930970a774892": {
      "model_module": "@jupyter-widgets/controls",
      "model_module_version": "2.0.0",
      "model_name": "TextStyleModel",
      "state": {
       "description_width": "",
       "font_size": null,
       "text_color": null
      }
     },
     "c0d62793b0fb42129526bb7a3ef0d7f7": {
      "model_module": "@jupyter-widgets/base",
      "model_module_version": "2.0.0",
      "model_name": "LayoutModel",
      "state": {}
     },
     "c10e1177d3b942ee8b77f8fea23413dd": {
      "model_module": "@jupyter-widgets/controls",
      "model_module_version": "2.0.0",
      "model_name": "TextStyleModel",
      "state": {
       "description_width": "",
       "font_size": null,
       "text_color": null
      }
     },
     "c132a76176a94b778f8f9c7ca933a3b7": {
      "model_module": "@jupyter-widgets/controls",
      "model_module_version": "2.0.0",
      "model_name": "TextModel",
      "state": {
       "description": "Rename:",
       "layout": "IPY_MODEL_faeadc2cfb34452d98b7209206630313",
       "style": "IPY_MODEL_d34e94e095cf499e81c8055c6725d5e8",
       "value": "VendorID"
      }
     },
     "c133c3ce36c34d1ca86f947ece9b1d3f": {
      "model_module": "@jupyter-widgets/controls",
      "model_module_version": "2.0.0",
      "model_name": "DescriptionStyleModel",
      "state": {
       "description_width": ""
      }
     },
     "c140ad3b9eaa406ebedaadc982176988": {
      "model_module": "@jupyter-widgets/controls",
      "model_module_version": "2.0.0",
      "model_name": "TextStyleModel",
      "state": {
       "description_width": "",
       "font_size": null,
       "text_color": null
      }
     },
     "c15cd30c8e6145d1a0922361699ccd0f": {
      "model_module": "@jupyter-widgets/base",
      "model_module_version": "2.0.0",
      "model_name": "LayoutModel",
      "state": {}
     },
     "c167e0fc36664e0a8a95e9508c2335d4": {
      "model_module": "@jupyter-widgets/controls",
      "model_module_version": "2.0.0",
      "model_name": "CheckboxStyleModel",
      "state": {
       "description_width": ""
      }
     },
     "c174dfe7cc604f6e844b76e7b1906585": {
      "model_module": "@jupyter-widgets/base",
      "model_module_version": "2.0.0",
      "model_name": "LayoutModel",
      "state": {}
     },
     "c19a94ffcbd14dbf914a08b79ff9ddf5": {
      "model_module": "@jupyter-widgets/controls",
      "model_module_version": "2.0.0",
      "model_name": "TextModel",
      "state": {
       "description": "Unique vals:",
       "layout": "IPY_MODEL_98784487c1ce4d7a9c217bad3455456b",
       "style": "IPY_MODEL_034e6854d58c41bc832601f5eaed4bc4",
       "value": "97/99"
      }
     },
     "c1d0cc4dc7ae4452be12a58fc15aeba3": {
      "model_module": "@jupyter-widgets/base",
      "model_module_version": "2.0.0",
      "model_name": "LayoutModel",
      "state": {}
     },
     "c1fe9bf2f0b2498eb64e6e5899664286": {
      "model_module": "@jupyter-widgets/controls",
      "model_module_version": "2.0.0",
      "model_name": "TextStyleModel",
      "state": {
       "description_width": "",
       "font_size": null,
       "text_color": null
      }
     },
     "c20dc29c497b44fa8a1d759d5bb243d7": {
      "model_module": "@jupyter-widgets/controls",
      "model_module_version": "2.0.0",
      "model_name": "CheckboxStyleModel",
      "state": {
       "description_width": ""
      }
     },
     "c24f5c8d7f7e4a4b9729432c70d605b5": {
      "model_module": "@jupyter-widgets/controls",
      "model_module_version": "2.0.0",
      "model_name": "TextStyleModel",
      "state": {
       "description_width": "",
       "font_size": null,
       "text_color": null
      }
     },
     "c2591b7e085c4458ba3965dad307f6b3": {
      "model_module": "@jupyter-widgets/controls",
      "model_module_version": "2.0.0",
      "model_name": "TextModel",
      "state": {
       "description": "Type:",
       "disabled": true,
       "layout": "IPY_MODEL_7221f5ffce4646708dfdbe6eb616cdb6",
       "style": "IPY_MODEL_74d3798fbb4f4a1da8d6184acd108b72",
       "value": "float64"
      }
     },
     "c26fc473d9894646b17554ee9b77c6f3": {
      "model_module": "@jupyter-widgets/controls",
      "model_module_version": "2.0.0",
      "model_name": "VBoxModel",
      "state": {
       "children": [
        "IPY_MODEL_2f4f221c34ba4624ac7bbc758d3e0832",
        "IPY_MODEL_2c5299bdc13a4076b7663427ffb75c85",
        "IPY_MODEL_fe8693c0fca544d5ac60d3fa8d3821e8",
        "IPY_MODEL_6a39ca00bea9404991a71911e3f28c7c",
        "IPY_MODEL_e65d56c787c34e06ba9cad81893e2aa9",
        "IPY_MODEL_9c956c31e17b4b608095d575f69379d1",
        "IPY_MODEL_23ef8427a8b04e769956076263f988c5"
       ],
       "layout": "IPY_MODEL_19907bf18acf4500a7f2ff001ebe6ce1"
      }
     },
     "c2848947caba4e48a171ff39bd369836": {
      "model_module": "@jupyter-widgets/base",
      "model_module_version": "2.0.0",
      "model_name": "LayoutModel",
      "state": {}
     },
     "c2aa13c350a64950bbdd60f8a1adfa63": {
      "model_module": "@jupyter-widgets/output",
      "model_module_version": "1.0.0",
      "model_name": "OutputModel",
      "state": {
       "layout": "IPY_MODEL_84dc1e2f753e439a85d18660cb2d8ecb"
      }
     },
     "c2acbb565b3948278b7c986294b18603": {
      "model_module": "@jupyter-widgets/base",
      "model_module_version": "2.0.0",
      "model_name": "LayoutModel",
      "state": {}
     },
     "c2be93f6dd9e47c89c8623c093cf4f9b": {
      "model_module": "@jupyter-widgets/controls",
      "model_module_version": "2.0.0",
      "model_name": "TextStyleModel",
      "state": {
       "description_width": "",
       "font_size": null,
       "text_color": null
      }
     },
     "c2e7f383936b45248ea31bf8bbd69a14": {
      "model_module": "@jupyter-widgets/controls",
      "model_module_version": "2.0.0",
      "model_name": "DropdownModel",
      "state": {
       "_options_labels": [
        "int8",
        "uint8",
        "int16",
        "uint16",
        "int32",
        "int64",
        "uint32",
        "uint64",
        "float32",
        "float64",
        "str"
       ],
       "description": "Retype:",
       "index": 5,
       "layout": "IPY_MODEL_bf0049be22b54b6c956a738d26d9b8b4",
       "style": "IPY_MODEL_56f28ce8230a4b70a44df10fc76100a8"
      }
     },
     "c2f12706719a4126ac2800117f075aa1": {
      "model_module": "@jupyter-widgets/controls",
      "model_module_version": "2.0.0",
      "model_name": "CheckboxStyleModel",
      "state": {
       "description_width": ""
      }
     },
     "c2ff6d768e4f4f039000dc438b43d37e": {
      "model_module": "@jupyter-widgets/controls",
      "model_module_version": "2.0.0",
      "model_name": "TextModel",
      "state": {
       "continuous_update": false,
       "description": "Name:",
       "disabled": true,
       "layout": "IPY_MODEL_1b3bfcc614c74eb7a0d5e5a1cc470646",
       "style": "IPY_MODEL_533bebfc9e234097b91fd10646e236f5",
       "value": "fare_amount"
      }
     },
     "c34a882ee3b749e381b31359b56e41be": {
      "model_module": "@jupyter-widgets/controls",
      "model_module_version": "2.0.0",
      "model_name": "TextStyleModel",
      "state": {
       "description_width": "",
       "font_size": null,
       "text_color": null
      }
     },
     "c34e7e093d094674bb3314ab9b62b7ed": {
      "model_module": "@jupyter-widgets/base",
      "model_module_version": "2.0.0",
      "model_name": "LayoutModel",
      "state": {
       "visibility": "hidden"
      }
     },
     "c35ad3964ac240baa0bf91545f60d466": {
      "model_module": "@jupyter-widgets/base",
      "model_module_version": "2.0.0",
      "model_name": "LayoutModel",
      "state": {}
     },
     "c371e818ddce453ebc469c17ccf8665d": {
      "model_module": "@jupyter-widgets/controls",
      "model_module_version": "2.0.0",
      "model_name": "LabelModel",
      "state": {
       "layout": "IPY_MODEL_f4b7a02f346049198de35cdd2725334f",
       "style": "IPY_MODEL_b52fc0711b9b42c1999d13787053c8ce",
       "value": "dongle"
      }
     },
     "c393e386b7a04e678064db8df8d10b71": {
      "model_module": "@jupyter-widgets/base",
      "model_module_version": "2.0.0",
      "model_name": "LayoutModel",
      "state": {}
     },
     "c3aebd98963b435aafaa5cceb31fd2eb": {
      "model_module": "@jupyter-widgets/controls",
      "model_module_version": "2.0.0",
      "model_name": "TextStyleModel",
      "state": {
       "description_width": "",
       "font_size": null,
       "text_color": null
      }
     },
     "c3c88a22290d4a0cadc1a26fc9de718a": {
      "model_module": "@jupyter-widgets/controls",
      "model_module_version": "2.0.0",
      "model_name": "TextModel",
      "state": {
       "description": "Rename:",
       "layout": "IPY_MODEL_296f42eec501465ead1ed671924a62dd",
       "style": "IPY_MODEL_e545ac74ff6749e29e3d6b89204a6fa6",
       "value": "total_amount"
      }
     },
     "c41219c16e034a7ab474ef45aefbf95d": {
      "model_module": "@jupyter-widgets/controls",
      "model_module_version": "2.0.0",
      "model_name": "CheckboxModel",
      "state": {
       "description": "NA values",
       "disabled": false,
       "layout": "IPY_MODEL_b0e6c1f6a1424d9f93298b351be4d29c",
       "style": "IPY_MODEL_b1f18532959a4cf99f5d7a95a2014fd0",
       "value": false
      }
     },
     "c4292964e4104aeb95a0794ac913180b": {
      "model_module": "@jupyter-widgets/controls",
      "model_module_version": "2.0.0",
      "model_name": "CheckboxModel",
      "state": {
       "description": "Use",
       "disabled": false,
       "layout": "IPY_MODEL_dbb48afb404e4385b2bf15e94fec3af7",
       "style": "IPY_MODEL_66fdc0725a3542fd9a3b3ba53b2f1203",
       "value": true
      }
     },
     "c439efd482c3432e9eb247e99ae6a11f": {
      "model_module": "@jupyter-widgets/controls",
      "model_module_version": "2.0.0",
      "model_name": "TextStyleModel",
      "state": {
       "description_width": "",
       "font_size": null,
       "text_color": null
      }
     },
     "c43c3264d9f94ec19c380afa0e0de521": {
      "model_module": "@jupyter-widgets/controls",
      "model_module_version": "2.0.0",
      "model_name": "TextModel",
      "state": {
       "description": "Rename:",
       "layout": "IPY_MODEL_9d31de8e99864b98b87fd18c8fb496a6",
       "style": "IPY_MODEL_fd07305c610c4264b4296c563a72bcf1",
       "value": "mta_tax"
      }
     },
     "c467ebe98603452690242db5b3f9df3b": {
      "model_module": "@jupyter-widgets/controls",
      "model_module_version": "2.0.0",
      "model_name": "TextModel",
      "state": {
       "description": "Type:",
       "disabled": true,
       "layout": "IPY_MODEL_a6f6f36370254c29a5a1b0a3e1350a78",
       "style": "IPY_MODEL_4c3ba1451b8144a3912a226896342a79",
       "value": "float64"
      }
     },
     "c476ae6f029344c89382d3cdfb0054a3": {
      "model_module": "@jupyter-widgets/controls",
      "model_module_version": "2.0.0",
      "model_name": "TextModel",
      "state": {
       "description": "Rename:",
       "layout": "IPY_MODEL_069672064a404a7c9f8fbd5144801868",
       "style": "IPY_MODEL_b536245f807e4b7db00b41dcfd77bcac",
       "value": "pickup_latitude"
      }
     },
     "c4b68246da034ba7930514f0ba26bd4f": {
      "model_module": "@jupyter-widgets/base",
      "model_module_version": "2.0.0",
      "model_name": "LayoutModel",
      "state": {}
     },
     "c4c9d9d5e7d44b44a1d9ff5115c0213d": {
      "model_module": "@jupyter-widgets/base",
      "model_module_version": "2.0.0",
      "model_name": "LayoutModel",
      "state": {}
     },
     "c4e78c99a7334868999ed8e88af6bf8e": {
      "model_module": "@jupyter-widgets/base",
      "model_module_version": "2.0.0",
      "model_name": "LayoutModel",
      "state": {}
     },
     "c513ad51da8b4a55ae63a304c02ce313": {
      "model_module": "@jupyter-widgets/controls",
      "model_module_version": "2.0.0",
      "model_name": "DescriptionStyleModel",
      "state": {
       "description_width": ""
      }
     },
     "c578b3b0f4c0421493eab9e295aa40fa": {
      "model_module": "@jupyter-widgets/controls",
      "model_module_version": "2.0.0",
      "model_name": "TextModel",
      "state": {
       "description": "Rename:",
       "layout": "IPY_MODEL_55ea6aa5206d45d593fdfc8445751c4a",
       "style": "IPY_MODEL_296118c6c2ec4d37a9933a5d1e782861",
       "value": "RateCodeID"
      }
     },
     "c598a3772b864fa4b9ca11310dee6036": {
      "model_module": "@jupyter-widgets/base",
      "model_module_version": "2.0.0",
      "model_name": "LayoutModel",
      "state": {}
     },
     "c5a6714e70294f3bbe1cc63764f66fc1": {
      "model_module": "@jupyter-widgets/controls",
      "model_module_version": "2.0.0",
      "model_name": "CheckboxStyleModel",
      "state": {
       "description_width": ""
      }
     },
     "c5b28daf58354cd8a62f2b3c74e2939a": {
      "model_module": "@jupyter-widgets/controls",
      "model_module_version": "2.0.0",
      "model_name": "VBoxModel",
      "state": {
       "children": [
        "IPY_MODEL_34c771a2a286452986472261913806e6",
        "IPY_MODEL_45a21beff17c4e3cbdcadb8ec95d03a7",
        "IPY_MODEL_eaae308493684038a894329465083b5d",
        "IPY_MODEL_cf8aa88b6c0f4387b827913a5adcae79",
        "IPY_MODEL_9459f8b674b042099ec3fc37c67fe73f",
        "IPY_MODEL_6413d54076d44dffbddad57d3fbdbb06",
        "IPY_MODEL_cb0980fdb7334b219f9b0ab940a51a7e"
       ],
       "layout": "IPY_MODEL_5ca956ca77b241a9984eaf2c7353358b"
      }
     },
     "c5e8a6fa5f7c42b89806e4a7138f1c93": {
      "model_module": "@jupyter-widgets/controls",
      "model_module_version": "2.0.0",
      "model_name": "CheckboxStyleModel",
      "state": {
       "description_width": ""
      }
     },
     "c6174a7bcb934ea69bbedd76ba6fa0b6": {
      "model_module": "@jupyter-widgets/base",
      "model_module_version": "2.0.0",
      "model_name": "LayoutModel",
      "state": {}
     },
     "c643a2090d67427ca0077edf84e795ac": {
      "model_module": "@jupyter-widgets/controls",
      "model_module_version": "2.0.0",
      "model_name": "TextModel",
      "state": {
       "description": "Rename:",
       "layout": "IPY_MODEL_9b52f6050c1945238c28cd1a248832af",
       "style": "IPY_MODEL_e63e4bfa7659475095033ba7c1ccb7cd",
       "value": "fare_amount"
      }
     },
     "c67ee90538544a5691a03fd80fc68ac5": {
      "model_module": "@jupyter-widgets/controls",
      "model_module_version": "2.0.0",
      "model_name": "TextModel",
      "state": {
       "description": "Unique vals:",
       "layout": "IPY_MODEL_eeded71917b04287b842969bb518d6f3",
       "style": "IPY_MODEL_42bea3cd52294e6690339ebfa25f9fd5",
       "value": "2/99"
      }
     },
     "c684db8ef7b84132bb813f38e23da84a": {
      "model_module": "@jupyter-widgets/base",
      "model_module_version": "2.0.0",
      "model_name": "LayoutModel",
      "state": {}
     },
     "c68bca574aac439d9ed2d68fa9591a14": {
      "model_module": "@jupyter-widgets/controls",
      "model_module_version": "2.0.0",
      "model_name": "TextModel",
      "state": {
       "description": "Rename:",
       "layout": "IPY_MODEL_03509277f96443539d3f53ccd5ea5663",
       "style": "IPY_MODEL_acb5541a099a42b0822ca7a7afd86543",
       "value": "dropoff_longitude"
      }
     },
     "c6d5fe0dd911424eb396439944993bf1": {
      "model_module": "@jupyter-widgets/controls",
      "model_module_version": "2.0.0",
      "model_name": "DescriptionStyleModel",
      "state": {
       "description_width": ""
      }
     },
     "c6f156a8a2784885a3e0449c74b2bd69": {
      "model_module": "@jupyter-widgets/base",
      "model_module_version": "2.0.0",
      "model_name": "LayoutModel",
      "state": {}
     },
     "c72ff64c9e554240a65e2b0dae9977fd": {
      "model_module": "@jupyter-widgets/base",
      "model_module_version": "2.0.0",
      "model_name": "LayoutModel",
      "state": {}
     },
     "c749d625a4774bdda89ae7d4c612804c": {
      "model_module": "@jupyter-widgets/controls",
      "model_module_version": "2.0.0",
      "model_name": "TextStyleModel",
      "state": {
       "description_width": "",
       "font_size": null,
       "text_color": null
      }
     },
     "c756ce42d53645c8abdeb840a745fb01": {
      "model_module": "@jupyter-widgets/controls",
      "model_module_version": "2.0.0",
      "model_name": "CheckboxModel",
      "state": {
       "description": "NA values",
       "disabled": false,
       "layout": "IPY_MODEL_1fe57d38a374415fab8be813e0082332",
       "style": "IPY_MODEL_2345eb96cb704552a26fbc65ac7addeb",
       "value": false
      }
     },
     "c7966990f04b4523b7f565eed32baff4": {
      "model_module": "@jupyter-widgets/controls",
      "model_module_version": "2.0.0",
      "model_name": "DropdownModel",
      "state": {
       "_options_labels": [
        "int8",
        "uint8",
        "int16",
        "uint16",
        "int32",
        "int64",
        "uint32",
        "uint64",
        "float32",
        "float64",
        "str"
       ],
       "description": "Retype:",
       "index": 9,
       "layout": "IPY_MODEL_93558999420546e487138dfee9761b86",
       "style": "IPY_MODEL_2f3a551335c0425893bc00a6961c4518"
      }
     },
     "c7a1485f06ed4d569a99111a05266692": {
      "model_module": "@jupyter-widgets/base",
      "model_module_version": "2.0.0",
      "model_name": "LayoutModel",
      "state": {}
     },
     "c7a5fb286de44e5cb54b822d9f90e424": {
      "model_module": "@jupyter-widgets/base",
      "model_module_version": "2.0.0",
      "model_name": "LayoutModel",
      "state": {}
     },
     "c7b9335887aa4a8f800326753370df17": {
      "model_module": "@jupyter-widgets/base",
      "model_module_version": "2.0.0",
      "model_name": "LayoutModel",
      "state": {}
     },
     "c7df365e93b848eb923037b5c9ebfd13": {
      "model_module": "@jupyter-widgets/controls",
      "model_module_version": "2.0.0",
      "model_name": "TextModel",
      "state": {
       "continuous_update": false,
       "description": "Name:",
       "disabled": true,
       "layout": "IPY_MODEL_92df23e8bc82421f9dc119761be673ec",
       "style": "IPY_MODEL_1b251b53f65747fe952c13947cbd003c",
       "value": "improvement_surcharge"
      }
     },
     "c80de9e9330f4ff79afedfe41cc20518": {
      "model_module": "@jupyter-widgets/base",
      "model_module_version": "2.0.0",
      "model_name": "LayoutModel",
      "state": {}
     },
     "c81acad06d644c78a79eece1b560c652": {
      "model_module": "@jupyter-widgets/base",
      "model_module_version": "2.0.0",
      "model_name": "LayoutModel",
      "state": {}
     },
     "c8317463a5e04b85a1d949e44f8d7aa8": {
      "model_module": "@jupyter-widgets/base",
      "model_module_version": "2.0.0",
      "model_name": "LayoutModel",
      "state": {}
     },
     "c83b07002c9c40c4917ebac8298af23c": {
      "model_module": "@jupyter-widgets/controls",
      "model_module_version": "2.0.0",
      "model_name": "TextStyleModel",
      "state": {
       "description_width": "",
       "font_size": null,
       "text_color": null
      }
     },
     "c867781014424f18bbf6a93696c196b9": {
      "model_module": "@jupyter-widgets/controls",
      "model_module_version": "2.0.0",
      "model_name": "DescriptionStyleModel",
      "state": {
       "description_width": ""
      }
     },
     "c88140f8cf9040cb85c0bbd1c85270eb": {
      "model_module": "jupyter-progressivis",
      "model_module_version": "^0.1.0",
      "model_name": "SensitiveHTMLModel",
      "state": {
       "_model_module_version": "^0.1.0",
       "_view_module_version": "^0.1.0",
       "data": {
        "ps-cell_constant_1_classname": "constant",
        "ps-cell_constant_1_id": "constant_1",
        "ps-cell_constant_1_is_visualization": " ",
        "ps-cell_constant_1_last_update": 117,
        "ps-cell_constant_1_order": 1,
        "ps-cell_constant_1_state": "state_terminated",
        "ps-cell_dyn_var_1_classname": "dyn_var",
        "ps-cell_dyn_var_1_id": "dyn_var_1",
        "ps-cell_dyn_var_1_is_visualization": " ",
        "ps-cell_dyn_var_1_last_update": 4638,
        "ps-cell_dyn_var_1_order": 0,
        "ps-cell_dyn_var_1_state": "state_blocked",
        "ps-cell_simple_csv_loader_1_classname": "simple_csv_loader",
        "ps-cell_simple_csv_loader_1_id": "simple_csv_loader_1",
        "ps-cell_simple_csv_loader_1_is_visualization": " ",
        "ps-cell_simple_csv_loader_1_last_update": 4637,
        "ps-cell_simple_csv_loader_1_order": 2,
        "ps-cell_simple_csv_loader_1_state": "state_ready",
        "ps-cell_sink_1_classname": "sink",
        "ps-cell_sink_1_id": "sink_1",
        "ps-cell_sink_1_is_visualization": " ",
        "ps-cell_sink_1_last_update": 0,
        "ps-cell_sink_1_order": 3,
        "ps-cell_sink_1_state": "state_terminated"
       },
       "html": "\n<table class=\"table table-striped table-bordered table-hover table-condensed\">\n<thead><tr><th></th><th>Id</th><th>Class</th><th>State</th><th>Last Update</th>\n<th>Order</th></tr></thead>\n<tbody>\n\n  <tr>\n  \n  <td>\n  \n  <span id=\"ps-cell_dyn_var_1_is_visualization\"> </span>\n  \n  </td>\n  \n  <td>\n  \n  <a class='ps-row-btn' id=\"ps-row-btn_dyn_var_1\" type='button' >dyn_var_1</a>\n  \n  </td>\n  \n  <td>\n  \n  <span id=\"ps-cell_dyn_var_1_classname\">dyn_var</span>\n  \n  </td>\n  \n  <td>\n  \n  <span id=\"ps-cell_dyn_var_1_state\">state_blocked</span>\n  \n  </td>\n  \n  <td>\n  \n  <span id=\"ps-cell_dyn_var_1_last_update\">115</span>\n  \n  </td>\n  \n  <td>\n  \n  <span id=\"ps-cell_dyn_var_1_order\">0</span>\n  \n  </td>\n  \n  </tr>\n\n  <tr>\n  \n  <td>\n  \n  <span id=\"ps-cell_constant_1_is_visualization\"> </span>\n  \n  </td>\n  \n  <td>\n  \n  <a class='ps-row-btn' id=\"ps-row-btn_constant_1\" type='button' >constant_1</a>\n  \n  </td>\n  \n  <td>\n  \n  <span id=\"ps-cell_constant_1_classname\">constant</span>\n  \n  </td>\n  \n  <td>\n  \n  <span id=\"ps-cell_constant_1_state\">state_ready</span>\n  \n  </td>\n  \n  <td>\n  \n  <span id=\"ps-cell_constant_1_last_update\">0</span>\n  \n  </td>\n  \n  <td>\n  \n  <span id=\"ps-cell_constant_1_order\">1</span>\n  \n  </td>\n  \n  </tr>\n\n  <tr>\n  \n  <td>\n  \n  <span id=\"ps-cell_simple_csv_loader_1_is_visualization\"> </span>\n  \n  </td>\n  \n  <td>\n  \n  <a class='ps-row-btn' id=\"ps-row-btn_simple_csv_loader_1\" type='button' >simple_csv_loader_1</a>\n  \n  </td>\n  \n  <td>\n  \n  <span id=\"ps-cell_simple_csv_loader_1_classname\">simple_csv_loader</span>\n  \n  </td>\n  \n  <td>\n  \n  <span id=\"ps-cell_simple_csv_loader_1_state\">state_ready</span>\n  \n  </td>\n  \n  <td>\n  \n  <span id=\"ps-cell_simple_csv_loader_1_last_update\">0</span>\n  \n  </td>\n  \n  <td>\n  \n  <span id=\"ps-cell_simple_csv_loader_1_order\">2</span>\n  \n  </td>\n  \n  </tr>\n\n  <tr>\n  \n  <td>\n  \n  <span id=\"ps-cell_sink_1_is_visualization\"> </span>\n  \n  </td>\n  \n  <td>\n  \n  <a class='ps-row-btn' id=\"ps-row-btn_sink_1\" type='button' >sink_1</a>\n  \n  </td>\n  \n  <td>\n  \n  <span id=\"ps-cell_sink_1_classname\">sink</span>\n  \n  </td>\n  \n  <td>\n  \n  <span id=\"ps-cell_sink_1_state\">state_terminated</span>\n  \n  </td>\n  \n  <td>\n  \n  <span id=\"ps-cell_sink_1_last_update\">0</span>\n  \n  </td>\n  \n  <td>\n  \n  <span id=\"ps-cell_sink_1_order\">3</span>\n  \n  </td>\n  \n  </tr>\n\n</tbody>\n</table>",
       "layout": "IPY_MODEL_e9386a31f08c4933afac0fb3337295fa",
       "sensitive_css_class": "ps-row-btn",
       "value": {}
      }
     },
     "c8926d2f6f0d470eb88ecfe1e7d9b8e6": {
      "model_module": "@jupyter-widgets/controls",
      "model_module_version": "2.0.0",
      "model_name": "TabModel",
      "state": {
       "layout": "IPY_MODEL_8d528eb031bd44cf8e01692361155691"
      }
     },
     "c892f8edfa7849d3842ec0cd166cc414": {
      "model_module": "@jupyter-widgets/base",
      "model_module_version": "2.0.0",
      "model_name": "LayoutModel",
      "state": {}
     },
     "c8da780179024f229600cf26a9eefbbb": {
      "model_module": "@jupyter-widgets/controls",
      "model_module_version": "2.0.0",
      "model_name": "CheckboxStyleModel",
      "state": {
       "description_width": ""
      }
     },
     "c8f1aaff1db84cf3b90eb38c91400399": {
      "model_module": "@jupyter-widgets/controls",
      "model_module_version": "2.0.0",
      "model_name": "TextModel",
      "state": {
       "description": "NA values:",
       "layout": "IPY_MODEL_efebe1f7de91440ba3d266780836ec66",
       "style": "IPY_MODEL_d98e3f7a36c241f4ad592fe39ddfc292"
      }
     },
     "c8f32da86eb046a49b7e9b7ff5d58299": {
      "model_module": "@jupyter-widgets/base",
      "model_module_version": "2.0.0",
      "model_name": "LayoutModel",
      "state": {}
     },
     "c900b73aaac44edda1e5be571be2b8cf": {
      "model_module": "@jupyter-widgets/base",
      "model_module_version": "2.0.0",
      "model_name": "LayoutModel",
      "state": {}
     },
     "c903899513cd40c09b2f8a1b361025f8": {
      "model_module": "@jupyter-widgets/controls",
      "model_module_version": "2.0.0",
      "model_name": "CheckboxModel",
      "state": {
       "description": "Use",
       "disabled": false,
       "layout": "IPY_MODEL_58f330cca1504617aa7cbe6490c3ac0d",
       "style": "IPY_MODEL_061b7c3b05f5409db76c531519943487",
       "value": false
      }
     },
     "c914de2bb722415680c47d41e4ab10eb": {
      "model_module": "@jupyter-widgets/base",
      "model_module_version": "2.0.0",
      "model_name": "LayoutModel",
      "state": {}
     },
     "c920cf767c4d47d9a06fa2b6b9d33c72": {
      "model_module": "@jupyter-widgets/controls",
      "model_module_version": "2.0.0",
      "model_name": "CheckboxModel",
      "state": {
       "description": "Use",
       "disabled": false,
       "layout": "IPY_MODEL_233cfb23fff7497cb36651db89bd0207",
       "style": "IPY_MODEL_0146ecaede4441eaa8f7417728722d9a",
       "value": true
      }
     },
     "c94e29399cf64e0596c158d965f829aa": {
      "model_module": "@jupyter-widgets/base",
      "model_module_version": "2.0.0",
      "model_name": "LayoutModel",
      "state": {}
     },
     "c95285729ccb4a5dbae0cd776ac034b2": {
      "model_module": "@jupyter-widgets/controls",
      "model_module_version": "2.0.0",
      "model_name": "VBoxModel",
      "state": {
       "children": [
        "IPY_MODEL_499d7c6580ed4cac8c21c7e5ea00405a",
        "IPY_MODEL_015fcee8dd54438fa1e2aaddebcd61df",
        "IPY_MODEL_d8f050345fc74a419aa642e6007b6b9c",
        "IPY_MODEL_206956a8e015495cbb14b7b26a5a23c8",
        "IPY_MODEL_22acbfc73eed457bbd8312355c7fe4a3",
        "IPY_MODEL_e8f41269904349a6bacf98d89de1606b",
        "IPY_MODEL_218a5e82b0344f3ead5c74ecb8881e36"
       ],
       "layout": "IPY_MODEL_1d90f4948c9f495fb4e1be72fa25e0e3"
      }
     },
     "c9953182d8fb465b9451819714618670": {
      "model_module": "@jupyter-widgets/controls",
      "model_module_version": "2.0.0",
      "model_name": "DropdownModel",
      "state": {
       "_options_labels": [
        "int8",
        "uint8",
        "int16",
        "uint16",
        "int32",
        "int64",
        "uint32",
        "uint64",
        "float32",
        "float64",
        "str"
       ],
       "description": "Retype:",
       "index": 9,
       "layout": "IPY_MODEL_cf7ffa48e5e54abbb174b57c036e82cf",
       "style": "IPY_MODEL_feb1778fd5a745cdb083dd5aa69f1a0f"
      }
     },
     "c99634b3a4d94b9a8353654b35baf37d": {
      "model_module": "@jupyter-widgets/controls",
      "model_module_version": "2.0.0",
      "model_name": "TextModel",
      "state": {
       "description": "Separator:",
       "disabled": true,
       "layout": "IPY_MODEL_bc7b990a48174974b0acd841c6581198",
       "placeholder": "if many values",
       "style": "IPY_MODEL_2934fe71b9e14c24b3ce0c936bf50838"
      }
     },
     "c9a424d66ef1414b84376b9d6fa63f2f": {
      "model_module": "@jupyter-widgets/base",
      "model_module_version": "2.0.0",
      "model_name": "LayoutModel",
      "state": {}
     },
     "c9a434882c5e46159c0ab07829d631a9": {
      "model_module": "@jupyter-widgets/controls",
      "model_module_version": "2.0.0",
      "model_name": "ButtonStyleModel",
      "state": {
       "font_family": null,
       "font_size": null,
       "font_style": null,
       "font_variant": null,
       "font_weight": null,
       "text_color": null,
       "text_decoration": null
      }
     },
     "c9c8760bdf194ae3a9510419b268508f": {
      "model_module": "@jupyter-widgets/controls",
      "model_module_version": "2.0.0",
      "model_name": "TextModel",
      "state": {
       "description": "Type:",
       "disabled": true,
       "layout": "IPY_MODEL_84d19d961b4a4896a127eb4f57b3760a",
       "style": "IPY_MODEL_a6e3bb638c064adf872336f0dcab5041",
       "value": "float64"
      }
     },
     "c9ca9337bfc94426a59d48292422dc84": {
      "model_module": "@jupyter-widgets/base",
      "model_module_version": "2.0.0",
      "model_name": "LayoutModel",
      "state": {}
     },
     "c9d5067f51644bdab71d950fa070a913": {
      "model_module": "@jupyter-widgets/controls",
      "model_module_version": "2.0.0",
      "model_name": "TextModel",
      "state": {
       "description": "Type:",
       "disabled": true,
       "layout": "IPY_MODEL_a25d564c0eab402f9272a0f9c1031c27",
       "style": "IPY_MODEL_7614ad308e7b4e37820483ce2e409273",
       "value": "object"
      }
     },
     "c9dbb5806a8a455c8fa105a6c5ddd10b": {
      "model_module": "@jupyter-widgets/base",
      "model_module_version": "2.0.0",
      "model_name": "LayoutModel",
      "state": {}
     },
     "ca0e21b0e761432d9a3c937c224dfd7c": {
      "model_module": "@jupyter-widgets/base",
      "model_module_version": "2.0.0",
      "model_name": "LayoutModel",
      "state": {}
     },
     "ca0eaf61094744a1abc4dbc3ae29bd09": {
      "model_module": "@jupyter-widgets/base",
      "model_module_version": "2.0.0",
      "model_name": "LayoutModel",
      "state": {}
     },
     "ca63aadfe4b248df8081bd522b84b9cf": {
      "model_module": "@jupyter-widgets/controls",
      "model_module_version": "2.0.0",
      "model_name": "DropdownModel",
      "state": {
       "_options_labels": [
        "int8",
        "uint8",
        "int16",
        "uint16",
        "int32",
        "int64",
        "uint32",
        "uint64",
        "float32",
        "float64",
        "str"
       ],
       "description": "Retype:",
       "index": 9,
       "layout": "IPY_MODEL_d64e85276f384369a4c122c58ea579e5",
       "style": "IPY_MODEL_8641f28ede7b417f94959e2fb1675738"
      }
     },
     "ca9308670e2145fbae4351374cde0ae4": {
      "model_module": "@jupyter-widgets/base",
      "model_module_version": "2.0.0",
      "model_name": "LayoutModel",
      "state": {}
     },
     "ca9323dfd6054591ae57e472d9e9e578": {
      "model_module": "@jupyter-widgets/base",
      "model_module_version": "2.0.0",
      "model_name": "LayoutModel",
      "state": {}
     },
     "cae628222b784ada8c904815c09c0602": {
      "model_module": "@jupyter-widgets/controls",
      "model_module_version": "2.0.0",
      "model_name": "TextStyleModel",
      "state": {
       "description_width": "",
       "font_size": null,
       "text_color": null
      }
     },
     "cb0980fdb7334b219f9b0ab940a51a7e": {
      "model_module": "@jupyter-widgets/controls",
      "model_module_version": "2.0.0",
      "model_name": "CheckboxModel",
      "state": {
       "description": "NA values",
       "disabled": false,
       "layout": "IPY_MODEL_f6b028aa20f448c9a099f14446ad1484",
       "style": "IPY_MODEL_c8da780179024f229600cf26a9eefbbb",
       "value": false
      }
     },
     "cb88ed46e09b4ab7a3dd2fb0da9afbf3": {
      "model_module": "@jupyter-widgets/controls",
      "model_module_version": "2.0.0",
      "model_name": "VBoxModel",
      "state": {
       "children": [
        "IPY_MODEL_933ede2eb6b049daaa294ec85315caaf",
        "IPY_MODEL_52e48bd8c95a4ba88e4df0a033b8d3d0",
        "IPY_MODEL_ab4c0af97ea24c7b8dd309c891611594",
        "IPY_MODEL_68486fde047245579fba75be65faceba",
        "IPY_MODEL_86f3d9261dd1483fa4fd86c4b588c8e0",
        "IPY_MODEL_516d6ba8a4d446d68af0815a8696cb91",
        "IPY_MODEL_457275f93f89408bbb261d2c3485d3d5"
       ],
       "layout": "IPY_MODEL_e3f9d335f7514495ada1c2cefc83bd89"
      }
     },
     "cbaa4e1ae9a64804bd6cb55ccaa8ae44": {
      "model_module": "@jupyter-widgets/controls",
      "model_module_version": "2.0.0",
      "model_name": "DropdownModel",
      "state": {
       "_options_labels": [
        "int8",
        "uint8",
        "int16",
        "uint16",
        "int32",
        "int64",
        "uint32",
        "uint64",
        "float32",
        "float64",
        "str"
       ],
       "description": "Retype:",
       "disabled": true,
       "index": 9,
       "layout": "IPY_MODEL_5450acba89d24835a8be1f3f498f0c2a",
       "style": "IPY_MODEL_b08cfab8617541aa9eb8f55421952502"
      }
     },
     "cbbc6cb882bd4ec799b6f9ccded0df99": {
      "model_module": "@jupyter-widgets/base",
      "model_module_version": "2.0.0",
      "model_name": "LayoutModel",
      "state": {}
     },
     "cbbd33ff656945889d18c2df4fad7347": {
      "model_module": "@jupyter-widgets/controls",
      "model_module_version": "2.0.0",
      "model_name": "TextStyleModel",
      "state": {
       "description_width": "",
       "font_size": null,
       "text_color": null
      }
     },
     "cc065847286149d9b8e8447b3878b1e4": {
      "model_module": "@jupyter-widgets/controls",
      "model_module_version": "2.0.0",
      "model_name": "TextStyleModel",
      "state": {
       "description_width": "",
       "font_size": null,
       "text_color": null
      }
     },
     "cc5014a970a647aebbe2b21f689a2a93": {
      "model_module": "@jupyter-widgets/controls",
      "model_module_version": "2.0.0",
      "model_name": "TextareaModel",
      "state": {
       "description": "Error:",
       "layout": "IPY_MODEL_75d733dba83a477a9ad99bdc206112e2",
       "style": "IPY_MODEL_2b01c7154259473abfc42254b32b5de0"
      }
     },
     "cc7d45222f41422c97ab74c4fc56e413": {
      "model_module": "@jupyter-widgets/base",
      "model_module_version": "2.0.0",
      "model_name": "LayoutModel",
      "state": {}
     },
     "ccb264ba60184056a36667ec2e25cf2a": {
      "model_module": "@jupyter-widgets/controls",
      "model_module_version": "2.0.0",
      "model_name": "TextStyleModel",
      "state": {
       "description_width": "",
       "font_size": null,
       "text_color": null
      }
     },
     "cd22e45da5bb491c95b48199e51bb697": {
      "model_module": "@jupyter-widgets/base",
      "model_module_version": "2.0.0",
      "model_name": "LayoutModel",
      "state": {}
     },
     "cd31ece9115147ed85418977336e9da5": {
      "model_module": "@jupyter-widgets/controls",
      "model_module_version": "2.0.0",
      "model_name": "TextModel",
      "state": {
       "description": "Separator:",
       "disabled": true,
       "layout": "IPY_MODEL_90e9be0688d942749dca8a0f77137c46",
       "placeholder": "if many values",
       "style": "IPY_MODEL_0e0954ab4b7c46488f47be1a93c30cbb"
      }
     },
     "cd711cf5ea4941dab4b51f0cd735fbb0": {
      "model_module": "@jupyter-widgets/controls",
      "model_module_version": "2.0.0",
      "model_name": "TextModel",
      "state": {
       "continuous_update": false,
       "description": "Name:",
       "disabled": true,
       "layout": "IPY_MODEL_8603450d98af45fba67ac73730b900ed",
       "style": "IPY_MODEL_d4ad3cb1e4f34bb5923dce1a82b71be3",
       "value": "passenger_count"
      }
     },
     "cdac03ea5e2e47d7930a081806630f95": {
      "model_module": "@jupyter-widgets/controls",
      "model_module_version": "2.0.0",
      "model_name": "TextModel",
      "state": {
       "description": "NA values:",
       "layout": "IPY_MODEL_464530e1dca345969e8a3a069671b8c0",
       "style": "IPY_MODEL_7f645412266b4738bff96acedc4e1cf8"
      }
     },
     "ce15ba85bec84360a428911d57a1993e": {
      "model_module": "@jupyter-widgets/controls",
      "model_module_version": "2.0.0",
      "model_name": "CheckboxStyleModel",
      "state": {
       "description_width": ""
      }
     },
     "ce1636c1926344f4b3cda72342f6a21b": {
      "model_module": "@jupyter-widgets/controls",
      "model_module_version": "2.0.0",
      "model_name": "CheckboxStyleModel",
      "state": {
       "description_width": ""
      }
     },
     "ce330cdfb0844b09bf1972d191196131": {
      "model_module": "@jupyter-widgets/controls",
      "model_module_version": "2.0.0",
      "model_name": "CheckboxModel",
      "state": {
       "description": "NA values",
       "disabled": false,
       "layout": "IPY_MODEL_8a824f675ef64f5e832fcf5b4dda4a97",
       "style": "IPY_MODEL_e736f28c0d424b2c8f26a23c79018afb",
       "value": false
      }
     },
     "ceabb798765f4f36b9b5fc53b9d41488": {
      "model_module": "@jupyter-widgets/controls",
      "model_module_version": "2.0.0",
      "model_name": "CheckboxModel",
      "state": {
       "description": "Dayfirst",
       "disabled": false,
       "layout": "IPY_MODEL_0093d3845b534f089ae1d97d654a6d00",
       "style": "IPY_MODEL_fba03075eec64ee3878a905cf223b176",
       "value": false
      }
     },
     "ceb2055995d0447d8e74ca95b9119ef0": {
      "model_module": "@jupyter-widgets/controls",
      "model_module_version": "2.0.0",
      "model_name": "TextStyleModel",
      "state": {
       "description_width": "",
       "font_size": null,
       "text_color": null
      }
     },
     "ced319ddd0bb426abb6f8c6746c6db80": {
      "model_module": "@jupyter-widgets/controls",
      "model_module_version": "2.0.0",
      "model_name": "TextModel",
      "state": {
       "description": "Rename:",
       "layout": "IPY_MODEL_c81acad06d644c78a79eece1b560c652",
       "style": "IPY_MODEL_79ae6566e8114db29495c1ee43b0b96e",
       "value": "tip_amount"
      }
     },
     "cef268e59bcb45729e6c7f25bd2fa86d": {
      "model_module": "@jupyter-widgets/controls",
      "model_module_version": "2.0.0",
      "model_name": "TextStyleModel",
      "state": {
       "description_width": "",
       "font_size": null,
       "text_color": null
      }
     },
     "cf1af06d0aa941b68df29fd7d667d43c": {
      "model_module": "@jupyter-widgets/controls",
      "model_module_version": "2.0.0",
      "model_name": "TextStyleModel",
      "state": {
       "description_width": "",
       "font_size": null,
       "text_color": null
      }
     },
     "cf7cfe727857488da0845ceff71e3892": {
      "model_module": "@jupyter-widgets/base",
      "model_module_version": "2.0.0",
      "model_name": "LayoutModel",
      "state": {}
     },
     "cf7ffa48e5e54abbb174b57c036e82cf": {
      "model_module": "@jupyter-widgets/base",
      "model_module_version": "2.0.0",
      "model_name": "LayoutModel",
      "state": {}
     },
     "cf8aa88b6c0f4387b827913a5adcae79": {
      "model_module": "@jupyter-widgets/controls",
      "model_module_version": "2.0.0",
      "model_name": "DropdownModel",
      "state": {
       "_options_labels": [
        "int8",
        "uint8",
        "int16",
        "uint16",
        "int32",
        "int64",
        "uint32",
        "uint64",
        "float32",
        "float64",
        "str"
       ],
       "description": "Retype:",
       "index": 9,
       "layout": "IPY_MODEL_aa995ce6074f46e3872785034bbaa8de",
       "style": "IPY_MODEL_f34a14be0afd4a23a22e0fb270a4f9b8"
      }
     },
     "cf9359533ae0478b9d1f4ffcfb65f733": {
      "model_module": "@jupyter-widgets/controls",
      "model_module_version": "2.0.0",
      "model_name": "TextModel",
      "state": {
       "description": "Unique vals:",
       "layout": "IPY_MODEL_9017ff98786e426682c3784d1e1b309a",
       "style": "IPY_MODEL_3808342adf60481cbebfef07dd357763",
       "value": "99/99"
      }
     },
     "cfb0da10d1c34f2994e03d8767c06f4d": {
      "model_module": "@jupyter-widgets/controls",
      "model_module_version": "2.0.0",
      "model_name": "TextStyleModel",
      "state": {
       "description_width": "",
       "font_size": null,
       "text_color": null
      }
     },
     "cfc47f7e0a4e431f8e06da4742d088b7": {
      "model_module": "@jupyter-widgets/controls",
      "model_module_version": "2.0.0",
      "model_name": "TextModel",
      "state": {
       "description": "Type:",
       "disabled": true,
       "layout": "IPY_MODEL_2144313943ae40a9a78c3676c8f138a9",
       "style": "IPY_MODEL_65d68fc9f5c2406db311d0c5f65f838e",
       "value": "float64"
      }
     },
     "cfc484bda3cc43bcb77861f9df030bcd": {
      "model_module": "@jupyter-widgets/controls",
      "model_module_version": "2.0.0",
      "model_name": "CheckboxModel",
      "state": {
       "description": "Use",
       "disabled": false,
       "layout": "IPY_MODEL_bcde715ecd9b479dbb3d5e9682eb98b8",
       "style": "IPY_MODEL_ce15ba85bec84360a428911d57a1993e",
       "value": false
      }
     },
     "cfccacf4dcb049669568e00abbe830e9": {
      "model_module": "@jupyter-widgets/base",
      "model_module_version": "2.0.0",
      "model_name": "LayoutModel",
      "state": {}
     },
     "d00e930dce85437396a7d9a12c819680": {
      "model_module": "@jupyter-widgets/base",
      "model_module_version": "2.0.0",
      "model_name": "LayoutModel",
      "state": {}
     },
     "d026226b4265417e996c70b02c9ca6f4": {
      "model_module": "@jupyter-widgets/base",
      "model_module_version": "2.0.0",
      "model_name": "LayoutModel",
      "state": {}
     },
     "d06e7615cdcc450bb559ca7ce8686c11": {
      "model_module": "@jupyter-widgets/base",
      "model_module_version": "2.0.0",
      "model_name": "LayoutModel",
      "state": {}
     },
     "d091dab21ba247db8aa731a41f248803": {
      "model_module": "@jupyter-widgets/base",
      "model_module_version": "2.0.0",
      "model_name": "LayoutModel",
      "state": {}
     },
     "d0d95022a69d4efeba069dc650fec153": {
      "model_module": "@jupyter-widgets/controls",
      "model_module_version": "2.0.0",
      "model_name": "TextModel",
      "state": {
       "description": "Rename:",
       "layout": "IPY_MODEL_a9c7e0a61ecd4d3c8607eaf41da95e2b",
       "style": "IPY_MODEL_9aecf062f3b64a55a8d76a8d4c213993",
       "value": "store_and_fwd_flag"
      }
     },
     "d0dbba8cd7ec4d5f9f41b811be1caccd": {
      "model_module": "@jupyter-widgets/controls",
      "model_module_version": "2.0.0",
      "model_name": "CheckboxStyleModel",
      "state": {
       "description_width": ""
      }
     },
     "d10e6cfed99f4d2db5d820b7982428ae": {
      "model_module": "@jupyter-widgets/controls",
      "model_module_version": "2.0.0",
      "model_name": "TextModel",
      "state": {
       "description": "Type:",
       "disabled": true,
       "layout": "IPY_MODEL_6596ddb022b545668e77487ccc530736",
       "style": "IPY_MODEL_3c5e726d5cdc4d85b19f2a6547777968",
       "value": "float64"
      }
     },
     "d12ae9dc5b7a40ecabdb537c47c07b12": {
      "model_module": "@jupyter-widgets/base",
      "model_module_version": "2.0.0",
      "model_name": "LayoutModel",
      "state": {}
     },
     "d145b37357664ead9131ab5002ba0b6e": {
      "model_module": "@jupyter-widgets/base",
      "model_module_version": "2.0.0",
      "model_name": "LayoutModel",
      "state": {}
     },
     "d14621924aa74bcd8e726d8a35c92595": {
      "model_module": "@jupyter-widgets/controls",
      "model_module_version": "2.0.0",
      "model_name": "TextModel",
      "state": {
       "description": "Unique vals:",
       "layout": "IPY_MODEL_44167b67605d492b96223a7c1d62ad3a",
       "style": "IPY_MODEL_214f0db2d31141a48817924c3cdfff9f",
       "value": "2/99"
      }
     },
     "d14d838e3c2a49a7969325bef59ae9de": {
      "model_module": "@jupyter-widgets/controls",
      "model_module_version": "2.0.0",
      "model_name": "TextModel",
      "state": {
       "description": "Separator:",
       "disabled": true,
       "layout": "IPY_MODEL_1d09c3f72c784b45bbbc2c589d7e78ac",
       "placeholder": "if many values",
       "style": "IPY_MODEL_572fbd6c7b58421d8b5eeaca44a13749"
      }
     },
     "d16857a37ed644a0b6fcf924725d1a89": {
      "model_module": "@jupyter-widgets/controls",
      "model_module_version": "2.0.0",
      "model_name": "CheckboxModel",
      "state": {
       "description": "Use",
       "disabled": false,
       "layout": "IPY_MODEL_27de0db7fdb844d699895a2867e92ba6",
       "style": "IPY_MODEL_b2f49b6b958645dd8f7222dd4f16823b",
       "value": false
      }
     },
     "d186fab886dd44cfa6da21cf5a0ef60e": {
      "model_module": "@jupyter-widgets/controls",
      "model_module_version": "2.0.0",
      "model_name": "TextStyleModel",
      "state": {
       "description_width": "",
       "font_size": null,
       "text_color": null
      }
     },
     "d1e56bb96b7847ec93649e76f018d097": {
      "model_module": "@jupyter-widgets/base",
      "model_module_version": "2.0.0",
      "model_name": "LayoutModel",
      "state": {}
     },
     "d1f1e1a0159b4de7baf297f5e93522c6": {
      "model_module": "@jupyter-widgets/controls",
      "model_module_version": "2.0.0",
      "model_name": "TextModel",
      "state": {
       "description": "Separator:",
       "disabled": true,
       "layout": "IPY_MODEL_64e50f3598964ea88f519c844be87e32",
       "placeholder": "if many values",
       "style": "IPY_MODEL_0b06aeed51044eb9887f5de6d3d81c48"
      }
     },
     "d201a6c3f81c4494a32080093b489150": {
      "model_module": "@jupyter-widgets/controls",
      "model_module_version": "2.0.0",
      "model_name": "CheckboxModel",
      "state": {
       "description": "NA values",
       "disabled": false,
       "layout": "IPY_MODEL_d98bb62b04cc426fa7fe9b6412588148",
       "style": "IPY_MODEL_abb2fdba8b2d4c2781804db5668b4ac9",
       "value": false
      }
     },
     "d23d6555f8d548bfa271683611710ecd": {
      "model_module": "@jupyter-widgets/controls",
      "model_module_version": "2.0.0",
      "model_name": "DropdownModel",
      "state": {
       "_options_labels": [
        "int8",
        "uint8",
        "int16",
        "uint16",
        "int32",
        "int64",
        "uint32",
        "uint64",
        "float32",
        "float64",
        "str"
       ],
       "description": "Retype:",
       "disabled": true,
       "index": 5,
       "layout": "IPY_MODEL_c1d0cc4dc7ae4452be12a58fc15aeba3",
       "style": "IPY_MODEL_22b4079ab73048dabac118ebe6c9fa23"
      }
     },
     "d295794b448c4556a04e867d603a0047": {
      "model_module": "@jupyter-widgets/controls",
      "model_module_version": "2.0.0",
      "model_name": "TextStyleModel",
      "state": {
       "description_width": "",
       "font_size": null,
       "text_color": null
      }
     },
     "d2982f8ab38a43ec975d406b13671462": {
      "model_module": "@jupyter-widgets/controls",
      "model_module_version": "2.0.0",
      "model_name": "TextStyleModel",
      "state": {
       "description_width": "",
       "font_size": null,
       "text_color": null
      }
     },
     "d2a41b876f374e68a4632ca04bd3dbfd": {
      "model_module": "@jupyter-widgets/controls",
      "model_module_version": "2.0.0",
      "model_name": "CheckboxModel",
      "state": {
       "description": "NA values",
       "disabled": false,
       "layout": "IPY_MODEL_dcf36da114644add8fe367015ac7416a",
       "style": "IPY_MODEL_6df2351e3cb646968ee73e20932368f8",
       "value": false
      }
     },
     "d2b5abe0eec348bca377c28b105b460c": {
      "model_module": "@jupyter-widgets/controls",
      "model_module_version": "2.0.0",
      "model_name": "LabelStyleModel",
      "state": {
       "description_width": "",
       "font_family": null,
       "font_size": null,
       "font_style": null,
       "font_variant": null,
       "font_weight": null,
       "text_color": null,
       "text_decoration": null
      }
     },
     "d2c2927b0b1b4ebbada207f13693c2b5": {
      "model_module": "@jupyter-widgets/base",
      "model_module_version": "2.0.0",
      "model_name": "LayoutModel",
      "state": {}
     },
     "d2c5f4451d094c579ef3e24fffd259b0": {
      "model_module": "@jupyter-widgets/controls",
      "model_module_version": "2.0.0",
      "model_name": "DropdownModel",
      "state": {
       "_options_labels": [
        "int8",
        "uint8",
        "int16",
        "uint16",
        "int32",
        "int64",
        "uint32",
        "uint64",
        "float32",
        "float64",
        "str"
       ],
       "description": "Retype:",
       "index": 9,
       "layout": "IPY_MODEL_42a10487c97840418d28607ecfda3255",
       "style": "IPY_MODEL_48c49d696bf442e5a0f94f1041de6bf9"
      }
     },
     "d31aa528a2e04490a0c61f37c7d13b0d": {
      "model_module": "@jupyter-widgets/controls",
      "model_module_version": "2.0.0",
      "model_name": "TextModel",
      "state": {
       "description": "NA values:",
       "layout": "IPY_MODEL_0818e57369d84fbb93a98e9268da9374",
       "style": "IPY_MODEL_c24f5c8d7f7e4a4b9729432c70d605b5"
      }
     },
     "d338d8886bf74e08a9514eb85eb9bee7": {
      "model_module": "@jupyter-widgets/base",
      "model_module_version": "2.0.0",
      "model_name": "LayoutModel",
      "state": {}
     },
     "d34e94e095cf499e81c8055c6725d5e8": {
      "model_module": "@jupyter-widgets/controls",
      "model_module_version": "2.0.0",
      "model_name": "TextStyleModel",
      "state": {
       "description_width": "",
       "font_size": null,
       "text_color": null
      }
     },
     "d3579f295ccf4d628b9b526282cf2918": {
      "model_module": "@jupyter-widgets/base",
      "model_module_version": "2.0.0",
      "model_name": "LayoutModel",
      "state": {}
     },
     "d357d8c2208749e4bc26ea0d135a1c3e": {
      "model_module": "@jupyter-widgets/controls",
      "model_module_version": "2.0.0",
      "model_name": "TextModel",
      "state": {
       "description": "Type:",
       "disabled": true,
       "layout": "IPY_MODEL_807cb9b7c1844ca2851b1402077e9694",
       "style": "IPY_MODEL_44f01d3efb7343d69905309778e38267",
       "value": "float64"
      }
     },
     "d35d575c218b4b16bcc03570314a272a": {
      "model_module": "@jupyter-widgets/controls",
      "model_module_version": "2.0.0",
      "model_name": "ButtonModel",
      "state": {
       "description": "Create",
       "icon": "check",
       "layout": "IPY_MODEL_045ac2be51b1467ca924ec693311cfb8",
       "style": "IPY_MODEL_5bc2fc5de03545939b7407f1b97b08a0",
       "tooltip": "Create"
      }
     },
     "d3b8c93450f940d68ab26f1319e5b4aa": {
      "model_module": "@jupyter-widgets/controls",
      "model_module_version": "2.0.0",
      "model_name": "ButtonModel",
      "state": {
       "description": "Chain it",
       "disabled": true,
       "icon": "check",
       "layout": "IPY_MODEL_c0d62793b0fb42129526bb7a3ef0d7f7",
       "style": "IPY_MODEL_9b9b1efe696f492b91a4e77e84fe7c2b",
       "tooltip": "Chain it"
      }
     },
     "d3be06be6ad64a02960c22bf0b28fafa": {
      "model_module": "@jupyter-widgets/controls",
      "model_module_version": "2.0.0",
      "model_name": "DropdownModel",
      "state": {
       "_options_labels": [
        "int8",
        "uint8",
        "int16",
        "uint16",
        "int32",
        "int64",
        "uint32",
        "uint64",
        "float32",
        "float64",
        "str"
       ],
       "description": "Retype:",
       "index": 9,
       "layout": "IPY_MODEL_aeafbf81f1234728a5c025aca83e2fda",
       "style": "IPY_MODEL_4e14521a8908409d9e740806a2d79180"
      }
     },
     "d3ec238961084589a3a840842bfc8509": {
      "model_module": "@jupyter-widgets/base",
      "model_module_version": "2.0.0",
      "model_name": "LayoutModel",
      "state": {}
     },
     "d41e121a9f29402baf3a764161fa0790": {
      "model_module": "@jupyter-widgets/base",
      "model_module_version": "2.0.0",
      "model_name": "LayoutModel",
      "state": {}
     },
     "d437570ddd034dc4b91f8073f5ca5554": {
      "model_module": "@jupyter-widgets/base",
      "model_module_version": "2.0.0",
      "model_name": "LayoutModel",
      "state": {}
     },
     "d44e894122204b699ccbd86415b76b2f": {
      "model_module": "@jupyter-widgets/controls",
      "model_module_version": "2.0.0",
      "model_name": "TextModel",
      "state": {
       "description": "NA values:",
       "layout": "IPY_MODEL_7974a629880f4edca8f6df12b5ff809a",
       "style": "IPY_MODEL_39453c760920461496206537dd3d15e5"
      }
     },
     "d4ad3cb1e4f34bb5923dce1a82b71be3": {
      "model_module": "@jupyter-widgets/controls",
      "model_module_version": "2.0.0",
      "model_name": "TextStyleModel",
      "state": {
       "description_width": "",
       "font_size": null,
       "text_color": null
      }
     },
     "d511655a2520476f967d38ddb3e85503": {
      "model_module": "@jupyter-widgets/base",
      "model_module_version": "2.0.0",
      "model_name": "LayoutModel",
      "state": {}
     },
     "d521f1cebd0343cbb2ba90e82c77a0bb": {
      "model_module": "@jupyter-widgets/base",
      "model_module_version": "2.0.0",
      "model_name": "LayoutModel",
      "state": {}
     },
     "d540a748035d493e983578cb043a200d": {
      "model_module": "@jupyter-widgets/controls",
      "model_module_version": "2.0.0",
      "model_name": "LabelModel",
      "state": {
       "layout": "IPY_MODEL_ac6f698a0e234e3483a5699a6dc8f2fa",
       "style": "IPY_MODEL_597f595104a248e09cc4d80a1366dee2",
       "value": "dongle"
      }
     },
     "d54962a0905641e0942bece8879a35b0": {
      "model_module": "@jupyter-widgets/base",
      "model_module_version": "2.0.0",
      "model_name": "LayoutModel",
      "state": {}
     },
     "d5b2cf5034324633bb5081c62a18c802": {
      "model_module": "@jupyter-widgets/controls",
      "model_module_version": "2.0.0",
      "model_name": "DropdownModel",
      "state": {
       "_options_labels": [
        "int8",
        "uint8",
        "int16",
        "uint16",
        "int32",
        "int64",
        "uint32",
        "uint64",
        "float32",
        "float64",
        "str"
       ],
       "description": "Retype:",
       "index": 9,
       "layout": "IPY_MODEL_2f6fe1a73a1442898f7f2ba84c2fdf1c",
       "style": "IPY_MODEL_1024ebdb8ceb4b3aa0b9148b68580340"
      }
     },
     "d5c53e94582a402081f3295cc7bda131": {
      "model_module": "@jupyter-widgets/base",
      "model_module_version": "2.0.0",
      "model_name": "LayoutModel",
      "state": {}
     },
     "d60a963e9cbc4d4aa34139e680768ecc": {
      "model_module": "@jupyter-widgets/base",
      "model_module_version": "2.0.0",
      "model_name": "LayoutModel",
      "state": {}
     },
     "d60d25ec96b649c6baeea8bc9fff0403": {
      "model_module": "@jupyter-widgets/controls",
      "model_module_version": "2.0.0",
      "model_name": "TextModel",
      "state": {
       "description": "Type:",
       "disabled": true,
       "layout": "IPY_MODEL_3835f83354bf4adb858b9009007d0c33",
       "style": "IPY_MODEL_b4dff4c6f45a4e4d961022c73353dccb",
       "value": "float64"
      }
     },
     "d6133e3d49264030b59777a0c809a53c": {
      "model_module": "@jupyter-widgets/base",
      "model_module_version": "2.0.0",
      "model_name": "LayoutModel",
      "state": {}
     },
     "d61ac41b1d2043a88868510e2b37e51b": {
      "model_module": "@jupyter-widgets/controls",
      "model_module_version": "2.0.0",
      "model_name": "VBoxModel",
      "state": {
       "children": [
        "IPY_MODEL_242c3b5914db47438ced08de4ab5ccd5",
        "IPY_MODEL_3c3e7ed8396748e48324f3b21787e896",
        "IPY_MODEL_00914bf37d07417fadf666963d55f84a",
        "IPY_MODEL_9225aaa8b950423b93b909f9a0fe6c08",
        "IPY_MODEL_a36330cf976e4e4eb5c50e3dbd68b51f",
        "IPY_MODEL_35b8d5935a1c4e778c263c8479d815ae",
        "IPY_MODEL_b1880144e60c451db084af83f853393e"
       ],
       "layout": "IPY_MODEL_02c77f1a2a374ea98337806241467578"
      }
     },
     "d62a3b920c97497897a55adec585870f": {
      "model_module": "@jupyter-widgets/base",
      "model_module_version": "2.0.0",
      "model_name": "LayoutModel",
      "state": {}
     },
     "d62faee585fd46f28a329bfedf087d3f": {
      "model_module": "@jupyter-widgets/controls",
      "model_module_version": "2.0.0",
      "model_name": "TextStyleModel",
      "state": {
       "description_width": "",
       "font_size": null,
       "text_color": null
      }
     },
     "d63f9164e9c84ecea261db5c26538ad3": {
      "model_module": "@jupyter-widgets/controls",
      "model_module_version": "2.0.0",
      "model_name": "TextModel",
      "state": {
       "description": "Unique vals:",
       "layout": "IPY_MODEL_0ea1ffa37ddb4c368808d83bfb47d3fe",
       "style": "IPY_MODEL_0c068c00722245dbba6568ff1a78fe03",
       "value": "99/99"
      }
     },
     "d64e85276f384369a4c122c58ea579e5": {
      "model_module": "@jupyter-widgets/base",
      "model_module_version": "2.0.0",
      "model_name": "LayoutModel",
      "state": {}
     },
     "d673d921d66c457c9c16a65f29bb0ace": {
      "model_module": "@jupyter-widgets/base",
      "model_module_version": "2.0.0",
      "model_name": "LayoutModel",
      "state": {}
     },
     "d67b34ccf9884f6b8b334a65450bcfc0": {
      "model_module": "@jupyter-widgets/controls",
      "model_module_version": "2.0.0",
      "model_name": "TextModel",
      "state": {
       "description": "Unique vals:",
       "layout": "IPY_MODEL_e94565a1026842ea91d8f06a5004c3f4",
       "style": "IPY_MODEL_8830c8557ab04c6493ba4461221a8892",
       "value": "97/99"
      }
     },
     "d67ec3ba807a42e3ba99dd54dee5b8c2": {
      "model_module": "@jupyter-widgets/base",
      "model_module_version": "2.0.0",
      "model_name": "LayoutModel",
      "state": {}
     },
     "d69c1cd11cd449538b2be8b3efc918b0": {
      "model_module": "@jupyter-widgets/base",
      "model_module_version": "2.0.0",
      "model_name": "LayoutModel",
      "state": {}
     },
     "d6ac746a3df349c0bfd20404a5a3c44a": {
      "model_module": "@jupyter-widgets/controls",
      "model_module_version": "2.0.0",
      "model_name": "TextModel",
      "state": {
       "description": "Separator:",
       "disabled": true,
       "layout": "IPY_MODEL_8264b50bbfae48388546ad89ba507051",
       "placeholder": "if many values",
       "style": "IPY_MODEL_5357fd8dfa5c4bcab8d1251853db60ba"
      }
     },
     "d6d5dab949b74871ba57359ca03c6b1a": {
      "model_module": "@jupyter-widgets/base",
      "model_module_version": "2.0.0",
      "model_name": "LayoutModel",
      "state": {}
     },
     "d75a706c65ce43f1bf2f76a306764bee": {
      "model_module": "@jupyter-widgets/controls",
      "model_module_version": "2.0.0",
      "model_name": "TextStyleModel",
      "state": {
       "description_width": "",
       "font_size": null,
       "text_color": null
      }
     },
     "d76d2b38987a4100908301af8745f16b": {
      "model_module": "@jupyter-widgets/controls",
      "model_module_version": "2.0.0",
      "model_name": "CheckboxModel",
      "state": {
       "description": "Use",
       "disabled": false,
       "layout": "IPY_MODEL_2c1ad93593ff439abf0b0625b2749a44",
       "style": "IPY_MODEL_e210d1ba4f65416ebcf10bc695ad55ca",
       "value": true
      }
     },
     "d78eb38f445b46219bf7abd9b47fcc9d": {
      "model_module": "@jupyter-widgets/base",
      "model_module_version": "2.0.0",
      "model_name": "LayoutModel",
      "state": {}
     },
     "d7d2685700df473992ee19ff6f57e4a2": {
      "model_module": "@jupyter-widgets/base",
      "model_module_version": "2.0.0",
      "model_name": "LayoutModel",
      "state": {}
     },
     "d7dde3e670e64e718405c70261004c06": {
      "model_module": "@jupyter-widgets/base",
      "model_module_version": "2.0.0",
      "model_name": "LayoutModel",
      "state": {}
     },
     "d8071bc857c34fb8aa7f89c417531ae9": {
      "model_module": "@jupyter-widgets/controls",
      "model_module_version": "2.0.0",
      "model_name": "LabelStyleModel",
      "state": {
       "description_width": "",
       "font_family": null,
       "font_size": null,
       "font_style": null,
       "font_variant": null,
       "font_weight": null,
       "text_color": null,
       "text_decoration": null
      }
     },
     "d83c4f5921dd45dc8a46dfdf13cf1170": {
      "model_module": "@jupyter-widgets/controls",
      "model_module_version": "2.0.0",
      "model_name": "TextModel",
      "state": {
       "description": "Unique vals:",
       "layout": "IPY_MODEL_4e0586c9c42f44de8000c3d835de526b",
       "style": "IPY_MODEL_db4caa11d58e494fbc3202de23c0139c",
       "value": "99/99"
      }
     },
     "d841361e2c694633955933688086a89c": {
      "model_module": "@jupyter-widgets/controls",
      "model_module_version": "2.0.0",
      "model_name": "TextModel",
      "state": {
       "description": "Unique vals:",
       "layout": "IPY_MODEL_5750a652fe884d68841c459017df26ba",
       "style": "IPY_MODEL_8d8d3f6da1cc45baa0b73e1dce7d3a10",
       "value": "3/99"
      }
     },
     "d85e09ec99cd43558cb593573a5a91be": {
      "model_module": "@jupyter-widgets/controls",
      "model_module_version": "2.0.0",
      "model_name": "TextStyleModel",
      "state": {
       "description_width": "",
       "font_size": null,
       "text_color": null
      }
     },
     "d89ee1ba82fb488cb86627923f31194d": {
      "model_module": "@jupyter-widgets/controls",
      "model_module_version": "2.0.0",
      "model_name": "CheckboxStyleModel",
      "state": {
       "description_width": ""
      }
     },
     "d8c8406438244a4c879bcd4bdb7e2b0f": {
      "model_module": "@jupyter-widgets/base",
      "model_module_version": "2.0.0",
      "model_name": "LayoutModel",
      "state": {}
     },
     "d8f050345fc74a419aa642e6007b6b9c": {
      "model_module": "@jupyter-widgets/controls",
      "model_module_version": "2.0.0",
      "model_name": "TextModel",
      "state": {
       "description": "Type:",
       "disabled": true,
       "layout": "IPY_MODEL_553d86e716cd4a46bb15d337d33c1a2d",
       "style": "IPY_MODEL_de0e5662dfb54f9b8479dc67a94ca75a",
       "value": "float64"
      }
     },
     "d8fdc904ba0c440594f9a7c5d0878f27": {
      "model_module": "@jupyter-widgets/base",
      "model_module_version": "2.0.0",
      "model_name": "LayoutModel",
      "state": {}
     },
     "d91cf757f2f24287970d7810ed8b91e0": {
      "model_module": "@jupyter-widgets/base",
      "model_module_version": "2.0.0",
      "model_name": "LayoutModel",
      "state": {}
     },
     "d9512ceacf074469a3e6f374e976e02a": {
      "model_module": "@jupyter-widgets/base",
      "model_module_version": "2.0.0",
      "model_name": "LayoutModel",
      "state": {}
     },
     "d962b3c6eb6e4a7781e7b9f063c8e3e3": {
      "model_module": "@jupyter-widgets/base",
      "model_module_version": "2.0.0",
      "model_name": "LayoutModel",
      "state": {}
     },
     "d98bb62b04cc426fa7fe9b6412588148": {
      "model_module": "@jupyter-widgets/base",
      "model_module_version": "2.0.0",
      "model_name": "LayoutModel",
      "state": {}
     },
     "d98e3f7a36c241f4ad592fe39ddfc292": {
      "model_module": "@jupyter-widgets/controls",
      "model_module_version": "2.0.0",
      "model_name": "TextStyleModel",
      "state": {
       "description_width": "",
       "font_size": null,
       "text_color": null
      }
     },
     "d99923d406ad4c4f8d247db60de78d15": {
      "model_module": "@jupyter-widgets/controls",
      "model_module_version": "2.0.0",
      "model_name": "TextStyleModel",
      "state": {
       "description_width": "",
       "font_size": null,
       "text_color": null
      }
     },
     "d9aa3c561aa8470c8e1892f53f7663ba": {
      "model_module": "@jupyter-widgets/controls",
      "model_module_version": "2.0.0",
      "model_name": "DropdownModel",
      "state": {
       "_options_labels": [
        "object",
        "str",
        "category",
        "datetime"
       ],
       "description": "Retype:",
       "index": 0,
       "layout": "IPY_MODEL_488f0dea636f49cfac53322acd160cb2",
       "style": "IPY_MODEL_90be37357b354acc83b1a0ab887e2425"
      }
     },
     "d9cc217895714460bc650ef07e5e38c0": {
      "model_module": "@jupyter-widgets/base",
      "model_module_version": "2.0.0",
      "model_name": "LayoutModel",
      "state": {}
     },
     "d9ff750cedbc4ce9a929b97fbcd2cafc": {
      "model_module": "@jupyter-widgets/base",
      "model_module_version": "2.0.0",
      "model_name": "LayoutModel",
      "state": {}
     },
     "da12a52ac39b40a78afd29eefc1fe24c": {
      "model_module": "@jupyter-widgets/base",
      "model_module_version": "2.0.0",
      "model_name": "LayoutModel",
      "state": {}
     },
     "da1f34760c854cb5aa5d87736c5feeaa": {
      "model_module": "@jupyter-widgets/base",
      "model_module_version": "2.0.0",
      "model_name": "LayoutModel",
      "state": {}
     },
     "da4465da502f443cb3f9169540966ddc": {
      "model_module": "@jupyter-widgets/controls",
      "model_module_version": "2.0.0",
      "model_name": "TextModel",
      "state": {
       "description": "Type:",
       "disabled": true,
       "layout": "IPY_MODEL_30769fd08cde45cfbfff5c6c13c30e9e",
       "style": "IPY_MODEL_22e4f43d8b9f4c32b71486c2e0423dc8",
       "value": "float64"
      }
     },
     "da7b8826d1434c16bda08b8f7149be39": {
      "model_module": "@jupyter-widgets/controls",
      "model_module_version": "2.0.0",
      "model_name": "TextModel",
      "state": {
       "description": "NA values:",
       "layout": "IPY_MODEL_ac236b5ad5f3405b9b3083cd9de8e177",
       "style": "IPY_MODEL_701b252f7d9d4172a2df794684d286cc"
      }
     },
     "da7e75e7e8264362a8896399051db137": {
      "model_module": "@jupyter-widgets/controls",
      "model_module_version": "2.0.0",
      "model_name": "TextStyleModel",
      "state": {
       "description_width": "",
       "font_size": null,
       "text_color": null
      }
     },
     "da87caef0a544540a6adc8cb0faea7b9": {
      "model_module": "@jupyter-widgets/controls",
      "model_module_version": "2.0.0",
      "model_name": "TextStyleModel",
      "state": {
       "description_width": "",
       "font_size": null,
       "text_color": null
      }
     },
     "da8b6988b1154b609394a1987ab6c3ed": {
      "model_module": "@jupyter-widgets/controls",
      "model_module_version": "2.0.0",
      "model_name": "CheckboxStyleModel",
      "state": {
       "description_width": ""
      }
     },
     "db0f8d0339eb4465b3e74a2511ad4d1c": {
      "model_module": "@jupyter-widgets/base",
      "model_module_version": "2.0.0",
      "model_name": "LayoutModel",
      "state": {}
     },
     "db4402618e5a406dac8ebefe2bd08d1b": {
      "model_module": "@jupyter-widgets/controls",
      "model_module_version": "2.0.0",
      "model_name": "CheckboxStyleModel",
      "state": {
       "description_width": ""
      }
     },
     "db4caa11d58e494fbc3202de23c0139c": {
      "model_module": "@jupyter-widgets/controls",
      "model_module_version": "2.0.0",
      "model_name": "TextStyleModel",
      "state": {
       "description_width": "",
       "font_size": null,
       "text_color": null
      }
     },
     "db792fafc7ec45a9be5b1b7a3ecf53ee": {
      "model_module": "@jupyter-widgets/base",
      "model_module_version": "2.0.0",
      "model_name": "LayoutModel",
      "state": {}
     },
     "dbb48afb404e4385b2bf15e94fec3af7": {
      "model_module": "@jupyter-widgets/base",
      "model_module_version": "2.0.0",
      "model_name": "LayoutModel",
      "state": {}
     },
     "dbc72a859cd44278801f91c112afe983": {
      "model_module": "@jupyter-widgets/controls",
      "model_module_version": "2.0.0",
      "model_name": "LabelModel",
      "state": {
       "layout": "IPY_MODEL_44f91060f67d4f82a1e8bfac760506f6",
       "style": "IPY_MODEL_595299734571410c88a0a6878b2ddca8",
       "value": "dongle"
      }
     },
     "dbf0e346a4cd4365aaea3c94c2c0ec8d": {
      "model_module": "@jupyter-widgets/controls",
      "model_module_version": "2.0.0",
      "model_name": "CheckboxModel",
      "state": {
       "description": "NA values",
       "disabled": false,
       "layout": "IPY_MODEL_d091dab21ba247db8aa731a41f248803",
       "style": "IPY_MODEL_764b16b9117f49bf8f752d7cc766d7e5",
       "value": false
      }
     },
     "dc1a2eaf6af544a9a7ee37850676edbd": {
      "model_module": "@jupyter-widgets/controls",
      "model_module_version": "2.0.0",
      "model_name": "CheckboxModel",
      "state": {
       "description": "Use",
       "disabled": false,
       "layout": "IPY_MODEL_d5c53e94582a402081f3295cc7bda131",
       "style": "IPY_MODEL_b2ef42ed09e44a2c9bbb15de2c3ea5b5",
       "value": false
      }
     },
     "dc20d181c66c44439c8f12612a42f402": {
      "model_module": "@jupyter-widgets/controls",
      "model_module_version": "2.0.0",
      "model_name": "TextStyleModel",
      "state": {
       "description_width": "",
       "font_size": null,
       "text_color": null
      }
     },
     "dc3098e36bad4b17a653097041a5d980": {
      "model_module": "@jupyter-widgets/base",
      "model_module_version": "2.0.0",
      "model_name": "LayoutModel",
      "state": {}
     },
     "dc3e93cf22c1424891938614893bf6b3": {
      "model_module": "@jupyter-widgets/controls",
      "model_module_version": "2.0.0",
      "model_name": "DropdownModel",
      "state": {
       "_options_labels": [
        "int8",
        "uint8",
        "int16",
        "uint16",
        "int32",
        "int64",
        "uint32",
        "uint64",
        "float32",
        "float64",
        "str"
       ],
       "description": "Retype:",
       "index": 9,
       "layout": "IPY_MODEL_2001bf4eed4d43ff840cc0146504ba6e",
       "style": "IPY_MODEL_08d00db6754c4ee48cfc690d4a980fa1"
      }
     },
     "dcb0e696fdc74350826de08fbc8fbc47": {
      "model_module": "@jupyter-widgets/controls",
      "model_module_version": "2.0.0",
      "model_name": "DropdownModel",
      "state": {
       "_options_labels": [
        "object",
        "str",
        "category",
        "datetime"
       ],
       "description": "Retype:",
       "index": 0,
       "layout": "IPY_MODEL_9377e8cf2b8e42db86a0b4b9c4be09de",
       "style": "IPY_MODEL_1d74b510f5814c119426b1b9a2e22bd1"
      }
     },
     "dcf36da114644add8fe367015ac7416a": {
      "model_module": "@jupyter-widgets/base",
      "model_module_version": "2.0.0",
      "model_name": "LayoutModel",
      "state": {}
     },
     "dd35c833640e42e4a82aa1153a5360b9": {
      "model_module": "@jupyter-widgets/controls",
      "model_module_version": "2.0.0",
      "model_name": "CheckboxModel",
      "state": {
       "description": "NA values",
       "disabled": false,
       "layout": "IPY_MODEL_53420c53faab48178504f40af66b4e6d",
       "style": "IPY_MODEL_e210b5bbd7854bf483d753a0999c8bea",
       "value": false
      }
     },
     "dd3b413980054afea7f2b9e33282d3a9": {
      "model_module": "@jupyter-widgets/controls",
      "model_module_version": "2.0.0",
      "model_name": "TextStyleModel",
      "state": {
       "description_width": "",
       "font_size": null,
       "text_color": null
      }
     },
     "dd5617898bbe418798575991aea62797": {
      "model_module": "@jupyter-widgets/controls",
      "model_module_version": "2.0.0",
      "model_name": "TextStyleModel",
      "state": {
       "description_width": "",
       "font_size": null,
       "text_color": null
      }
     },
     "dd72d741fb944734a77380e086e730a9": {
      "model_module": "@jupyter-widgets/controls",
      "model_module_version": "2.0.0",
      "model_name": "VBoxModel",
      "state": {
       "children": [
        "IPY_MODEL_bad156448bac4b4fbfff0ba2d1aa90a0",
        "IPY_MODEL_228b3ef395dd43edaa8f592e894ccaaf",
        "IPY_MODEL_1b3dc91dd8924fdf8ccae4bc4cf01de5",
        "IPY_MODEL_d9aa3c561aa8470c8e1892f53f7663ba",
        "IPY_MODEL_385e06214b144d2e9644e06db3116031",
        "IPY_MODEL_946d392129fa4c97a3dc442f81cefddb",
        "IPY_MODEL_06bc3eb95fef4653b3018d69a861ab9d"
       ],
       "layout": "IPY_MODEL_c9ca9337bfc94426a59d48292422dc84"
      }
     },
     "dd817c68b8a0482ba4ab62c29c4956c7": {
      "model_module": "@jupyter-widgets/controls",
      "model_module_version": "2.0.0",
      "model_name": "TextModel",
      "state": {
       "description": "Separator:",
       "disabled": true,
       "layout": "IPY_MODEL_8b07ef60eaf4444e85aaad503217334f",
       "placeholder": "if many values",
       "style": "IPY_MODEL_69e770bcd7b74d84a32a782a54eab587"
      }
     },
     "ddd2454793bd41999175aa26abf0e675": {
      "model_module": "@jupyter-widgets/base",
      "model_module_version": "2.0.0",
      "model_name": "LayoutModel",
      "state": {}
     },
     "dddb43413eac4ed0b1213a36ef30ef9d": {
      "model_module": "@jupyter-widgets/controls",
      "model_module_version": "2.0.0",
      "model_name": "TextModel",
      "state": {
       "description": "Unique vals:",
       "layout": "IPY_MODEL_ddd2454793bd41999175aa26abf0e675",
       "style": "IPY_MODEL_a19827d3f7e44588963b0a78b4ad7fe2",
       "value": "2/99"
      }
     },
     "ddf7147ac3d740568cedccf8fc0770e8": {
      "model_module": "@jupyter-widgets/controls",
      "model_module_version": "2.0.0",
      "model_name": "TextModel",
      "state": {
       "continuous_update": false,
       "description": "Name:",
       "disabled": true,
       "layout": "IPY_MODEL_78feb46fc45c4db5b81d2a5639682db4",
       "style": "IPY_MODEL_04068212dca44b7c99b6d859b7dbe258",
       "value": "Unnamed: 0"
      }
     },
     "ddf93692e2b140859865bdbb60ecef0d": {
      "model_module": "@jupyter-widgets/controls",
      "model_module_version": "2.0.0",
      "model_name": "VBoxModel",
      "state": {
       "children": [
        "IPY_MODEL_f03f8ebbf15b4794a3dc5d2444dcae05",
        "IPY_MODEL_97e594db509048ac8934bf71d417591b",
        "IPY_MODEL_f419d4bb8a674a488212d80ff3dd1e93",
        "IPY_MODEL_9faec73d1e0b4cf7bb3d241961136a00",
        "IPY_MODEL_dc1a2eaf6af544a9a7ee37850676edbd",
        "IPY_MODEL_f7c6f7ed479549759767958c7850ebe3",
        "IPY_MODEL_ac693705dcc84b768ab7bb055bbb2222"
       ],
       "layout": "IPY_MODEL_e1ef0b0c9fdd4202b7382decc8c45064"
      }
     },
     "de0d5e75faab419bbb98458efc77f647": {
      "model_module": "@jupyter-widgets/controls",
      "model_module_version": "2.0.0",
      "model_name": "TextStyleModel",
      "state": {
       "description_width": "",
       "font_size": null,
       "text_color": null
      }
     },
     "de0e5662dfb54f9b8479dc67a94ca75a": {
      "model_module": "@jupyter-widgets/controls",
      "model_module_version": "2.0.0",
      "model_name": "TextStyleModel",
      "state": {
       "description_width": "",
       "font_size": null,
       "text_color": null
      }
     },
     "deb0a1697b414dd48a75d10a18864c40": {
      "model_module": "@jupyter-widgets/controls",
      "model_module_version": "2.0.0",
      "model_name": "VBoxModel",
      "state": {
       "children": [
        "IPY_MODEL_61bb2f91214e42b2a3a9bf75ee3ed47d",
        "IPY_MODEL_c132a76176a94b778f8f9c7ca933a3b7",
        "IPY_MODEL_00bd79dd71634c708bc59fba7dda7b40",
        "IPY_MODEL_4ac683f2bb2f4dd8876f645a2737bccc",
        "IPY_MODEL_45261dd4f5424695966a40646f90f73b",
        "IPY_MODEL_3bceed98f26449af99fd59a62537ec10",
        "IPY_MODEL_8e29017603fc41cb925b5428e94914c8"
       ],
       "layout": "IPY_MODEL_144a842061c94870bec83c70fbd67736"
      }
     },
     "dee65791348649a88039b2e1a9c58a99": {
      "model_module": "@jupyter-widgets/base",
      "model_module_version": "2.0.0",
      "model_name": "LayoutModel",
      "state": {}
     },
     "df0184cebe5648febe1359672643fa04": {
      "model_module": "@jupyter-widgets/controls",
      "model_module_version": "2.0.0",
      "model_name": "CheckboxModel",
      "state": {
       "description": "Use",
       "disabled": false,
       "layout": "IPY_MODEL_da12a52ac39b40a78afd29eefc1fe24c",
       "style": "IPY_MODEL_093aa710f99f4d5faa5f151ff2f38097",
       "value": true
      }
     },
     "df466a6a415140fa87c8022ecbfda772": {
      "model_module": "@jupyter-widgets/base",
      "model_module_version": "2.0.0",
      "model_name": "LayoutModel",
      "state": {}
     },
     "dfa3246c85d24f53b046732bbad5bdba": {
      "model_module": "@jupyter-widgets/controls",
      "model_module_version": "2.0.0",
      "model_name": "ButtonModel",
      "state": {
       "description": "Test",
       "layout": "IPY_MODEL_fae6fadc5d264d9cb552e660cab14052",
       "style": "IPY_MODEL_c9a434882c5e46159c0ab07829d631a9",
       "tooltip": null
      }
     },
     "e024274dc1a64a7ab3a7a150f2b4d98a": {
      "model_module": "@jupyter-widgets/controls",
      "model_module_version": "2.0.0",
      "model_name": "TextModel",
      "state": {
       "continuous_update": false,
       "description": "Name:",
       "disabled": true,
       "layout": "IPY_MODEL_98ab2dacf48648d99e69f59947e4e033",
       "style": "IPY_MODEL_ceb2055995d0447d8e74ca95b9119ef0",
       "value": "pickup_longitude"
      }
     },
     "e054d6a1869d4a219ae4c30a253f4a3d": {
      "model_module": "@jupyter-widgets/base",
      "model_module_version": "2.0.0",
      "model_name": "LayoutModel",
      "state": {
       "max_height": "1024px"
      }
     },
     "e0c58c919f734fe4808cf44856500ad9": {
      "model_module": "@jupyter-widgets/base",
      "model_module_version": "2.0.0",
      "model_name": "LayoutModel",
      "state": {}
     },
     "e0fc7a28a9ec401bb3f59c60c831547b": {
      "model_module": "@jupyter-widgets/controls",
      "model_module_version": "2.0.0",
      "model_name": "TextModel",
      "state": {
       "description": "Type:",
       "disabled": true,
       "layout": "IPY_MODEL_fc96ae9990c347e99a6364abe3741140",
       "style": "IPY_MODEL_884ed739f7a548329a1c996d67752ee4",
       "value": "float64"
      }
     },
     "e0ff40463bad4bb59cbeb29dd0327346": {
      "model_module": "@jupyter-widgets/controls",
      "model_module_version": "2.0.0",
      "model_name": "TextStyleModel",
      "state": {
       "description_width": "",
       "font_size": null,
       "text_color": null
      }
     },
     "e114c5ba6eac4520bd5cae20c2f92e5e": {
      "model_module": "@jupyter-widgets/controls",
      "model_module_version": "2.0.0",
      "model_name": "TextStyleModel",
      "state": {
       "description_width": "",
       "font_size": null,
       "text_color": null
      }
     },
     "e123754b97e34495a22d309eb90ccc95": {
      "model_module": "@jupyter-widgets/base",
      "model_module_version": "2.0.0",
      "model_name": "LayoutModel",
      "state": {}
     },
     "e12a49c2ab514bdebe0df967daf9ca4f": {
      "model_module": "@jupyter-widgets/base",
      "model_module_version": "2.0.0",
      "model_name": "LayoutModel",
      "state": {}
     },
     "e139ac0dca90487a8f1e4ea17a7ebad9": {
      "model_module": "@jupyter-widgets/base",
      "model_module_version": "2.0.0",
      "model_name": "LayoutModel",
      "state": {}
     },
     "e158267a92b1481e92a7d85454e04a49": {
      "model_module": "@jupyter-widgets/base",
      "model_module_version": "2.0.0",
      "model_name": "LayoutModel",
      "state": {}
     },
     "e15f24d0d938408bb9465b7b8059cd30": {
      "model_module": "@jupyter-widgets/controls",
      "model_module_version": "2.0.0",
      "model_name": "TextModel",
      "state": {
       "description": "Unique vals:",
       "layout": "IPY_MODEL_86128ddc4dee42cd8c54f17ff16e6bdc",
       "style": "IPY_MODEL_6095c42533c74c7ba211a1288cae33ab",
       "value": "67/99"
      }
     },
     "e166e3612f034f0dacc548751ee36b54": {
      "model_module": "@jupyter-widgets/base",
      "model_module_version": "2.0.0",
      "model_name": "LayoutModel",
      "state": {}
     },
     "e18f412007a346aebae4620a60190414": {
      "model_module": "@jupyter-widgets/base",
      "model_module_version": "2.0.0",
      "model_name": "LayoutModel",
      "state": {}
     },
     "e19c72e7e88c4f868aa2ab0b05572d1c": {
      "model_module": "@jupyter-widgets/controls",
      "model_module_version": "2.0.0",
      "model_name": "DropdownModel",
      "state": {
       "_options_labels": [
        "object",
        "str",
        "category",
        "datetime"
       ],
       "description": "Retype:",
       "index": 3,
       "layout": "IPY_MODEL_0ab7f7ef01e349e98fea5b2ac17ff955",
       "style": "IPY_MODEL_31f19492554a46b5a9cebbbfcc11822d"
      }
     },
     "e1b231ecec014b428ccfcac3fc044e85": {
      "model_module": "@jupyter-widgets/base",
      "model_module_version": "2.0.0",
      "model_name": "LayoutModel",
      "state": {}
     },
     "e1ef0b0c9fdd4202b7382decc8c45064": {
      "model_module": "@jupyter-widgets/base",
      "model_module_version": "2.0.0",
      "model_name": "LayoutModel",
      "state": {}
     },
     "e210b5bbd7854bf483d753a0999c8bea": {
      "model_module": "@jupyter-widgets/controls",
      "model_module_version": "2.0.0",
      "model_name": "CheckboxStyleModel",
      "state": {
       "description_width": ""
      }
     },
     "e210d1ba4f65416ebcf10bc695ad55ca": {
      "model_module": "@jupyter-widgets/controls",
      "model_module_version": "2.0.0",
      "model_name": "CheckboxStyleModel",
      "state": {
       "description_width": ""
      }
     },
     "e266be21acca4589b3c77c55aea71e72": {
      "model_module": "@jupyter-widgets/controls",
      "model_module_version": "2.0.0",
      "model_name": "DropdownModel",
      "state": {
       "_options_labels": [
        "int8",
        "uint8",
        "int16",
        "uint16",
        "int32",
        "int64",
        "uint32",
        "uint64",
        "float32",
        "float64",
        "str"
       ],
       "description": "Retype:",
       "index": 9,
       "layout": "IPY_MODEL_f9bed48cb16246feb899dffaf8ae060b",
       "style": "IPY_MODEL_791277aa9983456e8dda4c43bbddff41"
      }
     },
     "e2a8dab8f47e47919d4a8caae54dd5c7": {
      "model_module": "@jupyter-widgets/base",
      "model_module_version": "2.0.0",
      "model_name": "LayoutModel",
      "state": {}
     },
     "e2cb80af2e31444fa418ad702a4e9001": {
      "model_module": "@jupyter-widgets/controls",
      "model_module_version": "2.0.0",
      "model_name": "CheckboxModel",
      "state": {
       "description": "Use",
       "disabled": false,
       "layout": "IPY_MODEL_b9140ac4cedf46779d366093a098170f",
       "style": "IPY_MODEL_7c7fe714465d4c69b152454f68cd7c98",
       "value": true
      }
     },
     "e2fd049bac614be68d5b391a3c878755": {
      "model_module": "@jupyter-widgets/controls",
      "model_module_version": "2.0.0",
      "model_name": "TextStyleModel",
      "state": {
       "description_width": "",
       "font_size": null,
       "text_color": null
      }
     },
     "e3073163c6bf4b15948d94a3cd037d05": {
      "model_module": "@jupyter-widgets/base",
      "model_module_version": "2.0.0",
      "model_name": "LayoutModel",
      "state": {}
     },
     "e30c0d7e6d524142ab8a305c973fd621": {
      "model_module": "@jupyter-widgets/base",
      "model_module_version": "2.0.0",
      "model_name": "LayoutModel",
      "state": {}
     },
     "e31c314c239949cc846e805fd526f461": {
      "model_module": "@jupyter-widgets/controls",
      "model_module_version": "2.0.0",
      "model_name": "TextModel",
      "state": {
       "description": "NA values:",
       "layout": "IPY_MODEL_db792fafc7ec45a9be5b1b7a3ecf53ee",
       "style": "IPY_MODEL_eecfffd06a6d485eab68fbf6e7bed7fe"
      }
     },
     "e3261507942e4a398bbdebd05294c602": {
      "model_module": "@jupyter-widgets/base",
      "model_module_version": "2.0.0",
      "model_name": "LayoutModel",
      "state": {}
     },
     "e32e64336d9c4d1b881c2dfd86754f73": {
      "model_module": "@jupyter-widgets/controls",
      "model_module_version": "2.0.0",
      "model_name": "TextModel",
      "state": {
       "continuous_update": false,
       "description": "Name:",
       "disabled": true,
       "layout": "IPY_MODEL_2520bbbec10042a7a6fdb54714f6a1ac",
       "style": "IPY_MODEL_073a900dfb524bdb94fefc94bf9838e8",
       "value": "dropoff_latitude"
      }
     },
     "e379e50afa1a48cbab3044023f298e86": {
      "model_module": "@jupyter-widgets/controls",
      "model_module_version": "2.0.0",
      "model_name": "CheckboxModel",
      "state": {
       "description": "NA values",
       "disabled": false,
       "layout": "IPY_MODEL_a73ed4f2ec4346c3961640fb60af705b",
       "style": "IPY_MODEL_39df4f5b7d764a2e910f6cc6867fa9cd",
       "value": false
      }
     },
     "e38aca213b01476fbcfdfb976837e0ff": {
      "model_module": "@jupyter-widgets/base",
      "model_module_version": "2.0.0",
      "model_name": "LayoutModel",
      "state": {}
     },
     "e3db91fc2a1d4e7eb834158301a834ea": {
      "model_module": "@jupyter-widgets/controls",
      "model_module_version": "2.0.0",
      "model_name": "TextStyleModel",
      "state": {
       "description_width": "",
       "font_size": null,
       "text_color": null
      }
     },
     "e3eb50763bfb429d89ac75c698ddaf60": {
      "model_module": "@jupyter-widgets/controls",
      "model_module_version": "2.0.0",
      "model_name": "TextModel",
      "state": {
       "description": "Rename:",
       "layout": "IPY_MODEL_d338d8886bf74e08a9514eb85eb9bee7",
       "style": "IPY_MODEL_105fa68b40d34a5dafe6c3cf4a93f38c",
       "value": "extra"
      }
     },
     "e3f9d335f7514495ada1c2cefc83bd89": {
      "model_module": "@jupyter-widgets/base",
      "model_module_version": "2.0.0",
      "model_name": "LayoutModel",
      "state": {}
     },
     "e45315d79bd84c9b8b4ab6a1a969b5bd": {
      "model_module": "@jupyter-widgets/base",
      "model_module_version": "2.0.0",
      "model_name": "LayoutModel",
      "state": {}
     },
     "e4914ba8a4f14fa4bf752a75c99053f9": {
      "model_module": "@jupyter-widgets/controls",
      "model_module_version": "2.0.0",
      "model_name": "VBoxModel",
      "state": {
       "children": [
        "IPY_MODEL_2c839afcfa144599aa36cd02b2007313",
        "IPY_MODEL_0e3b96c6daf14e64acfc9a6ac18472c6",
        "IPY_MODEL_49915f5a7e974da89877a4cf36caf319",
        "IPY_MODEL_c7966990f04b4523b7f565eed32baff4",
        "IPY_MODEL_717fb005b7f84958a1e82c1a52e19543",
        "IPY_MODEL_9b6ca7d9d89f49d48cb6ab9c5fe24bbc",
        "IPY_MODEL_d2a41b876f374e68a4632ca04bd3dbfd"
       ],
       "layout": "IPY_MODEL_f03e61f580bb4e56922ff2069b4b8688"
      }
     },
     "e4b5d2bc951746c18e08262bcc42b440": {
      "model_module": "@jupyter-widgets/controls",
      "model_module_version": "2.0.0",
      "model_name": "CheckboxModel",
      "state": {
       "description": "Use",
       "disabled": false,
       "layout": "IPY_MODEL_4e73b99d6d574bf2b0b2e0f923e1a60c",
       "style": "IPY_MODEL_03d2a494e432482d8cb03a75dee1b7f6",
       "value": true
      }
     },
     "e4e494dc352c4d0e9f6537e2d302097b": {
      "model_module": "@jupyter-widgets/base",
      "model_module_version": "2.0.0",
      "model_name": "LayoutModel",
      "state": {}
     },
     "e5058868905445fb92c5849b89524dda": {
      "model_module": "@jupyter-widgets/controls",
      "model_module_version": "2.0.0",
      "model_name": "DescriptionStyleModel",
      "state": {
       "description_width": ""
      }
     },
     "e545ac74ff6749e29e3d6b89204a6fa6": {
      "model_module": "@jupyter-widgets/controls",
      "model_module_version": "2.0.0",
      "model_name": "TextStyleModel",
      "state": {
       "description_width": "",
       "font_size": null,
       "text_color": null
      }
     },
     "e54e1ef3a3fc46d282914c26464456b8": {
      "model_module": "@jupyter-widgets/base",
      "model_module_version": "2.0.0",
      "model_name": "LayoutModel",
      "state": {}
     },
     "e56c85bd39c44cb58880013a05f30448": {
      "model_module": "@jupyter-widgets/base",
      "model_module_version": "2.0.0",
      "model_name": "LayoutModel",
      "state": {}
     },
     "e57ec74a13514a4d8a9de76dfceadb36": {
      "model_module": "@jupyter-widgets/controls",
      "model_module_version": "2.0.0",
      "model_name": "HBoxModel",
      "state": {
       "children": [
        "IPY_MODEL_f44c613471bf40b99882c949c21e2f96",
        "IPY_MODEL_82edffd18d2d4ff2b15f39efa369ce65"
       ],
       "layout": "IPY_MODEL_edff3237c5a240b28dc150136ceea56f"
      }
     },
     "e590a4319d204df28c0535c3b9a88646": {
      "model_module": "@jupyter-widgets/controls",
      "model_module_version": "2.0.0",
      "model_name": "VBoxModel",
      "state": {
       "children": [
        "IPY_MODEL_72793aaa56dc4a3d975d49452fecbbcf",
        "IPY_MODEL_7f271955d44a48d092d1173f73ea09e8",
        "IPY_MODEL_578a9bd723cb4090a5240f4c9cd9d13c",
        "IPY_MODEL_d23d6555f8d548bfa271683611710ecd",
        "IPY_MODEL_9240ff447294461e82e40c2906693677",
        "IPY_MODEL_0a3c3b7de8ce4c308e46f67d3327219e",
        "IPY_MODEL_7060e65c2d2b4bd4895b162631253c39"
       ],
       "layout": "IPY_MODEL_98942603fcef49a69b09c81a7c1033eb"
      }
     },
     "e594dae5552d429db7e3bbb38cc73db9": {
      "model_module": "@jupyter-widgets/controls",
      "model_module_version": "2.0.0",
      "model_name": "TextStyleModel",
      "state": {
       "description_width": "",
       "font_size": null,
       "text_color": null
      }
     },
     "e5b5d4c288f747189b665a3caaa88e38": {
      "model_module": "@jupyter-widgets/controls",
      "model_module_version": "2.0.0",
      "model_name": "TextStyleModel",
      "state": {
       "description_width": "",
       "font_size": null,
       "text_color": null
      }
     },
     "e5ce38b936ae45108f54fa6a48694392": {
      "model_module": "@jupyter-widgets/controls",
      "model_module_version": "2.0.0",
      "model_name": "TextStyleModel",
      "state": {
       "description_width": "",
       "font_size": null,
       "text_color": null
      }
     },
     "e5da5a05c1634ecaa30b418a4249e56c": {
      "model_module": "@jupyter-widgets/base",
      "model_module_version": "2.0.0",
      "model_name": "LayoutModel",
      "state": {}
     },
     "e5ebbe2659d3422f925691a498a7899d": {
      "model_module": "@jupyter-widgets/controls",
      "model_module_version": "2.0.0",
      "model_name": "CheckboxModel",
      "state": {
       "description": "Use",
       "disabled": false,
       "layout": "IPY_MODEL_3454f87eafe7490c92d7865dd1da4b82",
       "style": "IPY_MODEL_7bbbadd8e96c4498bff7d28bf2845caa",
       "value": false
      }
     },
     "e60e26e065c4497396c53553d5e61809": {
      "model_module": "@jupyter-widgets/controls",
      "model_module_version": "2.0.0",
      "model_name": "CheckboxModel",
      "state": {
       "description": "Use",
       "disabled": false,
       "layout": "IPY_MODEL_7be2f132c46c4032bc7a346449912373",
       "style": "IPY_MODEL_9ba18ac2b7f44c3998d3f074dcd07f14",
       "value": true
      }
     },
     "e61202549d2541a68935e46b26111cd2": {
      "model_module": "@jupyter-widgets/base",
      "model_module_version": "2.0.0",
      "model_name": "LayoutModel",
      "state": {}
     },
     "e6196d2d9f714f37a459bddcda4f337f": {
      "model_module": "@jupyter-widgets/controls",
      "model_module_version": "2.0.0",
      "model_name": "CheckboxModel",
      "state": {
       "description": "Use",
       "disabled": false,
       "layout": "IPY_MODEL_c2848947caba4e48a171ff39bd369836",
       "style": "IPY_MODEL_503fd57aa89c4246a4cf56d6fd3dedab",
       "value": false
      }
     },
     "e61a72080e1d499b9e869ec01dfad85d": {
      "model_module": "@jupyter-widgets/base",
      "model_module_version": "2.0.0",
      "model_name": "LayoutModel",
      "state": {}
     },
     "e61e03187e1c4ad2ae7c4971d063d9db": {
      "model_module": "@jupyter-widgets/controls",
      "model_module_version": "2.0.0",
      "model_name": "TextModel",
      "state": {
       "description": "Unique vals:",
       "layout": "IPY_MODEL_f26655538aac4a1399ebd4f3efbaaab1",
       "style": "IPY_MODEL_5f1f47b8f03f48d89c6eabc956898b49",
       "value": "3/99"
      }
     },
     "e63e4bfa7659475095033ba7c1ccb7cd": {
      "model_module": "@jupyter-widgets/controls",
      "model_module_version": "2.0.0",
      "model_name": "TextStyleModel",
      "state": {
       "description_width": "",
       "font_size": null,
       "text_color": null
      }
     },
     "e65d56c787c34e06ba9cad81893e2aa9": {
      "model_module": "@jupyter-widgets/controls",
      "model_module_version": "2.0.0",
      "model_name": "CheckboxModel",
      "state": {
       "description": "Use",
       "disabled": false,
       "layout": "IPY_MODEL_f98efa7976ba42698ab0c829ff1e39f8",
       "style": "IPY_MODEL_288c8fcbd32a430db562b45f93c67c27",
       "value": false
      }
     },
     "e6e1fdb0ec374ee99ca3f3c99330f2ca": {
      "model_module": "@jupyter-widgets/controls",
      "model_module_version": "2.0.0",
      "model_name": "TextModel",
      "state": {
       "description": "Type:",
       "disabled": true,
       "layout": "IPY_MODEL_f149d0c270114b9491c784ca64140d7e",
       "style": "IPY_MODEL_52f6ea15ff4e482e85502b064dce8f1d",
       "value": "float64"
      }
     },
     "e72a7a5afb4244c39eebd8a5da8e34a0": {
      "model_module": "@jupyter-widgets/controls",
      "model_module_version": "2.0.0",
      "model_name": "TextStyleModel",
      "state": {
       "description_width": "",
       "font_size": null,
       "text_color": null
      }
     },
     "e736f28c0d424b2c8f26a23c79018afb": {
      "model_module": "@jupyter-widgets/controls",
      "model_module_version": "2.0.0",
      "model_name": "CheckboxStyleModel",
      "state": {
       "description_width": ""
      }
     },
     "e73b9c88c7a34bcfb39af63c32415634": {
      "model_module": "@jupyter-widgets/controls",
      "model_module_version": "2.0.0",
      "model_name": "CheckboxModel",
      "state": {
       "description": "NA values",
       "disabled": false,
       "layout": "IPY_MODEL_1e7540a72b1c41169cfae3d4f7488c48",
       "style": "IPY_MODEL_49feaeb055754b33857b77cfd134d020",
       "value": false
      }
     },
     "e79bcf41edd441f289d4d0ee5b70d423": {
      "model_module": "@jupyter-widgets/controls",
      "model_module_version": "2.0.0",
      "model_name": "TextStyleModel",
      "state": {
       "description_width": "",
       "font_size": null,
       "text_color": null
      }
     },
     "e7c60c1c8c7f46288afb2c0a9b8e241e": {
      "model_module": "@jupyter-widgets/controls",
      "model_module_version": "2.0.0",
      "model_name": "DescriptionStyleModel",
      "state": {
       "description_width": ""
      }
     },
     "e7e03acb86764087a2b2f8cc000f4bde": {
      "model_module": "@jupyter-widgets/controls",
      "model_module_version": "2.0.0",
      "model_name": "TextModel",
      "state": {
       "continuous_update": false,
       "description": "Name:",
       "disabled": true,
       "layout": "IPY_MODEL_d60a963e9cbc4d4aa34139e680768ecc",
       "style": "IPY_MODEL_682d8f79e4fe4bd7a7f3438f6fbaf1eb",
       "value": "total_amount"
      }
     },
     "e7ed461f7a634b948c1c782611f83a8a": {
      "model_module": "@jupyter-widgets/controls",
      "model_module_version": "2.0.0",
      "model_name": "LabelStyleModel",
      "state": {
       "description_width": "",
       "font_family": null,
       "font_size": null,
       "font_style": null,
       "font_variant": null,
       "font_weight": null,
       "text_color": null,
       "text_decoration": null
      }
     },
     "e87fd99bb9ba4b17884cc9cd5cdacced": {
      "model_module": "@jupyter-widgets/controls",
      "model_module_version": "2.0.0",
      "model_name": "TextStyleModel",
      "state": {
       "description_width": "",
       "font_size": null,
       "text_color": null
      }
     },
     "e8839a5d6d714e6f88d207967adb4b5c": {
      "model_module": "@jupyter-widgets/controls",
      "model_module_version": "2.0.0",
      "model_name": "CheckboxStyleModel",
      "state": {
       "description_width": ""
      }
     },
     "e8c5c0ae53b24cf0b55c0033e1db4e51": {
      "model_module": "@jupyter-widgets/controls",
      "model_module_version": "2.0.0",
      "model_name": "TextModel",
      "state": {
       "description": "Rename:",
       "layout": "IPY_MODEL_6347dff3684d47d8a3574bb8dd988905",
       "style": "IPY_MODEL_55c4fd28237e46bfa8725f6af582dcc0",
       "value": "payment_type"
      }
     },
     "e8ce69ff69724da0a3887b3ece2d9f29": {
      "model_module": "@jupyter-widgets/controls",
      "model_module_version": "2.0.0",
      "model_name": "TextModel",
      "state": {
       "description": "Type:",
       "disabled": true,
       "layout": "IPY_MODEL_8b3cd1beecc2422c87662e21b5e4515e",
       "style": "IPY_MODEL_1cef16ea2e144eab945c3426d0a87dfb",
       "value": "float64"
      }
     },
     "e8d1d89b87de45fead9585b22e1d3303": {
      "model_module": "@jupyter-widgets/controls",
      "model_module_version": "2.0.0",
      "model_name": "LabelModel",
      "state": {
       "layout": "IPY_MODEL_a206314303524f7db90743bcb466ccb9",
       "style": "IPY_MODEL_e7ed461f7a634b948c1c782611f83a8a",
       "value": "PColumns"
      }
     },
     "e8d378c4d37244e8a82f26e68aa8aefd": {
      "model_module": "@jupyter-widgets/controls",
      "model_module_version": "2.0.0",
      "model_name": "TextModel",
      "state": {
       "description": "NA values:",
       "layout": "IPY_MODEL_4ff80a4636f649c581fbe1f003a48e82",
       "style": "IPY_MODEL_d2982f8ab38a43ec975d406b13671462"
      }
     },
     "e8ea42d74e5549c991b3ad07c0ed74bd": {
      "model_module": "@jupyter-widgets/base",
      "model_module_version": "2.0.0",
      "model_name": "LayoutModel",
      "state": {}
     },
     "e8f41269904349a6bacf98d89de1606b": {
      "model_module": "@jupyter-widgets/controls",
      "model_module_version": "2.0.0",
      "model_name": "TextModel",
      "state": {
       "description": "Unique vals:",
       "layout": "IPY_MODEL_f721e588d1bc43d4ad4516a7b6795cc9",
       "style": "IPY_MODEL_6fe10899dabd4fc18c46d50ae735ff5c",
       "value": "97/99"
      }
     },
     "e91b98dba5ae4c9e9eb00e1bd551b858": {
      "model_module": "@jupyter-widgets/base",
      "model_module_version": "2.0.0",
      "model_name": "LayoutModel",
      "state": {}
     },
     "e9258c80a1524c65ba816d2f7b229d71": {
      "model_module": "@jupyter-widgets/controls",
      "model_module_version": "2.0.0",
      "model_name": "CheckboxStyleModel",
      "state": {
       "description_width": ""
      }
     },
     "e932a84b4bb3449c8e8da4e461d526f4": {
      "model_module": "@jupyter-widgets/base",
      "model_module_version": "2.0.0",
      "model_name": "LayoutModel",
      "state": {}
     },
     "e9386a31f08c4933afac0fb3337295fa": {
      "model_module": "@jupyter-widgets/base",
      "model_module_version": "2.0.0",
      "model_name": "LayoutModel",
      "state": {
       "height": "500px",
       "overflow": "auto"
      }
     },
     "e93e88b3191e4c278a34ab34713ff631": {
      "model_module": "@jupyter-widgets/controls",
      "model_module_version": "2.0.0",
      "model_name": "DescriptionStyleModel",
      "state": {
       "description_width": ""
      }
     },
     "e94565a1026842ea91d8f06a5004c3f4": {
      "model_module": "@jupyter-widgets/base",
      "model_module_version": "2.0.0",
      "model_name": "LayoutModel",
      "state": {}
     },
     "e98c261f7e784249a277fb132b1c6916": {
      "model_module": "@jupyter-widgets/controls",
      "model_module_version": "2.0.0",
      "model_name": "TextStyleModel",
      "state": {
       "description_width": "",
       "font_size": null,
       "text_color": null
      }
     },
     "e9a407402598493681a87a375c15cae7": {
      "model_module": "@jupyter-widgets/base",
      "model_module_version": "2.0.0",
      "model_name": "LayoutModel",
      "state": {}
     },
     "e9b207f11a584a098cf6e0f9044e4543": {
      "model_module": "@jupyter-widgets/controls",
      "model_module_version": "2.0.0",
      "model_name": "ButtonStyleModel",
      "state": {
       "font_family": null,
       "font_size": null,
       "font_style": null,
       "font_variant": null,
       "font_weight": null,
       "text_color": null,
       "text_decoration": null
      }
     },
     "e9c23fd6eab648e7b6a8fd31ccc4e6ef": {
      "model_module": "@jupyter-widgets/base",
      "model_module_version": "2.0.0",
      "model_name": "LayoutModel",
      "state": {}
     },
     "e9dab5b7aa9243ee83dc53327538d845": {
      "model_module": "@jupyter-widgets/controls",
      "model_module_version": "2.0.0",
      "model_name": "DescriptionStyleModel",
      "state": {
       "description_width": ""
      }
     },
     "ea055f704c2f46e89e97c5f40b65040e": {
      "model_module": "@jupyter-widgets/base",
      "model_module_version": "2.0.0",
      "model_name": "LayoutModel",
      "state": {}
     },
     "ea0d0489e5d74db0b2223a4d94616542": {
      "model_module": "@jupyter-widgets/controls",
      "model_module_version": "2.0.0",
      "model_name": "TextStyleModel",
      "state": {
       "description_width": "",
       "font_size": null,
       "text_color": null
      }
     },
     "ea1a5397539340bcbe84b95e1392bc8c": {
      "model_module": "@jupyter-widgets/controls",
      "model_module_version": "2.0.0",
      "model_name": "TextStyleModel",
      "state": {
       "description_width": "",
       "font_size": null,
       "text_color": null
      }
     },
     "ea3aff93e1b54513a17280032e824325": {
      "model_module": "@jupyter-widgets/base",
      "model_module_version": "2.0.0",
      "model_name": "LayoutModel",
      "state": {}
     },
     "ea4faaae113f4abbaa5ce68bd204a6fe": {
      "model_module": "@jupyter-widgets/controls",
      "model_module_version": "2.0.0",
      "model_name": "TextStyleModel",
      "state": {
       "description_width": "",
       "font_size": null,
       "text_color": null
      }
     },
     "ea6b65799f054e1ebd1909bb8ce3b5bf": {
      "model_module": "@jupyter-widgets/base",
      "model_module_version": "2.0.0",
      "model_name": "LayoutModel",
      "state": {}
     },
     "ea905102fa2f406181dd1b6c9de0b268": {
      "model_module": "@jupyter-widgets/base",
      "model_module_version": "2.0.0",
      "model_name": "LayoutModel",
      "state": {}
     },
     "ea90e6e3177948f99260232f214b2788": {
      "model_module": "@jupyter-widgets/base",
      "model_module_version": "2.0.0",
      "model_name": "LayoutModel",
      "state": {}
     },
     "ea9896d403a74594a9ca5a5932734a01": {
      "model_module": "@jupyter-widgets/controls",
      "model_module_version": "2.0.0",
      "model_name": "TextModel",
      "state": {
       "description": "Type:",
       "disabled": true,
       "layout": "IPY_MODEL_132c0e10c83f4c82893be306b704d2d6",
       "style": "IPY_MODEL_e3db91fc2a1d4e7eb834158301a834ea",
       "value": "object"
      }
     },
     "eaa5c79163e04304839ccef50b5e0e4d": {
      "model_module": "@jupyter-widgets/base",
      "model_module_version": "2.0.0",
      "model_name": "LayoutModel",
      "state": {}
     },
     "eaadce5fb1e54ce2a5afc2fbcb6cea65": {
      "model_module": "@jupyter-widgets/controls",
      "model_module_version": "2.0.0",
      "model_name": "TextModel",
      "state": {
       "description": "Separator:",
       "disabled": true,
       "layout": "IPY_MODEL_b414e1df147241dd9d69577731de6b3f",
       "placeholder": "if many values",
       "style": "IPY_MODEL_5687dd6f1ecc45fda0f22d6cf7c24ca0"
      }
     },
     "eaae308493684038a894329465083b5d": {
      "model_module": "@jupyter-widgets/controls",
      "model_module_version": "2.0.0",
      "model_name": "TextModel",
      "state": {
       "description": "Type:",
       "disabled": true,
       "layout": "IPY_MODEL_9fbc37f9102d4f3288d4e58bc857f793",
       "style": "IPY_MODEL_3a5cd3ab251d4f1fbe8249adbfbd9fab",
       "value": "float64"
      }
     },
     "eac0af0842d744618e656a05fddfa17d": {
      "model_module": "@jupyter-widgets/base",
      "model_module_version": "2.0.0",
      "model_name": "LayoutModel",
      "state": {}
     },
     "eacf72138ce64bba97f70efd3a59d6a8": {
      "model_module": "jupyter-progressivis",
      "model_module_version": "^0.1.0",
      "model_name": "JsonHTMLModel",
      "state": {
       "_model_module_version": "^0.1.0",
       "_view_module_version": "^0.1.0",
       "layout": "IPY_MODEL_89b7c7bb00194e2f9eb8454df8ea4714"
      }
     },
     "eafebaa7c74949879844263f2df0c1c2": {
      "model_module": "@jupyter-widgets/controls",
      "model_module_version": "2.0.0",
      "model_name": "TextModel",
      "state": {
       "description": "Unique vals:",
       "layout": "IPY_MODEL_2f7afa1f2d4b4eddb1f85b92e586fcca",
       "style": "IPY_MODEL_088047fa56b94862b19f50fc460f9341",
       "value": "99/99"
      }
     },
     "eb0cdb1f55374987bb8571a64e761d80": {
      "model_module": "@jupyter-widgets/controls",
      "model_module_version": "2.0.0",
      "model_name": "TextModel",
      "state": {
       "description": "NA values:",
       "layout": "IPY_MODEL_1bd470bd735342b183b9dff8dcdd921e",
       "style": "IPY_MODEL_651f87ec7d11400d88703b7e9f40850e"
      }
     },
     "eb28328a821944ee993c2d0cf662042c": {
      "model_module": "@jupyter-widgets/controls",
      "model_module_version": "2.0.0",
      "model_name": "TextStyleModel",
      "state": {
       "description_width": "",
       "font_size": null,
       "text_color": null
      }
     },
     "eb6cce06145b4852812ce5aed08ae4ee": {
      "model_module": "@jupyter-widgets/base",
      "model_module_version": "2.0.0",
      "model_name": "LayoutModel",
      "state": {}
     },
     "eb89da07c4fc4466a752ead65cfcd934": {
      "model_module": "@jupyter-widgets/controls",
      "model_module_version": "2.0.0",
      "model_name": "CheckboxStyleModel",
      "state": {
       "description_width": ""
      }
     },
     "eba486095f97445999b2c4a5d58f30fe": {
      "model_module": "@jupyter-widgets/base",
      "model_module_version": "2.0.0",
      "model_name": "LayoutModel",
      "state": {}
     },
     "ebc85c582bfe4db9b41b6b8b1a5db489": {
      "model_module": "@jupyter-widgets/controls",
      "model_module_version": "2.0.0",
      "model_name": "TextModel",
      "state": {
       "description": "NA values:",
       "layout": "IPY_MODEL_6e74ce6d13694923ae17e90ecd5adbbe",
       "style": "IPY_MODEL_5fce911e1aac4df39b41ba321f231851"
      }
     },
     "ebece72b8181458fbee18e6f048a1c0e": {
      "model_module": "@jupyter-widgets/controls",
      "model_module_version": "2.0.0",
      "model_name": "TextStyleModel",
      "state": {
       "description_width": "",
       "font_size": null,
       "text_color": null
      }
     },
     "ec0a92454fc24f2295357cc371c7e55e": {
      "model_module": "@jupyter-widgets/base",
      "model_module_version": "2.0.0",
      "model_name": "LayoutModel",
      "state": {}
     },
     "ec12c07b63b94a27a6d1dbafa7fc3dd4": {
      "model_module": "@jupyter-widgets/base",
      "model_module_version": "2.0.0",
      "model_name": "LayoutModel",
      "state": {}
     },
     "ec5696de5164483e99c4a5cee0ff6b0d": {
      "model_module": "@jupyter-widgets/controls",
      "model_module_version": "2.0.0",
      "model_name": "TextModel",
      "state": {
       "description": "Separator:",
       "disabled": true,
       "layout": "IPY_MODEL_5ccca83ca46246a68d7a2acc1fd30c63",
       "placeholder": "if many values",
       "style": "IPY_MODEL_0aadf51a7acf496ebb800859f78f743a"
      }
     },
     "ec6c2b6804844cb6bd7de0ce42258af5": {
      "model_module": "@jupyter-widgets/base",
      "model_module_version": "2.0.0",
      "model_name": "LayoutModel",
      "state": {}
     },
     "ec750daaf5fa4789adeb76b80409925b": {
      "model_module": "@jupyter-widgets/controls",
      "model_module_version": "2.0.0",
      "model_name": "TextModel",
      "state": {
       "description": "Unique vals:",
       "layout": "IPY_MODEL_44d0f8b57e5f4407b5e34f9f5eb5d996",
       "style": "IPY_MODEL_aa89a94c37cd48178ce28e79b1a4a107",
       "value": "68/99"
      }
     },
     "ec841eeffb594eb1b4e15460f63dba78": {
      "model_module": "@jupyter-widgets/controls",
      "model_module_version": "2.0.0",
      "model_name": "TextModel",
      "state": {
       "description": "Separator:",
       "disabled": true,
       "layout": "IPY_MODEL_e9a407402598493681a87a375c15cae7",
       "placeholder": "if many values",
       "style": "IPY_MODEL_53680d2182a64a6e92d064aae0b60f2d"
      }
     },
     "ecc99e2667364d74b5346a16c299eabb": {
      "model_module": "@jupyter-widgets/base",
      "model_module_version": "2.0.0",
      "model_name": "LayoutModel",
      "state": {}
     },
     "ece3cc794a554d94b90a846276b6db0d": {
      "model_module": "@jupyter-widgets/controls",
      "model_module_version": "2.0.0",
      "model_name": "TextModel",
      "state": {
       "description": "Separator:",
       "disabled": true,
       "layout": "IPY_MODEL_4eeb9a8570d14c8f932197d1baf003fb",
       "placeholder": "if many values",
       "style": "IPY_MODEL_a933f60407244dcfadabc27dd501f5ae"
      }
     },
     "ed27ea87b4904a0ba4f96668e341f516": {
      "model_module": "@jupyter-widgets/controls",
      "model_module_version": "2.0.0",
      "model_name": "CheckboxStyleModel",
      "state": {
       "description_width": ""
      }
     },
     "ed3de259844646e5a4722b5670a28941": {
      "model_module": "@jupyter-widgets/controls",
      "model_module_version": "2.0.0",
      "model_name": "TextModel",
      "state": {
       "description": "Unique vals:",
       "layout": "IPY_MODEL_0a87225d8b244d4d85dab09d5b7b2403",
       "style": "IPY_MODEL_9f2eac02a9074656846d36d42fec55c5",
       "value": "99/99"
      }
     },
     "ed407d3548ec47388135e86953130fb6": {
      "model_module": "@jupyter-widgets/controls",
      "model_module_version": "2.0.0",
      "model_name": "TextStyleModel",
      "state": {
       "description_width": "",
       "font_size": null,
       "text_color": null
      }
     },
     "ed429792b84d491a981f44f06edf5c25": {
      "model_module": "@jupyter-widgets/controls",
      "model_module_version": "2.0.0",
      "model_name": "TextModel",
      "state": {
       "continuous_update": false,
       "description": "Name:",
       "disabled": true,
       "layout": "IPY_MODEL_e12a49c2ab514bdebe0df967daf9ca4f",
       "style": "IPY_MODEL_34860d1c01fd434cb618bb2e271ab6a8",
       "value": "tpep_dropoff_datetime"
      }
     },
     "ed44e29965b248a2b93fdeb30c80688a": {
      "model_module": "@jupyter-widgets/base",
      "model_module_version": "2.0.0",
      "model_name": "LayoutModel",
      "state": {}
     },
     "ed7565c489c04c21a39be21a910c076b": {
      "model_module": "@jupyter-widgets/controls",
      "model_module_version": "2.0.0",
      "model_name": "TextModel",
      "state": {
       "description": "Type:",
       "disabled": true,
       "layout": "IPY_MODEL_d962b3c6eb6e4a7781e7b9f063c8e3e3",
       "style": "IPY_MODEL_9088c03e55ca4d33848f6ffccbc5f9eb",
       "value": "int64"
      }
     },
     "edff3237c5a240b28dc150136ceea56f": {
      "model_module": "@jupyter-widgets/base",
      "model_module_version": "2.0.0",
      "model_name": "LayoutModel",
      "state": {}
     },
     "ee2c8aeed4bd4accb584320ab0ec426b": {
      "model_module": "@jupyter-widgets/controls",
      "model_module_version": "2.0.0",
      "model_name": "TextModel",
      "state": {
       "description": "Unique vals:",
       "layout": "IPY_MODEL_e3261507942e4a398bbdebd05294c602",
       "style": "IPY_MODEL_2eecac4c07b94d6fbb5f1a579de744e4",
       "value": "99/99"
      }
     },
     "ee55ee86d4364f6a9ebe0bd9a359c42f": {
      "model_module": "@jupyter-widgets/base",
      "model_module_version": "2.0.0",
      "model_name": "LayoutModel",
      "state": {}
     },
     "eecc4f2f0e024cf48ded03b5e44c59a7": {
      "model_module": "@jupyter-widgets/base",
      "model_module_version": "2.0.0",
      "model_name": "LayoutModel",
      "state": {}
     },
     "eecfffd06a6d485eab68fbf6e7bed7fe": {
      "model_module": "@jupyter-widgets/controls",
      "model_module_version": "2.0.0",
      "model_name": "TextStyleModel",
      "state": {
       "description_width": "",
       "font_size": null,
       "text_color": null
      }
     },
     "eeded71917b04287b842969bb518d6f3": {
      "model_module": "@jupyter-widgets/base",
      "model_module_version": "2.0.0",
      "model_name": "LayoutModel",
      "state": {}
     },
     "ef1e6c9bbb684acd8ac1a36c7696c955": {
      "model_module": "@jupyter-widgets/controls",
      "model_module_version": "2.0.0",
      "model_name": "TextStyleModel",
      "state": {
       "description_width": "",
       "font_size": null,
       "text_color": null
      }
     },
     "ef45dd6cbfa845b8a2307630aad0aebe": {
      "model_module": "@jupyter-widgets/controls",
      "model_module_version": "2.0.0",
      "model_name": "TextModel",
      "state": {
       "description": "Unique vals:",
       "layout": "IPY_MODEL_7d1ab27896d1403e8b41b01087c93e08",
       "style": "IPY_MODEL_7cb6a20931894b839a824bad236a617d",
       "value": "67/99"
      }
     },
     "ef601170e06b4d1abbfdad9645ce37e7": {
      "model_module": "@jupyter-widgets/controls",
      "model_module_version": "2.0.0",
      "model_name": "ButtonStyleModel",
      "state": {
       "font_family": null,
       "font_size": null,
       "font_style": null,
       "font_variant": null,
       "font_weight": null,
       "text_color": null,
       "text_decoration": null
      }
     },
     "ef8a39d7dbb84c4e96c6797cdacbe1e3": {
      "model_module": "@jupyter-widgets/controls",
      "model_module_version": "2.0.0",
      "model_name": "CheckboxModel",
      "state": {
       "description": "NA values",
       "disabled": false,
       "layout": "IPY_MODEL_eb6cce06145b4852812ce5aed08ae4ee",
       "style": "IPY_MODEL_c2f12706719a4126ac2800117f075aa1",
       "value": false
      }
     },
     "efa0624560bb472c8298f0337bba5a9f": {
      "model_module": "@jupyter-widgets/controls",
      "model_module_version": "2.0.0",
      "model_name": "TextModel",
      "state": {
       "continuous_update": false,
       "description": "Name:",
       "disabled": true,
       "layout": "IPY_MODEL_89816dbd2530438697bc65394ec01f1c",
       "style": "IPY_MODEL_fee9bb814c704321a3e8b4f310c1d74b",
       "value": "dropoff_latitude"
      }
     },
     "efa6633743cf4fd6b233e78d0618854e": {
      "model_module": "@jupyter-widgets/controls",
      "model_module_version": "2.0.0",
      "model_name": "TextStyleModel",
      "state": {
       "description_width": "",
       "font_size": null,
       "text_color": null
      }
     },
     "efa85ff6526a47b8b03e9103854e7d9e": {
      "model_module": "@jupyter-widgets/controls",
      "model_module_version": "2.0.0",
      "model_name": "DescriptionStyleModel",
      "state": {
       "description_width": ""
      }
     },
     "efebe1f7de91440ba3d266780836ec66": {
      "model_module": "@jupyter-widgets/base",
      "model_module_version": "2.0.0",
      "model_name": "LayoutModel",
      "state": {}
     },
     "efee2d7721a3472bb6c273a20f3113ae": {
      "model_module": "@jupyter-widgets/controls",
      "model_module_version": "2.0.0",
      "model_name": "TextStyleModel",
      "state": {
       "description_width": "",
       "font_size": null,
       "text_color": null
      }
     },
     "f03e61f580bb4e56922ff2069b4b8688": {
      "model_module": "@jupyter-widgets/base",
      "model_module_version": "2.0.0",
      "model_name": "LayoutModel",
      "state": {}
     },
     "f03f8ebbf15b4794a3dc5d2444dcae05": {
      "model_module": "@jupyter-widgets/controls",
      "model_module_version": "2.0.0",
      "model_name": "TextModel",
      "state": {
       "continuous_update": false,
       "description": "Name:",
       "disabled": true,
       "layout": "IPY_MODEL_94f84286da444d3da718f17d8a6854a9",
       "style": "IPY_MODEL_91f84d2fbc7a42ec9411e25519eb343c",
       "value": "RateCodeID"
      }
     },
     "f08705d8b9cd4d96ab86f1069fa8f8e2": {
      "model_module": "@jupyter-widgets/base",
      "model_module_version": "2.0.0",
      "model_name": "LayoutModel",
      "state": {}
     },
     "f0a403fad80b4a72bcd529fc01a8df98": {
      "model_module": "@jupyter-widgets/controls",
      "model_module_version": "2.0.0",
      "model_name": "TextModel",
      "state": {
       "description": "Unique vals:",
       "layout": "IPY_MODEL_c7a1485f06ed4d569a99111a05266692",
       "style": "IPY_MODEL_6f61182e5fd54abb9b857ba10c9ea3b7",
       "value": "39/99"
      }
     },
     "f0bb9e4951874c5697af0075c333a809": {
      "model_module": "@jupyter-widgets/controls",
      "model_module_version": "2.0.0",
      "model_name": "TextModel",
      "state": {
       "description": "Type:",
       "disabled": true,
       "layout": "IPY_MODEL_d437570ddd034dc4b91f8073f5ca5554",
       "style": "IPY_MODEL_e87fd99bb9ba4b17884cc9cd5cdacced",
       "value": "float64"
      }
     },
     "f0c9e8c1d4c848688803ccafdee6fd8c": {
      "model_module": "@jupyter-widgets/controls",
      "model_module_version": "2.0.0",
      "model_name": "TextModel",
      "state": {
       "description": "Separator:",
       "disabled": true,
       "layout": "IPY_MODEL_ea055f704c2f46e89e97c5f40b65040e",
       "placeholder": "if many values",
       "style": "IPY_MODEL_8bb820eedcd24df5b86b655c40acf21a"
      }
     },
     "f0e79860a54041ab99407b4468f26fa7": {
      "model_module": "@jupyter-widgets/controls",
      "model_module_version": "2.0.0",
      "model_name": "CheckboxStyleModel",
      "state": {
       "description_width": ""
      }
     },
     "f0ed106229af409c95de07b509a2f694": {
      "model_module": "@jupyter-widgets/controls",
      "model_module_version": "2.0.0",
      "model_name": "TextStyleModel",
      "state": {
       "description_width": "",
       "font_size": null,
       "text_color": null
      }
     },
     "f12fef9dbd6948cfaa5a932d42e82c8b": {
      "model_module": "@jupyter-widgets/controls",
      "model_module_version": "2.0.0",
      "model_name": "CheckboxStyleModel",
      "state": {
       "description_width": ""
      }
     },
     "f13720da65c14ae8baf7b1e9f944d0c4": {
      "model_module": "@jupyter-widgets/controls",
      "model_module_version": "2.0.0",
      "model_name": "TextStyleModel",
      "state": {
       "description_width": "",
       "font_size": null,
       "text_color": null
      }
     },
     "f149d0c270114b9491c784ca64140d7e": {
      "model_module": "@jupyter-widgets/base",
      "model_module_version": "2.0.0",
      "model_name": "LayoutModel",
      "state": {}
     },
     "f15290dba73c4345b152b492ff7f3ee4": {
      "model_module": "@jupyter-widgets/controls",
      "model_module_version": "2.0.0",
      "model_name": "TextStyleModel",
      "state": {
       "description_width": "",
       "font_size": null,
       "text_color": null
      }
     },
     "f171700f9a4b497fb2f45ef033a078cc": {
      "model_module": "@jupyter-widgets/controls",
      "model_module_version": "2.0.0",
      "model_name": "TextModel",
      "state": {
       "description": "NA values:",
       "layout": "IPY_MODEL_c72ff64c9e554240a65e2b0dae9977fd",
       "style": "IPY_MODEL_d75a706c65ce43f1bf2f76a306764bee"
      }
     },
     "f182d5e7b1894418bdce53e2767f6d93": {
      "model_module": "@jupyter-widgets/base",
      "model_module_version": "2.0.0",
      "model_name": "LayoutModel",
      "state": {}
     },
     "f1850d1181b5422aa4f0d28dec4023ce": {
      "model_module": "@jupyter-widgets/base",
      "model_module_version": "2.0.0",
      "model_name": "LayoutModel",
      "state": {}
     },
     "f18bf113ebb34cfd9947d0f3296deac4": {
      "model_module": "@jupyter-widgets/controls",
      "model_module_version": "2.0.0",
      "model_name": "TextModel",
      "state": {
       "description": "Type:",
       "disabled": true,
       "layout": "IPY_MODEL_e0c58c919f734fe4808cf44856500ad9",
       "style": "IPY_MODEL_aac47466ecf64145a794e52f11399f87",
       "value": "float64"
      }
     },
     "f1c626e3905c4312b7c8fa2aebe737af": {
      "model_module": "@jupyter-widgets/controls",
      "model_module_version": "2.0.0",
      "model_name": "DropdownModel",
      "state": {
       "_options_labels": [
        "int8",
        "uint8",
        "int16",
        "uint16",
        "int32",
        "int64",
        "uint32",
        "uint64",
        "float32",
        "float64",
        "str"
       ],
       "description": "Retype:",
       "index": 5,
       "layout": "IPY_MODEL_f5678726e2ff4cfc96b5530b80a7774f",
       "style": "IPY_MODEL_c513ad51da8b4a55ae63a304c02ce313"
      }
     },
     "f1d2b0514fd14468ba2457a8c0568815": {
      "model_module": "@jupyter-widgets/controls",
      "model_module_version": "2.0.0",
      "model_name": "TextModel",
      "state": {
       "description": "Type:",
       "disabled": true,
       "layout": "IPY_MODEL_9c85b496baf941dc971270753604a7de",
       "style": "IPY_MODEL_c749d625a4774bdda89ae7d4c612804c",
       "value": "float64"
      }
     },
     "f1d3b80b510d4602acd2441b2b9488c5": {
      "model_module": "@jupyter-widgets/base",
      "model_module_version": "2.0.0",
      "model_name": "LayoutModel",
      "state": {}
     },
     "f1d8b0ae23fa4176944ec1ae5ea02a3b": {
      "model_module": "@jupyter-widgets/controls",
      "model_module_version": "2.0.0",
      "model_name": "CheckboxStyleModel",
      "state": {
       "description_width": ""
      }
     },
     "f1df435f23e341de862d8bbd4e1b8c77": {
      "model_module": "@jupyter-widgets/controls",
      "model_module_version": "2.0.0",
      "model_name": "CheckboxStyleModel",
      "state": {
       "description_width": ""
      }
     },
     "f1f8acaadf774f2689066ce824d93fb7": {
      "model_module": "@jupyter-widgets/controls",
      "model_module_version": "2.0.0",
      "model_name": "CheckboxModel",
      "state": {
       "description": "Use",
       "disabled": false,
       "layout": "IPY_MODEL_4e961b0e6512483d95d2f74227471115",
       "style": "IPY_MODEL_0e6c844ada3347fa9e172705a1e8f402",
       "value": true
      }
     },
     "f1ff7d0055b245b4bca92615f9edc621": {
      "model_module": "@jupyter-widgets/controls",
      "model_module_version": "2.0.0",
      "model_name": "CheckboxStyleModel",
      "state": {
       "description_width": ""
      }
     },
     "f20837d7434b4112961f519e9dc48427": {
      "model_module": "@jupyter-widgets/controls",
      "model_module_version": "2.0.0",
      "model_name": "TextStyleModel",
      "state": {
       "description_width": "",
       "font_size": null,
       "text_color": null
      }
     },
     "f2489dd10f1b4107923b1602986abf71": {
      "model_module": "@jupyter-widgets/controls",
      "model_module_version": "2.0.0",
      "model_name": "DescriptionStyleModel",
      "state": {
       "description_width": ""
      }
     },
     "f26655538aac4a1399ebd4f3efbaaab1": {
      "model_module": "@jupyter-widgets/base",
      "model_module_version": "2.0.0",
      "model_name": "LayoutModel",
      "state": {}
     },
     "f26ff77ec7da482795735edde23132e8": {
      "model_module": "@jupyter-widgets/base",
      "model_module_version": "2.0.0",
      "model_name": "LayoutModel",
      "state": {}
     },
     "f276fe34e8244e41a6ffe41bed6be1cd": {
      "model_module": "@jupyter-widgets/base",
      "model_module_version": "2.0.0",
      "model_name": "LayoutModel",
      "state": {}
     },
     "f2b4922997fd4228b699692f2f3e0900": {
      "model_module": "@jupyter-widgets/controls",
      "model_module_version": "2.0.0",
      "model_name": "DropdownModel",
      "state": {
       "_options_labels": [
        "int8",
        "uint8",
        "int16",
        "uint16",
        "int32",
        "int64",
        "uint32",
        "uint64",
        "float32",
        "float64",
        "str"
       ],
       "description": "Retype:",
       "index": 9,
       "layout": "IPY_MODEL_ff57e16b66da43f986537bc29e2133f1",
       "style": "IPY_MODEL_6d273145dcfc41bda00cae6ee69a4e80"
      }
     },
     "f2f61a9e59454446aab7f5e00f0a1d52": {
      "model_module": "@jupyter-widgets/controls",
      "model_module_version": "2.0.0",
      "model_name": "VBoxModel",
      "state": {
       "children": [
        "IPY_MODEL_e024274dc1a64a7ab3a7a150f2b4d98a",
        "IPY_MODEL_4bbecb53741745f4ad8fc6b5bf035fb4",
        "IPY_MODEL_a61732e346204e0c911ba0b1a302a25b",
        "IPY_MODEL_3ef2db64294146d48db0ca50cc20bc67",
        "IPY_MODEL_761210d916c246d6898f32db18444b65",
        "IPY_MODEL_d67b34ccf9884f6b8b334a65450bcfc0",
        "IPY_MODEL_2e7a3ca1d6cf4683bac3019d1c6519ef"
       ],
       "layout": "IPY_MODEL_fd0217b6673b4ef9991aced5861cb656"
      }
     },
     "f34a14be0afd4a23a22e0fb270a4f9b8": {
      "model_module": "@jupyter-widgets/controls",
      "model_module_version": "2.0.0",
      "model_name": "DescriptionStyleModel",
      "state": {
       "description_width": ""
      }
     },
     "f35eda28e9334892aff3e1228e0d1585": {
      "model_module": "@jupyter-widgets/controls",
      "model_module_version": "2.0.0",
      "model_name": "TextModel",
      "state": {
       "description": "Separator:",
       "disabled": true,
       "layout": "IPY_MODEL_0a46a5d31bce4e62ac20d12f358b84eb",
       "placeholder": "if many values",
       "style": "IPY_MODEL_78bc5116f7934d81becd4e48f051b451"
      }
     },
     "f3799d32d91f4950bbaedd446add9214": {
      "model_module": "@jupyter-widgets/controls",
      "model_module_version": "2.0.0",
      "model_name": "CheckboxModel",
      "state": {
       "description": "NA values",
       "disabled": false,
       "layout": "IPY_MODEL_96d77fa7784e42d5b46c30ab7a9b26ac",
       "style": "IPY_MODEL_1ee1769a24b7435f9a4db7780484302f",
       "value": false
      }
     },
     "f3e76018c5e842da86b0e616be16ad50": {
      "model_module": "@jupyter-widgets/controls",
      "model_module_version": "2.0.0",
      "model_name": "TextModel",
      "state": {
       "description": "Type:",
       "disabled": true,
       "layout": "IPY_MODEL_bd2de63346d7457ba26e39038128d476",
       "style": "IPY_MODEL_85a679bae3b74de0a139419561c5b578",
       "value": "float64"
      }
     },
     "f3f6df5c45024bffb51e25f8d910076c": {
      "model_module": "@jupyter-widgets/base",
      "model_module_version": "2.0.0",
      "model_name": "LayoutModel",
      "state": {}
     },
     "f3fb69d8e5844097be1e559c5d77cb06": {
      "model_module": "@jupyter-widgets/base",
      "model_module_version": "2.0.0",
      "model_name": "LayoutModel",
      "state": {}
     },
     "f419d4bb8a674a488212d80ff3dd1e93": {
      "model_module": "@jupyter-widgets/controls",
      "model_module_version": "2.0.0",
      "model_name": "TextModel",
      "state": {
       "description": "Type:",
       "disabled": true,
       "layout": "IPY_MODEL_2ba6bf50b51842c3aed9c6073ba53ae1",
       "style": "IPY_MODEL_88de47ba18574e36826458e7d421ed32",
       "value": "float64"
      }
     },
     "f428d0e6121b4a2cb8ce92aa449358e1": {
      "model_module": "@jupyter-widgets/controls",
      "model_module_version": "2.0.0",
      "model_name": "TextModel",
      "state": {
       "description": "NA values:",
       "layout": "IPY_MODEL_25d05ea567f448cb9905536e6579016e",
       "style": "IPY_MODEL_3557e12fb535475d956b2229747eece6"
      }
     },
     "f43194f7ee9f4c48858c123f702ca544": {
      "model_module": "@jupyter-widgets/controls",
      "model_module_version": "2.0.0",
      "model_name": "DropdownModel",
      "state": {
       "_options_labels": [
        "int8",
        "uint8",
        "int16",
        "uint16",
        "int32",
        "int64",
        "uint32",
        "uint64",
        "float32",
        "float64",
        "str"
       ],
       "description": "Retype:",
       "disabled": true,
       "index": 5,
       "layout": "IPY_MODEL_504e247770e349aab12c152955553d8a",
       "style": "IPY_MODEL_3501c04755314ffb824d8aacffd47a98"
      }
     },
     "f44c613471bf40b99882c949c21e2f96": {
      "model_module": "@jupyter-widgets/controls",
      "model_module_version": "2.0.0",
      "model_name": "TextModel",
      "state": {
       "description": "PARQUET loader:",
       "layout": "IPY_MODEL_a1d0e336ed7c411ebaa9ebb33a2d9ea7",
       "placeholder": "optional alias",
       "style": "IPY_MODEL_38a9fc90313c43aba7cc9e5a2ac1e84b"
      }
     },
     "f4678fa59d334aa49110452a807d23ff": {
      "model_module": "@jupyter-widgets/controls",
      "model_module_version": "2.0.0",
      "model_name": "TextModel",
      "state": {
       "layout": "IPY_MODEL_03e1306e724f47d9ab893067cc348d11",
       "style": "IPY_MODEL_aa91138c55784a0c8a0172eb4c06541f",
       "value": ","
      }
     },
     "f476283c7a854313b3993864ee149059": {
      "model_module": "@jupyter-widgets/controls",
      "model_module_version": "2.0.0",
      "model_name": "TextModel",
      "state": {
       "continuous_update": false,
       "description": "Name:",
       "disabled": true,
       "layout": "IPY_MODEL_a9c42465ce4b427c8e38270aeec43328",
       "style": "IPY_MODEL_2ac041d8f6e24e0aafaf5a8b4d0bffe5",
       "value": "total_amount"
      }
     },
     "f4b6ffaa4a3343a7b7c6bb89c96a99a5": {
      "model_module": "@jupyter-widgets/controls",
      "model_module_version": "2.0.0",
      "model_name": "TextStyleModel",
      "state": {
       "description_width": "",
       "font_size": null,
       "text_color": null
      }
     },
     "f4b7a02f346049198de35cdd2725334f": {
      "model_module": "@jupyter-widgets/base",
      "model_module_version": "2.0.0",
      "model_name": "LayoutModel",
      "state": {
       "visibility": "hidden"
      }
     },
     "f4da4518cc45427ea0007f83cd300a53": {
      "model_module": "@jupyter-widgets/controls",
      "model_module_version": "2.0.0",
      "model_name": "TextStyleModel",
      "state": {
       "description_width": "",
       "font_size": null,
       "text_color": null
      }
     },
     "f523d8c1f13a4208af95fcb6b8b24d47": {
      "model_module": "@jupyter-widgets/controls",
      "model_module_version": "2.0.0",
      "model_name": "TextStyleModel",
      "state": {
       "description_width": "",
       "font_size": null,
       "text_color": null
      }
     },
     "f535f2544a6c48d78be92824f2283242": {
      "model_module": "@jupyter-widgets/base",
      "model_module_version": "2.0.0",
      "model_name": "LayoutModel",
      "state": {}
     },
     "f5678726e2ff4cfc96b5530b80a7774f": {
      "model_module": "@jupyter-widgets/base",
      "model_module_version": "2.0.0",
      "model_name": "LayoutModel",
      "state": {}
     },
     "f5eb69320b004905ba73f927c1c30977": {
      "model_module": "@jupyter-widgets/controls",
      "model_module_version": "2.0.0",
      "model_name": "CheckboxModel",
      "state": {
       "description": "NA values",
       "disabled": false,
       "layout": "IPY_MODEL_477fdeb46e574b9c81ba75d52b4bcdd2",
       "style": "IPY_MODEL_16bcb3c432e24e61b45c6851f492e5cf",
       "value": false
      }
     },
     "f6018f354a8d461da222425c3939c213": {
      "model_module": "@jupyter-widgets/controls",
      "model_module_version": "2.0.0",
      "model_name": "TextModel",
      "state": {
       "description": "Rename:",
       "layout": "IPY_MODEL_b2c6dcaca1434583bf07ceff4773dd85",
       "style": "IPY_MODEL_6b63d21f47b94374b62a6af6265d4b17",
       "value": "store_and_fwd_flag"
      }
     },
     "f643ac8c0b05498ca889ecbe85b19b3c": {
      "model_module": "@jupyter-widgets/controls",
      "model_module_version": "2.0.0",
      "model_name": "TextStyleModel",
      "state": {
       "description_width": "",
       "font_size": null,
       "text_color": null
      }
     },
     "f66a623c8454482b8ffbb68a341042de": {
      "model_module": "@jupyter-widgets/controls",
      "model_module_version": "2.0.0",
      "model_name": "TextModel",
      "state": {
       "continuous_update": false,
       "description": "Name:",
       "disabled": true,
       "layout": "IPY_MODEL_0d9e2ff36162453da7804ebbe007aa51",
       "style": "IPY_MODEL_498489a5d21846b5932510cca01f2885",
       "value": "pickup_latitude"
      }
     },
     "f682125726bc40a382420235c7abba4e": {
      "model_module": "@jupyter-widgets/base",
      "model_module_version": "2.0.0",
      "model_name": "LayoutModel",
      "state": {}
     },
     "f6892eb9fcf74f88942d41d832f55d2f": {
      "model_module": "@jupyter-widgets/jupyterlab-sidecar",
      "model_module_version": "1.1.0",
      "model_name": "SidecarModel",
      "state": {
       "layout": "IPY_MODEL_a05401e4ee234cdebb3ba6eb39526f56",
       "outputs": [
        {
         "data": {
          "application/vnd.jupyter.widget-view+json": {
           "model_id": "3607b52a0d2748bca1afbfcca221bd36",
           "version_major": 2,
           "version_minor": 0
          },
          "text/plain": "DagWidgetController()"
         },
         "metadata": {},
         "output_type": "display_data"
        }
       ],
       "title": "Widgets Output"
      }
     },
     "f6aab19d2eee4c9391853c4d05c89535": {
      "model_module": "@jupyter-widgets/base",
      "model_module_version": "2.0.0",
      "model_name": "LayoutModel",
      "state": {}
     },
     "f6b028aa20f448c9a099f14446ad1484": {
      "model_module": "@jupyter-widgets/base",
      "model_module_version": "2.0.0",
      "model_name": "LayoutModel",
      "state": {}
     },
     "f6ec5c101430486b857d8cae64cc8f3d": {
      "model_module": "@jupyter-widgets/base",
      "model_module_version": "2.0.0",
      "model_name": "LayoutModel",
      "state": {}
     },
     "f721e588d1bc43d4ad4516a7b6795cc9": {
      "model_module": "@jupyter-widgets/base",
      "model_module_version": "2.0.0",
      "model_name": "LayoutModel",
      "state": {}
     },
     "f74aee2b5a81420cbef449bf3a3b960e": {
      "model_module": "@jupyter-widgets/controls",
      "model_module_version": "2.0.0",
      "model_name": "DescriptionStyleModel",
      "state": {
       "description_width": ""
      }
     },
     "f76a4fe6f5d8470c9229815793c2e278": {
      "model_module": "@jupyter-widgets/controls",
      "model_module_version": "2.0.0",
      "model_name": "CheckboxStyleModel",
      "state": {
       "description_width": ""
      }
     },
     "f76fc238184349fc9ee5133139359c7f": {
      "model_module": "@jupyter-widgets/controls",
      "model_module_version": "2.0.0",
      "model_name": "TextModel",
      "state": {
       "description": "NA values:",
       "layout": "IPY_MODEL_23330f601a77415297c88a7dbaeb6ac7",
       "style": "IPY_MODEL_46f21c6cf9b74955b292a409e1db93be"
      }
     },
     "f771c249a63d46d78e709a02819796c2": {
      "model_module": "@jupyter-widgets/controls",
      "model_module_version": "2.0.0",
      "model_name": "DropdownModel",
      "state": {
       "_options_labels": [
        "int8",
        "uint8",
        "int16",
        "uint16",
        "int32",
        "int64",
        "uint32",
        "uint64",
        "float32",
        "float64",
        "str"
       ],
       "description": "Retype:",
       "index": 9,
       "layout": "IPY_MODEL_87e8365f4ea2478fa35ed079c22e2952",
       "style": "IPY_MODEL_8dbff3f027074c83927fe3237b7c6dee"
      }
     },
     "f7c6f7ed479549759767958c7850ebe3": {
      "model_module": "@jupyter-widgets/controls",
      "model_module_version": "2.0.0",
      "model_name": "TextModel",
      "state": {
       "description": "Unique vals:",
       "layout": "IPY_MODEL_3aa6c1e8d4ca44d0b2e3c809afb7130b",
       "style": "IPY_MODEL_9a29b4a909e54535a3a5c3a12ea97a13",
       "value": "3/99"
      }
     },
     "f838dd251d534b768810a34a364da155": {
      "model_module": "@jupyter-widgets/base",
      "model_module_version": "2.0.0",
      "model_name": "LayoutModel",
      "state": {}
     },
     "f8468546d48e48488b1f717f31836f37": {
      "model_module": "@jupyter-widgets/base",
      "model_module_version": "2.0.0",
      "model_name": "LayoutModel",
      "state": {}
     },
     "f86575eaa729446c8ce5103272354a91": {
      "model_module": "@jupyter-widgets/base",
      "model_module_version": "2.0.0",
      "model_name": "LayoutModel",
      "state": {}
     },
     "f877035569484eb3812ebb277b5e41f6": {
      "model_module": "@jupyter-widgets/base",
      "model_module_version": "2.0.0",
      "model_name": "LayoutModel",
      "state": {}
     },
     "f88e668392e04973b4944310d5b46f26": {
      "model_module": "@jupyter-widgets/controls",
      "model_module_version": "2.0.0",
      "model_name": "TextModel",
      "state": {
       "continuous_update": false,
       "description": "Name:",
       "disabled": true,
       "layout": "IPY_MODEL_179c8d44d195456abbbf71452f43056a",
       "style": "IPY_MODEL_986cfa1f032343dea980a35dc45fceac",
       "value": "extra"
      }
     },
     "f8a1956e9df64519baea840370f43e96": {
      "model_module": "@jupyter-widgets/controls",
      "model_module_version": "2.0.0",
      "model_name": "TextModel",
      "state": {
       "description": "Separator:",
       "disabled": true,
       "layout": "IPY_MODEL_ff8cbf6b42bf4bca9010c668f16fd8d0",
       "placeholder": "if many values",
       "style": "IPY_MODEL_16db6245a35646a8af5b2cc4f54dcdc8"
      }
     },
     "f8bfac0346894e3bbb16d322b02755ce": {
      "model_module": "@jupyter-widgets/controls",
      "model_module_version": "2.0.0",
      "model_name": "CheckboxModel",
      "state": {
       "description": "NA values",
       "disabled": false,
       "layout": "IPY_MODEL_858445c0ae0047628c92b4bb9eac3e88",
       "style": "IPY_MODEL_7462d37cd1c64d599ed3efe015d9618f",
       "value": false
      }
     },
     "f8fe4245894b4f6e85fd42d3d7e3a802": {
      "model_module": "@jupyter-widgets/base",
      "model_module_version": "2.0.0",
      "model_name": "LayoutModel",
      "state": {}
     },
     "f9028de3d2a442c4953830ee6ce8826b": {
      "model_module": "@jupyter-widgets/controls",
      "model_module_version": "2.0.0",
      "model_name": "TextStyleModel",
      "state": {
       "description_width": "",
       "font_size": null,
       "text_color": null
      }
     },
     "f929ed7446f142308ee1683233113776": {
      "model_module": "@jupyter-widgets/controls",
      "model_module_version": "2.0.0",
      "model_name": "CheckboxModel",
      "state": {
       "description": "NA values",
       "disabled": false,
       "layout": "IPY_MODEL_9af5f1cbcb7242d493d23d76f0b7f0eb",
       "style": "IPY_MODEL_fd13d9914512438b9a0b5d6e05d2c125",
       "value": false
      }
     },
     "f9378f8010ad4336a489e4decec6ccae": {
      "model_module": "@jupyter-widgets/controls",
      "model_module_version": "2.0.0",
      "model_name": "TextModel",
      "state": {
       "description": "NA values:",
       "layout": "IPY_MODEL_0d69d044ac56452e81c5a2f3b8b53416",
       "style": "IPY_MODEL_618bee1e11494c729e5501fe7ced3342"
      }
     },
     "f952c89767aa4c669737e726d64d3e07": {
      "model_module": "@jupyter-widgets/controls",
      "model_module_version": "2.0.0",
      "model_name": "TextModel",
      "state": {
       "continuous_update": false,
       "description": "Name:",
       "disabled": true,
       "layout": "IPY_MODEL_ad9788666268481182a6e5f36cbbbfb3",
       "style": "IPY_MODEL_7d9f29a1cce84e17afe218432f20b91c",
       "value": "tolls_amount"
      }
     },
     "f958a0c18a7a44508e5697409b90390f": {
      "model_module": "@jupyter-widgets/base",
      "model_module_version": "2.0.0",
      "model_name": "LayoutModel",
      "state": {}
     },
     "f98efa7976ba42698ab0c829ff1e39f8": {
      "model_module": "@jupyter-widgets/base",
      "model_module_version": "2.0.0",
      "model_name": "LayoutModel",
      "state": {}
     },
     "f9a7b6ce37a145c683d244b264892ea3": {
      "model_module": "@jupyter-widgets/controls",
      "model_module_version": "2.0.0",
      "model_name": "HTMLStyleModel",
      "state": {
       "description_width": "",
       "font_size": null,
       "text_color": null
      }
     },
     "f9bed48cb16246feb899dffaf8ae060b": {
      "model_module": "@jupyter-widgets/base",
      "model_module_version": "2.0.0",
      "model_name": "LayoutModel",
      "state": {}
     },
     "fa35af04f0e94ce2affbdfb37fdaf226": {
      "model_module": "@jupyter-widgets/base",
      "model_module_version": "2.0.0",
      "model_name": "LayoutModel",
      "state": {}
     },
     "fa4b0cff19024fca8a082a1fc2068920": {
      "model_module": "@jupyter-widgets/controls",
      "model_module_version": "2.0.0",
      "model_name": "CheckboxStyleModel",
      "state": {
       "description_width": ""
      }
     },
     "fa9e6230f49040e980dc582a6aa3db1c": {
      "model_module": "@jupyter-widgets/controls",
      "model_module_version": "2.0.0",
      "model_name": "VBoxModel",
      "state": {
       "children": [
        "IPY_MODEL_e32e64336d9c4d1b881c2dfd86754f73",
        "IPY_MODEL_268bc71f33334ca993650c5a060f273d",
        "IPY_MODEL_b741da76863c44d785422dbd26f5076c",
        "IPY_MODEL_befda5b930e14c3a817aae8f6df5fa3d",
        "IPY_MODEL_84235aa00b23429e9f8f3785cab75489",
        "IPY_MODEL_ee2c8aeed4bd4accb584320ab0ec426b",
        "IPY_MODEL_2c5220e851e3444697641eeb49551f15"
       ],
       "layout": "IPY_MODEL_b868bb4354104391b7fc5fe2a49bcc7b"
      }
     },
     "fac8890ae0354662940513351f6cb969": {
      "model_module": "@jupyter-widgets/controls",
      "model_module_version": "2.0.0",
      "model_name": "TextStyleModel",
      "state": {
       "description_width": "",
       "font_size": null,
       "text_color": null
      }
     },
     "fae6fadc5d264d9cb552e660cab14052": {
      "model_module": "@jupyter-widgets/base",
      "model_module_version": "2.0.0",
      "model_name": "LayoutModel",
      "state": {}
     },
     "fae746b6a9d8405b93edbd2e39b13a00": {
      "model_module": "@jupyter-widgets/controls",
      "model_module_version": "2.0.0",
      "model_name": "CheckboxStyleModel",
      "state": {
       "description_width": ""
      }
     },
     "faeadc2cfb34452d98b7209206630313": {
      "model_module": "@jupyter-widgets/base",
      "model_module_version": "2.0.0",
      "model_name": "LayoutModel",
      "state": {}
     },
     "fb078932655341dfb4be6fe444b44e10": {
      "model_module": "@jupyter-widgets/base",
      "model_module_version": "2.0.0",
      "model_name": "LayoutModel",
      "state": {}
     },
     "fb1434aabd3d4ed29052c78c0ce38492": {
      "model_module": "@jupyter-widgets/controls",
      "model_module_version": "2.0.0",
      "model_name": "TextModel",
      "state": {
       "description": "Separator:",
       "disabled": true,
       "layout": "IPY_MODEL_12d8a1285e6a47df901b83d2997f90a6",
       "placeholder": "if many values",
       "style": "IPY_MODEL_8325f12db48647bbb5f0256419a47fb9"
      }
     },
     "fb2b6aa088cc49a7977422325f2d39af": {
      "model_module": "@jupyter-widgets/controls",
      "model_module_version": "2.0.0",
      "model_name": "TextStyleModel",
      "state": {
       "description_width": "",
       "font_size": null,
       "text_color": null
      }
     },
     "fb4055a0b9e94729af7cd42651b6d596": {
      "model_module": "@jupyter-widgets/base",
      "model_module_version": "2.0.0",
      "model_name": "LayoutModel",
      "state": {}
     },
     "fb814c1fea4a40bd9d8f72b7dfd65e47": {
      "model_module": "@jupyter-widgets/controls",
      "model_module_version": "2.0.0",
      "model_name": "TextStyleModel",
      "state": {
       "description_width": "",
       "font_size": null,
       "text_color": null
      }
     },
     "fb896c27d3c84d958496297b7e7971f3": {
      "model_module": "@jupyter-widgets/base",
      "model_module_version": "2.0.0",
      "model_name": "LayoutModel",
      "state": {}
     },
     "fb8a931852354559bbe134fdbeb58a66": {
      "model_module": "@jupyter-widgets/base",
      "model_module_version": "2.0.0",
      "model_name": "LayoutModel",
      "state": {}
     },
     "fb941a1490434ef49b6f5f8fd4304a74": {
      "model_module": "@jupyter-widgets/base",
      "model_module_version": "2.0.0",
      "model_name": "LayoutModel",
      "state": {}
     },
     "fba03075eec64ee3878a905cf223b176": {
      "model_module": "@jupyter-widgets/controls",
      "model_module_version": "2.0.0",
      "model_name": "CheckboxStyleModel",
      "state": {
       "description_width": ""
      }
     },
     "fba0e3da75e448c2b82c93fc9b08310c": {
      "model_module": "@jupyter-widgets/controls",
      "model_module_version": "2.0.0",
      "model_name": "ButtonModel",
      "state": {
       "description": "Step",
       "disabled": true,
       "icon": "step-forward",
       "layout": "IPY_MODEL_e38aca213b01476fbcfdfb976837e0ff",
       "style": "IPY_MODEL_e9b207f11a584a098cf6e0f9044e4543",
       "tooltip": "Step"
      }
     },
     "fba4f16f74d8479180b0780a1e924a4e": {
      "model_module": "@jupyter-widgets/controls",
      "model_module_version": "2.0.0",
      "model_name": "TextStyleModel",
      "state": {
       "description_width": "",
       "font_size": null,
       "text_color": null
      }
     },
     "fba6107f88e842949ab28ac50ca6d5a8": {
      "model_module": "@jupyter-widgets/controls",
      "model_module_version": "2.0.0",
      "model_name": "TextStyleModel",
      "state": {
       "description_width": "",
       "font_size": null,
       "text_color": null
      }
     },
     "fbac7a4aee094ee58d4ad5c98c8b5ac3": {
      "model_module": "@jupyter-widgets/base",
      "model_module_version": "2.0.0",
      "model_name": "LayoutModel",
      "state": {}
     },
     "fbddb983166d4e3fb81c3a355f945d9f": {
      "model_module": "@jupyter-widgets/base",
      "model_module_version": "2.0.0",
      "model_name": "LayoutModel",
      "state": {}
     },
     "fbe28a7a06c74188bb97d2f45c4aebf7": {
      "model_module": "@jupyter-widgets/controls",
      "model_module_version": "2.0.0",
      "model_name": "TextStyleModel",
      "state": {
       "description_width": "",
       "font_size": null,
       "text_color": null
      }
     },
     "fbf06ee5d4bb47bd8ed325da7d99f897": {
      "model_module": "@jupyter-widgets/controls",
      "model_module_version": "2.0.0",
      "model_name": "TextModel",
      "state": {
       "description": "Unique vals:",
       "layout": "IPY_MODEL_f26ff77ec7da482795735edde23132e8",
       "style": "IPY_MODEL_f0ed106229af409c95de07b509a2f694",
       "value": "1/99"
      }
     },
     "fc181b7f52ab45d6b399f10503ecc87d": {
      "model_module": "@jupyter-widgets/base",
      "model_module_version": "2.0.0",
      "model_name": "LayoutModel",
      "state": {}
     },
     "fc18309beb2c4850b1e41e552c74bbcc": {
      "model_module": "@jupyter-widgets/base",
      "model_module_version": "2.0.0",
      "model_name": "LayoutModel",
      "state": {}
     },
     "fc1a153d6a1d4b6eaa443d580f2495b0": {
      "model_module": "@jupyter-widgets/controls",
      "model_module_version": "2.0.0",
      "model_name": "TextModel",
      "state": {
       "description": "Unique vals:",
       "layout": "IPY_MODEL_51eb2c8dda654d9e949a25da3acbae0e",
       "style": "IPY_MODEL_41d9da43d21a41858ee143ce8fe1832b",
       "value": "2/99"
      }
     },
     "fc3164814d8a4ac384c3e3e3fc916179": {
      "model_module": "@jupyter-widgets/controls",
      "model_module_version": "2.0.0",
      "model_name": "TextStyleModel",
      "state": {
       "description_width": "",
       "font_size": null,
       "text_color": null
      }
     },
     "fc36ce5beaa24722a0a35b0920c9c733": {
      "model_module": "@jupyter-widgets/base",
      "model_module_version": "2.0.0",
      "model_name": "LayoutModel",
      "state": {}
     },
     "fc5784aa52ee437098a55577881e7ff9": {
      "model_module": "@jupyter-widgets/controls",
      "model_module_version": "2.0.0",
      "model_name": "TextModel",
      "state": {
       "continuous_update": false,
       "description": "Name:",
       "disabled": true,
       "layout": "IPY_MODEL_92702a0d3b1b482e9e5e7b1c14f8f03c",
       "style": "IPY_MODEL_43440fd6a3eb4abd97fc8d147956605a",
       "value": "dropoff_latitude"
      }
     },
     "fc96ae9990c347e99a6364abe3741140": {
      "model_module": "@jupyter-widgets/base",
      "model_module_version": "2.0.0",
      "model_name": "LayoutModel",
      "state": {}
     },
     "fc9e0cdad0384bd8b155e8d745e87500": {
      "model_module": "@jupyter-widgets/controls",
      "model_module_version": "2.0.0",
      "model_name": "TextModel",
      "state": {
       "description": "NA values:",
       "layout": "IPY_MODEL_d145b37357664ead9131ab5002ba0b6e",
       "style": "IPY_MODEL_3c5dcf83d1b34dbda7f993509d41ff62"
      }
     },
     "fca9651df53a484bac5439de28002580": {
      "model_module": "@jupyter-widgets/base",
      "model_module_version": "2.0.0",
      "model_name": "LayoutModel",
      "state": {}
     },
     "fcb4e1f319084509b198431e34669955": {
      "model_module": "@jupyter-widgets/controls",
      "model_module_version": "2.0.0",
      "model_name": "LabelStyleModel",
      "state": {
       "description_width": "",
       "font_family": null,
       "font_size": null,
       "font_style": null,
       "font_variant": null,
       "font_weight": null,
       "text_color": null,
       "text_decoration": null
      }
     },
     "fcc0c29813a149c9a690445cde30b008": {
      "model_module": "@jupyter-widgets/controls",
      "model_module_version": "2.0.0",
      "model_name": "TextModel",
      "state": {
       "description": "Type:",
       "disabled": true,
       "layout": "IPY_MODEL_e158267a92b1481e92a7d85454e04a49",
       "style": "IPY_MODEL_7d8fcf1476a7420a876099d44a195a7e",
       "value": "float64"
      }
     },
     "fd0217b6673b4ef9991aced5861cb656": {
      "model_module": "@jupyter-widgets/base",
      "model_module_version": "2.0.0",
      "model_name": "LayoutModel",
      "state": {}
     },
     "fd07305c610c4264b4296c563a72bcf1": {
      "model_module": "@jupyter-widgets/controls",
      "model_module_version": "2.0.0",
      "model_name": "TextStyleModel",
      "state": {
       "description_width": "",
       "font_size": null,
       "text_color": null
      }
     },
     "fd13d9914512438b9a0b5d6e05d2c125": {
      "model_module": "@jupyter-widgets/controls",
      "model_module_version": "2.0.0",
      "model_name": "CheckboxStyleModel",
      "state": {
       "description_width": ""
      }
     },
     "fd5aad139cc244dea08b39b76431ea10": {
      "model_module": "@jupyter-widgets/controls",
      "model_module_version": "2.0.0",
      "model_name": "CheckboxStyleModel",
      "state": {
       "description_width": ""
      }
     },
     "fd623431f73c4b7caf8c853e43afca98": {
      "model_module": "@jupyter-widgets/controls",
      "model_module_version": "2.0.0",
      "model_name": "TextModel",
      "state": {
       "description": "NA values:",
       "layout": "IPY_MODEL_14855467b0fa4d309a01b1c767f3c4bf",
       "style": "IPY_MODEL_2930251bdacf4438b393514f3d89e647"
      }
     },
     "fd850db5bd254e48b0ce9e1d3d8c170b": {
      "model_module": "@jupyter-widgets/base",
      "model_module_version": "2.0.0",
      "model_name": "LayoutModel",
      "state": {}
     },
     "fd975ea29b6f4b69a8d3c5c319fcbded": {
      "model_module": "@jupyter-widgets/controls",
      "model_module_version": "2.0.0",
      "model_name": "TextStyleModel",
      "state": {
       "description_width": "",
       "font_size": null,
       "text_color": null
      }
     },
     "fdab3f55b7ab40be84fa42e3ff5ce551": {
      "model_module": "@jupyter-widgets/controls",
      "model_module_version": "2.0.0",
      "model_name": "TextStyleModel",
      "state": {
       "description_width": "",
       "font_size": null,
       "text_color": null
      }
     },
     "fdc817aa6728442fb623aee28e08a743": {
      "model_module": "@jupyter-widgets/controls",
      "model_module_version": "2.0.0",
      "model_name": "VBoxModel",
      "state": {
       "children": [
        "IPY_MODEL_11027c1d6aff4adfac8d1750b1585e65",
        "IPY_MODEL_573c80b2e5e945ddbb4f78c3dcc8c561",
        "IPY_MODEL_f0bb9e4951874c5697af0075c333a809",
        "IPY_MODEL_45de1b07096e43d29b4a41def2a3e05f",
        "IPY_MODEL_9005dce43b1846f7a95f4c12e02b93ec",
        "IPY_MODEL_eafebaa7c74949879844263f2df0c1c2",
        "IPY_MODEL_82043c078b6646ebb07c7153d45a6627"
       ],
       "layout": "IPY_MODEL_9644d6becf1944f7b979cd87ef3fb07e"
      }
     },
     "fe53859e313d496790cf2daef4edf954": {
      "model_module": "@jupyter-widgets/base",
      "model_module_version": "2.0.0",
      "model_name": "LayoutModel",
      "state": {}
     },
     "fe7f8f01af4448e38eaf16869b1a90ee": {
      "model_module": "@jupyter-widgets/base",
      "model_module_version": "2.0.0",
      "model_name": "LayoutModel",
      "state": {}
     },
     "fe8693c0fca544d5ac60d3fa8d3821e8": {
      "model_module": "@jupyter-widgets/controls",
      "model_module_version": "2.0.0",
      "model_name": "TextModel",
      "state": {
       "description": "Type:",
       "disabled": true,
       "layout": "IPY_MODEL_973681f59913436fb2b7c45f5ed44308",
       "style": "IPY_MODEL_23d7629c7ffb44d9ab4a3ea28c0c20c9",
       "value": "float64"
      }
     },
     "fe9ea77ef6ee44ad9f5d9bcd97ac7685": {
      "model_module": "@jupyter-widgets/base",
      "model_module_version": "2.0.0",
      "model_name": "LayoutModel",
      "state": {}
     },
     "feb1169acefe4b3ca3917a8e16e0344c": {
      "model_module": "@jupyter-widgets/jupyterlab-sidecar",
      "model_module_version": "1.1.0",
      "model_name": "SidecarModel",
      "state": {
       "layout": "IPY_MODEL_1c1dd3028bdd4497a580384e7b46fbfd",
       "outputs": [
        {
         "data": {
          "application/vnd.jupyter.widget-view+json": {
           "model_id": "a8d18cd914e74f708367d04251d76e69",
           "version_major": 2,
           "version_minor": 0
          },
          "text/plain": "PsBoard(children=(ControlPanel(children=(Button(description='Resume', disabled=True, icon='play', style=Button…"
         },
         "metadata": {},
         "output_type": "display_data"
        }
       ],
       "title": "Modules Output"
      }
     },
     "feb1778fd5a745cdb083dd5aa69f1a0f": {
      "model_module": "@jupyter-widgets/controls",
      "model_module_version": "2.0.0",
      "model_name": "DescriptionStyleModel",
      "state": {
       "description_width": ""
      }
     },
     "feb67d57a2484956b2f09b5715afe3a0": {
      "model_module": "@jupyter-widgets/controls",
      "model_module_version": "2.0.0",
      "model_name": "TextModel",
      "state": {
       "description": "Unique vals:",
       "layout": "IPY_MODEL_bf931c22e0234b8e89b397a37ef7726b",
       "style": "IPY_MODEL_a3d5c34040684f34af44c413317f8679",
       "value": "3/99"
      }
     },
     "fee9bb814c704321a3e8b4f310c1d74b": {
      "model_module": "@jupyter-widgets/controls",
      "model_module_version": "2.0.0",
      "model_name": "TextStyleModel",
      "state": {
       "description_width": "",
       "font_size": null,
       "text_color": null
      }
     },
     "ff0e2acaa3af4c0dbe8cd0614c9a87ea": {
      "model_module": "@jupyter-widgets/controls",
      "model_module_version": "2.0.0",
      "model_name": "HBoxModel",
      "state": {
       "children": [
        "IPY_MODEL_238a6aa7659e4987ab1aad5207c292ad",
        "IPY_MODEL_60bdf0bf074947338687071644a19b41",
        "IPY_MODEL_fba0e3da75e448c2b82c93fc9b08310c",
        "IPY_MODEL_50b5508cb338423785f039b15947812d"
       ],
       "layout": "IPY_MODEL_944c0748005e4808a5fdeba5178adb74"
      }
     },
     "ff57e16b66da43f986537bc29e2133f1": {
      "model_module": "@jupyter-widgets/base",
      "model_module_version": "2.0.0",
      "model_name": "LayoutModel",
      "state": {}
     },
     "ff716509388f40508f68c207dc0852b3": {
      "model_module": "@jupyter-widgets/controls",
      "model_module_version": "2.0.0",
      "model_name": "CheckboxModel",
      "state": {
       "description": "Use",
       "disabled": false,
       "layout": "IPY_MODEL_4c3d3b329e124fb192acdf27b41a5283",
       "style": "IPY_MODEL_e9258c80a1524c65ba816d2f7b229d71",
       "value": true
      }
     },
     "ff8cbf6b42bf4bca9010c668f16fd8d0": {
      "model_module": "@jupyter-widgets/base",
      "model_module_version": "2.0.0",
      "model_name": "LayoutModel",
      "state": {}
     },
     "ffaa86848c364315820c5faf4bd5d4b3": {
      "model_module": "@jupyter-widgets/controls",
      "model_module_version": "2.0.0",
      "model_name": "CheckboxModel",
      "state": {
       "description": "Use",
       "disabled": false,
       "layout": "IPY_MODEL_d511655a2520476f967d38ddb3e85503",
       "style": "IPY_MODEL_be86b93b8d25458cb204d7a28db3f0f9",
       "value": true
      }
     },
     "ffdf542f1cf44cc998b1b71cab546674": {
      "model_module": "@jupyter-widgets/controls",
      "model_module_version": "2.0.0",
      "model_name": "VBoxModel",
      "state": {
       "children": [
        "IPY_MODEL_3312b16dbbd14e4eba83dd9707a5c36d",
        "IPY_MODEL_a7ac7ff2a4d9419aa19e6bf1234ae0b3",
        "IPY_MODEL_36b299cb3d0042c39a52ee6a09ab69bc",
        "IPY_MODEL_09da8cfd44544e0084a67a832378e30a",
        "IPY_MODEL_e5ebbe2659d3422f925691a498a7899d",
        "IPY_MODEL_dddb43413eac4ed0b1213a36ef30ef9d",
        "IPY_MODEL_4051610fca6e4c97b2aff121bd69f491"
       ],
       "layout": "IPY_MODEL_3f73c15b81e34dbc84f01b701d8f4f72"
      }
     }
    },
    "version_major": 2,
    "version_minor": 0
   }
  }
 },
 "nbformat": 4,
 "nbformat_minor": 5
}
