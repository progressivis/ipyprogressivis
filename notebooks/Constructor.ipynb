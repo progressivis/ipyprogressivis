{
 "cells": [
  {
   "cell_type": "code",
   "execution_count": 1,
   "id": "7317404e-44d0-4f91-9d77-63903bdfc5af",
   "metadata": {
    "tags": []
   },
   "outputs": [],
   "source": [
    "from ipyprogressivis.nbwidgets import DagWidgetController\n",
    "from sidecar import Sidecar\n",
    "wo = Sidecar(title='Widgets Output')\n",
    "manager = DagWidgetController()\n",
    "import ipywidgets as widgets\n",
    "with wo:\n",
    "    display(manager)"
   ]
  },
  {
   "cell_type": "code",
   "execution_count": 2,
   "id": "fleet-final",
   "metadata": {
    "tags": []
   },
   "outputs": [
    {
     "data": {
      "application/vnd.jupyter.widget-view+json": {
       "model_id": "a259bc04ee084ab689700bb8b8ce34e3",
       "version_major": 2,
       "version_minor": 0
      },
      "text/plain": [
       "Constructor(children=(HTML(value=\"<h2 id='prog_139716918943056'>root</h2>\"), Button(description='Start schedul…"
      ]
     },
     "metadata": {},
     "output_type": "display_data"
    }
   ],
   "source": [
    "from ipyprogressivis.nbwidgets import cleanup_cells, Constructor, PsBoard\n",
    "cleanup_cells(manager)\n",
    "cons = Constructor(manager)\n",
    "mo = Sidecar(title='Modules Output')\n",
    "display(cons)\n",
    "with mo:\n",
    "    display(PsBoard(cons.scheduler))"
   ]
  }
 ],
 "metadata": {
  "celltoolbar": "Éditer les Méta-Données",
  "hide_input": false,
  "kernelspec": {
   "display_name": "Python 3 (ipykernel)",
   "language": "python",
   "name": "python3"
  },
  "language_info": {
   "codemirror_mode": {
    "name": "ipython",
    "version": 3
   },
   "file_extension": ".py",
   "mimetype": "text/x-python",
   "name": "python",
   "nbconvert_exporter": "python",
   "pygments_lexer": "ipython3",
   "version": "3.11.4"
  },
  "latex_envs": {
   "LaTeX_envs_menu_present": true,
   "autoclose": false,
   "autocomplete": true,
   "bibliofile": "biblio.bib",
   "cite_by": "apalike",
   "current_citInitial": 1,
   "eqLabelWithNumbers": true,
   "eqNumInitial": 1,
   "hotkeys": {
    "equation": "Ctrl-E",
    "itemize": "Ctrl-I"
   },
   "labels_anchors": false,
   "latex_user_defs": false,
   "report_style_numbering": false,
   "user_envs_cfg": false
  },
  "toc": {
   "base_numbering": 1,
   "nav_menu": {},
   "number_sections": false,
   "sideBar": true,
   "skip_h1_title": true,
   "title_cell": "PTable of Contents",
   "title_sidebar": "Contents",
   "toc_cell": false,
   "toc_position": {
    "height": "836.875px",
    "left": "59px",
    "top": "111.125px",
    "width": "340px"
   },
   "toc_section_display": true,
   "toc_window_display": true
  },
  "toc-showtags": false,
  "widgets": {
   "application/vnd.jupyter.widget-state+json": {
    "state": {
     "028aec4dfbcf499b8e6657e05aa17ce8": {
      "model_module": "jupyter-progressivis",
      "model_module_version": "^0.1.0",
      "model_name": "JsonHTMLModel",
      "state": {
       "_model_module_version": "^0.1.0",
       "_view_module_version": "^0.1.0",
       "layout": "IPY_MODEL_763802b5a57c44b4a0012a8475184053"
      }
     },
     "06fe28131bfd4b89bc3a5779d703d907": {
      "model_module": "@jupyter-widgets/controls",
      "model_module_version": "2.0.0",
      "model_name": "VBoxModel",
      "state": {
       "children": [
        "IPY_MODEL_50f4611cc582449792623f843cedc985",
        "IPY_MODEL_6cd5704582c4418ea8b35774ad5ccaf7",
        "IPY_MODEL_c8698b9148894f38b71d770fb99d5582",
        "IPY_MODEL_eafab500b4294cc38322c140a2352c03"
       ],
       "layout": "IPY_MODEL_754f8a1c8f464fab8d3103f50e7856d9"
      }
     },
     "07ef02ba691c426cae0f82e4f2d9c3fa": {
      "model_module": "@jupyter-widgets/base",
      "model_module_version": "2.0.0",
      "model_name": "LayoutModel",
      "state": {}
     },
     "083301836f14416dadf70bf130369cdf": {
      "model_module": "@jupyter-widgets/base",
      "model_module_version": "2.0.0",
      "model_name": "LayoutModel",
      "state": {}
     },
     "1655b012cf564a6e984a7d64823a9fcb": {
      "model_module": "@jupyter-widgets/controls",
      "model_module_version": "2.0.0",
      "model_name": "TabModel",
      "state": {
       "children": [
        "IPY_MODEL_028aec4dfbcf499b8e6657e05aa17ce8",
        "IPY_MODEL_4c498914556749b29f7d95e052f02679"
       ],
       "layout": "IPY_MODEL_6db05ed2c5b243f2ac2c0030f23fe504",
       "selected_index": 0,
       "titles": [
        "Main",
        "Output slots"
       ]
      }
     },
     "19a299b3f252481b9d53e1eb6eef8d0b": {
      "model_module": "@jupyter-widgets/base",
      "model_module_version": "2.0.0",
      "model_name": "LayoutModel",
      "state": {}
     },
     "1b81fb2421c14ebdbc6fe9b42fdf6044": {
      "model_module": "@jupyter-widgets/controls",
      "model_module_version": "2.0.0",
      "model_name": "HTMLModel",
      "state": {
       "layout": "IPY_MODEL_19a299b3f252481b9d53e1eb6eef8d0b",
       "placeholder": "0",
       "style": "IPY_MODEL_dbc2c8b4f8f3496bad7083860d8d13a9",
       "value": "0"
      }
     },
     "1cfe3d3c4e7e4c20be0f1d6f51201700": {
      "model_module": "@jupyter-widgets/base",
      "model_module_version": "2.0.0",
      "model_name": "LayoutModel",
      "state": {}
     },
     "1ee5f99f10b1426d9ab77f5145a27ef6": {
      "model_module": "jupyter-progressivis",
      "model_module_version": "^0.1.0",
      "model_name": "ModuleGraphModel",
      "state": {
       "_model_module_version": "^0.1.0",
       "_view_module_version": "^0.1.0",
       "data": "{}",
       "layout": "IPY_MODEL_1cfe3d3c4e7e4c20be0f1d6f51201700"
      }
     },
     "242b858a576b4a6aba8af509c24eeaf4": {
      "model_module": "@jupyter-widgets/controls",
      "model_module_version": "2.0.0",
      "model_name": "LabelStyleModel",
      "state": {
       "description_width": "",
       "font_family": null,
       "font_size": null,
       "font_style": null,
       "font_variant": null,
       "font_weight": null,
       "text_color": null,
       "text_decoration": null
      }
     },
     "26d616aba13a48eca393fc25c78beb97": {
      "model_module": "@jupyter-widgets/base",
      "model_module_version": "2.0.0",
      "model_name": "LayoutModel",
      "state": {}
     },
     "2cdf1bdc35e449ea8e736a6f5bdfcbab": {
      "model_module": "@jupyter-widgets/controls",
      "model_module_version": "2.0.0",
      "model_name": "LabelStyleModel",
      "state": {
       "description_width": "",
       "font_family": null,
       "font_size": null,
       "font_style": null,
       "font_variant": null,
       "font_weight": null,
       "text_color": null,
       "text_decoration": null
      }
     },
     "2d9827f8fdaf4d469b12038ae40f1c13": {
      "model_module": "@jupyter-widgets/base",
      "model_module_version": "2.0.0",
      "model_name": "LayoutModel",
      "state": {}
     },
     "2eae9c2012124f4b958541b08e780f93": {
      "model_module": "@jupyter-widgets/jupyterlab-sidecar",
      "model_module_version": "1.1.0",
      "model_name": "SidecarModel",
      "state": {
       "layout": "IPY_MODEL_ff9b43d985b944fa93d54ab764d31747",
       "outputs": [
        {
         "data": {
          "application/vnd.jupyter.widget-view+json": {
           "model_id": "86ccbdd855fc45f7adc83498796aa3a0",
           "version_major": 2,
           "version_minor": 0
          },
          "text/plain": "PsBoard(children=(ControlPanel(children=(Button(description='Resume', disabled=True, icon='play', style=Button…"
         },
         "metadata": {},
         "output_type": "display_data"
        }
       ],
       "title": "Modules Output"
      }
     },
     "3409b4c76388499a8341f3b81e450cdb": {
      "model_module": "@jupyter-widgets/controls",
      "model_module_version": "2.0.0",
      "model_name": "TabModel",
      "state": {
       "children": [
        "IPY_MODEL_c3d7303094cd4de089cd8123b926a1d8",
        "IPY_MODEL_b3e562dfbe594ccabbf1f2249390cca0"
       ],
       "layout": "IPY_MODEL_58c5ed01cdc14e13b4ecb9f5f4b7f4e0",
       "selected_index": 0,
       "titles": [
        "Modules",
        "Module graph"
       ]
      }
     },
     "38da0496e34b4399bf22c813b3de97ac": {
      "model_module": "@jupyter-widgets/controls",
      "model_module_version": "2.0.0",
      "model_name": "ButtonModel",
      "state": {
       "description": "Resume",
       "disabled": true,
       "icon": "play",
       "layout": "IPY_MODEL_07ef02ba691c426cae0f82e4f2d9c3fa",
       "style": "IPY_MODEL_c452161e706f454a8f4fe5edda431b96",
       "tooltip": "Start"
      }
     },
     "41d99f08fbe24c49b9a369895d81a18d": {
      "model_module": "@jupyter-widgets/base",
      "model_module_version": "2.0.0",
      "model_name": "LayoutModel",
      "state": {}
     },
     "46cca0536ee941c09b714e4aa18c0f88": {
      "model_module": "@jupyter-widgets/jupyterlab-sidecar",
      "model_module_version": "1.1.0",
      "model_name": "SidecarModel",
      "state": {
       "layout": "IPY_MODEL_ddff338cfeb94309ab9fd3f312d0d04a",
       "outputs": [
        {
         "data": {
          "application/vnd.jupyter.widget-view+json": {
           "model_id": "e6e2877db2144fcf9e586f9462672f1a",
           "version_major": 2,
           "version_minor": 0
          },
          "text/plain": "DagWidgetController()"
         },
         "metadata": {},
         "output_type": "display_data"
        }
       ],
       "title": "Widgets Output"
      }
     },
     "4c498914556749b29f7d95e052f02679": {
      "model_module": "@jupyter-widgets/controls",
      "model_module_version": "2.0.0",
      "model_name": "TabModel",
      "state": {
       "layout": "IPY_MODEL_f1982460dc354f9d8e4270eea8af5a3b"
      }
     },
     "50f4611cc582449792623f843cedc985": {
      "model_module": "@jupyter-widgets/controls",
      "model_module_version": "2.0.0",
      "model_name": "HTMLModel",
      "state": {
       "layout": "IPY_MODEL_eafcd3ec9dc64d10928c3a911f8a4b7f",
       "style": "IPY_MODEL_a2ca17bafb554485a60efc5f96eabb6b",
       "value": "<h2 id='prog_139982746781264'>root</h2>"
      }
     },
     "58c5ed01cdc14e13b4ecb9f5f4b7f4e0": {
      "model_module": "@jupyter-widgets/base",
      "model_module_version": "2.0.0",
      "model_name": "LayoutModel",
      "state": {}
     },
     "5c8532a4aefe42c68930c7f6433e3754": {
      "model_module": "@jupyter-widgets/controls",
      "model_module_version": "2.0.0",
      "model_name": "ButtonStyleModel",
      "state": {
       "font_family": null,
       "font_size": null,
       "font_style": null,
       "font_variant": null,
       "font_weight": null,
       "text_color": null,
       "text_decoration": null
      }
     },
     "655142d5334a48b0a83d7d23e814f4ee": {
      "model_module": "@jupyter-widgets/controls",
      "model_module_version": "2.0.0",
      "model_name": "LabelStyleModel",
      "state": {
       "description_width": "",
       "font_family": null,
       "font_size": null,
       "font_style": null,
       "font_variant": null,
       "font_weight": null,
       "text_color": null,
       "text_decoration": null
      }
     },
     "67c61836e08447f882a6fcd8693a786c": {
      "model_module": "@jupyter-widgets/controls",
      "model_module_version": "2.0.0",
      "model_name": "LabelStyleModel",
      "state": {
       "description_width": "",
       "font_family": null,
       "font_size": null,
       "font_style": null,
       "font_variant": null,
       "font_weight": null,
       "text_color": null,
       "text_decoration": null
      }
     },
     "6cd5704582c4418ea8b35774ad5ccaf7": {
      "model_module": "@jupyter-widgets/controls",
      "model_module_version": "2.0.0",
      "model_name": "ButtonModel",
      "state": {
       "description": "Start scheduler ...",
       "icon": "check",
       "layout": "IPY_MODEL_768ee527efb54755b31cd80cf279a19d",
       "style": "IPY_MODEL_5c8532a4aefe42c68930c7f6433e3754",
       "tooltip": "Start scheduler ..."
      }
     },
     "6d2a9db8498c465db137dc956941c404": {
      "model_module": "@jupyter-widgets/controls",
      "model_module_version": "2.0.0",
      "model_name": "ButtonModel",
      "state": {
       "description": "Step",
       "disabled": true,
       "icon": "step-forward",
       "layout": "IPY_MODEL_083301836f14416dadf70bf130369cdf",
       "style": "IPY_MODEL_98aaa6c77bbc481f92b756a8076c3e8d",
       "tooltip": "Step"
      }
     },
     "6db05ed2c5b243f2ac2c0030f23fe504": {
      "model_module": "@jupyter-widgets/base",
      "model_module_version": "2.0.0",
      "model_name": "LayoutModel",
      "state": {}
     },
     "70a4e4474b5d487fba31c9273df7f41d": {
      "model_module": "@jupyter-widgets/base",
      "model_module_version": "2.0.0",
      "model_name": "LayoutModel",
      "state": {
       "height": "500px",
       "overflow": "auto"
      }
     },
     "74b47bffed9046aa946cd8befe7c9d69": {
      "model_module": "jupyter-progressivis",
      "model_module_version": "^0.1.0",
      "model_name": "SensitiveHTMLModel",
      "state": {
       "_model_module_version": "^0.1.0",
       "_view_module_version": "^0.1.0",
       "data": {},
       "layout": "IPY_MODEL_70a4e4474b5d487fba31c9273df7f41d",
       "value": {}
      }
     },
     "754f8a1c8f464fab8d3103f50e7856d9": {
      "model_module": "@jupyter-widgets/base",
      "model_module_version": "2.0.0",
      "model_name": "LayoutModel",
      "state": {}
     },
     "763802b5a57c44b4a0012a8475184053": {
      "model_module": "@jupyter-widgets/base",
      "model_module_version": "2.0.0",
      "model_name": "LayoutModel",
      "state": {}
     },
     "768ee527efb54755b31cd80cf279a19d": {
      "model_module": "@jupyter-widgets/base",
      "model_module_version": "2.0.0",
      "model_name": "LayoutModel",
      "state": {}
     },
     "7c912017e10d4138836e315ea33d25f2": {
      "model_module": "@jupyter-widgets/controls",
      "model_module_version": "2.0.0",
      "model_name": "ButtonModel",
      "state": {
       "description": "Stop",
       "icon": "stop",
       "layout": "IPY_MODEL_41d99f08fbe24c49b9a369895d81a18d",
       "style": "IPY_MODEL_bf4dd443a3274248a1090986849cbaef",
       "tooltip": "Stop"
      }
     },
     "835c682b484345beaa422bbbff5ba81a": {
      "model_module": "@jupyter-widgets/base",
      "model_module_version": "2.0.0",
      "model_name": "LayoutModel",
      "state": {
       "visibility": "hidden"
      }
     },
     "86ccbdd855fc45f7adc83498796aa3a0": {
      "model_module": "@jupyter-widgets/controls",
      "model_module_version": "2.0.0",
      "model_name": "VBoxModel",
      "state": {
       "children": [
        "IPY_MODEL_c991c014e2174eb48e4950c412dbd3e1",
        "IPY_MODEL_3409b4c76388499a8341f3b81e450cdb",
        "IPY_MODEL_95672c8e7d7d43b7b55a5f3ef3ae2bf9"
       ],
       "layout": "IPY_MODEL_2d9827f8fdaf4d469b12038ae40f1c13"
      }
     },
     "88ab0628dfc144e7b7a9b4b860443ef3": {
      "model_module": "@jupyter-widgets/controls",
      "model_module_version": "2.0.0",
      "model_name": "LabelStyleModel",
      "state": {
       "description_width": "",
       "font_family": null,
       "font_size": null,
       "font_style": null,
       "font_variant": null,
       "font_weight": null,
       "text_color": null,
       "text_decoration": null
      }
     },
     "8afa95bbc1734e0b9098416240d89e0e": {
      "model_module": "@jupyter-widgets/base",
      "model_module_version": "2.0.0",
      "model_name": "LayoutModel",
      "state": {}
     },
     "95672c8e7d7d43b7b55a5f3ef3ae2bf9": {
      "model_module": "@jupyter-widgets/output",
      "model_module_version": "1.0.0",
      "model_name": "OutputModel",
      "state": {
       "layout": "IPY_MODEL_edfcbc52f29a44328bead1654ad5ae62"
      }
     },
     "9669a5a359c4492db248250f60067dc9": {
      "model_module": "@jupyter-widgets/base",
      "model_module_version": "2.0.0",
      "model_name": "LayoutModel",
      "state": {
       "visibility": "hidden"
      }
     },
     "98aaa6c77bbc481f92b756a8076c3e8d": {
      "model_module": "@jupyter-widgets/controls",
      "model_module_version": "2.0.0",
      "model_name": "ButtonStyleModel",
      "state": {
       "font_family": null,
       "font_size": null,
       "font_style": null,
       "font_variant": null,
       "font_weight": null,
       "text_color": null,
       "text_decoration": null
      }
     },
     "99da4557b0b14f02b535f7d6426f386c": {
      "model_module": "@jupyter-widgets/base",
      "model_module_version": "2.0.0",
      "model_name": "LayoutModel",
      "state": {}
     },
     "a2ca17bafb554485a60efc5f96eabb6b": {
      "model_module": "@jupyter-widgets/controls",
      "model_module_version": "2.0.0",
      "model_name": "HTMLStyleModel",
      "state": {
       "description_width": "",
       "font_size": null,
       "text_color": null
      }
     },
     "a677ed06aae746f689b71fb5b78f4071": {
      "model_module": "@jupyter-widgets/controls",
      "model_module_version": "2.0.0",
      "model_name": "LabelModel",
      "state": {
       "layout": "IPY_MODEL_d493c4f944f44c19b003c1bc94236763",
       "style": "IPY_MODEL_2cdf1bdc35e449ea8e736a6f5bdfcbab",
       "value": "dongle"
      }
     },
     "ab48609c56fb44049a8d0babb3a3dfd2": {
      "model_module": "@jupyter-widgets/controls",
      "model_module_version": "2.0.0",
      "model_name": "LabelModel",
      "state": {
       "layout": "IPY_MODEL_9669a5a359c4492db248250f60067dc9",
       "style": "IPY_MODEL_67c61836e08447f882a6fcd8693a786c",
       "value": "dongle"
      }
     },
     "b3e562dfbe594ccabbf1f2249390cca0": {
      "model_module": "@jupyter-widgets/controls",
      "model_module_version": "2.0.0",
      "model_name": "LabelModel",
      "state": {
       "layout": "IPY_MODEL_99da4557b0b14f02b535f7d6426f386c",
       "style": "IPY_MODEL_242b858a576b4a6aba8af509c24eeaf4"
      }
     },
     "bf4dd443a3274248a1090986849cbaef": {
      "model_module": "@jupyter-widgets/controls",
      "model_module_version": "2.0.0",
      "model_name": "ButtonStyleModel",
      "state": {
       "font_family": null,
       "font_size": null,
       "font_style": null,
       "font_variant": null,
       "font_weight": null,
       "text_color": null,
       "text_decoration": null
      }
     },
     "c242896523df4f42b941b6bb10b67ef0": {
      "model_module": "@jupyter-widgets/base",
      "model_module_version": "2.0.0",
      "model_name": "LayoutModel",
      "state": {
       "visibility": "hidden"
      }
     },
     "c3d7303094cd4de089cd8123b926a1d8": {
      "model_module": "@jupyter-widgets/controls",
      "model_module_version": "2.0.0",
      "model_name": "LabelModel",
      "state": {
       "layout": "IPY_MODEL_26d616aba13a48eca393fc25c78beb97",
       "style": "IPY_MODEL_655142d5334a48b0a83d7d23e814f4ee"
      }
     },
     "c452161e706f454a8f4fe5edda431b96": {
      "model_module": "@jupyter-widgets/controls",
      "model_module_version": "2.0.0",
      "model_name": "ButtonStyleModel",
      "state": {
       "font_family": null,
       "font_size": null,
       "font_style": null,
       "font_variant": null,
       "font_weight": null,
       "text_color": null,
       "text_decoration": null
      }
     },
     "c8698b9148894f38b71d770fb99d5582": {
      "model_module": "@jupyter-widgets/controls",
      "model_module_version": "2.0.0",
      "model_name": "LabelModel",
      "state": {
       "layout": "IPY_MODEL_c242896523df4f42b941b6bb10b67ef0",
       "style": "IPY_MODEL_e57ab4698f03441c87f82eafda6823c1",
       "value": "dongle"
      }
     },
     "c991c014e2174eb48e4950c412dbd3e1": {
      "model_module": "@jupyter-widgets/controls",
      "model_module_version": "2.0.0",
      "model_name": "HBoxModel",
      "state": {
       "children": [
        "IPY_MODEL_38da0496e34b4399bf22c813b3de97ac",
        "IPY_MODEL_7c912017e10d4138836e315ea33d25f2",
        "IPY_MODEL_6d2a9db8498c465db137dc956941c404",
        "IPY_MODEL_1b81fb2421c14ebdbc6fe9b42fdf6044"
       ],
       "layout": "IPY_MODEL_8afa95bbc1734e0b9098416240d89e0e"
      }
     },
     "d493c4f944f44c19b003c1bc94236763": {
      "model_module": "@jupyter-widgets/base",
      "model_module_version": "2.0.0",
      "model_name": "LayoutModel",
      "state": {
       "visibility": "hidden"
      }
     },
     "dbc2c8b4f8f3496bad7083860d8d13a9": {
      "model_module": "@jupyter-widgets/controls",
      "model_module_version": "2.0.0",
      "model_name": "HTMLStyleModel",
      "state": {
       "description_width": "",
       "font_size": null,
       "text_color": null
      }
     },
     "ddff338cfeb94309ab9fd3f312d0d04a": {
      "model_module": "@jupyter-widgets/base",
      "model_module_version": "2.0.0",
      "model_name": "LayoutModel",
      "state": {}
     },
     "e57ab4698f03441c87f82eafda6823c1": {
      "model_module": "@jupyter-widgets/controls",
      "model_module_version": "2.0.0",
      "model_name": "LabelStyleModel",
      "state": {
       "description_width": "",
       "font_family": null,
       "font_size": null,
       "font_style": null,
       "font_variant": null,
       "font_weight": null,
       "text_color": null,
       "text_decoration": null
      }
     },
     "e6e2877db2144fcf9e586f9462672f1a": {
      "model_module": "jupyter-progressivis",
      "model_module_version": "^0.1.0",
      "model_name": "DagWidgetModel",
      "state": {
       "_model_module_version": "^0.1.0",
       "_view_module_version": "^0.1.0",
       "layout": "IPY_MODEL_f6ef0b4833b84a4ca25a9e4b59df75b6"
      }
     },
     "eafab500b4294cc38322c140a2352c03": {
      "model_module": "@jupyter-widgets/controls",
      "model_module_version": "2.0.0",
      "model_name": "LabelModel",
      "state": {
       "layout": "IPY_MODEL_835c682b484345beaa422bbbff5ba81a",
       "style": "IPY_MODEL_88ab0628dfc144e7b7a9b4b860443ef3",
       "value": "dongle"
      }
     },
     "eafcd3ec9dc64d10928c3a911f8a4b7f": {
      "model_module": "@jupyter-widgets/base",
      "model_module_version": "2.0.0",
      "model_name": "LayoutModel",
      "state": {}
     },
     "edfcbc52f29a44328bead1654ad5ae62": {
      "model_module": "@jupyter-widgets/base",
      "model_module_version": "2.0.0",
      "model_name": "LayoutModel",
      "state": {}
     },
     "f1982460dc354f9d8e4270eea8af5a3b": {
      "model_module": "@jupyter-widgets/base",
      "model_module_version": "2.0.0",
      "model_name": "LayoutModel",
      "state": {}
     },
     "f6ef0b4833b84a4ca25a9e4b59df75b6": {
      "model_module": "@jupyter-widgets/base",
      "model_module_version": "2.0.0",
      "model_name": "LayoutModel",
      "state": {}
     },
     "ff9b43d985b944fa93d54ab764d31747": {
      "model_module": "@jupyter-widgets/base",
      "model_module_version": "2.0.0",
      "model_name": "LayoutModel",
      "state": {}
     }
    },
    "version_major": 2,
    "version_minor": 0
   }
  }
 },
 "nbformat": 4,
 "nbformat_minor": 5
}
