{
 "cells": [
  {
   "cell_type": "markdown",
   "id": "ceee6a5f-fd38-4b0f-af1b-a3fca1c44ea2",
   "metadata": {
    "deletable": false,
    "editable": false,
    "progressivis_backup": "eyJ0aXRsZSI6ICJQQVJRVUVUIGxvYWRlciIsICJudW1iZXIiOiAwLCAiZnR5cGUiOiAicGFycXVldCIsICJhbGlhcyI6ICJUYXhpcyIsICJmcm96ZW4iOiB7InVybHMiOiBbIi90bXAvdGF4aV9wYXJxdWV0Il0sICJ0aHJvdHRsZSI6IDAsICJzaHVmZmxlIjogdHJ1ZSwgImR0eXBlcyI6IHsidHBlcF9waWNrdXBfZGF0ZXRpbWUiOiAiZGF0ZXRpbWU2NCIsICJ0cGVwX2Ryb3BvZmZfZGF0ZXRpbWUiOiAiZGF0ZXRpbWU2NCIsICJwYXNzZW5nZXJfY291bnQiOiAiaW50NjQiLCAiUFVMb2NhdGlvbklEIjogImludDY0In19LCAibWFya2Rvd24iOiAiIn0=;eyJ0aXRsZSI6ICJDU1YgbG9hZGVyIiwgIm51bWJlciI6IDAsICJmdHlwZSI6ICJjc3YiLCAiYWxpYXMiOiAiWm9uZXMiLCAiZnJvemVuIjogeyJ1cmxzIjogWyJodHRwczovL2QzN2NpNnZ6dXJ5Y2h4LmNsb3VkZnJvbnQubmV0L21pc2MvdGF4aV96b25lX2xvb2t1cC5jc3YiXSwgInRocm90dGxlIjogMCwgInNodWZmbGUiOiB0cnVlLCAic25pZmZlZF9wYXJhbXMiOiB7ImRlbGltaXRlciI6ICIsIiwgImhlYWRlciI6IDAsICJ1c2Vjb2xzIjogWyJMb2NhdGlvbklEIiwgIkJvcm91Z2giXSwgImR0eXBlIjogbnVsbCwgImVuZ2luZSI6IG51bGwsICJjb252ZXJ0ZXJzIjogbnVsbCwgInRydWVfdmFsdWVzIjogbnVsbCwgImZhbHNlX3ZhbHVlcyI6IG51bGwsICJza2lwaW5pdGlhbHNwYWNlIjogZmFsc2UsICJza2lwcm93cyI6IG51bGwsICJza2lwZm9vdGVyIjogMCwgIm5yb3dzIjogbnVsbCwgIm5hX3ZhbHVlcyI6IG51bGwsICJrZWVwX2RlZmF1bHRfbmEiOiB0cnVlLCAibmFfZmlsdGVyIjogdHJ1ZSwgInNraXBfYmxhbmtfbGluZXMiOiB0cnVlLCAicGFyc2VfZGF0ZXMiOiBudWxsLCAiZGF0ZV9mb3JtYXQiOiBudWxsLCAiZGF5Zmlyc3QiOiBmYWxzZSwgImNhY2hlX2RhdGVzIjogdHJ1ZSwgIml0ZXJhdG9yIjogZmFsc2UsICJjaHVua3NpemUiOiBudWxsLCAiY29tcHJlc3Npb24iOiAiaW5mZXIiLCAidGhvdXNhbmRzIjogbnVsbCwgImRlY2ltYWwiOiAiLiIsICJsaW5ldGVybWluYXRvciI6IG51bGwsICJxdW90ZWNoYXIiOiAiXCIiLCAicXVvdGluZyI6IDAsICJkb3VibGVxdW90ZSI6IGZhbHNlLCAiZXNjYXBlY2hhciI6IG51bGwsICJjb21tZW50IjogbnVsbCwgImVuY29kaW5nIjogbnVsbCwgImVuY29kaW5nX2Vycm9ycyI6ICJzdHJpY3QiLCAiZGlhbGVjdCI6IG51bGwsICJvbl9iYWRfbGluZXMiOiAiZXJyb3IiLCAibG93X21lbW9yeSI6IHRydWUsICJtZW1vcnlfbWFwIjogZmFsc2UsICJmbG9hdF9wcmVjaXNpb24iOiBudWxsLCAic3RvcmFnZV9vcHRpb25zIjogbnVsbH0sICJzY2hlbWEiOiB7IkxvY2F0aW9uSUQiOiAiaW50NjQiLCAiQm9yb3VnaCI6ICJzdHJpbmcifSwgImZpbHRlcl8iOiB7fSwgImZpbHRlcl9jb2RlIjogIiJ9LCAibWFya2Rvd24iOiAiIn0=;eyJ0aXRsZSI6ICJKb2luIiwgInBhcmVudCI6IFsiWm9uZXMiLCAwXSwgIm51bWJlciI6IDAsICJhbGlhcyI6ICIiLCAiZnJvemVuIjogeyJwcmltYXJ5X2NvbHMiOiBbIkJvcm91Z2giXSwgInJlbGF0ZWRfY29scyI6IFsidHBlcF9waWNrdXBfZGF0ZXRpbWUiLCAidHBlcF9kcm9wb2ZmX2RhdGV0aW1lIiwgInBhc3Nlbmdlcl9jb3VudCIsICJQVUxvY2F0aW9uSUQiXSwgInByaW1hcnlfb24iOiAiTG9jYXRpb25JRCIsICJyZWxhdGVkX29uIjogIlBVTG9jYXRpb25JRCIsICJwcmltYXJ5X2lucCI6ICJwYXJlbnQiLCAicmVsYXRlZF9pbnAiOiBbIlRheGlzIiwgMF0sICJpbnZfbWFzayI6IG51bGwsICJob3ciOiAiaW5uZXIifSwgIm1hcmtkb3duIjogIiJ9;eyJ0aXRsZSI6ICJBbnkgVmVnYSIsICJwYXJlbnQiOiBbIkpvaW4iLCAwXSwgIm51bWJlciI6IDAsICJhbGlhcyI6ICIiLCAiZnJvemVuIjogbnVsbCwgIm1hcmtkb3duIjogIiIsICJkZWxldGVkIjogdHJ1ZX0=;eyJ0aXRsZSI6ICJHcm91cCBieSIsICJwYXJlbnQiOiBbIkpvaW4iLCAwXSwgIm51bWJlciI6IDAsICJhbGlhcyI6ICIiLCAiZnJvemVuIjogeyJieSI6ICJCb3JvdWdoIn0sICJtYXJrZG93biI6ICIifQ==;eyJ0aXRsZSI6ICJBZ2dyZWdhdGUiLCAicGFyZW50IjogWyJHcm91cCBieSIsIDBdLCAibnVtYmVyIjogMCwgImFsaWFzIjogIiIsICJmcm96ZW4iOiB7ImNvbXB1dGUiOiBbWyJwYXNzZW5nZXJfY291bnQiLCAic3VtIl1dfSwgIm1hcmtkb3duIjogIiJ9;eyJ0aXRsZSI6ICJBbnkgVmVnYSIsICJwYXJlbnQiOiBbIkFnZ3JlZ2F0ZSIsIDBdLCAibnVtYmVyIjogMCwgImFsaWFzIjogIkJhciBDaGFydCIsICJmcm96ZW4iOiB7Im1hcHBpbmdfZGljdCI6IHsieCI6IHsiTWFwcGluZyI6ICJCb3JvdWdoIiwgIktleSI6ICJCb3JvdWdoIiwgIlByb2Nlc3NpbmciOiAiIn0sICJ5IjogeyJNYXBwaW5nIjogInBhc3Nlbmdlcl9jb3VudF9zdW0iLCAiS2V5IjogInBhc3Nlbmdlcl9jb3VudF9zdW0iLCAiUHJvY2Vzc2luZyI6ICIifX0sICJ2ZWdhX3NjaGVtYSI6IHsiJHNjaGVtYSI6ICJodHRwczovL3ZlZ2EuZ2l0aHViLmlvL3NjaGVtYS92ZWdhLWxpdGUvdjYuanNvbiIsICJ3aWR0aCI6IDUwMCwgImhlaWdodCI6IDQwMCwgImRlc2NyaXB0aW9uIjogIkJhciBjaGFydCIsICJkYXRhIjogeyJuYW1lIjogImRhdGEifSwgIm1hcmsiOiAiYmFyIiwgImVuY29kaW5nIjogeyJ4IjogeyJmaWVsZCI6ICJ4IiwgInR5cGUiOiAibm9taW5hbCIsICJheGlzIjogeyJsYWJlbEFuZ2xlIjogMH19LCAieSI6IHsiZmllbGQiOiAieSIsICJ0eXBlIjogInF1YW50aXRhdGl2ZSJ9fX19LCAibWFya2Rvd24iOiAiIn0=",
    "slideshow": {
     "slide_type": ""
    },
    "tags": []
   },
   "source": [
    "<button data-commandLinker-command=\"progressivis:cleanup_and_run\" data-commandlinker-args='{\"index\": 1}' href=\"#\" class='progressivis-cleanup-and-run-btn'>Run ProgressiVis</button>"
   ]
  },
  {
   "cell_type": "code",
   "execution_count": 1,
   "id": "fleet-final",
   "metadata": {
    "_editable": true,
    "deletable": false,
    "edi_table": false,
    "editable": false,
    "jupyter": {
     "source_hidden": true
    },
    "progressivis_backup": "",
    "slideshow": {
     "slide_type": ""
    },
    "tags": []
   },
   "outputs": [
    {
     "data": {
      "application/vnd.jupyter.widget-view+json": {
       "model_id": "af40ad6902c0469d8b8f6b69c4dbc1ef",
       "version_major": 2,
       "version_minor": 0
      },
      "text/plain": [
       "Talker()"
      ]
     },
     "metadata": {},
     "output_type": "display_data"
    },
    {
     "data": {
      "application/vnd.jupyter.widget-view+json": {
       "model_id": "19f0edcda02641a3bfe620594d555068",
       "version_major": 2,
       "version_minor": 0
      },
      "text/plain": [
       "BackupWidget()"
      ]
     },
     "metadata": {},
     "output_type": "display_data"
    }
   ],
   "source": [
    "from ipyprogressivis.widgets.chaining.constructor import Constructor\n",
    "from ipyprogressivis.widgets.chaining.utils import create_root, get_header\n",
    "from ipyprogressivis.widgets.chaining.custom import *\n",
    "header = get_header()\n",
    "display(header.talker)\n",
    "display(header.backup)\n",
    "_ = header.constructor\n",
    "with header.modules_out:\n",
    "    display(header.board)\n",
    "with header.widgets_out:\n",
    "    display(header.manager)\n",
    "header.talker.labcommand(\"notebook:hide-cell-code\")\n",
    "%reload_ext ipyprogressivis.magics\n",
    "create_root(header.backup)"
   ]
  },
  {
   "cell_type": "markdown",
   "id": "d154e6fb-7f8b-4e96-a745-341e00ab022c",
   "metadata": {
    "deletable": false,
    "editable": true,
    "progressivis_tag": "root",
    "progressivis_tag_class": "root"
   },
   "source": [
    "## root"
   ]
  },
  {
   "cell_type": "code",
   "execution_count": 2,
   "id": "a332aa65-450b-423c-89ff-9be77e7fa5e1",
   "metadata": {
    "deletable": false,
    "editable": false,
    "jupyter": {
     "source_hidden": true
    },
    "progressivis_tag": "root",
    "progressivis_tag_class": "root"
   },
   "outputs": [
    {
     "data": {
      "application/vnd.jupyter.widget-view+json": {
       "model_id": "6feb4b16aea44d169334bf4752d825bc",
       "version_major": 2,
       "version_minor": 0
      },
      "text/plain": [
       "Constructor(children=(IntProgress(value=0, description='Starting ProgressiVis ...', max=2, style=ProgressStyle…"
      ]
     },
     "metadata": {},
     "output_type": "display_data"
    },
    {
     "name": "stdout",
     "output_type": "stream",
     "text": [
      "Starting scheduler\n",
      "# Scheduler added module(s): ['sink_1', 'variable_1']\n",
      "# Scheduler added module(s): ['data_shape_1', 'sink_5']\n",
      "# Scheduler deleted module(s): {'sink_5', 'data_shape_1'}\n",
      "# Scheduler added module(s): ['data_shape_1', 'sink_6']\n",
      "# Scheduler deleted module(s): {'sink_6', 'data_shape_1'}\n",
      "# Scheduler added module(s): ['data_shape_1', 'sink_7']\n",
      "# Scheduler deleted module(s): {'sink_7', 'data_shape_1'}\n"
     ]
    }
   ],
   "source": [
    "# do not run this cell\n",
    "display(header.constructor)\n",
    "header.constructor.start_scheduler()\n",
    "header.talker.labcommand('notebook:hide-cell-code')"
   ]
  },
  {
   "cell_type": "code",
   "execution_count": 4,
   "id": "a05e038b-60cb-4edb-9cd0-f8b3314c9fb0",
   "metadata": {},
   "outputs": [
    {
     "data": {
      "text/plain": [
       "'/tmp/taxi_parquet'"
      ]
     },
     "execution_count": 4,
     "metadata": {},
     "output_type": "execute_result"
    }
   ],
   "source": [
    "# progressivis-snippet\n",
    "from progressivis.datasets.wget import wget_file\n",
    "wget_file(url=\"https://d37ci6vzurychx.cloudfront.net/trip-data/yellow_tripdata_2015-05.parquet\", filename=\"/tmp/taxi_parquet\")"
   ]
  },
  {
   "cell_type": "markdown",
   "id": "8781c140-4344-42de-9d0b-5a0e2ae661a2",
   "metadata": {
    "deletable": false,
    "editable": true,
    "progressivis_tag": "Taxis",
    "progressivis_tag_class": "ParquetLoaderW"
   },
   "source": [
    "## Taxis"
   ]
  },
  {
   "cell_type": "code",
   "execution_count": 5,
   "id": "f0aba6b3-697c-49a5-878f-6bff3d6d4188",
   "metadata": {
    "deletable": false,
    "editable": false,
    "progressivis_tag": "Taxis",
    "progressivis_tag_class": "ParquetLoaderW"
   },
   "outputs": [
    {
     "data": {
      "application/vnd.jupyter.widget-view+json": {
       "model_id": "69ebfbf523c146e99ae9ac4c97bdfc27",
       "version_major": 2,
       "version_minor": 0
      },
      "text/plain": [
       "NodeCarrier(children=(HBox(children=(Button(button_style='danger', icon='trash', style=ButtonStyle(), tooltip=…"
      ]
     },
     "execution_count": 5,
     "metadata": {},
     "output_type": "execute_result"
    }
   ],
   "source": [
    "Constructor.widget('Taxis', 0)"
   ]
  },
  {
   "cell_type": "markdown",
   "id": "2e9cc053-db55-4a0e-ac50-0a9a0ebd4825",
   "metadata": {
    "deletable": false,
    "editable": true,
    "progressivis_tag": "Zones",
    "progressivis_tag_class": "CsvLoaderW"
   },
   "source": [
    "## Zones"
   ]
  },
  {
   "cell_type": "code",
   "execution_count": 6,
   "id": "20a67b9f-33f4-470e-8789-76ddce6b5997",
   "metadata": {
    "deletable": false,
    "editable": false,
    "progressivis_tag": "Zones",
    "progressivis_tag_class": "CsvLoaderW"
   },
   "outputs": [
    {
     "data": {
      "application/vnd.jupyter.widget-view+json": {
       "model_id": "fa65cb6ea8bc4accb167d7a23ba6229e",
       "version_major": 2,
       "version_minor": 0
      },
      "text/plain": [
       "NodeCarrier(children=(HBox(children=(Button(button_style='danger', icon='trash', style=ButtonStyle(), tooltip=…"
      ]
     },
     "execution_count": 6,
     "metadata": {},
     "output_type": "execute_result"
    }
   ],
   "source": [
    "Constructor.widget('Zones', 0)"
   ]
  },
  {
   "cell_type": "markdown",
   "id": "0a0da463-0a53-44f0-b4fe-d4fe33c32a07",
   "metadata": {
    "deletable": false,
    "editable": true,
    "progressivis_tag": "Join",
    "progressivis_tag_class": "JoinW"
   },
   "source": [
    "## Join"
   ]
  },
  {
   "cell_type": "code",
   "execution_count": 7,
   "id": "9200efa7-b64a-461e-b61e-e0901f00acbf",
   "metadata": {
    "deletable": false,
    "editable": false,
    "progressivis_tag": "Join",
    "progressivis_tag_class": "JoinW"
   },
   "outputs": [
    {
     "data": {
      "application/vnd.jupyter.widget-view+json": {
       "model_id": "c222735662ae433daf078c7638036f82",
       "version_major": 2,
       "version_minor": 0
      },
      "text/plain": [
       "NodeCarrier(children=(HBox(children=(Button(button_style='danger', icon='trash', style=ButtonStyle(), tooltip=…"
      ]
     },
     "execution_count": 7,
     "metadata": {},
     "output_type": "execute_result"
    }
   ],
   "source": [
    "Constructor.widget('Join', 0)"
   ]
  },
  {
   "cell_type": "markdown",
   "id": "2ad21e88-6df9-4c6b-b734-65e95a4ea3b8",
   "metadata": {
    "deletable": false,
    "editable": true,
    "progressivis_tag": "Group by",
    "progressivis_tag_class": "GroupByW"
   },
   "source": [
    "## Group by"
   ]
  },
  {
   "cell_type": "code",
   "execution_count": 9,
   "id": "8bd142d8-22bf-40bb-879d-1a2f7d3dff75",
   "metadata": {
    "deletable": false,
    "editable": false,
    "progressivis_tag": "Group by",
    "progressivis_tag_class": "GroupByW"
   },
   "outputs": [
    {
     "data": {
      "application/vnd.jupyter.widget-view+json": {
       "model_id": "2fff6c756f884ef2b38903d749f6fa54",
       "version_major": 2,
       "version_minor": 0
      },
      "text/plain": [
       "NodeCarrier(children=(HBox(children=(Button(button_style='danger', icon='trash', style=ButtonStyle(), tooltip=…"
      ]
     },
     "execution_count": 9,
     "metadata": {},
     "output_type": "execute_result"
    }
   ],
   "source": [
    "Constructor.widget('Group by', 0)"
   ]
  },
  {
   "cell_type": "markdown",
   "id": "7005b484-8357-4c9b-bb9b-886fe648eee4",
   "metadata": {
    "deletable": false,
    "editable": true,
    "progressivis_tag": "Aggregate",
    "progressivis_tag_class": "AggregateW"
   },
   "source": [
    "## Aggregate"
   ]
  },
  {
   "cell_type": "code",
   "execution_count": 10,
   "id": "e05a59f0-38fa-4427-814e-3c036738b2df",
   "metadata": {
    "deletable": false,
    "editable": false,
    "progressivis_tag": "Aggregate",
    "progressivis_tag_class": "AggregateW"
   },
   "outputs": [
    {
     "data": {
      "application/vnd.jupyter.widget-view+json": {
       "model_id": "8ceeb7db7d90406f92d2116ee295e66c",
       "version_major": 2,
       "version_minor": 0
      },
      "text/plain": [
       "NodeCarrier(children=(HBox(children=(Button(button_style='danger', icon='trash', style=ButtonStyle(), tooltip=…"
      ]
     },
     "execution_count": 10,
     "metadata": {},
     "output_type": "execute_result"
    }
   ],
   "source": [
    "Constructor.widget('Aggregate', 0)"
   ]
  },
  {
   "cell_type": "markdown",
   "id": "4e516c68-e87d-4d8d-99d8-331e13b68d05",
   "metadata": {
    "deletable": false,
    "editable": true,
    "progressivis_tag": "Bar Chart",
    "progressivis_tag_class": "AnyVegaW"
   },
   "source": [
    "## Bar Chart"
   ]
  },
  {
   "cell_type": "code",
   "execution_count": 11,
   "id": "b2a51cba-b079-427c-ba8c-69693c6f34c9",
   "metadata": {
    "deletable": false,
    "editable": false,
    "progressivis_tag": "Bar Chart",
    "progressivis_tag_class": "AnyVegaW"
   },
   "outputs": [
    {
     "data": {
      "application/vnd.jupyter.widget-view+json": {
       "model_id": "9e82fb666e9e4ad3868b743d18804926",
       "version_major": 2,
       "version_minor": 0
      },
      "text/plain": [
       "NodeCarrier(children=(HBox(children=(Button(button_style='danger', icon='trash', style=ButtonStyle(), tooltip=…"
      ]
     },
     "execution_count": 11,
     "metadata": {},
     "output_type": "execute_result"
    }
   ],
   "source": [
    "Constructor.widget('Bar Chart', 0)"
   ]
  }
 ],
 "metadata": {
  "celltoolbar": "Éditer les Méta-Données",
  "hide_input": false,
  "kernelspec": {
   "display_name": "Python 3 (ipykernel)",
   "language": "python",
   "name": "python3"
  },
  "language_info": {
   "codemirror_mode": {
    "name": "ipython",
    "version": 3
   },
   "file_extension": ".py",
   "mimetype": "text/x-python",
   "name": "python",
   "nbconvert_exporter": "python",
   "pygments_lexer": "ipython3",
   "version": "3.13.7"
  },
  "latex_envs": {
   "LaTeX_envs_menu_present": true,
   "autoclose": false,
   "autocomplete": true,
   "bibliofile": "biblio.bib",
   "cite_by": "apalike",
   "current_citInitial": 1,
   "eqLabelWithNumbers": true,
   "eqNumInitial": 1,
   "hotkeys": {
    "equation": "Ctrl-E",
    "itemize": "Ctrl-I"
   },
   "labels_anchors": false,
   "latex_user_defs": false,
   "report_style_numbering": false,
   "user_envs_cfg": false
  },
  "toc": {
   "base_numbering": 1,
   "nav_menu": {},
   "number_sections": false,
   "sideBar": true,
   "skip_h1_title": true,
   "title_cell": "PTable of Contents",
   "title_sidebar": "Contents",
   "toc_cell": false,
   "toc_position": {
    "height": "836.875px",
    "left": "59px",
    "top": "111.125px",
    "width": "340px"
   },
   "toc_section_display": true,
   "toc_window_display": true
  },
  "toc-showtags": false,
  "widgets": {
   "application/vnd.jupyter.widget-state+json": {
    "state": {
     "0019aaac3eeb4d6ea33e2f3ffafabd60": {
      "model_module": "@jupyter-widgets/base",
      "model_module_version": "2.0.0",
      "model_name": "LayoutModel",
      "state": {}
     },
     "00266b610b6b472e8836b1895ea3c364": {
      "model_module": "@jupyter-widgets/controls",
      "model_module_version": "2.0.0",
      "model_name": "DropdownModel",
      "state": {
       "_options_labels": [
        "",
        ">",
        "<",
        ">=",
        "<=",
        "==",
        "!="
       ],
       "description": "Filter",
       "index": 0,
       "layout": "IPY_MODEL_da3af27926a14e779a4995b7d6d1dc6b",
       "style": "IPY_MODEL_adf7fc6058324504a7902324760f848f"
      }
     },
     "0060ab5fa43043238f3c38ddc75b3067": {
      "model_module": "@jupyter-widgets/base",
      "model_module_version": "2.0.0",
      "model_name": "LayoutModel",
      "state": {}
     },
     "00617b6169c54462a770555af5609de9": {
      "model_module": "@jupyter-widgets/controls",
      "model_module_version": "2.0.0",
      "model_name": "HTMLStyleModel",
      "state": {
       "description_width": "",
       "font_size": null,
       "text_color": null
      }
     },
     "00be8519d400443ebe31a310e13e0bbc": {
      "model_module": "@jupyter-widgets/controls",
      "model_module_version": "2.0.0",
      "model_name": "CheckboxModel",
      "state": {
       "disabled": true,
       "indent": false,
       "layout": "IPY_MODEL_1be3e92588d246ea841f0e38a3b8d1ea",
       "style": "IPY_MODEL_45fb6c4203a94702b1fa559d39679229",
       "value": true
      }
     },
     "00cd44c3b79041fcaca774e67d89bc24": {
      "model_module": "@jupyter-widgets/controls",
      "model_module_version": "2.0.0",
      "model_name": "DescriptionStyleModel",
      "state": {
       "description_width": ""
      }
     },
     "0105223b2d1b4738a231c1ff5547c3fc": {
      "model_module": "@jupyter-widgets/controls",
      "model_module_version": "2.0.0",
      "model_name": "HBoxModel",
      "state": {
       "children": [
        "IPY_MODEL_4c8259162a394abd8081ee3f61dd93c4",
        "IPY_MODEL_f4ec730e7cab4efbbdbd6f98fb93749d"
       ],
       "layout": "IPY_MODEL_17343ae1f3844d5799c52d4f38d3438c"
      }
     },
     "0134b8dde9ed4f4d9c7fb415d668c72a": {
      "model_module": "@jupyter-widgets/controls",
      "model_module_version": "2.0.0",
      "model_name": "ButtonStyleModel",
      "state": {
       "font_family": null,
       "font_size": null,
       "font_style": null,
       "font_variant": null,
       "font_weight": null,
       "text_color": null,
       "text_decoration": null
      }
     },
     "014606249f344d4f8804a10515c5ee58": {
      "model_module": "@jupyter-widgets/controls",
      "model_module_version": "2.0.0",
      "model_name": "TextModel",
      "state": {
       "description": "Unique vals:",
       "disabled": true,
       "layout": "IPY_MODEL_fed96284684f42718ddadbc9e7bac0d6",
       "style": "IPY_MODEL_44bdd093789f4ee983e1c39f4ab12b77",
       "value": "98/99"
      }
     },
     "019a9117064f4a9d8b0d385965286233": {
      "model_module": "@jupyter-widgets/base",
      "model_module_version": "2.0.0",
      "model_name": "LayoutModel",
      "state": {}
     },
     "01de57f200414937a32d5f0698d319b4": {
      "model_module": "@jupyter-widgets/controls",
      "model_module_version": "2.0.0",
      "model_name": "TextStyleModel",
      "state": {
       "description_width": "",
       "font_size": null,
       "text_color": null
      }
     },
     "01edbcf6efa745749285f802128d3b0d": {
      "model_module": "@jupyter-widgets/controls",
      "model_module_version": "2.0.0",
      "model_name": "ButtonModel",
      "state": {
       "description": "Fetch info",
       "icon": "check",
       "layout": "IPY_MODEL_3cad7e712aa2424b95de2a425c91d4f9",
       "style": "IPY_MODEL_36f08bea523940059c6c5ce410814fb2",
       "tooltip": "Fetch info"
      }
     },
     "01f0aea989d14de0929eb3831960204e": {
      "model_module": "@jupyter-widgets/base",
      "model_module_version": "2.0.0",
      "model_name": "LayoutModel",
      "state": {}
     },
     "01fdbe1df347470b8481aba6ff635498": {
      "model_module": "@jupyter-widgets/controls",
      "model_module_version": "2.0.0",
      "model_name": "VBoxModel",
      "state": {
       "children": [
        "IPY_MODEL_09387e487ea94e709820b6d73e0488a2",
        "IPY_MODEL_290216689bc94799a68eb4e474594716"
       ],
       "layout": "IPY_MODEL_9bed4660aeb845469e7b6816af351f5b"
      }
     },
     "02025b9ea764463ab0da617939f14407": {
      "model_module": "@jupyter-widgets/base",
      "model_module_version": "2.0.0",
      "model_name": "LayoutModel",
      "state": {}
     },
     "020429b36fe44d109ce722bea990d471": {
      "model_module": "@jupyter-widgets/controls",
      "model_module_version": "2.0.0",
      "model_name": "FileUploadModel",
      "state": {
       "accept": ".py",
       "description": "",
       "description_allow_html": false,
       "disabled": true,
       "layout": "IPY_MODEL_05a0a163cdd44bab857a11fa09cef8ee",
       "multiple": true,
       "style": "IPY_MODEL_057267d67a8a4bfca9cd2c411eec3337"
      }
     },
     "021402d07f454f9b95478c71850246af": {
      "model_module": "@jupyter-widgets/base",
      "model_module_version": "2.0.0",
      "model_name": "LayoutModel",
      "state": {}
     },
     "021e0280d9514950b27580b899ec3909": {
      "model_module": "@jupyter-widgets/controls",
      "model_module_version": "2.0.0",
      "model_name": "DescriptionStyleModel",
      "state": {
       "description_width": ""
      }
     },
     "0235a669e8d74960a3746f738c96da88": {
      "model_module": "@jupyter-widgets/controls",
      "model_module_version": "2.0.0",
      "model_name": "CheckboxStyleModel",
      "state": {
       "description_width": ""
      }
     },
     "025f5382e36948ccbc319ec0ab820f8f": {
      "model_module": "@jupyter-widgets/controls",
      "model_module_version": "2.0.0",
      "model_name": "CheckboxModel",
      "state": {
       "disabled": true,
       "indent": false,
       "layout": "IPY_MODEL_5406279cbdaa415cbd68a5870206052e",
       "style": "IPY_MODEL_50aa0ef6fbb6415d95e6ce03d32b7eee",
       "value": false
      }
     },
     "026ccaa5339140e6b1e3221cd79f71fe": {
      "model_module": "@jupyter-widgets/controls",
      "model_module_version": "2.0.0",
      "model_name": "HTMLModel",
      "state": {
       "layout": "IPY_MODEL_c44f78fb290a487392768867e53d364d",
       "style": "IPY_MODEL_dafbc7c108ad4a95bdc74130457085a3"
      }
     },
     "029fce9d5a35435cb0f75725a44a5c45": {
      "model_module": "@jupyter-widgets/controls",
      "model_module_version": "2.0.0",
      "model_name": "DropdownModel",
      "state": {
       "_options_labels": [
        "",
        ">",
        "<",
        ">=",
        "<=",
        "==",
        "!="
       ],
       "description": "Filter",
       "index": 0,
       "layout": "IPY_MODEL_2cb4a70aca9641cb955dbc9828ff10da",
       "style": "IPY_MODEL_ba06cff3f08d49d5b0cf5e58a4f8b043"
      }
     },
     "02cbd1f9e112429aa7b2691d194d4fa5": {
      "model_module": "@jupyter-widgets/controls",
      "model_module_version": "2.0.0",
      "model_name": "TabModel",
      "state": {
       "children": [
        "IPY_MODEL_8f7433d7854a4810b5f749b78f09b646",
        "IPY_MODEL_e1cf8e7e24cd449da20eaaeeb5b4540d",
        "IPY_MODEL_b5ebee5f7d994a04abd638f5b9312b48",
        "IPY_MODEL_4f110ebe1c204742867b2a3fd1a9d2ce"
       ],
       "layout": "IPY_MODEL_5b58a6583aa14d57903aa4e20f4eadd5",
       "selected_index": 3,
       "titles": [
        "Head",
        "DataFrame",
        "DataFrame2",
        "Hide"
       ]
      }
     },
     "0330382d451a4db784d27d8acea3f0e7": {
      "model_module": "@jupyter-widgets/controls",
      "model_module_version": "2.0.0",
      "model_name": "LabelStyleModel",
      "state": {
       "description_width": "",
       "font_family": null,
       "font_size": null,
       "font_style": null,
       "font_variant": null,
       "font_weight": null,
       "text_color": null,
       "text_decoration": null
      }
     },
     "03508b68de1e43049397e118033234ca": {
      "model_module": "@jupyter-widgets/base",
      "model_module_version": "2.0.0",
      "model_name": "LayoutModel",
      "state": {}
     },
     "03a1ef350b08472a8a78282852d97c56": {
      "model_module": "@jupyter-widgets/controls",
      "model_module_version": "2.0.0",
      "model_name": "TextStyleModel",
      "state": {
       "description_width": "",
       "font_size": null,
       "text_color": null
      }
     },
     "03a729db96764b228bf254567b219dff": {
      "model_module": "@jupyter-widgets/controls",
      "model_module_version": "2.0.0",
      "model_name": "LabelModel",
      "state": {
       "layout": "IPY_MODEL_de00156e6d8f41c481de7718ccc48a52",
       "style": "IPY_MODEL_0330382d451a4db784d27d8acea3f0e7",
       "value": "nunique"
      }
     },
     "03d71dbd8cab4a5c84b070a84eb8b4ea": {
      "model_module": "@jupyter-widgets/base",
      "model_module_version": "2.0.0",
      "model_name": "LayoutModel",
      "state": {}
     },
     "0406dd3d8a764de6a328022019c938da": {
      "model_module": "@jupyter-widgets/base",
      "model_module_version": "2.0.0",
      "model_name": "LayoutModel",
      "state": {
       "border_bottom": "solid",
       "border_left": "solid",
       "border_right": "solid",
       "border_top": "solid"
      }
     },
     "0418eefa47ba436e8a3310dd47d417b4": {
      "model_module": "@jupyter-widgets/base",
      "model_module_version": "2.0.0",
      "model_name": "LayoutModel",
      "state": {}
     },
     "041d02b5441d49b4986384f87bf73c19": {
      "model_module": "@jupyter-widgets/controls",
      "model_module_version": "2.0.0",
      "model_name": "CheckboxModel",
      "state": {
       "disabled": true,
       "indent": false,
       "layout": "IPY_MODEL_192603585acd4a0ca18f54a72f723a6c",
       "style": "IPY_MODEL_6253242824604d79a4d499e9d5df7d69",
       "value": false
      }
     },
     "0443674b6ff7410394ff95f88b200cd7": {
      "model_module": "@jupyter-widgets/controls",
      "model_module_version": "2.0.0",
      "model_name": "CheckboxStyleModel",
      "state": {
       "description_width": ""
      }
     },
     "048d83ecb9fd4a40a8d5ff453261ede6": {
      "model_module": "@jupyter-widgets/controls",
      "model_module_version": "2.0.0",
      "model_name": "HTMLStyleModel",
      "state": {
       "description_width": "",
       "font_size": null,
       "text_color": null
      }
     },
     "04d00c8fb9864320b60b1bd5b0eede5e": {
      "model_module": "@jupyter-widgets/controls",
      "model_module_version": "2.0.0",
      "model_name": "HTMLStyleModel",
      "state": {
       "description_width": "",
       "font_size": null,
       "text_color": null
      }
     },
     "04ec0b1a74174cb2a6e54d5932850a9f": {
      "model_module": "@jupyter-widgets/controls",
      "model_module_version": "2.0.0",
      "model_name": "TextStyleModel",
      "state": {
       "description_width": "",
       "font_size": null,
       "text_color": null
      }
     },
     "05144f5d665c4360ac83af82b94d884d": {
      "model_module": "@jupyter-widgets/base",
      "model_module_version": "2.0.0",
      "model_name": "LayoutModel",
      "state": {}
     },
     "0534c846955b44ddb443340fc9bae2d9": {
      "model_module": "@jupyter-widgets/controls",
      "model_module_version": "2.0.0",
      "model_name": "TextModel",
      "state": {
       "continuous_update": false,
       "description": "Name:",
       "disabled": true,
       "layout": "IPY_MODEL_a48182c60b8e4fbcb8273ffc282b8a53",
       "style": "IPY_MODEL_496fd4b5087243a98ac65fbd2a0fa7fd",
       "value": "LocationID"
      }
     },
     "0549378d29974d9da02fc7c0e79ff114": {
      "model_module": "@jupyter-widgets/controls",
      "model_module_version": "2.0.0",
      "model_name": "ButtonModel",
      "state": {
       "description": "Chain it",
       "disabled": true,
       "icon": "check",
       "layout": "IPY_MODEL_da2475ac5f4d405bbae1a0f476106915",
       "style": "IPY_MODEL_0dffccecee4446fea54de81d5306098a",
       "tooltip": "Chain it"
      }
     },
     "054e55abfe484b10bca6e7b511fbc0f1": {
      "model_module": "@jupyter-widgets/controls",
      "model_module_version": "2.0.0",
      "model_name": "FloatTextModel",
      "state": {
       "layout": "IPY_MODEL_92b04f24ad5844cebb5e6e008ebaf304",
       "step": null,
       "style": "IPY_MODEL_771e7a42b577474cb69dfc2836b3d98b"
      }
     },
     "057267d67a8a4bfca9cd2c411eec3337": {
      "model_module": "@jupyter-widgets/controls",
      "model_module_version": "2.0.0",
      "model_name": "ButtonStyleModel",
      "state": {
       "font_family": null,
       "font_size": null,
       "font_style": null,
       "font_variant": null,
       "font_weight": null,
       "text_color": null,
       "text_decoration": null
      }
     },
     "058eec8d43444ba5a0082932ad1707fb": {
      "model_module": "@jupyter-widgets/controls",
      "model_module_version": "2.0.0",
      "model_name": "DescriptionStyleModel",
      "state": {
       "description_width": ""
      }
     },
     "059690d91119437899964ae09c17bd1d": {
      "model_module": "@jupyter-widgets/base",
      "model_module_version": "2.0.0",
      "model_name": "LayoutModel",
      "state": {}
     },
     "05a0a163cdd44bab857a11fa09cef8ee": {
      "model_module": "@jupyter-widgets/base",
      "model_module_version": "2.0.0",
      "model_name": "LayoutModel",
      "state": {}
     },
     "05a6aa385be94dc08ee3ca19ec751e79": {
      "model_module": "@jupyter-widgets/controls",
      "model_module_version": "2.0.0",
      "model_name": "HBoxModel",
      "state": {
       "children": [
        "IPY_MODEL_8d5ccf0065c648f9bc711b3342f673f2"
       ],
       "layout": "IPY_MODEL_314b03dc38c04229b63756ab683a2a95"
      }
     },
     "05c678da3173414fa388b63d201a6f30": {
      "model_module": "@jupyter-widgets/controls",
      "model_module_version": "2.0.0",
      "model_name": "DropdownModel",
      "state": {
       "_options_labels": [
        "Borough"
       ],
       "disabled": true,
       "index": 0,
       "layout": "IPY_MODEL_941660a14160420ba2a47e93629e462f",
       "style": "IPY_MODEL_d9c8b3b1ffa2412f9cdfd9d02742c8dc"
      }
     },
     "060eb580458e4b4792097201f212bfd9": {
      "model_module": "@jupyter-widgets/controls",
      "model_module_version": "2.0.0",
      "model_name": "HTMLStyleModel",
      "state": {
       "description_width": "",
       "font_size": null,
       "text_color": null
      }
     },
     "0658b0fdab744aafb8af87ba6f567875": {
      "model_module": "@jupyter-widgets/controls",
      "model_module_version": "2.0.0",
      "model_name": "CheckboxModel",
      "state": {
       "description": "Use",
       "disabled": false,
       "layout": "IPY_MODEL_8b766e184ae84c7e85de2b7cd1c63526",
       "style": "IPY_MODEL_12f2e00416994dfb934fefcec8e317b5",
       "value": true
      }
     },
     "067660e4436347718c38edef4385ad3f": {
      "model_module": "@jupyter-widgets/base",
      "model_module_version": "2.0.0",
      "model_name": "LayoutModel",
      "state": {}
     },
     "06c3d0b1378d4417967afa627259df02": {
      "model_module": "@jupyter-widgets/controls",
      "model_module_version": "2.0.0",
      "model_name": "HBoxModel",
      "state": {
       "children": [
        "IPY_MODEL_28785b541e374825b884de43c82ac73c",
        "IPY_MODEL_1cb743aa6bf54a6396500f85e1af0144"
       ],
       "layout": "IPY_MODEL_7a565010088f4a98a9caf60fc793e393"
      }
     },
     "06faa18857954a0ea8d2ed7deea047c2": {
      "model_module": "@jupyter-widgets/controls",
      "model_module_version": "2.0.0",
      "model_name": "TextStyleModel",
      "state": {
       "description_width": "",
       "font_size": null,
       "text_color": null
      }
     },
     "070181121ec349a98d1076366d4411ef": {
      "model_module": "@jupyter-widgets/base",
      "model_module_version": "2.0.0",
      "model_name": "LayoutModel",
      "state": {}
     },
     "071ac89193804002b6cd6e7f1f7b2adf": {
      "model_module": "@jupyter-widgets/controls",
      "model_module_version": "2.0.0",
      "model_name": "HTMLModel",
      "state": {
       "layout": "IPY_MODEL_ed80fe5f1dd543f580c9cfa4eb22efc6",
       "style": "IPY_MODEL_6e032b6c2e6a49a1aa0a1d3fe33edfb5"
      }
     },
     "0728a6e21d544a38821e2be03c704dd3": {
      "model_module": "@jupyter-widgets/controls",
      "model_module_version": "2.0.0",
      "model_name": "VBoxModel",
      "state": {
       "children": [
        "IPY_MODEL_9932cfbdd1904890bb13347f310e6285",
        "IPY_MODEL_4beeec8a2a73436abc9f9e5b8d81fe5e"
       ],
       "layout": "IPY_MODEL_eebb3604078d44548ef88f1bb0face08"
      }
     },
     "0746ac348b524cb881694b0b703f7196": {
      "model_module": "@jupyter-widgets/controls",
      "model_module_version": "2.0.0",
      "model_name": "TextStyleModel",
      "state": {
       "description_width": "",
       "font_size": null,
       "text_color": null
      }
     },
     "076efbfe2cec48b0ae84c8937e995ac5": {
      "model_module": "@jupyter-widgets/controls",
      "model_module_version": "2.0.0",
      "model_name": "HTMLStyleModel",
      "state": {
       "description_width": "",
       "font_size": null,
       "text_color": null
      }
     },
     "07a6ade7fdbe42e486e868be26cb778e": {
      "model_module": "@jupyter-widgets/controls",
      "model_module_version": "2.0.0",
      "model_name": "ButtonStyleModel",
      "state": {
       "font_family": null,
       "font_size": null,
       "font_style": null,
       "font_variant": null,
       "font_weight": null,
       "text_color": null,
       "text_decoration": null
      }
     },
     "07beb4968eee4f1f889d393d0a6c21de": {
      "model_module": "@jupyter-widgets/controls",
      "model_module_version": "2.0.0",
      "model_name": "HTMLModel",
      "state": {
       "layout": "IPY_MODEL_9e11d39922ff473e8aa99588299ae778",
       "style": "IPY_MODEL_5a7ba45de9444279b400e1b0ad825e2b"
      }
     },
     "07c87dc170a54bc9b7328bdf150db7f2": {
      "model_module": "@jupyter-widgets/controls",
      "model_module_version": "2.0.0",
      "model_name": "LabelModel",
      "state": {
       "layout": "IPY_MODEL_1244607523e846a9929c55dbec74755f",
       "style": "IPY_MODEL_90b429eb78c74565aba758a301f56bb2"
      }
     },
     "08583e21b6c84300b5f81403fd3850f5": {
      "model_module": "@jupyter-widgets/controls",
      "model_module_version": "2.0.0",
      "model_name": "VBoxModel",
      "state": {
       "children": [
        "IPY_MODEL_07c87dc170a54bc9b7328bdf150db7f2",
        "IPY_MODEL_d0b2fd6a75cb48fe990c39ece38d3b6d"
       ],
       "layout": "IPY_MODEL_337f966567e14bba8944f053875a3ea3"
      }
     },
     "086d57a5e54c47deb64561769af6951f": {
      "model_module": "@jupyter-widgets/base",
      "model_module_version": "2.0.0",
      "model_name": "LayoutModel",
      "state": {}
     },
     "087b2b83c5ab424c85f3f735d0a5216c": {
      "model_module": "@jupyter-widgets/controls",
      "model_module_version": "2.0.0",
      "model_name": "VBoxModel",
      "state": {
       "children": [
        "IPY_MODEL_3d4a6aaba4794d19a7fad1bc7c8da59e",
        "IPY_MODEL_55e9bf6f269c48f3860fd165360813c6"
       ],
       "layout": "IPY_MODEL_5a766e197d954b53b8aa10814a67549b"
      }
     },
     "08b87b98e21a4ea98a56823b04ef5d4e": {
      "model_module": "@jupyter-widgets/base",
      "model_module_version": "2.0.0",
      "model_name": "LayoutModel",
      "state": {}
     },
     "08e2786543ac43f388e24b037a2335c8": {
      "model_module": "@jupyter-widgets/base",
      "model_module_version": "2.0.0",
      "model_name": "LayoutModel",
      "state": {}
     },
     "08ee29c5418b40ab86a816cdd3021791": {
      "model_module": "@jupyter-widgets/controls",
      "model_module_version": "2.0.0",
      "model_name": "CheckboxModel",
      "state": {
       "description": "Active",
       "disabled": false,
       "layout": "IPY_MODEL_2d1099e60ca74e9b9ca8e1edd9bbb6ae",
       "style": "IPY_MODEL_1c7aa465e4834a3d9d7c8bf9ebdfffd3",
       "value": true
      }
     },
     "0901370fefca42b6a54071d998c547e3": {
      "model_module": "@jupyter-widgets/base",
      "model_module_version": "2.0.0",
      "model_name": "LayoutModel",
      "state": {}
     },
     "091a9f30f17d49f38a8ebf1c7ae18281": {
      "model_module": "@jupyter-widgets/controls",
      "model_module_version": "2.0.0",
      "model_name": "HTMLModel",
      "state": {
       "layout": "IPY_MODEL_6e218940ef7c46b3969b695ac40d3c0d",
       "style": "IPY_MODEL_3d27542c495e40909a47af548d5c4416"
      }
     },
     "092f33252ef0448599f573adccc95eb5": {
      "model_module": "@jupyter-widgets/controls",
      "model_module_version": "2.0.0",
      "model_name": "DropdownModel",
      "state": {
       "_options_labels": [
        "object",
        "str",
        "category",
        "datetime",
        "int8",
        "uint8",
        "int16",
        "uint16",
        "int32",
        "int64",
        "uint32",
        "uint64",
        "float32",
        "float64",
        "str"
       ],
       "description": "Retype:",
       "disabled": true,
       "index": 0,
       "layout": "IPY_MODEL_9eb903084a3449129b89a1fbd3966934",
       "style": "IPY_MODEL_476a25796afc490fa24a9285fa7da4d5"
      }
     },
     "093194107e0e4c5884ef2d7432c005d8": {
      "model_module": "@jupyter-widgets/base",
      "model_module_version": "2.0.0",
      "model_name": "LayoutModel",
      "state": {}
     },
     "09387e487ea94e709820b6d73e0488a2": {
      "model_module": "@jupyter-widgets/controls",
      "model_module_version": "2.0.0",
      "model_name": "TextareaModel",
      "state": {
       "layout": "IPY_MODEL_ca06b26b28d44c11a278bcf10396ac89",
       "rows": 20,
       "style": "IPY_MODEL_9ca92039e4914b0a86f662c08d254a7d",
       "value": "  name: total_amount\n  path: total_amount\n  max_definition_level: 1\n  max_repetition_level: 0\n  physical_type: DOUBLE\n  logical_type: None\n  converted_type (legacy): NONE\n  file_offset: 182476706\n  file_path: \n  physical_type: DOUBLE\n  num_values: 13157677\n  path_in_schema: total_amount\n  is_stats_set: True\n  statistics:\n      has_min_max: True\n      min: -400.8\n      max: 75797.32\n      null_count: 0\n      distinct_count: None\n      num_values: 13157677\n      physical_type: DOUBLE\n      logical_type: None\n      converted_type (legacy): NONE\n  geo_statistics:\n    None\n  compression: GZIP\n  encodings: ('PLAIN_DICTIONARY', 'PLAIN', 'RLE')\n  has_dictionary_page: True\n  dictionary_page_offset: 164724339\n  data_page_offset: 164762689\n  total_compressed_size: 17752367\n  total_uncompressed_size: 22780246"
      }
     },
     "0955e9e47ad6496d96822056850d712f": {
      "model_module": "@jupyter-widgets/base",
      "model_module_version": "2.0.0",
      "model_name": "LayoutModel",
      "state": {}
     },
     "096eba62741b4adabb93fefe177a05a5": {
      "model_module": "@jupyter-widgets/base",
      "model_module_version": "2.0.0",
      "model_name": "LayoutModel",
      "state": {}
     },
     "099bfd36ce9a4936ba58378451a9d947": {
      "model_module": "@jupyter-widgets/controls",
      "model_module_version": "2.0.0",
      "model_name": "CheckboxStyleModel",
      "state": {
       "description_width": ""
      }
     },
     "09c60fb555e6423786469eab9505ea69": {
      "model_module": "@jupyter-widgets/base",
      "model_module_version": "2.0.0",
      "model_name": "LayoutModel",
      "state": {}
     },
     "09f83b8680c84a06b4717324f9113587": {
      "model_module": "@jupyter-widgets/base",
      "model_module_version": "2.0.0",
      "model_name": "LayoutModel",
      "state": {}
     },
     "0a1ba168a56b4cd783c8eeda54349c2a": {
      "model_module": "@jupyter-widgets/base",
      "model_module_version": "2.0.0",
      "model_name": "LayoutModel",
      "state": {}
     },
     "0a24b9beaab1403f8100b3ae246e337a": {
      "model_module": "@jupyter-widgets/base",
      "model_module_version": "2.0.0",
      "model_name": "LayoutModel",
      "state": {}
     },
     "0a327a858f1f4f45b7873523fa77ea17": {
      "model_module": "@jupyter-widgets/controls",
      "model_module_version": "2.0.0",
      "model_name": "VBoxModel",
      "state": {
       "children": [
        "IPY_MODEL_580b739f403741ee9ea4d6efb16bce70",
        "IPY_MODEL_284bd73f610941399a61a569cbd926bf"
       ],
       "layout": "IPY_MODEL_47ff7dda35e8495ca6af3ed2b76c7fee"
      }
     },
     "0a7714f3ae8a4b569a83e35afde58769": {
      "model_module": "@jupyter-widgets/controls",
      "model_module_version": "2.0.0",
      "model_name": "TextStyleModel",
      "state": {
       "description_width": "",
       "font_size": null,
       "text_color": null
      }
     },
     "0a7eea6d73914ba3b17b39b3a7c8668b": {
      "model_module": "@jupyter-widgets/base",
      "model_module_version": "2.0.0",
      "model_name": "LayoutModel",
      "state": {}
     },
     "0ac4831524464c3798f2406489a31b16": {
      "model_module": "@jupyter-widgets/base",
      "model_module_version": "2.0.0",
      "model_name": "LayoutModel",
      "state": {}
     },
     "0ac92a9609ef481894fa1daef1559912": {
      "model_module": "@jupyter-widgets/controls",
      "model_module_version": "2.0.0",
      "model_name": "VBoxModel",
      "state": {
       "children": [
        "IPY_MODEL_c76836029ae24fe280995310deb2ee7c",
        "IPY_MODEL_2a7ef907d86d4a99a298c35e339aac55"
       ],
       "layout": "IPY_MODEL_36bdf97b1af14e74a2125d879339e6a4"
      }
     },
     "0b42487cc9a04716873550f16ff15fc3": {
      "model_module": "@jupyter-widgets/base",
      "model_module_version": "2.0.0",
      "model_name": "LayoutModel",
      "state": {
       "max_width": "100px"
      }
     },
     "0b67474d323c445e8cfad1050bdc66ec": {
      "model_module": "@jupyter-widgets/controls",
      "model_module_version": "2.0.0",
      "model_name": "ButtonStyleModel",
      "state": {
       "font_family": null,
       "font_size": null,
       "font_style": null,
       "font_variant": null,
       "font_weight": null,
       "text_color": null,
       "text_decoration": null
      }
     },
     "0b73cf8e326d4a84a28162b9b647afaa": {
      "model_module": "@jupyter-widgets/controls",
      "model_module_version": "2.0.0",
      "model_name": "DescriptionStyleModel",
      "state": {
       "description_width": ""
      }
     },
     "0b7a7968a7b64f03b02747df3c99f7c3": {
      "model_module": "@jupyter-widgets/controls",
      "model_module_version": "2.0.0",
      "model_name": "DescriptionStyleModel",
      "state": {
       "description_width": "initial"
      }
     },
     "0b9e446ed5464e4d884257af4c015da7": {
      "model_module": "@jupyter-widgets/base",
      "model_module_version": "2.0.0",
      "model_name": "LayoutModel",
      "state": {}
     },
     "0b9facd55d7946cca5d781c414d5d08d": {
      "model_module": "@jupyter-widgets/controls",
      "model_module_version": "2.0.0",
      "model_name": "CheckboxModel",
      "state": {
       "description": "h",
       "disabled": false,
       "indent": false,
       "layout": "IPY_MODEL_78b420736e314ddea49c3f8944506915",
       "style": "IPY_MODEL_3c1b8c73238846a8af44c1bf0d973158",
       "value": true
      }
     },
     "0bb67774308d40289d8e28d2c88deb04": {
      "model_module": "@jupyter-widgets/base",
      "model_module_version": "2.0.0",
      "model_name": "LayoutModel",
      "state": {}
     },
     "0bb7ef83c29b4cf28120c51895bf565b": {
      "model_module": "@jupyter-widgets/base",
      "model_module_version": "2.0.0",
      "model_name": "LayoutModel",
      "state": {}
     },
     "0bc8a8532a264efaa627247aaadbad27": {
      "model_module": "@jupyter-widgets/controls",
      "model_module_version": "2.0.0",
      "model_name": "TextStyleModel",
      "state": {
       "description_width": "",
       "font_size": null,
       "text_color": null
      }
     },
     "0bdf04c55d8a4e5a9ff6a2cac1cd3064": {
      "model_module": "@jupyter-widgets/controls",
      "model_module_version": "2.0.0",
      "model_name": "TextStyleModel",
      "state": {
       "description_width": "",
       "font_size": null,
       "text_color": null
      }
     },
     "0c7e655926b74fdf803a0551ea6125cd": {
      "model_module": "@jupyter-widgets/controls",
      "model_module_version": "2.0.0",
      "model_name": "TextStyleModel",
      "state": {
       "description_width": "",
       "font_size": null,
       "text_color": null
      }
     },
     "0c831dabba8d434db4bc7136068cb122": {
      "model_module": "@jupyter-widgets/controls",
      "model_module_version": "2.0.0",
      "model_name": "VBoxModel",
      "state": {
       "children": [
        "IPY_MODEL_dc06d63733b14ebeab07111c9121e154",
        "IPY_MODEL_e60dd716960246408b850d37c7ceb5df"
       ],
       "layout": "IPY_MODEL_7994e1a55efb459fa817c9238730f953"
      }
     },
     "0caec78c53aa4417be77c4903f2a6fde": {
      "model_module": "@jupyter-widgets/controls",
      "model_module_version": "2.0.0",
      "model_name": "DropdownModel",
      "state": {
       "_options_labels": [
        "",
        ">",
        "<",
        ">=",
        "<=",
        "==",
        "!="
       ],
       "description": "Filter",
       "index": 0,
       "layout": "IPY_MODEL_84d8bafc597a4656b625173e894f89eb",
       "style": "IPY_MODEL_85e409bbf2ea4d3ba2a147026a800097"
      }
     },
     "0cb7b1efcaa84de884c3fd99482cd3e8": {
      "model_module": "@jupyter-widgets/controls",
      "model_module_version": "2.0.0",
      "model_name": "CheckboxModel",
      "state": {
       "description": "D",
       "disabled": false,
       "indent": false,
       "layout": "IPY_MODEL_bbfbc4b67c034fa497539841d3812d82",
       "style": "IPY_MODEL_fe5604f8c9d84354b4d8d745b6b6dd2c",
       "value": true
      }
     },
     "0cc2de02146d4263b35580bd2fa5293d": {
      "model_module": "@jupyter-widgets/controls",
      "model_module_version": "2.0.0",
      "model_name": "LabelStyleModel",
      "state": {
       "description_width": "",
       "font_family": null,
       "font_size": null,
       "font_style": null,
       "font_variant": null,
       "font_weight": null,
       "text_color": null,
       "text_decoration": null
      }
     },
     "0cd398d460614edf9e9efbba3a28ddb1": {
      "model_module": "@jupyter-widgets/controls",
      "model_module_version": "2.0.0",
      "model_name": "HTMLStyleModel",
      "state": {
       "description_width": "",
       "font_size": null,
       "text_color": null
      }
     },
     "0cd4c0ef59fb4ee4a3a400115ea4fd49": {
      "model_module": "@jupyter-widgets/base",
      "model_module_version": "2.0.0",
      "model_name": "LayoutModel",
      "state": {}
     },
     "0cd5daf47c4f4742bf7edbe7736ece5d": {
      "model_module": "@jupyter-widgets/controls",
      "model_module_version": "2.0.0",
      "model_name": "DropdownModel",
      "state": {
       "_options_labels": [
        "",
        "passenger_count",
        "PULocationID"
       ],
       "disabled": true,
       "index": 2,
       "layout": "IPY_MODEL_0dfd87aa11d745349252cb509299cf58",
       "style": "IPY_MODEL_27782fd13db24219880e7b19ce6df73b"
      }
     },
     "0ce7e4024e4c43ed9e4cee43debdb42c": {
      "model_module": "@jupyter-widgets/controls",
      "model_module_version": "2.0.0",
      "model_name": "VBoxModel",
      "state": {
       "children": [
        "IPY_MODEL_b31a0a29ec1542109a9afcd4bd3fdd6b",
        "IPY_MODEL_787d66025d1b4aa9a36e32951cb649d0"
       ],
       "layout": "IPY_MODEL_cf913d749e204828b925e38ef31240d8"
      }
     },
     "0d0f762beee3437c940148acf96c0884": {
      "model_module": "@jupyter-widgets/controls",
      "model_module_version": "2.0.0",
      "model_name": "LabelStyleModel",
      "state": {
       "description_width": "",
       "font_family": null,
       "font_size": null,
       "font_style": null,
       "font_variant": null,
       "font_weight": null,
       "text_color": null,
       "text_decoration": null
      }
     },
     "0d28e67fd58046e79a40aa4da4769131": {
      "model_module": "@jupyter-widgets/controls",
      "model_module_version": "2.0.0",
      "model_name": "LabelStyleModel",
      "state": {
       "description_width": "",
       "font_family": null,
       "font_size": null,
       "font_style": null,
       "font_variant": null,
       "font_weight": null,
       "text_color": null,
       "text_decoration": null
      }
     },
     "0d52032c093446e28d63489686285a68": {
      "model_module": "@jupyter-widgets/base",
      "model_module_version": "2.0.0",
      "model_name": "LayoutModel",
      "state": {
       "max_width": "fit-content"
      }
     },
     "0d6149012ffd4fc5b193f6fdae7dbc18": {
      "model_module": "@jupyter-widgets/base",
      "model_module_version": "2.0.0",
      "model_name": "LayoutModel",
      "state": {}
     },
     "0dcd49120df441fcbf5c719714a0f3d7": {
      "model_module": "@jupyter-widgets/base",
      "model_module_version": "2.0.0",
      "model_name": "LayoutModel",
      "state": {}
     },
     "0ddd36179101473ca13d9a9b2231a75f": {
      "model_module": "@jupyter-widgets/controls",
      "model_module_version": "2.0.0",
      "model_name": "VBoxModel",
      "state": {
       "children": [
        "IPY_MODEL_2d5693360625493ba5efc011e5a8a153",
        "IPY_MODEL_3e319cd44d264c5f90b320e3ef0ffb00",
        "IPY_MODEL_d545c8ef15014acdbfe0ddf4a92ca7d5",
        "IPY_MODEL_5e7fe5ee3a524400aafb033e13ad3d31",
        "IPY_MODEL_c5596e0bdf5d4adcb744d91bfddbeb40",
        "IPY_MODEL_8d892f9795e1468ea059999c136fbb28",
        "IPY_MODEL_297d8405d7e74b7591685bfbc7f1bc1b",
        "IPY_MODEL_6ebe7d3457294b7398e538aa540a59c1"
       ],
       "layout": "IPY_MODEL_67984b1b97304706a671eec196b4adc8"
      }
     },
     "0df1ce8165ab4a6688d6fbde342fdbf6": {
      "model_module": "@jupyter-widgets/base",
      "model_module_version": "2.0.0",
      "model_name": "LayoutModel",
      "state": {}
     },
     "0df317f68c784c22a3693da565eada25": {
      "model_module": "@jupyter-widgets/controls",
      "model_module_version": "2.0.0",
      "model_name": "CheckboxStyleModel",
      "state": {
       "description_width": ""
      }
     },
     "0dfd87aa11d745349252cb509299cf58": {
      "model_module": "@jupyter-widgets/base",
      "model_module_version": "2.0.0",
      "model_name": "LayoutModel",
      "state": {
       "width": "initial"
      }
     },
     "0dffccecee4446fea54de81d5306098a": {
      "model_module": "@jupyter-widgets/controls",
      "model_module_version": "2.0.0",
      "model_name": "ButtonStyleModel",
      "state": {
       "font_family": null,
       "font_size": null,
       "font_style": null,
       "font_variant": null,
       "font_weight": null,
       "text_color": null,
       "text_decoration": null
      }
     },
     "0e000240dce54c67bc43208f0408a5dd": {
      "model_module": "@jupyter-widgets/controls",
      "model_module_version": "2.0.0",
      "model_name": "HBoxModel",
      "state": {
       "children": [
        "IPY_MODEL_8c1660a4bef5494a8cf9769e07b8e85c",
        "IPY_MODEL_a5611fd755ce4b56a9f0f47db0e838e7"
       ],
       "layout": "IPY_MODEL_c10d373b6828478fb5338df099973a84"
      }
     },
     "0e04beb688a94e038830e25537988572": {
      "model_module": "@jupyter-widgets/base",
      "model_module_version": "2.0.0",
      "model_name": "LayoutModel",
      "state": {}
     },
     "0e6a39a9f4884baabbcd2d4183fe492b": {
      "model_module": "@jupyter-widgets/controls",
      "model_module_version": "2.0.0",
      "model_name": "HBoxModel",
      "state": {
       "children": [
        "IPY_MODEL_fba5614157fe401da3a31720edb07601",
        "IPY_MODEL_2f57ea8b8c6a4377ba0f5dc311e187b4"
       ],
       "layout": "IPY_MODEL_e8f13923b19e432cb374af38f8ec5fbd"
      }
     },
     "0e78b534c8e84569b45ad7200e3d8dbc": {
      "model_module": "@jupyter-widgets/controls",
      "model_module_version": "2.0.0",
      "model_name": "HTMLStyleModel",
      "state": {
       "description_width": "",
       "font_size": null,
       "text_color": null
      }
     },
     "0ea3fb6a532d450ba2d3435457f384f3": {
      "model_module": "@jupyter-widgets/controls",
      "model_module_version": "2.0.0",
      "model_name": "HBoxModel",
      "state": {
       "children": [
        "IPY_MODEL_9aca197b7d6940d889ec300fad878bd6",
        "IPY_MODEL_a8363588c2a9463a9fb4033e40facbff"
       ],
       "layout": "IPY_MODEL_ab91a8e941b1483abd22b775df013b3a"
      }
     },
     "0ec3b23887354077977bf9fa325ca624": {
      "model_module": "@jupyter-widgets/base",
      "model_module_version": "2.0.0",
      "model_name": "LayoutModel",
      "state": {}
     },
     "0ec467c3ee614466a678587cf2e2cb32": {
      "model_module": "@jupyter-widgets/controls",
      "model_module_version": "2.0.0",
      "model_name": "LabelModel",
      "state": {
       "layout": "IPY_MODEL_e7306c0ceab3405fb184f2167251da49",
       "style": "IPY_MODEL_25669241c7c74e4d94f43471181f49c3",
       "value": "Vega columns"
      }
     },
     "0edd14ff9440464193a71a707b0fdf22": {
      "model_module": "@jupyter-widgets/controls",
      "model_module_version": "2.0.0",
      "model_name": "DescriptionStyleModel",
      "state": {
       "description_width": ""
      }
     },
     "0f1c05c3ea59492bac742aa5573feab1": {
      "model_module": "@jupyter-widgets/controls",
      "model_module_version": "2.0.0",
      "model_name": "HTMLModel",
      "state": {
       "layout": "IPY_MODEL_9dcf95aebf6e44ed85cf82045ea1fe1f",
       "style": "IPY_MODEL_e7b6ba9cb71d457a96011961571b89e4"
      }
     },
     "0f3250f5a4594803a4f5c230043fdb7e": {
      "model_module": "@jupyter-widgets/controls",
      "model_module_version": "2.0.0",
      "model_name": "FloatTextModel",
      "state": {
       "layout": "IPY_MODEL_bb4d1632980e4077bdb65033115ab4eb",
       "step": null,
       "style": "IPY_MODEL_6897a4f9d64b4e3db99204f6270c13af"
      }
     },
     "0f34ce929845478fa5255642ca127f37": {
      "model_module": "@jupyter-widgets/base",
      "model_module_version": "2.0.0",
      "model_name": "LayoutModel",
      "state": {}
     },
     "0f4f4c8cc81340839838bf333607cf24": {
      "model_module": "@jupyter-widgets/controls",
      "model_module_version": "2.0.0",
      "model_name": "TextareaModel",
      "state": {
       "description": "New URLs:",
       "disabled": true,
       "layout": "IPY_MODEL_4ea2c3b26c5048ce98da9014a2dae46d",
       "placeholder": "",
       "style": "IPY_MODEL_5c37bfc040ca431fbfa3c64367594d81",
       "value": "/tmp/taxi_parquet"
      }
     },
     "0f751b78164b405cb94d2ada4aa0fe15": {
      "model_module": "@jupyter-widgets/controls",
      "model_module_version": "2.0.0",
      "model_name": "HTMLStyleModel",
      "state": {
       "description_width": "",
       "font_size": null,
       "text_color": null
      }
     },
     "0fe98445ce4d4dd6a5f596b3b1ebb862": {
      "model_module": "@jupyter-widgets/controls",
      "model_module_version": "2.0.0",
      "model_name": "TextModel",
      "state": {
       "description": "NA values:",
       "layout": "IPY_MODEL_84b70204bc6847578c1890bbc7253c83",
       "style": "IPY_MODEL_dcafcebbd4054aa58f791599738aa107"
      }
     },
     "1011b35b70574181867c024b80892456": {
      "model_module": "@jupyter-widgets/controls",
      "model_module_version": "2.0.0",
      "model_name": "DescriptionStyleModel",
      "state": {
       "description_width": ""
      }
     },
     "10297a0c056547d4a14288bec23645f2": {
      "model_module": "@jupyter-widgets/controls",
      "model_module_version": "2.0.0",
      "model_name": "IntProgressModel",
      "state": {
       "description": "Progress",
       "layout": "IPY_MODEL_e7229da34eb2472bba32f1efe3342900",
       "max": 1055,
       "style": "IPY_MODEL_9b5a9c20432b444a9aa90b5432f08c3c",
       "value": 265
      }
     },
     "1035d9f88a864e34b8e84247f799194e": {
      "model_module": "@jupyter-widgets/controls",
      "model_module_version": "2.0.0",
      "model_name": "LabelModel",
      "state": {
       "layout": "IPY_MODEL_f0329eb52df64d14a3d00c5185a56666",
       "style": "IPY_MODEL_679dc3529181410e8a762cd08a5bd49f",
       "value": "Vega columns"
      }
     },
     "103a4f9d5a834e2192e4725fba39f593": {
      "model_module": "@jupyter-widgets/base",
      "model_module_version": "2.0.0",
      "model_name": "LayoutModel",
      "state": {}
     },
     "1044ab86d27b403d8c3106d8b7eb9a69": {
      "model_module": "@jupyter-widgets/controls",
      "model_module_version": "2.0.0",
      "model_name": "CheckboxModel",
      "state": {
       "disabled": true,
       "indent": false,
       "layout": "IPY_MODEL_aa65ca7e478948d5bd71ff0c7cdaa203",
       "style": "IPY_MODEL_1d934db58e704278b560c019462395aa",
       "value": false
      }
     },
     "10a4185c1e33429dbd27fe325bd9461b": {
      "model_module": "@jupyter-widgets/controls",
      "model_module_version": "2.0.0",
      "model_name": "CheckboxStyleModel",
      "state": {
       "description_width": ""
      }
     },
     "10e11927406749a681a3e47672f5a788": {
      "model_module": "@jupyter-widgets/base",
      "model_module_version": "2.0.0",
      "model_name": "LayoutModel",
      "state": {}
     },
     "10fe0b5c4a1d419a99c2159a1fc7be7c": {
      "model_module": "@jupyter-widgets/controls",
      "model_module_version": "2.0.0",
      "model_name": "HTMLModel",
      "state": {
       "layout": "IPY_MODEL_eaa1ccc295644762b73a71f723428f40",
       "style": "IPY_MODEL_288d771a69ff4022a3ec67db8831be78"
      }
     },
     "110852dd50024d17a481b470162140ab": {
      "model_module": "@jupyter-widgets/controls",
      "model_module_version": "2.0.0",
      "model_name": "GridBoxModel",
      "state": {
       "children": [
        "IPY_MODEL_0ec467c3ee614466a678587cf2e2cb32",
        "IPY_MODEL_1968a25b9d8746ef9f7202c00f8581a1",
        "IPY_MODEL_3cb051e7629545e385718404379504ab",
        "IPY_MODEL_b770b4e9254e4dacbddc58cd1b5b59b1",
        "IPY_MODEL_2f2f202d81b243b7828edda8c470a879",
        "IPY_MODEL_df6a80b71dde4c64b83ebf84c6e97400",
        "IPY_MODEL_05c678da3173414fa388b63d201a6f30",
        "IPY_MODEL_18bcc1fd891546e984cd499778cb76d5",
        "IPY_MODEL_8bc9802b7e514118aa4de8db064b2632",
        "IPY_MODEL_ddb3235539e54b3fa320da76dec0cd17",
        "IPY_MODEL_4af170f9246a476aa8104898fd97c92f",
        "IPY_MODEL_75a3d8fbf68641899d66b26559fe7027"
       ],
       "layout": "IPY_MODEL_46b28f0013134826bb1e71f1d245ee7a"
      }
     },
     "112e99668b48439581846e4eb6abcb20": {
      "model_module": "@jupyter-widgets/controls",
      "model_module_version": "2.0.0",
      "model_name": "LabelStyleModel",
      "state": {
       "description_width": "",
       "font_family": null,
       "font_size": null,
       "font_style": null,
       "font_variant": null,
       "font_weight": null,
       "text_color": null,
       "text_decoration": null
      }
     },
     "11343b770f5f4a8ea87c1bd78e7cac1f": {
      "model_module": "@jupyter-widgets/controls",
      "model_module_version": "2.0.0",
      "model_name": "DescriptionStyleModel",
      "state": {
       "description_width": ""
      }
     },
     "1137129d3a3f4ce5aa78fe348416274e": {
      "model_module": "@jupyter-widgets/base",
      "model_module_version": "2.0.0",
      "model_name": "LayoutModel",
      "state": {}
     },
     "1149b4a7bb224b6a918aac05f1e3ef7d": {
      "model_module": "@jupyter-widgets/base",
      "model_module_version": "2.0.0",
      "model_name": "LayoutModel",
      "state": {}
     },
     "114a2a902f784772aedfe948d7f7cce9": {
      "model_module": "@jupyter-widgets/controls",
      "model_module_version": "2.0.0",
      "model_name": "HTMLModel",
      "state": {
       "layout": "IPY_MODEL_82e79b58d10649c7a329e58babc3f2c9",
       "style": "IPY_MODEL_d9f16d1ee90142149dfc863ee8242d6b"
      }
     },
     "11a380ccc9fa41428d6b35d05abe1502": {
      "model_module": "@jupyter-widgets/controls",
      "model_module_version": "2.0.0",
      "model_name": "CheckboxStyleModel",
      "state": {
       "description_width": ""
      }
     },
     "11d32585472b4215bf4a8592824cc3b9": {
      "model_module": "@jupyter-widgets/base",
      "model_module_version": "2.0.0",
      "model_name": "LayoutModel",
      "state": {}
     },
     "11ffa11983fc44948bbfbc3afe8d5a95": {
      "model_module": "@jupyter-widgets/controls",
      "model_module_version": "2.0.0",
      "model_name": "CheckboxStyleModel",
      "state": {
       "description_width": ""
      }
     },
     "121fb19b9c0e4256a47766f038285488": {
      "model_module": "@jupyter-widgets/base",
      "model_module_version": "2.0.0",
      "model_name": "LayoutModel",
      "state": {}
     },
     "1243a7aff1484304a17ab1d783e64f0a": {
      "model_module": "@jupyter-widgets/base",
      "model_module_version": "2.0.0",
      "model_name": "LayoutModel",
      "state": {}
     },
     "1244607523e846a9929c55dbec74755f": {
      "model_module": "@jupyter-widgets/base",
      "model_module_version": "2.0.0",
      "model_name": "LayoutModel",
      "state": {}
     },
     "126627b2d4ae4697869a85e6276514f3": {
      "model_module": "@jupyter-widgets/base",
      "model_module_version": "2.0.0",
      "model_name": "LayoutModel",
      "state": {}
     },
     "12760ac6de554d2dbf263dfdf654ca44": {
      "model_module": "@jupyter-widgets/base",
      "model_module_version": "2.0.0",
      "model_name": "LayoutModel",
      "state": {}
     },
     "1299a7b7cec441918a7fd9b6b4b31eec": {
      "model_module": "@jupyter-widgets/controls",
      "model_module_version": "2.0.0",
      "model_name": "CheckboxModel",
      "state": {
       "disabled": true,
       "indent": false,
       "layout": "IPY_MODEL_545af1a766d34f5788a4696098dca488",
       "style": "IPY_MODEL_e20b3506a6a4452682ec4c4a6d2cd471",
       "value": false
      }
     },
     "12b0c9831a32467bb442f76f876fc30a": {
      "model_module": "@jupyter-widgets/controls",
      "model_module_version": "2.0.0",
      "model_name": "CheckboxModel",
      "state": {
       "description": "Use",
       "disabled": false,
       "layout": "IPY_MODEL_946e7f6812a046998821638d17649bcb",
       "style": "IPY_MODEL_583ae9b5f64f4b83848f81572912136f",
       "value": true
      }
     },
     "12d0e30ffca943f5a52bc1ccbd642e18": {
      "model_module": "@jupyter-widgets/base",
      "model_module_version": "2.0.0",
      "model_name": "LayoutModel",
      "state": {}
     },
     "12f2e00416994dfb934fefcec8e317b5": {
      "model_module": "@jupyter-widgets/controls",
      "model_module_version": "2.0.0",
      "model_name": "CheckboxStyleModel",
      "state": {
       "description_width": ""
      }
     },
     "139238807fec42e5838dde40ba797435": {
      "model_module": "@jupyter-widgets/controls",
      "model_module_version": "2.0.0",
      "model_name": "CheckboxModel",
      "state": {
       "description": "NA values",
       "disabled": true,
       "layout": "IPY_MODEL_5b9e0afe696843e9a46eeedabc255c89",
       "style": "IPY_MODEL_82b53b4b11b84e9b96a0115832c1cc90",
       "value": false
      }
     },
     "13a75b46d01b4e75811d3043e243a655": {
      "model_module": "@jupyter-widgets/controls",
      "model_module_version": "2.0.0",
      "model_name": "CheckboxModel",
      "state": {
       "description": "Filtering",
       "disabled": false,
       "layout": "IPY_MODEL_4aad9d186fe54915bbdf784a425d6b79",
       "style": "IPY_MODEL_ae592d966a924e619ef44eaf52ff1f8a",
       "value": false
      }
     },
     "13aa64aa8cac41948897839bc5073f6c": {
      "model_module": "@jupyter-widgets/base",
      "model_module_version": "2.0.0",
      "model_name": "LayoutModel",
      "state": {}
     },
     "13ab7caddfb74d98bca5528e1f924fe4": {
      "model_module": "@jupyter-widgets/base",
      "model_module_version": "2.0.0",
      "model_name": "LayoutModel",
      "state": {}
     },
     "13e2f4d7547d4b328c7eeaed4c8dad54": {
      "model_module": "@jupyter-widgets/controls",
      "model_module_version": "2.0.0",
      "model_name": "HTMLStyleModel",
      "state": {
       "description_width": "",
       "font_size": null,
       "text_color": null
      }
     },
     "1443f45d99fa4966bac745d62f187d92": {
      "model_module": "@jupyter-widgets/base",
      "model_module_version": "2.0.0",
      "model_name": "LayoutModel",
      "state": {}
     },
     "1444808d8464486ead81652018f76e50": {
      "model_module": "@jupyter-widgets/controls",
      "model_module_version": "2.0.0",
      "model_name": "FloatTextModel",
      "state": {
       "layout": "IPY_MODEL_bba568a3ecfd4cd5b92dce59331647b5",
       "step": null,
       "style": "IPY_MODEL_5436f58dc462432ea3333c97da209def"
      }
     },
     "144717c681bf4f6bb7c4f240e2a8811f": {
      "model_module": "@jupyter-widgets/controls",
      "model_module_version": "2.0.0",
      "model_name": "CheckboxModel",
      "state": {
       "description": "Use",
       "disabled": false,
       "layout": "IPY_MODEL_b0f6a284f7ae4be783ed1eefb015b0b1",
       "style": "IPY_MODEL_dceb28c99a9245a5a8a7cd44ada06377",
       "value": false
      }
     },
     "14554e40ce1e416cac36e15b9e25dee2": {
      "model_module": "@jupyter-widgets/controls",
      "model_module_version": "2.0.0",
      "model_name": "VBoxModel",
      "state": {
       "_dom_classes": [
        "progressivis_guest_widget",
        "progressivis_guest_widget--Bar_Chart_0"
       ],
       "children": [
        "IPY_MODEL_3fdb1ae52acc4e7db963bc502684ce28",
        "IPY_MODEL_fedd44d04ef2472284e7dc9600fa1a43",
        "IPY_MODEL_df65dc1071a9408cb09ba21c9ace6750",
        "IPY_MODEL_ec2c1a4bde0340caa9075c81dc2a0a88",
        "IPY_MODEL_a81266d58cce40d89c89453acc9ffdcb",
        "IPY_MODEL_c1f4e22048f840db8f3d134b2142aa14",
        "IPY_MODEL_d10b305681e24228b60b156e4e3940f5"
       ],
       "layout": "IPY_MODEL_0cd4c0ef59fb4ee4a3a400115ea4fd49"
      }
     },
     "14a94caec5dd49e9893908362bc17ae1": {
      "model_module": "@jupyter-widgets/base",
      "model_module_version": "2.0.0",
      "model_name": "LayoutModel",
      "state": {}
     },
     "14acc0b4fce946b487d9d14f909c23fc": {
      "model_module": "@jupyter-widgets/base",
      "model_module_version": "2.0.0",
      "model_name": "LayoutModel",
      "state": {}
     },
     "14bf027b5f2b4124a1f0b36832e9d3f0": {
      "model_module": "@jupyter-widgets/controls",
      "model_module_version": "2.0.0",
      "model_name": "CheckboxModel",
      "state": {
       "description": "M",
       "disabled": false,
       "indent": false,
       "layout": "IPY_MODEL_6065ef292190496e85b639608dd93af8",
       "style": "IPY_MODEL_e0618c5c72d0457bb3870d528890ea9d",
       "value": true
      }
     },
     "14c63f3184fb48cf9369fd6d7b3bc1a9": {
      "model_module": "@jupyter-widgets/controls",
      "model_module_version": "2.0.0",
      "model_name": "ButtonStyleModel",
      "state": {
       "font_family": null,
       "font_size": null,
       "font_style": null,
       "font_variant": null,
       "font_weight": null,
       "text_color": null,
       "text_decoration": null
      }
     },
     "14c6b122a6f34b5e863fb0a28b8bb0c8": {
      "model_module": "@jupyter-widgets/base",
      "model_module_version": "2.0.0",
      "model_name": "LayoutModel",
      "state": {}
     },
     "14c7843142fa4a9e89d2fc325c84e21c": {
      "model_module": "@jupyter-widgets/base",
      "model_module_version": "2.0.0",
      "model_name": "LayoutModel",
      "state": {}
     },
     "14c7d73e037c404185a6212b6b44e582": {
      "model_module": "@jupyter-widgets/controls",
      "model_module_version": "2.0.0",
      "model_name": "HTMLStyleModel",
      "state": {
       "description_width": "",
       "font_size": null,
       "text_color": null
      }
     },
     "14cf26f2c6ce48c8830d552bae696f60": {
      "model_module": "@jupyter-widgets/base",
      "model_module_version": "2.0.0",
      "model_name": "LayoutModel",
      "state": {}
     },
     "14dfc41c8e284494bd3de963b7a8dd4a": {
      "model_module": "@jupyter-widgets/base",
      "model_module_version": "2.0.0",
      "model_name": "LayoutModel",
      "state": {}
     },
     "14e72c05df5f49a38f15c01e24da937e": {
      "model_module": "@jupyter-widgets/controls",
      "model_module_version": "2.0.0",
      "model_name": "FloatTextModel",
      "state": {
       "layout": "IPY_MODEL_c1e41c75cc764c8c989f30db94f168a9",
       "step": null,
       "style": "IPY_MODEL_2886874d284f47909293292f94471ddd"
      }
     },
     "14e81abc97754be2b5ffd14715ddeac1": {
      "model_module": "@jupyter-widgets/base",
      "model_module_version": "2.0.0",
      "model_name": "LayoutModel",
      "state": {}
     },
     "152aba92d660454bb029bd4395b3bf34": {
      "model_module": "@jupyter-widgets/base",
      "model_module_version": "2.0.0",
      "model_name": "LayoutModel",
      "state": {}
     },
     "152c07b593914f248f3fffcdfcc83156": {
      "model_module": "@jupyter-widgets/controls",
      "model_module_version": "2.0.0",
      "model_name": "TextModel",
      "state": {
       "continuous_update": false,
       "description": "NA values",
       "disabled": true,
       "layout": "IPY_MODEL_e72ec4eff6ea41ba9ea777158df5899f",
       "style": "IPY_MODEL_65b46f9ef91842deb894eacbdf76b90a"
      }
     },
     "15593a085bd5413ba25b13e16ec1489f": {
      "model_module": "@jupyter-widgets/controls",
      "model_module_version": "2.0.0",
      "model_name": "DescriptionStyleModel",
      "state": {
       "description_width": ""
      }
     },
     "1581dd1ef06b42eeb1cc700677b3162c": {
      "model_module": "@jupyter-widgets/controls",
      "model_module_version": "2.0.0",
      "model_name": "HTMLStyleModel",
      "state": {
       "description_width": "",
       "font_size": null,
       "text_color": null
      }
     },
     "159d23435b44448a8e87cacce65275fb": {
      "model_module": "@jupyter-widgets/controls",
      "model_module_version": "2.0.0",
      "model_name": "LabelModel",
      "state": {
       "layout": "IPY_MODEL_456e4de350a34bd7807b85d1e6a9956f",
       "style": "IPY_MODEL_5e165e33f5884097ac816d1024fb372a"
      }
     },
     "15fea41cedad44289a62288fd438f88e": {
      "model_module": "@jupyter-widgets/base",
      "model_module_version": "2.0.0",
      "model_name": "LayoutModel",
      "state": {}
     },
     "16064215908d41658dd8d0d71b8171e5": {
      "model_module": "@jupyter-widgets/controls",
      "model_module_version": "2.0.0",
      "model_name": "CheckboxModel",
      "state": {
       "disabled": true,
       "indent": false,
       "layout": "IPY_MODEL_4c88ed8cf8b14cdca964d68551cb5301",
       "style": "IPY_MODEL_dae6b87c225a425c994891913c199e5d",
       "value": false
      }
     },
     "164fec7fb9c34f8f9918c81936cc3440": {
      "model_module": "@jupyter-widgets/controls",
      "model_module_version": "2.0.0",
      "model_name": "TextModel",
      "state": {
       "description": "Type:",
       "disabled": true,
       "layout": "IPY_MODEL_94df7489eeb14f43bbf3d78f596103c0",
       "style": "IPY_MODEL_6bf2cbd06ab04f6c9fb29119b106ef8e",
       "value": "object"
      }
     },
     "1681c1b1fd934356bfe54b2f432e59f0": {
      "model_module": "@jupyter-widgets/controls",
      "model_module_version": "2.0.0",
      "model_name": "CheckboxStyleModel",
      "state": {
       "description_width": ""
      }
     },
     "16a5bcf9ebba4e16bb61958035093288": {
      "model_module": "@jupyter-widgets/controls",
      "model_module_version": "2.0.0",
      "model_name": "TextModel",
      "state": {
       "description": "File:",
       "disabled": true,
       "layout": "IPY_MODEL_4063897f1c6f4c65a00703042d25b662",
       "placeholder": "",
       "style": "IPY_MODEL_0a7714f3ae8a4b569a83e35afde58769",
       "value": "w20251004_202553"
      }
     },
     "16a998a508ae40de92fe241fe73c456e": {
      "model_module": "@jupyter-widgets/controls",
      "model_module_version": "2.0.0",
      "model_name": "DescriptionStyleModel",
      "state": {
       "description_width": ""
      }
     },
     "16ad8dddd8b647b793b475a6ab68a3d9": {
      "model_module": "@jupyter-widgets/controls",
      "model_module_version": "2.0.0",
      "model_name": "HTMLStyleModel",
      "state": {
       "description_width": "",
       "font_size": null,
       "text_color": null
      }
     },
     "16c3e8d2595e45d982833af5a11ca162": {
      "model_module": "@jupyter-widgets/controls",
      "model_module_version": "2.0.0",
      "model_name": "CheckboxStyleModel",
      "state": {
       "description_width": ""
      }
     },
     "17343ae1f3844d5799c52d4f38d3438c": {
      "model_module": "@jupyter-widgets/base",
      "model_module_version": "2.0.0",
      "model_name": "LayoutModel",
      "state": {
       "max_width": "fit-content"
      }
     },
     "1779af9298e241e5a03b495b31936958": {
      "model_module": "@jupyter-widgets/base",
      "model_module_version": "2.0.0",
      "model_name": "LayoutModel",
      "state": {}
     },
     "17b48749d68743a49d9dfee5b3358951": {
      "model_module": "@jupyter-widgets/base",
      "model_module_version": "2.0.0",
      "model_name": "LayoutModel",
      "state": {}
     },
     "17cd7ed081324ed7b5afb79ce6e51964": {
      "model_module": "@jupyter-widgets/controls",
      "model_module_version": "2.0.0",
      "model_name": "TextStyleModel",
      "state": {
       "description_width": "",
       "font_size": null,
       "text_color": null
      }
     },
     "17d9e8d56f97445383c91669369a38c5": {
      "model_module": "@jupyter-widgets/controls",
      "model_module_version": "2.0.0",
      "model_name": "HTMLStyleModel",
      "state": {
       "description_width": "",
       "font_size": null,
       "text_color": null
      }
     },
     "181ab109da904ea396ef3cb89d6aba0f": {
      "model_module": "@jupyter-widgets/controls",
      "model_module_version": "2.0.0",
      "model_name": "HBoxModel",
      "state": {
       "children": [
        "IPY_MODEL_f0b81cc04bca49dc8cfea0a230da9fc7",
        "IPY_MODEL_2e4be40246cd40ebbddd00f1b167210b"
       ],
       "layout": "IPY_MODEL_c53b6320872d49cfaacef086fcf193f6"
      }
     },
     "1830c51d6fff4129848695182d5b15ef": {
      "model_module": "@jupyter-widgets/controls",
      "model_module_version": "2.0.0",
      "model_name": "CheckboxModel",
      "state": {
       "description": "h",
       "disabled": false,
       "indent": false,
       "layout": "IPY_MODEL_24cbae198edb40dda68ea3b967709177",
       "style": "IPY_MODEL_973493cc2fbb4a19954cd7b81dace88a",
       "value": true
      }
     },
     "188506b9ce4142a29fd8fee29bda0f5f": {
      "model_module": "@jupyter-widgets/controls",
      "model_module_version": "2.0.0",
      "model_name": "LabelStyleModel",
      "state": {
       "description_width": "",
       "font_family": null,
       "font_size": null,
       "font_style": null,
       "font_variant": null,
       "font_weight": null,
       "text_color": null,
       "text_decoration": null
      }
     },
     "18bcc1fd891546e984cd499778cb76d5": {
      "model_module": "@jupyter-widgets/controls",
      "model_module_version": "2.0.0",
      "model_name": "DropdownModel",
      "state": {
       "_options_labels": [
        "",
        "enumerate",
        "cbrt"
       ],
       "index": 0,
       "layout": "IPY_MODEL_cae128eebca4480f9e7f0798d48da0fa",
       "style": "IPY_MODEL_558c24b96bdb4c4a966e67eb65923841"
      }
     },
     "18dc120bbb6d41d499aeaaa7692f79c6": {
      "model_module": "@jupyter-widgets/controls",
      "model_module_version": "2.0.0",
      "model_name": "HTMLModel",
      "state": {
       "layout": "IPY_MODEL_9d8c9902fa4749c3a96a80823056766e",
       "style": "IPY_MODEL_7a990a3a0913409fa78dfe2d072c8b09"
      }
     },
     "191058851f264e69aeca41ffe74edbd9": {
      "model_module": "@jupyter-widgets/base",
      "model_module_version": "2.0.0",
      "model_name": "LayoutModel",
      "state": {
       "width": "max-content"
      }
     },
     "192603585acd4a0ca18f54a72f723a6c": {
      "model_module": "@jupyter-widgets/base",
      "model_module_version": "2.0.0",
      "model_name": "LayoutModel",
      "state": {}
     },
     "1935c998c77d4b0586d9f5660c1c1e90": {
      "model_module": "@jupyter-widgets/controls",
      "model_module_version": "2.0.0",
      "model_name": "HBoxModel",
      "state": {
       "children": [
        "IPY_MODEL_78baf8c5964e472bb2cc119cb2c65fd3"
       ],
       "layout": "IPY_MODEL_5b51b94e554445afaf76ba4270b7efeb"
      }
     },
     "19397552a93d487ea828e47b0ca7c4a0": {
      "model_module": "@jupyter-widgets/controls",
      "model_module_version": "2.0.0",
      "model_name": "CheckboxStyleModel",
      "state": {
       "description_width": ""
      }
     },
     "193eb4ec8c7d4539b5dc1cf626dfb214": {
      "model_module": "@jupyter-widgets/controls",
      "model_module_version": "2.0.0",
      "model_name": "ProgressStyleModel",
      "state": {
       "description_width": ""
      }
     },
     "1968a25b9d8746ef9f7202c00f8581a1": {
      "model_module": "@jupyter-widgets/controls",
      "model_module_version": "2.0.0",
      "model_name": "LabelModel",
      "state": {
       "layout": "IPY_MODEL_b06c6b4e9de54632885848a176969c39",
       "style": "IPY_MODEL_8b6fdaa725784c7dbebfa077e3e235bb",
       "value": "Mapping"
      }
     },
     "196e0c5b5f3a4804af346004856471d5": {
      "model_module": "@jupyter-widgets/base",
      "model_module_version": "2.0.0",
      "model_name": "LayoutModel",
      "state": {}
     },
     "198c3a07ecb54189ae18abd2000bdade": {
      "model_module": "@jupyter-widgets/controls",
      "model_module_version": "2.0.0",
      "model_name": "CheckboxModel",
      "state": {
       "description": "Use",
       "disabled": false,
       "layout": "IPY_MODEL_5306545b26654f29bd8aeca1fc0b4ffc",
       "style": "IPY_MODEL_a18b0ccb4c3347c6a990e768df01cee0",
       "value": false
      }
     },
     "19e79cb1f42b42849831fb87a3658837": {
      "model_module": "@jupyter-widgets/base",
      "model_module_version": "2.0.0",
      "model_name": "LayoutModel",
      "state": {}
     },
     "19f0edcda02641a3bfe620594d555068": {
      "model_module": "jupyter-progressivis",
      "model_module_version": "^0.1.0",
      "model_name": "BackupModel",
      "state": {
       "_model_module_version": "^0.1.0",
       "_view_module_version": "^0.1.0",
       "layout": "IPY_MODEL_ac07b110bdfb4bca9b5d38810fd85f83"
      }
     },
     "19f33374c6b84decb946a761250442f7": {
      "model_module": "@jupyter-widgets/controls",
      "model_module_version": "2.0.0",
      "model_name": "DescriptionStyleModel",
      "state": {
       "description_width": ""
      }
     },
     "1a2938f2f0934b0e96e1ce46c816f3ea": {
      "model_module": "@jupyter-widgets/controls",
      "model_module_version": "2.0.0",
      "model_name": "TextareaModel",
      "state": {
       "description": "Error:",
       "layout": "IPY_MODEL_83b235e4766c45e385afef64358fe03f",
       "style": "IPY_MODEL_0bc8a8532a264efaa627247aaadbad27"
      }
     },
     "1a3d9586499a421baae3a9e26dfebfff": {
      "model_module": "@jupyter-widgets/base",
      "model_module_version": "2.0.0",
      "model_name": "LayoutModel",
      "state": {}
     },
     "1a8ab13a2d3f4d038d34c7a9e1a0cee4": {
      "model_module": "@jupyter-widgets/controls",
      "model_module_version": "2.0.0",
      "model_name": "DescriptionStyleModel",
      "state": {
       "description_width": ""
      }
     },
     "1af03324d4bb4880939808dd909e35ab": {
      "model_module": "@jupyter-widgets/base",
      "model_module_version": "2.0.0",
      "model_name": "LayoutModel",
      "state": {}
     },
     "1b09ba49c8a04b958047f29a1f5a5568": {
      "model_module": "@jupyter-widgets/controls",
      "model_module_version": "2.0.0",
      "model_name": "SliderStyleModel",
      "state": {
       "description_width": "initial"
      }
     },
     "1b12dd1d2de841c5af29a37d6ebedc41": {
      "model_module": "@jupyter-widgets/controls",
      "model_module_version": "2.0.0",
      "model_name": "HTMLStyleModel",
      "state": {
       "description_width": "",
       "font_size": null,
       "text_color": null
      }
     },
     "1b1ac6506e5141c091a1be4ee68b805a": {
      "model_module": "@jupyter-widgets/controls",
      "model_module_version": "2.0.0",
      "model_name": "VBoxModel",
      "state": {
       "children": [
        "IPY_MODEL_343ed33452f245ea81890ebc15436f89",
        "IPY_MODEL_f1935d0445294a609f778391885f5b1d"
       ],
       "layout": "IPY_MODEL_7d8e50aebffe471aa2b01fcdb1c77f21"
      }
     },
     "1b638cd382534058ad13b93005f3609d": {
      "model_module": "@jupyter-widgets/base",
      "model_module_version": "2.0.0",
      "model_name": "LayoutModel",
      "state": {}
     },
     "1b6d6a5847b54564a7f394ad73be556d": {
      "model_module": "@jupyter-widgets/base",
      "model_module_version": "2.0.0",
      "model_name": "LayoutModel",
      "state": {}
     },
     "1b752e1f919a42d4abc5bc48b5b76b43": {
      "model_module": "@jupyter-widgets/controls",
      "model_module_version": "2.0.0",
      "model_name": "CheckboxModel",
      "state": {
       "description": "Use",
       "disabled": false,
       "layout": "IPY_MODEL_397e52935e7946059451885224902230",
       "style": "IPY_MODEL_879f65f5d5724885a4680102d3e5ff0a",
       "value": true
      }
     },
     "1b802d9290304898aacbd03baef07733": {
      "model_module": "@jupyter-widgets/controls",
      "model_module_version": "2.0.0",
      "model_name": "TextStyleModel",
      "state": {
       "description_width": "",
       "font_size": null,
       "text_color": null
      }
     },
     "1b911bfd33ab48e1b0cb57e0cc371156": {
      "model_module": "@jupyter-widgets/controls",
      "model_module_version": "2.0.0",
      "model_name": "TextareaModel",
      "state": {
       "layout": "IPY_MODEL_4e00147f657d4c6399ce3417fd732937",
       "rows": 20,
       "style": "IPY_MODEL_2d73ccc2e8444c28845a6c947a8712f5",
       "value": "  name: tip_amount\n  path: tip_amount\n  max_definition_level: 1\n  max_repetition_level: 0\n  physical_type: DOUBLE\n  logical_type: None\n  converted_type (legacy): NONE\n  file_offset: 163478453\n  file_path: \n  physical_type: DOUBLE\n  num_values: 13157677\n  path_in_schema: tip_amount\n  is_stats_set: True\n  statistics:\n      has_min_max: True\n      min: -106.75\n      max: 850.0\n      null_count: 0\n      distinct_count: None\n      num_values: 13157677\n      physical_type: DOUBLE\n      logical_type: None\n      converted_type (legacy): NONE\n  geo_statistics:\n    None\n  compression: GZIP\n  encodings: ('PLAIN_DICTIONARY', 'PLAIN', 'RLE')\n  has_dictionary_page: True\n  dictionary_page_offset: 151757055\n  data_page_offset: 151768008\n  total_compressed_size: 11721398\n  total_uncompressed_size: 19687984"
      }
     },
     "1b97953a85384d67aa7594528f98686e": {
      "model_module": "@jupyter-widgets/controls",
      "model_module_version": "2.0.0",
      "model_name": "TextModel",
      "state": {
       "continuous_update": false,
       "description": "Name:",
       "disabled": true,
       "layout": "IPY_MODEL_ff7ef2a9440042f189ef36ca3072b4e7",
       "style": "IPY_MODEL_8e4bc11eb0894b0bab234ee4e67341c0",
       "value": "Borough"
      }
     },
     "1bab0ba7784a405a91450bdc2f76d987": {
      "model_module": "@jupyter-widgets/controls",
      "model_module_version": "2.0.0",
      "model_name": "VBoxModel",
      "state": {
       "children": [
        "IPY_MODEL_9fe70f2125f340e9bbb3506e6bd6fed4",
        "IPY_MODEL_f949c3918a264abdaf4e1a077d5168a0"
       ],
       "layout": "IPY_MODEL_fe42ca0098884fbab78c6a81a0c4cf16"
      }
     },
     "1bb5f11b61a5469a99e3f738c15b0795": {
      "model_module": "@jupyter-widgets/controls",
      "model_module_version": "2.0.0",
      "model_name": "CheckboxModel",
      "state": {
       "description": "Use",
       "disabled": false,
       "layout": "IPY_MODEL_6924e9ef926e49c8976a6302c4f74d71",
       "style": "IPY_MODEL_bdea5e15b10a46b9a9aae608c2dce43f",
       "value": true
      }
     },
     "1bcd2a4a74e245e7b1dfae77c828ba0e": {
      "model_module": "@jupyter-widgets/base",
      "model_module_version": "2.0.0",
      "model_name": "LayoutModel",
      "state": {}
     },
     "1bd204e887194ec38ec2540df9bcc3c1": {
      "model_module": "@jupyter-widgets/controls",
      "model_module_version": "2.0.0",
      "model_name": "ButtonStyleModel",
      "state": {
       "font_family": null,
       "font_size": null,
       "font_style": null,
       "font_variant": null,
       "font_weight": null,
       "text_color": null,
       "text_decoration": null
      }
     },
     "1be3e92588d246ea841f0e38a3b8d1ea": {
      "model_module": "@jupyter-widgets/base",
      "model_module_version": "2.0.0",
      "model_name": "LayoutModel",
      "state": {}
     },
     "1c211824e48e478e93dfb53f2a4ea4cc": {
      "model_module": "@jupyter-widgets/controls",
      "model_module_version": "2.0.0",
      "model_name": "CheckboxStyleModel",
      "state": {
       "description_width": ""
      }
     },
     "1c34ddf6962c4124b96e89e3e3a39206": {
      "model_module": "@jupyter-widgets/base",
      "model_module_version": "2.0.0",
      "model_name": "LayoutModel",
      "state": {
       "justify_content": "flex-end"
      }
     },
     "1c36c3f1b87447d4a80d11fdde9c7bbd": {
      "model_module": "@jupyter-widgets/controls",
      "model_module_version": "2.0.0",
      "model_name": "TextModel",
      "state": {
       "description": "Type:",
       "disabled": true,
       "layout": "IPY_MODEL_312ff398e949492a9b3b2a51cdfb33d0",
       "style": "IPY_MODEL_2706f3ecc5524657889d337dcdcb8a57",
       "value": "int64"
      }
     },
     "1c7aa465e4834a3d9d7c8bf9ebdfffd3": {
      "model_module": "@jupyter-widgets/controls",
      "model_module_version": "2.0.0",
      "model_name": "CheckboxStyleModel",
      "state": {
       "description_width": ""
      }
     },
     "1ca5631e99f7493bb086b77ccfb72746": {
      "model_module": "@jupyter-widgets/controls",
      "model_module_version": "2.0.0",
      "model_name": "CheckboxModel",
      "state": {
       "disabled": true,
       "indent": false,
       "layout": "IPY_MODEL_ea783ed28dbf48bbbd7a663b6770f452",
       "style": "IPY_MODEL_740723d234414c0aa75a59bab2ea63fa",
       "value": false
      }
     },
     "1cb743aa6bf54a6396500f85e1af0144": {
      "model_module": "@jupyter-widgets/controls",
      "model_module_version": "2.0.0",
      "model_name": "ButtonModel",
      "state": {
       "disabled": true,
       "icon": "refresh",
       "layout": "IPY_MODEL_a5d6103551794620a78954e368f5d07a",
       "style": "IPY_MODEL_8ad37ba602e54b898483e159160c47fc"
      }
     },
     "1d217a5a8385469a9ec87bf60f5bc3c6": {
      "model_module": "@jupyter-widgets/controls",
      "model_module_version": "2.0.0",
      "model_name": "DescriptionStyleModel",
      "state": {
       "description_width": ""
      }
     },
     "1d5e35b51baa43728a8c787d6789e417": {
      "model_module": "@jupyter-widgets/controls",
      "model_module_version": "2.0.0",
      "model_name": "LabelStyleModel",
      "state": {
       "description_width": "",
       "font_family": null,
       "font_size": null,
       "font_style": null,
       "font_variant": null,
       "font_weight": null,
       "text_color": null,
       "text_decoration": null
      }
     },
     "1d934db58e704278b560c019462395aa": {
      "model_module": "@jupyter-widgets/controls",
      "model_module_version": "2.0.0",
      "model_name": "CheckboxStyleModel",
      "state": {
       "description_width": ""
      }
     },
     "1daff11e57554cf495f3d4cbcad87151": {
      "model_module": "@jupyter-widgets/base",
      "model_module_version": "2.0.0",
      "model_name": "LayoutModel",
      "state": {}
     },
     "1e4cccebfb3245088ad4afbbd5e25e75": {
      "model_module": "@jupyter-widgets/controls",
      "model_module_version": "2.0.0",
      "model_name": "TextStyleModel",
      "state": {
       "description_width": "",
       "font_size": null,
       "text_color": null
      }
     },
     "1e7d98454389416c8ecc2f45218a3080": {
      "model_module": "@jupyter-widgets/base",
      "model_module_version": "2.0.0",
      "model_name": "LayoutModel",
      "state": {}
     },
     "1e9626cf6b754d0dba8b54ef71dd8aca": {
      "model_module": "@jupyter-widgets/controls",
      "model_module_version": "2.0.0",
      "model_name": "CheckboxStyleModel",
      "state": {
       "description_width": ""
      }
     },
     "1eb79b0bbcea4cc7a6a5c8272de129a8": {
      "model_module": "@jupyter-widgets/controls",
      "model_module_version": "2.0.0",
      "model_name": "LabelStyleModel",
      "state": {
       "description_width": "",
       "font_family": null,
       "font_size": null,
       "font_style": null,
       "font_variant": null,
       "font_weight": null,
       "text_color": null,
       "text_decoration": null
      }
     },
     "1f29cba96d2c467e8916c0cf960478eb": {
      "model_module": "@jupyter-widgets/controls",
      "model_module_version": "2.0.0",
      "model_name": "TextModel",
      "state": {
       "continuous_update": false,
       "description": "False values",
       "disabled": true,
       "layout": "IPY_MODEL_20a0d21e53894d3b9be793433d23cbbc",
       "style": "IPY_MODEL_384943c2fe2246039d537de286fec47d"
      }
     },
     "1f83ffae496d440885e7b10b5edc778f": {
      "model_module": "@jupyter-widgets/base",
      "model_module_version": "2.0.0",
      "model_name": "LayoutModel",
      "state": {}
     },
     "1ff3fcb3439c46de8b56eb6f0b3a8bf1": {
      "model_module": "@jupyter-widgets/controls",
      "model_module_version": "2.0.0",
      "model_name": "DescriptionStyleModel",
      "state": {
       "description_width": ""
      }
     },
     "202d4b03316244a995786f55ad95d75c": {
      "model_module": "@jupyter-widgets/base",
      "model_module_version": "2.0.0",
      "model_name": "LayoutModel",
      "state": {}
     },
     "207eb33aab2f47b498f543cab61747ea": {
      "model_module": "@jupyter-widgets/base",
      "model_module_version": "2.0.0",
      "model_name": "LayoutModel",
      "state": {}
     },
     "20a0d21e53894d3b9be793433d23cbbc": {
      "model_module": "@jupyter-widgets/base",
      "model_module_version": "2.0.0",
      "model_name": "LayoutModel",
      "state": {}
     },
     "20b9351f9316403593b5271f7f7f1b3d": {
      "model_module": "@jupyter-widgets/base",
      "model_module_version": "2.0.0",
      "model_name": "LayoutModel",
      "state": {}
     },
     "20d8b78c2f3445fd9d935417faba9490": {
      "model_module": "@jupyter-widgets/controls",
      "model_module_version": "2.0.0",
      "model_name": "CheckboxModel",
      "state": {
       "description": "NA values",
       "disabled": false,
       "layout": "IPY_MODEL_c199caaa1c6e4d05b35058f5907a06fa",
       "style": "IPY_MODEL_cfee73809b1841c0916584699a0094d4",
       "value": false
      }
     },
     "20e3a7a01358452c9eedbb23431bf008": {
      "model_module": "@jupyter-widgets/base",
      "model_module_version": "2.0.0",
      "model_name": "LayoutModel",
      "state": {
       "width": "100%"
      }
     },
     "210ef9166ea0427fb6e3658fc28cb0b4": {
      "model_module": "@jupyter-widgets/base",
      "model_module_version": "2.0.0",
      "model_name": "LayoutModel",
      "state": {}
     },
     "210f491c97b94c3c8ab339909d3471d8": {
      "model_module": "@jupyter-widgets/base",
      "model_module_version": "2.0.0",
      "model_name": "LayoutModel",
      "state": {}
     },
     "2128708896624679878bb16c85e1db52": {
      "model_module": "@jupyter-widgets/controls",
      "model_module_version": "2.0.0",
      "model_name": "IntSliderModel",
      "state": {
       "behavior": "drag-tap",
       "continuous_update": false,
       "description": "Display T:",
       "layout": "IPY_MODEL_126627b2d4ae4697869a85e6276514f3",
       "max": 10,
       "min": 1,
       "style": "IPY_MODEL_231e5b038e5d43a6b172595344c8321c",
       "value": 1
      }
     },
     "21755e6cb014467eb902d6fc912a0a3e": {
      "model_module": "@jupyter-widgets/controls",
      "model_module_version": "2.0.0",
      "model_name": "CheckboxModel",
      "state": {
       "disabled": true,
       "indent": false,
       "layout": "IPY_MODEL_c220e07fd57d427092de0e159efc6c59",
       "style": "IPY_MODEL_ef85980a9a8e4d34a066b160fc6d2da2",
       "value": false
      }
     },
     "21ad598867f84935a68775add5d46787": {
      "model_module": "@jupyter-widgets/controls",
      "model_module_version": "2.0.0",
      "model_name": "CheckboxModel",
      "state": {
       "disabled": true,
       "indent": false,
       "layout": "IPY_MODEL_78ef5acf9ba34b3ea4906a5c64814b8b",
       "style": "IPY_MODEL_62580a7d1392487ba9e420e780d9e6af",
       "value": false
      }
     },
     "21c170f8975643d5b785a7ac969bd158": {
      "model_module": "@jupyter-widgets/base",
      "model_module_version": "2.0.0",
      "model_name": "LayoutModel",
      "state": {}
     },
     "21d4dfad612d48a483761213d9dd6064": {
      "model_module": "@jupyter-widgets/controls",
      "model_module_version": "2.0.0",
      "model_name": "HTMLStyleModel",
      "state": {
       "description_width": "",
       "font_size": null,
       "text_color": null
      }
     },
     "21dbd0730da440b59737cd52613caedf": {
      "model_module": "@jupyter-widgets/controls",
      "model_module_version": "2.0.0",
      "model_name": "CheckboxStyleModel",
      "state": {
       "description_width": ""
      }
     },
     "21ddcb4681ac40c6be7ce8a01fac4960": {
      "model_module": "@jupyter-widgets/base",
      "model_module_version": "2.0.0",
      "model_name": "LayoutModel",
      "state": {}
     },
     "222c5bcc70a64d5cb403e3fdb6b0c40b": {
      "model_module": "@jupyter-widgets/controls",
      "model_module_version": "2.0.0",
      "model_name": "DescriptionStyleModel",
      "state": {
       "description_width": ""
      }
     },
     "2231ab62d85a499ea1c2551774f42e99": {
      "model_module": "@jupyter-widgets/controls",
      "model_module_version": "2.0.0",
      "model_name": "HTMLModel",
      "state": {
       "layout": "IPY_MODEL_490cbc36affe48189ad3246c1f1ede8f",
       "style": "IPY_MODEL_cdb30e21834e48e987622bc17a547688"
      }
     },
     "223703c241da43e5900f35d1e6dcf866": {
      "model_module": "@jupyter-widgets/controls",
      "model_module_version": "2.0.0",
      "model_name": "TextStyleModel",
      "state": {
       "description_width": "",
       "font_size": null,
       "text_color": null
      }
     },
     "22de26e69fc94bd197187b4a0b3f26a8": {
      "model_module": "@jupyter-widgets/controls",
      "model_module_version": "2.0.0",
      "model_name": "HTMLModel",
      "state": {
       "layout": "IPY_MODEL_354ca6ce2b30485dad0a4cc8d7948ce8",
       "style": "IPY_MODEL_c0d1e60d403e4bca9a22bb7e0ffa0f9e"
      }
     },
     "22e21432eeee462da6f2e4af700dd489": {
      "model_module": "@jupyter-widgets/base",
      "model_module_version": "2.0.0",
      "model_name": "LayoutModel",
      "state": {}
     },
     "22f5265b9fef4bbca560b63f95d82c46": {
      "model_module": "@jupyter-widgets/base",
      "model_module_version": "2.0.0",
      "model_name": "LayoutModel",
      "state": {}
     },
     "22f7a028c0c3435e9461b48e66bcf1ec": {
      "model_module": "@jupyter-widgets/base",
      "model_module_version": "2.0.0",
      "model_name": "LayoutModel",
      "state": {}
     },
     "230536c028f04777840d582cb9fe9cdf": {
      "model_module": "@jupyter-widgets/controls",
      "model_module_version": "2.0.0",
      "model_name": "HTMLStyleModel",
      "state": {
       "description_width": "",
       "font_size": null,
       "text_color": null
      }
     },
     "23136cc8395a47b18b8de3901f72d066": {
      "model_module": "@jupyter-widgets/controls",
      "model_module_version": "2.0.0",
      "model_name": "TextStyleModel",
      "state": {
       "description_width": "",
       "font_size": null,
       "text_color": null
      }
     },
     "23197f6a89b64cad9738a15d76d56d5e": {
      "model_module": "@jupyter-widgets/base",
      "model_module_version": "2.0.0",
      "model_name": "LayoutModel",
      "state": {}
     },
     "231e5b038e5d43a6b172595344c8321c": {
      "model_module": "@jupyter-widgets/controls",
      "model_module_version": "2.0.0",
      "model_name": "SliderStyleModel",
      "state": {
       "description_width": "initial"
      }
     },
     "2373da50698848f99e71ce2543123d73": {
      "model_module": "@jupyter-widgets/base",
      "model_module_version": "2.0.0",
      "model_name": "LayoutModel",
      "state": {}
     },
     "237747b000b34f7e8f5b7af576052dda": {
      "model_module": "@jupyter-widgets/base",
      "model_module_version": "2.0.0",
      "model_name": "LayoutModel",
      "state": {}
     },
     "23abaeeebb8745fda2867bd2074166ac": {
      "model_module": "@jupyter-widgets/controls",
      "model_module_version": "2.0.0",
      "model_name": "CheckboxModel",
      "state": {
       "description": "Filtering",
       "disabled": false,
       "layout": "IPY_MODEL_f0ef104398b744ce98f695b89e03fd2b",
       "style": "IPY_MODEL_bf2817687f114beb9330a6cf1ce0992a",
       "value": false
      }
     },
     "24190734db454ba8ba3f82d838172c74": {
      "model_module": "@jupyter-widgets/base",
      "model_module_version": "2.0.0",
      "model_name": "LayoutModel",
      "state": {
       "height": "30px",
       "width": "30px"
      }
     },
     "241a36e194914e779e378a41d6ecb487": {
      "model_module": "@jupyter-widgets/controls",
      "model_module_version": "2.0.0",
      "model_name": "VBoxModel",
      "state": {
       "children": [
        "IPY_MODEL_6ee9b5bf32bf49b2918be2363dc1be37",
        "IPY_MODEL_b26461716b204ab59cf991e5c10ffa4f",
        "IPY_MODEL_c2f68319b8b641ba9655c36427889f68",
        "IPY_MODEL_ad82f1f158934dde93c79a375cc796a9",
        "IPY_MODEL_d1e8447ef1ed4d909d32cecf2ab62f46",
        "IPY_MODEL_014606249f344d4f8804a10515c5ee58",
        "IPY_MODEL_9b2b058afe22466585a43617f6cd9192",
        "IPY_MODEL_5e70ba984fca4bfa9aa59456a07d96c3"
       ],
       "layout": "IPY_MODEL_46afb94d3c874a339a1d1ac5469530e9"
      }
     },
     "241c3176db0748d8ae71abef12db63f3": {
      "model_module": "@jupyter-widgets/base",
      "model_module_version": "2.0.0",
      "model_name": "LayoutModel",
      "state": {}
     },
     "2423f8352cc34e22a11dbb7e558721e1": {
      "model_module": "@jupyter-widgets/controls",
      "model_module_version": "2.0.0",
      "model_name": "TextModel",
      "state": {
       "continuous_update": false,
       "description": "Name:",
       "disabled": true,
       "layout": "IPY_MODEL_35fccbaade7c4353b741367365c8f77c",
       "style": "IPY_MODEL_0bdf04c55d8a4e5a9ff6a2cac1cd3064",
       "value": "service_zone"
      }
     },
     "24497b3fc0644bc8ab2324674ad0d2da": {
      "model_module": "@jupyter-widgets/controls",
      "model_module_version": "2.0.0",
      "model_name": "DescriptionStyleModel",
      "state": {
       "description_width": ""
      }
     },
     "2455bd7a32c24e7785cd3902e458bc18": {
      "model_module": "@jupyter-widgets/controls",
      "model_module_version": "2.0.0",
      "model_name": "DescriptionStyleModel",
      "state": {
       "description_width": ""
      }
     },
     "245c691e576c48bf96ec49c63c8a1c2f": {
      "model_module": "@jupyter-widgets/base",
      "model_module_version": "2.0.0",
      "model_name": "LayoutModel",
      "state": {}
     },
     "24901ed8580c4b1589a89f27cf042249": {
      "model_module": "@jupyter-widgets/base",
      "model_module_version": "2.0.0",
      "model_name": "LayoutModel",
      "state": {}
     },
     "249392ddc42648c781c0944b14706941": {
      "model_module": "@jupyter-widgets/base",
      "model_module_version": "2.0.0",
      "model_name": "LayoutModel",
      "state": {}
     },
     "249e4be6e27445f3a723b293ed20fa62": {
      "model_module": "@jupyter-widgets/controls",
      "model_module_version": "2.0.0",
      "model_name": "ButtonModel",
      "state": {
       "description": "Create",
       "disabled": true,
       "icon": "check",
       "layout": "IPY_MODEL_6a6c43dfb1a24c9bba9ee41530cc6271",
       "style": "IPY_MODEL_7d740e382d40442f98fdcb7f45756ad3",
       "tooltip": "Create"
      }
     },
     "24a47727311541c5980e6f2fbcfb2f21": {
      "model_module": "@jupyter-widgets/controls",
      "model_module_version": "2.0.0",
      "model_name": "LabelStyleModel",
      "state": {
       "description_width": "",
       "font_family": null,
       "font_size": null,
       "font_style": null,
       "font_variant": null,
       "font_weight": null,
       "text_color": null,
       "text_decoration": null
      }
     },
     "24a55f7a64a846c887068d2feaa12d4f": {
      "model_module": "@jupyter-widgets/controls",
      "model_module_version": "2.0.0",
      "model_name": "TextStyleModel",
      "state": {
       "description_width": "",
       "font_size": null,
       "text_color": null
      }
     },
     "24cbae198edb40dda68ea3b967709177": {
      "model_module": "@jupyter-widgets/base",
      "model_module_version": "2.0.0",
      "model_name": "LayoutModel",
      "state": {}
     },
     "24ccd321855b4c59b59b72936b0dc602": {
      "model_module": "@jupyter-widgets/controls",
      "model_module_version": "2.0.0",
      "model_name": "DropdownModel",
      "state": {
       "_options_labels": [
        "Borough"
       ],
       "disabled": true,
       "index": 0,
       "layout": "IPY_MODEL_497df1d015de42628e70d3e577a90923",
       "style": "IPY_MODEL_0b73cf8e326d4a84a28162b9b647afaa"
      }
     },
     "25669241c7c74e4d94f43471181f49c3": {
      "model_module": "@jupyter-widgets/controls",
      "model_module_version": "2.0.0",
      "model_name": "LabelStyleModel",
      "state": {
       "description_width": "",
       "font_family": null,
       "font_size": null,
       "font_style": null,
       "font_variant": null,
       "font_weight": null,
       "text_color": null,
       "text_decoration": null
      }
     },
     "25e38b6265dc43e0a3cead95eca1a3af": {
      "model_module": "@jupyter-widgets/base",
      "model_module_version": "2.0.0",
      "model_name": "LayoutModel",
      "state": {}
     },
     "2689469060dc402684561b2e96df30ac": {
      "model_module": "@jupyter-widgets/base",
      "model_module_version": "2.0.0",
      "model_name": "LayoutModel",
      "state": {}
     },
     "26e3aeb55d4b4b079621a97ed0e4e123": {
      "model_module": "@jupyter-widgets/controls",
      "model_module_version": "2.0.0",
      "model_name": "CheckboxStyleModel",
      "state": {
       "description_width": ""
      }
     },
     "2706f3ecc5524657889d337dcdcb8a57": {
      "model_module": "@jupyter-widgets/controls",
      "model_module_version": "2.0.0",
      "model_name": "TextStyleModel",
      "state": {
       "description_width": "",
       "font_size": null,
       "text_color": null
      }
     },
     "272ee191748b4e41b7bb76cb3f2dd3fa": {
      "model_module": "@jupyter-widgets/controls",
      "model_module_version": "2.0.0",
      "model_name": "CheckboxStyleModel",
      "state": {
       "description_width": ""
      }
     },
     "27470675ee51448d868e323a6282599d": {
      "model_module": "@jupyter-widgets/controls",
      "model_module_version": "2.0.0",
      "model_name": "CheckboxModel",
      "state": {
       "description": "Filtering",
       "disabled": false,
       "layout": "IPY_MODEL_d5d7f0be6abd4025a8f49415f3c35497",
       "style": "IPY_MODEL_951bc37783154b3da2335bddcbf3c405",
       "value": false
      }
     },
     "276679af3f50428bad048baef763b7a9": {
      "model_module": "@jupyter-widgets/controls",
      "model_module_version": "2.0.0",
      "model_name": "LabelStyleModel",
      "state": {
       "description_width": "",
       "font_family": null,
       "font_size": null,
       "font_style": null,
       "font_variant": null,
       "font_weight": null,
       "text_color": null,
       "text_decoration": null
      }
     },
     "276d70b2bdfd41a49186ff103e1ee56b": {
      "model_module": "@jupyter-widgets/controls",
      "model_module_version": "2.0.0",
      "model_name": "LabelStyleModel",
      "state": {
       "description_width": "",
       "font_family": null,
       "font_size": null,
       "font_style": null,
       "font_variant": null,
       "font_weight": null,
       "text_color": null,
       "text_decoration": null
      }
     },
     "27782fd13db24219880e7b19ce6df73b": {
      "model_module": "@jupyter-widgets/controls",
      "model_module_version": "2.0.0",
      "model_name": "DescriptionStyleModel",
      "state": {
       "description_width": ""
      }
     },
     "27a2863d902d47d5add1e3bf41f6a7b2": {
      "model_module": "jupyter-progressivis",
      "model_module_version": "^0.1.0",
      "model_name": "VegaWidgetModel",
      "state": {
       "_df": null,
       "_img_url": "null",
       "_model_module": "jupyter-progressivis",
       "_model_module_version": "^0.1.0",
       "_opt_source": "null",
       "_spec_source": "{\"$schema\": \"https://vega.github.io/schema/vega-lite/v4.8.1.json\", \"config\": {\"view\": {\"continuousHeight\": 300, \"continuousWidth\": 400}}, \"data\": {\"name\": \"data\"}, \"layer\": [{\"encoding\": {\"color\": {\"field\": \"corr\", \"type\": \"quantitative\"}, \"x\": {\"field\": \"var2\", \"type\": \"ordinal\"}, \"y\": {\"field\": \"var\", \"type\": \"ordinal\"}}, \"height\": 400, \"mark\": \"rect\", \"width\": 400}, {\"encoding\": {\"color\": {\"condition\": {\"test\": \"(datum.corr > 0.5)\", \"value\": \"white\"}, \"value\": \"black\"}, \"text\": {\"field\": \"corr_label\", \"type\": \"nominal\"}, \"x\": {\"field\": \"var2\", \"type\": \"ordinal\", \"axis\": {\"labelAngle\": -30, \"labelLimit\": 10000}}, \"y\": {\"field\": \"var\", \"type\": \"ordinal\"}}, \"height\": 400, \"mark\": \"text\", \"width\": 400}]}",
       "_view_module": "jupyter-progressivis",
       "_view_module_version": "^0.1.0",
       "layout": "IPY_MODEL_81d7b8a7991242c488f5e348874f5f4b"
      }
     },
     "27ab03ba1ba040038b4cdfa601ca9b53": {
      "model_module": "@jupyter-widgets/controls",
      "model_module_version": "2.0.0",
      "model_name": "DropdownModel",
      "state": {
       "_options_labels": [
        "",
        ">",
        "<",
        ">=",
        "<=",
        "==",
        "!="
       ],
       "description": "& ",
       "index": 0,
       "layout": "IPY_MODEL_d730a486acc34edab37a71f46001b1c9",
       "style": "IPY_MODEL_e305d5444a764f38b9eb5868ba123d50"
      }
     },
     "27fbcd120bed47c095759b4f37c043d5": {
      "model_module": "@jupyter-widgets/controls",
      "model_module_version": "2.0.0",
      "model_name": "ButtonStyleModel",
      "state": {
       "font_family": null,
       "font_size": null,
       "font_style": null,
       "font_variant": null,
       "font_weight": null,
       "text_color": null,
       "text_decoration": null
      }
     },
     "280aefeba0d44f289041d7610a80dfaf": {
      "model_module": "@jupyter-widgets/base",
      "model_module_version": "2.0.0",
      "model_name": "LayoutModel",
      "state": {}
     },
     "284bd73f610941399a61a569cbd926bf": {
      "model_module": "@jupyter-widgets/controls",
      "model_module_version": "2.0.0",
      "model_name": "CheckboxModel",
      "state": {
       "description": "Use",
       "disabled": false,
       "layout": "IPY_MODEL_710dd6de6e134fb18ee45409dcbe27f5",
       "style": "IPY_MODEL_5a7816357dc047399773f6621b129a4e",
       "value": false
      }
     },
     "2867e627deac4cba85cb6b146eecf1c1": {
      "model_module": "@jupyter-widgets/controls",
      "model_module_version": "2.0.0",
      "model_name": "HTMLModel",
      "state": {
       "layout": "IPY_MODEL_92c7937b5a224fc48c2784614106257e",
       "style": "IPY_MODEL_85c1a10f3fbb4ecc836ab0495922e369"
      }
     },
     "28785b541e374825b884de43c82ac73c": {
      "model_module": "@jupyter-widgets/controls",
      "model_module_version": "2.0.0",
      "model_name": "DropdownModel",
      "state": {
       "_options_labels": [
        ""
       ],
       "description": "Preprocessor:",
       "disabled": true,
       "index": 0,
       "layout": "IPY_MODEL_f320446ffe9a4c45a293dcaee7d60c0d",
       "style": "IPY_MODEL_a30907aa26f64231b97e12f86b907a59"
      }
     },
     "2886874d284f47909293292f94471ddd": {
      "model_module": "@jupyter-widgets/controls",
      "model_module_version": "2.0.0",
      "model_name": "DescriptionStyleModel",
      "state": {
       "description_width": ""
      }
     },
     "288d771a69ff4022a3ec67db8831be78": {
      "model_module": "@jupyter-widgets/controls",
      "model_module_version": "2.0.0",
      "model_name": "HTMLStyleModel",
      "state": {
       "description_width": "",
       "font_size": null,
       "text_color": null
      }
     },
     "289da0f42de64edc8648a0c3eee1c168": {
      "model_module": "@jupyter-widgets/controls",
      "model_module_version": "2.0.0",
      "model_name": "ButtonModel",
      "state": {
       "description": "Apply",
       "icon": "check",
       "layout": "IPY_MODEL_9ebbd364025f47f883299c3670cb35a2",
       "style": "IPY_MODEL_f15877d2d9134ab8beb4cd38bea1b7cd",
       "tooltip": "Apply"
      }
     },
     "28b7caeb282b47e091b36bae9d4dd823": {
      "model_module": "@jupyter-widgets/controls",
      "model_module_version": "2.0.0",
      "model_name": "LabelStyleModel",
      "state": {
       "description_width": "",
       "font_family": null,
       "font_size": null,
       "font_style": null,
       "font_variant": null,
       "font_weight": null,
       "text_color": null,
       "text_decoration": null
      }
     },
     "28ee7c7750064d6b927d5995a99fc20c": {
      "model_module": "@jupyter-widgets/controls",
      "model_module_version": "2.0.0",
      "model_name": "HTMLModel",
      "state": {
       "layout": "IPY_MODEL_f68286c9040043f0824b8c65cbd1eab2",
       "placeholder": "0",
       "style": "IPY_MODEL_7b16a0289d824e2fb6bd91a9dda596dd",
       "value": "6236"
      }
     },
     "28f2580047ea44e08fc267780805bd13": {
      "model_module": "@jupyter-widgets/controls",
      "model_module_version": "2.0.0",
      "model_name": "LabelStyleModel",
      "state": {
       "description_width": "",
       "font_family": null,
       "font_size": null,
       "font_style": null,
       "font_variant": null,
       "font_weight": null,
       "text_color": null,
       "text_decoration": null
      }
     },
     "290216689bc94799a68eb4e474594716": {
      "model_module": "@jupyter-widgets/controls",
      "model_module_version": "2.0.0",
      "model_name": "CheckboxModel",
      "state": {
       "description": "Use",
       "disabled": false,
       "layout": "IPY_MODEL_7d4cc650cee44a1caec48f2043095f76",
       "style": "IPY_MODEL_49dec51d043e4e9ea86316495d2795d4",
       "value": false
      }
     },
     "29185a3df7f24fb58b451b00f265452f": {
      "model_module": "@jupyter-widgets/controls",
      "model_module_version": "2.0.0",
      "model_name": "HTMLModel",
      "state": {
       "layout": "IPY_MODEL_2c226468c36a406ba2cb2d5de419375d",
       "style": "IPY_MODEL_0f751b78164b405cb94d2ada4aa0fe15"
      }
     },
     "2951943efe39474096115fd36b1fc410": {
      "model_module": "@jupyter-widgets/controls",
      "model_module_version": "2.0.0",
      "model_name": "LabelModel",
      "state": {
       "layout": "IPY_MODEL_2373da50698848f99e71ce2543123d73",
       "style": "IPY_MODEL_0d28e67fd58046e79a40aa4da4769131",
       "value": "LocationID"
      }
     },
     "297d8405d7e74b7591685bfbc7f1bc1b": {
      "model_module": "@jupyter-widgets/controls",
      "model_module_version": "2.0.0",
      "model_name": "CheckboxModel",
      "state": {
       "description": "NA values",
       "disabled": true,
       "layout": "IPY_MODEL_0ec3b23887354077977bf9fa325ca624",
       "style": "IPY_MODEL_0235a669e8d74960a3746f738c96da88",
       "value": false
      }
     },
     "29c1c6bad8084c89b95c34574ee095ed": {
      "model_module": "@jupyter-widgets/base",
      "model_module_version": "2.0.0",
      "model_name": "LayoutModel",
      "state": {}
     },
     "2a17bdf354574897b11169e6986dc84d": {
      "model_module": "@jupyter-widgets/controls",
      "model_module_version": "2.0.0",
      "model_name": "HTMLModel",
      "state": {
       "layout": "IPY_MODEL_82c200cc992f44d7a107e843e4382fcf",
       "style": "IPY_MODEL_f3b3ab9eb67e4062a04462345e171a8d"
      }
     },
     "2a4f8c8fff224a4989296bd9c3f6df59": {
      "model_module": "@jupyter-widgets/controls",
      "model_module_version": "2.0.0",
      "model_name": "TextModel",
      "state": {
       "description": "Rename:",
       "layout": "IPY_MODEL_a67b6369b5024712919dc0939a34e7df",
       "style": "IPY_MODEL_e7c943c5bde349588d57382218d6a987",
       "value": "Borough"
      }
     },
     "2a6b9d6cb58d482a99eb0f950f8318fa": {
      "model_module": "@jupyter-widgets/controls",
      "model_module_version": "2.0.0",
      "model_name": "LabelModel",
      "state": {
       "layout": "IPY_MODEL_aef9b8ea78fe46cca9cf5a9dc227cee3",
       "style": "IPY_MODEL_50ff66426a45409793ca1b7326778090",
       "value": "Info"
      }
     },
     "2a7ef907d86d4a99a298c35e339aac55": {
      "model_module": "@jupyter-widgets/controls",
      "model_module_version": "2.0.0",
      "model_name": "CheckboxModel",
      "state": {
       "description": "Use",
       "disabled": false,
       "layout": "IPY_MODEL_328f743f38534260b5965c0da0a5b117",
       "style": "IPY_MODEL_f1ae736ecb3e431abbb3b8c80f0c87d9",
       "value": false
      }
     },
     "2aae8ba4dc974f30ab195088a151c250": {
      "model_module": "@jupyter-widgets/controls",
      "model_module_version": "2.0.0",
      "model_name": "LabelStyleModel",
      "state": {
       "description_width": "",
       "font_family": null,
       "font_size": null,
       "font_style": null,
       "font_variant": null,
       "font_weight": null,
       "text_color": null,
       "text_decoration": null
      }
     },
     "2ab7f5b5d10048baa8d996e8a70d4f9c": {
      "model_module": "@jupyter-widgets/controls",
      "model_module_version": "2.0.0",
      "model_name": "DropdownModel",
      "state": {
       "_options_labels": [
        "",
        ">",
        "<",
        ">=",
        "<=",
        "==",
        "!="
       ],
       "description": "Filter",
       "index": 0,
       "layout": "IPY_MODEL_8dfa5b3efe504d3887ffbe4d8d9e65b8",
       "style": "IPY_MODEL_d2f3ca2bbb824925b30bf72f4f27b55e"
      }
     },
     "2ae61d95c52045f3b0d5a1ef5a9896da": {
      "model_module": "@jupyter-widgets/controls",
      "model_module_version": "2.0.0",
      "model_name": "TextModel",
      "state": {
       "description": "NA values:",
       "layout": "IPY_MODEL_5da342c418934e83b8823dda18f4a23e",
       "style": "IPY_MODEL_50cb9cb87b5e4784bad44b9e89e07704"
      }
     },
     "2b126a7ee1dc4bc38ffb9361e2a0647d": {
      "model_module": "@jupyter-widgets/base",
      "model_module_version": "2.0.0",
      "model_name": "LayoutModel",
      "state": {}
     },
     "2b6e3c026bca480f89aa1647bb57d914": {
      "model_module": "@jupyter-widgets/base",
      "model_module_version": "2.0.0",
      "model_name": "LayoutModel",
      "state": {}
     },
     "2b733e3adb3646d0be299349171e239b": {
      "model_module": "@jupyter-widgets/base",
      "model_module_version": "2.0.0",
      "model_name": "LayoutModel",
      "state": {}
     },
     "2ba7df52d1534c56bd78aadc11d5120d": {
      "model_module": "@jupyter-widgets/controls",
      "model_module_version": "2.0.0",
      "model_name": "VBoxModel",
      "state": {
       "children": [
        "IPY_MODEL_65219975695a4cdc8bb433a4cac665a0",
        "IPY_MODEL_c812cda2ed7d4f6eb7be5c9f33c58c51",
        "IPY_MODEL_8aa4478d0f1342a5b978f7e25b1097e0",
        "IPY_MODEL_644e8bf81c60423db98d1f8fd8b64bba",
        "IPY_MODEL_69c83a595cfc4e50a0574f0c02877845",
        "IPY_MODEL_5fd65e0a54554d14a19decdad6809734",
        "IPY_MODEL_592067646bab483695af488baacb29c5",
        "IPY_MODEL_b84c43cb11cc485d9775ed863e05c22c"
       ],
       "layout": "IPY_MODEL_ef54a585848a451a94c058956e4fd59b"
      }
     },
     "2bb658b68a744a6b960370d884a0b228": {
      "model_module": "@jupyter-widgets/controls",
      "model_module_version": "2.0.0",
      "model_name": "CheckboxModel",
      "state": {
       "description": "Use",
       "disabled": false,
       "layout": "IPY_MODEL_13ab7caddfb74d98bca5528e1f924fe4",
       "style": "IPY_MODEL_3f73569527ea4050914df6e9d19493c8",
       "value": true
      }
     },
     "2bb6c0ae5e154ab0b0b132fa304ba579": {
      "model_module": "@jupyter-widgets/controls",
      "model_module_version": "2.0.0",
      "model_name": "DescriptionStyleModel",
      "state": {
       "description_width": ""
      }
     },
     "2bc5ed8001bd4e8496544243e732b812": {
      "model_module": "@jupyter-widgets/base",
      "model_module_version": "2.0.0",
      "model_name": "LayoutModel",
      "state": {}
     },
     "2c10a321fe674d77aebb43bd5deca02b": {
      "model_module": "@jupyter-widgets/controls",
      "model_module_version": "2.0.0",
      "model_name": "LabelModel",
      "state": {
       "layout": "IPY_MODEL_86b5c757c2974966a6ab15c5444ee47e",
       "style": "IPY_MODEL_bd28f5f03ccf48eda40820b9b91bf77d",
       "value": "*"
      }
     },
     "2c1ddc5d7f514d4bb5a5a7707e96e400": {
      "model_module": "@jupyter-widgets/controls",
      "model_module_version": "2.0.0",
      "model_name": "HTMLStyleModel",
      "state": {
       "description_width": "",
       "font_size": null,
       "text_color": null
      }
     },
     "2c226468c36a406ba2cb2d5de419375d": {
      "model_module": "@jupyter-widgets/base",
      "model_module_version": "2.0.0",
      "model_name": "LayoutModel",
      "state": {}
     },
     "2c32bf74df2f4351a9c1dadbd6874b75": {
      "model_module": "@jupyter-widgets/base",
      "model_module_version": "2.0.0",
      "model_name": "LayoutModel",
      "state": {}
     },
     "2cb4a70aca9641cb955dbc9828ff10da": {
      "model_module": "@jupyter-widgets/base",
      "model_module_version": "2.0.0",
      "model_name": "LayoutModel",
      "state": {
       "max_width": "fit-content"
      }
     },
     "2cd112d0ec0747c9aa846a939941cf34": {
      "model_module": "@jupyter-widgets/base",
      "model_module_version": "2.0.0",
      "model_name": "LayoutModel",
      "state": {}
     },
     "2cd71c717b0a4ee9847d8446a0deb729": {
      "model_module": "@jupyter-widgets/controls",
      "model_module_version": "2.0.0",
      "model_name": "LabelStyleModel",
      "state": {
       "description_width": "",
       "font_family": null,
       "font_size": null,
       "font_style": null,
       "font_variant": null,
       "font_weight": null,
       "text_color": null,
       "text_decoration": null
      }
     },
     "2d1099e60ca74e9b9ca8e1edd9bbb6ae": {
      "model_module": "@jupyter-widgets/base",
      "model_module_version": "2.0.0",
      "model_name": "LayoutModel",
      "state": {}
     },
     "2d433d7f9ba844dbbfdd10cb6a3ad487": {
      "model_module": "@jupyter-widgets/base",
      "model_module_version": "2.0.0",
      "model_name": "LayoutModel",
      "state": {}
     },
     "2d5261644d244e8e95c9c6c66b7f837e": {
      "model_module": "@jupyter-widgets/base",
      "model_module_version": "2.0.0",
      "model_name": "LayoutModel",
      "state": {}
     },
     "2d5693360625493ba5efc011e5a8a153": {
      "model_module": "@jupyter-widgets/controls",
      "model_module_version": "2.0.0",
      "model_name": "TextModel",
      "state": {
       "continuous_update": false,
       "description": "Name:",
       "disabled": true,
       "layout": "IPY_MODEL_ad7f022ac4e14c7884e67e5e0a88c5bb",
       "style": "IPY_MODEL_401847e3e94940f6bc9a9396203edf8c",
       "value": "LocationID"
      }
     },
     "2d5da0bcaba345ab8afc94e7e7f210a7": {
      "model_module": "@jupyter-widgets/controls",
      "model_module_version": "2.0.0",
      "model_name": "TabModel",
      "state": {
       "children": [
        "IPY_MODEL_8a456dd260e14298a05b5e2bad0bdc92",
        "IPY_MODEL_bac01729d32249008b26ad9cd11fb756"
       ],
       "layout": "IPY_MODEL_b187c49cb3b44c5ba8176de4931098d0",
       "selected_index": 0,
       "titles": [
        "Modules",
        "Module graph"
       ]
      }
     },
     "2d6b8d5d43254378a5b4aad70c886a0a": {
      "model_module": "@jupyter-widgets/base",
      "model_module_version": "2.0.0",
      "model_name": "LayoutModel",
      "state": {}
     },
     "2d73bb0aa27e4da88df534b7e6c7cfdc": {
      "model_module": "@jupyter-widgets/controls",
      "model_module_version": "2.0.0",
      "model_name": "FloatTextModel",
      "state": {
       "layout": "IPY_MODEL_4885af2ff61a447e8be3e86c42be9b5b",
       "step": null,
       "style": "IPY_MODEL_c07fa7e67bec496cbad79df048962733"
      }
     },
     "2d73ccc2e8444c28845a6c947a8712f5": {
      "model_module": "@jupyter-widgets/controls",
      "model_module_version": "2.0.0",
      "model_name": "TextStyleModel",
      "state": {
       "description_width": "",
       "font_size": null,
       "text_color": null
      }
     },
     "2d993e0146b3487fad1f1eb161edf42a": {
      "model_module": "@jupyter-widgets/controls",
      "model_module_version": "2.0.0",
      "model_name": "BoxModel",
      "state": {
       "children": [
        "IPY_MODEL_3c88fbe62f47445ba504acaa60cffa48"
       ],
       "layout": "IPY_MODEL_1243a7aff1484304a17ab1d783e64f0a"
      }
     },
     "2da4e3d2c987462a811b7b1e770d8d27": {
      "model_module": "@jupyter-widgets/base",
      "model_module_version": "2.0.0",
      "model_name": "LayoutModel",
      "state": {}
     },
     "2de2cc5330a441ae97348f35734c3735": {
      "model_module": "@jupyter-widgets/controls",
      "model_module_version": "2.0.0",
      "model_name": "CheckboxModel",
      "state": {
       "disabled": true,
       "indent": false,
       "layout": "IPY_MODEL_ce054123367a4a97afcbda0e5f97641e",
       "style": "IPY_MODEL_96400d1b34bd426c9b37c97cf090609f",
       "value": false
      }
     },
     "2e0703c82d0547d397426e929989c67a": {
      "model_module": "@jupyter-widgets/controls",
      "model_module_version": "2.0.0",
      "model_name": "CheckboxStyleModel",
      "state": {
       "description_width": ""
      }
     },
     "2e32ad2a76ac44498c55f33b6fe96f0a": {
      "model_module": "@jupyter-widgets/controls",
      "model_module_version": "2.0.0",
      "model_name": "TextStyleModel",
      "state": {
       "description_width": "",
       "font_size": null,
       "text_color": null
      }
     },
     "2e4be40246cd40ebbddd00f1b167210b": {
      "model_module": "@jupyter-widgets/controls",
      "model_module_version": "2.0.0",
      "model_name": "FloatTextModel",
      "state": {
       "layout": "IPY_MODEL_7d1e65c3bf104f6d96caffb7322a1ea6",
       "step": null,
       "style": "IPY_MODEL_bd95de238b46446f967cde183ca6119b"
      }
     },
     "2e5e90d9542048d0bebf9c36f7ce2c22": {
      "model_module": "@jupyter-widgets/controls",
      "model_module_version": "2.0.0",
      "model_name": "TextStyleModel",
      "state": {
       "description_width": "",
       "font_size": null,
       "text_color": null
      }
     },
     "2e6c75af70794141be1dea063b3ec894": {
      "model_module": "@jupyter-widgets/controls",
      "model_module_version": "2.0.0",
      "model_name": "ButtonModel",
      "state": {
       "description": "Save settings ...",
       "disabled": true,
       "icon": "check",
       "layout": "IPY_MODEL_a612870b2eb84542987c9ab49cb9a45f",
       "style": "IPY_MODEL_a2f13d3edbf44a3490288e5ba554c0b0",
       "tooltip": "Save settings ..."
      }
     },
     "2e9f69954e784c0e88cd3f5294af4d6d": {
      "model_module": "@jupyter-widgets/base",
      "model_module_version": "2.0.0",
      "model_name": "LayoutModel",
      "state": {}
     },
     "2eb041d228d74bc68d7719e7cbc8b8c0": {
      "model_module": "@jupyter-widgets/controls",
      "model_module_version": "2.0.0",
      "model_name": "VBoxModel",
      "state": {
       "children": [
        "IPY_MODEL_5f165f8f70854c268ee06330a3dcbe33",
        "IPY_MODEL_9c31bcab51364b60b0db5c4c8f518a36",
        "IPY_MODEL_164fec7fb9c34f8f9918c81936cc3440",
        "IPY_MODEL_8d579e70b4504b66bf679be7df785d61",
        "IPY_MODEL_12b0c9831a32467bb442f76f876fc30a",
        "IPY_MODEL_eadc34cb4ba04004a2942746a8d77eec",
        "IPY_MODEL_722e93e728404171978f009dc771e738",
        "IPY_MODEL_ee68ac9748624d068a71f93a4e62beec"
       ],
       "layout": "IPY_MODEL_aaf7bebbcb904344bc44b88b1175b744"
      }
     },
     "2ef9a0ca89bb43ccabc33b4a74efb285": {
      "model_module": "@jupyter-widgets/base",
      "model_module_version": "2.0.0",
      "model_name": "LayoutModel",
      "state": {}
     },
     "2f2f202d81b243b7828edda8c470a879": {
      "model_module": "@jupyter-widgets/controls",
      "model_module_version": "2.0.0",
      "model_name": "LabelModel",
      "state": {
       "layout": "IPY_MODEL_887deeff1cb54642859f347e8f647556",
       "style": "IPY_MODEL_3d700842ed9448e2b3ba403d84ac76b3",
       "value": "x"
      }
     },
     "2f57ea8b8c6a4377ba0f5dc311e187b4": {
      "model_module": "@jupyter-widgets/controls",
      "model_module_version": "2.0.0",
      "model_name": "ButtonModel",
      "state": {
       "description": "Start",
       "disabled": true,
       "icon": "check",
       "layout": "IPY_MODEL_b55a7930876a48919fbbbf37a27a1914",
       "style": "IPY_MODEL_ee0aeab80fdc4fa89d54c1c554dce239",
       "tooltip": "Start"
      }
     },
     "2f5ac322323b4a37a27c6213f746a404": {
      "model_module": "@jupyter-widgets/controls",
      "model_module_version": "2.0.0",
      "model_name": "LabelStyleModel",
      "state": {
       "description_width": "",
       "font_family": null,
       "font_size": null,
       "font_style": null,
       "font_variant": null,
       "font_weight": null,
       "text_color": null,
       "text_decoration": null
      }
     },
     "2f6c82196e32447ba4a1dfa651d8bb30": {
      "model_module": "@jupyter-widgets/base",
      "model_module_version": "2.0.0",
      "model_name": "LayoutModel",
      "state": {}
     },
     "2f97d17bf76f4534a9204257e9dfdc88": {
      "model_module": "@jupyter-widgets/controls",
      "model_module_version": "2.0.0",
      "model_name": "ButtonModel",
      "state": {
       "button_style": "danger",
       "icon": "trash",
       "layout": "IPY_MODEL_62c0b47905b84b0e84d6084be8548b2f",
       "style": "IPY_MODEL_07a6ade7fdbe42e486e868be26cb778e"
      }
     },
     "2faf4ea4015d41b785ba7de57b0b19b7": {
      "model_module": "@jupyter-widgets/base",
      "model_module_version": "2.0.0",
      "model_name": "LayoutModel",
      "state": {}
     },
     "2fde86d0953847bdb8a27cfda4def471": {
      "model_module": "@jupyter-widgets/controls",
      "model_module_version": "2.0.0",
      "model_name": "HTMLModel",
      "state": {
       "layout": "IPY_MODEL_5a197400b16e4f0f9c43735504ecfdc7",
       "style": "IPY_MODEL_2c1ddc5d7f514d4bb5a5a7707e96e400"
      }
     },
     "2fe11ea9b5c3486b89e9def22b8b26af": {
      "model_module": "@jupyter-widgets/base",
      "model_module_version": "2.0.0",
      "model_name": "LayoutModel",
      "state": {}
     },
     "2fff6c756f884ef2b38903d749f6fa54": {
      "model_module": "@jupyter-widgets/controls",
      "model_module_version": "2.0.0",
      "model_name": "VBoxModel",
      "state": {
       "children": [
        "IPY_MODEL_1935c998c77d4b0586d9f5660c1c1e90",
        "IPY_MODEL_33e6f42ab25349d696d7aabda6d17560",
        "IPY_MODEL_0ce7e4024e4c43ed9e4cee43debdb42c"
       ],
       "layout": "IPY_MODEL_2b733e3adb3646d0be299349171e239b"
      }
     },
     "3012270d3d6c4cf2af92722fd77e4b82": {
      "model_module": "@jupyter-widgets/controls",
      "model_module_version": "2.0.0",
      "model_name": "DropdownModel",
      "state": {
       "_options_labels": [
        "primary",
        "related"
       ],
       "disabled": true,
       "index": 1,
       "layout": "IPY_MODEL_da8a6f8321c2494b905d6c8a02c981af",
       "style": "IPY_MODEL_0b7a7968a7b64f03b02747df3c99f7c3"
      }
     },
     "3049f1cb35ae4efe85a900db769ed7ee": {
      "model_module": "@jupyter-widgets/controls",
      "model_module_version": "2.0.0",
      "model_name": "LabelModel",
      "state": {
       "layout": "IPY_MODEL_1b6d6a5847b54564a7f394ad73be556d",
       "style": "IPY_MODEL_0d0f762beee3437c940148acf96c0884",
       "value": "tpep_dropoff_datetime"
      }
     },
     "306b7ca7599d425cb15ee0d49f8a5169": {
      "model_module": "@jupyter-widgets/base",
      "model_module_version": "2.0.0",
      "model_name": "LayoutModel",
      "state": {}
     },
     "311a5804e4cd430ebcb78546aeeba002": {
      "model_module": "@jupyter-widgets/controls",
      "model_module_version": "2.0.0",
      "model_name": "HTMLModel",
      "state": {
       "layout": "IPY_MODEL_5ff9914907c8407cb197153dae0aaf8e",
       "style": "IPY_MODEL_90879dc816264cbb95d15357fc0c0a09"
      }
     },
     "312ff398e949492a9b3b2a51cdfb33d0": {
      "model_module": "@jupyter-widgets/base",
      "model_module_version": "2.0.0",
      "model_name": "LayoutModel",
      "state": {}
     },
     "313bd933d76a4ada8fbe5651ed763dbe": {
      "model_module": "@jupyter-widgets/controls",
      "model_module_version": "2.0.0",
      "model_name": "TextModel",
      "state": {
       "description": "NA values:",
       "layout": "IPY_MODEL_329fd65deb3e433b96c9d2b2784a9b0c",
       "style": "IPY_MODEL_9603dd5c4a324fb785ce3347619168c1"
      }
     },
     "314b03dc38c04229b63756ab683a2a95": {
      "model_module": "@jupyter-widgets/base",
      "model_module_version": "2.0.0",
      "model_name": "LayoutModel",
      "state": {
       "justify_content": "flex-end"
      }
     },
     "315f85ccba73437695d8ff8e6867ab11": {
      "model_module": "@jupyter-widgets/base",
      "model_module_version": "2.0.0",
      "model_name": "LayoutModel",
      "state": {}
     },
     "31a35fb130744258ada9f21614e0d0d2": {
      "model_module": "@jupyter-widgets/base",
      "model_module_version": "2.0.0",
      "model_name": "LayoutModel",
      "state": {}
     },
     "31aa10b538e243e4849847eefaa85373": {
      "model_module": "@jupyter-widgets/controls",
      "model_module_version": "2.0.0",
      "model_name": "ButtonModel",
      "state": {
       "description": "Save schema ...",
       "disabled": true,
       "icon": "check",
       "layout": "IPY_MODEL_b1601458b9074481bf1fd818bbced1d6",
       "style": "IPY_MODEL_825fb6debfcc470486f1b0bd090afd9e",
       "tooltip": "Save schema ..."
      }
     },
     "31b00a3045a849e5befe7e49c041950d": {
      "model_module": "@jupyter-widgets/controls",
      "model_module_version": "2.0.0",
      "model_name": "DescriptionStyleModel",
      "state": {
       "description_width": ""
      }
     },
     "31ba0742ed7948c4ae8b6cc6fbd56fe1": {
      "model_module": "@jupyter-widgets/base",
      "model_module_version": "2.0.0",
      "model_name": "LayoutModel",
      "state": {}
     },
     "31bf7ba0ea5f4842b4a677a0fe10d25f": {
      "model_module": "@jupyter-widgets/base",
      "model_module_version": "2.0.0",
      "model_name": "LayoutModel",
      "state": {}
     },
     "32177ba034a44f6db0b00ade614bf3ee": {
      "model_module": "@jupyter-widgets/controls",
      "model_module_version": "2.0.0",
      "model_name": "TabModel",
      "state": {
       "children": [
        "IPY_MODEL_ce61a8bdd60d48918bb74195d811183c",
        "IPY_MODEL_93a26b26f1b04c9c9ce74a134a313927",
        "IPY_MODEL_d2dfd06163524febbeaff4493926ffb4",
        "IPY_MODEL_f12d49872db340c0ae8399640a19f0b5"
       ],
       "layout": "IPY_MODEL_c6751aa4ea984e81a7d35940ca0dc815",
       "selected_index": 0,
       "titles": [
        "Delimiters",
        "Dates",
        "Header",
        "Special values"
       ]
      }
     },
     "322ca147ba6e49babd463cd165c30ff7": {
      "model_module": "@jupyter-widgets/base",
      "model_module_version": "2.0.0",
      "model_name": "LayoutModel",
      "state": {}
     },
     "3235df7a5e9d4f719c8c32bdf75b4342": {
      "model_module": "@jupyter-widgets/base",
      "model_module_version": "2.0.0",
      "model_name": "LayoutModel",
      "state": {}
     },
     "323fee37ac7b476e9bca5344b90977bb": {
      "model_module": "@jupyter-widgets/base",
      "model_module_version": "2.0.0",
      "model_name": "LayoutModel",
      "state": {}
     },
     "324451ecb1384e07a79995c30eff6201": {
      "model_module": "@jupyter-widgets/base",
      "model_module_version": "2.0.0",
      "model_name": "LayoutModel",
      "state": {}
     },
     "324d0f97d2154f9e919f009544dfcd18": {
      "model_module": "@jupyter-widgets/controls",
      "model_module_version": "2.0.0",
      "model_name": "CheckboxStyleModel",
      "state": {
       "description_width": ""
      }
     },
     "327111e33f8045c78d15506f2558f3e2": {
      "model_module": "@jupyter-widgets/controls",
      "model_module_version": "2.0.0",
      "model_name": "TextModel",
      "state": {
       "description": "Unique vals:",
       "disabled": true,
       "layout": "IPY_MODEL_13aa64aa8cac41948897839bc5073f6c",
       "style": "IPY_MODEL_93c307f14f564f188a96b75ebd0a20c1",
       "value": "99/99"
      }
     },
     "328f743f38534260b5965c0da0a5b117": {
      "model_module": "@jupyter-widgets/base",
      "model_module_version": "2.0.0",
      "model_name": "LayoutModel",
      "state": {}
     },
     "329fd65deb3e433b96c9d2b2784a9b0c": {
      "model_module": "@jupyter-widgets/base",
      "model_module_version": "2.0.0",
      "model_name": "LayoutModel",
      "state": {}
     },
     "330be4692eff4572b8ef9298f7104acf": {
      "model_module": "@jupyter-widgets/controls",
      "model_module_version": "2.0.0",
      "model_name": "HTMLStyleModel",
      "state": {
       "description_width": "",
       "font_size": null,
       "text_color": null
      }
     },
     "33172fb0ed8444529b0403fed9bbc0aa": {
      "model_module": "@jupyter-widgets/controls",
      "model_module_version": "2.0.0",
      "model_name": "HTMLStyleModel",
      "state": {
       "description_width": "",
       "font_size": null,
       "text_color": null
      }
     },
     "3320a0a1e6cc46628c80027fca384ea9": {
      "model_module": "@jupyter-widgets/controls",
      "model_module_version": "2.0.0",
      "model_name": "HTMLStyleModel",
      "state": {
       "description_width": "",
       "font_size": null,
       "text_color": null
      }
     },
     "3338b1035b714042800763275fdf0e05": {
      "model_module": "@jupyter-widgets/controls",
      "model_module_version": "2.0.0",
      "model_name": "DescriptionStyleModel",
      "state": {
       "description_width": ""
      }
     },
     "333b6c32c347490abad74e9054075925": {
      "model_module": "@jupyter-widgets/base",
      "model_module_version": "2.0.0",
      "model_name": "LayoutModel",
      "state": {}
     },
     "337f966567e14bba8944f053875a3ea3": {
      "model_module": "@jupyter-widgets/base",
      "model_module_version": "2.0.0",
      "model_name": "LayoutModel",
      "state": {}
     },
     "3385488cac614e47823987d636e23618": {
      "model_module": "@jupyter-widgets/controls",
      "model_module_version": "2.0.0",
      "model_name": "DescriptionStyleModel",
      "state": {
       "description_width": ""
      }
     },
     "33c95815c9f34f518eda6808847c4afc": {
      "model_module": "@jupyter-widgets/base",
      "model_module_version": "2.0.0",
      "model_name": "LayoutModel",
      "state": {}
     },
     "33e15871a835403eb5694ec562ee7705": {
      "model_module": "@jupyter-widgets/controls",
      "model_module_version": "2.0.0",
      "model_name": "TextStyleModel",
      "state": {
       "description_width": "",
       "font_size": null,
       "text_color": null
      }
     },
     "33e6f42ab25349d696d7aabda6d17560": {
      "model_module": "@jupyter-widgets/controls",
      "model_module_version": "2.0.0",
      "model_name": "VBoxModel",
      "state": {
       "_dom_classes": [
        "progressivis_guest_widget",
        "progressivis_guest_widget--Group_by_0"
       ],
       "children": [
        "IPY_MODEL_de9f0f4242b94a41af3a8d9392e66db7",
        "IPY_MODEL_7af2e488a2cb4338b0d3496e2d7d22fd",
        "IPY_MODEL_e5b8ae88f3dd4971be4417c5c9d030fa"
       ],
       "layout": "IPY_MODEL_4e1a3568961d4b019a74ed7303b6a1eb"
      }
     },
     "340d87573da64aefa6b47550d6b0c446": {
      "model_module": "@jupyter-widgets/controls",
      "model_module_version": "2.0.0",
      "model_name": "TextStyleModel",
      "state": {
       "description_width": "",
       "font_size": null,
       "text_color": null
      }
     },
     "34169af0f46241bf83e30eac98dbd4e3": {
      "model_module": "@jupyter-widgets/base",
      "model_module_version": "2.0.0",
      "model_name": "LayoutModel",
      "state": {}
     },
     "343cc7f998814780b33ccfe2254d62fa": {
      "model_module": "@jupyter-widgets/base",
      "model_module_version": "2.0.0",
      "model_name": "LayoutModel",
      "state": {}
     },
     "343ed33452f245ea81890ebc15436f89": {
      "model_module": "@jupyter-widgets/controls",
      "model_module_version": "2.0.0",
      "model_name": "TextareaModel",
      "state": {
       "layout": "IPY_MODEL_0955e9e47ad6496d96822056850d712f",
       "rows": 20,
       "style": "IPY_MODEL_aed30105207c408f946ab63e827dd6db",
       "value": "  name: tpep_dropoff_datetime\n  path: tpep_dropoff_datetime\n  max_definition_level: 1\n  max_repetition_level: 0\n  physical_type: INT64\n  logical_type: Timestamp(isAdjustedToUTC=false, timeUnit=microseconds, is_from_converted_type=false, force_set_converted_type=false)\n  converted_type (legacy): NONE\n  file_offset: 89550724\n  file_path: \n  physical_type: INT64\n  num_values: 13157677\n  path_in_schema: tpep_dropoff_datetime\n  is_stats_set: True\n  statistics:\n      has_min_max: True\n      min: 2015-05-01 00:00:38\n      max: 2015-07-14 15:26:51\n      null_count: 0\n      distinct_count: None\n      num_values: 13157677\n      physical_type: INT64\n      logical_type: Timestamp(isAdjustedToUTC=false, timeUnit=microseconds, is_from_converted_type=false, force_set_converted_type=false)\n      converted_type (legacy): NONE\n  geo_statistics:\n    None\n  compression: GZIP\n  encodings: ('PLAIN_DICTIONARY', 'PLAIN', 'RLE', 'PLAIN')\n  has_dictionary_page: True\n  dictionary_page_offset: 44216380\n  data_page_offset: 44793461\n  total_compressed_size: 45334344\n  total_uncompressed_size: 102363078"
      }
     },
     "344e136bea87455687216214be295d3d": {
      "model_module": "@jupyter-widgets/controls",
      "model_module_version": "2.0.0",
      "model_name": "TextareaModel",
      "state": {
       "layout": "IPY_MODEL_44dca9e76ff94956beb1cb6928cbb1df",
       "rows": 20,
       "style": "IPY_MODEL_0746ac348b524cb881694b0b703f7196",
       "value": "  name: airport_fee\n  path: airport_fee\n  max_definition_level: 1\n  max_repetition_level: 0\n  physical_type: INT32\n  logical_type: Null\n  converted_type (legacy): NONE\n  file_offset: 182477077\n  file_path: \n  physical_type: INT32\n  num_values: 13157677\n  path_in_schema: airport_fee\n  is_stats_set: False\n  statistics:\n    None\n  geo_statistics:\n    None\n  compression: GZIP\n  encodings: ('PLAIN_DICTIONARY', 'PLAIN', 'RLE')\n  has_dictionary_page: True\n  dictionary_page_offset: 182476991\n  data_page_offset: 182477025\n  total_compressed_size: 86\n  total_uncompressed_size: 46"
      }
     },
     "34b256401a984525a8415af94d46a91c": {
      "model_module": "@jupyter-widgets/controls",
      "model_module_version": "2.0.0",
      "model_name": "TextModel",
      "state": {
       "continuous_update": false,
       "description": "Name:",
       "disabled": true,
       "layout": "IPY_MODEL_4ecbff1d7ce241b49d4c309ba38d8e65",
       "style": "IPY_MODEL_4d5490da6ce54818b3a572f6175c26a5",
       "value": "LocationID"
      }
     },
     "34f7add4eb824f48b3e5058a649436db": {
      "model_module": "@jupyter-widgets/controls",
      "model_module_version": "2.0.0",
      "model_name": "CheckboxStyleModel",
      "state": {
       "description_width": ""
      }
     },
     "34fc46785eb54f7aacf3c52399be90f8": {
      "model_module": "@jupyter-widgets/base",
      "model_module_version": "2.0.0",
      "model_name": "LayoutModel",
      "state": {}
     },
     "350229761fc84b0da9cf415b4da14f5d": {
      "model_module": "@jupyter-widgets/controls",
      "model_module_version": "2.0.0",
      "model_name": "HTMLStyleModel",
      "state": {
       "description_width": "",
       "font_size": null,
       "text_color": null
      }
     },
     "353e3b8c29fe4128bde017fd08808a0b": {
      "model_module": "@jupyter-widgets/controls",
      "model_module_version": "2.0.0",
      "model_name": "CheckboxModel",
      "state": {
       "disabled": true,
       "indent": false,
       "layout": "IPY_MODEL_57a1920c0ffe45e3a2c013d652e03ac9",
       "style": "IPY_MODEL_c97adf99cd8b4e18b6d3014bb3a63e6e",
       "value": true
      }
     },
     "354ca6ce2b30485dad0a4cc8d7948ce8": {
      "model_module": "@jupyter-widgets/base",
      "model_module_version": "2.0.0",
      "model_name": "LayoutModel",
      "state": {}
     },
     "35a291a456544c3a8056edd93ae5bd4e": {
      "model_module": "@jupyter-widgets/controls",
      "model_module_version": "2.0.0",
      "model_name": "CheckboxModel",
      "state": {
       "description": "Use",
       "disabled": false,
       "layout": "IPY_MODEL_55cc7d7be6df4fc894d97ddd7e0fd3e5",
       "style": "IPY_MODEL_f9aede138a0e44faa6f920fba2a18e57",
       "value": true
      }
     },
     "35b2e8c0ace94185b46033deb7b0859a": {
      "model_module": "@jupyter-widgets/controls",
      "model_module_version": "2.0.0",
      "model_name": "LabelStyleModel",
      "state": {
       "description_width": "",
       "font_family": null,
       "font_size": null,
       "font_style": null,
       "font_variant": null,
       "font_weight": null,
       "text_color": null,
       "text_decoration": null
      }
     },
     "35d9549e400c4b4f8ba1cad5b6667a04": {
      "model_module": "@jupyter-widgets/controls",
      "model_module_version": "2.0.0",
      "model_name": "HTMLModel",
      "state": {
       "layout": "IPY_MODEL_ef4517ba92014c27b8813667bbcf38de",
       "style": "IPY_MODEL_eae9a3a0466345dab39e86624ef52684"
      }
     },
     "35fccbaade7c4353b741367365c8f77c": {
      "model_module": "@jupyter-widgets/base",
      "model_module_version": "2.0.0",
      "model_name": "LayoutModel",
      "state": {}
     },
     "35fe06f0309c4f76bacd03b8824b81a2": {
      "model_module": "@jupyter-widgets/controls",
      "model_module_version": "2.0.0",
      "model_name": "VBoxModel",
      "state": {
       "children": [
        "IPY_MODEL_9899cfcd681a4b5dacccc1e6ffebf9d8",
        "IPY_MODEL_144717c681bf4f6bb7c4f240e2a8811f"
       ],
       "layout": "IPY_MODEL_0bb7ef83c29b4cf28120c51895bf565b"
      }
     },
     "364f7eb28b9343f7abdf84e93d6b07a7": {
      "model_module": "@jupyter-widgets/controls",
      "model_module_version": "2.0.0",
      "model_name": "TextStyleModel",
      "state": {
       "description_width": "",
       "font_size": null,
       "text_color": null
      }
     },
     "3655b1fb644f49d781b38c8b54baffe0": {
      "model_module": "@jupyter-widgets/controls",
      "model_module_version": "2.0.0",
      "model_name": "HTMLStyleModel",
      "state": {
       "description_width": "",
       "font_size": null,
       "text_color": null
      }
     },
     "365a7acf7349476bb826469fd9845c8f": {
      "model_module": "@jupyter-widgets/base",
      "model_module_version": "2.0.0",
      "model_name": "LayoutModel",
      "state": {}
     },
     "36b632b46b34467b8499b0a55aba7da7": {
      "model_module": "@jupyter-widgets/base",
      "model_module_version": "2.0.0",
      "model_name": "LayoutModel",
      "state": {}
     },
     "36bdf97b1af14e74a2125d879339e6a4": {
      "model_module": "@jupyter-widgets/base",
      "model_module_version": "2.0.0",
      "model_name": "LayoutModel",
      "state": {}
     },
     "36d8b6e9b9ae47ac921de40477a4e939": {
      "model_module": "@jupyter-widgets/controls",
      "model_module_version": "2.0.0",
      "model_name": "LabelModel",
      "state": {
       "layout": "IPY_MODEL_d253cbbe01e3446c909e9efa285d02da",
       "style": "IPY_MODEL_f61eb5ac4c114208be6770fc84d5f8bb",
       "value": "primary"
      }
     },
     "36f08bea523940059c6c5ce410814fb2": {
      "model_module": "@jupyter-widgets/controls",
      "model_module_version": "2.0.0",
      "model_name": "ButtonStyleModel",
      "state": {
       "font_family": null,
       "font_size": null,
       "font_style": null,
       "font_variant": null,
       "font_weight": null,
       "text_color": null,
       "text_decoration": null
      }
     },
     "36f41302dd06429db87e2b68910db12c": {
      "model_module": "@jupyter-widgets/base",
      "model_module_version": "2.0.0",
      "model_name": "LayoutModel",
      "state": {}
     },
     "370b14b50e074665b4d55697b413acf3": {
      "model_module": "@jupyter-widgets/controls",
      "model_module_version": "2.0.0",
      "model_name": "TextStyleModel",
      "state": {
       "description_width": "",
       "font_size": null,
       "text_color": null
      }
     },
     "377da39544be4a2088a02850fb2f8693": {
      "model_module": "@jupyter-widgets/controls",
      "model_module_version": "2.0.0",
      "model_name": "LabelStyleModel",
      "state": {
       "description_width": "",
       "font_family": null,
       "font_size": null,
       "font_style": null,
       "font_variant": null,
       "font_weight": null,
       "text_color": null,
       "text_decoration": null
      }
     },
     "3791c96dc8824119a74ed4db79f44d82": {
      "model_module": "@jupyter-widgets/controls",
      "model_module_version": "2.0.0",
      "model_name": "LabelStyleModel",
      "state": {
       "description_width": "",
       "font_family": null,
       "font_size": null,
       "font_style": null,
       "font_variant": null,
       "font_weight": null,
       "text_color": null,
       "text_decoration": null
      }
     },
     "37963a9f72e24ba48103b283e5a34baa": {
      "model_module": "@jupyter-widgets/base",
      "model_module_version": "2.0.0",
      "model_name": "LayoutModel",
      "state": {}
     },
     "3830e2b40f7b48aeabd7682ba7928eed": {
      "model_module": "@jupyter-widgets/base",
      "model_module_version": "2.0.0",
      "model_name": "LayoutModel",
      "state": {
       "width": "100%"
      }
     },
     "3834a5c30ab549c49402f614e64c47ec": {
      "model_module": "@jupyter-widgets/base",
      "model_module_version": "2.0.0",
      "model_name": "LayoutModel",
      "state": {}
     },
     "384943c2fe2246039d537de286fec47d": {
      "model_module": "@jupyter-widgets/controls",
      "model_module_version": "2.0.0",
      "model_name": "TextStyleModel",
      "state": {
       "description_width": "",
       "font_size": null,
       "text_color": null
      }
     },
     "3869a895bd024babad1491a013cb0069": {
      "model_module": "@jupyter-widgets/base",
      "model_module_version": "2.0.0",
      "model_name": "LayoutModel",
      "state": {}
     },
     "3888a775150a4fa6a024e0afb418cde1": {
      "model_module": "@jupyter-widgets/controls",
      "model_module_version": "2.0.0",
      "model_name": "ButtonModel",
      "state": {
       "description": "Chain it",
       "disabled": true,
       "icon": "check",
       "layout": "IPY_MODEL_9998f93d223d461ead84ea80173ec07e",
       "style": "IPY_MODEL_4310f09f45d149bf8aec54bed111339a",
       "tooltip": "Chain it"
      }
     },
     "39181a07f295416e840aa4e46b9a19b4": {
      "model_module": "@jupyter-widgets/base",
      "model_module_version": "2.0.0",
      "model_name": "LayoutModel",
      "state": {}
     },
     "392b9f9df64048dc9359b21bb3210056": {
      "model_module": "@jupyter-widgets/controls",
      "model_module_version": "2.0.0",
      "model_name": "ButtonModel",
      "state": {
       "button_style": "danger",
       "icon": "trash",
       "layout": "IPY_MODEL_33c95815c9f34f518eda6808847c4afc",
       "style": "IPY_MODEL_27fbcd120bed47c095759b4f37c043d5"
      }
     },
     "394faec982e1465ea8dbb59920a20867": {
      "model_module": "@jupyter-widgets/controls",
      "model_module_version": "2.0.0",
      "model_name": "LabelStyleModel",
      "state": {
       "description_width": "",
       "font_family": null,
       "font_size": null,
       "font_style": null,
       "font_variant": null,
       "font_weight": null,
       "text_color": null,
       "text_decoration": null
      }
     },
     "397e52935e7946059451885224902230": {
      "model_module": "@jupyter-widgets/base",
      "model_module_version": "2.0.0",
      "model_name": "LayoutModel",
      "state": {}
     },
     "39a1b8c067cb4bbbab1743ea6afab796": {
      "model_module": "@jupyter-widgets/controls",
      "model_module_version": "2.0.0",
      "model_name": "CheckboxModel",
      "state": {
       "disabled": true,
       "indent": false,
       "layout": "IPY_MODEL_b109afb67f684e58af8e723f0d6b5e8c",
       "style": "IPY_MODEL_c986664a6b174889963386a7b03f6ea2",
       "value": false
      }
     },
     "39b728c9da5d47089bb227c8c4546e43": {
      "model_module": "@jupyter-widgets/base",
      "model_module_version": "2.0.0",
      "model_name": "LayoutModel",
      "state": {}
     },
     "39e9fe16918b46c985dfea8426f33476": {
      "model_module": "@jupyter-widgets/base",
      "model_module_version": "2.0.0",
      "model_name": "LayoutModel",
      "state": {}
     },
     "39fd39aa864646af9cde5c3a99c60dd9": {
      "model_module": "@jupyter-widgets/controls",
      "model_module_version": "2.0.0",
      "model_name": "CheckboxStyleModel",
      "state": {
       "description_width": ""
      }
     },
     "3aac2b00383b48f3a06d9366b2ff56aa": {
      "model_module": "@jupyter-widgets/controls",
      "model_module_version": "2.0.0",
      "model_name": "ButtonStyleModel",
      "state": {
       "font_family": null,
       "font_size": null,
       "font_style": null,
       "font_variant": null,
       "font_weight": null,
       "text_color": null,
       "text_decoration": null
      }
     },
     "3aafaccada1041abb2d3ad1ada26cfd6": {
      "model_module": "@jupyter-widgets/controls",
      "model_module_version": "2.0.0",
      "model_name": "DescriptionStyleModel",
      "state": {
       "description_width": ""
      }
     },
     "3ab08ff9050e4e14b50a860cce85c091": {
      "model_module": "@jupyter-widgets/base",
      "model_module_version": "2.0.0",
      "model_name": "LayoutModel",
      "state": {}
     },
     "3ad9e4e57d254b6380802b7a6fb816b0": {
      "model_module": "@jupyter-widgets/base",
      "model_module_version": "2.0.0",
      "model_name": "LayoutModel",
      "state": {}
     },
     "3b0d105d8a444660819588e6786c3e3e": {
      "model_module": "@jupyter-widgets/controls",
      "model_module_version": "2.0.0",
      "model_name": "LabelStyleModel",
      "state": {
       "description_width": "",
       "font_family": null,
       "font_size": null,
       "font_style": null,
       "font_variant": null,
       "font_weight": null,
       "text_color": null,
       "text_decoration": null
      }
     },
     "3b23e8e247aa4d91894a5fab4a9371a0": {
      "model_module": "@jupyter-widgets/base",
      "model_module_version": "2.0.0",
      "model_name": "LayoutModel",
      "state": {}
     },
     "3bd6e624ba56412b948941c3f4d091ef": {
      "model_module": "@jupyter-widgets/controls",
      "model_module_version": "2.0.0",
      "model_name": "HTMLModel",
      "state": {
       "layout": "IPY_MODEL_8e1229a5744f425ab959745d118093a9",
       "style": "IPY_MODEL_1b12dd1d2de841c5af29a37d6ebedc41"
      }
     },
     "3c1b8c73238846a8af44c1bf0d973158": {
      "model_module": "@jupyter-widgets/controls",
      "model_module_version": "2.0.0",
      "model_name": "CheckboxStyleModel",
      "state": {
       "description_width": ""
      }
     },
     "3c88fbe62f47445ba504acaa60cffa48": {
      "model_module": "@jupyter-widgets/controls",
      "model_module_version": "2.0.0",
      "model_name": "VBoxModel",
      "state": {
       "children": [
        "IPY_MODEL_acaabfad20554522bffb174e8670e08c",
        "IPY_MODEL_6128e2f2fd534cae9f70912aa820fb2f"
       ],
       "layout": "IPY_MODEL_b5b6f8b8d5884b6895c174c59e55b63b"
      }
     },
     "3cad7e712aa2424b95de2a425c91d4f9": {
      "model_module": "@jupyter-widgets/base",
      "model_module_version": "2.0.0",
      "model_name": "LayoutModel",
      "state": {}
     },
     "3cb051e7629545e385718404379504ab": {
      "model_module": "@jupyter-widgets/controls",
      "model_module_version": "2.0.0",
      "model_name": "LabelModel",
      "state": {
       "layout": "IPY_MODEL_e9d752651c35447d95e0ad882b5f058c",
       "style": "IPY_MODEL_35b2e8c0ace94185b46033deb7b0859a",
       "value": "Key"
      }
     },
     "3cbce25bd7224c129ec5c11bd0e6b57a": {
      "model_module": "@jupyter-widgets/controls",
      "model_module_version": "2.0.0",
      "model_name": "HTMLModel",
      "state": {
       "layout": "IPY_MODEL_a2a8b15c43af4c45b45f13a6bab15448",
       "style": "IPY_MODEL_e79d5ccd7b374614b269f2e104c5123c"
      }
     },
     "3cee154715224999977c978fd81acdaa": {
      "model_module": "@jupyter-widgets/controls",
      "model_module_version": "2.0.0",
      "model_name": "CheckboxModel",
      "state": {
       "description": "m",
       "disabled": false,
       "indent": false,
       "layout": "IPY_MODEL_2d433d7f9ba844dbbfdd10cb6a3ad487",
       "style": "IPY_MODEL_52054cd4b024403fb29d98818c56e2e4",
       "value": true
      }
     },
     "3cf8a0057b114c71801b08e86f123ab7": {
      "model_module": "@jupyter-widgets/base",
      "model_module_version": "2.0.0",
      "model_name": "LayoutModel",
      "state": {}
     },
     "3cfb24e03f484d1ca347b11dd97ec048": {
      "model_module": "@jupyter-widgets/base",
      "model_module_version": "2.0.0",
      "model_name": "LayoutModel",
      "state": {}
     },
     "3d27542c495e40909a47af548d5c4416": {
      "model_module": "@jupyter-widgets/controls",
      "model_module_version": "2.0.0",
      "model_name": "HTMLStyleModel",
      "state": {
       "description_width": "",
       "font_size": null,
       "text_color": null
      }
     },
     "3d38adcc04e54860819a8dba4c23f4f4": {
      "model_module": "@jupyter-widgets/controls",
      "model_module_version": "2.0.0",
      "model_name": "DropdownModel",
      "state": {
       "_options_labels": [
        "",
        ">",
        "<",
        ">=",
        "<=",
        "==",
        "!="
       ],
       "description": "& ",
       "index": 0,
       "layout": "IPY_MODEL_8dfa5b3efe504d3887ffbe4d8d9e65b8",
       "style": "IPY_MODEL_1011b35b70574181867c024b80892456"
      }
     },
     "3d4a6aaba4794d19a7fad1bc7c8da59e": {
      "model_module": "@jupyter-widgets/controls",
      "model_module_version": "2.0.0",
      "model_name": "HBoxModel",
      "state": {
       "children": [
        "IPY_MODEL_0caec78c53aa4417be77c4903f2a6fde",
        "IPY_MODEL_69e28fc662444d8fb9ead8ef64cb7858"
       ],
       "layout": "IPY_MODEL_84d8bafc597a4656b625173e894f89eb"
      }
     },
     "3d5011ab9b7948de9c917e1783e0ad67": {
      "model_module": "@jupyter-widgets/base",
      "model_module_version": "2.0.0",
      "model_name": "LayoutModel",
      "state": {}
     },
     "3d700842ed9448e2b3ba403d84ac76b3": {
      "model_module": "@jupyter-widgets/controls",
      "model_module_version": "2.0.0",
      "model_name": "LabelStyleModel",
      "state": {
       "description_width": "",
       "font_family": null,
       "font_size": null,
       "font_style": null,
       "font_variant": null,
       "font_weight": null,
       "text_color": null,
       "text_decoration": null
      }
     },
     "3d7484e3cd424e618fbede4328109613": {
      "model_module": "@jupyter-widgets/controls",
      "model_module_version": "2.0.0",
      "model_name": "VBoxModel",
      "state": {
       "children": [
        "IPY_MODEL_c2773c1b565d46f3acffb778029c5142",
        "IPY_MODEL_fab51221164646688cfbce44ec9f7c44"
       ],
       "layout": "IPY_MODEL_69048d1460074142a9c9ee6f5f49e201"
      }
     },
     "3dcb0a90acbb43fa8db4c76457e47764": {
      "model_module": "@jupyter-widgets/controls",
      "model_module_version": "2.0.0",
      "model_name": "IntTextModel",
      "state": {
       "description": "Max rows to sniff:",
       "disabled": true,
       "layout": "IPY_MODEL_12d0e30ffca943f5a52bc1ccbd642e18",
       "step": 1,
       "style": "IPY_MODEL_1d217a5a8385469a9ec87bf60f5bc3c6",
       "value": 100
      }
     },
     "3dd4e903581a4a549273c5fcbc5f9b51": {
      "model_module": "@jupyter-widgets/base",
      "model_module_version": "2.0.0",
      "model_name": "LayoutModel",
      "state": {
       "max_width": "100px"
      }
     },
     "3e0dada7ab8346d3b8594f71ff44f901": {
      "model_module": "@jupyter-widgets/base",
      "model_module_version": "2.0.0",
      "model_name": "LayoutModel",
      "state": {
       "justify_content": "flex-end"
      }
     },
     "3e319cd44d264c5f90b320e3ef0ffb00": {
      "model_module": "@jupyter-widgets/controls",
      "model_module_version": "2.0.0",
      "model_name": "TextModel",
      "state": {
       "description": "Rename:",
       "layout": "IPY_MODEL_ee5135b6dd0d4643924516048a69686f",
       "style": "IPY_MODEL_340d87573da64aefa6b47550d6b0c446",
       "value": "LocationID"
      }
     },
     "3e6830b7f838443b98d79583fdc6d7f9": {
      "model_module": "@jupyter-widgets/controls",
      "model_module_version": "2.0.0",
      "model_name": "CheckboxStyleModel",
      "state": {
       "description_width": ""
      }
     },
     "3e76e09c4cc94261b8e88e886a7e138a": {
      "model_module": "@jupyter-widgets/controls",
      "model_module_version": "2.0.0",
      "model_name": "TextStyleModel",
      "state": {
       "description_width": "initial",
       "font_size": null,
       "text_color": null
      }
     },
     "3e99f6b06b524c81b729ba23c16eb1d1": {
      "model_module": "@jupyter-widgets/controls",
      "model_module_version": "2.0.0",
      "model_name": "DescriptionStyleModel",
      "state": {
       "description_width": ""
      }
     },
     "3ea2a5a093254d51aea86eab315afcd1": {
      "model_module": "@jupyter-widgets/controls",
      "model_module_version": "2.0.0",
      "model_name": "VBoxModel",
      "state": {
       "children": [
        "IPY_MODEL_83a13d6b8f71451293a4dbdb15b745f5",
        "IPY_MODEL_8a69521838a149f198661e92782af643"
       ],
       "layout": "IPY_MODEL_3869a895bd024babad1491a013cb0069"
      }
     },
     "3f17a14371284c2ebca57c86ec474a00": {
      "model_module": "@jupyter-widgets/controls",
      "model_module_version": "2.0.0",
      "model_name": "FloatTextModel",
      "state": {
       "layout": "IPY_MODEL_f63279b244844604a33ca136b60292ab",
       "step": null,
       "style": "IPY_MODEL_76a71e391c094694ac8d92135d3a56a7"
      }
     },
     "3f1b95bccfec4a3fbf4a7a52c528d84e": {
      "model_module": "@jupyter-widgets/output",
      "model_module_version": "1.0.0",
      "model_name": "OutputModel",
      "state": {
       "layout": "IPY_MODEL_9d25e2bd526d46aca7782551eef9b160"
      }
     },
     "3f1ede9939d74c44a809e01279c0e892": {
      "model_module": "@jupyter-widgets/controls",
      "model_module_version": "2.0.0",
      "model_name": "CheckboxStyleModel",
      "state": {
       "description_width": ""
      }
     },
     "3f50f2c36f934266b5d0b5370240f0d4": {
      "model_module": "@jupyter-widgets/controls",
      "model_module_version": "2.0.0",
      "model_name": "CheckboxStyleModel",
      "state": {
       "description_width": ""
      }
     },
     "3f73569527ea4050914df6e9d19493c8": {
      "model_module": "@jupyter-widgets/controls",
      "model_module_version": "2.0.0",
      "model_name": "CheckboxStyleModel",
      "state": {
       "description_width": ""
      }
     },
     "3f7c7b4375244363b4c94145cadc61ca": {
      "model_module": "@jupyter-widgets/base",
      "model_module_version": "2.0.0",
      "model_name": "LayoutModel",
      "state": {}
     },
     "3f8c03600ea445399835ca8c348afe24": {
      "model_module": "@jupyter-widgets/base",
      "model_module_version": "2.0.0",
      "model_name": "LayoutModel",
      "state": {}
     },
     "3f9a2e9503cd40ce98beca62ee07592c": {
      "model_module": "@jupyter-widgets/controls",
      "model_module_version": "2.0.0",
      "model_name": "GridBoxModel",
      "state": {
       "children": [
        "IPY_MODEL_41b25d3aed0f4491b6715d7bfe1963cf",
        "IPY_MODEL_df8a4aa07fac4974bd5380e1461380c3",
        "IPY_MODEL_f20add2b903c46169ca7fe977287cfce",
        "IPY_MODEL_36d8b6e9b9ae47ac921de40477a4e939",
        "IPY_MODEL_c5b9b23fb7d6446aaa59758fdc931ca2",
        "IPY_MODEL_3012270d3d6c4cf2af92722fd77e4b82"
       ],
       "layout": "IPY_MODEL_48c6734ee7c1421c84d1b01353d48f86"
      }
     },
     "3fdb1ae52acc4e7db963bc502684ce28": {
      "model_module": "@jupyter-widgets/controls",
      "model_module_version": "2.0.0",
      "model_name": "DropdownModel",
      "state": {
       "_options_labels": [
        "",
        "scatterplot.json",
        "bar_chart.json",
        "line_chart.json"
       ],
       "description": "Schemas",
       "disabled": true,
       "index": 2,
       "layout": "IPY_MODEL_b084d73fd1fb4075ab677119427e723b",
       "style": "IPY_MODEL_9dcdf4a4d4ae4823a05a42ec1f5dfb96"
      }
     },
     "3ffd7e069fa6444b890d453ba4ddd333": {
      "model_module": "@jupyter-widgets/base",
      "model_module_version": "2.0.0",
      "model_name": "LayoutModel",
      "state": {}
     },
     "401847e3e94940f6bc9a9396203edf8c": {
      "model_module": "@jupyter-widgets/controls",
      "model_module_version": "2.0.0",
      "model_name": "TextStyleModel",
      "state": {
       "description_width": "",
       "font_size": null,
       "text_color": null
      }
     },
     "4022b11619324dc2bc28474ebe73246a": {
      "model_module": "@jupyter-widgets/controls",
      "model_module_version": "2.0.0",
      "model_name": "HTMLModel",
      "state": {
       "layout": "IPY_MODEL_d5a7ee2dc940497fa8011de3b380969e",
       "style": "IPY_MODEL_c63619f511fe473fbe40677fae27798c"
      }
     },
     "4022f023554645abad018c3beb0b2325": {
      "model_module": "@jupyter-widgets/base",
      "model_module_version": "2.0.0",
      "model_name": "LayoutModel",
      "state": {}
     },
     "4031b421af0d4a2bb9f36154b3c84433": {
      "model_module": "@jupyter-widgets/controls",
      "model_module_version": "2.0.0",
      "model_name": "TextStyleModel",
      "state": {
       "description_width": "",
       "font_size": null,
       "text_color": null
      }
     },
     "405cebdb45b54fe1aedb063d9c684790": {
      "model_module": "@jupyter-widgets/controls",
      "model_module_version": "2.0.0",
      "model_name": "DescriptionStyleModel",
      "state": {
       "description_width": ""
      }
     },
     "4063897f1c6f4c65a00703042d25b662": {
      "model_module": "@jupyter-widgets/base",
      "model_module_version": "2.0.0",
      "model_name": "LayoutModel",
      "state": {
       "width": "100%"
      }
     },
     "4065b604942d41db892b2705ee196a0c": {
      "model_module": "@jupyter-widgets/base",
      "model_module_version": "2.0.0",
      "model_name": "LayoutModel",
      "state": {}
     },
     "407e10091b6d4c24838a3bf319f7f95b": {
      "model_module": "@jupyter-widgets/base",
      "model_module_version": "2.0.0",
      "model_name": "LayoutModel",
      "state": {}
     },
     "408a7fcb568f4248bacbf824e4640050": {
      "model_module": "@jupyter-widgets/base",
      "model_module_version": "2.0.0",
      "model_name": "LayoutModel",
      "state": {}
     },
     "40bf87fa43ba4d048df7868e27a6db46": {
      "model_module": "@jupyter-widgets/controls",
      "model_module_version": "2.0.0",
      "model_name": "HTMLModel",
      "state": {
       "layout": "IPY_MODEL_e1912e6a5072428e9b50d1dd67f4c26b",
       "style": "IPY_MODEL_e1d109c6b59948ac82fb74027dd54ff9"
      }
     },
     "40d3f0a9522b4925997638a0c91f8917": {
      "model_module": "@jupyter-widgets/base",
      "model_module_version": "2.0.0",
      "model_name": "LayoutModel",
      "state": {
       "width": "60%"
      }
     },
     "40d9aa0519914fe5810ac5201956c5a7": {
      "model_module": "@jupyter-widgets/controls",
      "model_module_version": "2.0.0",
      "model_name": "TextStyleModel",
      "state": {
       "description_width": "",
       "font_size": null,
       "text_color": null
      }
     },
     "40dfdb0032084254b23635bfe8046149": {
      "model_module": "@jupyter-widgets/controls",
      "model_module_version": "2.0.0",
      "model_name": "HBoxModel",
      "state": {
       "children": [
        "IPY_MODEL_c18b20c637a4489eb9711c978998b26d",
        "IPY_MODEL_020429b36fe44d109ce722bea990d471"
       ],
       "layout": "IPY_MODEL_df99b6f2f8584f7388808960c1639a6d"
      }
     },
     "411e598f9ae342d59b564fc12c1911f2": {
      "model_module": "@jupyter-widgets/base",
      "model_module_version": "2.0.0",
      "model_name": "LayoutModel",
      "state": {}
     },
     "41310dea592340aa8d3b32443af6a41c": {
      "model_module": "@jupyter-widgets/controls",
      "model_module_version": "2.0.0",
      "model_name": "CheckboxModel",
      "state": {
       "disabled": true,
       "indent": false,
       "layout": "IPY_MODEL_086d57a5e54c47deb64561769af6951f",
       "style": "IPY_MODEL_3f50f2c36f934266b5d0b5370240f0d4",
       "value": false
      }
     },
     "4143702f47e9424a860a886eccca0221": {
      "model_module": "@jupyter-widgets/controls",
      "model_module_version": "2.0.0",
      "model_name": "DropdownModel",
      "state": {
       "_options_labels": [
        "Borough",
        "passenger_count_sum",
        ""
       ],
       "disabled": true,
       "index": 0,
       "layout": "IPY_MODEL_923e30c026374b2eadd5bd11083ab164",
       "style": "IPY_MODEL_e5528539fc524f169ccd9205cf77bf92"
      }
     },
     "418c5e8aba0d428ea8414d685b1e1688": {
      "model_module": "@jupyter-widgets/controls",
      "model_module_version": "2.0.0",
      "model_name": "ButtonModel",
      "state": {
       "description": "Start loading csv ...",
       "disabled": true,
       "icon": "check",
       "layout": "IPY_MODEL_42a9dc973e0848f89a7e8313153ee3be",
       "style": "IPY_MODEL_9dbb1ef7b6d1434b99f4cd9ee57a8385",
       "tooltip": "Start loading csv ..."
      }
     },
     "41b25d3aed0f4491b6715d7bfe1963cf": {
      "model_module": "@jupyter-widgets/controls",
      "model_module_version": "2.0.0",
      "model_name": "LabelModel",
      "state": {
       "layout": "IPY_MODEL_5273a40a54ca474eafb86e5b9564ce9a",
       "style": "IPY_MODEL_c9e451ae08f946beb5da1d8485395e39",
       "value": "Inputs"
      }
     },
     "41c9ca6692454b6ab272764ebb15e7b9": {
      "model_module": "@jupyter-widgets/controls",
      "model_module_version": "2.0.0",
      "model_name": "CheckboxStyleModel",
      "state": {
       "description_width": ""
      }
     },
     "41db5a2e200a4dd1a309e49763b9a4dd": {
      "model_module": "@jupyter-widgets/base",
      "model_module_version": "2.0.0",
      "model_name": "LayoutModel",
      "state": {}
     },
     "42212da21f6446be86865425ded5cfe1": {
      "model_module": "@jupyter-widgets/base",
      "model_module_version": "2.0.0",
      "model_name": "LayoutModel",
      "state": {}
     },
     "4235818eb9264057abf6e3b1b72ae61c": {
      "model_module": "@jupyter-widgets/base",
      "model_module_version": "2.0.0",
      "model_name": "LayoutModel",
      "state": {}
     },
     "423b4e03323c46778d89f44794b0e8e0": {
      "model_module": "@jupyter-widgets/controls",
      "model_module_version": "2.0.0",
      "model_name": "HBoxModel",
      "state": {
       "children": [
        "IPY_MODEL_f836d3392c6845169d01daaeaaa16a33",
        "IPY_MODEL_f2b8da86ecd34d478d28a2ae974da852",
        "IPY_MODEL_4f966a17462748f1941e4517a2281e0e",
        "IPY_MODEL_16a5bcf9ebba4e16bb61958035093288"
       ],
       "layout": "IPY_MODEL_d182dbf1bdb24f06903679cfedec86bb"
      }
     },
     "426b942696cd45dd99d0b46f0aed6af6": {
      "model_module": "@jupyter-widgets/controls",
      "model_module_version": "2.0.0",
      "model_name": "CheckboxModel",
      "state": {
       "disabled": true,
       "indent": false,
       "layout": "IPY_MODEL_ce35b71744fa4eaa940e2e5f8461efa4",
       "style": "IPY_MODEL_f1a5d394580d4087b4e2a5e8d8e6ce7c",
       "value": true
      }
     },
     "42a9dc973e0848f89a7e8313153ee3be": {
      "model_module": "@jupyter-widgets/base",
      "model_module_version": "2.0.0",
      "model_name": "LayoutModel",
      "state": {}
     },
     "42d172b71cdb47f1913195a37db00ab6": {
      "model_module": "@jupyter-widgets/controls",
      "model_module_version": "2.0.0",
      "model_name": "HBoxModel",
      "state": {
       "layout": "IPY_MODEL_ac0e485fd9d0433499584233520c888c"
      }
     },
     "42d8f6ef31434a249d2a9394a2430471": {
      "model_module": "@jupyter-widgets/controls",
      "model_module_version": "2.0.0",
      "model_name": "VBoxModel",
      "state": {
       "_dom_classes": [
        "progressivis_guest_widget",
        "progressivis_guest_widget--Taxis_0"
       ],
       "children": [
        "IPY_MODEL_9e6d80b187834300a550bebb074c4d7f",
        "IPY_MODEL_6b4c8cac39804e488c21db457a9a1a33",
        "IPY_MODEL_0f4f4c8cc81340839838bf333607cf24",
        "IPY_MODEL_9f50f09053034a23b57a9232d03918f3",
        "IPY_MODEL_2a17bdf354574897b11169e6986dc84d",
        "IPY_MODEL_a8d6f247adbe4ab9b1cfaf37b48a0ee3",
        "IPY_MODEL_6de2c5656e4b4fdd8ee7e7a8aafb0ada",
        "IPY_MODEL_ef160d99c06b43d5a21df5f77feee79f",
        "IPY_MODEL_423b4e03323c46778d89f44794b0e8e0"
       ],
       "layout": "IPY_MODEL_58d9556f26464f9a94fd2b5c3b86805f"
      }
     },
     "42e4e8c75d5f4dd3b73f8415255d6e67": {
      "model_module": "@jupyter-widgets/controls",
      "model_module_version": "2.0.0",
      "model_name": "CheckboxStyleModel",
      "state": {
       "description_width": ""
      }
     },
     "4310f09f45d149bf8aec54bed111339a": {
      "model_module": "@jupyter-widgets/controls",
      "model_module_version": "2.0.0",
      "model_name": "ButtonStyleModel",
      "state": {
       "font_family": null,
       "font_size": null,
       "font_style": null,
       "font_variant": null,
       "font_weight": null,
       "text_color": null,
       "text_decoration": null
      }
     },
     "434322d0238b48bca94cc1cba29eb747": {
      "model_module": "@jupyter-widgets/controls",
      "model_module_version": "2.0.0",
      "model_name": "HBoxModel",
      "state": {
       "children": [
        "IPY_MODEL_9d0b029339944fb1b9b98325eabbcf1e",
        "IPY_MODEL_e155183a5b104cf69cd5d6b8af7ec3d4"
       ],
       "layout": "IPY_MODEL_0d52032c093446e28d63489686285a68"
      }
     },
     "439d55b9242c4af2bd85f560ca0fa7cf": {
      "model_module": "@jupyter-widgets/controls",
      "model_module_version": "2.0.0",
      "model_name": "TextStyleModel",
      "state": {
       "description_width": "",
       "font_size": null,
       "text_color": null
      }
     },
     "43a0c3290d34444e96661ab259fe9b8d": {
      "model_module": "@jupyter-widgets/controls",
      "model_module_version": "2.0.0",
      "model_name": "FloatTextModel",
      "state": {
       "layout": "IPY_MODEL_92b04f24ad5844cebb5e6e008ebaf304",
       "step": null,
       "style": "IPY_MODEL_00cd44c3b79041fcaca774e67d89bc24"
      }
     },
     "43cad7a9166d4a4ea525954978406ea8": {
      "model_module": "@jupyter-widgets/controls",
      "model_module_version": "2.0.0",
      "model_name": "ButtonStyleModel",
      "state": {
       "font_family": null,
       "font_size": null,
       "font_style": null,
       "font_variant": null,
       "font_weight": null,
       "text_color": null,
       "text_decoration": null
      }
     },
     "43d06922b1da440396ea9d1a4dc0bbef": {
      "model_module": "@jupyter-widgets/controls",
      "model_module_version": "2.0.0",
      "model_name": "CheckboxStyleModel",
      "state": {
       "description_width": ""
      }
     },
     "43d84213c9324e9297c8f4366d79e650": {
      "model_module": "@jupyter-widgets/base",
      "model_module_version": "2.0.0",
      "model_name": "LayoutModel",
      "state": {}
     },
     "44367f18d042484ba201db6451884176": {
      "model_module": "@jupyter-widgets/base",
      "model_module_version": "2.0.0",
      "model_name": "LayoutModel",
      "state": {}
     },
     "4445171ac563476eb5bf97bd04cb46fc": {
      "model_module": "@jupyter-widgets/controls",
      "model_module_version": "2.0.0",
      "model_name": "ButtonModel",
      "state": {
       "description": "Test",
       "disabled": true,
       "layout": "IPY_MODEL_57717bd1edb14151ac5b542432e1f8cc",
       "style": "IPY_MODEL_6d5e87f4f6f34022a2e0f95211f7b9a7",
       "tooltip": null
      }
     },
     "444ca50f2b534b62b40f41467a727207": {
      "model_module": "@jupyter-widgets/base",
      "model_module_version": "2.0.0",
      "model_name": "LayoutModel",
      "state": {}
     },
     "4471bd3e7ddf48ceb1a722c51c7c0f55": {
      "model_module": "@jupyter-widgets/controls",
      "model_module_version": "2.0.0",
      "model_name": "HTMLModel",
      "state": {
       "layout": "IPY_MODEL_bdbb33fe71ed49ddb1546448b87304c8",
       "style": "IPY_MODEL_bab746c6f64146e9817fd2a01d2f5e94"
      }
     },
     "44b3ebf0e0274ecca66bf1c60b916a31": {
      "model_module": "@jupyter-widgets/controls",
      "model_module_version": "2.0.0",
      "model_name": "CheckboxModel",
      "state": {
       "description": "Use",
       "disabled": false,
       "layout": "IPY_MODEL_21c170f8975643d5b785a7ac969bd158",
       "style": "IPY_MODEL_6e94928eb21b40ed950be55972a49b97",
       "value": false
      }
     },
     "44bdd093789f4ee983e1c39f4ab12b77": {
      "model_module": "@jupyter-widgets/controls",
      "model_module_version": "2.0.0",
      "model_name": "TextStyleModel",
      "state": {
       "description_width": "",
       "font_size": null,
       "text_color": null
      }
     },
     "44d78c2951b6483d8b63e8413a4059b9": {
      "model_module": "@jupyter-widgets/base",
      "model_module_version": "2.0.0",
      "model_name": "LayoutModel",
      "state": {}
     },
     "44dca9e76ff94956beb1cb6928cbb1df": {
      "model_module": "@jupyter-widgets/base",
      "model_module_version": "2.0.0",
      "model_name": "LayoutModel",
      "state": {}
     },
     "456e4de350a34bd7807b85d1e6a9956f": {
      "model_module": "@jupyter-widgets/base",
      "model_module_version": "2.0.0",
      "model_name": "LayoutModel",
      "state": {}
     },
     "45cb47a1ce994fb4a4648750fe5dd2ac": {
      "model_module": "@jupyter-widgets/base",
      "model_module_version": "2.0.0",
      "model_name": "LayoutModel",
      "state": {}
     },
     "45deedf54b6949fe8009be7d3b038cd6": {
      "model_module": "@jupyter-widgets/controls",
      "model_module_version": "2.0.0",
      "model_name": "TabModel",
      "state": {
       "children": [
        "IPY_MODEL_b6f922071bcb48d9a8c0960868a05175",
        "IPY_MODEL_c3aea414c05f4a5dbb8df200ed2a943a"
       ],
       "layout": "IPY_MODEL_97885dc218bb4f5f8e0cc8f026f47f57",
       "selected_index": 0,
       "titles": [
        "Main",
        "Output slots"
       ]
      }
     },
     "45fb6c4203a94702b1fa559d39679229": {
      "model_module": "@jupyter-widgets/controls",
      "model_module_version": "2.0.0",
      "model_name": "CheckboxStyleModel",
      "state": {
       "description_width": ""
      }
     },
     "460ceaf8e0e94dd38bb55b9f425a84fc": {
      "model_module": "@jupyter-widgets/controls",
      "model_module_version": "2.0.0",
      "model_name": "RadioButtonsModel",
      "state": {
       "_options_labels": [
        ",",
        ";",
        "<TAB>",
        "<SPACE>",
        ":",
        "skip initial space"
       ],
       "disabled": true,
       "index": 0,
       "layout": "IPY_MODEL_4c5aa31b2c1d4b5185fdd96baab39b10",
       "style": "IPY_MODEL_3385488cac614e47823987d636e23618"
      }
     },
     "463e3b1ddf004a62b912283ca4337d7b": {
      "model_module": "@jupyter-widgets/base",
      "model_module_version": "2.0.0",
      "model_name": "LayoutModel",
      "state": {}
     },
     "4698dbf05ee743a0a439164298f9d91b": {
      "model_module": "@jupyter-widgets/controls",
      "model_module_version": "2.0.0",
      "model_name": "HTMLModel",
      "state": {
       "layout": "IPY_MODEL_067660e4436347718c38edef4385ad3f",
       "style": "IPY_MODEL_350229761fc84b0da9cf415b4da14f5d"
      }
     },
     "46ae42f8ac724ab19d64b30de32b8445": {
      "model_module": "@jupyter-widgets/controls",
      "model_module_version": "2.0.0",
      "model_name": "IntSliderModel",
      "state": {
       "behavior": "drag-tap",
       "continuous_update": false,
       "description": "Display T:",
       "layout": "IPY_MODEL_41db5a2e200a4dd1a309e49763b9a4dd",
       "max": 10,
       "min": 1,
       "style": "IPY_MODEL_b85f6e400ed547e9b1aca4cf7b939704",
       "value": 1
      }
     },
     "46afb94d3c874a339a1d1ac5469530e9": {
      "model_module": "@jupyter-widgets/base",
      "model_module_version": "2.0.0",
      "model_name": "LayoutModel",
      "state": {}
     },
     "46b28f0013134826bb1e71f1d245ee7a": {
      "model_module": "@jupyter-widgets/base",
      "model_module_version": "2.0.0",
      "model_name": "LayoutModel",
      "state": {
       "grid_template_columns": "100px 200px 100px 100px"
      }
     },
     "472917395f9c40c081970f086a6db72a": {
      "model_module": "@jupyter-widgets/base",
      "model_module_version": "2.0.0",
      "model_name": "LayoutModel",
      "state": {}
     },
     "4733d83d61764536b867bddd3d9650a0": {
      "model_module": "@jupyter-widgets/controls",
      "model_module_version": "2.0.0",
      "model_name": "VBoxModel",
      "state": {
       "children": [
        "IPY_MODEL_4eb708973d5f43aaa0cccc6382bfd430",
        "IPY_MODEL_7cc4eb40f26648e8b39d51a8d021068c"
       ],
       "layout": "IPY_MODEL_0406dd3d8a764de6a328022019c938da"
      }
     },
     "475db1ee9c354bc6a0d6e384d6fc7000": {
      "model_module": "@jupyter-widgets/controls",
      "model_module_version": "2.0.0",
      "model_name": "LabelModel",
      "state": {
       "layout": "IPY_MODEL_7b1fd800649640f596119ead197f51f9",
       "style": "IPY_MODEL_1d5e35b51baa43728a8c787d6789e417",
       "value": "count"
      }
     },
     "476a25796afc490fa24a9285fa7da4d5": {
      "model_module": "@jupyter-widgets/controls",
      "model_module_version": "2.0.0",
      "model_name": "DescriptionStyleModel",
      "state": {
       "description_width": ""
      }
     },
     "47ff7dda35e8495ca6af3ed2b76c7fee": {
      "model_module": "@jupyter-widgets/base",
      "model_module_version": "2.0.0",
      "model_name": "LayoutModel",
      "state": {}
     },
     "4813cb35bcfc4c0db51480efe41498af": {
      "model_module": "@jupyter-widgets/jupyterlab-sidecar",
      "model_module_version": "^1.1",
      "model_name": "SidecarModel",
      "state": {
       "_model_module_version": "^1.1",
       "_view_module_version": "^1.1",
       "_widget_id": "55524893-e3be-42db-8855-04a617339871",
       "layout": "IPY_MODEL_63cacd214ae145a185a31c2d914e65b4",
       "outputs": [
        {
         "data": {
          "application/vnd.jupyter.widget-view+json": {
           "model_id": "6b75ae685c4c483bbfa4c39272aafb2f",
           "version_major": 2,
           "version_minor": 0
          },
          "text/plain": "PsBoard(children=(ControlPanel(children=(Button(description='Resume', disabled=True, icon='play', style=Button…"
         },
         "metadata": {},
         "output_type": "display_data"
        }
       ],
       "title": "Modules Output"
      }
     },
     "4852b7c2df744364adbb65e1048a9673": {
      "model_module": "@jupyter-widgets/controls",
      "model_module_version": "2.0.0",
      "model_name": "TextModel",
      "state": {
       "description": "Rename:",
       "layout": "IPY_MODEL_7a8c6461d6fa495db50f285a6dcf6e37",
       "style": "IPY_MODEL_8cb08d892377423aa3749f9dd6a80f48",
       "value": "LocationID"
      }
     },
     "485fb761b6994a2ba76bf76d37737ec2": {
      "model_module": "@jupyter-widgets/controls",
      "model_module_version": "2.0.0",
      "model_name": "TextareaModel",
      "state": {
       "layout": "IPY_MODEL_fff169730e9e465681fb7de2eaced74d",
       "rows": 20,
       "style": "IPY_MODEL_1e4cccebfb3245088ad4afbbd5e25e75",
       "value": "  name: improvement_surcharge\n  path: improvement_surcharge\n  max_definition_level: 1\n  max_repetition_level: 0\n  physical_type: DOUBLE\n  logical_type: None\n  converted_type (legacy): NONE\n  file_offset: 164724212\n  file_path: \n  physical_type: DOUBLE\n  num_values: 13157677\n  path_in_schema: improvement_surcharge\n  is_stats_set: True\n  statistics:\n      has_min_max: True\n      min: -0.3\n      max: 0.3\n      null_count: 0\n      distinct_count: None\n      num_values: 13157677\n      physical_type: DOUBLE\n      logical_type: None\n      converted_type (legacy): NONE\n  geo_statistics:\n    None\n  compression: GZIP\n  encodings: ('PLAIN_DICTIONARY', 'PLAIN', 'RLE')\n  has_dictionary_page: True\n  dictionary_page_offset: 164705964\n  data_page_offset: 164706010\n  total_compressed_size: 18248\n  total_uncompressed_size: 39233"
      }
     },
     "487cee22f51e45ae85bd7a3eece62f42": {
      "model_module": "@jupyter-widgets/base",
      "model_module_version": "2.0.0",
      "model_name": "LayoutModel",
      "state": {}
     },
     "4885af2ff61a447e8be3e86c42be9b5b": {
      "model_module": "@jupyter-widgets/base",
      "model_module_version": "2.0.0",
      "model_name": "LayoutModel",
      "state": {
       "max_width": "100px"
      }
     },
     "48beaf24fb354254b7d8aa040736e874": {
      "model_module": "@jupyter-widgets/base",
      "model_module_version": "2.0.0",
      "model_name": "LayoutModel",
      "state": {}
     },
     "48c19c98e7b345d6b80c2497c315baf0": {
      "model_module": "@jupyter-widgets/base",
      "model_module_version": "2.0.0",
      "model_name": "LayoutModel",
      "state": {}
     },
     "48c6734ee7c1421c84d1b01353d48f86": {
      "model_module": "@jupyter-widgets/base",
      "model_module_version": "2.0.0",
      "model_name": "LayoutModel",
      "state": {
       "border_bottom": "1px solid",
       "border_left": "1px solid",
       "border_right": "1px solid",
       "border_top": "1px solid",
       "grid_template_columns": "50% 50%"
      }
     },
     "48d003798a304cc79b8bd7c2265f42db": {
      "model_module": "@jupyter-widgets/controls",
      "model_module_version": "2.0.0",
      "model_name": "TextModel",
      "state": {
       "description": "NA values:",
       "layout": "IPY_MODEL_cfabafa38b7b4c01b56c9551c85351cf",
       "style": "IPY_MODEL_9124a29c4ffa41928bc0fab8b882d106"
      }
     },
     "48e44bd67cd24be59d5dbddcb178fd66": {
      "model_module": "@jupyter-widgets/base",
      "model_module_version": "2.0.0",
      "model_name": "LayoutModel",
      "state": {}
     },
     "4901df461ddc44088579d5b2788ead28": {
      "model_module": "@jupyter-widgets/base",
      "model_module_version": "2.0.0",
      "model_name": "LayoutModel",
      "state": {}
     },
     "490cbc36affe48189ad3246c1f1ede8f": {
      "model_module": "@jupyter-widgets/base",
      "model_module_version": "2.0.0",
      "model_name": "LayoutModel",
      "state": {}
     },
     "492c7a70cec84ea2860fd11996dbcee1": {
      "model_module": "@jupyter-widgets/controls",
      "model_module_version": "2.0.0",
      "model_name": "GridBoxModel",
      "state": {
       "children": [
        "IPY_MODEL_daff434326c54c72b6572b40253bcd4e",
        "IPY_MODEL_6b51bf6ce44948ac8168412fd3945e19",
        "IPY_MODEL_8f2b527432ed4342826772af40c5680e",
        "IPY_MODEL_353e3b8c29fe4128bde017fd08808a0b",
        "IPY_MODEL_c449bc71ec3c4d9ead0d22cd14e194f3",
        "IPY_MODEL_7ff2cd082ebe446d8db5ed79c996d0cd",
        "IPY_MODEL_3049f1cb35ae4efe85a900db769ed7ee",
        "IPY_MODEL_9ad1ebfd5f21439c9a10899569803ffd",
        "IPY_MODEL_b2f77fce6f5d4df1ab05d2ca563ee947",
        "IPY_MODEL_ca8499660e684d7e98f6c2b16b84f85e",
        "IPY_MODEL_a72967bb02bb4a59a7a38839a62bc41c",
        "IPY_MODEL_00be8519d400443ebe31a310e13e0bbc"
       ],
       "layout": "IPY_MODEL_5ed7a7dc7c4d42a494385c8f0bf914b4"
      }
     },
     "496fd4b5087243a98ac65fbd2a0fa7fd": {
      "model_module": "@jupyter-widgets/controls",
      "model_module_version": "2.0.0",
      "model_name": "TextStyleModel",
      "state": {
       "description_width": "",
       "font_size": null,
       "text_color": null
      }
     },
     "497df1d015de42628e70d3e577a90923": {
      "model_module": "@jupyter-widgets/base",
      "model_module_version": "2.0.0",
      "model_name": "LayoutModel",
      "state": {}
     },
     "498e3a6b5c2b4da899590671ace0c7f4": {
      "model_module": "@jupyter-widgets/controls",
      "model_module_version": "2.0.0",
      "model_name": "HTMLModel",
      "state": {
       "layout": "IPY_MODEL_7d44a661c9944196bacd0e8bd5d4257b",
       "style": "IPY_MODEL_3320a0a1e6cc46628c80027fca384ea9"
      }
     },
     "499e299f65d34e3c85d9d4eb25d16495": {
      "model_module": "@jupyter-widgets/controls",
      "model_module_version": "2.0.0",
      "model_name": "DropdownModel",
      "state": {
       "_options_labels": [
        "Borough",
        "passenger_count_sum",
        ""
       ],
       "disabled": true,
       "index": 1,
       "layout": "IPY_MODEL_191058851f264e69aeca41ffe74edbd9",
       "style": "IPY_MODEL_f056032385d54b3abb28b7b4e2edea51"
      }
     },
     "49a4ca93f1144d09b409e1e27d1e0d73": {
      "model_module": "@jupyter-widgets/base",
      "model_module_version": "2.0.0",
      "model_name": "LayoutModel",
      "state": {
       "width": "60%"
      }
     },
     "49bbda495a084dad93cfaa3467e81706": {
      "model_module": "@jupyter-widgets/controls",
      "model_module_version": "2.0.0",
      "model_name": "CheckboxStyleModel",
      "state": {
       "description_width": ""
      }
     },
     "49dde409b2d94051aec5243e892c3b22": {
      "model_module": "@jupyter-widgets/controls",
      "model_module_version": "2.0.0",
      "model_name": "LabelStyleModel",
      "state": {
       "description_width": "",
       "font_family": null,
       "font_size": null,
       "font_style": null,
       "font_variant": null,
       "font_weight": null,
       "text_color": null,
       "text_decoration": null
      }
     },
     "49dec51d043e4e9ea86316495d2795d4": {
      "model_module": "@jupyter-widgets/controls",
      "model_module_version": "2.0.0",
      "model_name": "CheckboxStyleModel",
      "state": {
       "description_width": ""
      }
     },
     "4a69835d34764929ba8639bb0073f21c": {
      "model_module": "@jupyter-widgets/base",
      "model_module_version": "2.0.0",
      "model_name": "LayoutModel",
      "state": {}
     },
     "4aa777b1bbe045b882a8bb5b35565290": {
      "model_module": "@jupyter-widgets/controls",
      "model_module_version": "2.0.0",
      "model_name": "TextModel",
      "state": {
       "description": "Type:",
       "disabled": true,
       "layout": "IPY_MODEL_bb9466a89d0949c494bbad9507f7b0d8",
       "style": "IPY_MODEL_2e5e90d9542048d0bebf9c36f7ce2c22",
       "value": "object"
      }
     },
     "4aad9d186fe54915bbdf784a425d6b79": {
      "model_module": "@jupyter-widgets/base",
      "model_module_version": "2.0.0",
      "model_name": "LayoutModel",
      "state": {}
     },
     "4af170f9246a476aa8104898fd97c92f": {
      "model_module": "@jupyter-widgets/controls",
      "model_module_version": "2.0.0",
      "model_name": "DropdownModel",
      "state": {
       "_options_labels": [
        ""
       ],
       "disabled": true,
       "index": 0,
       "layout": "IPY_MODEL_ec3dee1488e940a1bac754a986d81103",
       "style": "IPY_MODEL_11343b770f5f4a8ea87c1bd78e7cac1f"
      }
     },
     "4af7feac40ea4165ad00e3fbc0ec20de": {
      "model_module": "@jupyter-widgets/controls",
      "model_module_version": "2.0.0",
      "model_name": "DropdownModel",
      "state": {
       "_options_labels": [
        "",
        ">",
        "<",
        ">=",
        "<=",
        "==",
        "!="
       ],
       "description": "Filter",
       "index": 0,
       "layout": "IPY_MODEL_e26b24ca7f2e42aa9de1d138a45906cd",
       "style": "IPY_MODEL_74c8d3a45ec248d2954ed9b855ce77c6"
      }
     },
     "4aff001fb69a423f879b4dd77b17bb9d": {
      "model_module": "@jupyter-widgets/controls",
      "model_module_version": "2.0.0",
      "model_name": "TextModel",
      "state": {
       "description": "Separator:",
       "disabled": true,
       "layout": "IPY_MODEL_d8550aaca0d4487db0f8b1cc8cd79fe3",
       "placeholder": "if many values",
       "style": "IPY_MODEL_da7c129d295448979b4443666af84583"
      }
     },
     "4b32c26152de436db5df60882436f9ab": {
      "model_module": "@jupyter-widgets/controls",
      "model_module_version": "2.0.0",
      "model_name": "VBoxModel",
      "state": {
       "children": [
        "IPY_MODEL_344e136bea87455687216214be295d3d",
        "IPY_MODEL_739540ae98024aac82cc6c9dd156645d"
       ],
       "layout": "IPY_MODEL_d095d8069ee14f2ebb04b5d66beedbc3"
      }
     },
     "4b3b4b78d327402dafde8a56db14a6f2": {
      "model_module": "@jupyter-widgets/controls",
      "model_module_version": "2.0.0",
      "model_name": "HTMLModel",
      "state": {
       "layout": "IPY_MODEL_bbfd1d5d7a36463a82211fe40a37a554",
       "style": "IPY_MODEL_643e014e158d4adb8703e507eddad023"
      }
     },
     "4b8dfa57ad9748deaa930ae7c6a4732b": {
      "model_module": "@jupyter-widgets/controls",
      "model_module_version": "2.0.0",
      "model_name": "TextStyleModel",
      "state": {
       "description_width": "",
       "font_size": null,
       "text_color": null
      }
     },
     "4b99400e2180497f8fe2768ce19a6bef": {
      "model_module": "@jupyter-widgets/controls",
      "model_module_version": "2.0.0",
      "model_name": "VBoxModel",
      "state": {
       "children": [
        "IPY_MODEL_930d907756674f1ba80e8ead02042e64",
        "IPY_MODEL_cadac0e326dc47128a1a45347045adea",
        "IPY_MODEL_76b62fd4340b45508e3d417d995c7e05",
        "IPY_MODEL_a35556ffa03345a7b747c39e1a00b028",
        "IPY_MODEL_2bb658b68a744a6b960370d884a0b228",
        "IPY_MODEL_e78d06a607e741aa94cac7c9d0f6f7db",
        "IPY_MODEL_54280d5cb03e4b4ba0ef85e8f5981204",
        "IPY_MODEL_a3829b02a0b44defbdac80f3be0fcb1b"
       ],
       "layout": "IPY_MODEL_8856a72e06674e06accfc2a511972bdd"
      }
     },
     "4bab1818aa3b4f838dfba9d1607f09f7": {
      "model_module": "@jupyter-widgets/controls",
      "model_module_version": "2.0.0",
      "model_name": "DescriptionStyleModel",
      "state": {
       "description_width": ""
      }
     },
     "4beeec8a2a73436abc9f9e5b8d81fe5e": {
      "model_module": "@jupyter-widgets/controls",
      "model_module_version": "2.0.0",
      "model_name": "HBoxModel",
      "state": {
       "children": [
        "IPY_MODEL_db94bfde4e494e5d874292a1686441b9",
        "IPY_MODEL_8a921695ef6c4c899a16375ecb3704ee",
        "IPY_MODEL_75fd8e7971d04725aac140e8140ba9d7"
       ],
       "layout": "IPY_MODEL_70a3236afe33421c88bcc602d84a9040"
      }
     },
     "4bf67381458e4c0a9646ddac5c9e345a": {
      "model_module": "@jupyter-widgets/base",
      "model_module_version": "2.0.0",
      "model_name": "LayoutModel",
      "state": {}
     },
     "4c5aa31b2c1d4b5185fdd96baab39b10": {
      "model_module": "@jupyter-widgets/base",
      "model_module_version": "2.0.0",
      "model_name": "LayoutModel",
      "state": {}
     },
     "4c708fd6940b42c2a8a653b47332af21": {
      "model_module": "@jupyter-widgets/controls",
      "model_module_version": "2.0.0",
      "model_name": "CheckboxStyleModel",
      "state": {
       "description_width": ""
      }
     },
     "4c7bb77f41f247588e4c3baabf4deb35": {
      "model_module": "@jupyter-widgets/controls",
      "model_module_version": "2.0.0",
      "model_name": "VBoxModel",
      "state": {
       "children": [
        "IPY_MODEL_1b911bfd33ab48e1b0cb57e0cc371156",
        "IPY_MODEL_a4554c1779ca41a3b26eaee171a54d6b"
       ],
       "layout": "IPY_MODEL_b1c5cc8df467426a86995a891d9cf47c"
      }
     },
     "4c8259162a394abd8081ee3f61dd93c4": {
      "model_module": "@jupyter-widgets/controls",
      "model_module_version": "2.0.0",
      "model_name": "DropdownModel",
      "state": {
       "_options_labels": [
        "",
        ">",
        "<",
        ">=",
        "<=",
        "==",
        "!="
       ],
       "description": "Filter",
       "index": 0,
       "layout": "IPY_MODEL_17343ae1f3844d5799c52d4f38d3438c",
       "style": "IPY_MODEL_98d741f662b740d8a363467cd3a92cc3"
      }
     },
     "4c88ed8cf8b14cdca964d68551cb5301": {
      "model_module": "@jupyter-widgets/base",
      "model_module_version": "2.0.0",
      "model_name": "LayoutModel",
      "state": {}
     },
     "4cde73243e2d4fb9bdd75c5d064f1e2b": {
      "model_module": "@jupyter-widgets/controls",
      "model_module_version": "2.0.0",
      "model_name": "CheckboxModel",
      "state": {
       "disabled": true,
       "indent": false,
       "layout": "IPY_MODEL_6541f84d0c604c3f80daa66a3ba1ba78",
       "style": "IPY_MODEL_87b2ca07e8fb4724877f274ff34f4a49",
       "value": false
      }
     },
     "4d263e149a2649c2b1b460a9e5524982": {
      "model_module": "@jupyter-widgets/controls",
      "model_module_version": "2.0.0",
      "model_name": "HTMLModel",
      "state": {
       "layout": "IPY_MODEL_6ea30d93e7a0456fb0038d1d48259a00",
       "style": "IPY_MODEL_9886bd51e7524dcc91dd022cea463294"
      }
     },
     "4d5490da6ce54818b3a572f6175c26a5": {
      "model_module": "@jupyter-widgets/controls",
      "model_module_version": "2.0.0",
      "model_name": "TextStyleModel",
      "state": {
       "description_width": "",
       "font_size": null,
       "text_color": null
      }
     },
     "4d7aa60fded84306b8744dc359f3bdd9": {
      "model_module": "@jupyter-widgets/controls",
      "model_module_version": "2.0.0",
      "model_name": "HBoxModel",
      "state": {
       "layout": "IPY_MODEL_92e4e0ee4f1b4293be7f065a2583232a"
      }
     },
     "4dbb6eadbf0541c2a8b498eb3b328c01": {
      "model_module": "@jupyter-widgets/controls",
      "model_module_version": "2.0.0",
      "model_name": "TextStyleModel",
      "state": {
       "description_width": "",
       "font_size": null,
       "text_color": null
      }
     },
     "4dd0e2ef3ec34517b98a29dd7dfc823e": {
      "model_module": "@jupyter-widgets/base",
      "model_module_version": "2.0.0",
      "model_name": "LayoutModel",
      "state": {}
     },
     "4e00147f657d4c6399ce3417fd732937": {
      "model_module": "@jupyter-widgets/base",
      "model_module_version": "2.0.0",
      "model_name": "LayoutModel",
      "state": {}
     },
     "4e123c58380347738d361135a213d560": {
      "model_module": "@jupyter-widgets/controls",
      "model_module_version": "2.0.0",
      "model_name": "LabelModel",
      "state": {
       "layout": "IPY_MODEL_9f2ecb3334844bbfba13149151ec5810",
       "style": "IPY_MODEL_ce551c1e8f6349a59b644a3badec7de0"
      }
     },
     "4e1a3568961d4b019a74ed7303b6a1eb": {
      "model_module": "@jupyter-widgets/base",
      "model_module_version": "2.0.0",
      "model_name": "LayoutModel",
      "state": {}
     },
     "4e3c3e3a880c4ae2963aecd5c5f070cf": {
      "model_module": "@jupyter-widgets/controls",
      "model_module_version": "2.0.0",
      "model_name": "VBoxModel",
      "state": {
       "_dom_classes": [
        "progressivis_guest_widget",
        "progressivis_guest_widget--Aggregate_0"
       ],
       "children": [
        "IPY_MODEL_ab6300f0d23a417487227ecb649ee7e0",
        "IPY_MODEL_cfc668c8f1a44e29a32177864b1f823c",
        "IPY_MODEL_87b2eec50032459ca89fb356e9d40bb6"
       ],
       "layout": "IPY_MODEL_87711c03a66f431d9e637c78bb9c8203"
      }
     },
     "4e800d70c0d84169a2915112eb6baaf8": {
      "model_module": "@jupyter-widgets/controls",
      "model_module_version": "2.0.0",
      "model_name": "HTMLStyleModel",
      "state": {
       "description_width": "",
       "font_size": null,
       "text_color": null
      }
     },
     "4ea2c3b26c5048ce98da9014a2dae46d": {
      "model_module": "@jupyter-widgets/base",
      "model_module_version": "2.0.0",
      "model_name": "LayoutModel",
      "state": {
       "width": "60%"
      }
     },
     "4eb708973d5f43aaa0cccc6382bfd430": {
      "model_module": "@jupyter-widgets/controls",
      "model_module_version": "2.0.0",
      "model_name": "LabelModel",
      "state": {
       "layout": "IPY_MODEL_407e10091b6d4c24838a3bf319f7f95b",
       "style": "IPY_MODEL_377da39544be4a2088a02850fb2f8693",
       "value": "Selected"
      }
     },
     "4ec406a74cf74b3f8b9319904660940c": {
      "model_module": "@jupyter-widgets/controls",
      "model_module_version": "2.0.0",
      "model_name": "LabelModel",
      "state": {
       "layout": "IPY_MODEL_969a98d35d164b22bdbf509cb446cf57",
       "style": "IPY_MODEL_ca89631cae30470ca77d29271972e590",
       "value": "Columns"
      }
     },
     "4ecbff1d7ce241b49d4c309ba38d8e65": {
      "model_module": "@jupyter-widgets/base",
      "model_module_version": "2.0.0",
      "model_name": "LayoutModel",
      "state": {}
     },
     "4ed7b6a561474a58b46a74a13de884dd": {
      "model_module": "@jupyter-widgets/base",
      "model_module_version": "2.0.0",
      "model_name": "LayoutModel",
      "state": {}
     },
     "4ed835673e6b4a6e98c66eaf25fc0e1c": {
      "model_module": "@jupyter-widgets/controls",
      "model_module_version": "2.0.0",
      "model_name": "CheckboxModel",
      "state": {
       "description": "Use",
       "disabled": false,
       "layout": "IPY_MODEL_86295c82a50540d6b077f2f147605ff9",
       "style": "IPY_MODEL_d0405ffb4f01408abac72c4421693252",
       "value": false
      }
     },
     "4f110ebe1c204742867b2a3fd1a9d2ce": {
      "model_module": "@jupyter-widgets/controls",
      "model_module_version": "2.0.0",
      "model_name": "LabelModel",
      "state": {
       "layout": "IPY_MODEL_9a0c8ecb44d44d4a88556f292ee24311",
       "style": "IPY_MODEL_de1914265c65412c9d499869c9f902ee"
      }
     },
     "4f966a17462748f1941e4517a2281e0e": {
      "model_module": "@jupyter-widgets/controls",
      "model_module_version": "2.0.0",
      "model_name": "ButtonModel",
      "state": {
       "description": "Hide sniffer",
       "disabled": true,
       "icon": "check",
       "layout": "IPY_MODEL_4dd0e2ef3ec34517b98a29dd7dfc823e",
       "style": "IPY_MODEL_a6398b4de15048508f02734f9919ff05",
       "tooltip": "Sniff ..."
      }
     },
     "500e4dc905c84f64b77149ebe4b86b89": {
      "model_module": "@jupyter-widgets/controls",
      "model_module_version": "2.0.0",
      "model_name": "TextStyleModel",
      "state": {
       "description_width": "",
       "font_size": null,
       "text_color": null
      }
     },
     "50440f729f9c4f239250b5dfecea1272": {
      "model_module": "@jupyter-widgets/controls",
      "model_module_version": "2.0.0",
      "model_name": "HBoxModel",
      "state": {
       "children": [
        "IPY_MODEL_ecda74583d0342cfba9dec01f37ae4de",
        "IPY_MODEL_65f044f6a66242229979a6ac8092ec17",
        "IPY_MODEL_c9670c923f6e421e92df87a6fd2029f1"
       ],
       "layout": "IPY_MODEL_05144f5d665c4360ac83af82b94d884d"
      }
     },
     "5083832048d84db9a0fab52adc0ff2d4": {
      "model_module": "@jupyter-widgets/controls",
      "model_module_version": "2.0.0",
      "model_name": "LabelStyleModel",
      "state": {
       "description_width": "",
       "font_family": null,
       "font_size": null,
       "font_style": null,
       "font_variant": null,
       "font_weight": null,
       "text_color": null,
       "text_decoration": null
      }
     },
     "509b58c6ea884e20987b7d232f8d36ba": {
      "model_module": "@jupyter-widgets/controls",
      "model_module_version": "2.0.0",
      "model_name": "CheckboxModel",
      "state": {
       "disabled": true,
       "indent": false,
       "layout": "IPY_MODEL_ebf0f8a445234049a0ee1769d0ef9b04",
       "style": "IPY_MODEL_11a380ccc9fa41428d6b35d05abe1502",
       "value": false
      }
     },
     "50aa0ef6fbb6415d95e6ce03d32b7eee": {
      "model_module": "@jupyter-widgets/controls",
      "model_module_version": "2.0.0",
      "model_name": "CheckboxStyleModel",
      "state": {
       "description_width": ""
      }
     },
     "50ac61fc12cf472d9212d25703529e97": {
      "model_module": "@jupyter-widgets/controls",
      "model_module_version": "2.0.0",
      "model_name": "CheckboxModel",
      "state": {
       "disabled": true,
       "indent": false,
       "layout": "IPY_MODEL_e55119c7fd324335998323823044e147",
       "style": "IPY_MODEL_f8650a4e39bf4f0dabe02635d336138f",
       "value": true
      }
     },
     "50bf02037cc049fbafda64a54133ec31": {
      "model_module": "@jupyter-widgets/base",
      "model_module_version": "2.0.0",
      "model_name": "LayoutModel",
      "state": {}
     },
     "50cb9cb87b5e4784bad44b9e89e07704": {
      "model_module": "@jupyter-widgets/controls",
      "model_module_version": "2.0.0",
      "model_name": "TextStyleModel",
      "state": {
       "description_width": "",
       "font_size": null,
       "text_color": null
      }
     },
     "50dd849d209a4320bbe0285d1bb09bbf": {
      "model_module": "@jupyter-widgets/base",
      "model_module_version": "2.0.0",
      "model_name": "LayoutModel",
      "state": {}
     },
     "50ee317f1fb04612ae11edffbaa64da4": {
      "model_module": "@jupyter-widgets/controls",
      "model_module_version": "2.0.0",
      "model_name": "LabelStyleModel",
      "state": {
       "description_width": "",
       "font_family": null,
       "font_size": null,
       "font_style": null,
       "font_variant": null,
       "font_weight": null,
       "text_color": null,
       "text_decoration": null
      }
     },
     "50fabd1f52294af697948649a5858a43": {
      "model_module": "@jupyter-widgets/controls",
      "model_module_version": "2.0.0",
      "model_name": "CheckboxStyleModel",
      "state": {
       "description_width": ""
      }
     },
     "50ff66426a45409793ca1b7326778090": {
      "model_module": "@jupyter-widgets/controls",
      "model_module_version": "2.0.0",
      "model_name": "LabelStyleModel",
      "state": {
       "description_width": "",
       "font_family": null,
       "font_size": null,
       "font_style": null,
       "font_variant": null,
       "font_weight": null,
       "text_color": null,
       "text_decoration": null
      }
     },
     "5199bc49387a469cb7ee7741fb38a1a7": {
      "model_module": "@jupyter-widgets/controls",
      "model_module_version": "2.0.0",
      "model_name": "TextStyleModel",
      "state": {
       "description_width": "",
       "font_size": null,
       "text_color": null
      }
     },
     "51aa693453e94275897170aa57577a4b": {
      "model_module": "@jupyter-widgets/base",
      "model_module_version": "2.0.0",
      "model_name": "LayoutModel",
      "state": {}
     },
     "51b49eaaabde40769262c3b78b65fb4c": {
      "model_module": "@jupyter-widgets/controls",
      "model_module_version": "2.0.0",
      "model_name": "LabelStyleModel",
      "state": {
       "description_width": "",
       "font_family": null,
       "font_size": null,
       "font_style": null,
       "font_variant": null,
       "font_weight": null,
       "text_color": null,
       "text_decoration": null
      }
     },
     "51bdd3f899c84d4c862bc75405e57041": {
      "model_module": "@jupyter-widgets/controls",
      "model_module_version": "2.0.0",
      "model_name": "TextModel",
      "state": {
       "description": "Separator:",
       "disabled": true,
       "layout": "IPY_MODEL_efe4429d07e64db0a56e96b0af6aa365",
       "placeholder": "if many values",
       "style": "IPY_MODEL_fdfc55876a294013991134e95439e3e0"
      }
     },
     "51e887c30dc1412abed2f74adcd6c509": {
      "model_module": "@jupyter-widgets/controls",
      "model_module_version": "2.0.0",
      "model_name": "VBoxModel",
      "state": {
       "children": [
        "IPY_MODEL_7c3b260c780e495c943f9c42fa055d48",
        "IPY_MODEL_d1245de7de71443498e31203bd1c1e48",
        "IPY_MODEL_79a42aa2cc9940e8ab30e30f97475456"
       ],
       "layout": "IPY_MODEL_52aa2f146db24490bc9007fb7fd0e7bc"
      }
     },
     "52054cd4b024403fb29d98818c56e2e4": {
      "model_module": "@jupyter-widgets/controls",
      "model_module_version": "2.0.0",
      "model_name": "CheckboxStyleModel",
      "state": {
       "description_width": ""
      }
     },
     "524bf3e75e344d7cba82433944ed4fcb": {
      "model_module": "@jupyter-widgets/base",
      "model_module_version": "2.0.0",
      "model_name": "LayoutModel",
      "state": {}
     },
     "5273a40a54ca474eafb86e5b9564ce9a": {
      "model_module": "@jupyter-widgets/base",
      "model_module_version": "2.0.0",
      "model_name": "LayoutModel",
      "state": {}
     },
     "5287ef06743c44e78b18c3757dabb483": {
      "model_module": "@jupyter-widgets/base",
      "model_module_version": "2.0.0",
      "model_name": "LayoutModel",
      "state": {}
     },
     "529d5e89be404e9ebf1d4b9a13de964d": {
      "model_module": "@jupyter-widgets/controls",
      "model_module_version": "2.0.0",
      "model_name": "TextStyleModel",
      "state": {
       "description_width": "initial",
       "font_size": null,
       "text_color": null
      }
     },
     "52aa2f146db24490bc9007fb7fd0e7bc": {
      "model_module": "@jupyter-widgets/base",
      "model_module_version": "2.0.0",
      "model_name": "LayoutModel",
      "state": {
       "border_bottom": "solid",
       "border_left": "solid",
       "border_right": "solid",
       "border_top": "solid"
      }
     },
     "52d88685ee354618b1cc2b79e6fefc26": {
      "model_module": "@jupyter-widgets/controls",
      "model_module_version": "2.0.0",
      "model_name": "TextStyleModel",
      "state": {
       "description_width": "",
       "font_size": null,
       "text_color": null
      }
     },
     "5306545b26654f29bd8aeca1fc0b4ffc": {
      "model_module": "@jupyter-widgets/base",
      "model_module_version": "2.0.0",
      "model_name": "LayoutModel",
      "state": {}
     },
     "538452d6cfc44bc5a33441d2fae3504b": {
      "model_module": "@jupyter-widgets/base",
      "model_module_version": "2.0.0",
      "model_name": "LayoutModel",
      "state": {}
     },
     "53bf46bd809145658621803f571ef5d1": {
      "model_module": "@jupyter-widgets/base",
      "model_module_version": "2.0.0",
      "model_name": "LayoutModel",
      "state": {}
     },
     "53c054aba12146eaba47cb6aff454b53": {
      "model_module": "@jupyter-widgets/controls",
      "model_module_version": "2.0.0",
      "model_name": "VBoxModel",
      "state": {
       "children": [
        "IPY_MODEL_b4614fe97a9e4f76a506c1f5ba9a525f",
        "IPY_MODEL_5ac58c0a3179445b87bd59238b86d19e"
       ],
       "layout": "IPY_MODEL_487cee22f51e45ae85bd7a3eece62f42"
      }
     },
     "53d6e492039b4282b1f2ad392b3ec7fa": {
      "model_module": "@jupyter-widgets/controls",
      "model_module_version": "2.0.0",
      "model_name": "IntSliderModel",
      "state": {
       "behavior": "drag-tap",
       "continuous_update": false,
       "description": "Display T:",
       "layout": "IPY_MODEL_b7ca60b98c7c47f2877e56ee9ec5cc6b",
       "max": 10,
       "min": 1,
       "style": "IPY_MODEL_a23a3e6220ac4da0bde879064d8e1d8a",
       "value": 1
      }
     },
     "5406279cbdaa415cbd68a5870206052e": {
      "model_module": "@jupyter-widgets/base",
      "model_module_version": "2.0.0",
      "model_name": "LayoutModel",
      "state": {}
     },
     "541c2cee4ebf4968ba815b6a388a9ad0": {
      "model_module": "@jupyter-widgets/base",
      "model_module_version": "2.0.0",
      "model_name": "LayoutModel",
      "state": {}
     },
     "54280d5cb03e4b4ba0ef85e8f5981204": {
      "model_module": "@jupyter-widgets/controls",
      "model_module_version": "2.0.0",
      "model_name": "CheckboxModel",
      "state": {
       "description": "NA values",
       "disabled": true,
       "layout": "IPY_MODEL_81da068399d94365af544d775ac4a06c",
       "style": "IPY_MODEL_f3dcc959e130491ea90dcde1b6ad2d9a",
       "value": false
      }
     },
     "5436f58dc462432ea3333c97da209def": {
      "model_module": "@jupyter-widgets/controls",
      "model_module_version": "2.0.0",
      "model_name": "DescriptionStyleModel",
      "state": {
       "description_width": ""
      }
     },
     "545af1a766d34f5788a4696098dca488": {
      "model_module": "@jupyter-widgets/base",
      "model_module_version": "2.0.0",
      "model_name": "LayoutModel",
      "state": {}
     },
     "54692ee6d70e431b9413b3ca751a1572": {
      "model_module": "@jupyter-widgets/controls",
      "model_module_version": "2.0.0",
      "model_name": "DropdownModel",
      "state": {
       "_options_labels": [
        "",
        "Aggregate",
        "Any Vega",
        "Computed view",
        "Corr",
        "Descriptive_statistics",
        "Dump_table",
        "Facade",
        "Group by",
        "Heatmap",
        "Histogram1D",
        "Join",
        "KNN Density",
        "MBKMeans",
        "MCDensityMap",
        "MultiSeries",
        "Quantiles",
        "RangeQuery2D",
        "Scaler",
        "Scatterplot",
        "Snippet",
        "T-SNE 2D",
        "CSV loader",
        "PARQUET loader",
        "CUSTOM loader"
       ],
       "description": "Next stage",
       "index": 0,
       "layout": "IPY_MODEL_0901370fefca42b6a54071d998c547e3",
       "style": "IPY_MODEL_16a998a508ae40de92fe241fe73c456e"
      }
     },
     "547841054d194aa1ab1097516fc8b6a4": {
      "model_module": "@jupyter-widgets/controls",
      "model_module_version": "2.0.0",
      "model_name": "ButtonModel",
      "state": {
       "button_style": "danger",
       "icon": "trash",
       "layout": "IPY_MODEL_db0054d3ea2a47efab509b80d690b635",
       "style": "IPY_MODEL_3aac2b00383b48f3a06d9366b2ff56aa"
      }
     },
     "548256d2af5444a88a5a08efff216873": {
      "model_module": "@jupyter-widgets/controls",
      "model_module_version": "2.0.0",
      "model_name": "IntProgressModel",
      "state": {
       "description": "Progress",
       "layout": "IPY_MODEL_3830e2b40f7b48aeabd7682ba7928eed",
       "max": 1055,
       "style": "IPY_MODEL_f56a9cc6a9a248419e9289956af56eb4",
       "value": 265
      }
     },
     "5495c8893ac842b58b23026656697867": {
      "model_module": "@jupyter-widgets/controls",
      "model_module_version": "2.0.0",
      "model_name": "DescriptionStyleModel",
      "state": {
       "description_width": "initial"
      }
     },
     "54bac4f4bf284a9f9d6434a5bf33355f": {
      "model_module": "@jupyter-widgets/controls",
      "model_module_version": "2.0.0",
      "model_name": "LabelStyleModel",
      "state": {
       "description_width": "",
       "font_family": null,
       "font_size": null,
       "font_style": null,
       "font_variant": null,
       "font_weight": null,
       "text_color": null,
       "text_decoration": null
      }
     },
     "54d5438a3eb9435192c5c43fb682f019": {
      "model_module": "@jupyter-widgets/base",
      "model_module_version": "2.0.0",
      "model_name": "LayoutModel",
      "state": {}
     },
     "54e63a0142144d0685e4cea1b265daa7": {
      "model_module": "@jupyter-widgets/controls",
      "model_module_version": "2.0.0",
      "model_name": "TextStyleModel",
      "state": {
       "description_width": "",
       "font_size": null,
       "text_color": null
      }
     },
     "551f5b1ae1f24460b3d35cb7cd9b66eb": {
      "model_module": "@jupyter-widgets/base",
      "model_module_version": "2.0.0",
      "model_name": "LayoutModel",
      "state": {}
     },
     "5567297341974ba38b1b04181649e9ec": {
      "model_module": "@jupyter-widgets/base",
      "model_module_version": "2.0.0",
      "model_name": "LayoutModel",
      "state": {}
     },
     "558c24b96bdb4c4a966e67eb65923841": {
      "model_module": "@jupyter-widgets/controls",
      "model_module_version": "2.0.0",
      "model_name": "DescriptionStyleModel",
      "state": {
       "description_width": ""
      }
     },
     "55b0808ebb794050b741d93c388261b6": {
      "model_module": "@jupyter-widgets/base",
      "model_module_version": "2.0.0",
      "model_name": "LayoutModel",
      "state": {
       "width": "100%"
      }
     },
     "55cc7d7be6df4fc894d97ddd7e0fd3e5": {
      "model_module": "@jupyter-widgets/base",
      "model_module_version": "2.0.0",
      "model_name": "LayoutModel",
      "state": {}
     },
     "55e9bf6f269c48f3860fd165360813c6": {
      "model_module": "@jupyter-widgets/controls",
      "model_module_version": "2.0.0",
      "model_name": "HBoxModel",
      "state": {
       "children": [
        "IPY_MODEL_90c09b873b784f588fdd3c777120e9ef",
        "IPY_MODEL_1444808d8464486ead81652018f76e50"
       ],
       "layout": "IPY_MODEL_84d8bafc597a4656b625173e894f89eb"
      }
     },
     "55ed07b2a21743d38c9f787921660784": {
      "model_module": "@jupyter-widgets/controls",
      "model_module_version": "2.0.0",
      "model_name": "VBoxModel",
      "state": {
       "children": [
        "IPY_MODEL_2a6b9d6cb58d482a99eb0f950f8318fa",
        "IPY_MODEL_2d993e0146b3487fad1f1eb161edf42a"
       ],
       "layout": "IPY_MODEL_0406dd3d8a764de6a328022019c938da"
      }
     },
     "56299f95e44c43ee9543ace350f48fc3": {
      "model_module": "@jupyter-widgets/controls",
      "model_module_version": "2.0.0",
      "model_name": "HTMLModel",
      "state": {
       "layout": "IPY_MODEL_db630057470d4162bb8e10e5e76bb40a",
       "style": "IPY_MODEL_7b7705c150014fecaf267f8f9cf6a135"
      }
     },
     "5651aa7a27eb4c0d93852c45ac515864": {
      "model_module": "@jupyter-widgets/controls",
      "model_module_version": "2.0.0",
      "model_name": "TextModel",
      "state": {
       "description": "Type:",
       "disabled": true,
       "layout": "IPY_MODEL_c60efb1c2be24d26b826c10da72789e9",
       "style": "IPY_MODEL_8d54a61141cb4942b90cf515b00c8eec",
       "value": "object"
      }
     },
     "566629fd93234584aeb380f2b95bb238": {
      "model_module": "@jupyter-widgets/controls",
      "model_module_version": "2.0.0",
      "model_name": "DropdownModel",
      "state": {
       "_options_labels": [
        "passenger_count_sum"
       ],
       "disabled": true,
       "index": 0,
       "layout": "IPY_MODEL_a6bf7069c14e4e8b94dab28b5b860dee",
       "style": "IPY_MODEL_fd77c3f58ff24e1cae589127d981d4ae"
      }
     },
     "56bd2f69aa954c20869e46510a5d0c20": {
      "model_module": "@jupyter-widgets/controls",
      "model_module_version": "2.0.0",
      "model_name": "LabelModel",
      "state": {
       "layout": "IPY_MODEL_245c691e576c48bf96ec49c63c8a1c2f",
       "style": "IPY_MODEL_5083832048d84db9a0fab52adc0ff2d4",
       "value": "Key"
      }
     },
     "57717bd1edb14151ac5b542432e1f8cc": {
      "model_module": "@jupyter-widgets/base",
      "model_module_version": "2.0.0",
      "model_name": "LayoutModel",
      "state": {}
     },
     "57a1920c0ffe45e3a2c013d652e03ac9": {
      "model_module": "@jupyter-widgets/base",
      "model_module_version": "2.0.0",
      "model_name": "LayoutModel",
      "state": {}
     },
     "57b5fb5b334749188a1f6bee445293f6": {
      "model_module": "@jupyter-widgets/base",
      "model_module_version": "2.0.0",
      "model_name": "LayoutModel",
      "state": {}
     },
     "57ce0ea3855b4799b9f91de720099013": {
      "model_module": "@jupyter-widgets/base",
      "model_module_version": "2.0.0",
      "model_name": "LayoutModel",
      "state": {}
     },
     "580b739f403741ee9ea4d6efb16bce70": {
      "model_module": "@jupyter-widgets/controls",
      "model_module_version": "2.0.0",
      "model_name": "TextareaModel",
      "state": {
       "layout": "IPY_MODEL_c40b3fd867f448808397c3b3e2ccde85",
       "rows": 20,
       "style": "IPY_MODEL_5ccdbc144fdf41c0badeebd75b8a4df3",
       "value": "  name: DOLocationID\n  path: DOLocationID\n  max_definition_level: 1\n  max_repetition_level: 0\n  physical_type: INT64\n  logical_type: None\n  converted_type (legacy): NONE\n  file_offset: 136066589\n  file_path: \n  physical_type: INT64\n  num_values: 13157677\n  path_in_schema: DOLocationID\n  is_stats_set: True\n  statistics:\n      has_min_max: True\n      min: 1\n      max: 265\n      null_count: 0\n      distinct_count: None\n      num_values: 13157677\n      physical_type: INT64\n      logical_type: None\n      converted_type (legacy): NONE\n  geo_statistics:\n    None\n  compression: GZIP\n  encodings: ('PLAIN_DICTIONARY', 'PLAIN', 'RLE')\n  has_dictionary_page: True\n  dictionary_page_offset: 122786405\n  data_page_offset: 122786888\n  total_compressed_size: 13280184\n  total_uncompressed_size: 14831713"
      }
     },
     "5831ea6c37dd4925b79fe26d23b9a747": {
      "model_module": "@jupyter-widgets/controls",
      "model_module_version": "2.0.0",
      "model_name": "TextStyleModel",
      "state": {
       "description_width": "",
       "font_size": null,
       "text_color": null
      }
     },
     "5832f6e616d047cf89431b2338e4241f": {
      "model_module": "@jupyter-widgets/controls",
      "model_module_version": "2.0.0",
      "model_name": "HTMLModel",
      "state": {
       "layout": "IPY_MODEL_23197f6a89b64cad9738a15d76d56d5e",
       "style": "IPY_MODEL_9dbc6d1e7cc842448c95cf6d18b100f2"
      }
     },
     "583ae9b5f64f4b83848f81572912136f": {
      "model_module": "@jupyter-widgets/controls",
      "model_module_version": "2.0.0",
      "model_name": "CheckboxStyleModel",
      "state": {
       "description_width": ""
      }
     },
     "58a84297a2a34aa6b5ae0b261aefb0a3": {
      "model_module": "@jupyter-widgets/controls",
      "model_module_version": "2.0.0",
      "model_name": "HTMLModel",
      "state": {
       "layout": "IPY_MODEL_d557b47fcc3d417d930d0b69aff2d05a",
       "style": "IPY_MODEL_13e2f4d7547d4b328c7eeaed4c8dad54"
      }
     },
     "58d9556f26464f9a94fd2b5c3b86805f": {
      "model_module": "@jupyter-widgets/base",
      "model_module_version": "2.0.0",
      "model_name": "LayoutModel",
      "state": {}
     },
     "592067646bab483695af488baacb29c5": {
      "model_module": "@jupyter-widgets/controls",
      "model_module_version": "2.0.0",
      "model_name": "CheckboxModel",
      "state": {
       "description": "NA values",
       "disabled": true,
       "layout": "IPY_MODEL_48c19c98e7b345d6b80c2497c315baf0",
       "style": "IPY_MODEL_b92a21e010614a40b7d3fddb210ca399",
       "value": false
      }
     },
     "5921293e3e274a6992a8ff96c14d974a": {
      "model_module": "@jupyter-widgets/controls",
      "model_module_version": "2.0.0",
      "model_name": "HBoxModel",
      "state": {
       "children": [
        "IPY_MODEL_32177ba034a44f6db0b00ade614bf3ee",
        "IPY_MODEL_51e887c30dc1412abed2f74adcd6c509",
        "IPY_MODEL_95116052091c43d7bdbd6a0eb8da75c4"
       ],
       "layout": "IPY_MODEL_4ed7b6a561474a58b46a74a13de884dd"
      }
     },
     "59296c1a525b480baee6de18f7eac81c": {
      "model_module": "@jupyter-widgets/controls",
      "model_module_version": "2.0.0",
      "model_name": "TextStyleModel",
      "state": {
       "description_width": "",
       "font_size": null,
       "text_color": null
      }
     },
     "592f3a0db0ce42d4b56e5affe4428034": {
      "model_module": "@jupyter-widgets/controls",
      "model_module_version": "2.0.0",
      "model_name": "HBoxModel",
      "state": {
       "children": [
        "IPY_MODEL_f6481ba6c9a34f98923ece0739561783",
        "IPY_MODEL_9ec3638483564f37ab962a6b4f71098d"
       ],
       "layout": "IPY_MODEL_c10d373b6828478fb5338df099973a84"
      }
     },
     "59a24f66adc74555a2270a56e49088f7": {
      "model_module": "@jupyter-widgets/base",
      "model_module_version": "2.0.0",
      "model_name": "LayoutModel",
      "state": {}
     },
     "59c472094b274496b859e7b619cfa11d": {
      "model_module": "@jupyter-widgets/base",
      "model_module_version": "2.0.0",
      "model_name": "LayoutModel",
      "state": {}
     },
     "59db8bc17f1143cc91f679f9e9b66365": {
      "model_module": "@jupyter-widgets/controls",
      "model_module_version": "2.0.0",
      "model_name": "CheckboxStyleModel",
      "state": {
       "description_width": ""
      }
     },
     "5a197400b16e4f0f9c43735504ecfdc7": {
      "model_module": "@jupyter-widgets/base",
      "model_module_version": "2.0.0",
      "model_name": "LayoutModel",
      "state": {}
     },
     "5a32a03e8934438796f190e1c2a12ae5": {
      "model_module": "@jupyter-widgets/base",
      "model_module_version": "2.0.0",
      "model_name": "LayoutModel",
      "state": {
       "max_width": "100px"
      }
     },
     "5a352d62d9c84d11ba59cd425c3dc916": {
      "model_module": "@jupyter-widgets/controls",
      "model_module_version": "2.0.0",
      "model_name": "HTMLModel",
      "state": {
       "layout": "IPY_MODEL_021402d07f454f9b95478c71850246af",
       "style": "IPY_MODEL_076efbfe2cec48b0ae84c8937e995ac5"
      }
     },
     "5a583d0078af4e5583ac591b6a647585": {
      "model_module": "@jupyter-widgets/controls",
      "model_module_version": "2.0.0",
      "model_name": "LabelModel",
      "state": {
       "layout": "IPY_MODEL_8cb27a442a7e48139cdae02e1224de0c",
       "style": "IPY_MODEL_83102d14b0094bb4a10123a0331fbdcc",
       "value": "tpep_pickup_datetime:datetime64"
      }
     },
     "5a766e197d954b53b8aa10814a67549b": {
      "model_module": "@jupyter-widgets/base",
      "model_module_version": "2.0.0",
      "model_name": "LayoutModel",
      "state": {}
     },
     "5a7816357dc047399773f6621b129a4e": {
      "model_module": "@jupyter-widgets/controls",
      "model_module_version": "2.0.0",
      "model_name": "CheckboxStyleModel",
      "state": {
       "description_width": ""
      }
     },
     "5a7ba45de9444279b400e1b0ad825e2b": {
      "model_module": "@jupyter-widgets/controls",
      "model_module_version": "2.0.0",
      "model_name": "HTMLStyleModel",
      "state": {
       "description_width": "",
       "font_size": null,
       "text_color": null
      }
     },
     "5ac58c0a3179445b87bd59238b86d19e": {
      "model_module": "@jupyter-widgets/controls",
      "model_module_version": "2.0.0",
      "model_name": "HBoxModel",
      "state": {
       "children": [
        "IPY_MODEL_3d38adcc04e54860819a8dba4c23f4f4",
        "IPY_MODEL_fe89c31a934544e887e7870f13c20c7e"
       ],
       "layout": "IPY_MODEL_8dfa5b3efe504d3887ffbe4d8d9e65b8"
      }
     },
     "5b31ba6aaf08424dbe8ca90b764a8e98": {
      "model_module": "@jupyter-widgets/controls",
      "model_module_version": "2.0.0",
      "model_name": "CheckboxModel",
      "state": {
       "description": "Filtering",
       "disabled": false,
       "layout": "IPY_MODEL_d64c66f38aac482cbf3553ff20dd35f5",
       "style": "IPY_MODEL_8f376ccbce7a4c91ac57620ddbc9eccb",
       "value": false
      }
     },
     "5b40a84ad60d432a8d434e83f65da937": {
      "model_module": "@jupyter-widgets/controls",
      "model_module_version": "2.0.0",
      "model_name": "LabelModel",
      "state": {
       "layout": "IPY_MODEL_fe8379d54b62446398c394a0ba815231",
       "style": "IPY_MODEL_276d70b2bdfd41a49186ff103e1ee56b",
       "value": "Subcolumns"
      }
     },
     "5b4896f3e9c9463a836e2e5ce11f596e": {
      "model_module": "@jupyter-widgets/controls",
      "model_module_version": "2.0.0",
      "model_name": "VBoxModel",
      "state": {
       "children": [
        "IPY_MODEL_9d3fc1de2003483fac05da2acf89b793",
        "IPY_MODEL_4ed835673e6b4a6e98c66eaf25fc0e1c"
       ],
       "layout": "IPY_MODEL_31ba0742ed7948c4ae8b6cc6fbd56fe1"
      }
     },
     "5b51b94e554445afaf76ba4270b7efeb": {
      "model_module": "@jupyter-widgets/base",
      "model_module_version": "2.0.0",
      "model_name": "LayoutModel",
      "state": {
       "justify_content": "flex-end"
      }
     },
     "5b58a6583aa14d57903aa4e20f4eadd5": {
      "model_module": "@jupyter-widgets/base",
      "model_module_version": "2.0.0",
      "model_name": "LayoutModel",
      "state": {
       "max_height": "1024px"
      }
     },
     "5b970694c5ea476780bfa35d344d5c97": {
      "model_module": "@jupyter-widgets/base",
      "model_module_version": "2.0.0",
      "model_name": "LayoutModel",
      "state": {}
     },
     "5b9e0afe696843e9a46eeedabc255c89": {
      "model_module": "@jupyter-widgets/base",
      "model_module_version": "2.0.0",
      "model_name": "LayoutModel",
      "state": {}
     },
     "5bb583668f3e4e718be96e0c988e2157": {
      "model_module": "@jupyter-widgets/controls",
      "model_module_version": "2.0.0",
      "model_name": "CheckboxModel",
      "state": {
       "description": "s",
       "disabled": false,
       "indent": false,
       "layout": "IPY_MODEL_2c32bf74df2f4351a9c1dadbd6874b75",
       "style": "IPY_MODEL_3e6830b7f838443b98d79583fdc6d7f9",
       "value": true
      }
     },
     "5bc344370dc54c468132bb1bdf230f2e": {
      "model_module": "@jupyter-widgets/controls",
      "model_module_version": "2.0.0",
      "model_name": "TextStyleModel",
      "state": {
       "description_width": "",
       "font_size": null,
       "text_color": null
      }
     },
     "5bd2aadf9a2746be9099afd422e595d2": {
      "model_module": "@jupyter-widgets/controls",
      "model_module_version": "2.0.0",
      "model_name": "TextModel",
      "state": {
       "description": "Separator:",
       "disabled": true,
       "layout": "IPY_MODEL_87ca1047002d415e83d94d77173d1165",
       "placeholder": "if many values",
       "style": "IPY_MODEL_b591390896fd4a5980c7a5365b7e14f6"
      }
     },
     "5bd7d78c0da4440c8d1948f08ce3e0df": {
      "model_module": "@jupyter-widgets/base",
      "model_module_version": "2.0.0",
      "model_name": "LayoutModel",
      "state": {}
     },
     "5c1ec99f76f9455399601172f520aa52": {
      "model_module": "@jupyter-widgets/base",
      "model_module_version": "2.0.0",
      "model_name": "LayoutModel",
      "state": {}
     },
     "5c37bfc040ca431fbfa3c64367594d81": {
      "model_module": "@jupyter-widgets/controls",
      "model_module_version": "2.0.0",
      "model_name": "TextStyleModel",
      "state": {
       "description_width": "",
       "font_size": null,
       "text_color": null
      }
     },
     "5cbf08ca8e1d41b8afa2dd90a0a8a9d0": {
      "model_module": "@jupyter-widgets/controls",
      "model_module_version": "2.0.0",
      "model_name": "DescriptionStyleModel",
      "state": {
       "description_width": ""
      }
     },
     "5ccdbc144fdf41c0badeebd75b8a4df3": {
      "model_module": "@jupyter-widgets/controls",
      "model_module_version": "2.0.0",
      "model_name": "TextStyleModel",
      "state": {
       "description_width": "",
       "font_size": null,
       "text_color": null
      }
     },
     "5cd37c39c8814215be032e785d99bfcb": {
      "model_module": "@jupyter-widgets/controls",
      "model_module_version": "2.0.0",
      "model_name": "ButtonModel",
      "state": {
       "description": "Resume",
       "disabled": true,
       "icon": "play",
       "layout": "IPY_MODEL_f415b683014a42de840d904a96625ad0",
       "style": "IPY_MODEL_43cad7a9166d4a4ea525954978406ea8",
       "tooltip": "Start"
      }
     },
     "5d07a290c0ef430693cab559d097781b": {
      "model_module": "@jupyter-widgets/controls",
      "model_module_version": "2.0.0",
      "model_name": "LabelModel",
      "state": {
       "layout": "IPY_MODEL_9254c7df7fcb49829d74f6b9ce4de475",
       "style": "IPY_MODEL_188506b9ce4142a29fd8fee29bda0f5f",
       "value": "Mapping"
      }
     },
     "5d926d6a8712495cb52d84f49f6dd9b0": {
      "model_module": "@jupyter-widgets/controls",
      "model_module_version": "2.0.0",
      "model_name": "ProgressStyleModel",
      "state": {
       "description_width": ""
      }
     },
     "5d94805aba8942108c09b234e0965e12": {
      "model_module": "@jupyter-widgets/controls",
      "model_module_version": "2.0.0",
      "model_name": "CheckboxModel",
      "state": {
       "description": "Use",
       "disabled": false,
       "layout": "IPY_MODEL_39b728c9da5d47089bb227c8c4546e43",
       "style": "IPY_MODEL_fdcc80613f2242638a04e75226921061",
       "value": false
      }
     },
     "5da342c418934e83b8823dda18f4a23e": {
      "model_module": "@jupyter-widgets/base",
      "model_module_version": "2.0.0",
      "model_name": "LayoutModel",
      "state": {}
     },
     "5e165e33f5884097ac816d1024fb372a": {
      "model_module": "@jupyter-widgets/controls",
      "model_module_version": "2.0.0",
      "model_name": "LabelStyleModel",
      "state": {
       "description_width": "",
       "font_family": null,
       "font_size": null,
       "font_style": null,
       "font_variant": null,
       "font_weight": null,
       "text_color": null,
       "text_decoration": null
      }
     },
     "5e33b878896140fb84957e69a292e769": {
      "model_module": "@jupyter-widgets/controls",
      "model_module_version": "2.0.0",
      "model_name": "DropdownModel",
      "state": {
       "_options_labels": [
        "",
        ">",
        "<",
        ">=",
        "<=",
        "==",
        "!="
       ],
       "description": "Filter",
       "index": 0,
       "layout": "IPY_MODEL_0d52032c093446e28d63489686285a68",
       "style": "IPY_MODEL_ff5523d216164447bfdca007836590bd"
      }
     },
     "5e3a89a815d74d708f7de755657261ba": {
      "model_module": "@jupyter-widgets/base",
      "model_module_version": "2.0.0",
      "model_name": "LayoutModel",
      "state": {}
     },
     "5e70ba984fca4bfa9aa59456a07d96c3": {
      "model_module": "@jupyter-widgets/controls",
      "model_module_version": "2.0.0",
      "model_name": "CheckboxModel",
      "state": {
       "description": "Filtering",
       "disabled": false,
       "layout": "IPY_MODEL_21ddcb4681ac40c6be7ce8a01fac4960",
       "style": "IPY_MODEL_a2f78b35f9854fc7a9815a5c25873606",
       "value": false
      }
     },
     "5e7fe5ee3a524400aafb033e13ad3d31": {
      "model_module": "@jupyter-widgets/controls",
      "model_module_version": "2.0.0",
      "model_name": "DropdownModel",
      "state": {
       "_options_labels": [
        "int8",
        "uint8",
        "int16",
        "uint16",
        "int32",
        "int64",
        "uint32",
        "uint64",
        "float32",
        "float64",
        "str"
       ],
       "description": "Retype:",
       "index": 5,
       "layout": "IPY_MODEL_81c0d6155e954950881c733ce5eb34ac",
       "style": "IPY_MODEL_d989b7c8534f40159436be506a3b820f"
      }
     },
     "5e82fdea6ae74a5bbde028fe8823f0bf": {
      "model_module": "@jupyter-widgets/controls",
      "model_module_version": "2.0.0",
      "model_name": "CheckboxModel",
      "state": {
       "description": "NA values",
       "disabled": true,
       "layout": "IPY_MODEL_793d8341f8eb4d579695e0693f32e4d4",
       "style": "IPY_MODEL_c7591810a0db450392dce86dd5114c87",
       "value": false
      }
     },
     "5e9904ef8f0c433cbc37c5821f0d0a39": {
      "model_module": "@jupyter-widgets/controls",
      "model_module_version": "2.0.0",
      "model_name": "LabelStyleModel",
      "state": {
       "description_width": "",
       "font_family": null,
       "font_size": null,
       "font_style": null,
       "font_variant": null,
       "font_weight": null,
       "text_color": null,
       "text_decoration": null
      }
     },
     "5ed7a7dc7c4d42a494385c8f0bf914b4": {
      "model_module": "@jupyter-widgets/base",
      "model_module_version": "2.0.0",
      "model_name": "LayoutModel",
      "state": {
       "grid_template_columns": "80% 20%"
      }
     },
     "5ee2c422ce074e0eae6cb3ce391c95a1": {
      "model_module": "@jupyter-widgets/controls",
      "model_module_version": "2.0.0",
      "model_name": "DropdownModel",
      "state": {
       "_options_labels": [
        "",
        "Aggregate",
        "Any Vega",
        "Computed view",
        "Corr",
        "Descriptive_statistics",
        "Dump_table",
        "Facade",
        "Group by",
        "Heatmap",
        "Histogram1D",
        "Join",
        "KNN Density",
        "MBKMeans",
        "MCDensityMap",
        "MultiSeries",
        "Quantiles",
        "RangeQuery2D",
        "Scaler",
        "Scatterplot",
        "Snippet",
        "T-SNE 2D",
        "CSV loader",
        "PARQUET loader",
        "CUSTOM loader"
       ],
       "description": "Next stage",
       "index": 0,
       "layout": "IPY_MODEL_f0173215e9994de3bd842cfc5399f107",
       "style": "IPY_MODEL_fd397506e6aa400ab766c773d0ce4424"
      }
     },
     "5efc13a327884dca9e940004d96b2da8": {
      "model_module": "@jupyter-widgets/base",
      "model_module_version": "2.0.0",
      "model_name": "LayoutModel",
      "state": {}
     },
     "5f033b660431422ba452cf099e9ccf73": {
      "model_module": "@jupyter-widgets/controls",
      "model_module_version": "2.0.0",
      "model_name": "CheckboxStyleModel",
      "state": {
       "description_width": ""
      }
     },
     "5f165f8f70854c268ee06330a3dcbe33": {
      "model_module": "@jupyter-widgets/controls",
      "model_module_version": "2.0.0",
      "model_name": "TextModel",
      "state": {
       "continuous_update": false,
       "description": "Name:",
       "disabled": true,
       "layout": "IPY_MODEL_31bf7ba0ea5f4842b4a677a0fe10d25f",
       "style": "IPY_MODEL_4031b421af0d4a2bb9f36154b3c84433",
       "value": "Borough"
      }
     },
     "5f4b308e42a949ac863e800c692a8dbd": {
      "model_module": "@jupyter-widgets/base",
      "model_module_version": "2.0.0",
      "model_name": "LayoutModel",
      "state": {
       "width": "initial"
      }
     },
     "5f5e7320b034400fae34fa0e365547b4": {
      "model_module": "@jupyter-widgets/controls",
      "model_module_version": "2.0.0",
      "model_name": "HTMLModel",
      "state": {
       "layout": "IPY_MODEL_14acc0b4fce946b487d9d14f909c23fc",
       "style": "IPY_MODEL_f02b1a6fbc0342e8a020aaccdb967fd3"
      }
     },
     "5f74b592b78c4d90a8d7b1d802c65676": {
      "model_module": "@jupyter-widgets/controls",
      "model_module_version": "2.0.0",
      "model_name": "VBoxModel",
      "state": {
       "children": [
        "IPY_MODEL_485fb761b6994a2ba76bf76d37737ec2",
        "IPY_MODEL_da42c3ee6b7246bca52ded76a6de2790"
       ],
       "layout": "IPY_MODEL_8ede6846b0b44a2e902d9840db21f768"
      }
     },
     "5fb3a1d523464e0292766ad950d7efee": {
      "model_module": "@jupyter-widgets/controls",
      "model_module_version": "2.0.0",
      "model_name": "HTMLStyleModel",
      "state": {
       "description_width": "",
       "font_size": null,
       "text_color": null
      }
     },
     "5fb85555e4b3458d90dcee2a9bc406ed": {
      "model_module": "@jupyter-widgets/controls",
      "model_module_version": "2.0.0",
      "model_name": "HBoxModel",
      "state": {
       "children": [
        "IPY_MODEL_4af7feac40ea4165ad00e3fbc0ec20de",
        "IPY_MODEL_881c1a1dd8874638a880f235ce912f83"
       ],
       "layout": "IPY_MODEL_e26b24ca7f2e42aa9de1d138a45906cd"
      }
     },
     "5fd65e0a54554d14a19decdad6809734": {
      "model_module": "@jupyter-widgets/controls",
      "model_module_version": "2.0.0",
      "model_name": "TextModel",
      "state": {
       "description": "Unique vals:",
       "disabled": true,
       "layout": "IPY_MODEL_538452d6cfc44bc5a33441d2fae3504b",
       "style": "IPY_MODEL_7ade1a3d5c694880895a6cb05ba69cb8",
       "value": "98/99"
      }
     },
     "5ff9914907c8407cb197153dae0aaf8e": {
      "model_module": "@jupyter-widgets/base",
      "model_module_version": "2.0.0",
      "model_name": "LayoutModel",
      "state": {}
     },
     "604d98b0e40f4b57a969db0352fc247b": {
      "model_module": "@jupyter-widgets/controls",
      "model_module_version": "2.0.0",
      "model_name": "DropdownModel",
      "state": {
       "_options_labels": [
        "",
        ">",
        "<",
        ">=",
        "<=",
        "==",
        "!="
       ],
       "description": "& ",
       "index": 0,
       "layout": "IPY_MODEL_e26b24ca7f2e42aa9de1d138a45906cd",
       "style": "IPY_MODEL_6a92abb4e4054735a8b5dea7da59a66f"
      }
     },
     "6065ef292190496e85b639608dd93af8": {
      "model_module": "@jupyter-widgets/base",
      "model_module_version": "2.0.0",
      "model_name": "LayoutModel",
      "state": {}
     },
     "606eca47e5584ef4bfb5c985170e16e9": {
      "model_module": "@jupyter-widgets/controls",
      "model_module_version": "2.0.0",
      "model_name": "DescriptionStyleModel",
      "state": {
       "description_width": ""
      }
     },
     "60707d6be6ff44d7b4cfc5345a7735af": {
      "model_module": "@jupyter-widgets/base",
      "model_module_version": "2.0.0",
      "model_name": "LayoutModel",
      "state": {}
     },
     "60e7100198ef40fe940aebc854b2043f": {
      "model_module": "@jupyter-widgets/controls",
      "model_module_version": "2.0.0",
      "model_name": "TextStyleModel",
      "state": {
       "description_width": "",
       "font_size": null,
       "text_color": null
      }
     },
     "6116e554553248c4916888d7d66f23c3": {
      "model_module": "@jupyter-widgets/base",
      "model_module_version": "2.0.0",
      "model_name": "LayoutModel",
      "state": {}
     },
     "6128e2f2fd534cae9f70912aa820fb2f": {
      "model_module": "@jupyter-widgets/controls",
      "model_module_version": "2.0.0",
      "model_name": "CheckboxModel",
      "state": {
       "description": "Use",
       "disabled": true,
       "layout": "IPY_MODEL_f9ccae7ae2cc454199f78abbee415f71",
       "style": "IPY_MODEL_921c7b644bd94688a37a9b049d75cdee",
       "value": true
      }
     },
     "614aeed286704f958b3a3292fd6f30a9": {
      "model_module": "@jupyter-widgets/controls",
      "model_module_version": "2.0.0",
      "model_name": "TextModel",
      "state": {
       "description": "File:",
       "disabled": true,
       "layout": "IPY_MODEL_b58b59c1c73f404e8329c65eefc79fe6",
       "placeholder": "",
       "style": "IPY_MODEL_24a55f7a64a846c887068d2feaa12d4f",
       "value": "vega20251004_203630"
      }
     },
     "61a8993ad2ff490891bf84ac815b9285": {
      "model_module": "@jupyter-widgets/controls",
      "model_module_version": "2.0.0",
      "model_name": "VBoxModel",
      "state": {
       "children": [
        "IPY_MODEL_592f3a0db0ce42d4b56e5affe4428034",
        "IPY_MODEL_0e000240dce54c67bc43208f0408a5dd"
       ],
       "layout": "IPY_MODEL_25e38b6265dc43e0a3cead95eca1a3af"
      }
     },
     "61c049982394428f9b1d6f3c0adb4606": {
      "model_module": "@jupyter-widgets/controls",
      "model_module_version": "2.0.0",
      "model_name": "HTMLStyleModel",
      "state": {
       "description_width": "",
       "font_size": null,
       "text_color": null
      }
     },
     "61fed5318b05433599636e9a7ea355bc": {
      "model_module": "@jupyter-widgets/controls",
      "model_module_version": "2.0.0",
      "model_name": "ButtonStyleModel",
      "state": {
       "font_family": null,
       "font_size": null,
       "font_style": null,
       "font_variant": null,
       "font_weight": null,
       "text_color": null,
       "text_decoration": null
      }
     },
     "623be4d315d24951ab5aa728e60d9668": {
      "model_module": "@jupyter-widgets/controls",
      "model_module_version": "2.0.0",
      "model_name": "HTMLModel",
      "state": {
       "layout": "IPY_MODEL_0b9e446ed5464e4d884257af4c015da7",
       "style": "IPY_MODEL_b2b8ce962709448c84430a282fa3401b"
      }
     },
     "6253242824604d79a4d499e9d5df7d69": {
      "model_module": "@jupyter-widgets/controls",
      "model_module_version": "2.0.0",
      "model_name": "CheckboxStyleModel",
      "state": {
       "description_width": ""
      }
     },
     "62580a7d1392487ba9e420e780d9e6af": {
      "model_module": "@jupyter-widgets/controls",
      "model_module_version": "2.0.0",
      "model_name": "CheckboxStyleModel",
      "state": {
       "description_width": ""
      }
     },
     "627f828129d64a8a913e3fdace785892": {
      "model_module": "@jupyter-widgets/controls",
      "model_module_version": "2.0.0",
      "model_name": "ButtonModel",
      "state": {
       "button_style": "danger",
       "icon": "trash",
       "layout": "IPY_MODEL_82e32596914b40668b21e3d1db13863b",
       "style": "IPY_MODEL_db7f3452cdaf451294f6d70a9ec4d6c6"
      }
     },
     "62bfc343646040189d2ec69fee64de9d": {
      "model_module": "@jupyter-widgets/controls",
      "model_module_version": "2.0.0",
      "model_name": "TextStyleModel",
      "state": {
       "description_width": "",
       "font_size": null,
       "text_color": null
      }
     },
     "62c0b47905b84b0e84d6084be8548b2f": {
      "model_module": "@jupyter-widgets/base",
      "model_module_version": "2.0.0",
      "model_name": "LayoutModel",
      "state": {}
     },
     "62d9df70981d47b59fbf065675257c2c": {
      "model_module": "@jupyter-widgets/controls",
      "model_module_version": "2.0.0",
      "model_name": "HTMLStyleModel",
      "state": {
       "description_width": "",
       "font_size": null,
       "text_color": null
      }
     },
     "63385e2123e94e89bb020c7620302e71": {
      "model_module": "@jupyter-widgets/controls",
      "model_module_version": "2.0.0",
      "model_name": "DropdownModel",
      "state": {
       "_options_labels": [
        "object",
        "str",
        "category",
        "datetime",
        "int8",
        "uint8",
        "int16",
        "uint16",
        "int32",
        "int64",
        "uint32",
        "uint64",
        "float32",
        "float64",
        "str"
       ],
       "description": "Retype:",
       "index": 0,
       "layout": "IPY_MODEL_02025b9ea764463ab0da617939f14407",
       "style": "IPY_MODEL_058eec8d43444ba5a0082932ad1707fb"
      }
     },
     "6397be06da03453bb829448afc3f579b": {
      "model_module": "@jupyter-widgets/controls",
      "model_module_version": "2.0.0",
      "model_name": "LabelStyleModel",
      "state": {
       "description_width": "",
       "font_family": null,
       "font_size": null,
       "font_style": null,
       "font_variant": null,
       "font_weight": null,
       "text_color": null,
       "text_decoration": null
      }
     },
     "63a818f1886045d48d4e1b1dbabfcf31": {
      "model_module": "@jupyter-widgets/controls",
      "model_module_version": "2.0.0",
      "model_name": "CheckboxModel",
      "state": {
       "description": "M",
       "disabled": false,
       "indent": false,
       "layout": "IPY_MODEL_8ebb971207974e268e3f4969f5dbfe09",
       "style": "IPY_MODEL_e957126e796b4a26ac583227f3de83f9",
       "value": true
      }
     },
     "63c034cf305144af85c54e7c9b29c456": {
      "model_module": "@jupyter-widgets/controls",
      "model_module_version": "2.0.0",
      "model_name": "ButtonStyleModel",
      "state": {
       "font_family": null,
       "font_size": null,
       "font_style": null,
       "font_variant": null,
       "font_weight": null,
       "text_color": null,
       "text_decoration": null
      }
     },
     "63cacd214ae145a185a31c2d914e65b4": {
      "model_module": "@jupyter-widgets/base",
      "model_module_version": "2.0.0",
      "model_name": "LayoutModel",
      "state": {}
     },
     "642b47ca3a664d0e8a27393502f0bc70": {
      "model_module": "@jupyter-widgets/base",
      "model_module_version": "2.0.0",
      "model_name": "LayoutModel",
      "state": {
       "justify_content": "flex-end"
      }
     },
     "643368362ebf483d8630de5f88eb1316": {
      "model_module": "@jupyter-widgets/controls",
      "model_module_version": "2.0.0",
      "model_name": "ButtonModel",
      "state": {
       "button_style": "danger",
       "icon": "trash",
       "layout": "IPY_MODEL_947ca27f3a574759bb42f4d9230d8f0c",
       "style": "IPY_MODEL_ee0c212d054741aaa1d36ebe762ebc94"
      }
     },
     "643e014e158d4adb8703e507eddad023": {
      "model_module": "@jupyter-widgets/controls",
      "model_module_version": "2.0.0",
      "model_name": "HTMLStyleModel",
      "state": {
       "description_width": "",
       "font_size": null,
       "text_color": null
      }
     },
     "644e8bf81c60423db98d1f8fd8b64bba": {
      "model_module": "@jupyter-widgets/controls",
      "model_module_version": "2.0.0",
      "model_name": "DropdownModel",
      "state": {
       "_options_labels": [
        "object",
        "str",
        "category",
        "datetime",
        "int8",
        "uint8",
        "int16",
        "uint16",
        "int32",
        "int64",
        "uint32",
        "uint64",
        "float32",
        "float64",
        "str"
       ],
       "description": "Retype:",
       "disabled": true,
       "index": 0,
       "layout": "IPY_MODEL_bea36ca312c44220b483a5082573ba50",
       "style": "IPY_MODEL_9e2f48ba88184d9088bf62a001c3bc2f"
      }
     },
     "65219975695a4cdc8bb433a4cac665a0": {
      "model_module": "@jupyter-widgets/controls",
      "model_module_version": "2.0.0",
      "model_name": "TextModel",
      "state": {
       "continuous_update": false,
       "description": "Name:",
       "disabled": true,
       "layout": "IPY_MODEL_ad41c9dc1bc44c8d9dcea2f0da7a2e31",
       "style": "IPY_MODEL_4b8dfa57ad9748deaa930ae7c6a4732b",
       "value": "Zone"
      }
     },
     "6541f84d0c604c3f80daa66a3ba1ba78": {
      "model_module": "@jupyter-widgets/base",
      "model_module_version": "2.0.0",
      "model_name": "LayoutModel",
      "state": {}
     },
     "65957ef0070144b88683548d5888737a": {
      "model_module": "@jupyter-widgets/controls",
      "model_module_version": "2.0.0",
      "model_name": "HTMLStyleModel",
      "state": {
       "description_width": "",
       "font_size": null,
       "text_color": null
      }
     },
     "65b46f9ef91842deb894eacbdf76b90a": {
      "model_module": "@jupyter-widgets/controls",
      "model_module_version": "2.0.0",
      "model_name": "TextStyleModel",
      "state": {
       "description_width": "",
       "font_size": null,
       "text_color": null
      }
     },
     "65f044f6a66242229979a6ac8092ec17": {
      "model_module": "@jupyter-widgets/controls",
      "model_module_version": "2.0.0",
      "model_name": "TextModel",
      "state": {
       "layout": "IPY_MODEL_2bc5ed8001bd4e8496544243e732b812",
       "placeholder": "optional alias",
       "style": "IPY_MODEL_94738b9e1e904339b2a14a5039b7975d"
      }
     },
     "66066ede367e43d6bc00d3d342030a5c": {
      "model_module": "@jupyter-widgets/base",
      "model_module_version": "2.0.0",
      "model_name": "LayoutModel",
      "state": {}
     },
     "66072d0dde1b464bbddffc0a45671ba3": {
      "model_module": "@jupyter-widgets/controls",
      "model_module_version": "2.0.0",
      "model_name": "HTMLStyleModel",
      "state": {
       "description_width": "",
       "font_size": null,
       "text_color": null
      }
     },
     "663778b0d6ae4c1a93530171cc941c97": {
      "model_module": "@jupyter-widgets/controls",
      "model_module_version": "2.0.0",
      "model_name": "CheckboxModel",
      "state": {
       "description": "Filtering",
       "disabled": true,
       "layout": "IPY_MODEL_c9011604ffac4807a95fb332d4317f44",
       "style": "IPY_MODEL_c76ac592a08c4f85bf4774f68eb82a38",
       "value": false
      }
     },
     "663c32fc33d94d72a0e220097da97d81": {
      "model_module": "@jupyter-widgets/base",
      "model_module_version": "2.0.0",
      "model_name": "LayoutModel",
      "state": {}
     },
     "665558c512d34fff829ccf829067938e": {
      "model_module": "@jupyter-widgets/controls",
      "model_module_version": "2.0.0",
      "model_name": "HTMLModel",
      "state": {
       "layout": "IPY_MODEL_2b126a7ee1dc4bc38ffb9361e2a0647d",
       "style": "IPY_MODEL_d809913545c5456ba229c38afc9fcf06"
      }
     },
     "666dbdd48ea6408c8fc44ac065f89f4a": {
      "model_module": "@jupyter-widgets/controls",
      "model_module_version": "2.0.0",
      "model_name": "FloatTextModel",
      "state": {
       "layout": "IPY_MODEL_8dee8d7caf4f477f92b788196fd13637",
       "step": null,
       "style": "IPY_MODEL_4bab1818aa3b4f838dfba9d1607f09f7"
      }
     },
     "669be2190098485295c112d2cb5b0a7c": {
      "model_module": "@jupyter-widgets/controls",
      "model_module_version": "2.0.0",
      "model_name": "TextStyleModel",
      "state": {
       "description_width": "",
       "font_size": null,
       "text_color": null
      }
     },
     "66ce52601ae9400da38327ca4ceab366": {
      "model_module": "@jupyter-widgets/base",
      "model_module_version": "2.0.0",
      "model_name": "LayoutModel",
      "state": {}
     },
     "66ecf60b6bbd410a97e302801e209e9e": {
      "model_module": "@jupyter-widgets/controls",
      "model_module_version": "2.0.0",
      "model_name": "TextStyleModel",
      "state": {
       "description_width": "",
       "font_size": null,
       "text_color": null
      }
     },
     "670609273dd744f9a7606cae9927a2e8": {
      "model_module": "@jupyter-widgets/controls",
      "model_module_version": "2.0.0",
      "model_name": "HTMLModel",
      "state": {
       "layout": "IPY_MODEL_11d32585472b4215bf4a8592824cc3b9",
       "style": "IPY_MODEL_65957ef0070144b88683548d5888737a"
      }
     },
     "67470c2c23c1419ba692871757c04d04": {
      "model_module": "@jupyter-widgets/controls",
      "model_module_version": "2.0.0",
      "model_name": "CheckboxModel",
      "state": {
       "disabled": true,
       "indent": false,
       "layout": "IPY_MODEL_a3a215d64f3d41dfaa4b97f5fc82bf60",
       "style": "IPY_MODEL_34f7add4eb824f48b3e5058a649436db",
       "value": false
      }
     },
     "67984b1b97304706a671eec196b4adc8": {
      "model_module": "@jupyter-widgets/base",
      "model_module_version": "2.0.0",
      "model_name": "LayoutModel",
      "state": {}
     },
     "679dc3529181410e8a762cd08a5bd49f": {
      "model_module": "@jupyter-widgets/controls",
      "model_module_version": "2.0.0",
      "model_name": "LabelStyleModel",
      "state": {
       "description_width": "",
       "font_family": null,
       "font_size": null,
       "font_style": null,
       "font_variant": null,
       "font_weight": null,
       "text_color": null,
       "text_decoration": null
      }
     },
     "67cdfa1bd2b7480d9457affc51205376": {
      "model_module": "@jupyter-widgets/base",
      "model_module_version": "2.0.0",
      "model_name": "LayoutModel",
      "state": {}
     },
     "67de5081faa74933a4954edd79ecb547": {
      "model_module": "@jupyter-widgets/controls",
      "model_module_version": "2.0.0",
      "model_name": "TextStyleModel",
      "state": {
       "description_width": "",
       "font_size": null,
       "text_color": null
      }
     },
     "681abdb66c5b45509ab1e8188ef06aa8": {
      "model_module": "@jupyter-widgets/controls",
      "model_module_version": "2.0.0",
      "model_name": "CheckboxStyleModel",
      "state": {
       "description_width": ""
      }
     },
     "6832359152a2488c8dd449d23fbb8ebc": {
      "model_module": "@jupyter-widgets/controls",
      "model_module_version": "2.0.0",
      "model_name": "DescriptionStyleModel",
      "state": {
       "description_width": ""
      }
     },
     "6878f0ab2f1047baba78aeeee6ce0d3a": {
      "model_module": "@jupyter-widgets/controls",
      "model_module_version": "2.0.0",
      "model_name": "TextStyleModel",
      "state": {
       "description_width": "",
       "font_size": null,
       "text_color": null
      }
     },
     "6897a4f9d64b4e3db99204f6270c13af": {
      "model_module": "@jupyter-widgets/controls",
      "model_module_version": "2.0.0",
      "model_name": "DescriptionStyleModel",
      "state": {
       "description_width": ""
      }
     },
     "68a5adbb80ab479d9b84fa6dda7b0d0c": {
      "model_module": "@jupyter-widgets/controls",
      "model_module_version": "2.0.0",
      "model_name": "DescriptionStyleModel",
      "state": {
       "description_width": "initial"
      }
     },
     "68b11d743dcd4912964f67711c60da55": {
      "model_module": "@jupyter-widgets/controls",
      "model_module_version": "2.0.0",
      "model_name": "CheckboxStyleModel",
      "state": {
       "description_width": ""
      }
     },
     "68d8ea4e812546bcb5ee9ddca4f22680": {
      "model_module": "@jupyter-widgets/base",
      "model_module_version": "2.0.0",
      "model_name": "LayoutModel",
      "state": {}
     },
     "69048d1460074142a9c9ee6f5f49e201": {
      "model_module": "@jupyter-widgets/base",
      "model_module_version": "2.0.0",
      "model_name": "LayoutModel",
      "state": {}
     },
     "6924e9ef926e49c8976a6302c4f74d71": {
      "model_module": "@jupyter-widgets/base",
      "model_module_version": "2.0.0",
      "model_name": "LayoutModel",
      "state": {}
     },
     "6944eec8f107490da14a2ae38ed50615": {
      "model_module": "@jupyter-widgets/controls",
      "model_module_version": "2.0.0",
      "model_name": "CheckboxStyleModel",
      "state": {
       "description_width": ""
      }
     },
     "69c83a595cfc4e50a0574f0c02877845": {
      "model_module": "@jupyter-widgets/controls",
      "model_module_version": "2.0.0",
      "model_name": "CheckboxModel",
      "state": {
       "description": "Use",
       "disabled": false,
       "layout": "IPY_MODEL_202d4b03316244a995786f55ad95d75c",
       "style": "IPY_MODEL_e739e862d72e436b8250ff47a9e563a8",
       "value": false
      }
     },
     "69e28fc662444d8fb9ead8ef64cb7858": {
      "model_module": "@jupyter-widgets/controls",
      "model_module_version": "2.0.0",
      "model_name": "FloatTextModel",
      "state": {
       "layout": "IPY_MODEL_bba568a3ecfd4cd5b92dce59331647b5",
       "step": null,
       "style": "IPY_MODEL_c42fb1059d844afc99e858e985f0c033"
      }
     },
     "69ebfbf523c146e99ae9ac4c97bdfc27": {
      "model_module": "@jupyter-widgets/controls",
      "model_module_version": "2.0.0",
      "model_name": "VBoxModel",
      "state": {
       "children": [
        "IPY_MODEL_c6dfd5a07f904e34bd5f8b50b9fae0d1",
        "IPY_MODEL_42d8f6ef31434a249d2a9394a2430471",
        "IPY_MODEL_0728a6e21d544a38821e2be03c704dd3"
       ],
       "layout": "IPY_MODEL_4065b604942d41db892b2705ee196a0c"
      }
     },
     "69f8707932b249b992448f2184dade0a": {
      "model_module": "@jupyter-widgets/controls",
      "model_module_version": "2.0.0",
      "model_name": "HBoxModel",
      "state": {
       "children": [
        "IPY_MODEL_547841054d194aa1ab1097516fc8b6a4"
       ],
       "layout": "IPY_MODEL_ff1d822114cd477b9f668087bdb4d5a8"
      }
     },
     "6a048d173e1041b4bf53523d95101dce": {
      "model_module": "@jupyter-widgets/base",
      "model_module_version": "2.0.0",
      "model_name": "LayoutModel",
      "state": {}
     },
     "6a2bff4753ec4a70ab8afdfd4ecfd483": {
      "model_module": "@jupyter-widgets/base",
      "model_module_version": "2.0.0",
      "model_name": "LayoutModel",
      "state": {}
     },
     "6a4e63f33e6448bea2ce9f08f75e19b9": {
      "model_module": "@jupyter-widgets/controls",
      "model_module_version": "2.0.0",
      "model_name": "HTMLModel",
      "state": {
       "layout": "IPY_MODEL_a9f33fc1712e4aa787cabf4ef56de71f",
       "style": "IPY_MODEL_d9c97f0d74cf474e8bcb6434c72d6526"
      }
     },
     "6a50d41a5aed4c03a97d0b2915730fae": {
      "model_module": "@jupyter-widgets/base",
      "model_module_version": "2.0.0",
      "model_name": "LayoutModel",
      "state": {}
     },
     "6a541d56ac284f09b095c2380f38d095": {
      "model_module": "@jupyter-widgets/controls",
      "model_module_version": "2.0.0",
      "model_name": "ButtonStyleModel",
      "state": {
       "font_family": null,
       "font_size": null,
       "font_style": null,
       "font_variant": null,
       "font_weight": null,
       "text_color": null,
       "text_decoration": null
      }
     },
     "6a563be6e0b4447183214c8ddcf4ffea": {
      "model_module": "@jupyter-widgets/base",
      "model_module_version": "2.0.0",
      "model_name": "LayoutModel",
      "state": {}
     },
     "6a6c43dfb1a24c9bba9ee41530cc6271": {
      "model_module": "@jupyter-widgets/base",
      "model_module_version": "2.0.0",
      "model_name": "LayoutModel",
      "state": {}
     },
     "6a716401bd424a58afc1293d082a561b": {
      "model_module": "@jupyter-widgets/controls",
      "model_module_version": "2.0.0",
      "model_name": "LabelModel",
      "state": {
       "layout": "IPY_MODEL_b021e369590d4bdfa8d2bc535dcc863a",
       "style": "IPY_MODEL_50ee317f1fb04612ae11edffbaa64da4",
       "value": "Processing"
      }
     },
     "6a92abb4e4054735a8b5dea7da59a66f": {
      "model_module": "@jupyter-widgets/controls",
      "model_module_version": "2.0.0",
      "model_name": "DescriptionStyleModel",
      "state": {
       "description_width": ""
      }
     },
     "6aa1b6addd9549d586d2bde3f5ba49b8": {
      "model_module": "@jupyter-widgets/controls",
      "model_module_version": "2.0.0",
      "model_name": "HTMLStyleModel",
      "state": {
       "description_width": "",
       "font_size": null,
       "text_color": null
      }
     },
     "6ab0afbe799d4c419da4def647cfc0c3": {
      "model_module": "@jupyter-widgets/controls",
      "model_module_version": "2.0.0",
      "model_name": "ButtonStyleModel",
      "state": {
       "font_family": null,
       "font_size": null,
       "font_style": null,
       "font_variant": null,
       "font_weight": null,
       "text_color": null,
       "text_decoration": null
      }
     },
     "6ab342170cf543629083a6ace0ec6bf3": {
      "model_module": "@jupyter-widgets/controls",
      "model_module_version": "2.0.0",
      "model_name": "HBoxModel",
      "state": {
       "children": [
        "IPY_MODEL_c067e38e899c445682e0ef00a061429d",
        "IPY_MODEL_666dbdd48ea6408c8fc44ac065f89f4a"
       ],
       "layout": "IPY_MODEL_17343ae1f3844d5799c52d4f38d3438c"
      }
     },
     "6aebce82346e48fc9d4cb65859fcbe82": {
      "model_module": "@jupyter-widgets/controls",
      "model_module_version": "2.0.0",
      "model_name": "VBoxModel",
      "state": {
       "children": [
        "IPY_MODEL_fd4e43c00492480aa5673e9971a95d0e",
        "IPY_MODEL_0ea3fb6a532d450ba2d3435457f384f3"
       ],
       "layout": "IPY_MODEL_aa6f7a56efdc4202a62aa1f448ee5d1c"
      }
     },
     "6b4c8cac39804e488c21db457a9a1a33": {
      "model_module": "@jupyter-widgets/controls",
      "model_module_version": "2.0.0",
      "model_name": "SelectMultipleModel",
      "state": {
       "_options_labels": [
        "https://www.aviz.fr/nyc-taxi/yellow_tripdata_2015-01.csv.bz2",
        "https://www.aviz.fr/nyc-taxi/nyc_weather_2015.csv",
        ""
       ],
       "description": "Bookmarks",
       "disabled": true,
       "index": [],
       "layout": "IPY_MODEL_ca4485a1be704c12b8ab76ac92a1030e",
       "rows": 5,
       "style": "IPY_MODEL_24497b3fc0644bc8ab2324674ad0d2da"
      }
     },
     "6b51bf6ce44948ac8168412fd3945e19": {
      "model_module": "@jupyter-widgets/controls",
      "model_module_version": "2.0.0",
      "model_name": "LabelModel",
      "state": {
       "layout": "IPY_MODEL_0d6149012ffd4fc5b193f6fdae7dbc18",
       "style": "IPY_MODEL_2cd71c717b0a4ee9847d8446a0deb729",
       "value": "Keep"
      }
     },
     "6b56a379a8e843ce824f204754a4d9a2": {
      "model_module": "@jupyter-widgets/controls",
      "model_module_version": "2.0.0",
      "model_name": "HBoxModel",
      "state": {
       "children": [
        "IPY_MODEL_5e33b878896140fb84957e69a292e769",
        "IPY_MODEL_701f422f803d4e428d14880c6ea651cb"
       ],
       "layout": "IPY_MODEL_0d52032c093446e28d63489686285a68"
      }
     },
     "6b5fc75b02694ecc84588b09413cd62a": {
      "model_module": "@jupyter-widgets/controls",
      "model_module_version": "2.0.0",
      "model_name": "DescriptionStyleModel",
      "state": {
       "description_width": ""
      }
     },
     "6b75ae685c4c483bbfa4c39272aafb2f": {
      "model_module": "@jupyter-widgets/controls",
      "model_module_version": "2.0.0",
      "model_name": "VBoxModel",
      "state": {
       "children": [
        "IPY_MODEL_a6be94e3d0904eceaffc5dc5b8056998",
        "IPY_MODEL_2d5da0bcaba345ab8afc94e7e7f210a7",
        "IPY_MODEL_3f1b95bccfec4a3fbf4a7a52c528d84e"
       ],
       "layout": "IPY_MODEL_42212da21f6446be86865425ded5cfe1"
      }
     },
     "6b8e74a188bd436096f0769dc30137b6": {
      "model_module": "@jupyter-widgets/controls",
      "model_module_version": "2.0.0",
      "model_name": "TextModel",
      "state": {
       "disabled": true,
       "layout": "IPY_MODEL_f71068960c2a4873af59617a2f58ea37",
       "placeholder": "optional alias",
       "style": "IPY_MODEL_f329492ef860417d81ab04d49795efa6",
       "value": "Taxis"
      }
     },
     "6bc24e46d2b5454a91c9abfdcf186fb9": {
      "model_module": "@jupyter-widgets/base",
      "model_module_version": "2.0.0",
      "model_name": "LayoutModel",
      "state": {}
     },
     "6bf2cbd06ab04f6c9fb29119b106ef8e": {
      "model_module": "@jupyter-widgets/controls",
      "model_module_version": "2.0.0",
      "model_name": "TextStyleModel",
      "state": {
       "description_width": "",
       "font_size": null,
       "text_color": null
      }
     },
     "6c39000043614b7a8eb0e101609c6720": {
      "model_module": "@jupyter-widgets/controls",
      "model_module_version": "2.0.0",
      "model_name": "CheckboxModel",
      "state": {
       "disabled": true,
       "indent": false,
       "layout": "IPY_MODEL_d8526316a6794bfcaa4af20905acae0d",
       "style": "IPY_MODEL_c8e26128e2774cf68cb3f65e3aea8bc0",
       "value": false
      }
     },
     "6c4c0551d1a74a548e29421fd54659b5": {
      "model_module": "@jupyter-widgets/controls",
      "model_module_version": "2.0.0",
      "model_name": "TextStyleModel",
      "state": {
       "description_width": "",
       "font_size": null,
       "text_color": null
      }
     },
     "6c8a52b58d2c4395bbf8098f3fde4e0c": {
      "model_module": "@jupyter-widgets/base",
      "model_module_version": "2.0.0",
      "model_name": "LayoutModel",
      "state": {}
     },
     "6cc414bc0d34463396aa254d18880fd7": {
      "model_module": "@jupyter-widgets/controls",
      "model_module_version": "2.0.0",
      "model_name": "TextModel",
      "state": {
       "description": "Separator:",
       "disabled": true,
       "layout": "IPY_MODEL_9f5d2a2c14fe4b6fb0c7ee96e57de18f",
       "placeholder": "if many values",
       "style": "IPY_MODEL_67de5081faa74933a4954edd79ecb547"
      }
     },
     "6ce2627724d842389368259648cb9fe1": {
      "model_module": "@jupyter-widgets/controls",
      "model_module_version": "2.0.0",
      "model_name": "CheckboxModel",
      "state": {
       "description": "Use",
       "disabled": false,
       "layout": "IPY_MODEL_280aefeba0d44f289041d7610a80dfaf",
       "style": "IPY_MODEL_43d06922b1da440396ea9d1a4dc0bbef",
       "value": false
      }
     },
     "6cf38dcbc50844a89a7b3065a8781d64": {
      "model_module": "@jupyter-widgets/base",
      "model_module_version": "2.0.0",
      "model_name": "LayoutModel",
      "state": {}
     },
     "6d00f2653c644ddf996bb003f1b92879": {
      "model_module": "@jupyter-widgets/controls",
      "model_module_version": "2.0.0",
      "model_name": "DropdownModel",
      "state": {
       "_options_labels": [
        "int8",
        "uint8",
        "int16",
        "uint16",
        "int32",
        "int64",
        "uint32",
        "uint64",
        "float32",
        "float64",
        "str"
       ],
       "description": "Retype:",
       "index": 5,
       "layout": "IPY_MODEL_aecba6f2e53e4c309b92aaeaab4a3933",
       "style": "IPY_MODEL_7a2d99b6d22847e3b65a2d41e2b31094"
      }
     },
     "6d256b874d1e4f5489998a3d9e87aa4a": {
      "model_module": "@jupyter-widgets/controls",
      "model_module_version": "2.0.0",
      "model_name": "LabelModel",
      "state": {
       "layout": "IPY_MODEL_f89505dc65804e8f8ad92f308926afa4",
       "style": "IPY_MODEL_aa9b317e0ac04048bf94fc75a7d4f543"
      }
     },
     "6d50fe4de3874c50b57cb69791d5fb08": {
      "model_module": "@jupyter-widgets/controls",
      "model_module_version": "2.0.0",
      "model_name": "CheckboxModel",
      "state": {
       "disabled": true,
       "indent": false,
       "layout": "IPY_MODEL_f13b6063b0994aa290a9081f6d28dd41",
       "style": "IPY_MODEL_cfaea51dd9ad4493ae669b2eb59e5fe3",
       "value": false
      }
     },
     "6d5e87f4f6f34022a2e0f95211f7b9a7": {
      "model_module": "@jupyter-widgets/controls",
      "model_module_version": "2.0.0",
      "model_name": "ButtonStyleModel",
      "state": {
       "font_family": null,
       "font_size": null,
       "font_style": null,
       "font_variant": null,
       "font_weight": null,
       "text_color": null,
       "text_decoration": null
      }
     },
     "6d7cecc6ddc34d699b5f3bb63b85b2a7": {
      "model_module": "@jupyter-widgets/controls",
      "model_module_version": "2.0.0",
      "model_name": "VBoxModel",
      "state": {
       "children": [
        "IPY_MODEL_5fb85555e4b3458d90dcee2a9bc406ed",
        "IPY_MODEL_aebcc3664e074cd6bff8ba832beb36b0"
       ],
       "layout": "IPY_MODEL_121fb19b9c0e4256a47766f038285488"
      }
     },
     "6d82b7fd330b41dfb8cadd1993d4dc2b": {
      "model_module": "@jupyter-widgets/base",
      "model_module_version": "2.0.0",
      "model_name": "LayoutModel",
      "state": {}
     },
     "6de2c5656e4b4fdd8ee7e7a8aafb0ada": {
      "model_module": "@jupyter-widgets/controls",
      "model_module_version": "2.0.0",
      "model_name": "IntTextModel",
      "state": {
       "description": "Throttle:",
       "disabled": true,
       "layout": "IPY_MODEL_5b970694c5ea476780bfa35d344d5c97",
       "step": 1,
       "style": "IPY_MODEL_edff2b6a4b8d4c6194e20e69abbd5634"
      }
     },
     "6de57cfe07024996a910ce6da13a7a8f": {
      "model_module": "@jupyter-widgets/controls",
      "model_module_version": "2.0.0",
      "model_name": "VBoxModel",
      "state": {
       "children": [
        "IPY_MODEL_85edc968673f40df813de7efec671df5",
        "IPY_MODEL_198c3a07ecb54189ae18abd2000bdade"
       ],
       "layout": "IPY_MODEL_3cf8a0057b114c71801b08e86f123ab7"
      }
     },
     "6e032b6c2e6a49a1aa0a1d3fe33edfb5": {
      "model_module": "@jupyter-widgets/controls",
      "model_module_version": "2.0.0",
      "model_name": "HTMLStyleModel",
      "state": {
       "description_width": "",
       "font_size": null,
       "text_color": null
      }
     },
     "6e218940ef7c46b3969b695ac40d3c0d": {
      "model_module": "@jupyter-widgets/base",
      "model_module_version": "2.0.0",
      "model_name": "LayoutModel",
      "state": {}
     },
     "6e38e2e0f79d479d89c5ad2553cc0daa": {
      "model_module": "@jupyter-widgets/base",
      "model_module_version": "2.0.0",
      "model_name": "LayoutModel",
      "state": {}
     },
     "6e57cc443e94431b8280d5b86906b044": {
      "model_module": "@jupyter-widgets/base",
      "model_module_version": "2.0.0",
      "model_name": "LayoutModel",
      "state": {}
     },
     "6e8a1f3c11024def89c00122d6685608": {
      "model_module": "@jupyter-widgets/controls",
      "model_module_version": "2.0.0",
      "model_name": "BoundedIntTextModel",
      "state": {
       "description": "Lines:",
       "disabled": true,
       "layout": "IPY_MODEL_6bc24e46d2b5454a91c9abfdcf186fb9",
       "max": 1000,
       "min": 10,
       "style": "IPY_MODEL_6832359152a2488c8dd449d23fbb8ebc",
       "value": 100
      }
     },
     "6e94928eb21b40ed950be55972a49b97": {
      "model_module": "@jupyter-widgets/controls",
      "model_module_version": "2.0.0",
      "model_name": "CheckboxStyleModel",
      "state": {
       "description_width": ""
      }
     },
     "6ea30d93e7a0456fb0038d1d48259a00": {
      "model_module": "@jupyter-widgets/base",
      "model_module_version": "2.0.0",
      "model_name": "LayoutModel",
      "state": {}
     },
     "6eb0307323ac4430886a0eac33fbe034": {
      "model_module": "@jupyter-widgets/controls",
      "model_module_version": "2.0.0",
      "model_name": "TextModel",
      "state": {
       "description": "Type:",
       "disabled": true,
       "layout": "IPY_MODEL_e5cf037919f144a5bb902aaef2477212",
       "style": "IPY_MODEL_2e32ad2a76ac44498c55f33b6fe96f0a",
       "value": "object"
      }
     },
     "6ebe7d3457294b7398e538aa540a59c1": {
      "model_module": "@jupyter-widgets/controls",
      "model_module_version": "2.0.0",
      "model_name": "CheckboxModel",
      "state": {
       "description": "Filtering",
       "disabled": false,
       "layout": "IPY_MODEL_50dd849d209a4320bbe0285d1bb09bbf",
       "style": "IPY_MODEL_324d0f97d2154f9e919f009544dfcd18",
       "value": false
      }
     },
     "6ed1f7f0a49f4a899e24dd863e9cff47": {
      "model_module": "@jupyter-widgets/controls",
      "model_module_version": "2.0.0",
      "model_name": "HTMLModel",
      "state": {
       "layout": "IPY_MODEL_5287ef06743c44e78b18c3757dabb483",
       "style": "IPY_MODEL_16ad8dddd8b647b793b475a6ab68a3d9"
      }
     },
     "6ee50976b5f044b0934cfcfaf490e38c": {
      "model_module": "@jupyter-widgets/controls",
      "model_module_version": "2.0.0",
      "model_name": "BoundedIntTextModel",
      "state": {
       "description": "Skip rows:",
       "disabled": true,
       "layout": "IPY_MODEL_b5176f0e899e4117a64bf1628dc4a9c2",
       "max": 1000,
       "style": "IPY_MODEL_93a864cbd01240d4a2a8d21a85528b3c"
      }
     },
     "6ee9b5bf32bf49b2918be2363dc1be37": {
      "model_module": "@jupyter-widgets/controls",
      "model_module_version": "2.0.0",
      "model_name": "TextModel",
      "state": {
       "continuous_update": false,
       "description": "Name:",
       "disabled": true,
       "layout": "IPY_MODEL_7038d51b76304b1abd4b39c281058836",
       "style": "IPY_MODEL_54e63a0142144d0685e4cea1b265daa7",
       "value": "Zone"
      }
     },
     "6ef98b09978d4a78afce3c7491810ea7": {
      "model_module": "@jupyter-widgets/controls",
      "model_module_version": "2.0.0",
      "model_name": "CheckboxModel",
      "state": {
       "disabled": true,
       "indent": false,
       "layout": "IPY_MODEL_a38337f8cb4d4192ad5bf39823428770",
       "style": "IPY_MODEL_681abdb66c5b45509ab1e8188ef06aa8",
       "value": false
      }
     },
     "6f4f66afe0ab486bb27c4eb6f1b455c6": {
      "model_module": "@jupyter-widgets/controls",
      "model_module_version": "2.0.0",
      "model_name": "DescriptionStyleModel",
      "state": {
       "description_width": ""
      }
     },
     "6f81ae87d8e0431495d240e509891d32": {
      "model_module": "@jupyter-widgets/base",
      "model_module_version": "2.0.0",
      "model_name": "LayoutModel",
      "state": {}
     },
     "6fd356e2e1a14724aaca92b01cc35458": {
      "model_module": "@jupyter-widgets/base",
      "model_module_version": "2.0.0",
      "model_name": "LayoutModel",
      "state": {}
     },
     "6feb4b16aea44d169334bf4752d825bc": {
      "model_module": "@jupyter-widgets/controls",
      "model_module_version": "2.0.0",
      "model_name": "VBoxModel",
      "state": {
       "_dom_classes": [
        "progressivis_guest_widget",
        "progressivis_guest_widget--root_0"
       ],
       "children": [
        "IPY_MODEL_a05c9efe36a34cb8aa227e59fc17f18e",
        "IPY_MODEL_715331db92b44dff815832ef5e79a485",
        "IPY_MODEL_bf1a7257eb6749bb8ef2a17b21f1f3f3",
        "IPY_MODEL_addfda7df4964701b289efc66b854150",
        "IPY_MODEL_dffb0a49786d49c792ae815b745c0e01"
       ],
       "layout": "IPY_MODEL_0019aaac3eeb4d6ea33e2f3ffafabd60"
      }
     },
     "701f422f803d4e428d14880c6ea651cb": {
      "model_module": "@jupyter-widgets/controls",
      "model_module_version": "2.0.0",
      "model_name": "FloatTextModel",
      "state": {
       "layout": "IPY_MODEL_f87e0b174fa84286a0d061db0b123cae",
       "step": null,
       "style": "IPY_MODEL_76f934e232834856a078de49a4b0d420"
      }
     },
     "7038d51b76304b1abd4b39c281058836": {
      "model_module": "@jupyter-widgets/base",
      "model_module_version": "2.0.0",
      "model_name": "LayoutModel",
      "state": {}
     },
     "705da3c333904b20acaeaabf088c73ce": {
      "model_module": "@jupyter-widgets/controls",
      "model_module_version": "2.0.0",
      "model_name": "DropdownModel",
      "state": {
       "_options_labels": [
        "",
        ">",
        "<",
        ">=",
        "<=",
        "==",
        "!="
       ],
       "description": "Filter",
       "index": 0,
       "layout": "IPY_MODEL_c53b6320872d49cfaacef086fcf193f6",
       "style": "IPY_MODEL_3e99f6b06b524c81b729ba23c16eb1d1"
      }
     },
     "70a3236afe33421c88bcc602d84a9040": {
      "model_module": "@jupyter-widgets/base",
      "model_module_version": "2.0.0",
      "model_name": "LayoutModel",
      "state": {}
     },
     "70bdb1f8348d4bb9b280426361e48147": {
      "model_module": "@jupyter-widgets/base",
      "model_module_version": "2.0.0",
      "model_name": "LayoutModel",
      "state": {}
     },
     "70cc7c852bb047e4823ed64868db6b29": {
      "model_module": "@jupyter-widgets/controls",
      "model_module_version": "2.0.0",
      "model_name": "HBoxModel",
      "state": {
       "children": [
        "IPY_MODEL_7c427d3afa1946088b664f9f94e9a121",
        "IPY_MODEL_d49c147693f2423fb19f3bfc5b972403"
       ],
       "layout": "IPY_MODEL_d730a486acc34edab37a71f46001b1c9"
      }
     },
     "70ec6011c56b47a3b96aac69909c539d": {
      "model_module": "@jupyter-widgets/controls",
      "model_module_version": "2.0.0",
      "model_name": "HTMLModel",
      "state": {
       "layout": "IPY_MODEL_d2a47ae5e2924bdca8b41df2926c36d9",
       "style": "IPY_MODEL_82f27d8ca09240d18b1bce4c31746d57"
      }
     },
     "710dd6de6e134fb18ee45409dcbe27f5": {
      "model_module": "@jupyter-widgets/base",
      "model_module_version": "2.0.0",
      "model_name": "LayoutModel",
      "state": {}
     },
     "715331db92b44dff815832ef5e79a485": {
      "model_module": "@jupyter-widgets/controls",
      "model_module_version": "2.0.0",
      "model_name": "HTMLModel",
      "state": {
       "layout": "IPY_MODEL_03508b68de1e43049397e118033234ca",
       "style": "IPY_MODEL_61c049982394428f9b1d6f3c0adb4606"
      }
     },
     "7157e749b841466096a76cbf56b2ac8c": {
      "model_module": "@jupyter-widgets/controls",
      "model_module_version": "2.0.0",
      "model_name": "ButtonStyleModel",
      "state": {
       "font_family": null,
       "font_size": null,
       "font_style": null,
       "font_variant": null,
       "font_weight": null,
       "text_color": null,
       "text_decoration": null
      }
     },
     "716e5f0c07e44c2cac5d312a552c7508": {
      "model_module": "@jupyter-widgets/controls",
      "model_module_version": "2.0.0",
      "model_name": "TextModel",
      "state": {
       "continuous_update": false,
       "description": "Name:",
       "disabled": true,
       "layout": "IPY_MODEL_bed9b607dff5486f810f3f1cf87e2995",
       "style": "IPY_MODEL_9dbd46257f6c4b51a1eb44224d1217ed",
       "value": "Borough"
      }
     },
     "7170574e3e3447989b32d49c2775a197": {
      "model_module": "@jupyter-widgets/base",
      "model_module_version": "2.0.0",
      "model_name": "LayoutModel",
      "state": {}
     },
     "7202539a047d4274bb0a2e46feaa74fe": {
      "model_module": "@jupyter-widgets/controls",
      "model_module_version": "2.0.0",
      "model_name": "HTMLStyleModel",
      "state": {
       "description_width": "",
       "font_size": null,
       "text_color": null
      }
     },
     "722e93e728404171978f009dc771e738": {
      "model_module": "@jupyter-widgets/controls",
      "model_module_version": "2.0.0",
      "model_name": "CheckboxModel",
      "state": {
       "description": "NA values",
       "disabled": true,
       "layout": "IPY_MODEL_14c6b122a6f34b5e863fb0a28b8bb0c8",
       "style": "IPY_MODEL_6944eec8f107490da14a2ae38ed50615",
       "value": false
      }
     },
     "7239d88438ea43e88a367aa5f5abe693": {
      "model_module": "@jupyter-widgets/controls",
      "model_module_version": "2.0.0",
      "model_name": "TextModel",
      "state": {
       "description": "Separator:",
       "disabled": true,
       "layout": "IPY_MODEL_0a1ba168a56b4cd783c8eeda54349c2a",
       "placeholder": "if many values",
       "style": "IPY_MODEL_23136cc8395a47b18b8de3901f72d066"
      }
     },
     "729eac0b454749d0adc60fafeff94ac1": {
      "model_module": "@jupyter-widgets/base",
      "model_module_version": "2.0.0",
      "model_name": "LayoutModel",
      "state": {}
     },
     "72a1fb54f56d419a8b9f163bd64c63b6": {
      "model_module": "@jupyter-widgets/controls",
      "model_module_version": "2.0.0",
      "model_name": "HTMLModel",
      "state": {
       "layout": "IPY_MODEL_caef7b4302dd40a9b3888137fe612d67",
       "style": "IPY_MODEL_b180b894ccb44894b35cbbbc0df0f5af"
      }
     },
     "72a5c1b66eee4aa09d1391e622e07845": {
      "model_module": "@jupyter-widgets/base",
      "model_module_version": "2.0.0",
      "model_name": "LayoutModel",
      "state": {}
     },
     "72c5e983c3aa4d1883b2086b914ebbaf": {
      "model_module": "@jupyter-widgets/base",
      "model_module_version": "2.0.0",
      "model_name": "LayoutModel",
      "state": {}
     },
     "72d4be11d93c47a39f0ec7146a2d75ed": {
      "model_module": "@jupyter-widgets/controls",
      "model_module_version": "2.0.0",
      "model_name": "CheckboxStyleModel",
      "state": {
       "description_width": ""
      }
     },
     "72d4f763df5c4771926032cc3d4ce460": {
      "model_module": "@jupyter-widgets/base",
      "model_module_version": "2.0.0",
      "model_name": "LayoutModel",
      "state": {}
     },
     "73697ab05b3c47e5a0f45992a610b498": {
      "model_module": "@jupyter-widgets/controls",
      "model_module_version": "2.0.0",
      "model_name": "TextStyleModel",
      "state": {
       "description_width": "",
       "font_size": null,
       "text_color": null
      }
     },
     "739540ae98024aac82cc6c9dd156645d": {
      "model_module": "@jupyter-widgets/controls",
      "model_module_version": "2.0.0",
      "model_name": "CheckboxModel",
      "state": {
       "description": "Use",
       "disabled": false,
       "layout": "IPY_MODEL_c2827feca371456485a85595361ab02d",
       "style": "IPY_MODEL_d884e9f77e6947a2802aa36e58dc3275",
       "value": false
      }
     },
     "73e7c4f204874ecc838c56c00fba26c3": {
      "model_module": "@jupyter-widgets/controls",
      "model_module_version": "2.0.0",
      "model_name": "CheckboxModel",
      "state": {
       "disabled": true,
       "indent": false,
       "layout": "IPY_MODEL_79fbe3d1faf04036937dab66374f4636",
       "style": "IPY_MODEL_1681c1b1fd934356bfe54b2f432e59f0",
       "value": false
      }
     },
     "740723d234414c0aa75a59bab2ea63fa": {
      "model_module": "@jupyter-widgets/controls",
      "model_module_version": "2.0.0",
      "model_name": "CheckboxStyleModel",
      "state": {
       "description_width": ""
      }
     },
     "744a957ec05d4aeb82e5791d66d28412": {
      "model_module": "@jupyter-widgets/controls",
      "model_module_version": "2.0.0",
      "model_name": "LabelModel",
      "state": {
       "layout": "IPY_MODEL_5bd7d78c0da4440c8d1948f08ce3e0df",
       "style": "IPY_MODEL_276679af3f50428bad048baef763b7a9",
       "value": "mean"
      }
     },
     "745fa4c4529444d0895028cf9e65ccf8": {
      "model_module": "@jupyter-widgets/base",
      "model_module_version": "2.0.0",
      "model_name": "LayoutModel",
      "state": {
       "width": "60%"
      }
     },
     "74783efdfb4a40f8831de6ee00f6e7cc": {
      "model_module": "@jupyter-widgets/controls",
      "model_module_version": "2.0.0",
      "model_name": "TextModel",
      "state": {
       "description": "Unique vals:",
       "disabled": true,
       "layout": "IPY_MODEL_d804e4cf31f84cf39e7a090e4b52efa9",
       "style": "IPY_MODEL_59296c1a525b480baee6de18f7eac81c",
       "value": "6/99"
      }
     },
     "74990c5ce4314ae88adf7bc69350efc6": {
      "model_module": "@jupyter-widgets/controls",
      "model_module_version": "2.0.0",
      "model_name": "ButtonStyleModel",
      "state": {
       "font_family": null,
       "font_size": null,
       "font_style": null,
       "font_variant": null,
       "font_weight": null,
       "text_color": null,
       "text_decoration": null
      }
     },
     "74c8d3a45ec248d2954ed9b855ce77c6": {
      "model_module": "@jupyter-widgets/controls",
      "model_module_version": "2.0.0",
      "model_name": "DescriptionStyleModel",
      "state": {
       "description_width": ""
      }
     },
     "74ceb1c044684766b214ce113cac1c96": {
      "model_module": "@jupyter-widgets/controls",
      "model_module_version": "2.0.0",
      "model_name": "HBoxModel",
      "state": {
       "children": [
        "IPY_MODEL_b3bfa2680e254b47814a822fa6a14b11",
        "IPY_MODEL_8b29fd06efec4e1390ae04622ee1a448"
       ],
       "layout": "IPY_MODEL_8cfe5c7a137d489484ac7d1ecb32ac83"
      }
     },
     "750703d6c8a24a718863de1a7260d04e": {
      "model_module": "@jupyter-widgets/controls",
      "model_module_version": "2.0.0",
      "model_name": "TextModel",
      "state": {
       "description": "Date format:",
       "disabled": true,
       "layout": "IPY_MODEL_3b23e8e247aa4d91894a5fab4a9371a0",
       "style": "IPY_MODEL_ce08abc3f33642a3a2a61f2f85bb8157",
       "value": "mixed"
      }
     },
     "752df3be1c754b56b6ec4ad5b2e499bc": {
      "model_module": "@jupyter-widgets/base",
      "model_module_version": "2.0.0",
      "model_name": "LayoutModel",
      "state": {}
     },
     "7560ba18d1534fa08268cad08d7c57ba": {
      "model_module": "@jupyter-widgets/controls",
      "model_module_version": "2.0.0",
      "model_name": "CheckboxStyleModel",
      "state": {
       "description_width": ""
      }
     },
     "75a3d8fbf68641899d66b26559fe7027": {
      "model_module": "@jupyter-widgets/controls",
      "model_module_version": "2.0.0",
      "model_name": "DropdownModel",
      "state": {
       "_options_labels": [
        "",
        "enumerate",
        "cbrt"
       ],
       "index": 0,
       "layout": "IPY_MODEL_ec2373fe51044ae48a3fb55a48b79c96",
       "style": "IPY_MODEL_9bd178f3151a4b00841f63d882b24b7b"
      }
     },
     "75fd8e7971d04725aac140e8140ba9d7": {
      "model_module": "@jupyter-widgets/controls",
      "model_module_version": "2.0.0",
      "model_name": "ButtonModel",
      "state": {
       "description": "Chain it",
       "disabled": true,
       "icon": "check",
       "layout": "IPY_MODEL_20b9351f9316403593b5271f7f7f1b3d",
       "style": "IPY_MODEL_eecdf6a11c7b4ee2a018401182912c7f",
       "tooltip": "Chain it"
      }
     },
     "7611593ebe1a4cb6ad670f7e191fb5cb": {
      "model_module": "@jupyter-widgets/controls",
      "model_module_version": "2.0.0",
      "model_name": "ButtonModel",
      "state": {
       "description": "Fetch info",
       "disabled": true,
       "icon": "check",
       "layout": "IPY_MODEL_fac15d2e52f64bd5b699a9796fb7ceb5",
       "style": "IPY_MODEL_1bd204e887194ec38ec2540df9bcc3c1",
       "tooltip": "Fetch info"
      }
     },
     "7654e83c182a4f3489d07efe93a03dd7": {
      "model_module": "@jupyter-widgets/controls",
      "model_module_version": "2.0.0",
      "model_name": "HTMLStyleModel",
      "state": {
       "description_width": "",
       "font_size": null,
       "text_color": null
      }
     },
     "76a71e391c094694ac8d92135d3a56a7": {
      "model_module": "@jupyter-widgets/controls",
      "model_module_version": "2.0.0",
      "model_name": "DescriptionStyleModel",
      "state": {
       "description_width": ""
      }
     },
     "76b62fd4340b45508e3d417d995c7e05": {
      "model_module": "@jupyter-widgets/controls",
      "model_module_version": "2.0.0",
      "model_name": "TextModel",
      "state": {
       "description": "Type:",
       "disabled": true,
       "layout": "IPY_MODEL_08e2786543ac43f388e24b037a2335c8",
       "style": "IPY_MODEL_370b14b50e074665b4d55697b413acf3",
       "value": "object"
      }
     },
     "76f934e232834856a078de49a4b0d420": {
      "model_module": "@jupyter-widgets/controls",
      "model_module_version": "2.0.0",
      "model_name": "DescriptionStyleModel",
      "state": {
       "description_width": ""
      }
     },
     "771d3b4d394246e39e9bc208261b68a9": {
      "model_module": "@jupyter-widgets/controls",
      "model_module_version": "2.0.0",
      "model_name": "DescriptionStyleModel",
      "state": {
       "description_width": ""
      }
     },
     "771e7a42b577474cb69dfc2836b3d98b": {
      "model_module": "@jupyter-widgets/controls",
      "model_module_version": "2.0.0",
      "model_name": "DescriptionStyleModel",
      "state": {
       "description_width": ""
      }
     },
     "77a5672671314edb84345e4f0cc88233": {
      "model_module": "@jupyter-widgets/base",
      "model_module_version": "2.0.0",
      "model_name": "LayoutModel",
      "state": {}
     },
     "77b8eb2c4de94d82924b4a4eb01792dd": {
      "model_module": "@jupyter-widgets/controls",
      "model_module_version": "2.0.0",
      "model_name": "LabelStyleModel",
      "state": {
       "description_width": "",
       "font_family": null,
       "font_size": null,
       "font_style": null,
       "font_variant": null,
       "font_weight": null,
       "text_color": null,
       "text_decoration": null
      }
     },
     "77c592af4d394416980d88d79b14d697": {
      "model_module": "jupyter-progressivis",
      "model_module_version": "^0.1.0",
      "model_name": "VegaWidgetModel",
      "state": {
       "_df": null,
       "_img_url": "null",
       "_model_module": "jupyter-progressivis",
       "_model_module_version": "^0.1.0",
       "_opt_source": "null",
       "_spec_source": "{\"$schema\": \"https://vega.github.io/schema/vega-lite/v4.8.1.json\", \"width\": 500, \"height\": 400, \"data\": {\"name\": \"data\"}, \"encoding\": {\"color\": {\"field\": \"z\", \"type\": \"quantitative\"}, \"x\": {\"field\": \"x\", \"type\": \"ordinal\"}, \"y\": {\"field\": \"y\", \"type\": \"ordinal\"}}, \"mark\": \"rect\", \"config\": {\"axis\": {\"disable\": true}}}",
       "_view_module": "jupyter-progressivis",
       "_view_module_version": "^0.1.0",
       "layout": "IPY_MODEL_b78479222a0848ef8329b345918b89b8"
      }
     },
     "787d66025d1b4aa9a36e32951cb649d0": {
      "model_module": "@jupyter-widgets/controls",
      "model_module_version": "2.0.0",
      "model_name": "HBoxModel",
      "state": {
       "children": [
        "IPY_MODEL_c1b7a6c772ee426194f7261e954ddeee",
        "IPY_MODEL_c49d74b692544bbbbb2b70a8ec5e5103",
        "IPY_MODEL_fb1b6b2725564607b625c61d6ba20922"
       ],
       "layout": "IPY_MODEL_1779af9298e241e5a03b495b31936958"
      }
     },
     "788c29b29a0c4be1993241926b233b6a": {
      "model_module": "@jupyter-widgets/controls",
      "model_module_version": "2.0.0",
      "model_name": "CheckboxStyleModel",
      "state": {
       "description_width": ""
      }
     },
     "78b420736e314ddea49c3f8944506915": {
      "model_module": "@jupyter-widgets/base",
      "model_module_version": "2.0.0",
      "model_name": "LayoutModel",
      "state": {}
     },
     "78baf8c5964e472bb2cc119cb2c65fd3": {
      "model_module": "@jupyter-widgets/controls",
      "model_module_version": "2.0.0",
      "model_name": "ButtonModel",
      "state": {
       "button_style": "danger",
       "icon": "trash",
       "layout": "IPY_MODEL_51aa693453e94275897170aa57577a4b",
       "style": "IPY_MODEL_7157e749b841466096a76cbf56b2ac8c"
      }
     },
     "78df0ce9daf249d497ba7ede6a6c533f": {
      "model_module": "@jupyter-widgets/controls",
      "model_module_version": "2.0.0",
      "model_name": "CheckboxStyleModel",
      "state": {
       "description_width": ""
      }
     },
     "78e4295e4403455e8899c25cf44c7174": {
      "model_module": "@jupyter-widgets/controls",
      "model_module_version": "2.0.0",
      "model_name": "CheckboxModel",
      "state": {
       "disabled": true,
       "indent": false,
       "layout": "IPY_MODEL_b79ee21ff69f4914bc170e8b91d7e9b4",
       "style": "IPY_MODEL_1c211824e48e478e93dfb53f2a4ea4cc",
       "value": false
      }
     },
     "78ef5acf9ba34b3ea4906a5c64814b8b": {
      "model_module": "@jupyter-widgets/base",
      "model_module_version": "2.0.0",
      "model_name": "LayoutModel",
      "state": {}
     },
     "78ff5e13aed64a7594de98f1e8d87399": {
      "model_module": "@jupyter-widgets/base",
      "model_module_version": "2.0.0",
      "model_name": "LayoutModel",
      "state": {}
     },
     "79032226095b48caae908d5fec2d486d": {
      "model_module": "@jupyter-widgets/controls",
      "model_module_version": "2.0.0",
      "model_name": "LabelModel",
      "state": {
       "layout": "IPY_MODEL_2689469060dc402684561b2e96df30ac",
       "style": "IPY_MODEL_85babb92f9a14c29b4953c1f5691792f",
       "value": "y"
      }
     },
     "793d8341f8eb4d579695e0693f32e4d4": {
      "model_module": "@jupyter-widgets/base",
      "model_module_version": "2.0.0",
      "model_name": "LayoutModel",
      "state": {}
     },
     "79421b5eaa964a4f92cba43b41abaf99": {
      "model_module": "@jupyter-widgets/base",
      "model_module_version": "2.0.0",
      "model_name": "LayoutModel",
      "state": {}
     },
     "79937332d925499eb5a05bf1a775ef5d": {
      "model_module": "@jupyter-widgets/base",
      "model_module_version": "2.0.0",
      "model_name": "LayoutModel",
      "state": {}
     },
     "7994e1a55efb459fa817c9238730f953": {
      "model_module": "@jupyter-widgets/base",
      "model_module_version": "2.0.0",
      "model_name": "LayoutModel",
      "state": {}
     },
     "799dc6c650d446d7b7761a0f3fb7e4a3": {
      "model_module": "@jupyter-widgets/controls",
      "model_module_version": "2.0.0",
      "model_name": "TabModel",
      "state": {
       "children": [
        "IPY_MODEL_a7cadd8e4e644ab08564aefbe4df2d62",
        "IPY_MODEL_492c7a70cec84ea2860fd11996dbcee1"
       ],
       "layout": "IPY_MODEL_a7dcc0b80930458ea156777e968e029a",
       "selected_index": 0,
       "titles": [
        "Primary",
        "Related"
       ]
      }
     },
     "79a42aa2cc9940e8ab30e30f97475456": {
      "model_module": "@jupyter-widgets/controls",
      "model_module_version": "2.0.0",
      "model_name": "CheckboxModel",
      "state": {
       "description": "Enable/disable all",
       "disabled": true,
       "layout": "IPY_MODEL_12760ac6de554d2dbf263dfdf654ca44",
       "style": "IPY_MODEL_0df317f68c784c22a3693da565eada25",
       "value": false
      }
     },
     "79aacd331e2b47f8b4a5e4a942851921": {
      "model_module": "@jupyter-widgets/controls",
      "model_module_version": "2.0.0",
      "model_name": "TextStyleModel",
      "state": {
       "description_width": "",
       "font_size": null,
       "text_color": null
      }
     },
     "79d33f43684a4159a62544ecb88b93a6": {
      "model_module": "@jupyter-widgets/controls",
      "model_module_version": "2.0.0",
      "model_name": "CheckboxModel",
      "state": {
       "description": "Filtering",
       "disabled": false,
       "layout": "IPY_MODEL_ae472a03c2414d52859aa38654a27a13",
       "style": "IPY_MODEL_827994d43b4144ab861e54becccf50bf",
       "value": false
      }
     },
     "79fbe3d1faf04036937dab66374f4636": {
      "model_module": "@jupyter-widgets/base",
      "model_module_version": "2.0.0",
      "model_name": "LayoutModel",
      "state": {}
     },
     "7a2d99b6d22847e3b65a2d41e2b31094": {
      "model_module": "@jupyter-widgets/controls",
      "model_module_version": "2.0.0",
      "model_name": "DescriptionStyleModel",
      "state": {
       "description_width": ""
      }
     },
     "7a4705f90111401eb860cf7a88772400": {
      "model_module": "@jupyter-widgets/controls",
      "model_module_version": "2.0.0",
      "model_name": "HTMLModel",
      "state": {
       "layout": "IPY_MODEL_7c0414a1480a406280335c002349df17",
       "style": "IPY_MODEL_230536c028f04777840d582cb9fe9cdf"
      }
     },
     "7a565010088f4a98a9caf60fc793e393": {
      "model_module": "@jupyter-widgets/base",
      "model_module_version": "2.0.0",
      "model_name": "LayoutModel",
      "state": {}
     },
     "7a6c8eddd59d45efaab81832cfed3909": {
      "model_module": "@jupyter-widgets/controls",
      "model_module_version": "2.0.0",
      "model_name": "VBoxModel",
      "state": {
       "children": [
        "IPY_MODEL_83e28dbda5224e18bdf1e4687535d5db",
        "IPY_MODEL_7d4176755a0b4c86a63af0321d21ed1b"
       ],
       "layout": "IPY_MODEL_d42d54ca064243c08642e0ca90c65bf9"
      }
     },
     "7a7a99e375fb455fa99bd2db42b175b3": {
      "model_module": "@jupyter-widgets/controls",
      "model_module_version": "2.0.0",
      "model_name": "ButtonModel",
      "state": {
       "description": "OK",
       "disabled": true,
       "icon": "check",
       "layout": "IPY_MODEL_98ff4876d994481c92675c884bc35bc7",
       "style": "IPY_MODEL_984858880c9e48ffb879484376417e18",
       "tooltip": "OK"
      }
     },
     "7a7f911eba2f404eab6af030e6ca02cb": {
      "model_module": "@jupyter-widgets/base",
      "model_module_version": "2.0.0",
      "model_name": "LayoutModel",
      "state": {}
     },
     "7a8c6461d6fa495db50f285a6dcf6e37": {
      "model_module": "@jupyter-widgets/base",
      "model_module_version": "2.0.0",
      "model_name": "LayoutModel",
      "state": {}
     },
     "7a990a3a0913409fa78dfe2d072c8b09": {
      "model_module": "@jupyter-widgets/controls",
      "model_module_version": "2.0.0",
      "model_name": "HTMLStyleModel",
      "state": {
       "description_width": "",
       "font_size": null,
       "text_color": null
      }
     },
     "7ade1a3d5c694880895a6cb05ba69cb8": {
      "model_module": "@jupyter-widgets/controls",
      "model_module_version": "2.0.0",
      "model_name": "TextStyleModel",
      "state": {
       "description_width": "",
       "font_size": null,
       "text_color": null
      }
     },
     "7af2e488a2cb4338b0d3496e2d7d22fd": {
      "model_module": "@jupyter-widgets/controls",
      "model_module_version": "2.0.0",
      "model_name": "SelectMultipleModel",
      "state": {
       "_options_labels": [
        "tpep_pickup_datetime:datetime64",
        "tpep_dropoff_datetime:datetime64",
        "passenger_count:int64",
        "PULocationID:int64",
        "Borough:string"
       ],
       "description": "By",
       "disabled": true,
       "index": [
        4
       ],
       "layout": "IPY_MODEL_241c3176db0748d8ae71abef12db63f3",
       "rows": 5,
       "style": "IPY_MODEL_907a7c1e7905404c9a9213af25614be8"
      }
     },
     "7b16a0289d824e2fb6bd91a9dda596dd": {
      "model_module": "@jupyter-widgets/controls",
      "model_module_version": "2.0.0",
      "model_name": "HTMLStyleModel",
      "state": {
       "description_width": "",
       "font_size": null,
       "text_color": null
      }
     },
     "7b1d1b45ec754f71af4ff8a18c61f661": {
      "model_module": "@jupyter-widgets/controls",
      "model_module_version": "2.0.0",
      "model_name": "TextModel",
      "state": {
       "continuous_update": false,
       "description": "True values",
       "disabled": true,
       "layout": "IPY_MODEL_d410797c5e1b4facba292b1cf05d0ef6",
       "style": "IPY_MODEL_dacfd5c143d145a983eee71724a36242"
      }
     },
     "7b1fd800649640f596119ead197f51f9": {
      "model_module": "@jupyter-widgets/base",
      "model_module_version": "2.0.0",
      "model_name": "LayoutModel",
      "state": {}
     },
     "7b7705c150014fecaf267f8f9cf6a135": {
      "model_module": "@jupyter-widgets/controls",
      "model_module_version": "2.0.0",
      "model_name": "HTMLStyleModel",
      "state": {
       "description_width": "",
       "font_size": null,
       "text_color": null
      }
     },
     "7b9266d2641444348fff1e265af63c77": {
      "model_module": "@jupyter-widgets/controls",
      "model_module_version": "2.0.0",
      "model_name": "TextModel",
      "state": {
       "description": "Rename:",
       "layout": "IPY_MODEL_d60f05ee552648a3a8238f815d7b566a",
       "style": "IPY_MODEL_a667ac99001440ed8f06c091225c47a8",
       "value": "service_zone"
      }
     },
     "7ba95530da42432383a15460f13e78e2": {
      "model_module": "@jupyter-widgets/controls",
      "model_module_version": "2.0.0",
      "model_name": "DescriptionStyleModel",
      "state": {
       "description_width": ""
      }
     },
     "7bda1767b2934dc2831cec1c140f0777": {
      "model_module": "@jupyter-widgets/controls",
      "model_module_version": "2.0.0",
      "model_name": "CheckboxModel",
      "state": {
       "description": "Y",
       "disabled": false,
       "indent": false,
       "layout": "IPY_MODEL_b32d2d14643940418c02c23e248d2f4b",
       "style": "IPY_MODEL_099bfd36ce9a4936ba58378451a9d947",
       "value": true
      }
     },
     "7c0414a1480a406280335c002349df17": {
      "model_module": "@jupyter-widgets/base",
      "model_module_version": "2.0.0",
      "model_name": "LayoutModel",
      "state": {}
     },
     "7c1c463ac9ee4a24a7cce1ad5ed8633f": {
      "model_module": "@jupyter-widgets/base",
      "model_module_version": "2.0.0",
      "model_name": "LayoutModel",
      "state": {}
     },
     "7c3b260c780e495c943f9c42fa055d48": {
      "model_module": "@jupyter-widgets/controls",
      "model_module_version": "2.0.0",
      "model_name": "LabelModel",
      "state": {
       "layout": "IPY_MODEL_d83e244e4eb544c4a392b531570b7e79",
       "style": "IPY_MODEL_a4d6b5b04c494a8a99aaadd5d21c2cda",
       "value": "PColumns"
      }
     },
     "7c3b3a546bf747eab8bb8fb8d2d4786b": {
      "model_module": "@jupyter-widgets/controls",
      "model_module_version": "2.0.0",
      "model_name": "ButtonStyleModel",
      "state": {
       "font_family": null,
       "font_size": null,
       "font_style": null,
       "font_variant": null,
       "font_weight": null,
       "text_color": null,
       "text_decoration": null
      }
     },
     "7c427d3afa1946088b664f9f94e9a121": {
      "model_module": "@jupyter-widgets/controls",
      "model_module_version": "2.0.0",
      "model_name": "DropdownModel",
      "state": {
       "_options_labels": [
        "",
        ">",
        "<",
        ">=",
        "<=",
        "==",
        "!="
       ],
       "description": "Filter",
       "index": 0,
       "layout": "IPY_MODEL_d730a486acc34edab37a71f46001b1c9",
       "style": "IPY_MODEL_e0335ea6de9f4f3a96490c09328fe55a"
      }
     },
     "7ca1d15fa2994f628fa71477cf04b7ca": {
      "model_module": "@jupyter-widgets/controls",
      "model_module_version": "2.0.0",
      "model_name": "CheckboxStyleModel",
      "state": {
       "description_width": ""
      }
     },
     "7cc4eb40f26648e8b39d51a8d021068c": {
      "model_module": "@jupyter-widgets/controls",
      "model_module_version": "2.0.0",
      "model_name": "SelectModel",
      "state": {
       "_options_labels": [
        "tpep_pickup_datetime:datetime64[us]",
        "tpep_dropoff_datetime:datetime64[us]",
        "passenger_count:int64",
        "PULocationID:int64"
       ],
       "disabled": true,
       "index": null,
       "layout": "IPY_MODEL_408a7fcb568f4248bacbf824e4640050",
       "rows": 20,
       "style": "IPY_MODEL_8a8ff522099b465c873dcc88e5ae0473"
      }
     },
     "7cc8d043117a4d9683afc1a23cb8b2f8": {
      "model_module": "@jupyter-widgets/controls",
      "model_module_version": "2.0.0",
      "model_name": "SelectModel",
      "state": {
       "_options_labels": [
        "VendorID:int64",
        "tpep_pickup_datetime:datetime64[us]",
        "tpep_dropoff_datetime:datetime64[us]",
        "passenger_count:int64",
        "trip_distance:float64",
        "RatecodeID:int64",
        "store_and_fwd_flag:object",
        "PULocationID:int64",
        "DOLocationID:int64",
        "payment_type:int64",
        "fare_amount:float64",
        "extra:float64",
        "mta_tax:float64",
        "tip_amount:float64",
        "tolls_amount:float64",
        "improvement_surcharge:float64",
        "total_amount:float64",
        "congestion_surcharge:object",
        "airport_fee:object"
       ],
       "disabled": true,
       "index": 3,
       "layout": "IPY_MODEL_ad55605a69dd4efbacbae3eddce2b429",
       "rows": 20,
       "style": "IPY_MODEL_9393c2a21e384322bb2da3ff1d6277a4"
      }
     },
     "7cd3f585b1fb4fa39feee22b1bc4beba": {
      "model_module": "@jupyter-widgets/base",
      "model_module_version": "2.0.0",
      "model_name": "LayoutModel",
      "state": {}
     },
     "7d15ab7d39954f14b0185dc0cf1fd904": {
      "model_module": "@jupyter-widgets/base",
      "model_module_version": "2.0.0",
      "model_name": "LayoutModel",
      "state": {}
     },
     "7d1e65c3bf104f6d96caffb7322a1ea6": {
      "model_module": "@jupyter-widgets/base",
      "model_module_version": "2.0.0",
      "model_name": "LayoutModel",
      "state": {
       "max_width": "100px"
      }
     },
     "7d4176755a0b4c86a63af0321d21ed1b": {
      "model_module": "@jupyter-widgets/controls",
      "model_module_version": "2.0.0",
      "model_name": "HBoxModel",
      "state": {
       "children": [
        "IPY_MODEL_dbae1ebf3509475cbee49b6f412a71d8",
        "IPY_MODEL_df7fb3140ab446f086a5036824fc0141"
       ],
       "layout": "IPY_MODEL_da3af27926a14e779a4995b7d6d1dc6b"
      }
     },
     "7d44a661c9944196bacd0e8bd5d4257b": {
      "model_module": "@jupyter-widgets/base",
      "model_module_version": "2.0.0",
      "model_name": "LayoutModel",
      "state": {}
     },
     "7d4cc650cee44a1caec48f2043095f76": {
      "model_module": "@jupyter-widgets/base",
      "model_module_version": "2.0.0",
      "model_name": "LayoutModel",
      "state": {}
     },
     "7d512260fa684479a62adafe01d9ce23": {
      "model_module": "@jupyter-widgets/controls",
      "model_module_version": "2.0.0",
      "model_name": "TextStyleModel",
      "state": {
       "description_width": "",
       "font_size": null,
       "text_color": null
      }
     },
     "7d740e382d40442f98fdcb7f45756ad3": {
      "model_module": "@jupyter-widgets/controls",
      "model_module_version": "2.0.0",
      "model_name": "ButtonStyleModel",
      "state": {
       "font_family": null,
       "font_size": null,
       "font_style": null,
       "font_variant": null,
       "font_weight": null,
       "text_color": null,
       "text_decoration": null
      }
     },
     "7d8e50aebffe471aa2b01fcdb1c77f21": {
      "model_module": "@jupyter-widgets/base",
      "model_module_version": "2.0.0",
      "model_name": "LayoutModel",
      "state": {}
     },
     "7e1deb79823f498d8a84dcc747df7497": {
      "model_module": "@jupyter-widgets/controls",
      "model_module_version": "2.0.0",
      "model_name": "LabelModel",
      "state": {
       "layout": "IPY_MODEL_36f41302dd06429db87e2b68910db12c",
       "style": "IPY_MODEL_ccdc0feaa4b04deaa3bed2b9a0e00fe7",
       "value": "tpep_dropoff_datetime:datetime64"
      }
     },
     "7f238c73b4ce425b8297599c319dd951": {
      "model_module": "@jupyter-widgets/controls",
      "model_module_version": "2.0.0",
      "model_name": "LabelStyleModel",
      "state": {
       "description_width": "",
       "font_family": null,
       "font_size": null,
       "font_style": null,
       "font_variant": null,
       "font_weight": null,
       "text_color": null,
       "text_decoration": null
      }
     },
     "7f31daa110b34c6e8ab2724fec0c75fb": {
      "model_module": "@jupyter-widgets/base",
      "model_module_version": "2.0.0",
      "model_name": "LayoutModel",
      "state": {}
     },
     "7f8202d87a724060a6984e69d6f6d0f6": {
      "model_module": "@jupyter-widgets/base",
      "model_module_version": "2.0.0",
      "model_name": "LayoutModel",
      "state": {
       "height": "30px",
       "width": "30px"
      }
     },
     "7fbf76720435483686375a22e747f317": {
      "model_module": "@jupyter-widgets/base",
      "model_module_version": "2.0.0",
      "model_name": "LayoutModel",
      "state": {}
     },
     "7fea0b70a53844b0a37ae2c58984fe60": {
      "model_module": "@jupyter-widgets/base",
      "model_module_version": "2.0.0",
      "model_name": "LayoutModel",
      "state": {}
     },
     "7ff2cd082ebe446d8db5ed79c996d0cd": {
      "model_module": "@jupyter-widgets/controls",
      "model_module_version": "2.0.0",
      "model_name": "CheckboxModel",
      "state": {
       "disabled": true,
       "indent": false,
       "layout": "IPY_MODEL_d4ed4cb6bb3247b6b049b88db00d46a5",
       "style": "IPY_MODEL_db36743d0c844e73b451843b74d9c84c",
       "value": true
      }
     },
     "800e1558c4064e62ac242fb6dfe3f7bf": {
      "model_module": "@jupyter-widgets/base",
      "model_module_version": "2.0.0",
      "model_name": "LayoutModel",
      "state": {}
     },
     "8029e1602583481793df167fc2fb5b9e": {
      "model_module": "@jupyter-widgets/controls",
      "model_module_version": "2.0.0",
      "model_name": "HTMLStyleModel",
      "state": {
       "description_width": "",
       "font_size": null,
       "text_color": null
      }
     },
     "80eab7d664974c38bfb04bd65410aa34": {
      "model_module": "@jupyter-widgets/controls",
      "model_module_version": "2.0.0",
      "model_name": "HTMLModel",
      "state": {
       "layout": "IPY_MODEL_22f5265b9fef4bbca560b63f95d82c46",
       "style": "IPY_MODEL_8921d48e5ce14563a15dc43878bf4627"
      }
     },
     "813531ea38a9490bbeee92eaa46585b8": {
      "model_module": "@jupyter-widgets/controls",
      "model_module_version": "2.0.0",
      "model_name": "HBoxModel",
      "state": {
       "children": [
        "IPY_MODEL_2f97d17bf76f4534a9204257e9dfdc88"
       ],
       "layout": "IPY_MODEL_642b47ca3a664d0e8a27393502f0bc70"
      }
     },
     "814c0e9abdff454f8b6476c22b2d915f": {
      "model_module": "@jupyter-widgets/controls",
      "model_module_version": "2.0.0",
      "model_name": "HTMLModel",
      "state": {
       "layout": "IPY_MODEL_ab9fd352f89d45ab8bbcf7c533437655",
       "style": "IPY_MODEL_a900da50bba24fdca91ca6fe9dc025eb"
      }
     },
     "81b426671be84e1b920a53c6264113f5": {
      "model_module": "@jupyter-widgets/base",
      "model_module_version": "2.0.0",
      "model_name": "LayoutModel",
      "state": {}
     },
     "81be4f37fb4249739d289ac672260cac": {
      "model_module": "@jupyter-widgets/controls",
      "model_module_version": "2.0.0",
      "model_name": "DescriptionStyleModel",
      "state": {
       "description_width": ""
      }
     },
     "81c0d6155e954950881c733ce5eb34ac": {
      "model_module": "@jupyter-widgets/base",
      "model_module_version": "2.0.0",
      "model_name": "LayoutModel",
      "state": {}
     },
     "81d7b8a7991242c488f5e348874f5f4b": {
      "model_module": "@jupyter-widgets/base",
      "model_module_version": "2.0.0",
      "model_name": "LayoutModel",
      "state": {}
     },
     "81da068399d94365af544d775ac4a06c": {
      "model_module": "@jupyter-widgets/base",
      "model_module_version": "2.0.0",
      "model_name": "LayoutModel",
      "state": {}
     },
     "825fb6debfcc470486f1b0bd090afd9e": {
      "model_module": "@jupyter-widgets/controls",
      "model_module_version": "2.0.0",
      "model_name": "ButtonStyleModel",
      "state": {
       "font_family": null,
       "font_size": null,
       "font_style": null,
       "font_variant": null,
       "font_weight": null,
       "text_color": null,
       "text_decoration": null
      }
     },
     "82660ba0c319498ebd82dbbaa5e57905": {
      "model_module": "@jupyter-widgets/controls",
      "model_module_version": "2.0.0",
      "model_name": "BoxModel",
      "state": {
       "children": [
        "IPY_MODEL_a1c08df7705246b9b7287f2188f1c5a4"
       ],
       "layout": "IPY_MODEL_fb372e6a29ce4ebc800ed91da26b8895"
      }
     },
     "827994d43b4144ab861e54becccf50bf": {
      "model_module": "@jupyter-widgets/controls",
      "model_module_version": "2.0.0",
      "model_name": "CheckboxStyleModel",
      "state": {
       "description_width": ""
      }
     },
     "82b53b4b11b84e9b96a0115832c1cc90": {
      "model_module": "@jupyter-widgets/controls",
      "model_module_version": "2.0.0",
      "model_name": "CheckboxStyleModel",
      "state": {
       "description_width": ""
      }
     },
     "82c200cc992f44d7a107e843e4382fcf": {
      "model_module": "@jupyter-widgets/base",
      "model_module_version": "2.0.0",
      "model_name": "LayoutModel",
      "state": {}
     },
     "82e32596914b40668b21e3d1db13863b": {
      "model_module": "@jupyter-widgets/base",
      "model_module_version": "2.0.0",
      "model_name": "LayoutModel",
      "state": {}
     },
     "82e79b58d10649c7a329e58babc3f2c9": {
      "model_module": "@jupyter-widgets/base",
      "model_module_version": "2.0.0",
      "model_name": "LayoutModel",
      "state": {}
     },
     "82f27d8ca09240d18b1bce4c31746d57": {
      "model_module": "@jupyter-widgets/controls",
      "model_module_version": "2.0.0",
      "model_name": "HTMLStyleModel",
      "state": {
       "description_width": "",
       "font_size": null,
       "text_color": null
      }
     },
     "83102d14b0094bb4a10123a0331fbdcc": {
      "model_module": "@jupyter-widgets/controls",
      "model_module_version": "2.0.0",
      "model_name": "LabelStyleModel",
      "state": {
       "description_width": "",
       "font_family": null,
       "font_size": null,
       "font_style": null,
       "font_variant": null,
       "font_weight": null,
       "text_color": null,
       "text_decoration": null
      }
     },
     "8315fd541a3d43b68e84e33ca2ad2086": {
      "model_module": "@jupyter-widgets/controls",
      "model_module_version": "2.0.0",
      "model_name": "HTMLStyleModel",
      "state": {
       "description_width": "",
       "font_size": null,
       "text_color": null
      }
     },
     "8328a0d5450e4d1389d9a3f1737524f7": {
      "model_module": "@jupyter-widgets/controls",
      "model_module_version": "2.0.0",
      "model_name": "TextModel",
      "state": {
       "description": "Type:",
       "disabled": true,
       "layout": "IPY_MODEL_c5b4c9adbd0144c1ad17f54fe0889ee0",
       "style": "IPY_MODEL_f10bce47e08f43c4884005ddc2b809fa",
       "value": "object"
      }
     },
     "83333e91a26c44c18139063e9fb50ca8": {
      "model_module": "@jupyter-widgets/controls",
      "model_module_version": "2.0.0",
      "model_name": "DescriptionStyleModel",
      "state": {
       "description_width": ""
      }
     },
     "8384632db2cc42c58806df021f2ef2e5": {
      "model_module": "@jupyter-widgets/base",
      "model_module_version": "2.0.0",
      "model_name": "LayoutModel",
      "state": {}
     },
     "83a13d6b8f71451293a4dbdb15b745f5": {
      "model_module": "@jupyter-widgets/controls",
      "model_module_version": "2.0.0",
      "model_name": "TextareaModel",
      "state": {
       "layout": "IPY_MODEL_6e57cc443e94431b8280d5b86906b044",
       "rows": 20,
       "style": "IPY_MODEL_93c2d0c9c88f40d0a4858bd44c456468",
       "value": "  name: trip_distance\n  path: trip_distance\n  max_definition_level: 1\n  max_repetition_level: 0\n  physical_type: DOUBLE\n  logical_type: None\n  converted_type (legacy): NONE\n  file_offset: 110246020\n  file_path: \n  physical_type: DOUBLE\n  num_values: 13157677\n  path_in_schema: trip_distance\n  is_stats_set: True\n  statistics:\n      has_min_max: True\n      min: -0.0\n      max: 15700000.0\n      null_count: 0\n      distinct_count: None\n      num_values: 13157677\n      physical_type: DOUBLE\n      logical_type: None\n      converted_type (legacy): NONE\n  geo_statistics:\n    None\n  compression: GZIP\n  encodings: ('PLAIN_DICTIONARY', 'PLAIN', 'RLE')\n  has_dictionary_page: True\n  dictionary_page_offset: 92366526\n  data_page_offset: 92379524\n  total_compressed_size: 17879494\n  total_uncompressed_size: 20640142"
      }
     },
     "83b235e4766c45e385afef64358fe03f": {
      "model_module": "@jupyter-widgets/base",
      "model_module_version": "2.0.0",
      "model_name": "LayoutModel",
      "state": {}
     },
     "83cb0ca3805345e1a1a7e6a8fd131a87": {
      "model_module": "@jupyter-widgets/controls",
      "model_module_version": "2.0.0",
      "model_name": "CheckboxStyleModel",
      "state": {
       "description_width": ""
      }
     },
     "83e28dbda5224e18bdf1e4687535d5db": {
      "model_module": "@jupyter-widgets/controls",
      "model_module_version": "2.0.0",
      "model_name": "HBoxModel",
      "state": {
       "children": [
        "IPY_MODEL_00266b610b6b472e8836b1895ea3c364",
        "IPY_MODEL_3f17a14371284c2ebca57c86ec474a00"
       ],
       "layout": "IPY_MODEL_da3af27926a14e779a4995b7d6d1dc6b"
      }
     },
     "8444cdc586d34d9b85db260926e816b2": {
      "model_module": "@jupyter-widgets/controls",
      "model_module_version": "2.0.0",
      "model_name": "LabelModel",
      "state": {
       "layout": "IPY_MODEL_99e5525e924b47e7b707529b4df6e1f7",
       "style": "IPY_MODEL_d43867eb27e54abbb8aee10f4654ff61",
       "value": "Borough:string"
      }
     },
     "84b70204bc6847578c1890bbc7253c83": {
      "model_module": "@jupyter-widgets/base",
      "model_module_version": "2.0.0",
      "model_name": "LayoutModel",
      "state": {}
     },
     "84d8bafc597a4656b625173e894f89eb": {
      "model_module": "@jupyter-widgets/base",
      "model_module_version": "2.0.0",
      "model_name": "LayoutModel",
      "state": {
       "max_width": "fit-content"
      }
     },
     "8511dcba929d40c29d4d078ebb2b4e36": {
      "model_module": "@jupyter-widgets/base",
      "model_module_version": "2.0.0",
      "model_name": "LayoutModel",
      "state": {}
     },
     "85babb92f9a14c29b4953c1f5691792f": {
      "model_module": "@jupyter-widgets/controls",
      "model_module_version": "2.0.0",
      "model_name": "LabelStyleModel",
      "state": {
       "description_width": "",
       "font_family": null,
       "font_size": null,
       "font_style": null,
       "font_variant": null,
       "font_weight": null,
       "text_color": null,
       "text_decoration": null
      }
     },
     "85c1a10f3fbb4ecc836ab0495922e369": {
      "model_module": "@jupyter-widgets/controls",
      "model_module_version": "2.0.0",
      "model_name": "HTMLStyleModel",
      "state": {
       "description_width": "",
       "font_size": null,
       "text_color": null
      }
     },
     "85e409bbf2ea4d3ba2a147026a800097": {
      "model_module": "@jupyter-widgets/controls",
      "model_module_version": "2.0.0",
      "model_name": "DescriptionStyleModel",
      "state": {
       "description_width": ""
      }
     },
     "85edc968673f40df813de7efec671df5": {
      "model_module": "@jupyter-widgets/controls",
      "model_module_version": "2.0.0",
      "model_name": "TextareaModel",
      "state": {
       "layout": "IPY_MODEL_cd58973d95f04e308407ee2b38cb536f",
       "rows": 20,
       "style": "IPY_MODEL_93eab0fc33a14c159d3311763df1f946",
       "value": "  name: congestion_surcharge\n  path: congestion_surcharge\n  max_definition_level: 1\n  max_repetition_level: 0\n  physical_type: INT32\n  logical_type: Null\n  converted_type (legacy): NONE\n  file_offset: 182476912\n  file_path: \n  physical_type: INT32\n  num_values: 13157677\n  path_in_schema: congestion_surcharge\n  is_stats_set: False\n  statistics:\n    None\n  geo_statistics:\n    None\n  compression: GZIP\n  encodings: ('PLAIN_DICTIONARY', 'PLAIN', 'RLE')\n  has_dictionary_page: True\n  dictionary_page_offset: 182476826\n  data_page_offset: 182476860\n  total_compressed_size: 86\n  total_uncompressed_size: 46"
      }
     },
     "85f7f8c88e1c4f7ab4d0f302e842a655": {
      "model_module": "@jupyter-widgets/controls",
      "model_module_version": "2.0.0",
      "model_name": "DropdownModel",
      "state": {
       "_options_labels": [
        "",
        "scatterplot.json",
        "bar_chart.json",
        "line_chart.json"
       ],
       "description": "Schemas",
       "index": 2,
       "layout": "IPY_MODEL_c1d4b1d689414282884edb4731336738",
       "style": "IPY_MODEL_b5f08562c5944d88b112864cc7394b4d"
      }
     },
     "8621786bc3f84820a6d18f565a95b1db": {
      "model_module": "@jupyter-widgets/controls",
      "model_module_version": "2.0.0",
      "model_name": "CheckboxModel",
      "state": {
       "description": "Shuffle URLs",
       "disabled": true,
       "layout": "IPY_MODEL_249392ddc42648c781c0944b14706941",
       "style": "IPY_MODEL_d49a786547cc4ef3a57e2a227a6d7880",
       "value": true
      }
     },
     "86295c82a50540d6b077f2f147605ff9": {
      "model_module": "@jupyter-widgets/base",
      "model_module_version": "2.0.0",
      "model_name": "LayoutModel",
      "state": {}
     },
     "867a16a058e143dca4d8d884b846a690": {
      "model_module": "@jupyter-widgets/controls",
      "model_module_version": "2.0.0",
      "model_name": "ButtonModel",
      "state": {
       "description": "Stop",
       "icon": "stop",
       "layout": "IPY_MODEL_bf7fadfdb1824caba17f00da484e02c0",
       "style": "IPY_MODEL_f19d044e49eb48ec929f70a327b61918",
       "tooltip": "Stop"
      }
     },
     "86b13633295647219a57e6738db67f54": {
      "model_module": "@jupyter-widgets/base",
      "model_module_version": "2.0.0",
      "model_name": "LayoutModel",
      "state": {}
     },
     "86b5c757c2974966a6ab15c5444ee47e": {
      "model_module": "@jupyter-widgets/base",
      "model_module_version": "2.0.0",
      "model_name": "LayoutModel",
      "state": {}
     },
     "87711c03a66f431d9e637c78bb9c8203": {
      "model_module": "@jupyter-widgets/base",
      "model_module_version": "2.0.0",
      "model_name": "LayoutModel",
      "state": {}
     },
     "879f65f5d5724885a4680102d3e5ff0a": {
      "model_module": "@jupyter-widgets/controls",
      "model_module_version": "2.0.0",
      "model_name": "CheckboxStyleModel",
      "state": {
       "description_width": ""
      }
     },
     "87b2ca07e8fb4724877f274ff34f4a49": {
      "model_module": "@jupyter-widgets/controls",
      "model_module_version": "2.0.0",
      "model_name": "CheckboxStyleModel",
      "state": {
       "description_width": ""
      }
     },
     "87b2eec50032459ca89fb356e9d40bb6": {
      "model_module": "@jupyter-widgets/controls",
      "model_module_version": "2.0.0",
      "model_name": "ButtonModel",
      "state": {
       "description": "Activate",
       "disabled": true,
       "icon": "check",
       "layout": "IPY_MODEL_cdef97770b244282893db8007f518646",
       "style": "IPY_MODEL_74990c5ce4314ae88adf7bc69350efc6",
       "tooltip": "Activate"
      }
     },
     "87ca1047002d415e83d94d77173d1165": {
      "model_module": "@jupyter-widgets/base",
      "model_module_version": "2.0.0",
      "model_name": "LayoutModel",
      "state": {}
     },
     "87f315b3d1304fcdadef2cbc69d634f4": {
      "model_module": "@jupyter-widgets/controls",
      "model_module_version": "2.0.0",
      "model_name": "CheckboxModel",
      "state": {
       "description": "Use",
       "disabled": false,
       "layout": "IPY_MODEL_8511dcba929d40c29d4d078ebb2b4e36",
       "style": "IPY_MODEL_59db8bc17f1143cc91f679f9e9b66365",
       "value": true
      }
     },
     "87f3485584904a9d972b45ea3daa7674": {
      "model_module": "@jupyter-widgets/controls",
      "model_module_version": "2.0.0",
      "model_name": "CheckboxModel",
      "state": {
       "disabled": true,
       "indent": false,
       "layout": "IPY_MODEL_9e373c8281fb41b29b1c08980b953189",
       "style": "IPY_MODEL_d59f96660ff74d559ec369ce27c4059b",
       "value": false
      }
     },
     "881c1a1dd8874638a880f235ce912f83": {
      "model_module": "@jupyter-widgets/controls",
      "model_module_version": "2.0.0",
      "model_name": "FloatTextModel",
      "state": {
       "layout": "IPY_MODEL_bb4d1632980e4077bdb65033115ab4eb",
       "step": null,
       "style": "IPY_MODEL_89a14618ed1d409dbba07252a83d7d85"
      }
     },
     "8840ed700ec54f8b81b049cec63f9132": {
      "model_module": "@jupyter-widgets/base",
      "model_module_version": "2.0.0",
      "model_name": "LayoutModel",
      "state": {}
     },
     "8856a72e06674e06accfc2a511972bdd": {
      "model_module": "@jupyter-widgets/base",
      "model_module_version": "2.0.0",
      "model_name": "LayoutModel",
      "state": {}
     },
     "88700b51b82d4dac99869f538bdf4928": {
      "model_module": "@jupyter-widgets/controls",
      "model_module_version": "2.0.0",
      "model_name": "TextModel",
      "state": {
       "description": "Type:",
       "disabled": true,
       "layout": "IPY_MODEL_7cd3f585b1fb4fa39feee22b1bc4beba",
       "style": "IPY_MODEL_6c4c0551d1a74a548e29421fd54659b5",
       "value": "object"
      }
     },
     "887deeff1cb54642859f347e8f647556": {
      "model_module": "@jupyter-widgets/base",
      "model_module_version": "2.0.0",
      "model_name": "LayoutModel",
      "state": {}
     },
     "88d28b0d8c74450f9c520f24fa58fdcc": {
      "model_module": "@jupyter-widgets/controls",
      "model_module_version": "2.0.0",
      "model_name": "TextModel",
      "state": {
       "description": "NA values:",
       "layout": "IPY_MODEL_a25ced7fb2354a73baf453e6127e3971",
       "style": "IPY_MODEL_a55a2445da104fbda9f943e53c09b35f"
      }
     },
     "890acd57c8034f0eb49877f8275ef49a": {
      "model_module": "@jupyter-widgets/controls",
      "model_module_version": "2.0.0",
      "model_name": "TextStyleModel",
      "state": {
       "description_width": "",
       "font_size": null,
       "text_color": null
      }
     },
     "891f1ce0e1cb4b919bef1a90bdad561a": {
      "model_module": "@jupyter-widgets/base",
      "model_module_version": "2.0.0",
      "model_name": "LayoutModel",
      "state": {}
     },
     "8921d48e5ce14563a15dc43878bf4627": {
      "model_module": "@jupyter-widgets/controls",
      "model_module_version": "2.0.0",
      "model_name": "HTMLStyleModel",
      "state": {
       "description_width": "",
       "font_size": null,
       "text_color": null
      }
     },
     "896f5354c3d5488e876e7c708e4ee8cb": {
      "model_module": "@jupyter-widgets/base",
      "model_module_version": "2.0.0",
      "model_name": "LayoutModel",
      "state": {}
     },
     "89a14618ed1d409dbba07252a83d7d85": {
      "model_module": "@jupyter-widgets/controls",
      "model_module_version": "2.0.0",
      "model_name": "DescriptionStyleModel",
      "state": {
       "description_width": ""
      }
     },
     "89b6d0a94ac34684b0d70cb204e3490f": {
      "model_module": "@jupyter-widgets/controls",
      "model_module_version": "2.0.0",
      "model_name": "DescriptionStyleModel",
      "state": {
       "description_width": ""
      }
     },
     "8a456dd260e14298a05b5e2bad0bdc92": {
      "model_module": "jupyter-progressivis",
      "model_module_version": "^0.1.0",
      "model_name": "SensitiveHTMLModel",
      "state": {
       "_model_module_version": "^0.1.0",
       "_view_module_version": "^0.1.0",
       "data": {
        "ps-cell_aggregate_1_classname": "aggregate",
        "ps-cell_aggregate_1_id": "aggregate_1",
        "ps-cell_aggregate_1_is_visualization": " ",
        "ps-cell_aggregate_1_last_update": 6235,
        "ps-cell_aggregate_1_order": 14,
        "ps-cell_aggregate_1_state": "state_blocked",
        "ps-cell_constant_1_classname": "constant",
        "ps-cell_constant_1_id": "constant_1",
        "ps-cell_constant_1_is_visualization": " ",
        "ps-cell_constant_1_last_update": 4263,
        "ps-cell_constant_1_order": 2,
        "ps-cell_constant_1_state": "state_terminated",
        "ps-cell_constant_2_classname": "constant",
        "ps-cell_constant_2_id": "constant_2",
        "ps-cell_constant_2_is_visualization": " ",
        "ps-cell_constant_2_last_update": 4690,
        "ps-cell_constant_2_order": 5,
        "ps-cell_constant_2_state": "state_terminated",
        "ps-cell_group_by_1_classname": "group_by",
        "ps-cell_group_by_1_id": "group_by_1",
        "ps-cell_group_by_1_is_visualization": " ",
        "ps-cell_group_by_1_last_update": 6232,
        "ps-cell_group_by_1_order": 8,
        "ps-cell_group_by_1_state": "state_ready",
        "ps-cell_group_by_2_classname": "group_by",
        "ps-cell_group_by_2_id": "group_by_2",
        "ps-cell_group_by_2_is_visualization": " ",
        "ps-cell_group_by_2_last_update": 6234,
        "ps-cell_group_by_2_order": 12,
        "ps-cell_group_by_2_state": "state_ready",
        "ps-cell_join_1_classname": "join",
        "ps-cell_join_1_id": "join_1",
        "ps-cell_join_1_is_visualization": " ",
        "ps-cell_join_1_last_update": 6233,
        "ps-cell_join_1_order": 10,
        "ps-cell_join_1_state": "state_blocked",
        "ps-cell_parquet_loader_1_classname": "parquet_loader",
        "ps-cell_parquet_loader_1_id": "parquet_loader_1",
        "ps-cell_parquet_loader_1_is_visualization": " ",
        "ps-cell_parquet_loader_1_last_update": 4524,
        "ps-cell_parquet_loader_1_order": 3,
        "ps-cell_parquet_loader_1_state": "state_terminated",
        "ps-cell_simple_csv_loader_1_classname": "simple_csv_loader",
        "ps-cell_simple_csv_loader_1_id": "simple_csv_loader_1",
        "ps-cell_simple_csv_loader_1_is_visualization": " ",
        "ps-cell_simple_csv_loader_1_last_update": 4697,
        "ps-cell_simple_csv_loader_1_order": 6,
        "ps-cell_simple_csv_loader_1_state": "state_terminated",
        "ps-cell_sink_1_classname": "sink",
        "ps-cell_sink_1_id": "sink_1",
        "ps-cell_sink_1_is_visualization": " ",
        "ps-cell_sink_1_last_update": 0,
        "ps-cell_sink_1_order": 1,
        "ps-cell_sink_1_state": "state_terminated",
        "ps-cell_sink_2_classname": "sink",
        "ps-cell_sink_2_id": "sink_2",
        "ps-cell_sink_2_is_visualization": " ",
        "ps-cell_sink_2_last_update": 0,
        "ps-cell_sink_2_order": 4,
        "ps-cell_sink_2_state": "state_terminated",
        "ps-cell_sink_3_classname": "sink",
        "ps-cell_sink_3_id": "sink_3",
        "ps-cell_sink_3_is_visualization": " ",
        "ps-cell_sink_3_last_update": 0,
        "ps-cell_sink_3_order": 7,
        "ps-cell_sink_3_state": "state_terminated",
        "ps-cell_sink_4_classname": "sink",
        "ps-cell_sink_4_id": "sink_4",
        "ps-cell_sink_4_is_visualization": " ",
        "ps-cell_sink_4_last_update": 0,
        "ps-cell_sink_4_order": 11,
        "ps-cell_sink_4_state": "state_terminated",
        "ps-cell_sink_5_classname": "sink",
        "ps-cell_sink_5_id": "sink_5",
        "ps-cell_sink_5_is_visualization": " ",
        "ps-cell_sink_5_last_update": 0,
        "ps-cell_sink_5_order": 13,
        "ps-cell_sink_5_state": "state_terminated",
        "ps-cell_sink_6_classname": "sink",
        "ps-cell_sink_6_id": "sink_6",
        "ps-cell_sink_6_is_visualization": " ",
        "ps-cell_sink_6_last_update": 0,
        "ps-cell_sink_6_order": 15,
        "ps-cell_sink_6_state": "state_terminated",
        "ps-cell_sink_7_classname": "sink",
        "ps-cell_sink_7_id": "sink_7",
        "ps-cell_sink_7_is_visualization": " ",
        "ps-cell_sink_7_last_update": 0,
        "ps-cell_sink_7_order": 16,
        "ps-cell_sink_7_state": "state_terminated",
        "ps-cell_unique_index_1_classname": "unique_index",
        "ps-cell_unique_index_1_id": "unique_index_1",
        "ps-cell_unique_index_1_is_visualization": " ",
        "ps-cell_unique_index_1_last_update": 4753,
        "ps-cell_unique_index_1_order": 9,
        "ps-cell_unique_index_1_state": "state_terminated",
        "ps-cell_variable_1_classname": "variable",
        "ps-cell_variable_1_id": "variable_1",
        "ps-cell_variable_1_is_visualization": " ",
        "ps-cell_variable_1_last_update": 6236,
        "ps-cell_variable_1_order": 0,
        "ps-cell_variable_1_state": "state_blocked"
       },
       "html": "\n<table class=\"table table-striped table-bordered table-hover table-condensed\">\n<thead><tr><th></th><th>Id</th><th>Class</th><th>State</th><th>Last Update</th>\n<th>Order</th></tr></thead>\n<tbody>\n\n  <tr>\n  \n  <td>\n  \n  <span id=\"ps-cell_variable_1_is_visualization\"> </span>\n  \n  </td>\n  \n  <td>\n  \n  <a class='ps-row-btn' id=\"ps-row-btn_variable_1\" type='button' >variable_1</a>\n  \n  </td>\n  \n  <td>\n  \n  <span id=\"ps-cell_variable_1_classname\">variable</span>\n  \n  </td>\n  \n  <td>\n  \n  <span id=\"ps-cell_variable_1_state\">state_blocked</span>\n  \n  </td>\n  \n  <td>\n  \n  <span id=\"ps-cell_variable_1_last_update\">5974</span>\n  \n  </td>\n  \n  <td>\n  \n  <span id=\"ps-cell_variable_1_order\">0</span>\n  \n  </td>\n  \n  </tr>\n\n  <tr>\n  \n  <td>\n  \n  <span id=\"ps-cell_sink_1_is_visualization\"> </span>\n  \n  </td>\n  \n  <td>\n  \n  <a class='ps-row-btn' id=\"ps-row-btn_sink_1\" type='button' >sink_1</a>\n  \n  </td>\n  \n  <td>\n  \n  <span id=\"ps-cell_sink_1_classname\">sink</span>\n  \n  </td>\n  \n  <td>\n  \n  <span id=\"ps-cell_sink_1_state\">state_terminated</span>\n  \n  </td>\n  \n  <td>\n  \n  <span id=\"ps-cell_sink_1_last_update\">0</span>\n  \n  </td>\n  \n  <td>\n  \n  <span id=\"ps-cell_sink_1_order\">1</span>\n  \n  </td>\n  \n  </tr>\n\n  <tr>\n  \n  <td>\n  \n  <span id=\"ps-cell_constant_1_is_visualization\"> </span>\n  \n  </td>\n  \n  <td>\n  \n  <a class='ps-row-btn' id=\"ps-row-btn_constant_1\" type='button' >constant_1</a>\n  \n  </td>\n  \n  <td>\n  \n  <span id=\"ps-cell_constant_1_classname\">constant</span>\n  \n  </td>\n  \n  <td>\n  \n  <span id=\"ps-cell_constant_1_state\">state_terminated</span>\n  \n  </td>\n  \n  <td>\n  \n  <span id=\"ps-cell_constant_1_last_update\">4263</span>\n  \n  </td>\n  \n  <td>\n  \n  <span id=\"ps-cell_constant_1_order\">2</span>\n  \n  </td>\n  \n  </tr>\n\n  <tr>\n  \n  <td>\n  \n  <span id=\"ps-cell_parquet_loader_1_is_visualization\"> </span>\n  \n  </td>\n  \n  <td>\n  \n  <a class='ps-row-btn' id=\"ps-row-btn_parquet_loader_1\" type='button' >parquet_loader_1</a>\n  \n  </td>\n  \n  <td>\n  \n  <span id=\"ps-cell_parquet_loader_1_classname\">parquet_loader</span>\n  \n  </td>\n  \n  <td>\n  \n  <span id=\"ps-cell_parquet_loader_1_state\">state_terminated</span>\n  \n  </td>\n  \n  <td>\n  \n  <span id=\"ps-cell_parquet_loader_1_last_update\">4524</span>\n  \n  </td>\n  \n  <td>\n  \n  <span id=\"ps-cell_parquet_loader_1_order\">3</span>\n  \n  </td>\n  \n  </tr>\n\n  <tr>\n  \n  <td>\n  \n  <span id=\"ps-cell_sink_2_is_visualization\"> </span>\n  \n  </td>\n  \n  <td>\n  \n  <a class='ps-row-btn' id=\"ps-row-btn_sink_2\" type='button' >sink_2</a>\n  \n  </td>\n  \n  <td>\n  \n  <span id=\"ps-cell_sink_2_classname\">sink</span>\n  \n  </td>\n  \n  <td>\n  \n  <span id=\"ps-cell_sink_2_state\">state_terminated</span>\n  \n  </td>\n  \n  <td>\n  \n  <span id=\"ps-cell_sink_2_last_update\">0</span>\n  \n  </td>\n  \n  <td>\n  \n  <span id=\"ps-cell_sink_2_order\">4</span>\n  \n  </td>\n  \n  </tr>\n\n  <tr>\n  \n  <td>\n  \n  <span id=\"ps-cell_constant_2_is_visualization\"> </span>\n  \n  </td>\n  \n  <td>\n  \n  <a class='ps-row-btn' id=\"ps-row-btn_constant_2\" type='button' >constant_2</a>\n  \n  </td>\n  \n  <td>\n  \n  <span id=\"ps-cell_constant_2_classname\">constant</span>\n  \n  </td>\n  \n  <td>\n  \n  <span id=\"ps-cell_constant_2_state\">state_terminated</span>\n  \n  </td>\n  \n  <td>\n  \n  <span id=\"ps-cell_constant_2_last_update\">4690</span>\n  \n  </td>\n  \n  <td>\n  \n  <span id=\"ps-cell_constant_2_order\">5</span>\n  \n  </td>\n  \n  </tr>\n\n  <tr>\n  \n  <td>\n  \n  <span id=\"ps-cell_simple_csv_loader_1_is_visualization\"> </span>\n  \n  </td>\n  \n  <td>\n  \n  <a class='ps-row-btn' id=\"ps-row-btn_simple_csv_loader_1\" type='button' >simple_csv_loader_1</a>\n  \n  </td>\n  \n  <td>\n  \n  <span id=\"ps-cell_simple_csv_loader_1_classname\">simple_csv_loader</span>\n  \n  </td>\n  \n  <td>\n  \n  <span id=\"ps-cell_simple_csv_loader_1_state\">state_terminated</span>\n  \n  </td>\n  \n  <td>\n  \n  <span id=\"ps-cell_simple_csv_loader_1_last_update\">4697</span>\n  \n  </td>\n  \n  <td>\n  \n  <span id=\"ps-cell_simple_csv_loader_1_order\">6</span>\n  \n  </td>\n  \n  </tr>\n\n  <tr>\n  \n  <td>\n  \n  <span id=\"ps-cell_sink_3_is_visualization\"> </span>\n  \n  </td>\n  \n  <td>\n  \n  <a class='ps-row-btn' id=\"ps-row-btn_sink_3\" type='button' >sink_3</a>\n  \n  </td>\n  \n  <td>\n  \n  <span id=\"ps-cell_sink_3_classname\">sink</span>\n  \n  </td>\n  \n  <td>\n  \n  <span id=\"ps-cell_sink_3_state\">state_terminated</span>\n  \n  </td>\n  \n  <td>\n  \n  <span id=\"ps-cell_sink_3_last_update\">0</span>\n  \n  </td>\n  \n  <td>\n  \n  <span id=\"ps-cell_sink_3_order\">7</span>\n  \n  </td>\n  \n  </tr>\n\n  <tr>\n  \n  <td>\n  \n  <span id=\"ps-cell_group_by_1_is_visualization\"> </span>\n  \n  </td>\n  \n  <td>\n  \n  <a class='ps-row-btn' id=\"ps-row-btn_group_by_1\" type='button' >group_by_1</a>\n  \n  </td>\n  \n  <td>\n  \n  <span id=\"ps-cell_group_by_1_classname\">group_by</span>\n  \n  </td>\n  \n  <td>\n  \n  <span id=\"ps-cell_group_by_1_state\">state_ready</span>\n  \n  </td>\n  \n  <td>\n  \n  <span id=\"ps-cell_group_by_1_last_update\">5975</span>\n  \n  </td>\n  \n  <td>\n  \n  <span id=\"ps-cell_group_by_1_order\">8</span>\n  \n  </td>\n  \n  </tr>\n\n  <tr>\n  \n  <td>\n  \n  <span id=\"ps-cell_unique_index_1_is_visualization\"> </span>\n  \n  </td>\n  \n  <td>\n  \n  <a class='ps-row-btn' id=\"ps-row-btn_unique_index_1\" type='button' >unique_index_1</a>\n  \n  </td>\n  \n  <td>\n  \n  <span id=\"ps-cell_unique_index_1_classname\">unique_index</span>\n  \n  </td>\n  \n  <td>\n  \n  <span id=\"ps-cell_unique_index_1_state\">state_terminated</span>\n  \n  </td>\n  \n  <td>\n  \n  <span id=\"ps-cell_unique_index_1_last_update\">4753</span>\n  \n  </td>\n  \n  <td>\n  \n  <span id=\"ps-cell_unique_index_1_order\">9</span>\n  \n  </td>\n  \n  </tr>\n\n  <tr>\n  \n  <td>\n  \n  <span id=\"ps-cell_join_1_is_visualization\"> </span>\n  \n  </td>\n  \n  <td>\n  \n  <a class='ps-row-btn' id=\"ps-row-btn_join_1\" type='button' >join_1</a>\n  \n  </td>\n  \n  <td>\n  \n  <span id=\"ps-cell_join_1_classname\">join</span>\n  \n  </td>\n  \n  <td>\n  \n  <span id=\"ps-cell_join_1_state\">state_blocked</span>\n  \n  </td>\n  \n  <td>\n  \n  <span id=\"ps-cell_join_1_last_update\">5976</span>\n  \n  </td>\n  \n  <td>\n  \n  <span id=\"ps-cell_join_1_order\">10</span>\n  \n  </td>\n  \n  </tr>\n\n  <tr>\n  \n  <td>\n  \n  <span id=\"ps-cell_sink_4_is_visualization\"> </span>\n  \n  </td>\n  \n  <td>\n  \n  <a class='ps-row-btn' id=\"ps-row-btn_sink_4\" type='button' >sink_4</a>\n  \n  </td>\n  \n  <td>\n  \n  <span id=\"ps-cell_sink_4_classname\">sink</span>\n  \n  </td>\n  \n  <td>\n  \n  <span id=\"ps-cell_sink_4_state\">state_terminated</span>\n  \n  </td>\n  \n  <td>\n  \n  <span id=\"ps-cell_sink_4_last_update\">0</span>\n  \n  </td>\n  \n  <td>\n  \n  <span id=\"ps-cell_sink_4_order\">11</span>\n  \n  </td>\n  \n  </tr>\n\n  <tr>\n  \n  <td>\n  \n  <span id=\"ps-cell_group_by_2_is_visualization\"> </span>\n  \n  </td>\n  \n  <td>\n  \n  <a class='ps-row-btn' id=\"ps-row-btn_group_by_2\" type='button' >group_by_2</a>\n  \n  </td>\n  \n  <td>\n  \n  <span id=\"ps-cell_group_by_2_classname\">group_by</span>\n  \n  </td>\n  \n  <td>\n  \n  <span id=\"ps-cell_group_by_2_state\">state_ready</span>\n  \n  </td>\n  \n  <td>\n  \n  <span id=\"ps-cell_group_by_2_last_update\">5977</span>\n  \n  </td>\n  \n  <td>\n  \n  <span id=\"ps-cell_group_by_2_order\">12</span>\n  \n  </td>\n  \n  </tr>\n\n  <tr>\n  \n  <td>\n  \n  <span id=\"ps-cell_sink_5_is_visualization\"> </span>\n  \n  </td>\n  \n  <td>\n  \n  <a class='ps-row-btn' id=\"ps-row-btn_sink_5\" type='button' >sink_5</a>\n  \n  </td>\n  \n  <td>\n  \n  <span id=\"ps-cell_sink_5_classname\">sink</span>\n  \n  </td>\n  \n  <td>\n  \n  <span id=\"ps-cell_sink_5_state\">state_terminated</span>\n  \n  </td>\n  \n  <td>\n  \n  <span id=\"ps-cell_sink_5_last_update\">0</span>\n  \n  </td>\n  \n  <td>\n  \n  <span id=\"ps-cell_sink_5_order\">13</span>\n  \n  </td>\n  \n  </tr>\n\n  <tr>\n  \n  <td>\n  \n  <span id=\"ps-cell_aggregate_1_is_visualization\"> </span>\n  \n  </td>\n  \n  <td>\n  \n  <a class='ps-row-btn' id=\"ps-row-btn_aggregate_1\" type='button' >aggregate_1</a>\n  \n  </td>\n  \n  <td>\n  \n  <span id=\"ps-cell_aggregate_1_classname\">aggregate</span>\n  \n  </td>\n  \n  <td>\n  \n  <span id=\"ps-cell_aggregate_1_state\">state_blocked</span>\n  \n  </td>\n  \n  <td>\n  \n  <span id=\"ps-cell_aggregate_1_last_update\">5973</span>\n  \n  </td>\n  \n  <td>\n  \n  <span id=\"ps-cell_aggregate_1_order\">14</span>\n  \n  </td>\n  \n  </tr>\n\n  <tr>\n  \n  <td>\n  \n  <span id=\"ps-cell_sink_6_is_visualization\"> </span>\n  \n  </td>\n  \n  <td>\n  \n  <a class='ps-row-btn' id=\"ps-row-btn_sink_6\" type='button' >sink_6</a>\n  \n  </td>\n  \n  <td>\n  \n  <span id=\"ps-cell_sink_6_classname\">sink</span>\n  \n  </td>\n  \n  <td>\n  \n  <span id=\"ps-cell_sink_6_state\">state_terminated</span>\n  \n  </td>\n  \n  <td>\n  \n  <span id=\"ps-cell_sink_6_last_update\">0</span>\n  \n  </td>\n  \n  <td>\n  \n  <span id=\"ps-cell_sink_6_order\">15</span>\n  \n  </td>\n  \n  </tr>\n\n  <tr>\n  \n  <td>\n  \n  <span id=\"ps-cell_sink_7_is_visualization\"> </span>\n  \n  </td>\n  \n  <td>\n  \n  <a class='ps-row-btn' id=\"ps-row-btn_sink_7\" type='button' >sink_7</a>\n  \n  </td>\n  \n  <td>\n  \n  <span id=\"ps-cell_sink_7_classname\">sink</span>\n  \n  </td>\n  \n  <td>\n  \n  <span id=\"ps-cell_sink_7_state\">state_ready</span>\n  \n  </td>\n  \n  <td>\n  \n  <span id=\"ps-cell_sink_7_last_update\">0</span>\n  \n  </td>\n  \n  <td>\n  \n  <span id=\"ps-cell_sink_7_order\">16</span>\n  \n  </td>\n  \n  </tr>\n\n</tbody>\n</table>",
       "layout": "IPY_MODEL_b525f4da65c6422f8ec3ffe77645bed9",
       "sensitive_css_class": "ps-row-btn",
       "value": {}
      }
     },
     "8a69521838a149f198661e92782af643": {
      "model_module": "@jupyter-widgets/controls",
      "model_module_version": "2.0.0",
      "model_name": "CheckboxModel",
      "state": {
       "description": "Use",
       "disabled": false,
       "layout": "IPY_MODEL_81b426671be84e1b920a53c6264113f5",
       "style": "IPY_MODEL_10a4185c1e33429dbd27fe325bd9461b",
       "value": false
      }
     },
     "8a8d1c241db64442b283c2946990c429": {
      "model_module": "@jupyter-widgets/controls",
      "model_module_version": "2.0.0",
      "model_name": "CheckboxModel",
      "state": {
       "disabled": true,
       "indent": false,
       "layout": "IPY_MODEL_9c1b03f06a3048c4adde8720550671ed",
       "style": "IPY_MODEL_caae1ddc16544b6aaff92bd58888f427",
       "value": false
      }
     },
     "8a8ff522099b465c873dcc88e5ae0473": {
      "model_module": "@jupyter-widgets/controls",
      "model_module_version": "2.0.0",
      "model_name": "DescriptionStyleModel",
      "state": {
       "description_width": ""
      }
     },
     "8a921695ef6c4c899a16375ecb3704ee": {
      "model_module": "@jupyter-widgets/controls",
      "model_module_version": "2.0.0",
      "model_name": "TextModel",
      "state": {
       "layout": "IPY_MODEL_90efad156a5846558ad965fc6e3435c5",
       "placeholder": "optional alias",
       "style": "IPY_MODEL_529d5e89be404e9ebf1d4b9a13de964d",
       "value": "Zones"
      }
     },
     "8aa4478d0f1342a5b978f7e25b1097e0": {
      "model_module": "@jupyter-widgets/controls",
      "model_module_version": "2.0.0",
      "model_name": "TextModel",
      "state": {
       "description": "Type:",
       "disabled": true,
       "layout": "IPY_MODEL_c842849b658747a3b13998bc46c1c82a",
       "style": "IPY_MODEL_cb3699f9f64d4c1daaf5be8c1d93271c",
       "value": "object"
      }
     },
     "8ad37ba602e54b898483e159160c47fc": {
      "model_module": "@jupyter-widgets/controls",
      "model_module_version": "2.0.0",
      "model_name": "ButtonStyleModel",
      "state": {
       "font_family": null,
       "font_size": null,
       "font_style": null,
       "font_variant": null,
       "font_weight": null,
       "text_color": null,
       "text_decoration": null
      }
     },
     "8ae77adc2a624da8add02bf9849d9e03": {
      "model_module": "@jupyter-widgets/controls",
      "model_module_version": "2.0.0",
      "model_name": "VBoxModel",
      "state": {
       "children": [
        "IPY_MODEL_70cc7c852bb047e4823ed64868db6b29",
        "IPY_MODEL_c750645572194543bce1bdd9efaddde3"
       ],
       "layout": "IPY_MODEL_01f0aea989d14de0929eb3831960204e"
      }
     },
     "8b29fd06efec4e1390ae04622ee1a448": {
      "model_module": "@jupyter-widgets/controls",
      "model_module_version": "2.0.0",
      "model_name": "CheckboxModel",
      "state": {
       "description": "Active",
       "disabled": false,
       "layout": "IPY_MODEL_90dfd65c606345c68874d8931bc4e178",
       "style": "IPY_MODEL_0443674b6ff7410394ff95f88b200cd7",
       "value": true
      }
     },
     "8b2e0cdec64743b1bdcc3cb33a92087c": {
      "model_module": "@jupyter-widgets/controls",
      "model_module_version": "2.0.0",
      "model_name": "DescriptionStyleModel",
      "state": {
       "description_width": ""
      }
     },
     "8b60d9714394460a837e116dcf8ee713": {
      "model_module": "@jupyter-widgets/controls",
      "model_module_version": "2.0.0",
      "model_name": "IntProgressModel",
      "state": {
       "description": "Progress",
       "layout": "IPY_MODEL_8b97388e5efa492a91131c63bfc2353b",
       "max": 1055,
       "style": "IPY_MODEL_bdd6578e14fb4f82a3cad49dc4ce02b4",
       "value": 265
      }
     },
     "8b6fdaa725784c7dbebfa077e3e235bb": {
      "model_module": "@jupyter-widgets/controls",
      "model_module_version": "2.0.0",
      "model_name": "LabelStyleModel",
      "state": {
       "description_width": "",
       "font_family": null,
       "font_size": null,
       "font_style": null,
       "font_variant": null,
       "font_weight": null,
       "text_color": null,
       "text_decoration": null
      }
     },
     "8b766e184ae84c7e85de2b7cd1c63526": {
      "model_module": "@jupyter-widgets/base",
      "model_module_version": "2.0.0",
      "model_name": "LayoutModel",
      "state": {}
     },
     "8b97388e5efa492a91131c63bfc2353b": {
      "model_module": "@jupyter-widgets/base",
      "model_module_version": "2.0.0",
      "model_name": "LayoutModel",
      "state": {
       "width": "100%"
      }
     },
     "8ba6958f3dff4546b4d773687dd397dd": {
      "model_module": "@jupyter-widgets/controls",
      "model_module_version": "2.0.0",
      "model_name": "TextStyleModel",
      "state": {
       "description_width": "",
       "font_size": null,
       "text_color": null
      }
     },
     "8bc56bde810f49f6a90464bdf3153394": {
      "model_module": "@jupyter-widgets/base",
      "model_module_version": "2.0.0",
      "model_name": "LayoutModel",
      "state": {}
     },
     "8bc9802b7e514118aa4de8db064b2632": {
      "model_module": "@jupyter-widgets/controls",
      "model_module_version": "2.0.0",
      "model_name": "LabelModel",
      "state": {
       "layout": "IPY_MODEL_8dbde8714010458786fdc822a6d1be4b",
       "style": "IPY_MODEL_1eb79b0bbcea4cc7a6a5c8272de129a8",
       "value": "y"
      }
     },
     "8bf4dac90a4d48e782cfa00cb95cee3e": {
      "model_module": "@jupyter-widgets/controls",
      "model_module_version": "2.0.0",
      "model_name": "TextareaModel",
      "state": {
       "description": "New URLs:",
       "disabled": true,
       "layout": "IPY_MODEL_49a4ca93f1144d09b409e1e27d1e0d73",
       "placeholder": "",
       "style": "IPY_MODEL_c98fcf9b46dc4004ab95e7fe592ec476",
       "value": "https://d37ci6vzurychx.cloudfront.net/misc/taxi_zone_lookup.csv"
      }
     },
     "8c1660a4bef5494a8cf9769e07b8e85c": {
      "model_module": "@jupyter-widgets/controls",
      "model_module_version": "2.0.0",
      "model_name": "DropdownModel",
      "state": {
       "_options_labels": [
        "",
        ">",
        "<",
        ">=",
        "<=",
        "==",
        "!="
       ],
       "description": "& ",
       "index": 0,
       "layout": "IPY_MODEL_c10d373b6828478fb5338df099973a84",
       "style": "IPY_MODEL_8e260a7501fc400e807590f69c0bb117"
      }
     },
     "8c22699a9c7442ddb1a70d1a3afb3f15": {
      "model_module": "@jupyter-widgets/controls",
      "model_module_version": "2.0.0",
      "model_name": "TextModel",
      "state": {
       "description": "NA values:",
       "layout": "IPY_MODEL_3d5011ab9b7948de9c917e1783e0ad67",
       "style": "IPY_MODEL_aeb997eb53534788a2aec6d31418ce68"
      }
     },
     "8c561bb36cca48c2aace3f2c3178fac0": {
      "model_module": "@jupyter-widgets/controls",
      "model_module_version": "2.0.0",
      "model_name": "IntTextModel",
      "state": {
       "description": "Throttle:",
       "disabled": true,
       "layout": "IPY_MODEL_ac87814b8fc74135911125263c28fa4e",
       "step": 1,
       "style": "IPY_MODEL_919c88224db34590ae5092625dea68f4"
      }
     },
     "8cb08d892377423aa3749f9dd6a80f48": {
      "model_module": "@jupyter-widgets/controls",
      "model_module_version": "2.0.0",
      "model_name": "TextStyleModel",
      "state": {
       "description_width": "",
       "font_size": null,
       "text_color": null
      }
     },
     "8cb27a442a7e48139cdae02e1224de0c": {
      "model_module": "@jupyter-widgets/base",
      "model_module_version": "2.0.0",
      "model_name": "LayoutModel",
      "state": {}
     },
     "8ccc03ed39d04105ae6e216b09272845": {
      "model_module": "@jupyter-widgets/controls",
      "model_module_version": "2.0.0",
      "model_name": "TextModel",
      "state": {
       "description": "Separator:",
       "disabled": true,
       "layout": "IPY_MODEL_8e9ea0d1ade44808b33df39b2ffe4ecb",
       "placeholder": "if many values",
       "style": "IPY_MODEL_52d88685ee354618b1cc2b79e6fefc26"
      }
     },
     "8ceeb7db7d90406f92d2116ee295e66c": {
      "model_module": "@jupyter-widgets/controls",
      "model_module_version": "2.0.0",
      "model_name": "VBoxModel",
      "state": {
       "children": [
        "IPY_MODEL_05a6aa385be94dc08ee3ca19ec751e79",
        "IPY_MODEL_4e3c3e3a880c4ae2963aecd5c5f070cf",
        "IPY_MODEL_9d53a3e7bc8b48c5baf5445aeec0586c"
       ],
       "layout": "IPY_MODEL_d168b618144046ae9c0985327d05487e"
      }
     },
     "8cfb241510f74afc9e8833999668dcf7": {
      "model_module": "@jupyter-widgets/controls",
      "model_module_version": "2.0.0",
      "model_name": "LabelModel",
      "state": {
       "layout": "IPY_MODEL_2d6b8d5d43254378a5b4aad70c886a0a",
       "style": "IPY_MODEL_2f5ac322323b4a37a27c6213f746a404",
       "value": "Borough"
      }
     },
     "8cfe5c7a137d489484ac7d1ecb32ac83": {
      "model_module": "@jupyter-widgets/base",
      "model_module_version": "2.0.0",
      "model_name": "LayoutModel",
      "state": {}
     },
     "8cff9d9ed0074cdca965f92e4801edcb": {
      "model_module": "@jupyter-widgets/controls",
      "model_module_version": "2.0.0",
      "model_name": "TextModel",
      "state": {
       "description": "NA values:",
       "layout": "IPY_MODEL_29c1c6bad8084c89b95c34574ee095ed",
       "style": "IPY_MODEL_f2bdb5acb147438594af8c55184b9739"
      }
     },
     "8d1670fed3304eb1b62e036f6f3b7617": {
      "model_module": "@jupyter-widgets/controls",
      "model_module_version": "2.0.0",
      "model_name": "CheckboxStyleModel",
      "state": {
       "description_width": ""
      }
     },
     "8d2cb503046a491492da3d8836c3d207": {
      "model_module": "@jupyter-widgets/controls",
      "model_module_version": "2.0.0",
      "model_name": "HBoxModel",
      "state": {
       "children": [
        "IPY_MODEL_705da3c333904b20acaeaabf088c73ce",
        "IPY_MODEL_f3735846be0148a192d6a133455b129c"
       ],
       "layout": "IPY_MODEL_c53b6320872d49cfaacef086fcf193f6"
      }
     },
     "8d54a61141cb4942b90cf515b00c8eec": {
      "model_module": "@jupyter-widgets/controls",
      "model_module_version": "2.0.0",
      "model_name": "TextStyleModel",
      "state": {
       "description_width": "",
       "font_size": null,
       "text_color": null
      }
     },
     "8d579e70b4504b66bf679be7df785d61": {
      "model_module": "@jupyter-widgets/controls",
      "model_module_version": "2.0.0",
      "model_name": "DropdownModel",
      "state": {
       "_options_labels": [
        "object",
        "str",
        "category",
        "datetime",
        "int8",
        "uint8",
        "int16",
        "uint16",
        "int32",
        "int64",
        "uint32",
        "uint64",
        "float32",
        "float64",
        "str"
       ],
       "description": "Retype:",
       "index": 0,
       "layout": "IPY_MODEL_2cd112d0ec0747c9aa846a939941cf34",
       "style": "IPY_MODEL_0edd14ff9440464193a71a707b0fdf22"
      }
     },
     "8d5ccf0065c648f9bc711b3342f673f2": {
      "model_module": "@jupyter-widgets/controls",
      "model_module_version": "2.0.0",
      "model_name": "ButtonModel",
      "state": {
       "button_style": "danger",
       "icon": "trash",
       "layout": "IPY_MODEL_7fea0b70a53844b0a37ae2c58984fe60",
       "style": "IPY_MODEL_0b67474d323c445e8cfad1050bdc66ec"
      }
     },
     "8d6a8feef7894c908997bd2242cbfd57": {
      "model_module": "@jupyter-widgets/controls",
      "model_module_version": "2.0.0",
      "model_name": "LabelStyleModel",
      "state": {
       "description_width": "",
       "font_family": null,
       "font_size": null,
       "font_style": null,
       "font_variant": null,
       "font_weight": null,
       "text_color": null,
       "text_decoration": null
      }
     },
     "8d892f9795e1468ea059999c136fbb28": {
      "model_module": "@jupyter-widgets/controls",
      "model_module_version": "2.0.0",
      "model_name": "TextModel",
      "state": {
       "description": "Unique vals:",
       "disabled": true,
       "layout": "IPY_MODEL_39e9fe16918b46c985dfea8426f33476",
       "style": "IPY_MODEL_04ec0b1a74174cb2a6e54d5932850a9f",
       "value": "99/99"
      }
     },
     "8dbde8714010458786fdc822a6d1be4b": {
      "model_module": "@jupyter-widgets/base",
      "model_module_version": "2.0.0",
      "model_name": "LayoutModel",
      "state": {}
     },
     "8dee8d7caf4f477f92b788196fd13637": {
      "model_module": "@jupyter-widgets/base",
      "model_module_version": "2.0.0",
      "model_name": "LayoutModel",
      "state": {
       "max_width": "100px"
      }
     },
     "8dfa5b3efe504d3887ffbe4d8d9e65b8": {
      "model_module": "@jupyter-widgets/base",
      "model_module_version": "2.0.0",
      "model_name": "LayoutModel",
      "state": {
       "max_width": "fit-content"
      }
     },
     "8e11aef93255473a8b11a27ae16f79e6": {
      "model_module": "@jupyter-widgets/controls",
      "model_module_version": "2.0.0",
      "model_name": "DescriptionStyleModel",
      "state": {
       "description_width": ""
      }
     },
     "8e1229a5744f425ab959745d118093a9": {
      "model_module": "@jupyter-widgets/base",
      "model_module_version": "2.0.0",
      "model_name": "LayoutModel",
      "state": {}
     },
     "8e260a7501fc400e807590f69c0bb117": {
      "model_module": "@jupyter-widgets/controls",
      "model_module_version": "2.0.0",
      "model_name": "DescriptionStyleModel",
      "state": {
       "description_width": ""
      }
     },
     "8e4bc11eb0894b0bab234ee4e67341c0": {
      "model_module": "@jupyter-widgets/controls",
      "model_module_version": "2.0.0",
      "model_name": "TextStyleModel",
      "state": {
       "description_width": "",
       "font_size": null,
       "text_color": null
      }
     },
     "8e9ea0d1ade44808b33df39b2ffe4ecb": {
      "model_module": "@jupyter-widgets/base",
      "model_module_version": "2.0.0",
      "model_name": "LayoutModel",
      "state": {}
     },
     "8ebb971207974e268e3f4969f5dbfe09": {
      "model_module": "@jupyter-widgets/base",
      "model_module_version": "2.0.0",
      "model_name": "LayoutModel",
      "state": {}
     },
     "8ed2c493d0594906a5fb7ef6b4e0f434": {
      "model_module": "@jupyter-widgets/controls",
      "model_module_version": "2.0.0",
      "model_name": "CheckboxModel",
      "state": {
       "description": "Reuse previous settings ...",
       "disabled": true,
       "layout": "IPY_MODEL_ac877473a7ab4d7d8c3e2ba408359aa3",
       "style": "IPY_MODEL_3f1ede9939d74c44a809e01279c0e892",
       "value": false
      }
     },
     "8ede6846b0b44a2e902d9840db21f768": {
      "model_module": "@jupyter-widgets/base",
      "model_module_version": "2.0.0",
      "model_name": "LayoutModel",
      "state": {}
     },
     "8f2a13e2a16f480bb8e764011eff1fd1": {
      "model_module": "@jupyter-widgets/base",
      "model_module_version": "2.0.0",
      "model_name": "LayoutModel",
      "state": {}
     },
     "8f2add0e5039459c8df9dad88129e304": {
      "model_module": "@jupyter-widgets/controls",
      "model_module_version": "2.0.0",
      "model_name": "VBoxModel",
      "state": {
       "children": [
        "IPY_MODEL_b2132df3727f4d32babe44afd691baf4",
        "IPY_MODEL_c551d05099d14b7d8799ba43c388168a"
       ],
       "layout": "IPY_MODEL_0a24b9beaab1403f8100b3ae246e337a"
      }
     },
     "8f2b527432ed4342826772af40c5680e": {
      "model_module": "@jupyter-widgets/controls",
      "model_module_version": "2.0.0",
      "model_name": "LabelModel",
      "state": {
       "layout": "IPY_MODEL_5efc13a327884dca9e940004d96b2da8",
       "style": "IPY_MODEL_394faec982e1465ea8dbb59920a20867",
       "value": "*"
      }
     },
     "8f376ccbce7a4c91ac57620ddbc9eccb": {
      "model_module": "@jupyter-widgets/controls",
      "model_module_version": "2.0.0",
      "model_name": "CheckboxStyleModel",
      "state": {
       "description_width": ""
      }
     },
     "8f7433d7854a4810b5f749b78f09b646": {
      "model_module": "@jupyter-widgets/controls",
      "model_module_version": "2.0.0",
      "model_name": "HTMLModel",
      "state": {
       "layout": "IPY_MODEL_a451e5d323ef4aba8e49282bb132d22b",
       "style": "IPY_MODEL_1581dd1ef06b42eeb1cc700677b3162c",
       "value": "<pre style=\"white-space: pre\">\"LocationID\",\"Borough\",\"Zone\",\"service_zone\"\n1,\"EWR\",\"Newark Airport\",\"EWR\"\n2,\"Queens\",\"Jamaica Bay\",\"Boro Zone\"\n3,\"Bronx\",\"Allerton/Pelham Gardens\",\"Boro Zone\"\n4,\"Manhattan\",\"Alphabet City\",\"Yellow Zone\"\n5,\"Staten Island\",\"Arden Heights\",\"Boro Zone\"\n6,\"Staten Island\",\"Arrochar/Fort Wadsworth\",\"Boro Zone\"\n7,\"Queens\",\"Astoria\",\"Boro Zone\"\n8,\"Queens\",\"Astoria Park\",\"Boro Zone\"\n9,\"Queens\",\"Auburndale\",\"Boro Zone\"\n10,\"Queens\",\"Baisley Park\",\"Boro Zone\"\n11,\"Brooklyn\",\"Bath Beach\",\"Boro Zone\"\n12,\"Manhattan\",\"Battery Park\",\"Yellow Zone\"\n13,\"Manhattan\",\"Battery Park City\",\"Yellow Zone\"\n14,\"Brooklyn\",\"Bay Ridge\",\"Boro Zone\"\n15,\"Queens\",\"Bay Terrace/Fort Totten\",\"Boro Zone\"\n16,\"Queens\",\"Bayside\",\"Boro Zone\"\n17,\"Brooklyn\",\"Bedford\",\"Boro Zone\"\n18,\"Bronx\",\"Bedford Park\",\"Boro Zone\"\n19,\"Queens\",\"Bellerose\",\"Boro Zone\"\n20,\"Bronx\",\"Belmont\",\"Boro Zone\"\n21,\"Brooklyn\",\"Bensonhurst East\",\"Boro Zone\"\n22,\"Brooklyn\",\"Bensonhurst West\",\"Boro Zone\"\n23,\"Staten Island\",\"Bloomfield/Emerson Hill\",\"Boro Zone\"\n24,\"Manhattan\",\"Bloomingdale\",\"Yellow Zone\"\n25,\"Brooklyn\",\"Boerum Hill\",\"Boro Zone\"\n26,\"Brooklyn\",\"Borough Park\",\"Boro Zone\"\n27,\"Queens\",\"Breezy Point/Fort Tilden/Riis Beach\",\"Boro Zone\"\n28,\"Queens\",\"Briarwood/Jamaica Hills\",\"Boro Zone\"\n29,\"Brooklyn\",\"Brighton Beach\",\"Boro Zone\"\n30,\"Queens\",\"Broad Channel\",\"Boro Zone\"\n31,\"Bronx\",\"Bronx Park\",\"Boro Zone\"\n32,\"Bronx\",\"Bronxdale\",\"Boro Zone\"\n33,\"Brooklyn\",\"Brooklyn Heights\",\"Boro Zone\"\n34,\"Brooklyn\",\"Brooklyn Navy Yard\",\"Boro Zone\"\n35,\"Brooklyn\",\"Brownsville\",\"Boro Zone\"\n36,\"Brooklyn\",\"Bushwick North\",\"Boro Zone\"\n37,\"Brooklyn\",\"Bushwick South\",\"Boro Zone\"\n38,\"Queens\",\"Cambria Heights\",\"Boro Zone\"\n39,\"Brooklyn\",\"Canarsie\",\"Boro Zone\"\n40,\"Brooklyn\",\"Carroll Gardens\",\"Boro Zone\"\n41,\"Manhattan\",\"Central Harlem\",\"Boro Zone\"\n42,\"Manhattan\",\"Central Harlem North\",\"Boro Zone\"\n43,\"Manhattan\",\"Central Park\",\"Yellow Zone\"\n44,\"Staten Island\",\"Charleston/Tottenville\",\"Boro Zone\"\n45,\"Manhattan\",\"Chinatown\",\"Yellow Zone\"\n46,\"Bronx\",\"City Island\",\"Boro Zone\"\n47,\"Bronx\",\"Claremont/Bathgate\",\"Boro Zone\"\n48,\"Manhattan\",\"Clinton East\",\"Yellow Zone\"\n49,\"Brooklyn\",\"Clinton Hill\",\"Boro Zone\"\n50,\"Manhattan\",\"Clinton West\",\"Yellow Zone\"\n51,\"Bronx\",\"Co-Op City\",\"Boro Zone\"\n52,\"Brooklyn\",\"Cobble Hill\",\"Boro Zone\"\n53,\"Queens\",\"College Point\",\"Boro Zone\"\n54,\"Brooklyn\",\"Columbia Street\",\"Boro Zone\"\n55,\"Brooklyn\",\"Coney Island\",\"Boro Zone\"\n56,\"Queens\",\"Corona\",\"Boro Zone\"\n57,\"Queens\",\"Corona\",\"Boro Zone\"\n58,\"Bronx\",\"Country Club\",\"Boro Zone\"\n59,\"Bronx\",\"Crotona Park\",\"Boro Zone\"\n60,\"Bronx\",\"Crotona Park East\",\"Boro Zone\"\n61,\"Brooklyn\",\"Crown Heights North\",\"Boro Zone\"\n62,\"Brooklyn\",\"Crown Heights South\",\"Boro Zone\"\n63,\"Brooklyn\",\"Cypress Hills\",\"Boro Zone\"\n64,\"Queens\",\"Douglaston\",\"Boro Zone\"\n65,\"Brooklyn\",\"Downtown Brooklyn/MetroTech\",\"Boro Zone\"\n66,\"Brooklyn\",\"DUMBO/Vinegar Hill\",\"Boro Zone\"\n67,\"Brooklyn\",\"Dyker Heights\",\"Boro Zone\"\n68,\"Manhattan\",\"East Chelsea\",\"Yellow Zone\"\n69,\"Bronx\",\"East Concourse/Concourse Village\",\"Boro Zone\"\n70,\"Queens\",\"East Elmhurst\",\"Boro Zone\"\n71,\"Brooklyn\",\"East Flatbush/Farragut\",\"Boro Zone\"\n72,\"Brooklyn\",\"East Flatbush/Remsen Village\",\"Boro Zone\"\n73,\"Queens\",\"East Flushing\",\"Boro Zone\"\n74,\"Manhattan\",\"East Harlem North\",\"Boro Zone\"\n75,\"Manhattan\",\"East Harlem South\",\"Boro Zone\"\n76,\"Brooklyn\",\"East New York\",\"Boro Zone\"\n77,\"Brooklyn\",\"East New York/Pennsylvania Avenue\",\"Boro Zone\"\n78,\"Bronx\",\"East Tremont\",\"Boro Zone\"\n79,\"Manhattan\",\"East Village\",\"Yellow Zone\"\n80,\"Brooklyn\",\"East Williamsburg\",\"Boro Zone\"\n81,\"Bronx\",\"Eastchester\",\"Boro Zone\"\n82,\"Queens\",\"Elmhurst\",\"Boro Zone\"\n83,\"Queens\",\"Elmhurst/Maspeth\",\"Boro Zone\"\n84,\"Staten Island\",\"Eltingville/Annadale/Prince's Bay\",\"Boro Zone\"\n85,\"Brooklyn\",\"Erasmus\",\"Boro Zone\"\n86,\"Queens\",\"Far Rockaway\",\"Boro Zone\"\n87,\"Manhattan\",\"Financial District North\",\"Yellow Zone\"\n88,\"Manhattan\",\"Financial District South\",\"Yellow Zone\"\n89,\"Brooklyn\",\"Flatbush/Ditmas Park\",\"Boro Zone\"\n90,\"Manhattan\",\"Flatiron\",\"Yellow Zone\"\n91,\"Brooklyn\",\"Flatlands\",\"Boro Zone\"\n92,\"Queens\",\"Flushing\",\"Boro Zone\"\n93,\"Queens\",\"Flushing Meadows-Corona Park\",\"Boro Zone\"\n94,\"Bronx\",\"Fordham South\",\"Boro Zone\"\n95,\"Queens\",\"Forest Hills\",\"Boro Zone\"\n96,\"Queens\",\"Forest Park/Highland Park\",\"Boro Zone\"\n97,\"Brooklyn\",\"Fort Greene\",\"Boro Zone\"\n98,\"Queens\",\"Fresh Meadows\",\"Boro Zone\"\n99,\"Staten Island\",\"Freshkills Park\",\"Boro Zone\"\n</pre>"
      }
     },
     "8f9644ba50d946fdbd74eb2d9885aad7": {
      "model_module": "@jupyter-widgets/base",
      "model_module_version": "2.0.0",
      "model_name": "LayoutModel",
      "state": {}
     },
     "8ff4cd28d55e4f9ab6580fcd1ca02737": {
      "model_module": "@jupyter-widgets/base",
      "model_module_version": "2.0.0",
      "model_name": "LayoutModel",
      "state": {}
     },
     "90720907d113414bba2e556dc1387173": {
      "model_module": "@jupyter-widgets/controls",
      "model_module_version": "2.0.0",
      "model_name": "DescriptionStyleModel",
      "state": {
       "description_width": ""
      }
     },
     "907a7c1e7905404c9a9213af25614be8": {
      "model_module": "@jupyter-widgets/controls",
      "model_module_version": "2.0.0",
      "model_name": "DescriptionStyleModel",
      "state": {
       "description_width": ""
      }
     },
     "908400c22e0b4576b95b6c91e0cdfeee": {
      "model_module": "@jupyter-widgets/base",
      "model_module_version": "2.0.0",
      "model_name": "LayoutModel",
      "state": {}
     },
     "90879dc816264cbb95d15357fc0c0a09": {
      "model_module": "@jupyter-widgets/controls",
      "model_module_version": "2.0.0",
      "model_name": "HTMLStyleModel",
      "state": {
       "description_width": "",
       "font_size": null,
       "text_color": null
      }
     },
     "90b429eb78c74565aba758a301f56bb2": {
      "model_module": "@jupyter-widgets/controls",
      "model_module_version": "2.0.0",
      "model_name": "LabelStyleModel",
      "state": {
       "description_width": "",
       "font_family": null,
       "font_size": null,
       "font_style": null,
       "font_variant": null,
       "font_weight": null,
       "text_color": null,
       "text_decoration": null
      }
     },
     "90c09b873b784f588fdd3c777120e9ef": {
      "model_module": "@jupyter-widgets/controls",
      "model_module_version": "2.0.0",
      "model_name": "DropdownModel",
      "state": {
       "_options_labels": [
        "",
        ">",
        "<",
        ">=",
        "<=",
        "==",
        "!="
       ],
       "description": "& ",
       "index": 0,
       "layout": "IPY_MODEL_84d8bafc597a4656b625173e894f89eb",
       "style": "IPY_MODEL_bd977b42ae6a4c3ca66e95f8d06ee171"
      }
     },
     "90dfd65c606345c68874d8931bc4e178": {
      "model_module": "@jupyter-widgets/base",
      "model_module_version": "2.0.0",
      "model_name": "LayoutModel",
      "state": {}
     },
     "90efad156a5846558ad965fc6e3435c5": {
      "model_module": "@jupyter-widgets/base",
      "model_module_version": "2.0.0",
      "model_name": "LayoutModel",
      "state": {}
     },
     "911816ca9b1247dea09756cb597a3a54": {
      "model_module": "@jupyter-widgets/controls",
      "model_module_version": "2.0.0",
      "model_name": "LabelModel",
      "state": {
       "layout": "IPY_MODEL_7170574e3e3447989b32d49c2775a197",
       "style": "IPY_MODEL_e0d5e275f5c346c88d193e7bc0925529",
       "value": "x"
      }
     },
     "9122f588cb274f08a4d953feb7e1ebad": {
      "model_module": "@jupyter-widgets/controls",
      "model_module_version": "2.0.0",
      "model_name": "TextModel",
      "state": {
       "description": "File:",
       "layout": "IPY_MODEL_20e3a7a01358452c9eedbb23431bf008",
       "placeholder": "",
       "style": "IPY_MODEL_6878f0ab2f1047baba78aeeee6ce0d3a",
       "value": "vega20251004_203311"
      }
     },
     "9124a29c4ffa41928bc0fab8b882d106": {
      "model_module": "@jupyter-widgets/controls",
      "model_module_version": "2.0.0",
      "model_name": "TextStyleModel",
      "state": {
       "description_width": "",
       "font_size": null,
       "text_color": null
      }
     },
     "91697c320c0a44a2986494e01c2097cf": {
      "model_module": "@jupyter-widgets/controls",
      "model_module_version": "2.0.0",
      "model_name": "TextStyleModel",
      "state": {
       "description_width": "",
       "font_size": null,
       "text_color": null
      }
     },
     "917d5b37feea408581ebe079e0eac32a": {
      "model_module": "@jupyter-widgets/base",
      "model_module_version": "2.0.0",
      "model_name": "LayoutModel",
      "state": {}
     },
     "919c88224db34590ae5092625dea68f4": {
      "model_module": "@jupyter-widgets/controls",
      "model_module_version": "2.0.0",
      "model_name": "DescriptionStyleModel",
      "state": {
       "description_width": ""
      }
     },
     "91c384207c0b493f82ab3cac452d092b": {
      "model_module": "@jupyter-widgets/controls",
      "model_module_version": "2.0.0",
      "model_name": "HTMLModel",
      "state": {
       "layout": "IPY_MODEL_3834a5c30ab549c49402f614e64c47ec",
       "style": "IPY_MODEL_3655b1fb644f49d781b38c8b54baffe0"
      }
     },
     "921c7b644bd94688a37a9b049d75cdee": {
      "model_module": "@jupyter-widgets/controls",
      "model_module_version": "2.0.0",
      "model_name": "CheckboxStyleModel",
      "state": {
       "description_width": ""
      }
     },
     "923e30c026374b2eadd5bd11083ab164": {
      "model_module": "@jupyter-widgets/base",
      "model_module_version": "2.0.0",
      "model_name": "LayoutModel",
      "state": {
       "width": "max-content"
      }
     },
     "9253bf7e7ba3436cba3f3515a5561bde": {
      "model_module": "jupyter-progressivis",
      "model_module_version": "^0.1.0",
      "model_name": "DagWidgetModel",
      "state": {
       "_img_url": "%3Cdiv%20id%3D%22dag_widget_4%22%20width%3D%22960%22%20height%3D%22500%22%3E%3Cdiv%3E%3Cfieldset%20style%3D%22width%3A300px%22%3E%3Clegend%3EWidget%20Dag%20%3C%2Flegend%3E%3Cdiv%20style%3D%22margin-inline-start%3A%201rem%3B%22%3E%3C%2Fdiv%3E%3Cdiv%3E%0A%20%20%20%20%20%20%20%20%3Cdiv%20style%3D%22border%3A1px%20solid%20%23EEE%3Bwidth%3A300px%3Bmargin-top%3A%200%3B%22%3E%0A%3Cp%3EAttention%20Request%20Types%3C%2Fp%3E%0A%3Cdiv%20id%3D%22dagLegend%22%20style%3D%22width%3A300px%3Bdisplay%3A%20grid%3Bgrid-template-columns%3A%20150px%20150px%3Bmargin-left%3A%2010px%3B%22%3E%0A%20%20%3Cdiv%20class%3D%22legendItem%22%3E%0A%20%20%20%20%3Cdiv%20class%3D%22circleBase%22%20style%3D%22border%3A1px%20solid%20%23999%3Bbackground%3A%23fb9a99%3B%22%3E%3C%2Fdiv%3E%0A%20%20%20%20%3Clabel%3EError%3C%2Flabel%3E%0A%20%20%3C%2Fdiv%3E%0A%20%20%3Cdiv%20class%3D%22legendItem%22%3E%0A%20%20%20%20%20%20%3Cdiv%20class%3D%22circleBase%22%20style%3D%22border%3A1px%20solid%20%23999%3Bbackground%3A%23a6cee3%3B%22%3E%3C%2Fdiv%3E%0A%20%20%20%20%20%20%3Clabel%3EAxes%3C%2Flabel%3E%0A%20%20%20%20%3C%2Fdiv%3E%0A%0A%20%20%20%20%3Cdiv%20class%3D%22legendItem%22%3E%0A%20%20%20%20%20%20%3Cdiv%20class%3D%22circleBase%22%20style%3D%22border%3A1px%20solid%20%23999%3Bbackground%3A%23b2df8a%3B%22%3E%0A%20%20%20%20%20%20%3C%2Fdiv%3E%0A%20%20%20%20%20%20%3Clabel%3ESafeguard%3C%2Flabel%3E%0A%20%20%20%20%3C%2Fdiv%3E%0A%0A%20%20%20%20%3Cdiv%20class%3D%22legendItem%22%3E%0A%20%20%20%20%3Cdiv%20class%3D%22circleBase%22%20style%3D%22border%3A1px%20solid%20%23999%3Bbackground%3A%23e31a1c%3B%22%3E%0A%20%20%20%20%3C%2Fdiv%3E%0A%20%20%20%20%3Clabel%3EMultiple%3C%2Flabel%3E%0A%20%20%3C%2Fdiv%3E%0A%0A%20%3C%2Fdiv%3E%0A%3C%2Fdiv%3E%3C%2Fdiv%3E%3Cdiv%20style%3D%22border%3A%201px%20solid%20grey%3B%22%3E%3Cdiv%3E%3Csvg%20id%3D%22dagCanvas_dag_widget_4%22%20width%3D%22300%22%20height%3D%22450%22%3E%3Cg%20id%3D%22edgeGroup_dag_widget_4%22%3E%3Cpath%20d%3D%22M36.75%2C22.5L110.25%2C67.5%22%20id%3D%22eSrootTTaxis%22%20fill%3D%22none%22%20stroke-width%3D%221%22%20stroke%3D%22gray%22%3E%3C%2Fpath%3E%3Cpath%20d%3D%22M36.75%2C22.5L36.75%2C67.5%22%20id%3D%22eSrootTZones%22%20fill%3D%22none%22%20stroke-width%3D%221%22%20stroke%3D%22gray%22%3E%3C%2Fpath%3E%3Cpath%20d%3D%22M36.75%2C67.5L110.25%2C112.5%22%20id%3D%22eSZonesTJoin%22%20fill%3D%22none%22%20stroke-width%3D%221%22%20stroke%3D%22gray%22%3E%3C%2Fpath%3E%3Cpath%20d%3D%22M110.25%2C112.5L110.25%2C157.5%22%20id%3D%22eSJoinTGroup%20by%22%20fill%3D%22none%22%20stroke-width%3D%221%22%20stroke%3D%22gray%22%3E%3C%2Fpath%3E%3Cpath%20d%3D%22M110.25%2C157.5L110.25%2C202.5%22%20id%3D%22eSGroup%20byTAggregate%22%20fill%3D%22none%22%20stroke-width%3D%221%22%20stroke%3D%22gray%22%3E%3C%2Fpath%3E%3Cpath%20d%3D%22M110.25%2C202.5L110.25%2C247.5%22%20id%3D%22eSAggregateTBar%20Chart%22%20fill%3D%22none%22%20stroke-width%3D%221%22%20stroke%3D%22gray%22%3E%3C%2Fpath%3E%3Cpath%20d%3D%22M110.25%2C67.5L110.25%2C112.5%22%20id%3D%22eSTaxisTJoin%22%20fill%3D%22none%22%20stroke-width%3D%221%22%20stroke%3D%22gray%22%3E%3C%2Fpath%3E%3C%2Fg%3E%3Cg%20id%3D%22nodeGroup_dag_widget_4%22%20style%3D%22cursor%3A%20pointer%3B%22%3E%3Cg%20id%3D%22gnDroot%22%20transform%3D%22translate(36.75%2C%2022.5)%22%3E%3Crect%20id%3D%22nDroot%22%20rx%3D%225%22%20ry%3D%225%22%20x%3D%22-35%22%20y%3D%22-7.5%22%20class%3D%22dagNodes%22%20width%3D%2270%22%20height%3D%2215%22%20stroke%3D%22black%22%20fill%3D%22%23a6cee3%22%3E%3C%2Frect%3E%3Ctext%20font-weight%3D%22normal%22%20font-family%3D%22sans-serif%22%20text-anchor%3D%22middle%22%20alignment-baseline%3D%22middle%22%20fill%3D%22black%22%3Eroot%3C%2Ftext%3E%3Ctitle%3Eroot%3C%2Ftitle%3E%3C%2Fg%3E%3Cg%20id%3D%22gnDZones%22%20transform%3D%22translate(36.75%2C%2067.5)%22%3E%3Crect%20id%3D%22nDZones%22%20rx%3D%225%22%20ry%3D%225%22%20x%3D%22-35%22%20y%3D%22-7.5%22%20class%3D%22dagNodes%22%20width%3D%2270%22%20height%3D%2215%22%20stroke%3D%22black%22%20fill%3D%22%23a6cee3%22%3E%3C%2Frect%3E%3Ctext%20font-weight%3D%22normal%22%20font-family%3D%22sans-serif%22%20text-anchor%3D%22middle%22%20alignment-baseline%3D%22middle%22%20fill%3D%22black%22%3EZones%3C%2Ftext%3E%3Ctitle%3EZones%3C%2Ftitle%3E%3C%2Fg%3E%3Cg%20id%3D%22gnDJoin%22%20transform%3D%22translate(110.25%2C%20112.5)%22%3E%3Crect%20id%3D%22nDJoin%22%20rx%3D%225%22%20ry%3D%225%22%20x%3D%22-35%22%20y%3D%22-7.5%22%20class%3D%22dagNodes%22%20width%3D%2270%22%20height%3D%2215%22%20stroke%3D%22black%22%20fill%3D%22%23a6cee3%22%3E%3C%2Frect%3E%3Ctext%20font-weight%3D%22normal%22%20font-family%3D%22sans-serif%22%20text-anchor%3D%22middle%22%20alignment-baseline%3D%22middle%22%20fill%3D%22black%22%3EJoin%3C%2Ftext%3E%3Ctitle%3EJoin%3C%2Ftitle%3E%3C%2Fg%3E%3Cg%20id%3D%22gnDGroup%20by%22%20transform%3D%22translate(110.25%2C%20157.5)%22%3E%3Crect%20id%3D%22nDGroup%20by%22%20rx%3D%225%22%20ry%3D%225%22%20x%3D%22-35%22%20y%3D%22-7.5%22%20class%3D%22dagNodes%22%20width%3D%2270%22%20height%3D%2215%22%20stroke%3D%22black%22%20fill%3D%22%23a6cee3%22%3E%3C%2Frect%3E%3Ctext%20font-weight%3D%22normal%22%20font-family%3D%22sans-serif%22%20text-anchor%3D%22middle%22%20alignment-baseline%3D%22middle%22%20fill%3D%22black%22%3EGroup%20by%3C%2Ftext%3E%3Ctitle%3EGroup%20by%3C%2Ftitle%3E%3C%2Fg%3E%3Cg%20id%3D%22gnDAggregate%22%20transform%3D%22translate(110.25%2C%20202.5)%22%3E%3Crect%20id%3D%22nDAggregate%22%20rx%3D%225%22%20ry%3D%225%22%20x%3D%22-35%22%20y%3D%22-7.5%22%20class%3D%22dagNodes%22%20width%3D%2270%22%20height%3D%2215%22%20stroke%3D%22black%22%20fill%3D%22%23a6cee3%22%3E%3C%2Frect%3E%3Ctext%20font-weight%3D%22normal%22%20font-family%3D%22sans-serif%22%20text-anchor%3D%22middle%22%20alignment-baseline%3D%22middle%22%20fill%3D%22black%22%3EAggregate%3C%2Ftext%3E%3Ctitle%3EAggregate%3C%2Ftitle%3E%3C%2Fg%3E%3Cg%20id%3D%22gnDBar%20Chart%22%20transform%3D%22translate(110.25%2C%20247.5)%22%3E%3Crect%20id%3D%22nDBar%20Chart%22%20rx%3D%225%22%20ry%3D%225%22%20x%3D%22-35%22%20y%3D%22-7.5%22%20class%3D%22dagNodes%22%20width%3D%2270%22%20height%3D%2215%22%20stroke%3D%22black%22%20fill%3D%22%23a6cee3%22%3E%3C%2Frect%3E%3Ctext%20font-weight%3D%22normal%22%20font-family%3D%22sans-serif%22%20text-anchor%3D%22middle%22%20alignment-baseline%3D%22middle%22%20fill%3D%22black%22%3EBar%20Chart%3C%2Ftext%3E%3Ctitle%3EBar%20Chart%3C%2Ftitle%3E%3C%2Fg%3E%3Cg%20id%3D%22gnDTaxis%22%20transform%3D%22translate(110.25%2C%2067.5)%22%3E%3Crect%20id%3D%22nDTaxis%22%20rx%3D%225%22%20ry%3D%225%22%20x%3D%22-35%22%20y%3D%22-7.5%22%20class%3D%22dagNodes%22%20width%3D%2270%22%20height%3D%2215%22%20stroke%3D%22black%22%20fill%3D%22%23a6cee3%22%3E%3C%2Frect%3E%3Ctext%20font-weight%3D%22normal%22%20font-family%3D%22sans-serif%22%20text-anchor%3D%22middle%22%20alignment-baseline%3D%22middle%22%20fill%3D%22black%22%3ETaxis%3C%2Ftext%3E%3Ctitle%3ETaxis%3C%2Ftitle%3E%3C%2Fg%3E%3C%2Fg%3E%3C%2Fsvg%3E%3C%2Fdiv%3E%3C%2Fdiv%3E%3C%2Ffieldset%3E%3C%2Fdiv%3E%3Cdiv%3E%3Cform%20style%3D%22width%3A300px%22%3E%3Cfieldset%3E%3Clegend%3EDetails%20%3C%2Flegend%3E%3Cdiv%20style%3D%22width%3A300px%3Bdisplay%3A%20grid%3Bgrid-template-columns%3A%20100px%20200px%3B%22%3E%3Clabel%3EWidget%3A%20%3C%2Flabel%3E%3Clabel%20id%3D%22detailsNameLabel_dag_widget_4%22%3E%3C%2Flabel%3E%3Clabel%3EProgress%3A%20%3C%2Flabel%3E%3Cdiv%20class%3D%22w3-border%22%3E%3Cdiv%20id%3D%22detailsProgressBar_dag_widget_4%22%20class%3D%22w3-grey%20w3-center%22%20style%3D%22color%3A%20%23000%3Bbackground-color%3A%20%23d0d0d0%3Bwidth%3A0%25%3B%22%3E0%25%3C%2Fdiv%3E%3C%2Fdiv%3E%3C%2Fdiv%3E%3Cdiv%20style%3D%22margin-top%3A5px%3Bborder-top%3A%201.5px%20solid%20grey%3Bwidth%3A300px%3Bdisplay%3A%20grid%3Bgrid-template-columns%3A%2090px%20200px%2010px%3B%22%3E%3Clabel%3EAxes%20Resize%3A%20%3C%2Flabel%3E%3Clabel%20id%3D%22attAxesLabel_dag_widget_4%22%3E%3C%2Flabel%3E%3Ci%20class%3D%22fa%20fa-fw%20fa-refresh%22%20style%3D%22cursor%3A%20pointer%3B%22%3E%3C%2Fi%3E%3Clabel%3EStability%3A%20%3C%2Flabel%3E%3Clabel%20id%3D%22attStabilityLabel_dag_widget_4%22%3E%3C%2Flabel%3E%3Ci%20class%3D%22fa%20fa-fw%20fa-refresh%22%20style%3D%22cursor%3A%20pointer%3B%22%3E%3C%2Fi%3E%3Clabel%3EProgress%3A%20%3C%2Flabel%3E%3Clabel%20id%3D%22attProgressLabel_dag_widget_4%22%3E%3C%2Flabel%3E%3Ci%20class%3D%22fa%20fa-fw%20fa-refresh%22%20style%3D%22cursor%3A%20pointer%3B%22%3E%3C%2Fi%3E%3Clabel%3ESafeguard%3A%20%3C%2Flabel%3E%3Clabel%20id%3D%22attSafeguardLabel_dag_widget_4%22%3E%3C%2Flabel%3E%3Ci%20class%3D%22fa%20fa-fw%20fa-refresh%22%20style%3D%22cursor%3A%20pointer%3B%22%3E%3C%2Fi%3E%3C%2Fdiv%3E%3C%2Ffieldset%3E%3C%2Fform%3E%3C%2Fdiv%3E%3C%2Fdiv%3E",
       "_model_module_version": "^0.1.0",
       "_view_module_version": "^0.1.0",
       "dag": "{\"dag\": [{\"id\": \"root\", \"divID\": \"root\", \"label\": \"root\", \"parentIds\": []}, {\"id\": \"Taxis\", \"divID\": \"Taxis\", \"label\": \"Taxis\", \"parentIds\": [\"root\"]}, {\"id\": \"Zones\", \"divID\": \"Zones\", \"label\": \"Zones\", \"parentIds\": [\"root\"]}, {\"id\": \"Join\", \"divID\": \"Join\", \"label\": \"Join\", \"parentIds\": [\"Zones\", \"Taxis\"]}, {\"id\": \"Group by\", \"divID\": \"Group-by\", \"label\": \"Group by\", \"parentIds\": [\"Join\"]}, {\"id\": \"Aggregate\", \"divID\": \"Aggregate\", \"label\": \"Aggregate\", \"parentIds\": [\"Group by\"]}, {\"id\": \"Bar Chart\", \"divID\": \"Bar-Chart\", \"label\": \"Bar Chart\", \"parentIds\": [\"Aggregate\"]}], \"summaries\": {\"root\": {\"progress\": 0, \"status\": \"RUNNING\"}, \"Taxis\": {\"progress\": 0, \"status\": \"RUNNING\"}, \"Zones\": {\"progress\": 0, \"status\": \"RUNNING\"}, \"Join\": {\"progress\": 0, \"status\": \"RUNNING\"}, \"Group by\": {\"progress\": 0, \"status\": \"RUNNING\"}, \"Aggregate\": {\"progress\": 0, \"status\": \"RUNNING\"}}, \"summaryVariables\": {\"root\": [\"progress\"], \"Taxis\": [\"progress\"], \"Zones\": [\"progress\"], \"Join\": [\"progress\"], \"Group by\": [\"progress\"], \"Aggregate\": [\"progress\"], \"Bar Chart\": [\"progress\"]}}",
       "layout": "IPY_MODEL_c4e8b8f66d3744a1ba428999ca8eb479",
       "summaries": "{\"root\": {\"progress\": 0, \"status\": \"RUNNING\"}, \"Taxis\": {\"progress\": 0, \"status\": \"RUNNING\"}, \"Zones\": {\"progress\": 0, \"status\": \"RUNNING\"}, \"Join\": {\"progress\": 0, \"status\": \"RUNNING\"}, \"Group by\": {\"progress\": 0, \"status\": \"RUNNING\"}, \"Aggregate\": {\"progress\": 0, \"status\": \"RUNNING\"}, \"Bar Chart\": {\"progress\": 0, \"status\": \"RUNNING\"}}"
      }
     },
     "9254c7df7fcb49829d74f6b9ce4de475": {
      "model_module": "@jupyter-widgets/base",
      "model_module_version": "2.0.0",
      "model_name": "LayoutModel",
      "state": {}
     },
     "9256bf7d1edd492c9317b18db1580892": {
      "model_module": "@jupyter-widgets/controls",
      "model_module_version": "2.0.0",
      "model_name": "DescriptionStyleModel",
      "state": {
       "description_width": ""
      }
     },
     "92a2fb54eb5c406e93bd9932e978e792": {
      "model_module": "@jupyter-widgets/controls",
      "model_module_version": "2.0.0",
      "model_name": "TextStyleModel",
      "state": {
       "description_width": "",
       "font_size": null,
       "text_color": null
      }
     },
     "92b04f24ad5844cebb5e6e008ebaf304": {
      "model_module": "@jupyter-widgets/base",
      "model_module_version": "2.0.0",
      "model_name": "LayoutModel",
      "state": {
       "max_width": "100px"
      }
     },
     "92c7937b5a224fc48c2784614106257e": {
      "model_module": "@jupyter-widgets/base",
      "model_module_version": "2.0.0",
      "model_name": "LayoutModel",
      "state": {}
     },
     "92e4e0ee4f1b4293be7f065a2583232a": {
      "model_module": "@jupyter-widgets/base",
      "model_module_version": "2.0.0",
      "model_name": "LayoutModel",
      "state": {}
     },
     "930d907756674f1ba80e8ead02042e64": {
      "model_module": "@jupyter-widgets/controls",
      "model_module_version": "2.0.0",
      "model_name": "TextModel",
      "state": {
       "continuous_update": false,
       "description": "Name:",
       "disabled": true,
       "layout": "IPY_MODEL_22f7a028c0c3435e9461b48e66bcf1ec",
       "style": "IPY_MODEL_f291b511f8534921ad14c76b90f6d3ed",
       "value": "service_zone"
      }
     },
     "93686b2e479b4b44a25e1b303e41b7b5": {
      "model_module": "@jupyter-widgets/controls",
      "model_module_version": "2.0.0",
      "model_name": "CheckboxStyleModel",
      "state": {
       "description_width": ""
      }
     },
     "9393c2a21e384322bb2da3ff1d6277a4": {
      "model_module": "@jupyter-widgets/controls",
      "model_module_version": "2.0.0",
      "model_name": "DescriptionStyleModel",
      "state": {
       "description_width": ""
      }
     },
     "939ec386c46a441ebc6841de485520a4": {
      "model_module": "@jupyter-widgets/controls",
      "model_module_version": "2.0.0",
      "model_name": "HTMLStyleModel",
      "state": {
       "description_width": "",
       "font_size": null,
       "text_color": null
      }
     },
     "93a26b26f1b04c9c9ce74a134a313927": {
      "model_module": "@jupyter-widgets/controls",
      "model_module_version": "2.0.0",
      "model_name": "VBoxModel",
      "state": {
       "children": [
        "IPY_MODEL_94c7b02db4ed4361bd9bb2ec94e3299b",
        "IPY_MODEL_750703d6c8a24a718863de1a7260d04e"
       ],
       "layout": "IPY_MODEL_52aa2f146db24490bc9007fb7fd0e7bc"
      }
     },
     "93a864cbd01240d4a2a8d21a85528b3c": {
      "model_module": "@jupyter-widgets/controls",
      "model_module_version": "2.0.0",
      "model_name": "DescriptionStyleModel",
      "state": {
       "description_width": ""
      }
     },
     "93b22d4ff9b742169571ff5f98c36569": {
      "model_module": "@jupyter-widgets/base",
      "model_module_version": "2.0.0",
      "model_name": "LayoutModel",
      "state": {}
     },
     "93c2d0c9c88f40d0a4858bd44c456468": {
      "model_module": "@jupyter-widgets/controls",
      "model_module_version": "2.0.0",
      "model_name": "TextStyleModel",
      "state": {
       "description_width": "",
       "font_size": null,
       "text_color": null
      }
     },
     "93c307f14f564f188a96b75ebd0a20c1": {
      "model_module": "@jupyter-widgets/controls",
      "model_module_version": "2.0.0",
      "model_name": "TextStyleModel",
      "state": {
       "description_width": "",
       "font_size": null,
       "text_color": null
      }
     },
     "93eab0fc33a14c159d3311763df1f946": {
      "model_module": "@jupyter-widgets/controls",
      "model_module_version": "2.0.0",
      "model_name": "TextStyleModel",
      "state": {
       "description_width": "",
       "font_size": null,
       "text_color": null
      }
     },
     "93edc62a0b67459ba7a7e532d30b7c04": {
      "model_module": "@jupyter-widgets/controls",
      "model_module_version": "2.0.0",
      "model_name": "VBoxModel",
      "state": {
       "children": [
        "IPY_MODEL_8d2cb503046a491492da3d8836c3d207",
        "IPY_MODEL_181ab109da904ea396ef3cb89d6aba0f"
       ],
       "layout": "IPY_MODEL_210f491c97b94c3c8ab339909d3471d8"
      }
     },
     "940710b3bdc3473fa02366f702535cf0": {
      "model_module": "@jupyter-widgets/controls",
      "model_module_version": "2.0.0",
      "model_name": "LabelStyleModel",
      "state": {
       "description_width": "",
       "font_family": null,
       "font_size": null,
       "font_style": null,
       "font_variant": null,
       "font_weight": null,
       "text_color": null,
       "text_decoration": null
      }
     },
     "940cad4f16a643f48c8336422f4bba88": {
      "model_module": "@jupyter-widgets/controls",
      "model_module_version": "2.0.0",
      "model_name": "HTMLStyleModel",
      "state": {
       "description_width": "",
       "font_size": null,
       "text_color": null
      }
     },
     "941660a14160420ba2a47e93629e462f": {
      "model_module": "@jupyter-widgets/base",
      "model_module_version": "2.0.0",
      "model_name": "LayoutModel",
      "state": {}
     },
     "9446ae26d2324f739c9c0484c1308b13": {
      "model_module": "@jupyter-widgets/controls",
      "model_module_version": "2.0.0",
      "model_name": "CheckboxModel",
      "state": {
       "disabled": true,
       "indent": false,
       "layout": "IPY_MODEL_524bf3e75e344d7cba82433944ed4fcb",
       "style": "IPY_MODEL_e0c89103c0504cc3a6fb37258f304663",
       "value": false
      }
     },
     "946e7f6812a046998821638d17649bcb": {
      "model_module": "@jupyter-widgets/base",
      "model_module_version": "2.0.0",
      "model_name": "LayoutModel",
      "state": {}
     },
     "94738b9e1e904339b2a14a5039b7975d": {
      "model_module": "@jupyter-widgets/controls",
      "model_module_version": "2.0.0",
      "model_name": "TextStyleModel",
      "state": {
       "description_width": "initial",
       "font_size": null,
       "text_color": null
      }
     },
     "947ca27f3a574759bb42f4d9230d8f0c": {
      "model_module": "@jupyter-widgets/base",
      "model_module_version": "2.0.0",
      "model_name": "LayoutModel",
      "state": {}
     },
     "94a0c694e65941ee83ce970c298cd187": {
      "model_module": "@jupyter-widgets/controls",
      "model_module_version": "2.0.0",
      "model_name": "LabelModel",
      "state": {
       "layout": "IPY_MODEL_14c7843142fa4a9e89d2fc325c84e21c",
       "style": "IPY_MODEL_b59d474031704639afe03fea928775e0",
       "value": "sum"
      }
     },
     "94c7b02db4ed4361bd9bb2ec94e3299b": {
      "model_module": "@jupyter-widgets/controls",
      "model_module_version": "2.0.0",
      "model_name": "CheckboxModel",
      "state": {
       "description": "Dayfirst",
       "disabled": true,
       "layout": "IPY_MODEL_ad1fc082244746d4b57fe6e903db8c18",
       "style": "IPY_MODEL_ff9828212942425ca941722bc5021761",
       "value": false
      }
     },
     "94df7489eeb14f43bbf3d78f596103c0": {
      "model_module": "@jupyter-widgets/base",
      "model_module_version": "2.0.0",
      "model_name": "LayoutModel",
      "state": {}
     },
     "95116052091c43d7bdbd6a0eb8da75c4": {
      "model_module": "@jupyter-widgets/controls",
      "model_module_version": "2.0.0",
      "model_name": "VBoxModel",
      "state": {
       "children": [
        "IPY_MODEL_cfdbfb7077284e0393f979d5b9a5ee2e",
        "IPY_MODEL_82660ba0c319498ebd82dbbaa5e57905"
       ],
       "layout": "IPY_MODEL_52aa2f146db24490bc9007fb7fd0e7bc"
      }
     },
     "951bc37783154b3da2335bddcbf3c405": {
      "model_module": "@jupyter-widgets/controls",
      "model_module_version": "2.0.0",
      "model_name": "CheckboxStyleModel",
      "state": {
       "description_width": ""
      }
     },
     "957aa2c8f8ab4b068ec4f4c765df3580": {
      "model_module": "@jupyter-widgets/controls",
      "model_module_version": "2.0.0",
      "model_name": "HBoxModel",
      "state": {
       "children": [
        "IPY_MODEL_2128708896624679878bb16c85e1db52",
        "IPY_MODEL_b6bf5199999f43319148dd7b64887764"
       ],
       "layout": "IPY_MODEL_f0ad351601b74e9baf3dbf1cca95a0a6"
      }
     },
     "957ac327d27d4e4abd43f102a86af3d3": {
      "model_module": "@jupyter-widgets/controls",
      "model_module_version": "2.0.0",
      "model_name": "DescriptionStyleModel",
      "state": {
       "description_width": "initial"
      }
     },
     "95acb686d1cb472281d31a2446331501": {
      "model_module": "@jupyter-widgets/base",
      "model_module_version": "2.0.0",
      "model_name": "LayoutModel",
      "state": {
       "grid_template_columns": "100px 200px 100px 100px"
      }
     },
     "95b6f289330445e29a053243cdcbfc0b": {
      "model_module": "@jupyter-widgets/base",
      "model_module_version": "2.0.0",
      "model_name": "LayoutModel",
      "state": {}
     },
     "9603dd5c4a324fb785ce3347619168c1": {
      "model_module": "@jupyter-widgets/controls",
      "model_module_version": "2.0.0",
      "model_name": "TextStyleModel",
      "state": {
       "description_width": "",
       "font_size": null,
       "text_color": null
      }
     },
     "96400d1b34bd426c9b37c97cf090609f": {
      "model_module": "@jupyter-widgets/controls",
      "model_module_version": "2.0.0",
      "model_name": "CheckboxStyleModel",
      "state": {
       "description_width": ""
      }
     },
     "965d169023d042bc981650abfc889260": {
      "model_module": "@jupyter-widgets/base",
      "model_module_version": "2.0.0",
      "model_name": "LayoutModel",
      "state": {}
     },
     "966f2e905d30460da33ecc14b8b0afec": {
      "model_module": "@jupyter-widgets/controls",
      "model_module_version": "2.0.0",
      "model_name": "VBoxModel",
      "state": {
       "children": [
        "IPY_MODEL_eeb8e4174211468da8ebc8cf785b58a6",
        "IPY_MODEL_c6aa3de87eda45e3804e7c6e48b4adf5",
        "IPY_MODEL_88700b51b82d4dac99869f538bdf4928",
        "IPY_MODEL_b9fd4149b38641c2b88a98dc38158f79",
        "IPY_MODEL_5d94805aba8942108c09b234e0965e12",
        "IPY_MODEL_ca054510bf064493afd198d1effbdf46",
        "IPY_MODEL_139238807fec42e5838dde40ba797435",
        "IPY_MODEL_663778b0d6ae4c1a93530171cc941c97"
       ],
       "layout": "IPY_MODEL_729eac0b454749d0adc60fafeff94ac1"
      }
     },
     "969a98d35d164b22bdbf509cb446cf57": {
      "model_module": "@jupyter-widgets/base",
      "model_module_version": "2.0.0",
      "model_name": "LayoutModel",
      "state": {}
     },
     "97146162d33640c0ac92a06cdbf0f694": {
      "model_module": "@jupyter-widgets/base",
      "model_module_version": "2.0.0",
      "model_name": "LayoutModel",
      "state": {}
     },
     "972580a8b5394e3386a5dc9362c8e0c3": {
      "model_module": "@jupyter-widgets/controls",
      "model_module_version": "2.0.0",
      "model_name": "LabelModel",
      "state": {
       "layout": "IPY_MODEL_1443f45d99fa4966bac745d62f187d92",
       "style": "IPY_MODEL_c0ada84c6cf944439848aac845d939c9",
       "value": "No PColumn Selected"
      }
     },
     "972b58916e22476992a4a9c9cd394c59": {
      "model_module": "@jupyter-widgets/controls",
      "model_module_version": "2.0.0",
      "model_name": "TextModel",
      "state": {
       "description": "Separator:",
       "disabled": true,
       "layout": "IPY_MODEL_8f9644ba50d946fdbd74eb2d9885aad7",
       "placeholder": "if many values",
       "style": "IPY_MODEL_5831ea6c37dd4925b79fe26d23b9a747"
      }
     },
     "973493cc2fbb4a19954cd7b81dace88a": {
      "model_module": "@jupyter-widgets/controls",
      "model_module_version": "2.0.0",
      "model_name": "CheckboxStyleModel",
      "state": {
       "description_width": ""
      }
     },
     "97885dc218bb4f5f8e0cc8f026f47f57": {
      "model_module": "@jupyter-widgets/base",
      "model_module_version": "2.0.0",
      "model_name": "LayoutModel",
      "state": {}
     },
     "97c48e6ba3a04edd99c696e9124ba551": {
      "model_module": "@jupyter-widgets/controls",
      "model_module_version": "2.0.0",
      "model_name": "TextModel",
      "state": {
       "description": "NA values:",
       "layout": "IPY_MODEL_0f34ce929845478fa5255642ca127f37",
       "style": "IPY_MODEL_4dbb6eadbf0541c2a8b498eb3b328c01"
      }
     },
     "9806ec76e7f9486babcda7650b07db48": {
      "model_module": "@jupyter-widgets/controls",
      "model_module_version": "2.0.0",
      "model_name": "HTMLStyleModel",
      "state": {
       "description_width": "",
       "font_size": null,
       "text_color": null
      }
     },
     "9847419edb0d4439a67dafd451c53640": {
      "model_module": "@jupyter-widgets/controls",
      "model_module_version": "2.0.0",
      "model_name": "TextStyleModel",
      "state": {
       "description_width": "",
       "font_size": null,
       "text_color": null
      }
     },
     "984858880c9e48ffb879484376417e18": {
      "model_module": "@jupyter-widgets/controls",
      "model_module_version": "2.0.0",
      "model_name": "ButtonStyleModel",
      "state": {
       "font_family": null,
       "font_size": null,
       "font_style": null,
       "font_variant": null,
       "font_weight": null,
       "text_color": null,
       "text_decoration": null
      }
     },
     "984ff83754f245f8a4b79d8901db387b": {
      "model_module": "@jupyter-widgets/controls",
      "model_module_version": "2.0.0",
      "model_name": "LabelModel",
      "state": {
       "layout": "IPY_MODEL_a9e6b89423a345de885cf5804e80b373",
       "style": "IPY_MODEL_24a47727311541c5980e6f2fbcfb2f21",
       "value": "CmdLine:"
      }
     },
     "9886bd51e7524dcc91dd022cea463294": {
      "model_module": "@jupyter-widgets/controls",
      "model_module_version": "2.0.0",
      "model_name": "HTMLStyleModel",
      "state": {
       "description_width": "",
       "font_size": null,
       "text_color": null
      }
     },
     "9887c600d0324f43b004767f8865f22f": {
      "model_module": "@jupyter-widgets/controls",
      "model_module_version": "2.0.0",
      "model_name": "CheckboxStyleModel",
      "state": {
       "description_width": ""
      }
     },
     "9899cfcd681a4b5dacccc1e6ffebf9d8": {
      "model_module": "@jupyter-widgets/controls",
      "model_module_version": "2.0.0",
      "model_name": "TextareaModel",
      "state": {
       "layout": "IPY_MODEL_4bf67381458e4c0a9646ddac5c9e345a",
       "rows": 20,
       "style": "IPY_MODEL_79aacd331e2b47f8b4a5e4a942851921",
       "value": "  name: store_and_fwd_flag\n  path: store_and_fwd_flag\n  max_definition_level: 1\n  max_repetition_level: 0\n  physical_type: BYTE_ARRAY\n  logical_type: String\n  converted_type (legacy): UTF8\n  file_offset: 110977273\n  file_path: \n  physical_type: BYTE_ARRAY\n  num_values: 13157677\n  path_in_schema: store_and_fwd_flag\n  is_stats_set: True\n  statistics:\n      has_min_max: True\n      min: N\n      max: Y\n      null_count: 0\n      distinct_count: None\n      num_values: 13157677\n      physical_type: BYTE_ARRAY\n      logical_type: String\n      converted_type (legacy): UTF8\n  geo_statistics:\n    None\n  compression: GZIP\n  encodings: ('PLAIN_DICTIONARY', 'PLAIN', 'RLE')\n  has_dictionary_page: True\n  dictionary_page_offset: 110817285\n  data_page_offset: 110817327\n  total_compressed_size: 159988\n  total_uncompressed_size: 358645"
      }
     },
     "98d741f662b740d8a363467cd3a92cc3": {
      "model_module": "@jupyter-widgets/controls",
      "model_module_version": "2.0.0",
      "model_name": "DescriptionStyleModel",
      "state": {
       "description_width": ""
      }
     },
     "98dda245de0f4e1faaefca6418883f70": {
      "model_module": "@jupyter-widgets/base",
      "model_module_version": "2.0.0",
      "model_name": "LayoutModel",
      "state": {
       "width": "max-content"
      }
     },
     "98ff4876d994481c92675c884bc35bc7": {
      "model_module": "@jupyter-widgets/base",
      "model_module_version": "2.0.0",
      "model_name": "LayoutModel",
      "state": {}
     },
     "9911677718bf4f80ab1889dfd7836c3a": {
      "model_module": "@jupyter-widgets/base",
      "model_module_version": "2.0.0",
      "model_name": "LayoutModel",
      "state": {}
     },
     "9930d3d4eb674d1db4fd92a677c295ad": {
      "model_module": "@jupyter-widgets/base",
      "model_module_version": "2.0.0",
      "model_name": "LayoutModel",
      "state": {}
     },
     "9932cfbdd1904890bb13347f310e6285": {
      "model_module": "@jupyter-widgets/controls",
      "model_module_version": "2.0.0",
      "model_name": "IntProgressModel",
      "state": {
       "description": "Progress",
       "layout": "IPY_MODEL_b02cd574e0434a879f8118720d5e24be",
       "max": 0,
       "style": "IPY_MODEL_193eb4ec8c7d4539b5dc1cf626dfb214"
      }
     },
     "9942769df7d240589035e768a20f0dbe": {
      "model_module": "@jupyter-widgets/controls",
      "model_module_version": "2.0.0",
      "model_name": "TextModel",
      "state": {
       "description": "Separator:",
       "disabled": true,
       "layout": "IPY_MODEL_1b638cd382534058ad13b93005f3609d",
       "placeholder": "if many values",
       "style": "IPY_MODEL_b875000e2e76424fb2faabf41d988afe"
      }
     },
     "9998f93d223d461ead84ea80173ec07e": {
      "model_module": "@jupyter-widgets/base",
      "model_module_version": "2.0.0",
      "model_name": "LayoutModel",
      "state": {}
     },
     "99a1614a478245e3bc13af2b42b8af18": {
      "model_module": "@jupyter-widgets/base",
      "model_module_version": "2.0.0",
      "model_name": "LayoutModel",
      "state": {}
     },
     "99e5525e924b47e7b707529b4df6e1f7": {
      "model_module": "@jupyter-widgets/base",
      "model_module_version": "2.0.0",
      "model_name": "LayoutModel",
      "state": {}
     },
     "9a0c8ecb44d44d4a88556f292ee24311": {
      "model_module": "@jupyter-widgets/base",
      "model_module_version": "2.0.0",
      "model_name": "LayoutModel",
      "state": {}
     },
     "9a28fdc3464e45f6ac3dd2cd513026c7": {
      "model_module": "@jupyter-widgets/base",
      "model_module_version": "2.0.0",
      "model_name": "LayoutModel",
      "state": {}
     },
     "9aca197b7d6940d889ec300fad878bd6": {
      "model_module": "@jupyter-widgets/controls",
      "model_module_version": "2.0.0",
      "model_name": "DropdownModel",
      "state": {
       "_options_labels": [
        "",
        ">",
        "<",
        ">=",
        "<=",
        "==",
        "!="
       ],
       "description": "& ",
       "index": 0,
       "layout": "IPY_MODEL_ab91a8e941b1483abd22b775df013b3a",
       "style": "IPY_MODEL_606eca47e5584ef4bfb5c985170e16e9"
      }
     },
     "9ad1ebfd5f21439c9a10899569803ffd": {
      "model_module": "@jupyter-widgets/controls",
      "model_module_version": "2.0.0",
      "model_name": "CheckboxModel",
      "state": {
       "disabled": true,
       "indent": false,
       "layout": "IPY_MODEL_0dcd49120df441fcbf5c719714a0f3d7",
       "style": "IPY_MODEL_7ca1d15fa2994f628fa71477cf04b7ca",
       "value": true
      }
     },
     "9ae78ce9b5b54693973b6655d78f2cde": {
      "model_module": "@jupyter-widgets/base",
      "model_module_version": "2.0.0",
      "model_name": "LayoutModel",
      "state": {}
     },
     "9b2b058afe22466585a43617f6cd9192": {
      "model_module": "@jupyter-widgets/controls",
      "model_module_version": "2.0.0",
      "model_name": "CheckboxModel",
      "state": {
       "description": "NA values",
       "disabled": true,
       "layout": "IPY_MODEL_50bf02037cc049fbafda64a54133ec31",
       "style": "IPY_MODEL_f510527fdf4e498fa2a453c7a2a3f828",
       "value": false
      }
     },
     "9b460c07b8e44e96a4ff080df62e6663": {
      "model_module": "@jupyter-widgets/controls",
      "model_module_version": "2.0.0",
      "model_name": "HTMLModel",
      "state": {
       "layout": "IPY_MODEL_f5aaa5ed223b42bc9931ef4f092c3661",
       "style": "IPY_MODEL_cbd1ad1d0ebf42b98a341290b3ee2f78"
      }
     },
     "9b5a9c20432b444a9aa90b5432f08c3c": {
      "model_module": "@jupyter-widgets/controls",
      "model_module_version": "2.0.0",
      "model_name": "ProgressStyleModel",
      "state": {
       "description_width": ""
      }
     },
     "9b7c02fd00c44c6bbec372b33c12f13a": {
      "model_module": "@jupyter-widgets/controls",
      "model_module_version": "2.0.0",
      "model_name": "TextModel",
      "state": {
       "description": "Separator:",
       "disabled": true,
       "layout": "IPY_MODEL_bce299eec56e4a14adc53d39606724cf",
       "placeholder": "if many values",
       "style": "IPY_MODEL_01de57f200414937a32d5f0698d319b4"
      }
     },
     "9ba25c96b21b4bd78800c8579cd45572": {
      "model_module": "@jupyter-widgets/controls",
      "model_module_version": "2.0.0",
      "model_name": "LabelModel",
      "state": {
       "layout": "IPY_MODEL_210ef9166ea0427fb6e3658fc28cb0b4",
       "style": "IPY_MODEL_ac630c946143493e8af7488ba4bdd269"
      }
     },
     "9bd178f3151a4b00841f63d882b24b7b": {
      "model_module": "@jupyter-widgets/controls",
      "model_module_version": "2.0.0",
      "model_name": "DescriptionStyleModel",
      "state": {
       "description_width": ""
      }
     },
     "9bdb6898e4e148219355925e1d5b6ec3": {
      "model_module": "@jupyter-widgets/controls",
      "model_module_version": "2.0.0",
      "model_name": "HBoxModel",
      "state": {
       "layout": "IPY_MODEL_323fee37ac7b476e9bca5344b90977bb"
      }
     },
     "9bed4660aeb845469e7b6816af351f5b": {
      "model_module": "@jupyter-widgets/base",
      "model_module_version": "2.0.0",
      "model_name": "LayoutModel",
      "state": {}
     },
     "9bf8adee82014370bea39a8b92dbe5a3": {
      "model_module": "@jupyter-widgets/controls",
      "model_module_version": "2.0.0",
      "model_name": "HTMLModel",
      "state": {
       "layout": "IPY_MODEL_6cf38dcbc50844a89a7b3065a8781d64",
       "style": "IPY_MODEL_9806ec76e7f9486babcda7650b07db48"
      }
     },
     "9c110b638c0745d58b8080b0c708ec16": {
      "model_module": "@jupyter-widgets/base",
      "model_module_version": "2.0.0",
      "model_name": "LayoutModel",
      "state": {}
     },
     "9c1b03f06a3048c4adde8720550671ed": {
      "model_module": "@jupyter-widgets/base",
      "model_module_version": "2.0.0",
      "model_name": "LayoutModel",
      "state": {}
     },
     "9c31bcab51364b60b0db5c4c8f518a36": {
      "model_module": "@jupyter-widgets/controls",
      "model_module_version": "2.0.0",
      "model_name": "TextModel",
      "state": {
       "description": "Rename:",
       "layout": "IPY_MODEL_322ca147ba6e49babd463cd165c30ff7",
       "style": "IPY_MODEL_afd247f632384e98a1141b29f33fb6fd",
       "value": "Borough"
      }
     },
     "9ca92039e4914b0a86f662c08d254a7d": {
      "model_module": "@jupyter-widgets/controls",
      "model_module_version": "2.0.0",
      "model_name": "TextStyleModel",
      "state": {
       "description_width": "",
       "font_size": null,
       "text_color": null
      }
     },
     "9caf60cf07344e4c88b0e8831813a7dc": {
      "model_module": "@jupyter-widgets/controls",
      "model_module_version": "2.0.0",
      "model_name": "DescriptionStyleModel",
      "state": {
       "description_width": ""
      }
     },
     "9cc0192dd3754336beb5b3813d5cf7c7": {
      "model_module": "@jupyter-widgets/base",
      "model_module_version": "2.0.0",
      "model_name": "LayoutModel",
      "state": {}
     },
     "9d0b029339944fb1b9b98325eabbcf1e": {
      "model_module": "@jupyter-widgets/controls",
      "model_module_version": "2.0.0",
      "model_name": "DropdownModel",
      "state": {
       "_options_labels": [
        "",
        ">",
        "<",
        ">=",
        "<=",
        "==",
        "!="
       ],
       "description": "& ",
       "index": 0,
       "layout": "IPY_MODEL_0d52032c093446e28d63489686285a68",
       "style": "IPY_MODEL_83333e91a26c44c18139063e9fb50ca8"
      }
     },
     "9d25e2bd526d46aca7782551eef9b160": {
      "model_module": "@jupyter-widgets/base",
      "model_module_version": "2.0.0",
      "model_name": "LayoutModel",
      "state": {}
     },
     "9d3fc1de2003483fac05da2acf89b793": {
      "model_module": "@jupyter-widgets/controls",
      "model_module_version": "2.0.0",
      "model_name": "TextareaModel",
      "state": {
       "layout": "IPY_MODEL_3ab08ff9050e4e14b50a860cce85c091",
       "rows": 20,
       "style": "IPY_MODEL_92a2fb54eb5c406e93bd9932e978e792",
       "value": "  name: mta_tax\n  path: mta_tax\n  max_definition_level: 1\n  max_repetition_level: 0\n  physical_type: DOUBLE\n  logical_type: None\n  converted_type (legacy): NONE\n  file_offset: 151756942\n  file_path: \n  physical_type: DOUBLE\n  num_values: 13157677\n  path_in_schema: mta_tax\n  is_stats_set: True\n  statistics:\n      has_min_max: True\n      min: -0.5\n      max: 52.75\n      null_count: 0\n      distinct_count: None\n      num_values: 13157677\n      physical_type: DOUBLE\n      logical_type: None\n      converted_type (legacy): NONE\n  geo_statistics:\n    None\n  compression: GZIP\n  encodings: ('PLAIN_DICTIONARY', 'PLAIN', 'RLE')\n  has_dictionary_page: True\n  dictionary_page_offset: 151634358\n  data_page_offset: 151634490\n  total_compressed_size: 122584\n  total_uncompressed_size: 407566"
      }
     },
     "9d53a3e7bc8b48c5baf5445aeec0586c": {
      "model_module": "@jupyter-widgets/controls",
      "model_module_version": "2.0.0",
      "model_name": "VBoxModel",
      "state": {
       "children": [
        "IPY_MODEL_548256d2af5444a88a5a08efff216873",
        "IPY_MODEL_fa1f5d6225484b65aa2f36681bd0168f"
       ],
       "layout": "IPY_MODEL_6116e554553248c4916888d7d66f23c3"
      }
     },
     "9d6c9c59a84642fcb76b469d6f8861fb": {
      "model_module": "@jupyter-widgets/base",
      "model_module_version": "2.0.0",
      "model_name": "LayoutModel",
      "state": {}
     },
     "9d8c9902fa4749c3a96a80823056766e": {
      "model_module": "@jupyter-widgets/base",
      "model_module_version": "2.0.0",
      "model_name": "LayoutModel",
      "state": {}
     },
     "9da72427d1f949aaa718e10e6fdd0ee5": {
      "model_module": "@jupyter-widgets/controls",
      "model_module_version": "2.0.0",
      "model_name": "TextModel",
      "state": {
       "description": "File:",
       "disabled": true,
       "layout": "IPY_MODEL_55b0808ebb794050b741d93c388261b6",
       "placeholder": "",
       "style": "IPY_MODEL_9847419edb0d4439a67dafd451c53640",
       "value": "w20251004_203123"
      }
     },
     "9dbb1ef7b6d1434b99f4cd9ee57a8385": {
      "model_module": "@jupyter-widgets/controls",
      "model_module_version": "2.0.0",
      "model_name": "ButtonStyleModel",
      "state": {
       "font_family": null,
       "font_size": null,
       "font_style": null,
       "font_variant": null,
       "font_weight": null,
       "text_color": null,
       "text_decoration": null
      }
     },
     "9dbc6d1e7cc842448c95cf6d18b100f2": {
      "model_module": "@jupyter-widgets/controls",
      "model_module_version": "2.0.0",
      "model_name": "HTMLStyleModel",
      "state": {
       "description_width": "",
       "font_size": null,
       "text_color": null
      }
     },
     "9dbd46257f6c4b51a1eb44224d1217ed": {
      "model_module": "@jupyter-widgets/controls",
      "model_module_version": "2.0.0",
      "model_name": "TextStyleModel",
      "state": {
       "description_width": "",
       "font_size": null,
       "text_color": null
      }
     },
     "9dcdf4a4d4ae4823a05a42ec1f5dfb96": {
      "model_module": "@jupyter-widgets/controls",
      "model_module_version": "2.0.0",
      "model_name": "DescriptionStyleModel",
      "state": {
       "description_width": ""
      }
     },
     "9dcf95aebf6e44ed85cf82045ea1fe1f": {
      "model_module": "@jupyter-widgets/base",
      "model_module_version": "2.0.0",
      "model_name": "LayoutModel",
      "state": {}
     },
     "9e00127209b64cc592011b3d47b62268": {
      "model_module": "@jupyter-widgets/controls",
      "model_module_version": "2.0.0",
      "model_name": "HTMLModel",
      "state": {
       "layout": "IPY_MODEL_a52e90006eba476086fbab98e7a46418",
       "style": "IPY_MODEL_17d9e8d56f97445383c91669369a38c5"
      }
     },
     "9e11d39922ff473e8aa99588299ae778": {
      "model_module": "@jupyter-widgets/base",
      "model_module_version": "2.0.0",
      "model_name": "LayoutModel",
      "state": {}
     },
     "9e2f48ba88184d9088bf62a001c3bc2f": {
      "model_module": "@jupyter-widgets/controls",
      "model_module_version": "2.0.0",
      "model_name": "DescriptionStyleModel",
      "state": {
       "description_width": ""
      }
     },
     "9e373c8281fb41b29b1c08980b953189": {
      "model_module": "@jupyter-widgets/base",
      "model_module_version": "2.0.0",
      "model_name": "LayoutModel",
      "state": {}
     },
     "9e3bb4a26a444da5906858d2f2345b23": {
      "model_module": "@jupyter-widgets/controls",
      "model_module_version": "2.0.0",
      "model_name": "CheckboxModel",
      "state": {
       "description": "NA values",
       "disabled": true,
       "layout": "IPY_MODEL_e46242cb89204c7c9bcf37b15e3763bc",
       "style": "IPY_MODEL_f5ae4a89fc1b40d79110244afb5028d5",
       "value": false
      }
     },
     "9e4c961427294d0088969d0303e6efc4": {
      "model_module": "@jupyter-widgets/controls",
      "model_module_version": "2.0.0",
      "model_name": "TextModel",
      "state": {
       "description": "Unique vals:",
       "disabled": true,
       "layout": "IPY_MODEL_d4bf69605ba545489ea8e04ed49eb1b3",
       "style": "IPY_MODEL_f39d28043e4147ceb9b615dd83dea46b",
       "value": "3/99"
      }
     },
     "9e6d80b187834300a550bebb074c4d7f": {
      "model_module": "@jupyter-widgets/controls",
      "model_module_version": "2.0.0",
      "model_name": "HTMLModel",
      "state": {
       "layout": "IPY_MODEL_1149b4a7bb224b6a918aac05f1e3ef7d",
       "style": "IPY_MODEL_4e800d70c0d84169a2915112eb6baaf8"
      }
     },
     "9e82fb666e9e4ad3868b743d18804926": {
      "model_module": "@jupyter-widgets/controls",
      "model_module_version": "2.0.0",
      "model_name": "VBoxModel",
      "state": {
       "children": [
        "IPY_MODEL_69f8707932b249b992448f2184dade0a",
        "IPY_MODEL_14554e40ce1e416cac36e15b9e25dee2",
        "IPY_MODEL_74ceb1c044684766b214ce113cac1c96"
       ],
       "layout": "IPY_MODEL_6f81ae87d8e0431495d240e509891d32"
      }
     },
     "9eb903084a3449129b89a1fbd3966934": {
      "model_module": "@jupyter-widgets/base",
      "model_module_version": "2.0.0",
      "model_name": "LayoutModel",
      "state": {}
     },
     "9ebbd364025f47f883299c3670cb35a2": {
      "model_module": "@jupyter-widgets/base",
      "model_module_version": "2.0.0",
      "model_name": "LayoutModel",
      "state": {}
     },
     "9ebeb328e8f04917ae9254201f38da20": {
      "model_module": "@jupyter-widgets/base",
      "model_module_version": "2.0.0",
      "model_name": "LayoutModel",
      "state": {}
     },
     "9ec3638483564f37ab962a6b4f71098d": {
      "model_module": "@jupyter-widgets/controls",
      "model_module_version": "2.0.0",
      "model_name": "FloatTextModel",
      "state": {
       "layout": "IPY_MODEL_0b42487cc9a04716873550f16ff15fc3",
       "step": null,
       "style": "IPY_MODEL_3338b1035b714042800763275fdf0e05"
      }
     },
     "9f051f6d7f7843219e551851626b5cbb": {
      "model_module": "@jupyter-widgets/controls",
      "model_module_version": "2.0.0",
      "model_name": "HTMLStyleModel",
      "state": {
       "description_width": "",
       "font_size": null,
       "text_color": null
      }
     },
     "9f2ecb3334844bbfba13149151ec5810": {
      "model_module": "@jupyter-widgets/base",
      "model_module_version": "2.0.0",
      "model_name": "LayoutModel",
      "state": {}
     },
     "9f2f4ddcc20a4e4db3c39a278d16b1e5": {
      "model_module": "@jupyter-widgets/controls",
      "model_module_version": "2.0.0",
      "model_name": "TextModel",
      "state": {
       "description": "Type:",
       "disabled": true,
       "layout": "IPY_MODEL_9ae78ce9b5b54693973b6655d78f2cde",
       "style": "IPY_MODEL_5199bc49387a469cb7ee7741fb38a1a7",
       "value": "int64"
      }
     },
     "9f50f09053034a23b57a9232d03918f3": {
      "model_module": "@jupyter-widgets/controls",
      "model_module_version": "2.0.0",
      "model_name": "TextModel",
      "state": {
       "description": "URL to sniff(optional):",
       "disabled": true,
       "layout": "IPY_MODEL_40d3f0a9522b4925997638a0c91f8917",
       "placeholder": "",
       "style": "IPY_MODEL_890acd57c8034f0eb49877f8275ef49a"
      }
     },
     "9f59a0673a8148bb83201e74bcab3de6": {
      "model_module": "@jupyter-widgets/base",
      "model_module_version": "2.0.0",
      "model_name": "LayoutModel",
      "state": {}
     },
     "9f5d2a2c14fe4b6fb0c7ee96e57de18f": {
      "model_module": "@jupyter-widgets/base",
      "model_module_version": "2.0.0",
      "model_name": "LayoutModel",
      "state": {}
     },
     "9f91d96e257a46daa16f26efba602d90": {
      "model_module": "@jupyter-widgets/base",
      "model_module_version": "2.0.0",
      "model_name": "LayoutModel",
      "state": {}
     },
     "9fcfaa5c2e9b49c397b9427d25d9b69c": {
      "model_module": "@jupyter-widgets/controls",
      "model_module_version": "2.0.0",
      "model_name": "TextStyleModel",
      "state": {
       "description_width": "",
       "font_size": null,
       "text_color": null
      }
     },
     "9fe70f2125f340e9bbb3506e6bd6fed4": {
      "model_module": "@jupyter-widgets/controls",
      "model_module_version": "2.0.0",
      "model_name": "HBoxModel",
      "state": {
       "children": [
        "IPY_MODEL_dd7cab0e6223458dbae5715d715a406b",
        "IPY_MODEL_e188c8a64c2840abb6dcdaba00c36ba8"
       ],
       "layout": "IPY_MODEL_d64d05d5af854ea09747c71790c60745"
      }
     },
     "9febb73d12b648d6a4cede2d22e2cbb5": {
      "model_module": "@jupyter-widgets/controls",
      "model_module_version": "2.0.0",
      "model_name": "DescriptionStyleModel",
      "state": {
       "description_width": ""
      }
     },
     "a0498be7a09543aca1197c1cba4c7c8f": {
      "model_module": "@jupyter-widgets/controls",
      "model_module_version": "2.0.0",
      "model_name": "CheckboxModel",
      "state": {
       "description": "s",
       "disabled": false,
       "indent": false,
       "layout": "IPY_MODEL_abdeb785ca014452bc40684bb92ff70b",
       "style": "IPY_MODEL_e6670ecdf0de40bc88ddccb165b93568",
       "value": true
      }
     },
     "a05716bb62824d78878e1eb9524a1c60": {
      "model_module": "@jupyter-widgets/controls",
      "model_module_version": "2.0.0",
      "model_name": "HTMLModel",
      "state": {
       "layout": "IPY_MODEL_e59be54cf0f94618b50e8f3f062bd7f4",
       "style": "IPY_MODEL_edd83b88bfb34d9694f6534839993d6c"
      }
     },
     "a05c9efe36a34cb8aa227e59fc17f18e": {
      "model_module": "@jupyter-widgets/controls",
      "model_module_version": "2.0.0",
      "model_name": "IntProgressModel",
      "state": {
       "description": "ProgressiVis started",
       "layout": "IPY_MODEL_d638864caf904b0eb19f4c8f64343140",
       "max": 2,
       "style": "IPY_MODEL_c05078cb80a2429ab4a67645311596a6",
       "value": 2
      }
     },
     "a0fc291f0d894c3a994192f01d510c7b": {
      "model_module": "@jupyter-widgets/controls",
      "model_module_version": "2.0.0",
      "model_name": "TextStyleModel",
      "state": {
       "description_width": "initial",
       "font_size": null,
       "text_color": null
      }
     },
     "a153fb5bc32a4003b7ce7c00ead3b880": {
      "model_module": "@jupyter-widgets/controls",
      "model_module_version": "2.0.0",
      "model_name": "HTMLStyleModel",
      "state": {
       "description_width": "",
       "font_size": null,
       "text_color": null
      }
     },
     "a1697dbb4ab54135b2116286668aeed6": {
      "model_module": "@jupyter-widgets/controls",
      "model_module_version": "2.0.0",
      "model_name": "TextModel",
      "state": {
       "description": "Separator:",
       "disabled": true,
       "layout": "IPY_MODEL_a980c514cef648b7822ce78eb8891e94",
       "placeholder": "if many values",
       "style": "IPY_MODEL_b149b6bbf8074facb18786000dcde232"
      }
     },
     "a18b0ccb4c3347c6a990e768df01cee0": {
      "model_module": "@jupyter-widgets/controls",
      "model_module_version": "2.0.0",
      "model_name": "CheckboxStyleModel",
      "state": {
       "description_width": ""
      }
     },
     "a191eb22724040a8a31e0e02a26978d1": {
      "model_module": "@jupyter-widgets/base",
      "model_module_version": "2.0.0",
      "model_name": "LayoutModel",
      "state": {}
     },
     "a1afb1b4edaa4bd2850b504f483c9a26": {
      "model_module": "@jupyter-widgets/base",
      "model_module_version": "2.0.0",
      "model_name": "LayoutModel",
      "state": {}
     },
     "a1c08df7705246b9b7287f2188f1c5a4": {
      "model_module": "@jupyter-widgets/controls",
      "model_module_version": "2.0.0",
      "model_name": "VBoxModel",
      "state": {
       "children": [
        "IPY_MODEL_716e5f0c07e44c2cac5d312a552c7508",
        "IPY_MODEL_e5bbb31047ba4a4fa4a77ed70fbdccc6",
        "IPY_MODEL_6eb0307323ac4430886a0eac33fbe034",
        "IPY_MODEL_092f33252ef0448599f573adccc95eb5",
        "IPY_MODEL_df307037d2c44f148001211a85cfb572",
        "IPY_MODEL_74783efdfb4a40f8831de6ee00f6e7cc",
        "IPY_MODEL_db83637cb62e404dabe4c17139c6bd65",
        "IPY_MODEL_cb64ec48bde64eeba50f1dfddcaaf0ad"
       ],
       "layout": "IPY_MODEL_0df1ce8165ab4a6688d6fbde342fdbf6"
      }
     },
     "a1c573c4968f49b1a25f6cc95afdb3d1": {
      "model_module": "@jupyter-widgets/controls",
      "model_module_version": "2.0.0",
      "model_name": "CheckboxStyleModel",
      "state": {
       "description_width": ""
      }
     },
     "a1efa065d70d4a51acebaa904840c6be": {
      "model_module": "@jupyter-widgets/base",
      "model_module_version": "2.0.0",
      "model_name": "LayoutModel",
      "state": {
       "width": "60%"
      }
     },
     "a232c6d3896f428cb2fa33be4a4f23d0": {
      "model_module": "@jupyter-widgets/base",
      "model_module_version": "2.0.0",
      "model_name": "LayoutModel",
      "state": {}
     },
     "a23a3e6220ac4da0bde879064d8e1d8a": {
      "model_module": "@jupyter-widgets/controls",
      "model_module_version": "2.0.0",
      "model_name": "SliderStyleModel",
      "state": {
       "description_width": "initial"
      }
     },
     "a2575939b3944ef2878f12ff5af288b6": {
      "model_module": "@jupyter-widgets/base",
      "model_module_version": "2.0.0",
      "model_name": "LayoutModel",
      "state": {
       "width": "100%"
      }
     },
     "a25ced7fb2354a73baf453e6127e3971": {
      "model_module": "@jupyter-widgets/base",
      "model_module_version": "2.0.0",
      "model_name": "LayoutModel",
      "state": {}
     },
     "a299d66d41c84837853c4dcad037d173": {
      "model_module": "@jupyter-widgets/controls",
      "model_module_version": "2.0.0",
      "model_name": "CheckboxStyleModel",
      "state": {
       "description_width": ""
      }
     },
     "a2a8b15c43af4c45b45f13a6bab15448": {
      "model_module": "@jupyter-widgets/base",
      "model_module_version": "2.0.0",
      "model_name": "LayoutModel",
      "state": {}
     },
     "a2f13d3edbf44a3490288e5ba554c0b0": {
      "model_module": "@jupyter-widgets/controls",
      "model_module_version": "2.0.0",
      "model_name": "ButtonStyleModel",
      "state": {
       "font_family": null,
       "font_size": null,
       "font_style": null,
       "font_variant": null,
       "font_weight": null,
       "text_color": null,
       "text_decoration": null
      }
     },
     "a2f78b35f9854fc7a9815a5c25873606": {
      "model_module": "@jupyter-widgets/controls",
      "model_module_version": "2.0.0",
      "model_name": "CheckboxStyleModel",
      "state": {
       "description_width": ""
      }
     },
     "a30907aa26f64231b97e12f86b907a59": {
      "model_module": "@jupyter-widgets/controls",
      "model_module_version": "2.0.0",
      "model_name": "DescriptionStyleModel",
      "state": {
       "description_width": ""
      }
     },
     "a31552c854e245d983d90c20097aa9da": {
      "model_module": "@jupyter-widgets/controls",
      "model_module_version": "2.0.0",
      "model_name": "HTMLModel",
      "state": {
       "layout": "IPY_MODEL_207eb33aab2f47b498f543cab61747ea",
       "style": "IPY_MODEL_940cad4f16a643f48c8336422f4bba88"
      }
     },
     "a347e7b6fd1b4b13b067b23a101f2925": {
      "model_module": "@jupyter-widgets/controls",
      "model_module_version": "2.0.0",
      "model_name": "DropdownModel",
      "state": {
       "_options_labels": [
        "object",
        "str",
        "category",
        "datetime",
        "int8",
        "uint8",
        "int16",
        "uint16",
        "int32",
        "int64",
        "uint32",
        "uint64",
        "float32",
        "float64",
        "str"
       ],
       "description": "Retype:",
       "index": 0,
       "layout": "IPY_MODEL_79421b5eaa964a4f92cba43b41abaf99",
       "style": "IPY_MODEL_3aafaccada1041abb2d3ad1ada26cfd6"
      }
     },
     "a35556ffa03345a7b747c39e1a00b028": {
      "model_module": "@jupyter-widgets/controls",
      "model_module_version": "2.0.0",
      "model_name": "DropdownModel",
      "state": {
       "_options_labels": [
        "object",
        "str",
        "category",
        "datetime",
        "int8",
        "uint8",
        "int16",
        "uint16",
        "int32",
        "int64",
        "uint32",
        "uint64",
        "float32",
        "float64",
        "str"
       ],
       "description": "Retype:",
       "index": 0,
       "layout": "IPY_MODEL_e02cf1793ddd431c95340d4a1bb9fb86",
       "style": "IPY_MODEL_f9a75f123a984d30893de02a939b2e73"
      }
     },
     "a3829b02a0b44defbdac80f3be0fcb1b": {
      "model_module": "@jupyter-widgets/controls",
      "model_module_version": "2.0.0",
      "model_name": "CheckboxModel",
      "state": {
       "description": "Filtering",
       "disabled": false,
       "layout": "IPY_MODEL_70bdb1f8348d4bb9b280426361e48147",
       "style": "IPY_MODEL_26e3aeb55d4b4b079621a97ed0e4e123",
       "value": false
      }
     },
     "a38337f8cb4d4192ad5bf39823428770": {
      "model_module": "@jupyter-widgets/base",
      "model_module_version": "2.0.0",
      "model_name": "LayoutModel",
      "state": {}
     },
     "a3a215d64f3d41dfaa4b97f5fc82bf60": {
      "model_module": "@jupyter-widgets/base",
      "model_module_version": "2.0.0",
      "model_name": "LayoutModel",
      "state": {}
     },
     "a3a296c668584cc98d3bfd8fa6e13685": {
      "model_module": "@jupyter-widgets/controls",
      "model_module_version": "2.0.0",
      "model_name": "TextStyleModel",
      "state": {
       "description_width": "",
       "font_size": null,
       "text_color": null
      }
     },
     "a3ab59952b8c48768a0503ddd4481d2e": {
      "model_module": "@jupyter-widgets/controls",
      "model_module_version": "2.0.0",
      "model_name": "TextModel",
      "state": {
       "layout": "IPY_MODEL_444ca50f2b534b62b40f41467a727207",
       "placeholder": "optional alias",
       "style": "IPY_MODEL_a0fc291f0d894c3a994192f01d510c7b",
       "value": "Bar Chart"
      }
     },
     "a3c525a5b96749b5af2b8681069fcf24": {
      "model_module": "@jupyter-widgets/controls",
      "model_module_version": "2.0.0",
      "model_name": "HTMLModel",
      "state": {
       "layout": "IPY_MODEL_b5fd9b995c214dfc823fc25b7e52047f",
       "style": "IPY_MODEL_62d9df70981d47b59fbf065675257c2c"
      }
     },
     "a451e5d323ef4aba8e49282bb132d22b": {
      "model_module": "@jupyter-widgets/base",
      "model_module_version": "2.0.0",
      "model_name": "LayoutModel",
      "state": {}
     },
     "a4554c1779ca41a3b26eaee171a54d6b": {
      "model_module": "@jupyter-widgets/controls",
      "model_module_version": "2.0.0",
      "model_name": "CheckboxModel",
      "state": {
       "description": "Use",
       "disabled": false,
       "layout": "IPY_MODEL_d82825d831a64cf49bbe2f699fc10e39",
       "style": "IPY_MODEL_78df0ce9daf249d497ba7ede6a6c533f",
       "value": false
      }
     },
     "a48182c60b8e4fbcb8273ffc282b8a53": {
      "model_module": "@jupyter-widgets/base",
      "model_module_version": "2.0.0",
      "model_name": "LayoutModel",
      "state": {}
     },
     "a4d6b5b04c494a8a99aaadd5d21c2cda": {
      "model_module": "@jupyter-widgets/controls",
      "model_module_version": "2.0.0",
      "model_name": "LabelStyleModel",
      "state": {
       "description_width": "",
       "font_family": null,
       "font_size": null,
       "font_style": null,
       "font_variant": null,
       "font_weight": null,
       "text_color": null,
       "text_decoration": null
      }
     },
     "a4d95078dda749c58b2b7075746a2f44": {
      "model_module": "@jupyter-widgets/controls",
      "model_module_version": "2.0.0",
      "model_name": "CheckboxModel",
      "state": {
       "disabled": true,
       "indent": false,
       "layout": "IPY_MODEL_093194107e0e4c5884ef2d7432c005d8",
       "style": "IPY_MODEL_11ffa11983fc44948bbfbc3afe8d5a95",
       "value": false
      }
     },
     "a52e90006eba476086fbab98e7a46418": {
      "model_module": "@jupyter-widgets/base",
      "model_module_version": "2.0.0",
      "model_name": "LayoutModel",
      "state": {}
     },
     "a55a2445da104fbda9f943e53c09b35f": {
      "model_module": "@jupyter-widgets/controls",
      "model_module_version": "2.0.0",
      "model_name": "TextStyleModel",
      "state": {
       "description_width": "",
       "font_size": null,
       "text_color": null
      }
     },
     "a5611fd755ce4b56a9f0f47db0e838e7": {
      "model_module": "@jupyter-widgets/controls",
      "model_module_version": "2.0.0",
      "model_name": "FloatTextModel",
      "state": {
       "layout": "IPY_MODEL_0b42487cc9a04716873550f16ff15fc3",
       "step": null,
       "style": "IPY_MODEL_9febb73d12b648d6a4cede2d22e2cbb5"
      }
     },
     "a57f7002c3564889898345dcda2faff8": {
      "model_module": "@jupyter-widgets/controls",
      "model_module_version": "2.0.0",
      "model_name": "CheckboxModel",
      "state": {
       "disabled": true,
       "indent": false,
       "layout": "IPY_MODEL_f94f8058190b4d9aa46b53a93fa5890e",
       "style": "IPY_MODEL_fbb24510c69f4a26983454f9179001c6",
       "value": false
      }
     },
     "a5c10a542d0c432d8e0f282bd3099efc": {
      "model_module": "@jupyter-widgets/controls",
      "model_module_version": "2.0.0",
      "model_name": "DropdownModel",
      "state": {
       "_options_labels": [
        ""
       ],
       "disabled": true,
       "index": 0,
       "layout": "IPY_MODEL_5f4b308e42a949ac863e800c692a8dbd",
       "style": "IPY_MODEL_405cebdb45b54fe1aedb063d9c684790"
      }
     },
     "a5d6103551794620a78954e368f5d07a": {
      "model_module": "@jupyter-widgets/base",
      "model_module_version": "2.0.0",
      "model_name": "LayoutModel",
      "state": {
       "height": "30px",
       "width": "30px"
      }
     },
     "a612870b2eb84542987c9ab49cb9a45f": {
      "model_module": "@jupyter-widgets/base",
      "model_module_version": "2.0.0",
      "model_name": "LayoutModel",
      "state": {}
     },
     "a6180ca2ce754d5bad862a5c5a97b4b5": {
      "model_module": "@jupyter-widgets/controls",
      "model_module_version": "2.0.0",
      "model_name": "VBoxModel",
      "state": {
       "children": [
        "IPY_MODEL_2423f8352cc34e22a11dbb7e558721e1",
        "IPY_MODEL_7b9266d2641444348fff1e265af63c77",
        "IPY_MODEL_8328a0d5450e4d1389d9a3f1737524f7",
        "IPY_MODEL_e4b7cf55c0404a83af6f27690da86cdb",
        "IPY_MODEL_c783dbccc5134346b7085417c75b380e",
        "IPY_MODEL_9e4c961427294d0088969d0303e6efc4",
        "IPY_MODEL_ff028ae9b9f24440b04da14bef1c0670",
        "IPY_MODEL_79d33f43684a4159a62544ecb88b93a6"
       ],
       "layout": "IPY_MODEL_6e38e2e0f79d479d89c5ad2553cc0daa"
      }
     },
     "a6398b4de15048508f02734f9919ff05": {
      "model_module": "@jupyter-widgets/controls",
      "model_module_version": "2.0.0",
      "model_name": "ButtonStyleModel",
      "state": {
       "font_family": null,
       "font_size": null,
       "font_style": null,
       "font_variant": null,
       "font_weight": null,
       "text_color": null,
       "text_decoration": null
      }
     },
     "a65e2c9409b548ab96a69dc2f43c8eab": {
      "model_module": "@jupyter-widgets/base",
      "model_module_version": "2.0.0",
      "model_name": "LayoutModel",
      "state": {}
     },
     "a667ac99001440ed8f06c091225c47a8": {
      "model_module": "@jupyter-widgets/controls",
      "model_module_version": "2.0.0",
      "model_name": "TextStyleModel",
      "state": {
       "description_width": "",
       "font_size": null,
       "text_color": null
      }
     },
     "a67b6369b5024712919dc0939a34e7df": {
      "model_module": "@jupyter-widgets/base",
      "model_module_version": "2.0.0",
      "model_name": "LayoutModel",
      "state": {}
     },
     "a6be94e3d0904eceaffc5dc5b8056998": {
      "model_module": "@jupyter-widgets/controls",
      "model_module_version": "2.0.0",
      "model_name": "HBoxModel",
      "state": {
       "children": [
        "IPY_MODEL_5cd37c39c8814215be032e785d99bfcb",
        "IPY_MODEL_867a16a058e143dca4d8d884b846a690",
        "IPY_MODEL_da188e60e3ce433781fe0c369f4912d4",
        "IPY_MODEL_28ee7c7750064d6b927d5995a99fc20c"
       ],
       "layout": "IPY_MODEL_66066ede367e43d6bc00d3d342030a5c"
      }
     },
     "a6bf7069c14e4e8b94dab28b5b860dee": {
      "model_module": "@jupyter-widgets/base",
      "model_module_version": "2.0.0",
      "model_name": "LayoutModel",
      "state": {}
     },
     "a6e2c5a301ac4aaa93b80c6d0c7914aa": {
      "model_module": "@jupyter-widgets/base",
      "model_module_version": "2.0.0",
      "model_name": "LayoutModel",
      "state": {}
     },
     "a72967bb02bb4a59a7a38839a62bc41c": {
      "model_module": "@jupyter-widgets/controls",
      "model_module_version": "2.0.0",
      "model_name": "LabelModel",
      "state": {
       "layout": "IPY_MODEL_dc9e6ef9570b442ba6e4a4220b8add0d",
       "style": "IPY_MODEL_28f2580047ea44e08fc267780805bd13",
       "value": "PULocationID"
      }
     },
     "a73ea9cb5fad46c8a2378e0911ef69ef": {
      "model_module": "@jupyter-widgets/controls",
      "model_module_version": "2.0.0",
      "model_name": "ButtonModel",
      "state": {
       "description": "Hide sniffer",
       "disabled": true,
       "icon": "check",
       "layout": "IPY_MODEL_2ef9a0ca89bb43ccabc33b4a74efb285",
       "style": "IPY_MODEL_61fed5318b05433599636e9a7ea355bc",
       "tooltip": "Sniff ..."
      }
     },
     "a79383b0fb3b4b2c8d464ad92e87f428": {
      "model_module": "@jupyter-widgets/controls",
      "model_module_version": "2.0.0",
      "model_name": "CheckboxModel",
      "state": {
       "description": "Active",
       "disabled": false,
       "layout": "IPY_MODEL_7f31daa110b34c6e8ab2724fec0c75fb",
       "style": "IPY_MODEL_ff7243b1ffc949ae8b3303b8c33e429f",
       "value": true
      }
     },
     "a7cadd8e4e644ab08564aefbe4df2d62": {
      "model_module": "@jupyter-widgets/controls",
      "model_module_version": "2.0.0",
      "model_name": "GridBoxModel",
      "state": {
       "children": [
        "IPY_MODEL_4e123c58380347738d361135a213d560",
        "IPY_MODEL_f5ad9c27b89a42e59c7e92ea1820c88e",
        "IPY_MODEL_d7840bc29d5f4156bd2e080ec0be728a",
        "IPY_MODEL_5b40a84ad60d432a8d434e83f65da937",
        "IPY_MODEL_2c10a321fe674d77aebb43bd5deca02b",
        "IPY_MODEL_e2b4c663ff494516bb99618bb8c8f316",
        "IPY_MODEL_9ba25c96b21b4bd78800c8579cd45572",
        "IPY_MODEL_159d23435b44448a8e87cacce65275fb",
        "IPY_MODEL_2951943efe39474096115fd36b1fc410",
        "IPY_MODEL_c186faf10afe49bda225bb847b4a5c63",
        "IPY_MODEL_0cd5daf47c4f4742bf7edbe7736ece5d",
        "IPY_MODEL_42d172b71cdb47f1913195a37db00ab6",
        "IPY_MODEL_8cfb241510f74afc9e8833999668dcf7",
        "IPY_MODEL_426b942696cd45dd99d0b46f0aed6af6",
        "IPY_MODEL_a5c10a542d0c432d8e0f282bd3099efc",
        "IPY_MODEL_4d7aa60fded84306b8744dc359f3bdd9"
       ],
       "layout": "IPY_MODEL_f9cc394e12fe4917bfb83f3a6d9022b6"
      }
     },
     "a7dab51e084f4cbe829b70eac225ce24": {
      "model_module": "@jupyter-widgets/controls",
      "model_module_version": "2.0.0",
      "model_name": "CheckboxModel",
      "state": {
       "disabled": true,
       "indent": false,
       "layout": "IPY_MODEL_e35f9a8df5ee4224a243abc6f6689c6e",
       "style": "IPY_MODEL_50fabd1f52294af697948649a5858a43",
       "value": false
      }
     },
     "a7dcc0b80930458ea156777e968e029a": {
      "model_module": "@jupyter-widgets/base",
      "model_module_version": "2.0.0",
      "model_name": "LayoutModel",
      "state": {}
     },
     "a81266d58cce40d89c89453acc9ffdcb": {
      "model_module": "@jupyter-widgets/controls",
      "model_module_version": "2.0.0",
      "model_name": "ButtonModel",
      "state": {
       "description": "Apply",
       "disabled": true,
       "icon": "check",
       "layout": "IPY_MODEL_0418eefa47ba436e8a3310dd47d417b4",
       "style": "IPY_MODEL_d5b15fd814e3486eb2d32803951e2ad0",
       "tooltip": "Apply"
      }
     },
     "a823edab34a74658ab445bcdd62c68c0": {
      "model_module": "@jupyter-widgets/controls",
      "model_module_version": "2.0.0",
      "model_name": "HTMLModel",
      "state": {
       "layout": "IPY_MODEL_b25983650d854d3e88e223a0974bd5b6",
       "style": "IPY_MODEL_9f051f6d7f7843219e551851626b5cbb"
      }
     },
     "a8363588c2a9463a9fb4033e40facbff": {
      "model_module": "@jupyter-widgets/controls",
      "model_module_version": "2.0.0",
      "model_name": "FloatTextModel",
      "state": {
       "layout": "IPY_MODEL_c1e41c75cc764c8c989f30db94f168a9",
       "step": null,
       "style": "IPY_MODEL_b207c2443f5b43e6a8b16399433d019f"
      }
     },
     "a8d6f247adbe4ab9b1cfaf37b48a0ee3": {
      "model_module": "@jupyter-widgets/controls",
      "model_module_version": "2.0.0",
      "model_name": "CheckboxModel",
      "state": {
       "description": "Shuffle URLs",
       "disabled": true,
       "layout": "IPY_MODEL_5c1ec99f76f9455399601172f520aa52",
       "style": "IPY_MODEL_ff0b736782c144d6864f5a606176283c",
       "value": true
      }
     },
     "a900da50bba24fdca91ca6fe9dc025eb": {
      "model_module": "@jupyter-widgets/controls",
      "model_module_version": "2.0.0",
      "model_name": "HTMLStyleModel",
      "state": {
       "description_width": "",
       "font_size": null,
       "text_color": null
      }
     },
     "a980c514cef648b7822ce78eb8891e94": {
      "model_module": "@jupyter-widgets/base",
      "model_module_version": "2.0.0",
      "model_name": "LayoutModel",
      "state": {}
     },
     "a984dd7656d148fb9c5bf385056c52b4": {
      "model_module": "@jupyter-widgets/base",
      "model_module_version": "2.0.0",
      "model_name": "LayoutModel",
      "state": {}
     },
     "a9bbb3596e434760a93d327e3d18bdf8": {
      "model_module": "@jupyter-widgets/controls",
      "model_module_version": "2.0.0",
      "model_name": "VBoxModel",
      "state": {
       "children": [
        "IPY_MODEL_4ec406a74cf74b3f8b9319904660940c",
        "IPY_MODEL_7cc8d043117a4d9683afc1a23cb8b2f8",
        "IPY_MODEL_d98de0baff394145ab9e872889427c33"
       ],
       "layout": "IPY_MODEL_0406dd3d8a764de6a328022019c938da"
      }
     },
     "a9e6b89423a345de885cf5804e80b373": {
      "model_module": "@jupyter-widgets/base",
      "model_module_version": "2.0.0",
      "model_name": "LayoutModel",
      "state": {}
     },
     "a9f33fc1712e4aa787cabf4ef56de71f": {
      "model_module": "@jupyter-widgets/base",
      "model_module_version": "2.0.0",
      "model_name": "LayoutModel",
      "state": {}
     },
     "aa320d6872ca443a8dd1ee733daade04": {
      "model_module": "@jupyter-widgets/controls",
      "model_module_version": "2.0.0",
      "model_name": "TextModel",
      "state": {
       "description": "NA values:",
       "layout": "IPY_MODEL_15fea41cedad44289a62288fd438f88e",
       "style": "IPY_MODEL_b2efdf27939a41768e73f543ee20a8d9"
      }
     },
     "aa60e3cb622e45a3a153b85141db9b25": {
      "model_module": "@jupyter-widgets/controls",
      "model_module_version": "2.0.0",
      "model_name": "CheckboxModel",
      "state": {
       "disabled": true,
       "indent": false,
       "layout": "IPY_MODEL_48e44bd67cd24be59d5dbddcb178fd66",
       "style": "IPY_MODEL_72d4be11d93c47a39f0ec7146a2d75ed",
       "value": false
      }
     },
     "aa65ca7e478948d5bd71ff0c7cdaa203": {
      "model_module": "@jupyter-widgets/base",
      "model_module_version": "2.0.0",
      "model_name": "LayoutModel",
      "state": {}
     },
     "aa6f7a56efdc4202a62aa1f448ee5d1c": {
      "model_module": "@jupyter-widgets/base",
      "model_module_version": "2.0.0",
      "model_name": "LayoutModel",
      "state": {}
     },
     "aa844a738fb14cd093cee590a9a802a8": {
      "model_module": "@jupyter-widgets/controls",
      "model_module_version": "2.0.0",
      "model_name": "TextStyleModel",
      "state": {
       "description_width": "",
       "font_size": null,
       "text_color": null
      }
     },
     "aa9b317e0ac04048bf94fc75a7d4f543": {
      "model_module": "@jupyter-widgets/controls",
      "model_module_version": "2.0.0",
      "model_name": "LabelStyleModel",
      "state": {
       "description_width": "",
       "font_family": null,
       "font_size": null,
       "font_style": null,
       "font_variant": null,
       "font_weight": null,
       "text_color": null,
       "text_decoration": null
      }
     },
     "aaeb8bedd47942ada73de0bec73f8c58": {
      "model_module": "@jupyter-widgets/controls",
      "model_module_version": "2.0.0",
      "model_name": "VBoxModel",
      "state": {
       "_dom_classes": [
        "progressivis_guest_widget",
        "progressivis_guest_widget--Join_0"
       ],
       "children": [
        "IPY_MODEL_3f9a2e9503cd40ce98beca62ee07592c",
        "IPY_MODEL_7a7a99e375fb455fa99bd2db42b175b3",
        "IPY_MODEL_799dc6c650d446d7b7761a0f3fb7e4a3",
        "IPY_MODEL_0e6a39a9f4884baabbcd2d4183fe492b"
       ],
       "layout": "IPY_MODEL_2e9f69954e784c0e88cd3f5294af4d6d"
      }
     },
     "aaf7bebbcb904344bc44b88b1175b744": {
      "model_module": "@jupyter-widgets/base",
      "model_module_version": "2.0.0",
      "model_name": "LayoutModel",
      "state": {}
     },
     "ab1aa20a37334cb88883baafb9af0f27": {
      "model_module": "@jupyter-widgets/controls",
      "model_module_version": "2.0.0",
      "model_name": "DropdownModel",
      "state": {
       "_options_labels": [
        "int8",
        "uint8",
        "int16",
        "uint16",
        "int32",
        "int64",
        "uint32",
        "uint64",
        "float32",
        "float64",
        "str"
       ],
       "description": "Retype:",
       "index": 5,
       "layout": "IPY_MODEL_ebb00bae1a2e413dbcb4cafe9fcd71d6",
       "style": "IPY_MODEL_2bb6c0ae5e154ab0b0b132fa304ba579"
      }
     },
     "ab4d904a66e24987b9b35ddd1ae4c328": {
      "model_module": "@jupyter-widgets/base",
      "model_module_version": "2.0.0",
      "model_name": "LayoutModel",
      "state": {}
     },
     "ab5501cf523a4986b69926f864b91321": {
      "model_module": "@jupyter-widgets/controls",
      "model_module_version": "2.0.0",
      "model_name": "CheckboxStyleModel",
      "state": {
       "description_width": ""
      }
     },
     "ab6300f0d23a417487227ecb649ee7e0": {
      "model_module": "@jupyter-widgets/controls",
      "model_module_version": "2.0.0",
      "model_name": "SelectMultipleModel",
      "state": {
       "description": "❎",
       "disabled": true,
       "index": [],
       "layout": "IPY_MODEL_d3ff6d98ded74089a7584a6466c001a7",
       "rows": 5,
       "style": "IPY_MODEL_89b6d0a94ac34684b0d70cb204e3490f"
      }
     },
     "ab67134d741e45c988c13398958f9cc4": {
      "model_module": "@jupyter-widgets/controls",
      "model_module_version": "2.0.0",
      "model_name": "CheckboxStyleModel",
      "state": {
       "description_width": ""
      }
     },
     "ab91a8e941b1483abd22b775df013b3a": {
      "model_module": "@jupyter-widgets/base",
      "model_module_version": "2.0.0",
      "model_name": "LayoutModel",
      "state": {
       "max_width": "fit-content"
      }
     },
     "ab9fd352f89d45ab8bbcf7c533437655": {
      "model_module": "@jupyter-widgets/base",
      "model_module_version": "2.0.0",
      "model_name": "LayoutModel",
      "state": {}
     },
     "abdeb785ca014452bc40684bb92ff70b": {
      "model_module": "@jupyter-widgets/base",
      "model_module_version": "2.0.0",
      "model_name": "LayoutModel",
      "state": {}
     },
     "ac07b110bdfb4bca9b5d38810fd85f83": {
      "model_module": "@jupyter-widgets/base",
      "model_module_version": "2.0.0",
      "model_name": "LayoutModel",
      "state": {}
     },
     "ac0e485fd9d0433499584233520c888c": {
      "model_module": "@jupyter-widgets/base",
      "model_module_version": "2.0.0",
      "model_name": "LayoutModel",
      "state": {}
     },
     "ac630c946143493e8af7488ba4bdd269": {
      "model_module": "@jupyter-widgets/controls",
      "model_module_version": "2.0.0",
      "model_name": "LabelStyleModel",
      "state": {
       "description_width": "",
       "font_family": null,
       "font_size": null,
       "font_style": null,
       "font_variant": null,
       "font_weight": null,
       "text_color": null,
       "text_decoration": null
      }
     },
     "ac877473a7ab4d7d8c3e2ba408359aa3": {
      "model_module": "@jupyter-widgets/base",
      "model_module_version": "2.0.0",
      "model_name": "LayoutModel",
      "state": {}
     },
     "ac87814b8fc74135911125263c28fa4e": {
      "model_module": "@jupyter-widgets/base",
      "model_module_version": "2.0.0",
      "model_name": "LayoutModel",
      "state": {}
     },
     "ac95b9417bce433fb8146ce4c5ddd3be": {
      "model_module": "@jupyter-widgets/base",
      "model_module_version": "2.0.0",
      "model_name": "LayoutModel",
      "state": {}
     },
     "acaabfad20554522bffb174e8670e08c": {
      "model_module": "@jupyter-widgets/controls",
      "model_module_version": "2.0.0",
      "model_name": "TextareaModel",
      "state": {
       "disabled": true,
       "layout": "IPY_MODEL_c294fe62793b402abfe3f7bc91229219",
       "rows": 20,
       "style": "IPY_MODEL_1b802d9290304898aacbd03baef07733",
       "value": "  name: passenger_count\n  path: passenger_count\n  max_definition_level: 1\n  max_repetition_level: 0\n  physical_type: INT64\n  logical_type: None\n  converted_type (legacy): NONE\n  file_offset: 92366406\n  file_path: \n  physical_type: INT64\n  num_values: 13157677\n  path_in_schema: passenger_count\n  is_stats_set: True\n  statistics:\n      has_min_max: True\n      min: 0\n      max: 9\n      null_count: 0\n      distinct_count: None\n      num_values: 13157677\n      physical_type: INT64\n      logical_type: None\n      converted_type (legacy): NONE\n  geo_statistics:\n    None\n  compression: GZIP\n  encodings: ('PLAIN_DICTIONARY', 'PLAIN', 'RLE')\n  has_dictionary_page: True\n  dictionary_page_offset: 89550859\n  data_page_offset: 89550919\n  total_compressed_size: 2815547\n  total_uncompressed_size: 5834408"
      }
     },
     "ad1fc082244746d4b57fe6e903db8c18": {
      "model_module": "@jupyter-widgets/base",
      "model_module_version": "2.0.0",
      "model_name": "LayoutModel",
      "state": {}
     },
     "ad41c9dc1bc44c8d9dcea2f0da7a2e31": {
      "model_module": "@jupyter-widgets/base",
      "model_module_version": "2.0.0",
      "model_name": "LayoutModel",
      "state": {}
     },
     "ad45c0527bd645e988351ed266bb93e4": {
      "model_module": "@jupyter-widgets/controls",
      "model_module_version": "2.0.0",
      "model_name": "HBoxModel",
      "state": {
       "children": [
        "IPY_MODEL_53d6e492039b4282b1f2ad392b3ec7fa",
        "IPY_MODEL_08ee29c5418b40ab86a816cdd3021791"
       ],
       "layout": "IPY_MODEL_d284ef84c5224c288428895cc5decd75"
      }
     },
     "ad55605a69dd4efbacbae3eddce2b429": {
      "model_module": "@jupyter-widgets/base",
      "model_module_version": "2.0.0",
      "model_name": "LayoutModel",
      "state": {}
     },
     "ad7f022ac4e14c7884e67e5e0a88c5bb": {
      "model_module": "@jupyter-widgets/base",
      "model_module_version": "2.0.0",
      "model_name": "LayoutModel",
      "state": {}
     },
     "ad82f1f158934dde93c79a375cc796a9": {
      "model_module": "@jupyter-widgets/controls",
      "model_module_version": "2.0.0",
      "model_name": "DropdownModel",
      "state": {
       "_options_labels": [
        "object",
        "str",
        "category",
        "datetime",
        "int8",
        "uint8",
        "int16",
        "uint16",
        "int32",
        "int64",
        "uint32",
        "uint64",
        "float32",
        "float64",
        "str"
       ],
       "description": "Retype:",
       "index": 0,
       "layout": "IPY_MODEL_03d71dbd8cab4a5c84b070a84eb8b4ea",
       "style": "IPY_MODEL_ff5c91dd553442fb95b93ffe700317d9"
      }
     },
     "adc20dd774074993bc5771f1ebadfab2": {
      "model_module": "@jupyter-widgets/controls",
      "model_module_version": "2.0.0",
      "model_name": "TextStyleModel",
      "state": {
       "description_width": "",
       "font_size": null,
       "text_color": null
      }
     },
     "addfda7df4964701b289efc66b854150": {
      "model_module": "@jupyter-widgets/controls",
      "model_module_version": "2.0.0",
      "model_name": "HBoxModel",
      "state": {
       "children": [
        "IPY_MODEL_d264e618c03b47bca9d98894f0ea1355",
        "IPY_MODEL_6b8e74a188bd436096f0769dc30137b6",
        "IPY_MODEL_249e4be6e27445f3a723b293ed20fa62"
       ],
       "layout": "IPY_MODEL_d21c7cb6df3c4cc18b980eec4d804c99"
      }
     },
     "adef13bd36f1454789bac77ce35ede2b": {
      "model_module": "@jupyter-widgets/controls",
      "model_module_version": "2.0.0",
      "model_name": "VBoxModel",
      "state": {
       "children": [
        "IPY_MODEL_0534c846955b44ddb443340fc9bae2d9",
        "IPY_MODEL_4852b7c2df744364adbb65e1048a9673",
        "IPY_MODEL_1c36c3f1b87447d4a80d11fdde9c7bbd",
        "IPY_MODEL_6d00f2653c644ddf996bb003f1b92879",
        "IPY_MODEL_0658b0fdab744aafb8af87ba6f567875",
        "IPY_MODEL_cf7c1434b7274148a6f6638d1ae2e8e5",
        "IPY_MODEL_9e3bb4a26a444da5906858d2f2345b23",
        "IPY_MODEL_5b31ba6aaf08424dbe8ca90b764a8e98"
       ],
       "layout": "IPY_MODEL_d4dd06ca31d94cd0ae3c6a888709f2c0"
      }
     },
     "adf7fc6058324504a7902324760f848f": {
      "model_module": "@jupyter-widgets/controls",
      "model_module_version": "2.0.0",
      "model_name": "DescriptionStyleModel",
      "state": {
       "description_width": ""
      }
     },
     "ae438c0390034665a26294dd5f8b0c58": {
      "model_module": "@jupyter-widgets/controls",
      "model_module_version": "2.0.0",
      "model_name": "TextStyleModel",
      "state": {
       "description_width": "",
       "font_size": null,
       "text_color": null
      }
     },
     "ae472a03c2414d52859aa38654a27a13": {
      "model_module": "@jupyter-widgets/base",
      "model_module_version": "2.0.0",
      "model_name": "LayoutModel",
      "state": {}
     },
     "ae592d966a924e619ef44eaf52ff1f8a": {
      "model_module": "@jupyter-widgets/controls",
      "model_module_version": "2.0.0",
      "model_name": "CheckboxStyleModel",
      "state": {
       "description_width": ""
      }
     },
     "aeaf99bd1a20428c8bd4eaaa65cc52f1": {
      "model_module": "@jupyter-widgets/base",
      "model_module_version": "2.0.0",
      "model_name": "LayoutModel",
      "state": {}
     },
     "aeb19c3f502347d3b1bd0647585aa17e": {
      "model_module": "@jupyter-widgets/base",
      "model_module_version": "2.0.0",
      "model_name": "LayoutModel",
      "state": {}
     },
     "aeb997eb53534788a2aec6d31418ce68": {
      "model_module": "@jupyter-widgets/controls",
      "model_module_version": "2.0.0",
      "model_name": "TextStyleModel",
      "state": {
       "description_width": "",
       "font_size": null,
       "text_color": null
      }
     },
     "aebcc3664e074cd6bff8ba832beb36b0": {
      "model_module": "@jupyter-widgets/controls",
      "model_module_version": "2.0.0",
      "model_name": "HBoxModel",
      "state": {
       "children": [
        "IPY_MODEL_604d98b0e40f4b57a969db0352fc247b",
        "IPY_MODEL_0f3250f5a4594803a4f5c230043fdb7e"
       ],
       "layout": "IPY_MODEL_e26b24ca7f2e42aa9de1d138a45906cd"
      }
     },
     "aecba6f2e53e4c309b92aaeaab4a3933": {
      "model_module": "@jupyter-widgets/base",
      "model_module_version": "2.0.0",
      "model_name": "LayoutModel",
      "state": {}
     },
     "aed0a14b55754448b7962d342f34b145": {
      "model_module": "@jupyter-widgets/base",
      "model_module_version": "2.0.0",
      "model_name": "LayoutModel",
      "state": {}
     },
     "aed30105207c408f946ab63e827dd6db": {
      "model_module": "@jupyter-widgets/controls",
      "model_module_version": "2.0.0",
      "model_name": "TextStyleModel",
      "state": {
       "description_width": "",
       "font_size": null,
       "text_color": null
      }
     },
     "aef9b8ea78fe46cca9cf5a9dc227cee3": {
      "model_module": "@jupyter-widgets/base",
      "model_module_version": "2.0.0",
      "model_name": "LayoutModel",
      "state": {}
     },
     "af03b92f5ceb49ff951250575f7d19db": {
      "model_module": "@jupyter-widgets/controls",
      "model_module_version": "2.0.0",
      "model_name": "DescriptionStyleModel",
      "state": {
       "description_width": ""
      }
     },
     "af2620040c2e4017aba30f0742f61c7b": {
      "model_module": "@jupyter-widgets/controls",
      "model_module_version": "2.0.0",
      "model_name": "CheckboxModel",
      "state": {
       "disabled": true,
       "indent": false,
       "layout": "IPY_MODEL_36b632b46b34467b8499b0a55aba7da7",
       "style": "IPY_MODEL_41c9ca6692454b6ab272764ebb15e7b9",
       "value": false
      }
     },
     "af40ad6902c0469d8b8f6b69c4dbc1ef": {
      "model_module": "jupyter-progressivis",
      "model_module_version": "^0.1.0",
      "model_name": "TalkerModel",
      "state": {
       "_model_module_version": "^0.1.0",
       "_view_module_version": "^0.1.0",
       "layout": "IPY_MODEL_fa3d390d99454f2fad1841ea5d3a6a50"
      }
     },
     "afa8df02d5124aeab90b1e4b8a3dd617": {
      "model_module": "@jupyter-widgets/controls",
      "model_module_version": "2.0.0",
      "model_name": "VBoxModel",
      "state": {
       "children": [
        "IPY_MODEL_5921293e3e274a6992a8ff96c14d974a",
        "IPY_MODEL_c9c04576530244bfb666ae4f1ca58e4e",
        "IPY_MODEL_02cbd1f9e112429aa7b2691d194d4fa5"
       ],
       "layout": "IPY_MODEL_b3a9ca6c51d847c3b18f6ed14a6354de"
      }
     },
     "afd247f632384e98a1141b29f33fb6fd": {
      "model_module": "@jupyter-widgets/controls",
      "model_module_version": "2.0.0",
      "model_name": "TextStyleModel",
      "state": {
       "description_width": "",
       "font_size": null,
       "text_color": null
      }
     },
     "aff5097b22b6413b8d7e678a562ff4b9": {
      "model_module": "@jupyter-widgets/controls",
      "model_module_version": "2.0.0",
      "model_name": "ButtonStyleModel",
      "state": {
       "font_family": null,
       "font_size": null,
       "font_style": null,
       "font_variant": null,
       "font_weight": null,
       "text_color": null,
       "text_decoration": null
      }
     },
     "b021e369590d4bdfa8d2bc535dcc863a": {
      "model_module": "@jupyter-widgets/base",
      "model_module_version": "2.0.0",
      "model_name": "LayoutModel",
      "state": {}
     },
     "b02cd574e0434a879f8118720d5e24be": {
      "model_module": "@jupyter-widgets/base",
      "model_module_version": "2.0.0",
      "model_name": "LayoutModel",
      "state": {
       "width": "100%"
      }
     },
     "b05ef47334014b46a12f8ac92dde8091": {
      "model_module": "@jupyter-widgets/controls",
      "model_module_version": "2.0.0",
      "model_name": "TextModel",
      "state": {
       "description": "Unique vals:",
       "disabled": true,
       "layout": "IPY_MODEL_333b6c32c347490abad74e9054075925",
       "style": "IPY_MODEL_ae438c0390034665a26294dd5f8b0c58",
       "value": "98/99"
      }
     },
     "b06c6b4e9de54632885848a176969c39": {
      "model_module": "@jupyter-widgets/base",
      "model_module_version": "2.0.0",
      "model_name": "LayoutModel",
      "state": {}
     },
     "b084d73fd1fb4075ab677119427e723b": {
      "model_module": "@jupyter-widgets/base",
      "model_module_version": "2.0.0",
      "model_name": "LayoutModel",
      "state": {
       "width": "60%"
      }
     },
     "b0f6a284f7ae4be783ed1eefb015b0b1": {
      "model_module": "@jupyter-widgets/base",
      "model_module_version": "2.0.0",
      "model_name": "LayoutModel",
      "state": {}
     },
     "b109afb67f684e58af8e723f0d6b5e8c": {
      "model_module": "@jupyter-widgets/base",
      "model_module_version": "2.0.0",
      "model_name": "LayoutModel",
      "state": {}
     },
     "b149b6bbf8074facb18786000dcde232": {
      "model_module": "@jupyter-widgets/controls",
      "model_module_version": "2.0.0",
      "model_name": "TextStyleModel",
      "state": {
       "description_width": "",
       "font_size": null,
       "text_color": null
      }
     },
     "b1601458b9074481bf1fd818bbced1d6": {
      "model_module": "@jupyter-widgets/base",
      "model_module_version": "2.0.0",
      "model_name": "LayoutModel",
      "state": {}
     },
     "b180b894ccb44894b35cbbbc0df0f5af": {
      "model_module": "@jupyter-widgets/controls",
      "model_module_version": "2.0.0",
      "model_name": "HTMLStyleModel",
      "state": {
       "description_width": "",
       "font_size": null,
       "text_color": null
      }
     },
     "b187c49cb3b44c5ba8176de4931098d0": {
      "model_module": "@jupyter-widgets/base",
      "model_module_version": "2.0.0",
      "model_name": "LayoutModel",
      "state": {}
     },
     "b1c5cc8df467426a86995a891d9cf47c": {
      "model_module": "@jupyter-widgets/base",
      "model_module_version": "2.0.0",
      "model_name": "LayoutModel",
      "state": {}
     },
     "b1fd47366b8b48b8b4c49d6db4c5159b": {
      "model_module": "@jupyter-widgets/controls",
      "model_module_version": "2.0.0",
      "model_name": "LabelModel",
      "state": {
       "layout": "IPY_MODEL_57ce0ea3855b4799b9f91de720099013",
       "style": "IPY_MODEL_2aae8ba4dc974f30ab195088a151c250",
       "value": "stddev"
      }
     },
     "b207c2443f5b43e6a8b16399433d019f": {
      "model_module": "@jupyter-widgets/controls",
      "model_module_version": "2.0.0",
      "model_name": "DescriptionStyleModel",
      "state": {
       "description_width": ""
      }
     },
     "b2132df3727f4d32babe44afd691baf4": {
      "model_module": "@jupyter-widgets/controls",
      "model_module_version": "2.0.0",
      "model_name": "HBoxModel",
      "state": {
       "children": [
        "IPY_MODEL_0c831dabba8d434db4bc7136068cb122"
       ],
       "layout": "IPY_MODEL_e06cf3ee4db444d48494af525d4832d9"
      }
     },
     "b25983650d854d3e88e223a0974bd5b6": {
      "model_module": "@jupyter-widgets/base",
      "model_module_version": "2.0.0",
      "model_name": "LayoutModel",
      "state": {}
     },
     "b26461716b204ab59cf991e5c10ffa4f": {
      "model_module": "@jupyter-widgets/controls",
      "model_module_version": "2.0.0",
      "model_name": "TextModel",
      "state": {
       "description": "Rename:",
       "layout": "IPY_MODEL_1af03324d4bb4880939808dd909e35ab",
       "style": "IPY_MODEL_03a1ef350b08472a8a78282852d97c56",
       "value": "Zone"
      }
     },
     "b2b8ce962709448c84430a282fa3401b": {
      "model_module": "@jupyter-widgets/controls",
      "model_module_version": "2.0.0",
      "model_name": "HTMLStyleModel",
      "state": {
       "description_width": "",
       "font_size": null,
       "text_color": null
      }
     },
     "b2d94ce989154bc2892ac02948a3e845": {
      "model_module": "@jupyter-widgets/controls",
      "model_module_version": "2.0.0",
      "model_name": "ButtonModel",
      "state": {
       "description": "Save schema ...",
       "icon": "check",
       "layout": "IPY_MODEL_152aba92d660454bb029bd4395b3bf34",
       "style": "IPY_MODEL_aff5097b22b6413b8d7e678a562ff4b9",
       "tooltip": "Save schema ..."
      }
     },
     "b2efdf27939a41768e73f543ee20a8d9": {
      "model_module": "@jupyter-widgets/controls",
      "model_module_version": "2.0.0",
      "model_name": "TextStyleModel",
      "state": {
       "description_width": "",
       "font_size": null,
       "text_color": null
      }
     },
     "b2f77fce6f5d4df1ab05d2ca563ee947": {
      "model_module": "@jupyter-widgets/controls",
      "model_module_version": "2.0.0",
      "model_name": "LabelModel",
      "state": {
       "layout": "IPY_MODEL_463e3b1ddf004a62b912283ca4337d7b",
       "style": "IPY_MODEL_112e99668b48439581846e4eb6abcb20",
       "value": "passenger_count"
      }
     },
     "b30d5260c68f477bb5a70953e987efaa": {
      "model_module": "@jupyter-widgets/controls",
      "model_module_version": "2.0.0",
      "model_name": "CheckboxModel",
      "state": {
       "disabled": true,
       "indent": false,
       "layout": "IPY_MODEL_6fd356e2e1a14724aaca92b01cc35458",
       "style": "IPY_MODEL_a1c573c4968f49b1a25f6cc95afdb3d1",
       "value": false
      }
     },
     "b31a0a29ec1542109a9afcd4bd3fdd6b": {
      "model_module": "@jupyter-widgets/controls",
      "model_module_version": "2.0.0",
      "model_name": "IntProgressModel",
      "state": {
       "description": "Progress",
       "layout": "IPY_MODEL_a2575939b3944ef2878f12ff5af288b6",
       "max": 1055,
       "style": "IPY_MODEL_5d926d6a8712495cb52d84f49f6dd9b0",
       "value": 265
      }
     },
     "b325ade023fe4548abc01ecd13d4a104": {
      "model_module": "@jupyter-widgets/controls",
      "model_module_version": "2.0.0",
      "model_name": "TextStyleModel",
      "state": {
       "description_width": "",
       "font_size": null,
       "text_color": null
      }
     },
     "b32d2d14643940418c02c23e248d2f4b": {
      "model_module": "@jupyter-widgets/base",
      "model_module_version": "2.0.0",
      "model_name": "LayoutModel",
      "state": {}
     },
     "b3a9ca6c51d847c3b18f6ed14a6354de": {
      "model_module": "@jupyter-widgets/base",
      "model_module_version": "2.0.0",
      "model_name": "LayoutModel",
      "state": {}
     },
     "b3bfa2680e254b47814a822fa6a14b11": {
      "model_module": "@jupyter-widgets/controls",
      "model_module_version": "2.0.0",
      "model_name": "IntSliderModel",
      "state": {
       "behavior": "drag-tap",
       "continuous_update": false,
       "description": "Display T:",
       "layout": "IPY_MODEL_99a1614a478245e3bc13af2b42b8af18",
       "max": 10,
       "min": 1,
       "style": "IPY_MODEL_1b09ba49c8a04b958047f29a1f5a5568",
       "value": 1
      }
     },
     "b3c922fecf80407bb5d14ad29cf29b70": {
      "model_module": "@jupyter-widgets/base",
      "model_module_version": "2.0.0",
      "model_name": "LayoutModel",
      "state": {}
     },
     "b3e83fd1712e480a8983cd7aa1002f5e": {
      "model_module": "@jupyter-widgets/base",
      "model_module_version": "2.0.0",
      "model_name": "LayoutModel",
      "state": {}
     },
     "b4614fe97a9e4f76a506c1f5ba9a525f": {
      "model_module": "@jupyter-widgets/controls",
      "model_module_version": "2.0.0",
      "model_name": "HBoxModel",
      "state": {
       "children": [
        "IPY_MODEL_2ab7f5b5d10048baa8d996e8a70d4f9c",
        "IPY_MODEL_2d73bb0aa27e4da88df534b7e6c7cfdc"
       ],
       "layout": "IPY_MODEL_8dfa5b3efe504d3887ffbe4d8d9e65b8"
      }
     },
     "b4624204ba6f4593ac60cb49439e9db2": {
      "model_module": "@jupyter-widgets/controls",
      "model_module_version": "2.0.0",
      "model_name": "DescriptionStyleModel",
      "state": {
       "description_width": "initial"
      }
     },
     "b4a9e4cda66940609d0443f0c5572e63": {
      "model_module": "@jupyter-widgets/base",
      "model_module_version": "2.0.0",
      "model_name": "LayoutModel",
      "state": {}
     },
     "b4d622dbd3814973a19cb20714456c70": {
      "model_module": "@jupyter-widgets/controls",
      "model_module_version": "2.0.0",
      "model_name": "CheckboxStyleModel",
      "state": {
       "description_width": ""
      }
     },
     "b500a63b29964fe28f6b45d65bcddd2e": {
      "model_module": "@jupyter-widgets/controls",
      "model_module_version": "2.0.0",
      "model_name": "TextModel",
      "state": {
       "description": "NA values:",
       "layout": "IPY_MODEL_0a7eea6d73914ba3b17b39b3a7c8668b",
       "style": "IPY_MODEL_c79fa6adbf3f440f8afa6cf6802379b4"
      }
     },
     "b5176f0e899e4117a64bf1628dc4a9c2": {
      "model_module": "@jupyter-widgets/base",
      "model_module_version": "2.0.0",
      "model_name": "LayoutModel",
      "state": {}
     },
     "b525f4da65c6422f8ec3ffe77645bed9": {
      "model_module": "@jupyter-widgets/base",
      "model_module_version": "2.0.0",
      "model_name": "LayoutModel",
      "state": {
       "height": "500px",
       "overflow": "auto"
      }
     },
     "b533833324fd4a148eeb56cc887c307f": {
      "model_module": "@jupyter-widgets/base",
      "model_module_version": "2.0.0",
      "model_name": "LayoutModel",
      "state": {}
     },
     "b55a7930876a48919fbbbf37a27a1914": {
      "model_module": "@jupyter-widgets/base",
      "model_module_version": "2.0.0",
      "model_name": "LayoutModel",
      "state": {}
     },
     "b58b59c1c73f404e8329c65eefc79fe6": {
      "model_module": "@jupyter-widgets/base",
      "model_module_version": "2.0.0",
      "model_name": "LayoutModel",
      "state": {
       "width": "100%"
      }
     },
     "b591390896fd4a5980c7a5365b7e14f6": {
      "model_module": "@jupyter-widgets/controls",
      "model_module_version": "2.0.0",
      "model_name": "TextStyleModel",
      "state": {
       "description_width": "",
       "font_size": null,
       "text_color": null
      }
     },
     "b59d474031704639afe03fea928775e0": {
      "model_module": "@jupyter-widgets/controls",
      "model_module_version": "2.0.0",
      "model_name": "LabelStyleModel",
      "state": {
       "description_width": "",
       "font_family": null,
       "font_size": null,
       "font_style": null,
       "font_variant": null,
       "font_weight": null,
       "text_color": null,
       "text_decoration": null
      }
     },
     "b5b6f8b8d5884b6895c174c59e55b63b": {
      "model_module": "@jupyter-widgets/base",
      "model_module_version": "2.0.0",
      "model_name": "LayoutModel",
      "state": {}
     },
     "b5cb3862d3ee45d68e16289c42ea6de2": {
      "model_module": "@jupyter-widgets/base",
      "model_module_version": "2.0.0",
      "model_name": "LayoutModel",
      "state": {}
     },
     "b5e3a5e4666c4fa5ae7bffaeadca7682": {
      "model_module": "@jupyter-widgets/controls",
      "model_module_version": "2.0.0",
      "model_name": "CheckboxStyleModel",
      "state": {
       "description_width": ""
      }
     },
     "b5ebee5f7d994a04abd638f5b9312b48": {
      "model_module": "@jupyter-widgets/controls",
      "model_module_version": "2.0.0",
      "model_name": "HTMLModel",
      "state": {
       "layout": "IPY_MODEL_3ad9e4e57d254b6380802b7a6fb816b0",
       "style": "IPY_MODEL_5fb3a1d523464e0292766ad950d7efee",
       "value": "<div>\n<style scoped>\n    .dataframe tbody tr th:only-of-type {\n        vertical-align: middle;\n    }\n\n    .dataframe tbody tr th {\n        vertical-align: top;\n    }\n\n    .dataframe thead th {\n        text-align: right;\n    }\n</style>\n<table border=\"1\" class=\"dataframe\">\n  <thead>\n    <tr style=\"text-align: right;\">\n      <th></th>\n      <th>LocationID</th>\n      <th>Borough</th>\n    </tr>\n  </thead>\n  <tbody>\n    <tr>\n      <th>0</th>\n      <td>1</td>\n      <td>EWR</td>\n    </tr>\n    <tr>\n      <th>1</th>\n      <td>2</td>\n      <td>Queens</td>\n    </tr>\n    <tr>\n      <th>2</th>\n      <td>3</td>\n      <td>Bronx</td>\n    </tr>\n    <tr>\n      <th>3</th>\n      <td>4</td>\n      <td>Manhattan</td>\n    </tr>\n    <tr>\n      <th>4</th>\n      <td>5</td>\n      <td>Staten Island</td>\n    </tr>\n    <tr>\n      <th>5</th>\n      <td>6</td>\n      <td>Staten Island</td>\n    </tr>\n    <tr>\n      <th>6</th>\n      <td>7</td>\n      <td>Queens</td>\n    </tr>\n    <tr>\n      <th>7</th>\n      <td>8</td>\n      <td>Queens</td>\n    </tr>\n    <tr>\n      <th>8</th>\n      <td>9</td>\n      <td>Queens</td>\n    </tr>\n    <tr>\n      <th>9</th>\n      <td>10</td>\n      <td>Queens</td>\n    </tr>\n    <tr>\n      <th>10</th>\n      <td>11</td>\n      <td>Brooklyn</td>\n    </tr>\n    <tr>\n      <th>11</th>\n      <td>12</td>\n      <td>Manhattan</td>\n    </tr>\n    <tr>\n      <th>12</th>\n      <td>13</td>\n      <td>Manhattan</td>\n    </tr>\n    <tr>\n      <th>13</th>\n      <td>14</td>\n      <td>Brooklyn</td>\n    </tr>\n    <tr>\n      <th>14</th>\n      <td>15</td>\n      <td>Queens</td>\n    </tr>\n    <tr>\n      <th>15</th>\n      <td>16</td>\n      <td>Queens</td>\n    </tr>\n    <tr>\n      <th>16</th>\n      <td>17</td>\n      <td>Brooklyn</td>\n    </tr>\n    <tr>\n      <th>17</th>\n      <td>18</td>\n      <td>Bronx</td>\n    </tr>\n    <tr>\n      <th>18</th>\n      <td>19</td>\n      <td>Queens</td>\n    </tr>\n    <tr>\n      <th>19</th>\n      <td>20</td>\n      <td>Bronx</td>\n    </tr>\n    <tr>\n      <th>20</th>\n      <td>21</td>\n      <td>Brooklyn</td>\n    </tr>\n    <tr>\n      <th>21</th>\n      <td>22</td>\n      <td>Brooklyn</td>\n    </tr>\n    <tr>\n      <th>22</th>\n      <td>23</td>\n      <td>Staten Island</td>\n    </tr>\n    <tr>\n      <th>23</th>\n      <td>24</td>\n      <td>Manhattan</td>\n    </tr>\n    <tr>\n      <th>24</th>\n      <td>25</td>\n      <td>Brooklyn</td>\n    </tr>\n    <tr>\n      <th>25</th>\n      <td>26</td>\n      <td>Brooklyn</td>\n    </tr>\n    <tr>\n      <th>26</th>\n      <td>27</td>\n      <td>Queens</td>\n    </tr>\n    <tr>\n      <th>27</th>\n      <td>28</td>\n      <td>Queens</td>\n    </tr>\n    <tr>\n      <th>28</th>\n      <td>29</td>\n      <td>Brooklyn</td>\n    </tr>\n    <tr>\n      <th>29</th>\n      <td>30</td>\n      <td>Queens</td>\n    </tr>\n    <tr>\n      <th>30</th>\n      <td>31</td>\n      <td>Bronx</td>\n    </tr>\n    <tr>\n      <th>31</th>\n      <td>32</td>\n      <td>Bronx</td>\n    </tr>\n    <tr>\n      <th>32</th>\n      <td>33</td>\n      <td>Brooklyn</td>\n    </tr>\n    <tr>\n      <th>33</th>\n      <td>34</td>\n      <td>Brooklyn</td>\n    </tr>\n    <tr>\n      <th>34</th>\n      <td>35</td>\n      <td>Brooklyn</td>\n    </tr>\n    <tr>\n      <th>35</th>\n      <td>36</td>\n      <td>Brooklyn</td>\n    </tr>\n    <tr>\n      <th>36</th>\n      <td>37</td>\n      <td>Brooklyn</td>\n    </tr>\n    <tr>\n      <th>37</th>\n      <td>38</td>\n      <td>Queens</td>\n    </tr>\n    <tr>\n      <th>38</th>\n      <td>39</td>\n      <td>Brooklyn</td>\n    </tr>\n    <tr>\n      <th>39</th>\n      <td>40</td>\n      <td>Brooklyn</td>\n    </tr>\n    <tr>\n      <th>40</th>\n      <td>41</td>\n      <td>Manhattan</td>\n    </tr>\n    <tr>\n      <th>41</th>\n      <td>42</td>\n      <td>Manhattan</td>\n    </tr>\n    <tr>\n      <th>42</th>\n      <td>43</td>\n      <td>Manhattan</td>\n    </tr>\n    <tr>\n      <th>43</th>\n      <td>44</td>\n      <td>Staten Island</td>\n    </tr>\n    <tr>\n      <th>44</th>\n      <td>45</td>\n      <td>Manhattan</td>\n    </tr>\n    <tr>\n      <th>45</th>\n      <td>46</td>\n      <td>Bronx</td>\n    </tr>\n    <tr>\n      <th>46</th>\n      <td>47</td>\n      <td>Bronx</td>\n    </tr>\n    <tr>\n      <th>47</th>\n      <td>48</td>\n      <td>Manhattan</td>\n    </tr>\n    <tr>\n      <th>48</th>\n      <td>49</td>\n      <td>Brooklyn</td>\n    </tr>\n    <tr>\n      <th>49</th>\n      <td>50</td>\n      <td>Manhattan</td>\n    </tr>\n    <tr>\n      <th>50</th>\n      <td>51</td>\n      <td>Bronx</td>\n    </tr>\n    <tr>\n      <th>51</th>\n      <td>52</td>\n      <td>Brooklyn</td>\n    </tr>\n    <tr>\n      <th>52</th>\n      <td>53</td>\n      <td>Queens</td>\n    </tr>\n    <tr>\n      <th>53</th>\n      <td>54</td>\n      <td>Brooklyn</td>\n    </tr>\n    <tr>\n      <th>54</th>\n      <td>55</td>\n      <td>Brooklyn</td>\n    </tr>\n    <tr>\n      <th>55</th>\n      <td>56</td>\n      <td>Queens</td>\n    </tr>\n    <tr>\n      <th>56</th>\n      <td>57</td>\n      <td>Queens</td>\n    </tr>\n    <tr>\n      <th>57</th>\n      <td>58</td>\n      <td>Bronx</td>\n    </tr>\n    <tr>\n      <th>58</th>\n      <td>59</td>\n      <td>Bronx</td>\n    </tr>\n    <tr>\n      <th>59</th>\n      <td>60</td>\n      <td>Bronx</td>\n    </tr>\n    <tr>\n      <th>60</th>\n      <td>61</td>\n      <td>Brooklyn</td>\n    </tr>\n    <tr>\n      <th>61</th>\n      <td>62</td>\n      <td>Brooklyn</td>\n    </tr>\n    <tr>\n      <th>62</th>\n      <td>63</td>\n      <td>Brooklyn</td>\n    </tr>\n    <tr>\n      <th>63</th>\n      <td>64</td>\n      <td>Queens</td>\n    </tr>\n    <tr>\n      <th>64</th>\n      <td>65</td>\n      <td>Brooklyn</td>\n    </tr>\n    <tr>\n      <th>65</th>\n      <td>66</td>\n      <td>Brooklyn</td>\n    </tr>\n    <tr>\n      <th>66</th>\n      <td>67</td>\n      <td>Brooklyn</td>\n    </tr>\n    <tr>\n      <th>67</th>\n      <td>68</td>\n      <td>Manhattan</td>\n    </tr>\n    <tr>\n      <th>68</th>\n      <td>69</td>\n      <td>Bronx</td>\n    </tr>\n    <tr>\n      <th>69</th>\n      <td>70</td>\n      <td>Queens</td>\n    </tr>\n    <tr>\n      <th>70</th>\n      <td>71</td>\n      <td>Brooklyn</td>\n    </tr>\n    <tr>\n      <th>71</th>\n      <td>72</td>\n      <td>Brooklyn</td>\n    </tr>\n    <tr>\n      <th>72</th>\n      <td>73</td>\n      <td>Queens</td>\n    </tr>\n    <tr>\n      <th>73</th>\n      <td>74</td>\n      <td>Manhattan</td>\n    </tr>\n    <tr>\n      <th>74</th>\n      <td>75</td>\n      <td>Manhattan</td>\n    </tr>\n    <tr>\n      <th>75</th>\n      <td>76</td>\n      <td>Brooklyn</td>\n    </tr>\n    <tr>\n      <th>76</th>\n      <td>77</td>\n      <td>Brooklyn</td>\n    </tr>\n    <tr>\n      <th>77</th>\n      <td>78</td>\n      <td>Bronx</td>\n    </tr>\n    <tr>\n      <th>78</th>\n      <td>79</td>\n      <td>Manhattan</td>\n    </tr>\n    <tr>\n      <th>79</th>\n      <td>80</td>\n      <td>Brooklyn</td>\n    </tr>\n    <tr>\n      <th>80</th>\n      <td>81</td>\n      <td>Bronx</td>\n    </tr>\n    <tr>\n      <th>81</th>\n      <td>82</td>\n      <td>Queens</td>\n    </tr>\n    <tr>\n      <th>82</th>\n      <td>83</td>\n      <td>Queens</td>\n    </tr>\n    <tr>\n      <th>83</th>\n      <td>84</td>\n      <td>Staten Island</td>\n    </tr>\n    <tr>\n      <th>84</th>\n      <td>85</td>\n      <td>Brooklyn</td>\n    </tr>\n    <tr>\n      <th>85</th>\n      <td>86</td>\n      <td>Queens</td>\n    </tr>\n    <tr>\n      <th>86</th>\n      <td>87</td>\n      <td>Manhattan</td>\n    </tr>\n    <tr>\n      <th>87</th>\n      <td>88</td>\n      <td>Manhattan</td>\n    </tr>\n    <tr>\n      <th>88</th>\n      <td>89</td>\n      <td>Brooklyn</td>\n    </tr>\n    <tr>\n      <th>89</th>\n      <td>90</td>\n      <td>Manhattan</td>\n    </tr>\n    <tr>\n      <th>90</th>\n      <td>91</td>\n      <td>Brooklyn</td>\n    </tr>\n    <tr>\n      <th>91</th>\n      <td>92</td>\n      <td>Queens</td>\n    </tr>\n    <tr>\n      <th>92</th>\n      <td>93</td>\n      <td>Queens</td>\n    </tr>\n    <tr>\n      <th>93</th>\n      <td>94</td>\n      <td>Bronx</td>\n    </tr>\n    <tr>\n      <th>94</th>\n      <td>95</td>\n      <td>Queens</td>\n    </tr>\n    <tr>\n      <th>95</th>\n      <td>96</td>\n      <td>Queens</td>\n    </tr>\n    <tr>\n      <th>96</th>\n      <td>97</td>\n      <td>Brooklyn</td>\n    </tr>\n    <tr>\n      <th>97</th>\n      <td>98</td>\n      <td>Queens</td>\n    </tr>\n    <tr>\n      <th>98</th>\n      <td>99</td>\n      <td>Staten Island</td>\n    </tr>\n  </tbody>\n</table>\n</div>"
      }
     },
     "b5f0540587434b3789f84dcc6c449014": {
      "model_module": "@jupyter-widgets/base",
      "model_module_version": "2.0.0",
      "model_name": "LayoutModel",
      "state": {}
     },
     "b5f08562c5944d88b112864cc7394b4d": {
      "model_module": "@jupyter-widgets/controls",
      "model_module_version": "2.0.0",
      "model_name": "DescriptionStyleModel",
      "state": {
       "description_width": ""
      }
     },
     "b5fd9b995c214dfc823fc25b7e52047f": {
      "model_module": "@jupyter-widgets/base",
      "model_module_version": "2.0.0",
      "model_name": "LayoutModel",
      "state": {}
     },
     "b6bf5199999f43319148dd7b64887764": {
      "model_module": "@jupyter-widgets/controls",
      "model_module_version": "2.0.0",
      "model_name": "CheckboxModel",
      "state": {
       "description": "Active",
       "disabled": false,
       "layout": "IPY_MODEL_59c472094b274496b859e7b619cfa11d",
       "style": "IPY_MODEL_ab67134d741e45c988c13398958f9cc4",
       "value": true
      }
     },
     "b6f922071bcb48d9a8c0960868a05175": {
      "model_module": "jupyter-progressivis",
      "model_module_version": "^0.1.0",
      "model_name": "JsonHTMLModel",
      "state": {
       "_model_module_version": "^0.1.0",
       "_view_module_version": "^0.1.0",
       "layout": "IPY_MODEL_a65e2c9409b548ab96a69dc2f43c8eab"
      }
     },
     "b770b4e9254e4dacbddc58cd1b5b59b1": {
      "model_module": "@jupyter-widgets/controls",
      "model_module_version": "2.0.0",
      "model_name": "LabelModel",
      "state": {
       "layout": "IPY_MODEL_8bc56bde810f49f6a90464bdf3153394",
       "style": "IPY_MODEL_51b49eaaabde40769262c3b78b65fb4c",
       "value": "Processing"
      }
     },
     "b78479222a0848ef8329b345918b89b8": {
      "model_module": "@jupyter-widgets/base",
      "model_module_version": "2.0.0",
      "model_name": "LayoutModel",
      "state": {}
     },
     "b79b76c1b6984677b11bb6c35c19fe2c": {
      "model_module": "@jupyter-widgets/controls",
      "model_module_version": "2.0.0",
      "model_name": "VBoxModel",
      "state": {
       "children": [
        "IPY_MODEL_ee3612c018ea4d87b2b755301f6af928",
        "IPY_MODEL_e5832603132c4d628b29ed0a44d81bf4"
       ],
       "layout": "IPY_MODEL_019a9117064f4a9d8b0d385965286233"
      }
     },
     "b79ee21ff69f4914bc170e8b91d7e9b4": {
      "model_module": "@jupyter-widgets/base",
      "model_module_version": "2.0.0",
      "model_name": "LayoutModel",
      "state": {}
     },
     "b7ca60b98c7c47f2877e56ee9ec5cc6b": {
      "model_module": "@jupyter-widgets/base",
      "model_module_version": "2.0.0",
      "model_name": "LayoutModel",
      "state": {}
     },
     "b7cf06f2a9e04e8a97c78dcdd0d51045": {
      "model_module": "@jupyter-widgets/controls",
      "model_module_version": "2.0.0",
      "model_name": "HTMLStyleModel",
      "state": {
       "description_width": "",
       "font_size": null,
       "text_color": null
      }
     },
     "b7d61f1ae7164ac68ba52763dc3c05c5": {
      "model_module": "@jupyter-widgets/controls",
      "model_module_version": "2.0.0",
      "model_name": "HTMLStyleModel",
      "state": {
       "description_width": "",
       "font_size": null,
       "text_color": null
      }
     },
     "b84c43cb11cc485d9775ed863e05c22c": {
      "model_module": "@jupyter-widgets/controls",
      "model_module_version": "2.0.0",
      "model_name": "CheckboxModel",
      "state": {
       "description": "Filtering",
       "disabled": true,
       "layout": "IPY_MODEL_3ffd7e069fa6444b890d453ba4ddd333",
       "style": "IPY_MODEL_8d1670fed3304eb1b62e036f6f3b7617",
       "value": false
      }
     },
     "b85f6e400ed547e9b1aca4cf7b939704": {
      "model_module": "@jupyter-widgets/controls",
      "model_module_version": "2.0.0",
      "model_name": "SliderStyleModel",
      "state": {
       "description_width": "initial"
      }
     },
     "b861cdd2085c4dfc9fceb2491dd04af3": {
      "model_module": "@jupyter-widgets/controls",
      "model_module_version": "2.0.0",
      "model_name": "VBoxModel",
      "state": {
       "children": [
        "IPY_MODEL_34b256401a984525a8415af94d46a91c",
        "IPY_MODEL_f02e8d17b9864d51b64655a9e1e48383",
        "IPY_MODEL_9f2f4ddcc20a4e4db3c39a278d16b1e5",
        "IPY_MODEL_ab1aa20a37334cb88883baafb9af0f27",
        "IPY_MODEL_1bb5f11b61a5469a99e3f738c15b0795",
        "IPY_MODEL_327111e33f8045c78d15506f2558f3e2",
        "IPY_MODEL_20d8b78c2f3445fd9d935417faba9490",
        "IPY_MODEL_23abaeeebb8745fda2867bd2074166ac"
       ],
       "layout": "IPY_MODEL_fcd6228b13a14800aad5bad5ec0d61e8"
      }
     },
     "b875000e2e76424fb2faabf41d988afe": {
      "model_module": "@jupyter-widgets/controls",
      "model_module_version": "2.0.0",
      "model_name": "TextStyleModel",
      "state": {
       "description_width": "",
       "font_size": null,
       "text_color": null
      }
     },
     "b89b830f6d2744a2a897b7821c00744e": {
      "model_module": "@jupyter-widgets/base",
      "model_module_version": "2.0.0",
      "model_name": "LayoutModel",
      "state": {}
     },
     "b8aabc1fedf84200aad1ee177e2a4a25": {
      "model_module": "@jupyter-widgets/controls",
      "model_module_version": "2.0.0",
      "model_name": "DescriptionStyleModel",
      "state": {
       "description_width": ""
      }
     },
     "b92a21e010614a40b7d3fddb210ca399": {
      "model_module": "@jupyter-widgets/controls",
      "model_module_version": "2.0.0",
      "model_name": "CheckboxStyleModel",
      "state": {
       "description_width": ""
      }
     },
     "b93301eb59774104bd635e1852019e87": {
      "model_module": "@jupyter-widgets/controls",
      "model_module_version": "2.0.0",
      "model_name": "VBoxModel",
      "state": {
       "children": [
        "IPY_MODEL_8b60d9714394460a837e116dcf8ee713",
        "IPY_MODEL_f2decdde2e934bba9ab12750b21ff15f"
       ],
       "layout": "IPY_MODEL_77a5672671314edb84345e4f0cc88233"
      }
     },
     "b96ffaef2a96406f9f95cdcd2990b9ce": {
      "model_module": "@jupyter-widgets/base",
      "model_module_version": "2.0.0",
      "model_name": "LayoutModel",
      "state": {}
     },
     "b9d0729add99487e8f92e85e4f0dcf5e": {
      "model_module": "@jupyter-widgets/controls",
      "model_module_version": "2.0.0",
      "model_name": "VBoxModel",
      "state": {
       "children": [
        "IPY_MODEL_ff2a279dccbc4968af97c09a7fb2aae2",
        "IPY_MODEL_1b752e1f919a42d4abc5bc48b5b76b43"
       ],
       "layout": "IPY_MODEL_b533833324fd4a148eeb56cc887c307f"
      }
     },
     "b9dbf1efc61c42eeb4849cad02f41a1c": {
      "model_module": "@jupyter-widgets/controls",
      "model_module_version": "2.0.0",
      "model_name": "ButtonModel",
      "state": {
       "button_style": "danger",
       "disabled": true,
       "icon": "trash",
       "layout": "IPY_MODEL_3f7c7b4375244363b4c94145cadc61ca",
       "style": "IPY_MODEL_d68d34fa8cf240508b0b9b77b3051f2e"
      }
     },
     "b9fd4149b38641c2b88a98dc38158f79": {
      "model_module": "@jupyter-widgets/controls",
      "model_module_version": "2.0.0",
      "model_name": "DropdownModel",
      "state": {
       "_options_labels": [
        "object",
        "str",
        "category",
        "datetime",
        "int8",
        "uint8",
        "int16",
        "uint16",
        "int32",
        "int64",
        "uint32",
        "uint64",
        "float32",
        "float64",
        "str"
       ],
       "description": "Retype:",
       "disabled": true,
       "index": 0,
       "layout": "IPY_MODEL_7c1c463ac9ee4a24a7cce1ad5ed8633f",
       "style": "IPY_MODEL_b8aabc1fedf84200aad1ee177e2a4a25"
      }
     },
     "ba06cff3f08d49d5b0cf5e58a4f8b043": {
      "model_module": "@jupyter-widgets/controls",
      "model_module_version": "2.0.0",
      "model_name": "DescriptionStyleModel",
      "state": {
       "description_width": ""
      }
     },
     "bab746c6f64146e9817fd2a01d2f5e94": {
      "model_module": "@jupyter-widgets/controls",
      "model_module_version": "2.0.0",
      "model_name": "HTMLStyleModel",
      "state": {
       "description_width": "",
       "font_size": null,
       "text_color": null
      }
     },
     "bac01729d32249008b26ad9cd11fb756": {
      "model_module": "jupyter-progressivis",
      "model_module_version": "^0.1.0",
      "model_name": "ModuleGraphModel",
      "state": {
       "_model_module_version": "^0.1.0",
       "_view_module_version": "^0.1.0",
       "data": "{}",
       "layout": "IPY_MODEL_14dfc41c8e284494bd3de963b7a8dd4a"
      }
     },
     "bb0bc2d5125a43138128541d43bfc5f9": {
      "model_module": "@jupyter-widgets/controls",
      "model_module_version": "2.0.0",
      "model_name": "HTMLModel",
      "state": {
       "layout": "IPY_MODEL_48beaf24fb354254b7d8aa040736e874",
       "style": "IPY_MODEL_939ec386c46a441ebc6841de485520a4"
      }
     },
     "bb4d1632980e4077bdb65033115ab4eb": {
      "model_module": "@jupyter-widgets/base",
      "model_module_version": "2.0.0",
      "model_name": "LayoutModel",
      "state": {
       "max_width": "100px"
      }
     },
     "bb9466a89d0949c494bbad9507f7b0d8": {
      "model_module": "@jupyter-widgets/base",
      "model_module_version": "2.0.0",
      "model_name": "LayoutModel",
      "state": {}
     },
     "bba568a3ecfd4cd5b92dce59331647b5": {
      "model_module": "@jupyter-widgets/base",
      "model_module_version": "2.0.0",
      "model_name": "LayoutModel",
      "state": {
       "max_width": "100px"
      }
     },
     "bbdf8d44409240c09629f41de0e9fed2": {
      "model_module": "@jupyter-widgets/controls",
      "model_module_version": "2.0.0",
      "model_name": "TextareaModel",
      "state": {
       "layout": "IPY_MODEL_09f83b8680c84a06b4717324f9113587",
       "rows": 20,
       "style": "IPY_MODEL_364f7eb28b9343f7abdf84e93d6b07a7",
       "value": "  name: VendorID\n  path: VendorID\n  max_definition_level: 1\n  max_repetition_level: 0\n  physical_type: INT64\n  logical_type: None\n  converted_type (legacy): NONE\n  file_offset: 1545594\n  file_path: \n  physical_type: INT64\n  num_values: 13157677\n  path_in_schema: VendorID\n  is_stats_set: True\n  statistics:\n      has_min_max: True\n      min: 1\n      max: 2\n      null_count: 0\n      distinct_count: None\n      num_values: 13157677\n      physical_type: INT64\n      logical_type: None\n      converted_type (legacy): NONE\n  geo_statistics:\n    None\n  compression: GZIP\n  encodings: ('PLAIN_DICTIONARY', 'PLAIN', 'RLE')\n  has_dictionary_page: True\n  dictionary_page_offset: 4\n  data_page_offset: 44\n  total_compressed_size: 1545590\n  total_uncompressed_size: 1994984"
      }
     },
     "bbf50c81c54149e9ac3b64a429b977ea": {
      "model_module": "@jupyter-widgets/controls",
      "model_module_version": "2.0.0",
      "model_name": "SelectMultipleModel",
      "state": {
       "_options_labels": [
        "https://www.aviz.fr/nyc-taxi/yellow_tripdata_2015-01.csv.bz2",
        "https://www.aviz.fr/nyc-taxi/nyc_weather_2015.csv",
        ""
       ],
       "description": "Bookmarks",
       "disabled": true,
       "index": [],
       "layout": "IPY_MODEL_745fa4c4529444d0895028cf9e65ccf8",
       "rows": 5,
       "style": "IPY_MODEL_1a8ab13a2d3f4d038d34c7a9e1a0cee4"
      }
     },
     "bbfbc4b67c034fa497539841d3812d82": {
      "model_module": "@jupyter-widgets/base",
      "model_module_version": "2.0.0",
      "model_name": "LayoutModel",
      "state": {}
     },
     "bbfd1d5d7a36463a82211fe40a37a554": {
      "model_module": "@jupyter-widgets/base",
      "model_module_version": "2.0.0",
      "model_name": "LayoutModel",
      "state": {}
     },
     "bc1cdf0acfe54961aa8fe539ae5208f6": {
      "model_module": "@jupyter-widgets/controls",
      "model_module_version": "2.0.0",
      "model_name": "TextModel",
      "state": {
       "description": "URL to sniff(optional):",
       "disabled": true,
       "layout": "IPY_MODEL_a1efa065d70d4a51acebaa904840c6be",
       "placeholder": "",
       "style": "IPY_MODEL_8ba6958f3dff4546b4d773687dd397dd"
      }
     },
     "bc2e750bee7b4917be27990fc620ae76": {
      "model_module": "@jupyter-widgets/controls",
      "model_module_version": "2.0.0",
      "model_name": "HBoxModel",
      "state": {
       "children": [
        "IPY_MODEL_01edbcf6efa745749285f802128d3b0d",
        "IPY_MODEL_b2d94ce989154bc2892ac02948a3e845",
        "IPY_MODEL_9122f588cb274f08a4d953feb7e1ebad"
       ],
       "layout": "IPY_MODEL_6d82b7fd330b41dfb8cadd1993d4dc2b"
      }
     },
     "bce299eec56e4a14adc53d39606724cf": {
      "model_module": "@jupyter-widgets/base",
      "model_module_version": "2.0.0",
      "model_name": "LayoutModel",
      "state": {}
     },
     "bd28f5f03ccf48eda40820b9b91bf77d": {
      "model_module": "@jupyter-widgets/controls",
      "model_module_version": "2.0.0",
      "model_name": "LabelStyleModel",
      "state": {
       "description_width": "",
       "font_family": null,
       "font_size": null,
       "font_style": null,
       "font_variant": null,
       "font_weight": null,
       "text_color": null,
       "text_decoration": null
      }
     },
     "bd60b2932c6f4a0b97b96ee6bd9a525c": {
      "model_module": "@jupyter-widgets/base",
      "model_module_version": "2.0.0",
      "model_name": "LayoutModel",
      "state": {
       "width": "100%"
      }
     },
     "bd95de238b46446f967cde183ca6119b": {
      "model_module": "@jupyter-widgets/controls",
      "model_module_version": "2.0.0",
      "model_name": "DescriptionStyleModel",
      "state": {
       "description_width": ""
      }
     },
     "bd977b42ae6a4c3ca66e95f8d06ee171": {
      "model_module": "@jupyter-widgets/controls",
      "model_module_version": "2.0.0",
      "model_name": "DescriptionStyleModel",
      "state": {
       "description_width": ""
      }
     },
     "bdbb33fe71ed49ddb1546448b87304c8": {
      "model_module": "@jupyter-widgets/base",
      "model_module_version": "2.0.0",
      "model_name": "LayoutModel",
      "state": {}
     },
     "bdcc730af3da4ca08410184e347ff4be": {
      "model_module": "@jupyter-widgets/controls",
      "model_module_version": "2.0.0",
      "model_name": "TextModel",
      "state": {
       "description": "NA values:",
       "layout": "IPY_MODEL_ff3b3a905b9f4041a0928bc1b0ea4a1e",
       "style": "IPY_MODEL_0c7e655926b74fdf803a0551ea6125cd"
      }
     },
     "bdd6578e14fb4f82a3cad49dc4ce02b4": {
      "model_module": "@jupyter-widgets/controls",
      "model_module_version": "2.0.0",
      "model_name": "ProgressStyleModel",
      "state": {
       "description_width": ""
      }
     },
     "bdea5e15b10a46b9a9aae608c2dce43f": {
      "model_module": "@jupyter-widgets/controls",
      "model_module_version": "2.0.0",
      "model_name": "CheckboxStyleModel",
      "state": {
       "description_width": ""
      }
     },
     "be391b48471a4c94a90b2f317cbfeab3": {
      "model_module": "@jupyter-widgets/controls",
      "model_module_version": "2.0.0",
      "model_name": "TextModel",
      "state": {
       "description": "NA values:",
       "layout": "IPY_MODEL_ed8f7615a7a847a08291bd285a4789a3",
       "style": "IPY_MODEL_7d512260fa684479a62adafe01d9ce23"
      }
     },
     "bea36ca312c44220b483a5082573ba50": {
      "model_module": "@jupyter-widgets/base",
      "model_module_version": "2.0.0",
      "model_name": "LayoutModel",
      "state": {}
     },
     "bed9b607dff5486f810f3f1cf87e2995": {
      "model_module": "@jupyter-widgets/base",
      "model_module_version": "2.0.0",
      "model_name": "LayoutModel",
      "state": {}
     },
     "bf0129c5a6ee4e59a5065bbcaa097805": {
      "model_module": "@jupyter-widgets/base",
      "model_module_version": "2.0.0",
      "model_name": "LayoutModel",
      "state": {}
     },
     "bf1a7257eb6749bb8ef2a17b21f1f3f3": {
      "model_module": "@jupyter-widgets/controls",
      "model_module_version": "2.0.0",
      "model_name": "CheckboxModel",
      "state": {
       "description": "Record this scenario",
       "disabled": true,
       "layout": "IPY_MODEL_7d15ab7d39954f14b0185dc0cf1fd904",
       "style": "IPY_MODEL_fbfce93d76ff490d9e1d91bbf51b9c97",
       "value": true
      }
     },
     "bf2817687f114beb9330a6cf1ce0992a": {
      "model_module": "@jupyter-widgets/controls",
      "model_module_version": "2.0.0",
      "model_name": "CheckboxStyleModel",
      "state": {
       "description_width": ""
      }
     },
     "bf47f5a39cc24a459c05bc5df14cb906": {
      "model_module": "@jupyter-widgets/controls",
      "model_module_version": "2.0.0",
      "model_name": "CheckboxStyleModel",
      "state": {
       "description_width": ""
      }
     },
     "bf7fadfdb1824caba17f00da484e02c0": {
      "model_module": "@jupyter-widgets/base",
      "model_module_version": "2.0.0",
      "model_name": "LayoutModel",
      "state": {}
     },
     "c01c9621471c45288f357d30a14f3848": {
      "model_module": "@jupyter-widgets/base",
      "model_module_version": "2.0.0",
      "model_name": "LayoutModel",
      "state": {}
     },
     "c01d39c87ff04f93a9014468f591ea58": {
      "model_module": "@jupyter-widgets/controls",
      "model_module_version": "2.0.0",
      "model_name": "ButtonStyleModel",
      "state": {
       "font_family": null,
       "font_size": null,
       "font_style": null,
       "font_variant": null,
       "font_weight": null,
       "text_color": null,
       "text_decoration": null
      }
     },
     "c02e692244164822b026e554774d4122": {
      "model_module": "@jupyter-widgets/controls",
      "model_module_version": "2.0.0",
      "model_name": "TextModel",
      "state": {
       "description": "Rename:",
       "layout": "IPY_MODEL_17b48749d68743a49d9dfee5b3358951",
       "style": "IPY_MODEL_66ecf60b6bbd410a97e302801e209e9e",
       "value": "Zone"
      }
     },
     "c03436a95f494b47b4b2842ab136a705": {
      "model_module": "@jupyter-widgets/controls",
      "model_module_version": "2.0.0",
      "model_name": "HTMLModel",
      "state": {
       "layout": "IPY_MODEL_14a94caec5dd49e9893908362bc17ae1",
       "style": "IPY_MODEL_048d83ecb9fd4a40a8d5ff453261ede6"
      }
     },
     "c05078cb80a2429ab4a67645311596a6": {
      "model_module": "@jupyter-widgets/controls",
      "model_module_version": "2.0.0",
      "model_name": "ProgressStyleModel",
      "state": {
       "description_width": "initial"
      }
     },
     "c067e38e899c445682e0ef00a061429d": {
      "model_module": "@jupyter-widgets/controls",
      "model_module_version": "2.0.0",
      "model_name": "DropdownModel",
      "state": {
       "_options_labels": [
        "",
        ">",
        "<",
        ">=",
        "<=",
        "==",
        "!="
       ],
       "description": "& ",
       "index": 0,
       "layout": "IPY_MODEL_17343ae1f3844d5799c52d4f38d3438c",
       "style": "IPY_MODEL_90720907d113414bba2e556dc1387173"
      }
     },
     "c07fa7e67bec496cbad79df048962733": {
      "model_module": "@jupyter-widgets/controls",
      "model_module_version": "2.0.0",
      "model_name": "DescriptionStyleModel",
      "state": {
       "description_width": ""
      }
     },
     "c0ada84c6cf944439848aac845d939c9": {
      "model_module": "@jupyter-widgets/controls",
      "model_module_version": "2.0.0",
      "model_name": "LabelStyleModel",
      "state": {
       "description_width": "",
       "font_family": null,
       "font_size": null,
       "font_style": null,
       "font_variant": null,
       "font_weight": null,
       "text_color": null,
       "text_decoration": null
      }
     },
     "c0b6c3387d7a4e35830ef5bfe32a67d2": {
      "model_module": "@jupyter-widgets/base",
      "model_module_version": "2.0.0",
      "model_name": "LayoutModel",
      "state": {}
     },
     "c0d1e60d403e4bca9a22bb7e0ffa0f9e": {
      "model_module": "@jupyter-widgets/controls",
      "model_module_version": "2.0.0",
      "model_name": "HTMLStyleModel",
      "state": {
       "description_width": "",
       "font_size": null,
       "text_color": null
      }
     },
     "c0e9e668be584f1ca3bd5ba19b3cc8bd": {
      "model_module": "@jupyter-widgets/controls",
      "model_module_version": "2.0.0",
      "model_name": "VBoxModel",
      "state": {
       "children": [
        "IPY_MODEL_6b56a379a8e843ce824f204754a4d9a2",
        "IPY_MODEL_434322d0238b48bca94cc1cba29eb747"
       ],
       "layout": "IPY_MODEL_efeb251a250a44b080e798a15d5016e9"
      }
     },
     "c10d373b6828478fb5338df099973a84": {
      "model_module": "@jupyter-widgets/base",
      "model_module_version": "2.0.0",
      "model_name": "LayoutModel",
      "state": {
       "max_width": "fit-content"
      }
     },
     "c10d505f308f4daa90fcb4d637ea1286": {
      "model_module": "@jupyter-widgets/base",
      "model_module_version": "2.0.0",
      "model_name": "LayoutModel",
      "state": {
       "width": "max-content"
      }
     },
     "c186faf10afe49bda225bb847b4a5c63": {
      "model_module": "@jupyter-widgets/controls",
      "model_module_version": "2.0.0",
      "model_name": "CheckboxModel",
      "state": {
       "disabled": true,
       "indent": false,
       "layout": "IPY_MODEL_4a69835d34764929ba8639bb0073f21c",
       "style": "IPY_MODEL_a299d66d41c84837853c4dcad037d173",
       "value": false
      }
     },
     "c18892175b8d4d97845a54ab179546d5": {
      "model_module": "@jupyter-widgets/base",
      "model_module_version": "2.0.0",
      "model_name": "LayoutModel",
      "state": {}
     },
     "c18b20c637a4489eb9711c978998b26d": {
      "model_module": "@jupyter-widgets/controls",
      "model_module_version": "2.0.0",
      "model_name": "LabelModel",
      "state": {
       "layout": "IPY_MODEL_9cc0192dd3754336beb5b3813d5cf7c7",
       "style": "IPY_MODEL_54bac4f4bf284a9f9d6434a5bf33355f",
       "value": "Upload filters:"
      }
     },
     "c199caaa1c6e4d05b35058f5907a06fa": {
      "model_module": "@jupyter-widgets/base",
      "model_module_version": "2.0.0",
      "model_name": "LayoutModel",
      "state": {}
     },
     "c1b7a6c772ee426194f7261e954ddeee": {
      "model_module": "@jupyter-widgets/controls",
      "model_module_version": "2.0.0",
      "model_name": "DropdownModel",
      "state": {
       "_options_labels": [
        "",
        "Aggregate",
        "Any Vega",
        "Computed view",
        "Corr",
        "Descriptive_statistics",
        "Dump_table",
        "Facade",
        "Group by",
        "Heatmap",
        "Histogram1D",
        "Join",
        "KNN Density",
        "MBKMeans",
        "MCDensityMap",
        "MultiSeries",
        "Quantiles",
        "RangeQuery2D",
        "Scaler",
        "Scatterplot",
        "Snippet",
        "T-SNE 2D",
        "CSV loader",
        "PARQUET loader",
        "CUSTOM loader"
       ],
       "description": "Next stage",
       "index": 0,
       "layout": "IPY_MODEL_a1afb1b4edaa4bd2850b504f483c9a26",
       "style": "IPY_MODEL_81be4f37fb4249739d289ac672260cac"
      }
     },
     "c1d4b1d689414282884edb4731336738": {
      "model_module": "@jupyter-widgets/base",
      "model_module_version": "2.0.0",
      "model_name": "LayoutModel",
      "state": {
       "width": "60%"
      }
     },
     "c1e41c75cc764c8c989f30db94f168a9": {
      "model_module": "@jupyter-widgets/base",
      "model_module_version": "2.0.0",
      "model_name": "LayoutModel",
      "state": {
       "max_width": "100px"
      }
     },
     "c1f4e22048f840db8f3d134b2142aa14": {
      "model_module": "@jupyter-widgets/controls",
      "model_module_version": "2.0.0",
      "model_name": "IntSliderModel",
      "state": {
       "behavior": "drag-tap",
       "continuous_update": false,
       "description": "Refresh ratio:",
       "layout": "IPY_MODEL_c85dca4f39694b49b6e71721b5accc9b",
       "min": 1,
       "step": 5,
       "style": "IPY_MODEL_e6c4427db26e41b7a00daf2975f66d61",
       "value": 100
      }
     },
     "c220e07fd57d427092de0e159efc6c59": {
      "model_module": "@jupyter-widgets/base",
      "model_module_version": "2.0.0",
      "model_name": "LayoutModel",
      "state": {}
     },
     "c222735662ae433daf078c7638036f82": {
      "model_module": "@jupyter-widgets/controls",
      "model_module_version": "2.0.0",
      "model_name": "VBoxModel",
      "state": {
       "children": [
        "IPY_MODEL_813531ea38a9490bbeee92eaa46585b8",
        "IPY_MODEL_aaeb8bedd47942ada73de0bec73f8c58",
        "IPY_MODEL_b93301eb59774104bd635e1852019e87"
       ],
       "layout": "IPY_MODEL_10e11927406749a681a3e47672f5a788"
      }
     },
     "c2773c1b565d46f3acffb778029c5142": {
      "model_module": "@jupyter-widgets/controls",
      "model_module_version": "2.0.0",
      "model_name": "TextareaModel",
      "state": {
       "layout": "IPY_MODEL_a232c6d3896f428cb2fa33be4a4f23d0",
       "rows": 20,
       "style": "IPY_MODEL_aa844a738fb14cd093cee590a9a802a8",
       "value": "  name: fare_amount\n  path: fare_amount\n  max_definition_level: 1\n  max_repetition_level: 0\n  physical_type: DOUBLE\n  logical_type: None\n  converted_type (legacy): NONE\n  file_offset: 151225518\n  file_path: \n  physical_type: DOUBLE\n  num_values: 13157677\n  path_in_schema: fare_amount\n  is_stats_set: True\n  statistics:\n      has_min_max: True\n      min: -400.0\n      max: 75747.02\n      null_count: 0\n      distinct_count: None\n      num_values: 13157677\n      physical_type: DOUBLE\n      logical_type: None\n      converted_type (legacy): NONE\n  geo_statistics:\n    None\n  compression: GZIP\n  encodings: ('PLAIN_DICTIONARY', 'PLAIN', 'RLE')\n  has_dictionary_page: True\n  dictionary_page_offset: 138337895\n  data_page_offset: 138343728\n  total_compressed_size: 12887623\n  total_uncompressed_size: 17744645"
      }
     },
     "c2827feca371456485a85595361ab02d": {
      "model_module": "@jupyter-widgets/base",
      "model_module_version": "2.0.0",
      "model_name": "LayoutModel",
      "state": {}
     },
     "c294fe62793b402abfe3f7bc91229219": {
      "model_module": "@jupyter-widgets/base",
      "model_module_version": "2.0.0",
      "model_name": "LayoutModel",
      "state": {}
     },
     "c2c9954b9bb8479ab32cd03d28bd77f0": {
      "model_module": "@jupyter-widgets/controls",
      "model_module_version": "2.0.0",
      "model_name": "TextStyleModel",
      "state": {
       "description_width": "",
       "font_size": null,
       "text_color": null
      }
     },
     "c2f68319b8b641ba9655c36427889f68": {
      "model_module": "@jupyter-widgets/controls",
      "model_module_version": "2.0.0",
      "model_name": "TextModel",
      "state": {
       "description": "Type:",
       "disabled": true,
       "layout": "IPY_MODEL_a191eb22724040a8a31e0e02a26978d1",
       "style": "IPY_MODEL_9fcfaa5c2e9b49c397b9427d25d9b69c",
       "value": "object"
      }
     },
     "c36316ae7dc74a51bf9125fb7769bd44": {
      "model_module": "@jupyter-widgets/controls",
      "model_module_version": "2.0.0",
      "model_name": "CheckboxModel",
      "state": {
       "disabled": true,
       "indent": false,
       "layout": "IPY_MODEL_53bf46bd809145658621803f571ef5d1",
       "style": "IPY_MODEL_f2b92b31a4184de3ae8162e217259f5d",
       "value": false
      }
     },
     "c39b430b02614e13866d2461cc5a64d6": {
      "model_module": "@jupyter-widgets/controls",
      "model_module_version": "2.0.0",
      "model_name": "HTMLModel",
      "state": {
       "layout": "IPY_MODEL_7a7f911eba2f404eab6af030e6ca02cb",
       "style": "IPY_MODEL_a153fb5bc32a4003b7ce7c00ead3b880"
      }
     },
     "c3aea414c05f4a5dbb8df200ed2a943a": {
      "model_module": "@jupyter-widgets/controls",
      "model_module_version": "2.0.0",
      "model_name": "TabModel",
      "state": {
       "layout": "IPY_MODEL_1f83ffae496d440885e7b10b5edc778f"
      }
     },
     "c3ddfb1f276843c08cda030d8974952f": {
      "model_module": "@jupyter-widgets/controls",
      "model_module_version": "2.0.0",
      "model_name": "CheckboxModel",
      "state": {
       "description": "NA values",
       "disabled": true,
       "layout": "IPY_MODEL_2f6c82196e32447ba4a1dfa651d8bb30",
       "style": "IPY_MODEL_49bbda495a084dad93cfaa3467e81706",
       "value": false
      }
     },
     "c40b3fd867f448808397c3b3e2ccde85": {
      "model_module": "@jupyter-widgets/base",
      "model_module_version": "2.0.0",
      "model_name": "LayoutModel",
      "state": {}
     },
     "c42fb1059d844afc99e858e985f0c033": {
      "model_module": "@jupyter-widgets/controls",
      "model_module_version": "2.0.0",
      "model_name": "DescriptionStyleModel",
      "state": {
       "description_width": ""
      }
     },
     "c449bc71ec3c4d9ead0d22cd14e194f3": {
      "model_module": "@jupyter-widgets/controls",
      "model_module_version": "2.0.0",
      "model_name": "LabelModel",
      "state": {
       "layout": "IPY_MODEL_752df3be1c754b56b6ec4ad5b2e499bc",
       "style": "IPY_MODEL_ecfbbb6e172140f7b3c03dd0113420ba",
       "value": "tpep_pickup_datetime"
      }
     },
     "c44f4ce763464c52b665657dc501366f": {
      "model_module": "@jupyter-widgets/controls",
      "model_module_version": "2.0.0",
      "model_name": "HBoxModel",
      "state": {
       "children": [
        "IPY_MODEL_b9dbf1efc61c42eeb4849cad02f41a1c"
       ],
       "layout": "IPY_MODEL_1c34ddf6962c4124b96e89e3e3a39206"
      }
     },
     "c44f78fb290a487392768867e53d364d": {
      "model_module": "@jupyter-widgets/base",
      "model_module_version": "2.0.0",
      "model_name": "LayoutModel",
      "state": {}
     },
     "c46609ff5e6f4e19b750948b439ceb96": {
      "model_module": "@jupyter-widgets/controls",
      "model_module_version": "2.0.0",
      "model_name": "LabelModel",
      "state": {
       "layout": "IPY_MODEL_19e79cb1f42b42849831fb87a3658837",
       "style": "IPY_MODEL_da258325e8d54a62a0a4aac545907abd",
       "value": "hide"
      }
     },
     "c481a307ea034ed488d09e14b08df817": {
      "model_module": "@jupyter-widgets/base",
      "model_module_version": "2.0.0",
      "model_name": "LayoutModel",
      "state": {}
     },
     "c49d74b692544bbbbb2b70a8ec5e5103": {
      "model_module": "@jupyter-widgets/controls",
      "model_module_version": "2.0.0",
      "model_name": "TextModel",
      "state": {
       "layout": "IPY_MODEL_14cf26f2c6ce48c8830d552bae696f60",
       "placeholder": "optional alias",
       "style": "IPY_MODEL_cd8b718b3c1b4748b5223185903f6982"
      }
     },
     "c4e8b8f66d3744a1ba428999ca8eb479": {
      "model_module": "@jupyter-widgets/base",
      "model_module_version": "2.0.0",
      "model_name": "LayoutModel",
      "state": {}
     },
     "c53b6320872d49cfaacef086fcf193f6": {
      "model_module": "@jupyter-widgets/base",
      "model_module_version": "2.0.0",
      "model_name": "LayoutModel",
      "state": {
       "max_width": "fit-content"
      }
     },
     "c551d05099d14b7d8799ba43c388168a": {
      "model_module": "@jupyter-widgets/controls",
      "model_module_version": "2.0.0",
      "model_name": "VBoxModel",
      "state": {
       "_dom_classes": [
        "progressivis_guest_widget",
        "progressivis_guest_widget--Any_Vega_0"
       ],
       "children": [
        "IPY_MODEL_bb0bc2d5125a43138128541d43bfc5f9"
       ],
       "layout": "IPY_MODEL_324451ecb1384e07a79995c30eff6201"
      }
     },
     "c5596e0bdf5d4adcb744d91bfddbeb40": {
      "model_module": "@jupyter-widgets/controls",
      "model_module_version": "2.0.0",
      "model_name": "CheckboxModel",
      "state": {
       "description": "Use",
       "disabled": false,
       "layout": "IPY_MODEL_1137129d3a3f4ce5aa78fe348416274e",
       "style": "IPY_MODEL_ecfe64d45ec44913babed590945c4b6e",
       "value": true
      }
     },
     "c5b45f657ae64ecdb6c8d1a23b4923cb": {
      "model_module": "@jupyter-widgets/controls",
      "model_module_version": "2.0.0",
      "model_name": "DescriptionStyleModel",
      "state": {
       "description_width": ""
      }
     },
     "c5b4c9adbd0144c1ad17f54fe0889ee0": {
      "model_module": "@jupyter-widgets/base",
      "model_module_version": "2.0.0",
      "model_name": "LayoutModel",
      "state": {}
     },
     "c5b9b23fb7d6446aaa59758fdc931ca2": {
      "model_module": "@jupyter-widgets/controls",
      "model_module_version": "2.0.0",
      "model_name": "DropdownModel",
      "state": {
       "_options_labels": [
        "Taxis",
        "Zones"
       ],
       "disabled": true,
       "index": 0,
       "layout": "IPY_MODEL_2d5261644d244e8e95c9c6c66b7f837e",
       "style": "IPY_MODEL_957ac327d27d4e4abd43f102a86af3d3"
      }
     },
     "c60efb1c2be24d26b826c10da72789e9": {
      "model_module": "@jupyter-widgets/base",
      "model_module_version": "2.0.0",
      "model_name": "LayoutModel",
      "state": {}
     },
     "c63619f511fe473fbe40677fae27798c": {
      "model_module": "@jupyter-widgets/controls",
      "model_module_version": "2.0.0",
      "model_name": "HTMLStyleModel",
      "state": {
       "description_width": "",
       "font_size": null,
       "text_color": null
      }
     },
     "c6751aa4ea984e81a7d35940ca0dc815": {
      "model_module": "@jupyter-widgets/base",
      "model_module_version": "2.0.0",
      "model_name": "LayoutModel",
      "state": {}
     },
     "c68c6ad7c9da4710a5476937a0fa3d70": {
      "model_module": "@jupyter-widgets/base",
      "model_module_version": "2.0.0",
      "model_name": "LayoutModel",
      "state": {}
     },
     "c6aa3de87eda45e3804e7c6e48b4adf5": {
      "model_module": "@jupyter-widgets/controls",
      "model_module_version": "2.0.0",
      "model_name": "TextModel",
      "state": {
       "description": "Rename:",
       "disabled": true,
       "layout": "IPY_MODEL_b5cb3862d3ee45d68e16289c42ea6de2",
       "style": "IPY_MODEL_dbd52128e7bf45f4b336c5af187007b0",
       "value": "service_zone"
      }
     },
     "c6dfd5a07f904e34bd5f8b50b9fae0d1": {
      "model_module": "@jupyter-widgets/controls",
      "model_module_version": "2.0.0",
      "model_name": "HBoxModel",
      "state": {
       "children": [
        "IPY_MODEL_392b9f9df64048dc9359b21bb3210056"
       ],
       "layout": "IPY_MODEL_dd187d8f991141fcb5cea63ab5eb5725"
      }
     },
     "c750645572194543bce1bdd9efaddde3": {
      "model_module": "@jupyter-widgets/controls",
      "model_module_version": "2.0.0",
      "model_name": "HBoxModel",
      "state": {
       "children": [
        "IPY_MODEL_27ab03ba1ba040038b4cdfa601ca9b53",
        "IPY_MODEL_d88cb70fd12249ec830d913d473a24d8"
       ],
       "layout": "IPY_MODEL_d730a486acc34edab37a71f46001b1c9"
      }
     },
     "c7591810a0db450392dce86dd5114c87": {
      "model_module": "@jupyter-widgets/controls",
      "model_module_version": "2.0.0",
      "model_name": "CheckboxStyleModel",
      "state": {
       "description_width": ""
      }
     },
     "c76836029ae24fe280995310deb2ee7c": {
      "model_module": "@jupyter-widgets/controls",
      "model_module_version": "2.0.0",
      "model_name": "TextareaModel",
      "state": {
       "layout": "IPY_MODEL_d8f63c9e42774a4e9994a007dd95d042",
       "rows": 20,
       "style": "IPY_MODEL_669be2190098485295c112d2cb5b0a7c",
       "value": "  name: payment_type\n  path: payment_type\n  max_definition_level: 1\n  max_repetition_level: 0\n  physical_type: INT64\n  logical_type: None\n  converted_type (legacy): NONE\n  file_offset: 138337775\n  file_path: \n  physical_type: INT64\n  num_values: 13157677\n  path_in_schema: payment_type\n  is_stats_set: True\n  statistics:\n      has_min_max: True\n      min: 1\n      max: 5\n      null_count: 0\n      distinct_count: None\n      num_values: 13157677\n      physical_type: INT64\n      logical_type: None\n      converted_type (legacy): NONE\n  geo_statistics:\n    None\n  compression: GZIP\n  encodings: ('PLAIN_DICTIONARY', 'PLAIN', 'RLE')\n  has_dictionary_page: True\n  dictionary_page_offset: 136066707\n  data_page_offset: 136066755\n  total_compressed_size: 2271068\n  total_uncompressed_size: 4914137"
      }
     },
     "c76ac592a08c4f85bf4774f68eb82a38": {
      "model_module": "@jupyter-widgets/controls",
      "model_module_version": "2.0.0",
      "model_name": "CheckboxStyleModel",
      "state": {
       "description_width": ""
      }
     },
     "c783dbccc5134346b7085417c75b380e": {
      "model_module": "@jupyter-widgets/controls",
      "model_module_version": "2.0.0",
      "model_name": "CheckboxModel",
      "state": {
       "description": "Use",
       "disabled": false,
       "layout": "IPY_MODEL_b96ffaef2a96406f9f95cdcd2990b9ce",
       "style": "IPY_MODEL_5f033b660431422ba452cf099e9ccf73",
       "value": true
      }
     },
     "c787f72c8fa24d6ebd7772194e5acf2a": {
      "model_module": "@jupyter-widgets/controls",
      "model_module_version": "2.0.0",
      "model_name": "HTMLStyleModel",
      "state": {
       "description_width": "",
       "font_size": null,
       "text_color": null
      }
     },
     "c79fa6adbf3f440f8afa6cf6802379b4": {
      "model_module": "@jupyter-widgets/controls",
      "model_module_version": "2.0.0",
      "model_name": "TextStyleModel",
      "state": {
       "description_width": "",
       "font_size": null,
       "text_color": null
      }
     },
     "c7aef29a23d54d05b552b7ef520cd7aa": {
      "model_module": "@jupyter-widgets/controls",
      "model_module_version": "2.0.0",
      "model_name": "HTMLModel",
      "state": {
       "layout": "IPY_MODEL_2faf4ea4015d41b785ba7de57b0b19b7",
       "style": "IPY_MODEL_c787f72c8fa24d6ebd7772194e5acf2a"
      }
     },
     "c7b4f5dcc07d4f679925c63c5faf51a0": {
      "model_module": "@jupyter-widgets/controls",
      "model_module_version": "2.0.0",
      "model_name": "FloatTextModel",
      "state": {
       "layout": "IPY_MODEL_3dd4e903581a4a549273c5fcbc5f9b51",
       "step": null,
       "style": "IPY_MODEL_1ff3fcb3439c46de8b56eb6f0b3a8bf1"
      }
     },
     "c7cf76a86eac4a38b65a81fd2d93a038": {
      "model_module": "@jupyter-widgets/controls",
      "model_module_version": "2.0.0",
      "model_name": "HTMLModel",
      "state": {
       "layout": "IPY_MODEL_b3e83fd1712e480a8983cd7aa1002f5e",
       "style": "IPY_MODEL_8315fd541a3d43b68e84e33ca2ad2086"
      }
     },
     "c80d4ce275e24d71a9d73d88db38d092": {
      "model_module": "@jupyter-widgets/controls",
      "model_module_version": "2.0.0",
      "model_name": "HTMLModel",
      "state": {
       "layout": "IPY_MODEL_1bcd2a4a74e245e7b1dfae77c828ba0e",
       "style": "IPY_MODEL_00617b6169c54462a770555af5609de9"
      }
     },
     "c812cda2ed7d4f6eb7be5c9f33c58c51": {
      "model_module": "@jupyter-widgets/controls",
      "model_module_version": "2.0.0",
      "model_name": "TextModel",
      "state": {
       "description": "Rename:",
       "disabled": true,
       "layout": "IPY_MODEL_7fbf76720435483686375a22e747f317",
       "style": "IPY_MODEL_17cd7ed081324ed7b5afb79ce6e51964",
       "value": "Zone"
      }
     },
     "c842849b658747a3b13998bc46c1c82a": {
      "model_module": "@jupyter-widgets/base",
      "model_module_version": "2.0.0",
      "model_name": "LayoutModel",
      "state": {}
     },
     "c84947381233455fb05ea4136e3a57a0": {
      "model_module": "@jupyter-widgets/controls",
      "model_module_version": "2.0.0",
      "model_name": "DescriptionStyleModel",
      "state": {
       "description_width": ""
      }
     },
     "c85dca4f39694b49b6e71721b5accc9b": {
      "model_module": "@jupyter-widgets/base",
      "model_module_version": "2.0.0",
      "model_name": "LayoutModel",
      "state": {}
     },
     "c8733083053d4f49901e2d120b5cd653": {
      "model_module": "@jupyter-widgets/controls",
      "model_module_version": "2.0.0",
      "model_name": "VBoxModel",
      "state": {
       "_dom_classes": [
        "progressivis_guest_widget",
        "progressivis_guest_widget--Zones_0"
       ],
       "children": [
        "IPY_MODEL_8ed2c493d0594906a5fb7ef6b4e0f434",
        "IPY_MODEL_bbf50c81c54149e9ac3b64a429b977ea",
        "IPY_MODEL_8bf4dac90a4d48e782cfa00cb95cee3e",
        "IPY_MODEL_bc1cdf0acfe54961aa8fe539ae5208f6",
        "IPY_MODEL_3dcb0a90acbb43fa8db4c76457e47764",
        "IPY_MODEL_8621786bc3f84820a6d18f565a95b1db",
        "IPY_MODEL_8c561bb36cca48c2aace3f2c3178fac0",
        "IPY_MODEL_afa8df02d5124aeab90b1e4b8a3dd617",
        "IPY_MODEL_ec1a0b0230f14bc98c120579dbffd608",
        "IPY_MODEL_40dfdb0032084254b23635bfe8046149",
        "IPY_MODEL_06c3d0b1378d4417967afa627259df02",
        "IPY_MODEL_dcdce8cc6be74290b242ef423270909e"
       ],
       "layout": "IPY_MODEL_78ff5e13aed64a7594de98f1e8d87399"
      }
     },
     "c8e26128e2774cf68cb3f65e3aea8bc0": {
      "model_module": "@jupyter-widgets/controls",
      "model_module_version": "2.0.0",
      "model_name": "CheckboxStyleModel",
      "state": {
       "description_width": ""
      }
     },
     "c8fd0bd45ec54ef78fcee12a93176093": {
      "model_module": "@jupyter-widgets/controls",
      "model_module_version": "2.0.0",
      "model_name": "CheckboxModel",
      "state": {
       "description": "Y",
       "disabled": false,
       "indent": false,
       "layout": "IPY_MODEL_22e21432eeee462da6f2e4af700dd489",
       "style": "IPY_MODEL_272ee191748b4e41b7bb76cb3f2dd3fa",
       "value": true
      }
     },
     "c9011604ffac4807a95fb332d4317f44": {
      "model_module": "@jupyter-widgets/base",
      "model_module_version": "2.0.0",
      "model_name": "LayoutModel",
      "state": {}
     },
     "c946d3f9c7e241c7b01c9103d2deb4ef": {
      "model_module": "@jupyter-widgets/controls",
      "model_module_version": "2.0.0",
      "model_name": "VBoxModel",
      "state": {
       "children": [
        "IPY_MODEL_10297a0c056547d4a14288bec23645f2",
        "IPY_MODEL_50440f729f9c4f239250b5dfecea1272"
       ],
       "layout": "IPY_MODEL_411e598f9ae342d59b564fc12c1911f2"
      }
     },
     "c9604829efec415ea22132f1c97ed288": {
      "model_module": "@jupyter-widgets/controls",
      "model_module_version": "2.0.0",
      "model_name": "HTMLStyleModel",
      "state": {
       "description_width": "",
       "font_size": null,
       "text_color": null
      }
     },
     "c9670c923f6e421e92df87a6fd2029f1": {
      "model_module": "@jupyter-widgets/controls",
      "model_module_version": "2.0.0",
      "model_name": "ButtonModel",
      "state": {
       "description": "Chain it",
       "disabled": true,
       "icon": "check",
       "layout": "IPY_MODEL_59a24f66adc74555a2270a56e49088f7",
       "style": "IPY_MODEL_6ab0afbe799d4c419da4def647cfc0c3",
       "tooltip": "Chain it"
      }
     },
     "c97adf99cd8b4e18b6d3014bb3a63e6e": {
      "model_module": "@jupyter-widgets/controls",
      "model_module_version": "2.0.0",
      "model_name": "CheckboxStyleModel",
      "state": {
       "description_width": ""
      }
     },
     "c986664a6b174889963386a7b03f6ea2": {
      "model_module": "@jupyter-widgets/controls",
      "model_module_version": "2.0.0",
      "model_name": "CheckboxStyleModel",
      "state": {
       "description_width": ""
      }
     },
     "c98fcf9b46dc4004ab95e7fe592ec476": {
      "model_module": "@jupyter-widgets/controls",
      "model_module_version": "2.0.0",
      "model_name": "TextStyleModel",
      "state": {
       "description_width": "",
       "font_size": null,
       "text_color": null
      }
     },
     "c9c04576530244bfb666ae4f1ca58e4e": {
      "model_module": "@jupyter-widgets/controls",
      "model_module_version": "2.0.0",
      "model_name": "HBoxModel",
      "state": {
       "children": [
        "IPY_MODEL_4445171ac563476eb5bf97bd04cb46fc",
        "IPY_MODEL_984ff83754f245f8a4b79d8901db387b",
        "IPY_MODEL_d894c4e346d849c4aed577dc1b82421b"
       ],
       "layout": "IPY_MODEL_b5f0540587434b3789f84dcc6c449014"
      }
     },
     "c9c3d96a25ad4aa2b7dbff2e907cd0c4": {
      "model_module": "@jupyter-widgets/controls",
      "model_module_version": "2.0.0",
      "model_name": "LabelModel",
      "state": {
       "layout": "IPY_MODEL_bf0129c5a6ee4e59a5065bbcaa097805",
       "style": "IPY_MODEL_8d6a8feef7894c908997bd2242cbfd57",
       "value": "passenger_count:int64"
      }
     },
     "c9e451ae08f946beb5da1d8485395e39": {
      "model_module": "@jupyter-widgets/controls",
      "model_module_version": "2.0.0",
      "model_name": "LabelStyleModel",
      "state": {
       "description_width": "",
       "font_family": null,
       "font_size": null,
       "font_style": null,
       "font_variant": null,
       "font_weight": null,
       "text_color": null,
       "text_decoration": null
      }
     },
     "ca054510bf064493afd198d1effbdf46": {
      "model_module": "@jupyter-widgets/controls",
      "model_module_version": "2.0.0",
      "model_name": "TextModel",
      "state": {
       "description": "Unique vals:",
       "disabled": true,
       "layout": "IPY_MODEL_72d4f763df5c4771926032cc3d4ce460",
       "style": "IPY_MODEL_62bfc343646040189d2ec69fee64de9d",
       "value": "3/99"
      }
     },
     "ca06b26b28d44c11a278bcf10396ac89": {
      "model_module": "@jupyter-widgets/base",
      "model_module_version": "2.0.0",
      "model_name": "LayoutModel",
      "state": {}
     },
     "ca4485a1be704c12b8ab76ac92a1030e": {
      "model_module": "@jupyter-widgets/base",
      "model_module_version": "2.0.0",
      "model_name": "LayoutModel",
      "state": {
       "width": "60%"
      }
     },
     "ca4ab6c90d764a30ab6f3197f75ae1af": {
      "model_module": "@jupyter-widgets/controls",
      "model_module_version": "2.0.0",
      "model_name": "HBoxModel",
      "state": {
       "children": [
        "IPY_MODEL_46ae42f8ac724ab19d64b30de32b8445",
        "IPY_MODEL_a79383b0fb3b4b2c8d464ad92e87f428"
       ],
       "layout": "IPY_MODEL_aeaf99bd1a20428c8bd4eaaa65cc52f1"
      }
     },
     "ca8499660e684d7e98f6c2b16b84f85e": {
      "model_module": "@jupyter-widgets/controls",
      "model_module_version": "2.0.0",
      "model_name": "CheckboxModel",
      "state": {
       "disabled": true,
       "indent": false,
       "layout": "IPY_MODEL_0060ab5fa43043238f3c38ddc75b3067",
       "style": "IPY_MODEL_83cb0ca3805345e1a1a7e6a8fd131a87",
       "value": true
      }
     },
     "ca89631cae30470ca77d29271972e590": {
      "model_module": "@jupyter-widgets/controls",
      "model_module_version": "2.0.0",
      "model_name": "LabelStyleModel",
      "state": {
       "description_width": "",
       "font_family": null,
       "font_size": null,
       "font_style": null,
       "font_variant": null,
       "font_weight": null,
       "text_color": null,
       "text_decoration": null
      }
     },
     "caae1ddc16544b6aaff92bd58888f427": {
      "model_module": "@jupyter-widgets/controls",
      "model_module_version": "2.0.0",
      "model_name": "CheckboxStyleModel",
      "state": {
       "description_width": ""
      }
     },
     "cadac0e326dc47128a1a45347045adea": {
      "model_module": "@jupyter-widgets/controls",
      "model_module_version": "2.0.0",
      "model_name": "TextModel",
      "state": {
       "description": "Rename:",
       "layout": "IPY_MODEL_d888dfc622654928a7c44bda16daf580",
       "style": "IPY_MODEL_f5b6fe0bdbf4464f92e944e309ff23f0",
       "value": "service_zone"
      }
     },
     "cae128eebca4480f9e7f0798d48da0fa": {
      "model_module": "@jupyter-widgets/base",
      "model_module_version": "2.0.0",
      "model_name": "LayoutModel",
      "state": {}
     },
     "caef7b4302dd40a9b3888137fe612d67": {
      "model_module": "@jupyter-widgets/base",
      "model_module_version": "2.0.0",
      "model_name": "LayoutModel",
      "state": {}
     },
     "cb3699f9f64d4c1daaf5be8c1d93271c": {
      "model_module": "@jupyter-widgets/controls",
      "model_module_version": "2.0.0",
      "model_name": "TextStyleModel",
      "state": {
       "description_width": "",
       "font_size": null,
       "text_color": null
      }
     },
     "cb64ec48bde64eeba50f1dfddcaaf0ad": {
      "model_module": "@jupyter-widgets/controls",
      "model_module_version": "2.0.0",
      "model_name": "CheckboxModel",
      "state": {
       "description": "Filtering",
       "disabled": true,
       "layout": "IPY_MODEL_070181121ec349a98d1076366d4411ef",
       "style": "IPY_MODEL_93686b2e479b4b44a25e1b303e41b7b5",
       "value": false
      }
     },
     "cbd1ad1d0ebf42b98a341290b3ee2f78": {
      "model_module": "@jupyter-widgets/controls",
      "model_module_version": "2.0.0",
      "model_name": "HTMLStyleModel",
      "state": {
       "description_width": "",
       "font_size": null,
       "text_color": null
      }
     },
     "cc6463318ee84418bd670036739a7212": {
      "model_module": "@jupyter-widgets/controls",
      "model_module_version": "2.0.0",
      "model_name": "HTMLModel",
      "state": {
       "layout": "IPY_MODEL_5e3a89a815d74d708f7de755657261ba",
       "style": "IPY_MODEL_66072d0dde1b464bbddffc0a45671ba3"
      }
     },
     "ccd9d8d447e64e1a9d1e05c989092a57": {
      "model_module": "@jupyter-widgets/controls",
      "model_module_version": "2.0.0",
      "model_name": "TextareaModel",
      "state": {
       "layout": "IPY_MODEL_08b87b98e21a4ea98a56823b04ef5d4e",
       "rows": 20,
       "style": "IPY_MODEL_c2c9954b9bb8479ab32cd03d28bd77f0",
       "value": "  name: tolls_amount\n  path: tolls_amount\n  max_definition_level: 1\n  max_repetition_level: 0\n  physical_type: DOUBLE\n  logical_type: None\n  converted_type (legacy): NONE\n  file_offset: 164705844\n  file_path: \n  physical_type: DOUBLE\n  num_values: 13157677\n  path_in_schema: tolls_amount\n  is_stats_set: True\n  statistics:\n      has_min_max: True\n      min: -94.0\n      max: 975.0\n      null_count: 0\n      distinct_count: None\n      num_values: 13157677\n      physical_type: DOUBLE\n      logical_type: None\n      converted_type (legacy): NONE\n  geo_statistics:\n    None\n  compression: GZIP\n  encodings: ('PLAIN_DICTIONARY', 'PLAIN', 'RLE')\n  has_dictionary_page: True\n  dictionary_page_offset: 163478571\n  data_page_offset: 163481944\n  total_compressed_size: 1227273\n  total_uncompressed_size: 6558066"
      }
     },
     "ccdc0feaa4b04deaa3bed2b9a0e00fe7": {
      "model_module": "@jupyter-widgets/controls",
      "model_module_version": "2.0.0",
      "model_name": "LabelStyleModel",
      "state": {
       "description_width": "",
       "font_family": null,
       "font_size": null,
       "font_style": null,
       "font_variant": null,
       "font_weight": null,
       "text_color": null,
       "text_decoration": null
      }
     },
     "cd58973d95f04e308407ee2b38cb536f": {
      "model_module": "@jupyter-widgets/base",
      "model_module_version": "2.0.0",
      "model_name": "LayoutModel",
      "state": {}
     },
     "cd8b718b3c1b4748b5223185903f6982": {
      "model_module": "@jupyter-widgets/controls",
      "model_module_version": "2.0.0",
      "model_name": "TextStyleModel",
      "state": {
       "description_width": "initial",
       "font_size": null,
       "text_color": null
      }
     },
     "cdb30e21834e48e987622bc17a547688": {
      "model_module": "@jupyter-widgets/controls",
      "model_module_version": "2.0.0",
      "model_name": "HTMLStyleModel",
      "state": {
       "description_width": "",
       "font_size": null,
       "text_color": null
      }
     },
     "cdd5e70afaad4919ba34c473a7d06665": {
      "model_module": "@jupyter-widgets/controls",
      "model_module_version": "2.0.0",
      "model_name": "DropdownModel",
      "state": {
       "_options_labels": [
        "",
        ">",
        "<",
        ">=",
        "<=",
        "==",
        "!="
       ],
       "description": "& ",
       "index": 0,
       "layout": "IPY_MODEL_d64d05d5af854ea09747c71790c60745",
       "style": "IPY_MODEL_6b5fc75b02694ecc84588b09413cd62a"
      }
     },
     "cdef97770b244282893db8007f518646": {
      "model_module": "@jupyter-widgets/base",
      "model_module_version": "2.0.0",
      "model_name": "LayoutModel",
      "state": {}
     },
     "ce054123367a4a97afcbda0e5f97641e": {
      "model_module": "@jupyter-widgets/base",
      "model_module_version": "2.0.0",
      "model_name": "LayoutModel",
      "state": {}
     },
     "ce08abc3f33642a3a2a61f2f85bb8157": {
      "model_module": "@jupyter-widgets/controls",
      "model_module_version": "2.0.0",
      "model_name": "TextStyleModel",
      "state": {
       "description_width": "",
       "font_size": null,
       "text_color": null
      }
     },
     "ce1731a9e0d84166b83bd88a25c766d5": {
      "model_module": "@jupyter-widgets/controls",
      "model_module_version": "2.0.0",
      "model_name": "HTMLModel",
      "state": {
       "layout": "IPY_MODEL_24901ed8580c4b1589a89f27cf042249",
       "style": "IPY_MODEL_33172fb0ed8444529b0403fed9bbc0aa"
      }
     },
     "ce35b71744fa4eaa940e2e5f8461efa4": {
      "model_module": "@jupyter-widgets/base",
      "model_module_version": "2.0.0",
      "model_name": "LayoutModel",
      "state": {}
     },
     "ce551c1e8f6349a59b644a3badec7de0": {
      "model_module": "@jupyter-widgets/controls",
      "model_module_version": "2.0.0",
      "model_name": "LabelStyleModel",
      "state": {
       "description_width": "",
       "font_family": null,
       "font_size": null,
       "font_style": null,
       "font_variant": null,
       "font_weight": null,
       "text_color": null,
       "text_decoration": null
      }
     },
     "ce61a8bdd60d48918bb74195d811183c": {
      "model_module": "@jupyter-widgets/controls",
      "model_module_version": "2.0.0",
      "model_name": "VBoxModel",
      "state": {
       "children": [
        "IPY_MODEL_e5673ef49ce6454297f2fea76ed0fe37",
        "IPY_MODEL_460ceaf8e0e94dd38bb55b9f425a84fc"
       ],
       "layout": "IPY_MODEL_52aa2f146db24490bc9007fb7fd0e7bc"
      }
     },
     "ced8544beac642189f8e0f7792ecbdf2": {
      "model_module": "@jupyter-widgets/base",
      "model_module_version": "2.0.0",
      "model_name": "LayoutModel",
      "state": {}
     },
     "cf7c1434b7274148a6f6638d1ae2e8e5": {
      "model_module": "@jupyter-widgets/controls",
      "model_module_version": "2.0.0",
      "model_name": "TextModel",
      "state": {
       "description": "Unique vals:",
       "disabled": true,
       "layout": "IPY_MODEL_da38c17e604e4c0283b625013c422dba",
       "style": "IPY_MODEL_f3368382a51f4228b78fd78e32f88168",
       "value": "99/99"
      }
     },
     "cf913d749e204828b925e38ef31240d8": {
      "model_module": "@jupyter-widgets/base",
      "model_module_version": "2.0.0",
      "model_name": "LayoutModel",
      "state": {}
     },
     "cfabafa38b7b4c01b56c9551c85351cf": {
      "model_module": "@jupyter-widgets/base",
      "model_module_version": "2.0.0",
      "model_name": "LayoutModel",
      "state": {}
     },
     "cfaea51dd9ad4493ae669b2eb59e5fe3": {
      "model_module": "@jupyter-widgets/controls",
      "model_module_version": "2.0.0",
      "model_name": "CheckboxStyleModel",
      "state": {
       "description_width": ""
      }
     },
     "cfbf8ad9974a4fcf8ea1a555533ba252": {
      "model_module": "jupyter-progressivis",
      "model_module_version": "^0.1.0",
      "model_name": "JsonEditorModel",
      "state": {
       "_model_module_version": "^0.1.0",
       "_view_module_version": "^0.1.0",
       "data": {
        "$schema": "https://vega.github.io/schema/vega-lite/v6.json",
        "data": {
         "name": "data"
        },
        "description": "Bar chart",
        "encoding": {
         "x": {
          "axis": {
           "labelAngle": 0
          },
          "field": "x",
          "type": "nominal"
         },
         "y": {
          "field": "y",
          "type": "quantitative"
         }
        },
        "height": 400,
        "mark": "bar",
        "width": 500
       },
       "layout": "IPY_MODEL_57b5fb5b334749188a1f6bee445293f6"
      }
     },
     "cfc668c8f1a44e29a32177864b1f823c": {
      "model_module": "@jupyter-widgets/controls",
      "model_module_version": "2.0.0",
      "model_name": "GridBoxModel",
      "state": {
       "children": [
        "IPY_MODEL_dc2b7dd671ae4015be30b6db10b484da",
        "IPY_MODEL_c46609ff5e6f4e19b750948b439ceb96",
        "IPY_MODEL_475db1ee9c354bc6a0d6e384d6fc7000",
        "IPY_MODEL_03a729db96764b228bf254567b219dff",
        "IPY_MODEL_744a957ec05d4aeb82e5791d66d28412",
        "IPY_MODEL_94a0c694e65941ee83ce970c298cd187",
        "IPY_MODEL_d5d47bf7cd68458d9dacc6e617dc9cbb",
        "IPY_MODEL_b1fd47366b8b48b8b4c49d6db4c5159b",
        "IPY_MODEL_d1050ce2e667432dbae0651005c09626",
        "IPY_MODEL_a57f7002c3564889898345dcda2faff8",
        "IPY_MODEL_eb15c22079de456cb690c8c26fd353e0",
        "IPY_MODEL_16064215908d41658dd8d0d71b8171e5",
        "IPY_MODEL_6ef98b09978d4a78afce3c7491810ea7",
        "IPY_MODEL_2de2cc5330a441ae97348f35734c3735",
        "IPY_MODEL_e4322d2a77974d5d817945821a00552e",
        "IPY_MODEL_1044ab86d27b403d8c3106d8b7eb9a69",
        "IPY_MODEL_8444cdc586d34d9b85db260926e816b2",
        "IPY_MODEL_a7dab51e084f4cbe829b70eac225ce24",
        "IPY_MODEL_21ad598867f84935a68775add5d46787",
        "IPY_MODEL_78e4295e4403455e8899c25cf44c7174",
        "IPY_MODEL_a4d95078dda749c58b2b7075746a2f44",
        "IPY_MODEL_d5f0aa4e54394271b827c4a9e1d85c06",
        "IPY_MODEL_1ca5631e99f7493bb086b77ccfb72746",
        "IPY_MODEL_39a1b8c067cb4bbbab1743ea6afab796",
        "IPY_MODEL_c9c3d96a25ad4aa2b7dbff2e907cd0c4",
        "IPY_MODEL_e0a456d6d7524aa1a1746c665d99b428",
        "IPY_MODEL_1299a7b7cec441918a7fd9b6b4b31eec",
        "IPY_MODEL_f76e86690fa14896899b691550054dff",
        "IPY_MODEL_87f3485584904a9d972b45ea3daa7674",
        "IPY_MODEL_50ac61fc12cf472d9212d25703529e97",
        "IPY_MODEL_c36316ae7dc74a51bf9125fb7769bd44",
        "IPY_MODEL_041d02b5441d49b4986384f87bf73c19",
        "IPY_MODEL_ffb7ea885e1b4052a033d0cb21717435",
        "IPY_MODEL_509b58c6ea884e20987b7d232f8d36ba",
        "IPY_MODEL_6c39000043614b7a8eb0e101609c6720",
        "IPY_MODEL_8a8d1c241db64442b283c2946990c429",
        "IPY_MODEL_ecc63fbccdbf44be9c8c6aa71766717a",
        "IPY_MODEL_67470c2c23c1419ba692871757c04d04",
        "IPY_MODEL_e284a74ce4914c2bae646a835f6bcb16",
        "IPY_MODEL_41310dea592340aa8d3b32443af6a41c",
        "IPY_MODEL_7e1deb79823f498d8a84dcc747df7497",
        "IPY_MODEL_e337f3e7549741399d89e9bdec2147ad",
        "IPY_MODEL_ed70a3ff878b40b99b3f1337d064c9d8",
        "IPY_MODEL_aa60e3cb622e45a3a153b85141db9b25",
        "IPY_MODEL_b30d5260c68f477bb5a70953e987efaa",
        "IPY_MODEL_efb9ca57afe44ded8c98b9799e52ac65",
        "IPY_MODEL_f523ec6fcc4346cf91e1b3c2d3b760c3",
        "IPY_MODEL_025f5382e36948ccbc319ec0ab820f8f",
        "IPY_MODEL_5a583d0078af4e5583ac591b6a647585",
        "IPY_MODEL_4cde73243e2d4fb9bdd75c5d064f1e2b",
        "IPY_MODEL_9446ae26d2324f739c9c0484c1308b13",
        "IPY_MODEL_73e7c4f204874ecc838c56c00fba26c3",
        "IPY_MODEL_6d50fe4de3874c50b57cb69791d5fb08",
        "IPY_MODEL_e67ac06a436b4101b5a4bb795704dec6",
        "IPY_MODEL_af2620040c2e4017aba30f0742f61c7b",
        "IPY_MODEL_21755e6cb014467eb902d6fc912a0a3e"
       ],
       "layout": "IPY_MODEL_f4c7bbdfe1bf4e94997ba68a1afff292"
      }
     },
     "cfdbfb7077284e0393f979d5b9a5ee2e": {
      "model_module": "@jupyter-widgets/controls",
      "model_module_version": "2.0.0",
      "model_name": "LabelModel",
      "state": {
       "layout": "IPY_MODEL_b4a9e4cda66940609d0443f0c5572e63",
       "style": "IPY_MODEL_940710b3bdc3473fa02366f702535cf0",
       "value": "Selected PColumn"
      }
     },
     "cfee73809b1841c0916584699a0094d4": {
      "model_module": "@jupyter-widgets/controls",
      "model_module_version": "2.0.0",
      "model_name": "CheckboxStyleModel",
      "state": {
       "description_width": ""
      }
     },
     "cff546f4135f48959a897ef9d80c423e": {
      "model_module": "@jupyter-widgets/controls",
      "model_module_version": "2.0.0",
      "model_name": "HBoxModel",
      "state": {
       "children": [
        "IPY_MODEL_627f828129d64a8a913e3fdace785892"
       ],
       "layout": "IPY_MODEL_3e0dada7ab8346d3b8594f71ff44f901"
      }
     },
     "d0169aa92f7f4e559717fe6ab06a361d": {
      "model_module": "@jupyter-widgets/controls",
      "model_module_version": "2.0.0",
      "model_name": "HTMLModel",
      "state": {
       "layout": "IPY_MODEL_14e81abc97754be2b5ffd14715ddeac1",
       "style": "IPY_MODEL_c9604829efec415ea22132f1c97ed288"
      }
     },
     "d0405ffb4f01408abac72c4421693252": {
      "model_module": "@jupyter-widgets/controls",
      "model_module_version": "2.0.0",
      "model_name": "CheckboxStyleModel",
      "state": {
       "description_width": ""
      }
     },
     "d095d8069ee14f2ebb04b5d66beedbc3": {
      "model_module": "@jupyter-widgets/base",
      "model_module_version": "2.0.0",
      "model_name": "LayoutModel",
      "state": {}
     },
     "d0b2fd6a75cb48fe990c39ece38d3b6d": {
      "model_module": "@jupyter-widgets/controls",
      "model_module_version": "2.0.0",
      "model_name": "LabelModel",
      "state": {
       "layout": "IPY_MODEL_9f59a0673a8148bb83201e74bcab3de6",
       "style": "IPY_MODEL_7f238c73b4ce425b8297599c319dd951"
      }
     },
     "d1050ce2e667432dbae0651005c09626": {
      "model_module": "@jupyter-widgets/controls",
      "model_module_version": "2.0.0",
      "model_name": "LabelModel",
      "state": {
       "layout": "IPY_MODEL_d59611f5b60141b39bf9b40c4098c876",
       "style": "IPY_MODEL_6397be06da03453bb829448afc3f579b",
       "value": "__RECORD__:_"
      }
     },
     "d10b305681e24228b60b156e4e3940f5": {
      "model_module": "jupyter-progressivis",
      "model_module_version": "^0.1.0",
      "model_name": "VegaWidgetModel",
      "state": {
       "_df": null,
       "_img_url": "{\"width\":558,\"height\":447,\"url\":\"data:image/png;base64,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\"}",
       "_model_module": "jupyter-progressivis",
       "_model_module_version": "^0.1.0",
       "_opt_source": "null",
       "_spec_source": "{\"$schema\": \"https://vega.github.io/schema/vega-lite/v6.json\", \"width\": 500, \"height\": 400, \"description\": \"Bar chart\", \"data\": {\"name\": \"data\"}, \"mark\": \"bar\", \"encoding\": {\"x\": {\"field\": \"Borough\", \"type\": \"nominal\", \"axis\": {\"labelAngle\": 0}}, \"y\": {\"field\": \"passenger_count_sum\", \"type\": \"quantitative\"}}}",
       "_view_module": "jupyter-progressivis",
       "_view_module_version": "^0.1.0",
       "layout": "IPY_MODEL_0bb67774308d40289d8e28d2c88deb04"
      }
     },
     "d1245de7de71443498e31203bd1c1e48": {
      "model_module": "@jupyter-widgets/controls",
      "model_module_version": "2.0.0",
      "model_name": "SelectModel",
      "state": {
       "_options_labels": [
        "LocationID",
        "Borough",
        "Zone",
        "service_zone"
       ],
       "disabled": true,
       "index": 1,
       "layout": "IPY_MODEL_8384632db2cc42c58806df021f2ef2e5",
       "rows": 9,
       "style": "IPY_MODEL_9256bf7d1edd492c9317b18db1580892"
      }
     },
     "d12b008439ba4b09975bffeaeb0d24c4": {
      "model_module": "@jupyter-widgets/controls",
      "model_module_version": "2.0.0",
      "model_name": "CheckboxModel",
      "state": {
       "description": "Use",
       "disabled": false,
       "layout": "IPY_MODEL_b3c922fecf80407bb5d14ad29cf29b70",
       "style": "IPY_MODEL_ebe4408c9b6747b0bee2ad31ce709165",
       "value": false
      }
     },
     "d168b618144046ae9c0985327d05487e": {
      "model_module": "@jupyter-widgets/base",
      "model_module_version": "2.0.0",
      "model_name": "LayoutModel",
      "state": {}
     },
     "d182dbf1bdb24f06903679cfedec86bb": {
      "model_module": "@jupyter-widgets/base",
      "model_module_version": "2.0.0",
      "model_name": "LayoutModel",
      "state": {}
     },
     "d1e8447ef1ed4d909d32cecf2ab62f46": {
      "model_module": "@jupyter-widgets/controls",
      "model_module_version": "2.0.0",
      "model_name": "CheckboxModel",
      "state": {
       "description": "Use",
       "disabled": false,
       "layout": "IPY_MODEL_891f1ce0e1cb4b919bef1a90bdad561a",
       "style": "IPY_MODEL_f1b9fed206f045eb82bc2146de34fe39",
       "value": true
      }
     },
     "d1fd549f92c043c3bbe7e5c05fb5b44e": {
      "model_module": "@jupyter-widgets/controls",
      "model_module_version": "2.0.0",
      "model_name": "DescriptionStyleModel",
      "state": {
       "description_width": ""
      }
     },
     "d21c7cb6df3c4cc18b980eec4d804c99": {
      "model_module": "@jupyter-widgets/base",
      "model_module_version": "2.0.0",
      "model_name": "LayoutModel",
      "state": {}
     },
     "d253cbbe01e3446c909e9efa285d02da": {
      "model_module": "@jupyter-widgets/base",
      "model_module_version": "2.0.0",
      "model_name": "LayoutModel",
      "state": {}
     },
     "d264e618c03b47bca9d98894f0ea1355": {
      "model_module": "@jupyter-widgets/controls",
      "model_module_version": "2.0.0",
      "model_name": "DropdownModel",
      "state": {
       "_options_labels": [
        "",
        "CSV loader",
        "PARQUET loader",
        "CUSTOM loader"
       ],
       "description": "Loader",
       "disabled": true,
       "index": 2,
       "layout": "IPY_MODEL_34fc46785eb54f7aacf3c52399be90f8",
       "style": "IPY_MODEL_68a5adbb80ab479d9b84fa6dda7b0d0c"
      }
     },
     "d284ef84c5224c288428895cc5decd75": {
      "model_module": "@jupyter-widgets/base",
      "model_module_version": "2.0.0",
      "model_name": "LayoutModel",
      "state": {}
     },
     "d2a47ae5e2924bdca8b41df2926c36d9": {
      "model_module": "@jupyter-widgets/base",
      "model_module_version": "2.0.0",
      "model_name": "LayoutModel",
      "state": {}
     },
     "d2c36ac949a149a69f2df17ce82a0e8f": {
      "model_module": "@jupyter-widgets/controls",
      "model_module_version": "2.0.0",
      "model_name": "DropdownModel",
      "state": {
       "_options_labels": [
        "",
        ">",
        "<",
        ">=",
        "<=",
        "==",
        "!="
       ],
       "description": "Filter",
       "index": 0,
       "layout": "IPY_MODEL_ab91a8e941b1483abd22b775df013b3a",
       "style": "IPY_MODEL_af03b92f5ceb49ff951250575f7d19db"
      }
     },
     "d2dfd06163524febbeaff4493926ffb4": {
      "model_module": "@jupyter-widgets/controls",
      "model_module_version": "2.0.0",
      "model_name": "VBoxModel",
      "state": {
       "children": [
        "IPY_MODEL_6e8a1f3c11024def89c00122d6685608",
        "IPY_MODEL_e17eaca1675a474a8cefb93b6c565905",
        "IPY_MODEL_6ee50976b5f044b0934cfcfaf490e38c"
       ],
       "layout": "IPY_MODEL_52aa2f146db24490bc9007fb7fd0e7bc"
      }
     },
     "d2eabdba7ebd4c6eb53eb63dbf161aa4": {
      "model_module": "@jupyter-widgets/controls",
      "model_module_version": "2.0.0",
      "model_name": "DescriptionStyleModel",
      "state": {
       "description_width": ""
      }
     },
     "d2f3ca2bbb824925b30bf72f4f27b55e": {
      "model_module": "@jupyter-widgets/controls",
      "model_module_version": "2.0.0",
      "model_name": "DescriptionStyleModel",
      "state": {
       "description_width": ""
      }
     },
     "d3a11d2eea4b4e8e89668618cac2f429": {
      "model_module": "@jupyter-widgets/controls",
      "model_module_version": "2.0.0",
      "model_name": "VBoxModel",
      "state": {
       "children": [
        "IPY_MODEL_e3f9f36387e946828a62649d8cc82f2b",
        "IPY_MODEL_c02e692244164822b026e554774d4122",
        "IPY_MODEL_4aa777b1bbe045b882a8bb5b35565290",
        "IPY_MODEL_a347e7b6fd1b4b13b067b23a101f2925",
        "IPY_MODEL_35a291a456544c3a8056edd93ae5bd4e",
        "IPY_MODEL_b05ef47334014b46a12f8ac92dde8091",
        "IPY_MODEL_5e82fdea6ae74a5bbde028fe8823f0bf",
        "IPY_MODEL_27470675ee51448d868e323a6282599d"
       ],
       "layout": "IPY_MODEL_aeb19c3f502347d3b1bd0647585aa17e"
      }
     },
     "d3c9ab7d9f794fd69aecbd9e36a24d67": {
      "model_module": "@jupyter-widgets/base",
      "model_module_version": "2.0.0",
      "model_name": "LayoutModel",
      "state": {}
     },
     "d3ff6d98ded74089a7584a6466c001a7": {
      "model_module": "@jupyter-widgets/base",
      "model_module_version": "2.0.0",
      "model_name": "LayoutModel",
      "state": {}
     },
     "d410797c5e1b4facba292b1cf05d0ef6": {
      "model_module": "@jupyter-widgets/base",
      "model_module_version": "2.0.0",
      "model_name": "LayoutModel",
      "state": {}
     },
     "d42d54ca064243c08642e0ca90c65bf9": {
      "model_module": "@jupyter-widgets/base",
      "model_module_version": "2.0.0",
      "model_name": "LayoutModel",
      "state": {}
     },
     "d43867eb27e54abbb8aee10f4654ff61": {
      "model_module": "@jupyter-widgets/controls",
      "model_module_version": "2.0.0",
      "model_name": "LabelStyleModel",
      "state": {
       "description_width": "",
       "font_family": null,
       "font_size": null,
       "font_style": null,
       "font_variant": null,
       "font_weight": null,
       "text_color": null,
       "text_decoration": null
      }
     },
     "d49a786547cc4ef3a57e2a227a6d7880": {
      "model_module": "@jupyter-widgets/controls",
      "model_module_version": "2.0.0",
      "model_name": "CheckboxStyleModel",
      "state": {
       "description_width": ""
      }
     },
     "d49c147693f2423fb19f3bfc5b972403": {
      "model_module": "@jupyter-widgets/controls",
      "model_module_version": "2.0.0",
      "model_name": "FloatTextModel",
      "state": {
       "layout": "IPY_MODEL_5a32a03e8934438796f190e1c2a12ae5",
       "step": null,
       "style": "IPY_MODEL_fc0b51d79bd74eb5b830f434c3e053ed"
      }
     },
     "d4bf69605ba545489ea8e04ed49eb1b3": {
      "model_module": "@jupyter-widgets/base",
      "model_module_version": "2.0.0",
      "model_name": "LayoutModel",
      "state": {}
     },
     "d4dd06ca31d94cd0ae3c6a888709f2c0": {
      "model_module": "@jupyter-widgets/base",
      "model_module_version": "2.0.0",
      "model_name": "LayoutModel",
      "state": {}
     },
     "d4ed4cb6bb3247b6b049b88db00d46a5": {
      "model_module": "@jupyter-widgets/base",
      "model_module_version": "2.0.0",
      "model_name": "LayoutModel",
      "state": {}
     },
     "d545c8ef15014acdbfe0ddf4a92ca7d5": {
      "model_module": "@jupyter-widgets/controls",
      "model_module_version": "2.0.0",
      "model_name": "TextModel",
      "state": {
       "description": "Type:",
       "disabled": true,
       "layout": "IPY_MODEL_a984dd7656d148fb9c5bf385056c52b4",
       "style": "IPY_MODEL_a3a296c668584cc98d3bfd8fa6e13685",
       "value": "int64"
      }
     },
     "d557b47fcc3d417d930d0b69aff2d05a": {
      "model_module": "@jupyter-widgets/base",
      "model_module_version": "2.0.0",
      "model_name": "LayoutModel",
      "state": {}
     },
     "d59611f5b60141b39bf9b40c4098c876": {
      "model_module": "@jupyter-widgets/base",
      "model_module_version": "2.0.0",
      "model_name": "LayoutModel",
      "state": {}
     },
     "d59f96660ff74d559ec369ce27c4059b": {
      "model_module": "@jupyter-widgets/controls",
      "model_module_version": "2.0.0",
      "model_name": "CheckboxStyleModel",
      "state": {
       "description_width": ""
      }
     },
     "d5a7ee2dc940497fa8011de3b380969e": {
      "model_module": "@jupyter-widgets/base",
      "model_module_version": "2.0.0",
      "model_name": "LayoutModel",
      "state": {}
     },
     "d5b15fd814e3486eb2d32803951e2ad0": {
      "model_module": "@jupyter-widgets/controls",
      "model_module_version": "2.0.0",
      "model_name": "ButtonStyleModel",
      "state": {
       "font_family": null,
       "font_size": null,
       "font_style": null,
       "font_variant": null,
       "font_weight": null,
       "text_color": null,
       "text_decoration": null
      }
     },
     "d5d47bf7cd68458d9dacc6e617dc9cbb": {
      "model_module": "@jupyter-widgets/controls",
      "model_module_version": "2.0.0",
      "model_name": "LabelModel",
      "state": {
       "layout": "IPY_MODEL_93b22d4ff9b742169571ff5f98c36569",
       "style": "IPY_MODEL_3b0d105d8a444660819588e6786c3e3e",
       "value": "variance"
      }
     },
     "d5d7f0be6abd4025a8f49415f3c35497": {
      "model_module": "@jupyter-widgets/base",
      "model_module_version": "2.0.0",
      "model_name": "LayoutModel",
      "state": {}
     },
     "d5f0aa4e54394271b827c4a9e1d85c06": {
      "model_module": "@jupyter-widgets/controls",
      "model_module_version": "2.0.0",
      "model_name": "CheckboxModel",
      "state": {
       "disabled": true,
       "indent": false,
       "layout": "IPY_MODEL_4235818eb9264057abf6e3b1b72ae61c",
       "style": "IPY_MODEL_e849b4f7acac4524b83c538452301d8d",
       "value": false
      }
     },
     "d60f05ee552648a3a8238f815d7b566a": {
      "model_module": "@jupyter-widgets/base",
      "model_module_version": "2.0.0",
      "model_name": "LayoutModel",
      "state": {}
     },
     "d61fcc996c3349a399212582bb11e803": {
      "model_module": "@jupyter-widgets/controls",
      "model_module_version": "2.0.0",
      "model_name": "HTMLModel",
      "state": {
       "layout": "IPY_MODEL_103a4f9d5a834e2192e4725fba39f593",
       "style": "IPY_MODEL_b7d61f1ae7164ac68ba52763dc3c05c5"
      }
     },
     "d638864caf904b0eb19f4c8f64343140": {
      "model_module": "@jupyter-widgets/base",
      "model_module_version": "2.0.0",
      "model_name": "LayoutModel",
      "state": {}
     },
     "d64c66f38aac482cbf3553ff20dd35f5": {
      "model_module": "@jupyter-widgets/base",
      "model_module_version": "2.0.0",
      "model_name": "LayoutModel",
      "state": {}
     },
     "d64d05d5af854ea09747c71790c60745": {
      "model_module": "@jupyter-widgets/base",
      "model_module_version": "2.0.0",
      "model_name": "LayoutModel",
      "state": {
       "max_width": "fit-content"
      }
     },
     "d68d34fa8cf240508b0b9b77b3051f2e": {
      "model_module": "@jupyter-widgets/controls",
      "model_module_version": "2.0.0",
      "model_name": "ButtonStyleModel",
      "state": {
       "font_family": null,
       "font_size": null,
       "font_style": null,
       "font_variant": null,
       "font_weight": null,
       "text_color": null,
       "text_decoration": null
      }
     },
     "d6cbc03a0e434706825bfff47a86534b": {
      "model_module": "@jupyter-widgets/controls",
      "model_module_version": "2.0.0",
      "model_name": "DescriptionStyleModel",
      "state": {
       "description_width": ""
      }
     },
     "d730a486acc34edab37a71f46001b1c9": {
      "model_module": "@jupyter-widgets/base",
      "model_module_version": "2.0.0",
      "model_name": "LayoutModel",
      "state": {
       "max_width": "fit-content"
      }
     },
     "d781670d49b749e0a84a9325a7d2c9b3": {
      "model_module": "@jupyter-widgets/controls",
      "model_module_version": "2.0.0",
      "model_name": "CheckboxStyleModel",
      "state": {
       "description_width": ""
      }
     },
     "d7840bc29d5f4156bd2e080ec0be728a": {
      "model_module": "@jupyter-widgets/controls",
      "model_module_version": "2.0.0",
      "model_name": "LabelModel",
      "state": {
       "layout": "IPY_MODEL_9d6c9c59a84642fcb76b469d6f8861fb",
       "style": "IPY_MODEL_d97b70e8a6ce4d92a9867d4664e4ee16",
       "value": "Join on"
      }
     },
     "d804e4cf31f84cf39e7a090e4b52efa9": {
      "model_module": "@jupyter-widgets/base",
      "model_module_version": "2.0.0",
      "model_name": "LayoutModel",
      "state": {}
     },
     "d809913545c5456ba229c38afc9fcf06": {
      "model_module": "@jupyter-widgets/controls",
      "model_module_version": "2.0.0",
      "model_name": "HTMLStyleModel",
      "state": {
       "description_width": "",
       "font_size": null,
       "text_color": null
      }
     },
     "d82825d831a64cf49bbe2f699fc10e39": {
      "model_module": "@jupyter-widgets/base",
      "model_module_version": "2.0.0",
      "model_name": "LayoutModel",
      "state": {}
     },
     "d83e244e4eb544c4a392b531570b7e79": {
      "model_module": "@jupyter-widgets/base",
      "model_module_version": "2.0.0",
      "model_name": "LayoutModel",
      "state": {}
     },
     "d8526316a6794bfcaa4af20905acae0d": {
      "model_module": "@jupyter-widgets/base",
      "model_module_version": "2.0.0",
      "model_name": "LayoutModel",
      "state": {}
     },
     "d8550aaca0d4487db0f8b1cc8cd79fe3": {
      "model_module": "@jupyter-widgets/base",
      "model_module_version": "2.0.0",
      "model_name": "LayoutModel",
      "state": {}
     },
     "d8562904a3b64765b14e0b6e067423da": {
      "model_module": "@jupyter-widgets/base",
      "model_module_version": "2.0.0",
      "model_name": "LayoutModel",
      "state": {}
     },
     "d884e9f77e6947a2802aa36e58dc3275": {
      "model_module": "@jupyter-widgets/controls",
      "model_module_version": "2.0.0",
      "model_name": "CheckboxStyleModel",
      "state": {
       "description_width": ""
      }
     },
     "d888dfc622654928a7c44bda16daf580": {
      "model_module": "@jupyter-widgets/base",
      "model_module_version": "2.0.0",
      "model_name": "LayoutModel",
      "state": {}
     },
     "d88cb70fd12249ec830d913d473a24d8": {
      "model_module": "@jupyter-widgets/controls",
      "model_module_version": "2.0.0",
      "model_name": "FloatTextModel",
      "state": {
       "layout": "IPY_MODEL_5a32a03e8934438796f190e1c2a12ae5",
       "step": null,
       "style": "IPY_MODEL_8e11aef93255473a8b11a27ae16f79e6"
      }
     },
     "d894c4e346d849c4aed577dc1b82421b": {
      "model_module": "@jupyter-widgets/controls",
      "model_module_version": "2.0.0",
      "model_name": "TextareaModel",
      "state": {
       "disabled": true,
       "layout": "IPY_MODEL_bd60b2932c6f4a0b97b96ee6bd9a525c",
       "rows": 3,
       "style": "IPY_MODEL_db435ae715ed45f584e6b678c2061f9e",
       "value": "{'delimiter': ',', 'header': 0, 'usecols': ['LocationID', 'Borough'], 'doublequote': False}"
      }
     },
     "d8f63c9e42774a4e9994a007dd95d042": {
      "model_module": "@jupyter-widgets/base",
      "model_module_version": "2.0.0",
      "model_name": "LayoutModel",
      "state": {}
     },
     "d92f9585ed7f4b989e5ee2f928956c6d": {
      "model_module": "@jupyter-widgets/controls",
      "model_module_version": "2.0.0",
      "model_name": "VBoxModel",
      "state": {
       "children": [
        "IPY_MODEL_1b97953a85384d67aa7594528f98686e",
        "IPY_MODEL_2a4f8c8fff224a4989296bd9c3f6df59",
        "IPY_MODEL_5651aa7a27eb4c0d93852c45ac515864",
        "IPY_MODEL_63385e2123e94e89bb020c7620302e71",
        "IPY_MODEL_87f315b3d1304fcdadef2cbc69d634f4",
        "IPY_MODEL_eb3cc677709a4f0ba62aa38cb8d85173",
        "IPY_MODEL_c3ddfb1f276843c08cda030d8974952f",
        "IPY_MODEL_13a75b46d01b4e75811d3043e243a655"
       ],
       "layout": "IPY_MODEL_e81d2478f40441458816d187ae257142"
      }
     },
     "d9636a75666d415c9b30df3af09f77a3": {
      "model_module": "@jupyter-widgets/controls",
      "model_module_version": "2.0.0",
      "model_name": "LabelModel",
      "state": {
       "layout": "IPY_MODEL_0e04beb688a94e038830e25537988572",
       "style": "IPY_MODEL_49dde409b2d94051aec5243e892c3b22"
      }
     },
     "d97b70e8a6ce4d92a9867d4664e4ee16": {
      "model_module": "@jupyter-widgets/controls",
      "model_module_version": "2.0.0",
      "model_name": "LabelStyleModel",
      "state": {
       "description_width": "",
       "font_family": null,
       "font_size": null,
       "font_style": null,
       "font_variant": null,
       "font_weight": null,
       "text_color": null,
       "text_decoration": null
      }
     },
     "d989b7c8534f40159436be506a3b820f": {
      "model_module": "@jupyter-widgets/controls",
      "model_module_version": "2.0.0",
      "model_name": "DescriptionStyleModel",
      "state": {
       "description_width": ""
      }
     },
     "d98de0baff394145ab9e872889427c33": {
      "model_module": "@jupyter-widgets/controls",
      "model_module_version": "2.0.0",
      "model_name": "CheckboxModel",
      "state": {
       "description": "Select/Unselect all",
       "disabled": true,
       "layout": "IPY_MODEL_1daff11e57554cf495f3d4cbcad87151",
       "style": "IPY_MODEL_788c29b29a0c4be1993241926b233b6a",
       "value": false
      }
     },
     "d9c8b3b1ffa2412f9cdfd9d02742c8dc": {
      "model_module": "@jupyter-widgets/controls",
      "model_module_version": "2.0.0",
      "model_name": "DescriptionStyleModel",
      "state": {
       "description_width": ""
      }
     },
     "d9c97f0d74cf474e8bcb6434c72d6526": {
      "model_module": "@jupyter-widgets/controls",
      "model_module_version": "2.0.0",
      "model_name": "HTMLStyleModel",
      "state": {
       "description_width": "",
       "font_size": null,
       "text_color": null
      }
     },
     "d9f16d1ee90142149dfc863ee8242d6b": {
      "model_module": "@jupyter-widgets/controls",
      "model_module_version": "2.0.0",
      "model_name": "HTMLStyleModel",
      "state": {
       "description_width": "",
       "font_size": null,
       "text_color": null
      }
     },
     "d9f244ce3bbf4c3ba71d1447b7adcb3c": {
      "model_module": "@jupyter-widgets/controls",
      "model_module_version": "2.0.0",
      "model_name": "HTMLModel",
      "state": {
       "layout": "IPY_MODEL_f6bbc677b242435b9bd5425978d96b35",
       "style": "IPY_MODEL_8029e1602583481793df167fc2fb5b9e"
      }
     },
     "da188e60e3ce433781fe0c369f4912d4": {
      "model_module": "@jupyter-widgets/controls",
      "model_module_version": "2.0.0",
      "model_name": "ButtonModel",
      "state": {
       "description": "Step",
       "disabled": true,
       "icon": "step-forward",
       "layout": "IPY_MODEL_37963a9f72e24ba48103b283e5a34baa",
       "style": "IPY_MODEL_0134b8dde9ed4f4d9c7fb415d668c72a",
       "tooltip": "Step"
      }
     },
     "da2475ac5f4d405bbae1a0f476106915": {
      "model_module": "@jupyter-widgets/base",
      "model_module_version": "2.0.0",
      "model_name": "LayoutModel",
      "state": {}
     },
     "da258325e8d54a62a0a4aac545907abd": {
      "model_module": "@jupyter-widgets/controls",
      "model_module_version": "2.0.0",
      "model_name": "LabelStyleModel",
      "state": {
       "description_width": "",
       "font_family": null,
       "font_size": null,
       "font_style": null,
       "font_variant": null,
       "font_weight": null,
       "text_color": null,
       "text_decoration": null
      }
     },
     "da38c17e604e4c0283b625013c422dba": {
      "model_module": "@jupyter-widgets/base",
      "model_module_version": "2.0.0",
      "model_name": "LayoutModel",
      "state": {}
     },
     "da3af27926a14e779a4995b7d6d1dc6b": {
      "model_module": "@jupyter-widgets/base",
      "model_module_version": "2.0.0",
      "model_name": "LayoutModel",
      "state": {
       "max_width": "fit-content"
      }
     },
     "da42c3ee6b7246bca52ded76a6de2790": {
      "model_module": "@jupyter-widgets/controls",
      "model_module_version": "2.0.0",
      "model_name": "CheckboxModel",
      "state": {
       "description": "Use",
       "disabled": false,
       "layout": "IPY_MODEL_b89b830f6d2744a2a897b7821c00744e",
       "style": "IPY_MODEL_fc765421d50a449398a9e4545ad9d753",
       "value": false
      }
     },
     "da734835c6b7441a8bd8bb82079251de": {
      "model_module": "@jupyter-widgets/controls",
      "model_module_version": "2.0.0",
      "model_name": "VBoxModel",
      "state": {
       "children": [
        "IPY_MODEL_0105223b2d1b4738a231c1ff5547c3fc",
        "IPY_MODEL_6ab342170cf543629083a6ace0ec6bf3"
       ],
       "layout": "IPY_MODEL_ed81edc8fd0d41e6add0c8fd2e79f20d"
      }
     },
     "da7c129d295448979b4443666af84583": {
      "model_module": "@jupyter-widgets/controls",
      "model_module_version": "2.0.0",
      "model_name": "TextStyleModel",
      "state": {
       "description_width": "",
       "font_size": null,
       "text_color": null
      }
     },
     "da8a6f8321c2494b905d6c8a02c981af": {
      "model_module": "@jupyter-widgets/base",
      "model_module_version": "2.0.0",
      "model_name": "LayoutModel",
      "state": {}
     },
     "daae4552088f4ea484cf2f7939d9bb4d": {
      "model_module": "@jupyter-widgets/base",
      "model_module_version": "2.0.0",
      "model_name": "LayoutModel",
      "state": {}
     },
     "dacfd5c143d145a983eee71724a36242": {
      "model_module": "@jupyter-widgets/controls",
      "model_module_version": "2.0.0",
      "model_name": "TextStyleModel",
      "state": {
       "description_width": "",
       "font_size": null,
       "text_color": null
      }
     },
     "dae6b87c225a425c994891913c199e5d": {
      "model_module": "@jupyter-widgets/controls",
      "model_module_version": "2.0.0",
      "model_name": "CheckboxStyleModel",
      "state": {
       "description_width": ""
      }
     },
     "dafbc7c108ad4a95bdc74130457085a3": {
      "model_module": "@jupyter-widgets/controls",
      "model_module_version": "2.0.0",
      "model_name": "HTMLStyleModel",
      "state": {
       "description_width": "",
       "font_size": null,
       "text_color": null
      }
     },
     "daff434326c54c72b6572b40253bcd4e": {
      "model_module": "@jupyter-widgets/controls",
      "model_module_version": "2.0.0",
      "model_name": "LabelModel",
      "state": {
       "layout": "IPY_MODEL_8ff4cd28d55e4f9ab6580fcd1ca02737",
       "style": "IPY_MODEL_ec663e129e364d5ea2f3b8896f55a9e7"
      }
     },
     "db0054d3ea2a47efab509b80d690b635": {
      "model_module": "@jupyter-widgets/base",
      "model_module_version": "2.0.0",
      "model_name": "LayoutModel",
      "state": {}
     },
     "db36743d0c844e73b451843b74d9c84c": {
      "model_module": "@jupyter-widgets/controls",
      "model_module_version": "2.0.0",
      "model_name": "CheckboxStyleModel",
      "state": {
       "description_width": ""
      }
     },
     "db435ae715ed45f584e6b678c2061f9e": {
      "model_module": "@jupyter-widgets/controls",
      "model_module_version": "2.0.0",
      "model_name": "TextStyleModel",
      "state": {
       "description_width": "",
       "font_size": null,
       "text_color": null
      }
     },
     "db630057470d4162bb8e10e5e76bb40a": {
      "model_module": "@jupyter-widgets/base",
      "model_module_version": "2.0.0",
      "model_name": "LayoutModel",
      "state": {}
     },
     "db7f3452cdaf451294f6d70a9ec4d6c6": {
      "model_module": "@jupyter-widgets/controls",
      "model_module_version": "2.0.0",
      "model_name": "ButtonStyleModel",
      "state": {
       "font_family": null,
       "font_size": null,
       "font_style": null,
       "font_variant": null,
       "font_weight": null,
       "text_color": null,
       "text_decoration": null
      }
     },
     "db83637cb62e404dabe4c17139c6bd65": {
      "model_module": "@jupyter-widgets/controls",
      "model_module_version": "2.0.0",
      "model_name": "CheckboxModel",
      "state": {
       "description": "NA values",
       "disabled": true,
       "layout": "IPY_MODEL_6a2bff4753ec4a70ab8afdfd4ecfd483",
       "style": "IPY_MODEL_42e4e8c75d5f4dd3b73f8415255d6e67",
       "value": false
      }
     },
     "db94bfde4e494e5d874292a1686441b9": {
      "model_module": "@jupyter-widgets/controls",
      "model_module_version": "2.0.0",
      "model_name": "DropdownModel",
      "state": {
       "_options_labels": [
        "",
        "Aggregate",
        "Any Vega",
        "Computed view",
        "Corr",
        "Descriptive_statistics",
        "Dump_table",
        "Facade",
        "Group by",
        "Heatmap",
        "Histogram1D",
        "Join",
        "KNN Density",
        "MBKMeans",
        "MCDensityMap",
        "MultiSeries",
        "Quantiles",
        "RangeQuery2D",
        "Scaler",
        "Scatterplot",
        "Snippet",
        "T-SNE 2D",
        "CSV loader",
        "PARQUET loader",
        "CUSTOM loader"
       ],
       "description": "Next stage",
       "index": 0,
       "layout": "IPY_MODEL_f7fce0abf2924153bd82c6d779c11f4f",
       "style": "IPY_MODEL_5cbf08ca8e1d41b8afa2dd90a0a8a9d0"
      }
     },
     "dbae1ebf3509475cbee49b6f412a71d8": {
      "model_module": "@jupyter-widgets/controls",
      "model_module_version": "2.0.0",
      "model_name": "DropdownModel",
      "state": {
       "_options_labels": [
        "",
        ">",
        "<",
        ">=",
        "<=",
        "==",
        "!="
       ],
       "description": "& ",
       "index": 0,
       "layout": "IPY_MODEL_da3af27926a14e779a4995b7d6d1dc6b",
       "style": "IPY_MODEL_7ba95530da42432383a15460f13e78e2"
      }
     },
     "dbb7a4d358a045a487c8e481aa7b5cf9": {
      "model_module": "@jupyter-widgets/controls",
      "model_module_version": "2.0.0",
      "model_name": "HTMLModel",
      "state": {
       "layout": "IPY_MODEL_9930d3d4eb674d1db4fd92a677c295ad",
       "style": "IPY_MODEL_b7cf06f2a9e04e8a97c78dcdd0d51045"
      }
     },
     "dbd52128e7bf45f4b336c5af187007b0": {
      "model_module": "@jupyter-widgets/controls",
      "model_module_version": "2.0.0",
      "model_name": "TextStyleModel",
      "state": {
       "description_width": "",
       "font_size": null,
       "text_color": null
      }
     },
     "dc06d63733b14ebeab07111c9121e154": {
      "model_module": "@jupyter-widgets/controls",
      "model_module_version": "2.0.0",
      "model_name": "HTMLModel",
      "state": {
       "layout": "IPY_MODEL_6c8a52b58d2c4395bbf8098f3fde4e0c",
       "style": "IPY_MODEL_330be4692eff4572b8ef9298f7104acf",
       "value": "<table style='border: 1px solid;background-color:red;'><tr><td>&#9888;</td><td><b>WARNING:</b> This action will permanently delete the widgets listed below and their underlying modules</td></tr></table><li><b>Any Vega:&nbsp;</b></li>\n</ul>\n"
      }
     },
     "dc2b7dd671ae4015be30b6db10b484da": {
      "model_module": "@jupyter-widgets/controls",
      "model_module_version": "2.0.0",
      "model_name": "LabelModel",
      "state": {
       "layout": "IPY_MODEL_4022f023554645abad018c3beb0b2325",
       "style": "IPY_MODEL_77b8eb2c4de94d82924b4a4eb01792dd"
      }
     },
     "dc42f0855b8545868f6c8292cfc15d3f": {
      "model_module": "@jupyter-widgets/controls",
      "model_module_version": "2.0.0",
      "model_name": "VBoxModel",
      "state": {
       "children": [
        "IPY_MODEL_f3307ae5403b43ffac567e982846161e",
        "IPY_MODEL_d12b008439ba4b09975bffeaeb0d24c4"
       ],
       "layout": "IPY_MODEL_ac95b9417bce433fb8146ce4c5ddd3be"
      }
     },
     "dc9e6ef9570b442ba6e4a4220b8add0d": {
      "model_module": "@jupyter-widgets/base",
      "model_module_version": "2.0.0",
      "model_name": "LayoutModel",
      "state": {}
     },
     "dcafcebbd4054aa58f791599738aa107": {
      "model_module": "@jupyter-widgets/controls",
      "model_module_version": "2.0.0",
      "model_name": "TextStyleModel",
      "state": {
       "description_width": "",
       "font_size": null,
       "text_color": null
      }
     },
     "dcdce8cc6be74290b242ef423270909e": {
      "model_module": "@jupyter-widgets/controls",
      "model_module_version": "2.0.0",
      "model_name": "HBoxModel",
      "state": {
       "children": [
        "IPY_MODEL_418c5e8aba0d428ea8414d685b1e1688",
        "IPY_MODEL_2e6c75af70794141be1dea063b3ec894",
        "IPY_MODEL_a73ea9cb5fad46c8a2378e0911ef69ef",
        "IPY_MODEL_9da72427d1f949aaa718e10e6fdd0ee5"
       ],
       "layout": "IPY_MODEL_1a3d9586499a421baae3a9e26dfebfff"
      }
     },
     "dce0656aef9c4f7482127faea624d826": {
      "model_module": "@jupyter-widgets/controls",
      "model_module_version": "2.0.0",
      "model_name": "LabelStyleModel",
      "state": {
       "description_width": "",
       "font_family": null,
       "font_size": null,
       "font_style": null,
       "font_variant": null,
       "font_weight": null,
       "text_color": null,
       "text_decoration": null
      }
     },
     "dceb28c99a9245a5a8a7cd44ada06377": {
      "model_module": "@jupyter-widgets/controls",
      "model_module_version": "2.0.0",
      "model_name": "CheckboxStyleModel",
      "state": {
       "description_width": ""
      }
     },
     "dcf7f3dcaecc4896aee6cc98e949c56d": {
      "model_module": "@jupyter-widgets/controls",
      "model_module_version": "2.0.0",
      "model_name": "CheckboxModel",
      "state": {
       "description": "D",
       "disabled": false,
       "indent": false,
       "layout": "IPY_MODEL_9ebeb328e8f04917ae9254201f38da20",
       "style": "IPY_MODEL_b4d622dbd3814973a19cb20714456c70",
       "value": true
      }
     },
     "dd187d8f991141fcb5cea63ab5eb5725": {
      "model_module": "@jupyter-widgets/base",
      "model_module_version": "2.0.0",
      "model_name": "LayoutModel",
      "state": {
       "justify_content": "flex-end"
      }
     },
     "dd7cab0e6223458dbae5715d715a406b": {
      "model_module": "@jupyter-widgets/controls",
      "model_module_version": "2.0.0",
      "model_name": "DropdownModel",
      "state": {
       "_options_labels": [
        "",
        ">",
        "<",
        ">=",
        "<=",
        "==",
        "!="
       ],
       "description": "Filter",
       "index": 0,
       "layout": "IPY_MODEL_d64d05d5af854ea09747c71790c60745",
       "style": "IPY_MODEL_d1fd549f92c043c3bbe7e5c05fb5b44e"
      }
     },
     "ddb3235539e54b3fa320da76dec0cd17": {
      "model_module": "@jupyter-widgets/controls",
      "model_module_version": "2.0.0",
      "model_name": "DropdownModel",
      "state": {
       "_options_labels": [
        "tpep_pickup_datetime",
        "tpep_dropoff_datetime",
        "passenger_count",
        "PULocationID",
        "Borough",
        ""
       ],
       "index": 5,
       "layout": "IPY_MODEL_98dda245de0f4e1faaefca6418883f70",
       "style": "IPY_MODEL_9caf60cf07344e4c88b0e8831813a7dc"
      }
     },
     "de00156e6d8f41c481de7718ccc48a52": {
      "model_module": "@jupyter-widgets/base",
      "model_module_version": "2.0.0",
      "model_name": "LayoutModel",
      "state": {}
     },
     "de1914265c65412c9d499869c9f902ee": {
      "model_module": "@jupyter-widgets/controls",
      "model_module_version": "2.0.0",
      "model_name": "LabelStyleModel",
      "state": {
       "description_width": "",
       "font_family": null,
       "font_size": null,
       "font_style": null,
       "font_variant": null,
       "font_weight": null,
       "text_color": null,
       "text_decoration": null
      }
     },
     "de9f0f4242b94a41af3a8d9392e66db7": {
      "model_module": "@jupyter-widgets/controls",
      "model_module_version": "2.0.0",
      "model_name": "RadioButtonsModel",
      "state": {
       "_options_labels": [
        "columns",
        "datetime subcolumn",
        "multi index subcolumn"
       ],
       "description": "Grouping mode:",
       "disabled": true,
       "index": 0,
       "layout": "IPY_MODEL_8f2a13e2a16f480bb8e764011eff1fd1",
       "style": "IPY_MODEL_5495c8893ac842b58b23026656697867"
      }
     },
     "deac9c0f69064e40808ccfa0e5d041ea": {
      "model_module": "@jupyter-widgets/controls",
      "model_module_version": "2.0.0",
      "model_name": "DropdownModel",
      "state": {
       "_options_labels": [
        "",
        "enumerate",
        "cbrt"
       ],
       "disabled": true,
       "index": 0,
       "layout": "IPY_MODEL_ced8544beac642189f8e0f7792ecbdf2",
       "style": "IPY_MODEL_c84947381233455fb05ea4136e3a57a0"
      }
     },
     "dec8d72f001e47f5af51765b9812ca78": {
      "model_module": "@jupyter-widgets/controls",
      "model_module_version": "2.0.0",
      "model_name": "VBoxModel",
      "state": {
       "children": [
        "IPY_MODEL_f226d962ee984cdeb815febe5cfb1833",
        "IPY_MODEL_ecc024eda9c244128f545bd67f2302ec"
       ],
       "layout": "IPY_MODEL_45cb47a1ce994fb4a4648750fe5dd2ac"
      }
     },
     "ded1b8f1c7df4e70a6d91f88a64a10ff": {
      "model_module": "@jupyter-widgets/base",
      "model_module_version": "2.0.0",
      "model_name": "LayoutModel",
      "state": {}
     },
     "ded5f2cc68d3403595b5c427e0bf07d3": {
      "model_module": "@jupyter-widgets/controls",
      "model_module_version": "2.0.0",
      "model_name": "HTMLModel",
      "state": {
       "layout": "IPY_MODEL_aed0a14b55754448b7962d342f34b145",
       "style": "IPY_MODEL_0cd398d460614edf9e9efbba3a28ddb1"
      }
     },
     "df307037d2c44f148001211a85cfb572": {
      "model_module": "@jupyter-widgets/controls",
      "model_module_version": "2.0.0",
      "model_name": "CheckboxModel",
      "state": {
       "description": "Use",
       "disabled": true,
       "layout": "IPY_MODEL_059690d91119437899964ae09c17bd1d",
       "style": "IPY_MODEL_ee699b6168ff44eba702457f5bfa638a",
       "value": true
      }
     },
     "df65dc1071a9408cb09ba21c9ace6750": {
      "model_module": "@jupyter-widgets/controls",
      "model_module_version": "2.0.0",
      "model_name": "HBoxModel",
      "state": {
       "children": [
        "IPY_MODEL_7611593ebe1a4cb6ad670f7e191fb5cb",
        "IPY_MODEL_31aa10b538e243e4849847eefaa85373",
        "IPY_MODEL_614aeed286704f958b3a3292fd6f30a9"
       ],
       "layout": "IPY_MODEL_365a7acf7349476bb826469fd9845c8f"
      }
     },
     "df6a80b71dde4c64b83ebf84c6e97400": {
      "model_module": "@jupyter-widgets/controls",
      "model_module_version": "2.0.0",
      "model_name": "DropdownModel",
      "state": {
       "_options_labels": [
        "tpep_pickup_datetime",
        "tpep_dropoff_datetime",
        "passenger_count",
        "PULocationID",
        "Borough",
        ""
       ],
       "index": 4,
       "layout": "IPY_MODEL_c10d505f308f4daa90fcb4d637ea1286",
       "style": "IPY_MODEL_2455bd7a32c24e7785cd3902e458bc18"
      }
     },
     "df72fe8a680b4b139d1184035206027f": {
      "model_module": "@jupyter-widgets/controls",
      "model_module_version": "2.0.0",
      "model_name": "ButtonStyleModel",
      "state": {
       "font_family": null,
       "font_size": null,
       "font_style": null,
       "font_variant": null,
       "font_weight": null,
       "text_color": null,
       "text_decoration": null
      }
     },
     "df7fb3140ab446f086a5036824fc0141": {
      "model_module": "@jupyter-widgets/controls",
      "model_module_version": "2.0.0",
      "model_name": "FloatTextModel",
      "state": {
       "layout": "IPY_MODEL_f63279b244844604a33ca136b60292ab",
       "step": null,
       "style": "IPY_MODEL_15593a085bd5413ba25b13e16ec1489f"
      }
     },
     "df8a4aa07fac4974bd5380e1461380c3": {
      "model_module": "@jupyter-widgets/controls",
      "model_module_version": "2.0.0",
      "model_name": "LabelModel",
      "state": {
       "layout": "IPY_MODEL_ab4d904a66e24987b9b35ddd1ae4c328",
       "style": "IPY_MODEL_dce0656aef9c4f7482127faea624d826",
       "value": "Roles"
      }
     },
     "df99b6f2f8584f7388808960c1639a6d": {
      "model_module": "@jupyter-widgets/base",
      "model_module_version": "2.0.0",
      "model_name": "LayoutModel",
      "state": {}
     },
     "dffb0a49786d49c792ae815b745c0e01": {
      "model_module": "@jupyter-widgets/controls",
      "model_module_version": "2.0.0",
      "model_name": "HBoxModel",
      "state": {
       "layout": "IPY_MODEL_3235df7a5e9d4f719c8c32bdf75b4342"
      }
     },
     "e02cf1793ddd431c95340d4a1bb9fb86": {
      "model_module": "@jupyter-widgets/base",
      "model_module_version": "2.0.0",
      "model_name": "LayoutModel",
      "state": {}
     },
     "e0335ea6de9f4f3a96490c09328fe55a": {
      "model_module": "@jupyter-widgets/controls",
      "model_module_version": "2.0.0",
      "model_name": "DescriptionStyleModel",
      "state": {
       "description_width": ""
      }
     },
     "e0618c5c72d0457bb3870d528890ea9d": {
      "model_module": "@jupyter-widgets/controls",
      "model_module_version": "2.0.0",
      "model_name": "CheckboxStyleModel",
      "state": {
       "description_width": ""
      }
     },
     "e06cf3ee4db444d48494af525d4832d9": {
      "model_module": "@jupyter-widgets/base",
      "model_module_version": "2.0.0",
      "model_name": "LayoutModel",
      "state": {}
     },
     "e0a456d6d7524aa1a1746c665d99b428": {
      "model_module": "@jupyter-widgets/controls",
      "model_module_version": "2.0.0",
      "model_name": "CheckboxModel",
      "state": {
       "disabled": true,
       "indent": false,
       "layout": "IPY_MODEL_c01c9621471c45288f357d30a14f3848",
       "style": "IPY_MODEL_7560ba18d1534fa08268cad08d7c57ba",
       "value": false
      }
     },
     "e0c89103c0504cc3a6fb37258f304663": {
      "model_module": "@jupyter-widgets/controls",
      "model_module_version": "2.0.0",
      "model_name": "CheckboxStyleModel",
      "state": {
       "description_width": ""
      }
     },
     "e0d5e275f5c346c88d193e7bc0925529": {
      "model_module": "@jupyter-widgets/controls",
      "model_module_version": "2.0.0",
      "model_name": "LabelStyleModel",
      "state": {
       "description_width": "",
       "font_family": null,
       "font_size": null,
       "font_style": null,
       "font_variant": null,
       "font_weight": null,
       "text_color": null,
       "text_decoration": null
      }
     },
     "e155183a5b104cf69cd5d6b8af7ec3d4": {
      "model_module": "@jupyter-widgets/controls",
      "model_module_version": "2.0.0",
      "model_name": "FloatTextModel",
      "state": {
       "layout": "IPY_MODEL_f87e0b174fa84286a0d061db0b123cae",
       "step": null,
       "style": "IPY_MODEL_d2eabdba7ebd4c6eb53eb63dbf161aa4"
      }
     },
     "e17eaca1675a474a8cefb93b6c565905": {
      "model_module": "@jupyter-widgets/controls",
      "model_module_version": "2.0.0",
      "model_name": "BoundedIntTextModel",
      "state": {
       "description": "Header:",
       "disabled": true,
       "layout": "IPY_MODEL_6a563be6e0b4447183214c8ddcf4ffea",
       "max": 1000,
       "min": -1,
       "style": "IPY_MODEL_6f4f66afe0ab486bb27c4eb6f1b455c6"
      }
     },
     "e188c8a64c2840abb6dcdaba00c36ba8": {
      "model_module": "@jupyter-widgets/controls",
      "model_module_version": "2.0.0",
      "model_name": "FloatTextModel",
      "state": {
       "layout": "IPY_MODEL_3dd4e903581a4a549273c5fcbc5f9b51",
       "step": null,
       "style": "IPY_MODEL_8b2e0cdec64743b1bdcc3cb33a92087c"
      }
     },
     "e1912e6a5072428e9b50d1dd67f4c26b": {
      "model_module": "@jupyter-widgets/base",
      "model_module_version": "2.0.0",
      "model_name": "LayoutModel",
      "state": {}
     },
     "e1cf8e7e24cd449da20eaaeeb5b4540d": {
      "model_module": "@jupyter-widgets/controls",
      "model_module_version": "2.0.0",
      "model_name": "HTMLModel",
      "state": {
       "layout": "IPY_MODEL_c68c6ad7c9da4710a5476937a0fa3d70",
       "style": "IPY_MODEL_7202539a047d4274bb0a2e46feaa74fe",
       "value": "<div>\n<style scoped>\n    .dataframe tbody tr th:only-of-type {\n        vertical-align: middle;\n    }\n\n    .dataframe tbody tr th {\n        vertical-align: top;\n    }\n\n    .dataframe thead th {\n        text-align: right;\n    }\n</style>\n<table border=\"1\" class=\"dataframe\">\n  <thead>\n    <tr style=\"text-align: right;\">\n      <th></th>\n      <th>LocationID</th>\n      <th>Borough</th>\n      <th>Zone</th>\n      <th>service_zone</th>\n    </tr>\n  </thead>\n  <tbody>\n    <tr>\n      <th>0</th>\n      <td>1</td>\n      <td>EWR</td>\n      <td>Newark Airport</td>\n      <td>EWR</td>\n    </tr>\n    <tr>\n      <th>1</th>\n      <td>2</td>\n      <td>Queens</td>\n      <td>Jamaica Bay</td>\n      <td>Boro Zone</td>\n    </tr>\n    <tr>\n      <th>2</th>\n      <td>3</td>\n      <td>Bronx</td>\n      <td>Allerton/Pelham Gardens</td>\n      <td>Boro Zone</td>\n    </tr>\n    <tr>\n      <th>3</th>\n      <td>4</td>\n      <td>Manhattan</td>\n      <td>Alphabet City</td>\n      <td>Yellow Zone</td>\n    </tr>\n    <tr>\n      <th>4</th>\n      <td>5</td>\n      <td>Staten Island</td>\n      <td>Arden Heights</td>\n      <td>Boro Zone</td>\n    </tr>\n    <tr>\n      <th>5</th>\n      <td>6</td>\n      <td>Staten Island</td>\n      <td>Arrochar/Fort Wadsworth</td>\n      <td>Boro Zone</td>\n    </tr>\n    <tr>\n      <th>6</th>\n      <td>7</td>\n      <td>Queens</td>\n      <td>Astoria</td>\n      <td>Boro Zone</td>\n    </tr>\n    <tr>\n      <th>7</th>\n      <td>8</td>\n      <td>Queens</td>\n      <td>Astoria Park</td>\n      <td>Boro Zone</td>\n    </tr>\n    <tr>\n      <th>8</th>\n      <td>9</td>\n      <td>Queens</td>\n      <td>Auburndale</td>\n      <td>Boro Zone</td>\n    </tr>\n    <tr>\n      <th>9</th>\n      <td>10</td>\n      <td>Queens</td>\n      <td>Baisley Park</td>\n      <td>Boro Zone</td>\n    </tr>\n    <tr>\n      <th>10</th>\n      <td>11</td>\n      <td>Brooklyn</td>\n      <td>Bath Beach</td>\n      <td>Boro Zone</td>\n    </tr>\n    <tr>\n      <th>11</th>\n      <td>12</td>\n      <td>Manhattan</td>\n      <td>Battery Park</td>\n      <td>Yellow Zone</td>\n    </tr>\n    <tr>\n      <th>12</th>\n      <td>13</td>\n      <td>Manhattan</td>\n      <td>Battery Park City</td>\n      <td>Yellow Zone</td>\n    </tr>\n    <tr>\n      <th>13</th>\n      <td>14</td>\n      <td>Brooklyn</td>\n      <td>Bay Ridge</td>\n      <td>Boro Zone</td>\n    </tr>\n    <tr>\n      <th>14</th>\n      <td>15</td>\n      <td>Queens</td>\n      <td>Bay Terrace/Fort Totten</td>\n      <td>Boro Zone</td>\n    </tr>\n    <tr>\n      <th>15</th>\n      <td>16</td>\n      <td>Queens</td>\n      <td>Bayside</td>\n      <td>Boro Zone</td>\n    </tr>\n    <tr>\n      <th>16</th>\n      <td>17</td>\n      <td>Brooklyn</td>\n      <td>Bedford</td>\n      <td>Boro Zone</td>\n    </tr>\n    <tr>\n      <th>17</th>\n      <td>18</td>\n      <td>Bronx</td>\n      <td>Bedford Park</td>\n      <td>Boro Zone</td>\n    </tr>\n    <tr>\n      <th>18</th>\n      <td>19</td>\n      <td>Queens</td>\n      <td>Bellerose</td>\n      <td>Boro Zone</td>\n    </tr>\n    <tr>\n      <th>19</th>\n      <td>20</td>\n      <td>Bronx</td>\n      <td>Belmont</td>\n      <td>Boro Zone</td>\n    </tr>\n    <tr>\n      <th>20</th>\n      <td>21</td>\n      <td>Brooklyn</td>\n      <td>Bensonhurst East</td>\n      <td>Boro Zone</td>\n    </tr>\n    <tr>\n      <th>21</th>\n      <td>22</td>\n      <td>Brooklyn</td>\n      <td>Bensonhurst West</td>\n      <td>Boro Zone</td>\n    </tr>\n    <tr>\n      <th>22</th>\n      <td>23</td>\n      <td>Staten Island</td>\n      <td>Bloomfield/Emerson Hill</td>\n      <td>Boro Zone</td>\n    </tr>\n    <tr>\n      <th>23</th>\n      <td>24</td>\n      <td>Manhattan</td>\n      <td>Bloomingdale</td>\n      <td>Yellow Zone</td>\n    </tr>\n    <tr>\n      <th>24</th>\n      <td>25</td>\n      <td>Brooklyn</td>\n      <td>Boerum Hill</td>\n      <td>Boro Zone</td>\n    </tr>\n    <tr>\n      <th>25</th>\n      <td>26</td>\n      <td>Brooklyn</td>\n      <td>Borough Park</td>\n      <td>Boro Zone</td>\n    </tr>\n    <tr>\n      <th>26</th>\n      <td>27</td>\n      <td>Queens</td>\n      <td>Breezy Point/Fort Tilden/Riis Beach</td>\n      <td>Boro Zone</td>\n    </tr>\n    <tr>\n      <th>27</th>\n      <td>28</td>\n      <td>Queens</td>\n      <td>Briarwood/Jamaica Hills</td>\n      <td>Boro Zone</td>\n    </tr>\n    <tr>\n      <th>28</th>\n      <td>29</td>\n      <td>Brooklyn</td>\n      <td>Brighton Beach</td>\n      <td>Boro Zone</td>\n    </tr>\n    <tr>\n      <th>29</th>\n      <td>30</td>\n      <td>Queens</td>\n      <td>Broad Channel</td>\n      <td>Boro Zone</td>\n    </tr>\n    <tr>\n      <th>30</th>\n      <td>31</td>\n      <td>Bronx</td>\n      <td>Bronx Park</td>\n      <td>Boro Zone</td>\n    </tr>\n    <tr>\n      <th>31</th>\n      <td>32</td>\n      <td>Bronx</td>\n      <td>Bronxdale</td>\n      <td>Boro Zone</td>\n    </tr>\n    <tr>\n      <th>32</th>\n      <td>33</td>\n      <td>Brooklyn</td>\n      <td>Brooklyn Heights</td>\n      <td>Boro Zone</td>\n    </tr>\n    <tr>\n      <th>33</th>\n      <td>34</td>\n      <td>Brooklyn</td>\n      <td>Brooklyn Navy Yard</td>\n      <td>Boro Zone</td>\n    </tr>\n    <tr>\n      <th>34</th>\n      <td>35</td>\n      <td>Brooklyn</td>\n      <td>Brownsville</td>\n      <td>Boro Zone</td>\n    </tr>\n    <tr>\n      <th>35</th>\n      <td>36</td>\n      <td>Brooklyn</td>\n      <td>Bushwick North</td>\n      <td>Boro Zone</td>\n    </tr>\n    <tr>\n      <th>36</th>\n      <td>37</td>\n      <td>Brooklyn</td>\n      <td>Bushwick South</td>\n      <td>Boro Zone</td>\n    </tr>\n    <tr>\n      <th>37</th>\n      <td>38</td>\n      <td>Queens</td>\n      <td>Cambria Heights</td>\n      <td>Boro Zone</td>\n    </tr>\n    <tr>\n      <th>38</th>\n      <td>39</td>\n      <td>Brooklyn</td>\n      <td>Canarsie</td>\n      <td>Boro Zone</td>\n    </tr>\n    <tr>\n      <th>39</th>\n      <td>40</td>\n      <td>Brooklyn</td>\n      <td>Carroll Gardens</td>\n      <td>Boro Zone</td>\n    </tr>\n    <tr>\n      <th>40</th>\n      <td>41</td>\n      <td>Manhattan</td>\n      <td>Central Harlem</td>\n      <td>Boro Zone</td>\n    </tr>\n    <tr>\n      <th>41</th>\n      <td>42</td>\n      <td>Manhattan</td>\n      <td>Central Harlem North</td>\n      <td>Boro Zone</td>\n    </tr>\n    <tr>\n      <th>42</th>\n      <td>43</td>\n      <td>Manhattan</td>\n      <td>Central Park</td>\n      <td>Yellow Zone</td>\n    </tr>\n    <tr>\n      <th>43</th>\n      <td>44</td>\n      <td>Staten Island</td>\n      <td>Charleston/Tottenville</td>\n      <td>Boro Zone</td>\n    </tr>\n    <tr>\n      <th>44</th>\n      <td>45</td>\n      <td>Manhattan</td>\n      <td>Chinatown</td>\n      <td>Yellow Zone</td>\n    </tr>\n    <tr>\n      <th>45</th>\n      <td>46</td>\n      <td>Bronx</td>\n      <td>City Island</td>\n      <td>Boro Zone</td>\n    </tr>\n    <tr>\n      <th>46</th>\n      <td>47</td>\n      <td>Bronx</td>\n      <td>Claremont/Bathgate</td>\n      <td>Boro Zone</td>\n    </tr>\n    <tr>\n      <th>47</th>\n      <td>48</td>\n      <td>Manhattan</td>\n      <td>Clinton East</td>\n      <td>Yellow Zone</td>\n    </tr>\n    <tr>\n      <th>48</th>\n      <td>49</td>\n      <td>Brooklyn</td>\n      <td>Clinton Hill</td>\n      <td>Boro Zone</td>\n    </tr>\n    <tr>\n      <th>49</th>\n      <td>50</td>\n      <td>Manhattan</td>\n      <td>Clinton West</td>\n      <td>Yellow Zone</td>\n    </tr>\n    <tr>\n      <th>50</th>\n      <td>51</td>\n      <td>Bronx</td>\n      <td>Co-Op City</td>\n      <td>Boro Zone</td>\n    </tr>\n    <tr>\n      <th>51</th>\n      <td>52</td>\n      <td>Brooklyn</td>\n      <td>Cobble Hill</td>\n      <td>Boro Zone</td>\n    </tr>\n    <tr>\n      <th>52</th>\n      <td>53</td>\n      <td>Queens</td>\n      <td>College Point</td>\n      <td>Boro Zone</td>\n    </tr>\n    <tr>\n      <th>53</th>\n      <td>54</td>\n      <td>Brooklyn</td>\n      <td>Columbia Street</td>\n      <td>Boro Zone</td>\n    </tr>\n    <tr>\n      <th>54</th>\n      <td>55</td>\n      <td>Brooklyn</td>\n      <td>Coney Island</td>\n      <td>Boro Zone</td>\n    </tr>\n    <tr>\n      <th>55</th>\n      <td>56</td>\n      <td>Queens</td>\n      <td>Corona</td>\n      <td>Boro Zone</td>\n    </tr>\n    <tr>\n      <th>56</th>\n      <td>57</td>\n      <td>Queens</td>\n      <td>Corona</td>\n      <td>Boro Zone</td>\n    </tr>\n    <tr>\n      <th>57</th>\n      <td>58</td>\n      <td>Bronx</td>\n      <td>Country Club</td>\n      <td>Boro Zone</td>\n    </tr>\n    <tr>\n      <th>58</th>\n      <td>59</td>\n      <td>Bronx</td>\n      <td>Crotona Park</td>\n      <td>Boro Zone</td>\n    </tr>\n    <tr>\n      <th>59</th>\n      <td>60</td>\n      <td>Bronx</td>\n      <td>Crotona Park East</td>\n      <td>Boro Zone</td>\n    </tr>\n    <tr>\n      <th>60</th>\n      <td>61</td>\n      <td>Brooklyn</td>\n      <td>Crown Heights North</td>\n      <td>Boro Zone</td>\n    </tr>\n    <tr>\n      <th>61</th>\n      <td>62</td>\n      <td>Brooklyn</td>\n      <td>Crown Heights South</td>\n      <td>Boro Zone</td>\n    </tr>\n    <tr>\n      <th>62</th>\n      <td>63</td>\n      <td>Brooklyn</td>\n      <td>Cypress Hills</td>\n      <td>Boro Zone</td>\n    </tr>\n    <tr>\n      <th>63</th>\n      <td>64</td>\n      <td>Queens</td>\n      <td>Douglaston</td>\n      <td>Boro Zone</td>\n    </tr>\n    <tr>\n      <th>64</th>\n      <td>65</td>\n      <td>Brooklyn</td>\n      <td>Downtown Brooklyn/MetroTech</td>\n      <td>Boro Zone</td>\n    </tr>\n    <tr>\n      <th>65</th>\n      <td>66</td>\n      <td>Brooklyn</td>\n      <td>DUMBO/Vinegar Hill</td>\n      <td>Boro Zone</td>\n    </tr>\n    <tr>\n      <th>66</th>\n      <td>67</td>\n      <td>Brooklyn</td>\n      <td>Dyker Heights</td>\n      <td>Boro Zone</td>\n    </tr>\n    <tr>\n      <th>67</th>\n      <td>68</td>\n      <td>Manhattan</td>\n      <td>East Chelsea</td>\n      <td>Yellow Zone</td>\n    </tr>\n    <tr>\n      <th>68</th>\n      <td>69</td>\n      <td>Bronx</td>\n      <td>East Concourse/Concourse Village</td>\n      <td>Boro Zone</td>\n    </tr>\n    <tr>\n      <th>69</th>\n      <td>70</td>\n      <td>Queens</td>\n      <td>East Elmhurst</td>\n      <td>Boro Zone</td>\n    </tr>\n    <tr>\n      <th>70</th>\n      <td>71</td>\n      <td>Brooklyn</td>\n      <td>East Flatbush/Farragut</td>\n      <td>Boro Zone</td>\n    </tr>\n    <tr>\n      <th>71</th>\n      <td>72</td>\n      <td>Brooklyn</td>\n      <td>East Flatbush/Remsen Village</td>\n      <td>Boro Zone</td>\n    </tr>\n    <tr>\n      <th>72</th>\n      <td>73</td>\n      <td>Queens</td>\n      <td>East Flushing</td>\n      <td>Boro Zone</td>\n    </tr>\n    <tr>\n      <th>73</th>\n      <td>74</td>\n      <td>Manhattan</td>\n      <td>East Harlem North</td>\n      <td>Boro Zone</td>\n    </tr>\n    <tr>\n      <th>74</th>\n      <td>75</td>\n      <td>Manhattan</td>\n      <td>East Harlem South</td>\n      <td>Boro Zone</td>\n    </tr>\n    <tr>\n      <th>75</th>\n      <td>76</td>\n      <td>Brooklyn</td>\n      <td>East New York</td>\n      <td>Boro Zone</td>\n    </tr>\n    <tr>\n      <th>76</th>\n      <td>77</td>\n      <td>Brooklyn</td>\n      <td>East New York/Pennsylvania Avenue</td>\n      <td>Boro Zone</td>\n    </tr>\n    <tr>\n      <th>77</th>\n      <td>78</td>\n      <td>Bronx</td>\n      <td>East Tremont</td>\n      <td>Boro Zone</td>\n    </tr>\n    <tr>\n      <th>78</th>\n      <td>79</td>\n      <td>Manhattan</td>\n      <td>East Village</td>\n      <td>Yellow Zone</td>\n    </tr>\n    <tr>\n      <th>79</th>\n      <td>80</td>\n      <td>Brooklyn</td>\n      <td>East Williamsburg</td>\n      <td>Boro Zone</td>\n    </tr>\n    <tr>\n      <th>80</th>\n      <td>81</td>\n      <td>Bronx</td>\n      <td>Eastchester</td>\n      <td>Boro Zone</td>\n    </tr>\n    <tr>\n      <th>81</th>\n      <td>82</td>\n      <td>Queens</td>\n      <td>Elmhurst</td>\n      <td>Boro Zone</td>\n    </tr>\n    <tr>\n      <th>82</th>\n      <td>83</td>\n      <td>Queens</td>\n      <td>Elmhurst/Maspeth</td>\n      <td>Boro Zone</td>\n    </tr>\n    <tr>\n      <th>83</th>\n      <td>84</td>\n      <td>Staten Island</td>\n      <td>Eltingville/Annadale/Prince's Bay</td>\n      <td>Boro Zone</td>\n    </tr>\n    <tr>\n      <th>84</th>\n      <td>85</td>\n      <td>Brooklyn</td>\n      <td>Erasmus</td>\n      <td>Boro Zone</td>\n    </tr>\n    <tr>\n      <th>85</th>\n      <td>86</td>\n      <td>Queens</td>\n      <td>Far Rockaway</td>\n      <td>Boro Zone</td>\n    </tr>\n    <tr>\n      <th>86</th>\n      <td>87</td>\n      <td>Manhattan</td>\n      <td>Financial District North</td>\n      <td>Yellow Zone</td>\n    </tr>\n    <tr>\n      <th>87</th>\n      <td>88</td>\n      <td>Manhattan</td>\n      <td>Financial District South</td>\n      <td>Yellow Zone</td>\n    </tr>\n    <tr>\n      <th>88</th>\n      <td>89</td>\n      <td>Brooklyn</td>\n      <td>Flatbush/Ditmas Park</td>\n      <td>Boro Zone</td>\n    </tr>\n    <tr>\n      <th>89</th>\n      <td>90</td>\n      <td>Manhattan</td>\n      <td>Flatiron</td>\n      <td>Yellow Zone</td>\n    </tr>\n    <tr>\n      <th>90</th>\n      <td>91</td>\n      <td>Brooklyn</td>\n      <td>Flatlands</td>\n      <td>Boro Zone</td>\n    </tr>\n    <tr>\n      <th>91</th>\n      <td>92</td>\n      <td>Queens</td>\n      <td>Flushing</td>\n      <td>Boro Zone</td>\n    </tr>\n    <tr>\n      <th>92</th>\n      <td>93</td>\n      <td>Queens</td>\n      <td>Flushing Meadows-Corona Park</td>\n      <td>Boro Zone</td>\n    </tr>\n    <tr>\n      <th>93</th>\n      <td>94</td>\n      <td>Bronx</td>\n      <td>Fordham South</td>\n      <td>Boro Zone</td>\n    </tr>\n    <tr>\n      <th>94</th>\n      <td>95</td>\n      <td>Queens</td>\n      <td>Forest Hills</td>\n      <td>Boro Zone</td>\n    </tr>\n    <tr>\n      <th>95</th>\n      <td>96</td>\n      <td>Queens</td>\n      <td>Forest Park/Highland Park</td>\n      <td>Boro Zone</td>\n    </tr>\n    <tr>\n      <th>96</th>\n      <td>97</td>\n      <td>Brooklyn</td>\n      <td>Fort Greene</td>\n      <td>Boro Zone</td>\n    </tr>\n    <tr>\n      <th>97</th>\n      <td>98</td>\n      <td>Queens</td>\n      <td>Fresh Meadows</td>\n      <td>Boro Zone</td>\n    </tr>\n    <tr>\n      <th>98</th>\n      <td>99</td>\n      <td>Staten Island</td>\n      <td>Freshkills Park</td>\n      <td>Boro Zone</td>\n    </tr>\n  </tbody>\n</table>\n</div>"
      }
     },
     "e1d109c6b59948ac82fb74027dd54ff9": {
      "model_module": "@jupyter-widgets/controls",
      "model_module_version": "2.0.0",
      "model_name": "HTMLStyleModel",
      "state": {
       "description_width": "",
       "font_size": null,
       "text_color": null
      }
     },
     "e20b3506a6a4452682ec4c4a6d2cd471": {
      "model_module": "@jupyter-widgets/controls",
      "model_module_version": "2.0.0",
      "model_name": "CheckboxStyleModel",
      "state": {
       "description_width": ""
      }
     },
     "e215ad583d524434b597c0b90f185fc8": {
      "model_module": "@jupyter-widgets/controls",
      "model_module_version": "2.0.0",
      "model_name": "HTMLModel",
      "state": {
       "layout": "IPY_MODEL_9c110b638c0745d58b8080b0c708ec16",
       "style": "IPY_MODEL_7654e83c182a4f3489d07efe93a03dd7"
      }
     },
     "e26b24ca7f2e42aa9de1d138a45906cd": {
      "model_module": "@jupyter-widgets/base",
      "model_module_version": "2.0.0",
      "model_name": "LayoutModel",
      "state": {
       "max_width": "fit-content"
      }
     },
     "e284a74ce4914c2bae646a835f6bcb16": {
      "model_module": "@jupyter-widgets/controls",
      "model_module_version": "2.0.0",
      "model_name": "CheckboxModel",
      "state": {
       "disabled": true,
       "indent": false,
       "layout": "IPY_MODEL_9911677718bf4f80ab1889dfd7836c3a",
       "style": "IPY_MODEL_f39232f5c7984dbaacc16c550844e44a",
       "value": false
      }
     },
     "e2b4c663ff494516bb99618bb8c8f316": {
      "model_module": "@jupyter-widgets/controls",
      "model_module_version": "2.0.0",
      "model_name": "CheckboxModel",
      "state": {
       "disabled": true,
       "indent": false,
       "layout": "IPY_MODEL_965d169023d042bc981650abfc889260",
       "style": "IPY_MODEL_4c708fd6940b42c2a8a653b47332af21",
       "value": true
      }
     },
     "e305d5444a764f38b9eb5868ba123d50": {
      "model_module": "@jupyter-widgets/controls",
      "model_module_version": "2.0.0",
      "model_name": "DescriptionStyleModel",
      "state": {
       "description_width": ""
      }
     },
     "e3068bfba6ee42b790ab950720552dbe": {
      "model_module": "@jupyter-widgets/controls",
      "model_module_version": "2.0.0",
      "model_name": "CheckboxStyleModel",
      "state": {
       "description_width": ""
      }
     },
     "e337f3e7549741399d89e9bdec2147ad": {
      "model_module": "@jupyter-widgets/controls",
      "model_module_version": "2.0.0",
      "model_name": "CheckboxModel",
      "state": {
       "disabled": true,
       "indent": false,
       "layout": "IPY_MODEL_2da4e3d2c987462a811b7b1e770d8d27",
       "style": "IPY_MODEL_68b11d743dcd4912964f67711c60da55",
       "value": false
      }
     },
     "e34fed51da604d0fb6a7c2c00034142b": {
      "model_module": "@jupyter-widgets/controls",
      "model_module_version": "2.0.0",
      "model_name": "LabelModel",
      "state": {
       "layout": "IPY_MODEL_f0cd8cbc8e5a4aacb3f0bb9726e10033",
       "style": "IPY_MODEL_5e9904ef8f0c433cbc37c5821f0d0a39",
       "value": "No colums are selected"
      }
     },
     "e35f9a8df5ee4224a243abc6f6689c6e": {
      "model_module": "@jupyter-widgets/base",
      "model_module_version": "2.0.0",
      "model_name": "LayoutModel",
      "state": {}
     },
     "e3e3fd35f84b42e7a9054c459ed38317": {
      "model_module": "@jupyter-widgets/controls",
      "model_module_version": "2.0.0",
      "model_name": "CheckboxStyleModel",
      "state": {
       "description_width": ""
      }
     },
     "e3f9f36387e946828a62649d8cc82f2b": {
      "model_module": "@jupyter-widgets/controls",
      "model_module_version": "2.0.0",
      "model_name": "TextModel",
      "state": {
       "continuous_update": false,
       "description": "Name:",
       "disabled": true,
       "layout": "IPY_MODEL_67cdfa1bd2b7480d9457affc51205376",
       "style": "IPY_MODEL_439d55b9242c4af2bd85f560ca0fa7cf",
       "value": "Zone"
      }
     },
     "e40077a8060e4491918e244e945ac784": {
      "model_module": "@jupyter-widgets/base",
      "model_module_version": "2.0.0",
      "model_name": "LayoutModel",
      "state": {}
     },
     "e4138f1d959f4386bc6d62072266f1ee": {
      "model_module": "@jupyter-widgets/base",
      "model_module_version": "2.0.0",
      "model_name": "LayoutModel",
      "state": {}
     },
     "e4322d2a77974d5d817945821a00552e": {
      "model_module": "@jupyter-widgets/controls",
      "model_module_version": "2.0.0",
      "model_name": "CheckboxModel",
      "state": {
       "disabled": true,
       "indent": false,
       "layout": "IPY_MODEL_096eba62741b4adabb93fefe177a05a5",
       "style": "IPY_MODEL_16c3e8d2595e45d982833af5a11ca162",
       "value": false
      }
     },
     "e447e210df99415fb1b613b89feceef2": {
      "model_module": "@jupyter-widgets/controls",
      "model_module_version": "2.0.0",
      "model_name": "HTMLModel",
      "state": {
       "layout": "IPY_MODEL_315f85ccba73437695d8ff8e6867ab11",
       "style": "IPY_MODEL_060eb580458e4b4792097201f212bfd9"
      }
     },
     "e46242cb89204c7c9bcf37b15e3763bc": {
      "model_module": "@jupyter-widgets/base",
      "model_module_version": "2.0.0",
      "model_name": "LayoutModel",
      "state": {}
     },
     "e4b7cf55c0404a83af6f27690da86cdb": {
      "model_module": "@jupyter-widgets/controls",
      "model_module_version": "2.0.0",
      "model_name": "DropdownModel",
      "state": {
       "_options_labels": [
        "object",
        "str",
        "category",
        "datetime",
        "int8",
        "uint8",
        "int16",
        "uint16",
        "int32",
        "int64",
        "uint32",
        "uint64",
        "float32",
        "float64",
        "str"
       ],
       "description": "Retype:",
       "index": 0,
       "layout": "IPY_MODEL_e4138f1d959f4386bc6d62072266f1ee",
       "style": "IPY_MODEL_31b00a3045a849e5befe7e49c041950d"
      }
     },
     "e4fb177e1aa741579f042033784e7745": {
      "model_module": "@jupyter-widgets/controls",
      "model_module_version": "2.0.0",
      "model_name": "DescriptionStyleModel",
      "state": {
       "description_width": ""
      }
     },
     "e500c867acb544bd8634d64a5b6ea6e2": {
      "model_module": "@jupyter-widgets/controls",
      "model_module_version": "2.0.0",
      "model_name": "CheckboxModel",
      "state": {
       "description": "m",
       "disabled": false,
       "indent": false,
       "layout": "IPY_MODEL_472917395f9c40c081970f086a6db72a",
       "style": "IPY_MODEL_bf47f5a39cc24a459c05bc5df14cb906",
       "value": true
      }
     },
     "e55119c7fd324335998323823044e147": {
      "model_module": "@jupyter-widgets/base",
      "model_module_version": "2.0.0",
      "model_name": "LayoutModel",
      "state": {}
     },
     "e5528539fc524f169ccd9205cf77bf92": {
      "model_module": "@jupyter-widgets/controls",
      "model_module_version": "2.0.0",
      "model_name": "DescriptionStyleModel",
      "state": {
       "description_width": ""
      }
     },
     "e5673ef49ce6454297f2fea76ed0fe37": {
      "model_module": "@jupyter-widgets/controls",
      "model_module_version": "2.0.0",
      "model_name": "TextModel",
      "state": {
       "disabled": true,
       "layout": "IPY_MODEL_44d78c2951b6483d8b63e8413a4059b9",
       "style": "IPY_MODEL_223703c241da43e5900f35d1e6dcf866",
       "value": ","
      }
     },
     "e5832603132c4d628b29ed0a44d81bf4": {
      "model_module": "@jupyter-widgets/controls",
      "model_module_version": "2.0.0",
      "model_name": "CheckboxModel",
      "state": {
       "description": "Use",
       "disabled": false,
       "layout": "IPY_MODEL_ded1b8f1c7df4e70a6d91f88a64a10ff",
       "style": "IPY_MODEL_19397552a93d487ea828e47b0ca7c4a0",
       "value": true
      }
     },
     "e59be54cf0f94618b50e8f3f062bd7f4": {
      "model_module": "@jupyter-widgets/base",
      "model_module_version": "2.0.0",
      "model_name": "LayoutModel",
      "state": {}
     },
     "e5b8ae88f3dd4971be4417c5c9d030fa": {
      "model_module": "@jupyter-widgets/controls",
      "model_module_version": "2.0.0",
      "model_name": "ButtonModel",
      "state": {
       "description": "Activate",
       "disabled": true,
       "icon": "check",
       "layout": "IPY_MODEL_34169af0f46241bf83e30eac98dbd4e3",
       "style": "IPY_MODEL_63c034cf305144af85c54e7c9b29c456",
       "tooltip": "Activate"
      }
     },
     "e5bbb31047ba4a4fa4a77ed70fbdccc6": {
      "model_module": "@jupyter-widgets/controls",
      "model_module_version": "2.0.0",
      "model_name": "TextModel",
      "state": {
       "description": "Rename:",
       "disabled": true,
       "layout": "IPY_MODEL_343cc7f998814780b33ccfe2254d62fa",
       "style": "IPY_MODEL_73697ab05b3c47e5a0f45992a610b498",
       "value": "Borough"
      }
     },
     "e5cf037919f144a5bb902aaef2477212": {
      "model_module": "@jupyter-widgets/base",
      "model_module_version": "2.0.0",
      "model_name": "LayoutModel",
      "state": {}
     },
     "e5d7de9f4cab4dd1aefc1b7e974d6d8e": {
      "model_module": "@jupyter-widgets/controls",
      "model_module_version": "2.0.0",
      "model_name": "VBoxModel",
      "state": {
       "children": [
        "IPY_MODEL_ccd9d8d447e64e1a9d1e05c989092a57",
        "IPY_MODEL_44b3ebf0e0274ecca66bf1c60b916a31"
       ],
       "layout": "IPY_MODEL_8840ed700ec54f8b81b049cec63f9132"
      }
     },
     "e60dd716960246408b850d37c7ceb5df": {
      "model_module": "@jupyter-widgets/controls",
      "model_module_version": "2.0.0",
      "model_name": "HBoxModel",
      "state": {
       "children": [
        "IPY_MODEL_eeda7cd3f1ab42fd9595e01ab2c48e1b",
        "IPY_MODEL_eadcd088b0ae4c4180ef3417434a3ca6"
       ],
       "layout": "IPY_MODEL_31a35fb130744258ada9f21614e0d0d2"
      }
     },
     "e6670ecdf0de40bc88ddccb165b93568": {
      "model_module": "@jupyter-widgets/controls",
      "model_module_version": "2.0.0",
      "model_name": "CheckboxStyleModel",
      "state": {
       "description_width": ""
      }
     },
     "e67ac06a436b4101b5a4bb795704dec6": {
      "model_module": "@jupyter-widgets/controls",
      "model_module_version": "2.0.0",
      "model_name": "CheckboxModel",
      "state": {
       "disabled": true,
       "indent": false,
       "layout": "IPY_MODEL_60707d6be6ff44d7b4cfc5345a7735af",
       "style": "IPY_MODEL_39fd39aa864646af9cde5c3a99c60dd9",
       "value": false
      }
     },
     "e682aeef03ce481384ef1122946b28b3": {
      "model_module": "@jupyter-widgets/controls",
      "model_module_version": "2.0.0",
      "model_name": "TextModel",
      "state": {
       "description": "Separator:",
       "disabled": true,
       "layout": "IPY_MODEL_5567297341974ba38b1b04181649e9ec",
       "placeholder": "if many values",
       "style": "IPY_MODEL_40d9aa0519914fe5810ac5201956c5a7"
      }
     },
     "e6835c5cb01d43b2868aad873adb988e": {
      "model_module": "@jupyter-widgets/controls",
      "model_module_version": "2.0.0",
      "model_name": "TextModel",
      "state": {
       "layout": "IPY_MODEL_0ac4831524464c3798f2406489a31b16",
       "placeholder": "optional alias",
       "style": "IPY_MODEL_3e76e09c4cc94261b8e88e886a7e138a"
      }
     },
     "e6c4427db26e41b7a00daf2975f66d61": {
      "model_module": "@jupyter-widgets/controls",
      "model_module_version": "2.0.0",
      "model_name": "SliderStyleModel",
      "state": {
       "description_width": "initial"
      }
     },
     "e719efd8cc3546a189757c00c062663a": {
      "model_module": "@jupyter-widgets/base",
      "model_module_version": "2.0.0",
      "model_name": "LayoutModel",
      "state": {}
     },
     "e7229da34eb2472bba32f1efe3342900": {
      "model_module": "@jupyter-widgets/base",
      "model_module_version": "2.0.0",
      "model_name": "LayoutModel",
      "state": {
       "width": "100%"
      }
     },
     "e72ec4eff6ea41ba9ea777158df5899f": {
      "model_module": "@jupyter-widgets/base",
      "model_module_version": "2.0.0",
      "model_name": "LayoutModel",
      "state": {}
     },
     "e7306c0ceab3405fb184f2167251da49": {
      "model_module": "@jupyter-widgets/base",
      "model_module_version": "2.0.0",
      "model_name": "LayoutModel",
      "state": {}
     },
     "e739e862d72e436b8250ff47a9e563a8": {
      "model_module": "@jupyter-widgets/controls",
      "model_module_version": "2.0.0",
      "model_name": "CheckboxStyleModel",
      "state": {
       "description_width": ""
      }
     },
     "e75ba8f590c342f7b896e2afc2811549": {
      "model_module": "@jupyter-widgets/controls",
      "model_module_version": "2.0.0",
      "model_name": "DescriptionStyleModel",
      "state": {
       "description_width": ""
      }
     },
     "e78d06a607e741aa94cac7c9d0f6f7db": {
      "model_module": "@jupyter-widgets/controls",
      "model_module_version": "2.0.0",
      "model_name": "TextModel",
      "state": {
       "description": "Unique vals:",
       "disabled": true,
       "layout": "IPY_MODEL_97146162d33640c0ac92a06cdbf0f694",
       "style": "IPY_MODEL_91697c320c0a44a2986494e01c2097cf",
       "value": "3/99"
      }
     },
     "e79d5ccd7b374614b269f2e104c5123c": {
      "model_module": "@jupyter-widgets/controls",
      "model_module_version": "2.0.0",
      "model_name": "HTMLStyleModel",
      "state": {
       "description_width": "",
       "font_size": null,
       "text_color": null
      }
     },
     "e7b6ba9cb71d457a96011961571b89e4": {
      "model_module": "@jupyter-widgets/controls",
      "model_module_version": "2.0.0",
      "model_name": "HTMLStyleModel",
      "state": {
       "description_width": "",
       "font_size": null,
       "text_color": null
      }
     },
     "e7c943c5bde349588d57382218d6a987": {
      "model_module": "@jupyter-widgets/controls",
      "model_module_version": "2.0.0",
      "model_name": "TextStyleModel",
      "state": {
       "description_width": "",
       "font_size": null,
       "text_color": null
      }
     },
     "e81d2478f40441458816d187ae257142": {
      "model_module": "@jupyter-widgets/base",
      "model_module_version": "2.0.0",
      "model_name": "LayoutModel",
      "state": {}
     },
     "e849b4f7acac4524b83c538452301d8d": {
      "model_module": "@jupyter-widgets/controls",
      "model_module_version": "2.0.0",
      "model_name": "CheckboxStyleModel",
      "state": {
       "description_width": ""
      }
     },
     "e88403af816946289647b53c211d0e0b": {
      "model_module": "@jupyter-widgets/controls",
      "model_module_version": "2.0.0",
      "model_name": "HTMLStyleModel",
      "state": {
       "description_width": "",
       "font_size": null,
       "text_color": null
      }
     },
     "e8f13923b19e432cb374af38f8ec5fbd": {
      "model_module": "@jupyter-widgets/base",
      "model_module_version": "2.0.0",
      "model_name": "LayoutModel",
      "state": {}
     },
     "e957126e796b4a26ac583227f3de83f9": {
      "model_module": "@jupyter-widgets/controls",
      "model_module_version": "2.0.0",
      "model_name": "CheckboxStyleModel",
      "state": {
       "description_width": ""
      }
     },
     "e9d752651c35447d95e0ad882b5f058c": {
      "model_module": "@jupyter-widgets/base",
      "model_module_version": "2.0.0",
      "model_name": "LayoutModel",
      "state": {}
     },
     "e9da5ffd558c440a8ea130938cbff8b2": {
      "model_module": "@jupyter-widgets/controls",
      "model_module_version": "2.0.0",
      "model_name": "HTMLModel",
      "state": {
       "layout": "IPY_MODEL_c0b6c3387d7a4e35830ef5bfe32a67d2",
       "style": "IPY_MODEL_04d00c8fb9864320b60b1bd5b0eede5e"
      }
     },
     "ea1296acd14f45d4a5c412c7e7a6cad5": {
      "model_module": "@jupyter-widgets/controls",
      "model_module_version": "2.0.0",
      "model_name": "DescriptionStyleModel",
      "state": {
       "description_width": ""
      }
     },
     "ea783ed28dbf48bbbd7a663b6770f452": {
      "model_module": "@jupyter-widgets/base",
      "model_module_version": "2.0.0",
      "model_name": "LayoutModel",
      "state": {}
     },
     "eaa1ccc295644762b73a71f723428f40": {
      "model_module": "@jupyter-widgets/base",
      "model_module_version": "2.0.0",
      "model_name": "LayoutModel",
      "state": {}
     },
     "eadc34cb4ba04004a2942746a8d77eec": {
      "model_module": "@jupyter-widgets/controls",
      "model_module_version": "2.0.0",
      "model_name": "TextModel",
      "state": {
       "description": "Unique vals:",
       "disabled": true,
       "layout": "IPY_MODEL_fafec5e4b9004e68a8894ec08919305e",
       "style": "IPY_MODEL_f65a33322a6341479ae6f50fff24b92f",
       "value": "6/99"
      }
     },
     "eadcd088b0ae4c4180ef3417434a3ca6": {
      "model_module": "@jupyter-widgets/controls",
      "model_module_version": "2.0.0",
      "model_name": "ButtonModel",
      "state": {
       "button_style": "danger",
       "description": "Confirm",
       "icon": "check",
       "layout": "IPY_MODEL_d8562904a3b64765b14e0b6e067423da",
       "style": "IPY_MODEL_7c3b3a546bf747eab8bb8fb8d2d4786b",
       "tooltip": "Confirm"
      }
     },
     "eae9a3a0466345dab39e86624ef52684": {
      "model_module": "@jupyter-widgets/controls",
      "model_module_version": "2.0.0",
      "model_name": "HTMLStyleModel",
      "state": {
       "description_width": "",
       "font_size": null,
       "text_color": null
      }
     },
     "eb0253fe22ab471b82722d45f9842217": {
      "model_module": "@jupyter-widgets/controls",
      "model_module_version": "2.0.0",
      "model_name": "TextModel",
      "state": {
       "description": "Separator:",
       "disabled": true,
       "layout": "IPY_MODEL_72a5c1b66eee4aa09d1391e622e07845",
       "placeholder": "if many values",
       "style": "IPY_MODEL_60e7100198ef40fe940aebc854b2043f"
      }
     },
     "eb0b60fa5b1c466298dd2f8310469cda": {
      "model_module": "@jupyter-widgets/controls",
      "model_module_version": "2.0.0",
      "model_name": "CheckboxStyleModel",
      "state": {
       "description_width": ""
      }
     },
     "eb15c22079de456cb690c8c26fd353e0": {
      "model_module": "@jupyter-widgets/controls",
      "model_module_version": "2.0.0",
      "model_name": "CheckboxModel",
      "state": {
       "disabled": true,
       "indent": false,
       "layout": "IPY_MODEL_c18892175b8d4d97845a54ab179546d5",
       "style": "IPY_MODEL_ab5501cf523a4986b69926f864b91321",
       "value": false
      }
     },
     "eb38371bdf2f42afb826d3e279013ba9": {
      "model_module": "@jupyter-widgets/jupyterlab-sidecar",
      "model_module_version": "^1.1",
      "model_name": "SidecarModel",
      "state": {
       "_model_module_version": "^1.1",
       "_view_module_version": "^1.1",
       "_widget_id": "a17f6bc6-b30d-4c3d-88ac-67ab5ff49437",
       "layout": "IPY_MODEL_ebb783c11d44499a946e2f1cb35b2bac",
       "outputs": [
        {
         "data": {
          "application/vnd.jupyter.widget-view+json": {
           "model_id": "9253bf7e7ba3436cba3f3515a5561bde",
           "version_major": 2,
           "version_minor": 0
          },
          "text/plain": "DagWidgetController()"
         },
         "metadata": {},
         "output_type": "display_data"
        }
       ],
       "title": "Widgets Output"
      }
     },
     "eb3cc677709a4f0ba62aa38cb8d85173": {
      "model_module": "@jupyter-widgets/controls",
      "model_module_version": "2.0.0",
      "model_name": "TextModel",
      "state": {
       "description": "Unique vals:",
       "disabled": true,
       "layout": "IPY_MODEL_43d84213c9324e9297c8f4366d79e650",
       "style": "IPY_MODEL_500e4dc905c84f64b77149ebe4b86b89",
       "value": "6/99"
      }
     },
     "eb64ddda041f4b01a1b0e36bee4f44dc": {
      "model_module": "@jupyter-widgets/controls",
      "model_module_version": "2.0.0",
      "model_name": "TextareaModel",
      "state": {
       "layout": "IPY_MODEL_d3c9ab7d9f794fd69aecbd9e36a24d67",
       "rows": 20,
       "style": "IPY_MODEL_edca49052fc9450897e256163bac95a9",
       "value": "  name: extra\n  path: extra\n  max_definition_level: 1\n  max_repetition_level: 0\n  physical_type: DOUBLE\n  logical_type: None\n  converted_type (legacy): NONE\n  file_offset: 151634246\n  file_path: \n  physical_type: DOUBLE\n  num_values: 13157677\n  path_in_schema: extra\n  is_stats_set: True\n  statistics:\n      has_min_max: True\n      min: -36.6\n      max: 652.42\n      null_count: 0\n      distinct_count: None\n      num_values: 13157677\n      physical_type: DOUBLE\n      logical_type: None\n      converted_type (legacy): NONE\n  geo_statistics:\n    None\n  compression: GZIP\n  encodings: ('PLAIN_DICTIONARY', 'PLAIN', 'RLE')\n  has_dictionary_page: True\n  dictionary_page_offset: 151225637\n  data_page_offset: 151225858\n  total_compressed_size: 408609\n  total_uncompressed_size: 1466618"
      }
     },
     "ebb00bae1a2e413dbcb4cafe9fcd71d6": {
      "model_module": "@jupyter-widgets/base",
      "model_module_version": "2.0.0",
      "model_name": "LayoutModel",
      "state": {}
     },
     "ebb783c11d44499a946e2f1cb35b2bac": {
      "model_module": "@jupyter-widgets/base",
      "model_module_version": "2.0.0",
      "model_name": "LayoutModel",
      "state": {}
     },
     "ebe4408c9b6747b0bee2ad31ce709165": {
      "model_module": "@jupyter-widgets/controls",
      "model_module_version": "2.0.0",
      "model_name": "CheckboxStyleModel",
      "state": {
       "description_width": ""
      }
     },
     "ebf0f8a445234049a0ee1769d0ef9b04": {
      "model_module": "@jupyter-widgets/base",
      "model_module_version": "2.0.0",
      "model_name": "LayoutModel",
      "state": {}
     },
     "ec1a0b0230f14bc98c120579dbffd608": {
      "model_module": "@jupyter-widgets/controls",
      "model_module_version": "2.0.0",
      "model_name": "IntTextModel",
      "state": {
       "description": "Stop after:",
       "disabled": true,
       "layout": "IPY_MODEL_ed4dffdf2c744213b1bb2762fe94f0d6",
       "step": 1,
       "style": "IPY_MODEL_e4fb177e1aa741579f042033784e7745"
      }
     },
     "ec2373fe51044ae48a3fb55a48b79c96": {
      "model_module": "@jupyter-widgets/base",
      "model_module_version": "2.0.0",
      "model_name": "LayoutModel",
      "state": {}
     },
     "ec2c1a4bde0340caa9075c81dc2a0a88": {
      "model_module": "@jupyter-widgets/controls",
      "model_module_version": "2.0.0",
      "model_name": "GridBoxModel",
      "state": {
       "children": [
        "IPY_MODEL_1035d9f88a864e34b8e84247f799194e",
        "IPY_MODEL_5d07a290c0ef430693cab559d097781b",
        "IPY_MODEL_56bd2f69aa954c20869e46510a5d0c20",
        "IPY_MODEL_6a716401bd424a58afc1293d082a561b",
        "IPY_MODEL_911816ca9b1247dea09756cb597a3a54",
        "IPY_MODEL_4143702f47e9424a860a886eccca0221",
        "IPY_MODEL_24ccd321855b4c59b59b72936b0dc602",
        "IPY_MODEL_f8016f82dc15446e8bb45aa7507af7cb",
        "IPY_MODEL_79032226095b48caae908d5fec2d486d",
        "IPY_MODEL_499e299f65d34e3c85d9d4eb25d16495",
        "IPY_MODEL_566629fd93234584aeb380f2b95bb238",
        "IPY_MODEL_deac9c0f69064e40808ccfa0e5d041ea"
       ],
       "layout": "IPY_MODEL_95acb686d1cb472281d31a2446331501"
      }
     },
     "ec31b5eaf9914f979ff230adc3950dd2": {
      "model_module": "@jupyter-widgets/controls",
      "model_module_version": "2.0.0",
      "model_name": "HTMLModel",
      "state": {
       "layout": "IPY_MODEL_4901df461ddc44088579d5b2788ead28",
       "style": "IPY_MODEL_21d4dfad612d48a483761213d9dd6064"
      }
     },
     "ec3dee1488e940a1bac754a986d81103": {
      "model_module": "@jupyter-widgets/base",
      "model_module_version": "2.0.0",
      "model_name": "LayoutModel",
      "state": {}
     },
     "ec663e129e364d5ea2f3b8896f55a9e7": {
      "model_module": "@jupyter-widgets/controls",
      "model_module_version": "2.0.0",
      "model_name": "LabelStyleModel",
      "state": {
       "description_width": "",
       "font_family": null,
       "font_size": null,
       "font_style": null,
       "font_variant": null,
       "font_weight": null,
       "text_color": null,
       "text_decoration": null
      }
     },
     "ecc024eda9c244128f545bd67f2302ec": {
      "model_module": "@jupyter-widgets/controls",
      "model_module_version": "2.0.0",
      "model_name": "HBoxModel",
      "state": {
       "children": [
        "IPY_MODEL_f9dcad1683a14b8eb3836ae25139e2db",
        "IPY_MODEL_43a0c3290d34444e96661ab259fe9b8d"
       ],
       "layout": "IPY_MODEL_2cb4a70aca9641cb955dbc9828ff10da"
      }
     },
     "ecc63fbccdbf44be9c8c6aa71766717a": {
      "model_module": "@jupyter-widgets/controls",
      "model_module_version": "2.0.0",
      "model_name": "CheckboxModel",
      "state": {
       "disabled": true,
       "indent": false,
       "layout": "IPY_MODEL_196e0c5b5f3a4804af346004856471d5",
       "style": "IPY_MODEL_b5e3a5e4666c4fa5ae7bffaeadca7682",
       "value": false
      }
     },
     "ecda74583d0342cfba9dec01f37ae4de": {
      "model_module": "@jupyter-widgets/controls",
      "model_module_version": "2.0.0",
      "model_name": "DropdownModel",
      "state": {
       "_options_labels": [
        "",
        "Aggregate",
        "Any Vega",
        "Computed view",
        "Corr",
        "Descriptive_statistics",
        "Dump_table",
        "Facade",
        "Group by",
        "Heatmap",
        "Histogram1D",
        "Join",
        "KNN Density",
        "MBKMeans",
        "MCDensityMap",
        "MultiSeries",
        "Quantiles",
        "RangeQuery2D",
        "Scaler",
        "Scatterplot",
        "Snippet",
        "T-SNE 2D",
        "CSV loader",
        "PARQUET loader",
        "CUSTOM loader"
       ],
       "description": "Next stage",
       "index": 0,
       "layout": "IPY_MODEL_72c5e983c3aa4d1883b2086b914ebbaf",
       "style": "IPY_MODEL_021e0280d9514950b27580b899ec3909"
      }
     },
     "ecfbbb6e172140f7b3c03dd0113420ba": {
      "model_module": "@jupyter-widgets/controls",
      "model_module_version": "2.0.0",
      "model_name": "LabelStyleModel",
      "state": {
       "description_width": "",
       "font_family": null,
       "font_size": null,
       "font_style": null,
       "font_variant": null,
       "font_weight": null,
       "text_color": null,
       "text_decoration": null
      }
     },
     "ecfe64d45ec44913babed590945c4b6e": {
      "model_module": "@jupyter-widgets/controls",
      "model_module_version": "2.0.0",
      "model_name": "CheckboxStyleModel",
      "state": {
       "description_width": ""
      }
     },
     "ed4dffdf2c744213b1bb2762fe94f0d6": {
      "model_module": "@jupyter-widgets/base",
      "model_module_version": "2.0.0",
      "model_name": "LayoutModel",
      "state": {}
     },
     "ed50c6bad3a74dfe8901fb45ce74e1f3": {
      "model_module": "@jupyter-widgets/controls",
      "model_module_version": "2.0.0",
      "model_name": "HTMLModel",
      "state": {
       "layout": "IPY_MODEL_e719efd8cc3546a189757c00c062663a",
       "style": "IPY_MODEL_ede5d329b0b4487481f9c4a6c29e0bf1"
      }
     },
     "ed70a3ff878b40b99b3f1337d064c9d8": {
      "model_module": "@jupyter-widgets/controls",
      "model_module_version": "2.0.0",
      "model_name": "CheckboxModel",
      "state": {
       "disabled": true,
       "indent": false,
       "layout": "IPY_MODEL_3cfb24e03f484d1ca347b11dd97ec048",
       "style": "IPY_MODEL_d781670d49b749e0a84a9325a7d2c9b3",
       "value": false
      }
     },
     "ed80fe5f1dd543f580c9cfa4eb22efc6": {
      "model_module": "@jupyter-widgets/base",
      "model_module_version": "2.0.0",
      "model_name": "LayoutModel",
      "state": {}
     },
     "ed81edc8fd0d41e6add0c8fd2e79f20d": {
      "model_module": "@jupyter-widgets/base",
      "model_module_version": "2.0.0",
      "model_name": "LayoutModel",
      "state": {}
     },
     "ed8f7615a7a847a08291bd285a4789a3": {
      "model_module": "@jupyter-widgets/base",
      "model_module_version": "2.0.0",
      "model_name": "LayoutModel",
      "state": {}
     },
     "edca49052fc9450897e256163bac95a9": {
      "model_module": "@jupyter-widgets/controls",
      "model_module_version": "2.0.0",
      "model_name": "TextStyleModel",
      "state": {
       "description_width": "",
       "font_size": null,
       "text_color": null
      }
     },
     "edd83b88bfb34d9694f6534839993d6c": {
      "model_module": "@jupyter-widgets/controls",
      "model_module_version": "2.0.0",
      "model_name": "HTMLStyleModel",
      "state": {
       "description_width": "",
       "font_size": null,
       "text_color": null
      }
     },
     "ede5d329b0b4487481f9c4a6c29e0bf1": {
      "model_module": "@jupyter-widgets/controls",
      "model_module_version": "2.0.0",
      "model_name": "HTMLStyleModel",
      "state": {
       "description_width": "",
       "font_size": null,
       "text_color": null
      }
     },
     "edff2b6a4b8d4c6194e20e69abbd5634": {
      "model_module": "@jupyter-widgets/controls",
      "model_module_version": "2.0.0",
      "model_name": "DescriptionStyleModel",
      "state": {
       "description_width": ""
      }
     },
     "ee0711332c1243d8a05548fefb6cc06b": {
      "model_module": "@jupyter-widgets/controls",
      "model_module_version": "2.0.0",
      "model_name": "VBoxModel",
      "state": {
       "children": [
        "IPY_MODEL_bbdf8d44409240c09629f41de0e9fed2",
        "IPY_MODEL_6ce2627724d842389368259648cb9fe1"
       ],
       "layout": "IPY_MODEL_fd2c523e30374f47953fd228400969ba"
      }
     },
     "ee0aeab80fdc4fa89d54c1c554dce239": {
      "model_module": "@jupyter-widgets/controls",
      "model_module_version": "2.0.0",
      "model_name": "ButtonStyleModel",
      "state": {
       "font_family": null,
       "font_size": null,
       "font_style": null,
       "font_variant": null,
       "font_weight": null,
       "text_color": null,
       "text_decoration": null
      }
     },
     "ee0c212d054741aaa1d36ebe762ebc94": {
      "model_module": "@jupyter-widgets/controls",
      "model_module_version": "2.0.0",
      "model_name": "ButtonStyleModel",
      "state": {
       "font_family": null,
       "font_size": null,
       "font_style": null,
       "font_variant": null,
       "font_weight": null,
       "text_color": null,
       "text_decoration": null
      }
     },
     "ee3612c018ea4d87b2b755301f6af928": {
      "model_module": "@jupyter-widgets/controls",
      "model_module_version": "2.0.0",
      "model_name": "TextareaModel",
      "state": {
       "layout": "IPY_MODEL_09c60fb555e6423786469eab9505ea69",
       "rows": 20,
       "style": "IPY_MODEL_5bc344370dc54c468132bb1bdf230f2e",
       "value": "  name: tpep_pickup_datetime\n  path: tpep_pickup_datetime\n  max_definition_level: 1\n  max_repetition_level: 0\n  physical_type: INT64\n  logical_type: Timestamp(isAdjustedToUTC=false, timeUnit=microseconds, is_from_converted_type=false, force_set_converted_type=false)\n  converted_type (legacy): NONE\n  file_offset: 44216246\n  file_path: \n  physical_type: INT64\n  num_values: 13157677\n  path_in_schema: tpep_pickup_datetime\n  is_stats_set: True\n  statistics:\n      has_min_max: True\n      min: 2015-05-01 00:00:00\n      max: 2015-05-31 23:59:59\n      null_count: 0\n      distinct_count: None\n      num_values: 13157677\n      physical_type: INT64\n      logical_type: Timestamp(isAdjustedToUTC=false, timeUnit=microseconds, is_from_converted_type=false, force_set_converted_type=false)\n      converted_type (legacy): NONE\n  geo_statistics:\n    None\n  compression: GZIP\n  encodings: ('PLAIN_DICTIONARY', 'PLAIN', 'RLE', 'PLAIN')\n  has_dictionary_page: True\n  dictionary_page_offset: 1545701\n  data_page_offset: 2117535\n  total_compressed_size: 42670545\n  total_uncompressed_size: 102283979"
      }
     },
     "ee5135b6dd0d4643924516048a69686f": {
      "model_module": "@jupyter-widgets/base",
      "model_module_version": "2.0.0",
      "model_name": "LayoutModel",
      "state": {}
     },
     "ee68ac9748624d068a71f93a4e62beec": {
      "model_module": "@jupyter-widgets/controls",
      "model_module_version": "2.0.0",
      "model_name": "CheckboxModel",
      "state": {
       "description": "Filtering",
       "disabled": false,
       "layout": "IPY_MODEL_c481a307ea034ed488d09e14b08df817",
       "style": "IPY_MODEL_e3068bfba6ee42b790ab950720552dbe",
       "value": false
      }
     },
     "ee699b6168ff44eba702457f5bfa638a": {
      "model_module": "@jupyter-widgets/controls",
      "model_module_version": "2.0.0",
      "model_name": "CheckboxStyleModel",
      "state": {
       "description_width": ""
      }
     },
     "eeb8e4174211468da8ebc8cf785b58a6": {
      "model_module": "@jupyter-widgets/controls",
      "model_module_version": "2.0.0",
      "model_name": "TextModel",
      "state": {
       "continuous_update": false,
       "description": "Name:",
       "disabled": true,
       "layout": "IPY_MODEL_68d8ea4e812546bcb5ee9ddca4f22680",
       "style": "IPY_MODEL_b325ade023fe4548abc01ecd13d4a104",
       "value": "service_zone"
      }
     },
     "eebb3604078d44548ef88f1bb0face08": {
      "model_module": "@jupyter-widgets/base",
      "model_module_version": "2.0.0",
      "model_name": "LayoutModel",
      "state": {}
     },
     "eecdf6a11c7b4ee2a018401182912c7f": {
      "model_module": "@jupyter-widgets/controls",
      "model_module_version": "2.0.0",
      "model_name": "ButtonStyleModel",
      "state": {
       "font_family": null,
       "font_size": null,
       "font_style": null,
       "font_variant": null,
       "font_weight": null,
       "text_color": null,
       "text_decoration": null
      }
     },
     "eeda7cd3f1ab42fd9595e01ab2c48e1b": {
      "model_module": "@jupyter-widgets/controls",
      "model_module_version": "2.0.0",
      "model_name": "ButtonModel",
      "state": {
       "description": "Cancel",
       "icon": "check",
       "layout": "IPY_MODEL_2fe11ea9b5c3486b89e9def22b8b26af",
       "style": "IPY_MODEL_6a541d56ac284f09b095c2380f38d095",
       "tooltip": "Cancel"
      }
     },
     "ef160d99c06b43d5a21df5f77feee79f": {
      "model_module": "@jupyter-widgets/controls",
      "model_module_version": "2.0.0",
      "model_name": "HBoxModel",
      "state": {
       "children": [
        "IPY_MODEL_a9bbb3596e434760a93d327e3d18bdf8",
        "IPY_MODEL_55ed07b2a21743d38c9f787921660784",
        "IPY_MODEL_4733d83d61764536b867bddd3d9650a0"
       ],
       "layout": "IPY_MODEL_39181a07f295416e840aa4e46b9a19b4"
      }
     },
     "ef4517ba92014c27b8813667bbcf38de": {
      "model_module": "@jupyter-widgets/base",
      "model_module_version": "2.0.0",
      "model_name": "LayoutModel",
      "state": {}
     },
     "ef54a585848a451a94c058956e4fd59b": {
      "model_module": "@jupyter-widgets/base",
      "model_module_version": "2.0.0",
      "model_name": "LayoutModel",
      "state": {}
     },
     "ef85980a9a8e4d34a066b160fc6d2da2": {
      "model_module": "@jupyter-widgets/controls",
      "model_module_version": "2.0.0",
      "model_name": "CheckboxStyleModel",
      "state": {
       "description_width": ""
      }
     },
     "efb9ca57afe44ded8c98b9799e52ac65": {
      "model_module": "@jupyter-widgets/controls",
      "model_module_version": "2.0.0",
      "model_name": "CheckboxModel",
      "state": {
       "disabled": true,
       "indent": false,
       "layout": "IPY_MODEL_917d5b37feea408581ebe079e0eac32a",
       "style": "IPY_MODEL_21dbd0730da440b59737cd52613caedf",
       "value": false
      }
     },
     "efe4429d07e64db0a56e96b0af6aa365": {
      "model_module": "@jupyter-widgets/base",
      "model_module_version": "2.0.0",
      "model_name": "LayoutModel",
      "state": {}
     },
     "efeb251a250a44b080e798a15d5016e9": {
      "model_module": "@jupyter-widgets/base",
      "model_module_version": "2.0.0",
      "model_name": "LayoutModel",
      "state": {}
     },
     "f0173215e9994de3bd842cfc5399f107": {
      "model_module": "@jupyter-widgets/base",
      "model_module_version": "2.0.0",
      "model_name": "LayoutModel",
      "state": {}
     },
     "f02b1a6fbc0342e8a020aaccdb967fd3": {
      "model_module": "@jupyter-widgets/controls",
      "model_module_version": "2.0.0",
      "model_name": "HTMLStyleModel",
      "state": {
       "description_width": "",
       "font_size": null,
       "text_color": null
      }
     },
     "f02e8d17b9864d51b64655a9e1e48383": {
      "model_module": "@jupyter-widgets/controls",
      "model_module_version": "2.0.0",
      "model_name": "TextModel",
      "state": {
       "description": "Rename:",
       "layout": "IPY_MODEL_f3c9fcc009284b9d80b235014fa2217d",
       "style": "IPY_MODEL_06faa18857954a0ea8d2ed7deea047c2",
       "value": "LocationID"
      }
     },
     "f0329eb52df64d14a3d00c5185a56666": {
      "model_module": "@jupyter-widgets/base",
      "model_module_version": "2.0.0",
      "model_name": "LayoutModel",
      "state": {}
     },
     "f056032385d54b3abb28b7b4e2edea51": {
      "model_module": "@jupyter-widgets/controls",
      "model_module_version": "2.0.0",
      "model_name": "DescriptionStyleModel",
      "state": {
       "description_width": ""
      }
     },
     "f0ad351601b74e9baf3dbf1cca95a0a6": {
      "model_module": "@jupyter-widgets/base",
      "model_module_version": "2.0.0",
      "model_name": "LayoutModel",
      "state": {}
     },
     "f0b81cc04bca49dc8cfea0a230da9fc7": {
      "model_module": "@jupyter-widgets/controls",
      "model_module_version": "2.0.0",
      "model_name": "DropdownModel",
      "state": {
       "_options_labels": [
        "",
        ">",
        "<",
        ">=",
        "<=",
        "==",
        "!="
       ],
       "description": "& ",
       "index": 0,
       "layout": "IPY_MODEL_c53b6320872d49cfaacef086fcf193f6",
       "style": "IPY_MODEL_771d3b4d394246e39e9bc208261b68a9"
      }
     },
     "f0cd8cbc8e5a4aacb3f0bb9726e10033": {
      "model_module": "@jupyter-widgets/base",
      "model_module_version": "2.0.0",
      "model_name": "LayoutModel",
      "state": {}
     },
     "f0ef104398b744ce98f695b89e03fd2b": {
      "model_module": "@jupyter-widgets/base",
      "model_module_version": "2.0.0",
      "model_name": "LayoutModel",
      "state": {}
     },
     "f10bce47e08f43c4884005ddc2b809fa": {
      "model_module": "@jupyter-widgets/controls",
      "model_module_version": "2.0.0",
      "model_name": "TextStyleModel",
      "state": {
       "description_width": "",
       "font_size": null,
       "text_color": null
      }
     },
     "f12d49872db340c0ae8399640a19f0b5": {
      "model_module": "@jupyter-widgets/controls",
      "model_module_version": "2.0.0",
      "model_name": "VBoxModel",
      "state": {
       "children": [
        "IPY_MODEL_7b1d1b45ec754f71af4ff8a18c61f661",
        "IPY_MODEL_1f29cba96d2c467e8916c0cf960478eb",
        "IPY_MODEL_152c07b593914f248f3fffcdfcc83156"
       ],
       "layout": "IPY_MODEL_52aa2f146db24490bc9007fb7fd0e7bc"
      }
     },
     "f13b6063b0994aa290a9081f6d28dd41": {
      "model_module": "@jupyter-widgets/base",
      "model_module_version": "2.0.0",
      "model_name": "LayoutModel",
      "state": {}
     },
     "f15877d2d9134ab8beb4cd38bea1b7cd": {
      "model_module": "@jupyter-widgets/controls",
      "model_module_version": "2.0.0",
      "model_name": "ButtonStyleModel",
      "state": {
       "font_family": null,
       "font_size": null,
       "font_style": null,
       "font_variant": null,
       "font_weight": null,
       "text_color": null,
       "text_decoration": null
      }
     },
     "f1935d0445294a609f778391885f5b1d": {
      "model_module": "@jupyter-widgets/controls",
      "model_module_version": "2.0.0",
      "model_name": "CheckboxModel",
      "state": {
       "description": "Use",
       "disabled": false,
       "layout": "IPY_MODEL_e40077a8060e4491918e244e945ac784",
       "style": "IPY_MODEL_faeef44b9d444356a3d8672f5f7b1dd0",
       "value": true
      }
     },
     "f19d044e49eb48ec929f70a327b61918": {
      "model_module": "@jupyter-widgets/controls",
      "model_module_version": "2.0.0",
      "model_name": "ButtonStyleModel",
      "state": {
       "font_family": null,
       "font_size": null,
       "font_style": null,
       "font_variant": null,
       "font_weight": null,
       "text_color": null,
       "text_decoration": null
      }
     },
     "f1a5d394580d4087b4e2a5e8d8e6ce7c": {
      "model_module": "@jupyter-widgets/controls",
      "model_module_version": "2.0.0",
      "model_name": "CheckboxStyleModel",
      "state": {
       "description_width": ""
      }
     },
     "f1ae736ecb3e431abbb3b8c80f0c87d9": {
      "model_module": "@jupyter-widgets/controls",
      "model_module_version": "2.0.0",
      "model_name": "CheckboxStyleModel",
      "state": {
       "description_width": ""
      }
     },
     "f1b9fed206f045eb82bc2146de34fe39": {
      "model_module": "@jupyter-widgets/controls",
      "model_module_version": "2.0.0",
      "model_name": "CheckboxStyleModel",
      "state": {
       "description_width": ""
      }
     },
     "f20add2b903c46169ca7fe977287cfce": {
      "model_module": "@jupyter-widgets/controls",
      "model_module_version": "2.0.0",
      "model_name": "LabelModel",
      "state": {
       "layout": "IPY_MODEL_896f5354c3d5488e876e7c708e4ee8cb",
       "style": "IPY_MODEL_0cc2de02146d4263b35580bd2fa5293d",
       "value": "Zones"
      }
     },
     "f226d962ee984cdeb815febe5cfb1833": {
      "model_module": "@jupyter-widgets/controls",
      "model_module_version": "2.0.0",
      "model_name": "HBoxModel",
      "state": {
       "children": [
        "IPY_MODEL_029fce9d5a35435cb0f75725a44a5c45",
        "IPY_MODEL_054e55abfe484b10bca6e7b511fbc0f1"
       ],
       "layout": "IPY_MODEL_2cb4a70aca9641cb955dbc9828ff10da"
      }
     },
     "f291b511f8534921ad14c76b90f6d3ed": {
      "model_module": "@jupyter-widgets/controls",
      "model_module_version": "2.0.0",
      "model_name": "TextStyleModel",
      "state": {
       "description_width": "",
       "font_size": null,
       "text_color": null
      }
     },
     "f2b8da86ecd34d478d28a2ae974da852": {
      "model_module": "@jupyter-widgets/controls",
      "model_module_version": "2.0.0",
      "model_name": "ButtonModel",
      "state": {
       "description": "Save settings ...",
       "disabled": true,
       "icon": "check",
       "layout": "IPY_MODEL_86b13633295647219a57e6738db67f54",
       "style": "IPY_MODEL_c01d39c87ff04f93a9014468f591ea58",
       "tooltip": "Save settings ..."
      }
     },
     "f2b92b31a4184de3ae8162e217259f5d": {
      "model_module": "@jupyter-widgets/controls",
      "model_module_version": "2.0.0",
      "model_name": "CheckboxStyleModel",
      "state": {
       "description_width": ""
      }
     },
     "f2bdb5acb147438594af8c55184b9739": {
      "model_module": "@jupyter-widgets/controls",
      "model_module_version": "2.0.0",
      "model_name": "TextStyleModel",
      "state": {
       "description_width": "",
       "font_size": null,
       "text_color": null
      }
     },
     "f2decdde2e934bba9ab12750b21ff15f": {
      "model_module": "@jupyter-widgets/controls",
      "model_module_version": "2.0.0",
      "model_name": "HBoxModel",
      "state": {
       "children": [
        "IPY_MODEL_54692ee6d70e431b9413b3ca751a1572",
        "IPY_MODEL_e6835c5cb01d43b2868aad873adb988e",
        "IPY_MODEL_0549378d29974d9da02fc7c0e79ff114"
       ],
       "layout": "IPY_MODEL_6a50d41a5aed4c03a97d0b2915730fae"
      }
     },
     "f320446ffe9a4c45a293dcaee7d60c0d": {
      "model_module": "@jupyter-widgets/base",
      "model_module_version": "2.0.0",
      "model_name": "LayoutModel",
      "state": {}
     },
     "f329492ef860417d81ab04d49795efa6": {
      "model_module": "@jupyter-widgets/controls",
      "model_module_version": "2.0.0",
      "model_name": "TextStyleModel",
      "state": {
       "description_width": "initial",
       "font_size": null,
       "text_color": null
      }
     },
     "f3307ae5403b43ffac567e982846161e": {
      "model_module": "@jupyter-widgets/controls",
      "model_module_version": "2.0.0",
      "model_name": "TextareaModel",
      "state": {
       "layout": "IPY_MODEL_3f8c03600ea445399835ca8c348afe24",
       "rows": 20,
       "style": "IPY_MODEL_adc20dd774074993bc5771f1ebadfab2",
       "value": "  name: RatecodeID\n  path: RatecodeID\n  max_definition_level: 1\n  max_repetition_level: 0\n  physical_type: INT64\n  logical_type: None\n  converted_type (legacy): NONE\n  file_offset: 110817171\n  file_path: \n  physical_type: INT64\n  num_values: 13157677\n  path_in_schema: RatecodeID\n  is_stats_set: True\n  statistics:\n      has_min_max: True\n      min: 1\n      max: 99\n      null_count: 0\n      distinct_count: None\n      num_values: 13157677\n      physical_type: INT64\n      logical_type: None\n      converted_type (legacy): NONE\n  geo_statistics:\n    None\n  compression: GZIP\n  encodings: ('PLAIN_DICTIONARY', 'PLAIN', 'RLE')\n  has_dictionary_page: True\n  dictionary_page_offset: 110246138\n  data_page_offset: 110246191\n  total_compressed_size: 571033\n  total_uncompressed_size: 1623482"
      }
     },
     "f3368382a51f4228b78fd78e32f88168": {
      "model_module": "@jupyter-widgets/controls",
      "model_module_version": "2.0.0",
      "model_name": "TextStyleModel",
      "state": {
       "description_width": "",
       "font_size": null,
       "text_color": null
      }
     },
     "f3735846be0148a192d6a133455b129c": {
      "model_module": "@jupyter-widgets/controls",
      "model_module_version": "2.0.0",
      "model_name": "FloatTextModel",
      "state": {
       "layout": "IPY_MODEL_7d1e65c3bf104f6d96caffb7322a1ea6",
       "step": null,
       "style": "IPY_MODEL_19f33374c6b84decb946a761250442f7"
      }
     },
     "f39232f5c7984dbaacc16c550844e44a": {
      "model_module": "@jupyter-widgets/controls",
      "model_module_version": "2.0.0",
      "model_name": "CheckboxStyleModel",
      "state": {
       "description_width": ""
      }
     },
     "f39d28043e4147ceb9b615dd83dea46b": {
      "model_module": "@jupyter-widgets/controls",
      "model_module_version": "2.0.0",
      "model_name": "TextStyleModel",
      "state": {
       "description_width": "",
       "font_size": null,
       "text_color": null
      }
     },
     "f3b3ab9eb67e4062a04462345e171a8d": {
      "model_module": "@jupyter-widgets/controls",
      "model_module_version": "2.0.0",
      "model_name": "HTMLStyleModel",
      "state": {
       "description_width": "",
       "font_size": null,
       "text_color": null
      }
     },
     "f3c9fcc009284b9d80b235014fa2217d": {
      "model_module": "@jupyter-widgets/base",
      "model_module_version": "2.0.0",
      "model_name": "LayoutModel",
      "state": {}
     },
     "f3dcc959e130491ea90dcde1b6ad2d9a": {
      "model_module": "@jupyter-widgets/controls",
      "model_module_version": "2.0.0",
      "model_name": "CheckboxStyleModel",
      "state": {
       "description_width": ""
      }
     },
     "f415b683014a42de840d904a96625ad0": {
      "model_module": "@jupyter-widgets/base",
      "model_module_version": "2.0.0",
      "model_name": "LayoutModel",
      "state": {}
     },
     "f4aea759d06d44ee97f2cc163b2bc51b": {
      "model_module": "@jupyter-widgets/controls",
      "model_module_version": "2.0.0",
      "model_name": "HTMLModel",
      "state": {
       "layout": "IPY_MODEL_551f5b1ae1f24460b3d35cb7cd9b66eb",
       "style": "IPY_MODEL_6aa1b6addd9549d586d2bde3f5ba49b8"
      }
     },
     "f4c7bbdfe1bf4e94997ba68a1afff292": {
      "model_module": "@jupyter-widgets/base",
      "model_module_version": "2.0.0",
      "model_name": "LayoutModel",
      "state": {
       "grid_template_columns": "200px repeat(7, 70px)"
      }
     },
     "f4ec730e7cab4efbbdbd6f98fb93749d": {
      "model_module": "@jupyter-widgets/controls",
      "model_module_version": "2.0.0",
      "model_name": "FloatTextModel",
      "state": {
       "layout": "IPY_MODEL_8dee8d7caf4f477f92b788196fd13637",
       "step": null,
       "style": "IPY_MODEL_d6cbc03a0e434706825bfff47a86534b"
      }
     },
     "f5035293e5974a30baa7b44c94234046": {
      "model_module": "@jupyter-widgets/controls",
      "model_module_version": "2.0.0",
      "model_name": "CheckboxModel",
      "state": {
       "description": "Use",
       "disabled": false,
       "layout": "IPY_MODEL_237747b000b34f7e8f5b7af576052dda",
       "style": "IPY_MODEL_9887c600d0324f43b004767f8865f22f",
       "value": false
      }
     },
     "f510527fdf4e498fa2a453c7a2a3f828": {
      "model_module": "@jupyter-widgets/controls",
      "model_module_version": "2.0.0",
      "model_name": "CheckboxStyleModel",
      "state": {
       "description_width": ""
      }
     },
     "f523ec6fcc4346cf91e1b3c2d3b760c3": {
      "model_module": "@jupyter-widgets/controls",
      "model_module_version": "2.0.0",
      "model_name": "CheckboxModel",
      "state": {
       "disabled": true,
       "indent": false,
       "layout": "IPY_MODEL_daae4552088f4ea484cf2f7939d9bb4d",
       "style": "IPY_MODEL_1e9626cf6b754d0dba8b54ef71dd8aca",
       "value": false
      }
     },
     "f56a9cc6a9a248419e9289956af56eb4": {
      "model_module": "@jupyter-widgets/controls",
      "model_module_version": "2.0.0",
      "model_name": "ProgressStyleModel",
      "state": {
       "description_width": ""
      }
     },
     "f5aaa5ed223b42bc9931ef4f092c3661": {
      "model_module": "@jupyter-widgets/base",
      "model_module_version": "2.0.0",
      "model_name": "LayoutModel",
      "state": {}
     },
     "f5ad9c27b89a42e59c7e92ea1820c88e": {
      "model_module": "@jupyter-widgets/controls",
      "model_module_version": "2.0.0",
      "model_name": "LabelModel",
      "state": {
       "layout": "IPY_MODEL_95b6f289330445e29a053243cdcbfc0b",
       "style": "IPY_MODEL_3791c96dc8824119a74ed4db79f44d82",
       "value": "Keep"
      }
     },
     "f5ae4a89fc1b40d79110244afb5028d5": {
      "model_module": "@jupyter-widgets/controls",
      "model_module_version": "2.0.0",
      "model_name": "CheckboxStyleModel",
      "state": {
       "description_width": ""
      }
     },
     "f5b6fe0bdbf4464f92e944e309ff23f0": {
      "model_module": "@jupyter-widgets/controls",
      "model_module_version": "2.0.0",
      "model_name": "TextStyleModel",
      "state": {
       "description_width": "",
       "font_size": null,
       "text_color": null
      }
     },
     "f61eb5ac4c114208be6770fc84d5f8bb": {
      "model_module": "@jupyter-widgets/controls",
      "model_module_version": "2.0.0",
      "model_name": "LabelStyleModel",
      "state": {
       "description_width": "",
       "font_family": null,
       "font_size": null,
       "font_style": null,
       "font_variant": null,
       "font_weight": null,
       "text_color": null,
       "text_decoration": null
      }
     },
     "f63279b244844604a33ca136b60292ab": {
      "model_module": "@jupyter-widgets/base",
      "model_module_version": "2.0.0",
      "model_name": "LayoutModel",
      "state": {
       "max_width": "100px"
      }
     },
     "f6481ba6c9a34f98923ece0739561783": {
      "model_module": "@jupyter-widgets/controls",
      "model_module_version": "2.0.0",
      "model_name": "DropdownModel",
      "state": {
       "_options_labels": [
        "",
        ">",
        "<",
        ">=",
        "<=",
        "==",
        "!="
       ],
       "description": "Filter",
       "index": 0,
       "layout": "IPY_MODEL_c10d373b6828478fb5338df099973a84",
       "style": "IPY_MODEL_c5b45f657ae64ecdb6c8d1a23b4923cb"
      }
     },
     "f65a33322a6341479ae6f50fff24b92f": {
      "model_module": "@jupyter-widgets/controls",
      "model_module_version": "2.0.0",
      "model_name": "TextStyleModel",
      "state": {
       "description_width": "",
       "font_size": null,
       "text_color": null
      }
     },
     "f68286c9040043f0824b8c65cbd1eab2": {
      "model_module": "@jupyter-widgets/base",
      "model_module_version": "2.0.0",
      "model_name": "LayoutModel",
      "state": {}
     },
     "f6bbc677b242435b9bd5425978d96b35": {
      "model_module": "@jupyter-widgets/base",
      "model_module_version": "2.0.0",
      "model_name": "LayoutModel",
      "state": {}
     },
     "f71068960c2a4873af59617a2f58ea37": {
      "model_module": "@jupyter-widgets/base",
      "model_module_version": "2.0.0",
      "model_name": "LayoutModel",
      "state": {}
     },
     "f76e86690fa14896899b691550054dff": {
      "model_module": "@jupyter-widgets/controls",
      "model_module_version": "2.0.0",
      "model_name": "CheckboxModel",
      "state": {
       "disabled": true,
       "indent": false,
       "layout": "IPY_MODEL_44367f18d042484ba201db6451884176",
       "style": "IPY_MODEL_e3e3fd35f84b42e7a9054c459ed38317",
       "value": false
      }
     },
     "f7fce0abf2924153bd82c6d779c11f4f": {
      "model_module": "@jupyter-widgets/base",
      "model_module_version": "2.0.0",
      "model_name": "LayoutModel",
      "state": {}
     },
     "f8016f82dc15446e8bb45aa7507af7cb": {
      "model_module": "@jupyter-widgets/controls",
      "model_module_version": "2.0.0",
      "model_name": "DropdownModel",
      "state": {
       "_options_labels": [
        "",
        "enumerate",
        "cbrt"
       ],
       "disabled": true,
       "index": 0,
       "layout": "IPY_MODEL_79937332d925499eb5a05bf1a775ef5d",
       "style": "IPY_MODEL_222c5bcc70a64d5cb403e3fdb6b0c40b"
      }
     },
     "f836d3392c6845169d01daaeaaa16a33": {
      "model_module": "@jupyter-widgets/controls",
      "model_module_version": "2.0.0",
      "model_name": "ButtonModel",
      "state": {
       "description": "Start loading ...",
       "disabled": true,
       "icon": "check",
       "layout": "IPY_MODEL_54d5438a3eb9435192c5c43fb682f019",
       "style": "IPY_MODEL_df72fe8a680b4b139d1184035206027f",
       "tooltip": "Start loading ..."
      }
     },
     "f8650a4e39bf4f0dabe02635d336138f": {
      "model_module": "@jupyter-widgets/controls",
      "model_module_version": "2.0.0",
      "model_name": "CheckboxStyleModel",
      "state": {
       "description_width": ""
      }
     },
     "f87e0b174fa84286a0d061db0b123cae": {
      "model_module": "@jupyter-widgets/base",
      "model_module_version": "2.0.0",
      "model_name": "LayoutModel",
      "state": {
       "max_width": "100px"
      }
     },
     "f89505dc65804e8f8ad92f308926afa4": {
      "model_module": "@jupyter-widgets/base",
      "model_module_version": "2.0.0",
      "model_name": "LayoutModel",
      "state": {}
     },
     "f949c3918a264abdaf4e1a077d5168a0": {
      "model_module": "@jupyter-widgets/controls",
      "model_module_version": "2.0.0",
      "model_name": "HBoxModel",
      "state": {
       "children": [
        "IPY_MODEL_cdd5e70afaad4919ba34c473a7d06665",
        "IPY_MODEL_c7b4f5dcc07d4f679925c63c5faf51a0"
       ],
       "layout": "IPY_MODEL_d64d05d5af854ea09747c71790c60745"
      }
     },
     "f94f8058190b4d9aa46b53a93fa5890e": {
      "model_module": "@jupyter-widgets/base",
      "model_module_version": "2.0.0",
      "model_name": "LayoutModel",
      "state": {}
     },
     "f970eb4d11c649debd822f44acb70abb": {
      "model_module": "@jupyter-widgets/controls",
      "model_module_version": "2.0.0",
      "model_name": "VBoxModel",
      "state": {
       "children": [
        "IPY_MODEL_eb64ddda041f4b01a1b0e36bee4f44dc",
        "IPY_MODEL_f5035293e5974a30baa7b44c94234046"
       ],
       "layout": "IPY_MODEL_9a28fdc3464e45f6ac3dd2cd513026c7"
      }
     },
     "f9a75f123a984d30893de02a939b2e73": {
      "model_module": "@jupyter-widgets/controls",
      "model_module_version": "2.0.0",
      "model_name": "DescriptionStyleModel",
      "state": {
       "description_width": ""
      }
     },
     "f9aede138a0e44faa6f920fba2a18e57": {
      "model_module": "@jupyter-widgets/controls",
      "model_module_version": "2.0.0",
      "model_name": "CheckboxStyleModel",
      "state": {
       "description_width": ""
      }
     },
     "f9cc394e12fe4917bfb83f3a6d9022b6": {
      "model_module": "@jupyter-widgets/base",
      "model_module_version": "2.0.0",
      "model_name": "LayoutModel",
      "state": {
       "grid_template_columns": "20% 10% 40% 30%"
      }
     },
     "f9ccae7ae2cc454199f78abbee415f71": {
      "model_module": "@jupyter-widgets/base",
      "model_module_version": "2.0.0",
      "model_name": "LayoutModel",
      "state": {}
     },
     "f9dcad1683a14b8eb3836ae25139e2db": {
      "model_module": "@jupyter-widgets/controls",
      "model_module_version": "2.0.0",
      "model_name": "DropdownModel",
      "state": {
       "_options_labels": [
        "",
        ">",
        "<",
        ">=",
        "<=",
        "==",
        "!="
       ],
       "description": "& ",
       "index": 0,
       "layout": "IPY_MODEL_2cb4a70aca9641cb955dbc9828ff10da",
       "style": "IPY_MODEL_ea1296acd14f45d4a5c412c7e7a6cad5"
      }
     },
     "fa1f5d6225484b65aa2f36681bd0168f": {
      "model_module": "@jupyter-widgets/controls",
      "model_module_version": "2.0.0",
      "model_name": "HBoxModel",
      "state": {
       "children": [
        "IPY_MODEL_5ee2c422ce074e0eae6cb3ce391c95a1",
        "IPY_MODEL_a3ab59952b8c48768a0503ddd4481d2e",
        "IPY_MODEL_3888a775150a4fa6a024e0afb418cde1"
       ],
       "layout": "IPY_MODEL_541c2cee4ebf4968ba815b6a388a9ad0"
      }
     },
     "fa3d390d99454f2fad1841ea5d3a6a50": {
      "model_module": "@jupyter-widgets/base",
      "model_module_version": "2.0.0",
      "model_name": "LayoutModel",
      "state": {}
     },
     "fa65cb6ea8bc4accb167d7a23ba6229e": {
      "model_module": "@jupyter-widgets/controls",
      "model_module_version": "2.0.0",
      "model_name": "VBoxModel",
      "state": {
       "children": [
        "IPY_MODEL_cff546f4135f48959a897ef9d80c423e",
        "IPY_MODEL_c8733083053d4f49901e2d120b5cd653",
        "IPY_MODEL_c946d3f9c7e241c7b01c9103d2deb4ef"
       ],
       "layout": "IPY_MODEL_306b7ca7599d425cb15ee0d49f8a5169"
      }
     },
     "fab51221164646688cfbce44ec9f7c44": {
      "model_module": "@jupyter-widgets/controls",
      "model_module_version": "2.0.0",
      "model_name": "CheckboxModel",
      "state": {
       "description": "Use",
       "disabled": false,
       "layout": "IPY_MODEL_1e7d98454389416c8ecc2f45218a3080",
       "style": "IPY_MODEL_2e0703c82d0547d397426e929989c67a",
       "value": false
      }
     },
     "fabc5222a7b942eda9255ca26fe9aa36": {
      "model_module": "@jupyter-widgets/controls",
      "model_module_version": "2.0.0",
      "model_name": "HTMLModel",
      "state": {
       "layout": "IPY_MODEL_2b6e3c026bca480f89aa1647bb57d914",
       "style": "IPY_MODEL_0e78b534c8e84569b45ad7200e3d8dbc"
      }
     },
     "fac15d2e52f64bd5b699a9796fb7ceb5": {
      "model_module": "@jupyter-widgets/base",
      "model_module_version": "2.0.0",
      "model_name": "LayoutModel",
      "state": {}
     },
     "faeef44b9d444356a3d8672f5f7b1dd0": {
      "model_module": "@jupyter-widgets/controls",
      "model_module_version": "2.0.0",
      "model_name": "CheckboxStyleModel",
      "state": {
       "description_width": ""
      }
     },
     "fafec5e4b9004e68a8894ec08919305e": {
      "model_module": "@jupyter-widgets/base",
      "model_module_version": "2.0.0",
      "model_name": "LayoutModel",
      "state": {}
     },
     "fb1b6b2725564607b625c61d6ba20922": {
      "model_module": "@jupyter-widgets/controls",
      "model_module_version": "2.0.0",
      "model_name": "ButtonModel",
      "state": {
       "description": "Chain it",
       "disabled": true,
       "icon": "check",
       "layout": "IPY_MODEL_6a048d173e1041b4bf53523d95101dce",
       "style": "IPY_MODEL_14c63f3184fb48cf9369fd6d7b3bc1a9",
       "tooltip": "Chain it"
      }
     },
     "fb372e6a29ce4ebc800ed91da26b8895": {
      "model_module": "@jupyter-widgets/base",
      "model_module_version": "2.0.0",
      "model_name": "LayoutModel",
      "state": {}
     },
     "fb5cca6917fb48c4b6c0fa530dc6e6eb": {
      "model_module": "@jupyter-widgets/controls",
      "model_module_version": "2.0.0",
      "model_name": "HTMLModel",
      "state": {
       "layout": "IPY_MODEL_908400c22e0b4576b95b6c91e0cdfeee",
       "style": "IPY_MODEL_e88403af816946289647b53c211d0e0b"
      }
     },
     "fba5614157fe401da3a31720edb07601": {
      "model_module": "@jupyter-widgets/controls",
      "model_module_version": "2.0.0",
      "model_name": "DropdownModel",
      "state": {
       "_options_labels": [
        "inner",
        "outer"
       ],
       "description": "How",
       "disabled": true,
       "index": 0,
       "layout": "IPY_MODEL_66ce52601ae9400da38327ca4ceab366",
       "style": "IPY_MODEL_b4624204ba6f4593ac60cb49439e9db2"
      }
     },
     "fbb24510c69f4a26983454f9179001c6": {
      "model_module": "@jupyter-widgets/controls",
      "model_module_version": "2.0.0",
      "model_name": "CheckboxStyleModel",
      "state": {
       "description_width": ""
      }
     },
     "fbfce93d76ff490d9e1d91bbf51b9c97": {
      "model_module": "@jupyter-widgets/controls",
      "model_module_version": "2.0.0",
      "model_name": "CheckboxStyleModel",
      "state": {
       "description_width": ""
      }
     },
     "fc0b51d79bd74eb5b830f434c3e053ed": {
      "model_module": "@jupyter-widgets/controls",
      "model_module_version": "2.0.0",
      "model_name": "DescriptionStyleModel",
      "state": {
       "description_width": ""
      }
     },
     "fc765421d50a449398a9e4545ad9d753": {
      "model_module": "@jupyter-widgets/controls",
      "model_module_version": "2.0.0",
      "model_name": "CheckboxStyleModel",
      "state": {
       "description_width": ""
      }
     },
     "fcd6228b13a14800aad5bad5ec0d61e8": {
      "model_module": "@jupyter-widgets/base",
      "model_module_version": "2.0.0",
      "model_name": "LayoutModel",
      "state": {}
     },
     "fd2c523e30374f47953fd228400969ba": {
      "model_module": "@jupyter-widgets/base",
      "model_module_version": "2.0.0",
      "model_name": "LayoutModel",
      "state": {}
     },
     "fd397506e6aa400ab766c773d0ce4424": {
      "model_module": "@jupyter-widgets/controls",
      "model_module_version": "2.0.0",
      "model_name": "DescriptionStyleModel",
      "state": {
       "description_width": ""
      }
     },
     "fd4e43c00492480aa5673e9971a95d0e": {
      "model_module": "@jupyter-widgets/controls",
      "model_module_version": "2.0.0",
      "model_name": "HBoxModel",
      "state": {
       "children": [
        "IPY_MODEL_d2c36ac949a149a69f2df17ce82a0e8f",
        "IPY_MODEL_14e72c05df5f49a38f15c01e24da937e"
       ],
       "layout": "IPY_MODEL_ab91a8e941b1483abd22b775df013b3a"
      }
     },
     "fd77c3f58ff24e1cae589127d981d4ae": {
      "model_module": "@jupyter-widgets/controls",
      "model_module_version": "2.0.0",
      "model_name": "DescriptionStyleModel",
      "state": {
       "description_width": ""
      }
     },
     "fdcc80613f2242638a04e75226921061": {
      "model_module": "@jupyter-widgets/controls",
      "model_module_version": "2.0.0",
      "model_name": "CheckboxStyleModel",
      "state": {
       "description_width": ""
      }
     },
     "fdfc55876a294013991134e95439e3e0": {
      "model_module": "@jupyter-widgets/controls",
      "model_module_version": "2.0.0",
      "model_name": "TextStyleModel",
      "state": {
       "description_width": "",
       "font_size": null,
       "text_color": null
      }
     },
     "fe42ca0098884fbab78c6a81a0c4cf16": {
      "model_module": "@jupyter-widgets/base",
      "model_module_version": "2.0.0",
      "model_name": "LayoutModel",
      "state": {}
     },
     "fe5604f8c9d84354b4d8d745b6b6dd2c": {
      "model_module": "@jupyter-widgets/controls",
      "model_module_version": "2.0.0",
      "model_name": "CheckboxStyleModel",
      "state": {
       "description_width": ""
      }
     },
     "fe8379d54b62446398c394a0ba815231": {
      "model_module": "@jupyter-widgets/base",
      "model_module_version": "2.0.0",
      "model_name": "LayoutModel",
      "state": {}
     },
     "fe89c31a934544e887e7870f13c20c7e": {
      "model_module": "@jupyter-widgets/controls",
      "model_module_version": "2.0.0",
      "model_name": "FloatTextModel",
      "state": {
       "layout": "IPY_MODEL_4885af2ff61a447e8be3e86c42be9b5b",
       "step": null,
       "style": "IPY_MODEL_e75ba8f590c342f7b896e2afc2811549"
      }
     },
     "fed96284684f42718ddadbc9e7bac0d6": {
      "model_module": "@jupyter-widgets/base",
      "model_module_version": "2.0.0",
      "model_name": "LayoutModel",
      "state": {}
     },
     "fedd44d04ef2472284e7dc9600fa1a43": {
      "model_module": "jupyter-progressivis",
      "model_module_version": "^0.1.0",
      "model_name": "JsonEditorModel",
      "state": {
       "_model_module_version": "^0.1.0",
       "_view_module_version": "^0.1.0",
       "data": {
        "$schema": "https://vega.github.io/schema/vega-lite/v6.json",
        "data": {
         "name": "data"
        },
        "description": "Bar chart",
        "encoding": {
         "x": {
          "axis": {
           "labelAngle": 0
          },
          "field": "x",
          "type": "nominal"
         },
         "y": {
          "field": "y",
          "type": "quantitative"
         }
        },
        "height": 400,
        "mark": "bar",
        "width": 500
       },
       "layout": "IPY_MODEL_9f91d96e257a46daa16f26efba602d90"
      }
     },
     "ff028ae9b9f24440b04da14bef1c0670": {
      "model_module": "@jupyter-widgets/controls",
      "model_module_version": "2.0.0",
      "model_name": "CheckboxModel",
      "state": {
       "description": "NA values",
       "disabled": true,
       "layout": "IPY_MODEL_a6e2c5a301ac4aaa93b80c6d0c7914aa",
       "style": "IPY_MODEL_eb0b60fa5b1c466298dd2f8310469cda",
       "value": false
      }
     },
     "ff0b736782c144d6864f5a606176283c": {
      "model_module": "@jupyter-widgets/controls",
      "model_module_version": "2.0.0",
      "model_name": "CheckboxStyleModel",
      "state": {
       "description_width": ""
      }
     },
     "ff1d822114cd477b9f668087bdb4d5a8": {
      "model_module": "@jupyter-widgets/base",
      "model_module_version": "2.0.0",
      "model_name": "LayoutModel",
      "state": {
       "justify_content": "flex-end"
      }
     },
     "ff2a279dccbc4968af97c09a7fb2aae2": {
      "model_module": "@jupyter-widgets/controls",
      "model_module_version": "2.0.0",
      "model_name": "TextareaModel",
      "state": {
       "layout": "IPY_MODEL_800e1558c4064e62ac242fb6dfe3f7bf",
       "rows": 20,
       "style": "IPY_MODEL_33e15871a835403eb5694ec562ee7705",
       "value": "  name: PULocationID\n  path: PULocationID\n  max_definition_level: 1\n  max_repetition_level: 0\n  physical_type: INT64\n  logical_type: None\n  converted_type (legacy): NONE\n  file_offset: 122786288\n  file_path: \n  physical_type: INT64\n  num_values: 13157677\n  path_in_schema: PULocationID\n  is_stats_set: True\n  statistics:\n      has_min_max: True\n      min: 1\n      max: 265\n      null_count: 0\n      distinct_count: None\n      num_values: 13157677\n      physical_type: INT64\n      logical_type: None\n      converted_type (legacy): NONE\n  geo_statistics:\n    None\n  compression: GZIP\n  encodings: ('PLAIN_DICTIONARY', 'PLAIN', 'RLE')\n  has_dictionary_page: True\n  dictionary_page_offset: 110977360\n  data_page_offset: 110977856\n  total_compressed_size: 11808928\n  total_uncompressed_size: 14365790"
      }
     },
     "ff3b3a905b9f4041a0928bc1b0ea4a1e": {
      "model_module": "@jupyter-widgets/base",
      "model_module_version": "2.0.0",
      "model_name": "LayoutModel",
      "state": {}
     },
     "ff5523d216164447bfdca007836590bd": {
      "model_module": "@jupyter-widgets/controls",
      "model_module_version": "2.0.0",
      "model_name": "DescriptionStyleModel",
      "state": {
       "description_width": ""
      }
     },
     "ff5c91dd553442fb95b93ffe700317d9": {
      "model_module": "@jupyter-widgets/controls",
      "model_module_version": "2.0.0",
      "model_name": "DescriptionStyleModel",
      "state": {
       "description_width": ""
      }
     },
     "ff7243b1ffc949ae8b3303b8c33e429f": {
      "model_module": "@jupyter-widgets/controls",
      "model_module_version": "2.0.0",
      "model_name": "CheckboxStyleModel",
      "state": {
       "description_width": ""
      }
     },
     "ff7ef2a9440042f189ef36ca3072b4e7": {
      "model_module": "@jupyter-widgets/base",
      "model_module_version": "2.0.0",
      "model_name": "LayoutModel",
      "state": {}
     },
     "ff9828212942425ca941722bc5021761": {
      "model_module": "@jupyter-widgets/controls",
      "model_module_version": "2.0.0",
      "model_name": "CheckboxStyleModel",
      "state": {
       "description_width": ""
      }
     },
     "ffb7ea885e1b4052a033d0cb21717435": {
      "model_module": "@jupyter-widgets/controls",
      "model_module_version": "2.0.0",
      "model_name": "LabelModel",
      "state": {
       "layout": "IPY_MODEL_663c32fc33d94d72a0e220097da97d81",
       "style": "IPY_MODEL_28b7caeb282b47e091b36bae9d4dd823",
       "value": "PULocationID:int64"
      }
     },
     "ffd57483333944cfbf8a4589f7eaad12": {
      "model_module": "@jupyter-widgets/controls",
      "model_module_version": "2.0.0",
      "model_name": "HTMLModel",
      "state": {
       "layout": "IPY_MODEL_ffebc8938d7b465c86f3adae31f09246",
       "style": "IPY_MODEL_14c7d73e037c404185a6212b6b44e582"
      }
     },
     "ffebc8938d7b465c86f3adae31f09246": {
      "model_module": "@jupyter-widgets/base",
      "model_module_version": "2.0.0",
      "model_name": "LayoutModel",
      "state": {}
     },
     "fff169730e9e465681fb7de2eaced74d": {
      "model_module": "@jupyter-widgets/base",
      "model_module_version": "2.0.0",
      "model_name": "LayoutModel",
      "state": {}
     }
    },
    "version_major": 2,
    "version_minor": 0
   }
  }
 },
 "nbformat": 4,
 "nbformat_minor": 5
}
