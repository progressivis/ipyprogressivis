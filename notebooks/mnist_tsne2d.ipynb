{
 "cells": [
  {
   "cell_type": "markdown",
   "id": "ceee6a5f-fd38-4b0f-af1b-a3fca1c44ea2",
   "metadata": {
    "deletable": false,
    "editable": false,
    "progressivis_backup": "eyJ0aXRsZSI6ICJDVVNUT00gbG9hZGVyIiwgIm51bWJlciI6IDAsICJmdHlwZSI6ICJjdXN0b20iLCAiYWxpYXMiOiAiTU5JU1Q3ODQiLCAiZnJvemVuIjogeyJzbmlwcGV0IjogImNzdl9hc19hcnJheSIsICJjb2x1bW5zIjogW119LCAibWFya2Rvd24iOiAiIn0=;eyJ0aXRsZSI6ICJULVNORSAyRCIsICJwYXJlbnQiOiBbIk1OSVNUNzg0IiwgMF0sICJudW1iZXIiOiAwLCAiYWxpYXMiOiAiIiwgImZyb3plbiI6IHsiYXJyYXkiOiAiYXJyYXkiLCAibWF4X2l0ZXIiOiAxMDAwLCAicXVhbF9saW0iOiAyLjB9LCAibWFya2Rvd24iOiAiIn0=",
    "slideshow": {
     "slide_type": ""
    },
    "tags": []
   },
   "source": [
    "<button data-commandLinker-command=\"progressivis:cleanup_and_run\" data-commandlinker-args='{\"index\": 1}' href=\"#\" class='progressivis-cleanup-and-run-btn'>Run ProgressiVis</button>"
   ]
  },
  {
   "cell_type": "code",
   "execution_count": 1,
   "id": "fleet-final",
   "metadata": {
    "_editable": true,
    "deletable": false,
    "edi_table": false,
    "editable": false,
    "jupyter": {
     "source_hidden": true
    },
    "progressivis_backup": "",
    "slideshow": {
     "slide_type": ""
    },
    "tags": []
   },
   "outputs": [
    {
     "data": {
      "application/vnd.jupyter.widget-view+json": {
       "model_id": "ef200041313340e89cdc37d952a76692",
       "version_major": 2,
       "version_minor": 0
      },
      "text/plain": [
       "Talker()"
      ]
     },
     "metadata": {},
     "output_type": "display_data"
    },
    {
     "data": {
      "application/vnd.jupyter.widget-view+json": {
       "model_id": "5e8901f780ae4ccc9ab5dd302228246f",
       "version_major": 2,
       "version_minor": 0
      },
      "text/plain": [
       "BackupWidget()"
      ]
     },
     "metadata": {},
     "output_type": "display_data"
    }
   ],
   "source": [
    "from ipyprogressivis.widgets.chaining.constructor import Constructor\n",
    "from ipyprogressivis.widgets.chaining.utils import create_root, get_header\n",
    "from ipyprogressivis.widgets.chaining.custom import *\n",
    "header = get_header()\n",
    "display(header.talker)\n",
    "display(header.backup)\n",
    "_ = header.constructor\n",
    "with header.modules_out:\n",
    "    display(header.board)\n",
    "with header.widgets_out:\n",
    "    display(header.manager)\n",
    "header.talker.labcommand(\"notebook:hide-cell-code\")\n",
    "%reload_ext ipyprogressivis.magics\n",
    "create_root(header.backup)"
   ]
  },
  {
   "cell_type": "code",
   "execution_count": 3,
   "id": "204f4719-5aae-4074-974c-df15f541dfd5",
   "metadata": {},
   "outputs": [],
   "source": [
    "# progressivis-snippet\n",
    "from progressivis import SimpleCSVLoader, Sink\n",
    "\n",
    "@register_snippet\n",
    "def csv_as_array(input_module, input_slot, columns):\n",
    "    s = scheduler = input_module.scheduler\n",
    "    with scheduler:\n",
    "        csv = SimpleCSVLoader(\n",
    "            \"https://aviz.fr/progressivis/mnist_784.csv.bz2\",\n",
    "            nrows=10_000,\n",
    "            as_array=lambda cols: {\"array\": [c for c in cols if c != \"class\"]},\n",
    "            scheduler=s,\n",
    "        )\n",
    "        sink = Sink(name=\"sink\", scheduler=s)\n",
    "        sink.input.inp = csv.output.result\n",
    "    return SnippetResult(output_module=csv, output_slot=\"result\")"
   ]
  },
  {
   "cell_type": "markdown",
   "id": "7f6ba483-c11b-4153-ad51-538625221e7c",
   "metadata": {
    "deletable": false,
    "editable": true,
    "progressivis_tag": "root",
    "progressivis_tag_class": "root"
   },
   "source": [
    "## root"
   ]
  },
  {
   "cell_type": "code",
   "execution_count": 2,
   "id": "e90ccb97-6892-4bc0-b4b4-e8dfb85617d0",
   "metadata": {
    "deletable": false,
    "editable": false,
    "jupyter": {
     "source_hidden": true
    },
    "progressivis_tag": "root",
    "progressivis_tag_class": "root"
   },
   "outputs": [
    {
     "data": {
      "application/vnd.jupyter.widget-view+json": {
       "model_id": "ae79ca26e1fc4549b1dc172b37b094e7",
       "version_major": 2,
       "version_minor": 0
      },
      "text/plain": [
       "Constructor(children=(IntProgress(value=0, description='Starting ProgressiVis ...', max=2, style=ProgressStyle…"
      ]
     },
     "metadata": {},
     "output_type": "display_data"
    },
    {
     "name": "stdout",
     "output_type": "stream",
     "text": [
      "Starting scheduler\n",
      "# Scheduler added module(s): ['sink_1', 'variable_1']\n"
     ]
    }
   ],
   "source": [
    "# do not run this cell\n",
    "display(header.constructor)\n",
    "header.constructor.start_scheduler()\n",
    "header.talker.labcommand('notebook:hide-cell-code')"
   ]
  },
  {
   "cell_type": "markdown",
   "id": "b0ef7248-56ba-436c-a597-8c7fb5bdfdd1",
   "metadata": {
    "deletable": false,
    "editable": true,
    "progressivis_tag": "MNIST784",
    "progressivis_tag_class": "SnippetW"
   },
   "source": [
    "## MNIST784"
   ]
  },
  {
   "cell_type": "code",
   "execution_count": 4,
   "id": "b42167bd-0ea5-48b7-821d-732c64f735d7",
   "metadata": {
    "deletable": false,
    "editable": false,
    "progressivis_tag": "MNIST784",
    "progressivis_tag_class": "SnippetW"
   },
   "outputs": [
    {
     "data": {
      "application/vnd.jupyter.widget-view+json": {
       "model_id": "a312e859357546b58a2d00e09a2fd250",
       "version_major": 2,
       "version_minor": 0
      },
      "text/plain": [
       "NodeCarrier(children=(HBox(children=(Button(button_style='danger', icon='trash', style=ButtonStyle(), tooltip=…"
      ]
     },
     "execution_count": 4,
     "metadata": {},
     "output_type": "execute_result"
    }
   ],
   "source": [
    "Constructor.widget('MNIST784', 0)"
   ]
  },
  {
   "cell_type": "markdown",
   "id": "abe0c825-096f-47a0-8b6b-1f368d70dcf7",
   "metadata": {
    "deletable": false,
    "editable": true,
    "progressivis_tag": "T-SNE 2D",
    "progressivis_tag_class": "TSNE2DW"
   },
   "source": [
    "## T-SNE 2D"
   ]
  },
  {
   "cell_type": "code",
   "execution_count": 5,
   "id": "4b07858d-567c-4259-b888-65dfe06fbe86",
   "metadata": {
    "deletable": false,
    "editable": false,
    "progressivis_tag": "T-SNE 2D",
    "progressivis_tag_class": "TSNE2DW"
   },
   "outputs": [
    {
     "data": {
      "application/vnd.jupyter.widget-view+json": {
       "model_id": "235ebb1ed28f4db4adb3436499aa216b",
       "version_major": 2,
       "version_minor": 0
      },
      "text/plain": [
       "NodeCarrier(children=(HBox(children=(Button(button_style='danger', icon='trash', style=ButtonStyle(), tooltip=…"
      ]
     },
     "execution_count": 5,
     "metadata": {},
     "output_type": "execute_result"
    },
    {
     "name": "stdout",
     "output_type": "stream",
     "text": [
      "# Scheduler added module(s): ['data_shape_1', 'sink_2']\n",
      "BEGIN ini\n",
      "END ini\n",
      "# Scheduler deleted module(s): {'sink_2', 'data_shape_1'}\n"
     ]
    }
   ],
   "source": [
    "Constructor.widget('T-SNE 2D', 0)"
   ]
  }
 ],
 "metadata": {
  "celltoolbar": "Éditer les Méta-Données",
  "hide_input": false,
  "kernelspec": {
   "display_name": "Python 3 (ipykernel)",
   "language": "python",
   "name": "python3"
  },
  "language_info": {
   "codemirror_mode": {
    "name": "ipython",
    "version": 3
   },
   "file_extension": ".py",
   "mimetype": "text/x-python",
   "name": "python",
   "nbconvert_exporter": "python",
   "pygments_lexer": "ipython3",
   "version": "3.13.7"
  },
  "latex_envs": {
   "LaTeX_envs_menu_present": true,
   "autoclose": false,
   "autocomplete": true,
   "bibliofile": "biblio.bib",
   "cite_by": "apalike",
   "current_citInitial": 1,
   "eqLabelWithNumbers": true,
   "eqNumInitial": 1,
   "hotkeys": {
    "equation": "Ctrl-E",
    "itemize": "Ctrl-I"
   },
   "labels_anchors": false,
   "latex_user_defs": false,
   "report_style_numbering": false,
   "user_envs_cfg": false
  },
  "toc": {
   "base_numbering": 1,
   "nav_menu": {},
   "number_sections": false,
   "sideBar": true,
   "skip_h1_title": true,
   "title_cell": "PTable of Contents",
   "title_sidebar": "Contents",
   "toc_cell": false,
   "toc_position": {
    "height": "836.875px",
    "left": "59px",
    "top": "111.125px",
    "width": "340px"
   },
   "toc_section_display": true,
   "toc_window_display": true
  },
  "toc-showtags": false,
  "widgets": {
   "application/vnd.jupyter.widget-state+json": {
    "state": {},
    "version_major": 2,
    "version_minor": 0
   }
  }
 },
 "nbformat": 4,
 "nbformat_minor": 5
}
