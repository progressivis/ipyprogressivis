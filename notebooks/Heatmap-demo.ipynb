{
 "cells": [
  {
   "cell_type": "markdown",
   "id": "ceee6a5f-fd38-4b0f-af1b-a3fca1c44ea2",
   "metadata": {
    "deletable": false,
    "editable": false,
    "progressivis_backup": "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;eyJ0aXRsZSI6ICJSYW5nZVF1ZXJ5MkQiLCAicGFyZW50IjogWyJUYXhpcyIsIDBdLCAibnVtYmVyIjogMCwgImZyb3plbiI6IHsiWCI6ICJwaWNrdXBfbG9uZ2l0dWRlIiwgIlkiOiAicGlja3VwX2xhdGl0dWRlIn19;eyJ0aXRsZSI6ICJIZWF0bWFwIiwgInBhcmVudCI6IFsiUmFuZ2VRdWVyeTJEIiwgMF0sICJudW1iZXIiOiAwLCAiZnJvemVuIjogeyJYIjogImRyb3BvZmZfbG9uZ2l0dWRlIiwgIlkiOiAiZHJvcG9mZl9sYXRpdHVkZSJ9fQ==",
    "tags": []
   },
   "source": [
    "<button data-commandLinker-command=\"progressivis:cleanup_and_run\" data-commandlinker-args='{\"index\": 1}' href=\"#\">Run ProgressiVis</button>"
   ]
  },
  {
   "cell_type": "code",
   "execution_count": 1,
   "id": "fleet-final",
   "metadata": {
    "deletable": false,
    "editable": false,
    "jupyter": {
     "source_hidden": true
    },
    "progressivis_backup": "",
    "slideshow": {
     "slide_type": ""
    },
    "tags": []
   },
   "outputs": [
    {
     "data": {
      "application/vnd.jupyter.widget-view+json": {
       "model_id": "2c990c23befb4314a1da19be64af2533",
       "version_major": 2,
       "version_minor": 0
      },
      "text/plain": [
       "Talker()"
      ]
     },
     "metadata": {},
     "output_type": "display_data"
    },
    {
     "data": {
      "application/vnd.jupyter.widget-view+json": {
       "model_id": "f1ffe4bfd6314090bb8a0ad572723a70",
       "version_major": 2,
       "version_minor": 0
      },
      "text/plain": [
       "BackupWidget()"
      ]
     },
     "metadata": {},
     "output_type": "display_data"
    },
    {
     "data": {
      "text/html": [
       "<script type=\"esms-options\">{\"shimMode\": true}</script><style>*[data-root-id],\n",
       "*[data-root-id] > * {\n",
       "  box-sizing: border-box;\n",
       "  font-family: var(--jp-ui-font-family);\n",
       "  font-size: var(--jp-ui-font-size1);\n",
       "  color: var(--vscode-editor-foreground, var(--jp-ui-font-color1));\n",
       "}\n",
       "\n",
       "/* Override VSCode background color */\n",
       ".cell-output-ipywidget-background:has(\n",
       "    > .cell-output-ipywidget-background > .lm-Widget > *[data-root-id]\n",
       "  ),\n",
       ".cell-output-ipywidget-background:has(> .lm-Widget > *[data-root-id]) {\n",
       "  background-color: transparent !important;\n",
       "}\n",
       "</style>"
      ]
     },
     "metadata": {},
     "output_type": "display_data"
    },
    {
     "data": {
      "application/javascript": [
       "(function(root) {\n",
       "  function now() {\n",
       "    return new Date();\n",
       "  }\n",
       "\n",
       "  const force = true;\n",
       "  const py_version = '3.5.2'.replace('rc', '-rc.').replace('.dev', '-dev.');\n",
       "  const reloading = false;\n",
       "  const Bokeh = root.Bokeh;\n",
       "\n",
       "  // Set a timeout for this load but only if we are not already initializing\n",
       "  if (typeof (root._bokeh_timeout) === \"undefined\" || (force || !root._bokeh_is_initializing)) {\n",
       "    root._bokeh_timeout = Date.now() + 5000;\n",
       "    root._bokeh_failed_load = false;\n",
       "  }\n",
       "\n",
       "  function run_callbacks() {\n",
       "    try {\n",
       "      root._bokeh_onload_callbacks.forEach(function(callback) {\n",
       "        if (callback != null)\n",
       "          callback();\n",
       "      });\n",
       "    } finally {\n",
       "      delete root._bokeh_onload_callbacks;\n",
       "    }\n",
       "    console.debug(\"Bokeh: all callbacks have finished\");\n",
       "  }\n",
       "\n",
       "  function load_libs(css_urls, js_urls, js_modules, js_exports, callback) {\n",
       "    if (css_urls == null) css_urls = [];\n",
       "    if (js_urls == null) js_urls = [];\n",
       "    if (js_modules == null) js_modules = [];\n",
       "    if (js_exports == null) js_exports = {};\n",
       "\n",
       "    root._bokeh_onload_callbacks.push(callback);\n",
       "\n",
       "    if (root._bokeh_is_loading > 0) {\n",
       "      // Don't load bokeh if it is still initializing\n",
       "      console.debug(\"Bokeh: BokehJS is being loaded, scheduling callback at\", now());\n",
       "      return null;\n",
       "    } else if (js_urls.length === 0 && js_modules.length === 0 && Object.keys(js_exports).length === 0) {\n",
       "      // There is nothing to load\n",
       "      run_callbacks();\n",
       "      return null;\n",
       "    }\n",
       "\n",
       "    function on_load() {\n",
       "      root._bokeh_is_loading--;\n",
       "      if (root._bokeh_is_loading === 0) {\n",
       "        console.debug(\"Bokeh: all BokehJS libraries/stylesheets loaded\");\n",
       "        run_callbacks()\n",
       "      }\n",
       "    }\n",
       "    window._bokeh_on_load = on_load\n",
       "\n",
       "    function on_error(e) {\n",
       "      const src_el = e.srcElement\n",
       "      console.error(\"failed to load \" + (src_el.href || src_el.src));\n",
       "    }\n",
       "\n",
       "    const skip = [];\n",
       "    if (window.requirejs) {\n",
       "      window.requirejs.config({'packages': {}, 'paths': {'ace': '//cdnjs.cloudflare.com/ajax/libs/ace/1.4.7', 'jsoneditor': '//cdn.jsdelivr.net/npm/jsoneditor@10.0.1/dist/jsoneditor.min'}, 'shim': {'ace/ext-language_tools': {'deps': ['ace/ace']}, 'ace/ext-modelist': {'deps': ['ace/ace']}, 'jsoneditor': {'exports': 'JSONEditor'}}});\n",
       "      require([\"ace/ace\"], function(ace) {\n",
       "        window.ace = ace\n",
       "        on_load()\n",
       "      })\n",
       "      require([\"ace/ext-language_tools\"], function() {\n",
       "        on_load()\n",
       "      })\n",
       "      require([\"ace/ext-modelist\"], function() {\n",
       "        on_load()\n",
       "      })\n",
       "      require([\"jsoneditor\"], function(JSONEditor) {\n",
       "        window.JSONEditor = JSONEditor\n",
       "        on_load()\n",
       "      })\n",
       "      root._bokeh_is_loading = css_urls.length + 4;\n",
       "    } else {\n",
       "      root._bokeh_is_loading = css_urls.length + js_urls.length + js_modules.length + Object.keys(js_exports).length;\n",
       "    }\n",
       "\n",
       "    const existing_stylesheets = []\n",
       "    const links = document.getElementsByTagName('link')\n",
       "    for (let i = 0; i < links.length; i++) {\n",
       "      const link = links[i]\n",
       "      if (link.href != null) {\n",
       "        existing_stylesheets.push(link.href)\n",
       "      }\n",
       "    }\n",
       "    for (let i = 0; i < css_urls.length; i++) {\n",
       "      const url = css_urls[i];\n",
       "      const escaped = encodeURI(url)\n",
       "      if (existing_stylesheets.indexOf(escaped) !== -1) {\n",
       "        on_load()\n",
       "        continue;\n",
       "      }\n",
       "      const element = document.createElement(\"link\");\n",
       "      element.onload = on_load;\n",
       "      element.onerror = on_error;\n",
       "      element.rel = \"stylesheet\";\n",
       "      element.type = \"text/css\";\n",
       "      element.href = url;\n",
       "      console.debug(\"Bokeh: injecting link tag for BokehJS stylesheet: \", url);\n",
       "      document.body.appendChild(element);\n",
       "    }    if (((window.ace !== undefined) && (!(window.ace instanceof HTMLElement))) || window.requirejs) {\n",
       "      var urls = ['https://cdnjs.cloudflare.com/ajax/libs/ace/1.4.11/ace.js', 'https://cdnjs.cloudflare.com/ajax/libs/ace/1.4.11/ext-language_tools.js', 'https://cdnjs.cloudflare.com/ajax/libs/ace/1.4.11/ext-modelist.js'];\n",
       "      for (var i = 0; i < urls.length; i++) {\n",
       "        skip.push(encodeURI(urls[i]))\n",
       "      }\n",
       "    }    if (((window.JSONEditor !== undefined) && (!(window.JSONEditor instanceof HTMLElement))) || window.requirejs) {\n",
       "      var urls = ['https://cdn.holoviz.org/panel/1.5.0/dist/bundled/jsoneditor/jsoneditor@10.0.1/dist/jsoneditor.min.js'];\n",
       "      for (var i = 0; i < urls.length; i++) {\n",
       "        skip.push(encodeURI(urls[i]))\n",
       "      }\n",
       "    }    var existing_scripts = []\n",
       "    const scripts = document.getElementsByTagName('script')\n",
       "    for (let i = 0; i < scripts.length; i++) {\n",
       "      var script = scripts[i]\n",
       "      if (script.src != null) {\n",
       "        existing_scripts.push(script.src)\n",
       "      }\n",
       "    }\n",
       "    for (let i = 0; i < js_urls.length; i++) {\n",
       "      const url = js_urls[i];\n",
       "      const escaped = encodeURI(url)\n",
       "      if (skip.indexOf(escaped) !== -1 || existing_scripts.indexOf(escaped) !== -1) {\n",
       "        if (!window.requirejs) {\n",
       "          on_load();\n",
       "        }\n",
       "        continue;\n",
       "      }\n",
       "      const element = document.createElement('script');\n",
       "      element.onload = on_load;\n",
       "      element.onerror = on_error;\n",
       "      element.async = false;\n",
       "      element.src = url;\n",
       "      console.debug(\"Bokeh: injecting script tag for BokehJS library: \", url);\n",
       "      document.head.appendChild(element);\n",
       "    }\n",
       "    for (let i = 0; i < js_modules.length; i++) {\n",
       "      const url = js_modules[i];\n",
       "      const escaped = encodeURI(url)\n",
       "      if (skip.indexOf(escaped) !== -1 || existing_scripts.indexOf(escaped) !== -1) {\n",
       "        if (!window.requirejs) {\n",
       "          on_load();\n",
       "        }\n",
       "        continue;\n",
       "      }\n",
       "      var element = document.createElement('script');\n",
       "      element.onload = on_load;\n",
       "      element.onerror = on_error;\n",
       "      element.async = false;\n",
       "      element.src = url;\n",
       "      element.type = \"module\";\n",
       "      console.debug(\"Bokeh: injecting script tag for BokehJS library: \", url);\n",
       "      document.head.appendChild(element);\n",
       "    }\n",
       "    for (const name in js_exports) {\n",
       "      const url = js_exports[name];\n",
       "      const escaped = encodeURI(url)\n",
       "      if (skip.indexOf(escaped) >= 0 || root[name] != null) {\n",
       "        if (!window.requirejs) {\n",
       "          on_load();\n",
       "        }\n",
       "        continue;\n",
       "      }\n",
       "      var element = document.createElement('script');\n",
       "      element.onerror = on_error;\n",
       "      element.async = false;\n",
       "      element.type = \"module\";\n",
       "      console.debug(\"Bokeh: injecting script tag for BokehJS library: \", url);\n",
       "      element.textContent = `\n",
       "      import ${name} from \"${url}\"\n",
       "      window.${name} = ${name}\n",
       "      window._bokeh_on_load()\n",
       "      `\n",
       "      document.head.appendChild(element);\n",
       "    }\n",
       "    if (!js_urls.length && !js_modules.length) {\n",
       "      on_load()\n",
       "    }\n",
       "  };\n",
       "\n",
       "  function inject_raw_css(css) {\n",
       "    const element = document.createElement(\"style\");\n",
       "    element.appendChild(document.createTextNode(css));\n",
       "    document.body.appendChild(element);\n",
       "  }\n",
       "\n",
       "  const js_urls = [\"https://cdnjs.cloudflare.com/ajax/libs/ace/1.4.11/ace.js\", \"https://cdnjs.cloudflare.com/ajax/libs/ace/1.4.11/ext-language_tools.js\", \"https://cdnjs.cloudflare.com/ajax/libs/ace/1.4.11/ext-modelist.js\", \"https://cdn.holoviz.org/panel/1.5.0/dist/bundled/reactiveesm/es-module-shims@^1.10.0/dist/es-module-shims.min.js\", \"https://cdn.holoviz.org/panel/1.5.0/dist/bundled/jsoneditor/jsoneditor@10.0.1/dist/jsoneditor.min.js\", \"https://cdn.bokeh.org/bokeh/release/bokeh-3.5.2.min.js\", \"https://cdn.bokeh.org/bokeh/release/bokeh-gl-3.5.2.min.js\", \"https://cdn.bokeh.org/bokeh/release/bokeh-widgets-3.5.2.min.js\", \"https://cdn.bokeh.org/bokeh/release/bokeh-tables-3.5.2.min.js\", \"https://cdn.holoviz.org/panel/1.5.0/dist/panel.min.js\"];\n",
       "  const js_modules = [];\n",
       "  const js_exports = {};\n",
       "  const css_urls = [\"https://cdn.holoviz.org/panel/1.5.0/dist/bundled/jsoneditor/jsoneditor@10.0.1/dist/jsoneditor.min.css?v=1.5.0\", \"https://cdn.holoviz.org/panel/1.5.0/dist/bundled/font-awesome/css/all.min.css\"];\n",
       "  const inline_js = [    function(Bokeh) {\n",
       "      Bokeh.set_log_level(\"info\");\n",
       "    },\n",
       "function(Bokeh) {} // ensure no trailing comma for IE\n",
       "  ];\n",
       "\n",
       "  function run_inline_js() {\n",
       "    if ((root.Bokeh !== undefined) || (force === true)) {\n",
       "      for (let i = 0; i < inline_js.length; i++) {\n",
       "        try {\n",
       "          inline_js[i].call(root, root.Bokeh);\n",
       "        } catch(e) {\n",
       "          if (!reloading) {\n",
       "            throw e;\n",
       "          }\n",
       "        }\n",
       "      }\n",
       "      // Cache old bokeh versions\n",
       "      if (Bokeh != undefined && !reloading) {\n",
       "        var NewBokeh = root.Bokeh;\n",
       "        if (Bokeh.versions === undefined) {\n",
       "          Bokeh.versions = new Map();\n",
       "        }\n",
       "        if (NewBokeh.version !== Bokeh.version) {\n",
       "          Bokeh.versions.set(NewBokeh.version, NewBokeh)\n",
       "        }\n",
       "        root.Bokeh = Bokeh;\n",
       "      }\n",
       "    } else if (Date.now() < root._bokeh_timeout) {\n",
       "      setTimeout(run_inline_js, 100);\n",
       "    } else if (!root._bokeh_failed_load) {\n",
       "      console.log(\"Bokeh: BokehJS failed to load within specified timeout.\");\n",
       "      root._bokeh_failed_load = true;\n",
       "    }\n",
       "    root._bokeh_is_initializing = false\n",
       "  }\n",
       "\n",
       "  function load_or_wait() {\n",
       "    // Implement a backoff loop that tries to ensure we do not load multiple\n",
       "    // versions of Bokeh and its dependencies at the same time.\n",
       "    // In recent versions we use the root._bokeh_is_initializing flag\n",
       "    // to determine whether there is an ongoing attempt to initialize\n",
       "    // bokeh, however for backward compatibility we also try to ensure\n",
       "    // that we do not start loading a newer (Panel>=1.0 and Bokeh>3) version\n",
       "    // before older versions are fully initialized.\n",
       "    if (root._bokeh_is_initializing && Date.now() > root._bokeh_timeout) {\n",
       "      // If the timeout and bokeh was not successfully loaded we reset\n",
       "      // everything and try loading again\n",
       "      root._bokeh_timeout = Date.now() + 5000;\n",
       "      root._bokeh_is_initializing = false;\n",
       "      root._bokeh_onload_callbacks = undefined;\n",
       "      root._bokeh_is_loading = 0\n",
       "      console.log(\"Bokeh: BokehJS was loaded multiple times but one version failed to initialize.\");\n",
       "      load_or_wait();\n",
       "    } else if (root._bokeh_is_initializing || (typeof root._bokeh_is_initializing === \"undefined\" && root._bokeh_onload_callbacks !== undefined)) {\n",
       "      setTimeout(load_or_wait, 100);\n",
       "    } else {\n",
       "      root._bokeh_is_initializing = true\n",
       "      root._bokeh_onload_callbacks = []\n",
       "      const bokeh_loaded = root.Bokeh != null && (root.Bokeh.version === py_version || (root.Bokeh.versions !== undefined && root.Bokeh.versions.has(py_version)));\n",
       "      if (!reloading && !bokeh_loaded) {\n",
       "        if (root.Bokeh) {\n",
       "          root.Bokeh = undefined;\n",
       "        }\n",
       "        console.debug(\"Bokeh: BokehJS not loaded, scheduling load and callback at\", now());\n",
       "      }\n",
       "      load_libs(css_urls, js_urls, js_modules, js_exports, function() {\n",
       "        console.debug(\"Bokeh: BokehJS plotting callback run at\", now());\n",
       "        run_inline_js();\n",
       "      });\n",
       "    }\n",
       "  }\n",
       "  // Give older versions of the autoload script a head-start to ensure\n",
       "  // they initialize before we start loading newer version.\n",
       "  setTimeout(load_or_wait, 100)\n",
       "}(window));"
      ],
      "application/vnd.holoviews_load.v0+json": "(function(root) {\n  function now() {\n    return new Date();\n  }\n\n  const force = true;\n  const py_version = '3.5.2'.replace('rc', '-rc.').replace('.dev', '-dev.');\n  const reloading = false;\n  const Bokeh = root.Bokeh;\n\n  // Set a timeout for this load but only if we are not already initializing\n  if (typeof (root._bokeh_timeout) === \"undefined\" || (force || !root._bokeh_is_initializing)) {\n    root._bokeh_timeout = Date.now() + 5000;\n    root._bokeh_failed_load = false;\n  }\n\n  function run_callbacks() {\n    try {\n      root._bokeh_onload_callbacks.forEach(function(callback) {\n        if (callback != null)\n          callback();\n      });\n    } finally {\n      delete root._bokeh_onload_callbacks;\n    }\n    console.debug(\"Bokeh: all callbacks have finished\");\n  }\n\n  function load_libs(css_urls, js_urls, js_modules, js_exports, callback) {\n    if (css_urls == null) css_urls = [];\n    if (js_urls == null) js_urls = [];\n    if (js_modules == null) js_modules = [];\n    if (js_exports == null) js_exports = {};\n\n    root._bokeh_onload_callbacks.push(callback);\n\n    if (root._bokeh_is_loading > 0) {\n      // Don't load bokeh if it is still initializing\n      console.debug(\"Bokeh: BokehJS is being loaded, scheduling callback at\", now());\n      return null;\n    } else if (js_urls.length === 0 && js_modules.length === 0 && Object.keys(js_exports).length === 0) {\n      // There is nothing to load\n      run_callbacks();\n      return null;\n    }\n\n    function on_load() {\n      root._bokeh_is_loading--;\n      if (root._bokeh_is_loading === 0) {\n        console.debug(\"Bokeh: all BokehJS libraries/stylesheets loaded\");\n        run_callbacks()\n      }\n    }\n    window._bokeh_on_load = on_load\n\n    function on_error(e) {\n      const src_el = e.srcElement\n      console.error(\"failed to load \" + (src_el.href || src_el.src));\n    }\n\n    const skip = [];\n    if (window.requirejs) {\n      window.requirejs.config({'packages': {}, 'paths': {'ace': '//cdnjs.cloudflare.com/ajax/libs/ace/1.4.7', 'jsoneditor': '//cdn.jsdelivr.net/npm/jsoneditor@10.0.1/dist/jsoneditor.min'}, 'shim': {'ace/ext-language_tools': {'deps': ['ace/ace']}, 'ace/ext-modelist': {'deps': ['ace/ace']}, 'jsoneditor': {'exports': 'JSONEditor'}}});\n      require([\"ace/ace\"], function(ace) {\n        window.ace = ace\n        on_load()\n      })\n      require([\"ace/ext-language_tools\"], function() {\n        on_load()\n      })\n      require([\"ace/ext-modelist\"], function() {\n        on_load()\n      })\n      require([\"jsoneditor\"], function(JSONEditor) {\n        window.JSONEditor = JSONEditor\n        on_load()\n      })\n      root._bokeh_is_loading = css_urls.length + 4;\n    } else {\n      root._bokeh_is_loading = css_urls.length + js_urls.length + js_modules.length + Object.keys(js_exports).length;\n    }\n\n    const existing_stylesheets = []\n    const links = document.getElementsByTagName('link')\n    for (let i = 0; i < links.length; i++) {\n      const link = links[i]\n      if (link.href != null) {\n        existing_stylesheets.push(link.href)\n      }\n    }\n    for (let i = 0; i < css_urls.length; i++) {\n      const url = css_urls[i];\n      const escaped = encodeURI(url)\n      if (existing_stylesheets.indexOf(escaped) !== -1) {\n        on_load()\n        continue;\n      }\n      const element = document.createElement(\"link\");\n      element.onload = on_load;\n      element.onerror = on_error;\n      element.rel = \"stylesheet\";\n      element.type = \"text/css\";\n      element.href = url;\n      console.debug(\"Bokeh: injecting link tag for BokehJS stylesheet: \", url);\n      document.body.appendChild(element);\n    }    if (((window.ace !== undefined) && (!(window.ace instanceof HTMLElement))) || window.requirejs) {\n      var urls = ['https://cdnjs.cloudflare.com/ajax/libs/ace/1.4.11/ace.js', 'https://cdnjs.cloudflare.com/ajax/libs/ace/1.4.11/ext-language_tools.js', 'https://cdnjs.cloudflare.com/ajax/libs/ace/1.4.11/ext-modelist.js'];\n      for (var i = 0; i < urls.length; i++) {\n        skip.push(encodeURI(urls[i]))\n      }\n    }    if (((window.JSONEditor !== undefined) && (!(window.JSONEditor instanceof HTMLElement))) || window.requirejs) {\n      var urls = ['https://cdn.holoviz.org/panel/1.5.0/dist/bundled/jsoneditor/jsoneditor@10.0.1/dist/jsoneditor.min.js'];\n      for (var i = 0; i < urls.length; i++) {\n        skip.push(encodeURI(urls[i]))\n      }\n    }    var existing_scripts = []\n    const scripts = document.getElementsByTagName('script')\n    for (let i = 0; i < scripts.length; i++) {\n      var script = scripts[i]\n      if (script.src != null) {\n        existing_scripts.push(script.src)\n      }\n    }\n    for (let i = 0; i < js_urls.length; i++) {\n      const url = js_urls[i];\n      const escaped = encodeURI(url)\n      if (skip.indexOf(escaped) !== -1 || existing_scripts.indexOf(escaped) !== -1) {\n        if (!window.requirejs) {\n          on_load();\n        }\n        continue;\n      }\n      const element = document.createElement('script');\n      element.onload = on_load;\n      element.onerror = on_error;\n      element.async = false;\n      element.src = url;\n      console.debug(\"Bokeh: injecting script tag for BokehJS library: \", url);\n      document.head.appendChild(element);\n    }\n    for (let i = 0; i < js_modules.length; i++) {\n      const url = js_modules[i];\n      const escaped = encodeURI(url)\n      if (skip.indexOf(escaped) !== -1 || existing_scripts.indexOf(escaped) !== -1) {\n        if (!window.requirejs) {\n          on_load();\n        }\n        continue;\n      }\n      var element = document.createElement('script');\n      element.onload = on_load;\n      element.onerror = on_error;\n      element.async = false;\n      element.src = url;\n      element.type = \"module\";\n      console.debug(\"Bokeh: injecting script tag for BokehJS library: \", url);\n      document.head.appendChild(element);\n    }\n    for (const name in js_exports) {\n      const url = js_exports[name];\n      const escaped = encodeURI(url)\n      if (skip.indexOf(escaped) >= 0 || root[name] != null) {\n        if (!window.requirejs) {\n          on_load();\n        }\n        continue;\n      }\n      var element = document.createElement('script');\n      element.onerror = on_error;\n      element.async = false;\n      element.type = \"module\";\n      console.debug(\"Bokeh: injecting script tag for BokehJS library: \", url);\n      element.textContent = `\n      import ${name} from \"${url}\"\n      window.${name} = ${name}\n      window._bokeh_on_load()\n      `\n      document.head.appendChild(element);\n    }\n    if (!js_urls.length && !js_modules.length) {\n      on_load()\n    }\n  };\n\n  function inject_raw_css(css) {\n    const element = document.createElement(\"style\");\n    element.appendChild(document.createTextNode(css));\n    document.body.appendChild(element);\n  }\n\n  const js_urls = [\"https://cdnjs.cloudflare.com/ajax/libs/ace/1.4.11/ace.js\", \"https://cdnjs.cloudflare.com/ajax/libs/ace/1.4.11/ext-language_tools.js\", \"https://cdnjs.cloudflare.com/ajax/libs/ace/1.4.11/ext-modelist.js\", \"https://cdn.holoviz.org/panel/1.5.0/dist/bundled/reactiveesm/es-module-shims@^1.10.0/dist/es-module-shims.min.js\", \"https://cdn.holoviz.org/panel/1.5.0/dist/bundled/jsoneditor/jsoneditor@10.0.1/dist/jsoneditor.min.js\", \"https://cdn.bokeh.org/bokeh/release/bokeh-3.5.2.min.js\", \"https://cdn.bokeh.org/bokeh/release/bokeh-gl-3.5.2.min.js\", \"https://cdn.bokeh.org/bokeh/release/bokeh-widgets-3.5.2.min.js\", \"https://cdn.bokeh.org/bokeh/release/bokeh-tables-3.5.2.min.js\", \"https://cdn.holoviz.org/panel/1.5.0/dist/panel.min.js\"];\n  const js_modules = [];\n  const js_exports = {};\n  const css_urls = [\"https://cdn.holoviz.org/panel/1.5.0/dist/bundled/jsoneditor/jsoneditor@10.0.1/dist/jsoneditor.min.css?v=1.5.0\", \"https://cdn.holoviz.org/panel/1.5.0/dist/bundled/font-awesome/css/all.min.css\"];\n  const inline_js = [    function(Bokeh) {\n      Bokeh.set_log_level(\"info\");\n    },\nfunction(Bokeh) {} // ensure no trailing comma for IE\n  ];\n\n  function run_inline_js() {\n    if ((root.Bokeh !== undefined) || (force === true)) {\n      for (let i = 0; i < inline_js.length; i++) {\n        try {\n          inline_js[i].call(root, root.Bokeh);\n        } catch(e) {\n          if (!reloading) {\n            throw e;\n          }\n        }\n      }\n      // Cache old bokeh versions\n      if (Bokeh != undefined && !reloading) {\n        var NewBokeh = root.Bokeh;\n        if (Bokeh.versions === undefined) {\n          Bokeh.versions = new Map();\n        }\n        if (NewBokeh.version !== Bokeh.version) {\n          Bokeh.versions.set(NewBokeh.version, NewBokeh)\n        }\n        root.Bokeh = Bokeh;\n      }\n    } else if (Date.now() < root._bokeh_timeout) {\n      setTimeout(run_inline_js, 100);\n    } else if (!root._bokeh_failed_load) {\n      console.log(\"Bokeh: BokehJS failed to load within specified timeout.\");\n      root._bokeh_failed_load = true;\n    }\n    root._bokeh_is_initializing = false\n  }\n\n  function load_or_wait() {\n    // Implement a backoff loop that tries to ensure we do not load multiple\n    // versions of Bokeh and its dependencies at the same time.\n    // In recent versions we use the root._bokeh_is_initializing flag\n    // to determine whether there is an ongoing attempt to initialize\n    // bokeh, however for backward compatibility we also try to ensure\n    // that we do not start loading a newer (Panel>=1.0 and Bokeh>3) version\n    // before older versions are fully initialized.\n    if (root._bokeh_is_initializing && Date.now() > root._bokeh_timeout) {\n      // If the timeout and bokeh was not successfully loaded we reset\n      // everything and try loading again\n      root._bokeh_timeout = Date.now() + 5000;\n      root._bokeh_is_initializing = false;\n      root._bokeh_onload_callbacks = undefined;\n      root._bokeh_is_loading = 0\n      console.log(\"Bokeh: BokehJS was loaded multiple times but one version failed to initialize.\");\n      load_or_wait();\n    } else if (root._bokeh_is_initializing || (typeof root._bokeh_is_initializing === \"undefined\" && root._bokeh_onload_callbacks !== undefined)) {\n      setTimeout(load_or_wait, 100);\n    } else {\n      root._bokeh_is_initializing = true\n      root._bokeh_onload_callbacks = []\n      const bokeh_loaded = root.Bokeh != null && (root.Bokeh.version === py_version || (root.Bokeh.versions !== undefined && root.Bokeh.versions.has(py_version)));\n      if (!reloading && !bokeh_loaded) {\n        if (root.Bokeh) {\n          root.Bokeh = undefined;\n        }\n        console.debug(\"Bokeh: BokehJS not loaded, scheduling load and callback at\", now());\n      }\n      load_libs(css_urls, js_urls, js_modules, js_exports, function() {\n        console.debug(\"Bokeh: BokehJS plotting callback run at\", now());\n        run_inline_js();\n      });\n    }\n  }\n  // Give older versions of the autoload script a head-start to ensure\n  // they initialize before we start loading newer version.\n  setTimeout(load_or_wait, 100)\n}(window));"
     },
     "metadata": {},
     "output_type": "display_data"
    },
    {
     "data": {
      "application/javascript": [
       "\n",
       "if ((window.PyViz === undefined) || (window.PyViz instanceof HTMLElement)) {\n",
       "  window.PyViz = {comms: {}, comm_status:{}, kernels:{}, receivers: {}, plot_index: []}\n",
       "}\n",
       "\n",
       "\n",
       "    function JupyterCommManager() {\n",
       "    }\n",
       "\n",
       "    JupyterCommManager.prototype.register_target = function(plot_id, comm_id, msg_handler) {\n",
       "      if (window.comm_manager || ((window.Jupyter !== undefined) && (Jupyter.notebook.kernel != null))) {\n",
       "        var comm_manager = window.comm_manager || Jupyter.notebook.kernel.comm_manager;\n",
       "        comm_manager.register_target(comm_id, function(comm) {\n",
       "          comm.on_msg(msg_handler);\n",
       "        });\n",
       "      } else if ((plot_id in window.PyViz.kernels) && (window.PyViz.kernels[plot_id])) {\n",
       "        window.PyViz.kernels[plot_id].registerCommTarget(comm_id, function(comm) {\n",
       "          comm.onMsg = msg_handler;\n",
       "        });\n",
       "      } else if (typeof google != 'undefined' && google.colab.kernel != null) {\n",
       "        google.colab.kernel.comms.registerTarget(comm_id, (comm) => {\n",
       "          var messages = comm.messages[Symbol.asyncIterator]();\n",
       "          function processIteratorResult(result) {\n",
       "            var message = result.value;\n",
       "            console.log(message)\n",
       "            var content = {data: message.data, comm_id};\n",
       "            var buffers = []\n",
       "            for (var buffer of message.buffers || []) {\n",
       "              buffers.push(new DataView(buffer))\n",
       "            }\n",
       "            var metadata = message.metadata || {};\n",
       "            var msg = {content, buffers, metadata}\n",
       "            msg_handler(msg);\n",
       "            return messages.next().then(processIteratorResult);\n",
       "          }\n",
       "          return messages.next().then(processIteratorResult);\n",
       "        })\n",
       "      }\n",
       "    }\n",
       "\n",
       "    JupyterCommManager.prototype.get_client_comm = function(plot_id, comm_id, msg_handler) {\n",
       "      if (comm_id in window.PyViz.comms) {\n",
       "        return window.PyViz.comms[comm_id];\n",
       "      } else if (window.comm_manager || ((window.Jupyter !== undefined) && (Jupyter.notebook.kernel != null))) {\n",
       "        var comm_manager = window.comm_manager || Jupyter.notebook.kernel.comm_manager;\n",
       "        var comm = comm_manager.new_comm(comm_id, {}, {}, {}, comm_id);\n",
       "        if (msg_handler) {\n",
       "          comm.on_msg(msg_handler);\n",
       "        }\n",
       "      } else if ((plot_id in window.PyViz.kernels) && (window.PyViz.kernels[plot_id])) {\n",
       "        var comm = window.PyViz.kernels[plot_id].connectToComm(comm_id);\n",
       "        comm.open();\n",
       "        if (msg_handler) {\n",
       "          comm.onMsg = msg_handler;\n",
       "        }\n",
       "      } else if (typeof google != 'undefined' && google.colab.kernel != null) {\n",
       "        var comm_promise = google.colab.kernel.comms.open(comm_id)\n",
       "        comm_promise.then((comm) => {\n",
       "          window.PyViz.comms[comm_id] = comm;\n",
       "          if (msg_handler) {\n",
       "            var messages = comm.messages[Symbol.asyncIterator]();\n",
       "            function processIteratorResult(result) {\n",
       "              var message = result.value;\n",
       "              var content = {data: message.data};\n",
       "              var metadata = message.metadata || {comm_id};\n",
       "              var msg = {content, metadata}\n",
       "              msg_handler(msg);\n",
       "              return messages.next().then(processIteratorResult);\n",
       "            }\n",
       "            return messages.next().then(processIteratorResult);\n",
       "          }\n",
       "        }) \n",
       "        var sendClosure = (data, metadata, buffers, disposeOnDone) => {\n",
       "          return comm_promise.then((comm) => {\n",
       "            comm.send(data, metadata, buffers, disposeOnDone);\n",
       "          });\n",
       "        };\n",
       "        var comm = {\n",
       "          send: sendClosure\n",
       "        };\n",
       "      }\n",
       "      window.PyViz.comms[comm_id] = comm;\n",
       "      return comm;\n",
       "    }\n",
       "    window.PyViz.comm_manager = new JupyterCommManager();\n",
       "    \n",
       "\n",
       "\n",
       "var JS_MIME_TYPE = 'application/javascript';\n",
       "var HTML_MIME_TYPE = 'text/html';\n",
       "var EXEC_MIME_TYPE = 'application/vnd.holoviews_exec.v0+json';\n",
       "var CLASS_NAME = 'output';\n",
       "\n",
       "/**\n",
       " * Render data to the DOM node\n",
       " */\n",
       "function render(props, node) {\n",
       "  var div = document.createElement(\"div\");\n",
       "  var script = document.createElement(\"script\");\n",
       "  node.appendChild(div);\n",
       "  node.appendChild(script);\n",
       "}\n",
       "\n",
       "/**\n",
       " * Handle when a new output is added\n",
       " */\n",
       "function handle_add_output(event, handle) {\n",
       "  var output_area = handle.output_area;\n",
       "  var output = handle.output;\n",
       "  if ((output.data == undefined) || (!output.data.hasOwnProperty(EXEC_MIME_TYPE))) {\n",
       "    return\n",
       "  }\n",
       "  var id = output.metadata[EXEC_MIME_TYPE][\"id\"];\n",
       "  var toinsert = output_area.element.find(\".\" + CLASS_NAME.split(' ')[0]);\n",
       "  if (id !== undefined) {\n",
       "    var nchildren = toinsert.length;\n",
       "    var html_node = toinsert[nchildren-1].children[0];\n",
       "    html_node.innerHTML = output.data[HTML_MIME_TYPE];\n",
       "    var scripts = [];\n",
       "    var nodelist = html_node.querySelectorAll(\"script\");\n",
       "    for (var i in nodelist) {\n",
       "      if (nodelist.hasOwnProperty(i)) {\n",
       "        scripts.push(nodelist[i])\n",
       "      }\n",
       "    }\n",
       "\n",
       "    scripts.forEach( function (oldScript) {\n",
       "      var newScript = document.createElement(\"script\");\n",
       "      var attrs = [];\n",
       "      var nodemap = oldScript.attributes;\n",
       "      for (var j in nodemap) {\n",
       "        if (nodemap.hasOwnProperty(j)) {\n",
       "          attrs.push(nodemap[j])\n",
       "        }\n",
       "      }\n",
       "      attrs.forEach(function(attr) { newScript.setAttribute(attr.name, attr.value) });\n",
       "      newScript.appendChild(document.createTextNode(oldScript.innerHTML));\n",
       "      oldScript.parentNode.replaceChild(newScript, oldScript);\n",
       "    });\n",
       "    if (JS_MIME_TYPE in output.data) {\n",
       "      toinsert[nchildren-1].children[1].textContent = output.data[JS_MIME_TYPE];\n",
       "    }\n",
       "    output_area._hv_plot_id = id;\n",
       "    if ((window.Bokeh !== undefined) && (id in Bokeh.index)) {\n",
       "      window.PyViz.plot_index[id] = Bokeh.index[id];\n",
       "    } else {\n",
       "      window.PyViz.plot_index[id] = null;\n",
       "    }\n",
       "  } else if (output.metadata[EXEC_MIME_TYPE][\"server_id\"] !== undefined) {\n",
       "    var bk_div = document.createElement(\"div\");\n",
       "    bk_div.innerHTML = output.data[HTML_MIME_TYPE];\n",
       "    var script_attrs = bk_div.children[0].attributes;\n",
       "    for (var i = 0; i < script_attrs.length; i++) {\n",
       "      toinsert[toinsert.length - 1].childNodes[1].setAttribute(script_attrs[i].name, script_attrs[i].value);\n",
       "    }\n",
       "    // store reference to server id on output_area\n",
       "    output_area._bokeh_server_id = output.metadata[EXEC_MIME_TYPE][\"server_id\"];\n",
       "  }\n",
       "}\n",
       "\n",
       "/**\n",
       " * Handle when an output is cleared or removed\n",
       " */\n",
       "function handle_clear_output(event, handle) {\n",
       "  var id = handle.cell.output_area._hv_plot_id;\n",
       "  var server_id = handle.cell.output_area._bokeh_server_id;\n",
       "  if (((id === undefined) || !(id in PyViz.plot_index)) && (server_id !== undefined)) { return; }\n",
       "  var comm = window.PyViz.comm_manager.get_client_comm(\"hv-extension-comm\", \"hv-extension-comm\", function () {});\n",
       "  if (server_id !== null) {\n",
       "    comm.send({event_type: 'server_delete', 'id': server_id});\n",
       "    return;\n",
       "  } else if (comm !== null) {\n",
       "    comm.send({event_type: 'delete', 'id': id});\n",
       "  }\n",
       "  delete PyViz.plot_index[id];\n",
       "  if ((window.Bokeh !== undefined) & (id in window.Bokeh.index)) {\n",
       "    var doc = window.Bokeh.index[id].model.document\n",
       "    doc.clear();\n",
       "    const i = window.Bokeh.documents.indexOf(doc);\n",
       "    if (i > -1) {\n",
       "      window.Bokeh.documents.splice(i, 1);\n",
       "    }\n",
       "  }\n",
       "}\n",
       "\n",
       "/**\n",
       " * Handle kernel restart event\n",
       " */\n",
       "function handle_kernel_cleanup(event, handle) {\n",
       "  delete PyViz.comms[\"hv-extension-comm\"];\n",
       "  window.PyViz.plot_index = {}\n",
       "}\n",
       "\n",
       "/**\n",
       " * Handle update_display_data messages\n",
       " */\n",
       "function handle_update_output(event, handle) {\n",
       "  handle_clear_output(event, {cell: {output_area: handle.output_area}})\n",
       "  handle_add_output(event, handle)\n",
       "}\n",
       "\n",
       "function register_renderer(events, OutputArea) {\n",
       "  function append_mime(data, metadata, element) {\n",
       "    // create a DOM node to render to\n",
       "    var toinsert = this.create_output_subarea(\n",
       "    metadata,\n",
       "    CLASS_NAME,\n",
       "    EXEC_MIME_TYPE\n",
       "    );\n",
       "    this.keyboard_manager.register_events(toinsert);\n",
       "    // Render to node\n",
       "    var props = {data: data, metadata: metadata[EXEC_MIME_TYPE]};\n",
       "    render(props, toinsert[0]);\n",
       "    element.append(toinsert);\n",
       "    return toinsert\n",
       "  }\n",
       "\n",
       "  events.on('output_added.OutputArea', handle_add_output);\n",
       "  events.on('output_updated.OutputArea', handle_update_output);\n",
       "  events.on('clear_output.CodeCell', handle_clear_output);\n",
       "  events.on('delete.Cell', handle_clear_output);\n",
       "  events.on('kernel_ready.Kernel', handle_kernel_cleanup);\n",
       "\n",
       "  OutputArea.prototype.register_mime_type(EXEC_MIME_TYPE, append_mime, {\n",
       "    safe: true,\n",
       "    index: 0\n",
       "  });\n",
       "}\n",
       "\n",
       "if (window.Jupyter !== undefined) {\n",
       "  try {\n",
       "    var events = require('base/js/events');\n",
       "    var OutputArea = require('notebook/js/outputarea').OutputArea;\n",
       "    if (OutputArea.prototype.mime_types().indexOf(EXEC_MIME_TYPE) == -1) {\n",
       "      register_renderer(events, OutputArea);\n",
       "    }\n",
       "  } catch(err) {\n",
       "  }\n",
       "}\n"
      ],
      "application/vnd.holoviews_load.v0+json": "\nif ((window.PyViz === undefined) || (window.PyViz instanceof HTMLElement)) {\n  window.PyViz = {comms: {}, comm_status:{}, kernels:{}, receivers: {}, plot_index: []}\n}\n\n\n    function JupyterCommManager() {\n    }\n\n    JupyterCommManager.prototype.register_target = function(plot_id, comm_id, msg_handler) {\n      if (window.comm_manager || ((window.Jupyter !== undefined) && (Jupyter.notebook.kernel != null))) {\n        var comm_manager = window.comm_manager || Jupyter.notebook.kernel.comm_manager;\n        comm_manager.register_target(comm_id, function(comm) {\n          comm.on_msg(msg_handler);\n        });\n      } else if ((plot_id in window.PyViz.kernels) && (window.PyViz.kernels[plot_id])) {\n        window.PyViz.kernels[plot_id].registerCommTarget(comm_id, function(comm) {\n          comm.onMsg = msg_handler;\n        });\n      } else if (typeof google != 'undefined' && google.colab.kernel != null) {\n        google.colab.kernel.comms.registerTarget(comm_id, (comm) => {\n          var messages = comm.messages[Symbol.asyncIterator]();\n          function processIteratorResult(result) {\n            var message = result.value;\n            console.log(message)\n            var content = {data: message.data, comm_id};\n            var buffers = []\n            for (var buffer of message.buffers || []) {\n              buffers.push(new DataView(buffer))\n            }\n            var metadata = message.metadata || {};\n            var msg = {content, buffers, metadata}\n            msg_handler(msg);\n            return messages.next().then(processIteratorResult);\n          }\n          return messages.next().then(processIteratorResult);\n        })\n      }\n    }\n\n    JupyterCommManager.prototype.get_client_comm = function(plot_id, comm_id, msg_handler) {\n      if (comm_id in window.PyViz.comms) {\n        return window.PyViz.comms[comm_id];\n      } else if (window.comm_manager || ((window.Jupyter !== undefined) && (Jupyter.notebook.kernel != null))) {\n        var comm_manager = window.comm_manager || Jupyter.notebook.kernel.comm_manager;\n        var comm = comm_manager.new_comm(comm_id, {}, {}, {}, comm_id);\n        if (msg_handler) {\n          comm.on_msg(msg_handler);\n        }\n      } else if ((plot_id in window.PyViz.kernels) && (window.PyViz.kernels[plot_id])) {\n        var comm = window.PyViz.kernels[plot_id].connectToComm(comm_id);\n        comm.open();\n        if (msg_handler) {\n          comm.onMsg = msg_handler;\n        }\n      } else if (typeof google != 'undefined' && google.colab.kernel != null) {\n        var comm_promise = google.colab.kernel.comms.open(comm_id)\n        comm_promise.then((comm) => {\n          window.PyViz.comms[comm_id] = comm;\n          if (msg_handler) {\n            var messages = comm.messages[Symbol.asyncIterator]();\n            function processIteratorResult(result) {\n              var message = result.value;\n              var content = {data: message.data};\n              var metadata = message.metadata || {comm_id};\n              var msg = {content, metadata}\n              msg_handler(msg);\n              return messages.next().then(processIteratorResult);\n            }\n            return messages.next().then(processIteratorResult);\n          }\n        }) \n        var sendClosure = (data, metadata, buffers, disposeOnDone) => {\n          return comm_promise.then((comm) => {\n            comm.send(data, metadata, buffers, disposeOnDone);\n          });\n        };\n        var comm = {\n          send: sendClosure\n        };\n      }\n      window.PyViz.comms[comm_id] = comm;\n      return comm;\n    }\n    window.PyViz.comm_manager = new JupyterCommManager();\n    \n\n\nvar JS_MIME_TYPE = 'application/javascript';\nvar HTML_MIME_TYPE = 'text/html';\nvar EXEC_MIME_TYPE = 'application/vnd.holoviews_exec.v0+json';\nvar CLASS_NAME = 'output';\n\n/**\n * Render data to the DOM node\n */\nfunction render(props, node) {\n  var div = document.createElement(\"div\");\n  var script = document.createElement(\"script\");\n  node.appendChild(div);\n  node.appendChild(script);\n}\n\n/**\n * Handle when a new output is added\n */\nfunction handle_add_output(event, handle) {\n  var output_area = handle.output_area;\n  var output = handle.output;\n  if ((output.data == undefined) || (!output.data.hasOwnProperty(EXEC_MIME_TYPE))) {\n    return\n  }\n  var id = output.metadata[EXEC_MIME_TYPE][\"id\"];\n  var toinsert = output_area.element.find(\".\" + CLASS_NAME.split(' ')[0]);\n  if (id !== undefined) {\n    var nchildren = toinsert.length;\n    var html_node = toinsert[nchildren-1].children[0];\n    html_node.innerHTML = output.data[HTML_MIME_TYPE];\n    var scripts = [];\n    var nodelist = html_node.querySelectorAll(\"script\");\n    for (var i in nodelist) {\n      if (nodelist.hasOwnProperty(i)) {\n        scripts.push(nodelist[i])\n      }\n    }\n\n    scripts.forEach( function (oldScript) {\n      var newScript = document.createElement(\"script\");\n      var attrs = [];\n      var nodemap = oldScript.attributes;\n      for (var j in nodemap) {\n        if (nodemap.hasOwnProperty(j)) {\n          attrs.push(nodemap[j])\n        }\n      }\n      attrs.forEach(function(attr) { newScript.setAttribute(attr.name, attr.value) });\n      newScript.appendChild(document.createTextNode(oldScript.innerHTML));\n      oldScript.parentNode.replaceChild(newScript, oldScript);\n    });\n    if (JS_MIME_TYPE in output.data) {\n      toinsert[nchildren-1].children[1].textContent = output.data[JS_MIME_TYPE];\n    }\n    output_area._hv_plot_id = id;\n    if ((window.Bokeh !== undefined) && (id in Bokeh.index)) {\n      window.PyViz.plot_index[id] = Bokeh.index[id];\n    } else {\n      window.PyViz.plot_index[id] = null;\n    }\n  } else if (output.metadata[EXEC_MIME_TYPE][\"server_id\"] !== undefined) {\n    var bk_div = document.createElement(\"div\");\n    bk_div.innerHTML = output.data[HTML_MIME_TYPE];\n    var script_attrs = bk_div.children[0].attributes;\n    for (var i = 0; i < script_attrs.length; i++) {\n      toinsert[toinsert.length - 1].childNodes[1].setAttribute(script_attrs[i].name, script_attrs[i].value);\n    }\n    // store reference to server id on output_area\n    output_area._bokeh_server_id = output.metadata[EXEC_MIME_TYPE][\"server_id\"];\n  }\n}\n\n/**\n * Handle when an output is cleared or removed\n */\nfunction handle_clear_output(event, handle) {\n  var id = handle.cell.output_area._hv_plot_id;\n  var server_id = handle.cell.output_area._bokeh_server_id;\n  if (((id === undefined) || !(id in PyViz.plot_index)) && (server_id !== undefined)) { return; }\n  var comm = window.PyViz.comm_manager.get_client_comm(\"hv-extension-comm\", \"hv-extension-comm\", function () {});\n  if (server_id !== null) {\n    comm.send({event_type: 'server_delete', 'id': server_id});\n    return;\n  } else if (comm !== null) {\n    comm.send({event_type: 'delete', 'id': id});\n  }\n  delete PyViz.plot_index[id];\n  if ((window.Bokeh !== undefined) & (id in window.Bokeh.index)) {\n    var doc = window.Bokeh.index[id].model.document\n    doc.clear();\n    const i = window.Bokeh.documents.indexOf(doc);\n    if (i > -1) {\n      window.Bokeh.documents.splice(i, 1);\n    }\n  }\n}\n\n/**\n * Handle kernel restart event\n */\nfunction handle_kernel_cleanup(event, handle) {\n  delete PyViz.comms[\"hv-extension-comm\"];\n  window.PyViz.plot_index = {}\n}\n\n/**\n * Handle update_display_data messages\n */\nfunction handle_update_output(event, handle) {\n  handle_clear_output(event, {cell: {output_area: handle.output_area}})\n  handle_add_output(event, handle)\n}\n\nfunction register_renderer(events, OutputArea) {\n  function append_mime(data, metadata, element) {\n    // create a DOM node to render to\n    var toinsert = this.create_output_subarea(\n    metadata,\n    CLASS_NAME,\n    EXEC_MIME_TYPE\n    );\n    this.keyboard_manager.register_events(toinsert);\n    // Render to node\n    var props = {data: data, metadata: metadata[EXEC_MIME_TYPE]};\n    render(props, toinsert[0]);\n    element.append(toinsert);\n    return toinsert\n  }\n\n  events.on('output_added.OutputArea', handle_add_output);\n  events.on('output_updated.OutputArea', handle_update_output);\n  events.on('clear_output.CodeCell', handle_clear_output);\n  events.on('delete.Cell', handle_clear_output);\n  events.on('kernel_ready.Kernel', handle_kernel_cleanup);\n\n  OutputArea.prototype.register_mime_type(EXEC_MIME_TYPE, append_mime, {\n    safe: true,\n    index: 0\n  });\n}\n\nif (window.Jupyter !== undefined) {\n  try {\n    var events = require('base/js/events');\n    var OutputArea = require('notebook/js/outputarea').OutputArea;\n    if (OutputArea.prototype.mime_types().indexOf(EXEC_MIME_TYPE) == -1) {\n      register_renderer(events, OutputArea);\n    }\n  } catch(err) {\n  }\n}\n"
     },
     "metadata": {},
     "output_type": "display_data"
    },
    {
     "data": {
      "application/vnd.holoviews_exec.v0+json": "",
      "text/html": [
       "<div id='e0188e7e-5aef-4158-8971-55c3734959f3'>\n",
       "  <div id=\"ea186584-5439-4e24-ba99-5ee3fca6dccd\" data-root-id=\"e0188e7e-5aef-4158-8971-55c3734959f3\" style=\"display: contents;\"></div>\n",
       "</div>\n",
       "<script type=\"application/javascript\">(function(root) {\n",
       "  var docs_json = {\"fbe77360-48d5-4093-b161-138f8723a59f\":{\"version\":\"3.5.2\",\"title\":\"Bokeh Application\",\"roots\":[{\"type\":\"object\",\"name\":\"panel.models.browser.BrowserInfo\",\"id\":\"e0188e7e-5aef-4158-8971-55c3734959f3\"},{\"type\":\"object\",\"name\":\"panel.models.comm_manager.CommManager\",\"id\":\"56a593d5-99fb-4663-b2ff-051131914258\",\"attributes\":{\"plot_id\":\"e0188e7e-5aef-4158-8971-55c3734959f3\",\"comm_id\":\"072879e284bc40cab7c9f8fe48b79029\",\"client_comm_id\":\"8c8e88f6c8ae482bbd644cd5a8a11047\"}}],\"defs\":[{\"type\":\"model\",\"name\":\"ReactiveHTML1\"},{\"type\":\"model\",\"name\":\"FlexBox1\",\"properties\":[{\"name\":\"align_content\",\"kind\":\"Any\",\"default\":\"flex-start\"},{\"name\":\"align_items\",\"kind\":\"Any\",\"default\":\"flex-start\"},{\"name\":\"flex_direction\",\"kind\":\"Any\",\"default\":\"row\"},{\"name\":\"flex_wrap\",\"kind\":\"Any\",\"default\":\"wrap\"},{\"name\":\"gap\",\"kind\":\"Any\",\"default\":\"\"},{\"name\":\"justify_content\",\"kind\":\"Any\",\"default\":\"flex-start\"}]},{\"type\":\"model\",\"name\":\"FloatPanel1\",\"properties\":[{\"name\":\"config\",\"kind\":\"Any\",\"default\":{\"type\":\"map\"}},{\"name\":\"contained\",\"kind\":\"Any\",\"default\":true},{\"name\":\"position\",\"kind\":\"Any\",\"default\":\"right-top\"},{\"name\":\"offsetx\",\"kind\":\"Any\",\"default\":null},{\"name\":\"offsety\",\"kind\":\"Any\",\"default\":null},{\"name\":\"theme\",\"kind\":\"Any\",\"default\":\"primary\"},{\"name\":\"status\",\"kind\":\"Any\",\"default\":\"normalized\"}]},{\"type\":\"model\",\"name\":\"GridStack1\",\"properties\":[{\"name\":\"mode\",\"kind\":\"Any\",\"default\":\"warn\"},{\"name\":\"ncols\",\"kind\":\"Any\",\"default\":null},{\"name\":\"nrows\",\"kind\":\"Any\",\"default\":null},{\"name\":\"allow_resize\",\"kind\":\"Any\",\"default\":true},{\"name\":\"allow_drag\",\"kind\":\"Any\",\"default\":true},{\"name\":\"state\",\"kind\":\"Any\",\"default\":[]}]},{\"type\":\"model\",\"name\":\"drag1\",\"properties\":[{\"name\":\"slider_width\",\"kind\":\"Any\",\"default\":5},{\"name\":\"slider_color\",\"kind\":\"Any\",\"default\":\"black\"},{\"name\":\"value\",\"kind\":\"Any\",\"default\":50}]},{\"type\":\"model\",\"name\":\"click1\",\"properties\":[{\"name\":\"terminal_output\",\"kind\":\"Any\",\"default\":\"\"},{\"name\":\"debug_name\",\"kind\":\"Any\",\"default\":\"\"},{\"name\":\"clears\",\"kind\":\"Any\",\"default\":0}]},{\"type\":\"model\",\"name\":\"FastWrapper1\",\"properties\":[{\"name\":\"object\",\"kind\":\"Any\",\"default\":null},{\"name\":\"style\",\"kind\":\"Any\",\"default\":null}]},{\"type\":\"model\",\"name\":\"NotificationAreaBase1\",\"properties\":[{\"name\":\"js_events\",\"kind\":\"Any\",\"default\":{\"type\":\"map\"}},{\"name\":\"position\",\"kind\":\"Any\",\"default\":\"bottom-right\"},{\"name\":\"_clear\",\"kind\":\"Any\",\"default\":0}]},{\"type\":\"model\",\"name\":\"NotificationArea1\",\"properties\":[{\"name\":\"js_events\",\"kind\":\"Any\",\"default\":{\"type\":\"map\"}},{\"name\":\"notifications\",\"kind\":\"Any\",\"default\":[]},{\"name\":\"position\",\"kind\":\"Any\",\"default\":\"bottom-right\"},{\"name\":\"_clear\",\"kind\":\"Any\",\"default\":0},{\"name\":\"types\",\"kind\":\"Any\",\"default\":[{\"type\":\"map\",\"entries\":[[\"type\",\"warning\"],[\"background\",\"#ffc107\"],[\"icon\",{\"type\":\"map\",\"entries\":[[\"className\",\"fas fa-exclamation-triangle\"],[\"tagName\",\"i\"],[\"color\",\"white\"]]}]]},{\"type\":\"map\",\"entries\":[[\"type\",\"info\"],[\"background\",\"#007bff\"],[\"icon\",{\"type\":\"map\",\"entries\":[[\"className\",\"fas fa-info-circle\"],[\"tagName\",\"i\"],[\"color\",\"white\"]]}]]}]}]},{\"type\":\"model\",\"name\":\"Notification\",\"properties\":[{\"name\":\"background\",\"kind\":\"Any\",\"default\":null},{\"name\":\"duration\",\"kind\":\"Any\",\"default\":3000},{\"name\":\"icon\",\"kind\":\"Any\",\"default\":null},{\"name\":\"message\",\"kind\":\"Any\",\"default\":\"\"},{\"name\":\"notification_type\",\"kind\":\"Any\",\"default\":null},{\"name\":\"_destroyed\",\"kind\":\"Any\",\"default\":false}]},{\"type\":\"model\",\"name\":\"TemplateActions1\",\"properties\":[{\"name\":\"open_modal\",\"kind\":\"Any\",\"default\":0},{\"name\":\"close_modal\",\"kind\":\"Any\",\"default\":0}]},{\"type\":\"model\",\"name\":\"BootstrapTemplateActions1\",\"properties\":[{\"name\":\"open_modal\",\"kind\":\"Any\",\"default\":0},{\"name\":\"close_modal\",\"kind\":\"Any\",\"default\":0}]},{\"type\":\"model\",\"name\":\"TemplateEditor1\",\"properties\":[{\"name\":\"layout\",\"kind\":\"Any\",\"default\":[]}]},{\"type\":\"model\",\"name\":\"MaterialTemplateActions1\",\"properties\":[{\"name\":\"open_modal\",\"kind\":\"Any\",\"default\":0},{\"name\":\"close_modal\",\"kind\":\"Any\",\"default\":0}]},{\"type\":\"model\",\"name\":\"ReactiveESM1\"},{\"type\":\"model\",\"name\":\"JSComponent1\"},{\"type\":\"model\",\"name\":\"ReactComponent1\"},{\"type\":\"model\",\"name\":\"AnyWidgetComponent1\"},{\"type\":\"model\",\"name\":\"request_value1\",\"properties\":[{\"name\":\"fill\",\"kind\":\"Any\",\"default\":\"none\"},{\"name\":\"_synced\",\"kind\":\"Any\",\"default\":null},{\"name\":\"_request_sync\",\"kind\":\"Any\",\"default\":0}]}]}};\n",
       "  var render_items = [{\"docid\":\"fbe77360-48d5-4093-b161-138f8723a59f\",\"roots\":{\"e0188e7e-5aef-4158-8971-55c3734959f3\":\"ea186584-5439-4e24-ba99-5ee3fca6dccd\"},\"root_ids\":[\"e0188e7e-5aef-4158-8971-55c3734959f3\"]}];\n",
       "  var docs = Object.values(docs_json)\n",
       "  if (!docs) {\n",
       "    return\n",
       "  }\n",
       "  const py_version = docs[0].version.replace('rc', '-rc.').replace('.dev', '-dev.')\n",
       "  async function embed_document(root) {\n",
       "    var Bokeh = get_bokeh(root)\n",
       "    await Bokeh.embed.embed_items_notebook(docs_json, render_items);\n",
       "    for (const render_item of render_items) {\n",
       "      for (const root_id of render_item.root_ids) {\n",
       "\tconst id_el = document.getElementById(root_id)\n",
       "\tif (id_el.children.length && id_el.children[0].hasAttribute('data-root-id')) {\n",
       "\t  const root_el = id_el.children[0]\n",
       "\t  root_el.id = root_el.id + '-rendered'\n",
       "\t  for (const child of root_el.children) {\n",
       "            // Ensure JupyterLab does not capture keyboard shortcuts\n",
       "            // see: https://jupyterlab.readthedocs.io/en/4.1.x/extension/notebook.html#keyboard-interaction-model\n",
       "\t    child.setAttribute('data-lm-suppress-shortcuts', 'true')\n",
       "\t  }\n",
       "\t}\n",
       "      }\n",
       "    }\n",
       "  }\n",
       "  function get_bokeh(root) {\n",
       "    if (root.Bokeh === undefined) {\n",
       "      return null\n",
       "    } else if (root.Bokeh.version !== py_version) {\n",
       "      if (root.Bokeh.versions === undefined || !root.Bokeh.versions.has(py_version)) {\n",
       "\treturn null\n",
       "      }\n",
       "      return root.Bokeh.versions.get(py_version);\n",
       "    } else if (root.Bokeh.version === py_version) {\n",
       "      return root.Bokeh\n",
       "    }\n",
       "    return null\n",
       "  }\n",
       "  function is_loaded(root) {\n",
       "    var Bokeh = get_bokeh(root)\n",
       "    return (Bokeh != null && Bokeh.Panel !== undefined)\n",
       "  }\n",
       "  if (is_loaded(root)) {\n",
       "    embed_document(root);\n",
       "  } else {\n",
       "    var attempts = 0;\n",
       "    var timer = setInterval(function(root) {\n",
       "      if (is_loaded(root)) {\n",
       "        clearInterval(timer);\n",
       "        embed_document(root);\n",
       "      } else if (document.readyState == \"complete\") {\n",
       "        attempts++;\n",
       "        if (attempts > 200) {\n",
       "          clearInterval(timer);\n",
       "\t  var Bokeh = get_bokeh(root)\n",
       "\t  if (Bokeh == null || Bokeh.Panel == null) {\n",
       "            console.warn(\"Panel: ERROR: Unable to run Panel code because Bokeh or Panel library is missing\");\n",
       "\t  } else {\n",
       "\t    console.warn(\"Panel: WARNING: Attempting to render but not all required libraries could be resolved.\")\n",
       "\t    embed_document(root)\n",
       "\t  }\n",
       "        }\n",
       "      }\n",
       "    }, 25, root)\n",
       "  }\n",
       "})(window);</script>"
      ]
     },
     "metadata": {
      "application/vnd.holoviews_exec.v0+json": {
       "id": "e0188e7e-5aef-4158-8971-55c3734959f3"
      }
     },
     "output_type": "display_data"
    },
    {
     "data": {
      "application/vnd.jupyter.widget-view+json": {
       "model_id": "8dd290f8c1ae44a78a428845d0668c98",
       "version_major": 2,
       "version_minor": 0
      },
      "text/plain": [
       "Constructor(children=(HTML(value=\"<h2 id='prog_128858552328912'>root</h2>\"), Button(description='Start schedul…"
      ]
     },
     "metadata": {},
     "output_type": "display_data"
    }
   ],
   "source": [
    "from ipyprogressivis.widgets import get_header, Constructor\n",
    "import panel as pn \n",
    "header = get_header()\n",
    "display(header.talker)\n",
    "display(header.backup)\n",
    "pn.extension('ace', 'jsoneditor', 'ipywidgets')\n",
    "display(header.constructor)\n",
    "with header.modules_out:\n",
    "    display(header.board)\n",
    "with header.widgets_out:\n",
    "    display(header.manager)\n",
    "header.talker.labcommand(\"notebook:hide-cell-code\")\n",
    "%load_ext ipyprogressivis.magics"
   ]
  },
  {
   "cell_type": "markdown",
   "id": "27ee54b7-f33e-4eb7-b7d3-664115fc7727",
   "metadata": {
    "deletable": false,
    "editable": false,
    "progressivis_tag": "128858552506064"
   },
   "source": [
    "## Taxis"
   ]
  },
  {
   "cell_type": "code",
   "execution_count": 2,
   "id": "e143d46e-5b97-4b42-b2ac-d5b0a9872139",
   "metadata": {
    "deletable": false,
    "editable": false,
    "progressivis_tag": "128858552506064"
   },
   "outputs": [
    {
     "data": {
      "application/vnd.jupyter.widget-view+json": {
       "model_id": "331840c4e0184fad8aad1fe68590343a",
       "version_major": 2,
       "version_minor": 0
      },
      "text/plain": [
       "NodeCarrier(children=(CsvLoaderW(children=(Checkbox(value=False, description='Reuse previous settings ...'), S…"
      ]
     },
     "execution_count": 2,
     "metadata": {},
     "output_type": "execute_result"
    }
   ],
   "source": [
    "Constructor.widget('Taxis', 0)"
   ]
  },
  {
   "cell_type": "markdown",
   "id": "f666ca36-6788-480d-9a79-65b19956b2d4",
   "metadata": {
    "deletable": false,
    "editable": false,
    "progressivis_tag": "128858530973904"
   },
   "source": [
    "## RangeQuery2D"
   ]
  },
  {
   "cell_type": "code",
   "execution_count": 3,
   "id": "225bd88a-4471-4bd6-adb7-451b66d5df3c",
   "metadata": {
    "deletable": false,
    "editable": false,
    "progressivis_tag": "128858530973904"
   },
   "outputs": [
    {
     "data": {
      "application/vnd.jupyter.widget-view+json": {
       "model_id": "2f901e26c2ea478c96a6625503e5d9a1",
       "version_major": 2,
       "version_minor": 0
      },
      "text/plain": [
       "NodeCarrier(children=(RangeQuery2DW(children=(DataFrameGrid(children=(Label(value=''), Label(value='Column'), …"
      ]
     },
     "execution_count": 3,
     "metadata": {},
     "output_type": "execute_result"
    }
   ],
   "source": [
    "Constructor.widget('RangeQuery2D', 0)"
   ]
  },
  {
   "cell_type": "markdown",
   "id": "75b8cd53-e6ba-472e-9950-41d0ad6e6107",
   "metadata": {
    "deletable": false,
    "editable": false,
    "progressivis_tag": "128858530705552"
   },
   "source": [
    "## Heatmap"
   ]
  },
  {
   "cell_type": "code",
   "execution_count": 4,
   "id": "7f9e84e9-b348-4fa2-ac1c-6e25df4d907f",
   "metadata": {
    "deletable": false,
    "editable": false,
    "progressivis_tag": "128858530705552"
   },
   "outputs": [
    {
     "data": {
      "application/vnd.jupyter.widget-view+json": {
       "model_id": "6241aeb076bc4d9693504c59036711ff",
       "version_major": 2,
       "version_minor": 0
      },
      "text/plain": [
       "NodeCarrier(children=(HeatmapW(children=(Dropdown(description='X', index=6, options=('passenger_count:int64', …"
      ]
     },
     "execution_count": 4,
     "metadata": {},
     "output_type": "execute_result"
    }
   ],
   "source": [
    "Constructor.widget('Heatmap', 0)"
   ]
  }
 ],
 "metadata": {
  "celltoolbar": "Éditer les Méta-Données",
  "hide_input": false,
  "kernelspec": {
   "display_name": "Python 3 (ipykernel)",
   "language": "python",
   "name": "python3"
  },
  "language_info": {
   "codemirror_mode": {
    "name": "ipython",
    "version": 3
   },
   "file_extension": ".py",
   "mimetype": "text/x-python",
   "name": "python",
   "nbconvert_exporter": "python",
   "pygments_lexer": "ipython3",
   "version": "3.11.4"
  },
  "latex_envs": {
   "LaTeX_envs_menu_present": true,
   "autoclose": false,
   "autocomplete": true,
   "bibliofile": "biblio.bib",
   "cite_by": "apalike",
   "current_citInitial": 1,
   "eqLabelWithNumbers": true,
   "eqNumInitial": 1,
   "hotkeys": {
    "equation": "Ctrl-E",
    "itemize": "Ctrl-I"
   },
   "labels_anchors": false,
   "latex_user_defs": false,
   "report_style_numbering": false,
   "user_envs_cfg": false
  },
  "toc": {
   "base_numbering": 1,
   "nav_menu": {},
   "number_sections": false,
   "sideBar": true,
   "skip_h1_title": true,
   "title_cell": "PTable of Contents",
   "title_sidebar": "Contents",
   "toc_cell": false,
   "toc_position": {
    "height": "836.875px",
    "left": "59px",
    "top": "111.125px",
    "width": "340px"
   },
   "toc_section_display": true,
   "toc_window_display": true
  },
  "toc-showtags": false,
  "widgets": {
   "application/vnd.jupyter.widget-state+json": {
    "state": {
     "00364520073046199b3033f80b8a9f1e": {
      "model_module": "@jupyter-widgets/controls",
      "model_module_version": "2.0.0",
      "model_name": "LabelModel",
      "state": {
       "layout": "IPY_MODEL_dadcdee159ca4573a0c1b109746cf2f0",
       "style": "IPY_MODEL_1457465306c7461daabf82bb95d1400f"
      }
     },
     "00b60901163f4b508808400ec6ac5f4d": {
      "model_module": "@jupyter-widgets/controls",
      "model_module_version": "2.0.0",
      "model_name": "ButtonStyleModel",
      "state": {
       "font_family": null,
       "font_size": null,
       "font_style": null,
       "font_variant": null,
       "font_weight": null,
       "text_color": null,
       "text_decoration": null
      }
     },
     "028ab464668f4265a519865c612291df": {
      "model_module": "@jupyter-widgets/controls",
      "model_module_version": "2.0.0",
      "model_name": "FloatTextModel",
      "state": {
       "layout": "IPY_MODEL_5cf7c712daaa44b8921e232195b47263",
       "step": null,
       "style": "IPY_MODEL_7fcae78639c2461287a0ef40b63ab337",
       "value": -73.51127624511719
      }
     },
     "029e86fa44164e359a7c65e71a640515": {
      "model_module": "@jupyter-widgets/controls",
      "model_module_version": "2.0.0",
      "model_name": "IntTextModel",
      "state": {
       "description": "Throttle:",
       "layout": "IPY_MODEL_f09e1bbd3feb46dbbfa43449f73cfe89",
       "step": 1,
       "style": "IPY_MODEL_0bb9b3be01664fe091f399817a56d3a6"
      }
     },
     "0365cb9a2ff04a78a1220e77a31187e4": {
      "model_module": "@jupyter-widgets/controls",
      "model_module_version": "2.0.0",
      "model_name": "TextModel",
      "state": {
       "description": "CUSTOM loader:",
       "disabled": true,
       "layout": "IPY_MODEL_84db0d06c4724844a88cc4ac135bc873",
       "placeholder": "optional alias",
       "style": "IPY_MODEL_f5ba29f2377d4fb79b335dec2fe79251"
      }
     },
     "04a4506760c043069ea08c314418a629": {
      "model_module": "@jupyter-widgets/controls",
      "model_module_version": "2.0.0",
      "model_name": "LabelStyleModel",
      "state": {
       "description_width": "",
       "font_family": null,
       "font_size": null,
       "font_style": null,
       "font_variant": null,
       "font_weight": null,
       "text_color": null,
       "text_decoration": null
      }
     },
     "078be23b815c44629f8f445ff894cd8e": {
      "model_module": "@jupyter-widgets/controls",
      "model_module_version": "2.0.0",
      "model_name": "LabelModel",
      "state": {
       "layout": "IPY_MODEL_a991938f0ecd4704a7cba4c3bea73de3",
       "style": "IPY_MODEL_1539b6d537fa420d9835d4019df0997e",
       "value": "dongle"
      }
     },
     "0a8132bae890486abd99c81caa56c5e6": {
      "model_module": "@jupyter-widgets/base",
      "model_module_version": "2.0.0",
      "model_name": "LayoutModel",
      "state": {}
     },
     "0bb9b3be01664fe091f399817a56d3a6": {
      "model_module": "@jupyter-widgets/controls",
      "model_module_version": "2.0.0",
      "model_name": "DescriptionStyleModel",
      "state": {
       "description_width": ""
      }
     },
     "0c252187997142799f3d0d9003f145b3": {
      "model_module": "@jupyter-widgets/controls",
      "model_module_version": "2.0.0",
      "model_name": "LabelModel",
      "state": {
       "layout": "IPY_MODEL_85a8d446b7164c4da11d06df01b8a3e3",
       "style": "IPY_MODEL_ee6336a634eb4281a85fa73f70164eb3",
       "value": "dongle"
      }
     },
     "0d0dc472bdf44e7aa5ee0851d8c5661e": {
      "model_module": "@jupyter-widgets/controls",
      "model_module_version": "2.0.0",
      "model_name": "ButtonStyleModel",
      "state": {
       "font_family": null,
       "font_size": null,
       "font_style": null,
       "font_variant": null,
       "font_weight": null,
       "text_color": null,
       "text_decoration": null
      }
     },
     "0d3c0cbbb0054af18f691f52c355230f": {
      "model_module": "@jupyter-widgets/controls",
      "model_module_version": "2.0.0",
      "model_name": "TextStyleModel",
      "state": {
       "description_width": "initial",
       "font_size": null,
       "text_color": null
      }
     },
     "0d88a1ac2a304566b3d09d0539bbdda7": {
      "model_module": "@jupyter-widgets/base",
      "model_module_version": "2.0.0",
      "model_name": "LayoutModel",
      "state": {}
     },
     "0e169424080243bd93d6e3fc7f795cef": {
      "model_module": "@jupyter-widgets/controls",
      "model_module_version": "2.0.0",
      "model_name": "LabelStyleModel",
      "state": {
       "description_width": "",
       "font_family": null,
       "font_size": null,
       "font_style": null,
       "font_variant": null,
       "font_weight": null,
       "text_color": null,
       "text_decoration": null
      }
     },
     "0ee579e87e8348b9945b76ea5c6f7eb6": {
      "model_module": "@jupyter-widgets/base",
      "model_module_version": "2.0.0",
      "model_name": "LayoutModel",
      "state": {
       "width": "initial"
      }
     },
     "0f032e89a1744a608deb45b9440a503d": {
      "model_module": "@jupyter-widgets/controls",
      "model_module_version": "2.0.0",
      "model_name": "LabelModel",
      "state": {
       "layout": "IPY_MODEL_7f15f3d268cd491b88a5ef084cf8e3c2",
       "style": "IPY_MODEL_ec9746b378874165a58a4123087f4c72",
       "value": "X"
      }
     },
     "0fa7624f6be3448c98c419b62a2a31bc": {
      "model_module": "@jupyter-widgets/base",
      "model_module_version": "2.0.0",
      "model_name": "LayoutModel",
      "state": {}
     },
     "103d2b6df3124c5ea70d398ffb353e61": {
      "model_module": "@jupyter-widgets/controls",
      "model_module_version": "2.0.0",
      "model_name": "TextStyleModel",
      "state": {
       "description_width": "",
       "font_size": null,
       "text_color": null
      }
     },
     "105f3027fdcc435a897909754165d3d9": {
      "model_module": "@jupyter-widgets/output",
      "model_module_version": "1.0.0",
      "model_name": "OutputModel",
      "state": {
       "layout": "IPY_MODEL_23fb2238ed0845bda1eed7bd3d3c658e"
      }
     },
     "1453bee558fe4b69bff13cb37b3dbfd8": {
      "model_module": "@jupyter-widgets/base",
      "model_module_version": "2.0.0",
      "model_name": "LayoutModel",
      "state": {}
     },
     "1457465306c7461daabf82bb95d1400f": {
      "model_module": "@jupyter-widgets/controls",
      "model_module_version": "2.0.0",
      "model_name": "LabelStyleModel",
      "state": {
       "description_width": "",
       "font_family": null,
       "font_size": null,
       "font_style": null,
       "font_variant": null,
       "font_weight": null,
       "text_color": null,
       "text_decoration": null
      }
     },
     "148ced6faa8f4f51aad21321e139a3f8": {
      "buffers": [
       {
        "data": "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",
        "encoding": "base64",
        "path": [
         "value"
        ]
       }
      ],
      "model_module": "@jupyter-widgets/controls",
      "model_module_version": "2.0.0",
      "model_name": "ImageModel",
      "state": {
       "height": "512",
       "layout": "IPY_MODEL_97da415873ac44f5a23e186e366390a5",
       "width": "512"
      }
     },
     "1539b6d537fa420d9835d4019df0997e": {
      "model_module": "@jupyter-widgets/controls",
      "model_module_version": "2.0.0",
      "model_name": "LabelStyleModel",
      "state": {
       "description_width": "",
       "font_family": null,
       "font_size": null,
       "font_style": null,
       "font_variant": null,
       "font_weight": null,
       "text_color": null,
       "text_decoration": null
      }
     },
     "1671dc30353a4510977adb29fb74adbd": {
      "model_module": "jupyter-progressivis",
      "model_module_version": "^0.1.0",
      "model_name": "ModuleGraphModel",
      "state": {
       "_model_module_version": "^0.1.0",
       "_view_module_version": "^0.1.0",
       "data": "{}",
       "layout": "IPY_MODEL_f346cf3769d7495791e991b18983ca1e"
      }
     },
     "18f6924e86214bd5986dae7a135dcf0a": {
      "model_module": "@jupyter-widgets/controls",
      "model_module_version": "2.0.0",
      "model_name": "FloatRangeSliderModel",
      "state": {
       "_model_name": "FloatRangeSliderModel",
       "_view_name": "FloatRangeSliderView",
       "behavior": "drag-tap",
       "continuous_update": false,
       "layout": "IPY_MODEL_7ead67d307ea44a8a95d7e2c4d983850",
       "max": -73.51127624511719,
       "min": -74.07916259765625,
       "readout_format": ".1f",
       "step": 0.05678863525390625,
       "style": "IPY_MODEL_c2def71b4c7641e791616360e3fe6b01",
       "value": [
        -74.07916259765625,
        -73.51127624511719
       ]
      }
     },
     "18fa205b84604de9887847aaaec086cc": {
      "model_module": "@jupyter-widgets/controls",
      "model_module_version": "2.0.0",
      "model_name": "LabelStyleModel",
      "state": {
       "description_width": "",
       "font_family": null,
       "font_size": null,
       "font_style": null,
       "font_variant": null,
       "font_weight": null,
       "text_color": null,
       "text_decoration": null
      }
     },
     "198b2585f7cb40a2a5365c08834223f6": {
      "model_module": "@jupyter-widgets/controls",
      "model_module_version": "2.0.0",
      "model_name": "LabelStyleModel",
      "state": {
       "description_width": "",
       "font_family": null,
       "font_size": null,
       "font_style": null,
       "font_variant": null,
       "font_weight": null,
       "text_color": null,
       "text_decoration": null
      }
     },
     "1b944ba67c4644d2a0dac96e19ae0216": {
      "model_module": "@jupyter-widgets/controls",
      "model_module_version": "2.0.0",
      "model_name": "TextStyleModel",
      "state": {
       "description_width": "initial",
       "font_size": null,
       "text_color": null
      }
     },
     "1bac982688dc4218ba1c43dcfaacad48": {
      "model_module": "@jupyter-widgets/base",
      "model_module_version": "2.0.0",
      "model_name": "LayoutModel",
      "state": {}
     },
     "1c979db35eb347359fd994b9948bb936": {
      "model_module": "@jupyter-widgets/base",
      "model_module_version": "2.0.0",
      "model_name": "LayoutModel",
      "state": {}
     },
     "1ddc5fb79ff848ad87e02b96ab4a9f1f": {
      "model_module": "@jupyter-widgets/base",
      "model_module_version": "2.0.0",
      "model_name": "LayoutModel",
      "state": {}
     },
     "1e6555f5401c4db28c0172851ddf8a9f": {
      "model_module": "@jupyter-widgets/base",
      "model_module_version": "2.0.0",
      "model_name": "LayoutModel",
      "state": {
       "height": "500px",
       "overflow": "auto"
      }
     },
     "1fe691b08b71465ba7d8d849e73c60b4": {
      "model_module": "@jupyter-widgets/controls",
      "model_module_version": "2.0.0",
      "model_name": "ButtonModel",
      "state": {
       "description": "Step by step",
       "disabled": true,
       "icon": "check",
       "layout": "IPY_MODEL_0a8132bae890486abd99c81caa56c5e6",
       "style": "IPY_MODEL_e619fa75b185427b8590e3b05d5ef436",
       "tooltip": "Step by step"
      }
     },
     "20b853b4c0974235855a99166f6df6bb": {
      "model_module": "@jupyter-widgets/controls",
      "model_module_version": "2.0.0",
      "model_name": "LabelModel",
      "state": {
       "layout": "IPY_MODEL_49bfef4600a145df9e629826cdc2e60c",
       "style": "IPY_MODEL_5dfe463aa8904add848a0f2ac0369f92",
       "value": "dongle"
      }
     },
     "220cc8c99f0540d9b2ef6649757aeaa3": {
      "model_module": "@jupyter-widgets/base",
      "model_module_version": "2.0.0",
      "model_name": "LayoutModel",
      "state": {
       "visibility": "hidden"
      }
     },
     "22331350d9424b869dc33fa852a497aa": {
      "model_module": "@jupyter-widgets/controls",
      "model_module_version": "2.0.0",
      "model_name": "LabelModel",
      "state": {
       "layout": "IPY_MODEL_6b4b5dbf1f1646968858b66795e3f0f6",
       "style": "IPY_MODEL_a4dc9d4103a34b8681206f206efd62ca",
       "value": "dongle"
      }
     },
     "2238c398f4ba481d95588c2b32e2ad3e": {
      "model_module": "@jupyter-widgets/controls",
      "model_module_version": "2.0.0",
      "model_name": "LabelStyleModel",
      "state": {
       "description_width": "",
       "font_family": null,
       "font_size": null,
       "font_style": null,
       "font_variant": null,
       "font_weight": null,
       "text_color": null,
       "text_decoration": null
      }
     },
     "226c73791e30471281b2518f00c9c7ab": {
      "model_module": "@jupyter-widgets/base",
      "model_module_version": "2.0.0",
      "model_name": "LayoutModel",
      "state": {
       "visibility": "hidden"
      }
     },
     "23fb2238ed0845bda1eed7bd3d3c658e": {
      "model_module": "@jupyter-widgets/base",
      "model_module_version": "2.0.0",
      "model_name": "LayoutModel",
      "state": {}
     },
     "2616f9e941d347238084acb3877f40c1": {
      "model_module": "@jupyter-widgets/base",
      "model_module_version": "2.0.0",
      "model_name": "LayoutModel",
      "state": {
       "visibility": "hidden"
      }
     },
     "269a6727b00549ffa388ac80e0511003": {
      "model_module": "@jupyter-widgets/base",
      "model_module_version": "2.0.0",
      "model_name": "LayoutModel",
      "state": {
       "visibility": "hidden"
      }
     },
     "26ec971ff9ab4939960a646d8830ada8": {
      "model_module": "@jupyter-widgets/controls",
      "model_module_version": "2.0.0",
      "model_name": "HBoxModel",
      "state": {
       "children": [
        "IPY_MODEL_9141cd25c85e479fade86cdab4900d99",
        "IPY_MODEL_d5fb69e0f777412f8aadabf3334ae32c"
       ],
       "layout": "IPY_MODEL_1ddc5fb79ff848ad87e02b96ab4a9f1f"
      }
     },
     "2868fb3b72824bbf86364b5d6065d474": {
      "model_module": "@jupyter-widgets/controls",
      "model_module_version": "2.0.0",
      "model_name": "VBoxModel",
      "state": {
       "children": [
        "IPY_MODEL_9836d1c6d1014ae090824995e7401b4f",
        "IPY_MODEL_fe657cb9c9a449b7ac8ea7bbbe5550c7"
       ],
       "layout": "IPY_MODEL_a7724c8d6053416b8e5cad163e107344"
      }
     },
     "286c4487d13047a2a701861904d4265e": {
      "model_module": "@jupyter-widgets/base",
      "model_module_version": "2.0.0",
      "model_name": "LayoutModel",
      "state": {}
     },
     "296701459db746be881c85c282cec3d6": {
      "model_module": "@jupyter-widgets/controls",
      "model_module_version": "2.0.0",
      "model_name": "LabelModel",
      "state": {
       "layout": "IPY_MODEL_c9a4c9c047694035ac2f129919c07b18",
       "style": "IPY_MODEL_d21e088ffcc44b7aabbb4f5756a684bb",
       "value": "dongle"
      }
     },
     "2ab4e2a2f84e43e0a2f0182643144ff9": {
      "model_module": "@jupyter-widgets/base",
      "model_module_version": "2.0.0",
      "model_name": "LayoutModel",
      "state": {
       "visibility": "hidden"
      }
     },
     "2bdb85de2def46f29538de5798444cbb": {
      "model_module": "@jupyter-widgets/controls",
      "model_module_version": "2.0.0",
      "model_name": "DescriptionStyleModel",
      "state": {
       "description_width": ""
      }
     },
     "2c990c23befb4314a1da19be64af2533": {
      "model_module": "jupyter-progressivis",
      "model_module_version": "^0.1.0",
      "model_name": "TalkerModel",
      "state": {
       "_model_module_version": "^0.1.0",
       "_view_module_version": "^0.1.0",
       "layout": "IPY_MODEL_d301ecac0630489fba01f5c6d2a24bd0"
      }
     },
     "2d231962fef34c8e82f3c495bd25f8f5": {
      "model_module": "@jupyter-widgets/base",
      "model_module_version": "2.0.0",
      "model_name": "LayoutModel",
      "state": {}
     },
     "2dbce2d974184a08a866e0b30d1498bc": {
      "model_module": "@jupyter-widgets/base",
      "model_module_version": "2.0.0",
      "model_name": "LayoutModel",
      "state": {}
     },
     "2ebd4c2ac419464ca3849942da305f57": {
      "model_module": "@jupyter-widgets/base",
      "model_module_version": "2.0.0",
      "model_name": "LayoutModel",
      "state": {
       "visibility": "hidden"
      }
     },
     "2f901e26c2ea478c96a6625503e5d9a1": {
      "model_module": "@jupyter-widgets/controls",
      "model_module_version": "2.0.0",
      "model_name": "VBoxModel",
      "state": {
       "children": [
        "IPY_MODEL_3bc2fdea38524437979db88c6e20c270",
        "IPY_MODEL_2868fb3b72824bbf86364b5d6065d474"
       ],
       "layout": "IPY_MODEL_7b3109da6ec540e48dae35a599bc1ac2"
      }
     },
     "309b0673e87c49518bbe561a55d5e67e": {
      "model_module": "@jupyter-widgets/base",
      "model_module_version": "2.0.0",
      "model_name": "LayoutModel",
      "state": {
       "visibility": "hidden"
      }
     },
     "321f19d4d969498aae5038137633b407": {
      "model_module": "@jupyter-widgets/controls",
      "model_module_version": "2.0.0",
      "model_name": "ButtonModel",
      "state": {
       "description": "Start",
       "disabled": true,
       "icon": "check",
       "layout": "IPY_MODEL_605ff6b166884295bc77e1cff64893d5",
       "style": "IPY_MODEL_ea52f340a202492e830513ed3deb2ace",
       "tooltip": "Start"
      }
     },
     "325d06e3df5c4030ba376b978d70df2b": {
      "model_module": "@jupyter-widgets/base",
      "model_module_version": "2.0.0",
      "model_name": "LayoutModel",
      "state": {
       "visibility": "hidden"
      }
     },
     "32a77390bdea4d799b5610e8e1fb81e3": {
      "model_module": "@jupyter-widgets/base",
      "model_module_version": "2.0.0",
      "model_name": "LayoutModel",
      "state": {}
     },
     "331840c4e0184fad8aad1fe68590343a": {
      "model_module": "@jupyter-widgets/controls",
      "model_module_version": "2.0.0",
      "model_name": "VBoxModel",
      "state": {
       "children": [
        "IPY_MODEL_5fc03b65c54f4740abb026ab644e19d7",
        "IPY_MODEL_fc487d0b84bb4cb2a696f17b41690aea"
       ],
       "layout": "IPY_MODEL_286c4487d13047a2a701861904d4265e"
      }
     },
     "3319b91cbf3e476fbdb2f25ec4cee82b": {
      "model_module": "@jupyter-widgets/base",
      "model_module_version": "2.0.0",
      "model_name": "LayoutModel",
      "state": {}
     },
     "34f1ac48005d4201a8187be81dc3195b": {
      "model_module": "jupyter-progressivis",
      "model_module_version": "^0.1.0",
      "model_name": "SensitiveHTMLModel",
      "state": {
       "_model_module_version": "^0.1.0",
       "_view_module_version": "^0.1.0",
       "data": {
        "ps-cell_binning_index_nd_1_classname": "binning_index_nd",
        "ps-cell_binning_index_nd_1_id": "binning_index_nd_1",
        "ps-cell_binning_index_nd_1_is_visualization": " ",
        "ps-cell_binning_index_nd_1_last_update": 5607,
        "ps-cell_binning_index_nd_1_order": 4,
        "ps-cell_binning_index_nd_1_state": "state_ready",
        "ps-cell_constant_1_classname": "constant",
        "ps-cell_constant_1_id": "constant_1",
        "ps-cell_constant_1_is_visualization": " ",
        "ps-cell_constant_1_last_update": 57,
        "ps-cell_constant_1_order": 1,
        "ps-cell_constant_1_state": "state_terminated",
        "ps-cell_heatmap_1_classname": "heatmap",
        "ps-cell_heatmap_1_id": "heatmap_1",
        "ps-cell_heatmap_1_is_visualization": " ",
        "ps-cell_heatmap_1_last_update": 5604,
        "ps-cell_heatmap_1_order": 12,
        "ps-cell_heatmap_1_state": "state_blocked",
        "ps-cell_histogram2_d_1_classname": "histogram2_d",
        "ps-cell_histogram2_d_1_id": "histogram2_d_1",
        "ps-cell_histogram2_d_1_is_visualization": " ",
        "ps-cell_histogram2_d_1_last_update": 5603,
        "ps-cell_histogram2_d_1_order": 11,
        "ps-cell_histogram2_d_1_state": "state_ready",
        "ps-cell_max_1_classname": "max",
        "ps-cell_max_1_id": "max_1",
        "ps-cell_max_1_is_visualization": " ",
        "ps-cell_max_1_last_update": 5602,
        "ps-cell_max_1_order": 10,
        "ps-cell_max_1_state": "state_ready",
        "ps-cell_min_1_classname": "min",
        "ps-cell_min_1_id": "min_1",
        "ps-cell_min_1_is_visualization": " ",
        "ps-cell_min_1_last_update": 5601,
        "ps-cell_min_1_order": 9,
        "ps-cell_min_1_state": "state_ready",
        "ps-cell_range_query2d_1_classname": "range_query2d",
        "ps-cell_range_query2d_1_id": "range_query2d_1",
        "ps-cell_range_query2d_1_is_visualization": " ",
        "ps-cell_range_query2d_1_last_update": 5600,
        "ps-cell_range_query2d_1_order": 7,
        "ps-cell_range_query2d_1_state": "state_ready",
        "ps-cell_simple_csv_loader_1_classname": "simple_csv_loader",
        "ps-cell_simple_csv_loader_1_id": "simple_csv_loader_1",
        "ps-cell_simple_csv_loader_1_is_visualization": " ",
        "ps-cell_simple_csv_loader_1_last_update": 5606,
        "ps-cell_simple_csv_loader_1_order": 2,
        "ps-cell_simple_csv_loader_1_state": "state_ready",
        "ps-cell_sink_1_classname": "sink",
        "ps-cell_sink_1_id": "sink_1",
        "ps-cell_sink_1_is_visualization": " ",
        "ps-cell_sink_1_last_update": 0,
        "ps-cell_sink_1_order": 3,
        "ps-cell_sink_1_state": "state_terminated",
        "ps-cell_sink_2_classname": "sink",
        "ps-cell_sink_2_id": "sink_2",
        "ps-cell_sink_2_is_visualization": " ",
        "ps-cell_sink_2_last_update": 0,
        "ps-cell_sink_2_order": 8,
        "ps-cell_sink_2_state": "state_terminated",
        "ps-cell_var_max_classname": "variable",
        "ps-cell_var_max_id": "var_max",
        "ps-cell_var_max_is_visualization": " ",
        "ps-cell_var_max_last_update": 5608,
        "ps-cell_var_max_order": 5,
        "ps-cell_var_max_state": "state_blocked",
        "ps-cell_var_min_classname": "variable",
        "ps-cell_var_min_id": "var_min",
        "ps-cell_var_min_is_visualization": " ",
        "ps-cell_var_min_last_update": 5609,
        "ps-cell_var_min_order": 6,
        "ps-cell_var_min_state": "state_blocked",
        "ps-cell_variable_1_classname": "variable",
        "ps-cell_variable_1_id": "variable_1",
        "ps-cell_variable_1_is_visualization": " ",
        "ps-cell_variable_1_last_update": 5605,
        "ps-cell_variable_1_order": 0,
        "ps-cell_variable_1_state": "state_blocked"
       },
       "html": "\n<table class=\"table table-striped table-bordered table-hover table-condensed\">\n<thead><tr><th></th><th>Id</th><th>Class</th><th>State</th><th>Last Update</th>\n<th>Order</th></tr></thead>\n<tbody>\n\n  <tr>\n  \n  <td>\n  \n  <span id=\"ps-cell_variable_1_is_visualization\"> </span>\n  \n  </td>\n  \n  <td>\n  \n  <a class='ps-row-btn' id=\"ps-row-btn_variable_1\" type='button' >variable_1</a>\n  \n  </td>\n  \n  <td>\n  \n  <span id=\"ps-cell_variable_1_classname\">variable</span>\n  \n  </td>\n  \n  <td>\n  \n  <span id=\"ps-cell_variable_1_state\">state_blocked</span>\n  \n  </td>\n  \n  <td>\n  \n  <span id=\"ps-cell_variable_1_last_update\">4726</span>\n  \n  </td>\n  \n  <td>\n  \n  <span id=\"ps-cell_variable_1_order\">0</span>\n  \n  </td>\n  \n  </tr>\n\n  <tr>\n  \n  <td>\n  \n  <span id=\"ps-cell_constant_1_is_visualization\"> </span>\n  \n  </td>\n  \n  <td>\n  \n  <a class='ps-row-btn' id=\"ps-row-btn_constant_1\" type='button' >constant_1</a>\n  \n  </td>\n  \n  <td>\n  \n  <span id=\"ps-cell_constant_1_classname\">constant</span>\n  \n  </td>\n  \n  <td>\n  \n  <span id=\"ps-cell_constant_1_state\">state_terminated</span>\n  \n  </td>\n  \n  <td>\n  \n  <span id=\"ps-cell_constant_1_last_update\">57</span>\n  \n  </td>\n  \n  <td>\n  \n  <span id=\"ps-cell_constant_1_order\">1</span>\n  \n  </td>\n  \n  </tr>\n\n  <tr>\n  \n  <td>\n  \n  <span id=\"ps-cell_simple_csv_loader_1_is_visualization\"> </span>\n  \n  </td>\n  \n  <td>\n  \n  <a class='ps-row-btn' id=\"ps-row-btn_simple_csv_loader_1\" type='button' >simple_csv_loader_1</a>\n  \n  </td>\n  \n  <td>\n  \n  <span id=\"ps-cell_simple_csv_loader_1_classname\">simple_csv_loader</span>\n  \n  </td>\n  \n  <td>\n  \n  <span id=\"ps-cell_simple_csv_loader_1_state\">state_ready</span>\n  \n  </td>\n  \n  <td>\n  \n  <span id=\"ps-cell_simple_csv_loader_1_last_update\">4727</span>\n  \n  </td>\n  \n  <td>\n  \n  <span id=\"ps-cell_simple_csv_loader_1_order\">2</span>\n  \n  </td>\n  \n  </tr>\n\n  <tr>\n  \n  <td>\n  \n  <span id=\"ps-cell_sink_1_is_visualization\"> </span>\n  \n  </td>\n  \n  <td>\n  \n  <a class='ps-row-btn' id=\"ps-row-btn_sink_1\" type='button' >sink_1</a>\n  \n  </td>\n  \n  <td>\n  \n  <span id=\"ps-cell_sink_1_classname\">sink</span>\n  \n  </td>\n  \n  <td>\n  \n  <span id=\"ps-cell_sink_1_state\">state_terminated</span>\n  \n  </td>\n  \n  <td>\n  \n  <span id=\"ps-cell_sink_1_last_update\">0</span>\n  \n  </td>\n  \n  <td>\n  \n  <span id=\"ps-cell_sink_1_order\">3</span>\n  \n  </td>\n  \n  </tr>\n\n  <tr>\n  \n  <td>\n  \n  <span id=\"ps-cell_binning_index_nd_1_is_visualization\"> </span>\n  \n  </td>\n  \n  <td>\n  \n  <a class='ps-row-btn' id=\"ps-row-btn_binning_index_nd_1\" type='button' >binning_index_nd_1</a>\n  \n  </td>\n  \n  <td>\n  \n  <span id=\"ps-cell_binning_index_nd_1_classname\">binning_index_nd</span>\n  \n  </td>\n  \n  <td>\n  \n  <span id=\"ps-cell_binning_index_nd_1_state\">state_ready</span>\n  \n  </td>\n  \n  <td>\n  \n  <span id=\"ps-cell_binning_index_nd_1_last_update\">4728</span>\n  \n  </td>\n  \n  <td>\n  \n  <span id=\"ps-cell_binning_index_nd_1_order\">4</span>\n  \n  </td>\n  \n  </tr>\n\n  <tr>\n  \n  <td>\n  \n  <span id=\"ps-cell_var_max_is_visualization\"> </span>\n  \n  </td>\n  \n  <td>\n  \n  <a class='ps-row-btn' id=\"ps-row-btn_var_max\" type='button' >var_max</a>\n  \n  </td>\n  \n  <td>\n  \n  <span id=\"ps-cell_var_max_classname\">variable</span>\n  \n  </td>\n  \n  <td>\n  \n  <span id=\"ps-cell_var_max_state\">state_blocked</span>\n  \n  </td>\n  \n  <td>\n  \n  <span id=\"ps-cell_var_max_last_update\">4729</span>\n  \n  </td>\n  \n  <td>\n  \n  <span id=\"ps-cell_var_max_order\">5</span>\n  \n  </td>\n  \n  </tr>\n\n  <tr>\n  \n  <td>\n  \n  <span id=\"ps-cell_var_min_is_visualization\"> </span>\n  \n  </td>\n  \n  <td>\n  \n  <a class='ps-row-btn' id=\"ps-row-btn_var_min\" type='button' >var_min</a>\n  \n  </td>\n  \n  <td>\n  \n  <span id=\"ps-cell_var_min_classname\">variable</span>\n  \n  </td>\n  \n  <td>\n  \n  <span id=\"ps-cell_var_min_state\">state_blocked</span>\n  \n  </td>\n  \n  <td>\n  \n  <span id=\"ps-cell_var_min_last_update\">4730</span>\n  \n  </td>\n  \n  <td>\n  \n  <span id=\"ps-cell_var_min_order\">6</span>\n  \n  </td>\n  \n  </tr>\n\n  <tr>\n  \n  <td>\n  \n  <span id=\"ps-cell_range_query2d_1_is_visualization\"> </span>\n  \n  </td>\n  \n  <td>\n  \n  <a class='ps-row-btn' id=\"ps-row-btn_range_query2d_1\" type='button' >range_query2d_1</a>\n  \n  </td>\n  \n  <td>\n  \n  <span id=\"ps-cell_range_query2d_1_classname\">range_query2d</span>\n  \n  </td>\n  \n  <td>\n  \n  <span id=\"ps-cell_range_query2d_1_state\">state_ready</span>\n  \n  </td>\n  \n  <td>\n  \n  <span id=\"ps-cell_range_query2d_1_last_update\">4731</span>\n  \n  </td>\n  \n  <td>\n  \n  <span id=\"ps-cell_range_query2d_1_order\">7</span>\n  \n  </td>\n  \n  </tr>\n\n  <tr>\n  \n  <td>\n  \n  <span id=\"ps-cell_sink_2_is_visualization\"> </span>\n  \n  </td>\n  \n  <td>\n  \n  <a class='ps-row-btn' id=\"ps-row-btn_sink_2\" type='button' >sink_2</a>\n  \n  </td>\n  \n  <td>\n  \n  <span id=\"ps-cell_sink_2_classname\">sink</span>\n  \n  </td>\n  \n  <td>\n  \n  <span id=\"ps-cell_sink_2_state\">state_terminated</span>\n  \n  </td>\n  \n  <td>\n  \n  <span id=\"ps-cell_sink_2_last_update\">0</span>\n  \n  </td>\n  \n  <td>\n  \n  <span id=\"ps-cell_sink_2_order\">8</span>\n  \n  </td>\n  \n  </tr>\n\n  <tr>\n  \n  <td>\n  \n  <span id=\"ps-cell_min_1_is_visualization\"> </span>\n  \n  </td>\n  \n  <td>\n  \n  <a class='ps-row-btn' id=\"ps-row-btn_min_1\" type='button' >min_1</a>\n  \n  </td>\n  \n  <td>\n  \n  <span id=\"ps-cell_min_1_classname\">min</span>\n  \n  </td>\n  \n  <td>\n  \n  <span id=\"ps-cell_min_1_state\">state_ready</span>\n  \n  </td>\n  \n  <td>\n  \n  <span id=\"ps-cell_min_1_last_update\">0</span>\n  \n  </td>\n  \n  <td>\n  \n  <span id=\"ps-cell_min_1_order\">9</span>\n  \n  </td>\n  \n  </tr>\n\n  <tr>\n  \n  <td>\n  \n  <span id=\"ps-cell_max_1_is_visualization\"> </span>\n  \n  </td>\n  \n  <td>\n  \n  <a class='ps-row-btn' id=\"ps-row-btn_max_1\" type='button' >max_1</a>\n  \n  </td>\n  \n  <td>\n  \n  <span id=\"ps-cell_max_1_classname\">max</span>\n  \n  </td>\n  \n  <td>\n  \n  <span id=\"ps-cell_max_1_state\">state_ready</span>\n  \n  </td>\n  \n  <td>\n  \n  <span id=\"ps-cell_max_1_last_update\">0</span>\n  \n  </td>\n  \n  <td>\n  \n  <span id=\"ps-cell_max_1_order\">10</span>\n  \n  </td>\n  \n  </tr>\n\n  <tr>\n  \n  <td>\n  \n  <span id=\"ps-cell_histogram2_d_1_is_visualization\">a</span>\n  \n  </td>\n  \n  <td>\n  \n  <a class='ps-row-btn' id=\"ps-row-btn_histogram2_d_1\" type='button' >histogram2_d_1</a>\n  \n  </td>\n  \n  <td>\n  \n  <span id=\"ps-cell_histogram2_d_1_classname\">histogram2_d</span>\n  \n  </td>\n  \n  <td>\n  \n  <span id=\"ps-cell_histogram2_d_1_state\">state_ready</span>\n  \n  </td>\n  \n  <td>\n  \n  <span id=\"ps-cell_histogram2_d_1_last_update\">0</span>\n  \n  </td>\n  \n  <td>\n  \n  <span id=\"ps-cell_histogram2_d_1_order\">11</span>\n  \n  </td>\n  \n  </tr>\n\n  <tr>\n  \n  <td>\n  \n  <span id=\"ps-cell_heatmap_1_is_visualization\">a</span>\n  \n  </td>\n  \n  <td>\n  \n  <a class='ps-row-btn' id=\"ps-row-btn_heatmap_1\" type='button' >heatmap_1</a>\n  \n  </td>\n  \n  <td>\n  \n  <span id=\"ps-cell_heatmap_1_classname\">heatmap</span>\n  \n  </td>\n  \n  <td>\n  \n  <span id=\"ps-cell_heatmap_1_state\">state_ready</span>\n  \n  </td>\n  \n  <td>\n  \n  <span id=\"ps-cell_heatmap_1_last_update\">0</span>\n  \n  </td>\n  \n  <td>\n  \n  <span id=\"ps-cell_heatmap_1_order\">12</span>\n  \n  </td>\n  \n  </tr>\n\n</tbody>\n</table>",
       "layout": "IPY_MODEL_1e6555f5401c4db28c0172851ddf8a9f",
       "sensitive_css_class": "ps-row-btn",
       "value": {}
      }
     },
     "3511b931c2294d65af68d195304aad9b": {
      "model_module": "@jupyter-widgets/base",
      "model_module_version": "2.0.0",
      "model_name": "LayoutModel",
      "state": {}
     },
     "3539f9d9be2c48a0af13745bc2c69339": {
      "model_module": "@jupyter-widgets/controls",
      "model_module_version": "2.0.0",
      "model_name": "LabelModel",
      "state": {
       "layout": "IPY_MODEL_7c236fcc8c8049a1ab0ea0578f9cd41c",
       "style": "IPY_MODEL_d47420fe13be42c0a509d63bc48dc2bb",
       "value": "dongle"
      }
     },
     "35471720304c45b69a6263eb0d5ae699": {
      "model_module": "@jupyter-widgets/controls",
      "model_module_version": "2.0.0",
      "model_name": "LabelModel",
      "state": {
       "layout": "IPY_MODEL_affb611f57db49fabeb791935dda01ab",
       "style": "IPY_MODEL_d04e11a896de47f384425d01f36cf64b",
       "value": "dongle"
      }
     },
     "358bce6637a54bb0b755dc3c16334613": {
      "model_module": "@jupyter-widgets/controls",
      "model_module_version": "2.0.0",
      "model_name": "TabModel",
      "state": {
       "layout": "IPY_MODEL_6e25d955deb84bc5aa01629a8467bd52"
      }
     },
     "3673a52728494221b9c27f8eeed8b577": {
      "model_module": "@jupyter-widgets/base",
      "model_module_version": "2.0.0",
      "model_name": "LayoutModel",
      "state": {
       "width": "100%"
      }
     },
     "36843dfeb52b4e75a58710df13096d79": {
      "model_module": "@jupyter-widgets/controls",
      "model_module_version": "2.0.0",
      "model_name": "LabelStyleModel",
      "state": {
       "description_width": "",
       "font_family": null,
       "font_size": null,
       "font_style": null,
       "font_variant": null,
       "font_weight": null,
       "text_color": null,
       "text_decoration": null
      }
     },
     "36cb92e1be1f46ebb4c19fbf43d2d8f6": {
      "model_module": "@jupyter-widgets/controls",
      "model_module_version": "2.0.0",
      "model_name": "ButtonModel",
      "state": {
       "description": "Unfilter",
       "icon": "check",
       "layout": "IPY_MODEL_a79284dcf71c4434aaf5a5e22309d54b",
       "style": "IPY_MODEL_00b60901163f4b508808400ec6ac5f4d",
       "tooltip": "Unfilter"
      }
     },
     "384e93c7b16f48c9994fce6a4891901d": {
      "model_module": "@jupyter-widgets/controls",
      "model_module_version": "2.0.0",
      "model_name": "LabelStyleModel",
      "state": {
       "description_width": "",
       "font_family": null,
       "font_size": null,
       "font_style": null,
       "font_variant": null,
       "font_weight": null,
       "text_color": null,
       "text_decoration": null
      }
     },
     "3a258124fbb34f83b919bc8af243e517": {
      "model_module": "@jupyter-widgets/base",
      "model_module_version": "2.0.0",
      "model_name": "LayoutModel",
      "state": {
       "visibility": "hidden"
      }
     },
     "3a74d7ad10964406afc9de92d7880095": {
      "model_module": "@jupyter-widgets/controls",
      "model_module_version": "2.0.0",
      "model_name": "LabelStyleModel",
      "state": {
       "description_width": "",
       "font_family": null,
       "font_size": null,
       "font_style": null,
       "font_variant": null,
       "font_weight": null,
       "text_color": null,
       "text_decoration": null
      }
     },
     "3bc2fdea38524437979db88c6e20c270": {
      "model_module": "@jupyter-widgets/controls",
      "model_module_version": "2.0.0",
      "model_name": "VBoxModel",
      "state": {
       "children": [
        "IPY_MODEL_ca7bca5f58b54e98a7d5c7b263504732",
        "IPY_MODEL_75709ff2b8b64886a103b59ae7c35360",
        "IPY_MODEL_321f19d4d969498aae5038137633b407",
        "IPY_MODEL_36cb92e1be1f46ebb4c19fbf43d2d8f6"
       ],
       "layout": "IPY_MODEL_0d88a1ac2a304566b3d09d0539bbdda7"
      }
     },
     "3c44a3eecb504a838caf4a756f403f06": {
      "model_module": "@jupyter-widgets/base",
      "model_module_version": "2.0.0",
      "model_name": "LayoutModel",
      "state": {}
     },
     "3ca1d79639bf43e082083fe78116f3ec": {
      "model_module": "@jupyter-widgets/controls",
      "model_module_version": "2.0.0",
      "model_name": "HBoxModel",
      "state": {
       "children": [
        "IPY_MODEL_ee47e69b6768485ea662d455a6f323b3",
        "IPY_MODEL_97fdfd8130f141fa9569ab1d49d5a709",
        "IPY_MODEL_83307feda721408c9451e4f90957809f",
        "IPY_MODEL_6c525a413392480cacdca3d8d4029245"
       ],
       "layout": "IPY_MODEL_a60c0f6ffdae49fa84e47e0d71908de2"
      }
     },
     "3cbb19f892724b2db825b2e4d1d5a40f": {
      "model_module": "@jupyter-widgets/controls",
      "model_module_version": "2.0.0",
      "model_name": "DropdownModel",
      "state": {
       "_options_labels": [
        "",
        "Descriptive_statistics",
        "Facade",
        "Heatmap",
        "Group by",
        "Aggregate",
        "Dump_table",
        "Join",
        "MultiSeries",
        "Scatterplot",
        "View",
        "Histogram1D",
        "Scaler",
        "Any Vega",
        "Python",
        "RangeQuery2D"
       ],
       "description": "Next stage",
       "index": 3,
       "layout": "IPY_MODEL_1bac982688dc4218ba1c43dcfaacad48",
       "style": "IPY_MODEL_8fe8bb40d1c64bb9b241d376f5379c17"
      }
     },
     "3d6f62b0483240838e1f89ea3977f3cf": {
      "model_module": "@jupyter-widgets/controls",
      "model_module_version": "2.0.0",
      "model_name": "LabelModel",
      "state": {
       "layout": "IPY_MODEL_90d6f2a15fd5481a8b591f70dbda07b0",
       "style": "IPY_MODEL_2238c398f4ba481d95588c2b32e2ad3e",
       "value": "Filter"
      }
     },
     "3daa9d8771714566961b8a5a5681b5e5": {
      "model_module": "@jupyter-widgets/controls",
      "model_module_version": "2.0.0",
      "model_name": "DescriptionStyleModel",
      "state": {
       "description_width": ""
      }
     },
     "3e45d82da31c40fd853c35be9c29d616": {
      "model_module": "@jupyter-widgets/controls",
      "model_module_version": "2.0.0",
      "model_name": "LabelStyleModel",
      "state": {
       "description_width": "",
       "font_family": null,
       "font_size": null,
       "font_style": null,
       "font_variant": null,
       "font_weight": null,
       "text_color": null,
       "text_decoration": null
      }
     },
     "3eef89b3b19e4072a82fe991e4e13872": {
      "model_module": "@jupyter-widgets/controls",
      "model_module_version": "2.0.0",
      "model_name": "ButtonStyleModel",
      "state": {
       "font_family": null,
       "font_size": null,
       "font_style": null,
       "font_variant": null,
       "font_weight": null,
       "text_color": null,
       "text_decoration": null
      }
     },
     "42e5f03a94584604b9a99e6c502e9a11": {
      "model_module": "@jupyter-widgets/controls",
      "model_module_version": "2.0.0",
      "model_name": "LabelModel",
      "state": {
       "layout": "IPY_MODEL_8556a24b446f413199186fcb1466c3eb",
       "style": "IPY_MODEL_a893f62b234b49a7a409c2e1d238dcb8",
       "value": "dongle"
      }
     },
     "42f1c677579344939fa4b3d60e6746eb": {
      "model_module": "@jupyter-widgets/controls",
      "model_module_version": "2.0.0",
      "model_name": "FloatTextModel",
      "state": {
       "layout": "IPY_MODEL_9c6f897d41c0405aa727352eeb866caf",
       "step": null,
       "style": "IPY_MODEL_c56729332d50426cadea3fd77fdf48ac",
       "value": 40.55963516235352
      }
     },
     "44065665c9084182a27e01a2406336e9": {
      "model_module": "@jupyter-widgets/controls",
      "model_module_version": "2.0.0",
      "model_name": "LabelStyleModel",
      "state": {
       "description_width": "",
       "font_family": null,
       "font_size": null,
       "font_style": null,
       "font_variant": null,
       "font_weight": null,
       "text_color": null,
       "text_decoration": null
      }
     },
     "4492dcf943e949fea6658651034435b0": {
      "model_module": "@jupyter-widgets/controls",
      "model_module_version": "2.0.0",
      "model_name": "ButtonStyleModel",
      "state": {
       "font_family": null,
       "font_size": null,
       "font_style": null,
       "font_variant": null,
       "font_weight": null,
       "text_color": null,
       "text_decoration": null
      }
     },
     "45b17b2b442a4da6b226ae706200262e": {
      "model_module": "@jupyter-widgets/controls",
      "model_module_version": "2.0.0",
      "model_name": "HBoxModel",
      "state": {
       "children": [
        "IPY_MODEL_91bf73b004c447ebb028466826b18970",
        "IPY_MODEL_de3437dd12474df090e661182b255bb6"
       ],
       "layout": "IPY_MODEL_1c979db35eb347359fd994b9948bb936"
      }
     },
     "4851d8dc782d4a27a06ef7b309f89362": {
      "model_module": "@jupyter-widgets/controls",
      "model_module_version": "2.0.0",
      "model_name": "LabelStyleModel",
      "state": {
       "description_width": "",
       "font_family": null,
       "font_size": null,
       "font_style": null,
       "font_variant": null,
       "font_weight": null,
       "text_color": null,
       "text_decoration": null
      }
     },
     "4941f1db9432484da2fea22133bad77b": {
      "model_module": "@jupyter-widgets/controls",
      "model_module_version": "2.0.0",
      "model_name": "LabelModel",
      "state": {
       "layout": "IPY_MODEL_220cc8c99f0540d9b2ef6649757aeaa3",
       "style": "IPY_MODEL_ea613dbfe2a041bdad03f93a8c9902e8",
       "value": "dongle"
      }
     },
     "49bfef4600a145df9e629826cdc2e60c": {
      "model_module": "@jupyter-widgets/base",
      "model_module_version": "2.0.0",
      "model_name": "LayoutModel",
      "state": {
       "visibility": "hidden"
      }
     },
     "49e393a192bf4c11b927c31696440652": {
      "model_module": "@jupyter-widgets/controls",
      "model_module_version": "2.0.0",
      "model_name": "DropdownModel",
      "state": {
       "_options_labels": [
        "passenger_count:int64",
        "trip_distance:float64",
        "pickup_longitude:float64",
        "pickup_latitude:float64",
        "dropoff_longitude:float64",
        "dropoff_latitude:float64",
        ""
       ],
       "description": "Y",
       "index": 5,
       "layout": "IPY_MODEL_5d63df335a964acda206e178f36344ae",
       "style": "IPY_MODEL_f870e394d2b94c77b302cd38168d9f4b"
      }
     },
     "4c6731744bdc4d1eafb854312ad9f01e": {
      "model_module": "@jupyter-widgets/base",
      "model_module_version": "2.0.0",
      "model_name": "LayoutModel",
      "state": {}
     },
     "4d6f9b9980fe4d7f979c7dcd37c7d497": {
      "model_module": "@jupyter-widgets/controls",
      "model_module_version": "2.0.0",
      "model_name": "DropdownModel",
      "state": {
       "_options_labels": [
        "",
        "Descriptive_statistics",
        "Facade",
        "Heatmap",
        "Group by",
        "Aggregate",
        "Dump_table",
        "Join",
        "MultiSeries",
        "Scatterplot",
        "View",
        "Histogram1D",
        "Scaler",
        "Any Vega",
        "Python",
        "RangeQuery2D"
       ],
       "description": "Next stage",
       "index": 15,
       "layout": "IPY_MODEL_0fa7624f6be3448c98c419b62a2a31bc",
       "style": "IPY_MODEL_7c09a3d8bcbc497bbe3f06c2f3719ff8"
      }
     },
     "4e09dc1927c64a6da8e1559e13c56547": {
      "model_module": "@jupyter-widgets/controls",
      "model_module_version": "2.0.0",
      "model_name": "HTMLStyleModel",
      "state": {
       "description_width": "",
       "font_size": null,
       "text_color": null
      }
     },
     "4e6189cdab7a45ad84831e5bbc440bf3": {
      "model_module": "@jupyter-widgets/base",
      "model_module_version": "2.0.0",
      "model_name": "LayoutModel",
      "state": {
       "visibility": "hidden"
      }
     },
     "4f4fce229083434a88285cf65ae1cf15": {
      "model_module": "@jupyter-widgets/base",
      "model_module_version": "2.0.0",
      "model_name": "LayoutModel",
      "state": {}
     },
     "4fc5e237dacb46cb8c982fe20b514ef0": {
      "model_module": "@jupyter-widgets/base",
      "model_module_version": "2.0.0",
      "model_name": "LayoutModel",
      "state": {
       "visibility": "hidden"
      }
     },
     "503beb0a927f434eb5d8a9f2d46c10b4": {
      "model_module": "@jupyter-widgets/controls",
      "model_module_version": "2.0.0",
      "model_name": "ProgressStyleModel",
      "state": {
       "description_width": ""
      }
     },
     "504330873d264810b2de8f3afd7d1573": {
      "model_module": "@jupyter-widgets/base",
      "model_module_version": "2.0.0",
      "model_name": "LayoutModel",
      "state": {
       "grid_template_columns": "20px 200px 100px 200px 100px"
      }
     },
     "52d8bcdaf44c4157934a1fcfa107869f": {
      "model_module": "@jupyter-widgets/controls",
      "model_module_version": "2.0.0",
      "model_name": "LabelStyleModel",
      "state": {
       "description_width": "",
       "font_family": null,
       "font_size": null,
       "font_style": null,
       "font_variant": null,
       "font_weight": null,
       "text_color": null,
       "text_decoration": null
      }
     },
     "52f7639e11f4479d8b5df7fd051b6b7c": {
      "model_module": "@jupyter-widgets/base",
      "model_module_version": "2.0.0",
      "model_name": "LayoutModel",
      "state": {}
     },
     "53335254a59c40bda00e0e57f627c76c": {
      "model_module": "@jupyter-widgets/base",
      "model_module_version": "2.0.0",
      "model_name": "LayoutModel",
      "state": {
       "width": "60%"
      }
     },
     "533d44d43b61440c8e0ee185984e4704": {
      "model_module": "@jupyter-widgets/controls",
      "model_module_version": "2.0.0",
      "model_name": "LabelStyleModel",
      "state": {
       "description_width": "",
       "font_family": null,
       "font_size": null,
       "font_style": null,
       "font_variant": null,
       "font_weight": null,
       "text_color": null,
       "text_decoration": null
      }
     },
     "5348839ff61446f29d318ca2bfa20c9f": {
      "model_module": "@jupyter-widgets/controls",
      "model_module_version": "2.0.0",
      "model_name": "TabModel",
      "state": {
       "children": [
        "IPY_MODEL_34f1ac48005d4201a8187be81dc3195b",
        "IPY_MODEL_1671dc30353a4510977adb29fb74adbd"
       ],
       "layout": "IPY_MODEL_8ac4aaab2dd7445babf3ac0cd64cc1de",
       "selected_index": 0,
       "titles": [
        "Modules",
        "Module graph"
       ]
      }
     },
     "5362074339cc4071ae5ece45feb86bc5": {
      "model_module": "@jupyter-widgets/base",
      "model_module_version": "2.0.0",
      "model_name": "LayoutModel",
      "state": {
       "visibility": "hidden"
      }
     },
     "53d6545e10fa43d495f7ada8f7029892": {
      "model_module": "@jupyter-widgets/controls",
      "model_module_version": "2.0.0",
      "model_name": "ButtonStyleModel",
      "state": {
       "font_family": null,
       "font_size": null,
       "font_style": null,
       "font_variant": null,
       "font_weight": null,
       "text_color": null,
       "text_decoration": null
      }
     },
     "53f6d4b0e6e647a58777411cabe59a7d": {
      "model_module": "@jupyter-widgets/controls",
      "model_module_version": "2.0.0",
      "model_name": "DescriptionStyleModel",
      "state": {
       "description_width": ""
      }
     },
     "5507ab0bc7c1489dbc3733b2a5f646fe": {
      "model_module": "@jupyter-widgets/controls",
      "model_module_version": "2.0.0",
      "model_name": "LabelModel",
      "state": {
       "layout": "IPY_MODEL_862dda9fee3940dc8f89413d4dc87a25",
       "style": "IPY_MODEL_52d8bcdaf44c4157934a1fcfa107869f",
       "value": "dongle"
      }
     },
     "58c1a254c0104321ac7c3a84cc776c86": {
      "model_module": "@jupyter-widgets/jupyterlab-sidecar",
      "model_module_version": "^1.1",
      "model_name": "SidecarModel",
      "state": {
       "_model_module_version": "^1.1",
       "_view_module_version": "^1.1",
       "layout": "IPY_MODEL_f33b8211f1e342e1ad93a82f91e53594",
       "outputs": [
        {
         "data": {
          "application/vnd.jupyter.widget-view+json": {
           "model_id": "d7ef4ebd48b949169a23267ddd59f6ca",
           "version_major": 2,
           "version_minor": 0
          },
          "text/plain": "DagWidgetController()"
         },
         "metadata": {},
         "output_type": "display_data"
        }
       ],
       "title": "Widgets Output"
      }
     },
     "5c63b86c00b3430593dd631917fb55cd": {
      "model_module": "@jupyter-widgets/base",
      "model_module_version": "2.0.0",
      "model_name": "LayoutModel",
      "state": {}
     },
     "5cb9b03dd925457cb7096c90d218e0f3": {
      "model_module": "@jupyter-widgets/base",
      "model_module_version": "2.0.0",
      "model_name": "LayoutModel",
      "state": {
       "width": "60%"
      }
     },
     "5cf7c712daaa44b8921e232195b47263": {
      "model_module": "@jupyter-widgets/base",
      "model_module_version": "2.0.0",
      "model_name": "LayoutModel",
      "state": {
       "width": "initial"
      }
     },
     "5d63df335a964acda206e178f36344ae": {
      "model_module": "@jupyter-widgets/base",
      "model_module_version": "2.0.0",
      "model_name": "LayoutModel",
      "state": {}
     },
     "5d74829ac4c0478e8c29e3f01395e4d0": {
      "model_module": "@jupyter-widgets/controls",
      "model_module_version": "2.0.0",
      "model_name": "LabelStyleModel",
      "state": {
       "description_width": "",
       "font_family": null,
       "font_size": null,
       "font_style": null,
       "font_variant": null,
       "font_weight": null,
       "text_color": null,
       "text_decoration": null
      }
     },
     "5dfe463aa8904add848a0f2ac0369f92": {
      "model_module": "@jupyter-widgets/controls",
      "model_module_version": "2.0.0",
      "model_name": "LabelStyleModel",
      "state": {
       "description_width": "",
       "font_family": null,
       "font_size": null,
       "font_style": null,
       "font_variant": null,
       "font_weight": null,
       "text_color": null,
       "text_decoration": null
      }
     },
     "5e772aa9bdda4e7d91cf1b4980a49246": {
      "model_module": "@jupyter-widgets/controls",
      "model_module_version": "2.0.0",
      "model_name": "IntTextModel",
      "state": {
       "description": "Rows:",
       "layout": "IPY_MODEL_7dabc03f0e144e75bbb791791a28c561",
       "step": 1,
       "style": "IPY_MODEL_2bdb85de2def46f29538de5798444cbb",
       "value": 100
      }
     },
     "5f3b7d16ab644124927ca681e81539bb": {
      "model_module": "@jupyter-widgets/base",
      "model_module_version": "2.0.0",
      "model_name": "LayoutModel",
      "state": {
       "visibility": "hidden"
      }
     },
     "5fc03b65c54f4740abb026ab644e19d7": {
      "model_module": "@jupyter-widgets/controls",
      "model_module_version": "2.0.0",
      "model_name": "VBoxModel",
      "state": {
       "children": [
        "IPY_MODEL_892b5bcd6c4e47e8a8380886fd46db9d",
        "IPY_MODEL_ae9d2bbfa6764bcab051978bc8253be0",
        "IPY_MODEL_a08a0278f5e7438cada4f4332e40f932",
        "IPY_MODEL_22331350d9424b869dc33fa852a497aa",
        "IPY_MODEL_296701459db746be881c85c282cec3d6",
        "IPY_MODEL_20b853b4c0974235855a99166f6df6bb",
        "IPY_MODEL_bfffd35d89fd4b3c9010f6fa90a5a9c4",
        "IPY_MODEL_d4a8e5b22dc54fc8a7558372119dbe9c",
        "IPY_MODEL_45b17b2b442a4da6b226ae706200262e"
       ],
       "layout": "IPY_MODEL_dcceb55e31cb419e9813f47920cac13e"
      }
     },
     "605ff6b166884295bc77e1cff64893d5": {
      "model_module": "@jupyter-widgets/base",
      "model_module_version": "2.0.0",
      "model_name": "LayoutModel",
      "state": {}
     },
     "6241aeb076bc4d9693504c59036711ff": {
      "model_module": "@jupyter-widgets/controls",
      "model_module_version": "2.0.0",
      "model_name": "VBoxModel",
      "state": {
       "children": [
        "IPY_MODEL_d16eea4097304608982d05c42b3826a6"
       ],
       "layout": "IPY_MODEL_9cccb2cdfd5e49e5ae24639456721c8e"
      }
     },
     "63b78e370efc480c848ba7de6e3296ac": {
      "model_module": "@jupyter-widgets/controls",
      "model_module_version": "2.0.0",
      "model_name": "LabelModel",
      "state": {
       "layout": "IPY_MODEL_b61202ec0d8640b293ebb63c090df0c1",
       "style": "IPY_MODEL_9df374541740447b9c2d389c897032f1",
       "value": "dongle"
      }
     },
     "644a80fbe9e94e5b9c4f97e72920ee1f": {
      "model_module": "@jupyter-widgets/controls",
      "model_module_version": "2.0.0",
      "model_name": "ButtonStyleModel",
      "state": {
       "font_family": null,
       "font_size": null,
       "font_style": null,
       "font_variant": null,
       "font_weight": null,
       "text_color": null,
       "text_decoration": null
      }
     },
     "6490590c94684413a4bdf90dd5179d84": {
      "model_module": "@jupyter-widgets/controls",
      "model_module_version": "2.0.0",
      "model_name": "ButtonStyleModel",
      "state": {
       "font_family": null,
       "font_size": null,
       "font_style": null,
       "font_variant": null,
       "font_weight": null,
       "text_color": null,
       "text_decoration": null
      }
     },
     "652b8262705749318581185e3eb06118": {
      "model_module": "@jupyter-widgets/controls",
      "model_module_version": "2.0.0",
      "model_name": "LabelModel",
      "state": {
       "layout": "IPY_MODEL_2d231962fef34c8e82f3c495bd25f8f5",
       "style": "IPY_MODEL_680e8874f62f4f838e6258c211f6fbe5"
      }
     },
     "657cf0e675634a66bf7d887b2d795237": {
      "model_module": "@jupyter-widgets/controls",
      "model_module_version": "2.0.0",
      "model_name": "CheckboxStyleModel",
      "state": {
       "description_width": ""
      }
     },
     "6728509f84864586934eab1eddff7a17": {
      "model_module": "@jupyter-widgets/controls",
      "model_module_version": "2.0.0",
      "model_name": "LabelModel",
      "state": {
       "layout": "IPY_MODEL_2616f9e941d347238084acb3877f40c1",
       "style": "IPY_MODEL_aa70dda4f2a041d781abd6a8ab6cf7f4",
       "value": "dongle"
      }
     },
     "680e8874f62f4f838e6258c211f6fbe5": {
      "model_module": "@jupyter-widgets/controls",
      "model_module_version": "2.0.0",
      "model_name": "LabelStyleModel",
      "state": {
       "description_width": "",
       "font_family": null,
       "font_size": null,
       "font_style": null,
       "font_variant": null,
       "font_weight": null,
       "text_color": null,
       "text_decoration": null
      }
     },
     "68fa050226e1440eafcad689ef8e65f8": {
      "model_module": "@jupyter-widgets/controls",
      "model_module_version": "2.0.0",
      "model_name": "LabelStyleModel",
      "state": {
       "description_width": "",
       "font_family": null,
       "font_size": null,
       "font_style": null,
       "font_variant": null,
       "font_weight": null,
       "text_color": null,
       "text_decoration": null
      }
     },
     "6a602607f0cd4adf918eeb0b86075f28": {
      "model_module": "@jupyter-widgets/base",
      "model_module_version": "2.0.0",
      "model_name": "LayoutModel",
      "state": {}
     },
     "6b4b5dbf1f1646968858b66795e3f0f6": {
      "model_module": "@jupyter-widgets/base",
      "model_module_version": "2.0.0",
      "model_name": "LayoutModel",
      "state": {
       "visibility": "hidden"
      }
     },
     "6b5d4039b531481eb8b08a4bf9316116": {
      "model_module": "@jupyter-widgets/base",
      "model_module_version": "2.0.0",
      "model_name": "LayoutModel",
      "state": {}
     },
     "6b81859bc47a4494aa6683f257849ddb": {
      "model_module": "@jupyter-widgets/controls",
      "model_module_version": "2.0.0",
      "model_name": "CheckboxModel",
      "state": {
       "description": "Freeze",
       "disabled": false,
       "layout": "IPY_MODEL_3c44a3eecb504a838caf4a756f403f06",
       "style": "IPY_MODEL_9f432f41c01a4d2bb931091dc59c700e",
       "value": true
      }
     },
     "6c2824161c6c4963901e315b6d49b6e6": {
      "model_module": "@jupyter-widgets/base",
      "model_module_version": "2.0.0",
      "model_name": "LayoutModel",
      "state": {}
     },
     "6c525a413392480cacdca3d8d4029245": {
      "model_module": "@jupyter-widgets/controls",
      "model_module_version": "2.0.0",
      "model_name": "HTMLModel",
      "state": {
       "layout": "IPY_MODEL_77ac27049bce4deebca8711620eb2359",
       "placeholder": "0",
       "style": "IPY_MODEL_6da47898c26c47b693723c966afe9ce8",
       "value": "5609"
      }
     },
     "6ce3564c2b294ea8b46e939e4d7e6ee3": {
      "model_module": "@jupyter-widgets/controls",
      "model_module_version": "2.0.0",
      "model_name": "ButtonModel",
      "state": {
       "description": "Start scheduler ...",
       "disabled": true,
       "icon": "check",
       "layout": "IPY_MODEL_de4152069eaf4390be069945c8cfc904",
       "style": "IPY_MODEL_70000bf3cb2042d7bbc67e829537e23e",
       "tooltip": "Start scheduler ..."
      }
     },
     "6d2969b5dcfc474ea3eae8b09a70a2c6": {
      "model_module": "@jupyter-widgets/controls",
      "model_module_version": "2.0.0",
      "model_name": "LabelModel",
      "state": {
       "layout": "IPY_MODEL_269a6727b00549ffa388ac80e0511003",
       "style": "IPY_MODEL_f80ea411c70e49c19c502eb143911f88",
       "value": "dongle"
      }
     },
     "6d3ff6569c4a4c53938bcf92952cca4d": {
      "model_module": "@jupyter-widgets/controls",
      "model_module_version": "2.0.0",
      "model_name": "HTMLModel",
      "state": {
       "layout": "IPY_MODEL_db41c9b4303148c29bb63339b00594ae",
       "style": "IPY_MODEL_4e09dc1927c64a6da8e1559e13c56547",
       "value": "<h2 id='prog_128858552328912'>root</h2>"
      }
     },
     "6d764d7e60db458196e60caae540453c": {
      "model_module": "@jupyter-widgets/controls",
      "model_module_version": "2.0.0",
      "model_name": "ButtonStyleModel",
      "state": {
       "font_family": null,
       "font_size": null,
       "font_style": null,
       "font_variant": null,
       "font_weight": null,
       "text_color": null,
       "text_decoration": null
      }
     },
     "6da47898c26c47b693723c966afe9ce8": {
      "model_module": "@jupyter-widgets/controls",
      "model_module_version": "2.0.0",
      "model_name": "HTMLStyleModel",
      "state": {
       "description_width": "",
       "font_size": null,
       "text_color": null
      }
     },
     "6ddaf331194745b29cc86659de2eef03": {
      "model_module": "@jupyter-widgets/controls",
      "model_module_version": "2.0.0",
      "model_name": "LabelModel",
      "state": {
       "layout": "IPY_MODEL_9b1a978440aa469fb72ea3dbfdea33d1",
       "style": "IPY_MODEL_3e45d82da31c40fd853c35be9c29d616",
       "value": "dongle"
      }
     },
     "6e25d955deb84bc5aa01629a8467bd52": {
      "model_module": "@jupyter-widgets/base",
      "model_module_version": "2.0.0",
      "model_name": "LayoutModel",
      "state": {}
     },
     "6e63ff7988394b58b8a8de3e6c6a188c": {
      "model_module": "@jupyter-widgets/base",
      "model_module_version": "2.0.0",
      "model_name": "LayoutModel",
      "state": {}
     },
     "70000bf3cb2042d7bbc67e829537e23e": {
      "model_module": "@jupyter-widgets/controls",
      "model_module_version": "2.0.0",
      "model_name": "ButtonStyleModel",
      "state": {
       "font_family": null,
       "font_size": null,
       "font_style": null,
       "font_variant": null,
       "font_weight": null,
       "text_color": null,
       "text_decoration": null
      }
     },
     "711900fed1c948a89cdd34a26171e527": {
      "model_module": "@jupyter-widgets/base",
      "model_module_version": "2.0.0",
      "model_name": "LayoutModel",
      "state": {
       "width": "initial"
      }
     },
     "71eda481cd3a4bfbbae93e631ea0d67e": {
      "model_module": "@jupyter-widgets/base",
      "model_module_version": "2.0.0",
      "model_name": "LayoutModel",
      "state": {}
     },
     "721f1c1d6b674401bd793d260ebd8c17": {
      "model_module": "@jupyter-widgets/controls",
      "model_module_version": "2.0.0",
      "model_name": "FloatProgressModel",
      "state": {
       "description": "Progress",
       "layout": "IPY_MODEL_84caa3813c2744d68c416c8c578beadd",
       "max": 1,
       "style": "IPY_MODEL_503beb0a927f434eb5d8a9f2d46c10b4",
       "value": 0.1400066179444996
      }
     },
     "734f45ade73e481da63204585e18c423": {
      "model_module": "@jupyter-widgets/controls",
      "model_module_version": "2.0.0",
      "model_name": "ButtonStyleModel",
      "state": {
       "font_family": null,
       "font_size": null,
       "font_style": null,
       "font_variant": null,
       "font_weight": null,
       "text_color": null,
       "text_decoration": null
      }
     },
     "7464cd2d39fc45c0961624302c38f9b3": {
      "model_module": "@jupyter-widgets/controls",
      "model_module_version": "2.0.0",
      "model_name": "LabelModel",
      "state": {
       "layout": "IPY_MODEL_b59081254e514f1186e70f27b5f95963",
       "style": "IPY_MODEL_eff848561e3c4258829fa7a237ee6f8d"
      }
     },
     "7525dea65dda406d8287233af3d99f8b": {
      "model_module": "@jupyter-widgets/controls",
      "model_module_version": "2.0.0",
      "model_name": "ButtonStyleModel",
      "state": {
       "font_family": null,
       "font_size": null,
       "font_style": null,
       "font_variant": null,
       "font_weight": null,
       "text_color": null,
       "text_decoration": null
      }
     },
     "75709ff2b8b64886a103b59ae7c35360": {
      "model_module": "@jupyter-widgets/controls",
      "model_module_version": "2.0.0",
      "model_name": "CheckboxModel",
      "state": {
       "description": "Freeze",
       "disabled": false,
       "layout": "IPY_MODEL_e523e177d6664321b66d20450a9e362d",
       "style": "IPY_MODEL_e1e3c835449542fab032e3f7b643cc21",
       "value": true
      }
     },
     "76a8ba3f6f48453eb43f8ef9b2526255": {
      "model_module": "@jupyter-widgets/controls",
      "model_module_version": "2.0.0",
      "model_name": "LabelModel",
      "state": {
       "layout": "IPY_MODEL_c86f0593ce524676bbeff55b9aca660e",
       "style": "IPY_MODEL_fcecc8b173b7449a883fbb4196776800",
       "value": "dongle"
      }
     },
     "77381ac6e0414b8184d8e70b77e32e3c": {
      "model_module": "@jupyter-widgets/base",
      "model_module_version": "2.0.0",
      "model_name": "LayoutModel",
      "state": {
       "visibility": "hidden"
      }
     },
     "77ac27049bce4deebca8711620eb2359": {
      "model_module": "@jupyter-widgets/base",
      "model_module_version": "2.0.0",
      "model_name": "LayoutModel",
      "state": {}
     },
     "7815c52d367b4560b33b7ef6919a4e99": {
      "model_module": "@jupyter-widgets/base",
      "model_module_version": "2.0.0",
      "model_name": "LayoutModel",
      "state": {}
     },
     "78911bd498d244ecaf2914429f865bc5": {
      "model_module": "@jupyter-widgets/controls",
      "model_module_version": "2.0.0",
      "model_name": "LabelModel",
      "state": {
       "layout": "IPY_MODEL_6b5d4039b531481eb8b08a4bf9316116",
       "style": "IPY_MODEL_18fa205b84604de9887847aaaec086cc",
       "value": "Column"
      }
     },
     "78fa7a046b1245a58ba912bac2ddd34e": {
      "model_module": "@jupyter-widgets/controls",
      "model_module_version": "2.0.0",
      "model_name": "LabelStyleModel",
      "state": {
       "description_width": "",
       "font_family": null,
       "font_size": null,
       "font_style": null,
       "font_variant": null,
       "font_weight": null,
       "text_color": null,
       "text_decoration": null
      }
     },
     "7b3109da6ec540e48dae35a599bc1ac2": {
      "model_module": "@jupyter-widgets/base",
      "model_module_version": "2.0.0",
      "model_name": "LayoutModel",
      "state": {}
     },
     "7bf8d313a1a14d61aeea1152a4a88465": {
      "model_module": "@jupyter-widgets/base",
      "model_module_version": "2.0.0",
      "model_name": "LayoutModel",
      "state": {}
     },
     "7bfc407889414c73abe9346dae441b95": {
      "model_module": "@jupyter-widgets/base",
      "model_module_version": "2.0.0",
      "model_name": "LayoutModel",
      "state": {
       "visibility": "hidden"
      }
     },
     "7c09a3d8bcbc497bbe3f06c2f3719ff8": {
      "model_module": "@jupyter-widgets/controls",
      "model_module_version": "2.0.0",
      "model_name": "DescriptionStyleModel",
      "state": {
       "description_width": ""
      }
     },
     "7c236fcc8c8049a1ab0ea0578f9cd41c": {
      "model_module": "@jupyter-widgets/base",
      "model_module_version": "2.0.0",
      "model_name": "LayoutModel",
      "state": {
       "visibility": "hidden"
      }
     },
     "7c5fa543c8b045a8b1e6f54f37255532": {
      "model_module": "@jupyter-widgets/controls",
      "model_module_version": "2.0.0",
      "model_name": "LabelModel",
      "state": {
       "layout": "IPY_MODEL_8d86cfe5c4a24cd686b8cf92ff6d05ee",
       "style": "IPY_MODEL_a47807c4a76b401596123a279edf4e13",
       "value": "Min"
      }
     },
     "7c7fe959e5be4c538caba2ff683fc310": {
      "model_module": "@jupyter-widgets/base",
      "model_module_version": "2.0.0",
      "model_name": "LayoutModel",
      "state": {}
     },
     "7dabc03f0e144e75bbb791791a28c561": {
      "model_module": "@jupyter-widgets/base",
      "model_module_version": "2.0.0",
      "model_name": "LayoutModel",
      "state": {}
     },
     "7ead67d307ea44a8a95d7e2c4d983850": {
      "model_module": "@jupyter-widgets/base",
      "model_module_version": "2.0.0",
      "model_name": "LayoutModel",
      "state": {
       "width": "initial"
      }
     },
     "7eb77457fc8d47f7aa81950d050e9cab": {
      "model_module": "@jupyter-widgets/controls",
      "model_module_version": "2.0.0",
      "model_name": "LabelStyleModel",
      "state": {
       "description_width": "",
       "font_family": null,
       "font_size": null,
       "font_style": null,
       "font_variant": null,
       "font_weight": null,
       "text_color": null,
       "text_decoration": null
      }
     },
     "7f15f3d268cd491b88a5ef084cf8e3c2": {
      "model_module": "@jupyter-widgets/base",
      "model_module_version": "2.0.0",
      "model_name": "LayoutModel",
      "state": {}
     },
     "7fb13b89fb484a74ad52ab0b77f61594": {
      "model_module": "@jupyter-widgets/controls",
      "model_module_version": "2.0.0",
      "model_name": "LabelModel",
      "state": {
       "layout": "IPY_MODEL_309b0673e87c49518bbe561a55d5e67e",
       "style": "IPY_MODEL_fe3555afd1c24c79aad41d1910701901",
       "value": "dongle"
      }
     },
     "7fcae78639c2461287a0ef40b63ab337": {
      "model_module": "@jupyter-widgets/controls",
      "model_module_version": "2.0.0",
      "model_name": "DescriptionStyleModel",
      "state": {
       "description_width": ""
      }
     },
     "80a48fd21265443bbda1eb6d5163a7ed": {
      "model_module": "@jupyter-widgets/controls",
      "model_module_version": "2.0.0",
      "model_name": "ButtonModel",
      "state": {
       "description": "Start",
       "disabled": true,
       "icon": "check",
       "layout": "IPY_MODEL_7815c52d367b4560b33b7ef6919a4e99",
       "style": "IPY_MODEL_3eef89b3b19e4072a82fe991e4e13872",
       "tooltip": "Start"
      }
     },
     "83307feda721408c9451e4f90957809f": {
      "model_module": "@jupyter-widgets/controls",
      "model_module_version": "2.0.0",
      "model_name": "ButtonModel",
      "state": {
       "description": "Step",
       "disabled": true,
       "icon": "step-forward",
       "layout": "IPY_MODEL_d58dd66692a24d64a4a1cb694995174d",
       "style": "IPY_MODEL_7525dea65dda406d8287233af3d99f8b",
       "tooltip": "Step"
      }
     },
     "833c2e842c104e57b5fc30ab9c352509": {
      "model_module": "@jupyter-widgets/base",
      "model_module_version": "2.0.0",
      "model_name": "LayoutModel",
      "state": {
       "visibility": "hidden"
      }
     },
     "84caa3813c2744d68c416c8c578beadd": {
      "model_module": "@jupyter-widgets/base",
      "model_module_version": "2.0.0",
      "model_name": "LayoutModel",
      "state": {
       "width": "100%"
      }
     },
     "84db0d06c4724844a88cc4ac135bc873": {
      "model_module": "@jupyter-widgets/base",
      "model_module_version": "2.0.0",
      "model_name": "LayoutModel",
      "state": {}
     },
     "852aa9b6a4664b4aa1c7594b7e1cdceb": {
      "model_module": "@jupyter-widgets/controls",
      "model_module_version": "2.0.0",
      "model_name": "TextareaModel",
      "state": {
       "description": "New URLs:",
       "layout": "IPY_MODEL_5cb9b03dd925457cb7096c90d218e0f3",
       "placeholder": "",
       "style": "IPY_MODEL_103d2b6df3124c5ea70d398ffb353e61"
      }
     },
     "8556a24b446f413199186fcb1466c3eb": {
      "model_module": "@jupyter-widgets/base",
      "model_module_version": "2.0.0",
      "model_name": "LayoutModel",
      "state": {
       "visibility": "hidden"
      }
     },
     "85a8d446b7164c4da11d06df01b8a3e3": {
      "model_module": "@jupyter-widgets/base",
      "model_module_version": "2.0.0",
      "model_name": "LayoutModel",
      "state": {
       "visibility": "hidden"
      }
     },
     "862dda9fee3940dc8f89413d4dc87a25": {
      "model_module": "@jupyter-widgets/base",
      "model_module_version": "2.0.0",
      "model_name": "LayoutModel",
      "state": {
       "visibility": "hidden"
      }
     },
     "8641a40cbd4e4f2dad57f3f6398f2187": {
      "model_module": "@jupyter-widgets/controls",
      "model_module_version": "2.0.0",
      "model_name": "ButtonStyleModel",
      "state": {
       "font_family": null,
       "font_size": null,
       "font_style": null,
       "font_variant": null,
       "font_weight": null,
       "text_color": null,
       "text_decoration": null
      }
     },
     "869c862e77ac41bc81a92f3dde9c42ac": {
      "model_module": "@jupyter-widgets/controls",
      "model_module_version": "2.0.0",
      "model_name": "LabelModel",
      "state": {
       "layout": "IPY_MODEL_7bfc407889414c73abe9346dae441b95",
       "style": "IPY_MODEL_5d74829ac4c0478e8c29e3f01395e4d0",
       "value": "dongle"
      }
     },
     "87b25be3c421421c99f9f88cbe7bfbd7": {
      "model_module": "@jupyter-widgets/controls",
      "model_module_version": "2.0.0",
      "model_name": "TextModel",
      "state": {
       "description": "URL to sniff(optional):",
       "layout": "IPY_MODEL_53335254a59c40bda00e0e57f627c76c",
       "placeholder": "",
       "style": "IPY_MODEL_c92f9c9f17504dc3bc6958f23959b2bc"
      }
     },
     "892b5bcd6c4e47e8a8380886fd46db9d": {
      "model_module": "@jupyter-widgets/controls",
      "model_module_version": "2.0.0",
      "model_name": "CheckboxModel",
      "state": {
       "description": "Reuse previous settings ...",
       "disabled": true,
       "layout": "IPY_MODEL_2dbce2d974184a08a866e0b30d1498bc",
       "style": "IPY_MODEL_bf2e4a80474642ad960c30dff090b401",
       "value": true
      }
     },
     "8ac4aaab2dd7445babf3ac0cd64cc1de": {
      "model_module": "@jupyter-widgets/base",
      "model_module_version": "2.0.0",
      "model_name": "LayoutModel",
      "state": {}
     },
     "8c4636c39e5a4326869056b1b37b33c8": {
      "model_module": "@jupyter-widgets/base",
      "model_module_version": "2.0.0",
      "model_name": "LayoutModel",
      "state": {}
     },
     "8c98748bc9f54b2eb49ec7ad70d352a1": {
      "model_module": "@jupyter-widgets/controls",
      "model_module_version": "2.0.0",
      "model_name": "DescriptionStyleModel",
      "state": {
       "description_width": ""
      }
     },
     "8d86cfe5c4a24cd686b8cf92ff6d05ee": {
      "model_module": "@jupyter-widgets/base",
      "model_module_version": "2.0.0",
      "model_name": "LayoutModel",
      "state": {}
     },
     "8dd290f8c1ae44a78a428845d0668c98": {
      "model_module": "@jupyter-widgets/controls",
      "model_module_version": "2.0.0",
      "model_name": "VBoxModel",
      "state": {
       "children": [
        "IPY_MODEL_6d3ff6569c4a4c53938bcf92952cca4d",
        "IPY_MODEL_6ce3564c2b294ea8b46e939e4d7e6ee3",
        "IPY_MODEL_5507ab0bc7c1489dbc3733b2a5f646fe",
        "IPY_MODEL_0c252187997142799f3d0d9003f145b3",
        "IPY_MODEL_e3948d410ba1406082659775af497bf3",
        "IPY_MODEL_26ec971ff9ab4939960a646d8830ada8",
        "IPY_MODEL_a42b33bc4df8435393bd3d87207bf5cc",
        "IPY_MODEL_ce5a53b7e76549fcb6314c0788cc3cfd",
        "IPY_MODEL_95267c1ccaae4de0a52335645f0bd653",
        "IPY_MODEL_ca34043a3ab6486cb3ffdc78c3981fbb",
        "IPY_MODEL_1fe691b08b71465ba7d8d849e73c60b4"
       ],
       "layout": "IPY_MODEL_9f98c262cdda4908b637b52f3c6d8573"
      }
     },
     "8dfa4505483d4e558cab97bfd241a3c2": {
      "model_module": "@jupyter-widgets/controls",
      "model_module_version": "2.0.0",
      "model_name": "HBoxModel",
      "state": {
       "children": [
        "IPY_MODEL_4d6f9b9980fe4d7f979c7dcd37c7d497",
        "IPY_MODEL_983fe383bca44a83a23903dbcf96ad7a",
        "IPY_MODEL_bec346dfdb0b42959b1d45ac30c09d9a"
       ],
       "layout": "IPY_MODEL_d57352d688d9493591b51ecbba3568c8"
      }
     },
     "8f6b5d641c2242039b39507c5ff574e7": {
      "model_module": "@jupyter-widgets/controls",
      "model_module_version": "2.0.0",
      "model_name": "LabelStyleModel",
      "state": {
       "description_width": "",
       "font_family": null,
       "font_size": null,
       "font_style": null,
       "font_variant": null,
       "font_weight": null,
       "text_color": null,
       "text_decoration": null
      }
     },
     "8fe8bb40d1c64bb9b241d376f5379c17": {
      "model_module": "@jupyter-widgets/controls",
      "model_module_version": "2.0.0",
      "model_name": "DescriptionStyleModel",
      "state": {
       "description_width": ""
      }
     },
     "9034cff4c59d4f66a6b44190316f8ad1": {
      "model_module": "@jupyter-widgets/controls",
      "model_module_version": "2.0.0",
      "model_name": "LabelModel",
      "state": {
       "layout": "IPY_MODEL_5f3b7d16ab644124927ca681e81539bb",
       "style": "IPY_MODEL_8f6b5d641c2242039b39507c5ff574e7",
       "value": "dongle"
      }
     },
     "90d6f2a15fd5481a8b591f70dbda07b0": {
      "model_module": "@jupyter-widgets/base",
      "model_module_version": "2.0.0",
      "model_name": "LayoutModel",
      "state": {}
     },
     "90f6f46fcc4941239af6fae183491d75": {
      "model_module": "@jupyter-widgets/controls",
      "model_module_version": "2.0.0",
      "model_name": "ProgressStyleModel",
      "state": {
       "description_width": ""
      }
     },
     "9141cd25c85e479fade86cdab4900d99": {
      "model_module": "@jupyter-widgets/controls",
      "model_module_version": "2.0.0",
      "model_name": "TextModel",
      "state": {
       "description": "CSV loader:",
       "layout": "IPY_MODEL_e4afe5c45fe149f58da109598000f73f",
       "placeholder": "optional alias",
       "style": "IPY_MODEL_0d3c0cbbb0054af18f691f52c355230f"
      }
     },
     "916701b8bae84da791412c694eabec67": {
      "model_module": "@jupyter-widgets/controls",
      "model_module_version": "2.0.0",
      "model_name": "ButtonModel",
      "state": {
       "description": "Chain it",
       "icon": "check",
       "layout": "IPY_MODEL_e04dec999a424e2fb15f378b430f8a06",
       "style": "IPY_MODEL_4492dcf943e949fea6658651034435b0",
       "tooltip": "Chain it"
      }
     },
     "91bf73b004c447ebb028466826b18970": {
      "model_module": "@jupyter-widgets/controls",
      "model_module_version": "2.0.0",
      "model_name": "CheckboxModel",
      "state": {
       "description": "Freeze",
       "disabled": true,
       "layout": "IPY_MODEL_52f7639e11f4479d8b5df7fd051b6b7c",
       "style": "IPY_MODEL_b70d795159a84b48ab176845ce5cb4e2",
       "value": true
      }
     },
     "91fdff634185442cbe54701b02f7a3e3": {
      "model_module": "@jupyter-widgets/base",
      "model_module_version": "2.0.0",
      "model_name": "LayoutModel",
      "state": {}
     },
     "950b3f22238d497f91770c5c3c96f19c": {
      "model_module": "@jupyter-widgets/base",
      "model_module_version": "2.0.0",
      "model_name": "LayoutModel",
      "state": {}
     },
     "95267c1ccaae4de0a52335645f0bd653": {
      "model_module": "@jupyter-widgets/controls",
      "model_module_version": "2.0.0",
      "model_name": "ButtonModel",
      "state": {
       "description": "Replay ...",
       "disabled": true,
       "icon": "check",
       "layout": "IPY_MODEL_71eda481cd3a4bfbbae93e631ea0d67e",
       "style": "IPY_MODEL_c319893d3e174102ba7fbf78e5d70d28",
       "tooltip": "Replay ..."
      }
     },
     "95cee827b8724391aab7b9bcd7f37b5b": {
      "model_module": "@jupyter-widgets/base",
      "model_module_version": "2.0.0",
      "model_name": "LayoutModel",
      "state": {}
     },
     "97da415873ac44f5a23e186e366390a5": {
      "model_module": "@jupyter-widgets/base",
      "model_module_version": "2.0.0",
      "model_name": "LayoutModel",
      "state": {}
     },
     "97fdfd8130f141fa9569ab1d49d5a709": {
      "model_module": "@jupyter-widgets/controls",
      "model_module_version": "2.0.0",
      "model_name": "ButtonModel",
      "state": {
       "description": "Stop",
       "icon": "stop",
       "layout": "IPY_MODEL_95cee827b8724391aab7b9bcd7f37b5b",
       "style": "IPY_MODEL_0d0dc472bdf44e7aa5ee0851d8c5661e",
       "tooltip": "Stop"
      }
     },
     "980cd139f667415db62d52279e0ba9c6": {
      "model_module": "@jupyter-widgets/controls",
      "model_module_version": "2.0.0",
      "model_name": "FloatTextModel",
      "state": {
       "layout": "IPY_MODEL_c29cd31616a34d2c8a015d2fbd077316",
       "step": null,
       "style": "IPY_MODEL_ed1833f9e5e94bfe939e773a74905afb",
       "value": -74.07916259765625
      }
     },
     "9836d1c6d1014ae090824995e7401b4f": {
      "model_module": "@jupyter-widgets/controls",
      "model_module_version": "2.0.0",
      "model_name": "FloatProgressModel",
      "state": {
       "description": "Progress",
       "layout": "IPY_MODEL_3673a52728494221b9c27f8eeed8b577",
       "max": 1,
       "style": "IPY_MODEL_90f6f46fcc4941239af6fae183491d75",
       "value": 0.1400066179444996
      }
     },
     "983fe383bca44a83a23903dbcf96ad7a": {
      "model_module": "@jupyter-widgets/controls",
      "model_module_version": "2.0.0",
      "model_name": "ButtonModel",
      "state": {
       "description": "Chain it",
       "icon": "check",
       "layout": "IPY_MODEL_91fdff634185442cbe54701b02f7a3e3",
       "style": "IPY_MODEL_b1d2d8276a4d4a2bafded0eb4aea3ba4",
       "tooltip": "Chain it"
      }
     },
     "9b1a978440aa469fb72ea3dbfdea33d1": {
      "model_module": "@jupyter-widgets/base",
      "model_module_version": "2.0.0",
      "model_name": "LayoutModel",
      "state": {
       "visibility": "hidden"
      }
     },
     "9bfe559a2fd64374b3be583347b67509": {
      "model_module": "@jupyter-widgets/controls",
      "model_module_version": "2.0.0",
      "model_name": "FloatTextModel",
      "state": {
       "layout": "IPY_MODEL_0ee579e87e8348b9945b76ea5c6f7eb6",
       "step": null,
       "style": "IPY_MODEL_fb962982ddcc4abc8b2486add80dd6fa",
       "value": 40.987598419189446
      }
     },
     "9c6f897d41c0405aa727352eeb866caf": {
      "model_module": "@jupyter-widgets/base",
      "model_module_version": "2.0.0",
      "model_name": "LayoutModel",
      "state": {
       "width": "initial"
      }
     },
     "9cccb2cdfd5e49e5ae24639456721c8e": {
      "model_module": "@jupyter-widgets/base",
      "model_module_version": "2.0.0",
      "model_name": "LayoutModel",
      "state": {}
     },
     "9da1b2b6089443fdacfac69fc65dc1b6": {
      "model_module": "@jupyter-widgets/base",
      "model_module_version": "2.0.0",
      "model_name": "LayoutModel",
      "state": {
       "visibility": "hidden"
      }
     },
     "9df374541740447b9c2d389c897032f1": {
      "model_module": "@jupyter-widgets/controls",
      "model_module_version": "2.0.0",
      "model_name": "LabelStyleModel",
      "state": {
       "description_width": "",
       "font_family": null,
       "font_size": null,
       "font_style": null,
       "font_variant": null,
       "font_weight": null,
       "text_color": null,
       "text_decoration": null
      }
     },
     "9ec56baed68f4b5b9c9135c3abe74c2e": {
      "model_module": "@jupyter-widgets/controls",
      "model_module_version": "2.0.0",
      "model_name": "LabelModel",
      "state": {
       "layout": "IPY_MODEL_ccbf54698a0948da9375493a9582069a",
       "style": "IPY_MODEL_384e93c7b16f48c9994fce6a4891901d",
       "value": "dongle"
      }
     },
     "9f432f41c01a4d2bb931091dc59c700e": {
      "model_module": "@jupyter-widgets/controls",
      "model_module_version": "2.0.0",
      "model_name": "CheckboxStyleModel",
      "state": {
       "description_width": ""
      }
     },
     "9f98c262cdda4908b637b52f3c6d8573": {
      "model_module": "@jupyter-widgets/base",
      "model_module_version": "2.0.0",
      "model_name": "LayoutModel",
      "state": {}
     },
     "a08a0278f5e7438cada4f4332e40f932": {
      "model_module": "@jupyter-widgets/controls",
      "model_module_version": "2.0.0",
      "model_name": "LabelModel",
      "state": {
       "layout": "IPY_MODEL_2ab4e2a2f84e43e0a2f0182643144ff9",
       "style": "IPY_MODEL_44065665c9084182a27e01a2406336e9",
       "value": "dongle"
      }
     },
     "a0ee42d4c5634c05be37e8396a3cbcbf": {
      "model_module": "@jupyter-widgets/base",
      "model_module_version": "2.0.0",
      "model_name": "LayoutModel",
      "state": {}
     },
     "a1b660d4f29c44e5bee5dbef54c02e48": {
      "model_module": "@jupyter-widgets/controls",
      "model_module_version": "2.0.0",
      "model_name": "FloatRangeSliderModel",
      "state": {
       "_model_name": "FloatRangeSliderModel",
       "_view_name": "FloatRangeSliderView",
       "behavior": "drag-tap",
       "continuous_update": false,
       "layout": "IPY_MODEL_d9095b50950b4ffb98237ca952956ae4",
       "max": 40.987598419189446,
       "min": 40.55963516235352,
       "readout_format": ".1f",
       "step": 0.04279632568359233,
       "style": "IPY_MODEL_e976f8ba11224fa8973ca670fccd2395",
       "value": [
        40.55963516235352,
        40.987598419189446
       ]
      }
     },
     "a200a36c9ba54e9a81d891836f9e55ae": {
      "model_module": "@jupyter-widgets/controls",
      "model_module_version": "2.0.0",
      "model_name": "LabelModel",
      "state": {
       "layout": "IPY_MODEL_ef13a24a7f1346a4ba9d68356fe64490",
       "style": "IPY_MODEL_4851d8dc782d4a27a06ef7b309f89362",
       "value": "dongle"
      }
     },
     "a3dd3c32b9be4218a8cdfd8a91572c00": {
      "model_module": "@jupyter-widgets/controls",
      "model_module_version": "2.0.0",
      "model_name": "LabelModel",
      "state": {
       "layout": "IPY_MODEL_226c73791e30471281b2518f00c9c7ab",
       "style": "IPY_MODEL_fb95b3cae9e14e599765df2ca1d7af8a",
       "value": "dongle"
      }
     },
     "a42b33bc4df8435393bd3d87207bf5cc": {
      "model_module": "@jupyter-widgets/controls",
      "model_module_version": "2.0.0",
      "model_name": "HBoxModel",
      "state": {
       "children": [
        "IPY_MODEL_f6df7dc2efe24c7d9ca488b09e8e7110",
        "IPY_MODEL_ba5789f55e704d20a7b2bdb85731a9ab"
       ],
       "layout": "IPY_MODEL_7bf8d313a1a14d61aeea1152a4a88465"
      }
     },
     "a47807c4a76b401596123a279edf4e13": {
      "model_module": "@jupyter-widgets/controls",
      "model_module_version": "2.0.0",
      "model_name": "LabelStyleModel",
      "state": {
       "description_width": "",
       "font_family": null,
       "font_size": null,
       "font_style": null,
       "font_variant": null,
       "font_weight": null,
       "text_color": null,
       "text_decoration": null
      }
     },
     "a4ac2bcbb5d34e15b8f706bb25c1f7bc": {
      "model_module": "@jupyter-widgets/controls",
      "model_module_version": "2.0.0",
      "model_name": "ButtonModel",
      "state": {
       "description": "Remove subtree",
       "icon": "check",
       "layout": "IPY_MODEL_a9bd7448cca6426f99f0d9e2381b3d1d",
       "style": "IPY_MODEL_b12175ae4d77469ba1c095fcafc1fe48",
       "tooltip": "Remove subtree"
      }
     },
     "a4dc9d4103a34b8681206f206efd62ca": {
      "model_module": "@jupyter-widgets/controls",
      "model_module_version": "2.0.0",
      "model_name": "LabelStyleModel",
      "state": {
       "description_width": "",
       "font_family": null,
       "font_size": null,
       "font_style": null,
       "font_variant": null,
       "font_weight": null,
       "text_color": null,
       "text_decoration": null
      }
     },
     "a5f1e1df523b4e44826fff6137a10ebf": {
      "model_module": "@jupyter-widgets/controls",
      "model_module_version": "2.0.0",
      "model_name": "LabelModel",
      "state": {
       "layout": "IPY_MODEL_3511b931c2294d65af68d195304aad9b",
       "style": "IPY_MODEL_7eb77457fc8d47f7aa81950d050e9cab"
      }
     },
     "a60c0f6ffdae49fa84e47e0d71908de2": {
      "model_module": "@jupyter-widgets/base",
      "model_module_version": "2.0.0",
      "model_name": "LayoutModel",
      "state": {}
     },
     "a6e6fc24e57047b7918e0c2e16ddebbb": {
      "model_module": "@jupyter-widgets/controls",
      "model_module_version": "2.0.0",
      "model_name": "LabelModel",
      "state": {
       "layout": "IPY_MODEL_5362074339cc4071ae5ece45feb86bc5",
       "style": "IPY_MODEL_ab0ec7e323af469db761ae51b0b21bf1",
       "value": "dongle"
      }
     },
     "a732a8a57abb46b8a067794f94864298": {
      "model_module": "@jupyter-widgets/controls",
      "model_module_version": "2.0.0",
      "model_name": "LabelStyleModel",
      "state": {
       "description_width": "",
       "font_family": null,
       "font_size": null,
       "font_style": null,
       "font_variant": null,
       "font_weight": null,
       "text_color": null,
       "text_decoration": null
      }
     },
     "a7724c8d6053416b8e5cad163e107344": {
      "model_module": "@jupyter-widgets/base",
      "model_module_version": "2.0.0",
      "model_name": "LayoutModel",
      "state": {}
     },
     "a79284dcf71c4434aaf5a5e22309d54b": {
      "model_module": "@jupyter-widgets/base",
      "model_module_version": "2.0.0",
      "model_name": "LayoutModel",
      "state": {}
     },
     "a893f62b234b49a7a409c2e1d238dcb8": {
      "model_module": "@jupyter-widgets/controls",
      "model_module_version": "2.0.0",
      "model_name": "LabelStyleModel",
      "state": {
       "description_width": "",
       "font_family": null,
       "font_size": null,
       "font_style": null,
       "font_variant": null,
       "font_weight": null,
       "text_color": null,
       "text_decoration": null
      }
     },
     "a8ec42b9722d435999ee5ab6febe5d1e": {
      "model_module": "@jupyter-widgets/base",
      "model_module_version": "2.0.0",
      "model_name": "LayoutModel",
      "state": {}
     },
     "a991938f0ecd4704a7cba4c3bea73de3": {
      "model_module": "@jupyter-widgets/base",
      "model_module_version": "2.0.0",
      "model_name": "LayoutModel",
      "state": {
       "visibility": "hidden"
      }
     },
     "a9baf5b51e484f27b9ed58217aec4c08": {
      "model_module": "@jupyter-widgets/controls",
      "model_module_version": "2.0.0",
      "model_name": "TabModel",
      "state": {
       "children": [
        "IPY_MODEL_ec00cc4901ef4dcb9870411e77a25676",
        "IPY_MODEL_358bce6637a54bb0b755dc3c16334613"
       ],
       "layout": "IPY_MODEL_6a602607f0cd4adf918eeb0b86075f28",
       "selected_index": 0,
       "titles": [
        "Main",
        "Output slots"
       ]
      }
     },
     "a9bd7448cca6426f99f0d9e2381b3d1d": {
      "model_module": "@jupyter-widgets/base",
      "model_module_version": "2.0.0",
      "model_name": "LayoutModel",
      "state": {}
     },
     "aa70dda4f2a041d781abd6a8ab6cf7f4": {
      "model_module": "@jupyter-widgets/controls",
      "model_module_version": "2.0.0",
      "model_name": "LabelStyleModel",
      "state": {
       "description_width": "",
       "font_family": null,
       "font_size": null,
       "font_style": null,
       "font_variant": null,
       "font_weight": null,
       "text_color": null,
       "text_decoration": null
      }
     },
     "ab0ec7e323af469db761ae51b0b21bf1": {
      "model_module": "@jupyter-widgets/controls",
      "model_module_version": "2.0.0",
      "model_name": "LabelStyleModel",
      "state": {
       "description_width": "",
       "font_family": null,
       "font_size": null,
       "font_style": null,
       "font_variant": null,
       "font_weight": null,
       "text_color": null,
       "text_decoration": null
      }
     },
     "ab43386eb3c6462581a1086bb386591b": {
      "model_module": "@jupyter-widgets/controls",
      "model_module_version": "2.0.0",
      "model_name": "DropdownModel",
      "state": {
       "_options_labels": [
        "passenger_count:int64",
        "trip_distance:float64",
        "pickup_longitude:float64",
        "pickup_latitude:float64",
        "dropoff_longitude:float64",
        "dropoff_latitude:float64",
        ""
       ],
       "index": 2,
       "layout": "IPY_MODEL_ad8c615b69324d6ebc722982b9c251b8",
       "style": "IPY_MODEL_53f6d4b0e6e647a58777411cabe59a7d"
      }
     },
     "abb4da70b8114c6a9062592abc34dbfa": {
      "model_module": "@jupyter-widgets/controls",
      "model_module_version": "2.0.0",
      "model_name": "ButtonModel",
      "state": {
       "description": "Sniff ...",
       "icon": "check",
       "layout": "IPY_MODEL_cc0f076175154b98ab4b8f4b4ddff983",
       "style": "IPY_MODEL_6d764d7e60db458196e60caae540453c",
       "tooltip": "Sniff ..."
      }
     },
     "abb52a7c423b4c3781f624b0dcd11bf9": {
      "model_module": "@jupyter-widgets/controls",
      "model_module_version": "2.0.0",
      "model_name": "ButtonStyleModel",
      "state": {
       "font_family": null,
       "font_size": null,
       "font_style": null,
       "font_variant": null,
       "font_weight": null,
       "text_color": null,
       "text_decoration": null
      }
     },
     "ad8c615b69324d6ebc722982b9c251b8": {
      "model_module": "@jupyter-widgets/base",
      "model_module_version": "2.0.0",
      "model_name": "LayoutModel",
      "state": {
       "width": "initial"
      }
     },
     "add4fcaf8a1840b1a5d9060a866c693b": {
      "model_module": "@jupyter-widgets/base",
      "model_module_version": "2.0.0",
      "model_name": "LayoutModel",
      "state": {}
     },
     "ae9d2bbfa6764bcab051978bc8253be0": {
      "model_module": "@jupyter-widgets/controls",
      "model_module_version": "2.0.0",
      "model_name": "SelectModel",
      "state": {
       "_options_labels": [
        "",
        "taxis",
        "taxis_filtered",
        "weather",
        "my_taxis",
        "raw_weather"
       ],
       "description": "Settings",
       "disabled": true,
       "index": 2,
       "layout": "IPY_MODEL_ef30b6940499407587daef0fa952c289",
       "style": "IPY_MODEL_c3dfe78c896a49828175ca4ebbf8047e"
      }
     },
     "affb611f57db49fabeb791935dda01ab": {
      "model_module": "@jupyter-widgets/base",
      "model_module_version": "2.0.0",
      "model_name": "LayoutModel",
      "state": {
       "visibility": "hidden"
      }
     },
     "b02b0a64a37e4b0e96bf78c7c705f2c5": {
      "model_module": "@jupyter-widgets/controls",
      "model_module_version": "2.0.0",
      "model_name": "LabelStyleModel",
      "state": {
       "description_width": "",
       "font_family": null,
       "font_size": null,
       "font_style": null,
       "font_variant": null,
       "font_weight": null,
       "text_color": null,
       "text_decoration": null
      }
     },
     "b0d62e0f21e245c3bf911833b8685ea1": {
      "model_module": "@jupyter-widgets/controls",
      "model_module_version": "2.0.0",
      "model_name": "LabelModel",
      "state": {
       "layout": "IPY_MODEL_4fc5e237dacb46cb8c982fe20b514ef0",
       "style": "IPY_MODEL_b02b0a64a37e4b0e96bf78c7c705f2c5",
       "value": "dongle"
      }
     },
     "b12175ae4d77469ba1c095fcafc1fe48": {
      "model_module": "@jupyter-widgets/controls",
      "model_module_version": "2.0.0",
      "model_name": "ButtonStyleModel",
      "state": {
       "font_family": null,
       "font_size": null,
       "font_style": null,
       "font_variant": null,
       "font_weight": null,
       "text_color": null,
       "text_decoration": null
      }
     },
     "b16fcbe2013044d1984cf9d42f0c5dc0": {
      "model_module": "@jupyter-widgets/base",
      "model_module_version": "2.0.0",
      "model_name": "LayoutModel",
      "state": {}
     },
     "b1d2d8276a4d4a2bafded0eb4aea3ba4": {
      "model_module": "@jupyter-widgets/controls",
      "model_module_version": "2.0.0",
      "model_name": "ButtonStyleModel",
      "state": {
       "font_family": null,
       "font_size": null,
       "font_style": null,
       "font_variant": null,
       "font_weight": null,
       "text_color": null,
       "text_decoration": null
      }
     },
     "b3dfca375456411898aa7fc2e67f8f45": {
      "model_module": "@jupyter-widgets/controls",
      "model_module_version": "2.0.0",
      "model_name": "LabelModel",
      "state": {
       "layout": "IPY_MODEL_fcf3f4c1d1be4cf681ba56b7d199a6f3",
       "style": "IPY_MODEL_a732a8a57abb46b8a067794f94864298",
       "value": "dongle"
      }
     },
     "b4e5289b73c64640bc8b1db542e4fd07": {
      "model_module": "@jupyter-widgets/base",
      "model_module_version": "2.0.0",
      "model_name": "LayoutModel",
      "state": {
       "width": "60%"
      }
     },
     "b523c05953ef4e9086068be5fadd92ba": {
      "model_module": "@jupyter-widgets/base",
      "model_module_version": "2.0.0",
      "model_name": "LayoutModel",
      "state": {
       "visibility": "hidden"
      }
     },
     "b59081254e514f1186e70f27b5f95963": {
      "model_module": "@jupyter-widgets/base",
      "model_module_version": "2.0.0",
      "model_name": "LayoutModel",
      "state": {}
     },
     "b61202ec0d8640b293ebb63c090df0c1": {
      "model_module": "@jupyter-widgets/base",
      "model_module_version": "2.0.0",
      "model_name": "LayoutModel",
      "state": {
       "visibility": "hidden"
      }
     },
     "b70d795159a84b48ab176845ce5cb4e2": {
      "model_module": "@jupyter-widgets/controls",
      "model_module_version": "2.0.0",
      "model_name": "CheckboxStyleModel",
      "state": {
       "description_width": ""
      }
     },
     "b74f912bac184a5f8d0d3e3cf481d08e": {
      "model_module": "@jupyter-widgets/controls",
      "model_module_version": "2.0.0",
      "model_name": "LabelModel",
      "state": {
       "layout": "IPY_MODEL_f1b6a39280d24b17abfa68234fc8d963",
       "style": "IPY_MODEL_533d44d43b61440c8e0ee185984e4704",
       "value": "dongle"
      }
     },
     "b9552fa04b1f4e62badaf0818a868fbc": {
      "model_module": "@jupyter-widgets/controls",
      "model_module_version": "2.0.0",
      "model_name": "LabelModel",
      "state": {
       "layout": "IPY_MODEL_833c2e842c104e57b5fc30ab9c352509",
       "style": "IPY_MODEL_d1bf1b2677d349a0924988191c42327f",
       "value": "dongle"
      }
     },
     "b9d3b2c73b454f269bda1f87a8c4c511": {
      "model_module": "@jupyter-widgets/controls",
      "model_module_version": "2.0.0",
      "model_name": "ButtonModel",
      "state": {
       "description": "Create",
       "disabled": true,
       "icon": "check",
       "layout": "IPY_MODEL_6c2824161c6c4963901e315b6d49b6e6",
       "style": "IPY_MODEL_734f45ade73e481da63204585e18c423",
       "tooltip": "Create"
      }
     },
     "ba49d7c3473f4e8d819b07e457659aa7": {
      "model_module": "@jupyter-widgets/controls",
      "model_module_version": "2.0.0",
      "model_name": "LabelModel",
      "state": {
       "layout": "IPY_MODEL_4e6189cdab7a45ad84831e5bbc440bf3",
       "style": "IPY_MODEL_04a4506760c043069ea08c314418a629",
       "value": "dongle"
      }
     },
     "ba5789f55e704d20a7b2bdb85731a9ab": {
      "model_module": "@jupyter-widgets/controls",
      "model_module_version": "2.0.0",
      "model_name": "ButtonModel",
      "state": {
       "description": "Create",
       "icon": "check",
       "layout": "IPY_MODEL_fa4459f32d824ad38acfb1a010e84766",
       "style": "IPY_MODEL_abb52a7c423b4c3781f624b0dcd11bf9",
       "tooltip": "Create"
      }
     },
     "babbb411c58c4c7fb21d7f216f10e33c": {
      "model_module": "@jupyter-widgets/base",
      "model_module_version": "2.0.0",
      "model_name": "LayoutModel",
      "state": {}
     },
     "bec346dfdb0b42959b1d45ac30c09d9a": {
      "model_module": "@jupyter-widgets/controls",
      "model_module_version": "2.0.0",
      "model_name": "ButtonModel",
      "state": {
       "description": "Remove subtree",
       "icon": "check",
       "layout": "IPY_MODEL_d988bb14da7e473291d1f97058f19e86",
       "style": "IPY_MODEL_c7a619ad86bd482d88db5f0f5a4ba264",
       "tooltip": "Remove subtree"
      }
     },
     "bf2e4a80474642ad960c30dff090b401": {
      "model_module": "@jupyter-widgets/controls",
      "model_module_version": "2.0.0",
      "model_name": "CheckboxStyleModel",
      "state": {
       "description_width": ""
      }
     },
     "bfffd35d89fd4b3c9010f6fa90a5a9c4": {
      "model_module": "@jupyter-widgets/controls",
      "model_module_version": "2.0.0",
      "model_name": "ButtonModel",
      "state": {
       "description": "Edit settings",
       "disabled": true,
       "icon": "check",
       "layout": "IPY_MODEL_950b3f22238d497f91770c5c3c96f19c",
       "style": "IPY_MODEL_6490590c94684413a4bdf90dd5179d84",
       "tooltip": "Edit settings"
      }
     },
     "c0d3fb619bd74a38812819d4b080144f": {
      "model_module": "@jupyter-widgets/controls",
      "model_module_version": "2.0.0",
      "model_name": "LabelModel",
      "state": {
       "layout": "IPY_MODEL_2ebd4c2ac419464ca3849942da305f57",
       "style": "IPY_MODEL_cfcb062ef28d4ea280c6bfc77b388432",
       "value": "dongle"
      }
     },
     "c1992f068ca6493f99d77dcb48a4f472": {
      "model_module": "@jupyter-widgets/controls",
      "model_module_version": "2.0.0",
      "model_name": "LabelModel",
      "state": {
       "layout": "IPY_MODEL_1453bee558fe4b69bff13cb37b3dbfd8",
       "style": "IPY_MODEL_3a74d7ad10964406afc9de92d7880095",
       "value": "Y"
      }
     },
     "c29cd31616a34d2c8a015d2fbd077316": {
      "model_module": "@jupyter-widgets/base",
      "model_module_version": "2.0.0",
      "model_name": "LayoutModel",
      "state": {
       "width": "initial"
      }
     },
     "c2def71b4c7641e791616360e3fe6b01": {
      "model_module": "@jupyter-widgets/controls",
      "model_module_version": "2.0.0",
      "model_name": "SliderStyleModel",
      "state": {
       "description_width": ""
      }
     },
     "c319893d3e174102ba7fbf78e5d70d28": {
      "model_module": "@jupyter-widgets/controls",
      "model_module_version": "2.0.0",
      "model_name": "ButtonStyleModel",
      "state": {
       "font_family": null,
       "font_size": null,
       "font_style": null,
       "font_variant": null,
       "font_weight": null,
       "text_color": null,
       "text_decoration": null
      }
     },
     "c3dfe78c896a49828175ca4ebbf8047e": {
      "model_module": "@jupyter-widgets/controls",
      "model_module_version": "2.0.0",
      "model_name": "DescriptionStyleModel",
      "state": {
       "description_width": ""
      }
     },
     "c49fab345a864b438ad3348b587056fd": {
      "model_module": "@jupyter-widgets/controls",
      "model_module_version": "2.0.0",
      "model_name": "DescriptionStyleModel",
      "state": {
       "description_width": ""
      }
     },
     "c56729332d50426cadea3fd77fdf48ac": {
      "model_module": "@jupyter-widgets/controls",
      "model_module_version": "2.0.0",
      "model_name": "DescriptionStyleModel",
      "state": {
       "description_width": ""
      }
     },
     "c7a619ad86bd482d88db5f0f5a4ba264": {
      "model_module": "@jupyter-widgets/controls",
      "model_module_version": "2.0.0",
      "model_name": "ButtonStyleModel",
      "state": {
       "font_family": null,
       "font_size": null,
       "font_style": null,
       "font_variant": null,
       "font_weight": null,
       "text_color": null,
       "text_decoration": null
      }
     },
     "c81f161ad3c84eb8a0d2dc3495dbd8f4": {
      "model_module": "@jupyter-widgets/controls",
      "model_module_version": "2.0.0",
      "model_name": "LabelModel",
      "state": {
       "layout": "IPY_MODEL_3a258124fbb34f83b919bc8af243e517",
       "style": "IPY_MODEL_36843dfeb52b4e75a58710df13096d79",
       "value": "dongle"
      }
     },
     "c86f0593ce524676bbeff55b9aca660e": {
      "model_module": "@jupyter-widgets/base",
      "model_module_version": "2.0.0",
      "model_name": "LayoutModel",
      "state": {
       "visibility": "hidden"
      }
     },
     "c92f9c9f17504dc3bc6958f23959b2bc": {
      "model_module": "@jupyter-widgets/controls",
      "model_module_version": "2.0.0",
      "model_name": "TextStyleModel",
      "state": {
       "description_width": "",
       "font_size": null,
       "text_color": null
      }
     },
     "c9a4c9c047694035ac2f129919c07b18": {
      "model_module": "@jupyter-widgets/base",
      "model_module_version": "2.0.0",
      "model_name": "LayoutModel",
      "state": {
       "visibility": "hidden"
      }
     },
     "ca0e07b555f84101a0b4bf8f8ae1b44c": {
      "model_module": "@jupyter-widgets/jupyterlab-sidecar",
      "model_module_version": "^1.1",
      "model_name": "SidecarModel",
      "state": {
       "_model_module_version": "^1.1",
       "_view_module_version": "^1.1",
       "layout": "IPY_MODEL_3319b91cbf3e476fbdb2f25ec4cee82b",
       "outputs": [
        {
         "data": {
          "application/vnd.jupyter.widget-view+json": {
           "model_id": "d503ab1000424b7c88e87cde62cb1e7c",
           "version_major": 2,
           "version_minor": 0
          },
          "text/plain": "PsBoard(children=(ControlPanel(children=(Button(description='Resume', disabled=True, icon='play', style=Button…"
         },
         "metadata": {},
         "output_type": "display_data"
        }
       ],
       "title": "Modules Output"
      }
     },
     "ca34043a3ab6486cb3ffdc78c3981fbb": {
      "model_module": "@jupyter-widgets/controls",
      "model_module_version": "2.0.0",
      "model_name": "ButtonModel",
      "state": {
       "description": "Resume ...",
       "disabled": true,
       "icon": "check",
       "layout": "IPY_MODEL_7c7fe959e5be4c538caba2ff683fc310",
       "style": "IPY_MODEL_644a80fbe9e94e5b9c4f97e72920ee1f",
       "tooltip": "Resume ..."
      }
     },
     "ca7bca5f58b54e98a7d5c7b263504732": {
      "model_module": "@jupyter-widgets/controls",
      "model_module_version": "2.0.0",
      "model_name": "GridBoxModel",
      "state": {
       "children": [
        "IPY_MODEL_7464cd2d39fc45c0961624302c38f9b3",
        "IPY_MODEL_78911bd498d244ecaf2914429f865bc5",
        "IPY_MODEL_7c5fa543c8b045a8b1e6f54f37255532",
        "IPY_MODEL_3d6f62b0483240838e1f89ea3977f3cf",
        "IPY_MODEL_df57ab3ef1f5487fb2436ff526fc9945",
        "IPY_MODEL_0f032e89a1744a608deb45b9440a503d",
        "IPY_MODEL_ab43386eb3c6462581a1086bb386591b",
        "IPY_MODEL_980cd139f667415db62d52279e0ba9c6",
        "IPY_MODEL_18f6924e86214bd5986dae7a135dcf0a",
        "IPY_MODEL_028ab464668f4265a519865c612291df",
        "IPY_MODEL_c1992f068ca6493f99d77dcb48a4f472",
        "IPY_MODEL_d090369019474a17bd2dd29afb842090",
        "IPY_MODEL_42f1c677579344939fa4b3d60e6746eb",
        "IPY_MODEL_a1b660d4f29c44e5bee5dbef54c02e48",
        "IPY_MODEL_9bfe559a2fd64374b3be583347b67509"
       ],
       "layout": "IPY_MODEL_504330873d264810b2de8f3afd7d1573"
      }
     },
     "caeb9c5f30244f308d5cf61bbdad208a": {
      "model_module": "@jupyter-widgets/controls",
      "model_module_version": "2.0.0",
      "model_name": "SelectMultipleModel",
      "state": {
       "_options_labels": [
        "https://www.aviz.fr/nyc-taxi/yellow_tripdata_2015-01.csv.bz2",
        "https://www.aviz.fr/nyc-taxi/nyc_weather_2015.csv",
        ""
       ],
       "description": "Bookmarks",
       "index": [],
       "layout": "IPY_MODEL_b4e5289b73c64640bc8b1db542e4fd07",
       "rows": 5,
       "style": "IPY_MODEL_8c98748bc9f54b2eb49ec7ad70d352a1"
      }
     },
     "cc0f076175154b98ab4b8f4b4ddff983": {
      "model_module": "@jupyter-widgets/base",
      "model_module_version": "2.0.0",
      "model_name": "LayoutModel",
      "state": {}
     },
     "ccbf54698a0948da9375493a9582069a": {
      "model_module": "@jupyter-widgets/base",
      "model_module_version": "2.0.0",
      "model_name": "LayoutModel",
      "state": {
       "visibility": "hidden"
      }
     },
     "cd35b362738f40bfa241b3e211055b18": {
      "model_module": "@jupyter-widgets/base",
      "model_module_version": "2.0.0",
      "model_name": "LayoutModel",
      "state": {}
     },
     "ce5a53b7e76549fcb6314c0788cc3cfd": {
      "model_module": "@jupyter-widgets/controls",
      "model_module_version": "2.0.0",
      "model_name": "HBoxModel",
      "state": {
       "children": [
        "IPY_MODEL_0365cb9a2ff04a78a1220e77a31187e4",
        "IPY_MODEL_b9d3b2c73b454f269bda1f87a8c4c511"
       ],
       "layout": "IPY_MODEL_add4fcaf8a1840b1a5d9060a866c693b"
      }
     },
     "cfcb062ef28d4ea280c6bfc77b388432": {
      "model_module": "@jupyter-widgets/controls",
      "model_module_version": "2.0.0",
      "model_name": "LabelStyleModel",
      "state": {
       "description_width": "",
       "font_family": null,
       "font_size": null,
       "font_style": null,
       "font_variant": null,
       "font_weight": null,
       "text_color": null,
       "text_decoration": null
      }
     },
     "d04e11a896de47f384425d01f36cf64b": {
      "model_module": "@jupyter-widgets/controls",
      "model_module_version": "2.0.0",
      "model_name": "LabelStyleModel",
      "state": {
       "description_width": "",
       "font_family": null,
       "font_size": null,
       "font_style": null,
       "font_variant": null,
       "font_weight": null,
       "text_color": null,
       "text_decoration": null
      }
     },
     "d090369019474a17bd2dd29afb842090": {
      "model_module": "@jupyter-widgets/controls",
      "model_module_version": "2.0.0",
      "model_name": "DropdownModel",
      "state": {
       "_options_labels": [
        "passenger_count:int64",
        "trip_distance:float64",
        "pickup_longitude:float64",
        "pickup_latitude:float64",
        "dropoff_longitude:float64",
        "dropoff_latitude:float64",
        ""
       ],
       "index": 3,
       "layout": "IPY_MODEL_711900fed1c948a89cdd34a26171e527",
       "style": "IPY_MODEL_3daa9d8771714566961b8a5a5681b5e5"
      }
     },
     "d16eea4097304608982d05c42b3826a6": {
      "model_module": "@jupyter-widgets/controls",
      "model_module_version": "2.0.0",
      "model_name": "VBoxModel",
      "state": {
       "children": [
        "IPY_MODEL_ec15f8f87e89495c95390d6dc9e08c21",
        "IPY_MODEL_49e393a192bf4c11b927c31696440652",
        "IPY_MODEL_6b81859bc47a4494aa6683f257849ddb",
        "IPY_MODEL_80a48fd21265443bbda1eb6d5163a7ed",
        "IPY_MODEL_148ced6faa8f4f51aad21321e139a3f8"
       ],
       "layout": "IPY_MODEL_babbb411c58c4c7fb21d7f216f10e33c"
      }
     },
     "d1bf1b2677d349a0924988191c42327f": {
      "model_module": "@jupyter-widgets/controls",
      "model_module_version": "2.0.0",
      "model_name": "LabelStyleModel",
      "state": {
       "description_width": "",
       "font_family": null,
       "font_size": null,
       "font_style": null,
       "font_variant": null,
       "font_weight": null,
       "text_color": null,
       "text_decoration": null
      }
     },
     "d21e088ffcc44b7aabbb4f5756a684bb": {
      "model_module": "@jupyter-widgets/controls",
      "model_module_version": "2.0.0",
      "model_name": "LabelStyleModel",
      "state": {
       "description_width": "",
       "font_family": null,
       "font_size": null,
       "font_style": null,
       "font_variant": null,
       "font_weight": null,
       "text_color": null,
       "text_decoration": null
      }
     },
     "d301ecac0630489fba01f5c6d2a24bd0": {
      "model_module": "@jupyter-widgets/base",
      "model_module_version": "2.0.0",
      "model_name": "LayoutModel",
      "state": {}
     },
     "d47420fe13be42c0a509d63bc48dc2bb": {
      "model_module": "@jupyter-widgets/controls",
      "model_module_version": "2.0.0",
      "model_name": "LabelStyleModel",
      "state": {
       "description_width": "",
       "font_family": null,
       "font_size": null,
       "font_style": null,
       "font_variant": null,
       "font_weight": null,
       "text_color": null,
       "text_decoration": null
      }
     },
     "d4a8e5b22dc54fc8a7558372119dbe9c": {
      "model_module": "@jupyter-widgets/controls",
      "model_module_version": "2.0.0",
      "model_name": "LabelModel",
      "state": {
       "layout": "IPY_MODEL_f287aebfe76443fbbac592d23e0639cd",
       "style": "IPY_MODEL_ec6f6dcba6954deb8ca12c7a45f3874b",
       "value": "dongle"
      }
     },
     "d503ab1000424b7c88e87cde62cb1e7c": {
      "model_module": "@jupyter-widgets/controls",
      "model_module_version": "2.0.0",
      "model_name": "VBoxModel",
      "state": {
       "children": [
        "IPY_MODEL_3ca1d79639bf43e082083fe78116f3ec",
        "IPY_MODEL_5348839ff61446f29d318ca2bfa20c9f",
        "IPY_MODEL_105f3027fdcc435a897909754165d3d9"
       ],
       "layout": "IPY_MODEL_d9c9b08d3135460abb1537963c1a63e9"
      }
     },
     "d57352d688d9493591b51ecbba3568c8": {
      "model_module": "@jupyter-widgets/base",
      "model_module_version": "2.0.0",
      "model_name": "LayoutModel",
      "state": {}
     },
     "d58dd66692a24d64a4a1cb694995174d": {
      "model_module": "@jupyter-widgets/base",
      "model_module_version": "2.0.0",
      "model_name": "LayoutModel",
      "state": {}
     },
     "d5fb69e0f777412f8aadabf3334ae32c": {
      "model_module": "@jupyter-widgets/controls",
      "model_module_version": "2.0.0",
      "model_name": "ButtonModel",
      "state": {
       "description": "Create",
       "icon": "check",
       "layout": "IPY_MODEL_8c4636c39e5a4326869056b1b37b33c8",
       "style": "IPY_MODEL_53d6545e10fa43d495f7ada8f7029892",
       "tooltip": "Create"
      }
     },
     "d7ef4ebd48b949169a23267ddd59f6ca": {
      "model_module": "jupyter-progressivis",
      "model_module_version": "^0.1.0",
      "model_name": "DagWidgetModel",
      "state": {
       "_model_module_version": "^0.1.0",
       "_view_module_version": "^0.1.0",
       "dag": "{\"dag\": [{\"id\": \"root\", \"divID\": \"prog_128858552328912\", \"label\": \"root\", \"parentIds\": []}, {\"id\": \"Taxis\", \"divID\": \"Taxis\", \"label\": \"Taxis\", \"parentIds\": [\"root\"]}, {\"id\": \"RangeQuery2D\", \"divID\": \"RangeQuery2D\", \"label\": \"RangeQuery2D\", \"parentIds\": [\"Taxis\"]}, {\"id\": \"Heatmap\", \"divID\": \"Heatmap\", \"label\": \"Heatmap\", \"parentIds\": [\"RangeQuery2D\"]}], \"summaries\": {\"Taxis\": {\"progress\": 0, \"status\": \"RUNNING\"}, \"RangeQuery2D\": {\"progress\": 0, \"status\": \"RUNNING\"}}, \"summaryVariables\": {\"root\": [\"progress\"], \"Taxis\": [\"progress\"], \"RangeQuery2D\": [\"progress\"], \"Heatmap\": [\"progress\"]}}",
       "layout": "IPY_MODEL_a8ec42b9722d435999ee5ab6febe5d1e",
       "summaries": "{\"Taxis\": {\"progress\": 0, \"status\": \"RUNNING\"}, \"RangeQuery2D\": {\"progress\": 0, \"status\": \"RUNNING\"}}"
      }
     },
     "d8e3f5c30559449c92aa05dfd826b408": {
      "model_module": "@jupyter-widgets/controls",
      "model_module_version": "2.0.0",
      "model_name": "LabelStyleModel",
      "state": {
       "description_width": "",
       "font_family": null,
       "font_size": null,
       "font_style": null,
       "font_variant": null,
       "font_weight": null,
       "text_color": null,
       "text_decoration": null
      }
     },
     "d9095b50950b4ffb98237ca952956ae4": {
      "model_module": "@jupyter-widgets/base",
      "model_module_version": "2.0.0",
      "model_name": "LayoutModel",
      "state": {
       "width": "initial"
      }
     },
     "d988bb14da7e473291d1f97058f19e86": {
      "model_module": "@jupyter-widgets/base",
      "model_module_version": "2.0.0",
      "model_name": "LayoutModel",
      "state": {}
     },
     "d9b6d85960364f509d1b3426a4675b82": {
      "model_module": "@jupyter-widgets/controls",
      "model_module_version": "2.0.0",
      "model_name": "LabelModel",
      "state": {
       "layout": "IPY_MODEL_9da1b2b6089443fdacfac69fc65dc1b6",
       "style": "IPY_MODEL_78fa7a046b1245a58ba912bac2ddd34e",
       "value": "dongle"
      }
     },
     "d9c9b08d3135460abb1537963c1a63e9": {
      "model_module": "@jupyter-widgets/base",
      "model_module_version": "2.0.0",
      "model_name": "LayoutModel",
      "state": {}
     },
     "dadcdee159ca4573a0c1b109746cf2f0": {
      "model_module": "@jupyter-widgets/base",
      "model_module_version": "2.0.0",
      "model_name": "LayoutModel",
      "state": {}
     },
     "db41c9b4303148c29bb63339b00594ae": {
      "model_module": "@jupyter-widgets/base",
      "model_module_version": "2.0.0",
      "model_name": "LayoutModel",
      "state": {}
     },
     "db74aee17e304960a67c94ef03fda009": {
      "model_module": "@jupyter-widgets/controls",
      "model_module_version": "2.0.0",
      "model_name": "LabelModel",
      "state": {
       "layout": "IPY_MODEL_b523c05953ef4e9086068be5fadd92ba",
       "style": "IPY_MODEL_68fa050226e1440eafcad689ef8e65f8",
       "value": "dongle"
      }
     },
     "dcceb55e31cb419e9813f47920cac13e": {
      "model_module": "@jupyter-widgets/base",
      "model_module_version": "2.0.0",
      "model_name": "LayoutModel",
      "state": {}
     },
     "de3437dd12474df090e661182b255bb6": {
      "model_module": "@jupyter-widgets/controls",
      "model_module_version": "2.0.0",
      "model_name": "ButtonModel",
      "state": {
       "description": "Start loading csv ...",
       "disabled": true,
       "icon": "check",
       "layout": "IPY_MODEL_e87cc32e31fc400a81c2cea445af6ea0",
       "style": "IPY_MODEL_8641a40cbd4e4f2dad57f3f6398f2187",
       "tooltip": "Start loading csv ..."
      }
     },
     "de4152069eaf4390be069945c8cfc904": {
      "model_module": "@jupyter-widgets/base",
      "model_module_version": "2.0.0",
      "model_name": "LayoutModel",
      "state": {}
     },
     "df57ab3ef1f5487fb2436ff526fc9945": {
      "model_module": "@jupyter-widgets/controls",
      "model_module_version": "2.0.0",
      "model_name": "LabelModel",
      "state": {
       "layout": "IPY_MODEL_4c6731744bdc4d1eafb854312ad9f01e",
       "style": "IPY_MODEL_d8e3f5c30559449c92aa05dfd826b408",
       "value": "Max"
      }
     },
     "e04dec999a424e2fb15f378b430f8a06": {
      "model_module": "@jupyter-widgets/base",
      "model_module_version": "2.0.0",
      "model_name": "LayoutModel",
      "state": {}
     },
     "e1e3c835449542fab032e3f7b643cc21": {
      "model_module": "@jupyter-widgets/controls",
      "model_module_version": "2.0.0",
      "model_name": "CheckboxStyleModel",
      "state": {
       "description_width": ""
      }
     },
     "e3948d410ba1406082659775af497bf3": {
      "model_module": "@jupyter-widgets/controls",
      "model_module_version": "2.0.0",
      "model_name": "CheckboxModel",
      "state": {
       "description": "Record this scenario",
       "disabled": true,
       "layout": "IPY_MODEL_4f4fce229083434a88285cf65ae1cf15",
       "style": "IPY_MODEL_657cf0e675634a66bf7d887b2d795237",
       "value": true
      }
     },
     "e4afe5c45fe149f58da109598000f73f": {
      "model_module": "@jupyter-widgets/base",
      "model_module_version": "2.0.0",
      "model_name": "LayoutModel",
      "state": {}
     },
     "e523e177d6664321b66d20450a9e362d": {
      "model_module": "@jupyter-widgets/base",
      "model_module_version": "2.0.0",
      "model_name": "LayoutModel",
      "state": {}
     },
     "e619fa75b185427b8590e3b05d5ef436": {
      "model_module": "@jupyter-widgets/controls",
      "model_module_version": "2.0.0",
      "model_name": "ButtonStyleModel",
      "state": {
       "font_family": null,
       "font_size": null,
       "font_style": null,
       "font_variant": null,
       "font_weight": null,
       "text_color": null,
       "text_decoration": null
      }
     },
     "e794ef1130534dd890ecf54c1fff5707": {
      "model_module": "@jupyter-widgets/base",
      "model_module_version": "2.0.0",
      "model_name": "LayoutModel",
      "state": {}
     },
     "e87cc32e31fc400a81c2cea445af6ea0": {
      "model_module": "@jupyter-widgets/base",
      "model_module_version": "2.0.0",
      "model_name": "LayoutModel",
      "state": {}
     },
     "e95ce49b6b9b4418b8bbe3a9f18d149b": {
      "model_module": "@jupyter-widgets/controls",
      "model_module_version": "2.0.0",
      "model_name": "LabelModel",
      "state": {
       "layout": "IPY_MODEL_77381ac6e0414b8184d8e70b77e32e3c",
       "style": "IPY_MODEL_198b2585f7cb40a2a5365c08834223f6",
       "value": "dongle"
      }
     },
     "e976f8ba11224fa8973ca670fccd2395": {
      "model_module": "@jupyter-widgets/controls",
      "model_module_version": "2.0.0",
      "model_name": "SliderStyleModel",
      "state": {
       "description_width": ""
      }
     },
     "ea52f340a202492e830513ed3deb2ace": {
      "model_module": "@jupyter-widgets/controls",
      "model_module_version": "2.0.0",
      "model_name": "ButtonStyleModel",
      "state": {
       "font_family": null,
       "font_size": null,
       "font_style": null,
       "font_variant": null,
       "font_weight": null,
       "text_color": null,
       "text_decoration": null
      }
     },
     "ea613dbfe2a041bdad03f93a8c9902e8": {
      "model_module": "@jupyter-widgets/controls",
      "model_module_version": "2.0.0",
      "model_name": "LabelStyleModel",
      "state": {
       "description_width": "",
       "font_family": null,
       "font_size": null,
       "font_style": null,
       "font_variant": null,
       "font_weight": null,
       "text_color": null,
       "text_decoration": null
      }
     },
     "ec00cc4901ef4dcb9870411e77a25676": {
      "model_module": "jupyter-progressivis",
      "model_module_version": "^0.1.0",
      "model_name": "JsonHTMLModel",
      "state": {
       "_model_module_version": "^0.1.0",
       "_view_module_version": "^0.1.0",
       "layout": "IPY_MODEL_6e63ff7988394b58b8a8de3e6c6a188c"
      }
     },
     "ec15f8f87e89495c95390d6dc9e08c21": {
      "model_module": "@jupyter-widgets/controls",
      "model_module_version": "2.0.0",
      "model_name": "DropdownModel",
      "state": {
       "_options_labels": [
        "passenger_count:int64",
        "trip_distance:float64",
        "pickup_longitude:float64",
        "pickup_latitude:float64",
        "dropoff_longitude:float64",
        "dropoff_latitude:float64",
        ""
       ],
       "description": "X",
       "index": 4,
       "layout": "IPY_MODEL_cd35b362738f40bfa241b3e211055b18",
       "style": "IPY_MODEL_c49fab345a864b438ad3348b587056fd"
      }
     },
     "ec6f6dcba6954deb8ca12c7a45f3874b": {
      "model_module": "@jupyter-widgets/controls",
      "model_module_version": "2.0.0",
      "model_name": "LabelStyleModel",
      "state": {
       "description_width": "",
       "font_family": null,
       "font_size": null,
       "font_style": null,
       "font_variant": null,
       "font_weight": null,
       "text_color": null,
       "text_decoration": null
      }
     },
     "ec9746b378874165a58a4123087f4c72": {
      "model_module": "@jupyter-widgets/controls",
      "model_module_version": "2.0.0",
      "model_name": "LabelStyleModel",
      "state": {
       "description_width": "",
       "font_family": null,
       "font_size": null,
       "font_style": null,
       "font_variant": null,
       "font_weight": null,
       "text_color": null,
       "text_decoration": null
      }
     },
     "ed1833f9e5e94bfe939e773a74905afb": {
      "model_module": "@jupyter-widgets/controls",
      "model_module_version": "2.0.0",
      "model_name": "DescriptionStyleModel",
      "state": {
       "description_width": ""
      }
     },
     "ed86f47c0af34929bb488b1c9d7c3278": {
      "model_module": "@jupyter-widgets/controls",
      "model_module_version": "2.0.0",
      "model_name": "ButtonStyleModel",
      "state": {
       "font_family": null,
       "font_size": null,
       "font_style": null,
       "font_variant": null,
       "font_weight": null,
       "text_color": null,
       "text_decoration": null
      }
     },
     "ee47e69b6768485ea662d455a6f323b3": {
      "model_module": "@jupyter-widgets/controls",
      "model_module_version": "2.0.0",
      "model_name": "ButtonModel",
      "state": {
       "description": "Resume",
       "disabled": true,
       "icon": "play",
       "layout": "IPY_MODEL_a0ee42d4c5634c05be37e8396a3cbcbf",
       "style": "IPY_MODEL_ed86f47c0af34929bb488b1c9d7c3278",
       "tooltip": "Start"
      }
     },
     "ee6336a634eb4281a85fa73f70164eb3": {
      "model_module": "@jupyter-widgets/controls",
      "model_module_version": "2.0.0",
      "model_name": "LabelStyleModel",
      "state": {
       "description_width": "",
       "font_family": null,
       "font_size": null,
       "font_style": null,
       "font_variant": null,
       "font_weight": null,
       "text_color": null,
       "text_decoration": null
      }
     },
     "ef13a24a7f1346a4ba9d68356fe64490": {
      "model_module": "@jupyter-widgets/base",
      "model_module_version": "2.0.0",
      "model_name": "LayoutModel",
      "state": {
       "visibility": "hidden"
      }
     },
     "ef30b6940499407587daef0fa952c289": {
      "model_module": "@jupyter-widgets/base",
      "model_module_version": "2.0.0",
      "model_name": "LayoutModel",
      "state": {
       "width": "60%"
      }
     },
     "eff848561e3c4258829fa7a237ee6f8d": {
      "model_module": "@jupyter-widgets/controls",
      "model_module_version": "2.0.0",
      "model_name": "LabelStyleModel",
      "state": {
       "description_width": "",
       "font_family": null,
       "font_size": null,
       "font_style": null,
       "font_variant": null,
       "font_weight": null,
       "text_color": null,
       "text_decoration": null
      }
     },
     "f09e1bbd3feb46dbbfa43449f73cfe89": {
      "model_module": "@jupyter-widgets/base",
      "model_module_version": "2.0.0",
      "model_name": "LayoutModel",
      "state": {}
     },
     "f1b6a39280d24b17abfa68234fc8d963": {
      "model_module": "@jupyter-widgets/base",
      "model_module_version": "2.0.0",
      "model_name": "LayoutModel",
      "state": {
       "visibility": "hidden"
      }
     },
     "f1ffe4bfd6314090bb8a0ad572723a70": {
      "model_module": "jupyter-progressivis",
      "model_module_version": "^0.1.0",
      "model_name": "BackupModel",
      "state": {
       "_model_module_version": "^0.1.0",
       "_view_module_version": "^0.1.0",
       "layout": "IPY_MODEL_e794ef1130534dd890ecf54c1fff5707"
      }
     },
     "f287aebfe76443fbbac592d23e0639cd": {
      "model_module": "@jupyter-widgets/base",
      "model_module_version": "2.0.0",
      "model_name": "LayoutModel",
      "state": {
       "visibility": "hidden"
      }
     },
     "f33b8211f1e342e1ad93a82f91e53594": {
      "model_module": "@jupyter-widgets/base",
      "model_module_version": "2.0.0",
      "model_name": "LayoutModel",
      "state": {}
     },
     "f346cf3769d7495791e991b18983ca1e": {
      "model_module": "@jupyter-widgets/base",
      "model_module_version": "2.0.0",
      "model_name": "LayoutModel",
      "state": {}
     },
     "f5ba29f2377d4fb79b335dec2fe79251": {
      "model_module": "@jupyter-widgets/controls",
      "model_module_version": "2.0.0",
      "model_name": "TextStyleModel",
      "state": {
       "description_width": "initial",
       "font_size": null,
       "text_color": null
      }
     },
     "f6df7dc2efe24c7d9ca488b09e8e7110": {
      "model_module": "@jupyter-widgets/controls",
      "model_module_version": "2.0.0",
      "model_name": "TextModel",
      "state": {
       "description": "PARQUET loader:",
       "layout": "IPY_MODEL_b16fcbe2013044d1984cf9d42f0c5dc0",
       "placeholder": "optional alias",
       "style": "IPY_MODEL_1b944ba67c4644d2a0dac96e19ae0216"
      }
     },
     "f80ea411c70e49c19c502eb143911f88": {
      "model_module": "@jupyter-widgets/controls",
      "model_module_version": "2.0.0",
      "model_name": "LabelStyleModel",
      "state": {
       "description_width": "",
       "font_family": null,
       "font_size": null,
       "font_style": null,
       "font_variant": null,
       "font_weight": null,
       "text_color": null,
       "text_decoration": null
      }
     },
     "f870e394d2b94c77b302cd38168d9f4b": {
      "model_module": "@jupyter-widgets/controls",
      "model_module_version": "2.0.0",
      "model_name": "DescriptionStyleModel",
      "state": {
       "description_width": ""
      }
     },
     "fa4459f32d824ad38acfb1a010e84766": {
      "model_module": "@jupyter-widgets/base",
      "model_module_version": "2.0.0",
      "model_name": "LayoutModel",
      "state": {}
     },
     "fb95b3cae9e14e599765df2ca1d7af8a": {
      "model_module": "@jupyter-widgets/controls",
      "model_module_version": "2.0.0",
      "model_name": "LabelStyleModel",
      "state": {
       "description_width": "",
       "font_family": null,
       "font_size": null,
       "font_style": null,
       "font_variant": null,
       "font_weight": null,
       "text_color": null,
       "text_decoration": null
      }
     },
     "fb962982ddcc4abc8b2486add80dd6fa": {
      "model_module": "@jupyter-widgets/controls",
      "model_module_version": "2.0.0",
      "model_name": "DescriptionStyleModel",
      "state": {
       "description_width": ""
      }
     },
     "fc487d0b84bb4cb2a696f17b41690aea": {
      "model_module": "@jupyter-widgets/controls",
      "model_module_version": "2.0.0",
      "model_name": "VBoxModel",
      "state": {
       "children": [
        "IPY_MODEL_721f1c1d6b674401bd793d260ebd8c17",
        "IPY_MODEL_8dfa4505483d4e558cab97bfd241a3c2"
       ],
       "layout": "IPY_MODEL_32a77390bdea4d799b5610e8e1fb81e3"
      }
     },
     "fcecc8b173b7449a883fbb4196776800": {
      "model_module": "@jupyter-widgets/controls",
      "model_module_version": "2.0.0",
      "model_name": "LabelStyleModel",
      "state": {
       "description_width": "",
       "font_family": null,
       "font_size": null,
       "font_style": null,
       "font_variant": null,
       "font_weight": null,
       "text_color": null,
       "text_decoration": null
      }
     },
     "fcf3f4c1d1be4cf681ba56b7d199a6f3": {
      "model_module": "@jupyter-widgets/base",
      "model_module_version": "2.0.0",
      "model_name": "LayoutModel",
      "state": {
       "visibility": "hidden"
      }
     },
     "fe3555afd1c24c79aad41d1910701901": {
      "model_module": "@jupyter-widgets/controls",
      "model_module_version": "2.0.0",
      "model_name": "LabelStyleModel",
      "state": {
       "description_width": "",
       "font_family": null,
       "font_size": null,
       "font_style": null,
       "font_variant": null,
       "font_weight": null,
       "text_color": null,
       "text_decoration": null
      }
     },
     "fe657cb9c9a449b7ac8ea7bbbe5550c7": {
      "model_module": "@jupyter-widgets/controls",
      "model_module_version": "2.0.0",
      "model_name": "HBoxModel",
      "state": {
       "children": [
        "IPY_MODEL_3cbb19f892724b2db825b2e4d1d5a40f",
        "IPY_MODEL_916701b8bae84da791412c694eabec67",
        "IPY_MODEL_a4ac2bcbb5d34e15b8f706bb25c1f7bc"
       ],
       "layout": "IPY_MODEL_5c63b86c00b3430593dd631917fb55cd"
      }
     },
     "fee5f03ad7f04979a744b7f34ff77e30": {
      "model_module": "@jupyter-widgets/controls",
      "model_module_version": "2.0.0",
      "model_name": "LabelModel",
      "state": {
       "layout": "IPY_MODEL_325d06e3df5c4030ba376b978d70df2b",
       "style": "IPY_MODEL_0e169424080243bd93d6e3fc7f795cef",
       "value": "dongle"
      }
     }
    },
    "version_major": 2,
    "version_minor": 0
   }
  }
 },
 "nbformat": 4,
 "nbformat_minor": 5
}
