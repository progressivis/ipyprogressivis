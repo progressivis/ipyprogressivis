{
 "cells": [
  {
   "cell_type": "code",
   "execution_count": null,
   "metadata": {
    "lines_to_next_cell": 2
   },
   "outputs": [],
   "source": [
    "from ipyprogressivis.widgets import ControlPanel, ModuleGraph\n",
    "from ipyprogressivis.widgets.scatterplot import Scatterplot\n",
    "sc = Scatterplot()\n",
    "gr = ModuleGraph()\n",
    "import warnings\n",
    "warnings.filterwarnings('ignore')"
   ]
  },
  {
   "cell_type": "code",
   "execution_count": null,
   "metadata": {},
   "outputs": [],
   "source": [
    "import time\n",
    "import pandas as pd\n",
    "import copy\n",
    "from progressivis.core.api import Scheduler, Sink, JSONEncoderNp\n",
    "from progressivis.table.api import PTable\n",
    "from progressivis.vis import MCScatterPlot\n",
    "from progressivis.io.api import CSVLoader\n",
    "from progressivis.table.constant import Constant\n",
    "\n",
    "def _quiet(x): pass\n",
    "\n",
    "\n",
    "def _filter(df):\n",
    "    pklon = df['pickup_longitude']\n",
    "    pklat = df['pickup_latitude']\n",
    "    dolon = df['dropoff_longitude']\n",
    "    dolat = df['dropoff_latitude']\n",
    "\n",
    "    return df[(pklon > -74.08) & (pklon < -73.5) & (pklat > 40.55) & (pklat < 41.00) &\n",
    "                  (dolon > -74.08) & (dolon < -73.5) & (dolat > 40.55) & (dolat < 41.00)]\n",
    "    \n",
    "\n",
    "\n",
    "PREFIX = \"https://www.aviz.fr/nyc-taxi/\"\n",
    "SUFFIX = '.bz2'\n",
    "\n",
    "URLS = [\n",
    "    PREFIX+'yellow_tripdata_2015-01.csv'+SUFFIX,\n",
    "    PREFIX+'yellow_tripdata_2015-02.csv'+SUFFIX,\n",
    "    PREFIX+'yellow_tripdata_2015-03.csv'+SUFFIX,\n",
    "    PREFIX+'yellow_tripdata_2015-04.csv'+SUFFIX,\n",
    "    PREFIX+'yellow_tripdata_2015-05.csv'+SUFFIX,\n",
    "    PREFIX+'yellow_tripdata_2015-06.csv'+SUFFIX,\n",
    "]\n",
    "\n",
    "FILENAMES = pd.DataFrame({'filename': URLS})\n",
    "CST = Constant(PTable('filenames', data=FILENAMES))\n",
    "CSV = CSVLoader(skipinitialspace=True,\n",
    "                usecols=['pickup_longitude', 'pickup_latitude',\n",
    "                             'dropoff_longitude', 'dropoff_latitude'],\n",
    "                filter_=_filter) \n",
    "CSV.input.filenames = CST.output[0]\n",
    "sink = Sink()\n",
    "sink.input.inp = CSV.output[0]\n",
    "\n",
    "MULTICLASS = MCScatterPlot(classes=[\n",
    "    ('pickup', 'pickup_longitude', 'pickup_latitude'),\n",
    "    ('dropoff', 'dropoff_longitude', 'dropoff_latitude')], approximate=True)\n",
    "MULTICLASS.create_dependent_modules(CSV, 'result')\n",
    "sc.link_module(MULTICLASS)\n",
    "cpanel = ControlPanel(CSV.scheduler)\n"
   ]
  },
  {
   "cell_type": "code",
   "execution_count": null,
   "metadata": {},
   "outputs": [],
   "source": [
    "import ipywidgets as ipw\n",
    "import asyncio as aio\n",
    "CSV.scheduler.task_start()\n",
    "await aio.sleep(1)\n",
    "json_ = CSV.scheduler.to_json(short=False)\n",
    "json_str = JSONEncoderNp.dumps(json_, skipkeys=True)\n",
    "gr.data = json_str\n",
    "tab = ipw.Tab()\n",
    "tab.children = [sc, gr]\n",
    "tab.set_title(0, 'Scatterplot')\n",
    "tab.set_title(1, 'Module graph')\n",
    "ipw.VBox([tab, cpanel])"
   ]
  }
 ],
 "metadata": {
  "jupytext": {
   "encoding": "# -*- coding: utf-8 -*-",
   "formats": "ipynb,py:light"
  },
  "kernelspec": {
   "display_name": "Python 3 (ipykernel)",
   "language": "python",
   "name": "python3"
  },
  "language_info": {
   "codemirror_mode": {
    "name": "ipython",
    "version": 3
   },
   "file_extension": ".py",
   "mimetype": "text/x-python",
   "name": "python",
   "nbconvert_exporter": "python",
   "pygments_lexer": "ipython3",
   "version": "3.13.7"
  },
  "widgets": {
   "application/vnd.jupyter.widget-state+json": {
    "state": {},
    "version_major": 2,
    "version_minor": 0
   }
  }
 },
 "nbformat": 4,
 "nbformat_minor": 4
}
