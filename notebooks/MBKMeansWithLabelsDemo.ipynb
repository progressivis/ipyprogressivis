{
 "cells": [
  {
   "cell_type": "code",
   "execution_count": null,
   "metadata": {},
   "outputs": [],
   "source": [
    "from ipyprogressivis.widgets.scatterplot import Scatterplot\n",
    "sc = Scatterplot()\n",
    "import warnings\n",
    "warnings.filterwarnings('ignore')"
   ]
  },
  {
   "cell_type": "code",
   "execution_count": null,
   "metadata": {},
   "outputs": [],
   "source": [
    "from progressivis.cluster import MBKMeans, MBKMeansFilter\n",
    "from progressivis.io.api import SimpleCSVLoader\n",
    "from progressivis.vis import MCScatterPlot\n",
    "from progressivis.datasets import get_dataset\n",
    "import pandas as pd\n",
    "import numpy as np\n",
    "import os.path\n",
    "from progressivis.datasets import get_dataset\n",
    " \n",
    "data = SimpleCSVLoader(get_dataset(\"bigfile_mvn\"), throttle=1000, skipinitialspace=True, header=None)\n",
    "n_clusters = 3\n",
    "mbkmeans = MBKMeans(n_clusters=n_clusters, \n",
    "                    batch_size=100, tol=0.01, is_input=False)\n",
    "mbkmeans.create_dependent_modules(data)\n",
    "classes = []\n",
    "for i in range(n_clusters):\n",
    "    cname = f\"k{i}\"\n",
    "    filt = MBKMeansFilter(i)\n",
    "    filt.create_dependent_modules(mbkmeans, data, 'result')\n",
    "    classes.append({'name': cname, 'x_column': '_0',\n",
    "                    'y_column': '_1', 'sample': mbkmeans if i==0 else None,\n",
    "                    'sample_slot': 'result',\n",
    "                    'input_module': filt, 'input_slot': 'result'})\n",
    "sp = MCScatterPlot(classes=classes)\n",
    "sp.create_dependent_modules()\n",
    "for i in range(n_clusters):\n",
    "    cname = f\"k{i}\"\n",
    "    sp[cname].min_value.result.update({'_0': -np.inf, '_1': -np.inf})\n",
    "    sp[cname].max_value.result.update({'_0': np.inf, '_1': np.inf})\n",
    "\n",
    "sp.move_point = mbkmeans.dep.moved_center # for inpula bt management\n",
    "sc.link_module(sp)\n",
    "sp.scheduler.task_start();"
   ]
  },
  {
   "cell_type": "code",
   "execution_count": null,
   "metadata": {},
   "outputs": [],
   "source": [
    "sc"
   ]
  }
 ],
 "metadata": {
  "kernelspec": {
   "display_name": "Python 3 (ipykernel)",
   "language": "python",
   "name": "python3"
  },
  "language_info": {
   "codemirror_mode": {
    "name": "ipython",
    "version": 3
   },
   "file_extension": ".py",
   "mimetype": "text/x-python",
   "name": "python",
   "nbconvert_exporter": "python",
   "pygments_lexer": "ipython3",
   "version": "3.13.7"
  },
  "widgets": {
   "application/vnd.jupyter.widget-state+json": {
    "state": {},
    "version_major": 2,
    "version_minor": 0
   }
  }
 },
 "nbformat": 4,
 "nbformat_minor": 4
}
