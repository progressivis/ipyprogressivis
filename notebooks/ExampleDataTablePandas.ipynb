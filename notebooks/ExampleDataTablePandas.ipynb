{
 "cells": [
  {
   "cell_type": "code",
   "execution_count": null,
   "metadata": {},
   "outputs": [],
   "source": [
    "from ipyprogressivis.widgets import *\n",
    "dt = DataPTable()"
   ]
  },
  {
   "cell_type": "code",
   "execution_count": null,
   "metadata": {},
   "outputs": [],
   "source": [
    "import numpy as np\n",
    "import pandas as pd\n",
    "import json\n",
    "sz = 100\n",
    "def df_to_dict(df):\n",
    "    return [list(d.values()) for d in df.to_dict(orient='records')]\n",
    "\n",
    "ivalues = np.random.randint(100,size=sz)\n",
    "fvalues = np.random.rand(sz)\n",
    "df = pd.DataFrame({'ix': range(sz), 'a':ivalues, 'b':fvalues})"
   ]
  },
  {
   "cell_type": "code",
   "execution_count": null,
   "metadata": {},
   "outputs": [],
   "source": [
    "dt.columns = json.dumps(df.columns.tolist())\n",
    "data = df_to_dict(df.iloc[0:10])\n",
    "df_len = len(df)\n",
    "js_data = {'data': data, 'recordsTotal': df_len, \n",
    "           'recordsFiltered': df_len, 'length': len(data)}\n",
    "dt.data = json.dumps(js_data)\n",
    "dt"
   ]
  },
  {
   "cell_type": "code",
   "execution_count": null,
   "metadata": {},
   "outputs": [],
   "source": [
    "output2 = widgets.Output()\n",
    "display(dt, output2)\n",
    "\n",
    "def on_value_change(change):\n",
    "    info = change['new']\n",
    "    df_len = len(df)\n",
    "    data = df_to_dict(df.iloc[info['start']:info['end']])\n",
    "    js_data = {'data': data, 'recordsTotal': df_len, 'recordsFiltered': df_len, \n",
    "               'length': len(data), 'draw':info['draw'], 'page':info['page']}\n",
    "    dt.data = json.dumps(js_data)\n",
    "    with output2:\n",
    "        print(change['new'])\n",
    "dt.observe(on_value_change, \"page\")"
   ]
  },
  {
   "cell_type": "code",
   "execution_count": null,
   "metadata": {},
   "outputs": [],
   "source": []
  }
 ],
 "metadata": {
  "kernelspec": {
   "display_name": "Python 3 (ipykernel)",
   "language": "python",
   "name": "python3"
  },
  "language_info": {
   "codemirror_mode": {
    "name": "ipython",
    "version": 3
   },
   "file_extension": ".py",
   "mimetype": "text/x-python",
   "name": "python",
   "nbconvert_exporter": "python",
   "pygments_lexer": "ipython3",
   "version": "3.11.4"
  },
  "widgets": {
   "application/vnd.jupyter.widget-state+json": {
    "state": {},
    "version_major": 2,
    "version_minor": 0
   }
  }
 },
 "nbformat": 4,
 "nbformat_minor": 4
}
