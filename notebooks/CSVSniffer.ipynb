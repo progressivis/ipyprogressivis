{
 "cells": [
  {
   "cell_type": "code",
   "execution_count": 5,
   "id": "distributed-pakistan",
   "metadata": {},
   "outputs": [],
   "source": [
    "from ipyprogressivis.nbwidgets.csv_sniffer import CSVSniffer"
   ]
  },
  {
   "cell_type": "code",
   "execution_count": 8,
   "id": "liquid-shield",
   "metadata": {},
   "outputs": [],
   "source": [
    "PREFIX = \"../../nyc-taxi\"\n",
    "sniffer = CSVSniffer(PREFIX+\"/yellow_tripdata_2015-01.csv.bz2\")"
   ]
  },
  {
   "cell_type": "code",
   "execution_count": 10,
   "id": "binary-classic",
   "metadata": {},
   "outputs": [
    {
     "data": {
      "application/vnd.jupyter.widget-view+json": {
       "model_id": "e11b2bcd9edf4db6af748000b205283d",
       "version_major": 2,
       "version_minor": 0
      },
      "text/plain": [
       "VBox(children=(HBox(children=(Tab(children=(VBox(children=(RadioButtons(options=((',', ','), (';', ';'), ('<TA…"
      ]
     },
     "execution_count": 10,
     "metadata": {},
     "output_type": "execute_result"
    }
   ],
   "source": [
    "sniffer.box"
   ]
  },
  {
   "cell_type": "code",
   "execution_count": 11,
   "id": "another-saying",
   "metadata": {},
   "outputs": [
    {
     "data": {
      "text/plain": [
       "\"{'delimiter': ',', 'header': 0, 'index_col': False, 'usecols': ['VendorID', 'tpep_pickup_datetime', 'tpep_dropoff_datetime', 'passenger_count', 'trip_distance', 'pickup_longitude', 'pickup_latitude', 'dropoff_longitude', 'dropoff_latitude', 'fare_amount', 'total_amount'], 'dtype': {'VendorID': 'int8', 'tpep_pickup_datetime': 'str', 'tpep_dropoff_datetime': 'str', 'passenger_count': 'int32', 'trip_distance': 'float32', 'pickup_longitude': 'float32', 'pickup_latitude': 'float32', 'dropoff_longitude': 'float32', 'dropoff_latitude': 'float32', 'fare_amount': 'float32', 'total_amount': 'float32'}, 'parse_dates': ['tpep_pickup_datetime', 'tpep_dropoff_datetime'], 'doublequote': False}\""
      ]
     },
     "execution_count": 11,
     "metadata": {},
     "output_type": "execute_result"
    }
   ],
   "source": [
    "sniffer.cmdline.value"
   ]
  },
  {
   "cell_type": "code",
   "execution_count": 12,
   "id": "based-curve",
   "metadata": {},
   "outputs": [
    {
     "data": {
      "text/plain": [
       "{'VendorID': dtype('int64'),\n",
       " 'tpep_pickup_datetime': dtype('O'),\n",
       " 'tpep_dropoff_datetime': dtype('O'),\n",
       " 'passenger_count': dtype('int64'),\n",
       " 'trip_distance': dtype('float64'),\n",
       " 'pickup_longitude': dtype('float64'),\n",
       " 'pickup_latitude': dtype('float64'),\n",
       " 'RateCodeID': dtype('int64'),\n",
       " 'store_and_fwd_flag': dtype('O'),\n",
       " 'dropoff_longitude': dtype('float64'),\n",
       " 'dropoff_latitude': dtype('float64'),\n",
       " 'payment_type': dtype('int64'),\n",
       " 'fare_amount': dtype('float64'),\n",
       " 'extra': dtype('float64'),\n",
       " 'mta_tax': dtype('float64'),\n",
       " 'tip_amount': dtype('float64'),\n",
       " 'tolls_amount': dtype('float64'),\n",
       " 'improvement_surcharge': dtype('float64'),\n",
       " 'total_amount': dtype('float64')}"
      ]
     },
     "execution_count": 12,
     "metadata": {},
     "output_type": "execute_result"
    }
   ],
   "source": [
    "sniffer._df.dtypes.to_dict()"
   ]
  },
  {
   "cell_type": "code",
   "execution_count": 13,
   "id": "regular-restoration",
   "metadata": {},
   "outputs": [
    {
     "data": {
      "text/plain": [
       "VendorID                   int64\n",
       "tpep_pickup_datetime      object\n",
       "tpep_dropoff_datetime     object\n",
       "passenger_count            int64\n",
       "trip_distance            float64\n",
       "pickup_longitude         float64\n",
       "pickup_latitude          float64\n",
       "RateCodeID                 int64\n",
       "store_and_fwd_flag        object\n",
       "dropoff_longitude        float64\n",
       "dropoff_latitude         float64\n",
       "payment_type               int64\n",
       "fare_amount              float64\n",
       "extra                    float64\n",
       "mta_tax                  float64\n",
       "tip_amount               float64\n",
       "tolls_amount             float64\n",
       "improvement_surcharge    float64\n",
       "total_amount             float64\n",
       "dtype: object"
      ]
     },
     "execution_count": 13,
     "metadata": {},
     "output_type": "execute_result"
    }
   ],
   "source": [
    "sniffer._df.dtypes"
   ]
  },
  {
   "cell_type": "code",
   "execution_count": 14,
   "id": "prepared-apparatus",
   "metadata": {},
   "outputs": [
    {
     "data": {
      "text/plain": [
       "VendorID                           int8\n",
       "tpep_pickup_datetime     datetime64[ns]\n",
       "tpep_dropoff_datetime    datetime64[ns]\n",
       "passenger_count                   int32\n",
       "trip_distance                   float32\n",
       "pickup_longitude                float32\n",
       "pickup_latitude                 float32\n",
       "dropoff_longitude               float32\n",
       "dropoff_latitude                float32\n",
       "fare_amount                     float32\n",
       "total_amount                    float32\n",
       "dtype: object"
      ]
     },
     "execution_count": 14,
     "metadata": {},
     "output_type": "execute_result"
    }
   ],
   "source": [
    "sniffer._df2.dtypes"
   ]
  },
  {
   "cell_type": "code",
   "execution_count": 15,
   "id": "requested-genius",
   "metadata": {},
   "outputs": [],
   "source": [
    "dt = sniffer._df2.at[1,\"tpep_pickup_datetime\"]"
   ]
  },
  {
   "cell_type": "code",
   "execution_count": 16,
   "id": "parallel-bruce",
   "metadata": {},
   "outputs": [
    {
     "data": {
      "text/plain": [
       "Timestamp('2015-01-10 20:33:38')"
      ]
     },
     "execution_count": 16,
     "metadata": {},
     "output_type": "execute_result"
    }
   ],
   "source": [
    "dt"
   ]
  },
  {
   "cell_type": "code",
   "execution_count": 17,
   "id": "unique-conclusion",
   "metadata": {},
   "outputs": [],
   "source": [
    "dt = sniffer._df2.loc[:,\"tpep_pickup_datetime\"]"
   ]
  },
  {
   "cell_type": "code",
   "execution_count": 18,
   "id": "1056041c",
   "metadata": {},
   "outputs": [
    {
     "data": {
      "text/plain": [
       "Timestamp('2015-01-10 20:33:38')"
      ]
     },
     "execution_count": 18,
     "metadata": {},
     "output_type": "execute_result"
    }
   ],
   "source": [
    "dt.loc[1]"
   ]
  },
  {
   "cell_type": "code",
   "execution_count": null,
   "id": "fd2877cd-07d6-42d6-af59-2cb2f1cf291e",
   "metadata": {},
   "outputs": [],
   "source": []
  }
 ],
 "metadata": {
  "hide_input": false,
  "kernelspec": {
   "display_name": "Python 3 (ipykernel)",
   "language": "python",
   "name": "python3"
  },
  "language_info": {
   "codemirror_mode": {
    "name": "ipython",
    "version": 3
   },
   "file_extension": ".py",
   "mimetype": "text/x-python",
   "name": "python",
   "nbconvert_exporter": "python",
   "pygments_lexer": "ipython3",
   "version": "3.11.7"
  },
  "toc": {
   "base_numbering": 1,
   "nav_menu": {},
   "number_sections": true,
   "sideBar": true,
   "skip_h1_title": false,
   "title_cell": "PTable of Contents",
   "title_sidebar": "Contents",
   "toc_cell": false,
   "toc_position": {},
   "toc_section_display": true,
   "toc_window_display": false
  }
 },
 "nbformat": 4,
 "nbformat_minor": 5
}
