{
 "cells": [
  {
   "cell_type": "code",
   "execution_count": 1,
   "metadata": {},
   "outputs": [],
   "source": [
    "from ipyprogressivis.widgets import *\n",
    "dt = DataPTable()"
   ]
  },
  {
   "cell_type": "code",
   "execution_count": 2,
   "metadata": {},
   "outputs": [],
   "source": [
    "import numpy as np\n",
    "from progressivis.table import PTable \n",
    "from progressivis.core import JSONEncoderNp\n",
    "t = PTable('table_at', dshape=\"{a: int, b: float32}\", create=True)\n",
    "sz = 100\n",
    "t.resize(sz)\n",
    "ivalues = np.random.randint(100,size=sz)\n",
    "t['a'] = ivalues\n",
    "fvalues = np.random.rand(sz)\n",
    "t['b'] = fvalues"
   ]
  },
  {
   "cell_type": "code",
   "execution_count": 3,
   "metadata": {},
   "outputs": [
    {
     "data": {
      "application/vnd.jupyter.widget-view+json": {
       "model_id": "b0867057c6824f4ca4cb68185a11d905",
       "version_major": 2,
       "version_minor": 0
      },
      "text/plain": [
       "DataPTable(columns='[\"index\", \"a\", \"b\"]', data='{\"data\": [[0, 35, 0.4272569715976715], [1, 85, 0.0650418251752…"
      ]
     },
     "execution_count": 3,
     "metadata": {},
     "output_type": "execute_result"
    }
   ],
   "source": [
    "dt.columns = JSONEncoderNp.dumps(['index']+t.columns)\n",
    "data = t.loc[0:10].to_json(orient='datatable')\n",
    "js_data = {'data': data, 'recordsTotal': len(t), \n",
    "           'recordsFiltered': len(t), 'length': len(t), 'draw':1}\n",
    "dt.data = JSONEncoderNp.dumps(js_data)\n",
    "dt"
   ]
  },
  {
   "cell_type": "code",
   "execution_count": 4,
   "metadata": {},
   "outputs": [
    {
     "data": {
      "application/vnd.jupyter.widget-view+json": {
       "model_id": "b0867057c6824f4ca4cb68185a11d905",
       "version_major": 2,
       "version_minor": 0
      },
      "text/plain": [
       "DataPTable(columns='[\"index\", \"a\", \"b\"]', data='{\"data\": [[0, 35, 0.4272569715976715], [1, 85, 0.0650418251752…"
      ]
     },
     "metadata": {},
     "output_type": "display_data"
    },
    {
     "data": {
      "application/vnd.jupyter.widget-view+json": {
       "model_id": "268213c149f3479789990c7ee4e32ae7",
       "version_major": 2,
       "version_minor": 0
      },
      "text/plain": [
       "Output()"
      ]
     },
     "metadata": {},
     "output_type": "display_data"
    }
   ],
   "source": [
    "output2 = widgets.Output()\n",
    "display(dt, output2)\n",
    "\n",
    "def on_value_change(change):\n",
    "    info = change['new']\n",
    "    data = t.loc[info['start']:info['end']].to_json(orient='datatable')\n",
    "    js_data = {'data': data, 'recordsTotal': len(t), 'recordsFiltered': len(t), \n",
    "               'length': len(t), 'draw':info['draw'], 'page':info['page']}\n",
    "    dt.data = JSONEncoderNp.dumps(js_data)\n",
    "    with output2:\n",
    "        print(change['new'])\n",
    "dt.observe(on_value_change, \"page\")"
   ]
  },
  {
   "cell_type": "code",
   "execution_count": null,
   "metadata": {},
   "outputs": [],
   "source": []
  }
 ],
 "metadata": {
  "kernelspec": {
   "display_name": "Python 3 (ipykernel)",
   "language": "python",
   "name": "python3"
  },
  "language_info": {
   "codemirror_mode": {
    "name": "ipython",
    "version": 3
   },
   "file_extension": ".py",
   "mimetype": "text/x-python",
   "name": "python",
   "nbconvert_exporter": "python",
   "pygments_lexer": "ipython3",
   "version": "3.11.4"
  },
  "widgets": {
   "application/vnd.jupyter.widget-state+json": {
    "state": {
     "0f2b2b2615f14394bade45400251b54e": {
      "model_module": "@jupyter-widgets/base",
      "model_module_version": "2.0.0",
      "model_name": "LayoutModel",
      "state": {}
     },
     "268213c149f3479789990c7ee4e32ae7": {
      "model_module": "@jupyter-widgets/output",
      "model_module_version": "1.0.0",
      "model_name": "OutputModel",
      "state": {
       "layout": "IPY_MODEL_0f2b2b2615f14394bade45400251b54e",
       "outputs": [
        {
         "name": "stdout",
         "output_type": "stream",
         "text": "{'page': 1, 'pages': 10, 'start': 10, 'end': 20, 'length': 10, 'recordsTotal': 100, 'recordsDisplay': 100, 'serverSide': True, 'draw': 2}\n"
        }
       ]
      }
     },
     "8e457df2d3e848bb8db60c735c9695e7": {
      "model_module": "@jupyter-widgets/base",
      "model_module_version": "2.0.0",
      "model_name": "LayoutModel",
      "state": {}
     },
     "b0867057c6824f4ca4cb68185a11d905": {
      "model_module": "jupyter-progressivis",
      "model_module_version": "^0.1.0",
      "model_name": "DataTableModel",
      "state": {
       "_model_module_version": "^0.1.0",
       "_view_module_version": "^0.1.0",
       "columns": "[\"index\", \"a\", \"b\"]",
       "data": "{\"data\": [[10, 63, 0.027107715606689453], [11, 61, 0.6939746141433716], [12, 98, 0.4186728298664093], [13, 33, 0.14416217803955078], [14, 4, 0.6602745652198792], [15, 42, 0.07240921258926392], [16, 43, 0.0236893929541111], [17, 39, 0.95897376537323], [18, 36, 0.1175614446401596], [19, 13, 0.007231704890727997], [20, 94, 0.7881025075912476]], \"recordsTotal\": 100, \"recordsFiltered\": 100, \"length\": 100, \"draw\": 2, \"page\": 1}",
       "dt_id": "aDT",
       "layout": "IPY_MODEL_f66c00403eb548568ee2cd024852a459",
       "page": {
        "draw": 2,
        "end": 20,
        "length": 10,
        "page": 1,
        "pages": 10,
        "recordsDisplay": 100,
        "recordsTotal": 100,
        "serverSide": true,
        "start": 10
       }
      }
     },
     "e080fd49f5294b8b9914f82b5a6174c6": {
      "model_module": "@jupyter-widgets/output",
      "model_module_version": "1.0.0",
      "model_name": "OutputModel",
      "state": {
       "layout": "IPY_MODEL_8e457df2d3e848bb8db60c735c9695e7"
      }
     },
     "f66c00403eb548568ee2cd024852a459": {
      "model_module": "@jupyter-widgets/base",
      "model_module_version": "2.0.0",
      "model_name": "LayoutModel",
      "state": {}
     }
    },
    "version_major": 2,
    "version_minor": 0
   }
  }
 },
 "nbformat": 4,
 "nbformat_minor": 4
}
