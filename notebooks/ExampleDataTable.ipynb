{
 "cells": [
  {
   "cell_type": "code",
   "execution_count": 1,
   "metadata": {},
   "outputs": [],
   "source": [
    "from ipyprogressivis.widgets import *\n",
    "dt = DataPTable()"
   ]
  },
  {
   "cell_type": "code",
   "execution_count": 4,
   "metadata": {},
   "outputs": [],
   "source": [
    "import numpy as np\n",
    "from progressivis.table.api import PTable \n",
    "from progressivis.core.api import JSONEncoderNp\n",
    "t = PTable('table_at', dshape=\"{a: int, b: float32}\", create=True)\n",
    "sz = 100\n",
    "t.resize(sz)\n",
    "ivalues = np.random.randint(100,size=sz)\n",
    "t['a'] = ivalues\n",
    "fvalues = np.random.rand(sz)\n",
    "t['b'] = fvalues"
   ]
  },
  {
   "cell_type": "code",
   "execution_count": 5,
   "metadata": {},
   "outputs": [
    {
     "data": {
      "application/vnd.jupyter.widget-view+json": {
       "model_id": "8fc4e998594b4f1eab2fae44d71a83f3",
       "version_major": 2,
       "version_minor": 0
      },
      "text/plain": [
       "DataPTable(columns='[\"index\", \"a\", \"b\"]', data='{\"data\": [[0, 28, 0.12241486459970474], [1, 43, 0.880560100078…"
      ]
     },
     "execution_count": 5,
     "metadata": {},
     "output_type": "execute_result"
    }
   ],
   "source": [
    "dt.columns = JSONEncoderNp.dumps(['index']+t.columns)\n",
    "data = t.loc[0:10].to_json(orient='datatable')\n",
    "js_data = {'data': data, 'recordsTotal': len(t), \n",
    "           'recordsFiltered': len(t), 'length': len(t), 'draw':1}\n",
    "dt.data = JSONEncoderNp.dumps(js_data)\n",
    "dt"
   ]
  },
  {
   "cell_type": "code",
   "execution_count": 6,
   "metadata": {},
   "outputs": [
    {
     "data": {
      "application/vnd.jupyter.widget-view+json": {
       "model_id": "8fc4e998594b4f1eab2fae44d71a83f3",
       "version_major": 2,
       "version_minor": 0
      },
      "text/plain": [
       "DataPTable(columns='[\"index\", \"a\", \"b\"]', data='{\"data\": [[0, 28, 0.12241486459970474], [1, 43, 0.880560100078…"
      ]
     },
     "metadata": {},
     "output_type": "display_data"
    },
    {
     "data": {
      "application/vnd.jupyter.widget-view+json": {
       "model_id": "5d572b8e784840c39d33c8e9a98f6f88",
       "version_major": 2,
       "version_minor": 0
      },
      "text/plain": [
       "Output()"
      ]
     },
     "metadata": {},
     "output_type": "display_data"
    }
   ],
   "source": [
    "output2 = widgets.Output()\n",
    "display(dt, output2)\n",
    "\n",
    "def on_value_change(change):\n",
    "    info = change['new']\n",
    "    data = t.loc[info['start']:info['end']].to_json(orient='datatable')\n",
    "    js_data = {'data': data, 'recordsTotal': len(t), 'recordsFiltered': len(t), \n",
    "               'length': len(t), 'draw':info['draw'], 'page':info['page']}\n",
    "    dt.data = JSONEncoderNp.dumps(js_data)\n",
    "    with output2:\n",
    "        print(change['new'])\n",
    "dt.observe(on_value_change, \"page\")"
   ]
  },
  {
   "cell_type": "code",
   "execution_count": null,
   "metadata": {},
   "outputs": [],
   "source": []
  }
 ],
 "metadata": {
  "kernelspec": {
   "display_name": "Python 3 (ipykernel)",
   "language": "python",
   "name": "python3"
  },
  "language_info": {
   "codemirror_mode": {
    "name": "ipython",
    "version": 3
   },
   "file_extension": ".py",
   "mimetype": "text/x-python",
   "name": "python",
   "nbconvert_exporter": "python",
   "pygments_lexer": "ipython3",
   "version": "3.11.4"
  },
  "widgets": {
   "application/vnd.jupyter.widget-state+json": {
    "state": {
     "0d919f2358984eaba7413303d06bf717": {
      "model_module": "@jupyter-widgets/base",
      "model_module_version": "2.0.0",
      "model_name": "LayoutModel",
      "state": {}
     },
     "0fe3d975ded44b78a70b824e21d69cd5": {
      "model_module": "@jupyter-widgets/base",
      "model_module_version": "2.0.0",
      "model_name": "LayoutModel",
      "state": {}
     },
     "5d572b8e784840c39d33c8e9a98f6f88": {
      "model_module": "@jupyter-widgets/output",
      "model_module_version": "1.0.0",
      "model_name": "OutputModel",
      "state": {
       "layout": "IPY_MODEL_0d919f2358984eaba7413303d06bf717"
      }
     },
     "8fc4e998594b4f1eab2fae44d71a83f3": {
      "model_module": "jupyter-progressivis",
      "model_module_version": "^0.1.0",
      "model_name": "DataTableModel",
      "state": {
       "_model_module_version": "^0.1.0",
       "_view_module_version": "^0.1.0",
       "columns": "[\"index\", \"a\", \"b\"]",
       "data": "{\"data\": [[0, 28, 0.12241486459970474], [1, 43, 0.8805601000785828], [2, 34, 0.9281624555587769], [3, 65, 0.45602768659591675], [4, 29, 0.8614700436592102], [5, 43, 0.6899920105934143], [6, 68, 0.6109304428100586], [7, 30, 0.440127968788147], [8, 76, 0.24509462714195251], [9, 37, 0.6341949105262756], [10, 18, 0.38567543029785156]], \"recordsTotal\": 100, \"recordsFiltered\": 100, \"length\": 100, \"draw\": 1}",
       "dt_id": "aDT",
       "layout": "IPY_MODEL_0fe3d975ded44b78a70b824e21d69cd5",
       "page": {}
      }
     }
    },
    "version_major": 2,
    "version_minor": 0
   }
  }
 },
 "nbformat": 4,
 "nbformat_minor": 4
}
