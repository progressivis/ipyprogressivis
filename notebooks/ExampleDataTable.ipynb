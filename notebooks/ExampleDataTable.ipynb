{
 "cells": [
  {
   "cell_type": "code",
   "execution_count": 1,
   "metadata": {},
   "outputs": [],
   "source": [
    "from ipyprogressivis.nbwidgets import *\n",
    "dt = DataPTable()"
   ]
  },
  {
   "cell_type": "code",
   "execution_count": 2,
   "metadata": {},
   "outputs": [],
   "source": [
    "import numpy as np\n",
    "from progressivis.table import PTable \n",
    "from progressivis.core import JSONEncoderNp\n",
    "t = PTable('table_at', dshape=\"{a: int, b: float32}\", create=True)\n",
    "sz = 100\n",
    "t.resize(sz)\n",
    "ivalues = np.random.randint(100,size=sz)\n",
    "t['a'] = ivalues\n",
    "fvalues = np.random.rand(sz)\n",
    "t['b'] = fvalues"
   ]
  },
  {
   "cell_type": "code",
   "execution_count": 3,
   "metadata": {},
   "outputs": [
    {
     "data": {
      "application/vnd.jupyter.widget-view+json": {
       "model_id": "2e168bc5eabd4551becd563272e4362d",
       "version_major": 2,
       "version_minor": 0
      },
      "text/plain": [
       "DataPTable(columns='[\"index\", \"a\", \"b\"]', data='{\"data\": [[0, 68, 0.6379563212394714], [1, 8, 0.50881040096282…"
      ]
     },
     "execution_count": 3,
     "metadata": {},
     "output_type": "execute_result"
    }
   ],
   "source": [
    "dt.columns = JSONEncoderNp.dumps(['index']+t.columns)\n",
    "data = t.loc[0:10].to_json(orient='datatable')\n",
    "js_data = {'data': data, 'recordsTotal': len(t), \n",
    "           'recordsFiltered': len(t), 'length': len(t), 'draw':1}\n",
    "dt.data = JSONEncoderNp.dumps(js_data)\n",
    "dt"
   ]
  },
  {
   "cell_type": "code",
   "execution_count": 4,
   "metadata": {},
   "outputs": [
    {
     "data": {
      "application/vnd.jupyter.widget-view+json": {
       "model_id": "2e168bc5eabd4551becd563272e4362d",
       "version_major": 2,
       "version_minor": 0
      },
      "text/plain": [
       "DataPTable(columns='[\"index\", \"a\", \"b\"]', data='{\"data\": [[0, 68, 0.6379563212394714], [1, 8, 0.50881040096282…"
      ]
     },
     "metadata": {},
     "output_type": "display_data"
    },
    {
     "data": {
      "application/vnd.jupyter.widget-view+json": {
       "model_id": "b868b4e3305c4c7591f77a18f23986c4",
       "version_major": 2,
       "version_minor": 0
      },
      "text/plain": [
       "Output()"
      ]
     },
     "metadata": {},
     "output_type": "display_data"
    }
   ],
   "source": [
    "output2 = widgets.Output()\n",
    "display(dt, output2)\n",
    "\n",
    "def on_value_change(change):\n",
    "    info = change['new']\n",
    "    data = t.loc[info['start']:info['end']].to_json(orient='datatable')\n",
    "    js_data = {'data': data, 'recordsTotal': len(t), 'recordsFiltered': len(t), \n",
    "               'length': len(t), 'draw':info['draw'], 'page':info['page']}\n",
    "    dt.data = JSONEncoderNp.dumps(js_data)\n",
    "    with output2:\n",
    "        print(change['new'])\n",
    "dt.observe(on_value_change, \"page\")"
   ]
  },
  {
   "cell_type": "code",
   "execution_count": null,
   "metadata": {},
   "outputs": [],
   "source": []
  }
 ],
 "metadata": {
  "kernelspec": {
   "display_name": "Python 3 (ipykernel)",
   "language": "python",
   "name": "python3"
  },
  "language_info": {
   "codemirror_mode": {
    "name": "ipython",
    "version": 3
   },
   "file_extension": ".py",
   "mimetype": "text/x-python",
   "name": "python",
   "nbconvert_exporter": "python",
   "pygments_lexer": "ipython3",
   "version": "3.11.7"
  }
 },
 "nbformat": 4,
 "nbformat_minor": 4
}
