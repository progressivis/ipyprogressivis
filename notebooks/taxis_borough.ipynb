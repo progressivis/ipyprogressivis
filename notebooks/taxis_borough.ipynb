{
 "cells": [
  {
   "cell_type": "markdown",
   "id": "progressibook-starter",
   "metadata": {
    "deletable": false,
    "editable": false,
    "progressivis_backup": "eyJ0aXRsZSI6ICJDVVNUT00gbG9hZGVyIiwgIm51bWJlciI6IDAsICJmdHlwZSI6ICJjdXN0b20iLCAiYWxpYXMiOiAiVGF4aXMgQm9yb3VnaCIsICJmcm96ZW4iOiB7InNuaXBwZXQiOiAidGF4aXNfem9uZXMiLCAiY29sdW1ucyI6IFtdfSwgIm1hcmtkb3duIjogIiJ9;eyJ0aXRsZSI6ICJHcm91cCBieSIsICJwYXJlbnQiOiBbIlRheGlzIEJvcm91Z2giLCAwXSwgIm51bWJlciI6IDAsICJhbGlhcyI6ICIiLCAiZnJvemVuIjogeyJieSI6ICJCb3JvdWdoIn0sICJtYXJrZG93biI6ICIifQ==;eyJ0aXRsZSI6ICJBZ2dyZWdhdGUiLCAicGFyZW50IjogWyJHcm91cCBieSIsIDBdLCAibnVtYmVyIjogMCwgImFsaWFzIjogIiIsICJmcm96ZW4iOiB7ImNvbXB1dGUiOiBbWyJwYXNzZW5nZXJfY291bnQiLCAic3VtIl1dfSwgIm1hcmtkb3duIjogIiJ9;eyJ0aXRsZSI6ICJBbnkgVmVnYSIsICJwYXJlbnQiOiBbIkFnZ3JlZ2F0ZSIsIDBdLCAibnVtYmVyIjogMCwgImFsaWFzIjogIiIsICJmcm96ZW4iOiB7Im1hcHBpbmdfZGljdCI6IHsieCI6IHsiTWFwcGluZyI6ICJCb3JvdWdoIiwgIktleSI6ICJCb3JvdWdoIiwgIlByb2Nlc3NpbmciOiAiIn0sICJ5IjogeyJNYXBwaW5nIjogInBhc3Nlbmdlcl9jb3VudF9zdW0iLCAiS2V5IjogInBhc3Nlbmdlcl9jb3VudF9zdW0iLCAiUHJvY2Vzc2luZyI6ICIifX0sICJ2ZWdhX3NjaGVtYSI6IHsiJHNjaGVtYSI6ICJodHRwczovL3ZlZ2EuZ2l0aHViLmlvL3NjaGVtYS92ZWdhLWxpdGUvdjYuanNvbiIsICJ3aWR0aCI6IDUwMCwgImhlaWdodCI6IDQwMCwgImRlc2NyaXB0aW9uIjogIkJhciBjaGFydCIsICJkYXRhIjogeyJuYW1lIjogImRhdGEifSwgIm1hcmsiOiAiYmFyIiwgImVuY29kaW5nIjogeyJ4IjogeyJmaWVsZCI6ICJ4IiwgInR5cGUiOiAibm9taW5hbCJ9LCAieSI6IHsiZmllbGQiOiAieSIsICJ0eXBlIjogInF1YW50aXRhdGl2ZSJ9fX19LCAibWFya2Rvd24iOiAiIn0=",
    "slideshow": {
     "slide_type": ""
    },
    "tags": []
   },
   "source": [
    "<button data-commandLinker-command=\"progressivis:cleanup_and_run\" data-commandlinker-args='{\"index\": 1}' href=\"#\" class='progressivis-cleanup-and-run-btn'>Run ProgressiVis</button>"
   ]
  },
  {
   "cell_type": "code",
   "execution_count": null,
   "id": "progressibook-bootstrap",
   "metadata": {
    "deletable": false,
    "editable": false,
    "jupyter": {
     "source_hidden": true
    },
    "progressivis_backup": "",
    "slideshow": {
     "slide_type": ""
    },
    "tags": []
   },
   "outputs": [
    {
     "data": {
      "application/vnd.jupyter.widget-view+json": {
       "model_id": "6c20513ce2fb45c580d049c4578be8c5",
       "version_major": 2,
       "version_minor": 0
      },
      "text/plain": [
       "Talker()"
      ]
     },
     "metadata": {},
     "output_type": "display_data"
    },
    {
     "data": {
      "application/vnd.jupyter.widget-view+json": {
       "model_id": "6bdf4d0798af4e0ba9fce313ced7566a",
       "version_major": 2,
       "version_minor": 0
      },
      "text/plain": [
       "BackupWidget()"
      ]
     },
     "metadata": {},
     "output_type": "display_data"
    }
   ],
   "source": [
    "from ipyprogressivis.widgets.chaining.constructor import Constructor\n",
    "from ipyprogressivis.widgets.chaining.utils import create_root, get_header\n",
    "from ipyprogressivis.widgets.chaining.custom import *\n",
    "# ***************************************************************************************\n",
    "# WARNING: This cell must only be executed using the 'Run ProgressiVis' button above.\n",
    "# Do not execute it in any other way, as the result will not be as expected.\n",
    "# For the same reason do not copy/paste the contents of this cell to execute it elsewhere\n",
    "# ***************************************************************************************\n",
    "header = get_header()\n",
    "display(header.talker)\n",
    "display(header.backup)\n",
    "_ = header.constructor\n",
    "with header.modules_out:\n",
    "    display(header.board)\n",
    "with header.widgets_out:\n",
    "    display(header.manager)\n",
    "header.talker.labcommand(\"notebook:hide-cell-code\")\n",
    "%reload_ext ipyprogressivis.magics\n",
    "create_root(header.backup)"
   ]
  },
  {
   "cell_type": "code",
   "execution_count": null,
   "id": "10f3c60a-1557-457c-812b-d8f70794053a",
   "metadata": {},
   "outputs": [],
   "source": [
    "# progressivis-snippet\n",
    "import tempfile\n",
    "from pathlib import Path\n",
    "from progressivis.datasets.wget import wget_file\n",
    "from progressivis import Sink, ArrowBatchLoader\n",
    "import duckdb\n",
    "import pyarrow.parquet as pq\n",
    "td = tempfile.TemporaryDirectory()\n",
    "taxis_url = \"https://d37ci6vzurychx.cloudfront.net/trip-data/yellow_tripdata_2015-05.parquet\"\n",
    "taxis_file = Path(td.name) / \"yellow_tripdata_2015-05.parquet\"\n",
    "zones_url = \"https://d37ci6vzurychx.cloudfront.net/misc/taxi_zone_lookup.csv\"\n",
    "zones_file = Path(td.name) / \"taxi_zone_lookup.csv\"\n",
    "SQL = (\n",
    "    f\"SELECT tx.tpep_pickup_datetime, tx.tpep_dropoff_datetime, tx.passenger_count, zn.Borough\"\n",
    "    f\" FROM read_parquet('{taxis_file}') tx, read_csv('{zones_file}') zn\"\n",
    "    \" WHERE tx.PULocationID=zn.LocationID\"\n",
    ")\n",
    "try:\n",
    "    wget_file(url=taxis_url, filename=taxis_file)\n",
    "    wget_file(url=zones_url, filename=zones_file)\n",
    "    con = duckdb.connect(database=\":memory:\")\n",
    "    n_rows = pq.ParquetFile(taxis_file).metadata.num_rows\n",
    "    con.execute(SQL)\n",
    "    reader = con.fetch_record_batch(1000)\n",
    "finally:\n",
    "    td.cleanup()\n",
    "\n",
    "@register_snippet\n",
    "def taxis_zones(input_module, input_slot, columns):\n",
    "    scheduler = input_module.scheduler\n",
    "    with scheduler:\n",
    "        data =  ArrowBatchLoader(reader=reader, n_rows=n_rows, scheduler=scheduler)\n",
    "        sink = Sink(scheduler=scheduler)\n",
    "        sink.input.inp = data.output.result\n",
    "    return SnippetResult(output_module=data, output_slot=\"result\")\n"
   ]
  },
  {
   "cell_type": "markdown",
   "id": "a91e69ba-866c-445d-a65b-9a88bc6bde3d",
   "metadata": {
    "deletable": false,
    "editable": true,
    "progressivis_tag": "root",
    "progressivis_tag_class": "root"
   },
   "source": [
    "## root"
   ]
  },
  {
   "cell_type": "code",
   "execution_count": 1,
   "id": "f3f7d63a-443c-4659-a172-b785d8a82419",
   "metadata": {
    "deletable": false,
    "editable": false,
    "jupyter": {
     "source_hidden": true
    },
    "progressivis_tag": "root",
    "progressivis_tag_class": "root"
   },
   "outputs": [
    {
     "data": {
      "application/vnd.jupyter.widget-view+json": {
       "model_id": "e610181e77f94094b8002d9833361c48",
       "version_major": 2,
       "version_minor": 0
      },
      "text/plain": [
       "Constructor(children=(IntProgress(value=0, description='Starting ProgressiVis ...', max=2, style=ProgressStyle…"
      ]
     },
     "metadata": {},
     "output_type": "display_data"
    },
    {
     "name": "stdout",
     "output_type": "stream",
     "text": [
     ]
    }
   ],
   "source": [
    "# do not run this cell\n",
    "display(header.constructor)\n",
    "header.constructor.start_scheduler()\n",
    "header.talker.labcommand('notebook:hide-cell-code')"
   ]
  },
  {
   "cell_type": "markdown",
   "id": "c76eae2e-0267-4005-abc0-d3c9c3d6a570",
   "metadata": {
    "deletable": false,
    "editable": true,
    "progressivis_tag": "Taxis Borough",
    "progressivis_tag_class": "SnippetW"
   },
   "source": [
    "## Taxis Borough"
   ]
  },
  {
   "cell_type": "code",
   "execution_count": 2,
   "id": "2d7cc162-7cdc-4fbf-9238-d606158d4563",
   "metadata": {
    "deletable": false,
    "editable": false,
    "progressivis_tag": "Taxis Borough",
    "progressivis_tag_class": "SnippetW"
   },
   "outputs": [
    {
     "data": {
      "application/vnd.jupyter.widget-view+json": {
       "model_id": "2a67bc95921447078921aff334370839",
       "version_major": 2,
       "version_minor": 0
      },
      "text/plain": [
       "NodeCarrier(children=(HBox(children=(Button(button_style='danger', icon='trash', style=ButtonStyle(), tooltip=…"
      ]
     },
     "execution_count": 2,
     "metadata": {},
     "output_type": "execute_result"
    }
   ],
   "source": [
    "Constructor.widget('Taxis Borough', 0)"
   ]
  },
  {
   "cell_type": "markdown",
   "id": "6989f21d-3dff-4c46-91dc-7dba48726904",
   "metadata": {
    "deletable": false,
    "editable": true,
    "progressivis_tag": "Group by",
    "progressivis_tag_class": "GroupByW"
   },
   "source": [
    "## Group by"
   ]
  },
  {
   "cell_type": "code",
   "execution_count": 3,
   "id": "32b4adb6-5954-4e75-bf16-c99edbda12a6",
   "metadata": {
    "deletable": false,
    "editable": false,
    "progressivis_tag": "Group by",
    "progressivis_tag_class": "GroupByW"
   },
   "outputs": [
    {
     "data": {
      "application/vnd.jupyter.widget-view+json": {
       "model_id": "fee820cab7a6470c93ba9821ad30145b",
       "version_major": 2,
       "version_minor": 0
      },
      "text/plain": [
       "NodeCarrier(children=(HBox(children=(Button(button_style='danger', icon='trash', style=ButtonStyle(), tooltip=…"
      ]
     },
     "execution_count": 3,
     "metadata": {},
     "output_type": "execute_result"
    }
   ],
   "source": [
    "Constructor.widget('Group by', 0)"
   ]
  },
  {
   "cell_type": "markdown",
   "id": "5c267ea1-a375-4815-a07b-b65a95bc571c",
   "metadata": {
    "deletable": false,
    "editable": true,
    "progressivis_tag": "Aggregate",
    "progressivis_tag_class": "AggregateW"
   },
   "source": [
    "## Aggregate"
   ]
  },
  {
   "cell_type": "code",
   "execution_count": 4,
   "id": "17a0285e-149f-4c1a-b3b9-276ab15ffda7",
   "metadata": {
    "deletable": false,
    "editable": false,
    "progressivis_tag": "Aggregate",
    "progressivis_tag_class": "AggregateW"
   },
   "outputs": [
    {
     "data": {
      "application/vnd.jupyter.widget-view+json": {
       "model_id": "a44faca7bee64753babe398e550aca48",
       "version_major": 2,
       "version_minor": 0
      },
      "text/plain": [
       "NodeCarrier(children=(HBox(children=(Button(button_style='danger', icon='trash', style=ButtonStyle(), tooltip=…"
      ]
     },
     "execution_count": 4,
     "metadata": {},
     "output_type": "execute_result"
    }
   ],
   "source": [
    "Constructor.widget('Aggregate', 0)"
   ]
  },
  {
   "cell_type": "markdown",
   "id": "43907fa4-99c1-4607-8a37-ea09cb8f40d0",
   "metadata": {
    "deletable": false,
    "editable": true,
    "progressivis_tag": "Any Vega",
    "progressivis_tag_class": "AnyVegaW"
   },
   "source": [
    "## Any Vega"
   ]
  },
  {
   "cell_type": "code",
   "execution_count": 5,
   "id": "6de2a5b4-2c0b-4b8f-8e0a-c371dcbc559c",
   "metadata": {
    "deletable": false,
    "editable": false,
    "progressivis_tag": "Any Vega",
    "progressivis_tag_class": "AnyVegaW"
   },
   "outputs": [
    {
     "data": {
      "application/vnd.jupyter.widget-view+json": {
       "model_id": "b2b7f2b4a0c34baaaf82fe36a0fc10fa",
       "version_major": 2,
       "version_minor": 0
      },
      "text/plain": [
       "NodeCarrier(children=(HBox(children=(Button(button_style='danger', icon='trash', style=ButtonStyle(), tooltip=…"
      ]
     },
     "execution_count": 5,
     "metadata": {},
     "output_type": "execute_result"
    }
   ],
   "source": [
    "Constructor.widget('Any Vega', 0)"
   ]
  }
 ],
 "metadata": {
  "celltoolbar": "Éditer les Méta-Données",
  "hide_input": false,
  "kernelspec": {
   "display_name": "Python 3 (ipykernel)",
   "language": "python",
   "name": "python3"
  },
  "language_info": {
   "codemirror_mode": {
    "name": "ipython",
    "version": 3
   },
   "file_extension": ".py",
   "mimetype": "text/x-python",
   "name": "python",
   "nbconvert_exporter": "python",
   "pygments_lexer": "ipython3",
   "version": "3.13.7"
  },
  "latex_envs": {
   "LaTeX_envs_menu_present": true,
   "autoclose": false,
   "autocomplete": true,
   "bibliofile": "biblio.bib",
   "cite_by": "apalike",
   "current_citInitial": 1,
   "eqLabelWithNumbers": true,
   "eqNumInitial": 1,
   "hotkeys": {
    "equation": "Ctrl-E",
    "itemize": "Ctrl-I"
   },
   "labels_anchors": false,
   "latex_user_defs": false,
   "report_style_numbering": false,
   "user_envs_cfg": false
  },
  "toc": {
   "base_numbering": 1,
   "nav_menu": {},
   "number_sections": false,
   "sideBar": true,
   "skip_h1_title": true,
   "title_cell": "PTable of Contents",
   "title_sidebar": "Contents",
   "toc_cell": false,
   "toc_position": {
    "height": "836.875px",
    "left": "59px",
    "top": "111.125px",
    "width": "340px"
   },
   "toc_section_display": true,
   "toc_window_display": true
  },
  "toc-showtags": false,
  "widgets": {
   "application/vnd.jupyter.widget-state+json": {
    "state": {
     "000ba333ecca4212a414494d2b14f4e1": {
      "model_module": "@jupyter-widgets/controls",
      "model_module_version": "2.0.0",
      "model_name": "ButtonStyleModel",
      "state": {
       "font_family": null,
       "font_size": null,
       "font_style": null,
       "font_variant": null,
       "font_weight": null,
       "text_color": null,
       "text_decoration": null
      }
     },
     "006c778dc7454b5e85e0d3e854d3a723": {
      "model_module": "jupyter-progressivis",
      "model_module_version": "^0.1.0",
      "model_name": "SensitiveHTMLModel",
      "state": {
       "_model_module_version": "^0.1.0",
       "_view_module_version": "^0.1.0",
       "data": {
        "ps-cell_aggregate_1_classname": "aggregate",
        "ps-cell_aggregate_1_id": "aggregate_1",
        "ps-cell_aggregate_1_is_visualization": " ",
        "ps-cell_aggregate_1_last_update": 10895,
        "ps-cell_aggregate_1_order": 6,
        "ps-cell_aggregate_1_state": "state_blocked",
        "ps-cell_arrow_batch_loader_1_classname": "arrow_batch_loader",
        "ps-cell_arrow_batch_loader_1_id": "arrow_batch_loader_1",
        "ps-cell_arrow_batch_loader_1_is_visualization": " ",
        "ps-cell_arrow_batch_loader_1_last_update": 10897,
        "ps-cell_arrow_batch_loader_1_order": 2,
        "ps-cell_arrow_batch_loader_1_state": "state_ready",
        "ps-cell_group_by_1_classname": "group_by",
        "ps-cell_group_by_1_id": "group_by_1",
        "ps-cell_group_by_1_is_visualization": " ",
        "ps-cell_group_by_1_last_update": 10894,
        "ps-cell_group_by_1_order": 4,
        "ps-cell_group_by_1_state": "state_blocked",
        "ps-cell_sink_1_classname": "sink",
        "ps-cell_sink_1_id": "sink_1",
        "ps-cell_sink_1_is_visualization": " ",
        "ps-cell_sink_1_last_update": 0,
        "ps-cell_sink_1_order": 1,
        "ps-cell_sink_1_state": "state_terminated",
        "ps-cell_sink_2_classname": "sink",
        "ps-cell_sink_2_id": "sink_2",
        "ps-cell_sink_2_is_visualization": " ",
        "ps-cell_sink_2_last_update": 0,
        "ps-cell_sink_2_order": 3,
        "ps-cell_sink_2_state": "state_terminated",
        "ps-cell_sink_3_classname": "sink",
        "ps-cell_sink_3_id": "sink_3",
        "ps-cell_sink_3_is_visualization": " ",
        "ps-cell_sink_3_last_update": 0,
        "ps-cell_sink_3_order": 5,
        "ps-cell_sink_3_state": "state_terminated",
        "ps-cell_sink_4_classname": "sink",
        "ps-cell_sink_4_id": "sink_4",
        "ps-cell_sink_4_is_visualization": " ",
        "ps-cell_sink_4_last_update": 0,
        "ps-cell_sink_4_order": 7,
        "ps-cell_sink_4_state": "state_terminated",
        "ps-cell_sink_5_classname": "sink",
        "ps-cell_sink_5_id": "sink_5",
        "ps-cell_sink_5_is_visualization": " ",
        "ps-cell_sink_5_last_update": 0,
        "ps-cell_sink_5_order": 8,
        "ps-cell_sink_5_state": "state_terminated",
        "ps-cell_variable_1_classname": "variable",
        "ps-cell_variable_1_id": "variable_1",
        "ps-cell_variable_1_is_visualization": " ",
        "ps-cell_variable_1_last_update": 10896,
        "ps-cell_variable_1_order": 0,
        "ps-cell_variable_1_state": "state_blocked"
       },
       "html": "\n<table class=\"table table-striped table-bordered table-hover table-condensed\">\n<thead><tr><th></th><th>Id</th><th>Class</th><th>State</th><th>Last Update</th>\n<th>Order</th></tr></thead>\n<tbody>\n\n  <tr>\n  \n  <td>\n  \n  <span id=\"ps-cell_variable_1_is_visualization\"> </span>\n  \n  </td>\n  \n  <td>\n  \n  <a class='ps-row-btn' id=\"ps-row-btn_variable_1\" type='button' >variable_1</a>\n  \n  </td>\n  \n  <td>\n  \n  <span id=\"ps-cell_variable_1_classname\">variable</span>\n  \n  </td>\n  \n  <td>\n  \n  <span id=\"ps-cell_variable_1_state\">state_blocked</span>\n  \n  </td>\n  \n  <td>\n  \n  <span id=\"ps-cell_variable_1_last_update\">8739</span>\n  \n  </td>\n  \n  <td>\n  \n  <span id=\"ps-cell_variable_1_order\">0</span>\n  \n  </td>\n  \n  </tr>\n\n  <tr>\n  \n  <td>\n  \n  <span id=\"ps-cell_sink_1_is_visualization\"> </span>\n  \n  </td>\n  \n  <td>\n  \n  <a class='ps-row-btn' id=\"ps-row-btn_sink_1\" type='button' >sink_1</a>\n  \n  </td>\n  \n  <td>\n  \n  <span id=\"ps-cell_sink_1_classname\">sink</span>\n  \n  </td>\n  \n  <td>\n  \n  <span id=\"ps-cell_sink_1_state\">state_terminated</span>\n  \n  </td>\n  \n  <td>\n  \n  <span id=\"ps-cell_sink_1_last_update\">0</span>\n  \n  </td>\n  \n  <td>\n  \n  <span id=\"ps-cell_sink_1_order\">1</span>\n  \n  </td>\n  \n  </tr>\n\n  <tr>\n  \n  <td>\n  \n  <span id=\"ps-cell_arrow_batch_loader_1_is_visualization\"> </span>\n  \n  </td>\n  \n  <td>\n  \n  <a class='ps-row-btn' id=\"ps-row-btn_arrow_batch_loader_1\" type='button' >arrow_batch_loader_1</a>\n  \n  </td>\n  \n  <td>\n  \n  <span id=\"ps-cell_arrow_batch_loader_1_classname\">arrow_batch_loader</span>\n  \n  </td>\n  \n  <td>\n  \n  <span id=\"ps-cell_arrow_batch_loader_1_state\">state_ready</span>\n  \n  </td>\n  \n  <td>\n  \n  <span id=\"ps-cell_arrow_batch_loader_1_last_update\">8740</span>\n  \n  </td>\n  \n  <td>\n  \n  <span id=\"ps-cell_arrow_batch_loader_1_order\">2</span>\n  \n  </td>\n  \n  </tr>\n\n  <tr>\n  \n  <td>\n  \n  <span id=\"ps-cell_sink_2_is_visualization\"> </span>\n  \n  </td>\n  \n  <td>\n  \n  <a class='ps-row-btn' id=\"ps-row-btn_sink_2\" type='button' >sink_2</a>\n  \n  </td>\n  \n  <td>\n  \n  <span id=\"ps-cell_sink_2_classname\">sink</span>\n  \n  </td>\n  \n  <td>\n  \n  <span id=\"ps-cell_sink_2_state\">state_terminated</span>\n  \n  </td>\n  \n  <td>\n  \n  <span id=\"ps-cell_sink_2_last_update\">0</span>\n  \n  </td>\n  \n  <td>\n  \n  <span id=\"ps-cell_sink_2_order\">3</span>\n  \n  </td>\n  \n  </tr>\n\n  <tr>\n  \n  <td>\n  \n  <span id=\"ps-cell_group_by_1_is_visualization\"> </span>\n  \n  </td>\n  \n  <td>\n  \n  <a class='ps-row-btn' id=\"ps-row-btn_group_by_1\" type='button' >group_by_1</a>\n  \n  </td>\n  \n  <td>\n  \n  <span id=\"ps-cell_group_by_1_classname\">group_by</span>\n  \n  </td>\n  \n  <td>\n  \n  <span id=\"ps-cell_group_by_1_state\">state_blocked</span>\n  \n  </td>\n  \n  <td>\n  \n  <span id=\"ps-cell_group_by_1_last_update\">8741</span>\n  \n  </td>\n  \n  <td>\n  \n  <span id=\"ps-cell_group_by_1_order\">4</span>\n  \n  </td>\n  \n  </tr>\n\n  <tr>\n  \n  <td>\n  \n  <span id=\"ps-cell_sink_3_is_visualization\"> </span>\n  \n  </td>\n  \n  <td>\n  \n  <a class='ps-row-btn' id=\"ps-row-btn_sink_3\" type='button' >sink_3</a>\n  \n  </td>\n  \n  <td>\n  \n  <span id=\"ps-cell_sink_3_classname\">sink</span>\n  \n  </td>\n  \n  <td>\n  \n  <span id=\"ps-cell_sink_3_state\">state_terminated</span>\n  \n  </td>\n  \n  <td>\n  \n  <span id=\"ps-cell_sink_3_last_update\">0</span>\n  \n  </td>\n  \n  <td>\n  \n  <span id=\"ps-cell_sink_3_order\">5</span>\n  \n  </td>\n  \n  </tr>\n\n  <tr>\n  \n  <td>\n  \n  <span id=\"ps-cell_aggregate_1_is_visualization\"> </span>\n  \n  </td>\n  \n  <td>\n  \n  <a class='ps-row-btn' id=\"ps-row-btn_aggregate_1\" type='button' >aggregate_1</a>\n  \n  </td>\n  \n  <td>\n  \n  <span id=\"ps-cell_aggregate_1_classname\">aggregate</span>\n  \n  </td>\n  \n  <td>\n  \n  <span id=\"ps-cell_aggregate_1_state\">state_blocked</span>\n  \n  </td>\n  \n  <td>\n  \n  <span id=\"ps-cell_aggregate_1_last_update\">8738</span>\n  \n  </td>\n  \n  <td>\n  \n  <span id=\"ps-cell_aggregate_1_order\">6</span>\n  \n  </td>\n  \n  </tr>\n\n  <tr>\n  \n  <td>\n  \n  <span id=\"ps-cell_sink_4_is_visualization\"> </span>\n  \n  </td>\n  \n  <td>\n  \n  <a class='ps-row-btn' id=\"ps-row-btn_sink_4\" type='button' >sink_4</a>\n  \n  </td>\n  \n  <td>\n  \n  <span id=\"ps-cell_sink_4_classname\">sink</span>\n  \n  </td>\n  \n  <td>\n  \n  <span id=\"ps-cell_sink_4_state\">state_terminated</span>\n  \n  </td>\n  \n  <td>\n  \n  <span id=\"ps-cell_sink_4_last_update\">0</span>\n  \n  </td>\n  \n  <td>\n  \n  <span id=\"ps-cell_sink_4_order\">7</span>\n  \n  </td>\n  \n  </tr>\n\n  <tr>\n  \n  <td>\n  \n  <span id=\"ps-cell_sink_5_is_visualization\"> </span>\n  \n  </td>\n  \n  <td>\n  \n  <a class='ps-row-btn' id=\"ps-row-btn_sink_5\" type='button' >sink_5</a>\n  \n  </td>\n  \n  <td>\n  \n  <span id=\"ps-cell_sink_5_classname\">sink</span>\n  \n  </td>\n  \n  <td>\n  \n  <span id=\"ps-cell_sink_5_state\">state_ready</span>\n  \n  </td>\n  \n  <td>\n  \n  <span id=\"ps-cell_sink_5_last_update\">0</span>\n  \n  </td>\n  \n  <td>\n  \n  <span id=\"ps-cell_sink_5_order\">8</span>\n  \n  </td>\n  \n  </tr>\n\n</tbody>\n</table>",
       "layout": "IPY_MODEL_bcead00fc2b7494e8fb70d30562a86bc",
       "sensitive_css_class": "ps-row-btn",
       "value": {}
      }
     },
     "0097e830dd264a97abd07858e86ada06": {
      "model_module": "@jupyter-widgets/controls",
      "model_module_version": "2.0.0",
      "model_name": "HTMLStyleModel",
      "state": {
       "description_width": "",
       "font_size": null,
       "text_color": null
      }
     },
     "00c940dc6d2045c1a1dca3493eba0feb": {
      "model_module": "@jupyter-widgets/base",
      "model_module_version": "2.0.0",
      "model_name": "LayoutModel",
      "state": {}
     },
     "0181017ed0744d4483de4a02202774ac": {
      "model_module": "@jupyter-widgets/controls",
      "model_module_version": "2.0.0",
      "model_name": "HBoxModel",
      "state": {
       "children": [
        "IPY_MODEL_a6bb9bb9a1ca44f78eebca7b680d9f38"
       ],
       "layout": "IPY_MODEL_a6ec0c23cce44027930084f877b594f5"
      }
     },
     "01f5add29fa54c0fa3b8aff7c8b57faa": {
      "model_module": "@jupyter-widgets/base",
      "model_module_version": "2.0.0",
      "model_name": "LayoutModel",
      "state": {}
     },
     "027cae0eb2464b84bf2af371fe17cc33": {
      "model_module": "@jupyter-widgets/base",
      "model_module_version": "2.0.0",
      "model_name": "LayoutModel",
      "state": {}
     },
     "0281e5158a084c8e9c1304ade5017afa": {
      "model_module": "@jupyter-widgets/controls",
      "model_module_version": "2.0.0",
      "model_name": "HTMLModel",
      "state": {
       "layout": "IPY_MODEL_aa4dbc0e63fd4e19a3f5e8f112089993",
       "style": "IPY_MODEL_ad1f1d7a4f8a4dc5ba9b552a6cc2713f"
      }
     },
     "03b215d3df66442d83c2a2b41a30a411": {
      "model_module": "@jupyter-widgets/controls",
      "model_module_version": "2.0.0",
      "model_name": "ButtonModel",
      "state": {
       "description": "Create",
       "disabled": true,
       "icon": "check",
       "layout": "IPY_MODEL_aecdde4ec4a54d56b9fd90acffa1d704",
       "style": "IPY_MODEL_5afc7d161cf440bab7ddc744247bdabf",
       "tooltip": "Create"
      }
     },
     "03f92687bb11418a8b6078a38bcc7c24": {
      "model_module": "@jupyter-widgets/controls",
      "model_module_version": "2.0.0",
      "model_name": "VBoxModel",
      "state": {
       "children": [
        "IPY_MODEL_1c5fabd7b1474f60a1ed0ffde97558d6",
        "IPY_MODEL_2769198016414eefa41e3e41de949c5d"
       ],
       "layout": "IPY_MODEL_ec8fc8836dd8435ca87a98091f5271bf"
      }
     },
     "03f930dd86ab45f0ad73dbcc54b8ed32": {
      "model_module": "@jupyter-widgets/base",
      "model_module_version": "2.0.0",
      "model_name": "LayoutModel",
      "state": {}
     },
     "03fa1720fdf94b45aed48b233ce34376": {
      "model_module": "@jupyter-widgets/controls",
      "model_module_version": "2.0.0",
      "model_name": "HTMLModel",
      "state": {
       "layout": "IPY_MODEL_6e416051c6f9450cb16d510872e4f402",
       "style": "IPY_MODEL_1d9b5487009449a99c262f3f439455b1"
      }
     },
     "04885113096543168565d8beec8da3b3": {
      "model_module": "@jupyter-widgets/controls",
      "model_module_version": "2.0.0",
      "model_name": "LabelStyleModel",
      "state": {
       "description_width": "",
       "font_family": null,
       "font_size": null,
       "font_style": null,
       "font_variant": null,
       "font_weight": null,
       "text_color": null,
       "text_decoration": null
      }
     },
     "049ba99686df41699678643ab0ca21c5": {
      "model_module": "@jupyter-widgets/controls",
      "model_module_version": "2.0.0",
      "model_name": "LabelModel",
      "state": {
       "layout": "IPY_MODEL_ad7ca9fe73144a83aafd28e196b886af",
       "style": "IPY_MODEL_d550f771b8714ccabf9c316017d63b8a",
       "value": "Processing"
      }
     },
     "05d2dc4082e54aef946bdd901a7a0718": {
      "model_module": "@jupyter-widgets/base",
      "model_module_version": "2.0.0",
      "model_name": "LayoutModel",
      "state": {}
     },
     "062791f86a984138b5a2278c68a93a92": {
      "model_module": "@jupyter-widgets/base",
      "model_module_version": "2.0.0",
      "model_name": "LayoutModel",
      "state": {}
     },
     "06ab04f2e9bd4953a8ca2149fc0bc934": {
      "model_module": "@jupyter-widgets/controls",
      "model_module_version": "2.0.0",
      "model_name": "HTMLStyleModel",
      "state": {
       "description_width": "",
       "font_size": null,
       "text_color": null
      }
     },
     "071e8f039cda4a15a5861de1ff7d0f25": {
      "model_module": "@jupyter-widgets/controls",
      "model_module_version": "2.0.0",
      "model_name": "HTMLModel",
      "state": {
       "layout": "IPY_MODEL_73ce354907c346649d70dd8bb68b2741",
       "style": "IPY_MODEL_e01cd4248eb34fb2b972b3037897d767"
      }
     },
     "073d00b6586440eaada8418ef305c8ae": {
      "model_module": "@jupyter-widgets/base",
      "model_module_version": "2.0.0",
      "model_name": "LayoutModel",
      "state": {}
     },
     "0864edaa25144bf48c9b7ed4f0d216e1": {
      "model_module": "@jupyter-widgets/base",
      "model_module_version": "2.0.0",
      "model_name": "LayoutModel",
      "state": {}
     },
     "088b5a72845c494e8f0a954fdaad29c6": {
      "model_module": "@jupyter-widgets/controls",
      "model_module_version": "2.0.0",
      "model_name": "ButtonStyleModel",
      "state": {
       "font_family": null,
       "font_size": null,
       "font_style": null,
       "font_variant": null,
       "font_weight": null,
       "text_color": null,
       "text_decoration": null
      }
     },
     "0b3a7454df9d499cb33e609e837bfedd": {
      "model_module": "@jupyter-widgets/base",
      "model_module_version": "2.0.0",
      "model_name": "LayoutModel",
      "state": {}
     },
     "0bfda3d909a640e0bb08e32da0ab5290": {
      "model_module": "@jupyter-widgets/base",
      "model_module_version": "2.0.0",
      "model_name": "LayoutModel",
      "state": {}
     },
     "0c6a9fe9a15a49c490872a52a818361b": {
      "model_module": "@jupyter-widgets/controls",
      "model_module_version": "2.0.0",
      "model_name": "CheckboxStyleModel",
      "state": {
       "description_width": ""
      }
     },
     "0df73d7adee64745a406c39bc7846392": {
      "model_module": "@jupyter-widgets/controls",
      "model_module_version": "2.0.0",
      "model_name": "LabelModel",
      "state": {
       "layout": "IPY_MODEL_1b8c92b2f1d94fef911dac150cc90b09",
       "style": "IPY_MODEL_84a8fbbedd8f49788437418f866506e6",
       "value": "Key"
      }
     },
     "0ee407888d354687bc465e094c392b47": {
      "model_module": "@jupyter-widgets/base",
      "model_module_version": "2.0.0",
      "model_name": "LayoutModel",
      "state": {}
     },
     "0faccff52c8d44fd978720a8bfe239cd": {
      "model_module": "@jupyter-widgets/base",
      "model_module_version": "2.0.0",
      "model_name": "LayoutModel",
      "state": {}
     },
     "0fb6548a2bac45f1a362e4f6b066f801": {
      "model_module": "@jupyter-widgets/controls",
      "model_module_version": "2.0.0",
      "model_name": "CheckboxModel",
      "state": {
       "disabled": true,
       "indent": false,
       "layout": "IPY_MODEL_4a63c87ff30f4282a4fd1c90aea410ff",
       "style": "IPY_MODEL_794412de504f402eb3f11e33a1e27c2d",
       "value": false
      }
     },
     "0fc1c1bdb7f147259be3a81ad659576a": {
      "model_module": "@jupyter-widgets/controls",
      "model_module_version": "2.0.0",
      "model_name": "HTMLModel",
      "state": {
       "layout": "IPY_MODEL_aff12be5cd5d4f4ba83d8d6dd9d4ebec",
       "style": "IPY_MODEL_d7cac2603e684032b06ae6f36a30d8a2"
      }
     },
     "11dd96b73faf4902906cce7d88791ea9": {
      "model_module": "@jupyter-widgets/base",
      "model_module_version": "2.0.0",
      "model_name": "LayoutModel",
      "state": {}
     },
     "1274bcbcda9a4c12bee233d9157e4680": {
      "model_module": "@jupyter-widgets/controls",
      "model_module_version": "2.0.0",
      "model_name": "HBoxModel",
      "state": {
       "children": [
        "IPY_MODEL_ffc2dc34099547ec9602b14378756242",
        "IPY_MODEL_ccc7134aedc948088258b8100e4d2dba",
        "IPY_MODEL_03b215d3df66442d83c2a2b41a30a411"
       ],
       "layout": "IPY_MODEL_0ee407888d354687bc465e094c392b47"
      }
     },
     "12f1ba5b10d74c6c9e308133f5caa8a1": {
      "model_module": "@jupyter-widgets/controls",
      "model_module_version": "2.0.0",
      "model_name": "LabelStyleModel",
      "state": {
       "description_width": "",
       "font_family": null,
       "font_size": null,
       "font_style": null,
       "font_variant": null,
       "font_weight": null,
       "text_color": null,
       "text_decoration": null
      }
     },
     "131116c129b5404ba83193a3aadd348c": {
      "model_module": "@jupyter-widgets/controls",
      "model_module_version": "2.0.0",
      "model_name": "HTMLStyleModel",
      "state": {
       "description_width": "",
       "font_size": null,
       "text_color": null
      }
     },
     "13478e6861724cf0a484528c125621c3": {
      "model_module": "@jupyter-widgets/controls",
      "model_module_version": "2.0.0",
      "model_name": "DropdownModel",
      "state": {
       "_options_labels": [
        "Borough"
       ],
       "disabled": true,
       "index": 0,
       "layout": "IPY_MODEL_4314e27b5bfd40e0823137d31e6f642f",
       "style": "IPY_MODEL_ce98544befc742e78ada82151f8bbfbc"
      }
     },
     "1359caa635e5404bb188c46d4906a71c": {
      "model_module": "@jupyter-widgets/controls",
      "model_module_version": "2.0.0",
      "model_name": "CheckboxModel",
      "state": {
       "disabled": true,
       "indent": false,
       "layout": "IPY_MODEL_43cbeb60db084121a38982e781a1d8c0",
       "style": "IPY_MODEL_5ea4094b422342baabc2b4cb92f0a714",
       "value": false
      }
     },
     "1372c3cccb244c5eb8fc4b3f87437ac3": {
      "model_module": "@jupyter-widgets/base",
      "model_module_version": "2.0.0",
      "model_name": "LayoutModel",
      "state": {}
     },
     "139a7f273e3b45a6a5cc91e672702add": {
      "model_module": "@jupyter-widgets/controls",
      "model_module_version": "2.0.0",
      "model_name": "CheckboxStyleModel",
      "state": {
       "description_width": ""
      }
     },
     "13bd31e938924e13828b306a36415351": {
      "model_module": "@jupyter-widgets/controls",
      "model_module_version": "2.0.0",
      "model_name": "CheckboxStyleModel",
      "state": {
       "description_width": ""
      }
     },
     "1427fe37bd10491ebc31770755709c79": {
      "model_module": "@jupyter-widgets/controls",
      "model_module_version": "2.0.0",
      "model_name": "HTMLStyleModel",
      "state": {
       "description_width": "",
       "font_size": null,
       "text_color": null
      }
     },
     "1469969e363f4d548868c14d6987eac6": {
      "model_module": "@jupyter-widgets/base",
      "model_module_version": "2.0.0",
      "model_name": "LayoutModel",
      "state": {}
     },
     "14c13312d99b49acaaf9f815ccb0103c": {
      "model_module": "@jupyter-widgets/base",
      "model_module_version": "2.0.0",
      "model_name": "LayoutModel",
      "state": {
       "width": "auto"
      }
     },
     "15b668e8da8e418990950209c6fd7dc9": {
      "model_module": "@jupyter-widgets/base",
      "model_module_version": "2.0.0",
      "model_name": "LayoutModel",
      "state": {}
     },
     "15b83b85931b4176957a7a24a4f6e6b0": {
      "model_module": "@jupyter-widgets/base",
      "model_module_version": "2.0.0",
      "model_name": "LayoutModel",
      "state": {}
     },
     "165f36992c9045aea3b4dc49b6cb92a3": {
      "model_module": "@jupyter-widgets/controls",
      "model_module_version": "2.0.0",
      "model_name": "LabelStyleModel",
      "state": {
       "description_width": "",
       "font_family": null,
       "font_size": null,
       "font_style": null,
       "font_variant": null,
       "font_weight": null,
       "text_color": null,
       "text_decoration": null
      }
     },
     "168bc24b92cb4e38959cd9cbb034fd9d": {
      "model_module": "@jupyter-widgets/base",
      "model_module_version": "2.0.0",
      "model_name": "LayoutModel",
      "state": {}
     },
     "169bf42b13734149b0614267be0954f2": {
      "model_module": "@jupyter-widgets/controls",
      "model_module_version": "2.0.0",
      "model_name": "HTMLStyleModel",
      "state": {
       "description_width": "",
       "font_size": null,
       "text_color": null
      }
     },
     "16ec570665c545ea8169c507129a06b0": {
      "model_module": "@jupyter-widgets/base",
      "model_module_version": "2.0.0",
      "model_name": "LayoutModel",
      "state": {}
     },
     "1705540fb5ef4534811eb1f3b16e0df6": {
      "model_module": "@jupyter-widgets/controls",
      "model_module_version": "2.0.0",
      "model_name": "TextStyleModel",
      "state": {
       "description_width": "initial",
       "font_size": null,
       "text_color": null
      }
     },
     "17f30e1b75e54a05be71c9963dd15c52": {
      "model_module": "@jupyter-widgets/controls",
      "model_module_version": "2.0.0",
      "model_name": "HTMLModel",
      "state": {
       "layout": "IPY_MODEL_7ee94a5fedf74abd9e9de90693e5a368",
       "style": "IPY_MODEL_f62dd5af21ad4763b581f1100a8d066e"
      }
     },
     "18adb3f3af5b4e5c8a3c3242912c4959": {
      "model_module": "jupyter-progressivis",
      "model_module_version": "^0.1.0",
      "model_name": "ModuleGraphModel",
      "state": {
       "_model_module_version": "^0.1.0",
       "_view_module_version": "^0.1.0",
       "data": "{}",
       "layout": "IPY_MODEL_229b1879803f49ca87f7f2c9829f1f1f"
      }
     },
     "18bd3c8303414d4ba4747eb2e5a6b100": {
      "model_module": "@jupyter-widgets/controls",
      "model_module_version": "2.0.0",
      "model_name": "DescriptionStyleModel",
      "state": {
       "description_width": "initial"
      }
     },
     "190e13a6a0a64f40ae52ff09873a845c": {
      "model_module": "@jupyter-widgets/controls",
      "model_module_version": "2.0.0",
      "model_name": "CheckboxStyleModel",
      "state": {
       "description_width": ""
      }
     },
     "195252b46c724c28b5a899a423438302": {
      "model_module": "@jupyter-widgets/base",
      "model_module_version": "2.0.0",
      "model_name": "LayoutModel",
      "state": {
       "height": "30px",
       "width": "30px"
      }
     },
     "1995541d7ff346b59b371cc2071ff3d2": {
      "model_module": "@jupyter-widgets/controls",
      "model_module_version": "2.0.0",
      "model_name": "CheckboxModel",
      "state": {
       "disabled": true,
       "indent": false,
       "layout": "IPY_MODEL_5920c65dc5224c84bea5295825137469",
       "style": "IPY_MODEL_72bf3c1b16094523a35290764fe3d979",
       "value": false
      }
     },
     "1a7efb7301264d7096c9ee3117202539": {
      "model_module": "@jupyter-widgets/controls",
      "model_module_version": "2.0.0",
      "model_name": "ButtonStyleModel",
      "state": {
       "font_family": null,
       "font_size": null,
       "font_style": null,
       "font_variant": null,
       "font_weight": null,
       "text_color": null,
       "text_decoration": null
      }
     },
     "1a9f1ae5bb744d7ca25af29f6fc74dad": {
      "model_module": "@jupyter-widgets/controls",
      "model_module_version": "2.0.0",
      "model_name": "TextModel",
      "state": {
       "layout": "IPY_MODEL_8de656ff47cb4c10bcd676b139352710",
       "placeholder": "optional alias",
       "style": "IPY_MODEL_f69cc614b3b6450584213dbce200edd1"
      }
     },
     "1aa4e21b72c84d1b9985ccfacbacc374": {
      "model_module": "@jupyter-widgets/base",
      "model_module_version": "2.0.0",
      "model_name": "LayoutModel",
      "state": {}
     },
     "1ad0bbe306fa4550b8aae86828fee1fb": {
      "model_module": "@jupyter-widgets/controls",
      "model_module_version": "2.0.0",
      "model_name": "LabelStyleModel",
      "state": {
       "description_width": "",
       "font_family": null,
       "font_size": null,
       "font_style": null,
       "font_variant": null,
       "font_weight": null,
       "text_color": null,
       "text_decoration": null
      }
     },
     "1ad40918ed8d4c45bbc6335e711dd11b": {
      "model_module": "@jupyter-widgets/controls",
      "model_module_version": "2.0.0",
      "model_name": "HTMLStyleModel",
      "state": {
       "description_width": "",
       "font_size": null,
       "text_color": null
      }
     },
     "1b8c92b2f1d94fef911dac150cc90b09": {
      "model_module": "@jupyter-widgets/base",
      "model_module_version": "2.0.0",
      "model_name": "LayoutModel",
      "state": {}
     },
     "1c4d13a27aa147b98a0bfd7143d7e226": {
      "model_module": "@jupyter-widgets/controls",
      "model_module_version": "2.0.0",
      "model_name": "DropdownModel",
      "state": {
       "_options_labels": [
        "passenger_count_sum"
       ],
       "disabled": true,
       "index": 0,
       "layout": "IPY_MODEL_56da5712d01e4bdb82a88f66401c5326",
       "style": "IPY_MODEL_5c2d6a8572894a5c9e8b3a3f1815da2b"
      }
     },
     "1c5fabd7b1474f60a1ed0ffde97558d6": {
      "model_module": "@jupyter-widgets/controls",
      "model_module_version": "2.0.0",
      "model_name": "IntProgressModel",
      "state": {
       "description": "Progress",
       "layout": "IPY_MODEL_c82dc4c3ea564ff299d97cea3982742b",
       "max": 13157677,
       "style": "IPY_MODEL_e556513ce122423e8e634c7cca290427",
       "value": 4108000
      }
     },
     "1c60144b99ed46c2b98d33a9245f91a5": {
      "model_module": "@jupyter-widgets/controls",
      "model_module_version": "2.0.0",
      "model_name": "CheckboxStyleModel",
      "state": {
       "description_width": ""
      }
     },
     "1c959a3256c14249884c20593eeee570": {
      "model_module": "@jupyter-widgets/controls",
      "model_module_version": "2.0.0",
      "model_name": "SelectMultipleModel",
      "state": {
       "description": "❎",
       "disabled": true,
       "index": [],
       "layout": "IPY_MODEL_537699ee805447c28eedbfc0a0c035cc",
       "rows": 5,
       "style": "IPY_MODEL_f4851fbe5d1f49c084777d7551cf6fa9"
      }
     },
     "1ca6c2e0b9ad40fca85856ee233f7297": {
      "model_module": "@jupyter-widgets/base",
      "model_module_version": "2.0.0",
      "model_name": "LayoutModel",
      "state": {}
     },
     "1d9b5487009449a99c262f3f439455b1": {
      "model_module": "@jupyter-widgets/controls",
      "model_module_version": "2.0.0",
      "model_name": "HTMLStyleModel",
      "state": {
       "description_width": "",
       "font_size": null,
       "text_color": null
      }
     },
     "1ebb791803a54716a63f9967615b1a66": {
      "model_module": "@jupyter-widgets/base",
      "model_module_version": "2.0.0",
      "model_name": "LayoutModel",
      "state": {}
     },
     "1f0da46ae9384fb488c3c4ad8ccdb86c": {
      "model_module": "@jupyter-widgets/controls",
      "model_module_version": "2.0.0",
      "model_name": "ProgressStyleModel",
      "state": {
       "description_width": ""
      }
     },
     "1f36c8dc931f499fa6ff76925475af5d": {
      "model_module": "@jupyter-widgets/controls",
      "model_module_version": "2.0.0",
      "model_name": "HTMLModel",
      "state": {
       "layout": "IPY_MODEL_4f1bc5786229423ca9a69486442ae804",
       "style": "IPY_MODEL_d6cb06ac105740bb91c5f0192b90512c"
      }
     },
     "1f482652fa7542e3a40ea99a3592ff55": {
      "model_module": "@jupyter-widgets/controls",
      "model_module_version": "2.0.0",
      "model_name": "HTMLStyleModel",
      "state": {
       "description_width": "",
       "font_size": null,
       "text_color": null
      }
     },
     "1f9691233d9a4ba0857c7c4aa7639bc7": {
      "model_module": "@jupyter-widgets/controls",
      "model_module_version": "2.0.0",
      "model_name": "LabelModel",
      "state": {
       "layout": "IPY_MODEL_b73ce2beb3ad4cca9b432cf7239b44a5",
       "style": "IPY_MODEL_40fb043d984345d4b6ddc226af5f3fb7"
      }
     },
     "1fc19af97aa64335a1dd38b4241d7480": {
      "model_module": "@jupyter-widgets/base",
      "model_module_version": "2.0.0",
      "model_name": "LayoutModel",
      "state": {}
     },
     "1fefefac50604ac0907ebd1db0bec11c": {
      "model_module": "@jupyter-widgets/controls",
      "model_module_version": "2.0.0",
      "model_name": "TextModel",
      "state": {
       "layout": "IPY_MODEL_59086a4fe8ea42cd9954a5ffd70ac39d",
       "placeholder": "optional alias",
       "style": "IPY_MODEL_7ac6ad9fd3734b8280a1c56bf73a3293"
      }
     },
     "211d136e8c954fc1ac462fb62ee91234": {
      "model_module": "@jupyter-widgets/controls",
      "model_module_version": "2.0.0",
      "model_name": "LabelStyleModel",
      "state": {
       "description_width": "",
       "font_family": null,
       "font_size": null,
       "font_style": null,
       "font_variant": null,
       "font_weight": null,
       "text_color": null,
       "text_decoration": null
      }
     },
     "216087daf03f461a81953efced132708": {
      "model_module": "@jupyter-widgets/controls",
      "model_module_version": "2.0.0",
      "model_name": "CheckboxStyleModel",
      "state": {
       "description_width": ""
      }
     },
     "2174fd88513d412980a3ba503d16fadc": {
      "model_module": "@jupyter-widgets/base",
      "model_module_version": "2.0.0",
      "model_name": "LayoutModel",
      "state": {}
     },
     "227bdc1e801540c38ebba0f1963cf389": {
      "model_module": "@jupyter-widgets/controls",
      "model_module_version": "2.0.0",
      "model_name": "LabelModel",
      "state": {
       "layout": "IPY_MODEL_48bb1ca2fa64452ca7a2eb2b21ecb7ec",
       "style": "IPY_MODEL_9d33c7bd81804a8492c0c9bdef770a39",
       "value": "__RECORD__:_"
      }
     },
     "229b1879803f49ca87f7f2c9829f1f1f": {
      "model_module": "@jupyter-widgets/base",
      "model_module_version": "2.0.0",
      "model_name": "LayoutModel",
      "state": {}
     },
     "22db9257f13342078113c4cc76b3f9df": {
      "model_module": "@jupyter-widgets/base",
      "model_module_version": "2.0.0",
      "model_name": "LayoutModel",
      "state": {}
     },
     "239dbc16535f4bc69cb6fb4f3d8899e8": {
      "model_module": "@jupyter-widgets/base",
      "model_module_version": "2.0.0",
      "model_name": "LayoutModel",
      "state": {}
     },
     "240643e03b5a4e2baafbd806aac63f8c": {
      "model_module": "@jupyter-widgets/base",
      "model_module_version": "2.0.0",
      "model_name": "LayoutModel",
      "state": {}
     },
     "24452eee88284f9ea37e6e196316666a": {
      "model_module": "@jupyter-widgets/base",
      "model_module_version": "2.0.0",
      "model_name": "LayoutModel",
      "state": {}
     },
     "246a5f4d63114f6da1b3566712cbbf25": {
      "model_module": "@jupyter-widgets/controls",
      "model_module_version": "2.0.0",
      "model_name": "CheckboxStyleModel",
      "state": {
       "description_width": ""
      }
     },
     "2545629096cd4e6f99359a4f4c73cf18": {
      "model_module": "@jupyter-widgets/base",
      "model_module_version": "2.0.0",
      "model_name": "LayoutModel",
      "state": {}
     },
     "257e404f88a546f9b68589f42762962e": {
      "model_module": "@jupyter-widgets/base",
      "model_module_version": "2.0.0",
      "model_name": "LayoutModel",
      "state": {}
     },
     "259e7e7163124ed689c9c55fb5ef6157": {
      "model_module": "@jupyter-widgets/controls",
      "model_module_version": "2.0.0",
      "model_name": "CheckboxStyleModel",
      "state": {
       "description_width": ""
      }
     },
     "25c38d7c55214430b5821536f50b8442": {
      "model_module": "@jupyter-widgets/controls",
      "model_module_version": "2.0.0",
      "model_name": "HTMLModel",
      "state": {
       "layout": "IPY_MODEL_3c4ec3922bbb487c9365ac84cfb232a3",
       "style": "IPY_MODEL_131116c129b5404ba83193a3aadd348c"
      }
     },
     "26366f9d893e4e729b9017514d418661": {
      "model_module": "@jupyter-widgets/controls",
      "model_module_version": "2.0.0",
      "model_name": "ButtonModel",
      "state": {
       "description": "Chain it",
       "disabled": true,
       "icon": "check",
       "layout": "IPY_MODEL_f0092ea680bb45b2ab4dac55f166b30f",
       "style": "IPY_MODEL_3b39bf838bd345b1b6fe0c0cf9b8c431",
       "tooltip": "Chain it"
      }
     },
     "267731428fed48e7ae2d99f2ac85f084": {
      "model_module": "@jupyter-widgets/controls",
      "model_module_version": "2.0.0",
      "model_name": "HTMLStyleModel",
      "state": {
       "description_width": "",
       "font_size": null,
       "text_color": null
      }
     },
     "2769198016414eefa41e3e41de949c5d": {
      "model_module": "@jupyter-widgets/controls",
      "model_module_version": "2.0.0",
      "model_name": "HBoxModel",
      "state": {
       "children": [
        "IPY_MODEL_31b4223bab494c3e8ebf160bf409da6c",
        "IPY_MODEL_1a9f1ae5bb744d7ca25af29f6fc74dad",
        "IPY_MODEL_58e0ffd3dfa64277a717e19e4f6943ca"
       ],
       "layout": "IPY_MODEL_add344d46a8b45b3b8207aedcbbb4b00"
      }
     },
     "27f1007ce3ba4865865a8ae757c5a466": {
      "model_module": "@jupyter-widgets/controls",
      "model_module_version": "2.0.0",
      "model_name": "HTMLStyleModel",
      "state": {
       "description_width": "",
       "font_size": null,
       "text_color": null
      }
     },
     "2902b82e8bd846b1be570c6913a54924": {
      "model_module": "@jupyter-widgets/controls",
      "model_module_version": "2.0.0",
      "model_name": "HBoxModel",
      "state": {
       "children": [
        "IPY_MODEL_8a9f942bcb0042dab7793941c3dba9e2",
        "IPY_MODEL_d1c3aea64fd74eb69544d0452576bfa6",
        "IPY_MODEL_c90449f1b7fa4436aad7a22ba42a36f6",
        "IPY_MODEL_aee5bd95214f4c52a8de4f3cbfb09710"
       ],
       "layout": "IPY_MODEL_9e3e5526bfd64ab6acbb916b49059cd0"
      }
     },
     "29a9637cac3d4244a8dec82c83aafdc9": {
      "model_module": "@jupyter-widgets/controls",
      "model_module_version": "2.0.0",
      "model_name": "HBoxModel",
      "state": {
       "children": [
        "IPY_MODEL_2a19ad5bd8bc4a9992ca3b080f02426e",
        "IPY_MODEL_cb9af121c7c8422fb927a7d1ba38e6ef",
        "IPY_MODEL_ff6257c7b731436590443869c5134da1"
       ],
       "layout": "IPY_MODEL_7fa25cc84b70472fa3205db4d8512271"
      }
     },
     "29b84e8ce63941bb8eb2425761cf6b29": {
      "model_module": "@jupyter-widgets/controls",
      "model_module_version": "2.0.0",
      "model_name": "HTMLModel",
      "state": {
       "layout": "IPY_MODEL_2ea081a2a936474a824ce99fe589eb20",
       "style": "IPY_MODEL_27f1007ce3ba4865865a8ae757c5a466"
      }
     },
     "29c379b71f6a42ec89632d798edc35e4": {
      "model_module": "@jupyter-widgets/controls",
      "model_module_version": "2.0.0",
      "model_name": "HTMLStyleModel",
      "state": {
       "description_width": "",
       "font_size": null,
       "text_color": null
      }
     },
     "29e200e785b54a88bbe055012cac553b": {
      "model_module": "jupyter-progressivis",
      "model_module_version": "^0.1.0",
      "model_name": "DagWidgetModel",
      "state": {
       "_img_url": "%3Cdiv%20id%3D%22dag_widget_36%22%20width%3D%22960%22%20height%3D%22500%22%3E%3Cdiv%3E%3Cfieldset%20style%3D%22width%3A300px%22%3E%3Clegend%3EWidget%20Dag%20%3C%2Flegend%3E%3Cdiv%20style%3D%22margin-inline-start%3A%201rem%3B%22%3E%3C%2Fdiv%3E%3Cdiv%3E%0A%20%20%20%20%20%20%20%20%3Cdiv%20style%3D%22border%3A1px%20solid%20%23EEE%3Bwidth%3A300px%3Bmargin-top%3A%200%3B%22%3E%0A%3Cp%3EAttention%20Request%20Types%3C%2Fp%3E%0A%3Cdiv%20id%3D%22dagLegend%22%20style%3D%22width%3A300px%3Bdisplay%3A%20grid%3Bgrid-template-columns%3A%20150px%20150px%3Bmargin-left%3A%2010px%3B%22%3E%0A%20%20%3Cdiv%20class%3D%22legendItem%22%3E%0A%20%20%20%20%3Cdiv%20class%3D%22circleBase%22%20style%3D%22border%3A1px%20solid%20%23999%3Bbackground%3A%23fb9a99%3B%22%3E%3C%2Fdiv%3E%0A%20%20%20%20%3Clabel%3EError%3C%2Flabel%3E%0A%20%20%3C%2Fdiv%3E%0A%20%20%3Cdiv%20class%3D%22legendItem%22%3E%0A%20%20%20%20%20%20%3Cdiv%20class%3D%22circleBase%22%20style%3D%22border%3A1px%20solid%20%23999%3Bbackground%3A%23a6cee3%3B%22%3E%3C%2Fdiv%3E%0A%20%20%20%20%20%20%3Clabel%3EAxes%3C%2Flabel%3E%0A%20%20%20%20%3C%2Fdiv%3E%0A%0A%20%20%20%20%3Cdiv%20class%3D%22legendItem%22%3E%0A%20%20%20%20%20%20%3Cdiv%20class%3D%22circleBase%22%20style%3D%22border%3A1px%20solid%20%23999%3Bbackground%3A%23b2df8a%3B%22%3E%0A%20%20%20%20%20%20%3C%2Fdiv%3E%0A%20%20%20%20%20%20%3Clabel%3ESafeguard%3C%2Flabel%3E%0A%20%20%20%20%3C%2Fdiv%3E%0A%0A%20%20%20%20%3Cdiv%20class%3D%22legendItem%22%3E%0A%20%20%20%20%3Cdiv%20class%3D%22circleBase%22%20style%3D%22border%3A1px%20solid%20%23999%3Bbackground%3A%23e31a1c%3B%22%3E%0A%20%20%20%20%3C%2Fdiv%3E%0A%20%20%20%20%3Clabel%3EMultiple%3C%2Flabel%3E%0A%20%20%3C%2Fdiv%3E%0A%0A%20%3C%2Fdiv%3E%0A%3C%2Fdiv%3E%3C%2Fdiv%3E%3Cdiv%20style%3D%22border%3A%201px%20solid%20grey%3B%22%3E%3Cdiv%3E%3Csvg%20id%3D%22dagCanvas_dag_widget_36%22%20width%3D%22300%22%20height%3D%22450%22%3E%3Cg%20id%3D%22edgeGroup_dag_widget_36%22%3E%3Cpath%20d%3D%22M36.75%2C22.5L36.75%2C67.5%22%20id%3D%22eSrootTTaxis%20Borough%22%20fill%3D%22none%22%20stroke-width%3D%221%22%20stroke%3D%22gray%22%3E%3C%2Fpath%3E%3Cpath%20d%3D%22M36.75%2C67.5L36.75%2C112.5%22%20id%3D%22eSTaxis%20BoroughTGroup%20by%22%20fill%3D%22none%22%20stroke-width%3D%221%22%20stroke%3D%22gray%22%3E%3C%2Fpath%3E%3Cpath%20d%3D%22M36.75%2C112.5L36.75%2C157.5%22%20id%3D%22eSGroup%20byTAggregate%22%20fill%3D%22none%22%20stroke-width%3D%221%22%20stroke%3D%22gray%22%3E%3C%2Fpath%3E%3Cpath%20d%3D%22M36.75%2C157.5L36.75%2C202.5%22%20id%3D%22eSAggregateTAny%20Vega%22%20fill%3D%22none%22%20stroke-width%3D%221%22%20stroke%3D%22gray%22%3E%3C%2Fpath%3E%3C%2Fg%3E%3Cg%20id%3D%22nodeGroup_dag_widget_36%22%20style%3D%22cursor%3A%20pointer%3B%22%3E%3Cg%20id%3D%22gnDroot%22%20transform%3D%22translate(36.75%2C%2022.5)%22%3E%3Crect%20id%3D%22nDroot%22%20rx%3D%225%22%20ry%3D%225%22%20x%3D%22-35%22%20y%3D%22-7.5%22%20class%3D%22dagNodes%22%20width%3D%2270%22%20height%3D%2215%22%20stroke%3D%22black%22%20fill%3D%22%23a6cee3%22%3E%3C%2Frect%3E%3Ctext%20font-weight%3D%22normal%22%20font-family%3D%22sans-serif%22%20text-anchor%3D%22middle%22%20alignment-baseline%3D%22middle%22%20fill%3D%22black%22%3Eroot%3C%2Ftext%3E%3Ctitle%3Eroot%3C%2Ftitle%3E%3C%2Fg%3E%3Cg%20id%3D%22gnDTaxis%20Borough%22%20transform%3D%22translate(36.75%2C%2067.5)%22%3E%3Crect%20id%3D%22nDTaxis%20Borough%22%20rx%3D%225%22%20ry%3D%225%22%20x%3D%22-35%22%20y%3D%22-7.5%22%20class%3D%22dagNodes%22%20width%3D%2270%22%20height%3D%2215%22%20stroke%3D%22black%22%20fill%3D%22%23a6cee3%22%3E%3C%2Frect%3E%3Ctext%20font-weight%3D%22normal%22%20font-family%3D%22sans-serif%22%20text-anchor%3D%22middle%22%20alignment-baseline%3D%22middle%22%20fill%3D%22black%22%3ETaxis%E2%80%A6ugh%3C%2Ftext%3E%3Ctitle%3ETaxis%20Borough%3C%2Ftitle%3E%3C%2Fg%3E%3Cg%20id%3D%22gnDGroup%20by%22%20transform%3D%22translate(36.75%2C%20112.5)%22%3E%3Crect%20id%3D%22nDGroup%20by%22%20rx%3D%225%22%20ry%3D%225%22%20x%3D%22-35%22%20y%3D%22-7.5%22%20class%3D%22dagNodes%22%20width%3D%2270%22%20height%3D%2215%22%20stroke%3D%22black%22%20fill%3D%22%23a6cee3%22%3E%3C%2Frect%3E%3Ctext%20font-weight%3D%22normal%22%20font-family%3D%22sans-serif%22%20text-anchor%3D%22middle%22%20alignment-baseline%3D%22middle%22%20fill%3D%22black%22%3EGroup%20by%3C%2Ftext%3E%3Ctitle%3EGroup%20by%3C%2Ftitle%3E%3C%2Fg%3E%3Cg%20id%3D%22gnDAggregate%22%20transform%3D%22translate(36.75%2C%20157.5)%22%3E%3Crect%20id%3D%22nDAggregate%22%20rx%3D%225%22%20ry%3D%225%22%20x%3D%22-35%22%20y%3D%22-7.5%22%20class%3D%22dagNodes%22%20width%3D%2270%22%20height%3D%2215%22%20stroke%3D%22black%22%20fill%3D%22%23a6cee3%22%3E%3C%2Frect%3E%3Ctext%20font-weight%3D%22normal%22%20font-family%3D%22sans-serif%22%20text-anchor%3D%22middle%22%20alignment-baseline%3D%22middle%22%20fill%3D%22black%22%3EAggregate%3C%2Ftext%3E%3Ctitle%3EAggregate%3C%2Ftitle%3E%3C%2Fg%3E%3Cg%20id%3D%22gnDAny%20Vega%22%20transform%3D%22translate(36.75%2C%20202.5)%22%3E%3Crect%20id%3D%22nDAny%20Vega%22%20rx%3D%225%22%20ry%3D%225%22%20x%3D%22-35%22%20y%3D%22-7.5%22%20class%3D%22dagNodes%22%20width%3D%2270%22%20height%3D%2215%22%20stroke%3D%22black%22%20fill%3D%22%23a6cee3%22%3E%3C%2Frect%3E%3Ctext%20font-weight%3D%22normal%22%20font-family%3D%22sans-serif%22%20text-anchor%3D%22middle%22%20alignment-baseline%3D%22middle%22%20fill%3D%22black%22%3EAny%20Vega%3C%2Ftext%3E%3Ctitle%3EAny%20Vega%3C%2Ftitle%3E%3C%2Fg%3E%3C%2Fg%3E%3C%2Fsvg%3E%3C%2Fdiv%3E%3C%2Fdiv%3E%3C%2Ffieldset%3E%3C%2Fdiv%3E%3Cdiv%3E%3Cform%20style%3D%22width%3A300px%22%3E%3Cfieldset%3E%3Clegend%3EDetails%20%3C%2Flegend%3E%3Cdiv%20style%3D%22width%3A300px%3Bdisplay%3A%20grid%3Bgrid-template-columns%3A%20100px%20200px%3B%22%3E%3Clabel%3EWidget%3A%20%3C%2Flabel%3E%3Clabel%20id%3D%22detailsNameLabel_dag_widget_36%22%3E%3C%2Flabel%3E%3Clabel%3EProgress%3A%20%3C%2Flabel%3E%3Cdiv%20class%3D%22w3-border%22%3E%3Cdiv%20id%3D%22detailsProgressBar_dag_widget_36%22%20class%3D%22w3-grey%20w3-center%22%20style%3D%22color%3A%20%23000%3Bbackground-color%3A%20%23d0d0d0%3Bwidth%3A0%25%3B%22%3E0%25%3C%2Fdiv%3E%3C%2Fdiv%3E%3C%2Fdiv%3E%3Cdiv%20style%3D%22margin-top%3A5px%3Bborder-top%3A%201.5px%20solid%20grey%3Bwidth%3A300px%3Bdisplay%3A%20grid%3Bgrid-template-columns%3A%2090px%20200px%2010px%3B%22%3E%3Clabel%3EAxes%20Resize%3A%20%3C%2Flabel%3E%3Clabel%20id%3D%22attAxesLabel_dag_widget_36%22%3E%3C%2Flabel%3E%3Ci%20class%3D%22fa%20fa-fw%20fa-refresh%22%20style%3D%22cursor%3A%20pointer%3B%22%3E%3C%2Fi%3E%3Clabel%3EStability%3A%20%3C%2Flabel%3E%3Clabel%20id%3D%22attStabilityLabel_dag_widget_36%22%3E%3C%2Flabel%3E%3Ci%20class%3D%22fa%20fa-fw%20fa-refresh%22%20style%3D%22cursor%3A%20pointer%3B%22%3E%3C%2Fi%3E%3Clabel%3EProgress%3A%20%3C%2Flabel%3E%3Clabel%20id%3D%22attProgressLabel_dag_widget_36%22%3E%3C%2Flabel%3E%3Ci%20class%3D%22fa%20fa-fw%20fa-refresh%22%20style%3D%22cursor%3A%20pointer%3B%22%3E%3C%2Fi%3E%3Clabel%3ESafeguard%3A%20%3C%2Flabel%3E%3Clabel%20id%3D%22attSafeguardLabel_dag_widget_36%22%3E%3C%2Flabel%3E%3Ci%20class%3D%22fa%20fa-fw%20fa-refresh%22%20style%3D%22cursor%3A%20pointer%3B%22%3E%3C%2Fi%3E%3C%2Fdiv%3E%3C%2Ffieldset%3E%3C%2Fform%3E%3C%2Fdiv%3E%3C%2Fdiv%3E",
       "_model_module_version": "^0.1.0",
       "_view_module_version": "^0.1.0",
       "dag": "{\"dag\": [{\"id\": \"root\", \"divID\": \"root\", \"label\": \"root\", \"parentIds\": []}, {\"id\": \"Taxis Borough\", \"divID\": \"Taxis-Borough\", \"label\": \"Taxis Borough\", \"parentIds\": [\"root\"]}, {\"id\": \"Group by\", \"divID\": \"Group-by\", \"label\": \"Group by\", \"parentIds\": [\"Taxis Borough\"]}, {\"id\": \"Aggregate\", \"divID\": \"Aggregate\", \"label\": \"Aggregate\", \"parentIds\": [\"Group by\"]}, {\"id\": \"Any Vega\", \"divID\": \"Any-Vega\", \"label\": \"Any Vega\", \"parentIds\": [\"Aggregate\"]}], \"summaries\": {\"root\": {\"progress\": 0, \"status\": \"RUNNING\"}, \"Taxis Borough\": {\"progress\": 0, \"status\": \"RUNNING\"}, \"Group by\": {\"progress\": 0, \"status\": \"RUNNING\"}, \"Aggregate\": {\"progress\": 0, \"status\": \"RUNNING\"}}, \"summaryVariables\": {\"root\": [\"progress\"], \"Taxis Borough\": [\"progress\"], \"Group by\": [\"progress\"], \"Aggregate\": [\"progress\"], \"Any Vega\": [\"progress\"]}}",
       "layout": "IPY_MODEL_0faccff52c8d44fd978720a8bfe239cd",
       "summaries": "{\"root\": {\"progress\": 0, \"status\": \"RUNNING\"}, \"Taxis Borough\": {\"progress\": 0, \"status\": \"RUNNING\"}, \"Group by\": {\"progress\": 0, \"status\": \"RUNNING\"}, \"Aggregate\": {\"progress\": 0, \"status\": \"RUNNING\"}, \"Any Vega\": {\"progress\": 0, \"status\": \"RUNNING\"}}"
      }
     },
     "2a19ad5bd8bc4a9992ca3b080f02426e": {
      "model_module": "@jupyter-widgets/controls",
      "model_module_version": "2.0.0",
      "model_name": "ButtonModel",
      "state": {
       "description": "Fetch info",
       "disabled": true,
       "icon": "check",
       "layout": "IPY_MODEL_490cb6215e07464ba65be1d9b6e8f5fe",
       "style": "IPY_MODEL_a422fb6beeda4438b728dc0787789f3f",
       "tooltip": "Fetch info"
      }
     },
     "2a49d8bddfbc4ed9ad102a71c375b380": {
      "model_module": "@jupyter-widgets/controls",
      "model_module_version": "2.0.0",
      "model_name": "DropdownModel",
      "state": {
       "_options_labels": [
        "",
        "enumerate",
        "cbrt"
       ],
       "disabled": true,
       "index": 0,
       "layout": "IPY_MODEL_31dbf5566a814374981d7ba671727f8b",
       "style": "IPY_MODEL_df28ac995832437fbe528b3450848185"
      }
     },
     "2a58d88d516d4bc7b9986f6fc640ae2a": {
      "model_module": "@jupyter-widgets/controls",
      "model_module_version": "2.0.0",
      "model_name": "HTMLModel",
      "state": {
       "layout": "IPY_MODEL_7ab1e6e9bcfc4d84af5ed13f81559189",
       "style": "IPY_MODEL_bedbdce489f546a5b9fb28628c23246f"
      }
     },
     "2a67bc95921447078921aff334370839": {
      "model_module": "@jupyter-widgets/controls",
      "model_module_version": "2.0.0",
      "model_name": "VBoxModel",
      "state": {
       "children": [
        "IPY_MODEL_d6121b5b61324689ae2653c101cfdd4b",
        "IPY_MODEL_bc5e9fd5ca6e452e94ad13e5f8e4528e",
        "IPY_MODEL_03f92687bb11418a8b6078a38bcc7c24"
       ],
       "layout": "IPY_MODEL_de078c7027ad4e338eeafdc54e6953a4"
      }
     },
     "2b2bd3459e304ae1843215e26cdd5928": {
      "model_module": "@jupyter-widgets/controls",
      "model_module_version": "2.0.0",
      "model_name": "HTMLModel",
      "state": {
       "layout": "IPY_MODEL_30e02f215417451eb1a65462209a443d",
       "style": "IPY_MODEL_bad190c1861248b5b41a57ae8d25a49d"
      }
     },
     "2c39851258a34cbb86015bb25f4e2875": {
      "model_module": "@jupyter-widgets/controls",
      "model_module_version": "2.0.0",
      "model_name": "CheckboxModel",
      "state": {
       "description": "Active",
       "disabled": false,
       "layout": "IPY_MODEL_2545629096cd4e6f99359a4f4c73cf18",
       "style": "IPY_MODEL_cec96f95a1b143b8b73ab55ac3b85030",
       "value": true
      }
     },
     "2d1f653268734ea4ab5866d3bab3b23f": {
      "model_module": "@jupyter-widgets/controls",
      "model_module_version": "2.0.0",
      "model_name": "DropdownModel",
      "state": {
       "_options_labels": [
        "",
        "taxis_zones"
       ],
       "description": "Snippet:",
       "disabled": true,
       "index": 1,
       "layout": "IPY_MODEL_ab1007aca973441b85872102e6ef3e4f",
       "style": "IPY_MODEL_4d9805a89b8f450d87042f7758cbcf4a"
      }
     },
     "2d3bff15722a411fb2e4ad3db317932a": {
      "model_module": "@jupyter-widgets/controls",
      "model_module_version": "2.0.0",
      "model_name": "LabelModel",
      "state": {
       "layout": "IPY_MODEL_a4ef0459f1c44c1182066918d9fbce1a",
       "style": "IPY_MODEL_dcd9435ce6f142b48ee174b7250f9fed"
      }
     },
     "2ea081a2a936474a824ce99fe589eb20": {
      "model_module": "@jupyter-widgets/base",
      "model_module_version": "2.0.0",
      "model_name": "LayoutModel",
      "state": {}
     },
     "2eaa85d96aeb4d0293e78adf68b740a4": {
      "model_module": "@jupyter-widgets/controls",
      "model_module_version": "2.0.0",
      "model_name": "HTMLModel",
      "state": {
       "layout": "IPY_MODEL_98c11b6e5b06406cb20a3ae4fadcacb7",
       "style": "IPY_MODEL_1ad40918ed8d4c45bbc6335e711dd11b"
      }
     },
     "2f362be498484e3bb635710576bb7b16": {
      "model_module": "@jupyter-widgets/controls",
      "model_module_version": "2.0.0",
      "model_name": "HTMLModel",
      "state": {
       "layout": "IPY_MODEL_cb9e1a06fc6d411a8f9b00f37be6e72b",
       "style": "IPY_MODEL_1427fe37bd10491ebc31770755709c79"
      }
     },
     "2fc779b76c514d42b55e9a7d47879ce5": {
      "model_module": "@jupyter-widgets/controls",
      "model_module_version": "2.0.0",
      "model_name": "LabelStyleModel",
      "state": {
       "description_width": "",
       "font_family": null,
       "font_size": null,
       "font_style": null,
       "font_variant": null,
       "font_weight": null,
       "text_color": null,
       "text_decoration": null
      }
     },
     "30cb35fa900347b88334c4573ca65b86": {
      "model_module": "@jupyter-widgets/base",
      "model_module_version": "2.0.0",
      "model_name": "LayoutModel",
      "state": {}
     },
     "30e02f215417451eb1a65462209a443d": {
      "model_module": "@jupyter-widgets/base",
      "model_module_version": "2.0.0",
      "model_name": "LayoutModel",
      "state": {}
     },
     "31b4223bab494c3e8ebf160bf409da6c": {
      "model_module": "@jupyter-widgets/controls",
      "model_module_version": "2.0.0",
      "model_name": "DropdownModel",
      "state": {
       "_options_labels": [
        "",
        "Aggregate",
        "Any Vega",
        "Computed view",
        "Corr",
        "Descriptive_statistics",
        "Dump_table",
        "Facade",
        "Group by",
        "Heatmap",
        "Histogram1D",
        "Join",
        "KNN Density",
        "MBKMeans",
        "MCDensityMap",
        "MultiSeries",
        "Quantiles",
        "RangeQuery2D",
        "Scaler",
        "Scatterplot",
        "Snippet",
        "T-SNE 2D",
        "CSV loader",
        "PARQUET loader",
        "CUSTOM loader"
       ],
       "description": "Next stage",
       "index": 0,
       "layout": "IPY_MODEL_717ac3265c984c7bb3595bedc811a05e",
       "style": "IPY_MODEL_744ad831c7044cb7950b80305b527074"
      }
     },
     "31c3a27e8b574c81981b944c34162800": {
      "model_module": "@jupyter-widgets/base",
      "model_module_version": "2.0.0",
      "model_name": "LayoutModel",
      "state": {}
     },
     "31dbf5566a814374981d7ba671727f8b": {
      "model_module": "@jupyter-widgets/base",
      "model_module_version": "2.0.0",
      "model_name": "LayoutModel",
      "state": {}
     },
     "323cc23fbfaa4878aebb012b39c93034": {
      "model_module": "@jupyter-widgets/base",
      "model_module_version": "2.0.0",
      "model_name": "LayoutModel",
      "state": {}
     },
     "323ec55ea858484da15a479ae956f793": {
      "model_module": "@jupyter-widgets/base",
      "model_module_version": "2.0.0",
      "model_name": "LayoutModel",
      "state": {}
     },
     "334ba1e93a0d4336877c26da20f3f0be": {
      "model_module": "@jupyter-widgets/controls",
      "model_module_version": "2.0.0",
      "model_name": "HBoxModel",
      "state": {
       "children": [
        "IPY_MODEL_2d1f653268734ea4ab5866d3bab3b23f",
        "IPY_MODEL_485e1418baf345ee9334a69b34e8b80d"
       ],
       "layout": "IPY_MODEL_3fa69054912d4300bc8d835bd65ead16"
      }
     },
     "33c8ae55a2854675871acba8a75fa637": {
      "model_module": "@jupyter-widgets/base",
      "model_module_version": "2.0.0",
      "model_name": "LayoutModel",
      "state": {}
     },
     "34a3c66a01ff4e858c09e3cd5f0139a6": {
      "model_module": "@jupyter-widgets/controls",
      "model_module_version": "2.0.0",
      "model_name": "VBoxModel",
      "state": {
       "_dom_classes": [
        "progressivis_guest_widget",
        "progressivis_guest_widget--Aggregate_0"
       ],
       "children": [
        "IPY_MODEL_1c959a3256c14249884c20593eeee570",
        "IPY_MODEL_7d79c9f7ecf749dba92dfced6346285e",
        "IPY_MODEL_8d2cb1982d7b4d5f9d5d166af71428e5"
       ],
       "layout": "IPY_MODEL_6ca5e167563242568c76482f31914294"
      }
     },
     "34d482eab39f47c69ea867aae36865db": {
      "model_module": "@jupyter-widgets/base",
      "model_module_version": "2.0.0",
      "model_name": "LayoutModel",
      "state": {}
     },
     "3546de2628ce459daf7c3e9717d6227e": {
      "model_module": "@jupyter-widgets/controls",
      "model_module_version": "2.0.0",
      "model_name": "DescriptionStyleModel",
      "state": {
       "description_width": ""
      }
     },
     "3565205fc20d452fa4194d8c3ba04047": {
      "model_module": "@jupyter-widgets/controls",
      "model_module_version": "2.0.0",
      "model_name": "CheckboxModel",
      "state": {
       "disabled": true,
       "indent": false,
       "layout": "IPY_MODEL_55402f9d1d9242c79ea88f822b69baf0",
       "style": "IPY_MODEL_e42ec715de4c4f5f8bbf631b3840271b",
       "value": false
      }
     },
     "37627f5e709e4115ae5dd04216674f2a": {
      "model_module": "@jupyter-widgets/controls",
      "model_module_version": "2.0.0",
      "model_name": "HBoxModel",
      "state": {
       "children": [
        "IPY_MODEL_f5a7eb731d9d4699992f45aa6f5ba870"
       ],
       "layout": "IPY_MODEL_dbe321d80deb4696a91bdf226a2ca78e"
      }
     },
     "378508e8e9344f47960330e83d6dd53e": {
      "model_module": "@jupyter-widgets/controls",
      "model_module_version": "2.0.0",
      "model_name": "LabelModel",
      "state": {
       "layout": "IPY_MODEL_24452eee88284f9ea37e6e196316666a",
       "style": "IPY_MODEL_dc11ff49527c45159c5afd0a4c43c572"
      }
     },
     "37c1d2c013a34dc2b4e67eb1bda22317": {
      "model_module": "@jupyter-widgets/base",
      "model_module_version": "2.0.0",
      "model_name": "LayoutModel",
      "state": {
       "width": "max-content"
      }
     },
     "381cdbf8c080466096bc6361e9e2fa22": {
      "model_module": "@jupyter-widgets/controls",
      "model_module_version": "2.0.0",
      "model_name": "TabModel",
      "state": {
       "children": [
        "IPY_MODEL_a1eb4def1b1945ff89efceaa5725198c",
        "IPY_MODEL_e3bd2af3e0594d02a21b9380c29bf811"
       ],
       "layout": "IPY_MODEL_588f0a212274408cb2b326a0177d883a",
       "selected_index": 0,
       "titles": [
        "Main",
        "Output slots"
       ]
      }
     },
     "38603f9083244944a086fe0323f18cba": {
      "model_module": "@jupyter-widgets/base",
      "model_module_version": "2.0.0",
      "model_name": "LayoutModel",
      "state": {}
     },
     "388bac0fb9d443ffa7f2fb305cb1f8df": {
      "model_module": "@jupyter-widgets/controls",
      "model_module_version": "2.0.0",
      "model_name": "HTMLModel",
      "state": {
       "layout": "IPY_MODEL_e2ac64febb834f16aa836d656c06e0ef",
       "style": "IPY_MODEL_eb04f052c05e4676b8d001ab01399b26"
      }
     },
     "38c566ccac8945c2985ec1f63d3ce7f6": {
      "model_module": "@jupyter-widgets/controls",
      "model_module_version": "2.0.0",
      "model_name": "LabelModel",
      "state": {
       "layout": "IPY_MODEL_5fe22b87efa84a64a406cad36e8569e9",
       "style": "IPY_MODEL_74adbe6cd540477188271c8fe38f1edf",
       "value": "passenger_count:int64"
      }
     },
     "38e135c8ae524cb7abebdd65a4eec3f6": {
      "model_module": "@jupyter-widgets/controls",
      "model_module_version": "2.0.0",
      "model_name": "CheckboxModel",
      "state": {
       "disabled": true,
       "indent": false,
       "layout": "IPY_MODEL_941a00f359854d22bd9f42e180a2d9ac",
       "style": "IPY_MODEL_eb14cd3ce34d4fcda6a5aac6ccb19003",
       "value": false
      }
     },
     "38eeb59a98f140d4901743476795847e": {
      "model_module": "@jupyter-widgets/controls",
      "model_module_version": "2.0.0",
      "model_name": "CheckboxModel",
      "state": {
       "disabled": true,
       "indent": false,
       "layout": "IPY_MODEL_eb9322b2e51648b09409d7d5127733aa",
       "style": "IPY_MODEL_85cc6490bb0c497580aec77e5d8b53e3",
       "value": false
      }
     },
     "38f10c3bde4a4f72b8f0eb8edcbd4fe3": {
      "model_module": "@jupyter-widgets/controls",
      "model_module_version": "2.0.0",
      "model_name": "DropdownModel",
      "state": {
       "_options_labels": [
        "",
        "Aggregate",
        "Any Vega",
        "Computed view",
        "Corr",
        "Descriptive_statistics",
        "Dump_table",
        "Facade",
        "Group by",
        "Heatmap",
        "Histogram1D",
        "Join",
        "KNN Density",
        "MBKMeans",
        "MCDensityMap",
        "MultiSeries",
        "Quantiles",
        "RangeQuery2D",
        "Scaler",
        "Scatterplot",
        "Snippet",
        "T-SNE 2D",
        "CSV loader",
        "PARQUET loader",
        "CUSTOM loader"
       ],
       "description": "Next stage",
       "index": 0,
       "layout": "IPY_MODEL_2174fd88513d412980a3ba503d16fadc",
       "style": "IPY_MODEL_ed115b29cdb74c399393e4137de3a04a"
      }
     },
     "390e2209e16349bfb343f3ba3dcfa6bd": {
      "model_module": "@jupyter-widgets/controls",
      "model_module_version": "2.0.0",
      "model_name": "LabelModel",
      "state": {
       "layout": "IPY_MODEL_f1c28df6fcd54e8285145e49189c6d70",
       "style": "IPY_MODEL_53c9da6c2cf54982b734591e31f4919b",
       "value": "Borough:string"
      }
     },
     "39de1e80afad4c02bac81950eac451a7": {
      "model_module": "@jupyter-widgets/controls",
      "model_module_version": "2.0.0",
      "model_name": "HTMLStyleModel",
      "state": {
       "description_width": "",
       "font_size": null,
       "text_color": null
      }
     },
     "3b39bf838bd345b1b6fe0c0cf9b8c431": {
      "model_module": "@jupyter-widgets/controls",
      "model_module_version": "2.0.0",
      "model_name": "ButtonStyleModel",
      "state": {
       "font_family": null,
       "font_size": null,
       "font_style": null,
       "font_variant": null,
       "font_weight": null,
       "text_color": null,
       "text_decoration": null
      }
     },
     "3c4ec3922bbb487c9365ac84cfb232a3": {
      "model_module": "@jupyter-widgets/base",
      "model_module_version": "2.0.0",
      "model_name": "LayoutModel",
      "state": {}
     },
     "3c6e773c9cb74ea0930e26dc325531d5": {
      "model_module": "@jupyter-widgets/controls",
      "model_module_version": "2.0.0",
      "model_name": "CheckboxStyleModel",
      "state": {
       "description_width": ""
      }
     },
     "3d2d6545eced4022981e00bd0fdf802e": {
      "model_module": "@jupyter-widgets/base",
      "model_module_version": "2.0.0",
      "model_name": "LayoutModel",
      "state": {
       "justify_content": "flex-end"
      }
     },
     "3d48de4d58574ecd86c581dd98d2e582": {
      "model_module": "@jupyter-widgets/controls",
      "model_module_version": "2.0.0",
      "model_name": "LabelModel",
      "state": {
       "layout": "IPY_MODEL_84bf9995e9e0445a8de7b67d74c999f7",
       "style": "IPY_MODEL_f993fb4340b54fe399e87c25068c1d6b",
       "value": "Mapping"
      }
     },
     "3d9f496f2eda43379411a57c9bdc0ea2": {
      "model_module": "@jupyter-widgets/base",
      "model_module_version": "2.0.0",
      "model_name": "LayoutModel",
      "state": {}
     },
     "3db7de84ef1e4fb1a84d160da413fa95": {
      "model_module": "@jupyter-widgets/base",
      "model_module_version": "2.0.0",
      "model_name": "LayoutModel",
      "state": {}
     },
     "3dfd9650c13141fa94b2a411b72c60a0": {
      "model_module": "@jupyter-widgets/controls",
      "model_module_version": "2.0.0",
      "model_name": "CheckboxModel",
      "state": {
       "disabled": true,
       "indent": false,
       "layout": "IPY_MODEL_67cf598d4ce546cb8895b275fb858cb6",
       "style": "IPY_MODEL_3c6e773c9cb74ea0930e26dc325531d5",
       "value": false
      }
     },
     "3e3436574fce4352b7bbf341ef0bf013": {
      "model_module": "@jupyter-widgets/controls",
      "model_module_version": "2.0.0",
      "model_name": "HTMLModel",
      "state": {
       "layout": "IPY_MODEL_168bc24b92cb4e38959cd9cbb034fd9d",
       "style": "IPY_MODEL_a1522a21835a4897bcb45aa54a139766"
      }
     },
     "3e93f21dec6448cb9402b0819b944835": {
      "model_module": "@jupyter-widgets/controls",
      "model_module_version": "2.0.0",
      "model_name": "ButtonModel",
      "state": {
       "description": "Apply",
       "disabled": true,
       "icon": "check",
       "layout": "IPY_MODEL_b32283dadce84314b3ab49e3c07cac8f",
       "style": "IPY_MODEL_c6fa7f175ac64231bf9cf8d3e2ef3d03",
       "tooltip": "Apply"
      }
     },
     "3fa69054912d4300bc8d835bd65ead16": {
      "model_module": "@jupyter-widgets/base",
      "model_module_version": "2.0.0",
      "model_name": "LayoutModel",
      "state": {}
     },
     "3fb55901d6694f58bef949f81d44a00c": {
      "model_module": "@jupyter-widgets/controls",
      "model_module_version": "2.0.0",
      "model_name": "FloatProgressModel",
      "state": {
       "layout": "IPY_MODEL_14c13312d99b49acaaf9f815ccb0103c",
       "style": "IPY_MODEL_ec01890bf88f4587b4615e8ee8983b47",
       "value": 50.00116849193974
      }
     },
     "40a745eb855c4eb786c6dfe722d035ca": {
      "model_module": "@jupyter-widgets/base",
      "model_module_version": "2.0.0",
      "model_name": "LayoutModel",
      "state": {}
     },
     "40fb043d984345d4b6ddc226af5f3fb7": {
      "model_module": "@jupyter-widgets/controls",
      "model_module_version": "2.0.0",
      "model_name": "LabelStyleModel",
      "state": {
       "description_width": "",
       "font_family": null,
       "font_size": null,
       "font_style": null,
       "font_variant": null,
       "font_weight": null,
       "text_color": null,
       "text_decoration": null
      }
     },
     "418a7cc7e4a3494995d481a1bb44300f": {
      "model_module": "@jupyter-widgets/base",
      "model_module_version": "2.0.0",
      "model_name": "LayoutModel",
      "state": {}
     },
     "41bd1f71a7a9402c8e4b3c2333845469": {
      "model_module": "@jupyter-widgets/base",
      "model_module_version": "2.0.0",
      "model_name": "LayoutModel",
      "state": {}
     },
     "4314e27b5bfd40e0823137d31e6f642f": {
      "model_module": "@jupyter-widgets/base",
      "model_module_version": "2.0.0",
      "model_name": "LayoutModel",
      "state": {}
     },
     "43b044c2c6b4426885f41e4d57795a8a": {
      "model_module": "@jupyter-widgets/base",
      "model_module_version": "2.0.0",
      "model_name": "LayoutModel",
      "state": {}
     },
     "43cbeb60db084121a38982e781a1d8c0": {
      "model_module": "@jupyter-widgets/base",
      "model_module_version": "2.0.0",
      "model_name": "LayoutModel",
      "state": {}
     },
     "449cd51773fb4442bb1e6f2070aabad6": {
      "model_module": "@jupyter-widgets/base",
      "model_module_version": "2.0.0",
      "model_name": "LayoutModel",
      "state": {}
     },
     "45e764d37bf846fcaeaa4a7a7b552ad6": {
      "model_module": "@jupyter-widgets/controls",
      "model_module_version": "2.0.0",
      "model_name": "HTMLStyleModel",
      "state": {
       "description_width": "",
       "font_size": null,
       "text_color": null
      }
     },
     "47d6ff3eed0741d6838b1c0d0a214f3e": {
      "model_module": "@jupyter-widgets/controls",
      "model_module_version": "2.0.0",
      "model_name": "CheckboxStyleModel",
      "state": {
       "description_width": ""
      }
     },
     "485850d50a5f4b59a204620d2e95b08a": {
      "model_module": "@jupyter-widgets/controls",
      "model_module_version": "2.0.0",
      "model_name": "HTMLModel",
      "state": {
       "layout": "IPY_MODEL_257e404f88a546f9b68589f42762962e",
       "style": "IPY_MODEL_bd56a3d4091f475288dfcc0e0d6bb68e"
      }
     },
     "485e1418baf345ee9334a69b34e8b80d": {
      "model_module": "@jupyter-widgets/controls",
      "model_module_version": "2.0.0",
      "model_name": "ButtonModel",
      "state": {
       "disabled": true,
       "icon": "refresh",
       "layout": "IPY_MODEL_baf9237bb0184dd9bcca9a2c55e6cc53",
       "style": "IPY_MODEL_1a7efb7301264d7096c9ee3117202539"
      }
     },
     "487b1d6b2a324aac84a05613ba08354f": {
      "model_module": "@jupyter-widgets/controls",
      "model_module_version": "2.0.0",
      "model_name": "LabelModel",
      "state": {
       "layout": "IPY_MODEL_8131012951d74076aa54c42a59c9ef44",
       "style": "IPY_MODEL_dac9ac7bea3a4e02a0e938bab7ee38bd",
       "value": "y"
      }
     },
     "48bb1ca2fa64452ca7a2eb2b21ecb7ec": {
      "model_module": "@jupyter-widgets/base",
      "model_module_version": "2.0.0",
      "model_name": "LayoutModel",
      "state": {}
     },
     "48bb5803e6db424abb55a3dda4f5fdea": {
      "model_module": "@jupyter-widgets/base",
      "model_module_version": "2.0.0",
      "model_name": "LayoutModel",
      "state": {}
     },
     "48d144f5c57d49288fdc1943080f0669": {
      "model_module": "@jupyter-widgets/base",
      "model_module_version": "2.0.0",
      "model_name": "LayoutModel",
      "state": {}
     },
     "490cb6215e07464ba65be1d9b6e8f5fe": {
      "model_module": "@jupyter-widgets/base",
      "model_module_version": "2.0.0",
      "model_name": "LayoutModel",
      "state": {}
     },
     "49825af29fd0485bbea1b54043a3e290": {
      "model_module": "@jupyter-widgets/controls",
      "model_module_version": "2.0.0",
      "model_name": "ButtonModel",
      "state": {
       "description": "Activate",
       "disabled": true,
       "icon": "check",
       "layout": "IPY_MODEL_40a745eb855c4eb786c6dfe722d035ca",
       "style": "IPY_MODEL_cd2220327bf149eea6a2dbd775f355db",
       "tooltip": "Activate"
      }
     },
     "4a12a77d19c543ae983b435f15a1bc9e": {
      "model_module": "@jupyter-widgets/controls",
      "model_module_version": "2.0.0",
      "model_name": "ProgressStyleModel",
      "state": {
       "description_width": "initial"
      }
     },
     "4a63c87ff30f4282a4fd1c90aea410ff": {
      "model_module": "@jupyter-widgets/base",
      "model_module_version": "2.0.0",
      "model_name": "LayoutModel",
      "state": {}
     },
     "4ae1e65940634b7fab9dca2cd1d061e2": {
      "model_module": "@jupyter-widgets/base",
      "model_module_version": "2.0.0",
      "model_name": "LayoutModel",
      "state": {}
     },
     "4b6ff1f26ba74e4e9569bcc88b1390bb": {
      "model_module": "@jupyter-widgets/controls",
      "model_module_version": "2.0.0",
      "model_name": "HBoxModel",
      "state": {
       "children": [
        "IPY_MODEL_8673be918c8c44b9a8728530ee12bd1e",
        "IPY_MODEL_9772e9237ed8448eb1e7f5f35ebefcc9",
        "IPY_MODEL_e496c6663cf14351bd8e3bcf76cb34d0"
       ],
       "layout": "IPY_MODEL_500de570e95743379e1014109059ce43"
      }
     },
     "4b8dde654dc3436f9a1cde7e03900f57": {
      "model_module": "@jupyter-widgets/controls",
      "model_module_version": "2.0.0",
      "model_name": "CheckboxStyleModel",
      "state": {
       "description_width": ""
      }
     },
     "4be11f7f292146c1b7d2c12edb7920c4": {
      "model_module": "@jupyter-widgets/controls",
      "model_module_version": "2.0.0",
      "model_name": "HTMLStyleModel",
      "state": {
       "description_width": "",
       "font_size": null,
       "text_color": null
      }
     },
     "4c607f630b5d4bf3a726a9e26a0c172f": {
      "model_module": "@jupyter-widgets/controls",
      "model_module_version": "2.0.0",
      "model_name": "TabModel",
      "state": {
       "children": [
        "IPY_MODEL_006c778dc7454b5e85e0d3e854d3a723",
        "IPY_MODEL_18adb3f3af5b4e5c8a3c3242912c4959"
       ],
       "layout": "IPY_MODEL_3db7de84ef1e4fb1a84d160da413fa95",
       "selected_index": 0,
       "titles": [
        "Modules",
        "Module graph"
       ]
      }
     },
     "4cd25e02878d43ce83796186dbd9fc95": {
      "model_module": "@jupyter-widgets/controls",
      "model_module_version": "2.0.0",
      "model_name": "IntSliderModel",
      "state": {
       "behavior": "drag-tap",
       "continuous_update": false,
       "description": "Display T:",
       "layout": "IPY_MODEL_240643e03b5a4e2baafbd806aac63f8c",
       "max": 10,
       "min": 1,
       "style": "IPY_MODEL_f7f20b8b072f45679906f0559b4fe1fc",
       "value": 1
      }
     },
     "4ce453d4f90f4effafb9b9b0a295654d": {
      "model_module": "@jupyter-widgets/base",
      "model_module_version": "2.0.0",
      "model_name": "LayoutModel",
      "state": {}
     },
     "4d9805a89b8f450d87042f7758cbcf4a": {
      "model_module": "@jupyter-widgets/controls",
      "model_module_version": "2.0.0",
      "model_name": "DescriptionStyleModel",
      "state": {
       "description_width": ""
      }
     },
     "4dc54103b5474537aa48e944b8b22adc": {
      "model_module": "@jupyter-widgets/controls",
      "model_module_version": "2.0.0",
      "model_name": "HBoxModel",
      "state": {
       "children": [
        "IPY_MODEL_9eeba1ee65544348a1957883e8ee027b",
        "IPY_MODEL_a29298012ab04facb447fb3f3d54a795",
        "IPY_MODEL_f5b017f6c54e4477bf71937411c646c5"
       ],
       "layout": "IPY_MODEL_e9bb8f82ece34903bcfbd63296618c43"
      }
     },
     "4e385a1c9fa84281bb3b2089e62db811": {
      "model_module": "@jupyter-widgets/controls",
      "model_module_version": "2.0.0",
      "model_name": "HTMLModel",
      "state": {
       "layout": "IPY_MODEL_eaf66a9e8026456c8be31ac575c6aa79",
       "style": "IPY_MODEL_74c199ce335a490582f8aaebecdc9f53"
      }
     },
     "4ea1ab23c44147739df252b295982c8a": {
      "model_module": "@jupyter-widgets/controls",
      "model_module_version": "2.0.0",
      "model_name": "HTMLModel",
      "state": {
       "layout": "IPY_MODEL_fed641fc1939421bb33427feea84671b",
       "style": "IPY_MODEL_f60cab8117494141b80ec339f8ebbb00"
      }
     },
     "4f1bc5786229423ca9a69486442ae804": {
      "model_module": "@jupyter-widgets/base",
      "model_module_version": "2.0.0",
      "model_name": "LayoutModel",
      "state": {}
     },
     "4fa884b4af8e47aab8a87d5ffdd744da": {
      "model_module": "@jupyter-widgets/base",
      "model_module_version": "2.0.0",
      "model_name": "LayoutModel",
      "state": {}
     },
     "500de570e95743379e1014109059ce43": {
      "model_module": "@jupyter-widgets/base",
      "model_module_version": "2.0.0",
      "model_name": "LayoutModel",
      "state": {}
     },
     "51659b81f52e43ad874758cc46bc165f": {
      "model_module": "@jupyter-widgets/controls",
      "model_module_version": "2.0.0",
      "model_name": "DescriptionStyleModel",
      "state": {
       "description_width": ""
      }
     },
     "51be6b138e6d46a996139292b52ee34f": {
      "model_module": "@jupyter-widgets/base",
      "model_module_version": "2.0.0",
      "model_name": "LayoutModel",
      "state": {}
     },
     "51d7032c1d9c439ca64dbec6aa36712e": {
      "model_module": "@jupyter-widgets/base",
      "model_module_version": "2.0.0",
      "model_name": "LayoutModel",
      "state": {}
     },
     "52632d16577043dda42e4f4fa195a8b9": {
      "model_module": "@jupyter-widgets/controls",
      "model_module_version": "2.0.0",
      "model_name": "HTMLModel",
      "state": {
       "layout": "IPY_MODEL_708eba91e5174608a30edeec9f318d7d",
       "style": "IPY_MODEL_addd3c4f1d604a7a9b979f909eb32183"
      }
     },
     "5290b6212a7b4498b179676113ec14b0": {
      "model_module": "@jupyter-widgets/controls",
      "model_module_version": "2.0.0",
      "model_name": "HTMLModel",
      "state": {
       "layout": "IPY_MODEL_e5103ed0ffb346adbce2db7f455b939a",
       "style": "IPY_MODEL_99b9766534c24e4d815dc43149df9ad7"
      }
     },
     "537699ee805447c28eedbfc0a0c035cc": {
      "model_module": "@jupyter-widgets/base",
      "model_module_version": "2.0.0",
      "model_name": "LayoutModel",
      "state": {}
     },
     "53c9da6c2cf54982b734591e31f4919b": {
      "model_module": "@jupyter-widgets/controls",
      "model_module_version": "2.0.0",
      "model_name": "LabelStyleModel",
      "state": {
       "description_width": "",
       "font_family": null,
       "font_size": null,
       "font_style": null,
       "font_variant": null,
       "font_weight": null,
       "text_color": null,
       "text_decoration": null
      }
     },
     "55402f9d1d9242c79ea88f822b69baf0": {
      "model_module": "@jupyter-widgets/base",
      "model_module_version": "2.0.0",
      "model_name": "LayoutModel",
      "state": {}
     },
     "569b46cddd9d4a6e9d52f6d95c5ec714": {
      "model_module": "@jupyter-widgets/controls",
      "model_module_version": "2.0.0",
      "model_name": "TextStyleModel",
      "state": {
       "description_width": "initial",
       "font_size": null,
       "text_color": null
      }
     },
     "56da5712d01e4bdb82a88f66401c5326": {
      "model_module": "@jupyter-widgets/base",
      "model_module_version": "2.0.0",
      "model_name": "LayoutModel",
      "state": {}
     },
     "57a02795b26c4a03a513724918ab79b4": {
      "model_module": "@jupyter-widgets/base",
      "model_module_version": "2.0.0",
      "model_name": "LayoutModel",
      "state": {}
     },
     "5841d8d52fda42a1b4796806be1d615a": {
      "model_module": "@jupyter-widgets/controls",
      "model_module_version": "2.0.0",
      "model_name": "CheckboxStyleModel",
      "state": {
       "description_width": ""
      }
     },
     "588f0a212274408cb2b326a0177d883a": {
      "model_module": "@jupyter-widgets/base",
      "model_module_version": "2.0.0",
      "model_name": "LayoutModel",
      "state": {}
     },
     "58e0ffd3dfa64277a717e19e4f6943ca": {
      "model_module": "@jupyter-widgets/controls",
      "model_module_version": "2.0.0",
      "model_name": "ButtonModel",
      "state": {
       "description": "Chain it",
       "disabled": true,
       "icon": "check",
       "layout": "IPY_MODEL_1ebb791803a54716a63f9967615b1a66",
       "style": "IPY_MODEL_ebdd700ccf1d4817bfa7b1178f2007b4",
       "tooltip": "Chain it"
      }
     },
     "59086a4fe8ea42cd9954a5ffd70ac39d": {
      "model_module": "@jupyter-widgets/base",
      "model_module_version": "2.0.0",
      "model_name": "LayoutModel",
      "state": {}
     },
     "5920c65dc5224c84bea5295825137469": {
      "model_module": "@jupyter-widgets/base",
      "model_module_version": "2.0.0",
      "model_name": "LayoutModel",
      "state": {}
     },
     "593d902d8f3f4e41a5d1cd464ca72be3": {
      "model_module": "@jupyter-widgets/controls",
      "model_module_version": "2.0.0",
      "model_name": "HBoxModel",
      "state": {
       "children": [
        "IPY_MODEL_7cf6c7c50a544c248295e9dee9df3498",
        "IPY_MODEL_1fefefac50604ac0907ebd1db0bec11c",
        "IPY_MODEL_26366f9d893e4e729b9017514d418661"
       ],
       "layout": "IPY_MODEL_57a02795b26c4a03a513724918ab79b4"
      }
     },
     "5977c9eb36d342b0aa72bf1025f43479": {
      "model_module": "@jupyter-widgets/controls",
      "model_module_version": "2.0.0",
      "model_name": "HTMLModel",
      "state": {
       "layout": "IPY_MODEL_449cd51773fb4442bb1e6f2070aabad6",
       "style": "IPY_MODEL_bbd7668356f24186a3c92e1a542cb5d5"
      }
     },
     "59b4b26b1a9b4308bedaaab470bf7f0f": {
      "model_module": "@jupyter-widgets/controls",
      "model_module_version": "2.0.0",
      "model_name": "LabelModel",
      "state": {
       "layout": "IPY_MODEL_87265cb16e9148598e355c48e585df78",
       "style": "IPY_MODEL_bc6838f19117443a92009ee3cd5cd5f0",
       "value": "x"
      }
     },
     "5a0cd6c6baff453caca017ec5208aa38": {
      "model_module": "@jupyter-widgets/controls",
      "model_module_version": "2.0.0",
      "model_name": "RadioButtonsModel",
      "state": {
       "_options_labels": [
        "columns",
        "datetime subcolumn",
        "multi index subcolumn"
       ],
       "description": "Grouping mode:",
       "disabled": true,
       "index": 0,
       "layout": "IPY_MODEL_885df530f8754bd0a2aaacc1ed2c1073",
       "style": "IPY_MODEL_18bd3c8303414d4ba4747eb2e5a6b100"
      }
     },
     "5afc7d161cf440bab7ddc744247bdabf": {
      "model_module": "@jupyter-widgets/controls",
      "model_module_version": "2.0.0",
      "model_name": "ButtonStyleModel",
      "state": {
       "font_family": null,
       "font_size": null,
       "font_style": null,
       "font_variant": null,
       "font_weight": null,
       "text_color": null,
       "text_decoration": null
      }
     },
     "5ba1daf34e7444dd9c0fa68ef1edf698": {
      "model_module": "@jupyter-widgets/base",
      "model_module_version": "2.0.0",
      "model_name": "LayoutModel",
      "state": {}
     },
     "5c2d6a8572894a5c9e8b3a3f1815da2b": {
      "model_module": "@jupyter-widgets/controls",
      "model_module_version": "2.0.0",
      "model_name": "DescriptionStyleModel",
      "state": {
       "description_width": ""
      }
     },
     "5cc836b6d835430baada64ec1775aee5": {
      "model_module": "@jupyter-widgets/base",
      "model_module_version": "2.0.0",
      "model_name": "LayoutModel",
      "state": {}
     },
     "5cc899195d3749ceb7570c51e7d84890": {
      "model_module": "@jupyter-widgets/base",
      "model_module_version": "2.0.0",
      "model_name": "LayoutModel",
      "state": {}
     },
     "5e08bb4b07d748caa951453ad30d6e42": {
      "model_module": "@jupyter-widgets/base",
      "model_module_version": "2.0.0",
      "model_name": "LayoutModel",
      "state": {}
     },
     "5e9bab5ad7714dd7a642903cf3a1228a": {
      "model_module": "jupyter-progressivis",
      "model_module_version": "^0.1.0",
      "model_name": "VegaWidgetModel",
      "state": {
       "_df": null,
       "_img_url": "{\"width\":577,\"height\":496,\"url\":\"data:image/png;base64,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\"}",
       "_model_module": "jupyter-progressivis",
       "_model_module_version": "^0.1.0",
       "_opt_source": "null",
       "_spec_source": "{\"$schema\": \"https://vega.github.io/schema/vega-lite/v6.json\", \"width\": 500, \"height\": 400, \"description\": \"Bar chart\", \"data\": {\"name\": \"data\"}, \"mark\": \"bar\", \"encoding\": {\"x\": {\"field\": \"Borough\", \"type\": \"nominal\"}, \"y\": {\"field\": \"passenger_count_sum\", \"type\": \"quantitative\"}}}",
       "_view_module": "jupyter-progressivis",
       "_view_module_version": "^0.1.0",
       "layout": "IPY_MODEL_ad3ee649e9e94eba89dfed82fedae636"
      }
     },
     "5ea4094b422342baabc2b4cb92f0a714": {
      "model_module": "@jupyter-widgets/controls",
      "model_module_version": "2.0.0",
      "model_name": "CheckboxStyleModel",
      "state": {
       "description_width": ""
      }
     },
     "5eebed0855e646699e43d70a097b62f7": {
      "model_module": "@jupyter-widgets/base",
      "model_module_version": "2.0.0",
      "model_name": "LayoutModel",
      "state": {}
     },
     "5fe22b87efa84a64a406cad36e8569e9": {
      "model_module": "@jupyter-widgets/base",
      "model_module_version": "2.0.0",
      "model_name": "LayoutModel",
      "state": {}
     },
     "60c5ca01ee2546dba85608b985aaba61": {
      "model_module": "@jupyter-widgets/controls",
      "model_module_version": "2.0.0",
      "model_name": "CheckboxModel",
      "state": {
       "disabled": true,
       "indent": false,
       "layout": "IPY_MODEL_1aa4e21b72c84d1b9985ccfacbacc374",
       "style": "IPY_MODEL_9e95d4c99d954ac592c6a64f622f0e6b",
       "value": false
      }
     },
     "62196f8dbae24edea21586a21b52ac7d": {
      "model_module": "@jupyter-widgets/controls",
      "model_module_version": "2.0.0",
      "model_name": "ButtonStyleModel",
      "state": {
       "font_family": null,
       "font_size": null,
       "font_style": null,
       "font_variant": null,
       "font_weight": null,
       "text_color": null,
       "text_decoration": null
      }
     },
     "622cda18e8e743f596250cad9644c840": {
      "model_module": "@jupyter-widgets/base",
      "model_module_version": "2.0.0",
      "model_name": "LayoutModel",
      "state": {}
     },
     "633dac3c517e467a86a02ac5e2c2fbbe": {
      "model_module": "@jupyter-widgets/controls",
      "model_module_version": "2.0.0",
      "model_name": "CheckboxStyleModel",
      "state": {
       "description_width": ""
      }
     },
     "64bb18a84f794ceaacda48ba5c759bb9": {
      "model_module": "@jupyter-widgets/controls",
      "model_module_version": "2.0.0",
      "model_name": "TextModel",
      "state": {
       "layout": "IPY_MODEL_ad5063bbfabf4fd1a8abef8529a562b8",
       "placeholder": "optional alias",
       "style": "IPY_MODEL_1705540fb5ef4534811eb1f3b16e0df6"
      }
     },
     "64f39d37d9d248e498fef633b29332d9": {
      "model_module": "@jupyter-widgets/base",
      "model_module_version": "2.0.0",
      "model_name": "LayoutModel",
      "state": {}
     },
     "651aca0658c84c1bbdb0c5fe4271506b": {
      "model_module": "@jupyter-widgets/controls",
      "model_module_version": "2.0.0",
      "model_name": "ButtonStyleModel",
      "state": {
       "font_family": null,
       "font_size": null,
       "font_style": null,
       "font_variant": null,
       "font_weight": null,
       "text_color": null,
       "text_decoration": null
      }
     },
     "65e99e8eb4ea4b3a93c9ada9df5e6015": {
      "model_module": "@jupyter-widgets/controls",
      "model_module_version": "2.0.0",
      "model_name": "ButtonStyleModel",
      "state": {
       "font_family": null,
       "font_size": null,
       "font_style": null,
       "font_variant": null,
       "font_weight": null,
       "text_color": null,
       "text_decoration": null
      }
     },
     "65eb5037bb0e474a961dc58c1f5411aa": {
      "model_module": "@jupyter-widgets/controls",
      "model_module_version": "2.0.0",
      "model_name": "ButtonModel",
      "state": {
       "button_style": "danger",
       "disabled": true,
       "icon": "trash",
       "layout": "IPY_MODEL_41bd1f71a7a9402c8e4b3c2333845469",
       "style": "IPY_MODEL_088b5a72845c494e8f0a954fdaad29c6"
      }
     },
     "66236ac471ef4162ba7be91dfafddc28": {
      "model_module": "@jupyter-widgets/controls",
      "model_module_version": "2.0.0",
      "model_name": "HTMLModel",
      "state": {
       "layout": "IPY_MODEL_d476ff67a75949299233a4a20d946257",
       "style": "IPY_MODEL_6a71cdb66c2a43308fa4db1e461bace9"
      }
     },
     "67cf598d4ce546cb8895b275fb858cb6": {
      "model_module": "@jupyter-widgets/base",
      "model_module_version": "2.0.0",
      "model_name": "LayoutModel",
      "state": {}
     },
     "685831b8f06b4e34b7c58f4f1140e979": {
      "model_module": "@jupyter-widgets/controls",
      "model_module_version": "2.0.0",
      "model_name": "DescriptionStyleModel",
      "state": {
       "description_width": ""
      }
     },
     "6874f7a6e346420da558c04e4c6814b8": {
      "model_module": "@jupyter-widgets/controls",
      "model_module_version": "2.0.0",
      "model_name": "CheckboxModel",
      "state": {
       "disabled": true,
       "indent": false,
       "layout": "IPY_MODEL_027cae0eb2464b84bf2af371fe17cc33",
       "style": "IPY_MODEL_139a7f273e3b45a6a5cc91e672702add",
       "value": false
      }
     },
     "68912109087b4174b3157658e6dc3f12": {
      "model_module": "@jupyter-widgets/controls",
      "model_module_version": "2.0.0",
      "model_name": "HTMLModel",
      "state": {
       "layout": "IPY_MODEL_efc9e3799e5f4f299a012c6e47e29e8f",
       "style": "IPY_MODEL_45e764d37bf846fcaeaa4a7a7b552ad6"
      }
     },
     "691f97d7d9814ed48f8c4f0d201d3bf0": {
      "buffers": [
       {
        "data": "IyBwcm9ncmVzc2l2aXMtc25pcHBldAppbXBvcnQgdGVtcGZpbGUKZnJvbSBwYXRobGliIGltcG9ydCBQYXRoCmZyb20gcHJvZ3Jlc3NpdmlzLmRhdGFzZXRzLndnZXQgaW1wb3J0IHdnZXRfZmlsZQpmcm9tIHByb2dyZXNzaXZpcyBpbXBvcnQgU2luaywgQXJyb3dCYXRjaExvYWRlcgppbXBvcnQgZHVja2RiCmltcG9ydCBweWFycm93LnBhcnF1ZXQgYXMgcHEKdGQgPSB0ZW1wZmlsZS5UZW1wb3JhcnlEaXJlY3RvcnkoKQp0YXhpc191cmwgPSAiaHR0cHM6Ly9kMzdjaTZ2enVyeWNoeC5jbG91ZGZyb250Lm5ldC90cmlwLWRhdGEveWVsbG93X3RyaXBkYXRhXzIwMTUtMDUucGFycXVldCIKdGF4aXNfZmlsZSA9IFBhdGgodGQubmFtZSkgLyAieWVsbG93X3RyaXBkYXRhXzIwMTUtMDUucGFycXVldCIKem9uZXNfdXJsID0gImh0dHBzOi8vZDM3Y2k2dnp1cnljaHguY2xvdWRmcm9udC5uZXQvbWlzYy90YXhpX3pvbmVfbG9va3VwLmNzdiIKem9uZXNfZmlsZSA9IFBhdGgodGQubmFtZSkgLyAidGF4aV96b25lX2xvb2t1cC5jc3YiClNRTCA9ICgKICAgIGYiU0VMRUNUIHR4LnRwZXBfcGlja3VwX2RhdGV0aW1lLCB0eC50cGVwX2Ryb3BvZmZfZGF0ZXRpbWUsIHR4LnBhc3Nlbmdlcl9jb3VudCwgem4uQm9yb3VnaCIKICAgIGYiIEZST00gcmVhZF9wYXJxdWV0KCd7dGF4aXNfZmlsZX0nKSB0eCwgcmVhZF9jc3YoJ3t6b25lc19maWxlfScpIHpuIgogICAgIiBXSEVSRSB0eC5QVUxvY2F0aW9uSUQ9em4uTG9jYXRpb25JRCIKKQp0cnk6CiAgICB3Z2V0X2ZpbGUodXJsPXRheGlzX3VybCwgZmlsZW5hbWU9dGF4aXNfZmlsZSkKICAgIHdnZXRfZmlsZSh1cmw9em9uZXNfdXJsLCBmaWxlbmFtZT16b25lc19maWxlKQogICAgY29uID0gZHVja2RiLmNvbm5lY3QoZGF0YWJhc2U9IjptZW1vcnk6IikKICAgIG5fcm93cyA9IHBxLlBhcnF1ZXRGaWxlKHRheGlzX2ZpbGUpLm1ldGFkYXRhLm51bV9yb3dzCiAgICBjb24uZXhlY3V0ZShTUUwpCiAgICByZWFkZXIgPSBjb24uZmV0Y2hfcmVjb3JkX2JhdGNoKDEwMDApCmZpbmFsbHk6CiAgICB0ZC5jbGVhbnVwKCkKCkByZWdpc3Rlcl9zbmlwcGV0CmRlZiB0YXhpc196b25lcyhpbnB1dF9tb2R1bGUsIGlucHV0X3Nsb3QsIGNvbHVtbnMpOgogICAgc2NoZWR1bGVyID0gaW5wdXRfbW9kdWxlLnNjaGVkdWxlcgogICAgd2l0aCBzY2hlZHVsZXI6CiAgICAgICAgZGF0YSA9ICBBcnJvd0JhdGNoTG9hZGVyKHJlYWRlcj1yZWFkZXIsIG5fcm93cz1uX3Jvd3MsIHNjaGVkdWxlcj1zY2hlZHVsZXIpCiAgICAgICAgc2luayA9IFNpbmsoc2NoZWR1bGVyPXNjaGVkdWxlcikKICAgICAgICBzaW5rLmlucHV0LmlucCA9IGRhdGEub3V0cHV0LnJlc3VsdAogICAgcmV0dXJuIFNuaXBwZXRSZXN1bHQob3V0cHV0X21vZHVsZT1kYXRhLCBvdXRwdXRfc2xvdD0icmVzdWx0IikK",
        "encoding": "base64",
        "path": [
         "value",
         0,
         "content"
        ]
       }
      ],
      "model_module": "@jupyter-widgets/controls",
      "model_module_version": "2.0.0",
      "model_name": "FileUploadModel",
      "state": {
       "accept": ".py",
       "description": "",
       "description_allow_html": false,
       "disabled": true,
       "layout": "IPY_MODEL_31c3a27e8b574c81981b944c34162800",
       "multiple": true,
       "style": "IPY_MODEL_c7b296ecccc24ca59cd3368371449360",
       "value": [
        {
         "last_modified": 1761246790561,
         "name": "taxis_zones.py",
         "size": 1413,
         "type": "text/x-python"
        }
       ]
      }
     },
     "69f6e69088c848dfb285255d3c996d8d": {
      "model_module": "@jupyter-widgets/base",
      "model_module_version": "2.0.0",
      "model_name": "LayoutModel",
      "state": {
       "justify_content": "flex-end"
      }
     },
     "6a4d3b63785f47eb8f3cd0222334aece": {
      "model_module": "@jupyter-widgets/controls",
      "model_module_version": "2.0.0",
      "model_name": "CheckboxStyleModel",
      "state": {
       "description_width": ""
      }
     },
     "6a71cdb66c2a43308fa4db1e461bace9": {
      "model_module": "@jupyter-widgets/controls",
      "model_module_version": "2.0.0",
      "model_name": "HTMLStyleModel",
      "state": {
       "description_width": "",
       "font_size": null,
       "text_color": null
      }
     },
     "6aabfde403c04c48b5a4095fc9d84cd7": {
      "model_module": "@jupyter-widgets/base",
      "model_module_version": "2.0.0",
      "model_name": "LayoutModel",
      "state": {}
     },
     "6b892dd934f642658f1af50c89b6b06f": {
      "model_module": "@jupyter-widgets/base",
      "model_module_version": "2.0.0",
      "model_name": "LayoutModel",
      "state": {}
     },
     "6bdf4d0798af4e0ba9fce313ced7566a": {
      "model_module": "jupyter-progressivis",
      "model_module_version": "^0.1.0",
      "model_name": "BackupModel",
      "state": {
       "_model_module_version": "^0.1.0",
       "_view_module_version": "^0.1.0",
       "layout": "IPY_MODEL_776b75148c6647da8091af3d64de2c07"
      }
     },
     "6c20513ce2fb45c580d049c4578be8c5": {
      "model_module": "jupyter-progressivis",
      "model_module_version": "^0.1.0",
      "model_name": "TalkerModel",
      "state": {
       "_model_module_version": "^0.1.0",
       "_view_module_version": "^0.1.0",
       "layout": "IPY_MODEL_8da11f7e1df74d4cb2ee127bd470b3b2"
      }
     },
     "6ca5e167563242568c76482f31914294": {
      "model_module": "@jupyter-widgets/base",
      "model_module_version": "2.0.0",
      "model_name": "LayoutModel",
      "state": {}
     },
     "6d12cee050be47a19e2f43762f8187ed": {
      "model_module": "@jupyter-widgets/base",
      "model_module_version": "2.0.0",
      "model_name": "LayoutModel",
      "state": {}
     },
     "6e26c709889f44baafd26b3d8f4bd3f7": {
      "model_module": "@jupyter-widgets/controls",
      "model_module_version": "2.0.0",
      "model_name": "HBoxModel",
      "state": {
       "children": [
        "IPY_MODEL_65eb5037bb0e474a961dc58c1f5411aa"
       ],
       "layout": "IPY_MODEL_3d2d6545eced4022981e00bd0fdf802e"
      }
     },
     "6e416051c6f9450cb16d510872e4f402": {
      "model_module": "@jupyter-widgets/base",
      "model_module_version": "2.0.0",
      "model_name": "LayoutModel",
      "state": {}
     },
     "6e4b108e44fe4a0cb3af692661e65b7d": {
      "model_module": "@jupyter-widgets/controls",
      "model_module_version": "2.0.0",
      "model_name": "SliderStyleModel",
      "state": {
       "description_width": "initial"
      }
     },
     "6e6597daf394413298b84750246ca325": {
      "model_module": "@jupyter-widgets/controls",
      "model_module_version": "2.0.0",
      "model_name": "LabelModel",
      "state": {
       "layout": "IPY_MODEL_64f39d37d9d248e498fef633b29332d9",
       "style": "IPY_MODEL_88039ed956954ddab498c1a41f698d7a",
       "value": "tpep_dropoff_datetime:datetime64"
      }
     },
     "6f8e36bced7d43629577d264ac0bb7d2": {
      "model_module": "@jupyter-widgets/base",
      "model_module_version": "2.0.0",
      "model_name": "LayoutModel",
      "state": {}
     },
     "6fae4077aa484b0bb0546b1ced28fd39": {
      "model_module": "@jupyter-widgets/controls",
      "model_module_version": "2.0.0",
      "model_name": "CheckboxStyleModel",
      "state": {
       "description_width": ""
      }
     },
     "708eba91e5174608a30edeec9f318d7d": {
      "model_module": "@jupyter-widgets/base",
      "model_module_version": "2.0.0",
      "model_name": "LayoutModel",
      "state": {}
     },
     "70bd62fcf3124b9aad803d48836cece7": {
      "model_module": "@jupyter-widgets/base",
      "model_module_version": "2.0.0",
      "model_name": "LayoutModel",
      "state": {}
     },
     "717ac3265c984c7bb3595bedc811a05e": {
      "model_module": "@jupyter-widgets/base",
      "model_module_version": "2.0.0",
      "model_name": "LayoutModel",
      "state": {}
     },
     "71c72305eb50469b97487e9ed57ae852": {
      "model_module": "@jupyter-widgets/controls",
      "model_module_version": "2.0.0",
      "model_name": "HTMLModel",
      "state": {
       "layout": "IPY_MODEL_48bb5803e6db424abb55a3dda4f5fdea",
       "style": "IPY_MODEL_8fa3232caffb4d7b9dfd610cdd2e3d21"
      }
     },
     "721c67ee4ae44b319247b4a1ec01f759": {
      "model_module": "@jupyter-widgets/controls",
      "model_module_version": "2.0.0",
      "model_name": "HTMLModel",
      "state": {
       "layout": "IPY_MODEL_622cda18e8e743f596250cad9644c840",
       "style": "IPY_MODEL_965498aac2c24fa496ce1c579bfc6f54"
      }
     },
     "722ff62e340144f0a3772cfa8bf33b51": {
      "model_module": "@jupyter-widgets/base",
      "model_module_version": "2.0.0",
      "model_name": "LayoutModel",
      "state": {}
     },
     "727f48dd07b14597928ce4b433fde351": {
      "model_module": "@jupyter-widgets/base",
      "model_module_version": "2.0.0",
      "model_name": "LayoutModel",
      "state": {}
     },
     "72bf3c1b16094523a35290764fe3d979": {
      "model_module": "@jupyter-widgets/controls",
      "model_module_version": "2.0.0",
      "model_name": "CheckboxStyleModel",
      "state": {
       "description_width": ""
      }
     },
     "72c024ea73c341af877fe721fb25e71e": {
      "model_module": "@jupyter-widgets/base",
      "model_module_version": "2.0.0",
      "model_name": "LayoutModel",
      "state": {}
     },
     "72e89ebbd9384d22ba2bdb10ee33b520": {
      "model_module": "@jupyter-widgets/controls",
      "model_module_version": "2.0.0",
      "model_name": "DropdownModel",
      "state": {
       "_options_labels": [
        "",
        "enumerate",
        "cbrt"
       ],
       "disabled": true,
       "index": 0,
       "layout": "IPY_MODEL_ed29864ea51d4f6bbe43ddada8723ba5",
       "style": "IPY_MODEL_aacb3caa73024c15a42978a75e136eb2"
      }
     },
     "73283a4a14a948d49d7a08a4fd434fe1": {
      "model_module": "@jupyter-widgets/controls",
      "model_module_version": "2.0.0",
      "model_name": "HTMLStyleModel",
      "state": {
       "description_width": "",
       "font_size": null,
       "text_color": null
      }
     },
     "73628b8554884f028dca8393b0ce47a7": {
      "model_module": "@jupyter-widgets/controls",
      "model_module_version": "2.0.0",
      "model_name": "IntProgressModel",
      "state": {
       "description": "Progress",
       "layout": "IPY_MODEL_ca3565c6afad4645b54c45d8bd0dff70",
       "max": 13157677,
       "style": "IPY_MODEL_ba7227e2ea8b43f485649b4bb3c83b43",
       "value": 4107000
      }
     },
     "736b6ba2adf147e18f6d523ef1e70a5c": {
      "model_module": "@jupyter-widgets/controls",
      "model_module_version": "2.0.0",
      "model_name": "HTMLStyleModel",
      "state": {
       "description_width": "",
       "font_size": null,
       "text_color": null
      }
     },
     "73ce354907c346649d70dd8bb68b2741": {
      "model_module": "@jupyter-widgets/base",
      "model_module_version": "2.0.0",
      "model_name": "LayoutModel",
      "state": {}
     },
     "73eb52b6a4d64d9589cafa209b498f45": {
      "model_module": "@jupyter-widgets/controls",
      "model_module_version": "2.0.0",
      "model_name": "HTMLModel",
      "state": {
       "layout": "IPY_MODEL_8d780821b64f4ee3bd90a7f471204207",
       "style": "IPY_MODEL_eac759fa97b7426a9dbea525ff5d20c6"
      }
     },
     "73ef2b061b124673a131951cc82aeb42": {
      "model_module": "@jupyter-widgets/controls",
      "model_module_version": "2.0.0",
      "model_name": "HTMLStyleModel",
      "state": {
       "description_width": "",
       "font_size": null,
       "text_color": null
      }
     },
     "744ad831c7044cb7950b80305b527074": {
      "model_module": "@jupyter-widgets/controls",
      "model_module_version": "2.0.0",
      "model_name": "DescriptionStyleModel",
      "state": {
       "description_width": ""
      }
     },
     "74adbe6cd540477188271c8fe38f1edf": {
      "model_module": "@jupyter-widgets/controls",
      "model_module_version": "2.0.0",
      "model_name": "LabelStyleModel",
      "state": {
       "description_width": "",
       "font_family": null,
       "font_size": null,
       "font_style": null,
       "font_variant": null,
       "font_weight": null,
       "text_color": null,
       "text_decoration": null
      }
     },
     "74c199ce335a490582f8aaebecdc9f53": {
      "model_module": "@jupyter-widgets/controls",
      "model_module_version": "2.0.0",
      "model_name": "HTMLStyleModel",
      "state": {
       "description_width": "",
       "font_size": null,
       "text_color": null
      }
     },
     "75b2447ccbed44009185b3a06270d77e": {
      "model_module": "@jupyter-widgets/base",
      "model_module_version": "2.0.0",
      "model_name": "LayoutModel",
      "state": {
       "height": "30px",
       "width": "30px"
      }
     },
     "76302fdd52d3416e8e20fa7c4ffbae7f": {
      "model_module": "@jupyter-widgets/controls",
      "model_module_version": "2.0.0",
      "model_name": "CheckboxModel",
      "state": {
       "disabled": true,
       "indent": false,
       "layout": "IPY_MODEL_ffd33a0cd8f44efbb5b6cdb8b34ea40d",
       "style": "IPY_MODEL_c93e468ce291411a96de72f961f47c94",
       "value": false
      }
     },
     "776b75148c6647da8091af3d64de2c07": {
      "model_module": "@jupyter-widgets/base",
      "model_module_version": "2.0.0",
      "model_name": "LayoutModel",
      "state": {}
     },
     "77b237efa4184e3592bc4de1399825c1": {
      "model_module": "@jupyter-widgets/controls",
      "model_module_version": "2.0.0",
      "model_name": "ButtonStyleModel",
      "state": {
       "font_family": null,
       "font_size": null,
       "font_style": null,
       "font_variant": null,
       "font_weight": null,
       "text_color": null,
       "text_decoration": null
      }
     },
     "785a10b40bfe40e5986f1ef8b696bdaa": {
      "model_module": "@jupyter-widgets/base",
      "model_module_version": "2.0.0",
      "model_name": "LayoutModel",
      "state": {}
     },
     "791ecd0a9db14fb1a253dff30ac867ca": {
      "model_module": "@jupyter-widgets/controls",
      "model_module_version": "2.0.0",
      "model_name": "VBoxModel",
      "state": {
       "children": [
        "IPY_MODEL_73628b8554884f028dca8393b0ce47a7",
        "IPY_MODEL_94958625a1214f54b37b6bdc0d9dd952"
       ],
       "layout": "IPY_MODEL_7e8a50cc48284143afc8a3aa729a1e29"
      }
     },
     "794412de504f402eb3f11e33a1e27c2d": {
      "model_module": "@jupyter-widgets/controls",
      "model_module_version": "2.0.0",
      "model_name": "CheckboxStyleModel",
      "state": {
       "description_width": ""
      }
     },
     "79df9c80449d425888b7eff82607ec70": {
      "model_module": "@jupyter-widgets/controls",
      "model_module_version": "2.0.0",
      "model_name": "HTMLModel",
      "state": {
       "layout": "IPY_MODEL_ddd88083f3e84a67abfae69e80a5193a",
       "style": "IPY_MODEL_169bf42b13734149b0614267be0954f2"
      }
     },
     "79eefbc972544ba68d7a15d8a0e28c23": {
      "model_module": "@jupyter-widgets/base",
      "model_module_version": "2.0.0",
      "model_name": "LayoutModel",
      "state": {}
     },
     "7aaf0ec709664b67adbc0806d1faf70b": {
      "model_module": "@jupyter-widgets/controls",
      "model_module_version": "2.0.0",
      "model_name": "IntSliderModel",
      "state": {
       "behavior": "drag-tap",
       "continuous_update": false,
       "description": "Display T:",
       "layout": "IPY_MODEL_f68403a9849f45899e2d5c6d45e61eb5",
       "max": 10,
       "min": 1,
       "style": "IPY_MODEL_ff4b3a3808384e3c89409314783d8803",
       "value": 1
      }
     },
     "7ab1e6e9bcfc4d84af5ed13f81559189": {
      "model_module": "@jupyter-widgets/base",
      "model_module_version": "2.0.0",
      "model_name": "LayoutModel",
      "state": {}
     },
     "7ac6ad9fd3734b8280a1c56bf73a3293": {
      "model_module": "@jupyter-widgets/controls",
      "model_module_version": "2.0.0",
      "model_name": "TextStyleModel",
      "state": {
       "description_width": "initial",
       "font_size": null,
       "text_color": null
      }
     },
     "7b985e118e5d47a3bdf97d59b6d219fe": {
      "model_module": "@jupyter-widgets/controls",
      "model_module_version": "2.0.0",
      "model_name": "CheckboxModel",
      "state": {
       "disabled": true,
       "indent": false,
       "layout": "IPY_MODEL_df43181a049c412fa4c830c38111ec90",
       "style": "IPY_MODEL_dd807c13277d4a459beead11b97ee307",
       "value": false
      }
     },
     "7bfae398bc8d4a35b5604bcd55a71b3d": {
      "model_module": "@jupyter-widgets/base",
      "model_module_version": "2.0.0",
      "model_name": "LayoutModel",
      "state": {}
     },
     "7cf6c7c50a544c248295e9dee9df3498": {
      "model_module": "@jupyter-widgets/controls",
      "model_module_version": "2.0.0",
      "model_name": "DropdownModel",
      "state": {
       "_options_labels": [
        "",
        "Aggregate",
        "Any Vega",
        "Computed view",
        "Corr",
        "Descriptive_statistics",
        "Dump_table",
        "Facade",
        "Group by",
        "Heatmap",
        "Histogram1D",
        "Join",
        "KNN Density",
        "MBKMeans",
        "MCDensityMap",
        "MultiSeries",
        "Quantiles",
        "RangeQuery2D",
        "Scaler",
        "Scatterplot",
        "Snippet",
        "T-SNE 2D",
        "CSV loader",
        "PARQUET loader",
        "CUSTOM loader"
       ],
       "description": "Next stage",
       "index": 0,
       "layout": "IPY_MODEL_6aabfde403c04c48b5a4095fc9d84cd7",
       "style": "IPY_MODEL_f1478e98c10649919c63de8ffc79fc0a"
      }
     },
     "7d38ab7587c94723ab1f7a897f9cf48a": {
      "model_module": "@jupyter-widgets/controls",
      "model_module_version": "2.0.0",
      "model_name": "LabelModel",
      "state": {
       "layout": "IPY_MODEL_6f8e36bced7d43629577d264ac0bb7d2",
       "style": "IPY_MODEL_12f1ba5b10d74c6c9e308133f5caa8a1",
       "value": "mean"
      }
     },
     "7d79c9f7ecf749dba92dfced6346285e": {
      "model_module": "@jupyter-widgets/controls",
      "model_module_version": "2.0.0",
      "model_name": "GridBoxModel",
      "state": {
       "children": [
        "IPY_MODEL_7ee163f4de9f489ab9ace389abca5e8a",
        "IPY_MODEL_7f3cefaa23034608b5440ea82d5cad4c",
        "IPY_MODEL_ada59ae278ac4aa3baf52b2645ea419d",
        "IPY_MODEL_f6bcf76da08943e1bf8feae507a77718",
        "IPY_MODEL_7d38ab7587c94723ab1f7a897f9cf48a",
        "IPY_MODEL_c14537da4f8e46b3bd4499bd3d806b27",
        "IPY_MODEL_8fbd631160294066bf2b4064aadc2d28",
        "IPY_MODEL_cbc02422d0494bf3bcfecbd59fddc937",
        "IPY_MODEL_227bdc1e801540c38ebba0f1963cf389",
        "IPY_MODEL_60c5ca01ee2546dba85608b985aaba61",
        "IPY_MODEL_f121ccfbfc58424795014c91258e98d3",
        "IPY_MODEL_a365d4b88c8e476686ac90d50d6bbb4f",
        "IPY_MODEL_89ea915f50424db680aabbdabba8e6ae",
        "IPY_MODEL_ff36a05efee641c09db1174288a60679",
        "IPY_MODEL_beab01adf8e14baf830d276c80eba144",
        "IPY_MODEL_3dfd9650c13141fa94b2a411b72c60a0",
        "IPY_MODEL_390e2209e16349bfb343f3ba3dcfa6bd",
        "IPY_MODEL_e76819973b3b4d508bc0cfb7d8be5fc4",
        "IPY_MODEL_9a296546aaa14d17bd273736dae18f7a",
        "IPY_MODEL_bae69e09227045f382c15806a836c0f8",
        "IPY_MODEL_abb204aae8d64204a3e3db5874807275",
        "IPY_MODEL_a94aa8f30e414966bf245316e77fe4a9",
        "IPY_MODEL_38e135c8ae524cb7abebdd65a4eec3f6",
        "IPY_MODEL_b3389adf352a488fa0d2dd2b87f264af",
        "IPY_MODEL_38c566ccac8945c2985ec1f63d3ce7f6",
        "IPY_MODEL_76302fdd52d3416e8e20fa7c4ffbae7f",
        "IPY_MODEL_9b128e4e6c6c4c89afa4e1c5073c78cf",
        "IPY_MODEL_91f7ea847d8942e382d0769554915b57",
        "IPY_MODEL_c19e401f826040358db35b4f8a025038",
        "IPY_MODEL_dd045341638e4160a616a635b1e6c7cc",
        "IPY_MODEL_bcfd4f8cee6d449f9c475ea5d7ab223a",
        "IPY_MODEL_96481167bca7415189a71b5652ea64fc",
        "IPY_MODEL_6e6597daf394413298b84750246ca325",
        "IPY_MODEL_dc18a511396e4a98833f808d5ecb604d",
        "IPY_MODEL_96b616cc111a42c283fe180dacb265c7",
        "IPY_MODEL_1359caa635e5404bb188c46d4906a71c",
        "IPY_MODEL_6874f7a6e346420da558c04e4c6814b8",
        "IPY_MODEL_b92a98c092c946dda8966fda856353d1",
        "IPY_MODEL_0fb6548a2bac45f1a362e4f6b066f801",
        "IPY_MODEL_9ede1a18f6724ebe82bdb6349b27fa80",
        "IPY_MODEL_ad445d48feea4441b476afc8da47f1eb",
        "IPY_MODEL_38eeb59a98f140d4901743476795847e",
        "IPY_MODEL_1995541d7ff346b59b371cc2071ff3d2",
        "IPY_MODEL_3565205fc20d452fa4194d8c3ba04047",
        "IPY_MODEL_816ddff4adbb4b978ff6da36ee8e7a7e",
        "IPY_MODEL_f3e87a4bbb73455b81b167c2ac5025bd",
        "IPY_MODEL_7b985e118e5d47a3bdf97d59b6d219fe",
        "IPY_MODEL_d9c02c40ac394b7ab47cae92a832a7c7"
       ],
       "layout": "IPY_MODEL_c8f07bd4c28a48d08c1dca14b653b5a8"
      }
     },
     "7df50fbfad3e4c16a5c71b761d76ce10": {
      "model_module": "@jupyter-widgets/controls",
      "model_module_version": "2.0.0",
      "model_name": "CheckboxStyleModel",
      "state": {
       "description_width": ""
      }
     },
     "7e0a91e55f5e4050a0e72bba3a22a6ef": {
      "model_module": "@jupyter-widgets/base",
      "model_module_version": "2.0.0",
      "model_name": "LayoutModel",
      "state": {}
     },
     "7e8a50cc48284143afc8a3aa729a1e29": {
      "model_module": "@jupyter-widgets/base",
      "model_module_version": "2.0.0",
      "model_name": "LayoutModel",
      "state": {}
     },
     "7e998317ca334fc1b589e8dc23b1ddcc": {
      "model_module": "@jupyter-widgets/base",
      "model_module_version": "2.0.0",
      "model_name": "LayoutModel",
      "state": {}
     },
     "7ecdf72a8f8a4668aea31018f8d13424": {
      "model_module": "@jupyter-widgets/controls",
      "model_module_version": "2.0.0",
      "model_name": "HTMLStyleModel",
      "state": {
       "description_width": "",
       "font_size": null,
       "text_color": null
      }
     },
     "7ee163f4de9f489ab9ace389abca5e8a": {
      "model_module": "@jupyter-widgets/controls",
      "model_module_version": "2.0.0",
      "model_name": "LabelModel",
      "state": {
       "layout": "IPY_MODEL_cf533ce3080b4a7cb3d0dde328d39c43",
       "style": "IPY_MODEL_8832d98b8bf74f2b954561779cc6d62b"
      }
     },
     "7ee94a5fedf74abd9e9de90693e5a368": {
      "model_module": "@jupyter-widgets/base",
      "model_module_version": "2.0.0",
      "model_name": "LayoutModel",
      "state": {}
     },
     "7f3cefaa23034608b5440ea82d5cad4c": {
      "model_module": "@jupyter-widgets/controls",
      "model_module_version": "2.0.0",
      "model_name": "LabelModel",
      "state": {
       "layout": "IPY_MODEL_ec74e169e7c247ca97ffeff166bcafa7",
       "style": "IPY_MODEL_211d136e8c954fc1ac462fb62ee91234",
       "value": "hide"
      }
     },
     "7fa25cc84b70472fa3205db4d8512271": {
      "model_module": "@jupyter-widgets/base",
      "model_module_version": "2.0.0",
      "model_name": "LayoutModel",
      "state": {}
     },
     "80bc4483b9544e13b39baec95a6c46c7": {
      "model_module": "@jupyter-widgets/controls",
      "model_module_version": "2.0.0",
      "model_name": "ButtonModel",
      "state": {
       "description": "Chain it",
       "disabled": true,
       "icon": "check",
       "layout": "IPY_MODEL_94f9200c72a147c78413ac2663c297e3",
       "style": "IPY_MODEL_c926155984d14f87b96fc10f924abf01",
       "tooltip": "Chain it"
      }
     },
     "8103094abe2947d6acbcbbebff16aecc": {
      "model_module": "@jupyter-widgets/controls",
      "model_module_version": "2.0.0",
      "model_name": "HTMLStyleModel",
      "state": {
       "description_width": "",
       "font_size": null,
       "text_color": null
      }
     },
     "8131012951d74076aa54c42a59c9ef44": {
      "model_module": "@jupyter-widgets/base",
      "model_module_version": "2.0.0",
      "model_name": "LayoutModel",
      "state": {}
     },
     "816a93f2465b44799a4b2da4a2d1e6e2": {
      "model_module": "@jupyter-widgets/controls",
      "model_module_version": "2.0.0",
      "model_name": "HTMLStyleModel",
      "state": {
       "description_width": "",
       "font_size": null,
       "text_color": null
      }
     },
     "816ddff4adbb4b978ff6da36ee8e7a7e": {
      "model_module": "@jupyter-widgets/controls",
      "model_module_version": "2.0.0",
      "model_name": "CheckboxModel",
      "state": {
       "disabled": true,
       "indent": false,
       "layout": "IPY_MODEL_4ce453d4f90f4effafb9b9b0a295654d",
       "style": "IPY_MODEL_bd110b3c195e4261a88ab8c7f35bab5e",
       "value": false
      }
     },
     "816e656cd5ea4a5c82ba25a027cf789f": {
      "model_module": "jupyter-progressivis",
      "model_module_version": "^0.1.0",
      "model_name": "JsonEditorModel",
      "state": {
       "_model_module_version": "^0.1.0",
       "_view_module_version": "^0.1.0",
       "data": {
        "$schema": "https://vega.github.io/schema/vega-lite/v6.json",
        "data": {
         "name": "data"
        },
        "description": "Bar chart",
        "encoding": {
         "x": {
          "field": "x",
          "type": "nominal"
         },
         "y": {
          "field": "y",
          "type": "quantitative"
         }
        },
        "height": 400,
        "mark": "bar",
        "width": 500
       },
       "layout": "IPY_MODEL_0b3a7454df9d499cb33e609e837bfedd"
      }
     },
     "82dbfae14a504c21b8b10d67dafbf80a": {
      "model_module": "@jupyter-widgets/controls",
      "model_module_version": "2.0.0",
      "model_name": "HBoxModel",
      "state": {
       "children": [
        "IPY_MODEL_7aaf0ec709664b67adbc0806d1faf70b",
        "IPY_MODEL_d151ec15bcc340baa247e4636602e9b0",
        "IPY_MODEL_fe5bbdf6e59a488d8f1da6bd8fca2b54"
       ],
       "layout": "IPY_MODEL_5ba1daf34e7444dd9c0fa68ef1edf698"
      }
     },
     "84a8fbbedd8f49788437418f866506e6": {
      "model_module": "@jupyter-widgets/controls",
      "model_module_version": "2.0.0",
      "model_name": "LabelStyleModel",
      "state": {
       "description_width": "",
       "font_family": null,
       "font_size": null,
       "font_style": null,
       "font_variant": null,
       "font_weight": null,
       "text_color": null,
       "text_decoration": null
      }
     },
     "84bf9995e9e0445a8de7b67d74c999f7": {
      "model_module": "@jupyter-widgets/base",
      "model_module_version": "2.0.0",
      "model_name": "LayoutModel",
      "state": {}
     },
     "857a8dffca0740b685a283b9700d0aa7": {
      "model_module": "@jupyter-widgets/controls",
      "model_module_version": "2.0.0",
      "model_name": "ButtonModel",
      "state": {
       "description": "Start",
       "disabled": true,
       "icon": "check",
       "layout": "IPY_MODEL_ce97cbfe590f4b8a9ca77ef2d9c13f43",
       "style": "IPY_MODEL_c81cb14a47d145a68982da05857d2a3e",
       "tooltip": "Start"
      }
     },
     "85cc6490bb0c497580aec77e5d8b53e3": {
      "model_module": "@jupyter-widgets/controls",
      "model_module_version": "2.0.0",
      "model_name": "CheckboxStyleModel",
      "state": {
       "description_width": ""
      }
     },
     "8673be918c8c44b9a8728530ee12bd1e": {
      "model_module": "@jupyter-widgets/controls",
      "model_module_version": "2.0.0",
      "model_name": "IntSliderModel",
      "state": {
       "behavior": "drag-tap",
       "continuous_update": false,
       "description": "Display T:",
       "layout": "IPY_MODEL_48d144f5c57d49288fdc1943080f0669",
       "max": 10,
       "min": 1,
       "style": "IPY_MODEL_6e4b108e44fe4a0cb3af692661e65b7d",
       "value": 1
      }
     },
     "87265cb16e9148598e355c48e585df78": {
      "model_module": "@jupyter-widgets/base",
      "model_module_version": "2.0.0",
      "model_name": "LayoutModel",
      "state": {}
     },
     "87d9f5a56b4845fbb113fac2363e67cf": {
      "model_module": "@jupyter-widgets/base",
      "model_module_version": "2.0.0",
      "model_name": "LayoutModel",
      "state": {}
     },
     "88039ed956954ddab498c1a41f698d7a": {
      "model_module": "@jupyter-widgets/controls",
      "model_module_version": "2.0.0",
      "model_name": "LabelStyleModel",
      "state": {
       "description_width": "",
       "font_family": null,
       "font_size": null,
       "font_style": null,
       "font_variant": null,
       "font_weight": null,
       "text_color": null,
       "text_decoration": null
      }
     },
     "88312534fb2045559f2d7dde6f7dd86b": {
      "model_module": "@jupyter-widgets/controls",
      "model_module_version": "2.0.0",
      "model_name": "HTMLModel",
      "state": {
       "layout": "IPY_MODEL_33c8ae55a2854675871acba8a75fa637",
       "style": "IPY_MODEL_0097e830dd264a97abd07858e86ada06"
      }
     },
     "8832d98b8bf74f2b954561779cc6d62b": {
      "model_module": "@jupyter-widgets/controls",
      "model_module_version": "2.0.0",
      "model_name": "LabelStyleModel",
      "state": {
       "description_width": "",
       "font_family": null,
       "font_size": null,
       "font_style": null,
       "font_variant": null,
       "font_weight": null,
       "text_color": null,
       "text_decoration": null
      }
     },
     "885df530f8754bd0a2aaacc1ed2c1073": {
      "model_module": "@jupyter-widgets/base",
      "model_module_version": "2.0.0",
      "model_name": "LayoutModel",
      "state": {}
     },
     "8865416e84f84a5e81a4a0942920f818": {
      "model_module": "@jupyter-widgets/controls",
      "model_module_version": "2.0.0",
      "model_name": "LabelStyleModel",
      "state": {
       "description_width": "",
       "font_family": null,
       "font_size": null,
       "font_style": null,
       "font_variant": null,
       "font_weight": null,
       "text_color": null,
       "text_decoration": null
      }
     },
     "8866740386cb4069a0362458526a158b": {
      "model_module": "@jupyter-widgets/base",
      "model_module_version": "2.0.0",
      "model_name": "LayoutModel",
      "state": {
       "grid_template_columns": "100px 200px 100px 100px"
      }
     },
     "88708696ef9f48e9a266129c996ee117": {
      "model_module": "@jupyter-widgets/controls",
      "model_module_version": "2.0.0",
      "model_name": "HTMLStyleModel",
      "state": {
       "description_width": "",
       "font_size": null,
       "text_color": null
      }
     },
     "88d68c0dd8a8420db1a4024393538294": {
      "model_module": "@jupyter-widgets/controls",
      "model_module_version": "2.0.0",
      "model_name": "HTMLModel",
      "state": {
       "layout": "IPY_MODEL_d5e31e46195849aa93eddb2fe7caa508",
       "style": "IPY_MODEL_29c379b71f6a42ec89632d798edc35e4"
      }
     },
     "89ea915f50424db680aabbdabba8e6ae": {
      "model_module": "@jupyter-widgets/controls",
      "model_module_version": "2.0.0",
      "model_name": "CheckboxModel",
      "state": {
       "disabled": true,
       "indent": false,
       "layout": "IPY_MODEL_b3ef64d61b684c39a4be12e82741e8e6",
       "style": "IPY_MODEL_216087daf03f461a81953efced132708",
       "value": false
      }
     },
     "8a20c49317984a7fa5757905c361a9f0": {
      "model_module": "@jupyter-widgets/controls",
      "model_module_version": "2.0.0",
      "model_name": "HBoxModel",
      "state": {
       "children": [
        "IPY_MODEL_f4d22e0f07d044fd895d8100abef1af7"
       ],
       "layout": "IPY_MODEL_69f6e69088c848dfb285255d3c996d8d"
      }
     },
     "8a3a1791cf614d118e64045fd5aa5c6d": {
      "model_module": "@jupyter-widgets/controls",
      "model_module_version": "2.0.0",
      "model_name": "CheckboxStyleModel",
      "state": {
       "description_width": ""
      }
     },
     "8a9f942bcb0042dab7793941c3dba9e2": {
      "model_module": "@jupyter-widgets/controls",
      "model_module_version": "2.0.0",
      "model_name": "ButtonModel",
      "state": {
       "description": "Resume",
       "disabled": true,
       "icon": "play",
       "layout": "IPY_MODEL_e2ec8110497d441b8dbe3957d26b52db",
       "style": "IPY_MODEL_000ba333ecca4212a414494d2b14f4e1",
       "tooltip": "Start"
      }
     },
     "8af469ccb0234d92a8782d249cff1e0d": {
      "model_module": "@jupyter-widgets/controls",
      "model_module_version": "2.0.0",
      "model_name": "HTMLModel",
      "state": {
       "layout": "IPY_MODEL_34d482eab39f47c69ea867aae36865db",
       "style": "IPY_MODEL_73ef2b061b124673a131951cc82aeb42"
      }
     },
     "8d2cb1982d7b4d5f9d5d166af71428e5": {
      "model_module": "@jupyter-widgets/controls",
      "model_module_version": "2.0.0",
      "model_name": "ButtonModel",
      "state": {
       "description": "Activate",
       "disabled": true,
       "icon": "check",
       "layout": "IPY_MODEL_7bfae398bc8d4a35b5604bcd55a71b3d",
       "style": "IPY_MODEL_fcd57fcd4c444e24ba4a7e7107e704e9",
       "tooltip": "Activate"
      }
     },
     "8d780821b64f4ee3bd90a7f471204207": {
      "model_module": "@jupyter-widgets/base",
      "model_module_version": "2.0.0",
      "model_name": "LayoutModel",
      "state": {}
     },
     "8da11f7e1df74d4cb2ee127bd470b3b2": {
      "model_module": "@jupyter-widgets/base",
      "model_module_version": "2.0.0",
      "model_name": "LayoutModel",
      "state": {}
     },
     "8de656ff47cb4c10bcd676b139352710": {
      "model_module": "@jupyter-widgets/base",
      "model_module_version": "2.0.0",
      "model_name": "LayoutModel",
      "state": {}
     },
     "8f89207f67104b5698b227379cef3871": {
      "model_module": "@jupyter-widgets/controls",
      "model_module_version": "2.0.0",
      "model_name": "SelectMultipleModel",
      "state": {
       "_options_labels": [
        "tpep_pickup_datetime:datetime64",
        "tpep_dropoff_datetime:datetime64",
        "passenger_count:int64",
        "Borough:string"
       ],
       "description": "By",
       "disabled": true,
       "index": [
        3
       ],
       "layout": "IPY_MODEL_d7e4f796848848a7882d0dd86fa40e0e",
       "rows": 5,
       "style": "IPY_MODEL_685831b8f06b4e34b7c58f4f1140e979"
      }
     },
     "8fa3232caffb4d7b9dfd610cdd2e3d21": {
      "model_module": "@jupyter-widgets/controls",
      "model_module_version": "2.0.0",
      "model_name": "HTMLStyleModel",
      "state": {
       "description_width": "",
       "font_size": null,
       "text_color": null
      }
     },
     "8fbd631160294066bf2b4064aadc2d28": {
      "model_module": "@jupyter-widgets/controls",
      "model_module_version": "2.0.0",
      "model_name": "LabelModel",
      "state": {
       "layout": "IPY_MODEL_15b668e8da8e418990950209c6fd7dc9",
       "style": "IPY_MODEL_1ad0bbe306fa4550b8aae86828fee1fb",
       "value": "variance"
      }
     },
     "9051e9c6cc5a4f0cadfb3be3a0a716f0": {
      "model_module": "@jupyter-widgets/base",
      "model_module_version": "2.0.0",
      "model_name": "LayoutModel",
      "state": {}
     },
     "90755f6fb59541e8a6e33b3429253e11": {
      "model_module": "@jupyter-widgets/controls",
      "model_module_version": "2.0.0",
      "model_name": "HTMLModel",
      "state": {
       "layout": "IPY_MODEL_a1d19b2d27ec447aa1a1a9a6e1dd6c51",
       "style": "IPY_MODEL_ca48b0d2a4144fa28e6e88f71ba40518"
      }
     },
     "909889cb13884cee8f7b4686e17cf77f": {
      "model_module": "@jupyter-widgets/controls",
      "model_module_version": "2.0.0",
      "model_name": "TextStyleModel",
      "state": {
       "description_width": "",
       "font_size": null,
       "text_color": null
      }
     },
     "90f788ab11c34657857cc35dc8e15ae6": {
      "model_module": "@jupyter-widgets/base",
      "model_module_version": "2.0.0",
      "model_name": "LayoutModel",
      "state": {}
     },
     "91f7ea847d8942e382d0769554915b57": {
      "model_module": "@jupyter-widgets/controls",
      "model_module_version": "2.0.0",
      "model_name": "CheckboxModel",
      "state": {
       "disabled": true,
       "indent": false,
       "layout": "IPY_MODEL_785a10b40bfe40e5986f1ef8b696bdaa",
       "style": "IPY_MODEL_e9710515970b45f2ae81096506879e5f",
       "value": false
      }
     },
     "9219c8f4b7974abfb0d56cf77a56f35c": {
      "model_module": "@jupyter-widgets/base",
      "model_module_version": "2.0.0",
      "model_name": "LayoutModel",
      "state": {}
     },
     "92f50250f74847909c12a17bd6166016": {
      "model_module": "@jupyter-widgets/base",
      "model_module_version": "2.0.0",
      "model_name": "LayoutModel",
      "state": {}
     },
     "9308605184eb4495baad9e9a7356a4cc": {
      "model_module": "@jupyter-widgets/base",
      "model_module_version": "2.0.0",
      "model_name": "LayoutModel",
      "state": {
       "justify_content": "flex-end"
      }
     },
     "941a00f359854d22bd9f42e180a2d9ac": {
      "model_module": "@jupyter-widgets/base",
      "model_module_version": "2.0.0",
      "model_name": "LayoutModel",
      "state": {}
     },
     "94958625a1214f54b37b6bdc0d9dd952": {
      "model_module": "@jupyter-widgets/controls",
      "model_module_version": "2.0.0",
      "model_name": "HBoxModel",
      "state": {
       "children": [
        "IPY_MODEL_38f10c3bde4a4f72b8f0eb8edcbd4fe3",
        "IPY_MODEL_64bb18a84f794ceaacda48ba5c759bb9",
        "IPY_MODEL_80bc4483b9544e13b39baec95a6c46c7"
       ],
       "layout": "IPY_MODEL_afdf61c7186e463d9c8504c04fb6b1a5"
      }
     },
     "94f9200c72a147c78413ac2663c297e3": {
      "model_module": "@jupyter-widgets/base",
      "model_module_version": "2.0.0",
      "model_name": "LayoutModel",
      "state": {}
     },
     "955c56e3eed04e07b1fba722d637f0d0": {
      "model_module": "@jupyter-widgets/controls",
      "model_module_version": "2.0.0",
      "model_name": "HTMLStyleModel",
      "state": {
       "description_width": "",
       "font_size": null,
       "text_color": null
      }
     },
     "956d75e964154a269a134e53472c6109": {
      "model_module": "@jupyter-widgets/controls",
      "model_module_version": "2.0.0",
      "model_name": "HTMLModel",
      "state": {
       "layout": "IPY_MODEL_fd43b804be7f480198f47a5570c657de",
       "style": "IPY_MODEL_955c56e3eed04e07b1fba722d637f0d0"
      }
     },
     "95a283ed3c9a4cccad793e37eb9d0d51": {
      "model_module": "@jupyter-widgets/controls",
      "model_module_version": "2.0.0",
      "model_name": "ButtonStyleModel",
      "state": {
       "font_family": null,
       "font_size": null,
       "font_style": null,
       "font_variant": null,
       "font_weight": null,
       "text_color": null,
       "text_decoration": null
      }
     },
     "96481167bca7415189a71b5652ea64fc": {
      "model_module": "@jupyter-widgets/controls",
      "model_module_version": "2.0.0",
      "model_name": "CheckboxModel",
      "state": {
       "disabled": true,
       "indent": false,
       "layout": "IPY_MODEL_1ca6c2e0b9ad40fca85856ee233f7297",
       "style": "IPY_MODEL_adb3e1bf207b439db0fc4fba55a72530",
       "value": false
      }
     },
     "965498aac2c24fa496ce1c579bfc6f54": {
      "model_module": "@jupyter-widgets/controls",
      "model_module_version": "2.0.0",
      "model_name": "HTMLStyleModel",
      "state": {
       "description_width": "",
       "font_size": null,
       "text_color": null
      }
     },
     "96b616cc111a42c283fe180dacb265c7": {
      "model_module": "@jupyter-widgets/controls",
      "model_module_version": "2.0.0",
      "model_name": "CheckboxModel",
      "state": {
       "disabled": true,
       "indent": false,
       "layout": "IPY_MODEL_5e08bb4b07d748caa951453ad30d6e42",
       "style": "IPY_MODEL_7df50fbfad3e4c16a5c71b761d76ce10",
       "value": false
      }
     },
     "9751c10c00974da98b3f698695224f08": {
      "model_module": "@jupyter-widgets/controls",
      "model_module_version": "2.0.0",
      "model_name": "HTMLStyleModel",
      "state": {
       "description_width": "",
       "font_size": null,
       "text_color": null
      }
     },
     "9772e9237ed8448eb1e7f5f35ebefcc9": {
      "model_module": "@jupyter-widgets/controls",
      "model_module_version": "2.0.0",
      "model_name": "CheckboxModel",
      "state": {
       "description": "Active",
       "disabled": false,
       "layout": "IPY_MODEL_9c4fc599c34f42cd94a289676a535afe",
       "style": "IPY_MODEL_6a4d3b63785f47eb8f3cd0222334aece",
       "value": true
      }
     },
     "97a3b1feb37c49919f84ec5d1dec2846": {
      "model_module": "@jupyter-widgets/base",
      "model_module_version": "2.0.0",
      "model_name": "LayoutModel",
      "state": {}
     },
     "97bed25c62fe4f4f987aac4ffdcffbb4": {
      "model_module": "@jupyter-widgets/controls",
      "model_module_version": "2.0.0",
      "model_name": "GridBoxModel",
      "state": {
       "children": [
        "IPY_MODEL_dfe3c8a9ddb8467ca048999d69d54512",
        "IPY_MODEL_3d48de4d58574ecd86c581dd98d2e582",
        "IPY_MODEL_0df73d7adee64745a406c39bc7846392",
        "IPY_MODEL_049ba99686df41699678643ab0ca21c5",
        "IPY_MODEL_59b4b26b1a9b4308bedaaab470bf7f0f",
        "IPY_MODEL_be86f2a6c892406d9cb4005fff528cc1",
        "IPY_MODEL_13478e6861724cf0a484528c125621c3",
        "IPY_MODEL_72e89ebbd9384d22ba2bdb10ee33b520",
        "IPY_MODEL_487b1d6b2a324aac84a05613ba08354f",
        "IPY_MODEL_e02f712eef4846b7b77ab45dfea50b16",
        "IPY_MODEL_1c4d13a27aa147b98a0bfd7143d7e226",
        "IPY_MODEL_2a49d8bddfbc4ed9ad102a71c375b380"
       ],
       "layout": "IPY_MODEL_8866740386cb4069a0362458526a158b"
      }
     },
     "97edd2318b6a4068a031cebc12041ef4": {
      "model_module": "@jupyter-widgets/base",
      "model_module_version": "2.0.0",
      "model_name": "LayoutModel",
      "state": {}
     },
     "98928c2ac8964ffeb3adbdee8a4ad198": {
      "model_module": "@jupyter-widgets/base",
      "model_module_version": "2.0.0",
      "model_name": "LayoutModel",
      "state": {
       "width": "max-content"
      }
     },
     "98c11b6e5b06406cb20a3ae4fadcacb7": {
      "model_module": "@jupyter-widgets/base",
      "model_module_version": "2.0.0",
      "model_name": "LayoutModel",
      "state": {}
     },
     "99b9766534c24e4d815dc43149df9ad7": {
      "model_module": "@jupyter-widgets/controls",
      "model_module_version": "2.0.0",
      "model_name": "HTMLStyleModel",
      "state": {
       "description_width": "",
       "font_size": null,
       "text_color": null
      }
     },
     "9a296546aaa14d17bd273736dae18f7a": {
      "model_module": "@jupyter-widgets/controls",
      "model_module_version": "2.0.0",
      "model_name": "CheckboxModel",
      "state": {
       "disabled": true,
       "indent": false,
       "layout": "IPY_MODEL_72c024ea73c341af877fe721fb25e71e",
       "style": "IPY_MODEL_f1413f412c6f462a8fc376a572c4582b",
       "value": false
      }
     },
     "9a6f774fcbed4f478df8c49ed7cad271": {
      "model_module": "@jupyter-widgets/controls",
      "model_module_version": "2.0.0",
      "model_name": "ButtonStyleModel",
      "state": {
       "font_family": null,
       "font_size": null,
       "font_style": null,
       "font_variant": null,
       "font_weight": null,
       "text_color": null,
       "text_decoration": null
      }
     },
     "9a7643f0393644a8835f1e992321113a": {
      "model_module": "@jupyter-widgets/base",
      "model_module_version": "2.0.0",
      "model_name": "LayoutModel",
      "state": {
       "width": "100%"
      }
     },
     "9b10b326ae4e4965b2efec53c3ae5d8d": {
      "model_module": "@jupyter-widgets/base",
      "model_module_version": "2.0.0",
      "model_name": "LayoutModel",
      "state": {
       "width": "60%"
      }
     },
     "9b128e4e6c6c4c89afa4e1c5073c78cf": {
      "model_module": "@jupyter-widgets/controls",
      "model_module_version": "2.0.0",
      "model_name": "CheckboxModel",
      "state": {
       "disabled": true,
       "indent": false,
       "layout": "IPY_MODEL_e07717dd45b847fca0202f1c18172c58",
       "style": "IPY_MODEL_190e13a6a0a64f40ae52ff09873a845c",
       "value": false
      }
     },
     "9c4fc599c34f42cd94a289676a535afe": {
      "model_module": "@jupyter-widgets/base",
      "model_module_version": "2.0.0",
      "model_name": "LayoutModel",
      "state": {}
     },
     "9d33c7bd81804a8492c0c9bdef770a39": {
      "model_module": "@jupyter-widgets/controls",
      "model_module_version": "2.0.0",
      "model_name": "LabelStyleModel",
      "state": {
       "description_width": "",
       "font_family": null,
       "font_size": null,
       "font_style": null,
       "font_variant": null,
       "font_weight": null,
       "text_color": null,
       "text_decoration": null
      }
     },
     "9e3e5526bfd64ab6acbb916b49059cd0": {
      "model_module": "@jupyter-widgets/base",
      "model_module_version": "2.0.0",
      "model_name": "LayoutModel",
      "state": {}
     },
     "9e95d4c99d954ac592c6a64f622f0e6b": {
      "model_module": "@jupyter-widgets/controls",
      "model_module_version": "2.0.0",
      "model_name": "CheckboxStyleModel",
      "state": {
       "description_width": ""
      }
     },
     "9ede1a18f6724ebe82bdb6349b27fa80": {
      "model_module": "@jupyter-widgets/controls",
      "model_module_version": "2.0.0",
      "model_name": "CheckboxModel",
      "state": {
       "disabled": true,
       "indent": false,
       "layout": "IPY_MODEL_cd5f2d5e36594030a7d05a4d881e664b",
       "style": "IPY_MODEL_633dac3c517e467a86a02ac5e2c2fbbe",
       "value": false
      }
     },
     "9eeba1ee65544348a1957883e8ee027b": {
      "model_module": "@jupyter-widgets/controls",
      "model_module_version": "2.0.0",
      "model_name": "IntSliderModel",
      "state": {
       "behavior": "drag-tap",
       "continuous_update": false,
       "description": "Display T:",
       "layout": "IPY_MODEL_9051e9c6cc5a4f0cadfb3be3a0a716f0",
       "max": 10,
       "min": 1,
       "style": "IPY_MODEL_b672589beeb74c73a135d797301edb3d",
       "value": 1
      }
     },
     "9ef43996510a41b49d9fc416d107cba2": {
      "model_module": "@jupyter-widgets/controls",
      "model_module_version": "2.0.0",
      "model_name": "HTMLModel",
      "state": {
       "layout": "IPY_MODEL_0bfda3d909a640e0bb08e32da0ab5290",
       "style": "IPY_MODEL_816a93f2465b44799a4b2da4a2d1e6e2"
      }
     },
     "a08085d25edd4b61b13b7a1925e1d177": {
      "model_module": "@jupyter-widgets/base",
      "model_module_version": "2.0.0",
      "model_name": "LayoutModel",
      "state": {}
     },
     "a0a6b4752a7d4b979c968f1da0e380a1": {
      "model_module": "@jupyter-widgets/base",
      "model_module_version": "2.0.0",
      "model_name": "LayoutModel",
      "state": {}
     },
     "a1522a21835a4897bcb45aa54a139766": {
      "model_module": "@jupyter-widgets/controls",
      "model_module_version": "2.0.0",
      "model_name": "HTMLStyleModel",
      "state": {
       "description_width": "",
       "font_size": null,
       "text_color": null
      }
     },
     "a1d19b2d27ec447aa1a1a9a6e1dd6c51": {
      "model_module": "@jupyter-widgets/base",
      "model_module_version": "2.0.0",
      "model_name": "LayoutModel",
      "state": {}
     },
     "a1eb4def1b1945ff89efceaa5725198c": {
      "model_module": "jupyter-progressivis",
      "model_module_version": "^0.1.0",
      "model_name": "JsonHTMLModel",
      "state": {
       "_model_module_version": "^0.1.0",
       "_view_module_version": "^0.1.0",
       "layout": "IPY_MODEL_15b83b85931b4176957a7a24a4f6e6b0"
      }
     },
     "a286b0018b86496bb7c97fb2fe4e4a09": {
      "model_module": "@jupyter-widgets/base",
      "model_module_version": "2.0.0",
      "model_name": "LayoutModel",
      "state": {}
     },
     "a29298012ab04facb447fb3f3d54a795": {
      "model_module": "@jupyter-widgets/controls",
      "model_module_version": "2.0.0",
      "model_name": "CheckboxModel",
      "state": {
       "description": "Active",
       "disabled": false,
       "layout": "IPY_MODEL_7e0a91e55f5e4050a0e72bba3a22a6ef",
       "style": "IPY_MODEL_246a5f4d63114f6da1b3566712cbbf25",
       "value": true
      }
     },
     "a365d4b88c8e476686ac90d50d6bbb4f": {
      "model_module": "@jupyter-widgets/controls",
      "model_module_version": "2.0.0",
      "model_name": "CheckboxModel",
      "state": {
       "disabled": true,
       "indent": false,
       "layout": "IPY_MODEL_11dd96b73faf4902906cce7d88791ea9",
       "style": "IPY_MODEL_0c6a9fe9a15a49c490872a52a818361b",
       "value": false
      }
     },
     "a401a1f324eb4188b4ad1a604d927f2f": {
      "model_module": "@jupyter-widgets/base",
      "model_module_version": "2.0.0",
      "model_name": "LayoutModel",
      "state": {}
     },
     "a422fb6beeda4438b728dc0787789f3f": {
      "model_module": "@jupyter-widgets/controls",
      "model_module_version": "2.0.0",
      "model_name": "ButtonStyleModel",
      "state": {
       "font_family": null,
       "font_size": null,
       "font_style": null,
       "font_variant": null,
       "font_weight": null,
       "text_color": null,
       "text_decoration": null
      }
     },
     "a44faca7bee64753babe398e550aca48": {
      "model_module": "@jupyter-widgets/controls",
      "model_module_version": "2.0.0",
      "model_name": "VBoxModel",
      "state": {
       "children": [
        "IPY_MODEL_37627f5e709e4115ae5dd04216674f2a",
        "IPY_MODEL_34a3c66a01ff4e858c09e3cd5f0139a6",
        "IPY_MODEL_791ecd0a9db14fb1a253dff30ac867ca"
       ],
       "layout": "IPY_MODEL_073d00b6586440eaada8418ef305c8ae"
      }
     },
     "a45f626b103c4d0d8e401a58ac126f79": {
      "model_module": "@jupyter-widgets/controls",
      "model_module_version": "2.0.0",
      "model_name": "HTMLModel",
      "state": {
       "layout": "IPY_MODEL_4ae1e65940634b7fab9dca2cd1d061e2",
       "style": "IPY_MODEL_88708696ef9f48e9a266129c996ee117"
      }
     },
     "a4675b2c0a7c4af99ebbc064543630b3": {
      "model_module": "@jupyter-widgets/base",
      "model_module_version": "2.0.0",
      "model_name": "LayoutModel",
      "state": {}
     },
     "a46c2b0ff6a04993ba3664650c15e393": {
      "model_module": "@jupyter-widgets/controls",
      "model_module_version": "2.0.0",
      "model_name": "HTMLStyleModel",
      "state": {
       "description_width": "",
       "font_size": null,
       "text_color": null
      }
     },
     "a4ef0459f1c44c1182066918d9fbce1a": {
      "model_module": "@jupyter-widgets/base",
      "model_module_version": "2.0.0",
      "model_name": "LayoutModel",
      "state": {}
     },
     "a5100a25a63e42ccadfb1f4b05b15f64": {
      "model_module": "@jupyter-widgets/controls",
      "model_module_version": "2.0.0",
      "model_name": "IntProgressModel",
      "state": {
       "description": "ProgressiVis started",
       "layout": "IPY_MODEL_bf9bd03a2ee34318b53b501c44ff715d",
       "max": 2,
       "style": "IPY_MODEL_4a12a77d19c543ae983b435f15a1bc9e",
       "value": 2
      }
     },
     "a6bb9bb9a1ca44f78eebca7b680d9f38": {
      "model_module": "@jupyter-widgets/controls",
      "model_module_version": "2.0.0",
      "model_name": "ButtonModel",
      "state": {
       "button_style": "danger",
       "icon": "trash",
       "layout": "IPY_MODEL_c9b59a945b5544ffbf96b97202b2e0b8",
       "style": "IPY_MODEL_9a6f774fcbed4f478df8c49ed7cad271"
      }
     },
     "a6ec0c23cce44027930084f877b594f5": {
      "model_module": "@jupyter-widgets/base",
      "model_module_version": "2.0.0",
      "model_name": "LayoutModel",
      "state": {
       "justify_content": "flex-end"
      }
     },
     "a7522e51fcd646a48830c2879dc4f2c8": {
      "model_module": "@jupyter-widgets/controls",
      "model_module_version": "2.0.0",
      "model_name": "VBoxModel",
      "state": {
       "children": [
        "IPY_MODEL_2902b82e8bd846b1be570c6913a54924",
        "IPY_MODEL_4c607f630b5d4bf3a726a9e26a0c172f",
        "IPY_MODEL_d37c9bef4d6c42929fa6340f1dc65d3e"
       ],
       "layout": "IPY_MODEL_3d9f496f2eda43379411a57c9bdc0ea2"
      }
     },
     "a7a7b8fde2374d6ebd3f3d86853f1e7a": {
      "model_module": "@jupyter-widgets/controls",
      "model_module_version": "2.0.0",
      "model_name": "ButtonStyleModel",
      "state": {
       "font_family": null,
       "font_size": null,
       "font_style": null,
       "font_variant": null,
       "font_weight": null,
       "text_color": null,
       "text_decoration": null
      }
     },
     "a7dc38f1475146f1802ac5dca1b8e9c6": {
      "model_module": "@jupyter-widgets/controls",
      "model_module_version": "2.0.0",
      "model_name": "CheckboxStyleModel",
      "state": {
       "description_width": ""
      }
     },
     "a94aa8f30e414966bf245316e77fe4a9": {
      "model_module": "@jupyter-widgets/controls",
      "model_module_version": "2.0.0",
      "model_name": "CheckboxModel",
      "state": {
       "disabled": true,
       "indent": false,
       "layout": "IPY_MODEL_79eefbc972544ba68d7a15d8a0e28c23",
       "style": "IPY_MODEL_1c60144b99ed46c2b98d33a9245f91a5",
       "value": false
      }
     },
     "aa1fda9674c140949bca17b7d821f811": {
      "model_module": "@jupyter-widgets/base",
      "model_module_version": "2.0.0",
      "model_name": "LayoutModel",
      "state": {}
     },
     "aa4dbc0e63fd4e19a3f5e8f112089993": {
      "model_module": "@jupyter-widgets/base",
      "model_module_version": "2.0.0",
      "model_name": "LayoutModel",
      "state": {}
     },
     "aa8a9da8d36b400c89ae658568397483": {
      "model_module": "@jupyter-widgets/base",
      "model_module_version": "2.0.0",
      "model_name": "LayoutModel",
      "state": {}
     },
     "aacb3caa73024c15a42978a75e136eb2": {
      "model_module": "@jupyter-widgets/controls",
      "model_module_version": "2.0.0",
      "model_name": "DescriptionStyleModel",
      "state": {
       "description_width": ""
      }
     },
     "ab1007aca973441b85872102e6ef3e4f": {
      "model_module": "@jupyter-widgets/base",
      "model_module_version": "2.0.0",
      "model_name": "LayoutModel",
      "state": {}
     },
     "ab583d1d49f2414ab6d2d9fad7d64d5f": {
      "model_module": "@jupyter-widgets/controls",
      "model_module_version": "2.0.0",
      "model_name": "DescriptionStyleModel",
      "state": {
       "description_width": ""
      }
     },
     "abb204aae8d64204a3e3db5874807275": {
      "model_module": "@jupyter-widgets/controls",
      "model_module_version": "2.0.0",
      "model_name": "CheckboxModel",
      "state": {
       "disabled": true,
       "indent": false,
       "layout": "IPY_MODEL_b6e9bfb2b33d473683e1b2ebedb46aa8",
       "style": "IPY_MODEL_4b8dde654dc3436f9a1cde7e03900f57",
       "value": false
      }
     },
     "ac19fb9ec3a5440889dddc004ca81c30": {
      "model_module": "@jupyter-widgets/controls",
      "model_module_version": "2.0.0",
      "model_name": "HTMLModel",
      "state": {
       "layout": "IPY_MODEL_727f48dd07b14597928ce4b433fde351",
       "style": "IPY_MODEL_4be11f7f292146c1b7d2c12edb7920c4"
      }
     },
     "ad1f1d7a4f8a4dc5ba9b552a6cc2713f": {
      "model_module": "@jupyter-widgets/controls",
      "model_module_version": "2.0.0",
      "model_name": "HTMLStyleModel",
      "state": {
       "description_width": "",
       "font_size": null,
       "text_color": null
      }
     },
     "ad3ee649e9e94eba89dfed82fedae636": {
      "model_module": "@jupyter-widgets/base",
      "model_module_version": "2.0.0",
      "model_name": "LayoutModel",
      "state": {}
     },
     "ad445d48feea4441b476afc8da47f1eb": {
      "model_module": "@jupyter-widgets/controls",
      "model_module_version": "2.0.0",
      "model_name": "LabelModel",
      "state": {
       "layout": "IPY_MODEL_01f5add29fa54c0fa3b8aff7c8b57faa",
       "style": "IPY_MODEL_2fc779b76c514d42b55e9a7d47879ce5",
       "value": "tpep_pickup_datetime:datetime64"
      }
     },
     "ad5063bbfabf4fd1a8abef8529a562b8": {
      "model_module": "@jupyter-widgets/base",
      "model_module_version": "2.0.0",
      "model_name": "LayoutModel",
      "state": {}
     },
     "ad7ca9fe73144a83aafd28e196b886af": {
      "model_module": "@jupyter-widgets/base",
      "model_module_version": "2.0.0",
      "model_name": "LayoutModel",
      "state": {}
     },
     "ada59ae278ac4aa3baf52b2645ea419d": {
      "model_module": "@jupyter-widgets/controls",
      "model_module_version": "2.0.0",
      "model_name": "LabelModel",
      "state": {
       "layout": "IPY_MODEL_a0a6b4752a7d4b979c968f1da0e380a1",
       "style": "IPY_MODEL_8865416e84f84a5e81a4a0942920f818",
       "value": "count"
      }
     },
     "adb3e1bf207b439db0fc4fba55a72530": {
      "model_module": "@jupyter-widgets/controls",
      "model_module_version": "2.0.0",
      "model_name": "CheckboxStyleModel",
      "state": {
       "description_width": ""
      }
     },
     "add344d46a8b45b3b8207aedcbbb4b00": {
      "model_module": "@jupyter-widgets/base",
      "model_module_version": "2.0.0",
      "model_name": "LayoutModel",
      "state": {}
     },
     "addd3c4f1d604a7a9b979f909eb32183": {
      "model_module": "@jupyter-widgets/controls",
      "model_module_version": "2.0.0",
      "model_name": "HTMLStyleModel",
      "state": {
       "description_width": "",
       "font_size": null,
       "text_color": null
      }
     },
     "aec38c34cf3a4889957e650668035c41": {
      "model_module": "@jupyter-widgets/controls",
      "model_module_version": "2.0.0",
      "model_name": "DescriptionStyleModel",
      "state": {
       "description_width": "initial"
      }
     },
     "aecdde4ec4a54d56b9fd90acffa1d704": {
      "model_module": "@jupyter-widgets/base",
      "model_module_version": "2.0.0",
      "model_name": "LayoutModel",
      "state": {}
     },
     "aee5bd95214f4c52a8de4f3cbfb09710": {
      "model_module": "@jupyter-widgets/controls",
      "model_module_version": "2.0.0",
      "model_name": "HTMLModel",
      "state": {
       "layout": "IPY_MODEL_722ff62e340144f0a3772cfa8bf33b51",
       "placeholder": "0",
       "style": "IPY_MODEL_fc0ee8209acf4e82948447d8957d26b9",
       "value": "10902"
      }
     },
     "af74c34fff1b43b99aeca4a68222986a": {
      "model_module": "@jupyter-widgets/base",
      "model_module_version": "2.0.0",
      "model_name": "LayoutModel",
      "state": {}
     },
     "afdf61c7186e463d9c8504c04fb6b1a5": {
      "model_module": "@jupyter-widgets/base",
      "model_module_version": "2.0.0",
      "model_name": "LayoutModel",
      "state": {}
     },
     "aff12be5cd5d4f4ba83d8d6dd9d4ebec": {
      "model_module": "@jupyter-widgets/base",
      "model_module_version": "2.0.0",
      "model_name": "LayoutModel",
      "state": {}
     },
     "b076aa8cd645499e8cc86abfbf169401": {
      "model_module": "@jupyter-widgets/controls",
      "model_module_version": "2.0.0",
      "model_name": "LabelModel",
      "state": {
       "layout": "IPY_MODEL_cc06aa273be14285989568864e42fbca",
       "style": "IPY_MODEL_165f36992c9045aea3b4dc49b6cb92a3",
       "value": "Upload snippets:"
      }
     },
     "b2b7f2b4a0c34baaaf82fe36a0fc10fa": {
      "model_module": "@jupyter-widgets/controls",
      "model_module_version": "2.0.0",
      "model_name": "VBoxModel",
      "state": {
       "children": [
        "IPY_MODEL_0181017ed0744d4483de4a02202774ac",
        "IPY_MODEL_f3ee89b850e740c18349b116fd1ecd13",
        "IPY_MODEL_4dc54103b5474537aa48e944b8b22adc"
       ],
       "layout": "IPY_MODEL_a286b0018b86496bb7c97fb2fe4e4a09"
      }
     },
     "b32283dadce84314b3ab49e3c07cac8f": {
      "model_module": "@jupyter-widgets/base",
      "model_module_version": "2.0.0",
      "model_name": "LayoutModel",
      "state": {}
     },
     "b3389adf352a488fa0d2dd2b87f264af": {
      "model_module": "@jupyter-widgets/controls",
      "model_module_version": "2.0.0",
      "model_name": "CheckboxModel",
      "state": {
       "disabled": true,
       "indent": false,
       "layout": "IPY_MODEL_e9d9ff8f8abc4ec8b74a8d30fedd3fd0",
       "style": "IPY_MODEL_47d6ff3eed0741d6838b1c0d0a214f3e",
       "value": false
      }
     },
     "b3ef64d61b684c39a4be12e82741e8e6": {
      "model_module": "@jupyter-widgets/base",
      "model_module_version": "2.0.0",
      "model_name": "LayoutModel",
      "state": {}
     },
     "b42e30226a274c64b8cf612879b0ab3b": {
      "model_module": "@jupyter-widgets/controls",
      "model_module_version": "2.0.0",
      "model_name": "LabelStyleModel",
      "state": {
       "description_width": "",
       "font_family": null,
       "font_size": null,
       "font_style": null,
       "font_variant": null,
       "font_weight": null,
       "text_color": null,
       "text_decoration": null
      }
     },
     "b60c7110cbe649c491532c521475286e": {
      "model_module": "@jupyter-widgets/controls",
      "model_module_version": "2.0.0",
      "model_name": "HTMLModel",
      "state": {
       "layout": "IPY_MODEL_05d2dc4082e54aef946bdd901a7a0718",
       "style": "IPY_MODEL_39de1e80afad4c02bac81950eac451a7"
      }
     },
     "b618405e11194804a848a2827f0641b9": {
      "model_module": "@jupyter-widgets/base",
      "model_module_version": "2.0.0",
      "model_name": "LayoutModel",
      "state": {}
     },
     "b672589beeb74c73a135d797301edb3d": {
      "model_module": "@jupyter-widgets/controls",
      "model_module_version": "2.0.0",
      "model_name": "SliderStyleModel",
      "state": {
       "description_width": "initial"
      }
     },
     "b67b5422a8aa4da180d69215bfa3ebe0": {
      "model_module": "jupyter-progressivis",
      "model_module_version": "^0.1.0",
      "model_name": "VegaWidgetModel",
      "state": {
       "_df": null,
       "_img_url": "null",
       "_model_module": "jupyter-progressivis",
       "_model_module_version": "^0.1.0",
       "_opt_source": "null",
       "_spec_source": "{\"$schema\": \"https://vega.github.io/schema/vega-lite/v4.8.1.json\", \"width\": 500, \"height\": 400, \"data\": {\"name\": \"data\"}, \"encoding\": {\"color\": {\"field\": \"z\", \"type\": \"quantitative\"}, \"x\": {\"field\": \"x\", \"type\": \"ordinal\"}, \"y\": {\"field\": \"y\", \"type\": \"ordinal\"}}, \"mark\": \"rect\", \"config\": {\"axis\": {\"disable\": true}}}",
       "_view_module": "jupyter-progressivis",
       "_view_module_version": "^0.1.0",
       "layout": "IPY_MODEL_a4675b2c0a7c4af99ebbc064543630b3"
      }
     },
     "b6e9bfb2b33d473683e1b2ebedb46aa8": {
      "model_module": "@jupyter-widgets/base",
      "model_module_version": "2.0.0",
      "model_name": "LayoutModel",
      "state": {}
     },
     "b73ce2beb3ad4cca9b432cf7239b44a5": {
      "model_module": "@jupyter-widgets/base",
      "model_module_version": "2.0.0",
      "model_name": "LayoutModel",
      "state": {}
     },
     "b7b8595a98be4b2f9806e6ffcf1cfafb": {
      "model_module": "@jupyter-widgets/base",
      "model_module_version": "2.0.0",
      "model_name": "LayoutModel",
      "state": {}
     },
     "b7d4afee482d468ab104edced482d339": {
      "model_module": "@jupyter-widgets/controls",
      "model_module_version": "2.0.0",
      "model_name": "HTMLModel",
      "state": {
       "layout": "IPY_MODEL_00c940dc6d2045c1a1dca3493eba0feb",
       "style": "IPY_MODEL_f7cfc46261164addb7a09f6a4a20d69f"
      }
     },
     "b7dd664d00524c2aa839c82a32614344": {
      "model_module": "@jupyter-widgets/controls",
      "model_module_version": "2.0.0",
      "model_name": "CheckboxStyleModel",
      "state": {
       "description_width": ""
      }
     },
     "b828fa368cfd41f3a7fbbb9b8cf707d8": {
      "model_module": "@jupyter-widgets/jupyterlab-sidecar",
      "model_module_version": "^1.1",
      "model_name": "SidecarModel",
      "state": {
       "_model_module_version": "^1.1",
       "_view_module_version": "^1.1",
       "_widget_id": "e3b2bf9c-bdc9-4386-bf64-56a1db8a3f69",
       "layout": "IPY_MODEL_5eebed0855e646699e43d70a097b62f7",
       "outputs": [
        {
         "data": {
          "application/vnd.jupyter.widget-view+json": {
           "model_id": "29e200e785b54a88bbe055012cac553b",
           "version_major": 2,
           "version_minor": 0
          },
          "text/plain": "DagWidgetController()"
         },
         "metadata": {},
         "output_type": "display_data"
        }
       ],
       "title": "Widgets Output"
      }
     },
     "b92a98c092c946dda8966fda856353d1": {
      "model_module": "@jupyter-widgets/controls",
      "model_module_version": "2.0.0",
      "model_name": "CheckboxModel",
      "state": {
       "disabled": true,
       "indent": false,
       "layout": "IPY_MODEL_30cb35fa900347b88334c4573ca65b86",
       "style": "IPY_MODEL_ef79327fc35343b6be0bf61fb671d1f5",
       "value": false
      }
     },
     "ba7227e2ea8b43f485649b4bb3c83b43": {
      "model_module": "@jupyter-widgets/controls",
      "model_module_version": "2.0.0",
      "model_name": "ProgressStyleModel",
      "state": {
       "description_width": ""
      }
     },
     "ba8606db11974582a306a838926c774c": {
      "model_module": "@jupyter-widgets/base",
      "model_module_version": "2.0.0",
      "model_name": "LayoutModel",
      "state": {}
     },
     "bad190c1861248b5b41a57ae8d25a49d": {
      "model_module": "@jupyter-widgets/controls",
      "model_module_version": "2.0.0",
      "model_name": "HTMLStyleModel",
      "state": {
       "description_width": "",
       "font_size": null,
       "text_color": null
      }
     },
     "bae69e09227045f382c15806a836c0f8": {
      "model_module": "@jupyter-widgets/controls",
      "model_module_version": "2.0.0",
      "model_name": "CheckboxModel",
      "state": {
       "disabled": true,
       "indent": false,
       "layout": "IPY_MODEL_0864edaa25144bf48c9b7ed4f0d216e1",
       "style": "IPY_MODEL_ea80f7308f9145d99205f2b6be1d87c6",
       "value": false
      }
     },
     "baf9237bb0184dd9bcca9a2c55e6cc53": {
      "model_module": "@jupyter-widgets/base",
      "model_module_version": "2.0.0",
      "model_name": "LayoutModel",
      "state": {
       "height": "30px",
       "width": "30px"
      }
     },
     "bbd7668356f24186a3c92e1a542cb5d5": {
      "model_module": "@jupyter-widgets/controls",
      "model_module_version": "2.0.0",
      "model_name": "HTMLStyleModel",
      "state": {
       "description_width": "",
       "font_size": null,
       "text_color": null
      }
     },
     "bbfb8aa04f5a43d09c07aaff282da98a": {
      "model_module": "@jupyter-widgets/jupyterlab-sidecar",
      "model_module_version": "^1.1",
      "model_name": "SidecarModel",
      "state": {
       "_model_module_version": "^1.1",
       "_view_module_version": "^1.1",
       "_widget_id": "e9d9b415-1a12-43a1-8e88-1120563c315c",
       "layout": "IPY_MODEL_92f50250f74847909c12a17bd6166016",
       "outputs": [
        {
         "data": {
          "application/vnd.jupyter.widget-view+json": {
           "model_id": "a7522e51fcd646a48830c2879dc4f2c8",
           "version_major": 2,
           "version_minor": 0
          },
          "text/plain": "PsBoard(children=(ControlPanel(children=(Button(description='Resume', disabled=True, icon='play', style=Button…"
         },
         "metadata": {},
         "output_type": "display_data"
        }
       ],
       "title": "Modules Output"
      }
     },
     "bc5e9fd5ca6e452e94ad13e5f8e4528e": {
      "model_module": "@jupyter-widgets/controls",
      "model_module_version": "2.0.0",
      "model_name": "VBoxModel",
      "state": {
       "_dom_classes": [
        "progressivis_guest_widget",
        "progressivis_guest_widget--Taxis_Borough_0"
       ],
       "children": [
        "IPY_MODEL_d6045084c451467baae41cd4d13ea113",
        "IPY_MODEL_334ba1e93a0d4336877c26da20f3f0be",
        "IPY_MODEL_17f30e1b75e54a05be71c9963dd15c52",
        "IPY_MODEL_90755f6fb59541e8a6e33b3429253e11",
        "IPY_MODEL_857a8dffca0740b685a283b9700d0aa7",
        "IPY_MODEL_2b2bd3459e304ae1843215e26cdd5928"
       ],
       "layout": "IPY_MODEL_c13f31e3a3c4404e8d91b2ea6d74a5da"
      }
     },
     "bc6838f19117443a92009ee3cd5cd5f0": {
      "model_module": "@jupyter-widgets/controls",
      "model_module_version": "2.0.0",
      "model_name": "LabelStyleModel",
      "state": {
       "description_width": "",
       "font_family": null,
       "font_size": null,
       "font_style": null,
       "font_variant": null,
       "font_weight": null,
       "text_color": null,
       "text_decoration": null
      }
     },
     "bc8ceb74e4fe4e3fa0a9f2d0ef80599f": {
      "model_module": "@jupyter-widgets/controls",
      "model_module_version": "2.0.0",
      "model_name": "VBoxModel",
      "state": {
       "_dom_classes": [
        "progressivis_guest_widget",
        "progressivis_guest_widget--Group_by_0"
       ],
       "children": [
        "IPY_MODEL_5a0cd6c6baff453caca017ec5208aa38",
        "IPY_MODEL_8f89207f67104b5698b227379cef3871",
        "IPY_MODEL_49825af29fd0485bbea1b54043a3e290"
       ],
       "layout": "IPY_MODEL_323ec55ea858484da15a479ae956f793"
      }
     },
     "bcead00fc2b7494e8fb70d30562a86bc": {
      "model_module": "@jupyter-widgets/base",
      "model_module_version": "2.0.0",
      "model_name": "LayoutModel",
      "state": {
       "height": "500px",
       "overflow": "auto"
      }
     },
     "bcfd4f8cee6d449f9c475ea5d7ab223a": {
      "model_module": "@jupyter-widgets/controls",
      "model_module_version": "2.0.0",
      "model_name": "CheckboxModel",
      "state": {
       "disabled": true,
       "indent": false,
       "layout": "IPY_MODEL_e5dbb8086acb40828a1f59319cb2bd4d",
       "style": "IPY_MODEL_ea43f7ca29764c97b71f4eb6252edc3d",
       "value": false
      }
     },
     "bd110b3c195e4261a88ab8c7f35bab5e": {
      "model_module": "@jupyter-widgets/controls",
      "model_module_version": "2.0.0",
      "model_name": "CheckboxStyleModel",
      "state": {
       "description_width": ""
      }
     },
     "bd56a3d4091f475288dfcc0e0d6bb68e": {
      "model_module": "@jupyter-widgets/controls",
      "model_module_version": "2.0.0",
      "model_name": "HTMLStyleModel",
      "state": {
       "description_width": "",
       "font_size": null,
       "text_color": null
      }
     },
     "bdd356a47e1f4628bfd26840fbfdf24d": {
      "model_module": "@jupyter-widgets/controls",
      "model_module_version": "2.0.0",
      "model_name": "LabelStyleModel",
      "state": {
       "description_width": "",
       "font_family": null,
       "font_size": null,
       "font_style": null,
       "font_variant": null,
       "font_weight": null,
       "text_color": null,
       "text_decoration": null
      }
     },
     "be86f2a6c892406d9cb4005fff528cc1": {
      "model_module": "@jupyter-widgets/controls",
      "model_module_version": "2.0.0",
      "model_name": "DropdownModel",
      "state": {
       "_options_labels": [
        "Borough",
        "passenger_count_sum",
        ""
       ],
       "disabled": true,
       "index": 0,
       "layout": "IPY_MODEL_98928c2ac8964ffeb3adbdee8a4ad198",
       "style": "IPY_MODEL_3546de2628ce459daf7c3e9717d6227e"
      }
     },
     "beab01adf8e14baf830d276c80eba144": {
      "model_module": "@jupyter-widgets/controls",
      "model_module_version": "2.0.0",
      "model_name": "CheckboxModel",
      "state": {
       "disabled": true,
       "indent": false,
       "layout": "IPY_MODEL_16ec570665c545ea8169c507129a06b0",
       "style": "IPY_MODEL_5841d8d52fda42a1b4796806be1d615a",
       "value": false
      }
     },
     "becad996700245ca89226b6dd5b84ff8": {
      "model_module": "@jupyter-widgets/controls",
      "model_module_version": "2.0.0",
      "model_name": "CheckboxStyleModel",
      "state": {
       "description_width": ""
      }
     },
     "bedbdce489f546a5b9fb28628c23246f": {
      "model_module": "@jupyter-widgets/controls",
      "model_module_version": "2.0.0",
      "model_name": "HTMLStyleModel",
      "state": {
       "description_width": "",
       "font_size": null,
       "text_color": null
      }
     },
     "bf9bd03a2ee34318b53b501c44ff715d": {
      "model_module": "@jupyter-widgets/base",
      "model_module_version": "2.0.0",
      "model_name": "LayoutModel",
      "state": {}
     },
     "c13f31e3a3c4404e8d91b2ea6d74a5da": {
      "model_module": "@jupyter-widgets/base",
      "model_module_version": "2.0.0",
      "model_name": "LayoutModel",
      "state": {}
     },
     "c14537da4f8e46b3bd4499bd3d806b27": {
      "model_module": "@jupyter-widgets/controls",
      "model_module_version": "2.0.0",
      "model_name": "LabelModel",
      "state": {
       "layout": "IPY_MODEL_6d12cee050be47a19e2f43762f8187ed",
       "style": "IPY_MODEL_f0824cb0a2fa4d1d8707371f297d3ad8",
       "value": "sum"
      }
     },
     "c19e401f826040358db35b4f8a025038": {
      "model_module": "@jupyter-widgets/controls",
      "model_module_version": "2.0.0",
      "model_name": "CheckboxModel",
      "state": {
       "disabled": true,
       "indent": false,
       "layout": "IPY_MODEL_f44865ffa780462597900f95db77e0d4",
       "style": "IPY_MODEL_f9772cb8fbf245f4bfb66dc2704dc77c",
       "value": false
      }
     },
     "c2099b322aa34a478a153b0d8f8159fc": {
      "model_module": "@jupyter-widgets/controls",
      "model_module_version": "2.0.0",
      "model_name": "HTMLModel",
      "state": {
       "layout": "IPY_MODEL_38603f9083244944a086fe0323f18cba",
       "style": "IPY_MODEL_73283a4a14a948d49d7a08a4fd434fe1"
      }
     },
     "c28d5ca511c34a3e829e2c48961e6d32": {
      "model_module": "@jupyter-widgets/controls",
      "model_module_version": "2.0.0",
      "model_name": "VBoxModel",
      "state": {
       "children": [
        "IPY_MODEL_e7c1293ec04547b8b4f93546977f088f",
        "IPY_MODEL_378508e8e9344f47960330e83d6dd53e"
       ],
       "layout": "IPY_MODEL_b618405e11194804a848a2827f0641b9"
      }
     },
     "c5051cbda87c4c9f9c80f3ad90406462": {
      "model_module": "@jupyter-widgets/controls",
      "model_module_version": "2.0.0",
      "model_name": "HTMLModel",
      "state": {
       "layout": "IPY_MODEL_f228ea1bc58442e491a60a0717677a8a",
       "style": "IPY_MODEL_8103094abe2947d6acbcbbebff16aecc"
      }
     },
     "c5abb84ac6d14aef9a40b1b415b26db3": {
      "model_module": "@jupyter-widgets/base",
      "model_module_version": "2.0.0",
      "model_name": "LayoutModel",
      "state": {}
     },
     "c5e88481d42349c9abc86538e8a92576": {
      "model_module": "@jupyter-widgets/base",
      "model_module_version": "2.0.0",
      "model_name": "LayoutModel",
      "state": {}
     },
     "c6fa7f175ac64231bf9cf8d3e2ef3d03": {
      "model_module": "@jupyter-widgets/controls",
      "model_module_version": "2.0.0",
      "model_name": "ButtonStyleModel",
      "state": {
       "font_family": null,
       "font_size": null,
       "font_style": null,
       "font_variant": null,
       "font_weight": null,
       "text_color": null,
       "text_decoration": null
      }
     },
     "c7b296ecccc24ca59cd3368371449360": {
      "model_module": "@jupyter-widgets/controls",
      "model_module_version": "2.0.0",
      "model_name": "ButtonStyleModel",
      "state": {
       "font_family": null,
       "font_size": null,
       "font_style": null,
       "font_variant": null,
       "font_weight": null,
       "text_color": null,
       "text_decoration": null
      }
     },
     "c81cb14a47d145a68982da05857d2a3e": {
      "model_module": "@jupyter-widgets/controls",
      "model_module_version": "2.0.0",
      "model_name": "ButtonStyleModel",
      "state": {
       "font_family": null,
       "font_size": null,
       "font_style": null,
       "font_variant": null,
       "font_weight": null,
       "text_color": null,
       "text_decoration": null
      }
     },
     "c82dc4c3ea564ff299d97cea3982742b": {
      "model_module": "@jupyter-widgets/base",
      "model_module_version": "2.0.0",
      "model_name": "LayoutModel",
      "state": {
       "width": "100%"
      }
     },
     "c8c5ec63a4be4891b18e90aedc9c5e4b": {
      "model_module": "@jupyter-widgets/controls",
      "model_module_version": "2.0.0",
      "model_name": "CheckboxModel",
      "state": {
       "description": "Record this scenario",
       "disabled": true,
       "layout": "IPY_MODEL_5cc836b6d835430baada64ec1775aee5",
       "style": "IPY_MODEL_6fae4077aa484b0bb0546b1ced28fd39",
       "value": true
      }
     },
     "c8f07bd4c28a48d08c1dca14b653b5a8": {
      "model_module": "@jupyter-widgets/base",
      "model_module_version": "2.0.0",
      "model_name": "LayoutModel",
      "state": {
       "grid_template_columns": "200px repeat(7, 70px)"
      }
     },
     "c90449f1b7fa4436aad7a22ba42a36f6": {
      "model_module": "@jupyter-widgets/controls",
      "model_module_version": "2.0.0",
      "model_name": "ButtonModel",
      "state": {
       "description": "Step",
       "disabled": true,
       "icon": "step-forward",
       "layout": "IPY_MODEL_70bd62fcf3124b9aad803d48836cece7",
       "style": "IPY_MODEL_95a283ed3c9a4cccad793e37eb9d0d51",
       "tooltip": "Step"
      }
     },
     "c926155984d14f87b96fc10f924abf01": {
      "model_module": "@jupyter-widgets/controls",
      "model_module_version": "2.0.0",
      "model_name": "ButtonStyleModel",
      "state": {
       "font_family": null,
       "font_size": null,
       "font_style": null,
       "font_variant": null,
       "font_weight": null,
       "text_color": null,
       "text_decoration": null
      }
     },
     "c93e468ce291411a96de72f961f47c94": {
      "model_module": "@jupyter-widgets/controls",
      "model_module_version": "2.0.0",
      "model_name": "CheckboxStyleModel",
      "state": {
       "description_width": ""
      }
     },
     "c98f0d6b80904f9184ea43df46c88206": {
      "model_module": "@jupyter-widgets/controls",
      "model_module_version": "2.0.0",
      "model_name": "LabelStyleModel",
      "state": {
       "description_width": "",
       "font_family": null,
       "font_size": null,
       "font_style": null,
       "font_variant": null,
       "font_weight": null,
       "text_color": null,
       "text_decoration": null
      }
     },
     "c9b59a945b5544ffbf96b97202b2e0b8": {
      "model_module": "@jupyter-widgets/base",
      "model_module_version": "2.0.0",
      "model_name": "LayoutModel",
      "state": {}
     },
     "ca3565c6afad4645b54c45d8bd0dff70": {
      "model_module": "@jupyter-widgets/base",
      "model_module_version": "2.0.0",
      "model_name": "LayoutModel",
      "state": {
       "width": "100%"
      }
     },
     "ca48b0d2a4144fa28e6e88f71ba40518": {
      "model_module": "@jupyter-widgets/controls",
      "model_module_version": "2.0.0",
      "model_name": "HTMLStyleModel",
      "state": {
       "description_width": "",
       "font_size": null,
       "text_color": null
      }
     },
     "cb9af121c7c8422fb927a7d1ba38e6ef": {
      "model_module": "@jupyter-widgets/controls",
      "model_module_version": "2.0.0",
      "model_name": "ButtonModel",
      "state": {
       "description": "Save schema ...",
       "disabled": true,
       "icon": "check",
       "layout": "IPY_MODEL_a401a1f324eb4188b4ad1a604d927f2f",
       "style": "IPY_MODEL_651aca0658c84c1bbdb0c5fe4271506b",
       "tooltip": "Save schema ..."
      }
     },
     "cb9e1a06fc6d411a8f9b00f37be6e72b": {
      "model_module": "@jupyter-widgets/base",
      "model_module_version": "2.0.0",
      "model_name": "LayoutModel",
      "state": {}
     },
     "cbc02422d0494bf3bcfecbd59fddc937": {
      "model_module": "@jupyter-widgets/controls",
      "model_module_version": "2.0.0",
      "model_name": "LabelModel",
      "state": {
       "layout": "IPY_MODEL_ba8606db11974582a306a838926c774c",
       "style": "IPY_MODEL_b42e30226a274c64b8cf612879b0ab3b",
       "value": "stddev"
      }
     },
     "cc06aa273be14285989568864e42fbca": {
      "model_module": "@jupyter-widgets/base",
      "model_module_version": "2.0.0",
      "model_name": "LayoutModel",
      "state": {}
     },
     "ccc7134aedc948088258b8100e4d2dba": {
      "model_module": "@jupyter-widgets/controls",
      "model_module_version": "2.0.0",
      "model_name": "TextModel",
      "state": {
       "disabled": true,
       "layout": "IPY_MODEL_1469969e363f4d548868c14d6987eac6",
       "placeholder": "optional alias",
       "style": "IPY_MODEL_569b46cddd9d4a6e9d52f6d95c5ec714",
       "value": "Taxis Borough"
      }
     },
     "cd2220327bf149eea6a2dbd775f355db": {
      "model_module": "@jupyter-widgets/controls",
      "model_module_version": "2.0.0",
      "model_name": "ButtonStyleModel",
      "state": {
       "font_family": null,
       "font_size": null,
       "font_style": null,
       "font_variant": null,
       "font_weight": null,
       "text_color": null,
       "text_decoration": null
      }
     },
     "cd5f2d5e36594030a7d05a4d881e664b": {
      "model_module": "@jupyter-widgets/base",
      "model_module_version": "2.0.0",
      "model_name": "LayoutModel",
      "state": {}
     },
     "ce293f754a7942a193245881f79ab0e3": {
      "model_module": "@jupyter-widgets/base",
      "model_module_version": "2.0.0",
      "model_name": "LayoutModel",
      "state": {}
     },
     "ce97cbfe590f4b8a9ca77ef2d9c13f43": {
      "model_module": "@jupyter-widgets/base",
      "model_module_version": "2.0.0",
      "model_name": "LayoutModel",
      "state": {}
     },
     "ce98544befc742e78ada82151f8bbfbc": {
      "model_module": "@jupyter-widgets/controls",
      "model_module_version": "2.0.0",
      "model_name": "DescriptionStyleModel",
      "state": {
       "description_width": ""
      }
     },
     "cec96f95a1b143b8b73ab55ac3b85030": {
      "model_module": "@jupyter-widgets/controls",
      "model_module_version": "2.0.0",
      "model_name": "CheckboxStyleModel",
      "state": {
       "description_width": ""
      }
     },
     "cf533ce3080b4a7cb3d0dde328d39c43": {
      "model_module": "@jupyter-widgets/base",
      "model_module_version": "2.0.0",
      "model_name": "LayoutModel",
      "state": {}
     },
     "cf88f27302b84a2f860532dbabe4d5ca": {
      "model_module": "@jupyter-widgets/controls",
      "model_module_version": "2.0.0",
      "model_name": "HTMLStyleModel",
      "state": {
       "description_width": "",
       "font_size": null,
       "text_color": null
      }
     },
     "d0cf407816644ab28b1a2afd96258bd1": {
      "model_module": "@jupyter-widgets/base",
      "model_module_version": "2.0.0",
      "model_name": "LayoutModel",
      "state": {}
     },
     "d151ec15bcc340baa247e4636602e9b0": {
      "model_module": "@jupyter-widgets/controls",
      "model_module_version": "2.0.0",
      "model_name": "CheckboxModel",
      "state": {
       "description": "Active",
       "disabled": false,
       "layout": "IPY_MODEL_22db9257f13342078113c4cc76b3f9df",
       "style": "IPY_MODEL_a7dc38f1475146f1802ac5dca1b8e9c6",
       "value": true
      }
     },
     "d1c3aea64fd74eb69544d0452576bfa6": {
      "model_module": "@jupyter-widgets/controls",
      "model_module_version": "2.0.0",
      "model_name": "ButtonModel",
      "state": {
       "description": "Stop",
       "icon": "stop",
       "layout": "IPY_MODEL_9219c8f4b7974abfb0d56cf77a56f35c",
       "style": "IPY_MODEL_65e99e8eb4ea4b3a93c9ada9df5e6015",
       "tooltip": "Stop"
      }
     },
     "d20c2cc41940426d86d071bc901008c1": {
      "model_module": "@jupyter-widgets/controls",
      "model_module_version": "2.0.0",
      "model_name": "HTMLStyleModel",
      "state": {
       "description_width": "",
       "font_size": null,
       "text_color": null
      }
     },
     "d37c9bef4d6c42929fa6340f1dc65d3e": {
      "model_module": "@jupyter-widgets/output",
      "model_module_version": "1.0.0",
      "model_name": "OutputModel",
      "state": {
       "layout": "IPY_MODEL_e319bf20d4554954a9ce064c4af8f3a0"
      }
     },
     "d476ff67a75949299233a4a20d946257": {
      "model_module": "@jupyter-widgets/base",
      "model_module_version": "2.0.0",
      "model_name": "LayoutModel",
      "state": {}
     },
     "d4f1a2f26cb44c5aac332bd566f3dea8": {
      "model_module": "@jupyter-widgets/base",
      "model_module_version": "2.0.0",
      "model_name": "LayoutModel",
      "state": {}
     },
     "d51ab72e95b74f25994be1006e87e5b8": {
      "model_module": "jupyter-progressivis",
      "model_module_version": "^0.1.0",
      "model_name": "VegaWidgetModel",
      "state": {
       "_df": null,
       "_img_url": "null",
       "_model_module": "jupyter-progressivis",
       "_model_module_version": "^0.1.0",
       "_opt_source": "null",
       "_spec_source": "{\"$schema\": \"https://vega.github.io/schema/vega-lite/v4.8.1.json\", \"config\": {\"view\": {\"continuousHeight\": 300, \"continuousWidth\": 400}}, \"data\": {\"name\": \"data\"}, \"layer\": [{\"encoding\": {\"color\": {\"field\": \"corr\", \"type\": \"quantitative\"}, \"x\": {\"field\": \"var2\", \"type\": \"ordinal\"}, \"y\": {\"field\": \"var\", \"type\": \"ordinal\"}}, \"height\": 400, \"mark\": \"rect\", \"width\": 400}, {\"encoding\": {\"color\": {\"condition\": {\"test\": \"(datum.corr > 0.5)\", \"value\": \"white\"}, \"value\": \"black\"}, \"text\": {\"field\": \"corr_label\", \"type\": \"nominal\"}, \"x\": {\"field\": \"var2\", \"type\": \"ordinal\", \"axis\": {\"labelAngle\": -30, \"labelLimit\": 10000}}, \"y\": {\"field\": \"var\", \"type\": \"ordinal\"}}, \"height\": 400, \"mark\": \"text\", \"width\": 400}]}",
       "_view_module": "jupyter-progressivis",
       "_view_module_version": "^0.1.0",
       "layout": "IPY_MODEL_5cc899195d3749ceb7570c51e7d84890"
      }
     },
     "d550f771b8714ccabf9c316017d63b8a": {
      "model_module": "@jupyter-widgets/controls",
      "model_module_version": "2.0.0",
      "model_name": "LabelStyleModel",
      "state": {
       "description_width": "",
       "font_family": null,
       "font_size": null,
       "font_style": null,
       "font_variant": null,
       "font_weight": null,
       "text_color": null,
       "text_decoration": null
      }
     },
     "d5e31e46195849aa93eddb2fe7caa508": {
      "model_module": "@jupyter-widgets/base",
      "model_module_version": "2.0.0",
      "model_name": "LayoutModel",
      "state": {}
     },
     "d5f25068eb234e6aa76039d851c6b74e": {
      "model_module": "@jupyter-widgets/controls",
      "model_module_version": "2.0.0",
      "model_name": "DropdownModel",
      "state": {
       "_options_labels": [
        "",
        "scatterplot.json",
        "bar_chart.json",
        "line_chart.json"
       ],
       "description": "Schemas",
       "disabled": true,
       "index": 2,
       "layout": "IPY_MODEL_9b10b326ae4e4965b2efec53c3ae5d8d",
       "style": "IPY_MODEL_51659b81f52e43ad874758cc46bc165f"
      }
     },
     "d6045084c451467baae41cd4d13ea113": {
      "model_module": "@jupyter-widgets/controls",
      "model_module_version": "2.0.0",
      "model_name": "HBoxModel",
      "state": {
       "children": [
        "IPY_MODEL_b076aa8cd645499e8cc86abfbf169401",
        "IPY_MODEL_691f97d7d9814ed48f8c4f0d201d3bf0"
       ],
       "layout": "IPY_MODEL_aa8a9da8d36b400c89ae658568397483"
      }
     },
     "d6121b5b61324689ae2653c101cfdd4b": {
      "model_module": "@jupyter-widgets/controls",
      "model_module_version": "2.0.0",
      "model_name": "HBoxModel",
      "state": {
       "children": [
        "IPY_MODEL_e519711dce3c4020bf27df4b0307702f"
       ],
       "layout": "IPY_MODEL_9308605184eb4495baad9e9a7356a4cc"
      }
     },
     "d6cb06ac105740bb91c5f0192b90512c": {
      "model_module": "@jupyter-widgets/controls",
      "model_module_version": "2.0.0",
      "model_name": "HTMLStyleModel",
      "state": {
       "description_width": "",
       "font_size": null,
       "text_color": null
      }
     },
     "d7cac2603e684032b06ae6f36a30d8a2": {
      "model_module": "@jupyter-widgets/controls",
      "model_module_version": "2.0.0",
      "model_name": "HTMLStyleModel",
      "state": {
       "description_width": "",
       "font_size": null,
       "text_color": null
      }
     },
     "d7e4f796848848a7882d0dd86fa40e0e": {
      "model_module": "@jupyter-widgets/base",
      "model_module_version": "2.0.0",
      "model_name": "LayoutModel",
      "state": {}
     },
     "d9c02c40ac394b7ab47cae92a832a7c7": {
      "model_module": "@jupyter-widgets/controls",
      "model_module_version": "2.0.0",
      "model_name": "CheckboxModel",
      "state": {
       "disabled": true,
       "indent": false,
       "layout": "IPY_MODEL_239dbc16535f4bc69cb6fb4f3d8899e8",
       "style": "IPY_MODEL_e1fa339cd7e14da8a379cad136260c21",
       "value": false
      }
     },
     "daa7a9b25a7b4e49bb0edf90e4ff2c97": {
      "model_module": "@jupyter-widgets/controls",
      "model_module_version": "2.0.0",
      "model_name": "HTMLModel",
      "state": {
       "layout": "IPY_MODEL_eab5969591064c5daf8b072d8520cf97",
       "style": "IPY_MODEL_cf88f27302b84a2f860532dbabe4d5ca"
      }
     },
     "dac9ac7bea3a4e02a0e938bab7ee38bd": {
      "model_module": "@jupyter-widgets/controls",
      "model_module_version": "2.0.0",
      "model_name": "LabelStyleModel",
      "state": {
       "description_width": "",
       "font_family": null,
       "font_size": null,
       "font_style": null,
       "font_variant": null,
       "font_weight": null,
       "text_color": null,
       "text_decoration": null
      }
     },
     "dbe321d80deb4696a91bdf226a2ca78e": {
      "model_module": "@jupyter-widgets/base",
      "model_module_version": "2.0.0",
      "model_name": "LayoutModel",
      "state": {
       "justify_content": "flex-end"
      }
     },
     "dc11ff49527c45159c5afd0a4c43c572": {
      "model_module": "@jupyter-widgets/controls",
      "model_module_version": "2.0.0",
      "model_name": "LabelStyleModel",
      "state": {
       "description_width": "",
       "font_family": null,
       "font_size": null,
       "font_style": null,
       "font_variant": null,
       "font_weight": null,
       "text_color": null,
       "text_decoration": null
      }
     },
     "dc18a511396e4a98833f808d5ecb604d": {
      "model_module": "@jupyter-widgets/controls",
      "model_module_version": "2.0.0",
      "model_name": "CheckboxModel",
      "state": {
       "disabled": true,
       "indent": false,
       "layout": "IPY_MODEL_d0cf407816644ab28b1a2afd96258bd1",
       "style": "IPY_MODEL_8a3a1791cf614d118e64045fd5aa5c6d",
       "value": false
      }
     },
     "dcd9435ce6f142b48ee174b7250f9fed": {
      "model_module": "@jupyter-widgets/controls",
      "model_module_version": "2.0.0",
      "model_name": "LabelStyleModel",
      "state": {
       "description_width": "",
       "font_family": null,
       "font_size": null,
       "font_style": null,
       "font_variant": null,
       "font_weight": null,
       "text_color": null,
       "text_decoration": null
      }
     },
     "dd045341638e4160a616a635b1e6c7cc": {
      "model_module": "@jupyter-widgets/controls",
      "model_module_version": "2.0.0",
      "model_name": "CheckboxModel",
      "state": {
       "disabled": true,
       "indent": false,
       "layout": "IPY_MODEL_03f930dd86ab45f0ad73dbcc54b8ed32",
       "style": "IPY_MODEL_b7dd664d00524c2aa839c82a32614344",
       "value": true
      }
     },
     "dd367fb370ec454d8c9e9fba93266896": {
      "model_module": "@jupyter-widgets/controls",
      "model_module_version": "2.0.0",
      "model_name": "CheckboxStyleModel",
      "state": {
       "description_width": ""
      }
     },
     "dd807c13277d4a459beead11b97ee307": {
      "model_module": "@jupyter-widgets/controls",
      "model_module_version": "2.0.0",
      "model_name": "CheckboxStyleModel",
      "state": {
       "description_width": ""
      }
     },
     "ddd88083f3e84a67abfae69e80a5193a": {
      "model_module": "@jupyter-widgets/base",
      "model_module_version": "2.0.0",
      "model_name": "LayoutModel",
      "state": {}
     },
     "de0557fb811548e19bcdfa41fd13bfeb": {
      "model_module": "@jupyter-widgets/controls",
      "model_module_version": "2.0.0",
      "model_name": "HTMLModel",
      "state": {
       "layout": "IPY_MODEL_b7b8595a98be4b2f9806e6ffcf1cfafb",
       "style": "IPY_MODEL_736b6ba2adf147e18f6d523ef1e70a5c"
      }
     },
     "de078c7027ad4e338eeafdc54e6953a4": {
      "model_module": "@jupyter-widgets/base",
      "model_module_version": "2.0.0",
      "model_name": "LayoutModel",
      "state": {}
     },
     "df28ac995832437fbe528b3450848185": {
      "model_module": "@jupyter-widgets/controls",
      "model_module_version": "2.0.0",
      "model_name": "DescriptionStyleModel",
      "state": {
       "description_width": ""
      }
     },
     "df43181a049c412fa4c830c38111ec90": {
      "model_module": "@jupyter-widgets/base",
      "model_module_version": "2.0.0",
      "model_name": "LayoutModel",
      "state": {}
     },
     "dfe3c8a9ddb8467ca048999d69d54512": {
      "model_module": "@jupyter-widgets/controls",
      "model_module_version": "2.0.0",
      "model_name": "LabelModel",
      "state": {
       "layout": "IPY_MODEL_1fc19af97aa64335a1dd38b4241d7480",
       "style": "IPY_MODEL_04885113096543168565d8beec8da3b3",
       "value": "Vega columns"
      }
     },
     "e01cd4248eb34fb2b972b3037897d767": {
      "model_module": "@jupyter-widgets/controls",
      "model_module_version": "2.0.0",
      "model_name": "HTMLStyleModel",
      "state": {
       "description_width": "",
       "font_size": null,
       "text_color": null
      }
     },
     "e02f712eef4846b7b77ab45dfea50b16": {
      "model_module": "@jupyter-widgets/controls",
      "model_module_version": "2.0.0",
      "model_name": "DropdownModel",
      "state": {
       "_options_labels": [
        "Borough",
        "passenger_count_sum",
        ""
       ],
       "disabled": true,
       "index": 1,
       "layout": "IPY_MODEL_37c1d2c013a34dc2b4e67eb1bda22317",
       "style": "IPY_MODEL_ab583d1d49f2414ab6d2d9fad7d64d5f"
      }
     },
     "e032710efdc64793811ab11965d8fac4": {
      "model_module": "@jupyter-widgets/base",
      "model_module_version": "2.0.0",
      "model_name": "LayoutModel",
      "state": {}
     },
     "e07717dd45b847fca0202f1c18172c58": {
      "model_module": "@jupyter-widgets/base",
      "model_module_version": "2.0.0",
      "model_name": "LayoutModel",
      "state": {}
     },
     "e0dcd5861b9f4052a28e1f55374778b3": {
      "model_module": "@jupyter-widgets/controls",
      "model_module_version": "2.0.0",
      "model_name": "HTMLModel",
      "state": {
       "layout": "IPY_MODEL_a08085d25edd4b61b13b7a1925e1d177",
       "style": "IPY_MODEL_1f482652fa7542e3a40ea99a3592ff55"
      }
     },
     "e1fa339cd7e14da8a379cad136260c21": {
      "model_module": "@jupyter-widgets/controls",
      "model_module_version": "2.0.0",
      "model_name": "CheckboxStyleModel",
      "state": {
       "description_width": ""
      }
     },
     "e2ac64febb834f16aa836d656c06e0ef": {
      "model_module": "@jupyter-widgets/base",
      "model_module_version": "2.0.0",
      "model_name": "LayoutModel",
      "state": {}
     },
     "e2ec8110497d441b8dbe3957d26b52db": {
      "model_module": "@jupyter-widgets/base",
      "model_module_version": "2.0.0",
      "model_name": "LayoutModel",
      "state": {}
     },
     "e319bf20d4554954a9ce064c4af8f3a0": {
      "model_module": "@jupyter-widgets/base",
      "model_module_version": "2.0.0",
      "model_name": "LayoutModel",
      "state": {}
     },
     "e3bd2af3e0594d02a21b9380c29bf811": {
      "model_module": "@jupyter-widgets/controls",
      "model_module_version": "2.0.0",
      "model_name": "TabModel",
      "state": {
       "layout": "IPY_MODEL_418a7cc7e4a3494995d481a1bb44300f"
      }
     },
     "e42ec715de4c4f5f8bbf631b3840271b": {
      "model_module": "@jupyter-widgets/controls",
      "model_module_version": "2.0.0",
      "model_name": "CheckboxStyleModel",
      "state": {
       "description_width": ""
      }
     },
     "e496c6663cf14351bd8e3bcf76cb34d0": {
      "model_module": "@jupyter-widgets/controls",
      "model_module_version": "2.0.0",
      "model_name": "HTMLModel",
      "state": {
       "layout": "IPY_MODEL_51be6b138e6d46a996139292b52ee34f",
       "style": "IPY_MODEL_06ab04f2e9bd4953a8ca2149fc0bc934"
      }
     },
     "e5103ed0ffb346adbce2db7f455b939a": {
      "model_module": "@jupyter-widgets/base",
      "model_module_version": "2.0.0",
      "model_name": "LayoutModel",
      "state": {}
     },
     "e519711dce3c4020bf27df4b0307702f": {
      "model_module": "@jupyter-widgets/controls",
      "model_module_version": "2.0.0",
      "model_name": "ButtonModel",
      "state": {
       "button_style": "danger",
       "icon": "trash",
       "layout": "IPY_MODEL_97a3b1feb37c49919f84ec5d1dec2846",
       "style": "IPY_MODEL_62196f8dbae24edea21586a21b52ac7d"
      }
     },
     "e556513ce122423e8e634c7cca290427": {
      "model_module": "@jupyter-widgets/controls",
      "model_module_version": "2.0.0",
      "model_name": "ProgressStyleModel",
      "state": {
       "description_width": ""
      }
     },
     "e5dbb8086acb40828a1f59319cb2bd4d": {
      "model_module": "@jupyter-widgets/base",
      "model_module_version": "2.0.0",
      "model_name": "LayoutModel",
      "state": {}
     },
     "e610181e77f94094b8002d9833361c48": {
      "model_module": "@jupyter-widgets/controls",
      "model_module_version": "2.0.0",
      "model_name": "VBoxModel",
      "state": {
       "_dom_classes": [
        "progressivis_guest_widget",
        "progressivis_guest_widget--root_0"
       ],
       "children": [
        "IPY_MODEL_a5100a25a63e42ccadfb1f4b05b15f64",
        "IPY_MODEL_29b84e8ce63941bb8eb2425761cf6b29",
        "IPY_MODEL_c8c5ec63a4be4891b18e90aedc9c5e4b",
        "IPY_MODEL_1274bcbcda9a4c12bee233d9157e4680",
        "IPY_MODEL_ec224eb82f1f4e318d3d2abaa1ec97d6"
       ],
       "layout": "IPY_MODEL_43b044c2c6b4426885f41e4d57795a8a"
      }
     },
     "e76819973b3b4d508bc0cfb7d8be5fc4": {
      "model_module": "@jupyter-widgets/controls",
      "model_module_version": "2.0.0",
      "model_name": "CheckboxModel",
      "state": {
       "disabled": true,
       "indent": false,
       "layout": "IPY_MODEL_6b892dd934f642658f1af50c89b6b06f",
       "style": "IPY_MODEL_13bd31e938924e13828b306a36415351",
       "value": false
      }
     },
     "e7c1293ec04547b8b4f93546977f088f": {
      "model_module": "@jupyter-widgets/controls",
      "model_module_version": "2.0.0",
      "model_name": "LabelModel",
      "state": {
       "layout": "IPY_MODEL_062791f86a984138b5a2278c68a93a92",
       "style": "IPY_MODEL_c98f0d6b80904f9184ea43df46c88206"
      }
     },
     "e812892adcf04b9a8324f6468031707d": {
      "model_module": "@jupyter-widgets/base",
      "model_module_version": "2.0.0",
      "model_name": "LayoutModel",
      "state": {}
     },
     "e87315d33acb41be8a401401ce228a55": {
      "model_module": "@jupyter-widgets/base",
      "model_module_version": "2.0.0",
      "model_name": "LayoutModel",
      "state": {
       "width": "100%"
      }
     },
     "e93d886279014059bfb54a6b78b91b10": {
      "model_module": "@jupyter-widgets/controls",
      "model_module_version": "2.0.0",
      "model_name": "HTMLModel",
      "state": {
       "layout": "IPY_MODEL_51d7032c1d9c439ca64dbec6aa36712e",
       "style": "IPY_MODEL_7ecdf72a8f8a4668aea31018f8d13424"
      }
     },
     "e9710515970b45f2ae81096506879e5f": {
      "model_module": "@jupyter-widgets/controls",
      "model_module_version": "2.0.0",
      "model_name": "CheckboxStyleModel",
      "state": {
       "description_width": ""
      }
     },
     "e9bb8f82ece34903bcfbd63296618c43": {
      "model_module": "@jupyter-widgets/base",
      "model_module_version": "2.0.0",
      "model_name": "LayoutModel",
      "state": {}
     },
     "e9d9ff8f8abc4ec8b74a8d30fedd3fd0": {
      "model_module": "@jupyter-widgets/base",
      "model_module_version": "2.0.0",
      "model_name": "LayoutModel",
      "state": {}
     },
     "ea43f7ca29764c97b71f4eb6252edc3d": {
      "model_module": "@jupyter-widgets/controls",
      "model_module_version": "2.0.0",
      "model_name": "CheckboxStyleModel",
      "state": {
       "description_width": ""
      }
     },
     "ea80f7308f9145d99205f2b6be1d87c6": {
      "model_module": "@jupyter-widgets/controls",
      "model_module_version": "2.0.0",
      "model_name": "CheckboxStyleModel",
      "state": {
       "description_width": ""
      }
     },
     "eab5969591064c5daf8b072d8520cf97": {
      "model_module": "@jupyter-widgets/base",
      "model_module_version": "2.0.0",
      "model_name": "LayoutModel",
      "state": {}
     },
     "eac759fa97b7426a9dbea525ff5d20c6": {
      "model_module": "@jupyter-widgets/controls",
      "model_module_version": "2.0.0",
      "model_name": "HTMLStyleModel",
      "state": {
       "description_width": "",
       "font_size": null,
       "text_color": null
      }
     },
     "eaf66a9e8026456c8be31ac575c6aa79": {
      "model_module": "@jupyter-widgets/base",
      "model_module_version": "2.0.0",
      "model_name": "LayoutModel",
      "state": {}
     },
     "eb04f052c05e4676b8d001ab01399b26": {
      "model_module": "@jupyter-widgets/controls",
      "model_module_version": "2.0.0",
      "model_name": "HTMLStyleModel",
      "state": {
       "description_width": "",
       "font_size": null,
       "text_color": null
      }
     },
     "eb14cd3ce34d4fcda6a5aac6ccb19003": {
      "model_module": "@jupyter-widgets/controls",
      "model_module_version": "2.0.0",
      "model_name": "CheckboxStyleModel",
      "state": {
       "description_width": ""
      }
     },
     "eb9322b2e51648b09409d7d5127733aa": {
      "model_module": "@jupyter-widgets/base",
      "model_module_version": "2.0.0",
      "model_name": "LayoutModel",
      "state": {}
     },
     "ebdd700ccf1d4817bfa7b1178f2007b4": {
      "model_module": "@jupyter-widgets/controls",
      "model_module_version": "2.0.0",
      "model_name": "ButtonStyleModel",
      "state": {
       "font_family": null,
       "font_size": null,
       "font_style": null,
       "font_variant": null,
       "font_weight": null,
       "text_color": null,
       "text_decoration": null
      }
     },
     "ec01890bf88f4587b4615e8ee8983b47": {
      "model_module": "@jupyter-widgets/controls",
      "model_module_version": "2.0.0",
      "model_name": "ProgressStyleModel",
      "state": {
       "bar_color": "black",
       "description_width": ""
      }
     },
     "ec224eb82f1f4e318d3d2abaa1ec97d6": {
      "model_module": "@jupyter-widgets/controls",
      "model_module_version": "2.0.0",
      "model_name": "HBoxModel",
      "state": {
       "layout": "IPY_MODEL_4fa884b4af8e47aab8a87d5ffdd744da"
      }
     },
     "ec74e169e7c247ca97ffeff166bcafa7": {
      "model_module": "@jupyter-widgets/base",
      "model_module_version": "2.0.0",
      "model_name": "LayoutModel",
      "state": {}
     },
     "ec8fc8836dd8435ca87a98091f5271bf": {
      "model_module": "@jupyter-widgets/base",
      "model_module_version": "2.0.0",
      "model_name": "LayoutModel",
      "state": {}
     },
     "ecde66344983459d9be703d5f395a6bd": {
      "model_module": "@jupyter-widgets/controls",
      "model_module_version": "2.0.0",
      "model_name": "IntProgressModel",
      "state": {
       "description": "Progress",
       "layout": "IPY_MODEL_9a7643f0393644a8835f1e992321113a",
       "max": 13157677,
       "style": "IPY_MODEL_1f0da46ae9384fb488c3c4ad8ccdb86c",
       "value": 4108000
      }
     },
     "ed115b29cdb74c399393e4137de3a04a": {
      "model_module": "@jupyter-widgets/controls",
      "model_module_version": "2.0.0",
      "model_name": "DescriptionStyleModel",
      "state": {
       "description_width": ""
      }
     },
     "ed29864ea51d4f6bbe43ddada8723ba5": {
      "model_module": "@jupyter-widgets/base",
      "model_module_version": "2.0.0",
      "model_name": "LayoutModel",
      "state": {}
     },
     "ef79327fc35343b6be0bf61fb671d1f5": {
      "model_module": "@jupyter-widgets/controls",
      "model_module_version": "2.0.0",
      "model_name": "CheckboxStyleModel",
      "state": {
       "description_width": ""
      }
     },
     "efc9e3799e5f4f299a012c6e47e29e8f": {
      "model_module": "@jupyter-widgets/base",
      "model_module_version": "2.0.0",
      "model_name": "LayoutModel",
      "state": {}
     },
     "f0092ea680bb45b2ab4dac55f166b30f": {
      "model_module": "@jupyter-widgets/base",
      "model_module_version": "2.0.0",
      "model_name": "LayoutModel",
      "state": {}
     },
     "f0824cb0a2fa4d1d8707371f297d3ad8": {
      "model_module": "@jupyter-widgets/controls",
      "model_module_version": "2.0.0",
      "model_name": "LabelStyleModel",
      "state": {
       "description_width": "",
       "font_family": null,
       "font_size": null,
       "font_style": null,
       "font_variant": null,
       "font_weight": null,
       "text_color": null,
       "text_decoration": null
      }
     },
     "f121ccfbfc58424795014c91258e98d3": {
      "model_module": "@jupyter-widgets/controls",
      "model_module_version": "2.0.0",
      "model_name": "CheckboxModel",
      "state": {
       "disabled": true,
       "indent": false,
       "layout": "IPY_MODEL_e032710efdc64793811ab11965d8fac4",
       "style": "IPY_MODEL_259e7e7163124ed689c9c55fb5ef6157",
       "value": false
      }
     },
     "f140fbded404468194463e72ea963e09": {
      "model_module": "@jupyter-widgets/controls",
      "model_module_version": "2.0.0",
      "model_name": "HTMLModel",
      "state": {
       "layout": "IPY_MODEL_323cc23fbfaa4878aebb012b39c93034",
       "style": "IPY_MODEL_d20c2cc41940426d86d071bc901008c1"
      }
     },
     "f1413f412c6f462a8fc376a572c4582b": {
      "model_module": "@jupyter-widgets/controls",
      "model_module_version": "2.0.0",
      "model_name": "CheckboxStyleModel",
      "state": {
       "description_width": ""
      }
     },
     "f1478e98c10649919c63de8ffc79fc0a": {
      "model_module": "@jupyter-widgets/controls",
      "model_module_version": "2.0.0",
      "model_name": "DescriptionStyleModel",
      "state": {
       "description_width": ""
      }
     },
     "f1c28df6fcd54e8285145e49189c6d70": {
      "model_module": "@jupyter-widgets/base",
      "model_module_version": "2.0.0",
      "model_name": "LayoutModel",
      "state": {}
     },
     "f1c6921e4e4f40e9903499c6c62ac8ce": {
      "model_module": "@jupyter-widgets/controls",
      "model_module_version": "2.0.0",
      "model_name": "HTMLModel",
      "state": {
       "layout": "IPY_MODEL_97edd2318b6a4068a031cebc12041ef4",
       "style": "IPY_MODEL_267731428fed48e7ae2d99f2ac85f084"
      }
     },
     "f228ea1bc58442e491a60a0717677a8a": {
      "model_module": "@jupyter-widgets/base",
      "model_module_version": "2.0.0",
      "model_name": "LayoutModel",
      "state": {}
     },
     "f355790efb224e23bfece9f8457b10ff": {
      "model_module": "@jupyter-widgets/controls",
      "model_module_version": "2.0.0",
      "model_name": "HBoxModel",
      "state": {
       "children": [
        "IPY_MODEL_4cd25e02878d43ce83796186dbd9fc95",
        "IPY_MODEL_2c39851258a34cbb86015bb25f4e2875",
        "IPY_MODEL_f140fbded404468194463e72ea963e09"
       ],
       "layout": "IPY_MODEL_ce293f754a7942a193245881f79ab0e3"
      }
     },
     "f3e87a4bbb73455b81b167c2ac5025bd": {
      "model_module": "@jupyter-widgets/controls",
      "model_module_version": "2.0.0",
      "model_name": "CheckboxModel",
      "state": {
       "disabled": true,
       "indent": false,
       "layout": "IPY_MODEL_aa1fda9674c140949bca17b7d821f811",
       "style": "IPY_MODEL_dd367fb370ec454d8c9e9fba93266896",
       "value": false
      }
     },
     "f3ee89b850e740c18349b116fd1ecd13": {
      "model_module": "@jupyter-widgets/controls",
      "model_module_version": "2.0.0",
      "model_name": "VBoxModel",
      "state": {
       "_dom_classes": [
        "progressivis_guest_widget",
        "progressivis_guest_widget--Any_Vega_0"
       ],
       "children": [
        "IPY_MODEL_d5f25068eb234e6aa76039d851c6b74e",
        "IPY_MODEL_816e656cd5ea4a5c82ba25a027cf789f",
        "IPY_MODEL_29a9637cac3d4244a8dec82c83aafdc9",
        "IPY_MODEL_97bed25c62fe4f4f987aac4ffdcffbb4",
        "IPY_MODEL_3e93f21dec6448cb9402b0819b944835",
        "IPY_MODEL_5e9bab5ad7714dd7a642903cf3a1228a"
       ],
       "layout": "IPY_MODEL_d4f1a2f26cb44c5aac332bd566f3dea8"
      }
     },
     "f44865ffa780462597900f95db77e0d4": {
      "model_module": "@jupyter-widgets/base",
      "model_module_version": "2.0.0",
      "model_name": "LayoutModel",
      "state": {}
     },
     "f47e59c26e2a425e9d13f2f18d8928c9": {
      "model_module": "@jupyter-widgets/base",
      "model_module_version": "2.0.0",
      "model_name": "LayoutModel",
      "state": {}
     },
     "f4851fbe5d1f49c084777d7551cf6fa9": {
      "model_module": "@jupyter-widgets/controls",
      "model_module_version": "2.0.0",
      "model_name": "DescriptionStyleModel",
      "state": {
       "description_width": ""
      }
     },
     "f4d22e0f07d044fd895d8100abef1af7": {
      "model_module": "@jupyter-widgets/controls",
      "model_module_version": "2.0.0",
      "model_name": "ButtonModel",
      "state": {
       "button_style": "danger",
       "icon": "trash",
       "layout": "IPY_MODEL_f47e59c26e2a425e9d13f2f18d8928c9",
       "style": "IPY_MODEL_77b237efa4184e3592bc4de1399825c1"
      }
     },
     "f5a7eb731d9d4699992f45aa6f5ba870": {
      "model_module": "@jupyter-widgets/controls",
      "model_module_version": "2.0.0",
      "model_name": "ButtonModel",
      "state": {
       "button_style": "danger",
       "icon": "trash",
       "layout": "IPY_MODEL_90f788ab11c34657857cc35dc8e15ae6",
       "style": "IPY_MODEL_a7a7b8fde2374d6ebd3f3d86853f1e7a"
      }
     },
     "f5b017f6c54e4477bf71937411c646c5": {
      "model_module": "@jupyter-widgets/controls",
      "model_module_version": "2.0.0",
      "model_name": "HTMLModel",
      "state": {
       "layout": "IPY_MODEL_e812892adcf04b9a8324f6468031707d",
       "style": "IPY_MODEL_a46c2b0ff6a04993ba3664650c15e393"
      }
     },
     "f60cab8117494141b80ec339f8ebbb00": {
      "model_module": "@jupyter-widgets/controls",
      "model_module_version": "2.0.0",
      "model_name": "HTMLStyleModel",
      "state": {
       "description_width": "",
       "font_size": null,
       "text_color": null
      }
     },
     "f62dd5af21ad4763b581f1100a8d066e": {
      "model_module": "@jupyter-widgets/controls",
      "model_module_version": "2.0.0",
      "model_name": "HTMLStyleModel",
      "state": {
       "description_width": "",
       "font_size": null,
       "text_color": null
      }
     },
     "f68403a9849f45899e2d5c6d45e61eb5": {
      "model_module": "@jupyter-widgets/base",
      "model_module_version": "2.0.0",
      "model_name": "LayoutModel",
      "state": {}
     },
     "f69cc614b3b6450584213dbce200edd1": {
      "model_module": "@jupyter-widgets/controls",
      "model_module_version": "2.0.0",
      "model_name": "TextStyleModel",
      "state": {
       "description_width": "initial",
       "font_size": null,
       "text_color": null
      }
     },
     "f6bcf76da08943e1bf8feae507a77718": {
      "model_module": "@jupyter-widgets/controls",
      "model_module_version": "2.0.0",
      "model_name": "LabelModel",
      "state": {
       "layout": "IPY_MODEL_7e998317ca334fc1b589e8dc23b1ddcc",
       "style": "IPY_MODEL_bdd356a47e1f4628bfd26840fbfdf24d",
       "value": "nunique"
      }
     },
     "f7cfc46261164addb7a09f6a4a20d69f": {
      "model_module": "@jupyter-widgets/controls",
      "model_module_version": "2.0.0",
      "model_name": "HTMLStyleModel",
      "state": {
       "description_width": "",
       "font_size": null,
       "text_color": null
      }
     },
     "f7f20b8b072f45679906f0559b4fe1fc": {
      "model_module": "@jupyter-widgets/controls",
      "model_module_version": "2.0.0",
      "model_name": "SliderStyleModel",
      "state": {
       "description_width": "initial"
      }
     },
     "f9772cb8fbf245f4bfb66dc2704dc77c": {
      "model_module": "@jupyter-widgets/controls",
      "model_module_version": "2.0.0",
      "model_name": "CheckboxStyleModel",
      "state": {
       "description_width": ""
      }
     },
     "f993fb4340b54fe399e87c25068c1d6b": {
      "model_module": "@jupyter-widgets/controls",
      "model_module_version": "2.0.0",
      "model_name": "LabelStyleModel",
      "state": {
       "description_width": "",
       "font_family": null,
       "font_size": null,
       "font_style": null,
       "font_variant": null,
       "font_weight": null,
       "text_color": null,
       "text_decoration": null
      }
     },
     "fc0ee8209acf4e82948447d8957d26b9": {
      "model_module": "@jupyter-widgets/controls",
      "model_module_version": "2.0.0",
      "model_name": "HTMLStyleModel",
      "state": {
       "description_width": "",
       "font_size": null,
       "text_color": null
      }
     },
     "fcd57fcd4c444e24ba4a7e7107e704e9": {
      "model_module": "@jupyter-widgets/controls",
      "model_module_version": "2.0.0",
      "model_name": "ButtonStyleModel",
      "state": {
       "font_family": null,
       "font_size": null,
       "font_style": null,
       "font_variant": null,
       "font_weight": null,
       "text_color": null,
       "text_decoration": null
      }
     },
     "fd43b804be7f480198f47a5570c657de": {
      "model_module": "@jupyter-widgets/base",
      "model_module_version": "2.0.0",
      "model_name": "LayoutModel",
      "state": {}
     },
     "fdb5169280b149abbfc4a5fbe7d74053": {
      "model_module": "@jupyter-widgets/controls",
      "model_module_version": "2.0.0",
      "model_name": "VBoxModel",
      "state": {
       "children": [
        "IPY_MODEL_ecde66344983459d9be703d5f395a6bd",
        "IPY_MODEL_593d902d8f3f4e41a5d1cd464ca72be3"
       ],
       "layout": "IPY_MODEL_1372c3cccb244c5eb8fc4b3f87437ac3"
      }
     },
     "fe5bbdf6e59a488d8f1da6bd8fca2b54": {
      "model_module": "@jupyter-widgets/controls",
      "model_module_version": "2.0.0",
      "model_name": "HTMLModel",
      "state": {
       "layout": "IPY_MODEL_af74c34fff1b43b99aeca4a68222986a",
       "style": "IPY_MODEL_9751c10c00974da98b3f698695224f08"
      }
     },
     "fed641fc1939421bb33427feea84671b": {
      "model_module": "@jupyter-widgets/base",
      "model_module_version": "2.0.0",
      "model_name": "LayoutModel",
      "state": {}
     },
     "fee820cab7a6470c93ba9821ad30145b": {
      "model_module": "@jupyter-widgets/controls",
      "model_module_version": "2.0.0",
      "model_name": "VBoxModel",
      "state": {
       "children": [
        "IPY_MODEL_8a20c49317984a7fa5757905c361a9f0",
        "IPY_MODEL_bc8ceb74e4fe4e3fa0a9f2d0ef80599f",
        "IPY_MODEL_fdb5169280b149abbfc4a5fbe7d74053"
       ],
       "layout": "IPY_MODEL_c5abb84ac6d14aef9a40b1b415b26db3"
      }
     },
     "ff36a05efee641c09db1174288a60679": {
      "model_module": "@jupyter-widgets/controls",
      "model_module_version": "2.0.0",
      "model_name": "CheckboxModel",
      "state": {
       "disabled": true,
       "indent": false,
       "layout": "IPY_MODEL_c5e88481d42349c9abc86538e8a92576",
       "style": "IPY_MODEL_becad996700245ca89226b6dd5b84ff8",
       "value": false
      }
     },
     "ff4b3a3808384e3c89409314783d8803": {
      "model_module": "@jupyter-widgets/controls",
      "model_module_version": "2.0.0",
      "model_name": "SliderStyleModel",
      "state": {
       "description_width": "initial"
      }
     },
     "ff6257c7b731436590443869c5134da1": {
      "model_module": "@jupyter-widgets/controls",
      "model_module_version": "2.0.0",
      "model_name": "TextModel",
      "state": {
       "description": "File:",
       "disabled": true,
       "layout": "IPY_MODEL_e87315d33acb41be8a401401ce228a55",
       "placeholder": "",
       "style": "IPY_MODEL_909889cb13884cee8f7b4686e17cf77f",
       "value": "vega20251028_111125"
      }
     },
     "ffc2dc34099547ec9602b14378756242": {
      "model_module": "@jupyter-widgets/controls",
      "model_module_version": "2.0.0",
      "model_name": "DropdownModel",
      "state": {
       "_options_labels": [
        "",
        "CSV loader",
        "PARQUET loader",
        "CUSTOM loader"
       ],
       "description": "Loader",
       "disabled": true,
       "index": 3,
       "layout": "IPY_MODEL_87d9f5a56b4845fbb113fac2363e67cf",
       "style": "IPY_MODEL_aec38c34cf3a4889957e650668035c41"
      }
     },
     "ffd33a0cd8f44efbb5b6cdb8b34ea40d": {
      "model_module": "@jupyter-widgets/base",
      "model_module_version": "2.0.0",
      "model_name": "LayoutModel",
      "state": {}
     }
    },
    "version_major": 2,
    "version_minor": 0
   }
  }
 },
 "nbformat": 4,
 "nbformat_minor": 5
}
