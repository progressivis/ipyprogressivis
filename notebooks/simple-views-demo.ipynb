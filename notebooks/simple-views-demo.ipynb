{
 "cells": [
  {
   "cell_type": "markdown",
   "id": "68e6958a-9327-4c15-95c5-0773c0e8b16a",
   "metadata": {},
   "source": [
    "# Simple views demo"
   ]
  },
  {
   "cell_type": "code",
   "execution_count": 1,
   "id": "a6f94d61-ae60-4b69-bef0-3289f9fe2f56",
   "metadata": {
    "lines_to_next_cell": 2
   },
   "outputs": [],
   "source": [
    "import warnings\n",
    "warnings.filterwarnings(\"ignore\")\n",
    "RESOLUTION=512\n",
    "URLS = [f\"https://www.aviz.fr/nyc-taxi/yellow_tripdata_2015-0{m}.csv.bz2\" for m in range(1, 7)]\n",
    "from progressivis import SimpleCSVLoader, Corr, Sink, Constant, PTable\n",
    "cst = Constant(PTable('filenames', data={'filename': URLS}))"
   ]
  },
  {
   "cell_type": "code",
   "execution_count": 2,
   "id": "bbbd6ce8-a031-4981-945c-8925e7211b22",
   "metadata": {},
   "outputs": [],
   "source": [
    "from progressivis import (CSVLoader, Histogram2D, ConstDict, Heatmap, PDict, Corr,\n",
    "                          BinningIndexND, RangeQuery2D, Variable, Quantiles)\n",
    "\n",
    "col_x = \"pickup_longitude\"\n",
    "col_y = \"pickup_latitude\"\n",
    "# Create a csv loader for the taxi data file\n",
    "csv = SimpleCSVLoader(usecols=[col_x, col_y])\n",
    "csv.input.filenames = cst.output.result\n",
    "# Create an indexing module on the csv loader output columns\n",
    "index = BinningIndexND()\n",
    "# Creates one index per numeric column\n",
    "index.input.table = csv.output.result[col_x, col_y]\n",
    "# Create a querying module\n",
    "query = RangeQuery2D(column_x=col_x,\n",
    "                     column_y=col_y)\n",
    "# Variable modules allow to dynamically modify their values; here, the query ranges\n",
    "var_min = Variable(name=\"var_min\")\n",
    "var_max = Variable(name=\"var_max\")\n",
    "query.input.lower = var_min.output.result\n",
    "query.input.upper = var_max.output.result\n",
    "query.input.index = index.output.result\n",
    "query.input.min = index.output.min_out\n",
    "query.input.max = index.output.max_out\n",
    "# Create a module to compute the 2D histogram of the two columns specified\n",
    "# with the given resolution\n",
    "histogram2d = Histogram2D(col_x, col_y, xbins=RESOLUTION, ybins=RESOLUTION)\n",
    "# Connect the module to the csv results and the min,max bounds to rescale\n",
    "histogram2d.input.table = query.output.result\n",
    "histogram2d.input.min = query.output.min\n",
    "histogram2d.input.max = query.output.max\n",
    "sink = Sink()\n",
    "sink.input.inp = histogram2d.output.result\n",
    "cov = Corr(mode=\"CovarianceOnly\")\n",
    "cov.input.table = csv.output.result\n",
    "sink = Sink()\n",
    "sink.input.inp = cov.output.result"
   ]
  },
  {
   "cell_type": "code",
   "execution_count": 3,
   "id": "95e97dd2-d99a-4f04-90ca-1fae2409dc74",
   "metadata": {},
   "outputs": [
    {
     "name": "stdout",
     "output_type": "stream",
     "text": [
      "Starting scheduler\n",
      "# Scheduler added module(s): ['binning_index_nd_1', 'constant_1', 'corr_1', 'histogram2_d_1', 'range_query2_d_1', 'simple_csv_loader_1', 'sink_1', 'sink_2', 'var_max', 'var_min']\n"
     ]
    }
   ],
   "source": [
    "import progressivis.core.aio as aio\n",
    "# Start the scheduler\n",
    "scheduler = csv.scheduler()\n",
    "scheduler.task_start()\n",
    "await aio.sleep(1)"
   ]
  },
  {
   "cell_type": "markdown",
   "id": "0c7867b5-c36a-4219-a986-c57c65c1ed69",
   "metadata": {},
   "source": [
    "## Creating views"
   ]
  },
  {
   "cell_type": "code",
   "execution_count": null,
   "id": "62a65c1e-b42b-4c52-bc6e-cd2589a77cac",
   "metadata": {},
   "outputs": [],
   "source": [
    "from ipyprogressivis.views import show\n",
    "show(scheduler)"
   ]
  },
  {
   "cell_type": "code",
   "execution_count": null,
   "id": "4d0eda48-1c94-475d-84ef-968eb56eb47d",
   "metadata": {},
   "outputs": [],
   "source": [
    "show(scheduler)"
   ]
  },
  {
   "cell_type": "code",
   "execution_count": null,
   "id": "59cbc0b6-a1a9-42b2-80ae-ed3357ce46c5",
   "metadata": {},
   "outputs": [],
   "source": [
    "show(scheduler)"
   ]
  }
 ],
 "metadata": {
  "kernelspec": {
   "display_name": "Python 3 (ipykernel)",
   "language": "python",
   "name": "python3"
  },
  "language_info": {
   "codemirror_mode": {
    "name": "ipython",
    "version": 3
   },
   "file_extension": ".py",
   "mimetype": "text/x-python",
   "name": "python",
   "nbconvert_exporter": "python",
   "pygments_lexer": "ipython3",
   "version": "3.11.4"
  },
  "widgets": {
   "application/vnd.jupyter.widget-state+json": {
    "state": {},
    "version_major": 2,
    "version_minor": 0
   }
  }
 },
 "nbformat": 4,
 "nbformat_minor": 5
}
