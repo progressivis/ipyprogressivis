{
 "cells": [
  {
   "cell_type": "markdown",
   "id": "68e6958a-9327-4c15-95c5-0773c0e8b16a",
   "metadata": {},
   "source": [
    "# Simple views demo"
   ]
  },
  {
   "cell_type": "code",
   "execution_count": 1,
   "id": "a6f94d61-ae60-4b69-bef0-3289f9fe2f56",
   "metadata": {
    "lines_to_next_cell": 2
   },
   "outputs": [],
   "source": [
    "import warnings\n",
    "warnings.filterwarnings(\"ignore\")\n",
    "RESOLUTION=512\n",
    "URLS = [f\"https://www.aviz.fr/nyc-taxi/yellow_tripdata_2015-0{m}.csv.bz2\" for m in range(1, 7)]\n",
    "from progressivis import SimpleCSVLoader, Corr, Sink, Constant, PTable\n",
    "cst = Constant(PTable('filenames', data={'filename': URLS}))"
   ]
  },
  {
   "cell_type": "code",
   "execution_count": 2,
   "id": "bbbd6ce8-a031-4981-945c-8925e7211b22",
   "metadata": {},
   "outputs": [],
   "source": [
    "from progressivis import (CSVLoader, Histogram2D, ConstDict, Heatmap, PDict, Corr,\n",
    "                          BinningIndexND, RangeQuery2D, Variable, Quantiles)\n",
    "\n",
    "col_x = \"pickup_longitude\"\n",
    "col_y = \"pickup_latitude\"\n",
    "# Create a csv loader for the taxi data file\n",
    "csv = SimpleCSVLoader(usecols=[col_x, col_y])\n",
    "csv.input.filenames = cst.output.result\n",
    "# Create an indexing module on the csv loader output columns\n",
    "index = BinningIndexND()\n",
    "# Creates one index per numeric column\n",
    "index.input.table = csv.output.result[col_x, col_y]\n",
    "# Create a querying module\n",
    "query = RangeQuery2D(column_x=col_x,\n",
    "                     column_y=col_y)\n",
    "# Variable modules allow to dynamically modify their values; here, the query ranges\n",
    "var_min = Variable(name=\"var_min\")\n",
    "var_max = Variable(name=\"var_max\")\n",
    "query.input.lower = var_min.output.result\n",
    "query.input.upper = var_max.output.result\n",
    "query.input.index = index.output.result\n",
    "query.input.min = index.output.min_out\n",
    "query.input.max = index.output.max_out\n",
    "# Create a module to compute the 2D histogram of the two columns specified\n",
    "# with the given resolution\n",
    "histogram2d = Histogram2D(col_x, col_y, xbins=RESOLUTION, ybins=RESOLUTION)\n",
    "# Connect the module to the csv results and the min,max bounds to rescale\n",
    "histogram2d.input.table = query.output.result\n",
    "histogram2d.input.min = query.output.min\n",
    "histogram2d.input.max = query.output.max\n",
    "sink = Sink()\n",
    "sink.input.inp = histogram2d.output.result\n",
    "cov = Corr(mode=\"CovarianceOnly\")\n",
    "cov.input.table = csv.output.result\n",
    "sink = Sink()\n",
    "sink.input.inp = cov.output.result"
   ]
  },
  {
   "cell_type": "code",
   "execution_count": 3,
   "id": "95e97dd2-d99a-4f04-90ca-1fae2409dc74",
   "metadata": {},
   "outputs": [
    {
     "name": "stdout",
     "output_type": "stream",
     "text": [
      "Starting scheduler\n",
      "# Scheduler added module(s): ['binning_index_nd_1', 'constant_1', 'corr_1', 'histogram2_d_1', 'range_query2_d_1', 'simple_csv_loader_1', 'sink_1', 'sink_2', 'var_max', 'var_min']\n"
     ]
    }
   ],
   "source": [
    "import progressivis.core.aio as aio\n",
    "# Start the scheduler\n",
    "scheduler = csv.scheduler()\n",
    "scheduler.task_start()\n",
    "await aio.sleep(1)"
   ]
  },
  {
   "cell_type": "markdown",
   "id": "0c7867b5-c36a-4219-a986-c57c65c1ed69",
   "metadata": {},
   "source": [
    "## Creating views"
   ]
  },
  {
   "cell_type": "code",
   "execution_count": 4,
   "id": "62a65c1e-b42b-4c52-bc6e-cd2589a77cac",
   "metadata": {},
   "outputs": [
    {
     "data": {
      "application/vnd.jupyter.widget-view+json": {
       "model_id": "0e98b9548c7e4ae586aa0271f17ab593",
       "version_major": 2,
       "version_minor": 0
      },
      "text/plain": [
       "QualityVisualization()"
      ]
     },
     "execution_count": 4,
     "metadata": {},
     "output_type": "execute_result"
    }
   ],
   "source": [
    "from ipyprogressivis.views import show, display_quality\n",
    "\n",
    "display_quality(cov)"
   ]
  },
  {
   "cell_type": "code",
   "execution_count": 5,
   "id": "1cb30d26-78fb-4094-95fb-3cee5b8856bf",
   "metadata": {},
   "outputs": [
    {
     "data": {
      "application/vnd.jupyter.widget-view+json": {
       "model_id": "975d6c8906db416c900a1da1d224ed4d",
       "version_major": 2,
       "version_minor": 0
      },
      "text/plain": [
       "MainBox(children=(SelectionBar(children=(Dropdown(description='Modules:', options=('', 'range_query2_d_1', 'hi…"
      ]
     },
     "execution_count": 5,
     "metadata": {},
     "output_type": "execute_result"
    }
   ],
   "source": [
    "show(scheduler)"
   ]
  },
  {
   "cell_type": "code",
   "execution_count": 6,
   "id": "4d0eda48-1c94-475d-84ef-968eb56eb47d",
   "metadata": {},
   "outputs": [
    {
     "data": {
      "application/vnd.jupyter.widget-view+json": {
       "model_id": "9e49e01da15d484a93bab6c369779310",
       "version_major": 2,
       "version_minor": 0
      },
      "text/plain": [
       "MainBox(children=(SelectionBar(children=(Dropdown(description='Modules:', options=('', 'range_query2_d_1', 'hi…"
      ]
     },
     "execution_count": 6,
     "metadata": {},
     "output_type": "execute_result"
    }
   ],
   "source": [
    "show(scheduler)"
   ]
  },
  {
   "cell_type": "code",
   "execution_count": 7,
   "id": "59cbc0b6-a1a9-42b2-80ae-ed3357ce46c5",
   "metadata": {},
   "outputs": [
    {
     "data": {
      "application/vnd.jupyter.widget-view+json": {
       "model_id": "4ccc63c3959a477db38777c541ea4ce1",
       "version_major": 2,
       "version_minor": 0
      },
      "text/plain": [
       "MainBox(children=(SelectionBar(children=(Dropdown(description='Modules:', options=('', 'range_query2_d_1', 'hi…"
      ]
     },
     "execution_count": 7,
     "metadata": {},
     "output_type": "execute_result"
    }
   ],
   "source": [
    "show(scheduler)"
   ]
  },
  {
   "cell_type": "code",
   "execution_count": null,
   "id": "8418fc48-b47e-4504-b44f-e718575726eb",
   "metadata": {},
   "outputs": [],
   "source": []
  }
 ],
 "metadata": {
  "kernelspec": {
   "display_name": "Python 3 (ipykernel)",
   "language": "python",
   "name": "python3"
  },
  "language_info": {
   "codemirror_mode": {
    "name": "ipython",
    "version": 3
   },
   "file_extension": ".py",
   "mimetype": "text/x-python",
   "name": "python",
   "nbconvert_exporter": "python",
   "pygments_lexer": "ipython3",
   "version": "3.13.5"
  },
  "widgets": {
   "application/vnd.jupyter.widget-state+json": {
    "state": {
     "03ad678ac343439abe7c17a43e861307": {
      "model_module": "@jupyter-widgets/controls",
      "model_module_version": "2.0.0",
      "model_name": "LabelModel",
      "state": {
       "layout": "IPY_MODEL_fd7898357b4e4c99b3fb5b624f1714ed",
       "style": "IPY_MODEL_882313646f6c4803b05610e3b7fb9a9d",
       "value": "Widget"
      }
     },
     "052d383b2bda42df91fe329f50405aef": {
      "model_module": "@jupyter-widgets/controls",
      "model_module_version": "2.0.0",
      "model_name": "HTMLStyleModel",
      "state": {
       "description_width": "",
       "font_size": null,
       "text_color": null
      }
     },
     "062b002af8a24d95913d9fe8f4516f1b": {
      "model_module": "@jupyter-widgets/controls",
      "model_module_version": "2.0.0",
      "model_name": "HTMLStyleModel",
      "state": {
       "description_width": "",
       "font_size": null,
       "text_color": null
      }
     },
     "06edeedc44cf493facaf05e9480b4911": {
      "model_module": "@jupyter-widgets/base",
      "model_module_version": "2.0.0",
      "model_name": "LayoutModel",
      "state": {}
     },
     "0ba2b1bf28d346d1a39823d6cb4017a2": {
      "model_module": "@jupyter-widgets/base",
      "model_module_version": "2.0.0",
      "model_name": "LayoutModel",
      "state": {}
     },
     "0e98b9548c7e4ae586aa0271f17ab593": {
      "model_module": "jupyter-progressivis",
      "model_module_version": "^0.1.0",
      "model_name": "QualityVisualizationModel",
      "state": {
       "_img_url": "%3Csvg%20class%3D%22quality-vis%22%20width%3D%22300%22%20height%3D%2250%22%3E%3Cg%20transform%3D%22translate(5%2C%20-5)%20scale(7.031%2C%20-1)%20translate(-3.476%2C%20-50)%22%3E%3Cpolyline%20class%3D%22qline%22%20stroke%3D%22%231f77b4%22%20transform%3D%22scale(1%2C%201390.986)%20translate(0%2C%2010.147)%22%20points%3D%22%203.476%2C%20-10.147%206.552%2C%20-10.118%209.633%2C%20-10.124%2012.648%2C%20-10.131%2015.713%2C%20-10.123%2018.835%2C%20-10.13%2021.983%2C%20-10.126%2025.105%2C%20-10.142%2028.421%2C%20-10.138%2031.776%2C%20-10.14%2034.829%2C%20-10.141%2038.02%2C%20-10.139%2041.333%2C%20-10.13%2044.722%2C%20-10.121%22%3E%3Ctitle%3Evar_pickup_longitude%3C%2Ftitle%3E%3C%2Fpolyline%3E%3Cpolyline%20class%3D%22qline%22%20stroke%3D%22%23ff7f0e%22%20transform%3D%22scale(1%2C%202480.342)%20translate(0%2C%205.59)%22%20points%3D%22%203.476%2C%20-5.59%206.552%2C%20-5.574%209.633%2C%20-5.577%2012.648%2C%20-5.581%2015.713%2C%20-5.577%2018.835%2C%20-5.581%2021.983%2C%20-5.578%2025.105%2C%20-5.587%2028.421%2C%20-5.585%2031.776%2C%20-5.586%2034.829%2C%20-5.586%2038.02%2C%20-5.585%2041.333%2C%20-5.58%2044.722%2C%20-5.575%22%3E%3Ctitle%3Evar_pickup_latitude%3C%2Ftitle%3E%3C%2Fpolyline%3E%3Cpolyline%20class%3D%22qline%22%20stroke%3D%22%232ca02c%22%20transform%3D%22scale(1%2C%20123.666)%20translate(0%2C%200.323)%22%20points%3D%22%203.476%2C%200%206.552%2C%20-0.323%209.633%2C%20-0.062%2012.648%2C%20-0.081%2015.713%2C%20-0.082%2018.835%2C%20-0.077%2021.983%2C%20-0.049%2025.105%2C%20-0.177%2028.421%2C%20-0.042%2031.776%2C%20-0.017%2034.829%2C%20-0.016%2038.02%2C%20-0.025%2041.333%2C%20-0.099%2044.722%2C%20-0.1%22%3E%3Ctitle%3Ecov_('pickup_latitude'%2C%20'pickup_longitude')%3C%2Ftitle%3E%3C%2Fpolyline%3E%3C%2Fg%3E%3Ctext%20x%3D%222%22%20y%3D%2210%22%20class%3D%22qlabel%22%20fill%3D%22%231f77b4%22%3Evar_pickup_longitude%3C%2Ftext%3E%3Ctext%20x%3D%222%22%20y%3D%2220%22%20class%3D%22qlabel%22%20fill%3D%22%23ff7f0e%22%3Evar_pickup_latitude%3C%2Ftext%3E%3Ctext%20x%3D%222%22%20y%3D%2230%22%20class%3D%22qlabel%22%20fill%3D%22%232ca02c%22%3Ecov_('pickup_latitude'%2C%20'pickup_longitude')%3C%2Ftext%3E%3C%2Fsvg%3E",
       "_model_module_version": "^0.1.0",
       "_view_module_version": "^0.1.0",
       "layout": "IPY_MODEL_d55fafabad8f4d76b91a30f2f06198f1"
      }
     },
     "0f923ca8c55d45f2ad8ca14565599e16": {
      "model_module": "@jupyter-widgets/base",
      "model_module_version": "2.0.0",
      "model_name": "LayoutModel",
      "state": {
       "justify_content": "flex-end"
      }
     },
     "0fc606ba99624af1ace09fbb51976637": {
      "model_module": "@jupyter-widgets/controls",
      "model_module_version": "2.0.0",
      "model_name": "HTMLModel",
      "state": {
       "layout": "IPY_MODEL_84346a5250434f7cabdd6b71b317abdb",
       "style": "IPY_MODEL_f84b00e8f88841b28735cac915eb89f0"
      }
     },
     "10b669fb923b4e258d0d62f92d0fabce": {
      "model_module": "@jupyter-widgets/controls",
      "model_module_version": "2.0.0",
      "model_name": "LabelStyleModel",
      "state": {
       "description_width": "",
       "font_family": null,
       "font_size": null,
       "font_style": null,
       "font_variant": null,
       "font_weight": null,
       "text_color": null,
       "text_decoration": null
      }
     },
     "111923025fdf49d496b121239fce6a13": {
      "model_module": "@jupyter-widgets/controls",
      "model_module_version": "2.0.0",
      "model_name": "ButtonStyleModel",
      "state": {
       "font_family": null,
       "font_size": null,
       "font_style": null,
       "font_variant": null,
       "font_weight": null,
       "text_color": null,
       "text_decoration": null
      }
     },
     "1321a97de59f40879963e1111bd67d33": {
      "model_module": "@jupyter-widgets/base",
      "model_module_version": "2.0.0",
      "model_name": "LayoutModel",
      "state": {}
     },
     "15802791a1844eadaebfd1b2fe8302c6": {
      "model_module": "@jupyter-widgets/controls",
      "model_module_version": "2.0.0",
      "model_name": "HTMLModel",
      "state": {
       "layout": "IPY_MODEL_6dc9b8221c4c48ee88a4c6bb7fedd46c",
       "style": "IPY_MODEL_e03f77c908304c1b9a97b7daae0cd804"
      }
     },
     "1612801fbc1a46f18e3882a9ac608ab6": {
      "model_module": "@jupyter-widgets/base",
      "model_module_version": "2.0.0",
      "model_name": "LayoutModel",
      "state": {}
     },
     "1651047daf0946f6aa59c9292bda3a1a": {
      "model_module": "@jupyter-widgets/controls",
      "model_module_version": "2.0.0",
      "model_name": "ButtonModel",
      "state": {
       "description": "Hide",
       "icon": "check",
       "layout": "IPY_MODEL_7ae1d646847f43b6b0bc316b47e46d2c",
       "style": "IPY_MODEL_1c33c5bc11a54818a26945ab62f83bc6",
       "tooltip": "Show"
      }
     },
     "16f0abe3da8f41139804342d1a6ed875": {
      "model_module": "@jupyter-widgets/controls",
      "model_module_version": "2.0.0",
      "model_name": "ButtonStyleModel",
      "state": {
       "font_family": null,
       "font_size": null,
       "font_style": null,
       "font_variant": null,
       "font_weight": null,
       "text_color": null,
       "text_decoration": null
      }
     },
     "17d7d4d2a9d34bd1a343eb3477d8ba97": {
      "model_module": "@jupyter-widgets/controls",
      "model_module_version": "2.0.0",
      "model_name": "HTMLStyleModel",
      "state": {
       "description_width": "",
       "font_size": null,
       "text_color": null
      }
     },
     "1a11f20f76eb4fe3b7a1a0352ebcd0f0": {
      "model_module": "@jupyter-widgets/base",
      "model_module_version": "2.0.0",
      "model_name": "LayoutModel",
      "state": {}
     },
     "1abfa4f00cd446af9d2940d483dfc6c2": {
      "model_module": "@jupyter-widgets/base",
      "model_module_version": "2.0.0",
      "model_name": "LayoutModel",
      "state": {}
     },
     "1c33c5bc11a54818a26945ab62f83bc6": {
      "model_module": "@jupyter-widgets/controls",
      "model_module_version": "2.0.0",
      "model_name": "ButtonStyleModel",
      "state": {
       "font_family": null,
       "font_size": null,
       "font_style": null,
       "font_variant": null,
       "font_weight": null,
       "text_color": null,
       "text_decoration": null
      }
     },
     "1c88bd96f6f54935a68375f413d48c62": {
      "model_module": "@jupyter-widgets/base",
      "model_module_version": "2.0.0",
      "model_name": "LayoutModel",
      "state": {}
     },
     "1e187ed66c1c4704be84be071d056dac": {
      "model_module": "@jupyter-widgets/base",
      "model_module_version": "2.0.0",
      "model_name": "LayoutModel",
      "state": {}
     },
     "1e67063444cf4b2a801417607a9eb249": {
      "model_module": "@jupyter-widgets/controls",
      "model_module_version": "2.0.0",
      "model_name": "IntSliderModel",
      "state": {
       "behavior": "drag-tap",
       "continuous_update": false,
       "description": "Display T:",
       "layout": "IPY_MODEL_1e187ed66c1c4704be84be071d056dac",
       "max": 10,
       "min": 1,
       "style": "IPY_MODEL_bfd7c1ce315649ebbaf870c606ccc0e8",
       "value": 1
      }
     },
     "20808deac3c8486c97ddfab6fa196660": {
      "model_module": "@jupyter-widgets/controls",
      "model_module_version": "2.0.0",
      "model_name": "HTMLModel",
      "state": {
       "layout": "IPY_MODEL_9ba47c54e1a24b06a5491ef7b84f7484",
       "style": "IPY_MODEL_9c44d8f73a3c472c938bc124ba79aa98"
      }
     },
     "20b303ea296947ea8a94bd53e8250f33": {
      "model_module": "@jupyter-widgets/base",
      "model_module_version": "2.0.0",
      "model_name": "LayoutModel",
      "state": {}
     },
     "22eff0b2a5274c619026e270da5c0722": {
      "model_module": "@jupyter-widgets/base",
      "model_module_version": "2.0.0",
      "model_name": "LayoutModel",
      "state": {}
     },
     "23ce2a4fb3ee456ba8a2cf077349cdc4": {
      "model_module": "@jupyter-widgets/controls",
      "model_module_version": "2.0.0",
      "model_name": "HTMLModel",
      "state": {
       "layout": "IPY_MODEL_1c88bd96f6f54935a68375f413d48c62",
       "style": "IPY_MODEL_7f0b5944e2494830adf3b9979ed25bb9"
      }
     },
     "243d0102913b44e1919599fbb563aad3": {
      "model_module": "@jupyter-widgets/controls",
      "model_module_version": "2.0.0",
      "model_name": "ButtonStyleModel",
      "state": {
       "font_family": null,
       "font_size": null,
       "font_style": null,
       "font_variant": null,
       "font_weight": null,
       "text_color": null,
       "text_decoration": null
      }
     },
     "25632cd25d0a4dc1be76eb0b7dfe1283": {
      "model_module": "@jupyter-widgets/controls",
      "model_module_version": "2.0.0",
      "model_name": "ButtonStyleModel",
      "state": {
       "font_family": null,
       "font_size": null,
       "font_style": null,
       "font_variant": null,
       "font_weight": null,
       "text_color": null,
       "text_decoration": null
      }
     },
     "25ede6f5e683431ebfc2253a2ca99be8": {
      "model_module": "@jupyter-widgets/controls",
      "model_module_version": "2.0.0",
      "model_name": "HTMLModel",
      "state": {
       "layout": "IPY_MODEL_4b39b38ed1604695bf6f81bf198303fd",
       "style": "IPY_MODEL_e36a464528f548bbbc885929bead0742"
      }
     },
     "27420a1603fc45c2bfdb547128936a0d": {
      "model_module": "@jupyter-widgets/controls",
      "model_module_version": "2.0.0",
      "model_name": "HTMLStyleModel",
      "state": {
       "description_width": "",
       "font_size": null,
       "text_color": null
      }
     },
     "2a11ef49875349619c222572dc24e830": {
      "model_module": "@jupyter-widgets/controls",
      "model_module_version": "2.0.0",
      "model_name": "HTMLModel",
      "state": {
       "layout": "IPY_MODEL_b5a3d3ad43f44513add20bdbb9d8854c",
       "style": "IPY_MODEL_17d7d4d2a9d34bd1a343eb3477d8ba97"
      }
     },
     "2a815fdc05b7456d840d24b0c3c8116a": {
      "model_module": "@jupyter-widgets/base",
      "model_module_version": "2.0.0",
      "model_name": "LayoutModel",
      "state": {}
     },
     "312308fbceef432c82269f5d422e220f": {
      "model_module": "@jupyter-widgets/controls",
      "model_module_version": "2.0.0",
      "model_name": "HTMLModel",
      "state": {
       "layout": "IPY_MODEL_1abfa4f00cd446af9d2940d483dfc6c2",
       "style": "IPY_MODEL_ca5944969c8d4603b0579419854a762b"
      }
     },
     "3125369c1a734afe8a9d2c54c3bb798c": {
      "model_module": "@jupyter-widgets/base",
      "model_module_version": "2.0.0",
      "model_name": "LayoutModel",
      "state": {}
     },
     "327d170269eb46a99e9ec5f058ff7f98": {
      "model_module": "@jupyter-widgets/base",
      "model_module_version": "2.0.0",
      "model_name": "LayoutModel",
      "state": {}
     },
     "32c9fcb1676945d5b54bcf746af9ae9b": {
      "model_module": "@jupyter-widgets/base",
      "model_module_version": "2.0.0",
      "model_name": "LayoutModel",
      "state": {}
     },
     "35774d1310354363aabd7fe5870cd5a5": {
      "model_module": "@jupyter-widgets/base",
      "model_module_version": "2.0.0",
      "model_name": "LayoutModel",
      "state": {}
     },
     "36b2433b6af141f293ad50a4ea8db3f8": {
      "model_module": "@jupyter-widgets/base",
      "model_module_version": "2.0.0",
      "model_name": "LayoutModel",
      "state": {}
     },
     "3731f33d8d264c9d991d6aafebaf7e16": {
      "model_module": "@jupyter-widgets/controls",
      "model_module_version": "2.0.0",
      "model_name": "DropdownModel",
      "state": {
       "_options_labels": [
        ""
       ],
       "description": "Views:",
       "disabled": true,
       "index": 0,
       "layout": "IPY_MODEL_20b303ea296947ea8a94bd53e8250f33",
       "style": "IPY_MODEL_d0dc4454e0ec4e5fbe2dcbcb0289d636"
      }
     },
     "38dfeec8cd224a8faebacca2e0f0fddf": {
      "model_module": "@jupyter-widgets/base",
      "model_module_version": "2.0.0",
      "model_name": "LayoutModel",
      "state": {
       "height": "30px",
       "width": "30px"
      }
     },
     "3a0137856ae645359b91c8ac467e8e57": {
      "model_module": "@jupyter-widgets/controls",
      "model_module_version": "2.0.0",
      "model_name": "HTMLModel",
      "state": {
       "layout": "IPY_MODEL_cb1ebe2ba17a42a1a52560a432f93d2e",
       "style": "IPY_MODEL_43667d67387441ac9df08b65f193aef2"
      }
     },
     "3d41baf3621e4d5094a64bf43d16d3b0": {
      "model_module": "@jupyter-widgets/controls",
      "model_module_version": "2.0.0",
      "model_name": "HTMLModel",
      "state": {
       "layout": "IPY_MODEL_1321a97de59f40879963e1111bd67d33",
       "style": "IPY_MODEL_052d383b2bda42df91fe329f50405aef"
      }
     },
     "408e41d626c2498b992e2a80f48865ea": {
      "model_module": "@jupyter-widgets/controls",
      "model_module_version": "2.0.0",
      "model_name": "CheckboxModel",
      "state": {
       "description": "Active",
       "disabled": false,
       "layout": "IPY_MODEL_f5b999b5885e4e0bbd4734ce312511be",
       "style": "IPY_MODEL_466996ff8d6a4ebea6b529d47abcc4a2",
       "value": true
      }
     },
     "4134b0da7ed3440183d613248b39a62c": {
      "model_module": "@jupyter-widgets/controls",
      "model_module_version": "2.0.0",
      "model_name": "VBoxModel",
      "state": {
       "children": [
        "IPY_MODEL_780deed7c1bc41339282d83eda4b51ef",
        "IPY_MODEL_7fc76a749fb24bd190a957e0d69ba107"
       ],
       "layout": "IPY_MODEL_b07993d0bf2c493c8a1a1f5b74e946fc"
      }
     },
     "43142ed8727c4cf0b6aed22ea5edb5d9": {
      "model_module": "@jupyter-widgets/controls",
      "model_module_version": "2.0.0",
      "model_name": "HTMLStyleModel",
      "state": {
       "description_width": "",
       "font_size": null,
       "text_color": null
      }
     },
     "43667d67387441ac9df08b65f193aef2": {
      "model_module": "@jupyter-widgets/controls",
      "model_module_version": "2.0.0",
      "model_name": "HTMLStyleModel",
      "state": {
       "description_width": "",
       "font_size": null,
       "text_color": null
      }
     },
     "466996ff8d6a4ebea6b529d47abcc4a2": {
      "model_module": "@jupyter-widgets/controls",
      "model_module_version": "2.0.0",
      "model_name": "CheckboxStyleModel",
      "state": {
       "description_width": ""
      }
     },
     "4846a04c41784958a92105a2cb4e3f48": {
      "model_module": "@jupyter-widgets/base",
      "model_module_version": "2.0.0",
      "model_name": "LayoutModel",
      "state": {
       "height": "30px",
       "width": "30px"
      }
     },
     "49072e963c45434caf9264befc9788f4": {
      "model_module": "@jupyter-widgets/controls",
      "model_module_version": "2.0.0",
      "model_name": "HTMLModel",
      "state": {
       "layout": "IPY_MODEL_c7eed5cdad2946d4bb35fb46c88cf787",
       "style": "IPY_MODEL_8304005c86f6444cbb2c4b330c33c933"
      }
     },
     "4a9a91ee40944b0cb5318a4d7932bb61": {
      "model_module": "@jupyter-widgets/controls",
      "model_module_version": "2.0.0",
      "model_name": "ButtonModel",
      "state": {
       "button_style": "danger",
       "disabled": true,
       "icon": "trash",
       "layout": "IPY_MODEL_b93b397ace504c358efbbe74257ce1d2",
       "style": "IPY_MODEL_16f0abe3da8f41139804342d1a6ed875"
      }
     },
     "4b39b38ed1604695bf6f81bf198303fd": {
      "model_module": "@jupyter-widgets/base",
      "model_module_version": "2.0.0",
      "model_name": "LayoutModel",
      "state": {}
     },
     "4bbe88bcebad4e7f885c2b1151acc10f": {
      "model_module": "@jupyter-widgets/controls",
      "model_module_version": "2.0.0",
      "model_name": "HBoxModel",
      "state": {
       "children": [
        "IPY_MODEL_b1cde3f810ea4878a96cb06935108d84",
        "IPY_MODEL_408e41d626c2498b992e2a80f48865ea"
       ],
       "layout": "IPY_MODEL_1612801fbc1a46f18e3882a9ac608ab6"
      }
     },
     "4ccc63c3959a477db38777c541ea4ce1": {
      "model_module": "@jupyter-widgets/controls",
      "model_module_version": "2.0.0",
      "model_name": "VBoxModel",
      "state": {
       "children": [
        "IPY_MODEL_f21a06031eae4c64a81cbe61ca05df6c",
        "IPY_MODEL_03ad678ac343439abe7c17a43e861307"
       ],
       "layout": "IPY_MODEL_93fa98a903d24ea796a71fbdf4aa4e13"
      }
     },
     "4d1f5fec4dda45a1abbd72fc23d6aa52": {
      "model_module": "@jupyter-widgets/base",
      "model_module_version": "2.0.0",
      "model_name": "LayoutModel",
      "state": {}
     },
     "4d319abc41f74e70984ec355b0b00d49": {
      "model_module": "@jupyter-widgets/controls",
      "model_module_version": "2.0.0",
      "model_name": "HTMLModel",
      "state": {
       "layout": "IPY_MODEL_f034da8e8f8f4ddabdd74e4c824255c4",
       "style": "IPY_MODEL_bcf4197783c14aebbf86ab4f6c0ce0a6"
      }
     },
     "4e089124ccb54dd7a962d892bfb0b72b": {
      "model_module": "@jupyter-widgets/controls",
      "model_module_version": "2.0.0",
      "model_name": "DescriptionStyleModel",
      "state": {
       "description_width": "initial"
      }
     },
     "4e956d9189844d7c98af9af9f5dc0cf1": {
      "model_module": "jupyter-progressivis",
      "model_module_version": "^0.1.0",
      "model_name": "VegaWidgetModel",
      "state": {
       "_df": null,
       "_img_url": "null",
       "_model_module": "jupyter-progressivis",
       "_model_module_version": "^0.1.0",
       "_opt_source": "null",
       "_spec_source": "{\"$schema\": \"https://vega.github.io/schema/vega-lite/v4.8.1.json\", \"width\": 500, \"height\": 400, \"data\": {\"name\": \"data\"}, \"encoding\": {\"color\": {\"field\": \"z\", \"type\": \"quantitative\"}, \"x\": {\"field\": \"x\", \"type\": \"ordinal\"}, \"y\": {\"field\": \"y\", \"type\": \"ordinal\"}}, \"mark\": \"rect\", \"config\": {\"axis\": {\"disable\": true}}}",
       "_view_module": "jupyter-progressivis",
       "_view_module_version": "^0.1.0",
       "layout": "IPY_MODEL_924093cca63b4431a87c7a8284cb7b6d"
      }
     },
     "542978d5a01744049b581980e63ee729": {
      "model_module": "@jupyter-widgets/base",
      "model_module_version": "2.0.0",
      "model_name": "LayoutModel",
      "state": {}
     },
     "54c4e56512ca4909b3898504b9599352": {
      "model_module": "@jupyter-widgets/controls",
      "model_module_version": "2.0.0",
      "model_name": "HTMLModel",
      "state": {
       "layout": "IPY_MODEL_9900445fe4394717b593ef483cba13cb",
       "style": "IPY_MODEL_d5018ae6093244b68a4121e43e7248ad"
      }
     },
     "5640007746f74ad28a13bcecca79cf65": {
      "model_module": "@jupyter-widgets/controls",
      "model_module_version": "2.0.0",
      "model_name": "HBoxModel",
      "state": {
       "children": [
        "IPY_MODEL_1e67063444cf4b2a801417607a9eb249",
        "IPY_MODEL_6fa23b58c1d64ce18b691bc0b2a6d0be"
       ],
       "layout": "IPY_MODEL_b282eeeebe7d4a36ab9dc8d519365c08"
      }
     },
     "5681b88912614128b15d27a1d254bd0c": {
      "model_module": "@jupyter-widgets/controls",
      "model_module_version": "2.0.0",
      "model_name": "ButtonModel",
      "state": {
       "description": "Show",
       "disabled": true,
       "icon": "check",
       "layout": "IPY_MODEL_35774d1310354363aabd7fe5870cd5a5",
       "style": "IPY_MODEL_243d0102913b44e1919599fbb563aad3",
       "tooltip": "Show"
      }
     },
     "58ec52ddf1574fb3ad0025aaf456fa9e": {
      "model_module": "@jupyter-widgets/controls",
      "model_module_version": "2.0.0",
      "model_name": "HTMLStyleModel",
      "state": {
       "description_width": "",
       "font_size": null,
       "text_color": null
      }
     },
     "5e5ae4dc16ff4738914d63605255db2d": {
      "model_module": "@jupyter-widgets/base",
      "model_module_version": "2.0.0",
      "model_name": "LayoutModel",
      "state": {}
     },
     "60d7062304c24247971422cf451a43eb": {
      "model_module": "@jupyter-widgets/base",
      "model_module_version": "2.0.0",
      "model_name": "LayoutModel",
      "state": {}
     },
     "60e0759a6fb347a4ae35bbbd3cc06e2a": {
      "model_module": "@jupyter-widgets/base",
      "model_module_version": "2.0.0",
      "model_name": "LayoutModel",
      "state": {}
     },
     "63fa3f1de9a947cc9ed6441d5b26202b": {
      "model_module": "@jupyter-widgets/base",
      "model_module_version": "2.0.0",
      "model_name": "LayoutModel",
      "state": {}
     },
     "67c0dbb0d96d4afdbac629875ad5ef82": {
      "model_module": "@jupyter-widgets/controls",
      "model_module_version": "2.0.0",
      "model_name": "HTMLStyleModel",
      "state": {
       "description_width": "",
       "font_size": null,
       "text_color": null
      }
     },
     "697015a194dc4e618db5f9e9da6a23ce": {
      "model_module": "@jupyter-widgets/controls",
      "model_module_version": "2.0.0",
      "model_name": "VBoxModel",
      "state": {
       "children": [
        "IPY_MODEL_e086e06e1f1e4bc0a2907da708e7d14c",
        "IPY_MODEL_4bbe88bcebad4e7f885c2b1151acc10f"
       ],
       "layout": "IPY_MODEL_80763a6456454479aa4a7787342babfc"
      }
     },
     "6dc9b8221c4c48ee88a4c6bb7fedd46c": {
      "model_module": "@jupyter-widgets/base",
      "model_module_version": "2.0.0",
      "model_name": "LayoutModel",
      "state": {}
     },
     "6fa23b58c1d64ce18b691bc0b2a6d0be": {
      "model_module": "@jupyter-widgets/controls",
      "model_module_version": "2.0.0",
      "model_name": "CheckboxModel",
      "state": {
       "description": "Active",
       "disabled": false,
       "layout": "IPY_MODEL_9166437446134d77871ce416c72204d3",
       "style": "IPY_MODEL_f405084714f34542920d2465b8c2ab75",
       "value": true
      }
     },
     "6fcd59b3f61045838b7e1e376d609856": {
      "model_module": "@jupyter-widgets/controls",
      "model_module_version": "2.0.0",
      "model_name": "DropdownModel",
      "state": {
       "_options_labels": [
        "",
        "range_query2_d_1",
        "histogram2_d_1",
        "corr_1"
       ],
       "description": "Modules:",
       "index": 0,
       "layout": "IPY_MODEL_e1b53fcd4dd64c2eb94fea416770a056",
       "style": "IPY_MODEL_b961e66c59c549eab66344866d9bb808"
      }
     },
     "709f07c8f0d248348e936779a69239da": {
      "model_module": "@jupyter-widgets/controls",
      "model_module_version": "2.0.0",
      "model_name": "SliderStyleModel",
      "state": {
       "description_width": "initial"
      }
     },
     "70af89f0ced3490d81163e4ee48937ad": {
      "model_module": "@jupyter-widgets/controls",
      "model_module_version": "2.0.0",
      "model_name": "LabelModel",
      "state": {
       "layout": "IPY_MODEL_06edeedc44cf493facaf05e9480b4911",
       "style": "IPY_MODEL_e6dd75f9b1db4a11ae391df1711f20aa",
       "value": "Widget"
      }
     },
     "74d6bbb8dcf749acb5940360b5763116": {
      "model_module": "@jupyter-widgets/controls",
      "model_module_version": "2.0.0",
      "model_name": "DescriptionStyleModel",
      "state": {
       "description_width": "initial"
      }
     },
     "768b2e1f24714e508ccbd18b0a1f4f8d": {
      "model_module": "@jupyter-widgets/controls",
      "model_module_version": "2.0.0",
      "model_name": "ButtonModel",
      "state": {
       "description": "Graph",
       "disabled": true,
       "icon": "check",
       "layout": "IPY_MODEL_1a11f20f76eb4fe3b7a1a0352ebcd0f0",
       "style": "IPY_MODEL_9ef9f227030440c88b5a2e10654480fa",
       "tooltip": "Needs graphviz"
      }
     },
     "7732c5645f09425ea07a8bb9c1821820": {
      "model_module": "@jupyter-widgets/controls",
      "model_module_version": "2.0.0",
      "model_name": "HTMLModel",
      "state": {
       "layout": "IPY_MODEL_4d1f5fec4dda45a1abbd72fc23d6aa52",
       "style": "IPY_MODEL_43142ed8727c4cf0b6aed22ea5edb5d9"
      }
     },
     "780deed7c1bc41339282d83eda4b51ef": {
      "model_module": "@jupyter-widgets/controls",
      "model_module_version": "2.0.0",
      "model_name": "LabelModel",
      "state": {
       "layout": "IPY_MODEL_e199969b8029488198c0694fe2dbb513",
       "style": "IPY_MODEL_10b669fb923b4e258d0d62f92d0fabce"
      }
     },
     "7884241e715d459e9093dee2feba1cb8": {
      "model_module": "@jupyter-widgets/controls",
      "model_module_version": "2.0.0",
      "model_name": "DropdownModel",
      "state": {
       "_options_labels": [
        ""
       ],
       "description": "Views:",
       "disabled": true,
       "index": 0,
       "layout": "IPY_MODEL_327d170269eb46a99e9ec5f058ff7f98",
       "style": "IPY_MODEL_c27e50ce966246cd8908ea5632a53e06"
      }
     },
     "79c770a873a8487287ab50c4f1dbf8a1": {
      "model_module": "@jupyter-widgets/base",
      "model_module_version": "2.0.0",
      "model_name": "LayoutModel",
      "state": {}
     },
     "7ae1d646847f43b6b0bc316b47e46d2c": {
      "model_module": "@jupyter-widgets/base",
      "model_module_version": "2.0.0",
      "model_name": "LayoutModel",
      "state": {}
     },
     "7b62bb34bb3c4ccb834bff4993509e09": {
      "model_module": "@jupyter-widgets/controls",
      "model_module_version": "2.0.0",
      "model_name": "HTMLStyleModel",
      "state": {
       "description_width": "",
       "font_size": null,
       "text_color": null
      }
     },
     "7e959264c4804b80ae37353810683ca0": {
      "model_module": "@jupyter-widgets/controls",
      "model_module_version": "2.0.0",
      "model_name": "CheckboxStyleModel",
      "state": {
       "description_width": ""
      }
     },
     "7f0b5944e2494830adf3b9979ed25bb9": {
      "model_module": "@jupyter-widgets/controls",
      "model_module_version": "2.0.0",
      "model_name": "HTMLStyleModel",
      "state": {
       "description_width": "",
       "font_size": null,
       "text_color": null
      }
     },
     "7fc76a749fb24bd190a957e0d69ba107": {
      "model_module": "@jupyter-widgets/controls",
      "model_module_version": "2.0.0",
      "model_name": "LabelModel",
      "state": {
       "layout": "IPY_MODEL_f47e925df0a54fd5ae54800388a7b68b",
       "style": "IPY_MODEL_dc0c5778e35941aa9374ec0c4aa1ffa9"
      }
     },
     "80763a6456454479aa4a7787342babfc": {
      "model_module": "@jupyter-widgets/base",
      "model_module_version": "2.0.0",
      "model_name": "LayoutModel",
      "state": {}
     },
     "8082f20393b14db3aa1d6793148fbad3": {
      "model_module": "@jupyter-widgets/controls",
      "model_module_version": "2.0.0",
      "model_name": "ButtonModel",
      "state": {
       "description": "Show",
       "disabled": true,
       "icon": "check",
       "layout": "IPY_MODEL_32c9fcb1676945d5b54bcf746af9ae9b",
       "style": "IPY_MODEL_9f9cd626c118407697e7ab9dfd0c3e2f",
       "tooltip": "Show"
      }
     },
     "817cfa38a64e4f15bc1b14108423e761": {
      "model_module": "@jupyter-widgets/base",
      "model_module_version": "2.0.0",
      "model_name": "LayoutModel",
      "state": {}
     },
     "8189ebbb96864efba3c8076a74949e7b": {
      "model_module": "@jupyter-widgets/controls",
      "model_module_version": "2.0.0",
      "model_name": "HTMLModel",
      "state": {
       "layout": "IPY_MODEL_60d7062304c24247971422cf451a43eb",
       "style": "IPY_MODEL_d158b1bf67064a4b809362ef1b5a9c39"
      }
     },
     "8304005c86f6444cbb2c4b330c33c933": {
      "model_module": "@jupyter-widgets/controls",
      "model_module_version": "2.0.0",
      "model_name": "HTMLStyleModel",
      "state": {
       "description_width": "",
       "font_size": null,
       "text_color": null
      }
     },
     "83c467854a10420a990ae83720e88dfd": {
      "model_module": "@jupyter-widgets/controls",
      "model_module_version": "2.0.0",
      "model_name": "HTMLModel",
      "state": {
       "layout": "IPY_MODEL_bf3ddf9c291d4ec093029e3a3625d08f",
       "style": "IPY_MODEL_ffcdbf6e5bf145db848b20227707eb8f"
      }
     },
     "84346a5250434f7cabdd6b71b317abdb": {
      "model_module": "@jupyter-widgets/base",
      "model_module_version": "2.0.0",
      "model_name": "LayoutModel",
      "state": {}
     },
     "84575a3c7b8d42cdb4320dcf72ad9d53": {
      "model_module": "@jupyter-widgets/controls",
      "model_module_version": "2.0.0",
      "model_name": "HBoxModel",
      "state": {
       "children": [
        "IPY_MODEL_4a9a91ee40944b0cb5318a4d7932bb61"
       ],
       "layout": "IPY_MODEL_0f923ca8c55d45f2ad8ca14565599e16"
      }
     },
     "87327cbf34e04edc82c003798af54a1f": {
      "model_module": "@jupyter-widgets/base",
      "model_module_version": "2.0.0",
      "model_name": "LayoutModel",
      "state": {}
     },
     "882313646f6c4803b05610e3b7fb9a9d": {
      "model_module": "@jupyter-widgets/controls",
      "model_module_version": "2.0.0",
      "model_name": "LabelStyleModel",
      "state": {
       "description_width": "",
       "font_family": null,
       "font_size": null,
       "font_style": null,
       "font_variant": null,
       "font_weight": null,
       "text_color": null,
       "text_decoration": null
      }
     },
     "886fbbc2a14a4d1387e6538301d7934c": {
      "model_module": "@jupyter-widgets/base",
      "model_module_version": "2.0.0",
      "model_name": "LayoutModel",
      "state": {}
     },
     "8b2980eb40e7452190b8768e7c4f595d": {
      "model_module": "@jupyter-widgets/controls",
      "model_module_version": "2.0.0",
      "model_name": "HTMLModel",
      "state": {
       "layout": "IPY_MODEL_f516db6ab160409f801537cd37f15113",
       "style": "IPY_MODEL_7b62bb34bb3c4ccb834bff4993509e09"
      }
     },
     "8ddacb7d556241e29cda343836296f08": {
      "model_module": "@jupyter-widgets/base",
      "model_module_version": "2.0.0",
      "model_name": "LayoutModel",
      "state": {}
     },
     "9070f6bf2e734ba4992505df9f93425e": {
      "model_module": "@jupyter-widgets/controls",
      "model_module_version": "2.0.0",
      "model_name": "HBoxModel",
      "state": {
       "children": [
        "IPY_MODEL_ed1c9a0e0502448da6aafc7b3a335615",
        "IPY_MODEL_9946428fca4e462f88007093c8db744f"
       ],
       "layout": "IPY_MODEL_8ddacb7d556241e29cda343836296f08"
      }
     },
     "9166437446134d77871ce416c72204d3": {
      "model_module": "@jupyter-widgets/base",
      "model_module_version": "2.0.0",
      "model_name": "LayoutModel",
      "state": {}
     },
     "924093cca63b4431a87c7a8284cb7b6d": {
      "model_module": "@jupyter-widgets/base",
      "model_module_version": "2.0.0",
      "model_name": "LayoutModel",
      "state": {}
     },
     "93fa98a903d24ea796a71fbdf4aa4e13": {
      "model_module": "@jupyter-widgets/base",
      "model_module_version": "2.0.0",
      "model_name": "LayoutModel",
      "state": {}
     },
     "944a86b4e2d8448694b5a6da904bc92b": {
      "model_module": "@jupyter-widgets/controls",
      "model_module_version": "2.0.0",
      "model_name": "HTMLModel",
      "state": {
       "layout": "IPY_MODEL_542978d5a01744049b581980e63ee729",
       "style": "IPY_MODEL_f305a38d705e4983be3e7c29a2988aff"
      }
     },
     "94ec5a1706b8406a849245f050666ab6": {
      "model_module": "@jupyter-widgets/controls",
      "model_module_version": "2.0.0",
      "model_name": "LabelModel",
      "state": {
       "layout": "IPY_MODEL_2a815fdc05b7456d840d24b0c3c8116a",
       "style": "IPY_MODEL_d4cd2a05fc224907b346f5e14d3e244d",
       "value": "Widget"
      }
     },
     "95fc2b7c074a437fad2cc6d4aa6b5104": {
      "model_module": "@jupyter-widgets/base",
      "model_module_version": "2.0.0",
      "model_name": "LayoutModel",
      "state": {}
     },
     "975d6c8906db416c900a1da1d224ed4d": {
      "model_module": "@jupyter-widgets/controls",
      "model_module_version": "2.0.0",
      "model_name": "VBoxModel",
      "state": {
       "children": [
        "IPY_MODEL_cf1934383bad4f27b330a56b4c9a82d2",
        "IPY_MODEL_697015a194dc4e618db5f9e9da6a23ce"
       ],
       "layout": "IPY_MODEL_c065b2ba97e048029df90a8ef26729c5"
      }
     },
     "97611dcb0d864067abbc8f0944983ccd": {
      "model_module": "@jupyter-widgets/controls",
      "model_module_version": "2.0.0",
      "model_name": "DropdownModel",
      "state": {
       "_options_labels": [
        "",
        "range_query2_d_1",
        "histogram2_d_1",
        "corr_1"
       ],
       "description": "Modules:",
       "index": 0,
       "layout": "IPY_MODEL_cd70d3dbc0a54053af5b98d012dd52c2",
       "style": "IPY_MODEL_dc34e4deb91449e1a9e0b8837c97d0a1"
      }
     },
     "978725726d90442abc458c05bebc11e4": {
      "model_module": "@jupyter-widgets/base",
      "model_module_version": "2.0.0",
      "model_name": "LayoutModel",
      "state": {}
     },
     "9900445fe4394717b593ef483cba13cb": {
      "model_module": "@jupyter-widgets/base",
      "model_module_version": "2.0.0",
      "model_name": "LayoutModel",
      "state": {}
     },
     "9946428fca4e462f88007093c8db744f": {
      "model_module": "@jupyter-widgets/controls",
      "model_module_version": "2.0.0",
      "model_name": "CheckboxModel",
      "state": {
       "description": "Active",
       "disabled": false,
       "layout": "IPY_MODEL_0ba2b1bf28d346d1a39823d6cb4017a2",
       "style": "IPY_MODEL_7e959264c4804b80ae37353810683ca0",
       "value": true
      }
     },
     "994fcb3c0fc148ee9038d1471051687f": {
      "model_module": "@jupyter-widgets/controls",
      "model_module_version": "2.0.0",
      "model_name": "HTMLModel",
      "state": {
       "layout": "IPY_MODEL_ce6a6b8a8b894d41bc2348a96f239b56",
       "style": "IPY_MODEL_fda546e18cb842b9a058478264a56e00"
      }
     },
     "9b0dab81f12f47c890e804ea8a5d5dea": {
      "model_module": "@jupyter-widgets/controls",
      "model_module_version": "2.0.0",
      "model_name": "ButtonModel",
      "state": {
       "description": "Graph",
       "disabled": true,
       "icon": "check",
       "layout": "IPY_MODEL_63fa3f1de9a947cc9ed6441d5b26202b",
       "style": "IPY_MODEL_111923025fdf49d496b121239fce6a13",
       "tooltip": "Needs graphviz"
      }
     },
     "9ba47c54e1a24b06a5491ef7b84f7484": {
      "model_module": "@jupyter-widgets/base",
      "model_module_version": "2.0.0",
      "model_name": "LayoutModel",
      "state": {}
     },
     "9c44d8f73a3c472c938bc124ba79aa98": {
      "model_module": "@jupyter-widgets/controls",
      "model_module_version": "2.0.0",
      "model_name": "HTMLStyleModel",
      "state": {
       "description_width": "",
       "font_size": null,
       "text_color": null
      }
     },
     "9d27de4ad78d4eee918ef0be0e0a92a9": {
      "model_module": "@jupyter-widgets/controls",
      "model_module_version": "2.0.0",
      "model_name": "ButtonModel",
      "state": {
       "description": "Graph",
       "disabled": true,
       "icon": "check",
       "layout": "IPY_MODEL_ba5bdb9b6f514d0b9b0a90d0d7217548",
       "style": "IPY_MODEL_25632cd25d0a4dc1be76eb0b7dfe1283",
       "tooltip": "Needs graphviz"
      }
     },
     "9e49e01da15d484a93bab6c369779310": {
      "model_module": "@jupyter-widgets/controls",
      "model_module_version": "2.0.0",
      "model_name": "VBoxModel",
      "state": {
       "children": [
        "IPY_MODEL_e098643666494ab7afea06aa68636361",
        "IPY_MODEL_70af89f0ced3490d81163e4ee48937ad"
       ],
       "layout": "IPY_MODEL_5e5ae4dc16ff4738914d63605255db2d"
      }
     },
     "9ef11811add14d66bfbd27f0de0a1f68": {
      "model_module": "@jupyter-widgets/controls",
      "model_module_version": "2.0.0",
      "model_name": "HTMLModel",
      "state": {
       "layout": "IPY_MODEL_c3722c1024484b17b6c5da5af5a84ed6",
       "style": "IPY_MODEL_062b002af8a24d95913d9fe8f4516f1b"
      }
     },
     "9ef9f227030440c88b5a2e10654480fa": {
      "model_module": "@jupyter-widgets/controls",
      "model_module_version": "2.0.0",
      "model_name": "ButtonStyleModel",
      "state": {
       "font_family": null,
       "font_size": null,
       "font_style": null,
       "font_variant": null,
       "font_weight": null,
       "text_color": null,
       "text_decoration": null
      }
     },
     "9f9cd626c118407697e7ab9dfd0c3e2f": {
      "model_module": "@jupyter-widgets/controls",
      "model_module_version": "2.0.0",
      "model_name": "ButtonStyleModel",
      "state": {
       "font_family": null,
       "font_size": null,
       "font_style": null,
       "font_variant": null,
       "font_weight": null,
       "text_color": null,
       "text_decoration": null
      }
     },
     "ab10ad2eac354e34aa7a86819d31dda5": {
      "model_module": "@jupyter-widgets/controls",
      "model_module_version": "2.0.0",
      "model_name": "HTMLModel",
      "state": {
       "layout": "IPY_MODEL_817cfa38a64e4f15bc1b14108423e761",
       "style": "IPY_MODEL_67c0dbb0d96d4afdbac629875ad5ef82"
      }
     },
     "aced41609bcf488aa6b787342bae8f9a": {
      "model_module": "@jupyter-widgets/controls",
      "model_module_version": "2.0.0",
      "model_name": "SliderStyleModel",
      "state": {
       "description_width": "initial"
      }
     },
     "adb29bd291b845afacebfb38844e6e3a": {
      "model_module": "@jupyter-widgets/base",
      "model_module_version": "2.0.0",
      "model_name": "LayoutModel",
      "state": {}
     },
     "b07993d0bf2c493c8a1a1f5b74e946fc": {
      "model_module": "@jupyter-widgets/base",
      "model_module_version": "2.0.0",
      "model_name": "LayoutModel",
      "state": {}
     },
     "b1993a49e28e468187b001d8094728dc": {
      "model_module": "@jupyter-widgets/controls",
      "model_module_version": "2.0.0",
      "model_name": "DropdownModel",
      "state": {
       "_options_labels": [
        "",
        "Corr"
       ],
       "description": "Views:",
       "index": 1,
       "layout": "IPY_MODEL_60e0759a6fb347a4ae35bbbd3cc06e2a",
       "style": "IPY_MODEL_74d6bbb8dcf749acb5940360b5763116"
      }
     },
     "b1cde3f810ea4878a96cb06935108d84": {
      "model_module": "@jupyter-widgets/controls",
      "model_module_version": "2.0.0",
      "model_name": "IntSliderModel",
      "state": {
       "behavior": "drag-tap",
       "continuous_update": false,
       "description": "Display T:",
       "layout": "IPY_MODEL_f5319862e92a4bbfb3ee22a40cc4f017",
       "max": 10,
       "min": 1,
       "style": "IPY_MODEL_709f07c8f0d248348e936779a69239da",
       "value": 1
      }
     },
     "b282eeeebe7d4a36ab9dc8d519365c08": {
      "model_module": "@jupyter-widgets/base",
      "model_module_version": "2.0.0",
      "model_name": "LayoutModel",
      "state": {}
     },
     "b5a3d3ad43f44513add20bdbb9d8854c": {
      "model_module": "@jupyter-widgets/base",
      "model_module_version": "2.0.0",
      "model_name": "LayoutModel",
      "state": {}
     },
     "b93b397ace504c358efbbe74257ce1d2": {
      "model_module": "@jupyter-widgets/base",
      "model_module_version": "2.0.0",
      "model_name": "LayoutModel",
      "state": {}
     },
     "b961e66c59c549eab66344866d9bb808": {
      "model_module": "@jupyter-widgets/controls",
      "model_module_version": "2.0.0",
      "model_name": "DescriptionStyleModel",
      "state": {
       "description_width": "initial"
      }
     },
     "ba5bdb9b6f514d0b9b0a90d0d7217548": {
      "model_module": "@jupyter-widgets/base",
      "model_module_version": "2.0.0",
      "model_name": "LayoutModel",
      "state": {}
     },
     "bcf4197783c14aebbf86ab4f6c0ce0a6": {
      "model_module": "@jupyter-widgets/controls",
      "model_module_version": "2.0.0",
      "model_name": "HTMLStyleModel",
      "state": {
       "description_width": "",
       "font_size": null,
       "text_color": null
      }
     },
     "bf3ddf9c291d4ec093029e3a3625d08f": {
      "model_module": "@jupyter-widgets/base",
      "model_module_version": "2.0.0",
      "model_name": "LayoutModel",
      "state": {}
     },
     "bfd7c1ce315649ebbaf870c606ccc0e8": {
      "model_module": "@jupyter-widgets/controls",
      "model_module_version": "2.0.0",
      "model_name": "SliderStyleModel",
      "state": {
       "description_width": "initial"
      }
     },
     "c065b2ba97e048029df90a8ef26729c5": {
      "model_module": "@jupyter-widgets/base",
      "model_module_version": "2.0.0",
      "model_name": "LayoutModel",
      "state": {}
     },
     "c27e50ce966246cd8908ea5632a53e06": {
      "model_module": "@jupyter-widgets/controls",
      "model_module_version": "2.0.0",
      "model_name": "DescriptionStyleModel",
      "state": {
       "description_width": "initial"
      }
     },
     "c299aed9656f44c389eafde5a060a89d": {
      "model_module": "@jupyter-widgets/base",
      "model_module_version": "2.0.0",
      "model_name": "LayoutModel",
      "state": {}
     },
     "c3722c1024484b17b6c5da5af5a84ed6": {
      "model_module": "@jupyter-widgets/base",
      "model_module_version": "2.0.0",
      "model_name": "LayoutModel",
      "state": {}
     },
     "c775ae4279814d80a780d61c26f0408c": {
      "model_module": "@jupyter-widgets/output",
      "model_module_version": "1.0.0",
      "model_name": "OutputModel",
      "state": {
       "layout": "IPY_MODEL_79c770a873a8487287ab50c4f1dbf8a1"
      }
     },
     "c7a66faba9754658a76edbc931b2aba2": {
      "model_module": "@jupyter-widgets/controls",
      "model_module_version": "2.0.0",
      "model_name": "DropdownModel",
      "state": {
       "_options_labels": [
        "",
        "range_query2_d_1",
        "histogram2_d_1",
        "corr_1"
       ],
       "description": "Modules:",
       "index": 3,
       "layout": "IPY_MODEL_978725726d90442abc458c05bebc11e4",
       "style": "IPY_MODEL_4e089124ccb54dd7a962d892bfb0b72b"
      }
     },
     "c7eed5cdad2946d4bb35fb46c88cf787": {
      "model_module": "@jupyter-widgets/base",
      "model_module_version": "2.0.0",
      "model_name": "LayoutModel",
      "state": {}
     },
     "ca5944969c8d4603b0579419854a762b": {
      "model_module": "@jupyter-widgets/controls",
      "model_module_version": "2.0.0",
      "model_name": "HTMLStyleModel",
      "state": {
       "description_width": "",
       "font_size": null,
       "text_color": null
      }
     },
     "cb1ebe2ba17a42a1a52560a432f93d2e": {
      "model_module": "@jupyter-widgets/base",
      "model_module_version": "2.0.0",
      "model_name": "LayoutModel",
      "state": {}
     },
     "cc0227d653b94763a15127c4d05db00d": {
      "model_module": "@jupyter-widgets/controls",
      "model_module_version": "2.0.0",
      "model_name": "HTMLModel",
      "state": {
       "layout": "IPY_MODEL_36b2433b6af141f293ad50a4ea8db3f8",
       "style": "IPY_MODEL_27420a1603fc45c2bfdb547128936a0d"
      }
     },
     "cd6b5fbefd52474ba4bf1c36c94ba9c0": {
      "model_module": "@jupyter-widgets/controls",
      "model_module_version": "2.0.0",
      "model_name": "HTMLModel",
      "state": {
       "layout": "IPY_MODEL_22eff0b2a5274c619026e270da5c0722",
       "style": "IPY_MODEL_d9db30e4580443dcae0ac9f3f45921f5"
      }
     },
     "cd70d3dbc0a54053af5b98d012dd52c2": {
      "model_module": "@jupyter-widgets/base",
      "model_module_version": "2.0.0",
      "model_name": "LayoutModel",
      "state": {}
     },
     "ce6a6b8a8b894d41bc2348a96f239b56": {
      "model_module": "@jupyter-widgets/base",
      "model_module_version": "2.0.0",
      "model_name": "LayoutModel",
      "state": {}
     },
     "cedb79be5fcb46198a978ccbeb31c163": {
      "model_module": "@jupyter-widgets/base",
      "model_module_version": "2.0.0",
      "model_name": "LayoutModel",
      "state": {}
     },
     "cf1934383bad4f27b330a56b4c9a82d2": {
      "model_module": "@jupyter-widgets/controls",
      "model_module_version": "2.0.0",
      "model_name": "HBoxModel",
      "state": {
       "children": [
        "IPY_MODEL_c7a66faba9754658a76edbc931b2aba2",
        "IPY_MODEL_b1993a49e28e468187b001d8094728dc",
        "IPY_MODEL_1651047daf0946f6aa59c9292bda3a1a",
        "IPY_MODEL_9d27de4ad78d4eee918ef0be0e0a92a9"
       ],
       "layout": "IPY_MODEL_c299aed9656f44c389eafde5a060a89d"
      }
     },
     "d0dc4454e0ec4e5fbe2dcbcb0289d636": {
      "model_module": "@jupyter-widgets/controls",
      "model_module_version": "2.0.0",
      "model_name": "DescriptionStyleModel",
      "state": {
       "description_width": "initial"
      }
     },
     "d158b1bf67064a4b809362ef1b5a9c39": {
      "model_module": "@jupyter-widgets/controls",
      "model_module_version": "2.0.0",
      "model_name": "HTMLStyleModel",
      "state": {
       "description_width": "",
       "font_size": null,
       "text_color": null
      }
     },
     "d4cd2a05fc224907b346f5e14d3e244d": {
      "model_module": "@jupyter-widgets/controls",
      "model_module_version": "2.0.0",
      "model_name": "LabelStyleModel",
      "state": {
       "description_width": "",
       "font_family": null,
       "font_size": null,
       "font_style": null,
       "font_variant": null,
       "font_weight": null,
       "text_color": null,
       "text_decoration": null
      }
     },
     "d5018ae6093244b68a4121e43e7248ad": {
      "model_module": "@jupyter-widgets/controls",
      "model_module_version": "2.0.0",
      "model_name": "HTMLStyleModel",
      "state": {
       "description_width": "",
       "font_size": null,
       "text_color": null
      }
     },
     "d55fafabad8f4d76b91a30f2f06198f1": {
      "model_module": "@jupyter-widgets/base",
      "model_module_version": "2.0.0",
      "model_name": "LayoutModel",
      "state": {}
     },
     "d9db30e4580443dcae0ac9f3f45921f5": {
      "model_module": "@jupyter-widgets/controls",
      "model_module_version": "2.0.0",
      "model_name": "HTMLStyleModel",
      "state": {
       "description_width": "",
       "font_size": null,
       "text_color": null
      }
     },
     "dc0c5778e35941aa9374ec0c4aa1ffa9": {
      "model_module": "@jupyter-widgets/controls",
      "model_module_version": "2.0.0",
      "model_name": "LabelStyleModel",
      "state": {
       "description_width": "",
       "font_family": null,
       "font_size": null,
       "font_style": null,
       "font_variant": null,
       "font_weight": null,
       "text_color": null,
       "text_decoration": null
      }
     },
     "dc34e4deb91449e1a9e0b8837c97d0a1": {
      "model_module": "@jupyter-widgets/controls",
      "model_module_version": "2.0.0",
      "model_name": "DescriptionStyleModel",
      "state": {
       "description_width": "initial"
      }
     },
     "e03f77c908304c1b9a97b7daae0cd804": {
      "model_module": "@jupyter-widgets/controls",
      "model_module_version": "2.0.0",
      "model_name": "HTMLStyleModel",
      "state": {
       "description_width": "",
       "font_size": null,
       "text_color": null
      }
     },
     "e086e06e1f1e4bc0a2907da708e7d14c": {
      "model_module": "jupyter-progressivis",
      "model_module_version": "^0.1.0",
      "model_name": "VegaWidgetModel",
      "state": {
       "_df": null,
       "_img_url": "{\"width\":561,\"height\":474,\"url\":\"data:image/png;base64,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\"}",
       "_model_module": "jupyter-progressivis",
       "_model_module_version": "^0.1.0",
       "_opt_source": "null",
       "_spec_source": "{\"$schema\": \"https://vega.github.io/schema/vega-lite/v4.8.1.json\", \"config\": {\"view\": {\"continuousHeight\": 300, \"continuousWidth\": 400}}, \"data\": {\"name\": \"data\"}, \"layer\": [{\"encoding\": {\"color\": {\"field\": \"corr\", \"type\": \"quantitative\"}, \"x\": {\"field\": \"var2\", \"type\": \"ordinal\"}, \"y\": {\"field\": \"var\", \"type\": \"ordinal\"}}, \"height\": 400, \"mark\": \"rect\", \"width\": 400}, {\"encoding\": {\"color\": {\"condition\": {\"test\": \"(datum.corr > 0.5)\", \"value\": \"white\"}, \"value\": \"black\"}, \"text\": {\"field\": \"corr_label\", \"type\": \"nominal\"}, \"x\": {\"field\": \"var2\", \"type\": \"ordinal\", \"axis\": {\"labelAngle\": -30, \"labelLimit\": 10000}}, \"y\": {\"field\": \"var\", \"type\": \"ordinal\"}}, \"height\": 400, \"mark\": \"text\", \"width\": 400}]}",
       "_view_module": "jupyter-progressivis",
       "_view_module_version": "^0.1.0",
       "layout": "IPY_MODEL_cedb79be5fcb46198a978ccbeb31c163"
      }
     },
     "e098643666494ab7afea06aa68636361": {
      "model_module": "@jupyter-widgets/controls",
      "model_module_version": "2.0.0",
      "model_name": "HBoxModel",
      "state": {
       "children": [
        "IPY_MODEL_97611dcb0d864067abbc8f0944983ccd",
        "IPY_MODEL_7884241e715d459e9093dee2feba1cb8",
        "IPY_MODEL_5681b88912614128b15d27a1d254bd0c",
        "IPY_MODEL_9b0dab81f12f47c890e804ea8a5d5dea"
       ],
       "layout": "IPY_MODEL_87327cbf34e04edc82c003798af54a1f"
      }
     },
     "e199969b8029488198c0694fe2dbb513": {
      "model_module": "@jupyter-widgets/base",
      "model_module_version": "2.0.0",
      "model_name": "LayoutModel",
      "state": {}
     },
     "e1b53fcd4dd64c2eb94fea416770a056": {
      "model_module": "@jupyter-widgets/base",
      "model_module_version": "2.0.0",
      "model_name": "LayoutModel",
      "state": {}
     },
     "e36a464528f548bbbc885929bead0742": {
      "model_module": "@jupyter-widgets/controls",
      "model_module_version": "2.0.0",
      "model_name": "HTMLStyleModel",
      "state": {
       "description_width": "",
       "font_size": null,
       "text_color": null
      }
     },
     "e6dd75f9b1db4a11ae391df1711f20aa": {
      "model_module": "@jupyter-widgets/controls",
      "model_module_version": "2.0.0",
      "model_name": "LabelStyleModel",
      "state": {
       "description_width": "",
       "font_family": null,
       "font_size": null,
       "font_style": null,
       "font_variant": null,
       "font_weight": null,
       "text_color": null,
       "text_decoration": null
      }
     },
     "e941f5b05a09407b9ae2676c1abfab60": {
      "model_module": "@jupyter-widgets/controls",
      "model_module_version": "2.0.0",
      "model_name": "HTMLModel",
      "state": {
       "layout": "IPY_MODEL_886fbbc2a14a4d1387e6538301d7934c",
       "style": "IPY_MODEL_f26fd4fa58ef4a8c822b4d18c6681752"
      }
     },
     "e9a12a3e92184d7cbce1e5344dec50cc": {
      "model_module": "@jupyter-widgets/controls",
      "model_module_version": "2.0.0",
      "model_name": "HTMLModel",
      "state": {
       "layout": "IPY_MODEL_adb29bd291b845afacebfb38844e6e3a",
       "style": "IPY_MODEL_58ec52ddf1574fb3ad0025aaf456fa9e"
      }
     },
     "ed1c9a0e0502448da6aafc7b3a335615": {
      "model_module": "@jupyter-widgets/controls",
      "model_module_version": "2.0.0",
      "model_name": "IntSliderModel",
      "state": {
       "behavior": "drag-tap",
       "continuous_update": false,
       "description": "Display T:",
       "layout": "IPY_MODEL_3125369c1a734afe8a9d2c54c3bb798c",
       "max": 10,
       "min": 1,
       "style": "IPY_MODEL_aced41609bcf488aa6b787342bae8f9a",
       "value": 1
      }
     },
     "f034da8e8f8f4ddabdd74e4c824255c4": {
      "model_module": "@jupyter-widgets/base",
      "model_module_version": "2.0.0",
      "model_name": "LayoutModel",
      "state": {}
     },
     "f21a06031eae4c64a81cbe61ca05df6c": {
      "model_module": "@jupyter-widgets/controls",
      "model_module_version": "2.0.0",
      "model_name": "HBoxModel",
      "state": {
       "children": [
        "IPY_MODEL_6fcd59b3f61045838b7e1e376d609856",
        "IPY_MODEL_3731f33d8d264c9d991d6aafebaf7e16",
        "IPY_MODEL_8082f20393b14db3aa1d6793148fbad3",
        "IPY_MODEL_768b2e1f24714e508ccbd18b0a1f4f8d"
       ],
       "layout": "IPY_MODEL_95fc2b7c074a437fad2cc6d4aa6b5104"
      }
     },
     "f26fd4fa58ef4a8c822b4d18c6681752": {
      "model_module": "@jupyter-widgets/controls",
      "model_module_version": "2.0.0",
      "model_name": "HTMLStyleModel",
      "state": {
       "description_width": "",
       "font_size": null,
       "text_color": null
      }
     },
     "f305a38d705e4983be3e7c29a2988aff": {
      "model_module": "@jupyter-widgets/controls",
      "model_module_version": "2.0.0",
      "model_name": "HTMLStyleModel",
      "state": {
       "description_width": "",
       "font_size": null,
       "text_color": null
      }
     },
     "f405084714f34542920d2465b8c2ab75": {
      "model_module": "@jupyter-widgets/controls",
      "model_module_version": "2.0.0",
      "model_name": "CheckboxStyleModel",
      "state": {
       "description_width": ""
      }
     },
     "f47e925df0a54fd5ae54800388a7b68b": {
      "model_module": "@jupyter-widgets/base",
      "model_module_version": "2.0.0",
      "model_name": "LayoutModel",
      "state": {}
     },
     "f516db6ab160409f801537cd37f15113": {
      "model_module": "@jupyter-widgets/base",
      "model_module_version": "2.0.0",
      "model_name": "LayoutModel",
      "state": {}
     },
     "f5319862e92a4bbfb3ee22a40cc4f017": {
      "model_module": "@jupyter-widgets/base",
      "model_module_version": "2.0.0",
      "model_name": "LayoutModel",
      "state": {}
     },
     "f5b999b5885e4e0bbd4734ce312511be": {
      "model_module": "@jupyter-widgets/base",
      "model_module_version": "2.0.0",
      "model_name": "LayoutModel",
      "state": {}
     },
     "f84b00e8f88841b28735cac915eb89f0": {
      "model_module": "@jupyter-widgets/controls",
      "model_module_version": "2.0.0",
      "model_name": "HTMLStyleModel",
      "state": {
       "description_width": "",
       "font_size": null,
       "text_color": null
      }
     },
     "fd7898357b4e4c99b3fb5b624f1714ed": {
      "model_module": "@jupyter-widgets/base",
      "model_module_version": "2.0.0",
      "model_name": "LayoutModel",
      "state": {}
     },
     "fda546e18cb842b9a058478264a56e00": {
      "model_module": "@jupyter-widgets/controls",
      "model_module_version": "2.0.0",
      "model_name": "HTMLStyleModel",
      "state": {
       "description_width": "",
       "font_size": null,
       "text_color": null
      }
     },
     "ffcdbf6e5bf145db848b20227707eb8f": {
      "model_module": "@jupyter-widgets/controls",
      "model_module_version": "2.0.0",
      "model_name": "HTMLStyleModel",
      "state": {
       "description_width": "",
       "font_size": null,
       "text_color": null
      }
     }
    },
    "version_major": 2,
    "version_minor": 0
   }
  }
 },
 "nbformat": 4,
 "nbformat_minor": 5
}
