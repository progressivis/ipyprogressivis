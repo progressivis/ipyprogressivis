{
 "cells": [
  {
   "cell_type": "markdown",
   "id": "progressibook-starter",
   "metadata": {
    "deletable": false,
    "editable": false,
    "progressivis_backup": "eyJ0aXRsZSI6ICJDVVNUT00gbG9hZGVyIiwgIm51bWJlciI6IDAsICJmdHlwZSI6ICJjdXN0b20iLCAiYWxpYXMiOiAiQmxvYnMiLCAiZnJvemVuIjogeyJzbmlwcGV0IjogImJsb2JzX3RhYmxlIiwgImNvbHVtbnMiOiBbXX0sICJtYXJrZG93biI6ICIifQ==;eyJ0aXRsZSI6ICJTbmlwcGV0IiwgInBhcmVudCI6IFsiQmxvYnMiLCAwXSwgIm51bWJlciI6IDAsICJhbGlhcyI6ICIiLCAiZnJvemVuIjogeyJzbmlwcGV0IjogInJhbmdlX3F1ZXJ5XzJkX3dpdGhfc2xpZGVyIiwgImNvbHVtbnMiOiB7IngiOiAiXzAiLCAieSI6ICJfMiJ9fSwgIm1hcmtkb3duIjogIiJ9;eyJ0aXRsZSI6ICJIZWF0bWFwIiwgInBhcmVudCI6IFsiU25pcHBldCIsIDBdLCAibnVtYmVyIjogMCwgImFsaWFzIjogIiIsICJmcm96ZW4iOiB7IlgiOiAiXzAiLCAiWSI6ICJfMiIsICJkaW0iOiAiNTEyIiwgIm1pbl9xIjogIiIsICJtYXhfcSI6ICIiLCAidHJhbnMiOiAiNCIsICJibHVyIjogMH0sICJtYXJrZG93biI6ICIifQ==",
    "slideshow": {
     "slide_type": ""
    },
    "tags": []
   },
   "source": [
    "<button data-commandLinker-command=\"progressivis:cleanup_and_run\" data-commandlinker-args='{\"index\": 1}' href=\"#\" class='progressivis-cleanup-and-run-btn'>Run ProgressiVis</button>"
   ]
  },
  {
   "cell_type": "code",
   "execution_count": null,
   "id": "progressibook-bootstrap",
   "metadata": {
    "deletable": false,
    "editable": false,
    "jupyter": {
     "source_hidden": true
    },
    "progressivis_backup": "",
    "slideshow": {
     "slide_type": ""
    },
    "tags": []
   },
   "outputs": [
    {
     "data": {
      "application/vnd.jupyter.widget-view+json": {
       "model_id": "0ebcaa1afe40405c87a65257f1be0d1b",
       "version_major": 2,
       "version_minor": 0
      },
      "text/plain": [
       "Talker()"
      ]
     },
     "metadata": {},
     "output_type": "display_data"
    },
    {
     "data": {
      "application/vnd.jupyter.widget-view+json": {
       "model_id": "8c38e5d723e642a8aef0b429c457222a",
       "version_major": 2,
       "version_minor": 0
      },
      "text/plain": [
       "BackupWidget()"
      ]
     },
     "metadata": {},
     "output_type": "display_data"
    }
   ],
   "source": [
    "from ipyprogressivis.widgets.chaining.constructor import Constructor\n",
    "from ipyprogressivis.widgets.chaining.utils import create_root, get_header\n",
    "from ipyprogressivis.widgets.chaining.custom import *\n",
    "# ***************************************************************************************\n",
    "# WARNING: This cell must only be executed using the 'Run ProgressiVis' button above.\n",
    "# Do not execute it in any other way, as the result will not be as expected.\n",
    "# For the same reason do not copy/paste the contents of this cell to execute it elsewhere\n",
    "# ***************************************************************************************\n",
    "header = get_header()\n",
    "display(header.talker)\n",
    "display(header.backup)\n",
    "_ = header.constructor\n",
    "with header.modules_out:\n",
    "    display(header.board)\n",
    "with header.widgets_out:\n",
    "    display(header.manager)\n",
    "header.talker.labcommand(\"notebook:hide-cell-code\")\n",
    "%reload_ext ipyprogressivis.magics\n",
    "create_root(header.backup)"
   ]
  },
  {
   "cell_type": "code",
   "execution_count": null,
   "id": "b9c04daa-caf1-4b3f-b9f6-c965b9c71c84",
   "metadata": {},
   "outputs": [],
   "source": [
    "# progressivis-snippet\n",
    "import ipywidgets as widgets\n",
    "import numpy as np\n",
    "import progressivis.core.aio as aio\n",
    "from typing import Any as AnyType\n",
    "from progressivis.table.range_query_2d import RangeQuery2D\n",
    "\n",
    "\n",
    "def make_slider(desc):\n",
    "    return widgets.FloatRangeSlider(\n",
    "        value=[-1000, 1000],\n",
    "        min=-1000.,\n",
    "        max=1000.,\n",
    "        step=0.1,\n",
    "        description=desc,\n",
    "        disabled=False,\n",
    "        continuous_update=False,\n",
    "        orientation='horizontal',\n",
    "        readout=True,\n",
    "        readout_format='.1f',\n",
    ")\n",
    "\n",
    "def make_observer(col_x, col_y, range_qry, slider_x, slider_y):\n",
    "    def _observe_range(val: AnyType) -> None:\n",
    "        async def _coro(v: AnyType) -> None:\n",
    "            min_x, max_x = slider_x.value\n",
    "            min_y, max_y = slider_y.value\n",
    "            await range_qry.dep.min_value.from_input({col_x: min_x, col_y: min_y})\n",
    "            await range_qry.dep.max_value.from_input({col_x: max_x, col_y: max_y})\n",
    "        aio.create_task(_coro(val))\n",
    "\n",
    "    return _observe_range\n",
    "\n",
    "class AfterRun:\n",
    "    def __init__(self, column_x, column_y, slider_x, slider_y, period=3):\n",
    "        self._cnt = 0\n",
    "        self._t = period\n",
    "        self._column_x = column_x\n",
    "        self._column_y = column_y\n",
    "        self._slider_x = slider_x\n",
    "        self._slider_y = slider_y\n",
    "\n",
    "    async def __call__(self, m, r):\n",
    "        if self._cnt % self._t:\n",
    "            self._cnt += 1\n",
    "            return\n",
    "        x = self._column_x\n",
    "        y = self._column_y\n",
    "        slid_x = self._slider_x\n",
    "        slid_y = self._slider_y\n",
    "        if not (m.dep.index.min_out and\n",
    "                m.dep.index.max_out):\n",
    "            return\n",
    "        slid_x.min = m.dep.index.min_out[x]\n",
    "        slid_x.max = m.dep.index.max_out[x]\n",
    "        slid_y.min = m.dep.index.min_out[y]\n",
    "        slid_y.max = m.dep.index.max_out[y]\n",
    "        self._cnt += 1\n",
    "\n",
    "@register_snippet\n",
    "def range_query_2d_with_slider(input_module, input_slot, columns):\n",
    "    scheduler = input_module.scheduler\n",
    "    with scheduler:\n",
    "        column_x, column_y = columns[\"x\"], columns[\"y\"]\n",
    "        min_ = {column_x: -np.inf, column_y: -np.inf}\n",
    "        max_ = {column_x: np.inf, column_y: np.inf}\n",
    "        range_qry = RangeQuery2D(column_x=column_x, column_y=column_y, scheduler=scheduler)\n",
    "        range_qry.create_dependent_modules(input_module, input_slot)\n",
    "        range_qry.dep.min_value.result.update(min_)\n",
    "        range_qry.dep.max_value.result.update(max_)\n",
    "        range_slider_x = make_slider(\"X\")\n",
    "        range_slider_y = make_slider(\"Y\")\n",
    "        range_qry.on_after_run(AfterRun(column_x, column_y, range_slider_x, range_slider_y))\n",
    "        sink = Sink(scheduler=scheduler)\n",
    "        sink.input.inp = range_qry.output.result\n",
    "    observer = make_observer(column_x, column_y, range_qry, range_slider_x, range_slider_y)\n",
    "    range_slider_x.observe(observer, \"value\")\n",
    "    range_slider_y.observe(observer, \"value\")\n",
    "    return SnippetResult(output_module=range_qry,\n",
    "                         output_slot=\"result\",\n",
    "                         widget=widgets.VBox([range_slider_x, range_slider_y])\n",
    "                         )\n"
   ]
  },
  {
   "cell_type": "code",
   "execution_count": null,
   "id": "75b9814c-37d9-42a5-b894-cf07026f1775",
   "metadata": {},
   "outputs": [],
   "source": [
    "# progressivis-snippet\n",
    "import warnings\n",
    "from progressivis.stats.blobs_table import BlobsPTable\n",
    "from progressivis.core.api import Sink\n",
    "warnings.filterwarnings('ignore')\n",
    "\n",
    "@register_snippet\n",
    "def blobs_table(input_module, input_slot, columns):\n",
    "    n_samples = 100_000_000\n",
    "    n_components = 2\n",
    "    rtol = 0.01\n",
    "    centers = [(0.1, 0.3, 0.5), (0.7, 0.5, 3.3), (-0.4, -0.3, -11.1)]\n",
    "    scheduler = input_module.scheduler\n",
    "    with scheduler:\n",
    "        data = BlobsPTable(columns=['_0', '_1', '_2'],  centers=centers,\n",
    "                           cluster_std=0.2, rows=n_samples, scheduler=scheduler)\n",
    "        sink = Sink(scheduler=scheduler)\n",
    "        sink.input.inp = data.output.result\n",
    "    return SnippetResult(output_module=data, output_slot=\"result\")\n"
   ]
  },
  {
   "cell_type": "markdown",
   "id": "7f53627a-ac2c-4414-9eed-c6a6203233e7",
   "metadata": {
    "deletable": false,
    "editable": true,
    "progressivis_tag": "root",
    "progressivis_tag_class": "root"
   },
   "source": [
    "## root"
   ]
  },
  {
   "cell_type": "code",
   "execution_count": 1,
   "id": "54dfdd8f-9df6-4726-b761-860298d777e4",
   "metadata": {
    "deletable": false,
    "editable": false,
    "jupyter": {
     "source_hidden": true
    },
    "progressivis_tag": "root",
    "progressivis_tag_class": "root"
   },
   "outputs": [
    {
     "data": {
      "application/vnd.jupyter.widget-view+json": {
       "model_id": "5c162b9a9465460ab2319bbca63cfa5f",
       "version_major": 2,
       "version_minor": 0
      },
      "text/plain": [
       "Constructor(children=(IntProgress(value=0, description='Starting ProgressiVis ...', max=2, style=ProgressStyle…"
      ]
     },
     "metadata": {},
     "output_type": "display_data"
    },
    {
     "name": "stdout",
     "output_type": "stream",
     "text": [
      "Starting scheduler\n",
      "# Scheduler added module(s): ['sink_1', 'variable_1']\n",
      "# Scheduler added module(s): ['data_shape_1', 'sink_3']\n",
      "# Scheduler deleted module(s): {'sink_3', 'data_shape_1'}\n",
      "# Scheduler added module(s): ['data_shape_1', 'sink_4']\n",
      "# Scheduler deleted module(s): {'sink_4', 'data_shape_1'}\n"
     ]
    }
   ],
   "source": [
    "# do not run this cell\n",
    "display(header.constructor)\n",
    "header.constructor.start_scheduler()\n",
    "header.talker.labcommand('notebook:hide-cell-code')"
   ]
  },
  {
   "cell_type": "markdown",
   "id": "33173b6a-daae-490d-9241-9e59c4a85b45",
   "metadata": {
    "deletable": false,
    "editable": true,
    "progressivis_tag": "Blobs",
    "progressivis_tag_class": "SnippetW"
   },
   "source": [
    "## Blobs"
   ]
  },
  {
   "cell_type": "code",
   "execution_count": 2,
   "id": "19ad41f0-7ea1-467d-acda-5a0a63ace1d8",
   "metadata": {
    "deletable": false,
    "editable": false,
    "progressivis_tag": "Blobs",
    "progressivis_tag_class": "SnippetW"
   },
   "outputs": [
    {
     "data": {
      "application/vnd.jupyter.widget-view+json": {
       "model_id": "318c3191222a46948ce266b4d31b7416",
       "version_major": 2,
       "version_minor": 0
      },
      "text/plain": [
       "NodeCarrier(children=(HBox(children=(Button(button_style='danger', icon='trash', style=ButtonStyle(), tooltip=…"
      ]
     },
     "execution_count": 2,
     "metadata": {},
     "output_type": "execute_result"
    }
   ],
   "source": [
    "Constructor.widget('Blobs', 0)"
   ]
  },
  {
   "cell_type": "markdown",
   "id": "04387dd3-9fe6-401c-be8c-d76c69f557fd",
   "metadata": {
    "deletable": false,
    "editable": true,
    "progressivis_tag": "Snippet",
    "progressivis_tag_class": "SnippetW"
   },
   "source": [
    "## Snippet"
   ]
  },
  {
   "cell_type": "code",
   "execution_count": 3,
   "id": "a51e2537-9bbc-4450-8746-4a822f4077e4",
   "metadata": {
    "deletable": false,
    "editable": false,
    "progressivis_tag": "Snippet",
    "progressivis_tag_class": "SnippetW"
   },
   "outputs": [
    {
     "data": {
      "application/vnd.jupyter.widget-view+json": {
       "model_id": "b53ca25c7f644f609ee9d0d515520460",
       "version_major": 2,
       "version_minor": 0
      },
      "text/plain": [
       "NodeCarrier(children=(HBox(children=(Button(button_style='danger', icon='trash', style=ButtonStyle(), tooltip=…"
      ]
     },
     "execution_count": 3,
     "metadata": {},
     "output_type": "execute_result"
    }
   ],
   "source": [
    "Constructor.widget('Snippet', 0)"
   ]
  },
  {
   "cell_type": "markdown",
   "id": "f66d06ea-9967-4b2f-bed4-54d84a0c3e20",
   "metadata": {
    "deletable": false,
    "editable": true,
    "progressivis_tag": "Heatmap",
    "progressivis_tag_class": "HeatmapW"
   },
   "source": [
    "## Heatmap"
   ]
  },
  {
   "cell_type": "code",
   "execution_count": 4,
   "id": "3051e37c-5bb6-4b54-b826-caabb9f58aee",
   "metadata": {
    "deletable": false,
    "editable": false,
    "progressivis_tag": "Heatmap",
    "progressivis_tag_class": "HeatmapW"
   },
   "outputs": [
    {
     "data": {
      "application/vnd.jupyter.widget-view+json": {
       "model_id": "b93418ef635a48eba171a46984455986",
       "version_major": 2,
       "version_minor": 0
      },
      "text/plain": [
       "NodeCarrier(children=(HBox(children=(Button(button_style='danger', icon='trash', style=ButtonStyle(), tooltip=…"
      ]
     },
     "execution_count": 4,
     "metadata": {},
     "output_type": "execute_result"
    }
   ],
   "source": [
    "Constructor.widget('Heatmap', 0)"
   ]
  }
 ],
 "metadata": {
  "celltoolbar": "Éditer les Méta-Données",
  "hide_input": false,
  "kernelspec": {
   "display_name": "Python 3 (ipykernel)",
   "language": "python",
   "name": "python3"
  },
  "language_info": {
   "codemirror_mode": {
    "name": "ipython",
    "version": 3
   },
   "file_extension": ".py",
   "mimetype": "text/x-python",
   "name": "python",
   "nbconvert_exporter": "python",
   "pygments_lexer": "ipython3",
   "version": "3.13.7"
  },
  "latex_envs": {
   "LaTeX_envs_menu_present": true,
   "autoclose": false,
   "autocomplete": true,
   "bibliofile": "biblio.bib",
   "cite_by": "apalike",
   "current_citInitial": 1,
   "eqLabelWithNumbers": true,
   "eqNumInitial": 1,
   "hotkeys": {
    "equation": "Ctrl-E",
    "itemize": "Ctrl-I"
   },
   "labels_anchors": false,
   "latex_user_defs": false,
   "report_style_numbering": false,
   "user_envs_cfg": false
  },
  "toc": {
   "base_numbering": 1,
   "nav_menu": {},
   "number_sections": false,
   "sideBar": true,
   "skip_h1_title": true,
   "title_cell": "PTable of Contents",
   "title_sidebar": "Contents",
   "toc_cell": false,
   "toc_position": {
    "height": "836.875px",
    "left": "59px",
    "top": "111.125px",
    "width": "340px"
   },
   "toc_section_display": true,
   "toc_window_display": true
  },
  "toc-showtags": false,
  "widgets": {
   "application/vnd.jupyter.widget-state+json": {
    "state": {
     "003f3490a2fe44458451189c3482e47d": {
      "model_module": "@jupyter-widgets/controls",
      "model_module_version": "2.0.0",
      "model_name": "DescriptionStyleModel",
      "state": {
       "description_width": ""
      }
     },
     "00528473fb03489ab78172560283a2e8": {
      "buffers": [
       {
        "data": "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",
        "encoding": "base64",
        "path": [
         "value",
         0,
         "content"
        ]
       }
      ],
      "model_module": "@jupyter-widgets/controls",
      "model_module_version": "2.0.0",
      "model_name": "FileUploadModel",
      "state": {
       "accept": ".py",
       "description": "",
       "description_allow_html": false,
       "disabled": true,
       "layout": "IPY_MODEL_90d4c25bfd004341bd39983cc69f1627",
       "multiple": true,
       "style": "IPY_MODEL_741a354d346a4423aa65c1ed332f5cf9",
       "value": [
        {
         "last_modified": 1761246790561,
         "name": "range_query_2d_with_slider.py",
         "size": 3017,
         "type": "text/x-python"
        }
       ]
      }
     },
     "007c8b2b84664a45b57249c49168692f": {
      "model_module": "@jupyter-widgets/base",
      "model_module_version": "2.0.0",
      "model_name": "LayoutModel",
      "state": {}
     },
     "00e81e93ca0e475f92419985f7950559": {
      "model_module": "@jupyter-widgets/controls",
      "model_module_version": "2.0.0",
      "model_name": "HBoxModel",
      "state": {
       "children": [
        "IPY_MODEL_3d37845a5eae416aab37527a76ab8afc"
       ],
       "layout": "IPY_MODEL_ac4be50fbbee4e198b554c7299f5e6e6"
      }
     },
     "017ab703c43e4ddca15ab42b586e6da0": {
      "model_module": "@jupyter-widgets/base",
      "model_module_version": "2.0.0",
      "model_name": "LayoutModel",
      "state": {}
     },
     "01f6d25c5cb1466d81d16d70a10029ce": {
      "model_module": "@jupyter-widgets/controls",
      "model_module_version": "2.0.0",
      "model_name": "RadioButtonsModel",
      "state": {
       "_options_labels": [
        "All",
        "Selection as list",
        "Selection as dict"
       ],
       "description": "Columns to process:",
       "disabled": true,
       "index": 2,
       "layout": "IPY_MODEL_5938580477a8465690b0edde64b624df",
       "style": "IPY_MODEL_90cf8123ca22402396b8d5c51ea3f334"
      }
     },
     "02cb25133cb04b2b8e6a60e006b5dbee": {
      "model_module": "@jupyter-widgets/controls",
      "model_module_version": "2.0.0",
      "model_name": "IntSliderModel",
      "state": {
       "behavior": "drag-tap",
       "continuous_update": false,
       "description": "Display T:",
       "layout": "IPY_MODEL_017ab703c43e4ddca15ab42b586e6da0",
       "max": 10,
       "min": 1,
       "style": "IPY_MODEL_4d2c8f75db12412b97e6f057a4e46538",
       "value": 1
      }
     },
     "041ce38b5b9347238cab3cfcba9cbb1b": {
      "model_module": "@jupyter-widgets/controls",
      "model_module_version": "2.0.0",
      "model_name": "HTMLStyleModel",
      "state": {
       "description_width": "",
       "font_size": null,
       "text_color": null
      }
     },
     "04a8084c052149058ee69c1b3f7a08b4": {
      "model_module": "@jupyter-widgets/controls",
      "model_module_version": "2.0.0",
      "model_name": "ButtonModel",
      "state": {
       "description": "Resume",
       "disabled": true,
       "icon": "play",
       "layout": "IPY_MODEL_461be58d5f6842c1a54a95f23e07dee5",
       "style": "IPY_MODEL_2f7bbfe5c7d14b59acaa758e1f382e3d",
       "tooltip": "Start"
      }
     },
     "05223584a7d145bfa7aa1e21127c3a51": {
      "model_module": "@jupyter-widgets/base",
      "model_module_version": "2.0.0",
      "model_name": "LayoutModel",
      "state": {}
     },
     "056b1009f2204bfab49d59e164cf5327": {
      "model_module": "@jupyter-widgets/base",
      "model_module_version": "2.0.0",
      "model_name": "LayoutModel",
      "state": {}
     },
     "05b6cf7b7f4942138a92c0f61c0d6a1b": {
      "model_module": "@jupyter-widgets/controls",
      "model_module_version": "2.0.0",
      "model_name": "CheckboxStyleModel",
      "state": {
       "description_width": ""
      }
     },
     "063c47af0a1d4d0aa4131639d6f2d9e2": {
      "model_module": "@jupyter-widgets/controls",
      "model_module_version": "2.0.0",
      "model_name": "DropdownModel",
      "state": {
       "_options_labels": [
        "512*512",
        "256*256",
        "128*128"
       ],
       "description": "Definition",
       "disabled": true,
       "index": 0,
       "layout": "IPY_MODEL_e19c5428a7dd4f4c8c8e8e207d1705e0",
       "style": "IPY_MODEL_e9c59a3d58b54c3e8f85b2f9b7a751ed"
      }
     },
     "073f0966f73b492cb8255f8c8e21c3e2": {
      "model_module": "@jupyter-widgets/base",
      "model_module_version": "2.0.0",
      "model_name": "LayoutModel",
      "state": {}
     },
     "081c75b2fdf6414c8140d220273a6272": {
      "model_module": "@jupyter-widgets/controls",
      "model_module_version": "2.0.0",
      "model_name": "GridBoxModel",
      "state": {
       "children": [
        "IPY_MODEL_f02d4d4aa3e64495ac5b3cc531169d52",
        "IPY_MODEL_d2a16b37311f42cf9c44913a5785b986",
        "IPY_MODEL_9b6451ffe26e4802bd4c5e9295b0a897",
        "IPY_MODEL_0fe49d3fa753408c8a5e2373d86ce7be",
        "IPY_MODEL_1c4fd07d85684b80b0b731960fbec7fe",
        "IPY_MODEL_72100601bfe748dabfc6242e9f252556",
        "IPY_MODEL_0de278669a0a4db5855a0bf7fbef2b50",
        "IPY_MODEL_dbe5db4355d34bfca71fcb7547f37d7b"
       ],
       "layout": "IPY_MODEL_7e74ada5cda440d7885a67f1b913a57c"
      }
     },
     "08a9a9ef4e3744588784ddf2b118d9d8": {
      "model_module": "@jupyter-widgets/controls",
      "model_module_version": "2.0.0",
      "model_name": "HTMLStyleModel",
      "state": {
       "description_width": "",
       "font_size": null,
       "text_color": null
      }
     },
     "09b08924b5e44efc890e63442fcf60ab": {
      "model_module": "@jupyter-widgets/controls",
      "model_module_version": "2.0.0",
      "model_name": "HTMLModel",
      "state": {
       "layout": "IPY_MODEL_7384d5d7aa5d492aa61b582f35482dba",
       "style": "IPY_MODEL_7dc2415cd1ad459aafd6da83fea924fd"
      }
     },
     "09be71d2c8034c02a7d269564744734e": {
      "model_module": "@jupyter-widgets/controls",
      "model_module_version": "2.0.0",
      "model_name": "TextStyleModel",
      "state": {
       "description_width": "",
       "font_size": null,
       "text_color": null
      }
     },
     "0a324a9fa4be429a85ce01fa6f5e952b": {
      "model_module": "@jupyter-widgets/base",
      "model_module_version": "2.0.0",
      "model_name": "LayoutModel",
      "state": {}
     },
     "0a4c8c6f9d4a420882894e53a7a46d7b": {
      "model_module": "@jupyter-widgets/output",
      "model_module_version": "1.0.0",
      "model_name": "OutputModel",
      "state": {
       "layout": "IPY_MODEL_d6a7190d7142426fbe15698ba19e4ee0"
      }
     },
     "0afbbc7bb3564d7aa610a7a7c2744c76": {
      "model_module": "@jupyter-widgets/base",
      "model_module_version": "2.0.0",
      "model_name": "LayoutModel",
      "state": {}
     },
     "0c53102000a9450ab4525ba2c7ed9586": {
      "model_module": "@jupyter-widgets/base",
      "model_module_version": "2.0.0",
      "model_name": "LayoutModel",
      "state": {
       "justify_content": "flex-end"
      }
     },
     "0d466cb640c64558b0de73aed1c3fb31": {
      "model_module": "@jupyter-widgets/base",
      "model_module_version": "2.0.0",
      "model_name": "LayoutModel",
      "state": {}
     },
     "0de278669a0a4db5855a0bf7fbef2b50": {
      "model_module": "@jupyter-widgets/controls",
      "model_module_version": "2.0.0",
      "model_name": "LabelModel",
      "state": {
       "layout": "IPY_MODEL_210ef6d79e8243ca97a3cff30008847b",
       "style": "IPY_MODEL_b8d422e556c248fb9c557ed480a9a6d9",
       "value": "_2"
      }
     },
     "0e0ab630104e41799d5d3044f8302a53": {
      "model_module": "@jupyter-widgets/controls",
      "model_module_version": "2.0.0",
      "model_name": "TextStyleModel",
      "state": {
       "description_width": "",
       "font_size": null,
       "text_color": null
      }
     },
     "0eab9f973ef1476981923c99c2beb0c4": {
      "model_module": "@jupyter-widgets/controls",
      "model_module_version": "2.0.0",
      "model_name": "HTMLStyleModel",
      "state": {
       "description_width": "",
       "font_size": null,
       "text_color": null
      }
     },
     "0ebcaa1afe40405c87a65257f1be0d1b": {
      "model_module": "jupyter-progressivis",
      "model_module_version": "^0.1.0",
      "model_name": "TalkerModel",
      "state": {
       "_model_module_version": "^0.1.0",
       "_view_module_version": "^0.1.0",
       "layout": "IPY_MODEL_26ec76f8ff494c199a45ef147f3f8c0c"
      }
     },
     "0f82ef2253614887959b3909358dea43": {
      "model_module": "@jupyter-widgets/base",
      "model_module_version": "2.0.0",
      "model_name": "LayoutModel",
      "state": {}
     },
     "0fe49d3fa753408c8a5e2373d86ce7be": {
      "model_module": "@jupyter-widgets/controls",
      "model_module_version": "2.0.0",
      "model_name": "TextModel",
      "state": {
       "disabled": true,
       "layout": "IPY_MODEL_4a645e93f0e244e1a0632bfeeb06342f",
       "placeholder": "enter a key name to select",
       "style": "IPY_MODEL_3351167aaa164d1d9ff07d5e69ff4d9f",
       "value": "x"
      }
     },
     "1074f3179c4b478eaa667e06847ae811": {
      "model_module": "@jupyter-widgets/controls",
      "model_module_version": "2.0.0",
      "model_name": "SliderStyleModel",
      "state": {
       "description_width": "initial"
      }
     },
     "10a20cde3f524925b604f017c6c5bc3c": {
      "model_module": "@jupyter-widgets/controls",
      "model_module_version": "2.0.0",
      "model_name": "HTMLStyleModel",
      "state": {
       "description_width": "",
       "font_size": null,
       "text_color": null
      }
     },
     "10a3c5744557438083c3669e03f73d78": {
      "model_module": "@jupyter-widgets/base",
      "model_module_version": "2.0.0",
      "model_name": "LayoutModel",
      "state": {}
     },
     "11a270b0e84f4d86865ec16f97e8af64": {
      "model_module": "@jupyter-widgets/controls",
      "model_module_version": "2.0.0",
      "model_name": "HTMLModel",
      "state": {
       "layout": "IPY_MODEL_6e8b33787f664dbbb1a98f1d8ae1d2ac",
       "style": "IPY_MODEL_5948faa263a347e4b867722218d79c13"
      }
     },
     "123567633e7c4bfe80e990bd8741ca81": {
      "model_module": "@jupyter-widgets/controls",
      "model_module_version": "2.0.0",
      "model_name": "HBoxModel",
      "state": {
       "children": [
        "IPY_MODEL_76e02dcd952645f9977935a42a7fca34",
        "IPY_MODEL_f79e6f7f16d644afaa96dd69bab9acb2",
        "IPY_MODEL_2a52ac6c6da6489b92de139822f7c549"
       ],
       "layout": "IPY_MODEL_922e2e562f034a4d960469bc8d1216c7"
      }
     },
     "1266e98feea144cbbd50f72d5a6953b0": {
      "model_module": "@jupyter-widgets/controls",
      "model_module_version": "2.0.0",
      "model_name": "HBoxModel",
      "state": {
       "children": [
        "IPY_MODEL_68c6595575f54081b33fc2d935da0503",
        "IPY_MODEL_2e4a2a7988a647ad8eb0aca7890dae31",
        "IPY_MODEL_ad54f8f027c8454596ef24b9b4de74ac"
       ],
       "layout": "IPY_MODEL_c212ecdcce9648c0ac43637ce85f717a"
      }
     },
     "12a7245d1e7745a788e7c79a371b229d": {
      "model_module": "@jupyter-widgets/controls",
      "model_module_version": "2.0.0",
      "model_name": "IntSliderModel",
      "state": {
       "behavior": "drag-tap",
       "continuous_update": false,
       "description": "Display T:",
       "layout": "IPY_MODEL_f78b880457524ffb903d121fdf884a13",
       "max": 10,
       "min": 1,
       "style": "IPY_MODEL_fcff871ae8444624814c0d0579282e57",
       "value": 1
      }
     },
     "1322491c644d4c76aa40d7be05cd3a85": {
      "model_module": "@jupyter-widgets/controls",
      "model_module_version": "2.0.0",
      "model_name": "HTMLStyleModel",
      "state": {
       "description_width": "",
       "font_size": null,
       "text_color": null
      }
     },
     "134a9444bfba48a4a2af0c5143a66ef5": {
      "model_module": "@jupyter-widgets/controls",
      "model_module_version": "2.0.0",
      "model_name": "ButtonStyleModel",
      "state": {
       "font_family": null,
       "font_size": null,
       "font_style": null,
       "font_variant": null,
       "font_weight": null,
       "text_color": null,
       "text_decoration": null
      }
     },
     "13f1470fe9604533b8a5fdffc31e63d1": {
      "model_module": "@jupyter-widgets/base",
      "model_module_version": "2.0.0",
      "model_name": "LayoutModel",
      "state": {
       "width": "100%"
      }
     },
     "13f6e2081263441290afc39ab6450592": {
      "model_module": "@jupyter-widgets/base",
      "model_module_version": "2.0.0",
      "model_name": "LayoutModel",
      "state": {}
     },
     "149a7162a2f341acbbbc76d71d03715d": {
      "model_module": "@jupyter-widgets/base",
      "model_module_version": "2.0.0",
      "model_name": "LayoutModel",
      "state": {}
     },
     "151049d3f8c7425c890c84d291b62805": {
      "model_module": "@jupyter-widgets/controls",
      "model_module_version": "2.0.0",
      "model_name": "HTMLModel",
      "state": {
       "layout": "IPY_MODEL_ee255c7bea4b4f4fa6094177a544de75",
       "style": "IPY_MODEL_aeef3026198147f4aa43f6b70e7a164f"
      }
     },
     "155ad46e41564f6db3fa23b654439581": {
      "model_module": "@jupyter-widgets/base",
      "model_module_version": "2.0.0",
      "model_name": "LayoutModel",
      "state": {}
     },
     "1580caa830704e679c3df464e9fcbc45": {
      "model_module": "@jupyter-widgets/controls",
      "model_module_version": "2.0.0",
      "model_name": "HTMLModel",
      "state": {
       "layout": "IPY_MODEL_0a324a9fa4be429a85ce01fa6f5e952b",
       "style": "IPY_MODEL_93d7e57fe1a048f588daa14f26bbc7ec"
      }
     },
     "16b6a7e93f4543dfad946f52778c7d08": {
      "model_module": "@jupyter-widgets/base",
      "model_module_version": "2.0.0",
      "model_name": "LayoutModel",
      "state": {}
     },
     "172300111590445184179bdfc0012cfb": {
      "model_module": "@jupyter-widgets/base",
      "model_module_version": "2.0.0",
      "model_name": "LayoutModel",
      "state": {}
     },
     "173ef195906a467dad77bccd1a9ec00d": {
      "model_module": "@jupyter-widgets/controls",
      "model_module_version": "2.0.0",
      "model_name": "HTMLStyleModel",
      "state": {
       "description_width": "",
       "font_size": null,
       "text_color": null
      }
     },
     "17a52b74ef6f4674b79f484cc13ae536": {
      "model_module": "@jupyter-widgets/controls",
      "model_module_version": "2.0.0",
      "model_name": "DropdownModel",
      "state": {
       "_options_labels": [
        "_0:float64",
        "_1:float64",
        "_2:float64",
        ""
       ],
       "description": "X",
       "disabled": true,
       "index": 0,
       "layout": "IPY_MODEL_85f6fc8a94ed449c85e658e9ed9c2b6e",
       "style": "IPY_MODEL_f95b30f73e4a4c0da6cbde04aeab02c1"
      }
     },
     "181e8c86f8c24a4e8ebfaf62440faa05": {
      "model_module": "@jupyter-widgets/base",
      "model_module_version": "2.0.0",
      "model_name": "LayoutModel",
      "state": {}
     },
     "189b4a7bf0bd4385aa03d484177582fa": {
      "model_module": "@jupyter-widgets/controls",
      "model_module_version": "2.0.0",
      "model_name": "HTMLModel",
      "state": {
       "layout": "IPY_MODEL_37715160ad084651aedaf5428ea99b7f",
       "style": "IPY_MODEL_a54bc402ed2a46fc93e62f4cc6abd647"
      }
     },
     "199203959d4d46488d8d9216fa18f314": {
      "model_module": "@jupyter-widgets/controls",
      "model_module_version": "2.0.0",
      "model_name": "DropdownModel",
      "state": {
       "_options_labels": [
        "",
        "Aggregate",
        "Any Vega",
        "Computed view",
        "Corr",
        "Descriptive_statistics",
        "Dump_table",
        "Facade",
        "Group by",
        "Heatmap",
        "Histogram1D",
        "Join",
        "KNN Density",
        "MBKMeans",
        "MCDensityMap",
        "MultiSeries",
        "Quantiles",
        "RangeQuery2D",
        "Scaler",
        "Scatterplot",
        "Snippet",
        "T-SNE 2D",
        "CSV loader",
        "PARQUET loader",
        "CUSTOM loader"
       ],
       "description": "Next stage",
       "index": 0,
       "layout": "IPY_MODEL_172300111590445184179bdfc0012cfb",
       "style": "IPY_MODEL_e2711d06c0a74348a28e62f45d132faf"
      }
     },
     "19ab6935003e464b913408ae51345222": {
      "model_module": "@jupyter-widgets/base",
      "model_module_version": "2.0.0",
      "model_name": "LayoutModel",
      "state": {}
     },
     "1a0a30e000e748f7b182947b2e5ea305": {
      "model_module": "@jupyter-widgets/base",
      "model_module_version": "2.0.0",
      "model_name": "LayoutModel",
      "state": {}
     },
     "1a69da3682624e66bd75014a050df198": {
      "model_module": "@jupyter-widgets/controls",
      "model_module_version": "2.0.0",
      "model_name": "ButtonStyleModel",
      "state": {
       "font_family": null,
       "font_size": null,
       "font_style": null,
       "font_variant": null,
       "font_weight": null,
       "text_color": null,
       "text_decoration": null
      }
     },
     "1aba7df6b35c4e7fa248818322935a0c": {
      "model_module": "@jupyter-widgets/controls",
      "model_module_version": "2.0.0",
      "model_name": "HTMLModel",
      "state": {
       "layout": "IPY_MODEL_6e131597c62e4bfbb1307725d01f410a",
       "style": "IPY_MODEL_4d375c76c67b42e6a4af80d8af6f308f"
      }
     },
     "1b893966588f4ed99f5f2eafc130504d": {
      "model_module": "@jupyter-widgets/base",
      "model_module_version": "2.0.0",
      "model_name": "LayoutModel",
      "state": {}
     },
     "1c4fd07d85684b80b0b731960fbec7fe": {
      "model_module": "@jupyter-widgets/controls",
      "model_module_version": "2.0.0",
      "model_name": "LabelModel",
      "state": {
       "layout": "IPY_MODEL_16b6a7e93f4543dfad946f52778c7d08",
       "style": "IPY_MODEL_49914b03e0bf4adc82ce9056760202a4",
       "value": "_1"
      }
     },
     "1c72ad784db841c7a834757177431f50": {
      "model_module": "@jupyter-widgets/controls",
      "model_module_version": "2.0.0",
      "model_name": "HTMLStyleModel",
      "state": {
       "description_width": "",
       "font_size": null,
       "text_color": null
      }
     },
     "1d16a1d78ad8473a98c8dad915518b88": {
      "model_module": "@jupyter-widgets/base",
      "model_module_version": "2.0.0",
      "model_name": "LayoutModel",
      "state": {}
     },
     "1da3c25205ad4457ba507a6fb226bd63": {
      "model_module": "@jupyter-widgets/base",
      "model_module_version": "2.0.0",
      "model_name": "LayoutModel",
      "state": {}
     },
     "1e09d0b44e97421caa5fac8a20bc14c0": {
      "model_module": "@jupyter-widgets/base",
      "model_module_version": "2.0.0",
      "model_name": "LayoutModel",
      "state": {}
     },
     "1f499838221c4566b3e8a9b35c1f89e3": {
      "model_module": "@jupyter-widgets/base",
      "model_module_version": "2.0.0",
      "model_name": "LayoutModel",
      "state": {}
     },
     "1f83cd37d2f84694ae811d4df690df30": {
      "model_module": "@jupyter-widgets/controls",
      "model_module_version": "2.0.0",
      "model_name": "HTMLStyleModel",
      "state": {
       "description_width": "",
       "font_size": null,
       "text_color": null
      }
     },
     "20044462dabd49198eef04788824e09f": {
      "model_module": "@jupyter-widgets/controls",
      "model_module_version": "2.0.0",
      "model_name": "IntProgressModel",
      "state": {
       "description": "Progress",
       "layout": "IPY_MODEL_13f1470fe9604533b8a5fdffc31e63d1",
       "max": 100000000,
       "style": "IPY_MODEL_886bffb700664e2a93a7f4fe07eabd32",
       "value": 5407000
      }
     },
     "210ef6d79e8243ca97a3cff30008847b": {
      "model_module": "@jupyter-widgets/base",
      "model_module_version": "2.0.0",
      "model_name": "LayoutModel",
      "state": {}
     },
     "23817a2f63b445f29fbe1c2d806642ef": {
      "model_module": "@jupyter-widgets/controls",
      "model_module_version": "2.0.0",
      "model_name": "CheckboxStyleModel",
      "state": {
       "description_width": ""
      }
     },
     "23e9fa4387e34e23a8342ceba1fa855f": {
      "model_module": "@jupyter-widgets/base",
      "model_module_version": "2.0.0",
      "model_name": "LayoutModel",
      "state": {}
     },
     "2421677ef1704e83a738cb59ae0f697b": {
      "model_module": "@jupyter-widgets/base",
      "model_module_version": "2.0.0",
      "model_name": "LayoutModel",
      "state": {}
     },
     "25ac4428de3c45309488297867840e0d": {
      "model_module": "@jupyter-widgets/base",
      "model_module_version": "2.0.0",
      "model_name": "LayoutModel",
      "state": {}
     },
     "26289ea1b626471e9b798c2cc98b25d1": {
      "model_module": "@jupyter-widgets/controls",
      "model_module_version": "2.0.0",
      "model_name": "HTMLStyleModel",
      "state": {
       "description_width": "",
       "font_size": null,
       "text_color": null
      }
     },
     "26ec76f8ff494c199a45ef147f3f8c0c": {
      "model_module": "@jupyter-widgets/base",
      "model_module_version": "2.0.0",
      "model_name": "LayoutModel",
      "state": {}
     },
     "271f18bc46c2449f91807149d8f8bfc3": {
      "model_module": "@jupyter-widgets/base",
      "model_module_version": "2.0.0",
      "model_name": "LayoutModel",
      "state": {}
     },
     "28528641331e484e9ccf1c7421b114d6": {
      "model_module": "@jupyter-widgets/base",
      "model_module_version": "2.0.0",
      "model_name": "LayoutModel",
      "state": {}
     },
     "2881e0f8c62b4bb69517c0d43d830c97": {
      "model_module": "@jupyter-widgets/controls",
      "model_module_version": "2.0.0",
      "model_name": "ButtonModel",
      "state": {
       "description": "Start",
       "disabled": true,
       "icon": "check",
       "layout": "IPY_MODEL_b6bd0b122dc947058c7f4351fd6a886e",
       "style": "IPY_MODEL_ff9fd5ec5a904106a9591581fe704136",
       "tooltip": "Start"
      }
     },
     "28d268981ee044f4bd3d743e720c557a": {
      "model_module": "@jupyter-widgets/base",
      "model_module_version": "2.0.0",
      "model_name": "LayoutModel",
      "state": {}
     },
     "2933434e214045de811a067738ab2e8f": {
      "model_module": "@jupyter-widgets/base",
      "model_module_version": "2.0.0",
      "model_name": "LayoutModel",
      "state": {}
     },
     "2a52ac6c6da6489b92de139822f7c549": {
      "model_module": "@jupyter-widgets/controls",
      "model_module_version": "2.0.0",
      "model_name": "HTMLModel",
      "state": {
       "layout": "IPY_MODEL_5e4a26c46a75439ebdacc2a5b6518f6a",
       "style": "IPY_MODEL_98d326b6dc8d41e0bc634bb1d2d83555"
      }
     },
     "2c1ad552f71c4f439cf5eab4bd680577": {
      "model_module": "@jupyter-widgets/base",
      "model_module_version": "2.0.0",
      "model_name": "LayoutModel",
      "state": {}
     },
     "2d22b9532ade4a88bac8e721156a934a": {
      "model_module": "@jupyter-widgets/base",
      "model_module_version": "2.0.0",
      "model_name": "LayoutModel",
      "state": {}
     },
     "2e4a2a7988a647ad8eb0aca7890dae31": {
      "model_module": "@jupyter-widgets/controls",
      "model_module_version": "2.0.0",
      "model_name": "TextModel",
      "state": {
       "layout": "IPY_MODEL_5808111772a4489887383f7fde9a6da2",
       "placeholder": "optional alias",
       "style": "IPY_MODEL_7bbef00de6d748559f61794bcbb616bf"
      }
     },
     "2f59ab80218444808aff2b7be9e32f0d": {
      "model_module": "@jupyter-widgets/base",
      "model_module_version": "2.0.0",
      "model_name": "LayoutModel",
      "state": {}
     },
     "2f7bbfe5c7d14b59acaa758e1f382e3d": {
      "model_module": "@jupyter-widgets/controls",
      "model_module_version": "2.0.0",
      "model_name": "ButtonStyleModel",
      "state": {
       "font_family": null,
       "font_size": null,
       "font_style": null,
       "font_variant": null,
       "font_weight": null,
       "text_color": null,
       "text_decoration": null
      }
     },
     "30ea2c6a71d147d895861162ee05b3fa": {
      "model_module": "@jupyter-widgets/base",
      "model_module_version": "2.0.0",
      "model_name": "LayoutModel",
      "state": {}
     },
     "31304f6255474ac8b32e68d8c1299db9": {
      "model_module": "@jupyter-widgets/base",
      "model_module_version": "2.0.0",
      "model_name": "LayoutModel",
      "state": {}
     },
     "318c3191222a46948ce266b4d31b7416": {
      "model_module": "@jupyter-widgets/controls",
      "model_module_version": "2.0.0",
      "model_name": "VBoxModel",
      "state": {
       "children": [
        "IPY_MODEL_b04a84da44c24e24b3fff0a8b3f2a256",
        "IPY_MODEL_7e13bd87f5f741f7a39d1989f1e84265",
        "IPY_MODEL_816461885c064d719021fff43bb9dfb8"
       ],
       "layout": "IPY_MODEL_eaffbc567e194919b26fcb950d1e2cd8"
      }
     },
     "321573f5541b41698d71ff55e1d0280c": {
      "model_module": "@jupyter-widgets/base",
      "model_module_version": "2.0.0",
      "model_name": "LayoutModel",
      "state": {
       "height": "30px",
       "width": "30px"
      }
     },
     "32688e165f7344dfb2e627813b2f7a5a": {
      "model_module": "@jupyter-widgets/controls",
      "model_module_version": "2.0.0",
      "model_name": "HTMLStyleModel",
      "state": {
       "description_width": "",
       "font_size": null,
       "text_color": null
      }
     },
     "3296089be44f4f2b88e6a518496491ef": {
      "model_module": "@jupyter-widgets/base",
      "model_module_version": "2.0.0",
      "model_name": "LayoutModel",
      "state": {}
     },
     "32cd35a92353413b925f74307be54ef8": {
      "model_module": "@jupyter-widgets/controls",
      "model_module_version": "2.0.0",
      "model_name": "CheckboxStyleModel",
      "state": {
       "description_width": ""
      }
     },
     "32f1c136ab244f74996670d33842246a": {
      "model_module": "@jupyter-widgets/controls",
      "model_module_version": "2.0.0",
      "model_name": "HBoxModel",
      "state": {
       "children": [
        "IPY_MODEL_02cb25133cb04b2b8e6a60e006b5dbee",
        "IPY_MODEL_a942f9d9757449cc96083ef14664cccd",
        "IPY_MODEL_fe3f5450b6944b4b90b08af18d233bf6"
       ],
       "layout": "IPY_MODEL_376a5920728e4456bb2d461f18a67643"
      }
     },
     "3351167aaa164d1d9ff07d5e69ff4d9f": {
      "model_module": "@jupyter-widgets/controls",
      "model_module_version": "2.0.0",
      "model_name": "TextStyleModel",
      "state": {
       "description_width": "",
       "font_size": null,
       "text_color": null
      }
     },
     "336ee49d3e6042cfa964bd7eac74cc68": {
      "model_module": "@jupyter-widgets/controls",
      "model_module_version": "2.0.0",
      "model_name": "HTMLStyleModel",
      "state": {
       "description_width": "",
       "font_size": null,
       "text_color": null
      }
     },
     "3534267c0b574ccc8ccfe1693075f7f2": {
      "model_module": "@jupyter-widgets/base",
      "model_module_version": "2.0.0",
      "model_name": "LayoutModel",
      "state": {}
     },
     "355600ca82cc4f0c90592f2013d55ffa": {
      "model_module": "@jupyter-widgets/controls",
      "model_module_version": "2.0.0",
      "model_name": "DescriptionStyleModel",
      "state": {
       "description_width": "initial"
      }
     },
     "359b683c6b2f4cfa8428699f45414e1b": {
      "model_module": "@jupyter-widgets/controls",
      "model_module_version": "2.0.0",
      "model_name": "LabelStyleModel",
      "state": {
       "description_width": "",
       "font_family": null,
       "font_size": null,
       "font_style": null,
       "font_variant": null,
       "font_weight": null,
       "text_color": null,
       "text_decoration": null
      }
     },
     "36c8610a419a4f6abf26f2c9970f8983": {
      "model_module": "@jupyter-widgets/controls",
      "model_module_version": "2.0.0",
      "model_name": "HBoxModel",
      "state": {
       "children": [
        "IPY_MODEL_cf6765e55e1d431eba5bb30108e9c93f",
        "IPY_MODEL_d4a94d96031846158eb7f96b903cf8a0",
        "IPY_MODEL_f9908602eb064f0ebf0adcee70cb35ca"
       ],
       "layout": "IPY_MODEL_b16b0c827a274c57a0ef7a04d2ce5ce7"
      }
     },
     "376a5920728e4456bb2d461f18a67643": {
      "model_module": "@jupyter-widgets/base",
      "model_module_version": "2.0.0",
      "model_name": "LayoutModel",
      "state": {}
     },
     "37715160ad084651aedaf5428ea99b7f": {
      "model_module": "@jupyter-widgets/base",
      "model_module_version": "2.0.0",
      "model_name": "LayoutModel",
      "state": {}
     },
     "37889dd848a64b43b9cd538c3dc8c786": {
      "model_module": "@jupyter-widgets/controls",
      "model_module_version": "2.0.0",
      "model_name": "ProgressStyleModel",
      "state": {
       "description_width": ""
      }
     },
     "383e88ffcdce4843bc8de256a63edd38": {
      "model_module": "@jupyter-widgets/controls",
      "model_module_version": "2.0.0",
      "model_name": "HTMLModel",
      "state": {
       "layout": "IPY_MODEL_52766459874148179e174fd9c8f62595",
       "style": "IPY_MODEL_08a9a9ef4e3744588784ddf2b118d9d8"
      }
     },
     "3857823b5ee24c85898e21e2f52dd453": {
      "model_module": "@jupyter-widgets/controls",
      "model_module_version": "2.0.0",
      "model_name": "DropdownModel",
      "state": {
       "_options_labels": [
        "_0:float64",
        "_1:float64",
        "_2:float64",
        ""
       ],
       "description": "Y",
       "disabled": true,
       "index": 2,
       "layout": "IPY_MODEL_90ce0916f2ca43299585b5adaa7d7a95",
       "style": "IPY_MODEL_ea91969dcafd4405b86756cd068e0ddb"
      }
     },
     "39021f732d36400db9d7cb5bd0d6e272": {
      "model_module": "@jupyter-widgets/base",
      "model_module_version": "2.0.0",
      "model_name": "LayoutModel",
      "state": {}
     },
     "3a959a6fa5724df2b9cb8ae5b27747e1": {
      "model_module": "@jupyter-widgets/controls",
      "model_module_version": "2.0.0",
      "model_name": "HTMLStyleModel",
      "state": {
       "description_width": "",
       "font_size": null,
       "text_color": null
      }
     },
     "3bb622dc78214712b82613ce9b85afc5": {
      "model_module": "@jupyter-widgets/controls",
      "model_module_version": "2.0.0",
      "model_name": "HTMLModel",
      "state": {
       "layout": "IPY_MODEL_d04fcda5dd3c4d868ea4558afa7c9590",
       "style": "IPY_MODEL_ec6f2eebe2814efcb4a05ddbe900cda0"
      }
     },
     "3d1f1df73cd949129375066fa19096fe": {
      "model_module": "@jupyter-widgets/controls",
      "model_module_version": "2.0.0",
      "model_name": "ButtonStyleModel",
      "state": {
       "font_family": null,
       "font_size": null,
       "font_style": null,
       "font_variant": null,
       "font_weight": null,
       "text_color": null,
       "text_decoration": null
      }
     },
     "3d37845a5eae416aab37527a76ab8afc": {
      "model_module": "@jupyter-widgets/controls",
      "model_module_version": "2.0.0",
      "model_name": "ButtonModel",
      "state": {
       "button_style": "danger",
       "icon": "trash",
       "layout": "IPY_MODEL_9a7cbeafa6e84071a8b3b61d7d0ee482",
       "style": "IPY_MODEL_ae041a9f261d40d28930d95abae0adf2"
      }
     },
     "3e5214b7ef8744a7b3f89a2b3441c762": {
      "buffers": [
       {
        "data": "IyBwcm9ncmVzc2l2aXMtc25pcHBldAppbXBvcnQgd2FybmluZ3MKZnJvbSBwcm9ncmVzc2l2aXMuc3RhdHMuYmxvYnNfdGFibGUgaW1wb3J0IEJsb2JzUFRhYmxlCmZyb20gcHJvZ3Jlc3NpdmlzLmNvcmUuYXBpIGltcG9ydCBTaW5rCndhcm5pbmdzLmZpbHRlcndhcm5pbmdzKCdpZ25vcmUnKQoKQHJlZ2lzdGVyX3NuaXBwZXQKZGVmIGJsb2JzX3RhYmxlKGlucHV0X21vZHVsZSwgaW5wdXRfc2xvdCwgY29sdW1ucyk6CiAgICBuX3NhbXBsZXMgPSAxMDBfMDAwXzAwMAogICAgbl9jb21wb25lbnRzID0gMgogICAgcnRvbCA9IDAuMDEKICAgIGNlbnRlcnMgPSBbKDAuMSwgMC4zLCAwLjUpLCAoMC43LCAwLjUsIDMuMyksICgtMC40LCAtMC4zLCAtMTEuMSldCiAgICBzY2hlZHVsZXIgPSBpbnB1dF9tb2R1bGUuc2NoZWR1bGVyCiAgICB3aXRoIHNjaGVkdWxlcjoKICAgICAgICBkYXRhID0gQmxvYnNQVGFibGUoY29sdW1ucz1bJ18wJywgJ18xJywgJ18yJ10sICBjZW50ZXJzPWNlbnRlcnMsCiAgICAgICAgICAgICAgICAgICAgICAgICAgIGNsdXN0ZXJfc3RkPTAuMiwgcm93cz1uX3NhbXBsZXMsIHNjaGVkdWxlcj1zY2hlZHVsZXIpCiAgICAgICAgc2luayA9IFNpbmsoc2NoZWR1bGVyPXNjaGVkdWxlcikKICAgICAgICBzaW5rLmlucHV0LmlucCA9IGRhdGEub3V0cHV0LnJlc3VsdAogICAgcmV0dXJuIFNuaXBwZXRSZXN1bHQob3V0cHV0X21vZHVsZT1kYXRhLCBvdXRwdXRfc2xvdD0icmVzdWx0IikK",
        "encoding": "base64",
        "path": [
         "value",
         0,
         "content"
        ]
       }
      ],
      "model_module": "@jupyter-widgets/controls",
      "model_module_version": "2.0.0",
      "model_name": "FileUploadModel",
      "state": {
       "accept": ".py",
       "description": "",
       "description_allow_html": false,
       "disabled": true,
       "layout": "IPY_MODEL_f65ef09720984fe8bf3ef35376ff7ec1",
       "multiple": true,
       "style": "IPY_MODEL_1a69da3682624e66bd75014a050df198",
       "value": [
        {
         "last_modified": 1761246790559,
         "name": "blobs_table.py",
         "size": 738,
         "type": "text/x-python"
        }
       ]
      }
     },
     "3e65464f72a94fb4b1c56394d62c1701": {
      "model_module": "@jupyter-widgets/base",
      "model_module_version": "2.0.0",
      "model_name": "LayoutModel",
      "state": {}
     },
     "3e6d3e9d4b26489286ae1f23cedb6d31": {
      "model_module": "@jupyter-widgets/base",
      "model_module_version": "2.0.0",
      "model_name": "LayoutModel",
      "state": {}
     },
     "3e78e90aa54c41238834aa5e2f5eb4d6": {
      "model_module": "@jupyter-widgets/base",
      "model_module_version": "2.0.0",
      "model_name": "LayoutModel",
      "state": {}
     },
     "3f830d5883c04b77815f323981ae76f2": {
      "model_module": "@jupyter-widgets/controls",
      "model_module_version": "2.0.0",
      "model_name": "HTMLStyleModel",
      "state": {
       "description_width": "",
       "font_size": null,
       "text_color": null
      }
     },
     "3fc07a60649c40299de055b63f82ae69": {
      "model_module": "@jupyter-widgets/controls",
      "model_module_version": "2.0.0",
      "model_name": "IntProgressModel",
      "state": {
       "description": "Progress",
       "layout": "IPY_MODEL_c466386837174638acda57e1dd6c5587",
       "max": 500000000,
       "style": "IPY_MODEL_37889dd848a64b43b9cd538c3dc8c786",
       "value": 27035000
      }
     },
     "4095558397e249fab3f219d9de523bfc": {
      "model_module": "@jupyter-widgets/base",
      "model_module_version": "2.0.0",
      "model_name": "LayoutModel",
      "state": {}
     },
     "424c84dfde5b44d38bff569feb0fabeb": {
      "model_module": "@jupyter-widgets/controls",
      "model_module_version": "2.0.0",
      "model_name": "HTMLModel",
      "state": {
       "layout": "IPY_MODEL_d1ead45253154265b2024a4b53306b2e",
       "style": "IPY_MODEL_f7411983df984b45b6882336a96e5be2"
      }
     },
     "4347e98a4822458a85d3d20dbd04b760": {
      "model_module": "@jupyter-widgets/controls",
      "model_module_version": "2.0.0",
      "model_name": "HBoxModel",
      "state": {
       "children": [
        "IPY_MODEL_84bf64fed2a342c2bfcecc07aefaee4a",
        "IPY_MODEL_e2d95fa0abc642b8aab4e3e4a0481402",
        "IPY_MODEL_e11c152490fb4fe9a72761d58989b42f"
       ],
       "layout": "IPY_MODEL_fc1b348ce9154843b625a709fc048004"
      }
     },
     "43781c271c3740a98f4ea68ebb0bd8a5": {
      "model_module": "@jupyter-widgets/controls",
      "model_module_version": "2.0.0",
      "model_name": "HTMLStyleModel",
      "state": {
       "description_width": "",
       "font_size": null,
       "text_color": null
      }
     },
     "43ad8181551f46a7858b96b785ce3828": {
      "model_module": "@jupyter-widgets/controls",
      "model_module_version": "2.0.0",
      "model_name": "ProgressStyleModel",
      "state": {
       "description_width": "initial"
      }
     },
     "461be58d5f6842c1a54a95f23e07dee5": {
      "model_module": "@jupyter-widgets/base",
      "model_module_version": "2.0.0",
      "model_name": "LayoutModel",
      "state": {}
     },
     "4637682dcae4431bbcbcf1a54943e974": {
      "model_module": "@jupyter-widgets/base",
      "model_module_version": "2.0.0",
      "model_name": "LayoutModel",
      "state": {}
     },
     "470d40150bc24f77bb0a18342f5a8c6b": {
      "model_module": "@jupyter-widgets/controls",
      "model_module_version": "2.0.0",
      "model_name": "TextStyleModel",
      "state": {
       "description_width": "initial",
       "font_size": null,
       "text_color": null
      }
     },
     "476fd3f168fe48bab69b6eb78cf7c8a9": {
      "model_module": "@jupyter-widgets/controls",
      "model_module_version": "2.0.0",
      "model_name": "CheckboxStyleModel",
      "state": {
       "description_width": ""
      }
     },
     "48844ad0358448b7bf34198f4f94b90e": {
      "model_module": "@jupyter-widgets/controls",
      "model_module_version": "2.0.0",
      "model_name": "HTMLModel",
      "state": {
       "layout": "IPY_MODEL_cf1cad04da154141aa02fbe5b81e27d5",
       "style": "IPY_MODEL_bd4349d424f445c3b0a9b4c8f8aaf210"
      }
     },
     "48a232a4ec774f7daeb317722837d604": {
      "model_module": "@jupyter-widgets/base",
      "model_module_version": "2.0.0",
      "model_name": "LayoutModel",
      "state": {}
     },
     "48e633d4d50c458c9658af63463adb0e": {
      "model_module": "@jupyter-widgets/base",
      "model_module_version": "2.0.0",
      "model_name": "LayoutModel",
      "state": {}
     },
     "49690981906e44a2b26e3fe4805d2091": {
      "model_module": "@jupyter-widgets/controls",
      "model_module_version": "2.0.0",
      "model_name": "ButtonStyleModel",
      "state": {
       "font_family": null,
       "font_size": null,
       "font_style": null,
       "font_variant": null,
       "font_weight": null,
       "text_color": null,
       "text_decoration": null
      }
     },
     "49914b03e0bf4adc82ce9056760202a4": {
      "model_module": "@jupyter-widgets/controls",
      "model_module_version": "2.0.0",
      "model_name": "LabelStyleModel",
      "state": {
       "description_width": "",
       "font_family": null,
       "font_size": null,
       "font_style": null,
       "font_variant": null,
       "font_weight": null,
       "text_color": null,
       "text_decoration": null
      }
     },
     "4a645e93f0e244e1a0632bfeeb06342f": {
      "model_module": "@jupyter-widgets/base",
      "model_module_version": "2.0.0",
      "model_name": "LayoutModel",
      "state": {}
     },
     "4b57676ca27c4205b928a5faae1e2212": {
      "model_module": "@jupyter-widgets/controls",
      "model_module_version": "2.0.0",
      "model_name": "HTMLModel",
      "state": {
       "layout": "IPY_MODEL_05223584a7d145bfa7aa1e21127c3a51",
       "style": "IPY_MODEL_a11588d3692a49799bd9c41e69165a43"
      }
     },
     "4b70279cab9f4039b68addad7d45bf81": {
      "model_module": "@jupyter-widgets/controls",
      "model_module_version": "2.0.0",
      "model_name": "HTMLModel",
      "state": {
       "layout": "IPY_MODEL_ac7c17bd153448849c5caf21d2b5e8e6",
       "style": "IPY_MODEL_3a959a6fa5724df2b9cb8ae5b27747e1"
      }
     },
     "4cdb5a11d04f49fdae52c198557dd5c9": {
      "model_module": "@jupyter-widgets/controls",
      "model_module_version": "2.0.0",
      "model_name": "SliderStyleModel",
      "state": {
       "description_width": ""
      }
     },
     "4d2c8f75db12412b97e6f057a4e46538": {
      "model_module": "@jupyter-widgets/controls",
      "model_module_version": "2.0.0",
      "model_name": "SliderStyleModel",
      "state": {
       "description_width": "initial"
      }
     },
     "4d375c76c67b42e6a4af80d8af6f308f": {
      "model_module": "@jupyter-widgets/controls",
      "model_module_version": "2.0.0",
      "model_name": "HTMLStyleModel",
      "state": {
       "description_width": "",
       "font_size": null,
       "text_color": null
      }
     },
     "4da4e18fd8454859a66a6d793a7d7c39": {
      "model_module": "@jupyter-widgets/base",
      "model_module_version": "2.0.0",
      "model_name": "LayoutModel",
      "state": {}
     },
     "4eae03baafd545cc8c3ba3075c95c797": {
      "model_module": "@jupyter-widgets/controls",
      "model_module_version": "2.0.0",
      "model_name": "LabelStyleModel",
      "state": {
       "description_width": "",
       "font_family": null,
       "font_size": null,
       "font_style": null,
       "font_variant": null,
       "font_weight": null,
       "text_color": null,
       "text_decoration": null
      }
     },
     "4f3a3e19907f47eda528a25db18824cb": {
      "model_module": "@jupyter-widgets/controls",
      "model_module_version": "2.0.0",
      "model_name": "ButtonStyleModel",
      "state": {
       "font_family": null,
       "font_size": null,
       "font_style": null,
       "font_variant": null,
       "font_weight": null,
       "text_color": null,
       "text_decoration": null
      }
     },
     "4f44233bfafa4c0885dd8209cd19d4a7": {
      "model_module": "@jupyter-widgets/controls",
      "model_module_version": "2.0.0",
      "model_name": "HTMLModel",
      "state": {
       "layout": "IPY_MODEL_e09d51e3b1c34ab08455eb8fbd2486b8",
       "style": "IPY_MODEL_b7138bb1ef174a96a6e412644a034283"
      }
     },
     "508f0d10fce0486ab68ddf6722fa67cd": {
      "model_module": "@jupyter-widgets/controls",
      "model_module_version": "2.0.0",
      "model_name": "HTMLModel",
      "state": {
       "layout": "IPY_MODEL_54c813fea39c4a3fb42231541f3c0347",
       "placeholder": "0",
       "style": "IPY_MODEL_5ba9cdca6af84d88863e5cee2a7c15ef",
       "value": "744"
      }
     },
     "50a969bec4f14e27b1d48c5b41ef849c": {
      "model_module": "@jupyter-widgets/base",
      "model_module_version": "2.0.0",
      "model_name": "LayoutModel",
      "state": {}
     },
     "5163c099eaf64f77afda3625c78e905a": {
      "model_module": "@jupyter-widgets/controls",
      "model_module_version": "2.0.0",
      "model_name": "HTMLStyleModel",
      "state": {
       "description_width": "",
       "font_size": null,
       "text_color": null
      }
     },
     "51bbadd91c1e49eabdb7bc970fe197a4": {
      "model_module": "@jupyter-widgets/base",
      "model_module_version": "2.0.0",
      "model_name": "LayoutModel",
      "state": {}
     },
     "52766459874148179e174fd9c8f62595": {
      "model_module": "@jupyter-widgets/base",
      "model_module_version": "2.0.0",
      "model_name": "LayoutModel",
      "state": {}
     },
     "52f58e10d9024694b0980288f659c041": {
      "model_module": "@jupyter-widgets/base",
      "model_module_version": "2.0.0",
      "model_name": "LayoutModel",
      "state": {}
     },
     "531228dfc0ec4e60a0aaee5d2b1421d2": {
      "model_module": "@jupyter-widgets/controls",
      "model_module_version": "2.0.0",
      "model_name": "LabelModel",
      "state": {
       "layout": "IPY_MODEL_b230b2ca56534c708637597572be1a10",
       "style": "IPY_MODEL_a262ae1e53a44f50b8ecbc6a4b4dbe24"
      }
     },
     "54704a5dc23c47dfacbdab91a15633ab": {
      "model_module": "@jupyter-widgets/controls",
      "model_module_version": "2.0.0",
      "model_name": "LabelModel",
      "state": {
       "layout": "IPY_MODEL_e33d88d18af24597972e5c9855927d31",
       "style": "IPY_MODEL_9959dbfe480d415097f3442b5c885947"
      }
     },
     "54a4b9be3d634445b4538ef115bf7318": {
      "model_module": "@jupyter-widgets/controls",
      "model_module_version": "2.0.0",
      "model_name": "HTMLStyleModel",
      "state": {
       "description_width": "",
       "font_size": null,
       "text_color": null
      }
     },
     "54c813fea39c4a3fb42231541f3c0347": {
      "model_module": "@jupyter-widgets/base",
      "model_module_version": "2.0.0",
      "model_name": "LayoutModel",
      "state": {}
     },
     "54c8453400e340d2be701d8b59a42f99": {
      "model_module": "@jupyter-widgets/controls",
      "model_module_version": "2.0.0",
      "model_name": "HTMLStyleModel",
      "state": {
       "description_width": "",
       "font_size": null,
       "text_color": null
      }
     },
     "56af85c93015408cbb68e6c4cb9e0b25": {
      "model_module": "@jupyter-widgets/controls",
      "model_module_version": "2.0.0",
      "model_name": "HTMLModel",
      "state": {
       "layout": "IPY_MODEL_ecab95c6bf0a4cf099f88e6a424efd79",
       "style": "IPY_MODEL_54c8453400e340d2be701d8b59a42f99"
      }
     },
     "56c85cd7d6664563af19e1e23e5e1aae": {
      "model_module": "@jupyter-widgets/controls",
      "model_module_version": "2.0.0",
      "model_name": "HTMLModel",
      "state": {
       "layout": "IPY_MODEL_28d268981ee044f4bd3d743e720c557a",
       "style": "IPY_MODEL_54a4b9be3d634445b4538ef115bf7318"
      }
     },
     "5773233fd86b499c97179568f5347a57": {
      "model_module": "@jupyter-widgets/controls",
      "model_module_version": "2.0.0",
      "model_name": "HTMLModel",
      "state": {
       "layout": "IPY_MODEL_ac30a580e7874c37bded82cd74cd8ccd",
       "style": "IPY_MODEL_7df3e8a155a44b2094259df4d04bbb76"
      }
     },
     "5808111772a4489887383f7fde9a6da2": {
      "model_module": "@jupyter-widgets/base",
      "model_module_version": "2.0.0",
      "model_name": "LayoutModel",
      "state": {}
     },
     "5938580477a8465690b0edde64b624df": {
      "model_module": "@jupyter-widgets/base",
      "model_module_version": "2.0.0",
      "model_name": "LayoutModel",
      "state": {}
     },
     "5948faa263a347e4b867722218d79c13": {
      "model_module": "@jupyter-widgets/controls",
      "model_module_version": "2.0.0",
      "model_name": "HTMLStyleModel",
      "state": {
       "description_width": "",
       "font_size": null,
       "text_color": null
      }
     },
     "5b4d16894601456ea51c73ca8207dd25": {
      "model_module": "@jupyter-widgets/base",
      "model_module_version": "2.0.0",
      "model_name": "LayoutModel",
      "state": {}
     },
     "5ba9cdca6af84d88863e5cee2a7c15ef": {
      "model_module": "@jupyter-widgets/controls",
      "model_module_version": "2.0.0",
      "model_name": "HTMLStyleModel",
      "state": {
       "description_width": "",
       "font_size": null,
       "text_color": null
      }
     },
     "5bbbfc460cc04842ade881acf8e149d8": {
      "model_module": "@jupyter-widgets/base",
      "model_module_version": "2.0.0",
      "model_name": "LayoutModel",
      "state": {}
     },
     "5c0e2c70cd3444b2aa7ce6b007095cb4": {
      "model_module": "@jupyter-widgets/controls",
      "model_module_version": "2.0.0",
      "model_name": "HTMLModel",
      "state": {
       "layout": "IPY_MODEL_2c1ad552f71c4f439cf5eab4bd680577",
       "style": "IPY_MODEL_7d13e3e09a0047f2ad506c3f506aefe9"
      }
     },
     "5c162b9a9465460ab2319bbca63cfa5f": {
      "model_module": "@jupyter-widgets/controls",
      "model_module_version": "2.0.0",
      "model_name": "VBoxModel",
      "state": {
       "_dom_classes": [
        "progressivis_guest_widget",
        "progressivis_guest_widget--root_0"
       ],
       "children": [
        "IPY_MODEL_e8f82ab831484a3fa64b1c986520de9d",
        "IPY_MODEL_4b70279cab9f4039b68addad7d45bf81",
        "IPY_MODEL_fb661c4713924950920b0432a6463bac",
        "IPY_MODEL_36c8610a419a4f6abf26f2c9970f8983",
        "IPY_MODEL_9dae7564a1874afa97588cd3de4395bd"
       ],
       "layout": "IPY_MODEL_0f82ef2253614887959b3909358dea43"
      }
     },
     "5c4f20258ccd46899f3f4b6adde5afca": {
      "model_module": "@jupyter-widgets/controls",
      "model_module_version": "2.0.0",
      "model_name": "HTMLStyleModel",
      "state": {
       "description_width": "",
       "font_size": null,
       "text_color": null
      }
     },
     "5c681fe2d5564184b521c3aee675a36b": {
      "model_module": "@jupyter-widgets/controls",
      "model_module_version": "2.0.0",
      "model_name": "HTMLModel",
      "state": {
       "layout": "IPY_MODEL_19ab6935003e464b913408ae51345222",
       "style": "IPY_MODEL_43781c271c3740a98f4ea68ebb0bd8a5"
      }
     },
     "5d294c1882bd4a5aae996609e4c37f08": {
      "model_module": "@jupyter-widgets/base",
      "model_module_version": "2.0.0",
      "model_name": "LayoutModel",
      "state": {}
     },
     "5e4a26c46a75439ebdacc2a5b6518f6a": {
      "model_module": "@jupyter-widgets/base",
      "model_module_version": "2.0.0",
      "model_name": "LayoutModel",
      "state": {}
     },
     "5f0295bbf81148f6a9eeb5cc92273e14": {
      "model_module": "@jupyter-widgets/controls",
      "model_module_version": "2.0.0",
      "model_name": "HTMLStyleModel",
      "state": {
       "description_width": "",
       "font_size": null,
       "text_color": null
      }
     },
     "5fff75d470174dd681549f0dbde5dba3": {
      "model_module": "@jupyter-widgets/base",
      "model_module_version": "2.0.0",
      "model_name": "LayoutModel",
      "state": {}
     },
     "600945ab17564174bb374600a20bba4d": {
      "model_module": "@jupyter-widgets/controls",
      "model_module_version": "2.0.0",
      "model_name": "HTMLModel",
      "state": {
       "layout": "IPY_MODEL_4095558397e249fab3f219d9de523bfc",
       "style": "IPY_MODEL_d8101fb0cb2f43109093c452339ab703"
      }
     },
     "60a7a8761a4a4ed1b3f17c09f4a9b980": {
      "model_module": "@jupyter-widgets/controls",
      "model_module_version": "2.0.0",
      "model_name": "TabModel",
      "state": {
       "children": [
        "IPY_MODEL_be96c85222f040eeb558708ec2ce7611",
        "IPY_MODEL_a2d6ae32d03947d4bab8d4a8cd6614a9"
       ],
       "layout": "IPY_MODEL_1b893966588f4ed99f5f2eafc130504d",
       "selected_index": 0,
       "titles": [
        "Modules",
        "Module graph"
       ]
      }
     },
     "60bdb83b440348b295ba42105c1ba9a4": {
      "model_module": "@jupyter-widgets/controls",
      "model_module_version": "2.0.0",
      "model_name": "HTMLModel",
      "state": {
       "layout": "IPY_MODEL_2d22b9532ade4a88bac8e721156a934a",
       "style": "IPY_MODEL_1f83cd37d2f84694ae811d4df690df30"
      }
     },
     "61f5a656ad044e439948da3d99ca8fc0": {
      "model_module": "@jupyter-widgets/controls",
      "model_module_version": "2.0.0",
      "model_name": "TextStyleModel",
      "state": {
       "description_width": "initial",
       "font_size": null,
       "text_color": null
      }
     },
     "6472de154a8e43b491984451dce00678": {
      "model_module": "@jupyter-widgets/base",
      "model_module_version": "2.0.0",
      "model_name": "LayoutModel",
      "state": {}
     },
     "6482303355a44f8c93954240ea5df898": {
      "model_module": "@jupyter-widgets/base",
      "model_module_version": "2.0.0",
      "model_name": "LayoutModel",
      "state": {}
     },
     "6533a2d5dfe64a84a337bc5374243908": {
      "model_module": "@jupyter-widgets/base",
      "model_module_version": "2.0.0",
      "model_name": "LayoutModel",
      "state": {}
     },
     "659b8665eabe4c6fb49d5ffbdb9ea5b8": {
      "model_module": "@jupyter-widgets/base",
      "model_module_version": "2.0.0",
      "model_name": "LayoutModel",
      "state": {}
     },
     "67102dfe9af74e92ac7febfff6a2611d": {
      "model_module": "@jupyter-widgets/base",
      "model_module_version": "2.0.0",
      "model_name": "LayoutModel",
      "state": {}
     },
     "676196302a744f2187e3c06bb8422120": {
      "model_module": "@jupyter-widgets/base",
      "model_module_version": "2.0.0",
      "model_name": "LayoutModel",
      "state": {}
     },
     "67809cbd33424c9b8b47e53bb7206e0c": {
      "model_module": "@jupyter-widgets/controls",
      "model_module_version": "2.0.0",
      "model_name": "LabelStyleModel",
      "state": {
       "description_width": "",
       "font_family": null,
       "font_size": null,
       "font_style": null,
       "font_variant": null,
       "font_weight": null,
       "text_color": null,
       "text_decoration": null
      }
     },
     "678236b952a146a6920391f0c5a6a7e0": {
      "model_module": "@jupyter-widgets/controls",
      "model_module_version": "2.0.0",
      "model_name": "HTMLModel",
      "state": {
       "layout": "IPY_MODEL_c746489d584849cd86654fa76bcdefbd",
       "style": "IPY_MODEL_1c72ad784db841c7a834757177431f50"
      }
     },
     "682e2ca6e6fe4830a910f5f35c2a8503": {
      "model_module": "jupyter-progressivis",
      "model_module_version": "^0.1.0",
      "model_name": "QualityVisualizationModel",
      "state": {
       "_img_url": "%3Csvg%20id%3D%22quality_vis_35%22%20class%3D%22quality-vis%22%20width%3D%22512%22%20height%3D%22128%22%3E%3Cg%3E%3Cpolyline%20class%3D%22qline%22%20stroke%3D%22%231f77b4%22%20points%3D%22%205.766%2C%20108.0%2011.84%2C%205.000%2024.07%2C%205.000%2036.96%2C%205.000%2044.03%2C%205.000%2057.89%2C%205.000%2072.23%2C%205.000%2080.12%2C%205.000%2095.47%2C%205.000%20111.3%2C%205.000%20120.0%2C%205.000%20136.9%2C%205.000%20154.2%2C%205.000%20163.6%2C%205.000%20182.0%2C%205.000%20200.8%2C%205.000%20211.1%2C%205.000%20230.9%2C%205.000%20251.2%2C%205.000%20262.3%2C%205.000%20283.7%2C%205.000%20305.4%2C%205.000%20317.3%2C%205.000%20340.2%2C%205.000%20363.5%2C%205.000%20376.1%2C%205.000%20400.5%2C%205.000%20425.3%2C%205.000%20438.9%2C%205.000%20464.8%2C%205.000%20490.9%2C%205.000%20505.1%2C%205.000%22%3E%3Ctitle%3Emax__0%3C%2Ftitle%3E%3C%2Fpolyline%3E%3Cpolyline%20class%3D%22qline%22%20stroke%3D%22%23ff7f0e%22%20points%3D%22%205.766%2C%20108.0%2011.84%2C%2029.57%2024.07%2C%205.000%2036.96%2C%205.000%2044.03%2C%205.000%2057.89%2C%205.000%2072.23%2C%205.000%2080.12%2C%205.000%2095.47%2C%205.000%20111.3%2C%205.000%20120.0%2C%205.000%20136.9%2C%205.000%20154.2%2C%205.000%20163.6%2C%205.000%20182.0%2C%205.000%20200.8%2C%205.000%20211.1%2C%205.000%20230.9%2C%205.000%20251.2%2C%205.000%20262.3%2C%205.000%20283.7%2C%205.000%20305.4%2C%205.000%20317.3%2C%205.000%20340.2%2C%205.000%20363.5%2C%205.000%20376.1%2C%205.000%20400.5%2C%205.000%20425.3%2C%205.000%20438.9%2C%205.000%20464.8%2C%205.000%20490.9%2C%205.000%20505.1%2C%205.000%22%3E%3Ctitle%3Emax__2%3C%2Ftitle%3E%3C%2Fpolyline%3E%3Cpolyline%20class%3D%22qline%22%20stroke%3D%22%232ca02c%22%20points%3D%22%2011.83%2C%2056.50%2024.07%2C%2056.50%2036.96%2C%2056.50%2044.03%2C%2056.50%2057.89%2C%2056.50%2072.23%2C%2056.50%2080.12%2C%2056.50%2095.47%2C%2056.50%20111.3%2C%2056.50%20120.0%2C%2056.50%20136.9%2C%2056.50%20154.2%2C%2056.50%20163.6%2C%2056.50%20182.0%2C%2056.50%20200.8%2C%2056.50%20211.1%2C%2056.50%20230.9%2C%2056.50%20251.2%2C%2056.50%20262.3%2C%2056.50%20283.7%2C%2056.50%20305.4%2C%2056.50%20317.3%2C%2056.50%20340.2%2C%2056.50%20363.5%2C%2056.50%20376.1%2C%2056.50%20400.5%2C%2056.50%20425.3%2C%2056.50%20438.9%2C%2056.50%20464.8%2C%2056.50%20490.9%2C%2056.50%20505.1%2C%2056.50%22%3E%3Ctitle%3Ehistogram2d_(_0%2C_2)%3C%2Ftitle%3E%3C%2Fpolyline%3E%3Cpolyline%20class%3D%22qline%22%20stroke%3D%22%23d62728%22%20points%3D%22%2011.84%2C%2056.50%2024.07%2C%2056.50%2036.96%2C%2056.50%2044.03%2C%2056.50%2057.89%2C%2056.50%2072.23%2C%2056.50%2080.12%2C%2056.50%2095.47%2C%2056.50%20111.3%2C%2056.50%20120.0%2C%2056.50%20136.9%2C%2056.50%20154.2%2C%2056.50%20163.6%2C%2056.50%20182.0%2C%2056.50%20200.8%2C%2056.50%20211.1%2C%2056.50%20230.9%2C%2056.50%20251.2%2C%2056.50%20262.3%2C%2056.50%20283.7%2C%2056.50%20305.4%2C%2056.50%20317.3%2C%2056.50%20340.2%2C%2056.50%20363.5%2C%2056.50%20376.1%2C%2056.50%20400.5%2C%2056.50%20425.3%2C%2056.50%20438.9%2C%2056.50%20464.8%2C%2056.50%20490.9%2C%2056.50%20505.1%2C%2056.50%22%3E%3Ctitle%3Emin__0%3C%2Ftitle%3E%3C%2Fpolyline%3E%3Cpolyline%20class%3D%22qline%22%20stroke%3D%22%239467bd%22%20points%3D%22%2011.84%2C%20108.0%2024.07%2C%205.000%2036.96%2C%205.000%2044.03%2C%205.000%2057.89%2C%205.000%2072.23%2C%205.000%2080.12%2C%205.000%2095.47%2C%205.000%20111.3%2C%205.000%20120.0%2C%205.000%20136.9%2C%205.000%20154.2%2C%205.000%20163.6%2C%205.000%20182.0%2C%205.000%20200.8%2C%205.000%20211.1%2C%205.000%20230.9%2C%205.000%20251.2%2C%205.000%20262.3%2C%205.000%20283.7%2C%205.000%20305.4%2C%205.000%20317.3%2C%205.000%20340.2%2C%205.000%20363.5%2C%205.000%20376.1%2C%205.000%20400.5%2C%205.000%20425.3%2C%205.000%20438.9%2C%205.000%20464.8%2C%205.000%20490.9%2C%205.000%20505.1%2C%205.000%22%3E%3Ctitle%3Emin__2%3C%2Ftitle%3E%3C%2Fpolyline%3E%3C%2Fg%3E%3Cg%20class%3D%22qaxis%22%20fill%3D%22none%22%20font-size%3D%2210%22%20font-family%3D%22sans-serif%22%20text-anchor%3D%22middle%22%20transform%3D%22translate(0%2C%20108)%22%3E%3Cpath%20class%3D%22domain%22%20stroke%3D%22currentColor%22%20d%3D%22M5.5%2C6V0.5H507.5V6%22%3E%3C%2Fpath%3E%3Cg%20class%3D%22tick%22%20opacity%3D%221%22%20transform%3D%22translate(79.52466863033872%2C0)%22%3E%3Cline%20stroke%3D%22currentColor%22%20y2%3D%224%22%3E%3C%2Fline%3E%3Ctext%20fill%3D%22currentColor%22%20y%3D%227%22%20dy%3D%220.71em%22%3E0%3A00%3A32%3C%2Ftext%3E%3C%2Fg%3E%3Cg%20class%3D%22tick%22%20opacity%3D%221%22%20transform%3D%22translate(226.54903601553087%2C0)%22%3E%3Cline%20stroke%3D%22currentColor%22%20y2%3D%224%22%3E%3C%2Fline%3E%3Ctext%20fill%3D%22currentColor%22%20y%3D%227%22%20dy%3D%220.71em%22%3E0%3A01%3A22%3C%2Ftext%3E%3C%2Fg%3E%3Cg%20class%3D%22tick%22%20opacity%3D%221%22%20transform%3D%22translate(415.5803655107779%2C0)%22%3E%3Cline%20stroke%3D%22currentColor%22%20y2%3D%224%22%3E%3C%2Fline%3E%3Ctext%20fill%3D%22currentColor%22%20y%3D%227%22%20dy%3D%220.71em%22%3E0%3A02%3A12%3C%2Ftext%3E%3C%2Fg%3E%3C%2Fg%3E%3Ctext%20x%3D%222%22%20y%3D%2210%22%20class%3D%22qlabel%22%20fill%3D%22%231f77b4%22%3Emax__0%3C%2Ftext%3E%3Ctext%20x%3D%222%22%20y%3D%2220%22%20class%3D%22qlabel%22%20fill%3D%22%23ff7f0e%22%3Emax__2%3C%2Ftext%3E%3Ctext%20x%3D%222%22%20y%3D%2230%22%20class%3D%22qlabel%22%20fill%3D%22%232ca02c%22%3Ehistogram2d_(_0%2C_2)%3C%2Ftext%3E%3Ctext%20x%3D%222%22%20y%3D%2240%22%20class%3D%22qlabel%22%20fill%3D%22%23d62728%22%3Emin__0%3C%2Ftext%3E%3Ctext%20x%3D%222%22%20y%3D%2250%22%20class%3D%22qlabel%22%20fill%3D%22%239467bd%22%3Emin__2%3C%2Ftext%3E%3C%2Fsvg%3E",
       "_model_module_version": "^0.1.0",
       "_view_module_version": "^0.1.0",
       "height": 128,
       "layout": "IPY_MODEL_149a7162a2f341acbbbc76d71d03715d",
       "width": 512
      }
     },
     "68c6595575f54081b33fc2d935da0503": {
      "model_module": "@jupyter-widgets/controls",
      "model_module_version": "2.0.0",
      "model_name": "DropdownModel",
      "state": {
       "_options_labels": [
        "",
        "Aggregate",
        "Any Vega",
        "Computed view",
        "Corr",
        "Descriptive_statistics",
        "Dump_table",
        "Facade",
        "Group by",
        "Heatmap",
        "Histogram1D",
        "Join",
        "KNN Density",
        "MBKMeans",
        "MCDensityMap",
        "MultiSeries",
        "Quantiles",
        "RangeQuery2D",
        "Scaler",
        "Scatterplot",
        "Snippet",
        "T-SNE 2D",
        "CSV loader",
        "PARQUET loader",
        "CUSTOM loader"
       ],
       "description": "Next stage",
       "index": 0,
       "layout": "IPY_MODEL_13f6e2081263441290afc39ab6450592",
       "style": "IPY_MODEL_c0d3408579b14e969345d3766b8a63fb"
      }
     },
     "6973df7c8ab44fb2abe1d5498dead643": {
      "model_module": "@jupyter-widgets/controls",
      "model_module_version": "2.0.0",
      "model_name": "HBoxModel",
      "state": {
       "children": [
        "IPY_MODEL_9a5116cff58e454791152f26a33c0f24",
        "IPY_MODEL_7be41248c90c447c9f09d8708061e73e"
       ],
       "layout": "IPY_MODEL_073f0966f73b492cb8255f8c8e21c3e2"
      }
     },
     "69e1cc07c6b94b6dadaf09c28ef9d592": {
      "model_module": "@jupyter-widgets/controls",
      "model_module_version": "2.0.0",
      "model_name": "HTMLModel",
      "state": {
       "layout": "IPY_MODEL_5fff75d470174dd681549f0dbde5dba3",
       "style": "IPY_MODEL_ddfc95b4d3374033ba3346dbb3d576ee"
      }
     },
     "6a452ced9a4649b9a5805f6dc3550c26": {
      "model_module": "@jupyter-widgets/controls",
      "model_module_version": "2.0.0",
      "model_name": "FloatRangeSliderModel",
      "state": {
       "_model_name": "FloatRangeSliderModel",
       "_view_name": "FloatRangeSliderView",
       "behavior": "drag-tap",
       "continuous_update": false,
       "description": "Y",
       "layout": "IPY_MODEL_815710dff40346b2896ed7188615e438",
       "max": 8.188317393840574,
       "min": -16.33233821357095,
       "readout_format": ".1f",
       "step": 0.1,
       "style": "IPY_MODEL_4cdb5a11d04f49fdae52c198557dd5c9",
       "value": [
        -15.75085078314984,
        8.188317393840574
       ]
      }
     },
     "6a59786c910140479a3e351410d8df08": {
      "buffers": [
       {
        "data": "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",
        "encoding": "base64",
        "path": [
         "value"
        ]
       }
      ],
      "model_module": "@jupyter-widgets/controls",
      "model_module_version": "2.0.0",
      "model_name": "ImageModel",
      "state": {
       "height": "512",
       "layout": "IPY_MODEL_659b8665eabe4c6fb49d5ffbdb9ea5b8",
       "width": "512"
      }
     },
     "6ba385c802c6467b9b49db06b0cf89e5": {
      "model_module": "@jupyter-widgets/base",
      "model_module_version": "2.0.0",
      "model_name": "LayoutModel",
      "state": {}
     },
     "6c2a70fc2ca74883919ef6b880d0a003": {
      "model_module": "@jupyter-widgets/controls",
      "model_module_version": "2.0.0",
      "model_name": "ButtonStyleModel",
      "state": {
       "font_family": null,
       "font_size": null,
       "font_style": null,
       "font_variant": null,
       "font_weight": null,
       "text_color": null,
       "text_decoration": null
      }
     },
     "6c85901a51fe4135817b83158fd5685b": {
      "model_module": "@jupyter-widgets/controls",
      "model_module_version": "2.0.0",
      "model_name": "HTMLStyleModel",
      "state": {
       "description_width": "",
       "font_size": null,
       "text_color": null
      }
     },
     "6e131597c62e4bfbb1307725d01f410a": {
      "model_module": "@jupyter-widgets/base",
      "model_module_version": "2.0.0",
      "model_name": "LayoutModel",
      "state": {}
     },
     "6e7f42868b204c39bc4c1de5194363f5": {
      "model_module": "@jupyter-widgets/controls",
      "model_module_version": "2.0.0",
      "model_name": "HTMLStyleModel",
      "state": {
       "description_width": "",
       "font_size": null,
       "text_color": null
      }
     },
     "6e8b33787f664dbbb1a98f1d8ae1d2ac": {
      "model_module": "@jupyter-widgets/base",
      "model_module_version": "2.0.0",
      "model_name": "LayoutModel",
      "state": {}
     },
     "6ea0c5b49ac046f9b7659c7945a65e89": {
      "model_module": "@jupyter-widgets/controls",
      "model_module_version": "2.0.0",
      "model_name": "HTMLModel",
      "state": {
       "layout": "IPY_MODEL_676196302a744f2187e3c06bb8422120",
       "style": "IPY_MODEL_5163c099eaf64f77afda3625c78e905a"
      }
     },
     "71a7f0e7561b4b2db0cb4a9c1f46d16f": {
      "model_module": "@jupyter-widgets/base",
      "model_module_version": "2.0.0",
      "model_name": "LayoutModel",
      "state": {}
     },
     "72100601bfe748dabfc6242e9f252556": {
      "model_module": "@jupyter-widgets/controls",
      "model_module_version": "2.0.0",
      "model_name": "TextModel",
      "state": {
       "disabled": true,
       "layout": "IPY_MODEL_d83cc4bf9f6d455b8f70ecc0817e1a37",
       "placeholder": "enter a key name to select",
       "style": "IPY_MODEL_0e0ab630104e41799d5d3044f8302a53"
      }
     },
     "72b69749ff6649f6b86ded449ce21ecd": {
      "model_module": "@jupyter-widgets/base",
      "model_module_version": "2.0.0",
      "model_name": "LayoutModel",
      "state": {}
     },
     "733b80f6d4aa431fb08d940c805a3744": {
      "model_module": "@jupyter-widgets/controls",
      "model_module_version": "2.0.0",
      "model_name": "HTMLModel",
      "state": {
       "layout": "IPY_MODEL_f123c149f76640a593a5bc19cea18f66",
       "style": "IPY_MODEL_869668ae05634415988d8c6ce05e8c52"
      }
     },
     "73575399d70d40e283e787b588144580": {
      "model_module": "@jupyter-widgets/base",
      "model_module_version": "2.0.0",
      "model_name": "LayoutModel",
      "state": {}
     },
     "7381e1cce8b943faa82c5e60b866b482": {
      "model_module": "@jupyter-widgets/controls",
      "model_module_version": "2.0.0",
      "model_name": "LabelModel",
      "state": {
       "layout": "IPY_MODEL_9b8c329995054051bc37a673da4cec25",
       "style": "IPY_MODEL_ba2c00ce8ca04c988a87ba04e36550ef",
       "value": "Upload snippets:"
      }
     },
     "7384d5d7aa5d492aa61b582f35482dba": {
      "model_module": "@jupyter-widgets/base",
      "model_module_version": "2.0.0",
      "model_name": "LayoutModel",
      "state": {}
     },
     "741a354d346a4423aa65c1ed332f5cf9": {
      "model_module": "@jupyter-widgets/controls",
      "model_module_version": "2.0.0",
      "model_name": "ButtonStyleModel",
      "state": {
       "font_family": null,
       "font_size": null,
       "font_style": null,
       "font_variant": null,
       "font_weight": null,
       "text_color": null,
       "text_decoration": null
      }
     },
     "748825e8d394442aacaf6a4a8393387d": {
      "model_module": "@jupyter-widgets/base",
      "model_module_version": "2.0.0",
      "model_name": "LayoutModel",
      "state": {}
     },
     "7494bce4d81a4e25a7615b606b31db45": {
      "model_module": "@jupyter-widgets/base",
      "model_module_version": "2.0.0",
      "model_name": "LayoutModel",
      "state": {}
     },
     "75a63d54eb634ef691a5005dea702c47": {
      "model_module": "@jupyter-widgets/controls",
      "model_module_version": "2.0.0",
      "model_name": "VBoxModel",
      "state": {
       "_dom_classes": [
        "progressivis_guest_widget",
        "progressivis_guest_widget--Snippet_0"
       ],
       "children": [
        "IPY_MODEL_7d1d81d39b1a4b5ebd30040a233feaf0",
        "IPY_MODEL_a1a134137fe64e50890caa26f58479a7",
        "IPY_MODEL_01f6d25c5cb1466d81d16d70a10029ce",
        "IPY_MODEL_081c75b2fdf6414c8140d220273a6272",
        "IPY_MODEL_ebc05c28657842b5b6800450a7218e2f",
        "IPY_MODEL_e1184409b76d4925b8f0617488cde97c"
       ],
       "layout": "IPY_MODEL_a6e1a6a0b8c24a7bb54615ae2569eb4a"
      }
     },
     "75ed6484acbd45e390abea3d1f4d329c": {
      "model_module": "@jupyter-widgets/controls",
      "model_module_version": "2.0.0",
      "model_name": "VBoxModel",
      "state": {
       "_dom_classes": [
        "progressivis_guest_widget",
        "progressivis_guest_widget--Heatmap_0"
       ],
       "children": [
        "IPY_MODEL_063c47af0a1d4d0aa4131639d6f2d9e2",
        "IPY_MODEL_17a52b74ef6f4674b79f484cc13ae536",
        "IPY_MODEL_3857823b5ee24c85898e21e2f52dd453",
        "IPY_MODEL_8641066f6d2543428630ce38fa3aeb9d",
        "IPY_MODEL_1aba7df6b35c4e7fa248818322935a0c",
        "IPY_MODEL_7bac52c0464049f5b923953793d98d3a",
        "IPY_MODEL_b90e35a46d804e83b8f54cc95285553d",
        "IPY_MODEL_ced5cb39e65745398a35788ae43c4fdf",
        "IPY_MODEL_6a59786c910140479a3e351410d8df08"
       ],
       "layout": "IPY_MODEL_25ac4428de3c45309488297867840e0d"
      }
     },
     "76e02dcd952645f9977935a42a7fca34": {
      "model_module": "@jupyter-widgets/controls",
      "model_module_version": "2.0.0",
      "model_name": "IntSliderModel",
      "state": {
       "behavior": "drag-tap",
       "continuous_update": false,
       "description": "Display T:",
       "layout": "IPY_MODEL_71a7f0e7561b4b2db0cb4a9c1f46d16f",
       "max": 10,
       "min": 1,
       "style": "IPY_MODEL_cc751e3cdb8a479ca06f09a5da509dbc",
       "value": 1
      }
     },
     "77270e0164914c22a17f1fcda70b3fe1": {
      "model_module": "@jupyter-widgets/base",
      "model_module_version": "2.0.0",
      "model_name": "LayoutModel",
      "state": {}
     },
     "7734447e9d5644a7a102e572f37c4ff4": {
      "model_module": "@jupyter-widgets/controls",
      "model_module_version": "2.0.0",
      "model_name": "HTMLModel",
      "state": {
       "layout": "IPY_MODEL_ce65231426554191a50ae2c2c7a0e64a",
       "style": "IPY_MODEL_a5bdf8a603df4ef187ff991ecc4d3004"
      }
     },
     "777c631f51bf48a68d46b985db553c30": {
      "model_module": "@jupyter-widgets/controls",
      "model_module_version": "2.0.0",
      "model_name": "HTMLModel",
      "state": {
       "layout": "IPY_MODEL_c1da9a10a91e41779bff647f1ec78912",
       "style": "IPY_MODEL_8bfe78fe9d4f483eb558baafc679d162"
      }
     },
     "78695938663b45c28d863d22f55b4fc0": {
      "model_module": "@jupyter-widgets/controls",
      "model_module_version": "2.0.0",
      "model_name": "HTMLModel",
      "state": {
       "layout": "IPY_MODEL_1f499838221c4566b3e8a9b35c1f89e3",
       "style": "IPY_MODEL_e97bc6c16a464cebaa0d0095f38ccbb5"
      }
     },
     "78a974dd663848b496b078f9f37f9d51": {
      "model_module": "@jupyter-widgets/controls",
      "model_module_version": "2.0.0",
      "model_name": "HTMLModel",
      "state": {
       "layout": "IPY_MODEL_3534267c0b574ccc8ccfe1693075f7f2",
       "style": "IPY_MODEL_041ce38b5b9347238cab3cfcba9cbb1b"
      }
     },
     "7a11c797a4dd44848dffd926e94c1e11": {
      "model_module": "@jupyter-widgets/controls",
      "model_module_version": "2.0.0",
      "model_name": "HTMLModel",
      "state": {
       "layout": "IPY_MODEL_3e65464f72a94fb4b1c56394d62c1701",
       "style": "IPY_MODEL_d6b7933f90f248e3bc8a18c63b319906"
      }
     },
     "7a611ec28cc04af781c95a7b5005ffd5": {
      "model_module": "@jupyter-widgets/controls",
      "model_module_version": "2.0.0",
      "model_name": "ButtonModel",
      "state": {
       "button_style": "danger",
       "icon": "trash",
       "layout": "IPY_MODEL_9db55631da6e44d9b41930b2642d0b84",
       "style": "IPY_MODEL_3d1f1df73cd949129375066fa19096fe"
      }
     },
     "7ac938581e654df5b28eb030d51bc6e5": {
      "model_module": "@jupyter-widgets/base",
      "model_module_version": "2.0.0",
      "model_name": "LayoutModel",
      "state": {}
     },
     "7bac52c0464049f5b923953793d98d3a": {
      "model_module": "@jupyter-widgets/controls",
      "model_module_version": "2.0.0",
      "model_name": "DropdownModel",
      "state": {
       "_options_labels": [
        "NONE",
        "SQRT",
        "CBRT",
        "LOG"
       ],
       "description": "Transform",
       "index": 3,
       "layout": "IPY_MODEL_3296089be44f4f2b88e6a518496491ef",
       "style": "IPY_MODEL_003f3490a2fe44458451189c3482e47d"
      }
     },
     "7bbef00de6d748559f61794bcbb616bf": {
      "model_module": "@jupyter-widgets/controls",
      "model_module_version": "2.0.0",
      "model_name": "TextStyleModel",
      "state": {
       "description_width": "initial",
       "font_size": null,
       "text_color": null
      }
     },
     "7be41248c90c447c9f09d8708061e73e": {
      "model_module": "@jupyter-widgets/controls",
      "model_module_version": "2.0.0",
      "model_name": "ButtonModel",
      "state": {
       "disabled": true,
       "icon": "refresh",
       "layout": "IPY_MODEL_fbc83417fd504bb5b9906fabc05bce9c",
       "style": "IPY_MODEL_49690981906e44a2b26e3fe4805d2091"
      }
     },
     "7c2db71cf59f4bce9034d222c0af8ac3": {
      "model_module": "@jupyter-widgets/controls",
      "model_module_version": "2.0.0",
      "model_name": "HTMLModel",
      "state": {
       "layout": "IPY_MODEL_5b4d16894601456ea51c73ca8207dd25",
       "style": "IPY_MODEL_26289ea1b626471e9b798c2cc98b25d1"
      }
     },
     "7d0c2058a30e49188634946aba8edac6": {
      "model_module": "@jupyter-widgets/controls",
      "model_module_version": "2.0.0",
      "model_name": "HBoxModel",
      "state": {
       "children": [
        "IPY_MODEL_fd34f9745f194bd7aac118b2e73714ce"
       ],
       "layout": "IPY_MODEL_7d81d19d5b034847872bcb7d0997cb77"
      }
     },
     "7d13e3e09a0047f2ad506c3f506aefe9": {
      "model_module": "@jupyter-widgets/controls",
      "model_module_version": "2.0.0",
      "model_name": "HTMLStyleModel",
      "state": {
       "description_width": "",
       "font_size": null,
       "text_color": null
      }
     },
     "7d1d81d39b1a4b5ebd30040a233feaf0": {
      "model_module": "@jupyter-widgets/controls",
      "model_module_version": "2.0.0",
      "model_name": "HBoxModel",
      "state": {
       "children": [
        "IPY_MODEL_7381e1cce8b943faa82c5e60b866b482",
        "IPY_MODEL_00528473fb03489ab78172560283a2e8"
       ],
       "layout": "IPY_MODEL_d8f0f7bd297e42049729a7e01a72f6d9"
      }
     },
     "7d81d19d5b034847872bcb7d0997cb77": {
      "model_module": "@jupyter-widgets/base",
      "model_module_version": "2.0.0",
      "model_name": "LayoutModel",
      "state": {
       "justify_content": "flex-end"
      }
     },
     "7dc2415cd1ad459aafd6da83fea924fd": {
      "model_module": "@jupyter-widgets/controls",
      "model_module_version": "2.0.0",
      "model_name": "HTMLStyleModel",
      "state": {
       "description_width": "",
       "font_size": null,
       "text_color": null
      }
     },
     "7df3e8a155a44b2094259df4d04bbb76": {
      "model_module": "@jupyter-widgets/controls",
      "model_module_version": "2.0.0",
      "model_name": "HTMLStyleModel",
      "state": {
       "description_width": "",
       "font_size": null,
       "text_color": null
      }
     },
     "7e13bd87f5f741f7a39d1989f1e84265": {
      "model_module": "@jupyter-widgets/controls",
      "model_module_version": "2.0.0",
      "model_name": "VBoxModel",
      "state": {
       "_dom_classes": [
        "progressivis_guest_widget",
        "progressivis_guest_widget--Blobs_0"
       ],
       "children": [
        "IPY_MODEL_e2ae439ba11443ebbedec71b13898455",
        "IPY_MODEL_6973df7c8ab44fb2abe1d5498dead643",
        "IPY_MODEL_ccebc8229c0f4cd4aa1286997927836f",
        "IPY_MODEL_a026830485f64683b9be59f377ee83b3",
        "IPY_MODEL_2881e0f8c62b4bb69517c0d43d830c97",
        "IPY_MODEL_78695938663b45c28d863d22f55b4fc0"
       ],
       "layout": "IPY_MODEL_9e235ce04152444785081c32b2f95278"
      }
     },
     "7e74ada5cda440d7885a67f1b913a57c": {
      "model_module": "@jupyter-widgets/base",
      "model_module_version": "2.0.0",
      "model_name": "LayoutModel",
      "state": {
       "grid_template_columns": "200px repeat(1, 70px)"
      }
     },
     "7ec7d2be83724a37917ca4f3109d673d": {
      "model_module": "@jupyter-widgets/controls",
      "model_module_version": "2.0.0",
      "model_name": "TabModel",
      "state": {
       "children": [
        "IPY_MODEL_b165b611b72c40c09bdb51978f57bbdc",
        "IPY_MODEL_ce5acb7a8c104cfe9411c784eca3cce5"
       ],
       "layout": "IPY_MODEL_d91806cfb74c4e519d48ca9d55dc4dc2",
       "selected_index": 0,
       "titles": [
        "Main",
        "Output slots"
       ]
      }
     },
     "7f0944ca55d94bb4b1402bf1e235626a": {
      "model_module": "@jupyter-widgets/controls",
      "model_module_version": "2.0.0",
      "model_name": "HTMLModel",
      "state": {
       "layout": "IPY_MODEL_48a232a4ec774f7daeb317722837d604",
       "style": "IPY_MODEL_e2d188ea3b454860817c2486af07b54a"
      }
     },
     "80ab0973cd20450d83339829b7c22815": {
      "model_module": "@jupyter-widgets/controls",
      "model_module_version": "2.0.0",
      "model_name": "HTMLModel",
      "state": {
       "layout": "IPY_MODEL_e9161cbe9e4d4a72ac7f2aa5dbb2cd88",
       "style": "IPY_MODEL_c05fcf57f28c4b23ac252aee0cfd0e59"
      }
     },
     "8127d0c8a60f4f52b8d6de7be60f1512": {
      "model_module": "@jupyter-widgets/base",
      "model_module_version": "2.0.0",
      "model_name": "LayoutModel",
      "state": {}
     },
     "815710dff40346b2896ed7188615e438": {
      "model_module": "@jupyter-widgets/base",
      "model_module_version": "2.0.0",
      "model_name": "LayoutModel",
      "state": {}
     },
     "816461885c064d719021fff43bb9dfb8": {
      "model_module": "@jupyter-widgets/controls",
      "model_module_version": "2.0.0",
      "model_name": "VBoxModel",
      "state": {
       "children": [
        "IPY_MODEL_20044462dabd49198eef04788824e09f",
        "IPY_MODEL_f22d725113d940a4af1059553f51ca7a"
       ],
       "layout": "IPY_MODEL_7494bce4d81a4e25a7615b606b31db45"
      }
     },
     "847c2408de924d80a8e0b11111af2972": {
      "model_module": "@jupyter-widgets/controls",
      "model_module_version": "2.0.0",
      "model_name": "VBoxModel",
      "state": {
       "children": [
        "IPY_MODEL_3fc07a60649c40299de055b63f82ae69",
        "IPY_MODEL_1266e98feea144cbbd50f72d5a6953b0"
       ],
       "layout": "IPY_MODEL_50a969bec4f14e27b1d48c5b41ef849c"
      }
     },
     "8495e66e65d74d2b86ffe942e05e931c": {
      "model_module": "@jupyter-widgets/controls",
      "model_module_version": "2.0.0",
      "model_name": "LabelStyleModel",
      "state": {
       "description_width": "",
       "font_family": null,
       "font_size": null,
       "font_style": null,
       "font_variant": null,
       "font_weight": null,
       "text_color": null,
       "text_decoration": null
      }
     },
     "84bf64fed2a342c2bfcecc07aefaee4a": {
      "model_module": "@jupyter-widgets/controls",
      "model_module_version": "2.0.0",
      "model_name": "IntSliderModel",
      "state": {
       "behavior": "drag-tap",
       "continuous_update": false,
       "description": "Display T:",
       "layout": "IPY_MODEL_52f58e10d9024694b0980288f659c041",
       "max": 10,
       "min": 1,
       "style": "IPY_MODEL_e0829d5db2544e3c8e81d05886e98af6",
       "value": 1
      }
     },
     "8526a2b49b6c4c6a8df0a5f341c9b5da": {
      "model_module": "@jupyter-widgets/controls",
      "model_module_version": "2.0.0",
      "model_name": "HTMLStyleModel",
      "state": {
       "description_width": "",
       "font_size": null,
       "text_color": null
      }
     },
     "85a16b98003f4184b1aaa32da497860e": {
      "model_module": "@jupyter-widgets/controls",
      "model_module_version": "2.0.0",
      "model_name": "ButtonModel",
      "state": {
       "description": "Chain it",
       "disabled": true,
       "icon": "check",
       "layout": "IPY_MODEL_a16c404c9c5a4de691cc44e27d79cf82",
       "style": "IPY_MODEL_6c2a70fc2ca74883919ef6b880d0a003",
       "tooltip": "Chain it"
      }
     },
     "85f6fc8a94ed449c85e658e9ed9c2b6e": {
      "model_module": "@jupyter-widgets/base",
      "model_module_version": "2.0.0",
      "model_name": "LayoutModel",
      "state": {}
     },
     "8641066f6d2543428630ce38fa3aeb9d": {
      "model_module": "@jupyter-widgets/controls",
      "model_module_version": "2.0.0",
      "model_name": "HTMLModel",
      "state": {
       "layout": "IPY_MODEL_271f18bc46c2449f91807149d8f8bfc3",
       "style": "IPY_MODEL_6c85901a51fe4135817b83158fd5685b"
      }
     },
     "869668ae05634415988d8c6ce05e8c52": {
      "model_module": "@jupyter-widgets/controls",
      "model_module_version": "2.0.0",
      "model_name": "HTMLStyleModel",
      "state": {
       "description_width": "",
       "font_size": null,
       "text_color": null
      }
     },
     "886bffb700664e2a93a7f4fe07eabd32": {
      "model_module": "@jupyter-widgets/controls",
      "model_module_version": "2.0.0",
      "model_name": "ProgressStyleModel",
      "state": {
       "description_width": ""
      }
     },
     "89906ce47c7b4abdb272debe0e6772a9": {
      "model_module": "@jupyter-widgets/base",
      "model_module_version": "2.0.0",
      "model_name": "LayoutModel",
      "state": {}
     },
     "89b02d7458654014a68a4023cb39c3c5": {
      "model_module": "@jupyter-widgets/base",
      "model_module_version": "2.0.0",
      "model_name": "LayoutModel",
      "state": {}
     },
     "89f469bdf5f3404f9141b1d94e04c643": {
      "model_module": "@jupyter-widgets/base",
      "model_module_version": "2.0.0",
      "model_name": "LayoutModel",
      "state": {}
     },
     "8b70053be12544a39a2b19837bc25ec0": {
      "model_module": "@jupyter-widgets/controls",
      "model_module_version": "2.0.0",
      "model_name": "HTMLStyleModel",
      "state": {
       "description_width": "",
       "font_size": null,
       "text_color": null
      }
     },
     "8bd83679aa1145e5a0db03ddd8dbf154": {
      "model_module": "@jupyter-widgets/controls",
      "model_module_version": "2.0.0",
      "model_name": "HTMLModel",
      "state": {
       "layout": "IPY_MODEL_8127d0c8a60f4f52b8d6de7be60f1512",
       "style": "IPY_MODEL_c1ce687f198c4930b5b0c0ba06ae6f03"
      }
     },
     "8bfe78fe9d4f483eb558baafc679d162": {
      "model_module": "@jupyter-widgets/controls",
      "model_module_version": "2.0.0",
      "model_name": "HTMLStyleModel",
      "state": {
       "description_width": "",
       "font_size": null,
       "text_color": null
      }
     },
     "8c08788e4e6947a79269fbace4df1490": {
      "model_module": "@jupyter-widgets/controls",
      "model_module_version": "2.0.0",
      "model_name": "HTMLStyleModel",
      "state": {
       "description_width": "",
       "font_size": null,
       "text_color": null
      }
     },
     "8c38e5d723e642a8aef0b429c457222a": {
      "model_module": "jupyter-progressivis",
      "model_module_version": "^0.1.0",
      "model_name": "BackupModel",
      "state": {
       "_model_module_version": "^0.1.0",
       "_view_module_version": "^0.1.0",
       "layout": "IPY_MODEL_67102dfe9af74e92ac7febfff6a2611d"
      }
     },
     "8c74cbb226234123b851daf030237a03": {
      "model_module": "@jupyter-widgets/base",
      "model_module_version": "2.0.0",
      "model_name": "LayoutModel",
      "state": {}
     },
     "8f4f36a1f1894d7a8cff1a120dc335ca": {
      "model_module": "@jupyter-widgets/controls",
      "model_module_version": "2.0.0",
      "model_name": "HTMLStyleModel",
      "state": {
       "description_width": "",
       "font_size": null,
       "text_color": null
      }
     },
     "90ce0916f2ca43299585b5adaa7d7a95": {
      "model_module": "@jupyter-widgets/base",
      "model_module_version": "2.0.0",
      "model_name": "LayoutModel",
      "state": {}
     },
     "90cf8123ca22402396b8d5c51ea3f334": {
      "model_module": "@jupyter-widgets/controls",
      "model_module_version": "2.0.0",
      "model_name": "DescriptionStyleModel",
      "state": {
       "description_width": "initial"
      }
     },
     "90d4c25bfd004341bd39983cc69f1627": {
      "model_module": "@jupyter-widgets/base",
      "model_module_version": "2.0.0",
      "model_name": "LayoutModel",
      "state": {}
     },
     "913a06aacefa49baa6f6f5bbc3dc2af4": {
      "model_module": "@jupyter-widgets/base",
      "model_module_version": "2.0.0",
      "model_name": "LayoutModel",
      "state": {}
     },
     "922e2e562f034a4d960469bc8d1216c7": {
      "model_module": "@jupyter-widgets/base",
      "model_module_version": "2.0.0",
      "model_name": "LayoutModel",
      "state": {}
     },
     "93d7e57fe1a048f588daa14f26bbc7ec": {
      "model_module": "@jupyter-widgets/controls",
      "model_module_version": "2.0.0",
      "model_name": "HTMLStyleModel",
      "state": {
       "description_width": "",
       "font_size": null,
       "text_color": null
      }
     },
     "942704d2eb214af380770a14891cf8a2": {
      "model_module": "@jupyter-widgets/controls",
      "model_module_version": "2.0.0",
      "model_name": "LabelModel",
      "state": {
       "layout": "IPY_MODEL_0d466cb640c64558b0de73aed1c3fb31",
       "style": "IPY_MODEL_359b683c6b2f4cfa8428699f45414e1b",
       "value": "Upload snippets:"
      }
     },
     "955210f01f214c078fc5ef2e985e78b2": {
      "model_module": "@jupyter-widgets/controls",
      "model_module_version": "2.0.0",
      "model_name": "CheckboxStyleModel",
      "state": {
       "description_width": ""
      }
     },
     "95a8f13981434ab8817ec0d2480c4fcd": {
      "model_module": "@jupyter-widgets/controls",
      "model_module_version": "2.0.0",
      "model_name": "ButtonModel",
      "state": {
       "button_style": "danger",
       "icon": "trash",
       "layout": "IPY_MODEL_4637682dcae4431bbcbcf1a54943e974",
       "style": "IPY_MODEL_f9664626b1514d8c8df16b2b922c4625"
      }
     },
     "982a732d7e8645248ba90e6ae71f891a": {
      "model_module": "@jupyter-widgets/base",
      "model_module_version": "2.0.0",
      "model_name": "LayoutModel",
      "state": {
       "height": "30px",
       "width": "30px"
      }
     },
     "98bacc1b6aa140b5b05d703003623ce0": {
      "model_module": "@jupyter-widgets/controls",
      "model_module_version": "2.0.0",
      "model_name": "HTMLStyleModel",
      "state": {
       "description_width": "",
       "font_size": null,
       "text_color": null
      }
     },
     "98d326b6dc8d41e0bc634bb1d2d83555": {
      "model_module": "@jupyter-widgets/controls",
      "model_module_version": "2.0.0",
      "model_name": "HTMLStyleModel",
      "state": {
       "description_width": "",
       "font_size": null,
       "text_color": null
      }
     },
     "9959cb5a20cd41d8bf8482d6da28cc4c": {
      "model_module": "@jupyter-widgets/controls",
      "model_module_version": "2.0.0",
      "model_name": "HTMLStyleModel",
      "state": {
       "description_width": "",
       "font_size": null,
       "text_color": null
      }
     },
     "9959dbfe480d415097f3442b5c885947": {
      "model_module": "@jupyter-widgets/controls",
      "model_module_version": "2.0.0",
      "model_name": "LabelStyleModel",
      "state": {
       "description_width": "",
       "font_family": null,
       "font_size": null,
       "font_style": null,
       "font_variant": null,
       "font_weight": null,
       "text_color": null,
       "text_decoration": null
      }
     },
     "9a5116cff58e454791152f26a33c0f24": {
      "model_module": "@jupyter-widgets/controls",
      "model_module_version": "2.0.0",
      "model_name": "DropdownModel",
      "state": {
       "_options_labels": [
        "",
        "blobs_table"
       ],
       "description": "Snippet:",
       "disabled": true,
       "index": 1,
       "layout": "IPY_MODEL_748825e8d394442aacaf6a4a8393387d",
       "style": "IPY_MODEL_da17cbe3aa464577bfa55c42659e9943"
      }
     },
     "9a7cbeafa6e84071a8b3b61d7d0ee482": {
      "model_module": "@jupyter-widgets/base",
      "model_module_version": "2.0.0",
      "model_name": "LayoutModel",
      "state": {}
     },
     "9b01df5e47e0430d8f5bde8b86d010a2": {
      "model_module": "@jupyter-widgets/controls",
      "model_module_version": "2.0.0",
      "model_name": "HTMLModel",
      "state": {
       "layout": "IPY_MODEL_c3e6aa308854415f8199506475ca5ca1",
       "style": "IPY_MODEL_10a20cde3f524925b604f017c6c5bc3c"
      }
     },
     "9b6451ffe26e4802bd4c5e9295b0a897": {
      "model_module": "@jupyter-widgets/controls",
      "model_module_version": "2.0.0",
      "model_name": "LabelModel",
      "state": {
       "layout": "IPY_MODEL_3e6d3e9d4b26489286ae1f23cedb6d31",
       "style": "IPY_MODEL_67809cbd33424c9b8b47e53bb7206e0c",
       "value": "_0"
      }
     },
     "9b8c329995054051bc37a673da4cec25": {
      "model_module": "@jupyter-widgets/base",
      "model_module_version": "2.0.0",
      "model_name": "LayoutModel",
      "state": {}
     },
     "9c003c0078084628a5e659b11cbe950d": {
      "model_module": "jupyter-progressivis",
      "model_module_version": "^0.1.0",
      "model_name": "DagWidgetModel",
      "state": {
       "_img_url": "%3Cdiv%20id%3D%22dag_widget_32%22%20width%3D%22960%22%20height%3D%22500%22%3E%3Cdiv%3E%3Cfieldset%20style%3D%22width%3A300px%22%3E%3Clegend%3EWidget%20Dag%20%3C%2Flegend%3E%3Cdiv%20style%3D%22margin-inline-start%3A%201rem%3B%22%3E%3C%2Fdiv%3E%3Cdiv%3E%0A%20%20%20%20%20%20%20%20%3Cdiv%20style%3D%22border%3A1px%20solid%20%23EEE%3Bwidth%3A300px%3Bmargin-top%3A%200%3B%22%3E%0A%3Cp%3EAttention%20Request%20Types%3C%2Fp%3E%0A%3Cdiv%20id%3D%22dagLegend%22%20style%3D%22width%3A300px%3Bdisplay%3A%20grid%3Bgrid-template-columns%3A%20150px%20150px%3Bmargin-left%3A%2010px%3B%22%3E%0A%20%20%3Cdiv%20class%3D%22legendItem%22%3E%0A%20%20%20%20%3Cdiv%20class%3D%22circleBase%22%20style%3D%22border%3A1px%20solid%20%23999%3Bbackground%3A%23fb9a99%3B%22%3E%3C%2Fdiv%3E%0A%20%20%20%20%3Clabel%3EError%3C%2Flabel%3E%0A%20%20%3C%2Fdiv%3E%0A%20%20%3Cdiv%20class%3D%22legendItem%22%3E%0A%20%20%20%20%20%20%3Cdiv%20class%3D%22circleBase%22%20style%3D%22border%3A1px%20solid%20%23999%3Bbackground%3A%23a6cee3%3B%22%3E%3C%2Fdiv%3E%0A%20%20%20%20%20%20%3Clabel%3EAxes%3C%2Flabel%3E%0A%20%20%20%20%3C%2Fdiv%3E%0A%0A%20%20%20%20%3Cdiv%20class%3D%22legendItem%22%3E%0A%20%20%20%20%20%20%3Cdiv%20class%3D%22circleBase%22%20style%3D%22border%3A1px%20solid%20%23999%3Bbackground%3A%23b2df8a%3B%22%3E%0A%20%20%20%20%20%20%3C%2Fdiv%3E%0A%20%20%20%20%20%20%3Clabel%3ESafeguard%3C%2Flabel%3E%0A%20%20%20%20%3C%2Fdiv%3E%0A%0A%20%20%20%20%3Cdiv%20class%3D%22legendItem%22%3E%0A%20%20%20%20%3Cdiv%20class%3D%22circleBase%22%20style%3D%22border%3A1px%20solid%20%23999%3Bbackground%3A%23e31a1c%3B%22%3E%0A%20%20%20%20%3C%2Fdiv%3E%0A%20%20%20%20%3Clabel%3EMultiple%3C%2Flabel%3E%0A%20%20%3C%2Fdiv%3E%0A%0A%20%3C%2Fdiv%3E%0A%3C%2Fdiv%3E%3C%2Fdiv%3E%3Cdiv%20style%3D%22border%3A%201px%20solid%20grey%3B%22%3E%3Cdiv%3E%3Csvg%20id%3D%22dagCanvas_dag_widget_32%22%20width%3D%22300%22%20height%3D%22450%22%3E%3Cg%20id%3D%22edgeGroup_dag_widget_32%22%3E%3Cpath%20d%3D%22M36.75%2C22.5L36.75%2C67.5%22%20id%3D%22eSrootTBlobs%22%20fill%3D%22none%22%20stroke-width%3D%221%22%20stroke%3D%22gray%22%3E%3C%2Fpath%3E%3Cpath%20d%3D%22M36.75%2C67.5L36.75%2C112.5%22%20id%3D%22eSBlobsTSnippet%22%20fill%3D%22none%22%20stroke-width%3D%221%22%20stroke%3D%22gray%22%3E%3C%2Fpath%3E%3Cpath%20d%3D%22M36.75%2C112.5L36.75%2C157.5%22%20id%3D%22eSSnippetTHeatmap%22%20fill%3D%22none%22%20stroke-width%3D%221%22%20stroke%3D%22gray%22%3E%3C%2Fpath%3E%3C%2Fg%3E%3Cg%20id%3D%22nodeGroup_dag_widget_32%22%20style%3D%22cursor%3A%20pointer%3B%22%3E%3Cg%20id%3D%22gnDroot%22%20transform%3D%22translate(36.75%2C%2022.5)%22%3E%3Crect%20id%3D%22nDroot%22%20rx%3D%225%22%20ry%3D%225%22%20x%3D%22-35%22%20y%3D%22-7.5%22%20class%3D%22dagNodes%22%20width%3D%2270%22%20height%3D%2215%22%20stroke%3D%22black%22%20fill%3D%22%23a6cee3%22%3E%3C%2Frect%3E%3Ctext%20font-weight%3D%22normal%22%20font-family%3D%22sans-serif%22%20text-anchor%3D%22middle%22%20alignment-baseline%3D%22middle%22%20fill%3D%22black%22%3Eroot%3C%2Ftext%3E%3Ctitle%3Eroot%3C%2Ftitle%3E%3C%2Fg%3E%3Cg%20id%3D%22gnDBlobs%22%20transform%3D%22translate(36.75%2C%2067.5)%22%3E%3Crect%20id%3D%22nDBlobs%22%20rx%3D%225%22%20ry%3D%225%22%20x%3D%22-35%22%20y%3D%22-7.5%22%20class%3D%22dagNodes%22%20width%3D%2270%22%20height%3D%2215%22%20stroke%3D%22black%22%20fill%3D%22%23a6cee3%22%3E%3C%2Frect%3E%3Ctext%20font-weight%3D%22normal%22%20font-family%3D%22sans-serif%22%20text-anchor%3D%22middle%22%20alignment-baseline%3D%22middle%22%20fill%3D%22black%22%3EBlobs%3C%2Ftext%3E%3Ctitle%3EBlobs%3C%2Ftitle%3E%3C%2Fg%3E%3Cg%20id%3D%22gnDSnippet%22%20transform%3D%22translate(36.75%2C%20112.5)%22%3E%3Crect%20id%3D%22nDSnippet%22%20rx%3D%225%22%20ry%3D%225%22%20x%3D%22-35%22%20y%3D%22-7.5%22%20class%3D%22dagNodes%22%20width%3D%2270%22%20height%3D%2215%22%20stroke%3D%22black%22%20fill%3D%22%23a6cee3%22%3E%3C%2Frect%3E%3Ctext%20font-weight%3D%22normal%22%20font-family%3D%22sans-serif%22%20text-anchor%3D%22middle%22%20alignment-baseline%3D%22middle%22%20fill%3D%22black%22%3ESnippet%3C%2Ftext%3E%3Ctitle%3ESnippet%3C%2Ftitle%3E%3C%2Fg%3E%3Cg%20id%3D%22gnDHeatmap%22%20transform%3D%22translate(36.75%2C%20157.5)%22%3E%3Crect%20id%3D%22nDHeatmap%22%20rx%3D%225%22%20ry%3D%225%22%20x%3D%22-35%22%20y%3D%22-7.5%22%20class%3D%22dagNodes%22%20width%3D%2270%22%20height%3D%2215%22%20stroke%3D%22black%22%20fill%3D%22%23a6cee3%22%3E%3C%2Frect%3E%3Ctext%20font-weight%3D%22normal%22%20font-family%3D%22sans-serif%22%20text-anchor%3D%22middle%22%20alignment-baseline%3D%22middle%22%20fill%3D%22black%22%3EHeatmap%3C%2Ftext%3E%3Ctitle%3EHeatmap%3C%2Ftitle%3E%3C%2Fg%3E%3C%2Fg%3E%3C%2Fsvg%3E%3C%2Fdiv%3E%3C%2Fdiv%3E%3C%2Ffieldset%3E%3C%2Fdiv%3E%3Cdiv%3E%3Cform%20style%3D%22width%3A300px%22%3E%3Cfieldset%3E%3Clegend%3EDetails%20%3C%2Flegend%3E%3Cdiv%20style%3D%22width%3A300px%3Bdisplay%3A%20grid%3Bgrid-template-columns%3A%20100px%20200px%3B%22%3E%3Clabel%3EWidget%3A%20%3C%2Flabel%3E%3Clabel%20id%3D%22detailsNameLabel_dag_widget_32%22%3E%3C%2Flabel%3E%3Clabel%3EProgress%3A%20%3C%2Flabel%3E%3Cdiv%20class%3D%22w3-border%22%3E%3Cdiv%20id%3D%22detailsProgressBar_dag_widget_32%22%20class%3D%22w3-grey%20w3-center%22%20style%3D%22color%3A%20%23000%3Bbackground-color%3A%20%23d0d0d0%3Bwidth%3A0%25%3B%22%3E0%25%3C%2Fdiv%3E%3C%2Fdiv%3E%3C%2Fdiv%3E%3Cdiv%20style%3D%22margin-top%3A5px%3Bborder-top%3A%201.5px%20solid%20grey%3Bwidth%3A300px%3Bdisplay%3A%20grid%3Bgrid-template-columns%3A%2090px%20200px%2010px%3B%22%3E%3Clabel%3EAxes%20Resize%3A%20%3C%2Flabel%3E%3Clabel%20id%3D%22attAxesLabel_dag_widget_32%22%3E%3C%2Flabel%3E%3Ci%20class%3D%22fa%20fa-fw%20fa-refresh%22%20style%3D%22cursor%3A%20pointer%3B%22%3E%3C%2Fi%3E%3Clabel%3EStability%3A%20%3C%2Flabel%3E%3Clabel%20id%3D%22attStabilityLabel_dag_widget_32%22%3E%3C%2Flabel%3E%3Ci%20class%3D%22fa%20fa-fw%20fa-refresh%22%20style%3D%22cursor%3A%20pointer%3B%22%3E%3C%2Fi%3E%3Clabel%3EProgress%3A%20%3C%2Flabel%3E%3Clabel%20id%3D%22attProgressLabel_dag_widget_32%22%3E%3C%2Flabel%3E%3Ci%20class%3D%22fa%20fa-fw%20fa-refresh%22%20style%3D%22cursor%3A%20pointer%3B%22%3E%3C%2Fi%3E%3Clabel%3ESafeguard%3A%20%3C%2Flabel%3E%3Clabel%20id%3D%22attSafeguardLabel_dag_widget_32%22%3E%3C%2Flabel%3E%3Ci%20class%3D%22fa%20fa-fw%20fa-refresh%22%20style%3D%22cursor%3A%20pointer%3B%22%3E%3C%2Fi%3E%3C%2Fdiv%3E%3C%2Ffieldset%3E%3C%2Fform%3E%3C%2Fdiv%3E%3C%2Fdiv%3E",
       "_model_module_version": "^0.1.0",
       "_view_module_version": "^0.1.0",
       "dag": "{\"dag\": [{\"id\": \"root\", \"divID\": \"root\", \"label\": \"root\", \"parentIds\": []}, {\"id\": \"Blobs\", \"divID\": \"Blobs\", \"label\": \"Blobs\", \"parentIds\": [\"root\"]}, {\"id\": \"Snippet\", \"divID\": \"Snippet\", \"label\": \"Snippet\", \"parentIds\": [\"Blobs\"]}, {\"id\": \"Heatmap\", \"divID\": \"Heatmap\", \"label\": \"Heatmap\", \"parentIds\": [\"Snippet\"]}], \"summaries\": {\"root\": {\"progress\": 0, \"status\": \"RUNNING\"}, \"Blobs\": {\"progress\": 0, \"status\": \"RUNNING\"}, \"Snippet\": {\"progress\": 0, \"status\": \"RUNNING\"}}, \"summaryVariables\": {\"root\": [\"progress\"], \"Blobs\": [\"progress\"], \"Snippet\": [\"progress\"], \"Heatmap\": [\"progress\"]}}",
       "layout": "IPY_MODEL_a85b8e85832c4e6791e98b97b2727f61",
       "summaries": "{\"root\": {\"progress\": 0, \"status\": \"RUNNING\"}, \"Blobs\": {\"progress\": 0, \"status\": \"RUNNING\"}, \"Snippet\": {\"progress\": 0, \"status\": \"RUNNING\"}, \"Heatmap\": {\"progress\": 0, \"status\": \"RUNNING\"}}"
      }
     },
     "9cab0a89599640d39c677ebe13209497": {
      "model_module": "@jupyter-widgets/controls",
      "model_module_version": "2.0.0",
      "model_name": "HTMLModel",
      "state": {
       "layout": "IPY_MODEL_1da3c25205ad4457ba507a6fb226bd63",
       "style": "IPY_MODEL_0eab9f973ef1476981923c99c2beb0c4"
      }
     },
     "9cc057e9c8774e2b8a6d2c93ec381b69": {
      "model_module": "@jupyter-widgets/controls",
      "model_module_version": "2.0.0",
      "model_name": "DropdownModel",
      "state": {
       "_options_labels": [
        "",
        "blobs_table",
        "range_query_2d_with_slider"
       ],
       "description": "Snippet:",
       "disabled": true,
       "index": 2,
       "layout": "IPY_MODEL_056b1009f2204bfab49d59e164cf5327",
       "style": "IPY_MODEL_ef23d504ed14431ba75c982aee7ddf9f"
      }
     },
     "9dae7564a1874afa97588cd3de4395bd": {
      "model_module": "@jupyter-widgets/controls",
      "model_module_version": "2.0.0",
      "model_name": "HBoxModel",
      "state": {
       "layout": "IPY_MODEL_ca79a3db8b194d8cb557aa467f49df62"
      }
     },
     "9db55631da6e44d9b41930b2642d0b84": {
      "model_module": "@jupyter-widgets/base",
      "model_module_version": "2.0.0",
      "model_name": "LayoutModel",
      "state": {}
     },
     "9e235ce04152444785081c32b2f95278": {
      "model_module": "@jupyter-widgets/base",
      "model_module_version": "2.0.0",
      "model_name": "LayoutModel",
      "state": {}
     },
     "9e2579f8051a49b98141a632c9cf0a86": {
      "model_module": "@jupyter-widgets/controls",
      "model_module_version": "2.0.0",
      "model_name": "HTMLStyleModel",
      "state": {
       "description_width": "",
       "font_size": null,
       "text_color": null
      }
     },
     "9e6b60a2df934a82872e1d8a61497e8d": {
      "model_module": "@jupyter-widgets/base",
      "model_module_version": "2.0.0",
      "model_name": "LayoutModel",
      "state": {}
     },
     "a026830485f64683b9be59f377ee83b3": {
      "model_module": "@jupyter-widgets/controls",
      "model_module_version": "2.0.0",
      "model_name": "HTMLModel",
      "state": {
       "layout": "IPY_MODEL_51bbadd91c1e49eabdb7bc970fe197a4",
       "style": "IPY_MODEL_173ef195906a467dad77bccd1a9ec00d"
      }
     },
     "a09a82767a904e1392412c7f0410cefc": {
      "model_module": "@jupyter-widgets/controls",
      "model_module_version": "2.0.0",
      "model_name": "HTMLModel",
      "state": {
       "layout": "IPY_MODEL_89b02d7458654014a68a4023cb39c3c5",
       "style": "IPY_MODEL_5f0295bbf81148f6a9eeb5cc92273e14"
      }
     },
     "a11588d3692a49799bd9c41e69165a43": {
      "model_module": "@jupyter-widgets/controls",
      "model_module_version": "2.0.0",
      "model_name": "HTMLStyleModel",
      "state": {
       "description_width": "",
       "font_size": null,
       "text_color": null
      }
     },
     "a1510cc1cc214621ae0ce1ecc75d481a": {
      "model_module": "@jupyter-widgets/base",
      "model_module_version": "2.0.0",
      "model_name": "LayoutModel",
      "state": {}
     },
     "a16c404c9c5a4de691cc44e27d79cf82": {
      "model_module": "@jupyter-widgets/base",
      "model_module_version": "2.0.0",
      "model_name": "LayoutModel",
      "state": {}
     },
     "a1a134137fe64e50890caa26f58479a7": {
      "model_module": "@jupyter-widgets/controls",
      "model_module_version": "2.0.0",
      "model_name": "HBoxModel",
      "state": {
       "children": [
        "IPY_MODEL_9cc057e9c8774e2b8a6d2c93ec381b69",
        "IPY_MODEL_aba232613eec491ca0aaef526e0a191c"
       ],
       "layout": "IPY_MODEL_ffd67fc9c3be43349036d983f9571b60"
      }
     },
     "a20540e331b84d638b55c2d61e7737d4": {
      "model_module": "@jupyter-widgets/controls",
      "model_module_version": "2.0.0",
      "model_name": "HTMLModel",
      "state": {
       "layout": "IPY_MODEL_a9dfc1fae2d1424c87aff4a3ef92dfcc",
       "style": "IPY_MODEL_8c08788e4e6947a79269fbace4df1490"
      }
     },
     "a262ae1e53a44f50b8ecbc6a4b4dbe24": {
      "model_module": "@jupyter-widgets/controls",
      "model_module_version": "2.0.0",
      "model_name": "LabelStyleModel",
      "state": {
       "description_width": "",
       "font_family": null,
       "font_size": null,
       "font_style": null,
       "font_variant": null,
       "font_weight": null,
       "text_color": null,
       "text_decoration": null
      }
     },
     "a2cd0452574d4bec95a919bab341ee9d": {
      "model_module": "@jupyter-widgets/controls",
      "model_module_version": "2.0.0",
      "model_name": "HBoxModel",
      "state": {
       "children": [
        "IPY_MODEL_12a7245d1e7745a788e7c79a371b229d",
        "IPY_MODEL_d504672f1193464d8e730c0f9dd5dbef",
        "IPY_MODEL_600945ab17564174bb374600a20bba4d"
       ],
       "layout": "IPY_MODEL_28528641331e484e9ccf1c7421b114d6"
      }
     },
     "a2d6ae32d03947d4bab8d4a8cd6614a9": {
      "model_module": "jupyter-progressivis",
      "model_module_version": "^0.1.0",
      "model_name": "ModuleGraphModel",
      "state": {
       "_model_module_version": "^0.1.0",
       "_view_module_version": "^0.1.0",
       "data": "{}",
       "layout": "IPY_MODEL_d3bd8211fd7840bd99a1c5ba86d21cd8"
      }
     },
     "a4d3f29ec74840b6a059ce5b05ffe866": {
      "model_module": "@jupyter-widgets/controls",
      "model_module_version": "2.0.0",
      "model_name": "HTMLStyleModel",
      "state": {
       "description_width": "",
       "font_size": null,
       "text_color": null
      }
     },
     "a5197474ba084f418147e745acd9a6b1": {
      "model_module": "@jupyter-widgets/controls",
      "model_module_version": "2.0.0",
      "model_name": "FloatRangeSliderModel",
      "state": {
       "_model_name": "FloatRangeSliderModel",
       "_view_name": "FloatRangeSliderView",
       "behavior": "drag-tap",
       "continuous_update": false,
       "description": "X",
       "layout": "IPY_MODEL_77270e0164914c22a17f1fcda70b3fe1",
       "max": 5.437508345220316,
       "min": -5.588474697105336,
       "readout_format": ".1f",
       "step": 0.1,
       "style": "IPY_MODEL_c2f746bb852a4562bf06e94d1c991ab4",
       "value": [
        -5.588474697105336,
        5.179084251025757
       ]
      }
     },
     "a54bc402ed2a46fc93e62f4cc6abd647": {
      "model_module": "@jupyter-widgets/controls",
      "model_module_version": "2.0.0",
      "model_name": "HTMLStyleModel",
      "state": {
       "description_width": "",
       "font_size": null,
       "text_color": null
      }
     },
     "a5bdf8a603df4ef187ff991ecc4d3004": {
      "model_module": "@jupyter-widgets/controls",
      "model_module_version": "2.0.0",
      "model_name": "HTMLStyleModel",
      "state": {
       "description_width": "",
       "font_size": null,
       "text_color": null
      }
     },
     "a6ab720798dc4663a9b74731cab45a4d": {
      "model_module": "@jupyter-widgets/controls",
      "model_module_version": "2.0.0",
      "model_name": "HTMLModel",
      "state": {
       "layout": "IPY_MODEL_89906ce47c7b4abdb272debe0e6772a9",
       "style": "IPY_MODEL_9e2579f8051a49b98141a632c9cf0a86"
      }
     },
     "a6e1a6a0b8c24a7bb54615ae2569eb4a": {
      "model_module": "@jupyter-widgets/base",
      "model_module_version": "2.0.0",
      "model_name": "LayoutModel",
      "state": {}
     },
     "a70f08599eaa4625afa6a449fe4414cb": {
      "model_module": "@jupyter-widgets/base",
      "model_module_version": "2.0.0",
      "model_name": "LayoutModel",
      "state": {}
     },
     "a7686ceda7cd46b085ce9712a89dd00a": {
      "model_module": "@jupyter-widgets/controls",
      "model_module_version": "2.0.0",
      "model_name": "HTMLModel",
      "state": {
       "layout": "IPY_MODEL_d5605fd4f62a4842892226c412090b38",
       "style": "IPY_MODEL_98bacc1b6aa140b5b05d703003623ce0"
      }
     },
     "a7ad4cfef1074089a70391fd14ab951d": {
      "model_module": "@jupyter-widgets/controls",
      "model_module_version": "2.0.0",
      "model_name": "HBoxModel",
      "state": {
       "children": [
        "IPY_MODEL_04a8084c052149058ee69c1b3f7a08b4",
        "IPY_MODEL_e484f61932d043179b5da0e9173246af",
        "IPY_MODEL_e5179eb5598c4efebb3bcc928ca98217",
        "IPY_MODEL_508f0d10fce0486ab68ddf6722fa67cd"
       ],
       "layout": "IPY_MODEL_e0675889645f4963978f5dae98a967fc"
      }
     },
     "a81e1b4128b443cca79aed914973f2be": {
      "model_module": "@jupyter-widgets/controls",
      "model_module_version": "2.0.0",
      "model_name": "LabelModel",
      "state": {
       "layout": "IPY_MODEL_72b69749ff6649f6b86ded449ce21ecd",
       "style": "IPY_MODEL_d6d524f5d6be402c82d913f2bda5926d"
      }
     },
     "a827b57c9c89427b8ea8bedad5578fda": {
      "model_module": "@jupyter-widgets/controls",
      "model_module_version": "2.0.0",
      "model_name": "HTMLStyleModel",
      "state": {
       "description_width": "",
       "font_size": null,
       "text_color": null
      }
     },
     "a85b8e85832c4e6791e98b97b2727f61": {
      "model_module": "@jupyter-widgets/base",
      "model_module_version": "2.0.0",
      "model_name": "LayoutModel",
      "state": {}
     },
     "a8b1e1e38b1840b49821790ef69a7495": {
      "model_module": "@jupyter-widgets/controls",
      "model_module_version": "2.0.0",
      "model_name": "HTMLModel",
      "state": {
       "layout": "IPY_MODEL_89f469bdf5f3404f9141b1d94e04c643",
       "style": "IPY_MODEL_8b70053be12544a39a2b19837bc25ec0"
      }
     },
     "a912bf1dfdc64c3f949625ca2f525ac8": {
      "model_module": "@jupyter-widgets/controls",
      "model_module_version": "2.0.0",
      "model_name": "HBoxModel",
      "state": {
       "children": [
        "IPY_MODEL_95a8f13981434ab8817ec0d2480c4fcd"
       ],
       "layout": "IPY_MODEL_0c53102000a9450ab4525ba2c7ed9586"
      }
     },
     "a93df8144d704a9c9d296fbe44761d93": {
      "model_module": "@jupyter-widgets/base",
      "model_module_version": "2.0.0",
      "model_name": "LayoutModel",
      "state": {}
     },
     "a942f9d9757449cc96083ef14664cccd": {
      "model_module": "@jupyter-widgets/controls",
      "model_module_version": "2.0.0",
      "model_name": "CheckboxModel",
      "state": {
       "description": "Active",
       "disabled": false,
       "layout": "IPY_MODEL_73575399d70d40e283e787b588144580",
       "style": "IPY_MODEL_476fd3f168fe48bab69b6eb78cf7c8a9",
       "value": true
      }
     },
     "a9dfc1fae2d1424c87aff4a3ef92dfcc": {
      "model_module": "@jupyter-widgets/base",
      "model_module_version": "2.0.0",
      "model_name": "LayoutModel",
      "state": {}
     },
     "aa564d4b47cc4cbe91842803b2bd1096": {
      "model_module": "@jupyter-widgets/controls",
      "model_module_version": "2.0.0",
      "model_name": "VBoxModel",
      "state": {
       "children": [
        "IPY_MODEL_a7ad4cfef1074089a70391fd14ab951d",
        "IPY_MODEL_60a7a8761a4a4ed1b3f17c09f4a9b980",
        "IPY_MODEL_0a4c8c6f9d4a420882894e53a7a46d7b"
       ],
       "layout": "IPY_MODEL_6472de154a8e43b491984451dce00678"
      }
     },
     "ab82aac1d1c64087803b598857ed58aa": {
      "model_module": "@jupyter-widgets/base",
      "model_module_version": "2.0.0",
      "model_name": "LayoutModel",
      "state": {}
     },
     "aba232613eec491ca0aaef526e0a191c": {
      "model_module": "@jupyter-widgets/controls",
      "model_module_version": "2.0.0",
      "model_name": "ButtonModel",
      "state": {
       "disabled": true,
       "icon": "refresh",
       "layout": "IPY_MODEL_fbc83417fd504bb5b9906fabc05bce9c",
       "style": "IPY_MODEL_4f3a3e19907f47eda528a25db18824cb"
      }
     },
     "ac30a580e7874c37bded82cd74cd8ccd": {
      "model_module": "@jupyter-widgets/base",
      "model_module_version": "2.0.0",
      "model_name": "LayoutModel",
      "state": {}
     },
     "ac356e8e67174263811b98fe4bf2459c": {
      "model_module": "@jupyter-widgets/controls",
      "model_module_version": "2.0.0",
      "model_name": "ButtonStyleModel",
      "state": {
       "font_family": null,
       "font_size": null,
       "font_style": null,
       "font_variant": null,
       "font_weight": null,
       "text_color": null,
       "text_decoration": null
      }
     },
     "ac4be50fbbee4e198b554c7299f5e6e6": {
      "model_module": "@jupyter-widgets/base",
      "model_module_version": "2.0.0",
      "model_name": "LayoutModel",
      "state": {
       "justify_content": "flex-end"
      }
     },
     "ac7c17bd153448849c5caf21d2b5e8e6": {
      "model_module": "@jupyter-widgets/base",
      "model_module_version": "2.0.0",
      "model_name": "LayoutModel",
      "state": {}
     },
     "ad54f8f027c8454596ef24b9b4de74ac": {
      "model_module": "@jupyter-widgets/controls",
      "model_module_version": "2.0.0",
      "model_name": "ButtonModel",
      "state": {
       "description": "Chain it",
       "disabled": true,
       "icon": "check",
       "layout": "IPY_MODEL_b271ac75ded749369b2d8c2684a622ab",
       "style": "IPY_MODEL_134a9444bfba48a4a2af0c5143a66ef5",
       "tooltip": "Chain it"
      }
     },
     "ae041a9f261d40d28930d95abae0adf2": {
      "model_module": "@jupyter-widgets/controls",
      "model_module_version": "2.0.0",
      "model_name": "ButtonStyleModel",
      "state": {
       "font_family": null,
       "font_size": null,
       "font_style": null,
       "font_variant": null,
       "font_weight": null,
       "text_color": null,
       "text_decoration": null
      }
     },
     "ae6032ea7b3c4f38a6721582cf58b075": {
      "model_module": "jupyter-progressivis",
      "model_module_version": "^0.1.0",
      "model_name": "VegaWidgetModel",
      "state": {
       "_df": null,
       "_img_url": "null",
       "_model_module": "jupyter-progressivis",
       "_model_module_version": "^0.1.0",
       "_opt_source": "null",
       "_spec_source": "{\"$schema\": \"https://vega.github.io/schema/vega-lite/v4.8.1.json\", \"width\": 500, \"height\": 400, \"data\": {\"name\": \"data\"}, \"encoding\": {\"color\": {\"field\": \"z\", \"type\": \"quantitative\"}, \"x\": {\"field\": \"x\", \"type\": \"ordinal\"}, \"y\": {\"field\": \"y\", \"type\": \"ordinal\"}}, \"mark\": \"rect\", \"config\": {\"axis\": {\"disable\": true}}}",
       "_view_module": "jupyter-progressivis",
       "_view_module_version": "^0.1.0",
       "layout": "IPY_MODEL_bddbfb99b5954d9890bf124e5bb511dc"
      }
     },
     "ae6f59af67b343c5943a3881f0bdcb3f": {
      "model_module": "@jupyter-widgets/controls",
      "model_module_version": "2.0.0",
      "model_name": "ButtonStyleModel",
      "state": {
       "font_family": null,
       "font_size": null,
       "font_style": null,
       "font_variant": null,
       "font_weight": null,
       "text_color": null,
       "text_decoration": null
      }
     },
     "aebfa4c5a317496fa1c7877b305ffaf4": {
      "model_module": "@jupyter-widgets/base",
      "model_module_version": "2.0.0",
      "model_name": "LayoutModel",
      "state": {}
     },
     "aec48be86b244b8cb18124209b4d3737": {
      "model_module": "@jupyter-widgets/controls",
      "model_module_version": "2.0.0",
      "model_name": "HTMLModel",
      "state": {
       "layout": "IPY_MODEL_3e78e90aa54c41238834aa5e2f5eb4d6",
       "style": "IPY_MODEL_c3596d6805bc41e690c6cd901d943926"
      }
     },
     "aeef3026198147f4aa43f6b70e7a164f": {
      "model_module": "@jupyter-widgets/controls",
      "model_module_version": "2.0.0",
      "model_name": "HTMLStyleModel",
      "state": {
       "description_width": "",
       "font_size": null,
       "text_color": null
      }
     },
     "b04a84da44c24e24b3fff0a8b3f2a256": {
      "model_module": "@jupyter-widgets/controls",
      "model_module_version": "2.0.0",
      "model_name": "HBoxModel",
      "state": {
       "children": [
        "IPY_MODEL_7a611ec28cc04af781c95a7b5005ffd5"
       ],
       "layout": "IPY_MODEL_e43601d9c23044bbb85a867083a47f7d"
      }
     },
     "b165b611b72c40c09bdb51978f57bbdc": {
      "model_module": "jupyter-progressivis",
      "model_module_version": "^0.1.0",
      "model_name": "JsonHTMLModel",
      "state": {
       "_model_module_version": "^0.1.0",
       "_view_module_version": "^0.1.0",
       "layout": "IPY_MODEL_a93df8144d704a9c9d296fbe44761d93"
      }
     },
     "b16b0c827a274c57a0ef7a04d2ce5ce7": {
      "model_module": "@jupyter-widgets/base",
      "model_module_version": "2.0.0",
      "model_name": "LayoutModel",
      "state": {}
     },
     "b230b2ca56534c708637597572be1a10": {
      "model_module": "@jupyter-widgets/base",
      "model_module_version": "2.0.0",
      "model_name": "LayoutModel",
      "state": {}
     },
     "b271ac75ded749369b2d8c2684a622ab": {
      "model_module": "@jupyter-widgets/base",
      "model_module_version": "2.0.0",
      "model_name": "LayoutModel",
      "state": {}
     },
     "b53ca25c7f644f609ee9d0d515520460": {
      "model_module": "@jupyter-widgets/controls",
      "model_module_version": "2.0.0",
      "model_name": "VBoxModel",
      "state": {
       "children": [
        "IPY_MODEL_00e81e93ca0e475f92419985f7950559",
        "IPY_MODEL_75a63d54eb634ef691a5005dea702c47",
        "IPY_MODEL_847c2408de924d80a8e0b11111af2972"
       ],
       "layout": "IPY_MODEL_10a3c5744557438083c3669e03f73d78"
      }
     },
     "b6bd0b122dc947058c7f4351fd6a886e": {
      "model_module": "@jupyter-widgets/base",
      "model_module_version": "2.0.0",
      "model_name": "LayoutModel",
      "state": {}
     },
     "b7138bb1ef174a96a6e412644a034283": {
      "model_module": "@jupyter-widgets/controls",
      "model_module_version": "2.0.0",
      "model_name": "HTMLStyleModel",
      "state": {
       "description_width": "",
       "font_size": null,
       "text_color": null
      }
     },
     "b8d422e556c248fb9c557ed480a9a6d9": {
      "model_module": "@jupyter-widgets/controls",
      "model_module_version": "2.0.0",
      "model_name": "LabelStyleModel",
      "state": {
       "description_width": "",
       "font_family": null,
       "font_size": null,
       "font_style": null,
       "font_variant": null,
       "font_weight": null,
       "text_color": null,
       "text_decoration": null
      }
     },
     "b90e35a46d804e83b8f54cc95285553d": {
      "model_module": "@jupyter-widgets/controls",
      "model_module_version": "2.0.0",
      "model_name": "IntSliderModel",
      "state": {
       "behavior": "drag-tap",
       "continuous_update": false,
       "description": "Gaussian blur:",
       "layout": "IPY_MODEL_30ea2c6a71d147d895861162ee05b3fa",
       "max": 5,
       "style": "IPY_MODEL_1074f3179c4b478eaa667e06847ae811"
      }
     },
     "b93418ef635a48eba171a46984455986": {
      "model_module": "@jupyter-widgets/controls",
      "model_module_version": "2.0.0",
      "model_name": "VBoxModel",
      "state": {
       "children": [
        "IPY_MODEL_a912bf1dfdc64c3f949625ca2f525ac8",
        "IPY_MODEL_75ed6484acbd45e390abea3d1f4d329c",
        "IPY_MODEL_a2cd0452574d4bec95a919bab341ee9d",
        "IPY_MODEL_682e2ca6e6fe4830a910f5f35c2a8503"
       ],
       "layout": "IPY_MODEL_f5cd0df21f244ecca5934720a8056b6d"
      }
     },
     "ba2c00ce8ca04c988a87ba04e36550ef": {
      "model_module": "@jupyter-widgets/controls",
      "model_module_version": "2.0.0",
      "model_name": "LabelStyleModel",
      "state": {
       "description_width": "",
       "font_family": null,
       "font_size": null,
       "font_style": null,
       "font_variant": null,
       "font_weight": null,
       "text_color": null,
       "text_decoration": null
      }
     },
     "bb0f7ed520ea44098672594389ffff8a": {
      "model_module": "@jupyter-widgets/base",
      "model_module_version": "2.0.0",
      "model_name": "LayoutModel",
      "state": {
       "height": "500px",
       "overflow": "auto"
      }
     },
     "bc1f553a199544809fa6f1487e43de04": {
      "model_module": "@jupyter-widgets/controls",
      "model_module_version": "2.0.0",
      "model_name": "HTMLStyleModel",
      "state": {
       "description_width": "",
       "font_size": null,
       "text_color": null
      }
     },
     "bca9debdc00f45e38e7ac29ce477e4f8": {
      "model_module": "@jupyter-widgets/base",
      "model_module_version": "2.0.0",
      "model_name": "LayoutModel",
      "state": {}
     },
     "bd3c9504bbae4ed391c0e2097df45110": {
      "model_module": "@jupyter-widgets/base",
      "model_module_version": "2.0.0",
      "model_name": "LayoutModel",
      "state": {}
     },
     "bd4349d424f445c3b0a9b4c8f8aaf210": {
      "model_module": "@jupyter-widgets/controls",
      "model_module_version": "2.0.0",
      "model_name": "HTMLStyleModel",
      "state": {
       "description_width": "",
       "font_size": null,
       "text_color": null
      }
     },
     "bd4e6472442c4e3d8a3b329313e1223e": {
      "model_module": "@jupyter-widgets/controls",
      "model_module_version": "2.0.0",
      "model_name": "ButtonStyleModel",
      "state": {
       "font_family": null,
       "font_size": null,
       "font_style": null,
       "font_variant": null,
       "font_weight": null,
       "text_color": null,
       "text_decoration": null
      }
     },
     "bd7bef4b7d3748ba97f39806b9fae5e7": {
      "model_module": "@jupyter-widgets/controls",
      "model_module_version": "2.0.0",
      "model_name": "ButtonStyleModel",
      "state": {
       "font_family": null,
       "font_size": null,
       "font_style": null,
       "font_variant": null,
       "font_weight": null,
       "text_color": null,
       "text_decoration": null
      }
     },
     "bddbfb99b5954d9890bf124e5bb511dc": {
      "model_module": "@jupyter-widgets/base",
      "model_module_version": "2.0.0",
      "model_name": "LayoutModel",
      "state": {}
     },
     "be4decc32e5841028262b9f6a899970e": {
      "model_module": "@jupyter-widgets/controls",
      "model_module_version": "2.0.0",
      "model_name": "HTMLModel",
      "state": {
       "layout": "IPY_MODEL_2f59ab80218444808aff2b7be9e32f0d",
       "style": "IPY_MODEL_5c4f20258ccd46899f3f4b6adde5afca"
      }
     },
     "be96c85222f040eeb558708ec2ce7611": {
      "model_module": "jupyter-progressivis",
      "model_module_version": "^0.1.0",
      "model_name": "SensitiveHTMLModel",
      "state": {
       "_model_module_version": "^0.1.0",
       "_view_module_version": "^0.1.0",
       "data": {
        "ps-cell_binning_index_nd_1_classname": "binning_index_nd",
        "ps-cell_binning_index_nd_1_id": "binning_index_nd_1",
        "ps-cell_binning_index_nd_1_is_visualization": " ",
        "ps-cell_binning_index_nd_1_last_update": 743,
        "ps-cell_binning_index_nd_1_order": 4,
        "ps-cell_binning_index_nd_1_state": "state_blocked",
        "ps-cell_blobs_p_table_1_classname": "blobs_p_table",
        "ps-cell_blobs_p_table_1_id": "blobs_p_table_1",
        "ps-cell_blobs_p_table_1_is_visualization": " ",
        "ps-cell_blobs_p_table_1_last_update": 742,
        "ps-cell_blobs_p_table_1_order": 2,
        "ps-cell_blobs_p_table_1_state": "state_blocked",
        "ps-cell_heatmap_1_classname": "heatmap",
        "ps-cell_heatmap_1_id": "heatmap_1",
        "ps-cell_heatmap_1_is_visualization": " ",
        "ps-cell_heatmap_1_last_update": 740,
        "ps-cell_heatmap_1_order": 12,
        "ps-cell_heatmap_1_state": "state_blocked",
        "ps-cell_histogram2_d_1_classname": "histogram2_d",
        "ps-cell_histogram2_d_1_id": "histogram2_d_1",
        "ps-cell_histogram2_d_1_is_visualization": " ",
        "ps-cell_histogram2_d_1_last_update": 739,
        "ps-cell_histogram2_d_1_order": 11,
        "ps-cell_histogram2_d_1_state": "state_blocked",
        "ps-cell_max_1_classname": "max",
        "ps-cell_max_1_id": "max_1",
        "ps-cell_max_1_is_visualization": " ",
        "ps-cell_max_1_last_update": 737,
        "ps-cell_max_1_order": 9,
        "ps-cell_max_1_state": "state_blocked",
        "ps-cell_min_1_classname": "min",
        "ps-cell_min_1_id": "min_1",
        "ps-cell_min_1_is_visualization": " ",
        "ps-cell_min_1_last_update": 738,
        "ps-cell_min_1_order": 10,
        "ps-cell_min_1_state": "state_blocked",
        "ps-cell_range_query2_d_1_classname": "range_query2_d",
        "ps-cell_range_query2_d_1_id": "range_query2_d_1",
        "ps-cell_range_query2_d_1_is_visualization": " ",
        "ps-cell_range_query2_d_1_last_update": 736,
        "ps-cell_range_query2_d_1_order": 7,
        "ps-cell_range_query2_d_1_state": "state_blocked",
        "ps-cell_sink_1_classname": "sink",
        "ps-cell_sink_1_id": "sink_1",
        "ps-cell_sink_1_is_visualization": " ",
        "ps-cell_sink_1_last_update": 0,
        "ps-cell_sink_1_order": 1,
        "ps-cell_sink_1_state": "state_terminated",
        "ps-cell_sink_2_classname": "sink",
        "ps-cell_sink_2_id": "sink_2",
        "ps-cell_sink_2_is_visualization": " ",
        "ps-cell_sink_2_last_update": 0,
        "ps-cell_sink_2_order": 3,
        "ps-cell_sink_2_state": "state_terminated",
        "ps-cell_sink_3_classname": "sink",
        "ps-cell_sink_3_id": "sink_3",
        "ps-cell_sink_3_is_visualization": " ",
        "ps-cell_sink_3_last_update": 0,
        "ps-cell_sink_3_order": 8,
        "ps-cell_sink_3_state": "state_terminated",
        "ps-cell_variable_1_classname": "variable",
        "ps-cell_variable_1_id": "variable_1",
        "ps-cell_variable_1_is_visualization": " ",
        "ps-cell_variable_1_last_update": 741,
        "ps-cell_variable_1_order": 0,
        "ps-cell_variable_1_state": "state_blocked",
        "ps-cell_variable_2_classname": "variable",
        "ps-cell_variable_2_id": "variable_2",
        "ps-cell_variable_2_is_visualization": " ",
        "ps-cell_variable_2_last_update": 735,
        "ps-cell_variable_2_order": 6,
        "ps-cell_variable_2_state": "state_blocked",
        "ps-cell_variable_3_classname": "variable",
        "ps-cell_variable_3_id": "variable_3",
        "ps-cell_variable_3_is_visualization": " ",
        "ps-cell_variable_3_last_update": 744,
        "ps-cell_variable_3_order": 5,
        "ps-cell_variable_3_state": "state_blocked"
       },
       "html": "\n<table class=\"table table-striped table-bordered table-hover table-condensed\">\n<thead><tr><th></th><th>Id</th><th>Class</th><th>State</th><th>Last Update</th>\n<th>Order</th></tr></thead>\n<tbody>\n\n  <tr>\n  \n  <td>\n  \n  <span id=\"ps-cell_variable_1_is_visualization\"> </span>\n  \n  </td>\n  \n  <td>\n  \n  <a class='ps-row-btn' id=\"ps-row-btn_variable_1\" type='button' >variable_1</a>\n  \n  </td>\n  \n  <td>\n  \n  <span id=\"ps-cell_variable_1_classname\">variable</span>\n  \n  </td>\n  \n  <td>\n  \n  <span id=\"ps-cell_variable_1_state\">state_blocked</span>\n  \n  </td>\n  \n  <td>\n  \n  <span id=\"ps-cell_variable_1_last_update\">328</span>\n  \n  </td>\n  \n  <td>\n  \n  <span id=\"ps-cell_variable_1_order\">0</span>\n  \n  </td>\n  \n  </tr>\n\n  <tr>\n  \n  <td>\n  \n  <span id=\"ps-cell_sink_1_is_visualization\"> </span>\n  \n  </td>\n  \n  <td>\n  \n  <a class='ps-row-btn' id=\"ps-row-btn_sink_1\" type='button' >sink_1</a>\n  \n  </td>\n  \n  <td>\n  \n  <span id=\"ps-cell_sink_1_classname\">sink</span>\n  \n  </td>\n  \n  <td>\n  \n  <span id=\"ps-cell_sink_1_state\">state_terminated</span>\n  \n  </td>\n  \n  <td>\n  \n  <span id=\"ps-cell_sink_1_last_update\">0</span>\n  \n  </td>\n  \n  <td>\n  \n  <span id=\"ps-cell_sink_1_order\">1</span>\n  \n  </td>\n  \n  </tr>\n\n  <tr>\n  \n  <td>\n  \n  <span id=\"ps-cell_blobs_p_table_1_is_visualization\"> </span>\n  \n  </td>\n  \n  <td>\n  \n  <a class='ps-row-btn' id=\"ps-row-btn_blobs_p_table_1\" type='button' >blobs_p_table_1</a>\n  \n  </td>\n  \n  <td>\n  \n  <span id=\"ps-cell_blobs_p_table_1_classname\">blobs_p_table</span>\n  \n  </td>\n  \n  <td>\n  \n  <span id=\"ps-cell_blobs_p_table_1_state\">state_blocked</span>\n  \n  </td>\n  \n  <td>\n  \n  <span id=\"ps-cell_blobs_p_table_1_last_update\">323</span>\n  \n  </td>\n  \n  <td>\n  \n  <span id=\"ps-cell_blobs_p_table_1_order\">2</span>\n  \n  </td>\n  \n  </tr>\n\n  <tr>\n  \n  <td>\n  \n  <span id=\"ps-cell_sink_2_is_visualization\"> </span>\n  \n  </td>\n  \n  <td>\n  \n  <a class='ps-row-btn' id=\"ps-row-btn_sink_2\" type='button' >sink_2</a>\n  \n  </td>\n  \n  <td>\n  \n  <span id=\"ps-cell_sink_2_classname\">sink</span>\n  \n  </td>\n  \n  <td>\n  \n  <span id=\"ps-cell_sink_2_state\">state_terminated</span>\n  \n  </td>\n  \n  <td>\n  \n  <span id=\"ps-cell_sink_2_last_update\">0</span>\n  \n  </td>\n  \n  <td>\n  \n  <span id=\"ps-cell_sink_2_order\">3</span>\n  \n  </td>\n  \n  </tr>\n\n  <tr>\n  \n  <td>\n  \n  <span id=\"ps-cell_binning_index_nd_1_is_visualization\"> </span>\n  \n  </td>\n  \n  <td>\n  \n  <a class='ps-row-btn' id=\"ps-row-btn_binning_index_nd_1\" type='button' >binning_index_nd_1</a>\n  \n  </td>\n  \n  <td>\n  \n  <span id=\"ps-cell_binning_index_nd_1_classname\">binning_index_nd</span>\n  \n  </td>\n  \n  <td>\n  \n  <span id=\"ps-cell_binning_index_nd_1_state\">state_blocked</span>\n  \n  </td>\n  \n  <td>\n  \n  <span id=\"ps-cell_binning_index_nd_1_last_update\">324</span>\n  \n  </td>\n  \n  <td>\n  \n  <span id=\"ps-cell_binning_index_nd_1_order\">4</span>\n  \n  </td>\n  \n  </tr>\n\n  <tr>\n  \n  <td>\n  \n  <span id=\"ps-cell_variable_3_is_visualization\"> </span>\n  \n  </td>\n  \n  <td>\n  \n  <a class='ps-row-btn' id=\"ps-row-btn_variable_3\" type='button' >variable_3</a>\n  \n  </td>\n  \n  <td>\n  \n  <span id=\"ps-cell_variable_3_classname\">variable</span>\n  \n  </td>\n  \n  <td>\n  \n  <span id=\"ps-cell_variable_3_state\">state_blocked</span>\n  \n  </td>\n  \n  <td>\n  \n  <span id=\"ps-cell_variable_3_last_update\">325</span>\n  \n  </td>\n  \n  <td>\n  \n  <span id=\"ps-cell_variable_3_order\">5</span>\n  \n  </td>\n  \n  </tr>\n\n  <tr>\n  \n  <td>\n  \n  <span id=\"ps-cell_variable_2_is_visualization\"> </span>\n  \n  </td>\n  \n  <td>\n  \n  <a class='ps-row-btn' id=\"ps-row-btn_variable_2\" type='button' >variable_2</a>\n  \n  </td>\n  \n  <td>\n  \n  <span id=\"ps-cell_variable_2_classname\">variable</span>\n  \n  </td>\n  \n  <td>\n  \n  <span id=\"ps-cell_variable_2_state\">state_blocked</span>\n  \n  </td>\n  \n  <td>\n  \n  <span id=\"ps-cell_variable_2_last_update\">326</span>\n  \n  </td>\n  \n  <td>\n  \n  <span id=\"ps-cell_variable_2_order\">6</span>\n  \n  </td>\n  \n  </tr>\n\n  <tr>\n  \n  <td>\n  \n  <span id=\"ps-cell_range_query2_d_1_is_visualization\"> </span>\n  \n  </td>\n  \n  <td>\n  \n  <a class='ps-row-btn' id=\"ps-row-btn_range_query2_d_1\" type='button' >range_query2_d_1</a>\n  \n  </td>\n  \n  <td>\n  \n  <span id=\"ps-cell_range_query2_d_1_classname\">range_query2_d</span>\n  \n  </td>\n  \n  <td>\n  \n  <span id=\"ps-cell_range_query2_d_1_state\">state_blocked</span>\n  \n  </td>\n  \n  <td>\n  \n  <span id=\"ps-cell_range_query2_d_1_last_update\">327</span>\n  \n  </td>\n  \n  <td>\n  \n  <span id=\"ps-cell_range_query2_d_1_order\">7</span>\n  \n  </td>\n  \n  </tr>\n\n  <tr>\n  \n  <td>\n  \n  <span id=\"ps-cell_sink_3_is_visualization\"> </span>\n  \n  </td>\n  \n  <td>\n  \n  <a class='ps-row-btn' id=\"ps-row-btn_sink_3\" type='button' >sink_3</a>\n  \n  </td>\n  \n  <td>\n  \n  <span id=\"ps-cell_sink_3_classname\">sink</span>\n  \n  </td>\n  \n  <td>\n  \n  <span id=\"ps-cell_sink_3_state\">state_terminated</span>\n  \n  </td>\n  \n  <td>\n  \n  <span id=\"ps-cell_sink_3_last_update\">0</span>\n  \n  </td>\n  \n  <td>\n  \n  <span id=\"ps-cell_sink_3_order\">8</span>\n  \n  </td>\n  \n  </tr>\n\n  <tr>\n  \n  <td>\n  \n  <span id=\"ps-cell_max_1_is_visualization\"> </span>\n  \n  </td>\n  \n  <td>\n  \n  <a class='ps-row-btn' id=\"ps-row-btn_max_1\" type='button' >max_1</a>\n  \n  </td>\n  \n  <td>\n  \n  <span id=\"ps-cell_max_1_classname\">max</span>\n  \n  </td>\n  \n  <td>\n  \n  <span id=\"ps-cell_max_1_state\">state_ready</span>\n  \n  </td>\n  \n  <td>\n  \n  <span id=\"ps-cell_max_1_last_update\">0</span>\n  \n  </td>\n  \n  <td>\n  \n  <span id=\"ps-cell_max_1_order\">9</span>\n  \n  </td>\n  \n  </tr>\n\n  <tr>\n  \n  <td>\n  \n  <span id=\"ps-cell_min_1_is_visualization\"> </span>\n  \n  </td>\n  \n  <td>\n  \n  <a class='ps-row-btn' id=\"ps-row-btn_min_1\" type='button' >min_1</a>\n  \n  </td>\n  \n  <td>\n  \n  <span id=\"ps-cell_min_1_classname\">min</span>\n  \n  </td>\n  \n  <td>\n  \n  <span id=\"ps-cell_min_1_state\">state_ready</span>\n  \n  </td>\n  \n  <td>\n  \n  <span id=\"ps-cell_min_1_last_update\">0</span>\n  \n  </td>\n  \n  <td>\n  \n  <span id=\"ps-cell_min_1_order\">10</span>\n  \n  </td>\n  \n  </tr>\n\n  <tr>\n  \n  <td>\n  \n  <span id=\"ps-cell_histogram2_d_1_is_visualization\">a</span>\n  \n  </td>\n  \n  <td>\n  \n  <a class='ps-row-btn' id=\"ps-row-btn_histogram2_d_1\" type='button' >histogram2_d_1</a>\n  \n  </td>\n  \n  <td>\n  \n  <span id=\"ps-cell_histogram2_d_1_classname\">histogram2_d</span>\n  \n  </td>\n  \n  <td>\n  \n  <span id=\"ps-cell_histogram2_d_1_state\">state_ready</span>\n  \n  </td>\n  \n  <td>\n  \n  <span id=\"ps-cell_histogram2_d_1_last_update\">0</span>\n  \n  </td>\n  \n  <td>\n  \n  <span id=\"ps-cell_histogram2_d_1_order\">11</span>\n  \n  </td>\n  \n  </tr>\n\n  <tr>\n  \n  <td>\n  \n  <span id=\"ps-cell_heatmap_1_is_visualization\">a</span>\n  \n  </td>\n  \n  <td>\n  \n  <a class='ps-row-btn' id=\"ps-row-btn_heatmap_1\" type='button' >heatmap_1</a>\n  \n  </td>\n  \n  <td>\n  \n  <span id=\"ps-cell_heatmap_1_classname\">heatmap</span>\n  \n  </td>\n  \n  <td>\n  \n  <span id=\"ps-cell_heatmap_1_state\">state_ready</span>\n  \n  </td>\n  \n  <td>\n  \n  <span id=\"ps-cell_heatmap_1_last_update\">0</span>\n  \n  </td>\n  \n  <td>\n  \n  <span id=\"ps-cell_heatmap_1_order\">12</span>\n  \n  </td>\n  \n  </tr>\n\n</tbody>\n</table>",
       "layout": "IPY_MODEL_bb0f7ed520ea44098672594389ffff8a",
       "sensitive_css_class": "ps-row-btn",
       "value": {}
      }
     },
     "c05fcf57f28c4b23ac252aee0cfd0e59": {
      "model_module": "@jupyter-widgets/controls",
      "model_module_version": "2.0.0",
      "model_name": "HTMLStyleModel",
      "state": {
       "description_width": "",
       "font_size": null,
       "text_color": null
      }
     },
     "c0d3408579b14e969345d3766b8a63fb": {
      "model_module": "@jupyter-widgets/controls",
      "model_module_version": "2.0.0",
      "model_name": "DescriptionStyleModel",
      "state": {
       "description_width": ""
      }
     },
     "c1ce687f198c4930b5b0c0ba06ae6f03": {
      "model_module": "@jupyter-widgets/controls",
      "model_module_version": "2.0.0",
      "model_name": "HTMLStyleModel",
      "state": {
       "description_width": "",
       "font_size": null,
       "text_color": null
      }
     },
     "c1da9a10a91e41779bff647f1ec78912": {
      "model_module": "@jupyter-widgets/base",
      "model_module_version": "2.0.0",
      "model_name": "LayoutModel",
      "state": {}
     },
     "c212ecdcce9648c0ac43637ce85f717a": {
      "model_module": "@jupyter-widgets/base",
      "model_module_version": "2.0.0",
      "model_name": "LayoutModel",
      "state": {}
     },
     "c2f746bb852a4562bf06e94d1c991ab4": {
      "model_module": "@jupyter-widgets/controls",
      "model_module_version": "2.0.0",
      "model_name": "SliderStyleModel",
      "state": {
       "description_width": ""
      }
     },
     "c3596d6805bc41e690c6cd901d943926": {
      "model_module": "@jupyter-widgets/controls",
      "model_module_version": "2.0.0",
      "model_name": "HTMLStyleModel",
      "state": {
       "description_width": "",
       "font_size": null,
       "text_color": null
      }
     },
     "c3e6aa308854415f8199506475ca5ca1": {
      "model_module": "@jupyter-widgets/base",
      "model_module_version": "2.0.0",
      "model_name": "LayoutModel",
      "state": {}
     },
     "c466386837174638acda57e1dd6c5587": {
      "model_module": "@jupyter-widgets/base",
      "model_module_version": "2.0.0",
      "model_name": "LayoutModel",
      "state": {
       "width": "100%"
      }
     },
     "c746489d584849cd86654fa76bcdefbd": {
      "model_module": "@jupyter-widgets/base",
      "model_module_version": "2.0.0",
      "model_name": "LayoutModel",
      "state": {}
     },
     "c92fb6a84c414cf4aba36ff9e83ad847": {
      "model_module": "@jupyter-widgets/base",
      "model_module_version": "2.0.0",
      "model_name": "LayoutModel",
      "state": {}
     },
     "ca79a3db8b194d8cb557aa467f49df62": {
      "model_module": "@jupyter-widgets/base",
      "model_module_version": "2.0.0",
      "model_name": "LayoutModel",
      "state": {}
     },
     "cc751e3cdb8a479ca06f09a5da509dbc": {
      "model_module": "@jupyter-widgets/controls",
      "model_module_version": "2.0.0",
      "model_name": "SliderStyleModel",
      "state": {
       "description_width": "initial"
      }
     },
     "ccebc8229c0f4cd4aa1286997927836f": {
      "model_module": "@jupyter-widgets/controls",
      "model_module_version": "2.0.0",
      "model_name": "HTMLModel",
      "state": {
       "layout": "IPY_MODEL_bd3c9504bbae4ed391c0e2097df45110",
       "style": "IPY_MODEL_d23a9b80af014acba1a260ea5856967c"
      }
     },
     "cdf6666c3a324aa4a9868cddf3e285fd": {
      "model_module": "@jupyter-widgets/controls",
      "model_module_version": "2.0.0",
      "model_name": "HTMLModel",
      "state": {
       "layout": "IPY_MODEL_1a0a30e000e748f7b182947b2e5ea305",
       "style": "IPY_MODEL_9959cb5a20cd41d8bf8482d6da28cc4c"
      }
     },
     "ce5acb7a8c104cfe9411c784eca3cce5": {
      "model_module": "@jupyter-widgets/controls",
      "model_module_version": "2.0.0",
      "model_name": "TabModel",
      "state": {
       "layout": "IPY_MODEL_39021f732d36400db9d7cb5bd0d6e272"
      }
     },
     "ce65231426554191a50ae2c2c7a0e64a": {
      "model_module": "@jupyter-widgets/base",
      "model_module_version": "2.0.0",
      "model_name": "LayoutModel",
      "state": {}
     },
     "ce9a670dadaa456ea3a8448ccb8163bf": {
      "model_module": "@jupyter-widgets/controls",
      "model_module_version": "2.0.0",
      "model_name": "VBoxModel",
      "state": {
       "children": [
        "IPY_MODEL_f16b189f80294404bc5c5147f4741615",
        "IPY_MODEL_531228dfc0ec4e60a0aaee5d2b1421d2"
       ],
       "layout": "IPY_MODEL_df4724b3753749dbb390ff9b8c583ef2"
      }
     },
     "ced5cb39e65745398a35788ae43c4fdf": {
      "model_module": "@jupyter-widgets/controls",
      "model_module_version": "2.0.0",
      "model_name": "ButtonModel",
      "state": {
       "description": "Start",
       "disabled": true,
       "icon": "check",
       "layout": "IPY_MODEL_d4ac44e8a4da4c22a7e21224b7f6731e",
       "style": "IPY_MODEL_ae6f59af67b343c5943a3881f0bdcb3f",
       "tooltip": "Start"
      }
     },
     "cf1cad04da154141aa02fbe5b81e27d5": {
      "model_module": "@jupyter-widgets/base",
      "model_module_version": "2.0.0",
      "model_name": "LayoutModel",
      "state": {}
     },
     "cf5d755aa1654f97843cc218a763d2c0": {
      "model_module": "@jupyter-widgets/controls",
      "model_module_version": "2.0.0",
      "model_name": "TextModel",
      "state": {
       "layout": "IPY_MODEL_1d16a1d78ad8473a98c8dad915518b88",
       "placeholder": "optional alias",
       "style": "IPY_MODEL_61f5a656ad044e439948da3d99ca8fc0"
      }
     },
     "cf6765e55e1d431eba5bb30108e9c93f": {
      "model_module": "@jupyter-widgets/controls",
      "model_module_version": "2.0.0",
      "model_name": "DropdownModel",
      "state": {
       "_options_labels": [
        "",
        "CSV loader",
        "PARQUET loader",
        "CUSTOM loader"
       ],
       "description": "Loader",
       "disabled": true,
       "index": 3,
       "layout": "IPY_MODEL_2421677ef1704e83a738cb59ae0f697b",
       "style": "IPY_MODEL_355600ca82cc4f0c90592f2013d55ffa"
      }
     },
     "d03a072a30984aabaffd84d63aa60cf7": {
      "model_module": "@jupyter-widgets/base",
      "model_module_version": "2.0.0",
      "model_name": "LayoutModel",
      "state": {}
     },
     "d04fcda5dd3c4d868ea4558afa7c9590": {
      "model_module": "@jupyter-widgets/base",
      "model_module_version": "2.0.0",
      "model_name": "LayoutModel",
      "state": {}
     },
     "d0542a967dd4479a8068a1fd20f16713": {
      "model_module": "@jupyter-widgets/controls",
      "model_module_version": "2.0.0",
      "model_name": "HTMLModel",
      "state": {
       "layout": "IPY_MODEL_6482303355a44f8c93954240ea5df898",
       "style": "IPY_MODEL_a827b57c9c89427b8ea8bedad5578fda"
      }
     },
     "d1ead45253154265b2024a4b53306b2e": {
      "model_module": "@jupyter-widgets/base",
      "model_module_version": "2.0.0",
      "model_name": "LayoutModel",
      "state": {}
     },
     "d1efb97cb3fc403e94b7175a2ed08fdf": {
      "model_module": "@jupyter-widgets/jupyterlab-sidecar",
      "model_module_version": "^1.1",
      "model_name": "SidecarModel",
      "state": {
       "_model_module_version": "^1.1",
       "_view_module_version": "^1.1",
       "_widget_id": "2a1cf9cd-a17b-491f-9613-3811df31ea3d",
       "layout": "IPY_MODEL_913a06aacefa49baa6f6f5bbc3dc2af4",
       "outputs": [
        {
         "data": {
          "application/vnd.jupyter.widget-view+json": {
           "model_id": "aa564d4b47cc4cbe91842803b2bd1096",
           "version_major": 2,
           "version_minor": 0
          },
          "text/plain": "PsBoard(children=(ControlPanel(children=(Button(description='Resume', disabled=True, icon='play', style=Button…"
         },
         "metadata": {},
         "output_type": "display_data"
        }
       ],
       "title": "Modules Output"
      }
     },
     "d23a9b80af014acba1a260ea5856967c": {
      "model_module": "@jupyter-widgets/controls",
      "model_module_version": "2.0.0",
      "model_name": "HTMLStyleModel",
      "state": {
       "description_width": "",
       "font_size": null,
       "text_color": null
      }
     },
     "d2a16b37311f42cf9c44913a5785b986": {
      "model_module": "@jupyter-widgets/controls",
      "model_module_version": "2.0.0",
      "model_name": "LabelModel",
      "state": {
       "layout": "IPY_MODEL_23e9fa4387e34e23a8342ceba1fa855f",
       "style": "IPY_MODEL_4eae03baafd545cc8c3ba3075c95c797",
       "value": "Key"
      }
     },
     "d3bd8211fd7840bd99a1c5ba86d21cd8": {
      "model_module": "@jupyter-widgets/base",
      "model_module_version": "2.0.0",
      "model_name": "LayoutModel",
      "state": {}
     },
     "d4a94d96031846158eb7f96b903cf8a0": {
      "model_module": "@jupyter-widgets/controls",
      "model_module_version": "2.0.0",
      "model_name": "TextModel",
      "state": {
       "disabled": true,
       "layout": "IPY_MODEL_1e09d0b44e97421caa5fac8a20bc14c0",
       "placeholder": "optional alias",
       "style": "IPY_MODEL_470d40150bc24f77bb0a18342f5a8c6b",
       "value": "Blobs"
      }
     },
     "d4ac44e8a4da4c22a7e21224b7f6731e": {
      "model_module": "@jupyter-widgets/base",
      "model_module_version": "2.0.0",
      "model_name": "LayoutModel",
      "state": {}
     },
     "d504672f1193464d8e730c0f9dd5dbef": {
      "model_module": "@jupyter-widgets/controls",
      "model_module_version": "2.0.0",
      "model_name": "CheckboxModel",
      "state": {
       "description": "Active",
       "disabled": false,
       "layout": "IPY_MODEL_6ba385c802c6467b9b49db06b0cf89e5",
       "style": "IPY_MODEL_955210f01f214c078fc5ef2e985e78b2",
       "value": true
      }
     },
     "d5605fd4f62a4842892226c412090b38": {
      "model_module": "@jupyter-widgets/base",
      "model_module_version": "2.0.0",
      "model_name": "LayoutModel",
      "state": {}
     },
     "d6a7190d7142426fbe15698ba19e4ee0": {
      "model_module": "@jupyter-widgets/base",
      "model_module_version": "2.0.0",
      "model_name": "LayoutModel",
      "state": {}
     },
     "d6b7933f90f248e3bc8a18c63b319906": {
      "model_module": "@jupyter-widgets/controls",
      "model_module_version": "2.0.0",
      "model_name": "HTMLStyleModel",
      "state": {
       "description_width": "",
       "font_size": null,
       "text_color": null
      }
     },
     "d6d524f5d6be402c82d913f2bda5926d": {
      "model_module": "@jupyter-widgets/controls",
      "model_module_version": "2.0.0",
      "model_name": "LabelStyleModel",
      "state": {
       "description_width": "",
       "font_family": null,
       "font_size": null,
       "font_style": null,
       "font_variant": null,
       "font_weight": null,
       "text_color": null,
       "text_decoration": null
      }
     },
     "d8101fb0cb2f43109093c452339ab703": {
      "model_module": "@jupyter-widgets/controls",
      "model_module_version": "2.0.0",
      "model_name": "HTMLStyleModel",
      "state": {
       "description_width": "",
       "font_size": null,
       "text_color": null
      }
     },
     "d83cc4bf9f6d455b8f70ecc0817e1a37": {
      "model_module": "@jupyter-widgets/base",
      "model_module_version": "2.0.0",
      "model_name": "LayoutModel",
      "state": {}
     },
     "d8f0f7bd297e42049729a7e01a72f6d9": {
      "model_module": "@jupyter-widgets/base",
      "model_module_version": "2.0.0",
      "model_name": "LayoutModel",
      "state": {}
     },
     "d91806cfb74c4e519d48ca9d55dc4dc2": {
      "model_module": "@jupyter-widgets/base",
      "model_module_version": "2.0.0",
      "model_name": "LayoutModel",
      "state": {}
     },
     "da17cbe3aa464577bfa55c42659e9943": {
      "model_module": "@jupyter-widgets/controls",
      "model_module_version": "2.0.0",
      "model_name": "DescriptionStyleModel",
      "state": {
       "description_width": ""
      }
     },
     "dbe5db4355d34bfca71fcb7547f37d7b": {
      "model_module": "@jupyter-widgets/controls",
      "model_module_version": "2.0.0",
      "model_name": "TextModel",
      "state": {
       "disabled": true,
       "layout": "IPY_MODEL_bca9debdc00f45e38e7ac29ce477e4f8",
       "placeholder": "enter a key name to select",
       "style": "IPY_MODEL_09be71d2c8034c02a7d269564744734e",
       "value": "y"
      }
     },
     "ddfc95b4d3374033ba3346dbb3d576ee": {
      "model_module": "@jupyter-widgets/controls",
      "model_module_version": "2.0.0",
      "model_name": "HTMLStyleModel",
      "state": {
       "description_width": "",
       "font_size": null,
       "text_color": null
      }
     },
     "defb0f079e144cb3b43fd92c4296a69c": {
      "model_module": "@jupyter-widgets/controls",
      "model_module_version": "2.0.0",
      "model_name": "LabelStyleModel",
      "state": {
       "description_width": "",
       "font_family": null,
       "font_size": null,
       "font_style": null,
       "font_variant": null,
       "font_weight": null,
       "text_color": null,
       "text_decoration": null
      }
     },
     "df4724b3753749dbb390ff9b8c583ef2": {
      "model_module": "@jupyter-widgets/base",
      "model_module_version": "2.0.0",
      "model_name": "LayoutModel",
      "state": {}
     },
     "e041736186de4faeb4b33823da4c8c7f": {
      "model_module": "jupyter-progressivis",
      "model_module_version": "^0.1.0",
      "model_name": "VegaWidgetModel",
      "state": {
       "_df": null,
       "_img_url": "null",
       "_model_module": "jupyter-progressivis",
       "_model_module_version": "^0.1.0",
       "_opt_source": "null",
       "_spec_source": "{\"$schema\": \"https://vega.github.io/schema/vega-lite/v4.8.1.json\", \"config\": {\"view\": {\"continuousHeight\": 300, \"continuousWidth\": 400}}, \"data\": {\"name\": \"data\"}, \"layer\": [{\"encoding\": {\"color\": {\"field\": \"corr\", \"type\": \"quantitative\"}, \"x\": {\"field\": \"var2\", \"type\": \"ordinal\"}, \"y\": {\"field\": \"var\", \"type\": \"ordinal\"}}, \"height\": 400, \"mark\": \"rect\", \"width\": 400}, {\"encoding\": {\"color\": {\"condition\": {\"test\": \"(datum.corr > 0.5)\", \"value\": \"white\"}, \"value\": \"black\"}, \"text\": {\"field\": \"corr_label\", \"type\": \"nominal\"}, \"x\": {\"field\": \"var2\", \"type\": \"ordinal\", \"axis\": {\"labelAngle\": -30, \"labelLimit\": 10000}}, \"y\": {\"field\": \"var\", \"type\": \"ordinal\"}}, \"height\": 400, \"mark\": \"text\", \"width\": 400}]}",
       "_view_module": "jupyter-progressivis",
       "_view_module_version": "^0.1.0",
       "layout": "IPY_MODEL_2933434e214045de811a067738ab2e8f"
      }
     },
     "e0675889645f4963978f5dae98a967fc": {
      "model_module": "@jupyter-widgets/base",
      "model_module_version": "2.0.0",
      "model_name": "LayoutModel",
      "state": {}
     },
     "e0829d5db2544e3c8e81d05886e98af6": {
      "model_module": "@jupyter-widgets/controls",
      "model_module_version": "2.0.0",
      "model_name": "SliderStyleModel",
      "state": {
       "description_width": "initial"
      }
     },
     "e09d51e3b1c34ab08455eb8fbd2486b8": {
      "model_module": "@jupyter-widgets/base",
      "model_module_version": "2.0.0",
      "model_name": "LayoutModel",
      "state": {}
     },
     "e1184409b76d4925b8f0617488cde97c": {
      "model_module": "@jupyter-widgets/controls",
      "model_module_version": "2.0.0",
      "model_name": "VBoxModel",
      "state": {
       "children": [
        "IPY_MODEL_a5197474ba084f418147e745acd9a6b1",
        "IPY_MODEL_6a452ced9a4649b9a5805f6dc3550c26"
       ],
       "layout": "IPY_MODEL_ed6d7d876a2b4cf986ce70f272164364"
      }
     },
     "e11c152490fb4fe9a72761d58989b42f": {
      "model_module": "@jupyter-widgets/controls",
      "model_module_version": "2.0.0",
      "model_name": "HTMLModel",
      "state": {
       "layout": "IPY_MODEL_5bbbfc460cc04842ade881acf8e149d8",
       "style": "IPY_MODEL_1322491c644d4c76aa40d7be05cd3a85"
      }
     },
     "e19c3fca679a4306bdf16a271186b550": {
      "model_module": "@jupyter-widgets/controls",
      "model_module_version": "2.0.0",
      "model_name": "HTMLModel",
      "state": {
       "layout": "IPY_MODEL_a70f08599eaa4625afa6a449fe4414cb",
       "style": "IPY_MODEL_336ee49d3e6042cfa964bd7eac74cc68"
      }
     },
     "e19c5428a7dd4f4c8c8e8e207d1705e0": {
      "model_module": "@jupyter-widgets/base",
      "model_module_version": "2.0.0",
      "model_name": "LayoutModel",
      "state": {}
     },
     "e2711d06c0a74348a28e62f45d132faf": {
      "model_module": "@jupyter-widgets/controls",
      "model_module_version": "2.0.0",
      "model_name": "DescriptionStyleModel",
      "state": {
       "description_width": ""
      }
     },
     "e2ae439ba11443ebbedec71b13898455": {
      "model_module": "@jupyter-widgets/controls",
      "model_module_version": "2.0.0",
      "model_name": "HBoxModel",
      "state": {
       "children": [
        "IPY_MODEL_942704d2eb214af380770a14891cf8a2",
        "IPY_MODEL_3e5214b7ef8744a7b3f89a2b3441c762"
       ],
       "layout": "IPY_MODEL_9e6b60a2df934a82872e1d8a61497e8d"
      }
     },
     "e2d188ea3b454860817c2486af07b54a": {
      "model_module": "@jupyter-widgets/controls",
      "model_module_version": "2.0.0",
      "model_name": "HTMLStyleModel",
      "state": {
       "description_width": "",
       "font_size": null,
       "text_color": null
      }
     },
     "e2d95fa0abc642b8aab4e3e4a0481402": {
      "model_module": "@jupyter-widgets/controls",
      "model_module_version": "2.0.0",
      "model_name": "CheckboxModel",
      "state": {
       "description": "Active",
       "disabled": false,
       "layout": "IPY_MODEL_f40026adf817427885a556fb3918afb8",
       "style": "IPY_MODEL_05b6cf7b7f4942138a92c0f61c0d6a1b",
       "value": true
      }
     },
     "e33d88d18af24597972e5c9855927d31": {
      "model_module": "@jupyter-widgets/base",
      "model_module_version": "2.0.0",
      "model_name": "LayoutModel",
      "state": {}
     },
     "e43601d9c23044bbb85a867083a47f7d": {
      "model_module": "@jupyter-widgets/base",
      "model_module_version": "2.0.0",
      "model_name": "LayoutModel",
      "state": {
       "justify_content": "flex-end"
      }
     },
     "e484f61932d043179b5da0e9173246af": {
      "model_module": "@jupyter-widgets/controls",
      "model_module_version": "2.0.0",
      "model_name": "ButtonModel",
      "state": {
       "description": "Stop",
       "icon": "stop",
       "layout": "IPY_MODEL_ab82aac1d1c64087803b598857ed58aa",
       "style": "IPY_MODEL_fe0cfcb513f540539a1f7b528cfb65ac",
       "tooltip": "Stop"
      }
     },
     "e5114790b8ec49a18fe874103d41e6ec": {
      "model_module": "@jupyter-widgets/base",
      "model_module_version": "2.0.0",
      "model_name": "LayoutModel",
      "state": {}
     },
     "e5179eb5598c4efebb3bcc928ca98217": {
      "model_module": "@jupyter-widgets/controls",
      "model_module_version": "2.0.0",
      "model_name": "ButtonModel",
      "state": {
       "description": "Step",
       "disabled": true,
       "icon": "step-forward",
       "layout": "IPY_MODEL_007c8b2b84664a45b57249c49168692f",
       "style": "IPY_MODEL_bd4e6472442c4e3d8a3b329313e1223e",
       "tooltip": "Step"
      }
     },
     "e8f82ab831484a3fa64b1c986520de9d": {
      "model_module": "@jupyter-widgets/controls",
      "model_module_version": "2.0.0",
      "model_name": "IntProgressModel",
      "state": {
       "description": "ProgressiVis started",
       "layout": "IPY_MODEL_155ad46e41564f6db3fa23b654439581",
       "max": 2,
       "style": "IPY_MODEL_43ad8181551f46a7858b96b785ce3828",
       "value": 2
      }
     },
     "e9161cbe9e4d4a72ac7f2aa5dbb2cd88": {
      "model_module": "@jupyter-widgets/base",
      "model_module_version": "2.0.0",
      "model_name": "LayoutModel",
      "state": {}
     },
     "e97bc6c16a464cebaa0d0095f38ccbb5": {
      "model_module": "@jupyter-widgets/controls",
      "model_module_version": "2.0.0",
      "model_name": "HTMLStyleModel",
      "state": {
       "description_width": "",
       "font_size": null,
       "text_color": null
      }
     },
     "e9c59a3d58b54c3e8f85b2f9b7a751ed": {
      "model_module": "@jupyter-widgets/controls",
      "model_module_version": "2.0.0",
      "model_name": "DescriptionStyleModel",
      "state": {
       "description_width": ""
      }
     },
     "ea91969dcafd4405b86756cd068e0ddb": {
      "model_module": "@jupyter-widgets/controls",
      "model_module_version": "2.0.0",
      "model_name": "DescriptionStyleModel",
      "state": {
       "description_width": ""
      }
     },
     "ea96b8f5864448a2ad2fb3bdfd3e6f87": {
      "model_module": "@jupyter-widgets/base",
      "model_module_version": "2.0.0",
      "model_name": "LayoutModel",
      "state": {}
     },
     "eaffbc567e194919b26fcb950d1e2cd8": {
      "model_module": "@jupyter-widgets/base",
      "model_module_version": "2.0.0",
      "model_name": "LayoutModel",
      "state": {}
     },
     "eb7c722c41fa45c7a674ad2ad69f4451": {
      "model_module": "@jupyter-widgets/base",
      "model_module_version": "2.0.0",
      "model_name": "LayoutModel",
      "state": {}
     },
     "ebc05c28657842b5b6800450a7218e2f": {
      "model_module": "@jupyter-widgets/controls",
      "model_module_version": "2.0.0",
      "model_name": "ButtonModel",
      "state": {
       "description": "Start",
       "disabled": true,
       "icon": "check",
       "layout": "IPY_MODEL_0afbbc7bb3564d7aa610a7a7c2744c76",
       "style": "IPY_MODEL_bd7bef4b7d3748ba97f39806b9fae5e7",
       "tooltip": "Start"
      }
     },
     "ec6f2eebe2814efcb4a05ddbe900cda0": {
      "model_module": "@jupyter-widgets/controls",
      "model_module_version": "2.0.0",
      "model_name": "HTMLStyleModel",
      "state": {
       "description_width": "",
       "font_size": null,
       "text_color": null
      }
     },
     "ecab95c6bf0a4cf099f88e6a424efd79": {
      "model_module": "@jupyter-widgets/base",
      "model_module_version": "2.0.0",
      "model_name": "LayoutModel",
      "state": {}
     },
     "ed6d7d876a2b4cf986ce70f272164364": {
      "model_module": "@jupyter-widgets/base",
      "model_module_version": "2.0.0",
      "model_name": "LayoutModel",
      "state": {}
     },
     "eda830b6390e4474941deb6d17efb3a2": {
      "model_module": "@jupyter-widgets/controls",
      "model_module_version": "2.0.0",
      "model_name": "ButtonStyleModel",
      "state": {
       "font_family": null,
       "font_size": null,
       "font_style": null,
       "font_variant": null,
       "font_weight": null,
       "text_color": null,
       "text_decoration": null
      }
     },
     "ee255c7bea4b4f4fa6094177a544de75": {
      "model_module": "@jupyter-widgets/base",
      "model_module_version": "2.0.0",
      "model_name": "LayoutModel",
      "state": {}
     },
     "eed600a8c07a4c91a565f07b095344e5": {
      "model_module": "@jupyter-widgets/controls",
      "model_module_version": "2.0.0",
      "model_name": "HTMLModel",
      "state": {
       "layout": "IPY_MODEL_31304f6255474ac8b32e68d8c1299db9",
       "style": "IPY_MODEL_8f4f36a1f1894d7a8cff1a120dc335ca"
      }
     },
     "ef23d504ed14431ba75c982aee7ddf9f": {
      "model_module": "@jupyter-widgets/controls",
      "model_module_version": "2.0.0",
      "model_name": "DescriptionStyleModel",
      "state": {
       "description_width": ""
      }
     },
     "ef9299548579472c8f14ba5b018eb6cf": {
      "model_module": "@jupyter-widgets/controls",
      "model_module_version": "2.0.0",
      "model_name": "HTMLModel",
      "state": {
       "layout": "IPY_MODEL_e5114790b8ec49a18fe874103d41e6ec",
       "style": "IPY_MODEL_a4d3f29ec74840b6a059ce5b05ffe866"
      }
     },
     "f02d4d4aa3e64495ac5b3cc531169d52": {
      "model_module": "@jupyter-widgets/controls",
      "model_module_version": "2.0.0",
      "model_name": "LabelModel",
      "state": {
       "layout": "IPY_MODEL_d03a072a30984aabaffd84d63aa60cf7",
       "style": "IPY_MODEL_defb0f079e144cb3b43fd92c4296a69c"
      }
     },
     "f11f35a3aaf24cfd8b7825d40cea895e": {
      "model_module": "@jupyter-widgets/controls",
      "model_module_version": "2.0.0",
      "model_name": "HTMLModel",
      "state": {
       "layout": "IPY_MODEL_ea96b8f5864448a2ad2fb3bdfd3e6f87",
       "style": "IPY_MODEL_bc1f553a199544809fa6f1487e43de04"
      }
     },
     "f123c149f76640a593a5bc19cea18f66": {
      "model_module": "@jupyter-widgets/base",
      "model_module_version": "2.0.0",
      "model_name": "LayoutModel",
      "state": {}
     },
     "f16b189f80294404bc5c5147f4741615": {
      "model_module": "@jupyter-widgets/controls",
      "model_module_version": "2.0.0",
      "model_name": "LabelModel",
      "state": {
       "layout": "IPY_MODEL_4da4e18fd8454859a66a6d793a7d7c39",
       "style": "IPY_MODEL_8495e66e65d74d2b86ffe942e05e931c"
      }
     },
     "f1c318288f7c489e88d1b6d2d7136f13": {
      "model_module": "@jupyter-widgets/controls",
      "model_module_version": "2.0.0",
      "model_name": "HTMLModel",
      "state": {
       "layout": "IPY_MODEL_7ac938581e654df5b28eb030d51bc6e5",
       "style": "IPY_MODEL_32688e165f7344dfb2e627813b2f7a5a"
      }
     },
     "f22d725113d940a4af1059553f51ca7a": {
      "model_module": "@jupyter-widgets/controls",
      "model_module_version": "2.0.0",
      "model_name": "HBoxModel",
      "state": {
       "children": [
        "IPY_MODEL_199203959d4d46488d8d9216fa18f314",
        "IPY_MODEL_cf5d755aa1654f97843cc218a763d2c0",
        "IPY_MODEL_85a16b98003f4184b1aaa32da497860e"
       ],
       "layout": "IPY_MODEL_181e8c86f8c24a4e8ebfaf62440faa05"
      }
     },
     "f40026adf817427885a556fb3918afb8": {
      "model_module": "@jupyter-widgets/base",
      "model_module_version": "2.0.0",
      "model_name": "LayoutModel",
      "state": {}
     },
     "f5cd0df21f244ecca5934720a8056b6d": {
      "model_module": "@jupyter-widgets/base",
      "model_module_version": "2.0.0",
      "model_name": "LayoutModel",
      "state": {}
     },
     "f65ef09720984fe8bf3ef35376ff7ec1": {
      "model_module": "@jupyter-widgets/base",
      "model_module_version": "2.0.0",
      "model_name": "LayoutModel",
      "state": {}
     },
     "f6974210f84d4aefa30ed79ca67f6bd3": {
      "model_module": "@jupyter-widgets/controls",
      "model_module_version": "2.0.0",
      "model_name": "HTMLModel",
      "state": {
       "layout": "IPY_MODEL_6533a2d5dfe64a84a337bc5374243908",
       "style": "IPY_MODEL_3f830d5883c04b77815f323981ae76f2"
      }
     },
     "f6d738151f2d467e8f424e0755e0b7ec": {
      "model_module": "@jupyter-widgets/jupyterlab-sidecar",
      "model_module_version": "^1.1",
      "model_name": "SidecarModel",
      "state": {
       "_model_module_version": "^1.1",
       "_view_module_version": "^1.1",
       "_widget_id": "faf72e5d-ff9e-4cf2-aeb5-bd16c1a16d5e",
       "layout": "IPY_MODEL_a1510cc1cc214621ae0ce1ecc75d481a",
       "outputs": [
        {
         "data": {
          "application/vnd.jupyter.widget-view+json": {
           "model_id": "9c003c0078084628a5e659b11cbe950d",
           "version_major": 2,
           "version_minor": 0
          },
          "text/plain": "DagWidgetController()"
         },
         "metadata": {},
         "output_type": "display_data"
        }
       ],
       "title": "Widgets Output"
      }
     },
     "f7411983df984b45b6882336a96e5be2": {
      "model_module": "@jupyter-widgets/controls",
      "model_module_version": "2.0.0",
      "model_name": "HTMLStyleModel",
      "state": {
       "description_width": "",
       "font_size": null,
       "text_color": null
      }
     },
     "f78b880457524ffb903d121fdf884a13": {
      "model_module": "@jupyter-widgets/base",
      "model_module_version": "2.0.0",
      "model_name": "LayoutModel",
      "state": {}
     },
     "f79e6f7f16d644afaa96dd69bab9acb2": {
      "model_module": "@jupyter-widgets/controls",
      "model_module_version": "2.0.0",
      "model_name": "CheckboxModel",
      "state": {
       "description": "Active",
       "disabled": false,
       "layout": "IPY_MODEL_8c74cbb226234123b851daf030237a03",
       "style": "IPY_MODEL_23817a2f63b445f29fbe1c2d806642ef",
       "value": true
      }
     },
     "f95b30f73e4a4c0da6cbde04aeab02c1": {
      "model_module": "@jupyter-widgets/controls",
      "model_module_version": "2.0.0",
      "model_name": "DescriptionStyleModel",
      "state": {
       "description_width": ""
      }
     },
     "f9664626b1514d8c8df16b2b922c4625": {
      "model_module": "@jupyter-widgets/controls",
      "model_module_version": "2.0.0",
      "model_name": "ButtonStyleModel",
      "state": {
       "font_family": null,
       "font_size": null,
       "font_style": null,
       "font_variant": null,
       "font_weight": null,
       "text_color": null,
       "text_decoration": null
      }
     },
     "f9908602eb064f0ebf0adcee70cb35ca": {
      "model_module": "@jupyter-widgets/controls",
      "model_module_version": "2.0.0",
      "model_name": "ButtonModel",
      "state": {
       "description": "Create",
       "disabled": true,
       "icon": "check",
       "layout": "IPY_MODEL_48e633d4d50c458c9658af63463adb0e",
       "style": "IPY_MODEL_ac356e8e67174263811b98fe4bf2459c",
       "tooltip": "Create"
      }
     },
     "fae275106e6d43268c62ec0405b52fc8": {
      "model_module": "@jupyter-widgets/controls",
      "model_module_version": "2.0.0",
      "model_name": "HTMLModel",
      "state": {
       "layout": "IPY_MODEL_c92fb6a84c414cf4aba36ff9e83ad847",
       "style": "IPY_MODEL_8526a2b49b6c4c6a8df0a5f341c9b5da"
      }
     },
     "fb661c4713924950920b0432a6463bac": {
      "model_module": "@jupyter-widgets/controls",
      "model_module_version": "2.0.0",
      "model_name": "CheckboxModel",
      "state": {
       "description": "Record this scenario",
       "disabled": true,
       "layout": "IPY_MODEL_aebfa4c5a317496fa1c7877b305ffaf4",
       "style": "IPY_MODEL_32cd35a92353413b925f74307be54ef8",
       "value": true
      }
     },
     "fbc83417fd504bb5b9906fabc05bce9c": {
      "model_module": "@jupyter-widgets/base",
      "model_module_version": "2.0.0",
      "model_name": "LayoutModel",
      "state": {
       "height": "30px",
       "width": "30px"
      }
     },
     "fc1b348ce9154843b625a709fc048004": {
      "model_module": "@jupyter-widgets/base",
      "model_module_version": "2.0.0",
      "model_name": "LayoutModel",
      "state": {}
     },
     "fcff871ae8444624814c0d0579282e57": {
      "model_module": "@jupyter-widgets/controls",
      "model_module_version": "2.0.0",
      "model_name": "SliderStyleModel",
      "state": {
       "description_width": "initial"
      }
     },
     "fd34f9745f194bd7aac118b2e73714ce": {
      "model_module": "@jupyter-widgets/controls",
      "model_module_version": "2.0.0",
      "model_name": "ButtonModel",
      "state": {
       "button_style": "danger",
       "disabled": true,
       "icon": "trash",
       "layout": "IPY_MODEL_5d294c1882bd4a5aae996609e4c37f08",
       "style": "IPY_MODEL_eda830b6390e4474941deb6d17efb3a2"
      }
     },
     "fe0cfcb513f540539a1f7b528cfb65ac": {
      "model_module": "@jupyter-widgets/controls",
      "model_module_version": "2.0.0",
      "model_name": "ButtonStyleModel",
      "state": {
       "font_family": null,
       "font_size": null,
       "font_style": null,
       "font_variant": null,
       "font_weight": null,
       "text_color": null,
       "text_decoration": null
      }
     },
     "fe3f5450b6944b4b90b08af18d233bf6": {
      "model_module": "@jupyter-widgets/controls",
      "model_module_version": "2.0.0",
      "model_name": "HTMLModel",
      "state": {
       "layout": "IPY_MODEL_eb7c722c41fa45c7a674ad2ad69f4451",
       "style": "IPY_MODEL_6e7f42868b204c39bc4c1de5194363f5"
      }
     },
     "ff9fd5ec5a904106a9591581fe704136": {
      "model_module": "@jupyter-widgets/controls",
      "model_module_version": "2.0.0",
      "model_name": "ButtonStyleModel",
      "state": {
       "font_family": null,
       "font_size": null,
       "font_style": null,
       "font_variant": null,
       "font_weight": null,
       "text_color": null,
       "text_decoration": null
      }
     },
     "ffd67fc9c3be43349036d983f9571b60": {
      "model_module": "@jupyter-widgets/base",
      "model_module_version": "2.0.0",
      "model_name": "LayoutModel",
      "state": {}
     }
    },
    "version_major": 2,
    "version_minor": 0
   }
  }
 },
 "nbformat": 4,
 "nbformat_minor": 5
}
