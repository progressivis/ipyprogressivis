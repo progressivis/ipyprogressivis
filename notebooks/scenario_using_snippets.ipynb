{
 "cells": [
  {
   "cell_type": "markdown",
   "id": "ceee6a5f-fd38-4b0f-af1b-a3fca1c44ea2",
   "metadata": {
    "deletable": false,
    "editable": false,
    "progressivis_backup": "eyJ0aXRsZSI6ICJDVVNUT00gbG9hZGVyIiwgIm51bWJlciI6IDAsICJmdHlwZSI6ICJjdXN0b20iLCAiYWxpYXMiOiAiQmxvYnMiLCAiZnJvemVuIjogeyJzbmlwcGV0IjogImJsb2JzX3RhYmxlIiwgImNvbHVtbnMiOiBbXX0sICJtYXJrZG93biI6ICIifQ==;eyJ0aXRsZSI6ICJTbmlwcGV0IiwgInBhcmVudCI6IFsiQmxvYnMiLCAwXSwgIm51bWJlciI6IDAsICJhbGlhcyI6ICIiLCAiZnJvemVuIjogeyJzbmlwcGV0IjogInJhbmdlX3F1ZXJ5XzJkX3dpdGhfc2xpZGVyIiwgImNvbHVtbnMiOiB7IngiOiAiXzAiLCAieSI6ICJfMiJ9fSwgIm1hcmtkb3duIjogIiJ9;eyJ0aXRsZSI6ICJIZWF0bWFwIiwgInBhcmVudCI6IFsiU25pcHBldCIsIDBdLCAibnVtYmVyIjogMCwgImFsaWFzIjogIiIsICJmcm96ZW4iOiB7IlgiOiAiXzAiLCAiWSI6ICJfMiIsICJkaW0iOiAiNTEyIiwgIm1pbl9xIjogIiIsICJtYXhfcSI6ICIiLCAidHJhbnMiOiAiNCIsICJibHVyIjogMH0sICJtYXJrZG93biI6ICIifQ==",
    "tags": []
   },
   "source": [
    "<button data-commandLinker-command=\"progressivis:cleanup_and_run\" data-commandlinker-args='{\"index\": 1}' href=\"#\">Run ProgressiVis</button>"
   ]
  },
  {
   "cell_type": "code",
   "execution_count": 1,
   "id": "fleet-final",
   "metadata": {
    "_editable": true,
    "deletable": false,
    "edi_table": false,
    "editable": false,
    "jupyter": {
     "source_hidden": true
    },
    "progressivis_backup": "",
    "slideshow": {
     "slide_type": ""
    },
    "tags": []
   },
   "outputs": [
    {
     "data": {
      "application/vnd.jupyter.widget-view+json": {
       "model_id": "82911f101afe401f866f4dd788a10b1b",
       "version_major": 2,
       "version_minor": 0
      },
      "text/plain": []
     },
     "metadata": {},
     "output_type": "display_data"
    },
    {
     "data": {
      "application/vnd.jupyter.widget-view+json": {
       "model_id": "25f8b67c18354442a4021d177d613a8a",
       "version_major": 2,
       "version_minor": 0
      },
      "text/plain": []
     },
     "metadata": {},
     "output_type": "display_data"
    },
    {
     "data": {
      "text/html": [
       "<script type=\"esms-options\">{\"shimMode\": true}</script><style>*[data-root-id],\n",
       "*[data-root-id] > * {\n",
       "  box-sizing: border-box;\n",
       "  font-family: var(--jp-ui-font-family);\n",
       "  font-size: var(--jp-ui-font-size1);\n",
       "  color: var(--vscode-editor-foreground, var(--jp-ui-font-color1));\n",
       "}\n",
       "\n",
       "/* Override VSCode background color */\n",
       ".cell-output-ipywidget-background:has(\n",
       "    > .cell-output-ipywidget-background > .lm-Widget > *[data-root-id]\n",
       "  ),\n",
       ".cell-output-ipywidget-background:has(> .lm-Widget > *[data-root-id]) {\n",
       "  background-color: transparent !important;\n",
       "}\n",
       "</style>"
      ]
     },
     "metadata": {},
     "output_type": "display_data"
    },
    {
     "data": {
      "application/javascript": [
       "(function(root) {\n",
       "  function now() {\n",
       "    return new Date();\n",
       "  }\n",
       "\n",
       "  const force = true;\n",
       "  const py_version = '3.5.2'.replace('rc', '-rc.').replace('.dev', '-dev.');\n",
       "  const reloading = false;\n",
       "  const Bokeh = root.Bokeh;\n",
       "\n",
       "  // Set a timeout for this load but only if we are not already initializing\n",
       "  if (typeof (root._bokeh_timeout) === \"undefined\" || (force || !root._bokeh_is_initializing)) {\n",
       "    root._bokeh_timeout = Date.now() + 5000;\n",
       "    root._bokeh_failed_load = false;\n",
       "  }\n",
       "\n",
       "  function run_callbacks() {\n",
       "    try {\n",
       "      root._bokeh_onload_callbacks.forEach(function(callback) {\n",
       "        if (callback != null)\n",
       "          callback();\n",
       "      });\n",
       "    } finally {\n",
       "      delete root._bokeh_onload_callbacks;\n",
       "    }\n",
       "    console.debug(\"Bokeh: all callbacks have finished\");\n",
       "  }\n",
       "\n",
       "  function load_libs(css_urls, js_urls, js_modules, js_exports, callback) {\n",
       "    if (css_urls == null) css_urls = [];\n",
       "    if (js_urls == null) js_urls = [];\n",
       "    if (js_modules == null) js_modules = [];\n",
       "    if (js_exports == null) js_exports = {};\n",
       "\n",
       "    root._bokeh_onload_callbacks.push(callback);\n",
       "\n",
       "    if (root._bokeh_is_loading > 0) {\n",
       "      // Don't load bokeh if it is still initializing\n",
       "      console.debug(\"Bokeh: BokehJS is being loaded, scheduling callback at\", now());\n",
       "      return null;\n",
       "    } else if (js_urls.length === 0 && js_modules.length === 0 && Object.keys(js_exports).length === 0) {\n",
       "      // There is nothing to load\n",
       "      run_callbacks();\n",
       "      return null;\n",
       "    }\n",
       "\n",
       "    function on_load() {\n",
       "      root._bokeh_is_loading--;\n",
       "      if (root._bokeh_is_loading === 0) {\n",
       "        console.debug(\"Bokeh: all BokehJS libraries/stylesheets loaded\");\n",
       "        run_callbacks()\n",
       "      }\n",
       "    }\n",
       "    window._bokeh_on_load = on_load\n",
       "\n",
       "    function on_error(e) {\n",
       "      const src_el = e.srcElement\n",
       "      console.error(\"failed to load \" + (src_el.href || src_el.src));\n",
       "    }\n",
       "\n",
       "    const skip = [];\n",
       "    if (window.requirejs) {\n",
       "      window.requirejs.config({'packages': {}, 'paths': {'ace': '//cdnjs.cloudflare.com/ajax/libs/ace/1.4.7', 'jsoneditor': '//cdn.jsdelivr.net/npm/jsoneditor@10.0.1/dist/jsoneditor.min'}, 'shim': {'ace/ext-language_tools': {'deps': ['ace/ace']}, 'ace/ext-modelist': {'deps': ['ace/ace']}, 'jsoneditor': {'exports': 'JSONEditor'}}});\n",
       "      require([\"ace/ace\"], function(ace) {\n",
       "        window.ace = ace\n",
       "        on_load()\n",
       "      })\n",
       "      require([\"ace/ext-language_tools\"], function() {\n",
       "        on_load()\n",
       "      })\n",
       "      require([\"ace/ext-modelist\"], function() {\n",
       "        on_load()\n",
       "      })\n",
       "      require([\"jsoneditor\"], function(JSONEditor) {\n",
       "        window.JSONEditor = JSONEditor\n",
       "        on_load()\n",
       "      })\n",
       "      root._bokeh_is_loading = css_urls.length + 4;\n",
       "    } else {\n",
       "      root._bokeh_is_loading = css_urls.length + js_urls.length + js_modules.length + Object.keys(js_exports).length;\n",
       "    }\n",
       "\n",
       "    const existing_stylesheets = []\n",
       "    const links = document.getElementsByTagName('link')\n",
       "    for (let i = 0; i < links.length; i++) {\n",
       "      const link = links[i]\n",
       "      if (link.href != null) {\n",
       "        existing_stylesheets.push(link.href)\n",
       "      }\n",
       "    }\n",
       "    for (let i = 0; i < css_urls.length; i++) {\n",
       "      const url = css_urls[i];\n",
       "      const escaped = encodeURI(url)\n",
       "      if (existing_stylesheets.indexOf(escaped) !== -1) {\n",
       "        on_load()\n",
       "        continue;\n",
       "      }\n",
       "      const element = document.createElement(\"link\");\n",
       "      element.onload = on_load;\n",
       "      element.onerror = on_error;\n",
       "      element.rel = \"stylesheet\";\n",
       "      element.type = \"text/css\";\n",
       "      element.href = url;\n",
       "      console.debug(\"Bokeh: injecting link tag for BokehJS stylesheet: \", url);\n",
       "      document.body.appendChild(element);\n",
       "    }    if (((window.ace !== undefined) && (!(window.ace instanceof HTMLElement))) || window.requirejs) {\n",
       "      var urls = ['https://cdnjs.cloudflare.com/ajax/libs/ace/1.4.11/ace.js', 'https://cdnjs.cloudflare.com/ajax/libs/ace/1.4.11/ext-language_tools.js', 'https://cdnjs.cloudflare.com/ajax/libs/ace/1.4.11/ext-modelist.js'];\n",
       "      for (var i = 0; i < urls.length; i++) {\n",
       "        skip.push(encodeURI(urls[i]))\n",
       "      }\n",
       "    }    if (((window.JSONEditor !== undefined) && (!(window.JSONEditor instanceof HTMLElement))) || window.requirejs) {\n",
       "      var urls = ['https://cdn.holoviz.org/panel/1.5.0/dist/bundled/jsoneditor/jsoneditor@10.0.1/dist/jsoneditor.min.js'];\n",
       "      for (var i = 0; i < urls.length; i++) {\n",
       "        skip.push(encodeURI(urls[i]))\n",
       "      }\n",
       "    }    var existing_scripts = []\n",
       "    const scripts = document.getElementsByTagName('script')\n",
       "    for (let i = 0; i < scripts.length; i++) {\n",
       "      var script = scripts[i]\n",
       "      if (script.src != null) {\n",
       "        existing_scripts.push(script.src)\n",
       "      }\n",
       "    }\n",
       "    for (let i = 0; i < js_urls.length; i++) {\n",
       "      const url = js_urls[i];\n",
       "      const escaped = encodeURI(url)\n",
       "      if (skip.indexOf(escaped) !== -1 || existing_scripts.indexOf(escaped) !== -1) {\n",
       "        if (!window.requirejs) {\n",
       "          on_load();\n",
       "        }\n",
       "        continue;\n",
       "      }\n",
       "      const element = document.createElement('script');\n",
       "      element.onload = on_load;\n",
       "      element.onerror = on_error;\n",
       "      element.async = false;\n",
       "      element.src = url;\n",
       "      console.debug(\"Bokeh: injecting script tag for BokehJS library: \", url);\n",
       "      document.head.appendChild(element);\n",
       "    }\n",
       "    for (let i = 0; i < js_modules.length; i++) {\n",
       "      const url = js_modules[i];\n",
       "      const escaped = encodeURI(url)\n",
       "      if (skip.indexOf(escaped) !== -1 || existing_scripts.indexOf(escaped) !== -1) {\n",
       "        if (!window.requirejs) {\n",
       "          on_load();\n",
       "        }\n",
       "        continue;\n",
       "      }\n",
       "      var element = document.createElement('script');\n",
       "      element.onload = on_load;\n",
       "      element.onerror = on_error;\n",
       "      element.async = false;\n",
       "      element.src = url;\n",
       "      element.type = \"module\";\n",
       "      console.debug(\"Bokeh: injecting script tag for BokehJS library: \", url);\n",
       "      document.head.appendChild(element);\n",
       "    }\n",
       "    for (const name in js_exports) {\n",
       "      const url = js_exports[name];\n",
       "      const escaped = encodeURI(url)\n",
       "      if (skip.indexOf(escaped) >= 0 || root[name] != null) {\n",
       "        if (!window.requirejs) {\n",
       "          on_load();\n",
       "        }\n",
       "        continue;\n",
       "      }\n",
       "      var element = document.createElement('script');\n",
       "      element.onerror = on_error;\n",
       "      element.async = false;\n",
       "      element.type = \"module\";\n",
       "      console.debug(\"Bokeh: injecting script tag for BokehJS library: \", url);\n",
       "      element.textContent = `\n",
       "      import ${name} from \"${url}\"\n",
       "      window.${name} = ${name}\n",
       "      window._bokeh_on_load()\n",
       "      `\n",
       "      document.head.appendChild(element);\n",
       "    }\n",
       "    if (!js_urls.length && !js_modules.length) {\n",
       "      on_load()\n",
       "    }\n",
       "  };\n",
       "\n",
       "  function inject_raw_css(css) {\n",
       "    const element = document.createElement(\"style\");\n",
       "    element.appendChild(document.createTextNode(css));\n",
       "    document.body.appendChild(element);\n",
       "  }\n",
       "\n",
       "  const js_urls = [\"https://cdnjs.cloudflare.com/ajax/libs/ace/1.4.11/ace.js\", \"https://cdnjs.cloudflare.com/ajax/libs/ace/1.4.11/ext-language_tools.js\", \"https://cdnjs.cloudflare.com/ajax/libs/ace/1.4.11/ext-modelist.js\", \"https://cdn.holoviz.org/panel/1.5.0/dist/bundled/reactiveesm/es-module-shims@^1.10.0/dist/es-module-shims.min.js\", \"https://cdn.holoviz.org/panel/1.5.0/dist/bundled/jsoneditor/jsoneditor@10.0.1/dist/jsoneditor.min.js\", \"https://cdn.bokeh.org/bokeh/release/bokeh-3.5.2.min.js\", \"https://cdn.bokeh.org/bokeh/release/bokeh-gl-3.5.2.min.js\", \"https://cdn.bokeh.org/bokeh/release/bokeh-widgets-3.5.2.min.js\", \"https://cdn.bokeh.org/bokeh/release/bokeh-tables-3.5.2.min.js\", \"https://cdn.holoviz.org/panel/1.5.0/dist/panel.min.js\"];\n",
       "  const js_modules = [];\n",
       "  const js_exports = {};\n",
       "  const css_urls = [\"https://cdn.holoviz.org/panel/1.5.0/dist/bundled/jsoneditor/jsoneditor@10.0.1/dist/jsoneditor.min.css?v=1.5.0\", \"https://cdn.holoviz.org/panel/1.5.0/dist/bundled/font-awesome/css/all.min.css\"];\n",
       "  const inline_js = [    function(Bokeh) {\n",
       "      Bokeh.set_log_level(\"info\");\n",
       "    },\n",
       "function(Bokeh) {} // ensure no trailing comma for IE\n",
       "  ];\n",
       "\n",
       "  function run_inline_js() {\n",
       "    if ((root.Bokeh !== undefined) || (force === true)) {\n",
       "      for (let i = 0; i < inline_js.length; i++) {\n",
       "        try {\n",
       "          inline_js[i].call(root, root.Bokeh);\n",
       "        } catch(e) {\n",
       "          if (!reloading) {\n",
       "            throw e;\n",
       "          }\n",
       "        }\n",
       "      }\n",
       "      // Cache old bokeh versions\n",
       "      if (Bokeh != undefined && !reloading) {\n",
       "        var NewBokeh = root.Bokeh;\n",
       "        if (Bokeh.versions === undefined) {\n",
       "          Bokeh.versions = new Map();\n",
       "        }\n",
       "        if (NewBokeh.version !== Bokeh.version) {\n",
       "          Bokeh.versions.set(NewBokeh.version, NewBokeh)\n",
       "        }\n",
       "        root.Bokeh = Bokeh;\n",
       "      }\n",
       "    } else if (Date.now() < root._bokeh_timeout) {\n",
       "      setTimeout(run_inline_js, 100);\n",
       "    } else if (!root._bokeh_failed_load) {\n",
       "      console.log(\"Bokeh: BokehJS failed to load within specified timeout.\");\n",
       "      root._bokeh_failed_load = true;\n",
       "    }\n",
       "    root._bokeh_is_initializing = false\n",
       "  }\n",
       "\n",
       "  function load_or_wait() {\n",
       "    // Implement a backoff loop that tries to ensure we do not load multiple\n",
       "    // versions of Bokeh and its dependencies at the same time.\n",
       "    // In recent versions we use the root._bokeh_is_initializing flag\n",
       "    // to determine whether there is an ongoing attempt to initialize\n",
       "    // bokeh, however for backward compatibility we also try to ensure\n",
       "    // that we do not start loading a newer (Panel>=1.0 and Bokeh>3) version\n",
       "    // before older versions are fully initialized.\n",
       "    if (root._bokeh_is_initializing && Date.now() > root._bokeh_timeout) {\n",
       "      // If the timeout and bokeh was not successfully loaded we reset\n",
       "      // everything and try loading again\n",
       "      root._bokeh_timeout = Date.now() + 5000;\n",
       "      root._bokeh_is_initializing = false;\n",
       "      root._bokeh_onload_callbacks = undefined;\n",
       "      root._bokeh_is_loading = 0\n",
       "      console.log(\"Bokeh: BokehJS was loaded multiple times but one version failed to initialize.\");\n",
       "      load_or_wait();\n",
       "    } else if (root._bokeh_is_initializing || (typeof root._bokeh_is_initializing === \"undefined\" && root._bokeh_onload_callbacks !== undefined)) {\n",
       "      setTimeout(load_or_wait, 100);\n",
       "    } else {\n",
       "      root._bokeh_is_initializing = true\n",
       "      root._bokeh_onload_callbacks = []\n",
       "      const bokeh_loaded = root.Bokeh != null && (root.Bokeh.version === py_version || (root.Bokeh.versions !== undefined && root.Bokeh.versions.has(py_version)));\n",
       "      if (!reloading && !bokeh_loaded) {\n",
       "        if (root.Bokeh) {\n",
       "          root.Bokeh = undefined;\n",
       "        }\n",
       "        console.debug(\"Bokeh: BokehJS not loaded, scheduling load and callback at\", now());\n",
       "      }\n",
       "      load_libs(css_urls, js_urls, js_modules, js_exports, function() {\n",
       "        console.debug(\"Bokeh: BokehJS plotting callback run at\", now());\n",
       "        run_inline_js();\n",
       "      });\n",
       "    }\n",
       "  }\n",
       "  // Give older versions of the autoload script a head-start to ensure\n",
       "  // they initialize before we start loading newer version.\n",
       "  setTimeout(load_or_wait, 100)\n",
       "}(window));"
      ],
      "application/vnd.holoviews_load.v0+json": "(function(root) {\n  function now() {\n    return new Date();\n  }\n\n  const force = true;\n  const py_version = '3.5.2'.replace('rc', '-rc.').replace('.dev', '-dev.');\n  const reloading = false;\n  const Bokeh = root.Bokeh;\n\n  // Set a timeout for this load but only if we are not already initializing\n  if (typeof (root._bokeh_timeout) === \"undefined\" || (force || !root._bokeh_is_initializing)) {\n    root._bokeh_timeout = Date.now() + 5000;\n    root._bokeh_failed_load = false;\n  }\n\n  function run_callbacks() {\n    try {\n      root._bokeh_onload_callbacks.forEach(function(callback) {\n        if (callback != null)\n          callback();\n      });\n    } finally {\n      delete root._bokeh_onload_callbacks;\n    }\n    console.debug(\"Bokeh: all callbacks have finished\");\n  }\n\n  function load_libs(css_urls, js_urls, js_modules, js_exports, callback) {\n    if (css_urls == null) css_urls = [];\n    if (js_urls == null) js_urls = [];\n    if (js_modules == null) js_modules = [];\n    if (js_exports == null) js_exports = {};\n\n    root._bokeh_onload_callbacks.push(callback);\n\n    if (root._bokeh_is_loading > 0) {\n      // Don't load bokeh if it is still initializing\n      console.debug(\"Bokeh: BokehJS is being loaded, scheduling callback at\", now());\n      return null;\n    } else if (js_urls.length === 0 && js_modules.length === 0 && Object.keys(js_exports).length === 0) {\n      // There is nothing to load\n      run_callbacks();\n      return null;\n    }\n\n    function on_load() {\n      root._bokeh_is_loading--;\n      if (root._bokeh_is_loading === 0) {\n        console.debug(\"Bokeh: all BokehJS libraries/stylesheets loaded\");\n        run_callbacks()\n      }\n    }\n    window._bokeh_on_load = on_load\n\n    function on_error(e) {\n      const src_el = e.srcElement\n      console.error(\"failed to load \" + (src_el.href || src_el.src));\n    }\n\n    const skip = [];\n    if (window.requirejs) {\n      window.requirejs.config({'packages': {}, 'paths': {'ace': '//cdnjs.cloudflare.com/ajax/libs/ace/1.4.7', 'jsoneditor': '//cdn.jsdelivr.net/npm/jsoneditor@10.0.1/dist/jsoneditor.min'}, 'shim': {'ace/ext-language_tools': {'deps': ['ace/ace']}, 'ace/ext-modelist': {'deps': ['ace/ace']}, 'jsoneditor': {'exports': 'JSONEditor'}}});\n      require([\"ace/ace\"], function(ace) {\n        window.ace = ace\n        on_load()\n      })\n      require([\"ace/ext-language_tools\"], function() {\n        on_load()\n      })\n      require([\"ace/ext-modelist\"], function() {\n        on_load()\n      })\n      require([\"jsoneditor\"], function(JSONEditor) {\n        window.JSONEditor = JSONEditor\n        on_load()\n      })\n      root._bokeh_is_loading = css_urls.length + 4;\n    } else {\n      root._bokeh_is_loading = css_urls.length + js_urls.length + js_modules.length + Object.keys(js_exports).length;\n    }\n\n    const existing_stylesheets = []\n    const links = document.getElementsByTagName('link')\n    for (let i = 0; i < links.length; i++) {\n      const link = links[i]\n      if (link.href != null) {\n        existing_stylesheets.push(link.href)\n      }\n    }\n    for (let i = 0; i < css_urls.length; i++) {\n      const url = css_urls[i];\n      const escaped = encodeURI(url)\n      if (existing_stylesheets.indexOf(escaped) !== -1) {\n        on_load()\n        continue;\n      }\n      const element = document.createElement(\"link\");\n      element.onload = on_load;\n      element.onerror = on_error;\n      element.rel = \"stylesheet\";\n      element.type = \"text/css\";\n      element.href = url;\n      console.debug(\"Bokeh: injecting link tag for BokehJS stylesheet: \", url);\n      document.body.appendChild(element);\n    }    if (((window.ace !== undefined) && (!(window.ace instanceof HTMLElement))) || window.requirejs) {\n      var urls = ['https://cdnjs.cloudflare.com/ajax/libs/ace/1.4.11/ace.js', 'https://cdnjs.cloudflare.com/ajax/libs/ace/1.4.11/ext-language_tools.js', 'https://cdnjs.cloudflare.com/ajax/libs/ace/1.4.11/ext-modelist.js'];\n      for (var i = 0; i < urls.length; i++) {\n        skip.push(encodeURI(urls[i]))\n      }\n    }    if (((window.JSONEditor !== undefined) && (!(window.JSONEditor instanceof HTMLElement))) || window.requirejs) {\n      var urls = ['https://cdn.holoviz.org/panel/1.5.0/dist/bundled/jsoneditor/jsoneditor@10.0.1/dist/jsoneditor.min.js'];\n      for (var i = 0; i < urls.length; i++) {\n        skip.push(encodeURI(urls[i]))\n      }\n    }    var existing_scripts = []\n    const scripts = document.getElementsByTagName('script')\n    for (let i = 0; i < scripts.length; i++) {\n      var script = scripts[i]\n      if (script.src != null) {\n        existing_scripts.push(script.src)\n      }\n    }\n    for (let i = 0; i < js_urls.length; i++) {\n      const url = js_urls[i];\n      const escaped = encodeURI(url)\n      if (skip.indexOf(escaped) !== -1 || existing_scripts.indexOf(escaped) !== -1) {\n        if (!window.requirejs) {\n          on_load();\n        }\n        continue;\n      }\n      const element = document.createElement('script');\n      element.onload = on_load;\n      element.onerror = on_error;\n      element.async = false;\n      element.src = url;\n      console.debug(\"Bokeh: injecting script tag for BokehJS library: \", url);\n      document.head.appendChild(element);\n    }\n    for (let i = 0; i < js_modules.length; i++) {\n      const url = js_modules[i];\n      const escaped = encodeURI(url)\n      if (skip.indexOf(escaped) !== -1 || existing_scripts.indexOf(escaped) !== -1) {\n        if (!window.requirejs) {\n          on_load();\n        }\n        continue;\n      }\n      var element = document.createElement('script');\n      element.onload = on_load;\n      element.onerror = on_error;\n      element.async = false;\n      element.src = url;\n      element.type = \"module\";\n      console.debug(\"Bokeh: injecting script tag for BokehJS library: \", url);\n      document.head.appendChild(element);\n    }\n    for (const name in js_exports) {\n      const url = js_exports[name];\n      const escaped = encodeURI(url)\n      if (skip.indexOf(escaped) >= 0 || root[name] != null) {\n        if (!window.requirejs) {\n          on_load();\n        }\n        continue;\n      }\n      var element = document.createElement('script');\n      element.onerror = on_error;\n      element.async = false;\n      element.type = \"module\";\n      console.debug(\"Bokeh: injecting script tag for BokehJS library: \", url);\n      element.textContent = `\n      import ${name} from \"${url}\"\n      window.${name} = ${name}\n      window._bokeh_on_load()\n      `\n      document.head.appendChild(element);\n    }\n    if (!js_urls.length && !js_modules.length) {\n      on_load()\n    }\n  };\n\n  function inject_raw_css(css) {\n    const element = document.createElement(\"style\");\n    element.appendChild(document.createTextNode(css));\n    document.body.appendChild(element);\n  }\n\n  const js_urls = [\"https://cdnjs.cloudflare.com/ajax/libs/ace/1.4.11/ace.js\", \"https://cdnjs.cloudflare.com/ajax/libs/ace/1.4.11/ext-language_tools.js\", \"https://cdnjs.cloudflare.com/ajax/libs/ace/1.4.11/ext-modelist.js\", \"https://cdn.holoviz.org/panel/1.5.0/dist/bundled/reactiveesm/es-module-shims@^1.10.0/dist/es-module-shims.min.js\", \"https://cdn.holoviz.org/panel/1.5.0/dist/bundled/jsoneditor/jsoneditor@10.0.1/dist/jsoneditor.min.js\", \"https://cdn.bokeh.org/bokeh/release/bokeh-3.5.2.min.js\", \"https://cdn.bokeh.org/bokeh/release/bokeh-gl-3.5.2.min.js\", \"https://cdn.bokeh.org/bokeh/release/bokeh-widgets-3.5.2.min.js\", \"https://cdn.bokeh.org/bokeh/release/bokeh-tables-3.5.2.min.js\", \"https://cdn.holoviz.org/panel/1.5.0/dist/panel.min.js\"];\n  const js_modules = [];\n  const js_exports = {};\n  const css_urls = [\"https://cdn.holoviz.org/panel/1.5.0/dist/bundled/jsoneditor/jsoneditor@10.0.1/dist/jsoneditor.min.css?v=1.5.0\", \"https://cdn.holoviz.org/panel/1.5.0/dist/bundled/font-awesome/css/all.min.css\"];\n  const inline_js = [    function(Bokeh) {\n      Bokeh.set_log_level(\"info\");\n    },\nfunction(Bokeh) {} // ensure no trailing comma for IE\n  ];\n\n  function run_inline_js() {\n    if ((root.Bokeh !== undefined) || (force === true)) {\n      for (let i = 0; i < inline_js.length; i++) {\n        try {\n          inline_js[i].call(root, root.Bokeh);\n        } catch(e) {\n          if (!reloading) {\n            throw e;\n          }\n        }\n      }\n      // Cache old bokeh versions\n      if (Bokeh != undefined && !reloading) {\n        var NewBokeh = root.Bokeh;\n        if (Bokeh.versions === undefined) {\n          Bokeh.versions = new Map();\n        }\n        if (NewBokeh.version !== Bokeh.version) {\n          Bokeh.versions.set(NewBokeh.version, NewBokeh)\n        }\n        root.Bokeh = Bokeh;\n      }\n    } else if (Date.now() < root._bokeh_timeout) {\n      setTimeout(run_inline_js, 100);\n    } else if (!root._bokeh_failed_load) {\n      console.log(\"Bokeh: BokehJS failed to load within specified timeout.\");\n      root._bokeh_failed_load = true;\n    }\n    root._bokeh_is_initializing = false\n  }\n\n  function load_or_wait() {\n    // Implement a backoff loop that tries to ensure we do not load multiple\n    // versions of Bokeh and its dependencies at the same time.\n    // In recent versions we use the root._bokeh_is_initializing flag\n    // to determine whether there is an ongoing attempt to initialize\n    // bokeh, however for backward compatibility we also try to ensure\n    // that we do not start loading a newer (Panel>=1.0 and Bokeh>3) version\n    // before older versions are fully initialized.\n    if (root._bokeh_is_initializing && Date.now() > root._bokeh_timeout) {\n      // If the timeout and bokeh was not successfully loaded we reset\n      // everything and try loading again\n      root._bokeh_timeout = Date.now() + 5000;\n      root._bokeh_is_initializing = false;\n      root._bokeh_onload_callbacks = undefined;\n      root._bokeh_is_loading = 0\n      console.log(\"Bokeh: BokehJS was loaded multiple times but one version failed to initialize.\");\n      load_or_wait();\n    } else if (root._bokeh_is_initializing || (typeof root._bokeh_is_initializing === \"undefined\" && root._bokeh_onload_callbacks !== undefined)) {\n      setTimeout(load_or_wait, 100);\n    } else {\n      root._bokeh_is_initializing = true\n      root._bokeh_onload_callbacks = []\n      const bokeh_loaded = root.Bokeh != null && (root.Bokeh.version === py_version || (root.Bokeh.versions !== undefined && root.Bokeh.versions.has(py_version)));\n      if (!reloading && !bokeh_loaded) {\n        if (root.Bokeh) {\n          root.Bokeh = undefined;\n        }\n        console.debug(\"Bokeh: BokehJS not loaded, scheduling load and callback at\", now());\n      }\n      load_libs(css_urls, js_urls, js_modules, js_exports, function() {\n        console.debug(\"Bokeh: BokehJS plotting callback run at\", now());\n        run_inline_js();\n      });\n    }\n  }\n  // Give older versions of the autoload script a head-start to ensure\n  // they initialize before we start loading newer version.\n  setTimeout(load_or_wait, 100)\n}(window));"
     },
     "metadata": {},
     "output_type": "display_data"
    },
    {
     "data": {
      "application/javascript": [
       "\n",
       "if ((window.PyViz === undefined) || (window.PyViz instanceof HTMLElement)) {\n",
       "  window.PyViz = {comms: {}, comm_status:{}, kernels:{}, receivers: {}, plot_index: []}\n",
       "}\n",
       "\n",
       "\n",
       "    function JupyterCommManager() {\n",
       "    }\n",
       "\n",
       "    JupyterCommManager.prototype.register_target = function(plot_id, comm_id, msg_handler) {\n",
       "      if (window.comm_manager || ((window.Jupyter !== undefined) && (Jupyter.notebook.kernel != null))) {\n",
       "        var comm_manager = window.comm_manager || Jupyter.notebook.kernel.comm_manager;\n",
       "        comm_manager.register_target(comm_id, function(comm) {\n",
       "          comm.on_msg(msg_handler);\n",
       "        });\n",
       "      } else if ((plot_id in window.PyViz.kernels) && (window.PyViz.kernels[plot_id])) {\n",
       "        window.PyViz.kernels[plot_id].registerCommTarget(comm_id, function(comm) {\n",
       "          comm.onMsg = msg_handler;\n",
       "        });\n",
       "      } else if (typeof google != 'undefined' && google.colab.kernel != null) {\n",
       "        google.colab.kernel.comms.registerTarget(comm_id, (comm) => {\n",
       "          var messages = comm.messages[Symbol.asyncIterator]();\n",
       "          function processIteratorResult(result) {\n",
       "            var message = result.value;\n",
       "            console.log(message)\n",
       "            var content = {data: message.data, comm_id};\n",
       "            var buffers = []\n",
       "            for (var buffer of message.buffers || []) {\n",
       "              buffers.push(new DataView(buffer))\n",
       "            }\n",
       "            var metadata = message.metadata || {};\n",
       "            var msg = {content, buffers, metadata}\n",
       "            msg_handler(msg);\n",
       "            return messages.next().then(processIteratorResult);\n",
       "          }\n",
       "          return messages.next().then(processIteratorResult);\n",
       "        })\n",
       "      }\n",
       "    }\n",
       "\n",
       "    JupyterCommManager.prototype.get_client_comm = function(plot_id, comm_id, msg_handler) {\n",
       "      if (comm_id in window.PyViz.comms) {\n",
       "        return window.PyViz.comms[comm_id];\n",
       "      } else if (window.comm_manager || ((window.Jupyter !== undefined) && (Jupyter.notebook.kernel != null))) {\n",
       "        var comm_manager = window.comm_manager || Jupyter.notebook.kernel.comm_manager;\n",
       "        var comm = comm_manager.new_comm(comm_id, {}, {}, {}, comm_id);\n",
       "        if (msg_handler) {\n",
       "          comm.on_msg(msg_handler);\n",
       "        }\n",
       "      } else if ((plot_id in window.PyViz.kernels) && (window.PyViz.kernels[plot_id])) {\n",
       "        var comm = window.PyViz.kernels[plot_id].connectToComm(comm_id);\n",
       "        comm.open();\n",
       "        if (msg_handler) {\n",
       "          comm.onMsg = msg_handler;\n",
       "        }\n",
       "      } else if (typeof google != 'undefined' && google.colab.kernel != null) {\n",
       "        var comm_promise = google.colab.kernel.comms.open(comm_id)\n",
       "        comm_promise.then((comm) => {\n",
       "          window.PyViz.comms[comm_id] = comm;\n",
       "          if (msg_handler) {\n",
       "            var messages = comm.messages[Symbol.asyncIterator]();\n",
       "            function processIteratorResult(result) {\n",
       "              var message = result.value;\n",
       "              var content = {data: message.data};\n",
       "              var metadata = message.metadata || {comm_id};\n",
       "              var msg = {content, metadata}\n",
       "              msg_handler(msg);\n",
       "              return messages.next().then(processIteratorResult);\n",
       "            }\n",
       "            return messages.next().then(processIteratorResult);\n",
       "          }\n",
       "        }) \n",
       "        var sendClosure = (data, metadata, buffers, disposeOnDone) => {\n",
       "          return comm_promise.then((comm) => {\n",
       "            comm.send(data, metadata, buffers, disposeOnDone);\n",
       "          });\n",
       "        };\n",
       "        var comm = {\n",
       "          send: sendClosure\n",
       "        };\n",
       "      }\n",
       "      window.PyViz.comms[comm_id] = comm;\n",
       "      return comm;\n",
       "    }\n",
       "    window.PyViz.comm_manager = new JupyterCommManager();\n",
       "    \n",
       "\n",
       "\n",
       "var JS_MIME_TYPE = 'application/javascript';\n",
       "var HTML_MIME_TYPE = 'text/html';\n",
       "var EXEC_MIME_TYPE = 'application/vnd.holoviews_exec.v0+json';\n",
       "var CLASS_NAME = 'output';\n",
       "\n",
       "/**\n",
       " * Render data to the DOM node\n",
       " */\n",
       "function render(props, node) {\n",
       "  var div = document.createElement(\"div\");\n",
       "  var script = document.createElement(\"script\");\n",
       "  node.appendChild(div);\n",
       "  node.appendChild(script);\n",
       "}\n",
       "\n",
       "/**\n",
       " * Handle when a new output is added\n",
       " */\n",
       "function handle_add_output(event, handle) {\n",
       "  var output_area = handle.output_area;\n",
       "  var output = handle.output;\n",
       "  if ((output.data == undefined) || (!output.data.hasOwnProperty(EXEC_MIME_TYPE))) {\n",
       "    return\n",
       "  }\n",
       "  var id = output.metadata[EXEC_MIME_TYPE][\"id\"];\n",
       "  var toinsert = output_area.element.find(\".\" + CLASS_NAME.split(' ')[0]);\n",
       "  if (id !== undefined) {\n",
       "    var nchildren = toinsert.length;\n",
       "    var html_node = toinsert[nchildren-1].children[0];\n",
       "    html_node.innerHTML = output.data[HTML_MIME_TYPE];\n",
       "    var scripts = [];\n",
       "    var nodelist = html_node.querySelectorAll(\"script\");\n",
       "    for (var i in nodelist) {\n",
       "      if (nodelist.hasOwnProperty(i)) {\n",
       "        scripts.push(nodelist[i])\n",
       "      }\n",
       "    }\n",
       "\n",
       "    scripts.forEach( function (oldScript) {\n",
       "      var newScript = document.createElement(\"script\");\n",
       "      var attrs = [];\n",
       "      var nodemap = oldScript.attributes;\n",
       "      for (var j in nodemap) {\n",
       "        if (nodemap.hasOwnProperty(j)) {\n",
       "          attrs.push(nodemap[j])\n",
       "        }\n",
       "      }\n",
       "      attrs.forEach(function(attr) { newScript.setAttribute(attr.name, attr.value) });\n",
       "      newScript.appendChild(document.createTextNode(oldScript.innerHTML));\n",
       "      oldScript.parentNode.replaceChild(newScript, oldScript);\n",
       "    });\n",
       "    if (JS_MIME_TYPE in output.data) {\n",
       "      toinsert[nchildren-1].children[1].textContent = output.data[JS_MIME_TYPE];\n",
       "    }\n",
       "    output_area._hv_plot_id = id;\n",
       "    if ((window.Bokeh !== undefined) && (id in Bokeh.index)) {\n",
       "      window.PyViz.plot_index[id] = Bokeh.index[id];\n",
       "    } else {\n",
       "      window.PyViz.plot_index[id] = null;\n",
       "    }\n",
       "  } else if (output.metadata[EXEC_MIME_TYPE][\"server_id\"] !== undefined) {\n",
       "    var bk_div = document.createElement(\"div\");\n",
       "    bk_div.innerHTML = output.data[HTML_MIME_TYPE];\n",
       "    var script_attrs = bk_div.children[0].attributes;\n",
       "    for (var i = 0; i < script_attrs.length; i++) {\n",
       "      toinsert[toinsert.length - 1].childNodes[1].setAttribute(script_attrs[i].name, script_attrs[i].value);\n",
       "    }\n",
       "    // store reference to server id on output_area\n",
       "    output_area._bokeh_server_id = output.metadata[EXEC_MIME_TYPE][\"server_id\"];\n",
       "  }\n",
       "}\n",
       "\n",
       "/**\n",
       " * Handle when an output is cleared or removed\n",
       " */\n",
       "function handle_clear_output(event, handle) {\n",
       "  var id = handle.cell.output_area._hv_plot_id;\n",
       "  var server_id = handle.cell.output_area._bokeh_server_id;\n",
       "  if (((id === undefined) || !(id in PyViz.plot_index)) && (server_id !== undefined)) { return; }\n",
       "  var comm = window.PyViz.comm_manager.get_client_comm(\"hv-extension-comm\", \"hv-extension-comm\", function () {});\n",
       "  if (server_id !== null) {\n",
       "    comm.send({event_type: 'server_delete', 'id': server_id});\n",
       "    return;\n",
       "  } else if (comm !== null) {\n",
       "    comm.send({event_type: 'delete', 'id': id});\n",
       "  }\n",
       "  delete PyViz.plot_index[id];\n",
       "  if ((window.Bokeh !== undefined) & (id in window.Bokeh.index)) {\n",
       "    var doc = window.Bokeh.index[id].model.document\n",
       "    doc.clear();\n",
       "    const i = window.Bokeh.documents.indexOf(doc);\n",
       "    if (i > -1) {\n",
       "      window.Bokeh.documents.splice(i, 1);\n",
       "    }\n",
       "  }\n",
       "}\n",
       "\n",
       "/**\n",
       " * Handle kernel restart event\n",
       " */\n",
       "function handle_kernel_cleanup(event, handle) {\n",
       "  delete PyViz.comms[\"hv-extension-comm\"];\n",
       "  window.PyViz.plot_index = {}\n",
       "}\n",
       "\n",
       "/**\n",
       " * Handle update_display_data messages\n",
       " */\n",
       "function handle_update_output(event, handle) {\n",
       "  handle_clear_output(event, {cell: {output_area: handle.output_area}})\n",
       "  handle_add_output(event, handle)\n",
       "}\n",
       "\n",
       "function register_renderer(events, OutputArea) {\n",
       "  function append_mime(data, metadata, element) {\n",
       "    // create a DOM node to render to\n",
       "    var toinsert = this.create_output_subarea(\n",
       "    metadata,\n",
       "    CLASS_NAME,\n",
       "    EXEC_MIME_TYPE\n",
       "    );\n",
       "    this.keyboard_manager.register_events(toinsert);\n",
       "    // Render to node\n",
       "    var props = {data: data, metadata: metadata[EXEC_MIME_TYPE]};\n",
       "    render(props, toinsert[0]);\n",
       "    element.append(toinsert);\n",
       "    return toinsert\n",
       "  }\n",
       "\n",
       "  events.on('output_added.OutputArea', handle_add_output);\n",
       "  events.on('output_updated.OutputArea', handle_update_output);\n",
       "  events.on('clear_output.CodeCell', handle_clear_output);\n",
       "  events.on('delete.Cell', handle_clear_output);\n",
       "  events.on('kernel_ready.Kernel', handle_kernel_cleanup);\n",
       "\n",
       "  OutputArea.prototype.register_mime_type(EXEC_MIME_TYPE, append_mime, {\n",
       "    safe: true,\n",
       "    index: 0\n",
       "  });\n",
       "}\n",
       "\n",
       "if (window.Jupyter !== undefined) {\n",
       "  try {\n",
       "    var events = require('base/js/events');\n",
       "    var OutputArea = require('notebook/js/outputarea').OutputArea;\n",
       "    if (OutputArea.prototype.mime_types().indexOf(EXEC_MIME_TYPE) == -1) {\n",
       "      register_renderer(events, OutputArea);\n",
       "    }\n",
       "  } catch(err) {\n",
       "  }\n",
       "}\n"
      ],
      "application/vnd.holoviews_load.v0+json": "\nif ((window.PyViz === undefined) || (window.PyViz instanceof HTMLElement)) {\n  window.PyViz = {comms: {}, comm_status:{}, kernels:{}, receivers: {}, plot_index: []}\n}\n\n\n    function JupyterCommManager() {\n    }\n\n    JupyterCommManager.prototype.register_target = function(plot_id, comm_id, msg_handler) {\n      if (window.comm_manager || ((window.Jupyter !== undefined) && (Jupyter.notebook.kernel != null))) {\n        var comm_manager = window.comm_manager || Jupyter.notebook.kernel.comm_manager;\n        comm_manager.register_target(comm_id, function(comm) {\n          comm.on_msg(msg_handler);\n        });\n      } else if ((plot_id in window.PyViz.kernels) && (window.PyViz.kernels[plot_id])) {\n        window.PyViz.kernels[plot_id].registerCommTarget(comm_id, function(comm) {\n          comm.onMsg = msg_handler;\n        });\n      } else if (typeof google != 'undefined' && google.colab.kernel != null) {\n        google.colab.kernel.comms.registerTarget(comm_id, (comm) => {\n          var messages = comm.messages[Symbol.asyncIterator]();\n          function processIteratorResult(result) {\n            var message = result.value;\n            console.log(message)\n            var content = {data: message.data, comm_id};\n            var buffers = []\n            for (var buffer of message.buffers || []) {\n              buffers.push(new DataView(buffer))\n            }\n            var metadata = message.metadata || {};\n            var msg = {content, buffers, metadata}\n            msg_handler(msg);\n            return messages.next().then(processIteratorResult);\n          }\n          return messages.next().then(processIteratorResult);\n        })\n      }\n    }\n\n    JupyterCommManager.prototype.get_client_comm = function(plot_id, comm_id, msg_handler) {\n      if (comm_id in window.PyViz.comms) {\n        return window.PyViz.comms[comm_id];\n      } else if (window.comm_manager || ((window.Jupyter !== undefined) && (Jupyter.notebook.kernel != null))) {\n        var comm_manager = window.comm_manager || Jupyter.notebook.kernel.comm_manager;\n        var comm = comm_manager.new_comm(comm_id, {}, {}, {}, comm_id);\n        if (msg_handler) {\n          comm.on_msg(msg_handler);\n        }\n      } else if ((plot_id in window.PyViz.kernels) && (window.PyViz.kernels[plot_id])) {\n        var comm = window.PyViz.kernels[plot_id].connectToComm(comm_id);\n        comm.open();\n        if (msg_handler) {\n          comm.onMsg = msg_handler;\n        }\n      } else if (typeof google != 'undefined' && google.colab.kernel != null) {\n        var comm_promise = google.colab.kernel.comms.open(comm_id)\n        comm_promise.then((comm) => {\n          window.PyViz.comms[comm_id] = comm;\n          if (msg_handler) {\n            var messages = comm.messages[Symbol.asyncIterator]();\n            function processIteratorResult(result) {\n              var message = result.value;\n              var content = {data: message.data};\n              var metadata = message.metadata || {comm_id};\n              var msg = {content, metadata}\n              msg_handler(msg);\n              return messages.next().then(processIteratorResult);\n            }\n            return messages.next().then(processIteratorResult);\n          }\n        }) \n        var sendClosure = (data, metadata, buffers, disposeOnDone) => {\n          return comm_promise.then((comm) => {\n            comm.send(data, metadata, buffers, disposeOnDone);\n          });\n        };\n        var comm = {\n          send: sendClosure\n        };\n      }\n      window.PyViz.comms[comm_id] = comm;\n      return comm;\n    }\n    window.PyViz.comm_manager = new JupyterCommManager();\n    \n\n\nvar JS_MIME_TYPE = 'application/javascript';\nvar HTML_MIME_TYPE = 'text/html';\nvar EXEC_MIME_TYPE = 'application/vnd.holoviews_exec.v0+json';\nvar CLASS_NAME = 'output';\n\n/**\n * Render data to the DOM node\n */\nfunction render(props, node) {\n  var div = document.createElement(\"div\");\n  var script = document.createElement(\"script\");\n  node.appendChild(div);\n  node.appendChild(script);\n}\n\n/**\n * Handle when a new output is added\n */\nfunction handle_add_output(event, handle) {\n  var output_area = handle.output_area;\n  var output = handle.output;\n  if ((output.data == undefined) || (!output.data.hasOwnProperty(EXEC_MIME_TYPE))) {\n    return\n  }\n  var id = output.metadata[EXEC_MIME_TYPE][\"id\"];\n  var toinsert = output_area.element.find(\".\" + CLASS_NAME.split(' ')[0]);\n  if (id !== undefined) {\n    var nchildren = toinsert.length;\n    var html_node = toinsert[nchildren-1].children[0];\n    html_node.innerHTML = output.data[HTML_MIME_TYPE];\n    var scripts = [];\n    var nodelist = html_node.querySelectorAll(\"script\");\n    for (var i in nodelist) {\n      if (nodelist.hasOwnProperty(i)) {\n        scripts.push(nodelist[i])\n      }\n    }\n\n    scripts.forEach( function (oldScript) {\n      var newScript = document.createElement(\"script\");\n      var attrs = [];\n      var nodemap = oldScript.attributes;\n      for (var j in nodemap) {\n        if (nodemap.hasOwnProperty(j)) {\n          attrs.push(nodemap[j])\n        }\n      }\n      attrs.forEach(function(attr) { newScript.setAttribute(attr.name, attr.value) });\n      newScript.appendChild(document.createTextNode(oldScript.innerHTML));\n      oldScript.parentNode.replaceChild(newScript, oldScript);\n    });\n    if (JS_MIME_TYPE in output.data) {\n      toinsert[nchildren-1].children[1].textContent = output.data[JS_MIME_TYPE];\n    }\n    output_area._hv_plot_id = id;\n    if ((window.Bokeh !== undefined) && (id in Bokeh.index)) {\n      window.PyViz.plot_index[id] = Bokeh.index[id];\n    } else {\n      window.PyViz.plot_index[id] = null;\n    }\n  } else if (output.metadata[EXEC_MIME_TYPE][\"server_id\"] !== undefined) {\n    var bk_div = document.createElement(\"div\");\n    bk_div.innerHTML = output.data[HTML_MIME_TYPE];\n    var script_attrs = bk_div.children[0].attributes;\n    for (var i = 0; i < script_attrs.length; i++) {\n      toinsert[toinsert.length - 1].childNodes[1].setAttribute(script_attrs[i].name, script_attrs[i].value);\n    }\n    // store reference to server id on output_area\n    output_area._bokeh_server_id = output.metadata[EXEC_MIME_TYPE][\"server_id\"];\n  }\n}\n\n/**\n * Handle when an output is cleared or removed\n */\nfunction handle_clear_output(event, handle) {\n  var id = handle.cell.output_area._hv_plot_id;\n  var server_id = handle.cell.output_area._bokeh_server_id;\n  if (((id === undefined) || !(id in PyViz.plot_index)) && (server_id !== undefined)) { return; }\n  var comm = window.PyViz.comm_manager.get_client_comm(\"hv-extension-comm\", \"hv-extension-comm\", function () {});\n  if (server_id !== null) {\n    comm.send({event_type: 'server_delete', 'id': server_id});\n    return;\n  } else if (comm !== null) {\n    comm.send({event_type: 'delete', 'id': id});\n  }\n  delete PyViz.plot_index[id];\n  if ((window.Bokeh !== undefined) & (id in window.Bokeh.index)) {\n    var doc = window.Bokeh.index[id].model.document\n    doc.clear();\n    const i = window.Bokeh.documents.indexOf(doc);\n    if (i > -1) {\n      window.Bokeh.documents.splice(i, 1);\n    }\n  }\n}\n\n/**\n * Handle kernel restart event\n */\nfunction handle_kernel_cleanup(event, handle) {\n  delete PyViz.comms[\"hv-extension-comm\"];\n  window.PyViz.plot_index = {}\n}\n\n/**\n * Handle update_display_data messages\n */\nfunction handle_update_output(event, handle) {\n  handle_clear_output(event, {cell: {output_area: handle.output_area}})\n  handle_add_output(event, handle)\n}\n\nfunction register_renderer(events, OutputArea) {\n  function append_mime(data, metadata, element) {\n    // create a DOM node to render to\n    var toinsert = this.create_output_subarea(\n    metadata,\n    CLASS_NAME,\n    EXEC_MIME_TYPE\n    );\n    this.keyboard_manager.register_events(toinsert);\n    // Render to node\n    var props = {data: data, metadata: metadata[EXEC_MIME_TYPE]};\n    render(props, toinsert[0]);\n    element.append(toinsert);\n    return toinsert\n  }\n\n  events.on('output_added.OutputArea', handle_add_output);\n  events.on('output_updated.OutputArea', handle_update_output);\n  events.on('clear_output.CodeCell', handle_clear_output);\n  events.on('delete.Cell', handle_clear_output);\n  events.on('kernel_ready.Kernel', handle_kernel_cleanup);\n\n  OutputArea.prototype.register_mime_type(EXEC_MIME_TYPE, append_mime, {\n    safe: true,\n    index: 0\n  });\n}\n\nif (window.Jupyter !== undefined) {\n  try {\n    var events = require('base/js/events');\n    var OutputArea = require('notebook/js/outputarea').OutputArea;\n    if (OutputArea.prototype.mime_types().indexOf(EXEC_MIME_TYPE) == -1) {\n      register_renderer(events, OutputArea);\n    }\n  } catch(err) {\n  }\n}\n"
     },
     "metadata": {},
     "output_type": "display_data"
    },
    {
     "data": {
      "application/vnd.holoviews_exec.v0+json": "",
      "text/html": [
       "<div id='97899483-e6b0-4234-bd87-ca3191ca6ecb'>\n",
       "  <div id=\"c2fb6a32-220d-4ec5-b7e8-9e0f2ab40546\" data-root-id=\"97899483-e6b0-4234-bd87-ca3191ca6ecb\" style=\"display: contents;\"></div>\n",
       "</div>\n",
       "<script type=\"application/javascript\">(function(root) {\n",
       "  var docs_json = {\"f1e6cfcc-41ed-42ab-a748-a5cec4426e61\":{\"version\":\"3.5.2\",\"title\":\"Bokeh Application\",\"roots\":[{\"type\":\"object\",\"name\":\"panel.models.browser.BrowserInfo\",\"id\":\"97899483-e6b0-4234-bd87-ca3191ca6ecb\"},{\"type\":\"object\",\"name\":\"panel.models.comm_manager.CommManager\",\"id\":\"3182ce64-493b-49bc-9d0b-d4fa1185e1af\",\"attributes\":{\"plot_id\":\"97899483-e6b0-4234-bd87-ca3191ca6ecb\",\"comm_id\":\"623c574137b3490bbbc77cb376b04a84\",\"client_comm_id\":\"f3ce2f968e6c4fb7ac2a7db5bb133f32\"}}],\"defs\":[{\"type\":\"model\",\"name\":\"ReactiveHTML1\"},{\"type\":\"model\",\"name\":\"FlexBox1\",\"properties\":[{\"name\":\"align_content\",\"kind\":\"Any\",\"default\":\"flex-start\"},{\"name\":\"align_items\",\"kind\":\"Any\",\"default\":\"flex-start\"},{\"name\":\"flex_direction\",\"kind\":\"Any\",\"default\":\"row\"},{\"name\":\"flex_wrap\",\"kind\":\"Any\",\"default\":\"wrap\"},{\"name\":\"gap\",\"kind\":\"Any\",\"default\":\"\"},{\"name\":\"justify_content\",\"kind\":\"Any\",\"default\":\"flex-start\"}]},{\"type\":\"model\",\"name\":\"FloatPanel1\",\"properties\":[{\"name\":\"config\",\"kind\":\"Any\",\"default\":{\"type\":\"map\"}},{\"name\":\"contained\",\"kind\":\"Any\",\"default\":true},{\"name\":\"position\",\"kind\":\"Any\",\"default\":\"right-top\"},{\"name\":\"offsetx\",\"kind\":\"Any\",\"default\":null},{\"name\":\"offsety\",\"kind\":\"Any\",\"default\":null},{\"name\":\"theme\",\"kind\":\"Any\",\"default\":\"primary\"},{\"name\":\"status\",\"kind\":\"Any\",\"default\":\"normalized\"}]},{\"type\":\"model\",\"name\":\"GridStack1\",\"properties\":[{\"name\":\"mode\",\"kind\":\"Any\",\"default\":\"warn\"},{\"name\":\"ncols\",\"kind\":\"Any\",\"default\":null},{\"name\":\"nrows\",\"kind\":\"Any\",\"default\":null},{\"name\":\"allow_resize\",\"kind\":\"Any\",\"default\":true},{\"name\":\"allow_drag\",\"kind\":\"Any\",\"default\":true},{\"name\":\"state\",\"kind\":\"Any\",\"default\":[]}]},{\"type\":\"model\",\"name\":\"drag1\",\"properties\":[{\"name\":\"slider_width\",\"kind\":\"Any\",\"default\":5},{\"name\":\"slider_color\",\"kind\":\"Any\",\"default\":\"black\"},{\"name\":\"value\",\"kind\":\"Any\",\"default\":50}]},{\"type\":\"model\",\"name\":\"click1\",\"properties\":[{\"name\":\"terminal_output\",\"kind\":\"Any\",\"default\":\"\"},{\"name\":\"debug_name\",\"kind\":\"Any\",\"default\":\"\"},{\"name\":\"clears\",\"kind\":\"Any\",\"default\":0}]},{\"type\":\"model\",\"name\":\"FastWrapper1\",\"properties\":[{\"name\":\"object\",\"kind\":\"Any\",\"default\":null},{\"name\":\"style\",\"kind\":\"Any\",\"default\":null}]},{\"type\":\"model\",\"name\":\"NotificationAreaBase1\",\"properties\":[{\"name\":\"js_events\",\"kind\":\"Any\",\"default\":{\"type\":\"map\"}},{\"name\":\"position\",\"kind\":\"Any\",\"default\":\"bottom-right\"},{\"name\":\"_clear\",\"kind\":\"Any\",\"default\":0}]},{\"type\":\"model\",\"name\":\"NotificationArea1\",\"properties\":[{\"name\":\"js_events\",\"kind\":\"Any\",\"default\":{\"type\":\"map\"}},{\"name\":\"notifications\",\"kind\":\"Any\",\"default\":[]},{\"name\":\"position\",\"kind\":\"Any\",\"default\":\"bottom-right\"},{\"name\":\"_clear\",\"kind\":\"Any\",\"default\":0},{\"name\":\"types\",\"kind\":\"Any\",\"default\":[{\"type\":\"map\",\"entries\":[[\"type\",\"warning\"],[\"background\",\"#ffc107\"],[\"icon\",{\"type\":\"map\",\"entries\":[[\"className\",\"fas fa-exclamation-triangle\"],[\"tagName\",\"i\"],[\"color\",\"white\"]]}]]},{\"type\":\"map\",\"entries\":[[\"type\",\"info\"],[\"background\",\"#007bff\"],[\"icon\",{\"type\":\"map\",\"entries\":[[\"className\",\"fas fa-info-circle\"],[\"tagName\",\"i\"],[\"color\",\"white\"]]}]]}]}]},{\"type\":\"model\",\"name\":\"Notification\",\"properties\":[{\"name\":\"background\",\"kind\":\"Any\",\"default\":null},{\"name\":\"duration\",\"kind\":\"Any\",\"default\":3000},{\"name\":\"icon\",\"kind\":\"Any\",\"default\":null},{\"name\":\"message\",\"kind\":\"Any\",\"default\":\"\"},{\"name\":\"notification_type\",\"kind\":\"Any\",\"default\":null},{\"name\":\"_destroyed\",\"kind\":\"Any\",\"default\":false}]},{\"type\":\"model\",\"name\":\"TemplateActions1\",\"properties\":[{\"name\":\"open_modal\",\"kind\":\"Any\",\"default\":0},{\"name\":\"close_modal\",\"kind\":\"Any\",\"default\":0}]},{\"type\":\"model\",\"name\":\"BootstrapTemplateActions1\",\"properties\":[{\"name\":\"open_modal\",\"kind\":\"Any\",\"default\":0},{\"name\":\"close_modal\",\"kind\":\"Any\",\"default\":0}]},{\"type\":\"model\",\"name\":\"TemplateEditor1\",\"properties\":[{\"name\":\"layout\",\"kind\":\"Any\",\"default\":[]}]},{\"type\":\"model\",\"name\":\"MaterialTemplateActions1\",\"properties\":[{\"name\":\"open_modal\",\"kind\":\"Any\",\"default\":0},{\"name\":\"close_modal\",\"kind\":\"Any\",\"default\":0}]},{\"type\":\"model\",\"name\":\"ReactiveESM1\"},{\"type\":\"model\",\"name\":\"JSComponent1\"},{\"type\":\"model\",\"name\":\"ReactComponent1\"},{\"type\":\"model\",\"name\":\"AnyWidgetComponent1\"},{\"type\":\"model\",\"name\":\"request_value1\",\"properties\":[{\"name\":\"fill\",\"kind\":\"Any\",\"default\":\"none\"},{\"name\":\"_synced\",\"kind\":\"Any\",\"default\":null},{\"name\":\"_request_sync\",\"kind\":\"Any\",\"default\":0}]}]}};\n",
       "  var render_items = [{\"docid\":\"f1e6cfcc-41ed-42ab-a748-a5cec4426e61\",\"roots\":{\"97899483-e6b0-4234-bd87-ca3191ca6ecb\":\"c2fb6a32-220d-4ec5-b7e8-9e0f2ab40546\"},\"root_ids\":[\"97899483-e6b0-4234-bd87-ca3191ca6ecb\"]}];\n",
       "  var docs = Object.values(docs_json)\n",
       "  if (!docs) {\n",
       "    return\n",
       "  }\n",
       "  const py_version = docs[0].version.replace('rc', '-rc.').replace('.dev', '-dev.')\n",
       "  async function embed_document(root) {\n",
       "    var Bokeh = get_bokeh(root)\n",
       "    await Bokeh.embed.embed_items_notebook(docs_json, render_items);\n",
       "    for (const render_item of render_items) {\n",
       "      for (const root_id of render_item.root_ids) {\n",
       "\tconst id_el = document.getElementById(root_id)\n",
       "\tif (id_el.children.length && id_el.children[0].hasAttribute('data-root-id')) {\n",
       "\t  const root_el = id_el.children[0]\n",
       "\t  root_el.id = root_el.id + '-rendered'\n",
       "\t  for (const child of root_el.children) {\n",
       "            // Ensure JupyterLab does not capture keyboard shortcuts\n",
       "            // see: https://jupyterlab.readthedocs.io/en/4.1.x/extension/notebook.html#keyboard-interaction-model\n",
       "\t    child.setAttribute('data-lm-suppress-shortcuts', 'true')\n",
       "\t  }\n",
       "\t}\n",
       "      }\n",
       "    }\n",
       "  }\n",
       "  function get_bokeh(root) {\n",
       "    if (root.Bokeh === undefined) {\n",
       "      return null\n",
       "    } else if (root.Bokeh.version !== py_version) {\n",
       "      if (root.Bokeh.versions === undefined || !root.Bokeh.versions.has(py_version)) {\n",
       "\treturn null\n",
       "      }\n",
       "      return root.Bokeh.versions.get(py_version);\n",
       "    } else if (root.Bokeh.version === py_version) {\n",
       "      return root.Bokeh\n",
       "    }\n",
       "    return null\n",
       "  }\n",
       "  function is_loaded(root) {\n",
       "    var Bokeh = get_bokeh(root)\n",
       "    return (Bokeh != null && Bokeh.Panel !== undefined)\n",
       "  }\n",
       "  if (is_loaded(root)) {\n",
       "    embed_document(root);\n",
       "  } else {\n",
       "    var attempts = 0;\n",
       "    var timer = setInterval(function(root) {\n",
       "      if (is_loaded(root)) {\n",
       "        clearInterval(timer);\n",
       "        embed_document(root);\n",
       "      } else if (document.readyState == \"complete\") {\n",
       "        attempts++;\n",
       "        if (attempts > 200) {\n",
       "          clearInterval(timer);\n",
       "\t  var Bokeh = get_bokeh(root)\n",
       "\t  if (Bokeh == null || Bokeh.Panel == null) {\n",
       "            console.warn(\"Panel: ERROR: Unable to run Panel code because Bokeh or Panel library is missing\");\n",
       "\t  } else {\n",
       "\t    console.warn(\"Panel: WARNING: Attempting to render but not all required libraries could be resolved.\")\n",
       "\t    embed_document(root)\n",
       "\t  }\n",
       "        }\n",
       "      }\n",
       "    }, 25, root)\n",
       "  }\n",
       "})(window);</script>"
      ]
     },
     "metadata": {
      "application/vnd.holoviews_exec.v0+json": {
       "id": "97899483-e6b0-4234-bd87-ca3191ca6ecb"
      }
     },
     "output_type": "display_data"
    }
   ],
   "source": [
    "from ipyprogressivis.widgets import get_header, Constructor\n",
    "from ipyprogressivis.widgets.chaining.utils import create_root\n",
    "from ipyprogressivis.widgets.chaining.custom import *\n",
    "import panel as pn \n",
    "header = get_header()\n",
    "display(header.talker)\n",
    "display(header.backup)\n",
    "pn.extension('ace', 'jsoneditor', 'ipywidgets')\n",
    "_ = header.constructor\n",
    "with header.modules_out:\n",
    "    display(header.board)\n",
    "with header.widgets_out:\n",
    "    display(header.manager)\n",
    "header.talker.labcommand(\"notebook:hide-cell-code\")\n",
    "%reload_ext ipyprogressivis.magics\n",
    "create_root(header.backup)"
   ]
  },
  {
   "cell_type": "code",
   "execution_count": 3,
   "id": "2a49c72e-d50b-40d9-921a-570f66a9f61b",
   "metadata": {},
   "outputs": [],
   "source": [
    "# progressivis-snippet\n",
    "from progressivis.stats.blobs_table import BlobsPTable\n",
    "from progressivis.core.api import Sink\n",
    "\n",
    "@register_snippet\n",
    "def blobs_table(input_module, input_slot, columns):\n",
    "    n_samples = 100_000_000\n",
    "    n_components = 2\n",
    "    rtol = 0.01\n",
    "    centers = [(0.1, 0.3, 0.5), (0.7, 0.5, 3.3), (-0.4, -0.3, -11.1)]\n",
    "    scheduler = input_module.scheduler()\n",
    "    with scheduler:\n",
    "        data = BlobsPTable(columns=['_0', '_1', '_2'],  centers=centers,\n",
    "                           cluster_std=0.2, rows=n_samples, scheduler=scheduler)\n",
    "        sink = Sink(scheduler=scheduler)\n",
    "        sink.input.inp = data.output.result\n",
    "    return SnippetResult(output_module=data, output_slot=\"result\")"
   ]
  },
  {
   "cell_type": "markdown",
   "id": "c8c54d03-23ba-4135-a067-146c334f6eb0",
   "metadata": {
    "deletable": false,
    "editable": false,
    "progressivis_tag": "root"
   },
   "source": [
    "## root"
   ]
  },
  {
   "cell_type": "code",
   "execution_count": 2,
   "id": "ddedad8b-bdc1-4307-a45e-4d34967b8f5a",
   "metadata": {
    "deletable": false,
    "editable": false,
    "jupyter": {
     "source_hidden": true
    },
    "progressivis_tag": "root"
   },
   "outputs": [
    {
     "data": {
      "application/vnd.jupyter.widget-view+json": {
       "model_id": "dc21e06591ec4ce587ae5485d2df0f1a",
       "version_major": 2,
       "version_minor": 0
      },
      "text/plain": [
       "Constructor(children=(IntProgress(value=0, description='Starting ProgressiVis ...', max=2, style=ProgressStyle…"
      ]
     },
     "metadata": {},
     "output_type": "display_data"
    },
    {
     "name": "stdout",
     "output_type": "stream",
     "text": [
      "Starting scheduler\n",
      "# Scheduler added module(s): ['sink_1', 'variable_1']\n"
     ]
    }
   ],
   "source": [
    "# do not run this cell\n",
    "display(header.constructor)\n",
    "header.constructor.start_scheduler()\n",
    "header.talker.labcommand('notebook:hide-cell-code')"
   ]
  },
  {
   "cell_type": "markdown",
   "id": "2ecef502-0a8a-4f2a-9cf0-0a8b0e036489",
   "metadata": {
    "deletable": false,
    "editable": false,
    "progressivis_tag": "Blobs"
   },
   "source": [
    "## Blobs"
   ]
  },
  {
   "cell_type": "code",
   "execution_count": 4,
   "id": "476d2c59-b8be-476a-a77e-262e87ce5cc1",
   "metadata": {
    "deletable": false,
    "editable": false,
    "progressivis_tag": "Blobs"
   },
   "outputs": [
    {
     "data": {
      "image/png": "[encoded data removed]"
     },
     "execution_count": 4,
     "metadata": {},
     "output_type": "execute_result"
    }
   ],
   "source": [
    "Constructor.widget('Blobs', 0)"
   ]
  },
  {
   "cell_type": "code",
   "execution_count": 5,
   "id": "81e3fe3e-85ca-49d2-8e02-8de4339a3e85",
   "metadata": {},
   "outputs": [],
   "source": [
    "# progressivis-snippet\n",
    "import ipywidgets as widgets\n",
    "import numpy as np\n",
    "import progressivis.core.aio as aio\n",
    "from typing import Any as AnyType\n",
    "from progressivis.table.range_query_2d import RangeQuery2d\n",
    "\n",
    "\n",
    "def make_slider(desc):\n",
    "    return widgets.FloatRangeSlider(\n",
    "        value=[-1000, 1000],\n",
    "        min=-1000.,\n",
    "        max=1000.,\n",
    "        step=0.1,\n",
    "        description=desc,\n",
    "        disabled=False,\n",
    "        continuous_update=False,\n",
    "        orientation='horizontal',\n",
    "        readout=True,\n",
    "        readout_format='.1f',\n",
    ")\n",
    "\n",
    "def make_observer(col_x, col_y, range_qry, slider_x, slider_y):\n",
    "    def _observe_range(val: AnyType) -> None:\n",
    "        async def _coro(v: AnyType) -> None:\n",
    "            min_x, max_x = slider_x.value\n",
    "            min_y, max_y = slider_y.value\n",
    "            await range_qry.dep.min_value.from_input({col_x: min_x, col_y: min_y})\n",
    "            await range_qry.dep.max_value.from_input({col_x: max_x, col_y: max_y})\n",
    "        aio.create_task(_coro(val))\n",
    "\n",
    "    return _observe_range\n",
    "\n",
    "class AfterRun:\n",
    "    def __init__(self, column_x, column_y, slider_x, slider_y, period=3):\n",
    "        self._cnt = 0\n",
    "        self._t = period\n",
    "        self._column_x = column_x\n",
    "        self._column_y = column_y\n",
    "        self._slider_x = slider_x\n",
    "        self._slider_y = slider_y\n",
    "\n",
    "    async def __call__(self, m, r):\n",
    "        if self._cnt % self._t:\n",
    "            self._cnt += 1\n",
    "            return\n",
    "        x = self._column_x\n",
    "        y = self._column_y\n",
    "        slid_x = self._slider_x\n",
    "        slid_y = self._slider_y\n",
    "        if not (m.dep.index.min_out and\n",
    "                m.dep.index.max_out):\n",
    "            return\n",
    "        slid_x.min = m.dep.index.min_out[x]\n",
    "        slid_x.max = m.dep.index.max_out[x]\n",
    "        slid_y.min = m.dep.index.min_out[y]\n",
    "        slid_y.max = m.dep.index.max_out[y]\n",
    "        self._cnt += 1\n",
    "\n",
    "@register_snippet\n",
    "def range_query_2d_with_slider(input_module, input_slot, columns):\n",
    "    scheduler = input_module.scheduler()\n",
    "    with scheduler:\n",
    "        column_x, column_y = columns[\"x\"], columns[\"y\"]\n",
    "        min_ = {column_x: -np.inf, column_y: -np.inf}\n",
    "        max_ = {column_x: np.inf, column_y: np.inf}\n",
    "        range_qry = RangeQuery2d(column_x=column_x, column_y=column_y, scheduler=scheduler)\n",
    "        range_qry.create_dependent_modules(input_module, input_slot)\n",
    "        range_qry.dep.min_value.result.update(min_)\n",
    "        range_qry.dep.max_value.result.update(max_)\n",
    "        range_slider_x = make_slider(\"X\")\n",
    "        range_slider_y = make_slider(\"Y\")\n",
    "        range_qry.on_after_run(AfterRun(column_x, column_y, range_slider_x, range_slider_y))\n",
    "        sink = Sink(scheduler=scheduler)\n",
    "        sink.input.inp = range_qry.output.result\n",
    "    observer = make_observer(column_x, column_y, range_qry, range_slider_x, range_slider_y)\n",
    "    range_slider_x.observe(observer, \"value\")\n",
    "    range_slider_y.observe(observer, \"value\")\n",
    "    return SnippetResult(output_module=range_qry,\n",
    "                         output_slot=\"result\",\n",
    "                         widget=widgets.VBox([range_slider_x, range_slider_y])\n",
    "                         )"
   ]
  },
  {
   "cell_type": "markdown",
   "id": "9a76627c-1b5a-415c-9212-298c2edc1b9e",
   "metadata": {
    "deletable": false,
    "editable": false,
    "progressivis_tag": "Snippet"
   },
   "source": [
    "## Snippet"
   ]
  },
  {
   "cell_type": "code",
   "execution_count": 6,
   "id": "4a16e712-3ba4-44b4-aba6-ff12a921ea00",
   "metadata": {
    "deletable": false,
    "editable": false,
    "progressivis_tag": "Snippet"
   },
   "outputs": [
    {
     "name": "stdout",
     "output_type": "stream",
     "text": [
      "# Scheduler added module(s): ['data_shape_1', 'sink_3']\n",
      "# Scheduler deleted module(s): {'sink_3', 'data_shape_1'}\n"
     ]
    },
    {
     "data": {
      "image/png": "[encoded data removed]"
     },
     "execution_count": 6,
     "metadata": {},
     "output_type": "execute_result"
    }
   ],
   "source": [
    "Constructor.widget('Snippet', 0)"
   ]
  },
  {
   "cell_type": "markdown",
   "id": "61e85462-4ffd-4638-95b3-6766baeee704",
   "metadata": {
    "deletable": false,
    "editable": false,
    "progressivis_tag": "Heatmap"
   },
   "source": [
    "## Heatmap"
   ]
  },
  {
   "cell_type": "code",
   "execution_count": 7,
   "id": "c82029d1-95be-4ce7-9279-37d212c67fe5",
   "metadata": {
    "deletable": false,
    "editable": false,
    "progressivis_tag": "Heatmap"
   },
   "outputs": [
    {
     "name": "stdout",
     "output_type": "stream",
     "text": [
      "# Scheduler added module(s): ['data_shape_1', 'sink_4']\n"
     ]
    },
    {
     "data": {
      "image/png": "[encoded data removed]"
     },
     "execution_count": 7,
     "metadata": {},
     "output_type": "execute_result"
    },
    {
     "name": "stdout",
     "output_type": "stream",
     "text": [
      "# Scheduler deleted module(s): {'sink_4', 'data_shape_1'}\n"
     ]
    }
   ],
   "source": [
    "Constructor.widget('Heatmap', 0)"
   ]
  }
 ],
 "metadata": {
  "celltoolbar": "Éditer les Méta-Données",
  "hide_input": false,
  "kernelspec": {
   "display_name": "Python 3 (ipykernel)",
   "language": "python",
   "name": "python3"
  },
  "language_info": {
   "codemirror_mode": {
    "name": "ipython",
    "version": 3
   },
   "file_extension": ".py",
   "mimetype": "text/x-python",
   "name": "python",
   "nbconvert_exporter": "python",
   "pygments_lexer": "ipython3",
   "version": "3.11.4"
  },
  "latex_envs": {
   "LaTeX_envs_menu_present": true,
   "autoclose": false,
   "autocomplete": true,
   "bibliofile": "biblio.bib",
   "cite_by": "apalike",
   "current_citInitial": 1,
   "eqLabelWithNumbers": true,
   "eqNumInitial": 1,
   "hotkeys": {
    "equation": "Ctrl-E",
    "itemize": "Ctrl-I"
   },
   "labels_anchors": false,
   "latex_user_defs": false,
   "report_style_numbering": false,
   "user_envs_cfg": false
  },
  "progressivis_dag_png": "data:image/png;base64,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",
  "progressivis_outs": [
   {},
   {},
   {},
   "data:image/png;base64,iVBORw0KGgoAAAANSUhEUgAABJsAAABkCAYAAAAhfDHCAAAAAXNSR0IArs4c6QAAIABJREFUeF7t3QeYG9W5xvHXpoYWXMBAKA8dJ0Ag1HVotgk9QAKY5huHADfUUAw2vVeDCRdCTCemt9A7mI6XXkMICTihY7zG9I59552cgbEsabW7knZG+s/z8ACrKWd+RxbMu9/51ENsCCCAAAIIIIAAAggggAACCCCAAAIIVEmgR5XOw2kQQAABBBBAAAEEEEAAAQQQQAABBBAQYRNvAgQQQAABBBBAAAEEEEAAAQQQQACBqgkQNlWNkhMhgAACCCCAAAIIIIAAAggggAACCBA28R5AAAEEEEAAAQQQQAABBBBAAAEEEKiaAGFT1Sg5EQIIIIAAAggggAACCCCAAAIIIIAAYRPvAS044vlpMCCQJ4F3Rq3IZ1eeJoyxIoAAAggggAACCCCAQFMJ8MDWVNNd/GYJm3gT5E2AsClvM8Z4EUAAAQQQQAABBBBAoJkECJuaabZL3CthE2+CvAkQNuVtxhgvAggggAACCCCAAAIINJMAYVMzzTZhE7PdIAKETQ0ykdwGAggggAACCCCAAAIINKQAYVNDTmt8Uz0lzSdpYnu3SGVTe0K8njUBwqaszQjjQQABBBBAAAEEEEAAAQS+F2j0sGkPSatK+l2Fkz5W0nhJ51S4f6ndZpbkptvfduE8XT3HEEnDJG3a3hgIm9oT4vWsCRA2ZW1GGA8CCCCAAAIIIIAAAgggUD5sulHS8pKmSpos6QVJ50ahxRM5hFtF0mKSbpL0uKQzo3+/qOA+HETtImktSb+WNEHS01241x9Iek7SxpJe7eR5qnGObaN7+Q1hUydngMMyLUDYlOnpYXAIIIAAAggggAACCCDQ5ALFKptc2XOWpFsl9ZK0YxSa/I+kDSX9J8dex0n6cQiU0rdxXQjSTqzSvc0h6W+SftGFsKka5yBsqtKEcprsCRA2ZW9OGBECCCCAAAIIIIAAAgggkAiUCptGSboh7DSTpJckjZD0lKTRkpaUNJekUySdL2nFaMnY4ZL6h8qgk8JytOQ6m0k6IKqQWkjSFEnPSNpN0iIlzvezcL6lJf1D0iGS/inJ4z1M0paSHMjcH/Uk2j2EYh7X6qEiyxVM54VruGJpaFhOd7WkdaJKpjfDwBaW9KAkj+/vkv4S/fOTkv4k6aeSHFAtI+nDqMpr76ha6bGCt87W0f3sI6mfpLej6qlNwusOm5Ltbkm/j+55i2hsR4RxvxLu79mw0xhJK0eVV30kjZO0fwisCs+xQPSDoyQNkNQW/G8PO7kayja+zmehV5P7NrGMjj/vDSdA2NRwU8oNIYAAAggggAACCCCAQAMJtBc2zRmFPDtIGhlCjFmj6iAHNoMlfRl6Enm53X0h3PESvHVD6OFlZP8OwcgFkg4KYc0gScMleYmbA5bC8zncckBzeqiuct+lNcOytLUlnSZpe0mTolCob1R59a8QhDkc8nm9ud+RAyUHWknY5J97nFdJOjvs59d/mQpk0mGTK5689M79m3qHcMehU7I57PJyub0kPRqCM4dMSVWSgyffv/s2fRNd00HRLMHNwZvH62oxbw7UHOa5qmy2EMj5XOlz2Nlj8jkdBrZE+7oaa70ozHpH0rEhULPzpyEcW4qwqYH+tHIr3wkQNvFmQAABBBBAAAEEEEAAAQSyK1AqbHK44gbXDj5chXNGFGTckgqHXHGUbG5C7fBno9TP3GjblUInR1U/rtpx7ydX3XhzGOXAKB02pc/326iqxxVDrjbyNk9UyeQKoIGS5pfkczuAclVTsrnqyKGRf+7xJlth2OTXXfmThDx3SroiVDT5mHTYdFmoaDo0hD+Fs2gbV3p5yaHDtK/CDpUsgXMF2M3RtZcNYZTDJldfuarKW7FzLBfmwG5J6OWljheHAM29tfYNlVE+B8vosvvnjpF1UYCwqYuAHI4AAggggAACCCCAAAII1FCgVNh0oSQvz/KSNy/JSrakEikdDjmM8XI4BzvJdnSoBnII5FDlekk+p7f2wiaHUg6cXA2UbK52coWVm5Q7RHFo9HW0lO/UqOrpjhCK7RdVCG0n6cVQ5eMApzBs8nK3h8M5fG4HSq4Q+iBcKB02LRhdw/fmyiFbnFAkdFotVH0tHkIwL7+bvUTPJi/983i8dO+L4OPQyRVilYRN64dG7Umo5SF7mZyDQI/7+VDF5CWP3gibavgHh1N3rwBhU/f6c3UEEEAAAQQQQAABBBBAoJxAe8voCo8tFjY5GHKw4WVzyebww6GHK5vc08lLv44PL7YXNvmb4XyurcoM3CHLkBAq+Xzul+TNFUHuHbVG1IvJy/UKwybv4yV0Dpd8715ulyy982vpsCm5vPtMuXrJ9+PeUcU295jyfbqf0m2hv5R7JSXBj3sxeUnerqEiy32gvF+psMnjco+q9Dn8DYEO7bz8Lh0AJuNxHyz3hHK4542wiT/7DStA2NSwU8uNIYAAAggggAACCCCAQAMIVCNsct+ke0OIc1NowO3Qw0HJqyE08r+7Gsn9lbzszhVIpZbRubeRm2S7ybeXiXlzM3IHN37N/+xwyf2IHL54+Z7DJy8t+yiELHuG/kXFwiY31z43nNffsueQJtnSYZMDJIdk7pV0TBRsubrK/ZmSzf2X3BjdVUle6ucqKVdvXRqajrt/1eWh6fd7oa+TG4U/ImmxcG+lwiZfw43L0+fwskT7Tgg2H4eG60+HAbnnk5ceur+W3R022YYG4Q3wB5VbmF6AsIl3BAIIIIAAAggggAACCCCQXYFqhE2+u5VCTyb3FXIY4gbWXq7mzdfwcjr3dfI3pr0VfYuaG497eVqxSikf46DnYEk+n5fTOXRx1ZCXknk5W6/QINwBj6uO/O1trrByH6X/hOs7sCoWNvn8Xnrn5Wvu35Te0mGTQyMHYg6b3A/J43H4lGxeZufrewnhJ6FiyZVPn4cG6h6ve1/5G+x+F8bnyib3nfI+DswcDvn+CpfR+Rpuwl54DodtR0ZBlZfvebme+1P9KvTXcjWUnf3vXi7o6q17wlLAsu/ABUc87/5cbAjkRoCwKTdTxUARQAABBBBAAAEEEECgCQWKhU3VZnDVz7wh/Jg7qkBybyVv/kY2tgwIEDZlYBIYQocECJs6xMXOCCCAAAIIIIAAAggggEBdBeoRNq0Teiu5KsdL3byMzMvS3HycLQMChE0ZmASG0CEBwqYOcbEzAggggAACCCCAAAIIIFBXgXqETXW9IS7WcQHCpo6bcUT3ChA2da8/V0cAAQQQQAABBBBAAAEEygkQNvH+EGETb4K8CRA25W3GGC8CCCCAAAIIIIAAAgg0kwBhUzPNdol7JWziTZA3AcKmvM0Y40UAAQQQQAABBBBAAIFmEiBsaqbZ5l4RQAABBBBAAAEEEEAAAQQQQACBGgsQNtUYmNMjgAACCCCAAAIIIIAAAggggAACzSRA2NRMs829IoAAAggggAACCCCAAAIIIIAAAjUWIGyqMTCnRwABBBBAAAEEEEAAAQQQQAABBJpJgLCpmWabe0UAAQQQQAABBBBAAAEEEEAAAQRqLEDYVGNgTo8AAggggAACCCCAAAIIIIAAAgg0kwBhUzPNNveKAAIIIIAAAggggAACCCCAAAII1FiAsKnGwJweAQQQQAABBBBAAAEEEEAAAQQQaCYBwqZmmm3uFQEEEEAAAQQQQAABBBBAAAEEEKixAGFTjYE5PQIIIIAAAggggAACCCCAAAIIINBMAoRNzTTb3CsCCCCAAAIIIIAAAggggAACCCBQYwHCphoDc3oEEEAAAQQQQAABBBBAAAEEEECgmQQIm5pptrlXBBBAAAEEEEAAAQQQQAABBBBAoMYChE01Bub0CCCAAAIIIIAAAggggAACCCCAQDMJEDY102xzrwgggAACCCCAAAIIIIAAAggggECNBQibagzM6RFAAAEEEEAAAQQQQAABBBBAAIFmEiBsaqbZ5l4RQAABBBBAAAEEEEAAAQQQQACBGgsQNtUYmNMjgAACCCCAAAIIIIAAAggggAACzSRA2FSn2R47duzAtra2qydOnNi3vUv269evrW/fvkOGDRt2X3v78joCCCCAAAIIIIAAAggggAACCCCQJQHCpjrNxujRoye1tLT0bWlpafeKra2tam1tbRs+fPh87e7MDggggAACCCCAAAIIIIAAAggggECGBAib6jQZI0aMmHbyySdXfLWRI0dq1KhReZ6fuSRNk/RpBTc9kyQHa+9WsC+7IIAAAggggAACCCCAAAIIIIBAhgXyHGZkmHXGoTVh2DQ+UjhK0l0FGn7PzSLpq9TPd5O0lqShRSZ1TUmnSVpf0me5mvTpB+vwzRb7SHoix/fB0BFAAAEEEEAAAQQQQAABBBAoK0DYVKc3SA3DphslLS9pqqRJkp6SdIakf9Xp1kpdplTYdI2kGyRdVmHYtICkbST9KVRKdfNtdfryPSXtJelKSe91+iwciAACCCCAAAIIIIAAAggggEDGBQib6jRBNQybHOqcJenWKJBx8/Fhkn4RKoE+qdPtFbtMqbDpJklXdSBs6sZb4NIIIIAAAggggAACCCCAAAIIINBRAcKmjop1cv8ah02jQrWQRzeHpL9FlU07SmqV5MogL2cbEFXWtEk6RdLt4TZmlrSvpO0l/UDS3WGZl5e57SdpS0ne505JJ4ZlbItIGi1pSUleGubznR/t487nx0T/vLCkf0Rh0tKS9i+yjM5hkyuxvH0s6adRryYvo/NfXlo3j6RHJY2UNFHSypKuDufz+/WwMC7f5/3RPrsXTEmvML7VQ7XXmZLOC/v8UtIBweR1SZtH1/lc0rbhPD72wXCNDyUtHqrEForOOXcU5P1b0sHRcU+H820RXeOIYP6KpMOjsT0bXhsTxt5H0rhwf3bxUsEnw1LCUsadfJdxGAIIIIAAAggggAACCCCAAALdL0DYVKc5qFPY5JDIwZHDJQchL0q6LoQkDqQcCDk0Wk/SO1Hz7gOjYGcjSQdJejMEPS9HodKIUB3lYObLcIzDFO+fhD+Dw2vfhuDkPkl/lHSbpGUlnV4mbLo2VDe5gbgDJgdNm4RlZg633End43EYkw6b1g39m3yPXjLoSq7C5YIeuwOs4alAzedaW5IDIIdF7pnUT9JzUbg0KIx1z+Dkcb8UgqPk2vbyMrj/lTRQksfh+3aQZ3Mb2crX3TBc18GSx+IKr9kkvRVCuCRsKmdcp3cll0EAAQQQQAABBBBAAAEEEECg+gKETdU3LXrGGodNrgb6OlQa+Zvd3BPJVUXLSbpF0ipRcONKHW9ebndxCHueCeHLHQWDduXOIZKSn/9MknstuSLJ50wqjZLDdglVQq4USrauLKNzBZKDrXUKwqbVomqjsVHPoz1CVVMx672jvlU+3vs4IEu2s8O33TmIS28OoBwEHRd+uEH096QSLB10+eX5Q9WVgysfk976R843h6DNQVS6iinZL/2zcsautmJDAAEEEEAAAQQQQAABBBBAIJcChE11mrYah03nhKVurrz5cRR0bBduy9/gdm7BN7+5QscNxP8i6fmoymfTUMmTSMwp6YWCn3t5mRuPO4jxcrLCsMlL27x8zhVKydaVsMkVWA6BVioIm3xuL3lzkORw7dRUIJZc11VEroiygSu7jg3Bj4MgV3ldVDDl/rkDNAdEyeY/F/6Zr5++V9s5wErMvMzQ9+x7/yJy7R2FeA6dXOlULmxy5VQ543RIVqd3KJdBAAEEEEAAAQQQQAABBBBAoDoChE3VcWz3LDUOm5KeTbOHfkxuGO6laq5Euj4s7/qsyCDd28nLzdyTKb254slL65Kfu8LH51shVO4Uhk07SdohLL1rL2xyhZSX2qVDHwc2a4V+Rj5+TUkO0LwsrbC6yK879BkSgiQvaXu7yL25p5N7KK0RlspdIMl9mo4u2Nf9pv4Z9V2yYeFW7NoTop5Lm4V+Uo9HFU67hiqrZcJ9VRI2uWdTOeNic9Xue4wdEEAAAQQQQAABBBBAAAEEEMiCAGFTnWZh9OjRk1paWvq2tLhop/zW2tqq1tbWtuHDh8/X3r6hJ1C6Qbh7EJ0Wgp/JktyQ2wGJG2W7IbebXScNro8MS9UcLL0Rfaudr+eKGzfndk+mdM8mN8d2MFUsgHHvpHtS3zI3NYRchxZpEO6xuteRr+m/O3T5fYVhk/d3U3KHS0uFa7jnVLpvk/tFecngR6EKyr2YVg29lNzY3D2bHPZ4zA6Z3I/JY3IPJfdwcmWX+0jZo1zY5GbrbmTusT8ShWeLhSWKlYZN5YwrmHZ2QQABBBBAAAEEEEAAAQQQQCCbAoRNdZqXsWPHDmxra7t64sSJDjnKbv369Wvr27fvkGHDhrnpdnubl6ulwybvf3mo4kkCHYdK7nfkyicv0fqVJDfn9pIzB0obh6DJy+q2kTRr6PnkJuPJt9GdEL6NrlgA42u6isrhUvJNc+5p5EDFAU568ze8uQm3v63OTcpdoeRrVlLZ5GWBHoeX9blB+GXRuF3Fld7cq+q34d7+E2z8bXDevARv5xAMvReaqbt5uH/+O0mLhqDqpND3qlzY9PdwHVc2uZeT+yw5BHPV0zcV9GwqZ9zenPM6AggggAACCCCAAAIIIIAAApkVIGzK7NQwMAQQQAABBBBAAAEEEEAAAQQQQCB/AoRN+ZszRowAAggggAACCCCAAAIIIIAAAghkVoCwKbNTw8AQQAABBBBAAAEEEEAAAQQQQACB/AkQNuVvzhgxAggggAACCCCAAAIIIIAAAgggkFkBwqbMTg0DQwABBBBAAAEEEEAAAQQQQAABBPInQNiUvzljxAgggAACCCCAAAIIIIAAAggggEBmBQibMjs1DAwBBBBAAAEEEEAAAQQQQAABBBDInwBhU/7mjBEjgAACCCCAAAIIIIAAAggggAACmRUgbMrs1DAwBBBAAAEEEEAAAQQQQAABBBBAIH8ChE35mzNGjAACCCCAAAIIIIAAAggggAACCGRWgLAps1PDwBBAAAEEEEAAAQQQQAABBBBAAIH8CRA25W/OGDECCCCAAAIIIIAAAggggAACCCCQWQHCpsxODQNDAAEEEEAAAQQQQAABBBBAAAEE8idA2JS/OWPECCBQIDBu3LhpoCCAAAJ5EBg8ePB0/+81efLkAT179vz1tGnT5s7D+BljNgV69Ojx8dSpU6/r06fP+GyOkFEhgAACCDSbQEOFTTxwNtvbl/ttVoHChzX/2R80aFCzcnDfCCCQE4F7771XhZ9fU6ZMOZWgKScTmPFhOnDq1avXARkfJsNDAAEEEGgSgYYLm3jgbJJ3LrfZtALFHtYIm5r27cCNI5ArgWKfX++///45uboJBptpgd69e/8+0wNkcAgggAACTSNA2NQ0U82NItAYAoRNjTGP3AUCzShA2NSMs17feyZsqq83V0MAAQQQKC1A2MS7AwEEciVA2JSr6WKwCCCQEiBs4u1QawHCploLc34EEEAAgUoFCJsqlWI/BBDIhABhUyamgUEggEAnBAibOoHGIR0SIGzqEBc7I4AAAgjUUICwqYa4nBoBBKovQNhUfVPOiAAC9REgbKqPczNfhbCpmWefe0cAAQSyJUDYlK35YDQIINCOAGETbxEEEMirAGFTXmcuP+MmbMrPXDFSBBBAoNEFuiNs6ilpPkkTq43LN1JVW5TzIZA9AcKm7M0JI0IAgcoEmjFsmjRpkq677jqtttpqWnnlldWjR3f8r2dl89MIexE2NcIscg8IIIBAYwh0x3/xh0gaJmnTahMSNlVblPMhkD0BwqbszQkjQgCBygSaLWx65513dOKJJ+rhhx/WYostphNOOEH9+/efAeull17SmDFj9Mwzz+jrr7/Wj370I2255ZYaOnRo1cOpO++8U2uttZbmnHPOyiYtZ3sRNuVswhguAggg0MAChWHTHyV9KemgGt7ztpJ+Q9hUQ2FOjUADC3RH2PT0009rjjnm0HLLLafXXntNAwcO1IQJE2qmvPbaa+uUU07RmmuuWfE13nzzTa2zzjrxuK666irdcMMNuuKKKyo+nh0RQKD2As0UNr399ts67rjj9Oijj8awa6yxho444ggtuOCC00G/8MIL2nXXXbXDDjtom222Ud++ffXss8/q6KOP1nrrracDDjhguv2//fZbzTTTTJ2erM0220wXXXSR5pvPRfaNtxE2Nd6cckcIIIBAXgUIm/I6c4wbgRwLPPfcc1p22WU1++yzF72LL774Qi+++KJWWWWVGV7vjrDpoIMOioMf/6bdDzrvv/9+TR9Uuho22c9/zTvvvDl+lzB0BBpPoJHCJn8W+rO8V69eWnzxxaebLAdNxx57rB577LHvgqbDDz9cCy200AyT6qDJlUxHHXXUdK+9+uqrcbg/aNAg+ViHUA8++KAGDBig4cOH6/rrr9ell16qqVOnqk+fPjr44IO15JJLxud46KGHdMYZZ+izzz7TLLPMoj322EMbbLBBHFx5Dlxl9Yc//CH+xUG58+TxHUjYlMdZY8wIIIBAYwp0JGzqK+loSQMkfShprKSLAssSki6R1EfSe5LOkHRteO0Hkg6TtIWkz0KvJvdtSpbR/UzS4ZKWlvQPSYdI+mc4doyklcN5x0nardw0sIyuMd+k3FVjCUyePFk/+clP4r9uvfXWGQInhySbbrqpnnzyyfhBxdVE6a0rYVNra2u8pOPTTz+NfzO+0047afvtt49P39LSomHDhsUPKQ6TFllkkbi6yNVBZ555pn74wx9qq6220tZbbz1dZdPYsWPjBx4/eM0zzzw67LDDtOqqq+qtt97ShhtuqCOPPFI33XSTvJzEPUt8fW/33XefTj755Hgsfhjyw5Pv21u5sOnss8/WlVdeqW+++Ubzzz9/vCzFRuUqm0od414qI0aMkB/qPP4VV1xRJ510UnyvbAggUH2BRgmb/Hnhz7XRo0fHwbvDoKQfkz+LHDQ98cQT7QZNXjLnIN+fUf58LLU5iHKF6QUXXBBf76mnnoqDo8suuywOsG655Zb4NfeG8jldEXXqqafGwZSX8Pnz1Z/t/tz3dbyUrr3z5LW3FGFT9f/cckYEEEAAgc4JdCRsukZSm6RRkhaR5CV3fmpyqORAyT+bJGkTSUdKWisET8dKWjUszftU0t6SlgphUz9Jd0s6XdKt0f57SPK6kY0lTQ3h0whJ46NrzSbpLcKmzk00RyGQFYFPPvlE6667bvzg4N9YpwOnJGjyA5kfBMaPH6+llvLHxfdbZ8OmKVOmxNf1Q40fQN544w15OYXDopVWWikOeJZffnn9+c9/ji+28847x9VXI0eOjJd27LjjjnFlU3oZXfIQc+ONN2qBBRaIH2AOOeSQ+KHmo48+0s9//vP4t+277LKLPvzww/gal19+eXxPDqR8LS99u//++7X77rvH/Upc7VUqbPLDm6sA7rnnnvi3/A6GvNzE4VOpsKncMT7ewdqoUaPi6oDTTz9dyyyzTOzChgAC1RdolLDpq6++ij9L/fk5bdo0LbzwwnHg1K9fvzhochjkzUvnDj300Pj1Yps/F11d9Ne//nWG6qj0/sccc0wcsPvv3vzZ5ev68zXZ/Pl+zjnnxOH7xx9/rLnmmivu9+RgzAGTK5g8jnTY1N55qv8OqP0ZCZtqb8wVEEAAAQQqE6g0bFo2+n+G2yV5TcuUcOrdoxBoA0m/KnKpZ6MKJr/eKukFSftGv6x3ZZK3dM+m30raWlLyZDOPJB87UNJrIWwaGr3+ZCW3Q2VTJUrsg0D3C/gBw0FTOnDyqFzZkwRNXi5RWNXkfTobNt12221xmHLXXXd9B7DXXnvFwc++++4bBzx+cNlkE+flivseXXPNNbr22mtLhk3uP+IHHj9cJZsfZLx8w8tKHGo57PESD28bb7xxfC1XPDmMmnvuub97GHLI4xDJx5UKmxwIuRLKx3lzpdZ+++0X90QpFTaVO8YPig6/XI21+uqra7bZnOmzIYBArQQaJWyyjz+LzjrrrPiz0p+DroicddZZ5YpJbw6aSi2dS3x9nD97XD1arkedQyaff5999okPdVWTK19dTZpsXjLnz2I3/77kkkviz9Nkc18oB1qLLrrodGFTe+ep1fugluclbKqlLudGAAEEEOiIQKVh02BJoyWtlDq5q4/8KybXPa8g6VBJP46WzH0T7esnoV0k+Vdbz4cqppfCsemwycvrHDj5mGRz18cdomNcf+1ldYRNHZlR9kUgJwIffPCB1l9//fg34A5h/Fvru+++O65oKhU0+dY6GzZdfPHFcuDkKqBk84OQNz+gOODxb7ldjeTN+3qJyLhx40qGTe4D4pDIAVKyuS+Ie4G4cslhk79lKQlxHKY54PL9nn/++br99tvjhzRvrlDy/bvnSKmwyb+t99IQ90nxb+z9cOWKrccff7xk2FTuGF/by1BcmfXyyy/HFQZe9te7d++cvIsYJgL5EmiksMnyhYFTMhuVBE3Jvv68dEjlz7b05ipSL2N2dak/o92Dzvt682f1zDPPPEPzcL/2wAMPxM3F/dnmZuReVufxFAubyp0nX++s70dL2JTXmWPcCCCAQOMJVBo2uWmKl7l5OVxS2eT+SRuGyqY7o2Vz/hXS/wWih6L+TF7+9kDUq+mZaEncEVFV1M3htXTY5EDKodVWJWgJmxrvPccdIfCdQLK0zL919tZe0OR9Ohs2OTw67bTTpvtt95577hkvlfMDjAOeAw88UJtvvnk8Fj+o+BvdXN1UahmdK5tcOeRvXEq2ZHmcf4NeKmxyjyY3HXfI48a4fhhyFZerrsqFTb6Ow6vzzjsv/nY8L+Pbf//9y4ZN5Y5JvxVdaeUxuWrKvaTYEECg+gKNFjZZqDBw6kjQ5ONfeeUVDR06VFtssUW8XNm96By++7PLP/PSYVc2pcMm/5LClaiuznSg5GBqzJgxcSjlpdn+/L766qvjCfTP/e1z/oWDP2f9Ge1qLFe1ljuPP6fzuBE25XHWGDOI0VeaAAAEkElEQVQCCCDQmALFwiY37/5vB9v/bl9Gy+A+CL2ZJoaeTV58755N7t/kXk5eIufAyQ29XaV0n6SRIWxy6ORlcv73V8Myuo1CtdMC4dgzQ5jl680V7ZNUQRE2Neb7jrtC4DsB9wxyM1c31H7kkUeKLp1Lc3U2bHIllfsj+cHD1Ut+OHGw5Eqn/v37x2GTHz7OPfdc9ezZM3748fIOL1PzV3J76ZsbiKd7NrmnlKua3CjXPZv8kHP88cfHgZivVypsct+qCy+8MN7fm5f3udeIl+ytsMIKJSub3OR2zjnnjB+8XLHkcMxj8IOZv/3J9zdhwoT4QcpBmasCyh3j/lJ+8HLTc28euwNA93BiQwCB6gs0YthkJQdOXgrn5bwOrUv1aCol6sDJn81eWv35559riSWWiD93k/5xhWGTz+MeTA6QHNa7etR971wt64pPf+65L59D+b333lt33HFHfG5/7nqZs4N6/3zIkCElz1P92a/PGQmb6uPMVRBAAAEE2hcoFjb5W+PSm5tzeynb/NEP/b20/jY6h08Xh2+j8xqQllC95G+l+zY0BvfC+uckzRyagru3kxuC+1hXQXnZnTd/G507PLp6ykHVjeE6fo2wqf05ZA8Eci/gb6jzt7W5QXd7W2fDJp83/W10yddhJ5VMDpu22267uMl3W1tb/M1s/jY6V/r42+a83GKjjTaKH1C83Myhjrf0t9G5N5OXofk+3n333ZJhk0Oh3XbbTa+//nrcxNYPRjfffHPc38m/jd92223jaxf2MHFVk8MtN7z1tfwNTR6Pm4V7CUqxsKncMV5q4qWEDqocsC299NLxt9u5yS8bAghUX6BRw6bqS3HGzgoQNnVWjuMQQAABBKotUBg2Vfv8dT0fDcLrys3FEOgWga6ETeUG7LDJgY2XgLAhgAACtRAgbKqFKudMCxA28X5AAAEEEMiKAGFTVmaCcSCAQEUCtQybilUTVTQodkIAAQQqECBsqgCJXbokQNjUJT4ORgABBBCoogBhUxUxORUCCNRegLCp9sZcAQEEaiNA2FQbV876vQBhE+8GBBBAAIGsCBA2ZWUmGAcCCFQkUKuwqaKLsxMCCCDQBQHCpi7gcWhFAoRNFTGxEwIIIIBAHQQIm+qAzCUQQKB6AoRN1bPkTAggUF8Bwqb6ejfj1QibmnHWuWcEEEAgmwKETdmcF0aFAAIlBAibeGsggEBeBQib8jpz+Rk3YVN+5oqRIoAAAo0uQNjU6DPM/SHQYAKETQ02odwOAk0kQNjURJPdTbdK2NRN8FwWAQQQQGAGAcIm3hQIIJArAcKmXE0Xg0UAgZRAsc+vKVOmnDpt2rS5gUKgqwI9evT4uFevXgd09TwcjwACCCCAQDUECJuqocg5EECgbgKlwqa6DYALIYAAAl0QGDx48HT/7zV58uQBPXv2/DWBUxdQOVQOmqZOnXpdnz59xsOBAAIIIIBAFgQaLmzKAipjQACB2goUPqzV9mqcHQEEEEAAAQQQQAABBBBAoCMCDRU2deTG2RcBBBBAAAEEEEAAAQQQQAABBBBAoPoC/w8IiW0K50c9hwAAAABJRU5ErkJggg==",
   {},
   {},
   "data:image/png;base64,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",
   {},
   {},
   "data:image/png;base64,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",
   {},
   "data:image/png;base64,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"
  ],
  "progressivis_prev_outs": [
   {},
   {},
   {},
   "data:image/png;base64,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",
   {},
   {},
   "data:image/png;base64,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",
   {},
   {},
   "data:image/png;base64,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",
   {},
   "data:image/png;base64,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"
  ],
  "toc": {
   "base_numbering": 1,
   "nav_menu": {},
   "number_sections": false,
   "sideBar": true,
   "skip_h1_title": true,
   "title_cell": "PTable of Contents",
   "title_sidebar": "Contents",
   "toc_cell": false,
   "toc_position": {
    "height": "836.875px",
    "left": "59px",
    "top": "111.125px",
    "width": "340px"
   },
   "toc_section_display": true,
   "toc_window_display": true
  },
  "toc-showtags": false,
  "widgets": {
   "application/vnd.jupyter.widget-state+json": {
    "state": {
     "000827aa4de843ccbb81adcecc91df38": {
      "model_module": "@jupyter-widgets/controls",
      "model_module_version": "2.0.0",
      "model_name": "IntProgressModel",
      "state": {
       "description": "Progress",
       "layout": "IPY_MODEL_7bf3f2de9a2e42e5baf6c2f205c47bdf",
       "max": 0,
       "style": "IPY_MODEL_93d1dc70822d431181de0d707bb73eb2"
      }
     },
     "01031b0520264a65a5423cac3b8f9fed": {
      "model_module": "@jupyter-widgets/base",
      "model_module_version": "2.0.0",
      "model_name": "LayoutModel",
      "state": {}
     },
     "012d2cb9673b427ca567faae6c0c5f7a": {
      "model_module": "@jupyter-widgets/base",
      "model_module_version": "2.0.0",
      "model_name": "LayoutModel",
      "state": {}
     },
     "01789e2548c449268b4d9b9b658ec3e3": {
      "model_module": "@jupyter-widgets/controls",
      "model_module_version": "2.0.0",
      "model_name": "TextStyleModel",
      "state": {
       "description_width": "",
       "font_size": null,
       "text_color": null
      }
     },
     "02092a38173e44d186e8562b4a6c0c64": {
      "model_module": "@jupyter-widgets/controls",
      "model_module_version": "2.0.0",
      "model_name": "ButtonStyleModel",
      "state": {
       "font_family": null,
       "font_size": null,
       "font_style": null,
       "font_variant": null,
       "font_weight": null,
       "text_color": null,
       "text_decoration": null
      }
     },
     "03c6fb773da141c99f24869573bdbdb0": {
      "model_module": "@jupyter-widgets/base",
      "model_module_version": "2.0.0",
      "model_name": "LayoutModel",
      "state": {}
     },
     "05465b7ff5e94c9b815ba831dd94e347": {
      "model_module": "@jupyter-widgets/base",
      "model_module_version": "2.0.0",
      "model_name": "LayoutModel",
      "state": {}
     },
     "05dd72690d8a4eb8889b6115b176e002": {
      "model_module": "@jupyter-widgets/base",
      "model_module_version": "2.0.0",
      "model_name": "LayoutModel",
      "state": {}
     },
     "06c1759657ec4a5098dd97bd8c71798e": {
      "model_module": "@jupyter-widgets/controls",
      "model_module_version": "2.0.0",
      "model_name": "HTMLModel",
      "state": {
       "layout": "IPY_MODEL_cc63044ed950420da82166cb16a18b86",
       "style": "IPY_MODEL_09169a3a952f4eda83a5d75ce16fe392"
      }
     },
     "086a083e16474f629c2508f54484b339": {
      "model_module": "@jupyter-widgets/controls",
      "model_module_version": "2.0.0",
      "model_name": "IntSliderModel",
      "state": {
       "behavior": "drag-tap",
       "continuous_update": false,
       "description": "Gaussian blur:",
       "layout": "IPY_MODEL_25c0039072324200b2c655603ef35fb8",
       "max": 5,
       "style": "IPY_MODEL_d14cc721f96a4bc181030bb4a691e4cb"
      }
     },
     "088ccb96d16e44a5b750f732cb288a40": {
      "model_module": "@jupyter-widgets/controls",
      "model_module_version": "2.0.0",
      "model_name": "IntProgressModel",
      "state": {
       "description": "ProgressiVis started",
       "layout": "IPY_MODEL_e81b390404254c66a6fe4198798596c9",
       "max": 2,
       "style": "IPY_MODEL_0961b1cdf48e4d1dbf3983330a122f77",
       "value": 2
      }
     },
     "09169a3a952f4eda83a5d75ce16fe392": {
      "model_module": "@jupyter-widgets/controls",
      "model_module_version": "2.0.0",
      "model_name": "HTMLStyleModel",
      "state": {
       "description_width": "",
       "font_size": null,
       "text_color": null
      }
     },
     "095d28208dc2449b8f8d066cc2f5d4f0": {
      "model_module": "@jupyter-widgets/base",
      "model_module_version": "2.0.0",
      "model_name": "LayoutModel",
      "state": {}
     },
     "0961b1cdf48e4d1dbf3983330a122f77": {
      "model_module": "@jupyter-widgets/controls",
      "model_module_version": "2.0.0",
      "model_name": "ProgressStyleModel",
      "state": {
       "description_width": "initial"
      }
     },
     "09e92d6bfd60436b95499dbed020b9d4": {
      "model_module": "@jupyter-widgets/controls",
      "model_module_version": "2.0.0",
      "model_name": "ButtonModel",
      "state": {
       "description": "Start",
       "disabled": true,
       "icon": "check",
       "layout": "IPY_MODEL_216c4273cf3e4cd18e58169d92ccc11f",
       "style": "IPY_MODEL_948699adb8864f339d71d9d19baf6b21",
       "tooltip": "Start"
      }
     },
     "0ce59ef2bec040bbacbea54198c82238": {
      "model_module": "@jupyter-widgets/controls",
      "model_module_version": "2.0.0",
      "model_name": "HTMLStyleModel",
      "state": {
       "description_width": "",
       "font_size": null,
       "text_color": null
      }
     },
     "0d26867fec0e4fcc988845ea1a1bfca0": {
      "model_module": "@jupyter-widgets/controls",
      "model_module_version": "2.0.0",
      "model_name": "HBoxModel",
      "state": {
       "layout": "IPY_MODEL_272fc60413a64676a76763709cc65309"
      }
     },
     "0fe0bd7f1f1747b0a801b7e01d67caf9": {
      "model_module": "@jupyter-widgets/controls",
      "model_module_version": "2.0.0",
      "model_name": "VBoxModel",
      "state": {
       "children": [
        "IPY_MODEL_5a834bb9a069466891dd9b6d8d5b6759",
        "IPY_MODEL_289742e80c9f40fa93ec2fc9da93d9be"
       ],
       "layout": "IPY_MODEL_c5ba733228fb459ebc538592edd56955"
      }
     },
     "1086d1d3a089433fade9f551aa58f8fa": {
      "model_module": "@jupyter-widgets/base",
      "model_module_version": "2.0.0",
      "model_name": "LayoutModel",
      "state": {}
     },
     "11f0138089ce4d9c8768c6a9a139376e": {
      "model_module": "@jupyter-widgets/controls",
      "model_module_version": "2.0.0",
      "model_name": "TextModel",
      "state": {
       "layout": "IPY_MODEL_c41532dbc15e4dbda5b3da0199c92ad5",
       "placeholder": "optional alias",
       "style": "IPY_MODEL_277490720f2e403f8258f38d21a2a0d6"
      }
     },
     "134347ad0e1c4b06975d66367ea6586b": {
      "model_module": "@jupyter-widgets/controls",
      "model_module_version": "2.0.0",
      "model_name": "HTMLModel",
      "state": {
       "layout": "IPY_MODEL_b7224824bafc407a9e3ffeb36c4fe442",
       "style": "IPY_MODEL_1be278b981b1424182f0db453d30fd12"
      }
     },
     "135479223bcb457da37ca6c51dd62826": {
      "model_module": "@jupyter-widgets/controls",
      "model_module_version": "2.0.0",
      "model_name": "HTMLModel",
      "state": {
       "layout": "IPY_MODEL_39ad5df75d2044b6a77ff727c987021e",
       "style": "IPY_MODEL_0ce59ef2bec040bbacbea54198c82238"
      }
     },
     "152edb3ba46a46769a95bc0e588934e8": {
      "model_module": "@jupyter-widgets/controls",
      "model_module_version": "2.0.0",
      "model_name": "DropdownModel",
      "state": {
       "_options_labels": [
        "_0:float64",
        "_1:float64",
        "_2:float64",
        ""
       ],
       "description": "Y",
       "disabled": true,
       "index": 2,
       "layout": "IPY_MODEL_e39f0eaa110f4e8c8173f91f4f17f3a4",
       "style": "IPY_MODEL_2f082e83226146b9bf4bce5a3543d376"
      }
     },
     "160fa229b24942e1bd5ca81a83f90c33": {
      "model_module": "@jupyter-widgets/base",
      "model_module_version": "2.0.0",
      "model_name": "LayoutModel",
      "state": {}
     },
     "17686541896f491599bc24fe17525fb5": {
      "model_module": "@jupyter-widgets/base",
      "model_module_version": "2.0.0",
      "model_name": "LayoutModel",
      "state": {}
     },
     "1770319e544e46d9b84219ef84efc126": {
      "model_module": "@jupyter-widgets/base",
      "model_module_version": "2.0.0",
      "model_name": "LayoutModel",
      "state": {}
     },
     "191f676c4bef4a10a9364e58e30222e8": {
      "model_module": "@jupyter-widgets/base",
      "model_module_version": "2.0.0",
      "model_name": "LayoutModel",
      "state": {}
     },
     "19748e6217e64f94ae51bc72eeab28e6": {
      "model_module": "@jupyter-widgets/controls",
      "model_module_version": "2.0.0",
      "model_name": "ButtonModel",
      "state": {
       "description": "Chain it",
       "icon": "check",
       "layout": "IPY_MODEL_26b0fbe8c8ce4a33993c0b690ace654d",
       "style": "IPY_MODEL_d0542bf1473b47a0aef885bc266716c9",
       "tooltip": "Chain it"
      }
     },
     "1a10dc8def99447fbbe0b6d41cc1c35c": {
      "model_module": "@jupyter-widgets/controls",
      "model_module_version": "2.0.0",
      "model_name": "HTMLModel",
      "state": {
       "layout": "IPY_MODEL_a8ed9f6b1b254087bff6dbeb29abe2c3",
       "style": "IPY_MODEL_60e16423aaa4479baf003c569378202e"
      }
     },
     "1a15e0e4f449467a93c651831278af3c": {
      "model_module": "@jupyter-widgets/controls",
      "model_module_version": "2.0.0",
      "model_name": "TextModel",
      "state": {
       "disabled": true,
       "layout": "IPY_MODEL_c6dd3db0413e4678a795967b18933e66",
       "placeholder": "enter a key name to select",
       "style": "IPY_MODEL_73e2b5ff32ae4ad3956de7ba3e3d4991",
       "value": "x"
      }
     },
     "1a2cfd74e681412682eb23cad0efdbec": {
      "model_module": "@jupyter-widgets/controls",
      "model_module_version": "2.0.0",
      "model_name": "TabModel",
      "state": {
       "layout": "IPY_MODEL_9c177a6d74354c70966524aa2f55811e"
      }
     },
     "1a793eb4726840368304ddda6094b187": {
      "model_module": "@jupyter-widgets/base",
      "model_module_version": "2.0.0",
      "model_name": "LayoutModel",
      "state": {}
     },
     "1b85e908cb8c47219fe01198a79f3ee4": {
      "model_module": "@jupyter-widgets/controls",
      "model_module_version": "2.0.0",
      "model_name": "TextModel",
      "state": {
       "layout": "IPY_MODEL_cd2a3d94321d4f23a6c1d0a22b8107b2",
       "placeholder": "optional alias",
       "style": "IPY_MODEL_d97e307ca29d413c91887c0499b92c1e"
      }
     },
     "1be278b981b1424182f0db453d30fd12": {
      "model_module": "@jupyter-widgets/controls",
      "model_module_version": "2.0.0",
      "model_name": "HTMLStyleModel",
      "state": {
       "description_width": "",
       "font_size": null,
       "text_color": null
      }
     },
     "1d2fe8f8286546a7af5193660be32eaa": {
      "model_module": "@jupyter-widgets/controls",
      "model_module_version": "2.0.0",
      "model_name": "DropdownModel",
      "state": {
       "_options_labels": [
        "",
        "Aggregate",
        "Any Vega",
        "Descriptive_statistics",
        "Dump_table",
        "Facade",
        "Group by",
        "Heatmap",
        "Histogram1D",
        "Join",
        "MultiSeries",
        "Quantiles",
        "RangeQuery2D",
        "Scaler",
        "Scatterplot",
        "Snippet",
        "View",
        "CSV loader",
        "PARQUET loader",
        "CUSTOM loader"
       ],
       "description": "Next stage",
       "index": 7,
       "layout": "IPY_MODEL_761488f0d3b74c0195bddcc6d74f391f",
       "style": "IPY_MODEL_5f2027e0907e454f8119f44dd53c19f7"
      }
     },
     "1d9c18e170ba4f409e11856a4813c648": {
      "model_module": "@jupyter-widgets/controls",
      "model_module_version": "2.0.0",
      "model_name": "HTMLStyleModel",
      "state": {
       "description_width": "",
       "font_size": null,
       "text_color": null
      }
     },
     "1f1813c263d54c0891f8f90262496333": {
      "model_module": "@jupyter-widgets/controls",
      "model_module_version": "2.0.0",
      "model_name": "VBoxModel",
      "state": {
       "children": [
        "IPY_MODEL_d787740d773f411c8d88ab808d83071f",
        "IPY_MODEL_652091ce8c4c43208217de6a71b1f5b9"
       ],
       "layout": "IPY_MODEL_bcc6cdbd07fa4f3ca89f901d40334558"
      }
     },
     "2035eee033074ca9b4b8192e58fb66bd": {
      "model_module": "@jupyter-widgets/base",
      "model_module_version": "2.0.0",
      "model_name": "LayoutModel",
      "state": {}
     },
     "216c4273cf3e4cd18e58169d92ccc11f": {
      "model_module": "@jupyter-widgets/base",
      "model_module_version": "2.0.0",
      "model_name": "LayoutModel",
      "state": {}
     },
     "23fcc2a60c354289b7f9092202549c06": {
      "model_module": "@jupyter-widgets/controls",
      "model_module_version": "2.0.0",
      "model_name": "HTMLModel",
      "state": {
       "layout": "IPY_MODEL_479eca79849f427ea64474c647ce4f0b",
       "style": "IPY_MODEL_4f3cb8f7725f4a4bbbc7af1eec50426a"
      }
     },
     "25c0039072324200b2c655603ef35fb8": {
      "model_module": "@jupyter-widgets/base",
      "model_module_version": "2.0.0",
      "model_name": "LayoutModel",
      "state": {}
     },
     "25f8b67c18354442a4021d177d613a8a": {
      "model_module": "jupyter-progressivis",
      "model_module_version": "^0.1.0",
      "model_name": "BackupModel",
      "state": {
       "_model_module_version": "^0.1.0",
       "_view_module_version": "^0.1.0",
       "layout": "IPY_MODEL_4c3e3d0057eb4a68b6689e6162ecba1a",
       "root_markdown": ""
      }
     },
     "26b0fbe8c8ce4a33993c0b690ace654d": {
      "model_module": "@jupyter-widgets/base",
      "model_module_version": "2.0.0",
      "model_name": "LayoutModel",
      "state": {}
     },
     "272fc60413a64676a76763709cc65309": {
      "model_module": "@jupyter-widgets/base",
      "model_module_version": "2.0.0",
      "model_name": "LayoutModel",
      "state": {}
     },
     "277490720f2e403f8258f38d21a2a0d6": {
      "model_module": "@jupyter-widgets/controls",
      "model_module_version": "2.0.0",
      "model_name": "TextStyleModel",
      "state": {
       "description_width": "initial",
       "font_size": null,
       "text_color": null
      }
     },
     "289742e80c9f40fa93ec2fc9da93d9be": {
      "model_module": "@jupyter-widgets/controls",
      "model_module_version": "2.0.0",
      "model_name": "HBoxModel",
      "state": {
       "children": [
        "IPY_MODEL_f29d2bdbc3124ac1896af4a0b673dca9",
        "IPY_MODEL_b001e55923c24152b5693a35dddd8cfb"
       ],
       "layout": "IPY_MODEL_dd09083dd2d84d0ab911cf2fa9cd2822"
      }
     },
     "2b6b7f9cbe7a4c3191ac3f030553eaf9": {
      "model_module": "@jupyter-widgets/controls",
      "model_module_version": "2.0.0",
      "model_name": "ButtonStyleModel",
      "state": {
       "font_family": null,
       "font_size": null,
       "font_style": null,
       "font_variant": null,
       "font_weight": null,
       "text_color": null,
       "text_decoration": null
      }
     },
     "2c6bed75da434ef9a1251b09600b7e9c": {
      "model_module": "@jupyter-widgets/base",
      "model_module_version": "2.0.0",
      "model_name": "LayoutModel",
      "state": {}
     },
     "2ce78795ece54b5489ebc3dba5332d1c": {
      "model_module": "@jupyter-widgets/controls",
      "model_module_version": "2.0.0",
      "model_name": "HBoxModel",
      "state": {
       "children": [
        "IPY_MODEL_3632b40dbd134265910b003359f5d133",
        "IPY_MODEL_11f0138089ce4d9c8768c6a9a139376e",
        "IPY_MODEL_19748e6217e64f94ae51bc72eeab28e6",
        "IPY_MODEL_c2b1538ed05f46069e0d090d5f3ec597"
       ],
       "layout": "IPY_MODEL_9170a93ea7554592931b94453c8b5dd8"
      }
     },
     "2d74710480ec430fab9bbba53e6c303a": {
      "model_module": "@jupyter-widgets/controls",
      "model_module_version": "2.0.0",
      "model_name": "HTMLStyleModel",
      "state": {
       "description_width": "",
       "font_size": null,
       "text_color": null
      }
     },
     "2e4b3de293174ff68bdc26562d3482be": {
      "model_module": "@jupyter-widgets/base",
      "model_module_version": "2.0.0",
      "model_name": "LayoutModel",
      "state": {}
     },
     "2f082e83226146b9bf4bce5a3543d376": {
      "model_module": "@jupyter-widgets/controls",
      "model_module_version": "2.0.0",
      "model_name": "DescriptionStyleModel",
      "state": {
       "description_width": ""
      }
     },
     "305d379ac8214cb79e8993f368b852ab": {
      "model_module": "@jupyter-widgets/controls",
      "model_module_version": "2.0.0",
      "model_name": "TabModel",
      "state": {
       "children": [
        "IPY_MODEL_c9b73ece7cba464986f2f0b348dd0331",
        "IPY_MODEL_1a2cfd74e681412682eb23cad0efdbec"
       ],
       "layout": "IPY_MODEL_eccd88a175d94ee695903245fd40512a",
       "selected_index": 0,
       "titles": [
        "Main",
        "Output slots"
       ]
      }
     },
     "31abcbf95cf4461db20f61cbfaa36fab": {
      "model_module": "@jupyter-widgets/controls",
      "model_module_version": "2.0.0",
      "model_name": "LabelStyleModel",
      "state": {
       "description_width": "",
       "font_family": null,
       "font_size": null,
       "font_style": null,
       "font_variant": null,
       "font_weight": null,
       "text_color": null,
       "text_decoration": null
      }
     },
     "328e94a776e64b348df1db10160a45ae": {
      "model_module": "@jupyter-widgets/base",
      "model_module_version": "2.0.0",
      "model_name": "LayoutModel",
      "state": {}
     },
     "338de6545cdc46e288ce6ee0f50ad43c": {
      "model_module": "@jupyter-widgets/base",
      "model_module_version": "2.0.0",
      "model_name": "LayoutModel",
      "state": {}
     },
     "34877eba24fb42f79f72367f2a211321": {
      "model_module": "@jupyter-widgets/controls",
      "model_module_version": "2.0.0",
      "model_name": "TabModel",
      "state": {
       "children": [
        "IPY_MODEL_d3a8a61dfa074072b600de5624d6ec5b",
        "IPY_MODEL_5fe13ea9b4454fd997d29d6c7d71eb2a"
       ],
       "layout": "IPY_MODEL_eb367c8f1a9040fd9d54e7129be0f15a",
       "selected_index": 0,
       "titles": [
        "Modules",
        "Module graph"
       ]
      }
     },
     "3632b40dbd134265910b003359f5d133": {
      "model_module": "@jupyter-widgets/controls",
      "model_module_version": "2.0.0",
      "model_name": "DropdownModel",
      "state": {
       "_options_labels": [
        "",
        "Aggregate",
        "Any Vega",
        "Descriptive_statistics",
        "Dump_table",
        "Facade",
        "Group by",
        "Heatmap",
        "Histogram1D",
        "Join",
        "MultiSeries",
        "Quantiles",
        "RangeQuery2D",
        "Scaler",
        "Scatterplot",
        "Snippet",
        "View",
        "CSV loader",
        "PARQUET loader",
        "CUSTOM loader"
       ],
       "description": "Next stage",
       "index": 15,
       "layout": "IPY_MODEL_fcfae1edfacc44058f5a502d5b3779da",
       "style": "IPY_MODEL_e37ee739d28c487eb935e9b5765cded0"
      }
     },
     "3679017a5f4a4ef080af7317995f31b1": {
      "model_module": "@jupyter-widgets/base",
      "model_module_version": "2.0.0",
      "model_name": "LayoutModel",
      "state": {}
     },
     "37d9643107c34c84be526ccba87d1e01": {
      "model_module": "@jupyter-widgets/base",
      "model_module_version": "2.0.0",
      "model_name": "LayoutModel",
      "state": {}
     },
     "38e30abfe3e44186965c1796145b0a24": {
      "model_module": "@jupyter-widgets/controls",
      "model_module_version": "2.0.0",
      "model_name": "HTMLModel",
      "state": {
       "layout": "IPY_MODEL_7683e62a52f84c5584d1b00e652907c0",
       "style": "IPY_MODEL_fb4bc4178c0d403a879cc2cd6d979dd0"
      }
     },
     "39119fb6897c4ec2bab0acba3274b43e": {
      "model_module": "@jupyter-widgets/controls",
      "model_module_version": "2.0.0",
      "model_name": "VBoxModel",
      "state": {
       "children": [
        "IPY_MODEL_6d285fc48c7545e4a8ea2f95f2edb6a9",
        "IPY_MODEL_3b7c1c2ce4394c21a548695933ad732b"
       ],
       "layout": "IPY_MODEL_05dd72690d8a4eb8889b6115b176e002"
      }
     },
     "39ad5df75d2044b6a77ff727c987021e": {
      "model_module": "@jupyter-widgets/base",
      "model_module_version": "2.0.0",
      "model_name": "LayoutModel",
      "state": {}
     },
     "3a0f5092b07c495894d8f881b295cb1a": {
      "model_module": "@jupyter-widgets/controls",
      "model_module_version": "2.0.0",
      "model_name": "HTMLModel",
      "state": {
       "layout": "IPY_MODEL_68b4b7f91f1f4dbcbaec3da4075bba9c",
       "style": "IPY_MODEL_3e2bfe0591d54d98bd868358f3ecef58"
      }
     },
     "3a18d3ae79464f88b8ac2fe05fa317ec": {
      "model_module": "@jupyter-widgets/base",
      "model_module_version": "2.0.0",
      "model_name": "LayoutModel",
      "state": {}
     },
     "3a368a54678d4404973618c92d3c0e4e": {
      "model_module": "@jupyter-widgets/base",
      "model_module_version": "2.0.0",
      "model_name": "LayoutModel",
      "state": {}
     },
     "3b2cd4a53e2f4b4baae27ded4266b40c": {
      "model_module": "@jupyter-widgets/base",
      "model_module_version": "2.0.0",
      "model_name": "LayoutModel",
      "state": {}
     },
     "3b7c1c2ce4394c21a548695933ad732b": {
      "model_module": "@jupyter-widgets/controls",
      "model_module_version": "2.0.0",
      "model_name": "VBoxModel",
      "state": {
       "children": [
        "IPY_MODEL_947401b4736b437ab5a876f9b273a049",
        "IPY_MODEL_de480e707679457d978d43c11c8c058c"
       ],
       "layout": "IPY_MODEL_60a54cb575644f6093b1412e84d1d1a2"
      }
     },
     "3e2bfe0591d54d98bd868358f3ecef58": {
      "model_module": "@jupyter-widgets/controls",
      "model_module_version": "2.0.0",
      "model_name": "HTMLStyleModel",
      "state": {
       "description_width": "",
       "font_size": null,
       "text_color": null
      }
     },
     "3e3567decab04fb8bbff37608ddb0840": {
      "model_module": "@jupyter-widgets/base",
      "model_module_version": "2.0.0",
      "model_name": "LayoutModel",
      "state": {}
     },
     "3e48d2d599ba46ab8727185e9e057bc6": {
      "model_module": "@jupyter-widgets/controls",
      "model_module_version": "2.0.0",
      "model_name": "DescriptionStyleModel",
      "state": {
       "description_width": "initial"
      }
     },
     "3ed49d0f0e784bcba0dbbf0bba87f626": {
      "model_module": "@jupyter-widgets/base",
      "model_module_version": "2.0.0",
      "model_name": "LayoutModel",
      "state": {}
     },
     "40b24b354bef4b2aaf26bef207bbc1c1": {
      "model_module": "@jupyter-widgets/base",
      "model_module_version": "2.0.0",
      "model_name": "LayoutModel",
      "state": {}
     },
     "40c93bc2e975400da5b8410e50baec3d": {
      "model_module": "@jupyter-widgets/controls",
      "model_module_version": "2.0.0",
      "model_name": "HTMLStyleModel",
      "state": {
       "description_width": "",
       "font_size": null,
       "text_color": null
      }
     },
     "411a03b2b9db4c4398e8c9d05e20f0b5": {
      "model_module": "@jupyter-widgets/controls",
      "model_module_version": "2.0.0",
      "model_name": "DescriptionStyleModel",
      "state": {
       "description_width": ""
      }
     },
     "4194ea421f71426abf3a004a2873a314": {
      "model_module": "@jupyter-widgets/controls",
      "model_module_version": "2.0.0",
      "model_name": "HTMLModel",
      "state": {
       "layout": "IPY_MODEL_3e3567decab04fb8bbff37608ddb0840",
       "style": "IPY_MODEL_6244a83bba1446d09124ff29c9865092"
      }
     },
     "41c69157d9634709b7e83a345ca673f6": {
      "model_module": "@jupyter-widgets/controls",
      "model_module_version": "2.0.0",
      "model_name": "DropdownModel",
      "state": {
       "_options_labels": [
        "NONE",
        "SQRT",
        "CBRT",
        "LOG"
       ],
       "description": "Transform",
       "index": 3,
       "layout": "IPY_MODEL_7c678792cb4f49eea21c6624a6759478",
       "style": "IPY_MODEL_411a03b2b9db4c4398e8c9d05e20f0b5"
      }
     },
     "422ae3eb20a547deb59ad3aab2ba9a75": {
      "model_module": "@jupyter-widgets/controls",
      "model_module_version": "2.0.0",
      "model_name": "HBoxModel",
      "state": {
       "children": [
        "IPY_MODEL_e8a9eec55c7d4ddfaa91931c5393100b",
        "IPY_MODEL_7f993ced44aa42378514591b2e5f346a",
        "IPY_MODEL_ce4d81c4a77f4a86b4b2ab96854d2d7d"
       ],
       "layout": "IPY_MODEL_338de6545cdc46e288ce6ee0f50ad43c"
      }
     },
     "42acb5a5033b43c3b7b63bcb14465890": {
      "model_module": "@jupyter-widgets/controls",
      "model_module_version": "2.0.0",
      "model_name": "HTMLStyleModel",
      "state": {
       "description_width": "",
       "font_size": null,
       "text_color": null
      }
     },
     "459cd59e6fb846f8b5045349532d8722": {
      "model_module": "@jupyter-widgets/base",
      "model_module_version": "2.0.0",
      "model_name": "LayoutModel",
      "state": {}
     },
     "4673ba62a2874c6a9b59ef472a0deef6": {
      "model_module": "@jupyter-widgets/controls",
      "model_module_version": "2.0.0",
      "model_name": "HTMLStyleModel",
      "state": {
       "description_width": "",
       "font_size": null,
       "text_color": null
      }
     },
     "479eca79849f427ea64474c647ce4f0b": {
      "model_module": "@jupyter-widgets/base",
      "model_module_version": "2.0.0",
      "model_name": "LayoutModel",
      "state": {}
     },
     "48d5bf928a494508b599224b6db357e2": {
      "model_module": "@jupyter-widgets/controls",
      "model_module_version": "2.0.0",
      "model_name": "SliderStyleModel",
      "state": {
       "description_width": ""
      }
     },
     "4ac989c547b240a5bfa90072f53a2475": {
      "model_module": "@jupyter-widgets/base",
      "model_module_version": "2.0.0",
      "model_name": "LayoutModel",
      "state": {}
     },
     "4c3e3d0057eb4a68b6689e6162ecba1a": {
      "model_module": "@jupyter-widgets/base",
      "model_module_version": "2.0.0",
      "model_name": "LayoutModel",
      "state": {}
     },
     "4c50dcc2719d4632959be9da228ce768": {
      "model_module": "@jupyter-widgets/base",
      "model_module_version": "2.0.0",
      "model_name": "LayoutModel",
      "state": {}
     },
     "4d114f7277624362a018d409ce9b384d": {
      "model_module": "@jupyter-widgets/controls",
      "model_module_version": "2.0.0",
      "model_name": "TextModel",
      "state": {
       "disabled": true,
       "layout": "IPY_MODEL_fe5ae4a103c24a619736cda9b1be34fd",
       "placeholder": "enter a key name to select",
       "style": "IPY_MODEL_e21ade3d86804844b5b1388e1356ae25",
       "value": "y"
      }
     },
     "4dbc80c4ed824ec0ba88690def8dc57e": {
      "model_module": "@jupyter-widgets/controls",
      "model_module_version": "2.0.0",
      "model_name": "HTMLStyleModel",
      "state": {
       "description_width": "",
       "font_size": null,
       "text_color": null
      }
     },
     "4f3cb8f7725f4a4bbbc7af1eec50426a": {
      "model_module": "@jupyter-widgets/controls",
      "model_module_version": "2.0.0",
      "model_name": "HTMLStyleModel",
      "state": {
       "description_width": "",
       "font_size": null,
       "text_color": null
      }
     },
     "53f2586eff9945e283b48d6c6abbf4e9": {
      "model_module": "@jupyter-widgets/controls",
      "model_module_version": "2.0.0",
      "model_name": "VBoxModel",
      "state": {
       "children": [
        "IPY_MODEL_d68ba4aa924e4f0c8643f1f1c84aefa7",
        "IPY_MODEL_34877eba24fb42f79f72367f2a211321",
        "IPY_MODEL_edebe4b5755049a29736d9011e4b4530"
       ],
       "layout": "IPY_MODEL_03c6fb773da141c99f24869573bdbdb0"
      }
     },
     "54193e42e836472b9c7200e8bea60052": {
      "model_module": "@jupyter-widgets/controls",
      "model_module_version": "2.0.0",
      "model_name": "LabelModel",
      "state": {
       "layout": "IPY_MODEL_2035eee033074ca9b4b8192e58fb66bd",
       "style": "IPY_MODEL_ebfe272920294a84a0fb4d91d3f8c9b5",
       "value": "_1"
      }
     },
     "5487ac2a07484a89bfd016d89120004b": {
      "model_module": "@jupyter-widgets/controls",
      "model_module_version": "2.0.0",
      "model_name": "ButtonStyleModel",
      "state": {
       "font_family": null,
       "font_size": null,
       "font_style": null,
       "font_variant": null,
       "font_weight": null,
       "text_color": null,
       "text_decoration": null
      }
     },
     "54a306ff5ede4379b8baeb3c2663ce57": {
      "model_module": "@jupyter-widgets/base",
      "model_module_version": "2.0.0",
      "model_name": "LayoutModel",
      "state": {}
     },
     "5559af045745480aba8b3de69fefca86": {
      "model_module": "@jupyter-widgets/controls",
      "model_module_version": "2.0.0",
      "model_name": "HTMLStyleModel",
      "state": {
       "description_width": "",
       "font_size": null,
       "text_color": null
      }
     },
     "5571e77ec6b74c5caa82f7747daaccf3": {
      "model_module": "@jupyter-widgets/base",
      "model_module_version": "2.0.0",
      "model_name": "LayoutModel",
      "state": {
       "width": "100%"
      }
     },
     "577ccbf469164d4485c47f53863a6aa6": {
      "model_module": "@jupyter-widgets/jupyterlab-sidecar",
      "model_module_version": "^1.1",
      "model_name": "SidecarModel",
      "state": {
       "_model_module_version": "^1.1",
       "_view_module_version": "^1.1",
       "layout": "IPY_MODEL_54a306ff5ede4379b8baeb3c2663ce57",
       "outputs": [
        {
         "data": {
          "image/png": "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",
          "metadata": {},
          "output_type": "display_data"
         },
         "metadata": {},
         "output_type": "display_data"
        }
       ],
       "title": "Widgets Output"
      }
     },
     "585b5085940c4b34a9c7cb45f2b63a4c": {
      "model_module": "@jupyter-widgets/controls",
      "model_module_version": "2.0.0",
      "model_name": "CheckboxModel",
      "state": {
       "description": "Record this scenario",
       "disabled": true,
       "layout": "IPY_MODEL_acdc8d6461f44a7783ca3889bbbd2817",
       "style": "IPY_MODEL_77959579436449b481a9f26203e45b55",
       "value": true
      }
     },
     "58dee992345845218444870a1cbf7204": {
      "model_module": "@jupyter-widgets/controls",
      "model_module_version": "2.0.0",
      "model_name": "TextModel",
      "state": {
       "disabled": true,
       "layout": "IPY_MODEL_191f676c4bef4a10a9364e58e30222e8",
       "placeholder": "enter a key name to select",
       "style": "IPY_MODEL_01789e2548c449268b4d9b9b658ec3e3"
      }
     },
     "5975a73cd5e34171828253d31ec4db28": {
      "model_module": "@jupyter-widgets/base",
      "model_module_version": "2.0.0",
      "model_name": "LayoutModel",
      "state": {}
     },
     "5a834bb9a069466891dd9b6d8d5b6759": {
      "model_module": "@jupyter-widgets/controls",
      "model_module_version": "2.0.0",
      "model_name": "VBoxModel",
      "state": {
       "_dom_classes": [
        "progressivis_guest_widget"
       ],
       "children": [
        "IPY_MODEL_64160d40e0a34e15a60ac86b2f85f5bb",
        "IPY_MODEL_65d89451b0904645b279b376985eef1e",
        "IPY_MODEL_152edb3ba46a46769a95bc0e588934e8",
        "IPY_MODEL_a937d56ec52c4baea5eb75c088d1be86",
        "IPY_MODEL_759a32e0fe714c76be96dcd9bdbaa25b",
        "IPY_MODEL_41c69157d9634709b7e83a345ca673f6",
        "IPY_MODEL_086a083e16474f629c2508f54484b339",
        "IPY_MODEL_09e92d6bfd60436b95499dbed020b9d4",
        "IPY_MODEL_f032604e1dd24d20998d229cea9ebc63"
       ],
       "layout": "IPY_MODEL_3a368a54678d4404973618c92d3c0e4e"
      }
     },
     "5b14ab09545a47e192a720f23369634c": {
      "model_module": "@jupyter-widgets/base",
      "model_module_version": "2.0.0",
      "model_name": "LayoutModel",
      "state": {}
     },
     "5f2027e0907e454f8119f44dd53c19f7": {
      "model_module": "@jupyter-widgets/controls",
      "model_module_version": "2.0.0",
      "model_name": "DescriptionStyleModel",
      "state": {
       "description_width": ""
      }
     },
     "5f4976c7f2484c868f033e29918cb2ca": {
      "model_module": "@jupyter-widgets/base",
      "model_module_version": "2.0.0",
      "model_name": "LayoutModel",
      "state": {}
     },
     "5fe13ea9b4454fd997d29d6c7d71eb2a": {
      "model_module": "jupyter-progressivis",
      "model_module_version": "^0.1.0",
      "model_name": "ModuleGraphModel",
      "state": {
       "_model_module_version": "^0.1.0",
       "_view_module_version": "^0.1.0",
       "data": "{}",
       "layout": "IPY_MODEL_3679017a5f4a4ef080af7317995f31b1"
      }
     },
     "60a54cb575644f6093b1412e84d1d1a2": {
      "model_module": "@jupyter-widgets/base",
      "model_module_version": "2.0.0",
      "model_name": "LayoutModel",
      "state": {}
     },
     "60e16423aaa4479baf003c569378202e": {
      "model_module": "@jupyter-widgets/controls",
      "model_module_version": "2.0.0",
      "model_name": "HTMLStyleModel",
      "state": {
       "description_width": "",
       "font_size": null,
       "text_color": null
      }
     },
     "6244a83bba1446d09124ff29c9865092": {
      "model_module": "@jupyter-widgets/controls",
      "model_module_version": "2.0.0",
      "model_name": "HTMLStyleModel",
      "state": {
       "description_width": "",
       "font_size": null,
       "text_color": null
      }
     },
     "63bcba050392485ea4d4ab07fc468a16": {
      "model_module": "@jupyter-widgets/controls",
      "model_module_version": "2.0.0",
      "model_name": "HTMLModel",
      "state": {
       "layout": "IPY_MODEL_a8fdb5585a8248448c8ccb34f3d82377",
       "style": "IPY_MODEL_fa142173b8504496bc0956dcd820a003"
      }
     },
     "64160d40e0a34e15a60ac86b2f85f5bb": {
      "model_module": "@jupyter-widgets/controls",
      "model_module_version": "2.0.0",
      "model_name": "DropdownModel",
      "state": {
       "_options_labels": [
        "512*512",
        "256*256",
        "128*128"
       ],
       "description": "Definition",
       "disabled": true,
       "index": 0,
       "layout": "IPY_MODEL_5f4976c7f2484c868f033e29918cb2ca",
       "style": "IPY_MODEL_9ce691b192534bdc9561e907813a0e94"
      }
     },
     "64eaa63cce074103b1d158faf0147adc": {
      "model_module": "@jupyter-widgets/base",
      "model_module_version": "2.0.0",
      "model_name": "LayoutModel",
      "state": {}
     },
     "652091ce8c4c43208217de6a71b1f5b9": {
      "model_module": "@jupyter-widgets/controls",
      "model_module_version": "2.0.0",
      "model_name": "FloatRangeSliderModel",
      "state": {
       "_model_name": "FloatRangeSliderModel",
       "_view_name": "FloatRangeSliderView",
       "behavior": "drag-tap",
       "continuous_update": false,
       "description": "Y",
       "layout": "IPY_MODEL_2c6bed75da434ef9a1251b09600b7e9c",
       "max": 8.420320926308062,
       "min": -16.33233821357095,
       "readout_format": ".1f",
       "step": 0.1,
       "style": "IPY_MODEL_48d5bf928a494508b599224b6db357e2",
       "value": [
        -16.33233821357095,
        5.267661786429045
       ]
      }
     },
     "65d89451b0904645b279b376985eef1e": {
      "model_module": "@jupyter-widgets/controls",
      "model_module_version": "2.0.0",
      "model_name": "DropdownModel",
      "state": {
       "_options_labels": [
        "_0:float64",
        "_1:float64",
        "_2:float64",
        ""
       ],
       "description": "X",
       "disabled": true,
       "index": 0,
       "layout": "IPY_MODEL_3b2cd4a53e2f4b4baae27ded4266b40c",
       "style": "IPY_MODEL_b1f0189397cc4295ace6b2854e0e58e6"
      }
     },
     "679cbb20e87e4208842b87d931d091be": {
      "model_module": "@jupyter-widgets/controls",
      "model_module_version": "2.0.0",
      "model_name": "HTMLModel",
      "state": {
       "layout": "IPY_MODEL_64eaa63cce074103b1d158faf0147adc",
       "style": "IPY_MODEL_ab70e341507c42558342db048b539ee7"
      }
     },
     "683b03ed69ef4636b8e07ae26c72fc2c": {
      "model_module": "@jupyter-widgets/controls",
      "model_module_version": "2.0.0",
      "model_name": "HTMLModel",
      "state": {
       "layout": "IPY_MODEL_92b0c7a945fe42398d8fffd92b58b32f",
       "style": "IPY_MODEL_c81984f2361a4c11becd050203057f07"
      }
     },
     "68b4b7f91f1f4dbcbaec3da4075bba9c": {
      "model_module": "@jupyter-widgets/base",
      "model_module_version": "2.0.0",
      "model_name": "LayoutModel",
      "state": {}
     },
     "69968c978fb74968b8ee5dec16246e96": {
      "model_module": "@jupyter-widgets/controls",
      "model_module_version": "2.0.0",
      "model_name": "DropdownModel",
      "state": {
       "_options_labels": [
        "",
        "blobs_table",
        "range_query_2d_with_slider"
       ],
       "description": "Snippet:",
       "disabled": true,
       "index": 2,
       "layout": "IPY_MODEL_3ed49d0f0e784bcba0dbbf0bba87f626",
       "style": "IPY_MODEL_808d822fe2f64cd388d72c5e091823bc"
      }
     },
     "6acfa48f86a043beba01e6ec8624060e": {
      "model_module": "@jupyter-widgets/base",
      "model_module_version": "2.0.0",
      "model_name": "LayoutModel",
      "state": {}
     },
     "6d285fc48c7545e4a8ea2f95f2edb6a9": {
      "model_module": "@jupyter-widgets/controls",
      "model_module_version": "2.0.0",
      "model_name": "VBoxModel",
      "state": {
       "_dom_classes": [
        "progressivis_guest_widget"
       ],
       "children": [
        "IPY_MODEL_69968c978fb74968b8ee5dec16246e96",
        "IPY_MODEL_7c422babe734413eac0451f9b0f527c0",
        "IPY_MODEL_a131ee0a6ab54ae5b862fff3589d854f",
        "IPY_MODEL_f4dd83c2b8da4b60884d0d9537ef44bb",
        "IPY_MODEL_1f1813c263d54c0891f8f90262496333"
       ],
       "layout": "IPY_MODEL_89de7a8229d24035bfec95b0a3541ebc"
      }
     },
     "704e73ad72874ac49cca74cbbc0760a2": {
      "model_module": "@jupyter-widgets/controls",
      "model_module_version": "2.0.0",
      "model_name": "HTMLModel",
      "state": {
       "layout": "IPY_MODEL_4c50dcc2719d4632959be9da228ce768",
       "style": "IPY_MODEL_1d9c18e170ba4f409e11856a4813c648"
      }
     },
     "706bdc0e4c044205928427fa93602e0c": {
      "model_module": "@jupyter-widgets/controls",
      "model_module_version": "2.0.0",
      "model_name": "ButtonModel",
      "state": {
       "description": "Step",
       "disabled": true,
       "icon": "step-forward",
       "layout": "IPY_MODEL_1086d1d3a089433fade9f551aa58f8fa",
       "style": "IPY_MODEL_a8ba8e8c870b493da5779b96203c0518",
       "tooltip": "Step"
      }
     },
     "71184900e6cb4ec9ba7eca264fc82d40": {
      "model_module": "@jupyter-widgets/controls",
      "model_module_version": "2.0.0",
      "model_name": "VBoxModel",
      "state": {
       "children": [
        "IPY_MODEL_000827aa4de843ccbb81adcecc91df38",
        "IPY_MODEL_2ce78795ece54b5489ebc3dba5332d1c"
       ],
       "layout": "IPY_MODEL_40b24b354bef4b2aaf26bef207bbc1c1"
      }
     },
     "73e2b5ff32ae4ad3956de7ba3e3d4991": {
      "model_module": "@jupyter-widgets/controls",
      "model_module_version": "2.0.0",
      "model_name": "TextStyleModel",
      "state": {
       "description_width": "",
       "font_size": null,
       "text_color": null
      }
     },
     "7573da8287fa4218ad4f142b34861004": {
      "model_module": "@jupyter-widgets/controls",
      "model_module_version": "2.0.0",
      "model_name": "HTMLModel",
      "state": {
       "layout": "IPY_MODEL_e65f15686f0941faacc28cdb92da3a79",
       "placeholder": "0",
       "style": "IPY_MODEL_aa10b8209b7f42cf9810225b9b5551e5",
       "value": "24159"
      }
     },
     "759a32e0fe714c76be96dcd9bdbaa25b": {
      "model_module": "@jupyter-widgets/controls",
      "model_module_version": "2.0.0",
      "model_name": "HTMLModel",
      "state": {
       "layout": "IPY_MODEL_a9d6fb06c9cd4e17967574edca2f6f8a",
       "style": "IPY_MODEL_b02ec9665ea34db599d8e876331a1dd5"
      }
     },
     "761488f0d3b74c0195bddcc6d74f391f": {
      "model_module": "@jupyter-widgets/base",
      "model_module_version": "2.0.0",
      "model_name": "LayoutModel",
      "state": {}
     },
     "7683e62a52f84c5584d1b00e652907c0": {
      "model_module": "@jupyter-widgets/base",
      "model_module_version": "2.0.0",
      "model_name": "LayoutModel",
      "state": {}
     },
     "76ae59d9bbe74a5ab982dc6ff8f988d2": {
      "model_module": "@jupyter-widgets/controls",
      "model_module_version": "2.0.0",
      "model_name": "HTMLStyleModel",
      "state": {
       "description_width": "",
       "font_size": null,
       "text_color": null
      }
     },
     "77530b632c24423799c2689768020fc8": {
      "model_module": "@jupyter-widgets/base",
      "model_module_version": "2.0.0",
      "model_name": "LayoutModel",
      "state": {}
     },
     "775e5f212c9a4dfb8f95472683859fa5": {
      "model_module": "@jupyter-widgets/base",
      "model_module_version": "2.0.0",
      "model_name": "LayoutModel",
      "state": {}
     },
     "77839c1e241844ee8fa20c1524250f97": {
      "model_module": "@jupyter-widgets/base",
      "model_module_version": "2.0.0",
      "model_name": "LayoutModel",
      "state": {}
     },
     "77959579436449b481a9f26203e45b55": {
      "model_module": "@jupyter-widgets/controls",
      "model_module_version": "2.0.0",
      "model_name": "CheckboxStyleModel",
      "state": {
       "description_width": ""
      }
     },
     "78a4ac0b40b84421955c2a3ad8d2401b": {
      "model_module": "@jupyter-widgets/controls",
      "model_module_version": "2.0.0",
      "model_name": "ButtonStyleModel",
      "state": {
       "font_family": null,
       "font_size": null,
       "font_style": null,
       "font_variant": null,
       "font_weight": null,
       "text_color": null,
       "text_decoration": null
      }
     },
     "7b0af3635396404ba01350290aa28df3": {
      "model_module": "@jupyter-widgets/controls",
      "model_module_version": "2.0.0",
      "model_name": "VBoxModel",
      "state": {
       "_dom_classes": [
        "progressivis_guest_widget"
       ],
       "children": [
        "IPY_MODEL_ee8a8199e6c04a6e9942a51179252546",
        "IPY_MODEL_c437672b98ce4486b5df773fadc03726",
        "IPY_MODEL_ca7533f29a3d4b7eb479dbf333bc7ec9",
        "IPY_MODEL_8d7f0b8b36a847fbaf12068f3ade6995",
        "IPY_MODEL_704e73ad72874ac49cca74cbbc0760a2"
       ],
       "layout": "IPY_MODEL_1a793eb4726840368304ddda6094b187"
      }
     },
     "7bf3f2de9a2e42e5baf6c2f205c47bdf": {
      "model_module": "@jupyter-widgets/base",
      "model_module_version": "2.0.0",
      "model_name": "LayoutModel",
      "state": {
       "width": "100%"
      }
     },
     "7c422babe734413eac0451f9b0f527c0": {
      "model_module": "@jupyter-widgets/controls",
      "model_module_version": "2.0.0",
      "model_name": "RadioButtonsModel",
      "state": {
       "_options_labels": [
        "All",
        "Selection as list",
        "Selection as dict"
       ],
       "description": "Columns to process:",
       "disabled": true,
       "index": 2,
       "layout": "IPY_MODEL_37d9643107c34c84be526ccba87d1e01",
       "style": "IPY_MODEL_3e48d2d599ba46ab8727185e9e057bc6"
      }
     },
     "7c678792cb4f49eea21c6624a6759478": {
      "model_module": "@jupyter-widgets/base",
      "model_module_version": "2.0.0",
      "model_name": "LayoutModel",
      "state": {}
     },
     "7d90e4d59f4846ed99d8d1e317e8dfb6": {
      "model_module": "@jupyter-widgets/controls",
      "model_module_version": "2.0.0",
      "model_name": "HTMLModel",
      "state": {
       "layout": "IPY_MODEL_012d2cb9673b427ca567faae6c0c5f7a",
       "style": "IPY_MODEL_958653d4637e421db8be8736987efb84"
      }
     },
     "7dd90ea423b848fdb5188f97e60d15e3": {
      "model_module": "@jupyter-widgets/controls",
      "model_module_version": "2.0.0",
      "model_name": "HTMLModel",
      "state": {
       "layout": "IPY_MODEL_bbeb1bc045544357950c40e9139f1fcd",
       "style": "IPY_MODEL_a11f880b02554d93b7fb07b59882e622"
      }
     },
     "7efddf9ae90f45ee837bd8f9b63ca3ac": {
      "model_module": "@jupyter-widgets/controls",
      "model_module_version": "2.0.0",
      "model_name": "HTMLStyleModel",
      "state": {
       "description_width": "",
       "font_size": null,
       "text_color": null
      }
     },
     "7f049f60431c4a19b914bf739f0dbf5c": {
      "model_module": "@jupyter-widgets/controls",
      "model_module_version": "2.0.0",
      "model_name": "ButtonStyleModel",
      "state": {
       "font_family": null,
       "font_size": null,
       "font_style": null,
       "font_variant": null,
       "font_weight": null,
       "text_color": null,
       "text_decoration": null
      }
     },
     "7f993ced44aa42378514591b2e5f346a": {
      "model_module": "@jupyter-widgets/controls",
      "model_module_version": "2.0.0",
      "model_name": "TextModel",
      "state": {
       "disabled": true,
       "layout": "IPY_MODEL_6acfa48f86a043beba01e6ec8624060e",
       "placeholder": "optional alias",
       "style": "IPY_MODEL_ef11dbd30811419bb455a277dc2e506f",
       "value": "Blobs"
      }
     },
     "7fb79a65e1a14f2e9012ce838fe7818a": {
      "model_module": "@jupyter-widgets/base",
      "model_module_version": "2.0.0",
      "model_name": "LayoutModel",
      "state": {}
     },
     "808d822fe2f64cd388d72c5e091823bc": {
      "model_module": "@jupyter-widgets/controls",
      "model_module_version": "2.0.0",
      "model_name": "DescriptionStyleModel",
      "state": {
       "description_width": ""
      }
     },
     "80d172e83ab3483db48e257c4fe7e0e7": {
      "model_module": "@jupyter-widgets/controls",
      "model_module_version": "2.0.0",
      "model_name": "LabelModel",
      "state": {
       "layout": "IPY_MODEL_83c18e8a8c9647cb85b4c32e5ac686e8",
       "style": "IPY_MODEL_f443629947d84918b6f6478fabe38cfd",
       "value": "Key"
      }
     },
     "815e3faef7104fbd9c59fbd6be28eb6a": {
      "model_module": "@jupyter-widgets/controls",
      "model_module_version": "2.0.0",
      "model_name": "LabelStyleModel",
      "state": {
       "description_width": "",
       "font_family": null,
       "font_size": null,
       "font_style": null,
       "font_variant": null,
       "font_weight": null,
       "text_color": null,
       "text_decoration": null
      }
     },
     "81d5ad14c86d4e77b91798ec1bef8e53": {
      "model_module": "@jupyter-widgets/controls",
      "model_module_version": "2.0.0",
      "model_name": "HTMLStyleModel",
      "state": {
       "description_width": "",
       "font_size": null,
       "text_color": null
      }
     },
     "82911f101afe401f866f4dd788a10b1b": {
      "model_module": "jupyter-progressivis",
      "model_module_version": "^0.1.0",
      "model_name": "TalkerModel",
      "state": {
       "_model_module_version": "^0.1.0",
       "_view_module_version": "^0.1.0",
       "layout": "IPY_MODEL_01031b0520264a65a5423cac3b8f9fed"
      }
     },
     "83843d4ff693481589e06ef9bc6612d5": {
      "model_module": "@jupyter-widgets/controls",
      "model_module_version": "2.0.0",
      "model_name": "HTMLModel",
      "state": {
       "layout": "IPY_MODEL_d1f37a5257184f9f83a23f2c38a5d882",
       "style": "IPY_MODEL_bb49ec5b5f63421ca13d680d9bef7046"
      }
     },
     "83c18e8a8c9647cb85b4c32e5ac686e8": {
      "model_module": "@jupyter-widgets/base",
      "model_module_version": "2.0.0",
      "model_name": "LayoutModel",
      "state": {}
     },
     "849200cf44504b1dad1b41531867d77d": {
      "model_module": "@jupyter-widgets/base",
      "model_module_version": "2.0.0",
      "model_name": "LayoutModel",
      "state": {}
     },
     "85629983538f4a06b33e7035f31e856f": {
      "model_module": "@jupyter-widgets/controls",
      "model_module_version": "2.0.0",
      "model_name": "ButtonModel",
      "state": {
       "description": "Resume",
       "disabled": true,
       "icon": "play",
       "layout": "IPY_MODEL_77530b632c24423799c2689768020fc8",
       "style": "IPY_MODEL_b5cbb28fe2844c86abee1d5d9ef67746",
       "tooltip": "Start"
      }
     },
     "8743dfde58d64a92bed6c20bcfc86869": {
      "model_module": "@jupyter-widgets/base",
      "model_module_version": "2.0.0",
      "model_name": "LayoutModel",
      "state": {}
     },
     "87beb98ae1e843afa50cb78461f7c14a": {
      "model_module": "@jupyter-widgets/controls",
      "model_module_version": "2.0.0",
      "model_name": "HTMLStyleModel",
      "state": {
       "description_width": "",
       "font_size": null,
       "text_color": null
      }
     },
     "89a3f5acb6064fa8ba1e5b568aea7538": {
      "model_module": "@jupyter-widgets/controls",
      "model_module_version": "2.0.0",
      "model_name": "VBoxModel",
      "state": {
       "children": [
        "IPY_MODEL_7b0af3635396404ba01350290aa28df3",
        "IPY_MODEL_71184900e6cb4ec9ba7eca264fc82d40"
       ],
       "layout": "IPY_MODEL_ee28bb558d36470b9e05d23b89f9c1dd"
      }
     },
     "89de7a8229d24035bfec95b0a3541ebc": {
      "model_module": "@jupyter-widgets/base",
      "model_module_version": "2.0.0",
      "model_name": "LayoutModel",
      "state": {}
     },
     "8d7f0b8b36a847fbaf12068f3ade6995": {
      "model_module": "@jupyter-widgets/controls",
      "model_module_version": "2.0.0",
      "model_name": "ButtonModel",
      "state": {
       "description": "Start",
       "disabled": true,
       "icon": "check",
       "layout": "IPY_MODEL_5b14ab09545a47e192a720f23369634c",
       "style": "IPY_MODEL_5487ac2a07484a89bfd016d89120004b",
       "tooltip": "Start"
      }
     },
     "8e3127b6763a4e7580935e2b02e9b8e2": {
      "model_module": "@jupyter-widgets/base",
      "model_module_version": "2.0.0",
      "model_name": "LayoutModel",
      "state": {}
     },
     "8ed9ee46504348a5b2bd6c31e92fedd9": {
      "model_module": "@jupyter-widgets/controls",
      "model_module_version": "2.0.0",
      "model_name": "HTMLStyleModel",
      "state": {
       "description_width": "",
       "font_size": null,
       "text_color": null
      }
     },
     "904861d5c3594ee38190cb477ae1477f": {
      "model_module": "jupyter-progressivis",
      "model_module_version": "^0.1.0",
      "model_name": "DagWidgetModel",
      "state": {
       "_model_module_version": "^0.1.0",
       "_view_module_version": "^0.1.0",
       "dag": "{\"dag\": [{\"id\": \"root\", \"divID\": \"root\", \"label\": \"root\", \"parentIds\": []}, {\"id\": \"Blobs\", \"divID\": \"Blobs\", \"label\": \"Blobs\", \"parentIds\": [\"root\"]}, {\"id\": \"Snippet\", \"divID\": \"Snippet\", \"label\": \"Snippet\", \"parentIds\": [\"Blobs\"]}, {\"id\": \"Heatmap\", \"divID\": \"Heatmap\", \"label\": \"Heatmap\", \"parentIds\": [\"Snippet\"]}], \"summaries\": {\"root\": {\"progress\": 0, \"status\": \"RUNNING\"}, \"Blobs\": {\"progress\": 0, \"status\": \"RUNNING\"}, \"Snippet\": {\"progress\": 0, \"status\": \"RUNNING\"}}, \"summaryVariables\": {\"root\": [\"progress\"], \"Blobs\": [\"progress\"], \"Snippet\": [\"progress\"], \"Heatmap\": [\"progress\"]}}",
       "layout": "IPY_MODEL_328e94a776e64b348df1db10160a45ae",
       "summaries": "{\"root\": {\"progress\": 0, \"status\": \"RUNNING\"}, \"Blobs\": {\"progress\": 0, \"status\": \"RUNNING\"}, \"Snippet\": {\"progress\": 0, \"status\": \"RUNNING\"}, \"Heatmap\": {\"progress\": 0, \"status\": \"RUNNING\"}}"
      }
     },
     "9170a93ea7554592931b94453c8b5dd8": {
      "model_module": "@jupyter-widgets/base",
      "model_module_version": "2.0.0",
      "model_name": "LayoutModel",
      "state": {}
     },
     "92a7897d334244238bb94e1ab7f57df9": {
      "model_module": "@jupyter-widgets/controls",
      "model_module_version": "2.0.0",
      "model_name": "ProgressStyleModel",
      "state": {
       "description_width": ""
      }
     },
     "92ae803df7cb40da93a58b641b266898": {
      "model_module": "@jupyter-widgets/base",
      "model_module_version": "2.0.0",
      "model_name": "LayoutModel",
      "state": {}
     },
     "92b0c7a945fe42398d8fffd92b58b32f": {
      "model_module": "@jupyter-widgets/base",
      "model_module_version": "2.0.0",
      "model_name": "LayoutModel",
      "state": {}
     },
     "93d1dc70822d431181de0d707bb73eb2": {
      "model_module": "@jupyter-widgets/controls",
      "model_module_version": "2.0.0",
      "model_name": "ProgressStyleModel",
      "state": {
       "description_width": ""
      }
     },
     "942db6703b7549be810090492d20e96b": {
      "model_module": "@jupyter-widgets/controls",
      "model_module_version": "2.0.0",
      "model_name": "HTMLStyleModel",
      "state": {
       "description_width": "",
       "font_size": null,
       "text_color": null
      }
     },
     "947401b4736b437ab5a876f9b273a049": {
      "model_module": "@jupyter-widgets/controls",
      "model_module_version": "2.0.0",
      "model_name": "IntProgressModel",
      "state": {
       "description": "Progress",
       "layout": "IPY_MODEL_5571e77ec6b74c5caa82f7747daaccf3",
       "max": 0,
       "style": "IPY_MODEL_92a7897d334244238bb94e1ab7f57df9"
      }
     },
     "948699adb8864f339d71d9d19baf6b21": {
      "model_module": "@jupyter-widgets/controls",
      "model_module_version": "2.0.0",
      "model_name": "ButtonStyleModel",
      "state": {
       "font_family": null,
       "font_size": null,
       "font_style": null,
       "font_variant": null,
       "font_weight": null,
       "text_color": null,
       "text_decoration": null
      }
     },
     "9535ac44c8f3485bb52a9255d4a8f52b": {
      "model_module": "@jupyter-widgets/base",
      "model_module_version": "2.0.0",
      "model_name": "LayoutModel",
      "state": {}
     },
     "958653d4637e421db8be8736987efb84": {
      "model_module": "@jupyter-widgets/controls",
      "model_module_version": "2.0.0",
      "model_name": "HTMLStyleModel",
      "state": {
       "description_width": "",
       "font_size": null,
       "text_color": null
      }
     },
     "95d8fd3696a9415c94872e79ee31b764": {
      "model_module": "@jupyter-widgets/base",
      "model_module_version": "2.0.0",
      "model_name": "LayoutModel",
      "state": {}
     },
     "96679b448a9041aa9e5f73393e3911b6": {
      "model_module": "@jupyter-widgets/base",
      "model_module_version": "2.0.0",
      "model_name": "LayoutModel",
      "state": {}
     },
     "9c177a6d74354c70966524aa2f55811e": {
      "model_module": "@jupyter-widgets/base",
      "model_module_version": "2.0.0",
      "model_name": "LayoutModel",
      "state": {}
     },
     "9ce691b192534bdc9561e907813a0e94": {
      "model_module": "@jupyter-widgets/controls",
      "model_module_version": "2.0.0",
      "model_name": "DescriptionStyleModel",
      "state": {
       "description_width": ""
      }
     },
     "9d7e7b197dd148a1b07173b5d1dac1ec": {
      "model_module": "@jupyter-widgets/base",
      "model_module_version": "2.0.0",
      "model_name": "LayoutModel",
      "state": {}
     },
     "a046aa36dc18425585a9bbc414341b35": {
      "model_module": "@jupyter-widgets/controls",
      "model_module_version": "2.0.0",
      "model_name": "HTMLStyleModel",
      "state": {
       "description_width": "",
       "font_size": null,
       "text_color": null
      }
     },
     "a11f880b02554d93b7fb07b59882e622": {
      "model_module": "@jupyter-widgets/controls",
      "model_module_version": "2.0.0",
      "model_name": "HTMLStyleModel",
      "state": {
       "description_width": "",
       "font_size": null,
       "text_color": null
      }
     },
     "a131ee0a6ab54ae5b862fff3589d854f": {
      "model_module": "@jupyter-widgets/controls",
      "model_module_version": "2.0.0",
      "model_name": "GridBoxModel",
      "state": {
       "children": [
        "IPY_MODEL_ecb345258a0a4eba8b55c9dd2d58ed13",
        "IPY_MODEL_80d172e83ab3483db48e257c4fe7e0e7",
        "IPY_MODEL_b79101449af244f0890dc1915abc968a",
        "IPY_MODEL_1a15e0e4f449467a93c651831278af3c",
        "IPY_MODEL_54193e42e836472b9c7200e8bea60052",
        "IPY_MODEL_58dee992345845218444870a1cbf7204",
        "IPY_MODEL_feb1a1c08fec474ea9ba2dd52dd65da7",
        "IPY_MODEL_4d114f7277624362a018d409ce9b384d"
       ],
       "layout": "IPY_MODEL_e2cbb64694ce45978ea4f9a116f328cf"
      }
     },
     "a4768bda6b24441d9b8bd1160daf6d3a": {
      "model_module": "@jupyter-widgets/controls",
      "model_module_version": "2.0.0",
      "model_name": "HTMLModel",
      "state": {
       "layout": "IPY_MODEL_95d8fd3696a9415c94872e79ee31b764",
       "style": "IPY_MODEL_2d74710480ec430fab9bbba53e6c303a"
      }
     },
     "a5ac192d1a604811bc4271fecd0f5b58": {
      "model_module": "@jupyter-widgets/controls",
      "model_module_version": "2.0.0",
      "model_name": "HTMLModel",
      "state": {
       "layout": "IPY_MODEL_f1a69b6c7d834f90a95ccfe0b8ff86cb",
       "style": "IPY_MODEL_8ed9ee46504348a5b2bd6c31e92fedd9"
      }
     },
     "a87ded1bc5fd4de0b6054b9ef9b12eb0": {
      "model_module": "@jupyter-widgets/controls",
      "model_module_version": "2.0.0",
      "model_name": "HTMLModel",
      "state": {
       "layout": "IPY_MODEL_b44ff3c46e424231a789bef427ad0f1e",
       "style": "IPY_MODEL_40c93bc2e975400da5b8410e50baec3d"
      }
     },
     "a8ba8e8c870b493da5779b96203c0518": {
      "model_module": "@jupyter-widgets/controls",
      "model_module_version": "2.0.0",
      "model_name": "ButtonStyleModel",
      "state": {
       "font_family": null,
       "font_size": null,
       "font_style": null,
       "font_variant": null,
       "font_weight": null,
       "text_color": null,
       "text_decoration": null
      }
     },
     "a8e0f234ed0a403daab50b60bb8f2511": {
      "model_module": "@jupyter-widgets/controls",
      "model_module_version": "2.0.0",
      "model_name": "LabelStyleModel",
      "state": {
       "description_width": "",
       "font_family": null,
       "font_size": null,
       "font_style": null,
       "font_variant": null,
       "font_weight": null,
       "text_color": null,
       "text_decoration": null
      }
     },
     "a8ed9f6b1b254087bff6dbeb29abe2c3": {
      "model_module": "@jupyter-widgets/base",
      "model_module_version": "2.0.0",
      "model_name": "LayoutModel",
      "state": {}
     },
     "a8fdb5585a8248448c8ccb34f3d82377": {
      "model_module": "@jupyter-widgets/base",
      "model_module_version": "2.0.0",
      "model_name": "LayoutModel",
      "state": {}
     },
     "a937d56ec52c4baea5eb75c088d1be86": {
      "model_module": "@jupyter-widgets/controls",
      "model_module_version": "2.0.0",
      "model_name": "HTMLModel",
      "state": {
       "layout": "IPY_MODEL_1770319e544e46d9b84219ef84efc126",
       "style": "IPY_MODEL_e362fa9c9d0b4245b2e9304128c189d4"
      }
     },
     "a9c755719db34aaebba4af67f159ccd1": {
      "model_module": "@jupyter-widgets/base",
      "model_module_version": "2.0.0",
      "model_name": "LayoutModel",
      "state": {}
     },
     "a9d6fb06c9cd4e17967574edca2f6f8a": {
      "model_module": "@jupyter-widgets/base",
      "model_module_version": "2.0.0",
      "model_name": "LayoutModel",
      "state": {}
     },
     "aa10b8209b7f42cf9810225b9b5551e5": {
      "model_module": "@jupyter-widgets/controls",
      "model_module_version": "2.0.0",
      "model_name": "HTMLStyleModel",
      "state": {
       "description_width": "",
       "font_size": null,
       "text_color": null
      }
     },
     "ab70e341507c42558342db048b539ee7": {
      "model_module": "@jupyter-widgets/controls",
      "model_module_version": "2.0.0",
      "model_name": "HTMLStyleModel",
      "state": {
       "description_width": "",
       "font_size": null,
       "text_color": null
      }
     },
     "acdc8d6461f44a7783ca3889bbbd2817": {
      "model_module": "@jupyter-widgets/base",
      "model_module_version": "2.0.0",
      "model_name": "LayoutModel",
      "state": {}
     },
     "ae1e97094da740cca951aadf9906fcf5": {
      "model_module": "@jupyter-widgets/controls",
      "model_module_version": "2.0.0",
      "model_name": "ButtonModel",
      "state": {
       "description": "Remove subtree",
       "icon": "check",
       "layout": "IPY_MODEL_92ae803df7cb40da93a58b641b266898",
       "style": "IPY_MODEL_78a4ac0b40b84421955c2a3ad8d2401b",
       "tooltip": "Remove subtree"
      }
     },
     "b001e55923c24152b5693a35dddd8cfb": {
      "model_module": "@jupyter-widgets/controls",
      "model_module_version": "2.0.0",
      "model_name": "CheckboxModel",
      "state": {
       "description": "Active",
       "disabled": false,
       "layout": "IPY_MODEL_8743dfde58d64a92bed6c20bcfc86869",
       "style": "IPY_MODEL_bf058d05bc8a4b36b1014c303027d49b",
       "value": true
      }
     },
     "b02ec9665ea34db599d8e876331a1dd5": {
      "model_module": "@jupyter-widgets/controls",
      "model_module_version": "2.0.0",
      "model_name": "HTMLStyleModel",
      "state": {
       "description_width": "",
       "font_size": null,
       "text_color": null
      }
     },
     "b131b6c2aace477e81c9a9cbf178265f": {
      "model_module": "@jupyter-widgets/base",
      "model_module_version": "2.0.0",
      "model_name": "LayoutModel",
      "state": {}
     },
     "b197b3601be94ea19e15e2af1d803abb": {
      "model_module": "@jupyter-widgets/controls",
      "model_module_version": "2.0.0",
      "model_name": "HTMLModel",
      "state": {
       "layout": "IPY_MODEL_de36219ef50e4708867f1bf2df05180c",
       "style": "IPY_MODEL_5559af045745480aba8b3de69fefca86"
      }
     },
     "b1f0189397cc4295ace6b2854e0e58e6": {
      "model_module": "@jupyter-widgets/controls",
      "model_module_version": "2.0.0",
      "model_name": "DescriptionStyleModel",
      "state": {
       "description_width": ""
      }
     },
     "b2d3639f665041c980f381cfce8377c7": {
      "model_module": "@jupyter-widgets/base",
      "model_module_version": "2.0.0",
      "model_name": "LayoutModel",
      "state": {}
     },
     "b44ff3c46e424231a789bef427ad0f1e": {
      "model_module": "@jupyter-widgets/base",
      "model_module_version": "2.0.0",
      "model_name": "LayoutModel",
      "state": {}
     },
     "b5cbb28fe2844c86abee1d5d9ef67746": {
      "model_module": "@jupyter-widgets/controls",
      "model_module_version": "2.0.0",
      "model_name": "ButtonStyleModel",
      "state": {
       "font_family": null,
       "font_size": null,
       "font_style": null,
       "font_variant": null,
       "font_weight": null,
       "text_color": null,
       "text_decoration": null
      }
     },
     "b646376cbdac4ec4993ca2fdb0bd3bcb": {
      "model_module": "@jupyter-widgets/controls",
      "model_module_version": "2.0.0",
      "model_name": "HTMLStyleModel",
      "state": {
       "description_width": "",
       "font_size": null,
       "text_color": null
      }
     },
     "b7224824bafc407a9e3ffeb36c4fe442": {
      "model_module": "@jupyter-widgets/base",
      "model_module_version": "2.0.0",
      "model_name": "LayoutModel",
      "state": {}
     },
     "b79101449af244f0890dc1915abc968a": {
      "model_module": "@jupyter-widgets/controls",
      "model_module_version": "2.0.0",
      "model_name": "LabelModel",
      "state": {
       "layout": "IPY_MODEL_be597a4eb37d4c75a6e63750b8f7a342",
       "style": "IPY_MODEL_a8e0f234ed0a403daab50b60bb8f2511",
       "value": "_0"
      }
     },
     "bb49ec5b5f63421ca13d680d9bef7046": {
      "model_module": "@jupyter-widgets/controls",
      "model_module_version": "2.0.0",
      "model_name": "HTMLStyleModel",
      "state": {
       "description_width": "",
       "font_size": null,
       "text_color": null
      }
     },
     "bbeb1bc045544357950c40e9139f1fcd": {
      "model_module": "@jupyter-widgets/base",
      "model_module_version": "2.0.0",
      "model_name": "LayoutModel",
      "state": {}
     },
     "bc727e88dd6e49e3b07e0c168677866d": {
      "model_module": "@jupyter-widgets/controls",
      "model_module_version": "2.0.0",
      "model_name": "ButtonStyleModel",
      "state": {
       "font_family": null,
       "font_size": null,
       "font_style": null,
       "font_variant": null,
       "font_weight": null,
       "text_color": null,
       "text_decoration": null
      }
     },
     "bcc6cdbd07fa4f3ca89f901d40334558": {
      "model_module": "@jupyter-widgets/base",
      "model_module_version": "2.0.0",
      "model_name": "LayoutModel",
      "state": {}
     },
     "be597a4eb37d4c75a6e63750b8f7a342": {
      "model_module": "@jupyter-widgets/base",
      "model_module_version": "2.0.0",
      "model_name": "LayoutModel",
      "state": {}
     },
     "bf058d05bc8a4b36b1014c303027d49b": {
      "model_module": "@jupyter-widgets/controls",
      "model_module_version": "2.0.0",
      "model_name": "CheckboxStyleModel",
      "state": {
       "description_width": ""
      }
     },
     "c171e5b5373447238e2d8f21aba04165": {
      "model_module": "@jupyter-widgets/controls",
      "model_module_version": "2.0.0",
      "model_name": "DescriptionStyleModel",
      "state": {
       "description_width": "initial"
      }
     },
     "c258e6882da74862b67dd6633c2babaa": {
      "model_module": "@jupyter-widgets/controls",
      "model_module_version": "2.0.0",
      "model_name": "ButtonStyleModel",
      "state": {
       "font_family": null,
       "font_size": null,
       "font_style": null,
       "font_variant": null,
       "font_weight": null,
       "text_color": null,
       "text_decoration": null
      }
     },
     "c27fc5df744448979b979241c62aff6b": {
      "model_module": "@jupyter-widgets/controls",
      "model_module_version": "2.0.0",
      "model_name": "HTMLModel",
      "state": {
       "layout": "IPY_MODEL_3a18d3ae79464f88b8ac2fe05fa317ec",
       "style": "IPY_MODEL_81d5ad14c86d4e77b91798ec1bef8e53"
      }
     },
     "c2b1538ed05f46069e0d090d5f3ec597": {
      "model_module": "@jupyter-widgets/controls",
      "model_module_version": "2.0.0",
      "model_name": "ButtonModel",
      "state": {
       "description": "Remove subtree",
       "icon": "check",
       "layout": "IPY_MODEL_ec2c8abfaa3e4373802f0383701df4ee",
       "style": "IPY_MODEL_02092a38173e44d186e8562b4a6c0c64",
       "tooltip": "Remove subtree"
      }
     },
     "c2d14439378f4dccb54508918c3bb932": {
      "model_module": "@jupyter-widgets/controls",
      "model_module_version": "2.0.0",
      "model_name": "HTMLModel",
      "state": {
       "layout": "IPY_MODEL_17686541896f491599bc24fe17525fb5",
       "style": "IPY_MODEL_a046aa36dc18425585a9bbc414341b35"
      }
     },
     "c35e34ccbc3444fcaf80eada3d6be5ed": {
      "model_module": "@jupyter-widgets/base",
      "model_module_version": "2.0.0",
      "model_name": "LayoutModel",
      "state": {}
     },
     "c41532dbc15e4dbda5b3da0199c92ad5": {
      "model_module": "@jupyter-widgets/base",
      "model_module_version": "2.0.0",
      "model_name": "LayoutModel",
      "state": {}
     },
     "c437672b98ce4486b5df773fadc03726": {
      "model_module": "@jupyter-widgets/controls",
      "model_module_version": "2.0.0",
      "model_name": "HTMLModel",
      "state": {
       "layout": "IPY_MODEL_095d28208dc2449b8f8d066cc2f5d4f0",
       "style": "IPY_MODEL_f29c3a7b9f4a4a4e99b8fa2eda986c34"
      }
     },
     "c5ba733228fb459ebc538592edd56955": {
      "model_module": "@jupyter-widgets/base",
      "model_module_version": "2.0.0",
      "model_name": "LayoutModel",
      "state": {}
     },
     "c6c2096b72b847f3bc152665644fe28a": {
      "model_module": "@jupyter-widgets/base",
      "model_module_version": "2.0.0",
      "model_name": "LayoutModel",
      "state": {}
     },
     "c6dd3db0413e4678a795967b18933e66": {
      "model_module": "@jupyter-widgets/base",
      "model_module_version": "2.0.0",
      "model_name": "LayoutModel",
      "state": {}
     },
     "c7c43f26e1d24aa4be43554ab048b07c": {
      "model_module": "@jupyter-widgets/jupyterlab-sidecar",
      "model_module_version": "^1.1",
      "model_name": "SidecarModel",
      "state": {
       "_model_module_version": "^1.1",
       "_view_module_version": "^1.1",
       "layout": "IPY_MODEL_f42b597a6ebc4ea39d5c1002e14a3515",
       "outputs": [
        {
         "data": {
          "application/vnd.jupyter.widget-view+json": {
           "model_id": "53f2586eff9945e283b48d6c6abbf4e9",
           "version_major": 2,
           "version_minor": 0
          },
          "text/plain": "PsBoard(children=(ControlPanel(children=(Button(description='Resume', disabled=True, icon='play', style=Button…"
         },
         "metadata": {},
         "output_type": "display_data"
        }
       ],
       "title": "Modules Output"
      }
     },
     "c81984f2361a4c11becd050203057f07": {
      "model_module": "@jupyter-widgets/controls",
      "model_module_version": "2.0.0",
      "model_name": "HTMLStyleModel",
      "state": {
       "description_width": "",
       "font_size": null,
       "text_color": null
      }
     },
     "c897f3eb4116441a9a9e8b50822a3fd9": {
      "model_module": "@jupyter-widgets/base",
      "model_module_version": "2.0.0",
      "model_name": "LayoutModel",
      "state": {}
     },
     "c9b73ece7cba464986f2f0b348dd0331": {
      "model_module": "jupyter-progressivis",
      "model_module_version": "^0.1.0",
      "model_name": "JsonHTMLModel",
      "state": {
       "_model_module_version": "^0.1.0",
       "_view_module_version": "^0.1.0",
       "layout": "IPY_MODEL_d8410012453d40dca09afaa5b48c9429"
      }
     },
     "ca7533f29a3d4b7eb479dbf333bc7ec9": {
      "model_module": "@jupyter-widgets/controls",
      "model_module_version": "2.0.0",
      "model_name": "HTMLModel",
      "state": {
       "layout": "IPY_MODEL_459cd59e6fb846f8b5045349532d8722",
       "style": "IPY_MODEL_7efddf9ae90f45ee837bd8f9b63ca3ac"
      }
     },
     "cc141a81637e4fbf8d55b9b650eba76d": {
      "model_module": "@jupyter-widgets/base",
      "model_module_version": "2.0.0",
      "model_name": "LayoutModel",
      "state": {
       "height": "500px",
       "overflow": "auto"
      }
     },
     "cc4944f1f5ab424e9fc6363eb25fa31c": {
      "model_module": "@jupyter-widgets/base",
      "model_module_version": "2.0.0",
      "model_name": "LayoutModel",
      "state": {}
     },
     "cc63044ed950420da82166cb16a18b86": {
      "model_module": "@jupyter-widgets/base",
      "model_module_version": "2.0.0",
      "model_name": "LayoutModel",
      "state": {}
     },
     "cd2a3d94321d4f23a6c1d0a22b8107b2": {
      "model_module": "@jupyter-widgets/base",
      "model_module_version": "2.0.0",
      "model_name": "LayoutModel",
      "state": {}
     },
     "cdc52bde75f54d8284494052ebd0a564": {
      "model_module": "@jupyter-widgets/controls",
      "model_module_version": "2.0.0",
      "model_name": "HTMLModel",
      "state": {
       "layout": "IPY_MODEL_96679b448a9041aa9e5f73393e3911b6",
       "style": "IPY_MODEL_4673ba62a2874c6a9b59ef472a0deef6"
      }
     },
     "ce4d81c4a77f4a86b4b2ab96854d2d7d": {
      "model_module": "@jupyter-widgets/controls",
      "model_module_version": "2.0.0",
      "model_name": "ButtonModel",
      "state": {
       "description": "Create",
       "disabled": true,
       "icon": "check",
       "layout": "IPY_MODEL_849200cf44504b1dad1b41531867d77d",
       "style": "IPY_MODEL_bc727e88dd6e49e3b07e0c168677866d",
       "tooltip": "Create"
      }
     },
     "ce5c9ee950af4174a2829f6a1b1ee5c5": {
      "model_module": "@jupyter-widgets/controls",
      "model_module_version": "2.0.0",
      "model_name": "HTMLModel",
      "state": {
       "layout": "IPY_MODEL_db402585109f4d5abc7867680226a566",
       "style": "IPY_MODEL_87beb98ae1e843afa50cb78461f7c14a"
      }
     },
     "ce5f77f7a519499cbd2e91f5969d1717": {
      "model_module": "@jupyter-widgets/controls",
      "model_module_version": "2.0.0",
      "model_name": "HTMLModel",
      "state": {
       "layout": "IPY_MODEL_9d7e7b197dd148a1b07173b5d1dac1ec",
       "style": "IPY_MODEL_42acb5a5033b43c3b7b63bcb14465890"
      }
     },
     "cf205f26dc0f4476a804311a5244da93": {
      "model_module": "@jupyter-widgets/controls",
      "model_module_version": "2.0.0",
      "model_name": "HTMLStyleModel",
      "state": {
       "description_width": "",
       "font_size": null,
       "text_color": null
      }
     },
     "d0542bf1473b47a0aef885bc266716c9": {
      "model_module": "@jupyter-widgets/controls",
      "model_module_version": "2.0.0",
      "model_name": "ButtonStyleModel",
      "state": {
       "font_family": null,
       "font_size": null,
       "font_style": null,
       "font_variant": null,
       "font_weight": null,
       "text_color": null,
       "text_decoration": null
      }
     },
     "d0be364b6dcf49adab072210e68ff606": {
      "model_module": "@jupyter-widgets/controls",
      "model_module_version": "2.0.0",
      "model_name": "HTMLStyleModel",
      "state": {
       "description_width": "",
       "font_size": null,
       "text_color": null
      }
     },
     "d14cc721f96a4bc181030bb4a691e4cb": {
      "model_module": "@jupyter-widgets/controls",
      "model_module_version": "2.0.0",
      "model_name": "SliderStyleModel",
      "state": {
       "description_width": "initial"
      }
     },
     "d1f37a5257184f9f83a23f2c38a5d882": {
      "model_module": "@jupyter-widgets/base",
      "model_module_version": "2.0.0",
      "model_name": "LayoutModel",
      "state": {}
     },
     "d355d65f17c248e4a46d7a8b1f77f357": {
      "model_module": "@jupyter-widgets/controls",
      "model_module_version": "2.0.0",
      "model_name": "HTMLModel",
      "state": {
       "layout": "IPY_MODEL_c6c2096b72b847f3bc152665644fe28a",
       "style": "IPY_MODEL_942db6703b7549be810090492d20e96b"
      }
     },
     "d3878d7bedc943148af54a5847720c64": {
      "model_module": "@jupyter-widgets/controls",
      "model_module_version": "2.0.0",
      "model_name": "LabelModel",
      "state": {
       "layout": "IPY_MODEL_8e3127b6763a4e7580935e2b02e9b8e2",
       "style": "IPY_MODEL_e73b1364c27f4b23aba4faa059c20e28"
      }
     },
     "d3a8a61dfa074072b600de5624d6ec5b": {
      "model_module": "jupyter-progressivis",
      "model_module_version": "^0.1.0",
      "model_name": "SensitiveHTMLModel",
      "state": {
       "_model_module_version": "^0.1.0",
       "_view_module_version": "^0.1.0",
       "data": {
        "ps-cell_binning_index_nd_1_classname": "binning_index_nd",
        "ps-cell_binning_index_nd_1_id": "binning_index_nd_1",
        "ps-cell_binning_index_nd_1_is_visualization": " ",
        "ps-cell_binning_index_nd_1_last_update": 24159,
        "ps-cell_binning_index_nd_1_order": 6,
        "ps-cell_binning_index_nd_1_state": "state_ready",
        "ps-cell_blobs_p_table_1_classname": "blobs_p_table",
        "ps-cell_blobs_p_table_1_id": "blobs_p_table_1",
        "ps-cell_blobs_p_table_1_is_visualization": " ",
        "ps-cell_blobs_p_table_1_last_update": 24156,
        "ps-cell_blobs_p_table_1_order": 2,
        "ps-cell_blobs_p_table_1_state": "state_ready",
        "ps-cell_heatmap_1_classname": "heatmap",
        "ps-cell_heatmap_1_id": "heatmap_1",
        "ps-cell_heatmap_1_is_visualization": " ",
        "ps-cell_heatmap_1_last_update": 24154,
        "ps-cell_heatmap_1_order": 12,
        "ps-cell_heatmap_1_state": "state_blocked",
        "ps-cell_histogram2_d_1_classname": "histogram2_d",
        "ps-cell_histogram2_d_1_id": "histogram2_d_1",
        "ps-cell_histogram2_d_1_is_visualization": " ",
        "ps-cell_histogram2_d_1_last_update": 24153,
        "ps-cell_histogram2_d_1_order": 11,
        "ps-cell_histogram2_d_1_state": "state_ready",
        "ps-cell_max_1_classname": "max",
        "ps-cell_max_1_id": "max_1",
        "ps-cell_max_1_is_visualization": " ",
        "ps-cell_max_1_last_update": 24152,
        "ps-cell_max_1_order": 10,
        "ps-cell_max_1_state": "state_ready",
        "ps-cell_min_1_classname": "min",
        "ps-cell_min_1_id": "min_1",
        "ps-cell_min_1_is_visualization": " ",
        "ps-cell_min_1_last_update": 24151,
        "ps-cell_min_1_order": 9,
        "ps-cell_min_1_state": "state_ready",
        "ps-cell_range_query2d_1_classname": "range_query2d",
        "ps-cell_range_query2d_1_id": "range_query2d_1",
        "ps-cell_range_query2d_1_is_visualization": " ",
        "ps-cell_range_query2d_1_last_update": 24150,
        "ps-cell_range_query2d_1_order": 7,
        "ps-cell_range_query2d_1_state": "state_ready",
        "ps-cell_sink_1_classname": "sink",
        "ps-cell_sink_1_id": "sink_1",
        "ps-cell_sink_1_is_visualization": " ",
        "ps-cell_sink_1_last_update": 0,
        "ps-cell_sink_1_order": 1,
        "ps-cell_sink_1_state": "state_terminated",
        "ps-cell_sink_2_classname": "sink",
        "ps-cell_sink_2_id": "sink_2",
        "ps-cell_sink_2_is_visualization": " ",
        "ps-cell_sink_2_last_update": 0,
        "ps-cell_sink_2_order": 3,
        "ps-cell_sink_2_state": "state_terminated",
        "ps-cell_sink_3_classname": "sink",
        "ps-cell_sink_3_id": "sink_3",
        "ps-cell_sink_3_is_visualization": " ",
        "ps-cell_sink_3_last_update": 0,
        "ps-cell_sink_3_order": 8,
        "ps-cell_sink_3_state": "state_terminated",
        "ps-cell_variable_1_classname": "variable",
        "ps-cell_variable_1_id": "variable_1",
        "ps-cell_variable_1_is_visualization": " ",
        "ps-cell_variable_1_last_update": 24155,
        "ps-cell_variable_1_order": 0,
        "ps-cell_variable_1_state": "state_blocked",
        "ps-cell_variable_2_classname": "variable",
        "ps-cell_variable_2_id": "variable_2",
        "ps-cell_variable_2_is_visualization": " ",
        "ps-cell_variable_2_last_update": 24158,
        "ps-cell_variable_2_order": 5,
        "ps-cell_variable_2_state": "state_blocked",
        "ps-cell_variable_3_classname": "variable",
        "ps-cell_variable_3_id": "variable_3",
        "ps-cell_variable_3_is_visualization": " ",
        "ps-cell_variable_3_last_update": 24157,
        "ps-cell_variable_3_order": 4,
        "ps-cell_variable_3_state": "state_blocked"
       },
       "html": "\n<table class=\"table table-striped table-bordered table-hover table-condensed\">\n<thead><tr><th></th><th>Id</th><th>Class</th><th>State</th><th>Last Update</th>\n<th>Order</th></tr></thead>\n<tbody>\n\n  <tr>\n  \n  <td>\n  \n  <span id=\"ps-cell_variable_1_is_visualization\"> </span>\n  \n  </td>\n  \n  <td>\n  \n  <a class='ps-row-btn' id=\"ps-row-btn_variable_1\" type='button' >variable_1</a>\n  \n  </td>\n  \n  <td>\n  \n  <span id=\"ps-cell_variable_1_classname\">variable</span>\n  \n  </td>\n  \n  <td>\n  \n  <span id=\"ps-cell_variable_1_state\">state_blocked</span>\n  \n  </td>\n  \n  <td>\n  \n  <span id=\"ps-cell_variable_1_last_update\">23786</span>\n  \n  </td>\n  \n  <td>\n  \n  <span id=\"ps-cell_variable_1_order\">0</span>\n  \n  </td>\n  \n  </tr>\n\n  <tr>\n  \n  <td>\n  \n  <span id=\"ps-cell_sink_1_is_visualization\"> </span>\n  \n  </td>\n  \n  <td>\n  \n  <a class='ps-row-btn' id=\"ps-row-btn_sink_1\" type='button' >sink_1</a>\n  \n  </td>\n  \n  <td>\n  \n  <span id=\"ps-cell_sink_1_classname\">sink</span>\n  \n  </td>\n  \n  <td>\n  \n  <span id=\"ps-cell_sink_1_state\">state_terminated</span>\n  \n  </td>\n  \n  <td>\n  \n  <span id=\"ps-cell_sink_1_last_update\">0</span>\n  \n  </td>\n  \n  <td>\n  \n  <span id=\"ps-cell_sink_1_order\">1</span>\n  \n  </td>\n  \n  </tr>\n\n  <tr>\n  \n  <td>\n  \n  <span id=\"ps-cell_blobs_p_table_1_is_visualization\"> </span>\n  \n  </td>\n  \n  <td>\n  \n  <a class='ps-row-btn' id=\"ps-row-btn_blobs_p_table_1\" type='button' >blobs_p_table_1</a>\n  \n  </td>\n  \n  <td>\n  \n  <span id=\"ps-cell_blobs_p_table_1_classname\">blobs_p_table</span>\n  \n  </td>\n  \n  <td>\n  \n  <span id=\"ps-cell_blobs_p_table_1_state\">state_ready</span>\n  \n  </td>\n  \n  <td>\n  \n  <span id=\"ps-cell_blobs_p_table_1_last_update\">23787</span>\n  \n  </td>\n  \n  <td>\n  \n  <span id=\"ps-cell_blobs_p_table_1_order\">2</span>\n  \n  </td>\n  \n  </tr>\n\n  <tr>\n  \n  <td>\n  \n  <span id=\"ps-cell_sink_2_is_visualization\"> </span>\n  \n  </td>\n  \n  <td>\n  \n  <a class='ps-row-btn' id=\"ps-row-btn_sink_2\" type='button' >sink_2</a>\n  \n  </td>\n  \n  <td>\n  \n  <span id=\"ps-cell_sink_2_classname\">sink</span>\n  \n  </td>\n  \n  <td>\n  \n  <span id=\"ps-cell_sink_2_state\">state_terminated</span>\n  \n  </td>\n  \n  <td>\n  \n  <span id=\"ps-cell_sink_2_last_update\">0</span>\n  \n  </td>\n  \n  <td>\n  \n  <span id=\"ps-cell_sink_2_order\">3</span>\n  \n  </td>\n  \n  </tr>\n\n  <tr>\n  \n  <td>\n  \n  <span id=\"ps-cell_variable_3_is_visualization\"> </span>\n  \n  </td>\n  \n  <td>\n  \n  <a class='ps-row-btn' id=\"ps-row-btn_variable_3\" type='button' >variable_3</a>\n  \n  </td>\n  \n  <td>\n  \n  <span id=\"ps-cell_variable_3_classname\">variable</span>\n  \n  </td>\n  \n  <td>\n  \n  <span id=\"ps-cell_variable_3_state\">state_blocked</span>\n  \n  </td>\n  \n  <td>\n  \n  <span id=\"ps-cell_variable_3_last_update\">23788</span>\n  \n  </td>\n  \n  <td>\n  \n  <span id=\"ps-cell_variable_3_order\">4</span>\n  \n  </td>\n  \n  </tr>\n\n  <tr>\n  \n  <td>\n  \n  <span id=\"ps-cell_variable_2_is_visualization\"> </span>\n  \n  </td>\n  \n  <td>\n  \n  <a class='ps-row-btn' id=\"ps-row-btn_variable_2\" type='button' >variable_2</a>\n  \n  </td>\n  \n  <td>\n  \n  <span id=\"ps-cell_variable_2_classname\">variable</span>\n  \n  </td>\n  \n  <td>\n  \n  <span id=\"ps-cell_variable_2_state\">state_blocked</span>\n  \n  </td>\n  \n  <td>\n  \n  <span id=\"ps-cell_variable_2_last_update\">23789</span>\n  \n  </td>\n  \n  <td>\n  \n  <span id=\"ps-cell_variable_2_order\">5</span>\n  \n  </td>\n  \n  </tr>\n\n  <tr>\n  \n  <td>\n  \n  <span id=\"ps-cell_binning_index_nd_1_is_visualization\"> </span>\n  \n  </td>\n  \n  <td>\n  \n  <a class='ps-row-btn' id=\"ps-row-btn_binning_index_nd_1\" type='button' >binning_index_nd_1</a>\n  \n  </td>\n  \n  <td>\n  \n  <span id=\"ps-cell_binning_index_nd_1_classname\">binning_index_nd</span>\n  \n  </td>\n  \n  <td>\n  \n  <span id=\"ps-cell_binning_index_nd_1_state\">state_ready</span>\n  \n  </td>\n  \n  <td>\n  \n  <span id=\"ps-cell_binning_index_nd_1_last_update\">23784</span>\n  \n  </td>\n  \n  <td>\n  \n  <span id=\"ps-cell_binning_index_nd_1_order\">6</span>\n  \n  </td>\n  \n  </tr>\n\n  <tr>\n  \n  <td>\n  \n  <span id=\"ps-cell_range_query2d_1_is_visualization\"> </span>\n  \n  </td>\n  \n  <td>\n  \n  <a class='ps-row-btn' id=\"ps-row-btn_range_query2d_1\" type='button' >range_query2d_1</a>\n  \n  </td>\n  \n  <td>\n  \n  <span id=\"ps-cell_range_query2d_1_classname\">range_query2d</span>\n  \n  </td>\n  \n  <td>\n  \n  <span id=\"ps-cell_range_query2d_1_state\">state_ready</span>\n  \n  </td>\n  \n  <td>\n  \n  <span id=\"ps-cell_range_query2d_1_last_update\">23785</span>\n  \n  </td>\n  \n  <td>\n  \n  <span id=\"ps-cell_range_query2d_1_order\">7</span>\n  \n  </td>\n  \n  </tr>\n\n  <tr>\n  \n  <td>\n  \n  <span id=\"ps-cell_sink_3_is_visualization\"> </span>\n  \n  </td>\n  \n  <td>\n  \n  <a class='ps-row-btn' id=\"ps-row-btn_sink_3\" type='button' >sink_3</a>\n  \n  </td>\n  \n  <td>\n  \n  <span id=\"ps-cell_sink_3_classname\">sink</span>\n  \n  </td>\n  \n  <td>\n  \n  <span id=\"ps-cell_sink_3_state\">state_terminated</span>\n  \n  </td>\n  \n  <td>\n  \n  <span id=\"ps-cell_sink_3_last_update\">0</span>\n  \n  </td>\n  \n  <td>\n  \n  <span id=\"ps-cell_sink_3_order\">8</span>\n  \n  </td>\n  \n  </tr>\n\n  <tr>\n  \n  <td>\n  \n  <span id=\"ps-cell_min_1_is_visualization\"> </span>\n  \n  </td>\n  \n  <td>\n  \n  <a class='ps-row-btn' id=\"ps-row-btn_min_1\" type='button' >min_1</a>\n  \n  </td>\n  \n  <td>\n  \n  <span id=\"ps-cell_min_1_classname\">min</span>\n  \n  </td>\n  \n  <td>\n  \n  <span id=\"ps-cell_min_1_state\">state_ready</span>\n  \n  </td>\n  \n  <td>\n  \n  <span id=\"ps-cell_min_1_last_update\">0</span>\n  \n  </td>\n  \n  <td>\n  \n  <span id=\"ps-cell_min_1_order\">9</span>\n  \n  </td>\n  \n  </tr>\n\n  <tr>\n  \n  <td>\n  \n  <span id=\"ps-cell_max_1_is_visualization\"> </span>\n  \n  </td>\n  \n  <td>\n  \n  <a class='ps-row-btn' id=\"ps-row-btn_max_1\" type='button' >max_1</a>\n  \n  </td>\n  \n  <td>\n  \n  <span id=\"ps-cell_max_1_classname\">max</span>\n  \n  </td>\n  \n  <td>\n  \n  <span id=\"ps-cell_max_1_state\">state_ready</span>\n  \n  </td>\n  \n  <td>\n  \n  <span id=\"ps-cell_max_1_last_update\">0</span>\n  \n  </td>\n  \n  <td>\n  \n  <span id=\"ps-cell_max_1_order\">10</span>\n  \n  </td>\n  \n  </tr>\n\n  <tr>\n  \n  <td>\n  \n  <span id=\"ps-cell_histogram2_d_1_is_visualization\">a</span>\n  \n  </td>\n  \n  <td>\n  \n  <a class='ps-row-btn' id=\"ps-row-btn_histogram2_d_1\" type='button' >histogram2_d_1</a>\n  \n  </td>\n  \n  <td>\n  \n  <span id=\"ps-cell_histogram2_d_1_classname\">histogram2_d</span>\n  \n  </td>\n  \n  <td>\n  \n  <span id=\"ps-cell_histogram2_d_1_state\">state_ready</span>\n  \n  </td>\n  \n  <td>\n  \n  <span id=\"ps-cell_histogram2_d_1_last_update\">0</span>\n  \n  </td>\n  \n  <td>\n  \n  <span id=\"ps-cell_histogram2_d_1_order\">11</span>\n  \n  </td>\n  \n  </tr>\n\n  <tr>\n  \n  <td>\n  \n  <span id=\"ps-cell_heatmap_1_is_visualization\">a</span>\n  \n  </td>\n  \n  <td>\n  \n  <a class='ps-row-btn' id=\"ps-row-btn_heatmap_1\" type='button' >heatmap_1</a>\n  \n  </td>\n  \n  <td>\n  \n  <span id=\"ps-cell_heatmap_1_classname\">heatmap</span>\n  \n  </td>\n  \n  <td>\n  \n  <span id=\"ps-cell_heatmap_1_state\">state_ready</span>\n  \n  </td>\n  \n  <td>\n  \n  <span id=\"ps-cell_heatmap_1_last_update\">0</span>\n  \n  </td>\n  \n  <td>\n  \n  <span id=\"ps-cell_heatmap_1_order\">12</span>\n  \n  </td>\n  \n  </tr>\n\n</tbody>\n</table>",
       "layout": "IPY_MODEL_cc141a81637e4fbf8d55b9b650eba76d",
       "sensitive_css_class": "ps-row-btn",
       "value": {}
      }
     },
     "d68ba4aa924e4f0c8643f1f1c84aefa7": {
      "model_module": "@jupyter-widgets/controls",
      "model_module_version": "2.0.0",
      "model_name": "HBoxModel",
      "state": {
       "children": [
        "IPY_MODEL_85629983538f4a06b33e7035f31e856f",
        "IPY_MODEL_ff91621043c8436aaedb72065d5d3075",
        "IPY_MODEL_706bdc0e4c044205928427fa93602e0c",
        "IPY_MODEL_7573da8287fa4218ad4f142b34861004"
       ],
       "layout": "IPY_MODEL_f148f58803234ff798d3c184eb7e6103"
      }
     },
     "d71901b14f754990969b42e2b338e63a": {
      "model_module": "@jupyter-widgets/base",
      "model_module_version": "2.0.0",
      "model_name": "LayoutModel",
      "state": {}
     },
     "d787740d773f411c8d88ab808d83071f": {
      "model_module": "@jupyter-widgets/controls",
      "model_module_version": "2.0.0",
      "model_name": "FloatRangeSliderModel",
      "state": {
       "_model_name": "FloatRangeSliderModel",
       "_view_name": "FloatRangeSliderView",
       "behavior": "drag-tap",
       "continuous_update": false,
       "description": "X",
       "layout": "IPY_MODEL_2e4b3de293174ff68bdc26562d3482be",
       "max": 5.765666823551012,
       "min": -5.645397365875668,
       "readout_format": ".1f",
       "step": 0.1,
       "style": "IPY_MODEL_fed3103a2d45435bbd3ae78674fa2c81",
       "value": [
        -2.9453973658756682,
        5.765666823551012
       ]
      }
     },
     "d8410012453d40dca09afaa5b48c9429": {
      "model_module": "@jupyter-widgets/base",
      "model_module_version": "2.0.0",
      "model_name": "LayoutModel",
      "state": {}
     },
     "d97e307ca29d413c91887c0499b92c1e": {
      "model_module": "@jupyter-widgets/controls",
      "model_module_version": "2.0.0",
      "model_name": "TextStyleModel",
      "state": {
       "description_width": "initial",
       "font_size": null,
       "text_color": null
      }
     },
     "db402585109f4d5abc7867680226a566": {
      "model_module": "@jupyter-widgets/base",
      "model_module_version": "2.0.0",
      "model_name": "LayoutModel",
      "state": {}
     },
     "dbb137ac44834ed7a9e6edce76bce6d9": {
      "model_module": "@jupyter-widgets/controls",
      "model_module_version": "2.0.0",
      "model_name": "ButtonModel",
      "state": {
       "description": "Chain it",
       "icon": "check",
       "layout": "IPY_MODEL_b131b6c2aace477e81c9a9cbf178265f",
       "style": "IPY_MODEL_2b6b7f9cbe7a4c3191ac3f030553eaf9",
       "tooltip": "Chain it"
      }
     },
     "dc21e06591ec4ce587ae5485d2df0f1a": {
      "model_module": "@jupyter-widgets/controls",
      "model_module_version": "2.0.0",
      "model_name": "VBoxModel",
      "state": {
       "_dom_classes": [
        "progressivis_guest_widget"
       ],
       "children": [
        "IPY_MODEL_088ccb96d16e44a5b750f732cb288a40",
        "IPY_MODEL_dc40efe3256c465598e7651b6d58fcd5",
        "IPY_MODEL_585b5085940c4b34a9c7cb45f2b63a4c",
        "IPY_MODEL_422ae3eb20a547deb59ad3aab2ba9a75",
        "IPY_MODEL_0d26867fec0e4fcc988845ea1a1bfca0"
       ],
       "layout": "IPY_MODEL_e4a20cbd67d94ad58a810baa662ce87d"
      }
     },
     "dc40efe3256c465598e7651b6d58fcd5": {
      "model_module": "@jupyter-widgets/controls",
      "model_module_version": "2.0.0",
      "model_name": "HTMLModel",
      "state": {
       "layout": "IPY_MODEL_77839c1e241844ee8fa20c1524250f97",
       "style": "IPY_MODEL_cf205f26dc0f4476a804311a5244da93"
      }
     },
     "dd09083dd2d84d0ab911cf2fa9cd2822": {
      "model_module": "@jupyter-widgets/base",
      "model_module_version": "2.0.0",
      "model_name": "LayoutModel",
      "state": {}
     },
     "ddf90589db2a4b71b2aa04f4255ba95e": {
      "model_module": "@jupyter-widgets/controls",
      "model_module_version": "2.0.0",
      "model_name": "LabelModel",
      "state": {
       "layout": "IPY_MODEL_05465b7ff5e94c9b815ba831dd94e347",
       "style": "IPY_MODEL_e4300a2d6a0a496398e53c8acca4c8e7"
      }
     },
     "de36219ef50e4708867f1bf2df05180c": {
      "model_module": "@jupyter-widgets/base",
      "model_module_version": "2.0.0",
      "model_name": "LayoutModel",
      "state": {}
     },
     "de480e707679457d978d43c11c8c058c": {
      "model_module": "@jupyter-widgets/controls",
      "model_module_version": "2.0.0",
      "model_name": "HBoxModel",
      "state": {
       "children": [
        "IPY_MODEL_1d2fe8f8286546a7af5193660be32eaa",
        "IPY_MODEL_1b85e908cb8c47219fe01198a79f3ee4",
        "IPY_MODEL_dbb137ac44834ed7a9e6edce76bce6d9",
        "IPY_MODEL_ae1e97094da740cca951aadf9906fcf5"
       ],
       "layout": "IPY_MODEL_a9c755719db34aaebba4af67f159ccd1"
      }
     },
     "e21ade3d86804844b5b1388e1356ae25": {
      "model_module": "@jupyter-widgets/controls",
      "model_module_version": "2.0.0",
      "model_name": "TextStyleModel",
      "state": {
       "description_width": "",
       "font_size": null,
       "text_color": null
      }
     },
     "e2cbb64694ce45978ea4f9a116f328cf": {
      "model_module": "@jupyter-widgets/base",
      "model_module_version": "2.0.0",
      "model_name": "LayoutModel",
      "state": {
       "grid_template_columns": "200px repeat(1, 70px)"
      }
     },
     "e362fa9c9d0b4245b2e9304128c189d4": {
      "model_module": "@jupyter-widgets/controls",
      "model_module_version": "2.0.0",
      "model_name": "HTMLStyleModel",
      "state": {
       "description_width": "",
       "font_size": null,
       "text_color": null
      }
     },
     "e37ee739d28c487eb935e9b5765cded0": {
      "model_module": "@jupyter-widgets/controls",
      "model_module_version": "2.0.0",
      "model_name": "DescriptionStyleModel",
      "state": {
       "description_width": ""
      }
     },
     "e39f0eaa110f4e8c8173f91f4f17f3a4": {
      "model_module": "@jupyter-widgets/base",
      "model_module_version": "2.0.0",
      "model_name": "LayoutModel",
      "state": {}
     },
     "e4300a2d6a0a496398e53c8acca4c8e7": {
      "model_module": "@jupyter-widgets/controls",
      "model_module_version": "2.0.0",
      "model_name": "LabelStyleModel",
      "state": {
       "description_width": "",
       "font_family": null,
       "font_size": null,
       "font_style": null,
       "font_variant": null,
       "font_weight": null,
       "text_color": null,
       "text_decoration": null
      }
     },
     "e4a20cbd67d94ad58a810baa662ce87d": {
      "model_module": "@jupyter-widgets/base",
      "model_module_version": "2.0.0",
      "model_name": "LayoutModel",
      "state": {}
     },
     "e65f15686f0941faacc28cdb92da3a79": {
      "model_module": "@jupyter-widgets/base",
      "model_module_version": "2.0.0",
      "model_name": "LayoutModel",
      "state": {}
     },
     "e73b1364c27f4b23aba4faa059c20e28": {
      "model_module": "@jupyter-widgets/controls",
      "model_module_version": "2.0.0",
      "model_name": "LabelStyleModel",
      "state": {
       "description_width": "",
       "font_family": null,
       "font_size": null,
       "font_style": null,
       "font_variant": null,
       "font_weight": null,
       "text_color": null,
       "text_decoration": null
      }
     },
     "e81b390404254c66a6fe4198798596c9": {
      "model_module": "@jupyter-widgets/base",
      "model_module_version": "2.0.0",
      "model_name": "LayoutModel",
      "state": {}
     },
     "e8a9eec55c7d4ddfaa91931c5393100b": {
      "model_module": "@jupyter-widgets/controls",
      "model_module_version": "2.0.0",
      "model_name": "DropdownModel",
      "state": {
       "_options_labels": [
        "",
        "CSV loader",
        "PARQUET loader",
        "CUSTOM loader"
       ],
       "description": "Loader",
       "disabled": true,
       "index": 3,
       "layout": "IPY_MODEL_b2d3639f665041c980f381cfce8377c7",
       "style": "IPY_MODEL_c171e5b5373447238e2d8f21aba04165"
      }
     },
     "eb367c8f1a9040fd9d54e7129be0f15a": {
      "model_module": "@jupyter-widgets/base",
      "model_module_version": "2.0.0",
      "model_name": "LayoutModel",
      "state": {}
     },
     "ebfe272920294a84a0fb4d91d3f8c9b5": {
      "model_module": "@jupyter-widgets/controls",
      "model_module_version": "2.0.0",
      "model_name": "LabelStyleModel",
      "state": {
       "description_width": "",
       "font_family": null,
       "font_size": null,
       "font_style": null,
       "font_variant": null,
       "font_weight": null,
       "text_color": null,
       "text_decoration": null
      }
     },
     "ec2c8abfaa3e4373802f0383701df4ee": {
      "model_module": "@jupyter-widgets/base",
      "model_module_version": "2.0.0",
      "model_name": "LayoutModel",
      "state": {}
     },
     "ecb345258a0a4eba8b55c9dd2d58ed13": {
      "model_module": "@jupyter-widgets/controls",
      "model_module_version": "2.0.0",
      "model_name": "LabelModel",
      "state": {
       "layout": "IPY_MODEL_c35e34ccbc3444fcaf80eada3d6be5ed",
       "style": "IPY_MODEL_31abcbf95cf4461db20f61cbfaa36fab"
      }
     },
     "eccd88a175d94ee695903245fd40512a": {
      "model_module": "@jupyter-widgets/base",
      "model_module_version": "2.0.0",
      "model_name": "LayoutModel",
      "state": {}
     },
     "edc38b3d780947789aaf023066c72684": {
      "model_module": "@jupyter-widgets/controls",
      "model_module_version": "2.0.0",
      "model_name": "HTMLModel",
      "state": {
       "layout": "IPY_MODEL_160fa229b24942e1bd5ca81a83f90c33",
       "style": "IPY_MODEL_b646376cbdac4ec4993ca2fdb0bd3bcb"
      }
     },
     "edebe4b5755049a29736d9011e4b4530": {
      "model_module": "@jupyter-widgets/output",
      "model_module_version": "1.0.0",
      "model_name": "OutputModel",
      "state": {
       "layout": "IPY_MODEL_d71901b14f754990969b42e2b338e63a"
      }
     },
     "ee28bb558d36470b9e05d23b89f9c1dd": {
      "model_module": "@jupyter-widgets/base",
      "model_module_version": "2.0.0",
      "model_name": "LayoutModel",
      "state": {}
     },
     "ee36e2c4188d47f9beb2d05e452f9b47": {
      "model_module": "@jupyter-widgets/controls",
      "model_module_version": "2.0.0",
      "model_name": "HTMLModel",
      "state": {
       "layout": "IPY_MODEL_9535ac44c8f3485bb52a9255d4a8f52b",
       "style": "IPY_MODEL_76ae59d9bbe74a5ab982dc6ff8f988d2"
      }
     },
     "ee8a8199e6c04a6e9942a51179252546": {
      "model_module": "@jupyter-widgets/controls",
      "model_module_version": "2.0.0",
      "model_name": "DropdownModel",
      "state": {
       "_options_labels": [
        "",
        "blobs_table"
       ],
       "description": "Snippet:",
       "disabled": true,
       "index": 1,
       "layout": "IPY_MODEL_775e5f212c9a4dfb8f95472683859fa5",
       "style": "IPY_MODEL_fbdce728bd364e83ae85b75b9d656133"
      }
     },
     "ef11dbd30811419bb455a277dc2e506f": {
      "model_module": "@jupyter-widgets/controls",
      "model_module_version": "2.0.0",
      "model_name": "TextStyleModel",
      "state": {
       "description_width": "initial",
       "font_size": null,
       "text_color": null
      }
     },
     "f032604e1dd24d20998d229cea9ebc63": {
      "model_module": "@jupyter-widgets/controls",
      "model_module_version": "2.0.0",
      "model_name": "HTMLModel",
      "state": {
       "layout": "IPY_MODEL_5975a73cd5e34171828253d31ec4db28",
       "style": "IPY_MODEL_4dbc80c4ed824ec0ba88690def8dc57e",
       "value": "<img src='data:image/png;base64,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'/>"
      }
     },
     "f148f58803234ff798d3c184eb7e6103": {
      "model_module": "@jupyter-widgets/base",
      "model_module_version": "2.0.0",
      "model_name": "LayoutModel",
      "state": {}
     },
     "f1a69b6c7d834f90a95ccfe0b8ff86cb": {
      "model_module": "@jupyter-widgets/base",
      "model_module_version": "2.0.0",
      "model_name": "LayoutModel",
      "state": {}
     },
     "f29c3a7b9f4a4a4e99b8fa2eda986c34": {
      "model_module": "@jupyter-widgets/controls",
      "model_module_version": "2.0.0",
      "model_name": "HTMLStyleModel",
      "state": {
       "description_width": "",
       "font_size": null,
       "text_color": null
      }
     },
     "f29d2bdbc3124ac1896af4a0b673dca9": {
      "model_module": "@jupyter-widgets/controls",
      "model_module_version": "2.0.0",
      "model_name": "IntSliderModel",
      "state": {
       "behavior": "drag-tap",
       "continuous_update": false,
       "description": "Display T:",
       "layout": "IPY_MODEL_c897f3eb4116441a9a9e8b50822a3fd9",
       "max": 10,
       "min": 1,
       "style": "IPY_MODEL_f93b46ccccec43bfbfd04e90b3265372",
       "value": 1
      }
     },
     "f303a34eab604614bd39ea54327fd75a": {
      "model_module": "@jupyter-widgets/controls",
      "model_module_version": "2.0.0",
      "model_name": "HTMLModel",
      "state": {
       "layout": "IPY_MODEL_f556621cd4af439cbe9a5c1a2b754a7a",
       "style": "IPY_MODEL_d0be364b6dcf49adab072210e68ff606"
      }
     },
     "f42b597a6ebc4ea39d5c1002e14a3515": {
      "model_module": "@jupyter-widgets/base",
      "model_module_version": "2.0.0",
      "model_name": "LayoutModel",
      "state": {}
     },
     "f443629947d84918b6f6478fabe38cfd": {
      "model_module": "@jupyter-widgets/controls",
      "model_module_version": "2.0.0",
      "model_name": "LabelStyleModel",
      "state": {
       "description_width": "",
       "font_family": null,
       "font_size": null,
       "font_style": null,
       "font_variant": null,
       "font_weight": null,
       "text_color": null,
       "text_decoration": null
      }
     },
     "f4dd83c2b8da4b60884d0d9537ef44bb": {
      "model_module": "@jupyter-widgets/controls",
      "model_module_version": "2.0.0",
      "model_name": "ButtonModel",
      "state": {
       "description": "Start",
       "disabled": true,
       "icon": "check",
       "layout": "IPY_MODEL_4ac989c547b240a5bfa90072f53a2475",
       "style": "IPY_MODEL_c258e6882da74862b67dd6633c2babaa",
       "tooltip": "Start"
      }
     },
     "f556621cd4af439cbe9a5c1a2b754a7a": {
      "model_module": "@jupyter-widgets/base",
      "model_module_version": "2.0.0",
      "model_name": "LayoutModel",
      "state": {}
     },
     "f93b46ccccec43bfbfd04e90b3265372": {
      "model_module": "@jupyter-widgets/controls",
      "model_module_version": "2.0.0",
      "model_name": "SliderStyleModel",
      "state": {
       "description_width": "initial"
      }
     },
     "fa142173b8504496bc0956dcd820a003": {
      "model_module": "@jupyter-widgets/controls",
      "model_module_version": "2.0.0",
      "model_name": "HTMLStyleModel",
      "state": {
       "description_width": "",
       "font_size": null,
       "text_color": null
      }
     },
     "fb4bc4178c0d403a879cc2cd6d979dd0": {
      "model_module": "@jupyter-widgets/controls",
      "model_module_version": "2.0.0",
      "model_name": "HTMLStyleModel",
      "state": {
       "description_width": "",
       "font_size": null,
       "text_color": null
      }
     },
     "fbdce728bd364e83ae85b75b9d656133": {
      "model_module": "@jupyter-widgets/controls",
      "model_module_version": "2.0.0",
      "model_name": "DescriptionStyleModel",
      "state": {
       "description_width": ""
      }
     },
     "fcfae1edfacc44058f5a502d5b3779da": {
      "model_module": "@jupyter-widgets/base",
      "model_module_version": "2.0.0",
      "model_name": "LayoutModel",
      "state": {}
     },
     "fe5ae4a103c24a619736cda9b1be34fd": {
      "model_module": "@jupyter-widgets/base",
      "model_module_version": "2.0.0",
      "model_name": "LayoutModel",
      "state": {}
     },
     "feb1a1c08fec474ea9ba2dd52dd65da7": {
      "model_module": "@jupyter-widgets/controls",
      "model_module_version": "2.0.0",
      "model_name": "LabelModel",
      "state": {
       "layout": "IPY_MODEL_7fb79a65e1a14f2e9012ce838fe7818a",
       "style": "IPY_MODEL_815e3faef7104fbd9c59fbd6be28eb6a",
       "value": "_2"
      }
     },
     "fed3103a2d45435bbd3ae78674fa2c81": {
      "model_module": "@jupyter-widgets/controls",
      "model_module_version": "2.0.0",
      "model_name": "SliderStyleModel",
      "state": {
       "description_width": ""
      }
     },
     "ff91621043c8436aaedb72065d5d3075": {
      "model_module": "@jupyter-widgets/controls",
      "model_module_version": "2.0.0",
      "model_name": "ButtonModel",
      "state": {
       "description": "Stop",
       "icon": "stop",
       "layout": "IPY_MODEL_cc4944f1f5ab424e9fc6363eb25fa31c",
       "style": "IPY_MODEL_7f049f60431c4a19b914bf739f0dbf5c",
       "tooltip": "Stop"
      }
     }
    },
    "version_major": 2,
    "version_minor": 0
   }
  }
 },
 "nbformat": 4,
 "nbformat_minor": 5
}
