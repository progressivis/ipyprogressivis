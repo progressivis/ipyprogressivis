{
 "cells": [
  {
   "cell_type": "code",
   "execution_count": 1,
   "id": "9391d3c4-266a-4b62-96c5-f1b3ae1089f9",
   "metadata": {},
   "outputs": [],
   "source": [
    "from ipyprogressivis.widgets.quality_visualization import QualityVisualization"
   ]
  },
  {
   "cell_type": "code",
   "execution_count": 2,
   "id": "8d09fc6f-021a-4cf9-beb7-f8cf65ade22e",
   "metadata": {},
   "outputs": [
    {
     "data": {
      "application/vnd.jupyter.widget-view+json": {
       "model_id": "405d9484f7f2487ba7850316aca200b0",
       "version_major": 2,
       "version_minor": 0
      },
      "text/plain": [
       "QualityVisualization()"
      ]
     },
     "execution_count": 2,
     "metadata": {},
     "output_type": "execute_result"
    }
   ],
   "source": [
    "pbar = QualityVisualization()\n",
    "pbar"
   ]
  },
  {
   "cell_type": "code",
   "execution_count": 3,
   "id": "9840bc09-c72c-40f5-b67d-43de85160b7e",
   "metadata": {},
   "outputs": [],
   "source": [
    "pbar.update({\"mean\": 20}, 10)"
   ]
  },
  {
   "cell_type": "code",
   "execution_count": 4,
   "id": "af55b18f-82fa-4546-95b4-f4b1ec2785f8",
   "metadata": {},
   "outputs": [],
   "source": [
    "pbar.update({\"mean\": 30}, 20)"
   ]
  },
  {
   "cell_type": "code",
   "execution_count": 5,
   "id": "22a8c7b4-ecc1-4a88-bb9e-d0eb93811e74",
   "metadata": {},
   "outputs": [],
   "source": [
    "pbar.update({\"mean\": 20}, 30)"
   ]
  },
  {
   "cell_type": "code",
   "execution_count": 6,
   "id": "25d83bc4-e343-4fd6-b3c3-9a8bd32287c2",
   "metadata": {},
   "outputs": [],
   "source": [
    "pbar.update({\"mean\": 25, \"var\": 4}, 40)"
   ]
  },
  {
   "cell_type": "code",
   "execution_count": 7,
   "id": "d9a3a861-5f6b-484e-8f7b-d0d2d5052b65",
   "metadata": {},
   "outputs": [],
   "source": [
    "pbar.update({\"mean\": 20, \"var\": 5}, 50)"
   ]
  },
  {
   "cell_type": "code",
   "execution_count": 8,
   "id": "f9d424df-9187-4b9f-8421-cc2ad09a57cc",
   "metadata": {},
   "outputs": [],
   "source": [
    "pbar.update({\"mean\": 30, \"var\": 25}, 100)"
   ]
  },
  {
   "cell_type": "code",
   "execution_count": null,
   "id": "ff5a51ad-3507-430f-9df2-93628d401770",
   "metadata": {},
   "outputs": [],
   "source": []
  }
 ],
 "metadata": {
  "kernelspec": {
   "display_name": "Python 3 (ipykernel)",
   "language": "python",
   "name": "python3"
  },
  "language_info": {
   "codemirror_mode": {
    "name": "ipython",
    "version": 3
   },
   "file_extension": ".py",
   "mimetype": "text/x-python",
   "name": "python",
   "nbconvert_exporter": "python",
   "pygments_lexer": "ipython3",
   "version": "3.13.5"
  },
  "widgets": {
   "application/vnd.jupyter.widget-state+json": {
    "state": {
     "405d9484f7f2487ba7850316aca200b0": {
      "model_module": "jupyter-progressivis",
      "model_module_version": "^0.1.0",
      "model_name": "QualityVisualizationModel",
      "state": {
       "_img_url": "%3Csvg%20class%3D%22quality-vis%22%20width%3D%22300%22%20height%3D%2250%22%3E%3Cg%3E%3Cpolyline%20class%3D%22qline%22%20stroke%3D%22%231f77b4%22%20points%3D%22%205%2C%2030%2013.636363636363637%2C%205%2028.03030303030303%2C%2030%2048.18181818181818%2C%2017.5%2074.0909090909091%2C%2030%20290%2C%205%22%3E%3Ctitle%3Emean%3C%2Ftitle%3E%3C%2Fpolyline%3E%3Cpolyline%20class%3D%22qline%22%20stroke%3D%22%23ff7f0e%22%20points%3D%22%2048.18181818181818%2C%2030%2074.0909090909091%2C%2028.809523809523807%20290%2C%205%22%3E%3Ctitle%3Evar%3C%2Ftitle%3E%3C%2Fpolyline%3E%3C%2Fg%3E%3Cg%20transform%3D%22translate(0%2C%2035)%22%20fill%3D%22none%22%20font-size%3D%228%22%20font-family%3D%22sans-serif%22%20text-anchor%3D%22middle%22%3E%3Cpath%20class%3D%22domain%22%20stroke%3D%22currentColor%22%20d%3D%22M5.5%2C6V0.5H290.5V6%22%3E%3C%2Fpath%3E%3Cg%20class%3D%22tick%22%20opacity%3D%221%22%20transform%3D%22translate(5.5%2C0)%22%3E%3Cline%20stroke%3D%22currentColor%22%20y2%3D%226%22%3E%3C%2Fline%3E%3Ctext%20fill%3D%22currentColor%22%20y%3D%229%22%20dy%3D%220.71em%22%3E10%3C%2Ftext%3E%3C%2Fg%3E%3Cg%20class%3D%22tick%22%20opacity%3D%221%22%20transform%3D%22translate(14.136363636363637%2C0)%22%3E%3Cline%20stroke%3D%22currentColor%22%20y2%3D%226%22%3E%3C%2Fline%3E%3Ctext%20fill%3D%22currentColor%22%20y%3D%229%22%20dy%3D%220.71em%22%3E20%3C%2Ftext%3E%3C%2Fg%3E%3Cg%20class%3D%22tick%22%20opacity%3D%221%22%20transform%3D%22translate(28.53030303030303%2C0)%22%3E%3Cline%20stroke%3D%22currentColor%22%20y2%3D%226%22%3E%3C%2Fline%3E%3Ctext%20fill%3D%22currentColor%22%20y%3D%229%22%20dy%3D%220.71em%22%3E30%3C%2Ftext%3E%3C%2Fg%3E%3Cg%20class%3D%22tick%22%20opacity%3D%221%22%20transform%3D%22translate(48.68181818181818%2C0)%22%3E%3Cline%20stroke%3D%22currentColor%22%20y2%3D%226%22%3E%3C%2Fline%3E%3Ctext%20fill%3D%22currentColor%22%20y%3D%229%22%20dy%3D%220.71em%22%3E40%3C%2Ftext%3E%3C%2Fg%3E%3Cg%20class%3D%22tick%22%20opacity%3D%221%22%20transform%3D%22translate(74.5909090909091%2C0)%22%3E%3Cline%20stroke%3D%22currentColor%22%20y2%3D%226%22%3E%3C%2Fline%3E%3Ctext%20fill%3D%22currentColor%22%20y%3D%229%22%20dy%3D%220.71em%22%3E50%3C%2Ftext%3E%3C%2Fg%3E%3Cg%20class%3D%22tick%22%20opacity%3D%221%22%20transform%3D%22translate(106.25757575757575%2C0)%22%3E%3Cline%20stroke%3D%22currentColor%22%20y2%3D%226%22%3E%3C%2Fline%3E%3Ctext%20fill%3D%22currentColor%22%20y%3D%229%22%20dy%3D%220.71em%22%3E60%3C%2Ftext%3E%3C%2Fg%3E%3Cg%20class%3D%22tick%22%20opacity%3D%221%22%20transform%3D%22translate(143.6818181818182%2C0)%22%3E%3Cline%20stroke%3D%22currentColor%22%20y2%3D%226%22%3E%3C%2Fline%3E%3Ctext%20fill%3D%22currentColor%22%20y%3D%229%22%20dy%3D%220.71em%22%3E70%3C%2Ftext%3E%3C%2Fg%3E%3Cg%20class%3D%22tick%22%20opacity%3D%221%22%20transform%3D%22translate(186.86363636363635%2C0)%22%3E%3Cline%20stroke%3D%22currentColor%22%20y2%3D%226%22%3E%3C%2Fline%3E%3Ctext%20fill%3D%22currentColor%22%20y%3D%229%22%20dy%3D%220.71em%22%3E80%3C%2Ftext%3E%3C%2Fg%3E%3Cg%20class%3D%22tick%22%20opacity%3D%221%22%20transform%3D%22translate(235.8030303030303%2C0)%22%3E%3Cline%20stroke%3D%22currentColor%22%20y2%3D%226%22%3E%3C%2Fline%3E%3Ctext%20fill%3D%22currentColor%22%20y%3D%229%22%20dy%3D%220.71em%22%3E90%3C%2Ftext%3E%3C%2Fg%3E%3Cg%20class%3D%22tick%22%20opacity%3D%221%22%20transform%3D%22translate(290.5%2C0)%22%3E%3Cline%20stroke%3D%22currentColor%22%20y2%3D%226%22%3E%3C%2Fline%3E%3Ctext%20fill%3D%22currentColor%22%20y%3D%229%22%20dy%3D%220.71em%22%3E100%3C%2Ftext%3E%3C%2Fg%3E%3C%2Fg%3E%3Ctext%20x%3D%222%22%20y%3D%2210%22%20class%3D%22qlabel%22%20fill%3D%22%231f77b4%22%3Emean%3C%2Ftext%3E%3Ctext%20x%3D%222%22%20y%3D%2220%22%20class%3D%22qlabel%22%20fill%3D%22%23ff7f0e%22%3Evar%3C%2Ftext%3E%3C%2Fsvg%3E",
       "_model_module_version": "^0.1.0",
       "_view_module_version": "^0.1.0",
       "layout": "IPY_MODEL_5ce716c4e5e44939873a61786425ffdd"
      }
     },
     "5ce716c4e5e44939873a61786425ffdd": {
      "model_module": "@jupyter-widgets/base",
      "model_module_version": "2.0.0",
      "model_name": "LayoutModel",
      "state": {}
     }
    },
    "version_major": 2,
    "version_minor": 0
   }
  }
 },
 "nbformat": 4,
 "nbformat_minor": 5
}
