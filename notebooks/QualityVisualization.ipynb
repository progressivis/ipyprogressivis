{
 "cells": [
  {
   "cell_type": "code",
   "execution_count": 1,
   "id": "9391d3c4-266a-4b62-96c5-f1b3ae1089f9",
   "metadata": {},
   "outputs": [],
   "source": [
    "from ipyprogressivis.widgets.quality_visualization import QualityVisualization"
   ]
  },
  {
   "cell_type": "code",
   "execution_count": 2,
   "id": "8d09fc6f-021a-4cf9-beb7-f8cf65ade22e",
   "metadata": {},
   "outputs": [
    {
     "data": {
      "application/vnd.jupyter.widget-view+json": {
       "model_id": "b3a2d60831244b4f89235a22ef5aee7f",
       "version_major": 2,
       "version_minor": 0
      },
      "text/plain": [
       "QualityVisualization()"
      ]
     },
     "execution_count": 2,
     "metadata": {},
     "output_type": "execute_result"
    }
   ],
   "source": [
    "pbar = QualityVisualization()\n",
    "pbar"
   ]
  },
  {
   "cell_type": "code",
   "execution_count": 3,
   "id": "9840bc09-c72c-40f5-b67d-43de85160b7e",
   "metadata": {},
   "outputs": [],
   "source": [
    "pbar.update({\"mean\": 20}, 10)"
   ]
  },
  {
   "cell_type": "code",
   "execution_count": 4,
   "id": "af55b18f-82fa-4546-95b4-f4b1ec2785f8",
   "metadata": {},
   "outputs": [],
   "source": [
    "pbar.update({\"mean\": 30}, 20)"
   ]
  },
  {
   "cell_type": "code",
   "execution_count": 5,
   "id": "22a8c7b4-ecc1-4a88-bb9e-d0eb93811e74",
   "metadata": {},
   "outputs": [],
   "source": [
    "pbar.update({\"mean\": 20}, 30)"
   ]
  },
  {
   "cell_type": "code",
   "execution_count": 6,
   "id": "25d83bc4-e343-4fd6-b3c3-9a8bd32287c2",
   "metadata": {},
   "outputs": [],
   "source": [
    "pbar.update({\"mean\": 25, \"var\": 4}, 40)"
   ]
  },
  {
   "cell_type": "code",
   "execution_count": 7,
   "id": "d9a3a861-5f6b-484e-8f7b-d0d2d5052b65",
   "metadata": {},
   "outputs": [],
   "source": [
    "pbar.update({\"mean\": 20, \"var\": 5}, 50)"
   ]
  },
  {
   "cell_type": "code",
   "execution_count": 8,
   "id": "f9d424df-9187-4b9f-8421-cc2ad09a57cc",
   "metadata": {},
   "outputs": [],
   "source": [
    "pbar.update({\"mean\": 30, \"var\": 25}, 100)"
   ]
  },
  {
   "cell_type": "code",
   "execution_count": 9,
   "id": "ff5a51ad-3507-430f-9df2-93628d401770",
   "metadata": {},
   "outputs": [],
   "source": [
    "import random\n",
    "import asyncio\n",
    "\n",
    "random.seed(42)\n",
    "for ts in range(110, 1000, 10):\n",
    "    pbar.update({\"mean\": random.randint(0, 100), \"var\": random.randint(10, 40)}, ts)\n",
    "    await asyncio.sleep(1)\n"
   ]
  },
  {
   "cell_type": "code",
   "execution_count": null,
   "id": "3d8631ac-49a8-4979-9aaa-471d78688bac",
   "metadata": {},
   "outputs": [],
   "source": []
  }
 ],
 "metadata": {
  "kernelspec": {
   "display_name": "Python 3 (ipykernel)",
   "language": "python",
   "name": "python3"
  },
  "language_info": {
   "codemirror_mode": {
    "name": "ipython",
    "version": 3
   },
   "file_extension": ".py",
   "mimetype": "text/x-python",
   "name": "python",
   "nbconvert_exporter": "python",
   "pygments_lexer": "ipython3",
   "version": "3.13.5"
  },
  "widgets": {
   "application/vnd.jupyter.widget-state+json": {
    "state": {
     "2010438558f0441e9480506b1541a5dc": {
      "model_module": "@jupyter-widgets/base",
      "model_module_version": "2.0.0",
      "model_name": "LayoutModel",
      "state": {}
     },
     "b3a2d60831244b4f89235a22ef5aee7f": {
      "model_module": "jupyter-progressivis",
      "model_module_version": "^0.1.0",
      "model_name": "QualityVisualizationModel",
      "state": {
       "_img_url": "%3Csvg%20class%3D%22quality-vis%22%20width%3D%22300%22%20height%3D%2250%22%3E%3Cg%3E%3Cpolyline%20class%3D%22qline%22%20stroke%3D%22%231f77b4%22%20points%3D%22%205.000%2C%2020.92%207.879%2C%2018.88%2010.67%2C%2019.29%2014.39%2C%209.694%2016.60%2C%2022.76%2019.05%2C%209.286%2021.72%2C%206.429%2024.63%2C%2014.18%2027.77%2C%2017.86%2031.14%2C%2020.92%2034.75%2C%2017.86%2038.59%2C%205.204%2040.60%2C%2022.35%2042.66%2C%2015.20%2044.78%2C%2015.82%2046.96%2C%2016.02%2049.20%2C%2018.27%2051.50%2C%2023.98%2053.86%2C%2013.16%2056.27%2C%2021.94%2058.74%2C%2015.20%2061.27%2C%2010.71%2063.86%2C%208.673%2066.51%2C%2015.61%2069.21%2C%2020.10%2071.97%2C%2023.37%2074.80%2C%207.857%2077.67%2C%205.000%2080.61%2C%2022.96%2083.61%2C%2019.08%2086.66%2C%2022.55%2089.77%2C%2017.86%2092.94%2C%208.469%2096.17%2C%2015.61%2099.46%2C%2015.41%20102.8%2C%2019.69%20106.2%2C%2018.06%20109.7%2C%207.245%20113.2%2C%2023.16%20116.8%2C%208.469%20120.4%2C%2011.12%20124.1%2C%2018.67%20127.8%2C%2012.96%20131.7%2C%2018.06%20135.5%2C%208.469%20139.4%2C%2010.51%20143.4%2C%207.245%20147.5%2C%205.000%20151.6%2C%2023.57%20155.7%2C%2024.18%20159.9%2C%2016.84%20164.2%2C%2018.06%20168.6%2C%2019.49%20172.9%2C%2010.31%20177.4%2C%206.429%20181.9%2C%2019.49%20186.5%2C%2012.14%20191.1%2C%208.265%20195.8%2C%2021.33%20200.5%2C%2021.53%20205.3%2C%205.612%20210.2%2C%2011.12%20215.1%2C%205.612%20220.1%2C%2013.98%20225.1%2C%209.898%20230.2%2C%2015.61%20235.3%2C%2021.53%20240.5%2C%2012.14%20245.8%2C%205.408%20251.1%2C%2022.14%20256.5%2C%208.673%20261.9%2C%207.245%20267.4%2C%209.490%20273.0%2C%2015.00%20278.6%2C%209.490%20284.3%2C%2011.33%20290.0%2C%2010.71%22%3E%3Ctitle%3Emean%3C%2Ftitle%3E%3C%2Fpolyline%3E%3Cpolyline%20class%3D%22qline%22%20stroke%3D%22%23ff7f0e%22%20points%3D%22%205.436%2C%2025.00%207.879%2C%2013.33%2010.67%2C%2019.44%2014.39%2C%2014.44%2016.60%2C%2018.33%2019.05%2C%2021.67%2021.72%2C%2010.56%2024.63%2C%2017.78%2027.77%2C%207.778%2031.14%2C%209.444%2034.75%2C%2019.44%2038.59%2C%2016.11%2040.60%2C%2020.56%2042.66%2C%2020.00%2044.78%2C%206.667%2046.96%2C%2011.11%2049.20%2C%207.778%2051.50%2C%208.889%2053.86%2C%2012.22%2056.27%2C%205.556%2058.74%2C%2020.56%2061.27%2C%2016.67%2063.86%2C%2011.11%2066.51%2C%2011.67%2069.21%2C%209.444%2071.97%2C%2021.11%2074.80%2C%2017.78%2077.67%2C%2016.67%2080.61%2C%206.667%2083.61%2C%206.667%2086.66%2C%2015.00%2089.77%2C%2013.89%2092.94%2C%207.222%2096.17%2C%2018.89%2099.46%2C%2015.56%20102.8%2C%2010.00%20106.2%2C%209.444%20109.7%2C%2010.56%20113.2%2C%2011.11%20116.8%2C%2018.89%20120.4%2C%208.889%20124.1%2C%2018.89%20127.8%2C%2015.00%20131.7%2C%205.556%20135.5%2C%209.444%20139.4%2C%2017.78%20143.4%2C%2016.11%20147.5%2C%208.333%20151.6%2C%2017.78%20155.7%2C%207.778%20159.9%2C%2015.00%20164.2%2C%2020.56%20168.6%2C%205.556%20172.9%2C%206.111%20177.4%2C%2016.11%20181.9%2C%2010.56%20186.5%2C%2015.00%20191.1%2C%2013.89%20195.8%2C%2017.22%20200.5%2C%2017.78%20205.3%2C%2012.22%20210.2%2C%2017.22%20215.1%2C%2011.67%20220.1%2C%206.111%20225.1%2C%2015.00%20230.2%2C%2017.78%20235.3%2C%2012.78%20240.5%2C%2020.56%20245.8%2C%2021.11%20251.1%2C%2019.44%20256.5%2C%2018.89%20261.9%2C%2014.44%20267.4%2C%2020.56%20273.0%2C%2015.00%20278.6%2C%2013.89%20284.3%2C%2017.22%20290.0%2C%206.667%22%3E%3Ctitle%3Evar%3C%2Ftitle%3E%3C%2Fpolyline%3E%3C%2Fg%3E%3Cg%20transform%3D%22translate(0%2C%2030)%22%20fill%3D%22none%22%20font-size%3D%2210%22%20font-family%3D%22sans-serif%22%20text-anchor%3D%22middle%22%3E%3Cpath%20class%3D%22domain%22%20stroke%3D%22currentColor%22%20d%3D%22M5.5%2C6V0.5H290.5V6%22%3E%3C%2Fpath%3E%3Cg%20class%3D%22tick%22%20opacity%3D%221%22%20transform%3D%22translate(78.175%2C0)%22%3E%3Cline%20stroke%3D%22currentColor%22%20y2%3D%224%22%3E%3C%2Fline%3E%3Ctext%20fill%3D%22currentColor%22%20y%3D%227%22%20dy%3D%220.71em%22%3E0%3A08%3A10%3C%2Ftext%3E%3C%2Fg%3E%3C%2Fg%3E%3Ctext%20x%3D%222%22%20y%3D%2210%22%20class%3D%22qlabel%22%20fill%3D%22%231f77b4%22%3Emean%3C%2Ftext%3E%3Ctext%20x%3D%222%22%20y%3D%2220%22%20class%3D%22qlabel%22%20fill%3D%22%23ff7f0e%22%3Evar%3C%2Ftext%3E%3C%2Fsvg%3E",
       "_model_module_version": "^0.1.0",
       "_view_module_version": "^0.1.0",
       "layout": "IPY_MODEL_2010438558f0441e9480506b1541a5dc"
      }
     }
    },
    "version_major": 2,
    "version_minor": 0
   }
  }
 },
 "nbformat": 4,
 "nbformat_minor": 5
}
