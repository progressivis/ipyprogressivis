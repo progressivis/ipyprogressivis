{
 "cells": [
  {
   "cell_type": "code",
   "execution_count": 1,
   "id": "9391d3c4-266a-4b62-96c5-f1b3ae1089f9",
   "metadata": {},
   "outputs": [],
   "source": [
    "from ipyprogressivis.widgets.quality_visualization import QualityVisualization"
   ]
  },
  {
   "cell_type": "code",
   "execution_count": 2,
   "id": "8d09fc6f-021a-4cf9-beb7-f8cf65ade22e",
   "metadata": {},
   "outputs": [
    {
     "data": {
      "application/vnd.jupyter.widget-view+json": {
       "model_id": "f49adb62279a4e81ad58e0c4c3ec1a93",
       "version_major": 2,
       "version_minor": 0
      },
      "text/plain": [
       "QualityVisualization()"
      ]
     },
     "execution_count": 2,
     "metadata": {},
     "output_type": "execute_result"
    }
   ],
   "source": [
    "pbar = QualityVisualization()\n",
    "pbar"
   ]
  },
  {
   "cell_type": "code",
   "execution_count": 3,
   "id": "9840bc09-c72c-40f5-b67d-43de85160b7e",
   "metadata": {},
   "outputs": [],
   "source": [
    "pbar.update({\"mean\": 20}, 10)"
   ]
  },
  {
   "cell_type": "code",
   "execution_count": 4,
   "id": "af55b18f-82fa-4546-95b4-f4b1ec2785f8",
   "metadata": {},
   "outputs": [],
   "source": [
    "pbar.update({\"mean\": 20}, 20)"
   ]
  },
  {
   "cell_type": "code",
   "execution_count": 5,
   "id": "22a8c7b4-ecc1-4a88-bb9e-d0eb93811e74",
   "metadata": {},
   "outputs": [],
   "source": [
    "pbar.update({\"mean\": 20}, 30)"
   ]
  },
  {
   "cell_type": "code",
   "execution_count": 6,
   "id": "25d83bc4-e343-4fd6-b3c3-9a8bd32287c2",
   "metadata": {},
   "outputs": [],
   "source": [
    "pbar.update({\"mean\": 25, \"var\": 4}, 40)"
   ]
  },
  {
   "cell_type": "code",
   "execution_count": 7,
   "id": "d9a3a861-5f6b-484e-8f7b-d0d2d5052b65",
   "metadata": {},
   "outputs": [],
   "source": [
    "pbar.update({\"mean\": 20, \"var\": 5}, 50)"
   ]
  },
  {
   "cell_type": "code",
   "execution_count": null,
   "id": "f9d424df-9187-4b9f-8421-cc2ad09a57cc",
   "metadata": {},
   "outputs": [],
   "source": []
  }
 ],
 "metadata": {
  "kernelspec": {
   "display_name": "Python 3 (ipykernel)",
   "language": "python",
   "name": "python3"
  },
  "language_info": {
   "codemirror_mode": {
    "name": "ipython",
    "version": 3
   },
   "file_extension": ".py",
   "mimetype": "text/x-python",
   "name": "python",
   "nbconvert_exporter": "python",
   "pygments_lexer": "ipython3",
   "version": "3.13.5"
  },
  "widgets": {
   "application/vnd.jupyter.widget-state+json": {
    "state": {
     "855f613f8fcf4a9da8d156a023fbf719": {
      "model_module": "@jupyter-widgets/base",
      "model_module_version": "2.0.0",
      "model_name": "LayoutModel",
      "state": {}
     },
     "f49adb62279a4e81ad58e0c4c3ec1a93": {
      "model_module": "jupyter-progressivis",
      "model_module_version": "^0.1.0",
      "model_name": "QualityVisualizationModel",
      "state": {
       "_img_url": "%3Csvg%20class%3D%22quality-vis%22%20width%3D%22300%22%20height%3D%2250%22%3E%3Cg%20transform%3D%22translate(5%2C%20-5)%20scale(7.25%2C%20-1)%20translate(-10%2C%20-50)%22%3E%3Cpolyline%20class%3D%22qline%22%20stroke%3D%22%231f77b4%22%20transform%3D%22scale(1%2C%208)%20translate(0%2C%20-20)%22%20points%3D%22%2010%2C%2020%2020%2C%2020%2030%2C%2020%2040%2C%2025%2050%2C%2020%22%3E%3Ctitle%3Emean%3C%2Ftitle%3E%3C%2Fpolyline%3E%3Cpolyline%20class%3D%22qline%22%20stroke%3D%22%23ff7f0e%22%20transform%3D%22scale(1%2C%2040)%20translate(0%2C%20-4)%22%20points%3D%22%2040%2C%204%2050%2C%205%22%3E%3Ctitle%3Evar%3C%2Ftitle%3E%3C%2Fpolyline%3E%3C%2Fg%3E%3Ctext%20x%3D%222%22%20y%3D%2210%22%20class%3D%22qlabel%22%20fill%3D%22%231f77b4%22%3Emean%3C%2Ftext%3E%3Ctext%20x%3D%222%22%20y%3D%2220%22%20class%3D%22qlabel%22%20fill%3D%22%23ff7f0e%22%3Evar%3C%2Ftext%3E%3C%2Fsvg%3E",
       "_model_module_version": "^0.1.0",
       "_view_module_version": "^0.1.0",
       "layout": "IPY_MODEL_855f613f8fcf4a9da8d156a023fbf719"
      }
     }
    },
    "version_major": 2,
    "version_minor": 0
   }
  }
 },
 "nbformat": 4,
 "nbformat_minor": 5
}
