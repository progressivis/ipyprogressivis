{
 "cells": [
  {
   "cell_type": "markdown",
   "id": "ceee6a5f-fd38-4b0f-af1b-a3fca1c44ea2",
   "metadata": {
    "deletable": false,
    "editable": false,
    "progressivis_backup": "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;eyJ0aXRsZSI6ICJRdWFudGlsZXMiLCAicGFyZW50IjogWyJUYXhpcyIsIDBdLCAibnVtYmVyIjogMCwgImFsaWFzIjogIiIsICJmcm96ZW4iOiBbInBpY2t1cF9sb25naXR1ZGUiLCAicGlja3VwX2xhdGl0dWRlIl0sICJtYXJrZG93biI6ICJcblRoaXMgd2lkZ2V0IGNyZWF0ZXMgYSBgUXVhbnRpbGVzYCBtb2R1bGUgYW5kIGNvbm5lY3RzIGl0IHRvIHRoZSBvdXRwdXQgb2YgdGhlIHByZXZpb3VzbHkgZGVmaW5lZCBDU1YgbG9hZGVyLlxuXG5UaGUgYFF1YW50aWxlc2AgbW9kdWxlIG1haW50YWlucyBhbiBpbnRlcm5hbCBkYXRhIHN0cnVjdHVyZSwga25vd24gYXMgYSBkYXRhIHNrZXRjaCwgdG8gcXVpY2tseSAodGhvdWdoIGFwcHJveGltYXRlbHkpIGNvbXB1dGUgcXVhbnRpbGVzIGZvciBhbGwgbG9hZGVkIG51bWVyaWNhbCBjb2x1bW5zLiBUaGlzIGFwcHJvYWNoIGlzIG5lY2Vzc2FyeSBiZWNhdXNlIHRoZSBkYXRhc2V0J3MgbWluaW11bSBhbmQgbWF4aW11bSB2YWx1ZXMgYXJlIG5vaXN5LlxuXG5BdCB0aGlzIHN0YWdlLCB0aGUgUXVhbnRpbGVzIG1vZHVsZSBpcyBjcmVhdGVkIGFuZCBwYXJ0aWFsbHkgY29uZmlndXJlZDogYm90aCB0aGUgcGlja3VwX2xhdGl0dWRlIGFuZCBwaWNrdXBfbG9uZ2l0dWRlIGNvbHVtbnMgYXJlIHNlbGVjdGVkIChhbHRob3VnaCB0aGUgaW5jb21wbGV0ZSBzbmFwc2hvdCBiZWxvdyBvbmx5IGRpc3BsYXlzIHBpY2t1cF9sb25naXR1ZGUpLlxuIn0=;eyJ0aXRsZSI6ICJIZWF0bWFwIiwgInBhcmVudCI6IFsiUXVhbnRpbGVzIiwgMF0sICJudW1iZXIiOiAwLCAiYWxpYXMiOiAiIiwgImZyb3plbiI6IHsiWCI6ICJwaWNrdXBfbG9uZ2l0dWRlIiwgIlkiOiAicGlja3VwX2xhdGl0dWRlIn0sICJtYXJrZG93biI6ICJcblRoaXMgd2lkZ2V0IGZpbmFsaXplcyB0aGUgY29uZmlndXJhdGlvbiBvZiB0aGUgYG1pbmAgYW5kIGBtYXhgIHZhbHVlcyBmb3IgdGhlIHByZXZpb3VzbHkgY3JlYXRlZCBgUXVhbnRpbGVzYC5cblxuSXQgYWxzbyBjcmVhdGVzIHRoZSBgSGlzdG9ncmFtMkRgIG1vZHVsZSB0byBjb3VudCBhbGwgcGlja3VwIGxvY2F0aW9ucyBvbiBhIGA1MTJ4NTEyYCBncmlkLlxuXG5GaW5hbGx5LCBhIGBIZWF0bWFwYCBtb2R1bGUgaXMgY3JlYXRlZCBhbmQgY29ubmVjdGVkIHRvIHRoZSBvdXRwdXQgb2YgdGhlIEhpc3RvZ3JhbTJEIG1vZHVsZS4gVGhpcyBtb2R1bGUgY29udmVydHMgdGhlIDJEIGhpc3RvZ3JhbSBpbnRvIGFuIGltYWdlLCBkaXNwbGF5ZWQgYmVsb3cuXG4ifQ==",
    "progressivis_root_backup": "\n### Progressive Loading and Visualization\n\nThis **ProgressiBook** demonstrates the use of chaining widgets to implement the scenario introduced in [userguide1.1.ipynb](https://github.com/progressivis/progressivis/blob/master/notebooks/userguide1.1.ipynb). It progressively downloads New York Yellow Taxi trip data and visualizes the pickup locations.",
    "tags": []
   },
   "source": [
    "<button data-commandLinker-command=\"progressivis:cleanup_and_run\" data-commandlinker-args='{\"index\": 1}' href=\"#\">Run ProgressiVis</button>"
   ]
  },
  {
   "cell_type": "code",
   "execution_count": 1,
   "id": "fleet-final",
   "metadata": {
    "deletable": false,
    "editable": false,
    "jupyter": {
     "source_hidden": true
    },
    "progressivis_backup": "",
    "slideshow": {
     "slide_type": ""
    },
    "tags": []
   },
   "outputs": [
    {
     "data": {
      "application/vnd.jupyter.widget-view+json": {
       "model_id": "9b55711ec6364ba287fb4e551b4680ea",
       "version_major": 2,
       "version_minor": 0
      },
      "text/plain": []
     },
     "metadata": {},
     "output_type": "display_data"
    },
    {
     "data": {
      "application/vnd.jupyter.widget-view+json": {
       "model_id": "200491c0a37641a4be1a2b6e950c7ea2",
       "version_major": 2,
       "version_minor": 0
      },
      "text/plain": []
     },
     "metadata": {},
     "output_type": "display_data"
    },
    {
     "data": {
      "text/html": [
       "<script type=\"esms-options\">{\"shimMode\": true}</script><style>*[data-root-id],\n",
       "*[data-root-id] > * {\n",
       "  box-sizing: border-box;\n",
       "  font-family: var(--jp-ui-font-family);\n",
       "  font-size: var(--jp-ui-font-size1);\n",
       "  color: var(--vscode-editor-foreground, var(--jp-ui-font-color1));\n",
       "}\n",
       "\n",
       "/* Override VSCode background color */\n",
       ".cell-output-ipywidget-background:has(\n",
       "    > .cell-output-ipywidget-background > .lm-Widget > *[data-root-id]\n",
       "  ),\n",
       ".cell-output-ipywidget-background:has(> .lm-Widget > *[data-root-id]) {\n",
       "  background-color: transparent !important;\n",
       "}\n",
       "</style>"
      ]
     },
     "metadata": {},
     "output_type": "display_data"
    },
    {
     "data": {
      "application/javascript": [
       "(function(root) {\n",
       "  function now() {\n",
       "    return new Date();\n",
       "  }\n",
       "\n",
       "  const force = true;\n",
       "  const py_version = '3.5.2'.replace('rc', '-rc.').replace('.dev', '-dev.');\n",
       "  const reloading = false;\n",
       "  const Bokeh = root.Bokeh;\n",
       "\n",
       "  // Set a timeout for this load but only if we are not already initializing\n",
       "  if (typeof (root._bokeh_timeout) === \"undefined\" || (force || !root._bokeh_is_initializing)) {\n",
       "    root._bokeh_timeout = Date.now() + 5000;\n",
       "    root._bokeh_failed_load = false;\n",
       "  }\n",
       "\n",
       "  function run_callbacks() {\n",
       "    try {\n",
       "      root._bokeh_onload_callbacks.forEach(function(callback) {\n",
       "        if (callback != null)\n",
       "          callback();\n",
       "      });\n",
       "    } finally {\n",
       "      delete root._bokeh_onload_callbacks;\n",
       "    }\n",
       "    console.debug(\"Bokeh: all callbacks have finished\");\n",
       "  }\n",
       "\n",
       "  function load_libs(css_urls, js_urls, js_modules, js_exports, callback) {\n",
       "    if (css_urls == null) css_urls = [];\n",
       "    if (js_urls == null) js_urls = [];\n",
       "    if (js_modules == null) js_modules = [];\n",
       "    if (js_exports == null) js_exports = {};\n",
       "\n",
       "    root._bokeh_onload_callbacks.push(callback);\n",
       "\n",
       "    if (root._bokeh_is_loading > 0) {\n",
       "      // Don't load bokeh if it is still initializing\n",
       "      console.debug(\"Bokeh: BokehJS is being loaded, scheduling callback at\", now());\n",
       "      return null;\n",
       "    } else if (js_urls.length === 0 && js_modules.length === 0 && Object.keys(js_exports).length === 0) {\n",
       "      // There is nothing to load\n",
       "      run_callbacks();\n",
       "      return null;\n",
       "    }\n",
       "\n",
       "    function on_load() {\n",
       "      root._bokeh_is_loading--;\n",
       "      if (root._bokeh_is_loading === 0) {\n",
       "        console.debug(\"Bokeh: all BokehJS libraries/stylesheets loaded\");\n",
       "        run_callbacks()\n",
       "      }\n",
       "    }\n",
       "    window._bokeh_on_load = on_load\n",
       "\n",
       "    function on_error(e) {\n",
       "      const src_el = e.srcElement\n",
       "      console.error(\"failed to load \" + (src_el.href || src_el.src));\n",
       "    }\n",
       "\n",
       "    const skip = [];\n",
       "    if (window.requirejs) {\n",
       "      window.requirejs.config({'packages': {}, 'paths': {'ace': '//cdnjs.cloudflare.com/ajax/libs/ace/1.4.7', 'jsoneditor': '//cdn.jsdelivr.net/npm/jsoneditor@10.0.1/dist/jsoneditor.min'}, 'shim': {'ace/ext-language_tools': {'deps': ['ace/ace']}, 'ace/ext-modelist': {'deps': ['ace/ace']}, 'jsoneditor': {'exports': 'JSONEditor'}}});\n",
       "      require([\"ace/ace\"], function(ace) {\n",
       "        window.ace = ace\n",
       "        on_load()\n",
       "      })\n",
       "      require([\"ace/ext-language_tools\"], function() {\n",
       "        on_load()\n",
       "      })\n",
       "      require([\"ace/ext-modelist\"], function() {\n",
       "        on_load()\n",
       "      })\n",
       "      require([\"jsoneditor\"], function(JSONEditor) {\n",
       "        window.JSONEditor = JSONEditor\n",
       "        on_load()\n",
       "      })\n",
       "      root._bokeh_is_loading = css_urls.length + 4;\n",
       "    } else {\n",
       "      root._bokeh_is_loading = css_urls.length + js_urls.length + js_modules.length + Object.keys(js_exports).length;\n",
       "    }\n",
       "\n",
       "    const existing_stylesheets = []\n",
       "    const links = document.getElementsByTagName('link')\n",
       "    for (let i = 0; i < links.length; i++) {\n",
       "      const link = links[i]\n",
       "      if (link.href != null) {\n",
       "        existing_stylesheets.push(link.href)\n",
       "      }\n",
       "    }\n",
       "    for (let i = 0; i < css_urls.length; i++) {\n",
       "      const url = css_urls[i];\n",
       "      const escaped = encodeURI(url)\n",
       "      if (existing_stylesheets.indexOf(escaped) !== -1) {\n",
       "        on_load()\n",
       "        continue;\n",
       "      }\n",
       "      const element = document.createElement(\"link\");\n",
       "      element.onload = on_load;\n",
       "      element.onerror = on_error;\n",
       "      element.rel = \"stylesheet\";\n",
       "      element.type = \"text/css\";\n",
       "      element.href = url;\n",
       "      console.debug(\"Bokeh: injecting link tag for BokehJS stylesheet: \", url);\n",
       "      document.body.appendChild(element);\n",
       "    }    if (((window.ace !== undefined) && (!(window.ace instanceof HTMLElement))) || window.requirejs) {\n",
       "      var urls = ['https://cdnjs.cloudflare.com/ajax/libs/ace/1.4.11/ace.js', 'https://cdnjs.cloudflare.com/ajax/libs/ace/1.4.11/ext-language_tools.js', 'https://cdnjs.cloudflare.com/ajax/libs/ace/1.4.11/ext-modelist.js'];\n",
       "      for (var i = 0; i < urls.length; i++) {\n",
       "        skip.push(encodeURI(urls[i]))\n",
       "      }\n",
       "    }    if (((window.JSONEditor !== undefined) && (!(window.JSONEditor instanceof HTMLElement))) || window.requirejs) {\n",
       "      var urls = ['https://cdn.holoviz.org/panel/1.5.0/dist/bundled/jsoneditor/jsoneditor@10.0.1/dist/jsoneditor.min.js'];\n",
       "      for (var i = 0; i < urls.length; i++) {\n",
       "        skip.push(encodeURI(urls[i]))\n",
       "      }\n",
       "    }    var existing_scripts = []\n",
       "    const scripts = document.getElementsByTagName('script')\n",
       "    for (let i = 0; i < scripts.length; i++) {\n",
       "      var script = scripts[i]\n",
       "      if (script.src != null) {\n",
       "        existing_scripts.push(script.src)\n",
       "      }\n",
       "    }\n",
       "    for (let i = 0; i < js_urls.length; i++) {\n",
       "      const url = js_urls[i];\n",
       "      const escaped = encodeURI(url)\n",
       "      if (skip.indexOf(escaped) !== -1 || existing_scripts.indexOf(escaped) !== -1) {\n",
       "        if (!window.requirejs) {\n",
       "          on_load();\n",
       "        }\n",
       "        continue;\n",
       "      }\n",
       "      const element = document.createElement('script');\n",
       "      element.onload = on_load;\n",
       "      element.onerror = on_error;\n",
       "      element.async = false;\n",
       "      element.src = url;\n",
       "      console.debug(\"Bokeh: injecting script tag for BokehJS library: \", url);\n",
       "      document.head.appendChild(element);\n",
       "    }\n",
       "    for (let i = 0; i < js_modules.length; i++) {\n",
       "      const url = js_modules[i];\n",
       "      const escaped = encodeURI(url)\n",
       "      if (skip.indexOf(escaped) !== -1 || existing_scripts.indexOf(escaped) !== -1) {\n",
       "        if (!window.requirejs) {\n",
       "          on_load();\n",
       "        }\n",
       "        continue;\n",
       "      }\n",
       "      var element = document.createElement('script');\n",
       "      element.onload = on_load;\n",
       "      element.onerror = on_error;\n",
       "      element.async = false;\n",
       "      element.src = url;\n",
       "      element.type = \"module\";\n",
       "      console.debug(\"Bokeh: injecting script tag for BokehJS library: \", url);\n",
       "      document.head.appendChild(element);\n",
       "    }\n",
       "    for (const name in js_exports) {\n",
       "      const url = js_exports[name];\n",
       "      const escaped = encodeURI(url)\n",
       "      if (skip.indexOf(escaped) >= 0 || root[name] != null) {\n",
       "        if (!window.requirejs) {\n",
       "          on_load();\n",
       "        }\n",
       "        continue;\n",
       "      }\n",
       "      var element = document.createElement('script');\n",
       "      element.onerror = on_error;\n",
       "      element.async = false;\n",
       "      element.type = \"module\";\n",
       "      console.debug(\"Bokeh: injecting script tag for BokehJS library: \", url);\n",
       "      element.textContent = `\n",
       "      import ${name} from \"${url}\"\n",
       "      window.${name} = ${name}\n",
       "      window._bokeh_on_load()\n",
       "      `\n",
       "      document.head.appendChild(element);\n",
       "    }\n",
       "    if (!js_urls.length && !js_modules.length) {\n",
       "      on_load()\n",
       "    }\n",
       "  };\n",
       "\n",
       "  function inject_raw_css(css) {\n",
       "    const element = document.createElement(\"style\");\n",
       "    element.appendChild(document.createTextNode(css));\n",
       "    document.body.appendChild(element);\n",
       "  }\n",
       "\n",
       "  const js_urls = [\"https://cdnjs.cloudflare.com/ajax/libs/ace/1.4.11/ace.js\", \"https://cdnjs.cloudflare.com/ajax/libs/ace/1.4.11/ext-language_tools.js\", \"https://cdnjs.cloudflare.com/ajax/libs/ace/1.4.11/ext-modelist.js\", \"https://cdn.holoviz.org/panel/1.5.0/dist/bundled/reactiveesm/es-module-shims@^1.10.0/dist/es-module-shims.min.js\", \"https://cdn.holoviz.org/panel/1.5.0/dist/bundled/jsoneditor/jsoneditor@10.0.1/dist/jsoneditor.min.js\", \"https://cdn.bokeh.org/bokeh/release/bokeh-3.5.2.min.js\", \"https://cdn.bokeh.org/bokeh/release/bokeh-gl-3.5.2.min.js\", \"https://cdn.bokeh.org/bokeh/release/bokeh-widgets-3.5.2.min.js\", \"https://cdn.bokeh.org/bokeh/release/bokeh-tables-3.5.2.min.js\", \"https://cdn.holoviz.org/panel/1.5.0/dist/panel.min.js\"];\n",
       "  const js_modules = [];\n",
       "  const js_exports = {};\n",
       "  const css_urls = [\"https://cdn.holoviz.org/panel/1.5.0/dist/bundled/jsoneditor/jsoneditor@10.0.1/dist/jsoneditor.min.css?v=1.5.0\", \"https://cdn.holoviz.org/panel/1.5.0/dist/bundled/font-awesome/css/all.min.css\"];\n",
       "  const inline_js = [    function(Bokeh) {\n",
       "      Bokeh.set_log_level(\"info\");\n",
       "    },\n",
       "function(Bokeh) {} // ensure no trailing comma for IE\n",
       "  ];\n",
       "\n",
       "  function run_inline_js() {\n",
       "    if ((root.Bokeh !== undefined) || (force === true)) {\n",
       "      for (let i = 0; i < inline_js.length; i++) {\n",
       "        try {\n",
       "          inline_js[i].call(root, root.Bokeh);\n",
       "        } catch(e) {\n",
       "          if (!reloading) {\n",
       "            throw e;\n",
       "          }\n",
       "        }\n",
       "      }\n",
       "      // Cache old bokeh versions\n",
       "      if (Bokeh != undefined && !reloading) {\n",
       "        var NewBokeh = root.Bokeh;\n",
       "        if (Bokeh.versions === undefined) {\n",
       "          Bokeh.versions = new Map();\n",
       "        }\n",
       "        if (NewBokeh.version !== Bokeh.version) {\n",
       "          Bokeh.versions.set(NewBokeh.version, NewBokeh)\n",
       "        }\n",
       "        root.Bokeh = Bokeh;\n",
       "      }\n",
       "    } else if (Date.now() < root._bokeh_timeout) {\n",
       "      setTimeout(run_inline_js, 100);\n",
       "    } else if (!root._bokeh_failed_load) {\n",
       "      console.log(\"Bokeh: BokehJS failed to load within specified timeout.\");\n",
       "      root._bokeh_failed_load = true;\n",
       "    }\n",
       "    root._bokeh_is_initializing = false\n",
       "  }\n",
       "\n",
       "  function load_or_wait() {\n",
       "    // Implement a backoff loop that tries to ensure we do not load multiple\n",
       "    // versions of Bokeh and its dependencies at the same time.\n",
       "    // In recent versions we use the root._bokeh_is_initializing flag\n",
       "    // to determine whether there is an ongoing attempt to initialize\n",
       "    // bokeh, however for backward compatibility we also try to ensure\n",
       "    // that we do not start loading a newer (Panel>=1.0 and Bokeh>3) version\n",
       "    // before older versions are fully initialized.\n",
       "    if (root._bokeh_is_initializing && Date.now() > root._bokeh_timeout) {\n",
       "      // If the timeout and bokeh was not successfully loaded we reset\n",
       "      // everything and try loading again\n",
       "      root._bokeh_timeout = Date.now() + 5000;\n",
       "      root._bokeh_is_initializing = false;\n",
       "      root._bokeh_onload_callbacks = undefined;\n",
       "      root._bokeh_is_loading = 0\n",
       "      console.log(\"Bokeh: BokehJS was loaded multiple times but one version failed to initialize.\");\n",
       "      load_or_wait();\n",
       "    } else if (root._bokeh_is_initializing || (typeof root._bokeh_is_initializing === \"undefined\" && root._bokeh_onload_callbacks !== undefined)) {\n",
       "      setTimeout(load_or_wait, 100);\n",
       "    } else {\n",
       "      root._bokeh_is_initializing = true\n",
       "      root._bokeh_onload_callbacks = []\n",
       "      const bokeh_loaded = root.Bokeh != null && (root.Bokeh.version === py_version || (root.Bokeh.versions !== undefined && root.Bokeh.versions.has(py_version)));\n",
       "      if (!reloading && !bokeh_loaded) {\n",
       "        if (root.Bokeh) {\n",
       "          root.Bokeh = undefined;\n",
       "        }\n",
       "        console.debug(\"Bokeh: BokehJS not loaded, scheduling load and callback at\", now());\n",
       "      }\n",
       "      load_libs(css_urls, js_urls, js_modules, js_exports, function() {\n",
       "        console.debug(\"Bokeh: BokehJS plotting callback run at\", now());\n",
       "        run_inline_js();\n",
       "      });\n",
       "    }\n",
       "  }\n",
       "  // Give older versions of the autoload script a head-start to ensure\n",
       "  // they initialize before we start loading newer version.\n",
       "  setTimeout(load_or_wait, 100)\n",
       "}(window));"
      ],
      "application/vnd.holoviews_load.v0+json": "(function(root) {\n  function now() {\n    return new Date();\n  }\n\n  const force = true;\n  const py_version = '3.5.2'.replace('rc', '-rc.').replace('.dev', '-dev.');\n  const reloading = false;\n  const Bokeh = root.Bokeh;\n\n  // Set a timeout for this load but only if we are not already initializing\n  if (typeof (root._bokeh_timeout) === \"undefined\" || (force || !root._bokeh_is_initializing)) {\n    root._bokeh_timeout = Date.now() + 5000;\n    root._bokeh_failed_load = false;\n  }\n\n  function run_callbacks() {\n    try {\n      root._bokeh_onload_callbacks.forEach(function(callback) {\n        if (callback != null)\n          callback();\n      });\n    } finally {\n      delete root._bokeh_onload_callbacks;\n    }\n    console.debug(\"Bokeh: all callbacks have finished\");\n  }\n\n  function load_libs(css_urls, js_urls, js_modules, js_exports, callback) {\n    if (css_urls == null) css_urls = [];\n    if (js_urls == null) js_urls = [];\n    if (js_modules == null) js_modules = [];\n    if (js_exports == null) js_exports = {};\n\n    root._bokeh_onload_callbacks.push(callback);\n\n    if (root._bokeh_is_loading > 0) {\n      // Don't load bokeh if it is still initializing\n      console.debug(\"Bokeh: BokehJS is being loaded, scheduling callback at\", now());\n      return null;\n    } else if (js_urls.length === 0 && js_modules.length === 0 && Object.keys(js_exports).length === 0) {\n      // There is nothing to load\n      run_callbacks();\n      return null;\n    }\n\n    function on_load() {\n      root._bokeh_is_loading--;\n      if (root._bokeh_is_loading === 0) {\n        console.debug(\"Bokeh: all BokehJS libraries/stylesheets loaded\");\n        run_callbacks()\n      }\n    }\n    window._bokeh_on_load = on_load\n\n    function on_error(e) {\n      const src_el = e.srcElement\n      console.error(\"failed to load \" + (src_el.href || src_el.src));\n    }\n\n    const skip = [];\n    if (window.requirejs) {\n      window.requirejs.config({'packages': {}, 'paths': {'ace': '//cdnjs.cloudflare.com/ajax/libs/ace/1.4.7', 'jsoneditor': '//cdn.jsdelivr.net/npm/jsoneditor@10.0.1/dist/jsoneditor.min'}, 'shim': {'ace/ext-language_tools': {'deps': ['ace/ace']}, 'ace/ext-modelist': {'deps': ['ace/ace']}, 'jsoneditor': {'exports': 'JSONEditor'}}});\n      require([\"ace/ace\"], function(ace) {\n        window.ace = ace\n        on_load()\n      })\n      require([\"ace/ext-language_tools\"], function() {\n        on_load()\n      })\n      require([\"ace/ext-modelist\"], function() {\n        on_load()\n      })\n      require([\"jsoneditor\"], function(JSONEditor) {\n        window.JSONEditor = JSONEditor\n        on_load()\n      })\n      root._bokeh_is_loading = css_urls.length + 4;\n    } else {\n      root._bokeh_is_loading = css_urls.length + js_urls.length + js_modules.length + Object.keys(js_exports).length;\n    }\n\n    const existing_stylesheets = []\n    const links = document.getElementsByTagName('link')\n    for (let i = 0; i < links.length; i++) {\n      const link = links[i]\n      if (link.href != null) {\n        existing_stylesheets.push(link.href)\n      }\n    }\n    for (let i = 0; i < css_urls.length; i++) {\n      const url = css_urls[i];\n      const escaped = encodeURI(url)\n      if (existing_stylesheets.indexOf(escaped) !== -1) {\n        on_load()\n        continue;\n      }\n      const element = document.createElement(\"link\");\n      element.onload = on_load;\n      element.onerror = on_error;\n      element.rel = \"stylesheet\";\n      element.type = \"text/css\";\n      element.href = url;\n      console.debug(\"Bokeh: injecting link tag for BokehJS stylesheet: \", url);\n      document.body.appendChild(element);\n    }    if (((window.ace !== undefined) && (!(window.ace instanceof HTMLElement))) || window.requirejs) {\n      var urls = ['https://cdnjs.cloudflare.com/ajax/libs/ace/1.4.11/ace.js', 'https://cdnjs.cloudflare.com/ajax/libs/ace/1.4.11/ext-language_tools.js', 'https://cdnjs.cloudflare.com/ajax/libs/ace/1.4.11/ext-modelist.js'];\n      for (var i = 0; i < urls.length; i++) {\n        skip.push(encodeURI(urls[i]))\n      }\n    }    if (((window.JSONEditor !== undefined) && (!(window.JSONEditor instanceof HTMLElement))) || window.requirejs) {\n      var urls = ['https://cdn.holoviz.org/panel/1.5.0/dist/bundled/jsoneditor/jsoneditor@10.0.1/dist/jsoneditor.min.js'];\n      for (var i = 0; i < urls.length; i++) {\n        skip.push(encodeURI(urls[i]))\n      }\n    }    var existing_scripts = []\n    const scripts = document.getElementsByTagName('script')\n    for (let i = 0; i < scripts.length; i++) {\n      var script = scripts[i]\n      if (script.src != null) {\n        existing_scripts.push(script.src)\n      }\n    }\n    for (let i = 0; i < js_urls.length; i++) {\n      const url = js_urls[i];\n      const escaped = encodeURI(url)\n      if (skip.indexOf(escaped) !== -1 || existing_scripts.indexOf(escaped) !== -1) {\n        if (!window.requirejs) {\n          on_load();\n        }\n        continue;\n      }\n      const element = document.createElement('script');\n      element.onload = on_load;\n      element.onerror = on_error;\n      element.async = false;\n      element.src = url;\n      console.debug(\"Bokeh: injecting script tag for BokehJS library: \", url);\n      document.head.appendChild(element);\n    }\n    for (let i = 0; i < js_modules.length; i++) {\n      const url = js_modules[i];\n      const escaped = encodeURI(url)\n      if (skip.indexOf(escaped) !== -1 || existing_scripts.indexOf(escaped) !== -1) {\n        if (!window.requirejs) {\n          on_load();\n        }\n        continue;\n      }\n      var element = document.createElement('script');\n      element.onload = on_load;\n      element.onerror = on_error;\n      element.async = false;\n      element.src = url;\n      element.type = \"module\";\n      console.debug(\"Bokeh: injecting script tag for BokehJS library: \", url);\n      document.head.appendChild(element);\n    }\n    for (const name in js_exports) {\n      const url = js_exports[name];\n      const escaped = encodeURI(url)\n      if (skip.indexOf(escaped) >= 0 || root[name] != null) {\n        if (!window.requirejs) {\n          on_load();\n        }\n        continue;\n      }\n      var element = document.createElement('script');\n      element.onerror = on_error;\n      element.async = false;\n      element.type = \"module\";\n      console.debug(\"Bokeh: injecting script tag for BokehJS library: \", url);\n      element.textContent = `\n      import ${name} from \"${url}\"\n      window.${name} = ${name}\n      window._bokeh_on_load()\n      `\n      document.head.appendChild(element);\n    }\n    if (!js_urls.length && !js_modules.length) {\n      on_load()\n    }\n  };\n\n  function inject_raw_css(css) {\n    const element = document.createElement(\"style\");\n    element.appendChild(document.createTextNode(css));\n    document.body.appendChild(element);\n  }\n\n  const js_urls = [\"https://cdnjs.cloudflare.com/ajax/libs/ace/1.4.11/ace.js\", \"https://cdnjs.cloudflare.com/ajax/libs/ace/1.4.11/ext-language_tools.js\", \"https://cdnjs.cloudflare.com/ajax/libs/ace/1.4.11/ext-modelist.js\", \"https://cdn.holoviz.org/panel/1.5.0/dist/bundled/reactiveesm/es-module-shims@^1.10.0/dist/es-module-shims.min.js\", \"https://cdn.holoviz.org/panel/1.5.0/dist/bundled/jsoneditor/jsoneditor@10.0.1/dist/jsoneditor.min.js\", \"https://cdn.bokeh.org/bokeh/release/bokeh-3.5.2.min.js\", \"https://cdn.bokeh.org/bokeh/release/bokeh-gl-3.5.2.min.js\", \"https://cdn.bokeh.org/bokeh/release/bokeh-widgets-3.5.2.min.js\", \"https://cdn.bokeh.org/bokeh/release/bokeh-tables-3.5.2.min.js\", \"https://cdn.holoviz.org/panel/1.5.0/dist/panel.min.js\"];\n  const js_modules = [];\n  const js_exports = {};\n  const css_urls = [\"https://cdn.holoviz.org/panel/1.5.0/dist/bundled/jsoneditor/jsoneditor@10.0.1/dist/jsoneditor.min.css?v=1.5.0\", \"https://cdn.holoviz.org/panel/1.5.0/dist/bundled/font-awesome/css/all.min.css\"];\n  const inline_js = [    function(Bokeh) {\n      Bokeh.set_log_level(\"info\");\n    },\nfunction(Bokeh) {} // ensure no trailing comma for IE\n  ];\n\n  function run_inline_js() {\n    if ((root.Bokeh !== undefined) || (force === true)) {\n      for (let i = 0; i < inline_js.length; i++) {\n        try {\n          inline_js[i].call(root, root.Bokeh);\n        } catch(e) {\n          if (!reloading) {\n            throw e;\n          }\n        }\n      }\n      // Cache old bokeh versions\n      if (Bokeh != undefined && !reloading) {\n        var NewBokeh = root.Bokeh;\n        if (Bokeh.versions === undefined) {\n          Bokeh.versions = new Map();\n        }\n        if (NewBokeh.version !== Bokeh.version) {\n          Bokeh.versions.set(NewBokeh.version, NewBokeh)\n        }\n        root.Bokeh = Bokeh;\n      }\n    } else if (Date.now() < root._bokeh_timeout) {\n      setTimeout(run_inline_js, 100);\n    } else if (!root._bokeh_failed_load) {\n      console.log(\"Bokeh: BokehJS failed to load within specified timeout.\");\n      root._bokeh_failed_load = true;\n    }\n    root._bokeh_is_initializing = false\n  }\n\n  function load_or_wait() {\n    // Implement a backoff loop that tries to ensure we do not load multiple\n    // versions of Bokeh and its dependencies at the same time.\n    // In recent versions we use the root._bokeh_is_initializing flag\n    // to determine whether there is an ongoing attempt to initialize\n    // bokeh, however for backward compatibility we also try to ensure\n    // that we do not start loading a newer (Panel>=1.0 and Bokeh>3) version\n    // before older versions are fully initialized.\n    if (root._bokeh_is_initializing && Date.now() > root._bokeh_timeout) {\n      // If the timeout and bokeh was not successfully loaded we reset\n      // everything and try loading again\n      root._bokeh_timeout = Date.now() + 5000;\n      root._bokeh_is_initializing = false;\n      root._bokeh_onload_callbacks = undefined;\n      root._bokeh_is_loading = 0\n      console.log(\"Bokeh: BokehJS was loaded multiple times but one version failed to initialize.\");\n      load_or_wait();\n    } else if (root._bokeh_is_initializing || (typeof root._bokeh_is_initializing === \"undefined\" && root._bokeh_onload_callbacks !== undefined)) {\n      setTimeout(load_or_wait, 100);\n    } else {\n      root._bokeh_is_initializing = true\n      root._bokeh_onload_callbacks = []\n      const bokeh_loaded = root.Bokeh != null && (root.Bokeh.version === py_version || (root.Bokeh.versions !== undefined && root.Bokeh.versions.has(py_version)));\n      if (!reloading && !bokeh_loaded) {\n        if (root.Bokeh) {\n          root.Bokeh = undefined;\n        }\n        console.debug(\"Bokeh: BokehJS not loaded, scheduling load and callback at\", now());\n      }\n      load_libs(css_urls, js_urls, js_modules, js_exports, function() {\n        console.debug(\"Bokeh: BokehJS plotting callback run at\", now());\n        run_inline_js();\n      });\n    }\n  }\n  // Give older versions of the autoload script a head-start to ensure\n  // they initialize before we start loading newer version.\n  setTimeout(load_or_wait, 100)\n}(window));"
     },
     "metadata": {},
     "output_type": "display_data"
    },
    {
     "data": {
      "application/javascript": [
       "\n",
       "if ((window.PyViz === undefined) || (window.PyViz instanceof HTMLElement)) {\n",
       "  window.PyViz = {comms: {}, comm_status:{}, kernels:{}, receivers: {}, plot_index: []}\n",
       "}\n",
       "\n",
       "\n",
       "    function JupyterCommManager() {\n",
       "    }\n",
       "\n",
       "    JupyterCommManager.prototype.register_target = function(plot_id, comm_id, msg_handler) {\n",
       "      if (window.comm_manager || ((window.Jupyter !== undefined) && (Jupyter.notebook.kernel != null))) {\n",
       "        var comm_manager = window.comm_manager || Jupyter.notebook.kernel.comm_manager;\n",
       "        comm_manager.register_target(comm_id, function(comm) {\n",
       "          comm.on_msg(msg_handler);\n",
       "        });\n",
       "      } else if ((plot_id in window.PyViz.kernels) && (window.PyViz.kernels[plot_id])) {\n",
       "        window.PyViz.kernels[plot_id].registerCommTarget(comm_id, function(comm) {\n",
       "          comm.onMsg = msg_handler;\n",
       "        });\n",
       "      } else if (typeof google != 'undefined' && google.colab.kernel != null) {\n",
       "        google.colab.kernel.comms.registerTarget(comm_id, (comm) => {\n",
       "          var messages = comm.messages[Symbol.asyncIterator]();\n",
       "          function processIteratorResult(result) {\n",
       "            var message = result.value;\n",
       "            console.log(message)\n",
       "            var content = {data: message.data, comm_id};\n",
       "            var buffers = []\n",
       "            for (var buffer of message.buffers || []) {\n",
       "              buffers.push(new DataView(buffer))\n",
       "            }\n",
       "            var metadata = message.metadata || {};\n",
       "            var msg = {content, buffers, metadata}\n",
       "            msg_handler(msg);\n",
       "            return messages.next().then(processIteratorResult);\n",
       "          }\n",
       "          return messages.next().then(processIteratorResult);\n",
       "        })\n",
       "      }\n",
       "    }\n",
       "\n",
       "    JupyterCommManager.prototype.get_client_comm = function(plot_id, comm_id, msg_handler) {\n",
       "      if (comm_id in window.PyViz.comms) {\n",
       "        return window.PyViz.comms[comm_id];\n",
       "      } else if (window.comm_manager || ((window.Jupyter !== undefined) && (Jupyter.notebook.kernel != null))) {\n",
       "        var comm_manager = window.comm_manager || Jupyter.notebook.kernel.comm_manager;\n",
       "        var comm = comm_manager.new_comm(comm_id, {}, {}, {}, comm_id);\n",
       "        if (msg_handler) {\n",
       "          comm.on_msg(msg_handler);\n",
       "        }\n",
       "      } else if ((plot_id in window.PyViz.kernels) && (window.PyViz.kernels[plot_id])) {\n",
       "        var comm = window.PyViz.kernels[plot_id].connectToComm(comm_id);\n",
       "        comm.open();\n",
       "        if (msg_handler) {\n",
       "          comm.onMsg = msg_handler;\n",
       "        }\n",
       "      } else if (typeof google != 'undefined' && google.colab.kernel != null) {\n",
       "        var comm_promise = google.colab.kernel.comms.open(comm_id)\n",
       "        comm_promise.then((comm) => {\n",
       "          window.PyViz.comms[comm_id] = comm;\n",
       "          if (msg_handler) {\n",
       "            var messages = comm.messages[Symbol.asyncIterator]();\n",
       "            function processIteratorResult(result) {\n",
       "              var message = result.value;\n",
       "              var content = {data: message.data};\n",
       "              var metadata = message.metadata || {comm_id};\n",
       "              var msg = {content, metadata}\n",
       "              msg_handler(msg);\n",
       "              return messages.next().then(processIteratorResult);\n",
       "            }\n",
       "            return messages.next().then(processIteratorResult);\n",
       "          }\n",
       "        }) \n",
       "        var sendClosure = (data, metadata, buffers, disposeOnDone) => {\n",
       "          return comm_promise.then((comm) => {\n",
       "            comm.send(data, metadata, buffers, disposeOnDone);\n",
       "          });\n",
       "        };\n",
       "        var comm = {\n",
       "          send: sendClosure\n",
       "        };\n",
       "      }\n",
       "      window.PyViz.comms[comm_id] = comm;\n",
       "      return comm;\n",
       "    }\n",
       "    window.PyViz.comm_manager = new JupyterCommManager();\n",
       "    \n",
       "\n",
       "\n",
       "var JS_MIME_TYPE = 'application/javascript';\n",
       "var HTML_MIME_TYPE = 'text/html';\n",
       "var EXEC_MIME_TYPE = 'application/vnd.holoviews_exec.v0+json';\n",
       "var CLASS_NAME = 'output';\n",
       "\n",
       "/**\n",
       " * Render data to the DOM node\n",
       " */\n",
       "function render(props, node) {\n",
       "  var div = document.createElement(\"div\");\n",
       "  var script = document.createElement(\"script\");\n",
       "  node.appendChild(div);\n",
       "  node.appendChild(script);\n",
       "}\n",
       "\n",
       "/**\n",
       " * Handle when a new output is added\n",
       " */\n",
       "function handle_add_output(event, handle) {\n",
       "  var output_area = handle.output_area;\n",
       "  var output = handle.output;\n",
       "  if ((output.data == undefined) || (!output.data.hasOwnProperty(EXEC_MIME_TYPE))) {\n",
       "    return\n",
       "  }\n",
       "  var id = output.metadata[EXEC_MIME_TYPE][\"id\"];\n",
       "  var toinsert = output_area.element.find(\".\" + CLASS_NAME.split(' ')[0]);\n",
       "  if (id !== undefined) {\n",
       "    var nchildren = toinsert.length;\n",
       "    var html_node = toinsert[nchildren-1].children[0];\n",
       "    html_node.innerHTML = output.data[HTML_MIME_TYPE];\n",
       "    var scripts = [];\n",
       "    var nodelist = html_node.querySelectorAll(\"script\");\n",
       "    for (var i in nodelist) {\n",
       "      if (nodelist.hasOwnProperty(i)) {\n",
       "        scripts.push(nodelist[i])\n",
       "      }\n",
       "    }\n",
       "\n",
       "    scripts.forEach( function (oldScript) {\n",
       "      var newScript = document.createElement(\"script\");\n",
       "      var attrs = [];\n",
       "      var nodemap = oldScript.attributes;\n",
       "      for (var j in nodemap) {\n",
       "        if (nodemap.hasOwnProperty(j)) {\n",
       "          attrs.push(nodemap[j])\n",
       "        }\n",
       "      }\n",
       "      attrs.forEach(function(attr) { newScript.setAttribute(attr.name, attr.value) });\n",
       "      newScript.appendChild(document.createTextNode(oldScript.innerHTML));\n",
       "      oldScript.parentNode.replaceChild(newScript, oldScript);\n",
       "    });\n",
       "    if (JS_MIME_TYPE in output.data) {\n",
       "      toinsert[nchildren-1].children[1].textContent = output.data[JS_MIME_TYPE];\n",
       "    }\n",
       "    output_area._hv_plot_id = id;\n",
       "    if ((window.Bokeh !== undefined) && (id in Bokeh.index)) {\n",
       "      window.PyViz.plot_index[id] = Bokeh.index[id];\n",
       "    } else {\n",
       "      window.PyViz.plot_index[id] = null;\n",
       "    }\n",
       "  } else if (output.metadata[EXEC_MIME_TYPE][\"server_id\"] !== undefined) {\n",
       "    var bk_div = document.createElement(\"div\");\n",
       "    bk_div.innerHTML = output.data[HTML_MIME_TYPE];\n",
       "    var script_attrs = bk_div.children[0].attributes;\n",
       "    for (var i = 0; i < script_attrs.length; i++) {\n",
       "      toinsert[toinsert.length - 1].childNodes[1].setAttribute(script_attrs[i].name, script_attrs[i].value);\n",
       "    }\n",
       "    // store reference to server id on output_area\n",
       "    output_area._bokeh_server_id = output.metadata[EXEC_MIME_TYPE][\"server_id\"];\n",
       "  }\n",
       "}\n",
       "\n",
       "/**\n",
       " * Handle when an output is cleared or removed\n",
       " */\n",
       "function handle_clear_output(event, handle) {\n",
       "  var id = handle.cell.output_area._hv_plot_id;\n",
       "  var server_id = handle.cell.output_area._bokeh_server_id;\n",
       "  if (((id === undefined) || !(id in PyViz.plot_index)) && (server_id !== undefined)) { return; }\n",
       "  var comm = window.PyViz.comm_manager.get_client_comm(\"hv-extension-comm\", \"hv-extension-comm\", function () {});\n",
       "  if (server_id !== null) {\n",
       "    comm.send({event_type: 'server_delete', 'id': server_id});\n",
       "    return;\n",
       "  } else if (comm !== null) {\n",
       "    comm.send({event_type: 'delete', 'id': id});\n",
       "  }\n",
       "  delete PyViz.plot_index[id];\n",
       "  if ((window.Bokeh !== undefined) & (id in window.Bokeh.index)) {\n",
       "    var doc = window.Bokeh.index[id].model.document\n",
       "    doc.clear();\n",
       "    const i = window.Bokeh.documents.indexOf(doc);\n",
       "    if (i > -1) {\n",
       "      window.Bokeh.documents.splice(i, 1);\n",
       "    }\n",
       "  }\n",
       "}\n",
       "\n",
       "/**\n",
       " * Handle kernel restart event\n",
       " */\n",
       "function handle_kernel_cleanup(event, handle) {\n",
       "  delete PyViz.comms[\"hv-extension-comm\"];\n",
       "  window.PyViz.plot_index = {}\n",
       "}\n",
       "\n",
       "/**\n",
       " * Handle update_display_data messages\n",
       " */\n",
       "function handle_update_output(event, handle) {\n",
       "  handle_clear_output(event, {cell: {output_area: handle.output_area}})\n",
       "  handle_add_output(event, handle)\n",
       "}\n",
       "\n",
       "function register_renderer(events, OutputArea) {\n",
       "  function append_mime(data, metadata, element) {\n",
       "    // create a DOM node to render to\n",
       "    var toinsert = this.create_output_subarea(\n",
       "    metadata,\n",
       "    CLASS_NAME,\n",
       "    EXEC_MIME_TYPE\n",
       "    );\n",
       "    this.keyboard_manager.register_events(toinsert);\n",
       "    // Render to node\n",
       "    var props = {data: data, metadata: metadata[EXEC_MIME_TYPE]};\n",
       "    render(props, toinsert[0]);\n",
       "    element.append(toinsert);\n",
       "    return toinsert\n",
       "  }\n",
       "\n",
       "  events.on('output_added.OutputArea', handle_add_output);\n",
       "  events.on('output_updated.OutputArea', handle_update_output);\n",
       "  events.on('clear_output.CodeCell', handle_clear_output);\n",
       "  events.on('delete.Cell', handle_clear_output);\n",
       "  events.on('kernel_ready.Kernel', handle_kernel_cleanup);\n",
       "\n",
       "  OutputArea.prototype.register_mime_type(EXEC_MIME_TYPE, append_mime, {\n",
       "    safe: true,\n",
       "    index: 0\n",
       "  });\n",
       "}\n",
       "\n",
       "if (window.Jupyter !== undefined) {\n",
       "  try {\n",
       "    var events = require('base/js/events');\n",
       "    var OutputArea = require('notebook/js/outputarea').OutputArea;\n",
       "    if (OutputArea.prototype.mime_types().indexOf(EXEC_MIME_TYPE) == -1) {\n",
       "      register_renderer(events, OutputArea);\n",
       "    }\n",
       "  } catch(err) {\n",
       "  }\n",
       "}\n"
      ],
      "application/vnd.holoviews_load.v0+json": "\nif ((window.PyViz === undefined) || (window.PyViz instanceof HTMLElement)) {\n  window.PyViz = {comms: {}, comm_status:{}, kernels:{}, receivers: {}, plot_index: []}\n}\n\n\n    function JupyterCommManager() {\n    }\n\n    JupyterCommManager.prototype.register_target = function(plot_id, comm_id, msg_handler) {\n      if (window.comm_manager || ((window.Jupyter !== undefined) && (Jupyter.notebook.kernel != null))) {\n        var comm_manager = window.comm_manager || Jupyter.notebook.kernel.comm_manager;\n        comm_manager.register_target(comm_id, function(comm) {\n          comm.on_msg(msg_handler);\n        });\n      } else if ((plot_id in window.PyViz.kernels) && (window.PyViz.kernels[plot_id])) {\n        window.PyViz.kernels[plot_id].registerCommTarget(comm_id, function(comm) {\n          comm.onMsg = msg_handler;\n        });\n      } else if (typeof google != 'undefined' && google.colab.kernel != null) {\n        google.colab.kernel.comms.registerTarget(comm_id, (comm) => {\n          var messages = comm.messages[Symbol.asyncIterator]();\n          function processIteratorResult(result) {\n            var message = result.value;\n            console.log(message)\n            var content = {data: message.data, comm_id};\n            var buffers = []\n            for (var buffer of message.buffers || []) {\n              buffers.push(new DataView(buffer))\n            }\n            var metadata = message.metadata || {};\n            var msg = {content, buffers, metadata}\n            msg_handler(msg);\n            return messages.next().then(processIteratorResult);\n          }\n          return messages.next().then(processIteratorResult);\n        })\n      }\n    }\n\n    JupyterCommManager.prototype.get_client_comm = function(plot_id, comm_id, msg_handler) {\n      if (comm_id in window.PyViz.comms) {\n        return window.PyViz.comms[comm_id];\n      } else if (window.comm_manager || ((window.Jupyter !== undefined) && (Jupyter.notebook.kernel != null))) {\n        var comm_manager = window.comm_manager || Jupyter.notebook.kernel.comm_manager;\n        var comm = comm_manager.new_comm(comm_id, {}, {}, {}, comm_id);\n        if (msg_handler) {\n          comm.on_msg(msg_handler);\n        }\n      } else if ((plot_id in window.PyViz.kernels) && (window.PyViz.kernels[plot_id])) {\n        var comm = window.PyViz.kernels[plot_id].connectToComm(comm_id);\n        comm.open();\n        if (msg_handler) {\n          comm.onMsg = msg_handler;\n        }\n      } else if (typeof google != 'undefined' && google.colab.kernel != null) {\n        var comm_promise = google.colab.kernel.comms.open(comm_id)\n        comm_promise.then((comm) => {\n          window.PyViz.comms[comm_id] = comm;\n          if (msg_handler) {\n            var messages = comm.messages[Symbol.asyncIterator]();\n            function processIteratorResult(result) {\n              var message = result.value;\n              var content = {data: message.data};\n              var metadata = message.metadata || {comm_id};\n              var msg = {content, metadata}\n              msg_handler(msg);\n              return messages.next().then(processIteratorResult);\n            }\n            return messages.next().then(processIteratorResult);\n          }\n        }) \n        var sendClosure = (data, metadata, buffers, disposeOnDone) => {\n          return comm_promise.then((comm) => {\n            comm.send(data, metadata, buffers, disposeOnDone);\n          });\n        };\n        var comm = {\n          send: sendClosure\n        };\n      }\n      window.PyViz.comms[comm_id] = comm;\n      return comm;\n    }\n    window.PyViz.comm_manager = new JupyterCommManager();\n    \n\n\nvar JS_MIME_TYPE = 'application/javascript';\nvar HTML_MIME_TYPE = 'text/html';\nvar EXEC_MIME_TYPE = 'application/vnd.holoviews_exec.v0+json';\nvar CLASS_NAME = 'output';\n\n/**\n * Render data to the DOM node\n */\nfunction render(props, node) {\n  var div = document.createElement(\"div\");\n  var script = document.createElement(\"script\");\n  node.appendChild(div);\n  node.appendChild(script);\n}\n\n/**\n * Handle when a new output is added\n */\nfunction handle_add_output(event, handle) {\n  var output_area = handle.output_area;\n  var output = handle.output;\n  if ((output.data == undefined) || (!output.data.hasOwnProperty(EXEC_MIME_TYPE))) {\n    return\n  }\n  var id = output.metadata[EXEC_MIME_TYPE][\"id\"];\n  var toinsert = output_area.element.find(\".\" + CLASS_NAME.split(' ')[0]);\n  if (id !== undefined) {\n    var nchildren = toinsert.length;\n    var html_node = toinsert[nchildren-1].children[0];\n    html_node.innerHTML = output.data[HTML_MIME_TYPE];\n    var scripts = [];\n    var nodelist = html_node.querySelectorAll(\"script\");\n    for (var i in nodelist) {\n      if (nodelist.hasOwnProperty(i)) {\n        scripts.push(nodelist[i])\n      }\n    }\n\n    scripts.forEach( function (oldScript) {\n      var newScript = document.createElement(\"script\");\n      var attrs = [];\n      var nodemap = oldScript.attributes;\n      for (var j in nodemap) {\n        if (nodemap.hasOwnProperty(j)) {\n          attrs.push(nodemap[j])\n        }\n      }\n      attrs.forEach(function(attr) { newScript.setAttribute(attr.name, attr.value) });\n      newScript.appendChild(document.createTextNode(oldScript.innerHTML));\n      oldScript.parentNode.replaceChild(newScript, oldScript);\n    });\n    if (JS_MIME_TYPE in output.data) {\n      toinsert[nchildren-1].children[1].textContent = output.data[JS_MIME_TYPE];\n    }\n    output_area._hv_plot_id = id;\n    if ((window.Bokeh !== undefined) && (id in Bokeh.index)) {\n      window.PyViz.plot_index[id] = Bokeh.index[id];\n    } else {\n      window.PyViz.plot_index[id] = null;\n    }\n  } else if (output.metadata[EXEC_MIME_TYPE][\"server_id\"] !== undefined) {\n    var bk_div = document.createElement(\"div\");\n    bk_div.innerHTML = output.data[HTML_MIME_TYPE];\n    var script_attrs = bk_div.children[0].attributes;\n    for (var i = 0; i < script_attrs.length; i++) {\n      toinsert[toinsert.length - 1].childNodes[1].setAttribute(script_attrs[i].name, script_attrs[i].value);\n    }\n    // store reference to server id on output_area\n    output_area._bokeh_server_id = output.metadata[EXEC_MIME_TYPE][\"server_id\"];\n  }\n}\n\n/**\n * Handle when an output is cleared or removed\n */\nfunction handle_clear_output(event, handle) {\n  var id = handle.cell.output_area._hv_plot_id;\n  var server_id = handle.cell.output_area._bokeh_server_id;\n  if (((id === undefined) || !(id in PyViz.plot_index)) && (server_id !== undefined)) { return; }\n  var comm = window.PyViz.comm_manager.get_client_comm(\"hv-extension-comm\", \"hv-extension-comm\", function () {});\n  if (server_id !== null) {\n    comm.send({event_type: 'server_delete', 'id': server_id});\n    return;\n  } else if (comm !== null) {\n    comm.send({event_type: 'delete', 'id': id});\n  }\n  delete PyViz.plot_index[id];\n  if ((window.Bokeh !== undefined) & (id in window.Bokeh.index)) {\n    var doc = window.Bokeh.index[id].model.document\n    doc.clear();\n    const i = window.Bokeh.documents.indexOf(doc);\n    if (i > -1) {\n      window.Bokeh.documents.splice(i, 1);\n    }\n  }\n}\n\n/**\n * Handle kernel restart event\n */\nfunction handle_kernel_cleanup(event, handle) {\n  delete PyViz.comms[\"hv-extension-comm\"];\n  window.PyViz.plot_index = {}\n}\n\n/**\n * Handle update_display_data messages\n */\nfunction handle_update_output(event, handle) {\n  handle_clear_output(event, {cell: {output_area: handle.output_area}})\n  handle_add_output(event, handle)\n}\n\nfunction register_renderer(events, OutputArea) {\n  function append_mime(data, metadata, element) {\n    // create a DOM node to render to\n    var toinsert = this.create_output_subarea(\n    metadata,\n    CLASS_NAME,\n    EXEC_MIME_TYPE\n    );\n    this.keyboard_manager.register_events(toinsert);\n    // Render to node\n    var props = {data: data, metadata: metadata[EXEC_MIME_TYPE]};\n    render(props, toinsert[0]);\n    element.append(toinsert);\n    return toinsert\n  }\n\n  events.on('output_added.OutputArea', handle_add_output);\n  events.on('output_updated.OutputArea', handle_update_output);\n  events.on('clear_output.CodeCell', handle_clear_output);\n  events.on('delete.Cell', handle_clear_output);\n  events.on('kernel_ready.Kernel', handle_kernel_cleanup);\n\n  OutputArea.prototype.register_mime_type(EXEC_MIME_TYPE, append_mime, {\n    safe: true,\n    index: 0\n  });\n}\n\nif (window.Jupyter !== undefined) {\n  try {\n    var events = require('base/js/events');\n    var OutputArea = require('notebook/js/outputarea').OutputArea;\n    if (OutputArea.prototype.mime_types().indexOf(EXEC_MIME_TYPE) == -1) {\n      register_renderer(events, OutputArea);\n    }\n  } catch(err) {\n  }\n}\n"
     },
     "metadata": {},
     "output_type": "display_data"
    },
    {
     "data": {
      "application/vnd.holoviews_exec.v0+json": "",
      "text/html": [
       "<div id='c9b86aec-88ba-4939-a370-30d5ada9cd95'>\n",
       "  <div id=\"de44ac1a-e23f-48d1-9e51-387f4cc54ec0\" data-root-id=\"c9b86aec-88ba-4939-a370-30d5ada9cd95\" style=\"display: contents;\"></div>\n",
       "</div>\n",
       "<script type=\"application/javascript\">(function(root) {\n",
       "  var docs_json = {\"d3ec4699-f584-4580-a7cc-ddae9eb99981\":{\"version\":\"3.5.2\",\"title\":\"Bokeh Application\",\"roots\":[{\"type\":\"object\",\"name\":\"panel.models.browser.BrowserInfo\",\"id\":\"c9b86aec-88ba-4939-a370-30d5ada9cd95\"},{\"type\":\"object\",\"name\":\"panel.models.comm_manager.CommManager\",\"id\":\"0b2619ae-16e0-4f6b-aec5-dc2b08ab5396\",\"attributes\":{\"plot_id\":\"c9b86aec-88ba-4939-a370-30d5ada9cd95\",\"comm_id\":\"f1d4d15b6d624a3d83fd9c5bb18fa1bc\",\"client_comm_id\":\"343a652169344c12b57c9eb3a3e014cf\"}}],\"defs\":[{\"type\":\"model\",\"name\":\"ReactiveHTML1\"},{\"type\":\"model\",\"name\":\"FlexBox1\",\"properties\":[{\"name\":\"align_content\",\"kind\":\"Any\",\"default\":\"flex-start\"},{\"name\":\"align_items\",\"kind\":\"Any\",\"default\":\"flex-start\"},{\"name\":\"flex_direction\",\"kind\":\"Any\",\"default\":\"row\"},{\"name\":\"flex_wrap\",\"kind\":\"Any\",\"default\":\"wrap\"},{\"name\":\"gap\",\"kind\":\"Any\",\"default\":\"\"},{\"name\":\"justify_content\",\"kind\":\"Any\",\"default\":\"flex-start\"}]},{\"type\":\"model\",\"name\":\"FloatPanel1\",\"properties\":[{\"name\":\"config\",\"kind\":\"Any\",\"default\":{\"type\":\"map\"}},{\"name\":\"contained\",\"kind\":\"Any\",\"default\":true},{\"name\":\"position\",\"kind\":\"Any\",\"default\":\"right-top\"},{\"name\":\"offsetx\",\"kind\":\"Any\",\"default\":null},{\"name\":\"offsety\",\"kind\":\"Any\",\"default\":null},{\"name\":\"theme\",\"kind\":\"Any\",\"default\":\"primary\"},{\"name\":\"status\",\"kind\":\"Any\",\"default\":\"normalized\"}]},{\"type\":\"model\",\"name\":\"GridStack1\",\"properties\":[{\"name\":\"mode\",\"kind\":\"Any\",\"default\":\"warn\"},{\"name\":\"ncols\",\"kind\":\"Any\",\"default\":null},{\"name\":\"nrows\",\"kind\":\"Any\",\"default\":null},{\"name\":\"allow_resize\",\"kind\":\"Any\",\"default\":true},{\"name\":\"allow_drag\",\"kind\":\"Any\",\"default\":true},{\"name\":\"state\",\"kind\":\"Any\",\"default\":[]}]},{\"type\":\"model\",\"name\":\"drag1\",\"properties\":[{\"name\":\"slider_width\",\"kind\":\"Any\",\"default\":5},{\"name\":\"slider_color\",\"kind\":\"Any\",\"default\":\"black\"},{\"name\":\"value\",\"kind\":\"Any\",\"default\":50}]},{\"type\":\"model\",\"name\":\"click1\",\"properties\":[{\"name\":\"terminal_output\",\"kind\":\"Any\",\"default\":\"\"},{\"name\":\"debug_name\",\"kind\":\"Any\",\"default\":\"\"},{\"name\":\"clears\",\"kind\":\"Any\",\"default\":0}]},{\"type\":\"model\",\"name\":\"FastWrapper1\",\"properties\":[{\"name\":\"object\",\"kind\":\"Any\",\"default\":null},{\"name\":\"style\",\"kind\":\"Any\",\"default\":null}]},{\"type\":\"model\",\"name\":\"NotificationAreaBase1\",\"properties\":[{\"name\":\"js_events\",\"kind\":\"Any\",\"default\":{\"type\":\"map\"}},{\"name\":\"position\",\"kind\":\"Any\",\"default\":\"bottom-right\"},{\"name\":\"_clear\",\"kind\":\"Any\",\"default\":0}]},{\"type\":\"model\",\"name\":\"NotificationArea1\",\"properties\":[{\"name\":\"js_events\",\"kind\":\"Any\",\"default\":{\"type\":\"map\"}},{\"name\":\"notifications\",\"kind\":\"Any\",\"default\":[]},{\"name\":\"position\",\"kind\":\"Any\",\"default\":\"bottom-right\"},{\"name\":\"_clear\",\"kind\":\"Any\",\"default\":0},{\"name\":\"types\",\"kind\":\"Any\",\"default\":[{\"type\":\"map\",\"entries\":[[\"type\",\"warning\"],[\"background\",\"#ffc107\"],[\"icon\",{\"type\":\"map\",\"entries\":[[\"className\",\"fas fa-exclamation-triangle\"],[\"tagName\",\"i\"],[\"color\",\"white\"]]}]]},{\"type\":\"map\",\"entries\":[[\"type\",\"info\"],[\"background\",\"#007bff\"],[\"icon\",{\"type\":\"map\",\"entries\":[[\"className\",\"fas fa-info-circle\"],[\"tagName\",\"i\"],[\"color\",\"white\"]]}]]}]}]},{\"type\":\"model\",\"name\":\"Notification\",\"properties\":[{\"name\":\"background\",\"kind\":\"Any\",\"default\":null},{\"name\":\"duration\",\"kind\":\"Any\",\"default\":3000},{\"name\":\"icon\",\"kind\":\"Any\",\"default\":null},{\"name\":\"message\",\"kind\":\"Any\",\"default\":\"\"},{\"name\":\"notification_type\",\"kind\":\"Any\",\"default\":null},{\"name\":\"_destroyed\",\"kind\":\"Any\",\"default\":false}]},{\"type\":\"model\",\"name\":\"TemplateActions1\",\"properties\":[{\"name\":\"open_modal\",\"kind\":\"Any\",\"default\":0},{\"name\":\"close_modal\",\"kind\":\"Any\",\"default\":0}]},{\"type\":\"model\",\"name\":\"BootstrapTemplateActions1\",\"properties\":[{\"name\":\"open_modal\",\"kind\":\"Any\",\"default\":0},{\"name\":\"close_modal\",\"kind\":\"Any\",\"default\":0}]},{\"type\":\"model\",\"name\":\"TemplateEditor1\",\"properties\":[{\"name\":\"layout\",\"kind\":\"Any\",\"default\":[]}]},{\"type\":\"model\",\"name\":\"MaterialTemplateActions1\",\"properties\":[{\"name\":\"open_modal\",\"kind\":\"Any\",\"default\":0},{\"name\":\"close_modal\",\"kind\":\"Any\",\"default\":0}]},{\"type\":\"model\",\"name\":\"ReactiveESM1\"},{\"type\":\"model\",\"name\":\"JSComponent1\"},{\"type\":\"model\",\"name\":\"ReactComponent1\"},{\"type\":\"model\",\"name\":\"AnyWidgetComponent1\"},{\"type\":\"model\",\"name\":\"request_value1\",\"properties\":[{\"name\":\"fill\",\"kind\":\"Any\",\"default\":\"none\"},{\"name\":\"_synced\",\"kind\":\"Any\",\"default\":null},{\"name\":\"_request_sync\",\"kind\":\"Any\",\"default\":0}]}]}};\n",
       "  var render_items = [{\"docid\":\"d3ec4699-f584-4580-a7cc-ddae9eb99981\",\"roots\":{\"c9b86aec-88ba-4939-a370-30d5ada9cd95\":\"de44ac1a-e23f-48d1-9e51-387f4cc54ec0\"},\"root_ids\":[\"c9b86aec-88ba-4939-a370-30d5ada9cd95\"]}];\n",
       "  var docs = Object.values(docs_json)\n",
       "  if (!docs) {\n",
       "    return\n",
       "  }\n",
       "  const py_version = docs[0].version.replace('rc', '-rc.').replace('.dev', '-dev.')\n",
       "  async function embed_document(root) {\n",
       "    var Bokeh = get_bokeh(root)\n",
       "    await Bokeh.embed.embed_items_notebook(docs_json, render_items);\n",
       "    for (const render_item of render_items) {\n",
       "      for (const root_id of render_item.root_ids) {\n",
       "\tconst id_el = document.getElementById(root_id)\n",
       "\tif (id_el.children.length && id_el.children[0].hasAttribute('data-root-id')) {\n",
       "\t  const root_el = id_el.children[0]\n",
       "\t  root_el.id = root_el.id + '-rendered'\n",
       "\t  for (const child of root_el.children) {\n",
       "            // Ensure JupyterLab does not capture keyboard shortcuts\n",
       "            // see: https://jupyterlab.readthedocs.io/en/4.1.x/extension/notebook.html#keyboard-interaction-model\n",
       "\t    child.setAttribute('data-lm-suppress-shortcuts', 'true')\n",
       "\t  }\n",
       "\t}\n",
       "      }\n",
       "    }\n",
       "  }\n",
       "  function get_bokeh(root) {\n",
       "    if (root.Bokeh === undefined) {\n",
       "      return null\n",
       "    } else if (root.Bokeh.version !== py_version) {\n",
       "      if (root.Bokeh.versions === undefined || !root.Bokeh.versions.has(py_version)) {\n",
       "\treturn null\n",
       "      }\n",
       "      return root.Bokeh.versions.get(py_version);\n",
       "    } else if (root.Bokeh.version === py_version) {\n",
       "      return root.Bokeh\n",
       "    }\n",
       "    return null\n",
       "  }\n",
       "  function is_loaded(root) {\n",
       "    var Bokeh = get_bokeh(root)\n",
       "    return (Bokeh != null && Bokeh.Panel !== undefined)\n",
       "  }\n",
       "  if (is_loaded(root)) {\n",
       "    embed_document(root);\n",
       "  } else {\n",
       "    var attempts = 0;\n",
       "    var timer = setInterval(function(root) {\n",
       "      if (is_loaded(root)) {\n",
       "        clearInterval(timer);\n",
       "        embed_document(root);\n",
       "      } else if (document.readyState == \"complete\") {\n",
       "        attempts++;\n",
       "        if (attempts > 200) {\n",
       "          clearInterval(timer);\n",
       "\t  var Bokeh = get_bokeh(root)\n",
       "\t  if (Bokeh == null || Bokeh.Panel == null) {\n",
       "            console.warn(\"Panel: ERROR: Unable to run Panel code because Bokeh or Panel library is missing\");\n",
       "\t  } else {\n",
       "\t    console.warn(\"Panel: WARNING: Attempting to render but not all required libraries could be resolved.\")\n",
       "\t    embed_document(root)\n",
       "\t  }\n",
       "        }\n",
       "      }\n",
       "    }, 25, root)\n",
       "  }\n",
       "})(window);</script>"
      ]
     },
     "metadata": {
      "application/vnd.holoviews_exec.v0+json": {
       "id": "c9b86aec-88ba-4939-a370-30d5ada9cd95"
      }
     },
     "output_type": "display_data"
    }
   ],
   "source": [
    "from ipyprogressivis.widgets import get_header, Constructor\n",
    "from ipyprogressivis.widgets.chaining.utils import create_root\n",
    "import panel as pn \n",
    "header = get_header()\n",
    "display(header.talker)\n",
    "display(header.backup)\n",
    "pn.extension('ace', 'jsoneditor', 'ipywidgets')\n",
    "_ = header.constructor\n",
    "with header.modules_out:\n",
    "    display(header.board)\n",
    "with header.widgets_out:\n",
    "    display(header.manager)\n",
    "header.talker.labcommand(\"notebook:hide-cell-code\")\n",
    "%reload_ext ipyprogressivis.magics\n",
    "create_root(header.backup)"
   ]
  },
  {
   "cell_type": "markdown",
   "id": "2c9a3170-c48f-45a7-8774-6053a2505e84",
   "metadata": {
    "deletable": false,
    "editable": false,
    "progressivis_tag": "root"
   },
   "source": [
    "## root\n",
    " \n",
    "### Progressive Loading and Visualization\n",
    "\n",
    "This **ProgressiBook** demonstrates the use of chaining widgets to implement the scenario introduced in [userguide1.1.ipynb](https://github.com/progressivis/progressivis/blob/master/notebooks/userguide1.1.ipynb). It progressively downloads New York Yellow Taxi trip data and visualizes the pickup locations."
   ]
  },
  {
   "cell_type": "code",
   "execution_count": 2,
   "id": "850bf6c7-dcf1-4933-92c6-2b8118ae4191",
   "metadata": {
    "deletable": false,
    "editable": false,
    "jupyter": {
     "source_hidden": true
    },
    "progressivis_tag": "root"
   },
   "outputs": [
    {
     "data": {
      "image/png": "[encoded data removed]"
     },
     "metadata": {},
     "output_type": "display_data"
    },
    {
     "name": "stdout",
     "output_type": "stream",
     "text": [
      "Starting scheduler\n",
      "# Scheduler added module(s): ['sink_1', 'variable_1']\n"
     ]
    }
   ],
   "source": [
    "# do not run this cell\n",
    "display(header.constructor)\n",
    "header.constructor.start_scheduler()\n",
    "header.talker.labcommand('notebook:hide-cell-code')"
   ]
  },
  {
   "cell_type": "markdown",
   "id": "d29f96ce-d759-44f5-b22f-4052703323dd",
   "metadata": {
    "deletable": false,
    "editable": false,
    "progressivis_tag": "Taxis"
   },
   "source": [
    "## Taxis\n",
    "\n",
    "This first widget handles the configuration and progressive loading of CSV files. It utilizes settings previously created and saved in a file named `taxis`(see [CSV loader](https://progressivis.readthedocs.io/en/latest/notebooks.html#csv-loader) for more details)."
   ]
  },
  {
   "cell_type": "code",
   "execution_count": 3,
   "id": "2a548e1f-f6be-4150-b80c-58177ddf3e56",
   "metadata": {
    "deletable": false,
    "editable": false,
    "progressivis_tag": "Taxis"
   },
   "outputs": [
    {
     "data": {
      "image/png": "[encoded data removed]"
     },
     "execution_count": 3,
     "metadata": {},
     "output_type": "execute_result"
    }
   ],
   "source": [
    "Constructor.widget('Taxis', 0)"
   ]
  },
  {
   "cell_type": "markdown",
   "id": "99e1031e-8d82-45a9-ba6c-de3e08ce6935",
   "metadata": {
    "deletable": false,
    "editable": false,
    "progressivis_tag": "Quantiles"
   },
   "source": [
    "## Quantiles\n",
    "\n",
    "This widget creates a `Quantiles` module and connects it to the output of the previously defined CSV loader.\n",
    "\n",
    "The `Quantiles` module maintains an internal data structure, known as a data sketch, to quickly (though approximately) compute quantiles for all loaded numerical columns. This approach is necessary because the dataset's minimum and maximum values are noisy.\n",
    "\n",
    "At this stage, the Quantiles module is created and partially configured: both the pickup_latitude and pickup_longitude columns are selected (although the incomplete snapshot below only displays pickup_longitude).\n"
   ]
  },
  {
   "cell_type": "code",
   "execution_count": 4,
   "id": "aa1ebb06-7da3-4c81-bade-6120236ea791",
   "metadata": {
    "deletable": false,
    "editable": false,
    "progressivis_tag": "Quantiles"
   },
   "outputs": [
    {
     "data": {
      "image/png": "[encoded data removed]"
     },
     "execution_count": 4,
     "metadata": {},
     "output_type": "execute_result"
    }
   ],
   "source": [
    "Constructor.widget('Quantiles', 0)"
   ]
  },
  {
   "cell_type": "markdown",
   "id": "9437fc7a-eac0-4f8e-a0a3-4e5f6dc755e2",
   "metadata": {
    "deletable": false,
    "editable": false,
    "progressivis_tag": "Heatmap"
   },
   "source": [
    "## Heatmap\n",
    "\n",
    "This widget finalizes the configuration of the `min` and `max` values for the previously created `Quantiles`.\n",
    "\n",
    "It also creates the `Histogram2D` module to count all pickup locations on a `512x512` grid.\n",
    "\n",
    "Finally, a `Heatmap` module is created and connected to the output of the Histogram2D module. This module converts the 2D histogram into an image, displayed below.\n"
   ]
  },
  {
   "cell_type": "code",
   "execution_count": 5,
   "id": "304876e9-c49e-4647-9148-e8e4dd27d24c",
   "metadata": {
    "deletable": false,
    "editable": false,
    "progressivis_tag": "Heatmap"
   },
   "outputs": [
    {
     "data": {
      "image/png": "[encoded data removed]"
     },
     "execution_count": 5,
     "metadata": {},
     "output_type": "execute_result"
    },
    {
     "name": "stdout",
     "output_type": "stream",
     "text": [
      "# Scheduler added module(s): ['constant_1', 'heatmap_1', 'histogram2_d_1', 'quantiles_1', 'simple_csv_loader_1', 'sink_2', 'sink_3']\n"
     ]
    }
   ],
   "source": [
    "Constructor.widget('Heatmap', 0)"
   ]
  }
 ],
 "metadata": {
  "celltoolbar": "Éditer les Méta-Données",
  "hide_input": false,
  "kernelspec": {
   "display_name": "Python 3 (ipykernel)",
   "language": "python",
   "name": "python3"
  },
  "language_info": {
   "codemirror_mode": {
    "name": "ipython",
    "version": 3
   },
   "file_extension": ".py",
   "mimetype": "text/x-python",
   "name": "python",
   "nbconvert_exporter": "python",
   "pygments_lexer": "ipython3",
   "version": "3.11.4"
  },
  "latex_envs": {
   "LaTeX_envs_menu_present": true,
   "autoclose": false,
   "autocomplete": true,
   "bibliofile": "biblio.bib",
   "cite_by": "apalike",
   "current_citInitial": 1,
   "eqLabelWithNumbers": true,
   "eqNumInitial": 1,
   "hotkeys": {
    "equation": "Ctrl-E",
    "itemize": "Ctrl-I"
   },
   "labels_anchors": false,
   "latex_user_defs": false,
   "report_style_numbering": false,
   "user_envs_cfg": false
  },
  "progressivis_dag_png": "data:image/png;base64,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",
  "progressivis_outs": [
   {},
   {},
   {},
   "data:image/png;base64,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",
   {},
   "data:image/png;base64,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",
   {},
   "data:image/png;base64,iVBORw0KGgoAAAANSUhEUgAABHIAAADRCAYAAACgjJW/AAAhBElEQVR4nO3deXSU5cH38d8syUwmkAXCZkhCMEE2wxbKkiCLr0oFl0J8tEJBgVqlrT6AVVQUH3jkRQuVUrWCFQtVjLuVikpRrICAypJIIgSQPRIIIfsyycz1/gHMmxhksWh6J9/POTknydzLdQXmj/me675vmzHGCAAAAAAAAP/x7A09AAAAAAAAAJwfZ0MPoKkoKSnR8ePHVVxc3NBDASwrIiJCkZGRat68eUMPBQAAAAAaBCHnR3Ls2DG1bdtWHTp0aOihAJZVXl6uvLw8Qg4AAACAJus7L61i5cjFVVpaKo/H09DDACzN4/GopKSkoYcBAAAAAA0msCKnurpae77+Wi8vf1lFRUWaMuW/dfDQITVv3lyxMTGSJCPJ1lAjBQAAAAAAaOKcJSUlKikp0ZSp0/Thhx/K6/Vq2rSp+mLzZq1evVoHDx6Sz1ejjh07qk3btho2ZKhat26tTp0SJUmVVVVyuVwEHgAAAAAAgB+Yc/DgoXK5Xdqxc4cKC4vk8Xj0zDN/1rH8fBm//+RWxkgycrlD9MKSFzTsyisVEhKi6EsuUXx8vHr26KHY2BguHQIAAAAAAPgB2XTyiqmTPzicsttP3jbHZrNLMjLGyGazyefzyfhqZHcGyV9TI8koLDxCYWHN1a7dJbrnnnsUER6mESNGNMxM/sNlZmYqKSmpoYcBWB7vJQAAAABNmXN0WpqCg4NVeKJQObt36ejRoyopKZX8XjmDXXK7XfJWeZWQcKm6dumqNWvWqMbnU0VFhYqLClVcVKijx/J1z5T/VmlJqW5KS9OYW29VcnIfhYdHKCiIB2MBAAAAAABcDDZjjJEkY4yOHz+uAwcPaldOjk4UFikmpr2ioqJUXFSsjh076tJLO+qzzz9XcVGxDhw4oLy8PK1bv15H8o7o4IGDOnb0qCQjZ1CwYmJi1CE+Xo88PEOpKSnKP35cUS1byulsmmGHVQTAxcF7CQAAAEBTFgg5F8IYI5/PJ6fTqW3btmn37t1KSuqhjRs36PklS/TZ55+rsrxcoc2aKzo6WqmpKdq8eYtcLpdSU1M0dMhQjRz5/S7BOnjwoIwxio2N/V77NxQ+fAIXB+8lAAAAAE3Z9wo5Z1NVVaV3V67U9OnTdckl0Wrbrq2qvdUKDg7Wtm3blJ+fr9TUVKWkpmjCbbepRYsWF3T8sWPHKjU1VXfeeefFHPYP7nw+fE6fPl3jx49Xly5dvnObF154QZGRkbrxxhsv8gjP7NNPP9XatWt1//33/2DnqD2nvXv3yuFwfK9QN2fOHA0bNkz9+/e/oP2ysrL0/PPPq3Xr1rriiisuyny/PY/c3FwtW7ZMhw8fVlhYmEaPHq3evXvX2aeiokIzZ85UUlKSxo4d+2+dvzEj5AAAAABoyi76dU4ul0ujfvYzXTFokNatX6+srCy1bBmlI0e+0dChQ5Sbm6uUgSnatXuXlv3tb1r07LNyu926/PLLNWPGDHXq1OliD8kyHnroIYWEhDT0MH50t9xyS+Am22vXrlV8fPyPuuIqIyNDPXr00Pjx4/Xpp59elGPWnkd1dbUWLlyoESNGKDU1VVlZWXr77beVlJRU51LD9PT0JnvpIQAAAADg/JzxU+OBAwe0ecsWZW3P0p69e5V/7JgqKytlt9sVERkhl8ulIKdTISEetW7dSu3bt1dcXJw6JSaqTZs2Cg4OVlRUlG684QbdeMMNgeMeOXJEXm+1YmNjdOWVw5SVlaUrhw2Tw+HQZ599pubNm/9oE28Ix44d0yOPPKKbbrpJW7duVWFhobp27aqbb75Zdrtdjz32WGBFzq5du5Senq6ioiJFRERozJgxio+Pr3O8srIyzZ07V1deeaU6d+6shx9+WM8991zg9VmzZmnEiBHq06eP7rvvPg0bdvJvXlZWpvDwcE2YMOGC/+Zr1qzRmjVr5Pf75Xa7lZaWps6dO6ugoEAzZszQ2LFjtXHjRhUWFio2NlYTJ06UzWbTvn37tGzZMlVWVqp9+/Zq1aqVSktLdfvttys9PV2RkZFyu93auHGjMjMz9c033+iKK64465zWr1+vf/zjH3I6nerWrVudcRYWFmr58uXKzc2V3W5Xr169dMMNN8hut2vr1q1atmyZnnzySa1cuVKbNm2SzWZTfn6+BgwYcF7zlaTt27frjTfeUEVFhex2u0aMGKGUlBS9//77deaRmJio0NBQDRo0SJLUvXt3de/evc55MjMzlZeXpwEDBqioqOiC/k0AAAAAAE1HIOQYY7Rq1T/1l+f/ovXrP9WRvDwZX82pV221djnzlVjB7hBFtWyh+PiOSklJ0U9/Olx9k5MVGhoa2KZt27aB7+12uy6//PLAz127dg18/+WXX2rWrFnasWOHYmNjNW3aNA0bNqzeOauqqtSlSxe9//77gZU8o0aN0o033qhx48Zp/vz5evvtt3X8+HE1a9ZMaWlp2r9/v9atWydjjMaNG6d7771XkvTBBx9o3rx5ysvLU1VVlZKTkzVv3jy1a9dOxhg99thjeuutt1RWVqaBAwdqyZIlWrlypWbMmKHVq1ef1yVidrtdNTU18nq9mjZtmqqqqjRz5kwlJiYqOTk5sF15ebmeeuop3XnnnerSpYs2bNigp59+Wk888URgm+rqaj311FPq16+fhgwZoiNHjpzz3Dk5OZo6dapsNpueffZZvfPOOxozZsw5x33aV199pRUrVmjGjBlq0aKFsrKy9Mwzz2jOnDlyOByqrq5WcXGxpk6dqsrKSj344IPauXOnLrvsMi1ZskQpKSm65pprdOjQIf3+97+vd2nR8OHDlZGRoYEDB2rQoEFnnVNhYaFefPFFTZ8+XXFxcdq2bZvWrFkTeP35559XdHS07rrrLnm9Xv3hD39QZGSkhgwZovj4eN12222SpGuvvVYFBQVyuVy66aab6qzIOdt83W63Fi9erEmTJikpKUk5OTmaP3++kpKS6s3j7bffVuvWrbVkyRLt3LlTYWFhGjVqVOASuvLycqWnp+vuu+/W5s2bz/vfAwAAAADQ9Nglyev16v4HHtBPr71Wr7/2mvKOHpXD6VSQy33qy1Xry33GL7/fryN5R7V+/Xo98fhcXX3NcF0xeIjm/+EPOnTo0HkPqKCgQGPHjtXAgQO1cuVK3XbbbbrrrruUnZ19wZPLzs7WVVddpXXr1umJJ57Qc889p3bt2mnFihVauHChFi1apC1btkg6uQrJ4/Fo1apVWrlypSTp0UcflSR98sknevPNN5Wenq7PPvtMDz74oCSdupFz6gVfDnX6Hi4ul0vdu3fXzp0767z+1VdfKSwsLPBBv3///po5c6ZstpNBzRij5557TnFxcRo5cuR5n7dfv36BY/Tp06feec9ly5Yt6tmzZyBadevWTaGhodq1a1e9ubndbrVu3VrHjx9XUVGRvvnmG6WkpEiS2rdvr4SEhAs697ft3LlTrVq1UlxcnCSpZ8+eioiIkCSVlpZqx44dGj58uGw2m1wulwYNGqTPP/9ckhQREaEePXr8W/N1Op16/PHHAzGyU6dOcjgcys/Pr3ec8vJyZWdna+jQoZo7d66GDx+up59+OrDyZvny5Ro6dGid0AkAAAAAwJk4Jenw4Vx9lZ2t2Lg4HTp4UHaHI7CBz++Xv7pakpHDGSSH06kz3R/ZZrPJ4XDIcWpfY4y2bNmiLZu/0J/+9JQmTZqku+78lVq2bHnWAa1YsUKtWrXSlClTJEkxMTH66KOPlJ6erlmzZl3wBMPDw9WiRQsNGTJEXbt21SWXXKLY2FjFxsaqc+fO+vLLLwMrQzweT+DD9IQJE/S73/1OktS8eXNVVFTowIEDSkhIUFhYmCSpR48eWrhw4QWPqfYqpZCQEB0/frzO60VFRXW2sdlsdS6B+vjjj1VTU3PBNzz+9nnLysouaP/i4uJ6saFZs2YqLi6uc9za4/b7/YHz1D5/VFSUvF7vBZ2/trKysjrHOz2W0+OUpLlz5wZe8/l8F3wZ2bnmu27dOm3evFl+vz9wjjO9N0JDQ5WQkBC4NK5Pnz5asWKFdu3aJYfDoRMnTmjixIkXNDYAAAAAQNPklKT4+A7644IFuu76G+Q3RnadDDE13iq1jIpSnz59NGDAANWEh2v5s4u0d+dO2RyOs96Y1e/zyeF0ym6368DBg3p4xkNKT0/X/zw6U6NHj/7O/Q4dOhRYZXFafHy8duzYUW/b2itUzkdERIQqKioCP4eFham0tPSM20ZFRamwsFCS1Lt3b82ePVtz5szR7NmzNW3aNF133XXndc4zKSkpCazyKC0tDQSI2uOqHUeMMcrNzQ1Eha5du2rkyJF6/PHHlZiYqA4dOgRuFmyMCfxdas/19HlPO9N5zyU8PLzOuE4f8/RKmO9yOu5UVFTI4/FIko4fP37OsHK2OXk8nnoh6vQKl9PjmTFjxgXPsbazzTcjI0MrV67UQw89pKioKBlj9Otf//qMx2ndurWysrLq/d7hcOjzzz9XXl6eHnjggcD8fD6f8vLyNG3atO89dgAAAABA42QvOHFCGzdu0o2jRik7O1vOUytubDK641e/0tpPPtF7772nR2bOVEL37vIbvzp2jNdlnRLlq6k540GNMWof30GhzUJVXVUph8OhIJdbWVnZSktL0223T1BeXt4Z942Ojtb+/fvr/G7v3r1q3759vW2Dg4MVEhKio0ePntdkbTZbnejz7Z/r/GFORYTT0tLStHr1av32t7/VlClTtHfv3vM655msXbtW0smYsn379nqPG+/SpYtKS0u1bds2SdLmzZs1f/78QMxo06aNoqOjNXr0aC1evFiVlZUKDw+X3W5Xbm6upJOXHhUUFNQ57saNG1VTUyO/369Nmzad9THnZ9K7d29lZGQEjpuZmanKykolJiaedb/IyEi1bNkycGnT4cOHtWfPnjNu63Q6VV5eLklnnVNiYqLy8vIC/w6bNm0KRDmPx6MuXbrogw8+kHTy/+N7772nDRs2SDoZfLZv3/5vzbekpETNmzdXy5YtZYzRypUrZbPZVFVVVW8evXv31tGjR/XFF19IkrZu3aqCggIlJCTojjvu0Lx58zR37lzNnTtXV199tfr370/EAQAAAACckfPAgQP6/bzf68uMDLVq3UblFRUqKy3RL8aO1aJnnw1sWF1TI1dQkMKjovTTQYN06aWX6o477pDd4QgEhgC/X2PuvluXJyToX3//u5b97UV5q6sVFByk668bpU8++UT/56qr9NcXXpDb7ZbL5VJ2drZ69Oih6667Tk8++aSefPJJpaWlaePGjfroo4/05ptvSjp5mdOOHTvk9XoVHBysvn37avHixWrXrp2aNWtWbxXKxZCbm6uSkhLFxMSoc+fOstlsKi4u1rZt2/TMM89o4cKFcrvd5328iIgIPfrooyorK1NycrJ69uxZ5/XQ0FBNnjxZr776qpYtW6aIiAhNnjy5XlwaPHiwsrOz9eKLL2rSpEkaNWqU/vznP6tFixaKjY1VQkJC4LIf6eR9XB5//HEVFxcrOjr6gu6vI0mdO3fW9ddfrwULFsjv98vj8eg3v/mNPB7PWZ+0ZLPZNH78eL300ktatWqVOnbsqJ/85Ceqrq6ut22fPn302muvaf/+/brjjju+c04tW7bUz3/+cz377LOy2Wzq0aOHEhMTA/OdMGGCli9frgcffFB+v19xcXEaO3asJOnrr78OPLXq+843OTk5cL+kkJAQjRw5UgMGDNCSJUs0derUevOYPHmyli9frmXLlikqKkqTJ09u9E9pAwAAAAD8AE6cOGGeX7LEvP7GG+aFv/7VRES2MLLZzNixvzDftm77dvOrR2aafv36mf3795v7pk83LrfbOINdJsjlNkEut5FsJqFbNzP/1VfNofx8Y4wxr7zyinG53cZmd5irrr7arFq1yvzxjwvN559/YTp16mS6d+9u0tLSzObNm40xxmRkZJi0tDTTrVs3c+2115rVq1cHxrBhwwaTmppq0tPTjTHGHDhwwNx6662mW7duplu3bmbYsGHmww8/NMYYM2HCBLNgwYLAvuPHjzd/+tOfAj+PGTMm8PPixYvNLbfcEngtMzPTxMfHG2OM+ec//2l+8pOfmISEBNOvXz8zf/58Y4wx7777runVq5fJPzXPs8nIyDD5+flm0qRJxufznXP7i+3+++832dnZP/p5a/P7/YHvly1bZl5//fUGHA2sKiMjo6GHAAAAAAANxub1eo0xRsHBwXpk5kzNnjVLsjvksNu0YMEC/abWfT9Kysv11oYNenXpUh3dsUO333a7Hp75iAoKTpy8sa2vRq3atdPt992nQQMG6Nq+fQOrSH75y1/qL88/LxmjSxMS9fe/v61utR453thlZmYqOjpa06dP16JFi+qtrvmhTZ8+XePHj7/gy6kulgULFig2NlajRo1SUVGRZs+erXHjxikpKalBxgPryszM5P8NAAAAgCbLGRQUJEmqqanRZZ0uU/8BA1VeXq4dO3fq3nvvVXlZme69917Z7XY193h0bXKygp1B+njNGi1evlz24GCFt4hUaPPmuqxHDw0aMUI9u3bVsB49ArGiurpaVaeeUBTkcmvP7t268cafaelf/6qBAwc02OQhvfzyy3UeH15beHi47rnnnotynltuuUVLly7VfffdJ4fDoaFDh/JhHAAAAACAC2Qz5v/f7beqqkpr163T6g8/1FNPPaWyU085uvXWMZoz57HA06S8NTXaeeiQdufm6pu8PHmrq+UOCVHbVlFKaNtOXePiZD9135zdu3fr/unT9dZbb8t5KhpJUrXXq9jYWO3f9/1vGmwlrCIALg7eSwAAAACasjohR5LKKsq1eNFirfn4XyopKVFOTo5yDx1UdHS0pk6dqptvvlnR0dGB7X06+VQgh82m07c89nq9+uqrHXrllVe0dOlS5eYeVpDLffKR5jU1kt936ux2mdPfN3J8+AQuDt5LAAAAAJoy57d/ERri0S/GjlXekSMKj4xUv759tXXrFh05elTT7v2dnpg3T4NSUzVw4EDFxcbK4/GosrJShUVFOnbsmHbv2q1tGduUnf2VSkuKJZtdjqBgVXu98oSG6vLLuysmur3aXdJOKSkpDTFnAAAAAAAAS6q3IkfSqUeQlyoyMlI7d+aoorJchSeKtOfrr/W//ztbYWFhys7KUmizZvJ6q1XtrfrWUe1yOJ0KCgpS27ZtVVZaqpjYGP3fOXOUmpIij8fzY83vPwarCICLg/cSAAAAgKas3oocSfKEhMgTEiJJiouL1etvvKGgoCB9+WWmZjz0kI4dy5fL5dIl0ZfovvvuV3JyssrKypT55Zfyer0qOlEgn8+nNq1b6fqRIzX515PVtk0bhYeH/6iTAwAAAAAAaEzOGHJqCwoK0n/d9F/yeEL00+HDtW/fPvl8Pn38r3/pzTfe0MMzZmjU6FH6n1mzVVNTrbLyCrWKaqmYmBhNv3+6mjVvphaRkXI4HD/GfAAAAAAAABqtM15adT4qKytls9nkcrkkSW+++ZZSU1PkdrsVFhYmY4xsNts5jtJ0cDkIcHHwXgIAAADQlAVW5PiNkc93/k+QcgYHyyap2ueTjNHPRv1M/lNNqObUcc6nEQU5z7koCAAAAAAAAKoVcuw2m+zfI6rUvmDKcXoFDpdRAQAAAAAAXHT2hh4AAAAAAAAAzg8hBwAAAAAAwCIIOQAAAAAAABZByAEAAAAAALAIQg4AAAAAAIBFEHIAAAAAAAAsgpADAAAAAABgEYQcAAAAAAAAiyDkAAAAAAAAWAQhBwAAAAAAwCIIOQAAAAAAABZByAEAAAAAALAIQg4AAAAAAIBFEHIAAAAAAAAsgpADAAAAAABgEYQcAAAAAAAAiyDkAAAAAAAAWAQhBwAAAAAAwCIIOQAAAAAAABZByAEAAAAAALAIQg4AAAAAAIBFEHIAAAAAAAAsgpADAAAAAABgEYQcAAAAAAAAiyDkAAAAAAAAWAQhBwAAAAAAwCIIOQAAAAAAABZByAEAAAAAALAIQg4AAAAAAIBFEHIAAAAAAAAsgpADAAAAAABgEYQcAAAAAAAAiyDkAAAAAAAAWAQhBwAAAAAAwCIIOQAAAAAAABZByAEAAAAAALAIQg4AAAAAAIBFEHIAAAAAAAAsgpADAAAAAABgEYQcAAAAAAAAiyDkAAAAAAAAWAQhBwAAAAAAwCIIOQAAAAAAABZByAEAAAAAALAIQg4AAAAAAIBFEHIAAAAAAAAsgpADAAAAAABgEYQcAAAAAAAAiyDkAAAAAAAAWAQhBwAAAAAAwCIIOQAAAAAAABZByAEAAAAAALAIQg4AAAAAAIBFEHIAAAAAAAAsgpADAAAAAABgEYQcAAAAAAAAiyDkAAAAAAAAWAQhBwAAAAAAwCIIOQAAAAAAABZByAEAAAAAALAIQg4AAAAAAIBFEHIAAAAAAAAsgpADAAAAAABgEYQcAAAAAAAAiyDkAAAAAAAAWAQhBwAAAAAAwCIIOQAAAAAAABZByAEAAAAAALAIQg4AAAAAAIBFEHIAAAAAAAAsgpADAAAAAABgEYQcAAAAAAAAiyDkAAAAAAAAWAQhBwAAAAAAwCIIOQAAAAAAABZByAEAAAAAALAIQg4AAAAAAIBFEHIAAAAAAAAsgpADAAAAAABgEYQcAAAAAAAAiyDkAAAAAAAAWAQhBwAAAAAAwCIIOQAAAAAAABZByAEAAAAAALAIQg4AAAAAAIBFEHIAAAAAAAAsgpADAAAAAABgEYQcAAAAAAAAiyDkAAAAAAAAWAQhBwAAAAAAwCIIOQAAAAAAABZByAEAAAAAALAIQg4AAAAAAIBFEHIAAAAAAAAsgpADAAAAAABgEYQcAAAAAAAAiyDkAAAAAAAAWAQhBwAAAAAAwCIIOQAAAAAAABZByAEAAAAAALAIQg4AAAAAAIBFEHIAAAAAAAAsgpADAAAAAABgEYQcAAAAAAAAiyDkAAAAAAAAWAQhBwAAAAAAwCIIOQAAAAAAABZByAEAAAAAALAIQg4AAAAAAIBFEHIAAAAAAAAsgpADAAAAAABgEYQcAAAAAAAAiyDkAAAAAAAAWAQhBwAAAAAAwCIIOQAAAAAAABZByAEAAAAAALAIQg4AAAAAAIBFEHIAAAAAAAAsgpADAAAAAABgEYQcAAAAAAAAiyDkAAAAAAAAWAQhBwAAAAAAwCIIOQAAAAAAABZByAEAAAAAALAIQg4AAAAAAIBFEHIAAAAAAAAsgpADAAAAAABgEYQcAAAAAAAAiyDkAAAAAAAAWAQhBwAAAAAAwCIIOQAAAAAAABZByAEAAAAAALAIQg4AAAAAAIBFEHIAAAAAAAAsgpADAAAAAABgEYQcAAAAAAAAiyDkAAAAAAAAWAQhBwAAAAAAwCIIOQAAAAAAABZByAEAAAAAALAIQs6PJCwsTCUlJQ09DMDSSkpKFBER0dDDAAAAAIAGYzPGmIYeRFNQWVmpI0eOqLi4uKGHAlhWWFiY2rZtK7fb3dBDAQAAAIAGQcgBAAAAAACwCC6tAgAAAAAAsAhCDgAAAAAAgEUQcgAAAAAAACzCefobY4y8Xq98Pl9DjgcW53A4FBwcLJvN1tBDAQAAAACg0QmsyKmqqiLi4N/m8/lUVVXV0MMAAAAAAKBRCoQcv9/fkONAI8L/JQAAAAAAfhjcIwcAAAAAAMAiCDkAAAAAAAAWQcgBAAAAAACwCEIOAAAAAACARRByAAAAAAAALIKQAwAAAAAAYBFNOuT4/X7t2LFD69evV2VlZUMPBwAAAAAA4KycDT2AhuL3+5WRkaEPPvhAXq9XlZWVGjx4sJzOun+SAwcOaM2aNcrPz5fP51NISIj69OmjgQMHSpJKS0t18OBBdenS5YLH8O/sCwAAAAAAmp4mGXL8fr+2bdumVatWqbKyUi6XS5GRkbLb6y5Qqqys1IsvvqjrrrtO3bt3l81mU25url566SU1a9ZMSUlJ2rt3r3Jyci44xvj9/u+9LwAAAAAAaJpsxhgjSeXl5Q09louqpKREx44dU0xMjIKCggK/9/l8gYhTVVUll8ulq666Sr17964XcvLy8rRo0SI98MADdY5RVFQkt9utb775Rq+++qp8Pp/atGmjCRMmaNeuXVq9erWqqqpkt9s1aNAg9erVS5K0YMEC9e3bV5s2bVL37t21bdu2Ovs2Jh6Pp6GHAAAAAABAo9MoV+QUFhbqnXfe0b59+9SvXz8NGTJELpdLPp9PW7ZsCYQWl8ulq6++Wj179qwXcSQpKipKrVu31tKlS9W3b1/FxcUpIiJC4eHhkqQOHTooOTlZJ06c0OjRo1VTU6PXX39daWlpSkxM1P79+7V06VJ16tRJoaGhcjgc2rdvn+6++245nU45nc7AvgAAAAAAAOfSKENORUWFiouL5ff7tXHjRvl8Pg0ZMkTbt2/Xhx9+WGclTs+ePeVwOM54HIfDoYkTJ2rz5s3KyMjQu+++K4/Ho549e2rQoEH19nM6nZoyZYpcLpckKS4uTg6HQ4WFhQoNDZUkdenSpd59eAAAAAAAAM5HoywKbdu21ciRI/XOO++ooKBAn332mfbs2aOioiLV1NQEVuL06tXrjCtxagsKClL//v3Vv39/+f1+7du3T++++64qKys1fPjwettv3bpV2dnZOnXFmnw+X+B7SWrWrNnFnSwAAAAAAGgyGuXjx202m+Li4nT99derRYsWkqTjx4/XiTjfdTlVbXl5edq7d2/gZ7vdro4dOyo5OVmHDx+ut31OTo7Wrl2r0aNHa9KkSZo4ceJ3rvYBAAAAAAC4UI0y5Ehnjjm1I875BJYTJ07olVdeUU5Ojvx+v6STQSgzM1Px8fGSTl5+VVVVJUkqKyuTx+NReHi4jDFau3atJMnr9Z7x+LX3BQAAAAAAOJdG+9Sq04wx2r9/v1atWqXevXurV69eF7RKZvv27dqwYYMKCgokSaGhoUpKSlJqaqrsdrsOHz6sl156SUFBQbrzzjv12muv6cSJE3K5XBo8eLD27NmjnJwcjRs3Ti+//LKuueYaderUSZLq7HvPPfecc4WQlfDUKgAAAAAALr5GH3LQMAg5AAAAAABcfI1nCQgAAAAAAEAjR8gBAAAAAACwCEIOAAAAAACARRByAAAAAAAALIKQAwAAAAAAYBGEHAAAAAAAAIsIhByn09mQ40Aj4nA4GnoIAAAAAAA0SoF6ExQUJEmqqamRJNlstoYZESzJGCPpZBAMDg5u4NEAAAAAANA42czpT+AAAAAAAAD4j8Y9cgAAAAAAACzi/wEKox8I6TIkfwAAAABJRU5ErkJggg==",
   {},
   "data:image/png;base64,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"
  ],
  "progressivis_prev_outs": [
   {},
   {},
   {},
   "data:image/png;base64,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",
   {},
   "data:image/png;base64,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",
   {},
   "data:image/png;base64,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",
   {},
   "data:image/png;base64,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"
  ],
  "toc": {
   "base_numbering": 1,
   "nav_menu": {},
   "number_sections": false,
   "sideBar": true,
   "skip_h1_title": true,
   "title_cell": "PTable of Contents",
   "title_sidebar": "Contents",
   "toc_cell": false,
   "toc_position": {
    "height": "836.875px",
    "left": "59px",
    "top": "111.125px",
    "width": "340px"
   },
   "toc_section_display": true,
   "toc_window_display": true
  },
  "toc-showtags": false,
  "widgets": {
   "application/vnd.jupyter.widget-state+json": {
    "state": {
     "0070b6ffc9aa4e6ba0e3ed737ec2da4d": {
      "model_module": "@jupyter-widgets/controls",
      "model_module_version": "2.0.0",
      "model_name": "BoundedFloatTextModel",
      "state": {
       "description": "Min:",
       "layout": "IPY_MODEL_28b5d28923c045c8a31fc715e7dc4b70",
       "max": 1,
       "step": 0.001,
       "style": "IPY_MODEL_32403f5b621e4ec19db32c3531bba5e0",
       "value": 0.03
      }
     },
     "01a692e500db4d5f889a847494d7e367": {
      "model_module": "@jupyter-widgets/base",
      "model_module_version": "2.0.0",
      "model_name": "LayoutModel",
      "state": {}
     },
     "01b19579ec004b51935e77794659f6cc": {
      "model_module": "@jupyter-widgets/controls",
      "model_module_version": "2.0.0",
      "model_name": "TextStyleModel",
      "state": {
       "description_width": "",
       "font_size": null,
       "text_color": null
      }
     },
     "01e4ab568df1464ea5c9262469440eb7": {
      "model_module": "@jupyter-widgets/base",
      "model_module_version": "2.0.0",
      "model_name": "LayoutModel",
      "state": {}
     },
     "03bea19f4b2e4a42b964883574449266": {
      "model_module": "@jupyter-widgets/base",
      "model_module_version": "2.0.0",
      "model_name": "LayoutModel",
      "state": {}
     },
     "049c302af76b4318a2e1f7967b450765": {
      "model_module": "@jupyter-widgets/base",
      "model_module_version": "2.0.0",
      "model_name": "LayoutModel",
      "state": {
       "width": "100%"
      }
     },
     "04d7904aa2a34f3393ef3775a46797bb": {
      "model_module": "@jupyter-widgets/controls",
      "model_module_version": "2.0.0",
      "model_name": "HTMLModel",
      "state": {
       "layout": "IPY_MODEL_a83217733aac431a8d681c8a509a191b",
       "style": "IPY_MODEL_b3b36eeae5064b2e83fd577e1c9507e2"
      }
     },
     "051d587f68814483aff2ee5a229e9f2f": {
      "model_module": "@jupyter-widgets/base",
      "model_module_version": "2.0.0",
      "model_name": "LayoutModel",
      "state": {}
     },
     "05275a79a66547e899d752319b472090": {
      "model_module": "@jupyter-widgets/base",
      "model_module_version": "2.0.0",
      "model_name": "LayoutModel",
      "state": {}
     },
     "05761b3af94b4082a9822822203ce7eb": {
      "model_module": "@jupyter-widgets/base",
      "model_module_version": "2.0.0",
      "model_name": "LayoutModel",
      "state": {}
     },
     "07ae95bd5b03400d8975ade8efd96646": {
      "model_module": "@jupyter-widgets/controls",
      "model_module_version": "2.0.0",
      "model_name": "VBoxModel",
      "state": {
       "children": [
        "IPY_MODEL_c0082b96a50f44979f199f956e7e21ae"
       ],
       "layout": "IPY_MODEL_34454dcfb8bd4f75bee442ce80ef41c5"
      }
     },
     "07bd536aa49b430aa7c5dc259a70a7dd": {
      "model_module": "@jupyter-widgets/base",
      "model_module_version": "2.0.0",
      "model_name": "LayoutModel",
      "state": {}
     },
     "08ee59f2edf34da3b02e544bd99fbffe": {
      "model_module": "@jupyter-widgets/controls",
      "model_module_version": "2.0.0",
      "model_name": "HTMLModel",
      "state": {
       "layout": "IPY_MODEL_3c6a85e5f4b2496c9240c2e4a24b8f8f",
       "style": "IPY_MODEL_ab3d4f4951f8463c88aed43194a42d5c"
      }
     },
     "09dea9857f8b48a6b652d3e91edeac64": {
      "model_module": "@jupyter-widgets/base",
      "model_module_version": "2.0.0",
      "model_name": "LayoutModel",
      "state": {}
     },
     "0a49e1404eea474f8b16c359d215878b": {
      "model_module": "@jupyter-widgets/base",
      "model_module_version": "2.0.0",
      "model_name": "LayoutModel",
      "state": {}
     },
     "0ae3a603fb204a13a33cd94f48693a06": {
      "model_module": "@jupyter-widgets/controls",
      "model_module_version": "2.0.0",
      "model_name": "HTMLModel",
      "state": {
       "layout": "IPY_MODEL_9f5d889ee52747dd9de16123f7062ff8",
       "style": "IPY_MODEL_5ebdd2c04ebb4700ba9dfac0a87a17f6"
      }
     },
     "0b53991c1afd48b4a79a8ed7ba9d5a59": {
      "model_module": "@jupyter-widgets/controls",
      "model_module_version": "2.0.0",
      "model_name": "HTMLModel",
      "state": {
       "layout": "IPY_MODEL_90c151ffcc5b4fdc90ed65fe9d98d22d",
       "style": "IPY_MODEL_6b58e863428e417fa039a86ba09e57cb"
      }
     },
     "0b6039d16c5d45ccaa0119a800c43762": {
      "model_module": "@jupyter-widgets/base",
      "model_module_version": "2.0.0",
      "model_name": "LayoutModel",
      "state": {
       "width": "60%"
      }
     },
     "0d650636503a4497bc0913841a11db68": {
      "model_module": "@jupyter-widgets/controls",
      "model_module_version": "2.0.0",
      "model_name": "VBoxModel",
      "state": {
       "_dom_classes": [
        "progressivis_guest_widget"
       ],
       "children": [
        "IPY_MODEL_aa13ab88574e40cd84e5d4edd6b1dd64",
        "IPY_MODEL_8d754baac0ff4c758c8df118f2616203",
        "IPY_MODEL_c7d3322f771a4625abe884d4cd9a1877",
        "IPY_MODEL_0070b6ffc9aa4e6ba0e3ed737ec2da4d",
        "IPY_MODEL_61989a016a7a44e489b689bd32ca922e",
        "IPY_MODEL_8dc403def2ba40e49c84c3fce774960f",
        "IPY_MODEL_caa09eb8ff4f4bdf92409cd3eaa480cf",
        "IPY_MODEL_a9514fdd29474d88ab48118cef953279",
        "IPY_MODEL_8710ea55fef94947b3c79695fa90212d"
       ],
       "layout": "IPY_MODEL_b34f795518b8408ba2196f552176dee5"
      }
     },
     "0f3b2005f451425fadca5bf9d1f9abf6": {
      "model_module": "@jupyter-widgets/controls",
      "model_module_version": "2.0.0",
      "model_name": "SliderStyleModel",
      "state": {
       "description_width": "initial"
      }
     },
     "10baf40cae0f49c6b1053f44fb4e0635": {
      "model_module": "@jupyter-widgets/base",
      "model_module_version": "2.0.0",
      "model_name": "LayoutModel",
      "state": {}
     },
     "10e6d73599d0407f92a9cb7ac3f12b4d": {
      "model_module": "@jupyter-widgets/controls",
      "model_module_version": "2.0.0",
      "model_name": "HTMLStyleModel",
      "state": {
       "description_width": "",
       "font_size": null,
       "text_color": null
      }
     },
     "1123b207dc6348568a3a6c92d04bc1dc": {
      "model_module": "@jupyter-widgets/controls",
      "model_module_version": "2.0.0",
      "model_name": "HBoxModel",
      "state": {
       "children": [
        "IPY_MODEL_f2bdaec356b9401ea3538f3348be0cda",
        "IPY_MODEL_62d4f51347c34be6ba3b6accc9ec3974",
        "IPY_MODEL_4742486965754499aed2ff809fb12bb4"
       ],
       "layout": "IPY_MODEL_4f3b0b3925734ff49696425a83557a14"
      }
     },
     "118499f4370141218d91cb6b502f492f": {
      "model_module": "@jupyter-widgets/controls",
      "model_module_version": "2.0.0",
      "model_name": "TabModel",
      "state": {
       "children": [
        "IPY_MODEL_efc284ef2ff34490afa9518842b62390",
        "IPY_MODEL_55ee13e407a143ecaf0e3d3bbcc357e2"
       ],
       "layout": "IPY_MODEL_e6003fec7c2e4a08881c337ef6f8ad4d",
       "selected_index": 0,
       "titles": [
        "Modules",
        "Module graph"
       ]
      }
     },
     "1522de4bf6dd4b369838bf8e39ce8b5d": {
      "model_module": "@jupyter-widgets/controls",
      "model_module_version": "2.0.0",
      "model_name": "DescriptionStyleModel",
      "state": {
       "description_width": ""
      }
     },
     "1623445ac1454c639e2e453d5accb757": {
      "model_module": "@jupyter-widgets/base",
      "model_module_version": "2.0.0",
      "model_name": "LayoutModel",
      "state": {}
     },
     "1648be493a5043f6ba8a5399104e9f4b": {
      "model_module": "@jupyter-widgets/base",
      "model_module_version": "2.0.0",
      "model_name": "LayoutModel",
      "state": {}
     },
     "17739487aeb841858c573d81a1f797e6": {
      "model_module": "@jupyter-widgets/controls",
      "model_module_version": "2.0.0",
      "model_name": "ButtonStyleModel",
      "state": {
       "font_family": null,
       "font_size": null,
       "font_style": null,
       "font_variant": null,
       "font_weight": null,
       "text_color": null,
       "text_decoration": null
      }
     },
     "17db23d575124a78a18500ed750b52fb": {
      "model_module": "@jupyter-widgets/controls",
      "model_module_version": "2.0.0",
      "model_name": "CheckboxStyleModel",
      "state": {
       "description_width": ""
      }
     },
     "17e15d4abebd464f826ad5007d802d92": {
      "model_module": "@jupyter-widgets/controls",
      "model_module_version": "2.0.0",
      "model_name": "HTMLStyleModel",
      "state": {
       "description_width": "",
       "font_size": null,
       "text_color": null
      }
     },
     "1926ea412be4411dbbede0890390a863": {
      "model_module": "@jupyter-widgets/controls",
      "model_module_version": "2.0.0",
      "model_name": "TabModel",
      "state": {
       "children": [
        "IPY_MODEL_5b26e508c96c4cd7a4a7c50bb8164cf2",
        "IPY_MODEL_22fa802b154f4af680859626eda49431"
       ],
       "layout": "IPY_MODEL_3e90abacdd77474fa8b40feecc468bfc",
       "selected_index": 0,
       "titles": [
        "Main",
        "Output slots"
       ]
      }
     },
     "1a3ef96029a1404e860784ec777504bd": {
      "model_module": "@jupyter-widgets/base",
      "model_module_version": "2.0.0",
      "model_name": "LayoutModel",
      "state": {}
     },
     "1b5593f19f994b3eb702e499e692f6ca": {
      "model_module": "@jupyter-widgets/controls",
      "model_module_version": "2.0.0",
      "model_name": "HTMLModel",
      "state": {
       "layout": "IPY_MODEL_09dea9857f8b48a6b652d3e91edeac64",
       "style": "IPY_MODEL_89556281919f466c98266c2293dbd32d"
      }
     },
     "1d082d018c5844c4acdfa421d0a171a4": {
      "model_module": "@jupyter-widgets/controls",
      "model_module_version": "2.0.0",
      "model_name": "ButtonStyleModel",
      "state": {
       "font_family": null,
       "font_size": null,
       "font_style": null,
       "font_variant": null,
       "font_weight": null,
       "text_color": null,
       "text_decoration": null
      }
     },
     "1db8007304ff420cb3cf1ccf1b914fc8": {
      "model_module": "@jupyter-widgets/base",
      "model_module_version": "2.0.0",
      "model_name": "LayoutModel",
      "state": {}
     },
     "1dfef3060f4d4470bfdb4c3d96e017cb": {
      "model_module": "@jupyter-widgets/controls",
      "model_module_version": "2.0.0",
      "model_name": "ButtonModel",
      "state": {
       "description": "Sniff ...",
       "icon": "check",
       "layout": "IPY_MODEL_73a0886962b94b59a4d22573e5df4974",
       "style": "IPY_MODEL_a9737ac0feb04c27b125dcb3a676c1eb",
       "tooltip": "Sniff ..."
      }
     },
     "1e0ee60693584fada7ce69fc512f82e2": {
      "model_module": "@jupyter-widgets/base",
      "model_module_version": "2.0.0",
      "model_name": "LayoutModel",
      "state": {}
     },
     "200491c0a37641a4be1a2b6e950c7ea2": {
      "model_module": "jupyter-progressivis",
      "model_module_version": "^0.1.0",
      "model_name": "BackupModel",
      "state": {
       "_model_module_version": "^0.1.0",
       "_view_module_version": "^0.1.0",
       "layout": "IPY_MODEL_dddfbbbe6929448bbe32efd2378e6551",
       "root_markdown": "\n### Progressive Loading and Visualization\n\nThis **ProgressiBook** demonstrates the use of chaining widgets to implement the scenario introduced in [userguide1.1.ipynb](https://github.com/progressivis/progressivis/blob/master/notebooks/userguide1.1.ipynb). It progressively downloads New York Yellow Taxi trip data and visualizes the pickup locations.",
       "value": "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;eyJ0aXRsZSI6ICJRdWFudGlsZXMiLCAicGFyZW50IjogWyJUYXhpcyIsIDBdLCAibnVtYmVyIjogMCwgImFsaWFzIjogIiIsICJmcm96ZW4iOiBbInBpY2t1cF9sb25naXR1ZGUiLCAicGlja3VwX2xhdGl0dWRlIl0sICJtYXJrZG93biI6ICJcblRoaXMgd2lkZ2V0IGNyZWF0ZXMgYSBgUXVhbnRpbGVzYCBtb2R1bGUgYW5kIGNvbm5lY3RzIGl0IHRvIHRoZSBvdXRwdXQgb2YgdGhlIHByZXZpb3VzbHkgZGVmaW5lZCBDU1YgbG9hZGVyLlxuXG5UaGUgYFF1YW50aWxlc2AgbW9kdWxlIG1haW50YWlucyBhbiBpbnRlcm5hbCBkYXRhIHN0cnVjdHVyZSwga25vd24gYXMgYSBkYXRhIHNrZXRjaCwgdG8gcXVpY2tseSAodGhvdWdoIGFwcHJveGltYXRlbHkpIGNvbXB1dGUgcXVhbnRpbGVzIGZvciBhbGwgbG9hZGVkIG51bWVyaWNhbCBjb2x1bW5zLiBUaGlzIGFwcHJvYWNoIGlzIG5lY2Vzc2FyeSBiZWNhdXNlIHRoZSBkYXRhc2V0J3MgbWluaW11bSBhbmQgbWF4aW11bSB2YWx1ZXMgYXJlIG5vaXN5LlxuXG5BdCB0aGlzIHN0YWdlLCB0aGUgUXVhbnRpbGVzIG1vZHVsZSBpcyBjcmVhdGVkIGFuZCBwYXJ0aWFsbHkgY29uZmlndXJlZDogYm90aCB0aGUgcGlja3VwX2xhdGl0dWRlIGFuZCBwaWNrdXBfbG9uZ2l0dWRlIGNvbHVtbnMgYXJlIHNlbGVjdGVkIChhbHRob3VnaCB0aGUgaW5jb21wbGV0ZSBzbmFwc2hvdCBiZWxvdyBvbmx5IGRpc3BsYXlzIHBpY2t1cF9sb25naXR1ZGUpLlxuIn0=;eyJ0aXRsZSI6ICJIZWF0bWFwIiwgInBhcmVudCI6IFsiUXVhbnRpbGVzIiwgMF0sICJudW1iZXIiOiAwLCAiYWxpYXMiOiAiIiwgImZyb3plbiI6IHsiWCI6ICJwaWNrdXBfbG9uZ2l0dWRlIiwgIlkiOiAicGlja3VwX2xhdGl0dWRlIn0sICJtYXJrZG93biI6ICJcblRoaXMgd2lkZ2V0IGZpbmFsaXplcyB0aGUgY29uZmlndXJhdGlvbiBvZiB0aGUgYG1pbmAgYW5kIGBtYXhgIHZhbHVlcyBmb3IgdGhlIHByZXZpb3VzbHkgY3JlYXRlZCBgUXVhbnRpbGVzYC5cblxuSXQgYWxzbyBjcmVhdGVzIHRoZSBgSGlzdG9ncmFtMkRgIG1vZHVsZSB0byBjb3VudCBhbGwgcGlja3VwIGxvY2F0aW9ucyBvbiBhIGA1MTJ4NTEyYCBncmlkLlxuXG5GaW5hbGx5LCBhIGBIZWF0bWFwYCBtb2R1bGUgaXMgY3JlYXRlZCBhbmQgY29ubmVjdGVkIHRvIHRoZSBvdXRwdXQgb2YgdGhlIEhpc3RvZ3JhbTJEIG1vZHVsZS4gVGhpcyBtb2R1bGUgY29udmVydHMgdGhlIDJEIGhpc3RvZ3JhbSBpbnRvIGFuIGltYWdlLCBkaXNwbGF5ZWQgYmVsb3cuXG4ifQ=="
      }
     },
     "2032c3f7df5d4646b3070e0cb8bcc702": {
      "model_module": "@jupyter-widgets/base",
      "model_module_version": "2.0.0",
      "model_name": "LayoutModel",
      "state": {}
     },
     "211b5605e2564a309fc521b54234d0d0": {
      "model_module": "@jupyter-widgets/controls",
      "model_module_version": "2.0.0",
      "model_name": "HTMLModel",
      "state": {
       "layout": "IPY_MODEL_e732cc1d958544be815dfda7dbbbc77f",
       "style": "IPY_MODEL_2c804441430b4cc994835d72452d1656"
      }
     },
     "2159e51429194d4d89c6da4ba037a27e": {
      "model_module": "@jupyter-widgets/controls",
      "model_module_version": "2.0.0",
      "model_name": "CheckboxStyleModel",
      "state": {
       "description_width": ""
      }
     },
     "22fa802b154f4af680859626eda49431": {
      "model_module": "@jupyter-widgets/controls",
      "model_module_version": "2.0.0",
      "model_name": "TabModel",
      "state": {
       "layout": "IPY_MODEL_af819c5e701a44cfbd5540ff3b69bee7"
      }
     },
     "23737c249837420e93af1c51b43cac59": {
      "model_module": "@jupyter-widgets/controls",
      "model_module_version": "2.0.0",
      "model_name": "HTMLModel",
      "state": {
       "layout": "IPY_MODEL_4df508fcf648465e81c46f1d05fa6c96",
       "style": "IPY_MODEL_e2018880ea9b44ebbdf74956f6dba7f5"
      }
     },
     "24b88a4e7e6f48c18176fa2b975ac4bb": {
      "model_module": "@jupyter-widgets/controls",
      "model_module_version": "2.0.0",
      "model_name": "HTMLModel",
      "state": {
       "layout": "IPY_MODEL_b9850d99a35d4e57951ce416c6a6601a",
       "style": "IPY_MODEL_7117cca80c6a4788b22b1cb4e62f95b1"
      }
     },
     "25bc53896edb43838f7c4ae39b29bc15": {
      "model_module": "@jupyter-widgets/controls",
      "model_module_version": "2.0.0",
      "model_name": "LabelModel",
      "state": {
       "layout": "IPY_MODEL_01e4ab568df1464ea5c9262469440eb7",
       "style": "IPY_MODEL_352730f2a15d487ba7495cfebdd98f8a"
      }
     },
     "25fa99b410194efea4ba37c82565a7b4": {
      "model_module": "jupyter-progressivis",
      "model_module_version": "^0.1.0",
      "model_name": "CellOutModel",
      "state": {
       "_model_module_version": "^0.1.0",
       "_view_module_version": "^0.1.0",
       "layout": "IPY_MODEL_ed10d857767f4c27afe3cba729e3a892",
       "tag": "Taxis"
      }
     },
     "273a882f035c45989fadb7ca5d909c53": {
      "model_module": "@jupyter-widgets/controls",
      "model_module_version": "2.0.0",
      "model_name": "HTMLStyleModel",
      "state": {
       "description_width": "",
       "font_size": null,
       "text_color": null
      }
     },
     "28b5d28923c045c8a31fc715e7dc4b70": {
      "model_module": "@jupyter-widgets/base",
      "model_module_version": "2.0.0",
      "model_name": "LayoutModel",
      "state": {
       "width": "initial"
      }
     },
     "2a0ceb81b7474666ad6e4b4e0b3ec885": {
      "model_module": "@jupyter-widgets/base",
      "model_module_version": "2.0.0",
      "model_name": "LayoutModel",
      "state": {}
     },
     "2a8f0a33bd5d49739eff176c08d571ef": {
      "model_module": "@jupyter-widgets/base",
      "model_module_version": "2.0.0",
      "model_name": "LayoutModel",
      "state": {}
     },
     "2ade549b56e241f9a2c875a5d60cc595": {
      "model_module": "@jupyter-widgets/base",
      "model_module_version": "2.0.0",
      "model_name": "LayoutModel",
      "state": {}
     },
     "2b24085c124d4679a62d707a220c364b": {
      "model_module": "@jupyter-widgets/base",
      "model_module_version": "2.0.0",
      "model_name": "LayoutModel",
      "state": {}
     },
     "2b6c575c449a4a078fe20e8e0efe0dfe": {
      "model_module": "@jupyter-widgets/base",
      "model_module_version": "2.0.0",
      "model_name": "LayoutModel",
      "state": {}
     },
     "2bda9ba5aa95425b9dededec530118d5": {
      "model_module": "@jupyter-widgets/controls",
      "model_module_version": "2.0.0",
      "model_name": "HTMLStyleModel",
      "state": {
       "description_width": "",
       "font_size": null,
       "text_color": null
      }
     },
     "2c804441430b4cc994835d72452d1656": {
      "model_module": "@jupyter-widgets/controls",
      "model_module_version": "2.0.0",
      "model_name": "HTMLStyleModel",
      "state": {
       "description_width": "",
       "font_size": null,
       "text_color": null
      }
     },
     "2e2c50f060a24d39a9bdc46935db9c3d": {
      "model_module": "jupyter-progressivis",
      "model_module_version": "^0.1.0",
      "model_name": "CellOutModel",
      "state": {
       "_model_module_version": "^0.1.0",
       "_view_module_version": "^0.1.0",
       "layout": "IPY_MODEL_965b900a8193458192d5a6acbef16c59",
       "tag": "Quantiles"
      }
     },
     "309934061c3b4b04a4025e1344e24e78": {
      "model_module": "@jupyter-widgets/controls",
      "model_module_version": "2.0.0",
      "model_name": "ButtonStyleModel",
      "state": {
       "font_family": null,
       "font_size": null,
       "font_style": null,
       "font_variant": null,
       "font_weight": null,
       "text_color": null,
       "text_decoration": null
      }
     },
     "31007ebf76f64b4c96ed772752d3c4d9": {
      "model_module": "@jupyter-widgets/controls",
      "model_module_version": "2.0.0",
      "model_name": "HTMLStyleModel",
      "state": {
       "description_width": "",
       "font_size": null,
       "text_color": null
      }
     },
     "3135297b61c143279a43c639ef588174": {
      "model_module": "@jupyter-widgets/base",
      "model_module_version": "2.0.0",
      "model_name": "LayoutModel",
      "state": {}
     },
     "31f61c7dc81e4137a140e426157ff46e": {
      "model_module": "@jupyter-widgets/controls",
      "model_module_version": "2.0.0",
      "model_name": "VBoxModel",
      "state": {
       "children": [
        "IPY_MODEL_25fa99b410194efea4ba37c82565a7b4",
        "IPY_MODEL_6a806c14fe3e40cb8315e530d209c8cc"
       ],
       "layout": "IPY_MODEL_66e82b197c824c9aa4c50df3d3e8b5c2"
      }
     },
     "32403f5b621e4ec19db32c3531bba5e0": {
      "model_module": "@jupyter-widgets/controls",
      "model_module_version": "2.0.0",
      "model_name": "DescriptionStyleModel",
      "state": {
       "description_width": ""
      }
     },
     "3386aa938285479db4fcea921e9a9735": {
      "model_module": "@jupyter-widgets/controls",
      "model_module_version": "2.0.0",
      "model_name": "SelectMultipleModel",
      "state": {
       "_options_labels": [
        "https://raw.githubusercontent.com/visgl/deck.gl-data/master/examples/3d-heatmap/heatmap-data.csv",
        "~/DATA/nyc_taxis_2015.csv",
        "~/DATA/nyc_weather_2015.csv",
        "~/JDF2016/progressivis/data/ETLSINASC*.bz2",
        "~/JDF2016/progressivis/data/ETLSINASC.DNRES_PI_2011_t.csv.bz2",
        "~/JDF2016/progressivis/data/nasc_issue.csv",
        ""
       ],
       "description": "Bookmarks",
       "index": [],
       "layout": "IPY_MODEL_4eb4936c12ad487b83a7bed2e7984e3a",
       "rows": 5,
       "style": "IPY_MODEL_9eac51e473054bc79b62bf678b590c2a"
      }
     },
     "33f14e0fd7de43c2960014d6460102b2": {
      "model_module": "@jupyter-widgets/controls",
      "model_module_version": "2.0.0",
      "model_name": "ButtonStyleModel",
      "state": {
       "font_family": null,
       "font_size": null,
       "font_style": null,
       "font_variant": null,
       "font_weight": null,
       "text_color": null,
       "text_decoration": null
      }
     },
     "34454dcfb8bd4f75bee442ce80ef41c5": {
      "model_module": "@jupyter-widgets/base",
      "model_module_version": "2.0.0",
      "model_name": "LayoutModel",
      "state": {}
     },
     "352730f2a15d487ba7495cfebdd98f8a": {
      "model_module": "@jupyter-widgets/controls",
      "model_module_version": "2.0.0",
      "model_name": "LabelStyleModel",
      "state": {
       "description_width": "",
       "font_family": null,
       "font_size": null,
       "font_style": null,
       "font_variant": null,
       "font_weight": null,
       "text_color": null,
       "text_decoration": null
      }
     },
     "3a96b3c951a44310b208f51e88e39132": {
      "model_module": "@jupyter-widgets/controls",
      "model_module_version": "2.0.0",
      "model_name": "HTMLStyleModel",
      "state": {
       "description_width": "",
       "font_size": null,
       "text_color": null
      }
     },
     "3b581b9ef1d146778fcedb0bc638c67c": {
      "model_module": "@jupyter-widgets/base",
      "model_module_version": "2.0.0",
      "model_name": "LayoutModel",
      "state": {}
     },
     "3c6a85e5f4b2496c9240c2e4a24b8f8f": {
      "model_module": "@jupyter-widgets/base",
      "model_module_version": "2.0.0",
      "model_name": "LayoutModel",
      "state": {}
     },
     "3c75699000414963a390efbaa43a6017": {
      "model_module": "@jupyter-widgets/jupyterlab-sidecar",
      "model_module_version": "^1.1",
      "model_name": "SidecarModel",
      "state": {
       "_model_module_version": "^1.1",
       "_view_module_version": "^1.1",
       "layout": "IPY_MODEL_1648be493a5043f6ba8a5399104e9f4b",
       "outputs": [
        {
         "data": {
          "application/vnd.jupyter.widget-view+json": {
           "model_id": "41b77f67698141838db62c3ded3f30fc",
           "version_major": 2,
           "version_minor": 0
          },
          "text/plain": "PsBoard(children=(ControlPanel(children=(Button(description='Resume', disabled=True, icon='play', style=Button…"
         },
         "metadata": {},
         "output_type": "display_data"
        }
       ],
       "title": "Modules Output"
      }
     },
     "3cb6b65822cc4e68b91d6bea1cff93a1": {
      "model_module": "@jupyter-widgets/base",
      "model_module_version": "2.0.0",
      "model_name": "LayoutModel",
      "state": {}
     },
     "3dd8464a26274e649289956636e71498": {
      "model_module": "@jupyter-widgets/controls",
      "model_module_version": "2.0.0",
      "model_name": "IntProgressModel",
      "state": {
       "description": "ProgressiVis started",
       "layout": "IPY_MODEL_990e7066e69942738e02dfa6adeaa379",
       "max": 2,
       "style": "IPY_MODEL_5e98712f3e3f4fb2930f2ed9aa620ca6",
       "value": 2
      }
     },
     "3e0d4c5172d6469585f7e82434cc030b": {
      "model_module": "jupyter-progressivis",
      "model_module_version": "^0.1.0",
      "model_name": "DagWidgetModel",
      "state": {
       "_model_module_version": "^0.1.0",
       "_view_module_version": "^0.1.0",
       "dag": "{\"dag\": [{\"id\": \"root\", \"divID\": \"root\", \"label\": \"root\", \"parentIds\": []}, {\"id\": \"Taxis\", \"divID\": \"Taxis\", \"label\": \"Taxis\", \"parentIds\": [\"root\"]}, {\"id\": \"Quantiles\", \"divID\": \"Quantiles\", \"label\": \"Quantiles\", \"parentIds\": [\"Taxis\"]}, {\"id\": \"Heatmap\", \"divID\": \"Heatmap\", \"label\": \"Heatmap\", \"parentIds\": [\"Quantiles\"]}], \"summaries\": {\"Taxis\": {\"progress\": 0, \"status\": \"RUNNING\"}, \"Quantiles\": {\"progress\": 0, \"status\": \"RUNNING\"}}, \"summaryVariables\": {\"root\": [\"progress\"], \"Taxis\": [\"progress\"], \"Quantiles\": [\"progress\"], \"Heatmap\": [\"progress\"]}}",
       "layout": "IPY_MODEL_4cdd3aaa97364aa48282eece3749cf50",
       "summaries": "{\"Taxis\": {\"progress\": 0, \"status\": \"RUNNING\"}, \"Quantiles\": {\"progress\": 0, \"status\": \"RUNNING\"}, \"Heatmap\": {\"progress\": 0, \"status\": \"RUNNING\"}}"
      }
     },
     "3e1a1a68e2814ddbb3d49d11ce391f95": {
      "model_module": "@jupyter-widgets/base",
      "model_module_version": "2.0.0",
      "model_name": "LayoutModel",
      "state": {}
     },
     "3e61124e782548b48658dc5245a972e5": {
      "model_module": "@jupyter-widgets/controls",
      "model_module_version": "2.0.0",
      "model_name": "ButtonStyleModel",
      "state": {
       "font_family": null,
       "font_size": null,
       "font_style": null,
       "font_variant": null,
       "font_weight": null,
       "text_color": null,
       "text_decoration": null
      }
     },
     "3e90abacdd77474fa8b40feecc468bfc": {
      "model_module": "@jupyter-widgets/base",
      "model_module_version": "2.0.0",
      "model_name": "LayoutModel",
      "state": {}
     },
     "3f01033d64f84e73a925d344c6e07841": {
      "model_module": "@jupyter-widgets/base",
      "model_module_version": "2.0.0",
      "model_name": "LayoutModel",
      "state": {}
     },
     "3f45e9dd72ea4f1697d47db0b8d2fd25": {
      "model_module": "@jupyter-widgets/controls",
      "model_module_version": "2.0.0",
      "model_name": "VBoxModel",
      "state": {
       "_dom_classes": [
        "progressivis_guest_widget"
       ],
       "children": [
        "IPY_MODEL_4f620a0428214f7ca8228c026f36ac27",
        "IPY_MODEL_3386aa938285479db4fcea921e9a9735",
        "IPY_MODEL_7b839fee801b4967b687ff7faf08c49c",
        "IPY_MODEL_d509abf6a3f54d33aee18d3fde86ef9b",
        "IPY_MODEL_83e2abbac50c45ff92ae3fa45e6423fb",
        "IPY_MODEL_7f8ee903694c45e3aaf2663cc527586d",
        "IPY_MODEL_6a1f44df5bb4442da3fac81fc7b80f88",
        "IPY_MODEL_459e666fea43466b9082c20e4476ba56",
        "IPY_MODEL_f43c278c859e40aeb1f37cf5e8b25e0d"
       ],
       "layout": "IPY_MODEL_3f01033d64f84e73a925d344c6e07841"
      }
     },
     "3fda1120386848b0ba5828a3ecbf56d8": {
      "model_module": "@jupyter-widgets/controls",
      "model_module_version": "2.0.0",
      "model_name": "CheckboxStyleModel",
      "state": {
       "description_width": ""
      }
     },
     "41b77f67698141838db62c3ded3f30fc": {
      "model_module": "@jupyter-widgets/controls",
      "model_module_version": "2.0.0",
      "model_name": "VBoxModel",
      "state": {
       "children": [
        "IPY_MODEL_77ee41b70b484fd486e435dc26498aac",
        "IPY_MODEL_118499f4370141218d91cb6b502f492f",
        "IPY_MODEL_6b1beb671ebd4cdf922e6f2646558688"
       ],
       "layout": "IPY_MODEL_f77f6f099c764886819a8a32c583ef36"
      }
     },
     "42ebc133ba0a45b8aa05d94a05545ae1": {
      "model_module": "@jupyter-widgets/controls",
      "model_module_version": "2.0.0",
      "model_name": "DescriptionStyleModel",
      "state": {
       "description_width": ""
      }
     },
     "44b5fdee51ac47609cdb766200dc63ac": {
      "model_module": "@jupyter-widgets/controls",
      "model_module_version": "2.0.0",
      "model_name": "LabelModel",
      "state": {
       "layout": "IPY_MODEL_545659673d924bbb837912a2f81f10cd",
       "style": "IPY_MODEL_a19f739124ef47e4b3a2c5ba4b2a287b"
      }
     },
     "44e8dd31885c492f9a2ba494c3f41e28": {
      "model_module": "@jupyter-widgets/base",
      "model_module_version": "2.0.0",
      "model_name": "LayoutModel",
      "state": {}
     },
     "44ed98bc1d9f49259dcc660e2f37d765": {
      "model_module": "@jupyter-widgets/base",
      "model_module_version": "2.0.0",
      "model_name": "LayoutModel",
      "state": {}
     },
     "44f0ff902bd942d580452ee64c3218b0": {
      "model_module": "@jupyter-widgets/base",
      "model_module_version": "2.0.0",
      "model_name": "LayoutModel",
      "state": {}
     },
     "459e666fea43466b9082c20e4476ba56": {
      "model_module": "@jupyter-widgets/controls",
      "model_module_version": "2.0.0",
      "model_name": "HTMLModel",
      "state": {
       "layout": "IPY_MODEL_01a692e500db4d5f889a847494d7e367",
       "style": "IPY_MODEL_9019c9b0cc1f4fb2b42c66614c306021"
      }
     },
     "4742486965754499aed2ff809fb12bb4": {
      "model_module": "@jupyter-widgets/controls",
      "model_module_version": "2.0.0",
      "model_name": "ButtonModel",
      "state": {
       "description": "Step by step",
       "disabled": true,
       "icon": "check",
       "layout": "IPY_MODEL_2032c3f7df5d4646b3070e0cb8bcc702",
       "style": "IPY_MODEL_3e61124e782548b48658dc5245a972e5",
       "tooltip": "Step by step"
      }
     },
     "4bd350c491114ada88d2f24f46732fb4": {
      "model_module": "@jupyter-widgets/controls",
      "model_module_version": "2.0.0",
      "model_name": "IntSliderModel",
      "state": {
       "behavior": "drag-tap",
       "continuous_update": false,
       "description": "Display rate:",
       "layout": "IPY_MODEL_44f0ff902bd942d580452ee64c3218b0",
       "max": 10,
       "min": 1,
       "style": "IPY_MODEL_f1e25fab428f4561845b29bb4bed2988",
       "value": 1
      }
     },
     "4c42d73c45e9464ca49dd8bebbdb5224": {
      "model_module": "@jupyter-widgets/controls",
      "model_module_version": "2.0.0",
      "model_name": "HTMLStyleModel",
      "state": {
       "description_width": "",
       "font_size": null,
       "text_color": null
      }
     },
     "4cdd3aaa97364aa48282eece3749cf50": {
      "model_module": "@jupyter-widgets/base",
      "model_module_version": "2.0.0",
      "model_name": "LayoutModel",
      "state": {}
     },
     "4d781cf187e6499891a88d5f3a7c5ca9": {
      "model_module": "@jupyter-widgets/controls",
      "model_module_version": "2.0.0",
      "model_name": "HTMLStyleModel",
      "state": {
       "description_width": "",
       "font_size": null,
       "text_color": null
      }
     },
     "4dc91bb5c113457898cbbf7e4eb7e28d": {
      "model_module": "@jupyter-widgets/base",
      "model_module_version": "2.0.0",
      "model_name": "LayoutModel",
      "state": {
       "width": "100%"
      }
     },
     "4df508fcf648465e81c46f1d05fa6c96": {
      "model_module": "@jupyter-widgets/base",
      "model_module_version": "2.0.0",
      "model_name": "LayoutModel",
      "state": {}
     },
     "4e3be6febb1b4e0893ef7845039980cf": {
      "model_module": "@jupyter-widgets/base",
      "model_module_version": "2.0.0",
      "model_name": "LayoutModel",
      "state": {}
     },
     "4eb4936c12ad487b83a7bed2e7984e3a": {
      "model_module": "@jupyter-widgets/base",
      "model_module_version": "2.0.0",
      "model_name": "LayoutModel",
      "state": {
       "width": "60%"
      }
     },
     "4f3b0b3925734ff49696425a83557a14": {
      "model_module": "@jupyter-widgets/base",
      "model_module_version": "2.0.0",
      "model_name": "LayoutModel",
      "state": {}
     },
     "4f620a0428214f7ca8228c026f36ac27": {
      "model_module": "@jupyter-widgets/controls",
      "model_module_version": "2.0.0",
      "model_name": "CheckboxModel",
      "state": {
       "description": "Reuse previous settings ...",
       "disabled": false,
       "layout": "IPY_MODEL_6ecc146d86b94fcd844fad430d6bec81",
       "style": "IPY_MODEL_3fda1120386848b0ba5828a3ecbf56d8",
       "value": false
      }
     },
     "50d03b7c6af24cb6be11fae20e603928": {
      "model_module": "@jupyter-widgets/base",
      "model_module_version": "2.0.0",
      "model_name": "LayoutModel",
      "state": {}
     },
     "545659673d924bbb837912a2f81f10cd": {
      "model_module": "@jupyter-widgets/base",
      "model_module_version": "2.0.0",
      "model_name": "LayoutModel",
      "state": {}
     },
     "55ee13e407a143ecaf0e3d3bbcc357e2": {
      "model_module": "jupyter-progressivis",
      "model_module_version": "^0.1.0",
      "model_name": "ModuleGraphModel",
      "state": {
       "_model_module_version": "^0.1.0",
       "_view_module_version": "^0.1.0",
       "data": "{}",
       "layout": "IPY_MODEL_a4ab0a3be1734e37aa9fd2f55df62822"
      }
     },
     "56e07854bf2a4dbb8ccf53607d9a57d0": {
      "model_module": "@jupyter-widgets/base",
      "model_module_version": "2.0.0",
      "model_name": "LayoutModel",
      "state": {}
     },
     "5a01c25be764428a80831713238c7078": {
      "model_module": "@jupyter-widgets/base",
      "model_module_version": "2.0.0",
      "model_name": "LayoutModel",
      "state": {}
     },
     "5b26e508c96c4cd7a4a7c50bb8164cf2": {
      "model_module": "jupyter-progressivis",
      "model_module_version": "^0.1.0",
      "model_name": "JsonHTMLModel",
      "state": {
       "_model_module_version": "^0.1.0",
       "_view_module_version": "^0.1.0",
       "layout": "IPY_MODEL_c1471b7c18f048c19db555f3b8a2d01a"
      }
     },
     "5bf9b3da40974200a720a5fa1001ce6e": {
      "model_module": "@jupyter-widgets/controls",
      "model_module_version": "2.0.0",
      "model_name": "HTMLModel",
      "state": {
       "layout": "IPY_MODEL_7d970a1b861a40b488d95725b0ee3553",
       "style": "IPY_MODEL_f6ce24bacf8a4d4d8e4ff62c9f2230d9"
      }
     },
     "5c0d613c387b4531958db7882a621c7c": {
      "model_module": "@jupyter-widgets/base",
      "model_module_version": "2.0.0",
      "model_name": "LayoutModel",
      "state": {}
     },
     "5c986415497b475b99e88a5771264053": {
      "model_module": "@jupyter-widgets/controls",
      "model_module_version": "2.0.0",
      "model_name": "TextStyleModel",
      "state": {
       "description_width": "",
       "font_size": null,
       "text_color": null
      }
     },
     "5e98712f3e3f4fb2930f2ed9aa620ca6": {
      "model_module": "@jupyter-widgets/controls",
      "model_module_version": "2.0.0",
      "model_name": "ProgressStyleModel",
      "state": {
       "description_width": "initial"
      }
     },
     "5ebdd2c04ebb4700ba9dfac0a87a17f6": {
      "model_module": "@jupyter-widgets/controls",
      "model_module_version": "2.0.0",
      "model_name": "HTMLStyleModel",
      "state": {
       "description_width": "",
       "font_size": null,
       "text_color": null
      }
     },
     "5f0e4d0d284d4525b5237109fc8c5eb3": {
      "model_module": "@jupyter-widgets/controls",
      "model_module_version": "2.0.0",
      "model_name": "HTMLStyleModel",
      "state": {
       "description_width": "",
       "font_size": null,
       "text_color": null
      }
     },
     "5f6345b11e6748c8a65397de20a610f0": {
      "model_module": "@jupyter-widgets/controls",
      "model_module_version": "2.0.0",
      "model_name": "HTMLModel",
      "state": {
       "layout": "IPY_MODEL_44ed98bc1d9f49259dcc660e2f37d765",
       "style": "IPY_MODEL_88c7113234a644c092b65ea994e550c2"
      }
     },
     "61989a016a7a44e489b689bd32ca922e": {
      "model_module": "@jupyter-widgets/controls",
      "model_module_version": "2.0.0",
      "model_name": "BoundedFloatTextModel",
      "state": {
       "description": "Max:",
       "layout": "IPY_MODEL_dcd51c59bfc04776bf89f3f7cbac5672",
       "max": 1,
       "step": 0.001,
       "style": "IPY_MODEL_1522de4bf6dd4b369838bf8e39ce8b5d",
       "value": 0.97
      }
     },
     "62af139478914aeaac7414e616be2be0": {
      "model_module": "@jupyter-widgets/base",
      "model_module_version": "2.0.0",
      "model_name": "LayoutModel",
      "state": {}
     },
     "62d4f51347c34be6ba3b6accc9ec3974": {
      "model_module": "@jupyter-widgets/controls",
      "model_module_version": "2.0.0",
      "model_name": "ButtonModel",
      "state": {
       "description": "Resume ...",
       "disabled": true,
       "icon": "check",
       "layout": "IPY_MODEL_62af139478914aeaac7414e616be2be0",
       "style": "IPY_MODEL_17739487aeb841858c573d81a1f797e6",
       "tooltip": "Resume ..."
      }
     },
     "632dde6f5fd145408162a779704387fe": {
      "model_module": "@jupyter-widgets/controls",
      "model_module_version": "2.0.0",
      "model_name": "HBoxModel",
      "state": {
       "children": [
        "IPY_MODEL_be407ee2ae144584804318348a83c61d",
        "IPY_MODEL_ebebeb29086e4a03b885e6f1032edbdb"
       ],
       "layout": "IPY_MODEL_a729c6b068b64fb69af46bd5e8e11fde"
      }
     },
     "636025fb268f47129bc5bb9dd837671f": {
      "model_module": "@jupyter-widgets/base",
      "model_module_version": "2.0.0",
      "model_name": "LayoutModel",
      "state": {}
     },
     "66bc340dbd234ecaad2b11fc0f869864": {
      "model_module": "@jupyter-widgets/controls",
      "model_module_version": "2.0.0",
      "model_name": "HTMLModel",
      "state": {
       "layout": "IPY_MODEL_44e8dd31885c492f9a2ba494c3f41e28",
       "style": "IPY_MODEL_cd2c570bb4484fa19f2f8ccdd7870101"
      }
     },
     "66e82b197c824c9aa4c50df3d3e8b5c2": {
      "model_module": "@jupyter-widgets/base",
      "model_module_version": "2.0.0",
      "model_name": "LayoutModel",
      "state": {}
     },
     "6a1f44df5bb4442da3fac81fc7b80f88": {
      "model_module": "@jupyter-widgets/controls",
      "model_module_version": "2.0.0",
      "model_name": "IntTextModel",
      "state": {
       "description": "Throttle:",
       "layout": "IPY_MODEL_07bd536aa49b430aa7c5dc259a70a7dd",
       "step": 1,
       "style": "IPY_MODEL_6df6c7e4e39b40b6b2c26d2dd0f9c5b6"
      }
     },
     "6a806c14fe3e40cb8315e530d209c8cc": {
      "model_module": "@jupyter-widgets/controls",
      "model_module_version": "2.0.0",
      "model_name": "VBoxModel",
      "state": {
       "children": [
        "IPY_MODEL_b05c1fbf7eab4808a1f54ded171b9c60"
       ],
       "layout": "IPY_MODEL_50d03b7c6af24cb6be11fae20e603928"
      }
     },
     "6b1beb671ebd4cdf922e6f2646558688": {
      "model_module": "@jupyter-widgets/output",
      "model_module_version": "1.0.0",
      "model_name": "OutputModel",
      "state": {
       "layout": "IPY_MODEL_9181479a4846488385d895e3b906c4df"
      }
     },
     "6b58e863428e417fa039a86ba09e57cb": {
      "model_module": "@jupyter-widgets/controls",
      "model_module_version": "2.0.0",
      "model_name": "HTMLStyleModel",
      "state": {
       "description_width": "",
       "font_size": null,
       "text_color": null
      }
     },
     "6d9aeaee9a124728b027158498104114": {
      "model_module": "@jupyter-widgets/controls",
      "model_module_version": "2.0.0",
      "model_name": "HTMLStyleModel",
      "state": {
       "description_width": "",
       "font_size": null,
       "text_color": null
      }
     },
     "6df6c7e4e39b40b6b2c26d2dd0f9c5b6": {
      "model_module": "@jupyter-widgets/controls",
      "model_module_version": "2.0.0",
      "model_name": "DescriptionStyleModel",
      "state": {
       "description_width": ""
      }
     },
     "6e3bb68898f34021b57b0365c2ba1410": {
      "model_module": "@jupyter-widgets/controls",
      "model_module_version": "2.0.0",
      "model_name": "HTMLModel",
      "state": {
       "layout": "IPY_MODEL_4e3be6febb1b4e0893ef7845039980cf",
       "style": "IPY_MODEL_d1828f0478af4624aab2147c0c1555fc"
      }
     },
     "6eac3849c47b49bbb9dbadadc0953b0b": {
      "model_module": "@jupyter-widgets/controls",
      "model_module_version": "2.0.0",
      "model_name": "HTMLStyleModel",
      "state": {
       "description_width": "",
       "font_size": null,
       "text_color": null
      }
     },
     "6ecc146d86b94fcd844fad430d6bec81": {
      "model_module": "@jupyter-widgets/base",
      "model_module_version": "2.0.0",
      "model_name": "LayoutModel",
      "state": {}
     },
     "6ef5b16b4a6f4d26b152464f24d7bc04": {
      "model_module": "@jupyter-widgets/controls",
      "model_module_version": "2.0.0",
      "model_name": "HTMLStyleModel",
      "state": {
       "description_width": "",
       "font_size": null,
       "text_color": null
      }
     },
     "6efaf504dc0a4d58aafd6e27a0666b3a": {
      "model_module": "@jupyter-widgets/controls",
      "model_module_version": "2.0.0",
      "model_name": "CheckboxStyleModel",
      "state": {
       "description_width": ""
      }
     },
     "6f7bae3ffaa14e2ca694e6a3a62ebb8e": {
      "model_module": "@jupyter-widgets/base",
      "model_module_version": "2.0.0",
      "model_name": "LayoutModel",
      "state": {}
     },
     "6f97109aa61e4386b8337fffa34c1d39": {
      "model_module": "@jupyter-widgets/controls",
      "model_module_version": "2.0.0",
      "model_name": "ButtonStyleModel",
      "state": {
       "font_family": null,
       "font_size": null,
       "font_style": null,
       "font_variant": null,
       "font_weight": null,
       "text_color": null,
       "text_decoration": null
      }
     },
     "6fcd8fb22be44f5bad7e5b0c9ac4b1e1": {
      "model_module": "@jupyter-widgets/controls",
      "model_module_version": "2.0.0",
      "model_name": "HTMLModel",
      "state": {
       "layout": "IPY_MODEL_b8c60272822d4581ba37286696a2a2d7",
       "style": "IPY_MODEL_d27a92f85af84f48bd3a5f81fd7b5646"
      }
     },
     "7117cca80c6a4788b22b1cb4e62f95b1": {
      "model_module": "@jupyter-widgets/controls",
      "model_module_version": "2.0.0",
      "model_name": "HTMLStyleModel",
      "state": {
       "description_width": "",
       "font_size": null,
       "text_color": null
      }
     },
     "73a0886962b94b59a4d22573e5df4974": {
      "model_module": "@jupyter-widgets/base",
      "model_module_version": "2.0.0",
      "model_name": "LayoutModel",
      "state": {}
     },
     "74fa0b8743d5441b814c5aeb36f03bbc": {
      "model_module": "@jupyter-widgets/base",
      "model_module_version": "2.0.0",
      "model_name": "LayoutModel",
      "state": {}
     },
     "76ec7e2c595f4b34b4f20d9c23b3bb7c": {
      "model_module": "@jupyter-widgets/base",
      "model_module_version": "2.0.0",
      "model_name": "LayoutModel",
      "state": {}
     },
     "77ee41b70b484fd486e435dc26498aac": {
      "model_module": "@jupyter-widgets/controls",
      "model_module_version": "2.0.0",
      "model_name": "HBoxModel",
      "state": {
       "children": [
        "IPY_MODEL_fd4a75fba6944d80977c4806859fa81f",
        "IPY_MODEL_8158797d885247659077847288d5f7cc",
        "IPY_MODEL_7cfd61d7becb40f9b3b9e1a176c89800",
        "IPY_MODEL_f768dadda4c5432d97bafcbe496784e0"
       ],
       "layout": "IPY_MODEL_fcf030b3bba143ca923f0116d30f15f8"
      }
     },
     "7b839fee801b4967b687ff7faf08c49c": {
      "model_module": "@jupyter-widgets/controls",
      "model_module_version": "2.0.0",
      "model_name": "TextareaModel",
      "state": {
       "description": "New URLs:",
       "layout": "IPY_MODEL_0b6039d16c5d45ccaa0119a800c43762",
       "placeholder": "",
       "style": "IPY_MODEL_01b19579ec004b51935e77794659f6cc"
      }
     },
     "7c770eb62e924355b0e6dc290dd8d14b": {
      "model_module": "@jupyter-widgets/controls",
      "model_module_version": "2.0.0",
      "model_name": "CheckboxModel",
      "state": {
       "description": "Allow overwriting record",
       "disabled": true,
       "layout": "IPY_MODEL_051d587f68814483aff2ee5a229e9f2f",
       "style": "IPY_MODEL_17db23d575124a78a18500ed750b52fb",
       "value": false
      }
     },
     "7cfd61d7becb40f9b3b9e1a176c89800": {
      "model_module": "@jupyter-widgets/controls",
      "model_module_version": "2.0.0",
      "model_name": "ButtonModel",
      "state": {
       "description": "Step",
       "disabled": true,
       "icon": "step-forward",
       "layout": "IPY_MODEL_2a8f0a33bd5d49739eff176c08d571ef",
       "style": "IPY_MODEL_6f97109aa61e4386b8337fffa34c1d39",
       "tooltip": "Step"
      }
     },
     "7d970a1b861a40b488d95725b0ee3553": {
      "model_module": "@jupyter-widgets/base",
      "model_module_version": "2.0.0",
      "model_name": "LayoutModel",
      "state": {}
     },
     "7da50be4e8ac48e3a581cf60025c2a4e": {
      "model_module": "@jupyter-widgets/controls",
      "model_module_version": "2.0.0",
      "model_name": "HTMLModel",
      "state": {
       "layout": "IPY_MODEL_e8302e1ebda648ab8a915265489908c9",
       "style": "IPY_MODEL_273a882f035c45989fadb7ca5d909c53"
      }
     },
     "7f8ee903694c45e3aaf2663cc527586d": {
      "model_module": "@jupyter-widgets/controls",
      "model_module_version": "2.0.0",
      "model_name": "CheckboxModel",
      "state": {
       "description": "Shuffle URLs",
       "disabled": false,
       "layout": "IPY_MODEL_fd4f0f3fc1b44e90a9a73f8f9281ea54",
       "style": "IPY_MODEL_6efaf504dc0a4d58aafd6e27a0666b3a",
       "value": true
      }
     },
     "8158797d885247659077847288d5f7cc": {
      "model_module": "@jupyter-widgets/controls",
      "model_module_version": "2.0.0",
      "model_name": "ButtonModel",
      "state": {
       "description": "Stop",
       "icon": "stop",
       "layout": "IPY_MODEL_5a01c25be764428a80831713238c7078",
       "style": "IPY_MODEL_f9c9213ce29d4847ae2270bb23dc7c7f",
       "tooltip": "Stop"
      }
     },
     "83e2abbac50c45ff92ae3fa45e6423fb": {
      "model_module": "@jupyter-widgets/controls",
      "model_module_version": "2.0.0",
      "model_name": "IntTextModel",
      "state": {
       "description": "Max rows to sniff:",
       "layout": "IPY_MODEL_5c0d613c387b4531958db7882a621c7c",
       "step": 1,
       "style": "IPY_MODEL_d8c22d4282c04493b694bff6d9808d4f",
       "value": 100
      }
     },
     "85341c144fdd4c2ba36863b157e85a6e": {
      "model_module": "@jupyter-widgets/controls",
      "model_module_version": "2.0.0",
      "model_name": "DescriptionStyleModel",
      "state": {
       "description_width": ""
      }
     },
     "85ae453957fd47cd8240ab6b4f1c5291": {
      "model_module": "@jupyter-widgets/controls",
      "model_module_version": "2.0.0",
      "model_name": "HTMLModel",
      "state": {
       "layout": "IPY_MODEL_74fa0b8743d5441b814c5aeb36f03bbc",
       "style": "IPY_MODEL_4c42d73c45e9464ca49dd8bebbdb5224"
      }
     },
     "8710ea55fef94947b3c79695fa90212d": {
      "model_module": "@jupyter-widgets/controls",
      "model_module_version": "2.0.0",
      "model_name": "HTMLModel",
      "state": {
       "layout": "IPY_MODEL_963837f9c65b4748bdae3a7407a933a0",
       "style": "IPY_MODEL_3a96b3c951a44310b208f51e88e39132",
       "value": "<img src='data:image/png;base64,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'/>"
      }
     },
     "88c7113234a644c092b65ea994e550c2": {
      "model_module": "@jupyter-widgets/controls",
      "model_module_version": "2.0.0",
      "model_name": "HTMLStyleModel",
      "state": {
       "description_width": "",
       "font_size": null,
       "text_color": null
      }
     },
     "89556281919f466c98266c2293dbd32d": {
      "model_module": "@jupyter-widgets/controls",
      "model_module_version": "2.0.0",
      "model_name": "HTMLStyleModel",
      "state": {
       "description_width": "",
       "font_size": null,
       "text_color": null
      }
     },
     "8966a1823fbd4c9e842fd81fefe3dfe5": {
      "model_module": "@jupyter-widgets/controls",
      "model_module_version": "2.0.0",
      "model_name": "SliderStyleModel",
      "state": {
       "description_width": "initial"
      }
     },
     "8c19af5510f5480286b7b43e4795ccaf": {
      "model_module": "@jupyter-widgets/controls",
      "model_module_version": "2.0.0",
      "model_name": "VBoxModel",
      "state": {
       "children": [
        "IPY_MODEL_0d650636503a4497bc0913841a11db68",
        "IPY_MODEL_632dde6f5fd145408162a779704387fe"
       ],
       "layout": "IPY_MODEL_05761b3af94b4082a9822822203ce7eb"
      }
     },
     "8d2b769af5254ecba6297255a9422ea8": {
      "model_module": "@jupyter-widgets/controls",
      "model_module_version": "2.0.0",
      "model_name": "ProgressStyleModel",
      "state": {
       "description_width": ""
      }
     },
     "8d754baac0ff4c758c8df118f2616203": {
      "model_module": "@jupyter-widgets/controls",
      "model_module_version": "2.0.0",
      "model_name": "DropdownModel",
      "state": {
       "_options_labels": [
        "passenger_count:int64",
        "trip_distance:float64",
        "pickup_longitude:float64",
        "pickup_latitude:float64",
        "dropoff_longitude:float64",
        "dropoff_latitude:float64",
        ""
       ],
       "description": "X",
       "index": 2,
       "layout": "IPY_MODEL_05275a79a66547e899d752319b472090",
       "style": "IPY_MODEL_9d6a7a5bde414bd8ab0d7b1b88103b95"
      }
     },
     "8dc403def2ba40e49c84c3fce774960f": {
      "model_module": "@jupyter-widgets/controls",
      "model_module_version": "2.0.0",
      "model_name": "DropdownModel",
      "state": {
       "_options_labels": [
        "NONE",
        "SQRT",
        "CBRT",
        "LOG"
       ],
       "description": "Transform",
       "index": 3,
       "layout": "IPY_MODEL_03bea19f4b2e4a42b964883574449266",
       "style": "IPY_MODEL_f56fc1297c3247d38261f9ff024f8793"
      }
     },
     "8ea6d3d0d79c4fff897aee572e58896e": {
      "model_module": "@jupyter-widgets/controls",
      "model_module_version": "2.0.0",
      "model_name": "LabelModel",
      "state": {
       "layout": "IPY_MODEL_10baf40cae0f49c6b1053f44fb4e0635",
       "style": "IPY_MODEL_e757090264e34fe39c4f3a8abe9f06e4"
      }
     },
     "8ee7ed46b7f5404d803694886109a502": {
      "model_module": "@jupyter-widgets/base",
      "model_module_version": "2.0.0",
      "model_name": "LayoutModel",
      "state": {}
     },
     "8f75c7c5238846c19c2bdc2091de6ee9": {
      "model_module": "@jupyter-widgets/controls",
      "model_module_version": "2.0.0",
      "model_name": "HTMLModel",
      "state": {
       "layout": "IPY_MODEL_b019d405bcde40659daff95ab2794324",
       "style": "IPY_MODEL_17e15d4abebd464f826ad5007d802d92"
      }
     },
     "9019c9b0cc1f4fb2b42c66614c306021": {
      "model_module": "@jupyter-widgets/controls",
      "model_module_version": "2.0.0",
      "model_name": "HTMLStyleModel",
      "state": {
       "description_width": "",
       "font_size": null,
       "text_color": null
      }
     },
     "90c151ffcc5b4fdc90ed65fe9d98d22d": {
      "model_module": "@jupyter-widgets/base",
      "model_module_version": "2.0.0",
      "model_name": "LayoutModel",
      "state": {}
     },
     "9181479a4846488385d895e3b906c4df": {
      "model_module": "@jupyter-widgets/base",
      "model_module_version": "2.0.0",
      "model_name": "LayoutModel",
      "state": {}
     },
     "9191fe34ebfc49bf91a3eecc4cac7ce0": {
      "model_module": "@jupyter-widgets/controls",
      "model_module_version": "2.0.0",
      "model_name": "HTMLModel",
      "state": {
       "layout": "IPY_MODEL_d65aaacd91324e968f5912d76e8b0b72",
       "style": "IPY_MODEL_e850150b2da44e80b8c795cd9e08ca1e"
      }
     },
     "93e40dbe7042487c91916a39c8177221": {
      "model_module": "@jupyter-widgets/controls",
      "model_module_version": "2.0.0",
      "model_name": "VBoxModel",
      "state": {
       "_dom_classes": [
        "progressivis_guest_widget"
       ],
       "children": [
        "IPY_MODEL_3dd8464a26274e649289956636e71498",
        "IPY_MODEL_7c770eb62e924355b0e6dc290dd8d14b",
        "IPY_MODEL_5f6345b11e6748c8a65397de20a610f0",
        "IPY_MODEL_cdf0902a364046b8afeb344e1a5f7a79",
        "IPY_MODEL_1123b207dc6348568a3a6c92d04bc1dc"
       ],
       "layout": "IPY_MODEL_2b6c575c449a4a078fe20e8e0efe0dfe"
      }
     },
     "963837f9c65b4748bdae3a7407a933a0": {
      "model_module": "@jupyter-widgets/base",
      "model_module_version": "2.0.0",
      "model_name": "LayoutModel",
      "state": {}
     },
     "965b900a8193458192d5a6acbef16c59": {
      "model_module": "@jupyter-widgets/base",
      "model_module_version": "2.0.0",
      "model_name": "LayoutModel",
      "state": {}
     },
     "990e7066e69942738e02dfa6adeaa379": {
      "model_module": "@jupyter-widgets/base",
      "model_module_version": "2.0.0",
      "model_name": "LayoutModel",
      "state": {}
     },
     "99343db5df69448eb99678d04c927684": {
      "model_module": "@jupyter-widgets/controls",
      "model_module_version": "2.0.0",
      "model_name": "HTMLStyleModel",
      "state": {
       "description_width": "",
       "font_size": null,
       "text_color": null
      }
     },
     "99b7e36d723146d08de329e99f67ef25": {
      "model_module": "@jupyter-widgets/controls",
      "model_module_version": "2.0.0",
      "model_name": "SelectMultipleModel",
      "state": {
       "_options_labels": [
        "passenger_count:int64",
        "trip_distance:float64",
        "pickup_longitude:float64",
        "pickup_latitude:float64",
        "dropoff_longitude:float64",
        "dropoff_latitude:float64"
       ],
       "description": "Columns:",
       "index": [],
       "layout": "IPY_MODEL_2ade549b56e241f9a2c875a5d60cc595",
       "rows": 10,
       "style": "IPY_MODEL_b01cf672edce4ac4b2ba9a98f7ba91e9"
      }
     },
     "99dbd0dbf972473cbdf930df8ee4ef4f": {
      "model_module": "@jupyter-widgets/base",
      "model_module_version": "2.0.0",
      "model_name": "LayoutModel",
      "state": {}
     },
     "9b55711ec6364ba287fb4e551b4680ea": {
      "model_module": "jupyter-progressivis",
      "model_module_version": "^0.1.0",
      "model_name": "TalkerModel",
      "state": {
       "_model_module_version": "^0.1.0",
       "_view_module_version": "^0.1.0",
       "layout": "IPY_MODEL_dd84689109f6421cac9b3518fac747b4"
      }
     },
     "9ba2a71f69bd4e698273be1813377724": {
      "model_module": "@jupyter-widgets/base",
      "model_module_version": "2.0.0",
      "model_name": "LayoutModel",
      "state": {}
     },
     "9bec8da3b97f43bf9be31311efd8786c": {
      "model_module": "@jupyter-widgets/controls",
      "model_module_version": "2.0.0",
      "model_name": "ButtonStyleModel",
      "state": {
       "font_family": null,
       "font_size": null,
       "font_style": null,
       "font_variant": null,
       "font_weight": null,
       "text_color": null,
       "text_decoration": null
      }
     },
     "9c46ff6c072d47e0be641d62a94c1233": {
      "model_module": "@jupyter-widgets/controls",
      "model_module_version": "2.0.0",
      "model_name": "HTMLStyleModel",
      "state": {
       "description_width": "",
       "font_size": null,
       "text_color": null
      }
     },
     "9d0f970df044449698227da0228c6943": {
      "model_module": "@jupyter-widgets/controls",
      "model_module_version": "2.0.0",
      "model_name": "HTMLStyleModel",
      "state": {
       "description_width": "",
       "font_size": null,
       "text_color": null
      }
     },
     "9d6a7a5bde414bd8ab0d7b1b88103b95": {
      "model_module": "@jupyter-widgets/controls",
      "model_module_version": "2.0.0",
      "model_name": "DescriptionStyleModel",
      "state": {
       "description_width": ""
      }
     },
     "9dae27adfd6a45bf8f1bdaec252dbf0a": {
      "model_module": "@jupyter-widgets/controls",
      "model_module_version": "2.0.0",
      "model_name": "HTMLModel",
      "state": {
       "layout": "IPY_MODEL_cc4d2f77d6ba46b2bc92154e54b8e808",
       "style": "IPY_MODEL_99343db5df69448eb99678d04c927684"
      }
     },
     "9deba74394de48c3834d47a0286f95f2": {
      "model_module": "@jupyter-widgets/controls",
      "model_module_version": "2.0.0",
      "model_name": "HTMLModel",
      "state": {
       "layout": "IPY_MODEL_c1486db72bc2441aa050b4af9d239078",
       "style": "IPY_MODEL_10e6d73599d0407f92a9cb7ac3f12b4d"
      }
     },
     "9eac51e473054bc79b62bf678b590c2a": {
      "model_module": "@jupyter-widgets/controls",
      "model_module_version": "2.0.0",
      "model_name": "DescriptionStyleModel",
      "state": {
       "description_width": ""
      }
     },
     "9f5d889ee52747dd9de16123f7062ff8": {
      "model_module": "@jupyter-widgets/base",
      "model_module_version": "2.0.0",
      "model_name": "LayoutModel",
      "state": {}
     },
     "a11346c06af846efa8d89eb7910882ef": {
      "model_module": "@jupyter-widgets/controls",
      "model_module_version": "2.0.0",
      "model_name": "HTMLModel",
      "state": {
       "layout": "IPY_MODEL_e643c26204fd438f831f98bd06706c9e",
       "style": "IPY_MODEL_2bda9ba5aa95425b9dededec530118d5"
      }
     },
     "a19f739124ef47e4b3a2c5ba4b2a287b": {
      "model_module": "@jupyter-widgets/controls",
      "model_module_version": "2.0.0",
      "model_name": "LabelStyleModel",
      "state": {
       "description_width": "",
       "font_family": null,
       "font_size": null,
       "font_style": null,
       "font_variant": null,
       "font_weight": null,
       "text_color": null,
       "text_decoration": null
      }
     },
     "a4ab0a3be1734e37aa9fd2f55df62822": {
      "model_module": "@jupyter-widgets/base",
      "model_module_version": "2.0.0",
      "model_name": "LayoutModel",
      "state": {}
     },
     "a5d806b3e8a24192855356e31bda414f": {
      "model_module": "@jupyter-widgets/base",
      "model_module_version": "2.0.0",
      "model_name": "LayoutModel",
      "state": {}
     },
     "a6d4627eac1e49df84edb63bd7def936": {
      "model_module": "@jupyter-widgets/controls",
      "model_module_version": "2.0.0",
      "model_name": "HTMLModel",
      "state": {
       "layout": "IPY_MODEL_2a0ceb81b7474666ad6e4b4e0b3ec885",
       "style": "IPY_MODEL_e08d9454a06e443e8d063bba1cd64da1"
      }
     },
     "a729c6b068b64fb69af46bd5e8e11fde": {
      "model_module": "@jupyter-widgets/base",
      "model_module_version": "2.0.0",
      "model_name": "LayoutModel",
      "state": {}
     },
     "a83217733aac431a8d681c8a509a191b": {
      "model_module": "@jupyter-widgets/base",
      "model_module_version": "2.0.0",
      "model_name": "LayoutModel",
      "state": {}
     },
     "a9514fdd29474d88ab48118cef953279": {
      "model_module": "@jupyter-widgets/controls",
      "model_module_version": "2.0.0",
      "model_name": "ButtonModel",
      "state": {
       "description": "Start",
       "icon": "check",
       "layout": "IPY_MODEL_1db8007304ff420cb3cf1ccf1b914fc8",
       "style": "IPY_MODEL_309934061c3b4b04a4025e1344e24e78",
       "tooltip": "Start"
      }
     },
     "a9737ac0feb04c27b125dcb3a676c1eb": {
      "model_module": "@jupyter-widgets/controls",
      "model_module_version": "2.0.0",
      "model_name": "ButtonStyleModel",
      "state": {
       "font_family": null,
       "font_size": null,
       "font_style": null,
       "font_variant": null,
       "font_weight": null,
       "text_color": null,
       "text_decoration": null
      }
     },
     "a9a5b3b07e604601822076d58afa8b30": {
      "model_module": "@jupyter-widgets/base",
      "model_module_version": "2.0.0",
      "model_name": "LayoutModel",
      "state": {
       "width": "60%"
      }
     },
     "aa13ab88574e40cd84e5d4edd6b1dd64": {
      "model_module": "@jupyter-widgets/controls",
      "model_module_version": "2.0.0",
      "model_name": "DropdownModel",
      "state": {
       "_options_labels": [
        "512*512",
        "256*256",
        "128*128"
       ],
       "description": "Definition",
       "index": 0,
       "layout": "IPY_MODEL_3cb6b65822cc4e68b91d6bea1cff93a1",
       "style": "IPY_MODEL_85341c144fdd4c2ba36863b157e85a6e"
      }
     },
     "ab3d4f4951f8463c88aed43194a42d5c": {
      "model_module": "@jupyter-widgets/controls",
      "model_module_version": "2.0.0",
      "model_name": "HTMLStyleModel",
      "state": {
       "description_width": "",
       "font_size": null,
       "text_color": null
      }
     },
     "acc1aebda5ea479d87842750d119c65f": {
      "model_module": "@jupyter-widgets/controls",
      "model_module_version": "2.0.0",
      "model_name": "ButtonModel",
      "state": {
       "description": "Start",
       "disabled": true,
       "icon": "check",
       "layout": "IPY_MODEL_0a49e1404eea474f8b16c359d215878b",
       "style": "IPY_MODEL_1d082d018c5844c4acdfa421d0a171a4",
       "tooltip": "Start"
      }
     },
     "ae55a28011794afaa8fa491c04ce0348": {
      "model_module": "@jupyter-widgets/base",
      "model_module_version": "2.0.0",
      "model_name": "LayoutModel",
      "state": {}
     },
     "af819c5e701a44cfbd5540ff3b69bee7": {
      "model_module": "@jupyter-widgets/base",
      "model_module_version": "2.0.0",
      "model_name": "LayoutModel",
      "state": {}
     },
     "afee522e4f984da7beab2111e2c0c64b": {
      "model_module": "@jupyter-widgets/base",
      "model_module_version": "2.0.0",
      "model_name": "LayoutModel",
      "state": {}
     },
     "b019d405bcde40659daff95ab2794324": {
      "model_module": "@jupyter-widgets/base",
      "model_module_version": "2.0.0",
      "model_name": "LayoutModel",
      "state": {}
     },
     "b01cf672edce4ac4b2ba9a98f7ba91e9": {
      "model_module": "@jupyter-widgets/controls",
      "model_module_version": "2.0.0",
      "model_name": "DescriptionStyleModel",
      "state": {
       "description_width": ""
      }
     },
     "b05c1fbf7eab4808a1f54ded171b9c60": {
      "model_module": "@jupyter-widgets/controls",
      "model_module_version": "2.0.0",
      "model_name": "IntProgressModel",
      "state": {
       "description": "Progress",
       "layout": "IPY_MODEL_4dc91bb5c113457898cbbf7e4eb7e28d",
       "max": 12739372,
       "style": "IPY_MODEL_8d2b769af5254ecba6297255a9422ea8",
       "value": 710000
      }
     },
     "b34f795518b8408ba2196f552176dee5": {
      "model_module": "@jupyter-widgets/base",
      "model_module_version": "2.0.0",
      "model_name": "LayoutModel",
      "state": {}
     },
     "b3682ea2a70244c4946ce85bf0caf8aa": {
      "model_module": "@jupyter-widgets/controls",
      "model_module_version": "2.0.0",
      "model_name": "HTMLModel",
      "state": {
       "layout": "IPY_MODEL_3e1a1a68e2814ddbb3d49d11ce391f95",
       "style": "IPY_MODEL_e4adb046013b4320897b930d16f4e40d"
      }
     },
     "b3b36eeae5064b2e83fd577e1c9507e2": {
      "model_module": "@jupyter-widgets/controls",
      "model_module_version": "2.0.0",
      "model_name": "HTMLStyleModel",
      "state": {
       "description_width": "",
       "font_size": null,
       "text_color": null
      }
     },
     "b822c48d41ed4b0a9d1b8e2c22f14eeb": {
      "model_module": "@jupyter-widgets/controls",
      "model_module_version": "2.0.0",
      "model_name": "HTMLStyleModel",
      "state": {
       "description_width": "",
       "font_size": null,
       "text_color": null
      }
     },
     "b866907f08a443a9a50dd08f98c2cc18": {
      "model_module": "@jupyter-widgets/base",
      "model_module_version": "2.0.0",
      "model_name": "LayoutModel",
      "state": {}
     },
     "b8c60272822d4581ba37286696a2a2d7": {
      "model_module": "@jupyter-widgets/base",
      "model_module_version": "2.0.0",
      "model_name": "LayoutModel",
      "state": {}
     },
     "b9850d99a35d4e57951ce416c6a6601a": {
      "model_module": "@jupyter-widgets/base",
      "model_module_version": "2.0.0",
      "model_name": "LayoutModel",
      "state": {}
     },
     "bb8ebff20e3a4d1c9736db138b81b01e": {
      "model_module": "@jupyter-widgets/controls",
      "model_module_version": "2.0.0",
      "model_name": "HTMLModel",
      "state": {
       "layout": "IPY_MODEL_c27ce91b2709411fb27007fe9775641d",
       "style": "IPY_MODEL_5f0e4d0d284d4525b5237109fc8c5eb3"
      }
     },
     "bdb925bfa25d49a89fd43acfd732953c": {
      "model_module": "@jupyter-widgets/controls",
      "model_module_version": "2.0.0",
      "model_name": "HTMLStyleModel",
      "state": {
       "description_width": "",
       "font_size": null,
       "text_color": null
      }
     },
     "bdd5e7952288405381b6b1f3c53985f0": {
      "model_module": "@jupyter-widgets/controls",
      "model_module_version": "2.0.0",
      "model_name": "VBoxModel",
      "state": {
       "children": [
        "IPY_MODEL_2e2c50f060a24d39a9bdc46935db9c3d",
        "IPY_MODEL_07ae95bd5b03400d8975ade8efd96646"
       ],
       "layout": "IPY_MODEL_e4afb24311c9419787df2677c3bb27c5"
      }
     },
     "be407ee2ae144584804318348a83c61d": {
      "model_module": "@jupyter-widgets/controls",
      "model_module_version": "2.0.0",
      "model_name": "IntSliderModel",
      "state": {
       "behavior": "drag-tap",
       "continuous_update": false,
       "description": "Display T:",
       "layout": "IPY_MODEL_3b581b9ef1d146778fcedb0bc638c67c",
       "max": 10,
       "min": 1,
       "style": "IPY_MODEL_8966a1823fbd4c9e842fd81fefe3dfe5",
       "value": 1
      }
     },
     "be45789bb6fc41b78728f12a32d9e34e": {
      "model_module": "@jupyter-widgets/base",
      "model_module_version": "2.0.0",
      "model_name": "LayoutModel",
      "state": {}
     },
     "c0082b96a50f44979f199f956e7e21ae": {
      "model_module": "@jupyter-widgets/controls",
      "model_module_version": "2.0.0",
      "model_name": "IntProgressModel",
      "state": {
       "description": "Progress",
       "layout": "IPY_MODEL_049c302af76b4318a2e1f7967b450765",
       "max": 12721429,
       "style": "IPY_MODEL_dd96e484d2604aa89178dcd2d13f3f3c",
       "value": 709000
      }
     },
     "c1471b7c18f048c19db555f3b8a2d01a": {
      "model_module": "@jupyter-widgets/base",
      "model_module_version": "2.0.0",
      "model_name": "LayoutModel",
      "state": {}
     },
     "c1486db72bc2441aa050b4af9d239078": {
      "model_module": "@jupyter-widgets/base",
      "model_module_version": "2.0.0",
      "model_name": "LayoutModel",
      "state": {}
     },
     "c15e7ab5cad045dda73c5033366ac4ae": {
      "model_module": "@jupyter-widgets/controls",
      "model_module_version": "2.0.0",
      "model_name": "HTMLModel",
      "state": {
       "layout": "IPY_MODEL_3135297b61c143279a43c639ef588174",
       "style": "IPY_MODEL_4d781cf187e6499891a88d5f3a7c5ca9"
      }
     },
     "c27ce91b2709411fb27007fe9775641d": {
      "model_module": "@jupyter-widgets/base",
      "model_module_version": "2.0.0",
      "model_name": "LayoutModel",
      "state": {}
     },
     "c28ef4598dbc48e18cb839c5b0ee54c5": {
      "model_module": "@jupyter-widgets/jupyterlab-sidecar",
      "model_module_version": "^1.1",
      "model_name": "SidecarModel",
      "state": {
       "_model_module_version": "^1.1",
       "_view_module_version": "^1.1",
       "layout": "IPY_MODEL_a5d806b3e8a24192855356e31bda414f",
       "outputs": [
        {
         "data": {
          "image/png": "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",
          "metadata": {},
          "output_type": "display_data"
         },
         "metadata": {},
         "output_type": "display_data"
        }
       ],
       "title": "Widgets Output"
      }
     },
     "c4398380b01d4307aafb0c84b45c576d": {
      "model_module": "@jupyter-widgets/base",
      "model_module_version": "2.0.0",
      "model_name": "LayoutModel",
      "state": {
       "height": "500px",
       "overflow": "auto"
      }
     },
     "c7d3322f771a4625abe884d4cd9a1877": {
      "model_module": "@jupyter-widgets/controls",
      "model_module_version": "2.0.0",
      "model_name": "DropdownModel",
      "state": {
       "_options_labels": [
        "passenger_count:int64",
        "trip_distance:float64",
        "pickup_longitude:float64",
        "pickup_latitude:float64",
        "dropoff_longitude:float64",
        "dropoff_latitude:float64",
        ""
       ],
       "description": "Y",
       "index": 3,
       "layout": "IPY_MODEL_1e0ee60693584fada7ce69fc512f82e2",
       "style": "IPY_MODEL_42ebc133ba0a45b8aa05d94a05545ae1"
      }
     },
     "c7eaa6f81726440ba9164342d1e6f8e7": {
      "model_module": "@jupyter-widgets/controls",
      "model_module_version": "2.0.0",
      "model_name": "HTMLModel",
      "state": {
       "layout": "IPY_MODEL_2b24085c124d4679a62d707a220c364b",
       "style": "IPY_MODEL_de212f3822534388aee6f1714bfde440"
      }
     },
     "caa09eb8ff4f4bdf92409cd3eaa480cf": {
      "model_module": "@jupyter-widgets/controls",
      "model_module_version": "2.0.0",
      "model_name": "IntSliderModel",
      "state": {
       "behavior": "drag-tap",
       "continuous_update": false,
       "description": "Gaussian blur:",
       "layout": "IPY_MODEL_be45789bb6fc41b78728f12a32d9e34e",
       "max": 5,
       "style": "IPY_MODEL_0f3b2005f451425fadca5bf9d1f9abf6"
      }
     },
     "caa316db1d3f4a929223efbaf86d0eb9": {
      "model_module": "@jupyter-widgets/controls",
      "model_module_version": "2.0.0",
      "model_name": "HTMLModel",
      "state": {
       "layout": "IPY_MODEL_f84fc6a26b6e46dc9f16a84c91c78ebc",
       "style": "IPY_MODEL_b822c48d41ed4b0a9d1b8e2c22f14eeb"
      }
     },
     "cc14344b30c944838c903727dc354535": {
      "model_module": "@jupyter-widgets/controls",
      "model_module_version": "2.0.0",
      "model_name": "HTMLModel",
      "state": {
       "layout": "IPY_MODEL_56e07854bf2a4dbb8ccf53607d9a57d0",
       "style": "IPY_MODEL_9c46ff6c072d47e0be641d62a94c1233"
      }
     },
     "cc4d2f77d6ba46b2bc92154e54b8e808": {
      "model_module": "@jupyter-widgets/base",
      "model_module_version": "2.0.0",
      "model_name": "LayoutModel",
      "state": {}
     },
     "cd2c570bb4484fa19f2f8ccdd7870101": {
      "model_module": "@jupyter-widgets/controls",
      "model_module_version": "2.0.0",
      "model_name": "HTMLStyleModel",
      "state": {
       "description_width": "",
       "font_size": null,
       "text_color": null
      }
     },
     "cdf0902a364046b8afeb344e1a5f7a79": {
      "model_module": "@jupyter-widgets/controls",
      "model_module_version": "2.0.0",
      "model_name": "HBoxModel",
      "state": {
       "layout": "IPY_MODEL_8ee7ed46b7f5404d803694886109a502"
      }
     },
     "ceca422a87e34840a7a93362d8faaf09": {
      "model_module": "@jupyter-widgets/controls",
      "model_module_version": "2.0.0",
      "model_name": "HTMLModel",
      "state": {
       "layout": "IPY_MODEL_636025fb268f47129bc5bb9dd837671f",
       "style": "IPY_MODEL_e0a820d85f3f4baca79fd9caa1c1e327"
      }
     },
     "d1828f0478af4624aab2147c0c1555fc": {
      "model_module": "@jupyter-widgets/controls",
      "model_module_version": "2.0.0",
      "model_name": "HTMLStyleModel",
      "state": {
       "description_width": "",
       "font_size": null,
       "text_color": null
      }
     },
     "d22248e0f2074081997e5364d5978a19": {
      "model_module": "@jupyter-widgets/controls",
      "model_module_version": "2.0.0",
      "model_name": "HTMLStyleModel",
      "state": {
       "description_width": "",
       "font_size": null,
       "text_color": null
      }
     },
     "d27a92f85af84f48bd3a5f81fd7b5646": {
      "model_module": "@jupyter-widgets/controls",
      "model_module_version": "2.0.0",
      "model_name": "HTMLStyleModel",
      "state": {
       "description_width": "",
       "font_size": null,
       "text_color": null
      }
     },
     "d509abf6a3f54d33aee18d3fde86ef9b": {
      "model_module": "@jupyter-widgets/controls",
      "model_module_version": "2.0.0",
      "model_name": "TextModel",
      "state": {
       "description": "URL to sniff(optional):",
       "layout": "IPY_MODEL_a9a5b3b07e604601822076d58afa8b30",
       "placeholder": "",
       "style": "IPY_MODEL_5c986415497b475b99e88a5771264053"
      }
     },
     "d65aaacd91324e968f5912d76e8b0b72": {
      "model_module": "@jupyter-widgets/base",
      "model_module_version": "2.0.0",
      "model_name": "LayoutModel",
      "state": {}
     },
     "d6957724aa1d4e71868518a31139da88": {
      "model_module": "@jupyter-widgets/controls",
      "model_module_version": "2.0.0",
      "model_name": "HTMLModel",
      "state": {
       "layout": "IPY_MODEL_b866907f08a443a9a50dd08f98c2cc18",
       "style": "IPY_MODEL_d22248e0f2074081997e5364d5978a19"
      }
     },
     "d8c22d4282c04493b694bff6d9808d4f": {
      "model_module": "@jupyter-widgets/controls",
      "model_module_version": "2.0.0",
      "model_name": "DescriptionStyleModel",
      "state": {
       "description_width": ""
      }
     },
     "dcd51c59bfc04776bf89f3f7cbac5672": {
      "model_module": "@jupyter-widgets/base",
      "model_module_version": "2.0.0",
      "model_name": "LayoutModel",
      "state": {
       "width": "initial"
      }
     },
     "dd84689109f6421cac9b3518fac747b4": {
      "model_module": "@jupyter-widgets/base",
      "model_module_version": "2.0.0",
      "model_name": "LayoutModel",
      "state": {}
     },
     "dd96e484d2604aa89178dcd2d13f3f3c": {
      "model_module": "@jupyter-widgets/controls",
      "model_module_version": "2.0.0",
      "model_name": "ProgressStyleModel",
      "state": {
       "description_width": ""
      }
     },
     "dddfbbbe6929448bbe32efd2378e6551": {
      "model_module": "@jupyter-widgets/base",
      "model_module_version": "2.0.0",
      "model_name": "LayoutModel",
      "state": {}
     },
     "de212f3822534388aee6f1714bfde440": {
      "model_module": "@jupyter-widgets/controls",
      "model_module_version": "2.0.0",
      "model_name": "HTMLStyleModel",
      "state": {
       "description_width": "",
       "font_size": null,
       "text_color": null
      }
     },
     "e08d9454a06e443e8d063bba1cd64da1": {
      "model_module": "@jupyter-widgets/controls",
      "model_module_version": "2.0.0",
      "model_name": "HTMLStyleModel",
      "state": {
       "description_width": "",
       "font_size": null,
       "text_color": null
      }
     },
     "e0a820d85f3f4baca79fd9caa1c1e327": {
      "model_module": "@jupyter-widgets/controls",
      "model_module_version": "2.0.0",
      "model_name": "HTMLStyleModel",
      "state": {
       "description_width": "",
       "font_size": null,
       "text_color": null
      }
     },
     "e2018880ea9b44ebbdf74956f6dba7f5": {
      "model_module": "@jupyter-widgets/controls",
      "model_module_version": "2.0.0",
      "model_name": "HTMLStyleModel",
      "state": {
       "description_width": "",
       "font_size": null,
       "text_color": null
      }
     },
     "e44cf8ddd7c34ce4be30b2b4613d2d38": {
      "model_module": "@jupyter-widgets/controls",
      "model_module_version": "2.0.0",
      "model_name": "HTMLModel",
      "state": {
       "layout": "IPY_MODEL_99dbd0dbf972473cbdf930df8ee4ef4f",
       "style": "IPY_MODEL_31007ebf76f64b4c96ed772752d3c4d9"
      }
     },
     "e4adb046013b4320897b930d16f4e40d": {
      "model_module": "@jupyter-widgets/controls",
      "model_module_version": "2.0.0",
      "model_name": "HTMLStyleModel",
      "state": {
       "description_width": "",
       "font_size": null,
       "text_color": null
      }
     },
     "e4afb24311c9419787df2677c3bb27c5": {
      "model_module": "@jupyter-widgets/base",
      "model_module_version": "2.0.0",
      "model_name": "LayoutModel",
      "state": {}
     },
     "e4b51884e333440ca6087bed738f7d01": {
      "model_module": "@jupyter-widgets/controls",
      "model_module_version": "2.0.0",
      "model_name": "HTMLModel",
      "state": {
       "layout": "IPY_MODEL_ae55a28011794afaa8fa491c04ce0348",
       "style": "IPY_MODEL_bdb925bfa25d49a89fd43acfd732953c"
      }
     },
     "e535ec611d4248f6848bd8e6dd5fdb0d": {
      "model_module": "@jupyter-widgets/controls",
      "model_module_version": "2.0.0",
      "model_name": "HTMLModel",
      "state": {
       "layout": "IPY_MODEL_9ba2a71f69bd4e698273be1813377724",
       "style": "IPY_MODEL_6ef5b16b4a6f4d26b152464f24d7bc04"
      }
     },
     "e58021cd1dd84f948cda0bd45fec82d5": {
      "model_module": "@jupyter-widgets/controls",
      "model_module_version": "2.0.0",
      "model_name": "HTMLModel",
      "state": {
       "layout": "IPY_MODEL_afee522e4f984da7beab2111e2c0c64b",
       "style": "IPY_MODEL_9d0f970df044449698227da0228c6943"
      }
     },
     "e6003fec7c2e4a08881c337ef6f8ad4d": {
      "model_module": "@jupyter-widgets/base",
      "model_module_version": "2.0.0",
      "model_name": "LayoutModel",
      "state": {}
     },
     "e643c26204fd438f831f98bd06706c9e": {
      "model_module": "@jupyter-widgets/base",
      "model_module_version": "2.0.0",
      "model_name": "LayoutModel",
      "state": {}
     },
     "e732cc1d958544be815dfda7dbbbc77f": {
      "model_module": "@jupyter-widgets/base",
      "model_module_version": "2.0.0",
      "model_name": "LayoutModel",
      "state": {}
     },
     "e757090264e34fe39c4f3a8abe9f06e4": {
      "model_module": "@jupyter-widgets/controls",
      "model_module_version": "2.0.0",
      "model_name": "LabelStyleModel",
      "state": {
       "description_width": "",
       "font_family": null,
       "font_size": null,
       "font_style": null,
       "font_variant": null,
       "font_weight": null,
       "text_color": null,
       "text_decoration": null
      }
     },
     "e8302e1ebda648ab8a915265489908c9": {
      "model_module": "@jupyter-widgets/base",
      "model_module_version": "2.0.0",
      "model_name": "LayoutModel",
      "state": {}
     },
     "e850150b2da44e80b8c795cd9e08ca1e": {
      "model_module": "@jupyter-widgets/controls",
      "model_module_version": "2.0.0",
      "model_name": "HTMLStyleModel",
      "state": {
       "description_width": "",
       "font_size": null,
       "text_color": null
      }
     },
     "e98324c114444eeeaedb1a865bcb6eb9": {
      "model_module": "@jupyter-widgets/base",
      "model_module_version": "2.0.0",
      "model_name": "LayoutModel",
      "state": {}
     },
     "eab75fcd1b2245acb8a822a7c743b8bf": {
      "model_module": "@jupyter-widgets/controls",
      "model_module_version": "2.0.0",
      "model_name": "VBoxModel",
      "state": {
       "_dom_classes": [
        "progressivis_guest_widget"
       ],
       "children": [
        "IPY_MODEL_99b7e36d723146d08de329e99f67ef25",
        "IPY_MODEL_acc1aebda5ea479d87842750d119c65f"
       ],
       "layout": "IPY_MODEL_6f7bae3ffaa14e2ca694e6a3a62ebb8e"
      }
     },
     "ebebeb29086e4a03b885e6f1032edbdb": {
      "model_module": "@jupyter-widgets/controls",
      "model_module_version": "2.0.0",
      "model_name": "CheckboxModel",
      "state": {
       "description": "Active",
       "disabled": false,
       "layout": "IPY_MODEL_f8ce731bdd1a48818e74060028f83cb1",
       "style": "IPY_MODEL_2159e51429194d4d89c6da4ba037a27e",
       "value": true
      }
     },
     "ed10d857767f4c27afe3cba729e3a892": {
      "model_module": "@jupyter-widgets/base",
      "model_module_version": "2.0.0",
      "model_name": "LayoutModel",
      "state": {}
     },
     "efc284ef2ff34490afa9518842b62390": {
      "model_module": "jupyter-progressivis",
      "model_module_version": "^0.1.0",
      "model_name": "SensitiveHTMLModel",
      "state": {
       "_model_module_version": "^0.1.0",
       "_view_module_version": "^0.1.0",
       "data": {
        "ps-cell_constant_1_classname": "constant",
        "ps-cell_constant_1_id": "constant_1",
        "ps-cell_constant_1_is_visualization": " ",
        "ps-cell_constant_1_last_update": 9,
        "ps-cell_constant_1_order": 1,
        "ps-cell_constant_1_state": "state_terminated",
        "ps-cell_heatmap_1_classname": "heatmap",
        "ps-cell_heatmap_1_id": "heatmap_1",
        "ps-cell_heatmap_1_is_visualization": " ",
        "ps-cell_heatmap_1_last_update": 3552,
        "ps-cell_heatmap_1_order": 8,
        "ps-cell_heatmap_1_state": "state_blocked",
        "ps-cell_histogram2_d_1_classname": "histogram2_d",
        "ps-cell_histogram2_d_1_id": "histogram2_d_1",
        "ps-cell_histogram2_d_1_is_visualization": " ",
        "ps-cell_histogram2_d_1_last_update": 3551,
        "ps-cell_histogram2_d_1_order": 7,
        "ps-cell_histogram2_d_1_state": "state_blocked",
        "ps-cell_quantiles_1_classname": "quantiles",
        "ps-cell_quantiles_1_id": "quantiles_1",
        "ps-cell_quantiles_1_is_visualization": " ",
        "ps-cell_quantiles_1_last_update": 3555,
        "ps-cell_quantiles_1_order": 4,
        "ps-cell_quantiles_1_state": "state_blocked",
        "ps-cell_simple_csv_loader_1_classname": "simple_csv_loader",
        "ps-cell_simple_csv_loader_1_id": "simple_csv_loader_1",
        "ps-cell_simple_csv_loader_1_is_visualization": " ",
        "ps-cell_simple_csv_loader_1_last_update": 3554,
        "ps-cell_simple_csv_loader_1_order": 2,
        "ps-cell_simple_csv_loader_1_state": "state_ready",
        "ps-cell_sink_1_classname": "sink",
        "ps-cell_sink_1_id": "sink_1",
        "ps-cell_sink_1_is_visualization": " ",
        "ps-cell_sink_1_last_update": 0,
        "ps-cell_sink_1_order": 3,
        "ps-cell_sink_1_state": "state_terminated",
        "ps-cell_sink_2_classname": "sink",
        "ps-cell_sink_2_id": "sink_2",
        "ps-cell_sink_2_is_visualization": " ",
        "ps-cell_sink_2_last_update": 0,
        "ps-cell_sink_2_order": 5,
        "ps-cell_sink_2_state": "state_terminated",
        "ps-cell_sink_3_classname": "sink",
        "ps-cell_sink_3_id": "sink_3",
        "ps-cell_sink_3_is_visualization": " ",
        "ps-cell_sink_3_last_update": 0,
        "ps-cell_sink_3_order": 6,
        "ps-cell_sink_3_state": "state_terminated",
        "ps-cell_variable_1_classname": "variable",
        "ps-cell_variable_1_id": "variable_1",
        "ps-cell_variable_1_is_visualization": " ",
        "ps-cell_variable_1_last_update": 3553,
        "ps-cell_variable_1_order": 0,
        "ps-cell_variable_1_state": "state_blocked"
       },
       "html": "\n<table class=\"table table-striped table-bordered table-hover table-condensed\">\n<thead><tr><th></th><th>Id</th><th>Class</th><th>State</th><th>Last Update</th>\n<th>Order</th></tr></thead>\n<tbody>\n\n  <tr>\n  \n  <td>\n  \n  <span id=\"ps-cell_variable_1_is_visualization\"> </span>\n  \n  </td>\n  \n  <td>\n  \n  <a class='ps-row-btn' id=\"ps-row-btn_variable_1\" type='button' >variable_1</a>\n  \n  </td>\n  \n  <td>\n  \n  <span id=\"ps-cell_variable_1_classname\">variable</span>\n  \n  </td>\n  \n  <td>\n  \n  <span id=\"ps-cell_variable_1_state\">state_blocked</span>\n  \n  </td>\n  \n  <td>\n  \n  <span id=\"ps-cell_variable_1_last_update\">7</span>\n  \n  </td>\n  \n  <td>\n  \n  <span id=\"ps-cell_variable_1_order\">0</span>\n  \n  </td>\n  \n  </tr>\n\n  <tr>\n  \n  <td>\n  \n  <span id=\"ps-cell_constant_1_is_visualization\"> </span>\n  \n  </td>\n  \n  <td>\n  \n  <a class='ps-row-btn' id=\"ps-row-btn_constant_1\" type='button' >constant_1</a>\n  \n  </td>\n  \n  <td>\n  \n  <span id=\"ps-cell_constant_1_classname\">constant</span>\n  \n  </td>\n  \n  <td>\n  \n  <span id=\"ps-cell_constant_1_state\">state_ready</span>\n  \n  </td>\n  \n  <td>\n  \n  <span id=\"ps-cell_constant_1_last_update\">0</span>\n  \n  </td>\n  \n  <td>\n  \n  <span id=\"ps-cell_constant_1_order\">1</span>\n  \n  </td>\n  \n  </tr>\n\n  <tr>\n  \n  <td>\n  \n  <span id=\"ps-cell_simple_csv_loader_1_is_visualization\"> </span>\n  \n  </td>\n  \n  <td>\n  \n  <a class='ps-row-btn' id=\"ps-row-btn_simple_csv_loader_1\" type='button' >simple_csv_loader_1</a>\n  \n  </td>\n  \n  <td>\n  \n  <span id=\"ps-cell_simple_csv_loader_1_classname\">simple_csv_loader</span>\n  \n  </td>\n  \n  <td>\n  \n  <span id=\"ps-cell_simple_csv_loader_1_state\">state_ready</span>\n  \n  </td>\n  \n  <td>\n  \n  <span id=\"ps-cell_simple_csv_loader_1_last_update\">0</span>\n  \n  </td>\n  \n  <td>\n  \n  <span id=\"ps-cell_simple_csv_loader_1_order\">2</span>\n  \n  </td>\n  \n  </tr>\n\n  <tr>\n  \n  <td>\n  \n  <span id=\"ps-cell_sink_1_is_visualization\"> </span>\n  \n  </td>\n  \n  <td>\n  \n  <a class='ps-row-btn' id=\"ps-row-btn_sink_1\" type='button' >sink_1</a>\n  \n  </td>\n  \n  <td>\n  \n  <span id=\"ps-cell_sink_1_classname\">sink</span>\n  \n  </td>\n  \n  <td>\n  \n  <span id=\"ps-cell_sink_1_state\">state_terminated</span>\n  \n  </td>\n  \n  <td>\n  \n  <span id=\"ps-cell_sink_1_last_update\">0</span>\n  \n  </td>\n  \n  <td>\n  \n  <span id=\"ps-cell_sink_1_order\">3</span>\n  \n  </td>\n  \n  </tr>\n\n  <tr>\n  \n  <td>\n  \n  <span id=\"ps-cell_quantiles_1_is_visualization\"> </span>\n  \n  </td>\n  \n  <td>\n  \n  <a class='ps-row-btn' id=\"ps-row-btn_quantiles_1\" type='button' >quantiles_1</a>\n  \n  </td>\n  \n  <td>\n  \n  <span id=\"ps-cell_quantiles_1_classname\">quantiles</span>\n  \n  </td>\n  \n  <td>\n  \n  <span id=\"ps-cell_quantiles_1_state\">state_ready</span>\n  \n  </td>\n  \n  <td>\n  \n  <span id=\"ps-cell_quantiles_1_last_update\">0</span>\n  \n  </td>\n  \n  <td>\n  \n  <span id=\"ps-cell_quantiles_1_order\">4</span>\n  \n  </td>\n  \n  </tr>\n\n  <tr>\n  \n  <td>\n  \n  <span id=\"ps-cell_sink_2_is_visualization\"> </span>\n  \n  </td>\n  \n  <td>\n  \n  <a class='ps-row-btn' id=\"ps-row-btn_sink_2\" type='button' >sink_2</a>\n  \n  </td>\n  \n  <td>\n  \n  <span id=\"ps-cell_sink_2_classname\">sink</span>\n  \n  </td>\n  \n  <td>\n  \n  <span id=\"ps-cell_sink_2_state\">state_ready</span>\n  \n  </td>\n  \n  <td>\n  \n  <span id=\"ps-cell_sink_2_last_update\">0</span>\n  \n  </td>\n  \n  <td>\n  \n  <span id=\"ps-cell_sink_2_order\">5</span>\n  \n  </td>\n  \n  </tr>\n\n  <tr>\n  \n  <td>\n  \n  <span id=\"ps-cell_sink_3_is_visualization\"> </span>\n  \n  </td>\n  \n  <td>\n  \n  <a class='ps-row-btn' id=\"ps-row-btn_sink_3\" type='button' >sink_3</a>\n  \n  </td>\n  \n  <td>\n  \n  <span id=\"ps-cell_sink_3_classname\">sink</span>\n  \n  </td>\n  \n  <td>\n  \n  <span id=\"ps-cell_sink_3_state\">state_ready</span>\n  \n  </td>\n  \n  <td>\n  \n  <span id=\"ps-cell_sink_3_last_update\">0</span>\n  \n  </td>\n  \n  <td>\n  \n  <span id=\"ps-cell_sink_3_order\">6</span>\n  \n  </td>\n  \n  </tr>\n\n  <tr>\n  \n  <td>\n  \n  <span id=\"ps-cell_histogram2_d_1_is_visualization\">a</span>\n  \n  </td>\n  \n  <td>\n  \n  <a class='ps-row-btn' id=\"ps-row-btn_histogram2_d_1\" type='button' >histogram2_d_1</a>\n  \n  </td>\n  \n  <td>\n  \n  <span id=\"ps-cell_histogram2_d_1_classname\">histogram2_d</span>\n  \n  </td>\n  \n  <td>\n  \n  <span id=\"ps-cell_histogram2_d_1_state\">state_ready</span>\n  \n  </td>\n  \n  <td>\n  \n  <span id=\"ps-cell_histogram2_d_1_last_update\">0</span>\n  \n  </td>\n  \n  <td>\n  \n  <span id=\"ps-cell_histogram2_d_1_order\">7</span>\n  \n  </td>\n  \n  </tr>\n\n  <tr>\n  \n  <td>\n  \n  <span id=\"ps-cell_heatmap_1_is_visualization\">a</span>\n  \n  </td>\n  \n  <td>\n  \n  <a class='ps-row-btn' id=\"ps-row-btn_heatmap_1\" type='button' >heatmap_1</a>\n  \n  </td>\n  \n  <td>\n  \n  <span id=\"ps-cell_heatmap_1_classname\">heatmap</span>\n  \n  </td>\n  \n  <td>\n  \n  <span id=\"ps-cell_heatmap_1_state\">state_ready</span>\n  \n  </td>\n  \n  <td>\n  \n  <span id=\"ps-cell_heatmap_1_last_update\">0</span>\n  \n  </td>\n  \n  <td>\n  \n  <span id=\"ps-cell_heatmap_1_order\">8</span>\n  \n  </td>\n  \n  </tr>\n\n</tbody>\n</table>",
       "layout": "IPY_MODEL_c4398380b01d4307aafb0c84b45c576d",
       "sensitive_css_class": "ps-row-btn",
       "value": {}
      }
     },
     "f1e25fab428f4561845b29bb4bed2988": {
      "model_module": "@jupyter-widgets/controls",
      "model_module_version": "2.0.0",
      "model_name": "SliderStyleModel",
      "state": {
       "description_width": "initial"
      }
     },
     "f2bdaec356b9401ea3538f3348be0cda": {
      "model_module": "@jupyter-widgets/controls",
      "model_module_version": "2.0.0",
      "model_name": "ButtonModel",
      "state": {
       "description": "Replay ...",
       "disabled": true,
       "icon": "check",
       "layout": "IPY_MODEL_76ec7e2c595f4b34b4f20d9c23b3bb7c",
       "style": "IPY_MODEL_9bec8da3b97f43bf9be31311efd8786c",
       "tooltip": "Replay ..."
      }
     },
     "f43c278c859e40aeb1f37cf5e8b25e0d": {
      "model_module": "@jupyter-widgets/controls",
      "model_module_version": "2.0.0",
      "model_name": "HBoxModel",
      "state": {
       "children": [
        "IPY_MODEL_e535ec611d4248f6848bd8e6dd5fdb0d",
        "IPY_MODEL_9191fe34ebfc49bf91a3eecc4cac7ce0",
        "IPY_MODEL_1dfef3060f4d4470bfdb4c3d96e017cb",
        "IPY_MODEL_5bf9b3da40974200a720a5fa1001ce6e"
       ],
       "layout": "IPY_MODEL_fd975d38a73b4baaba8eff45dc683f75"
      }
     },
     "f56fc1297c3247d38261f9ff024f8793": {
      "model_module": "@jupyter-widgets/controls",
      "model_module_version": "2.0.0",
      "model_name": "DescriptionStyleModel",
      "state": {
       "description_width": ""
      }
     },
     "f6ce24bacf8a4d4d8e4ff62c9f2230d9": {
      "model_module": "@jupyter-widgets/controls",
      "model_module_version": "2.0.0",
      "model_name": "HTMLStyleModel",
      "state": {
       "description_width": "",
       "font_size": null,
       "text_color": null
      }
     },
     "f768dadda4c5432d97bafcbe496784e0": {
      "model_module": "@jupyter-widgets/controls",
      "model_module_version": "2.0.0",
      "model_name": "HTMLModel",
      "state": {
       "layout": "IPY_MODEL_e98324c114444eeeaedb1a865bcb6eb9",
       "placeholder": "0",
       "style": "IPY_MODEL_6eac3849c47b49bbb9dbadadc0953b0b",
       "value": "3555"
      }
     },
     "f77f6f099c764886819a8a32c583ef36": {
      "model_module": "@jupyter-widgets/base",
      "model_module_version": "2.0.0",
      "model_name": "LayoutModel",
      "state": {}
     },
     "f7c48d60a41044798725aaa026e5eed2": {
      "model_module": "@jupyter-widgets/controls",
      "model_module_version": "2.0.0",
      "model_name": "HTMLModel",
      "state": {
       "layout": "IPY_MODEL_1623445ac1454c639e2e453d5accb757",
       "style": "IPY_MODEL_6d9aeaee9a124728b027158498104114"
      }
     },
     "f84fc6a26b6e46dc9f16a84c91c78ebc": {
      "model_module": "@jupyter-widgets/base",
      "model_module_version": "2.0.0",
      "model_name": "LayoutModel",
      "state": {}
     },
     "f8ce731bdd1a48818e74060028f83cb1": {
      "model_module": "@jupyter-widgets/base",
      "model_module_version": "2.0.0",
      "model_name": "LayoutModel",
      "state": {}
     },
     "f9c9213ce29d4847ae2270bb23dc7c7f": {
      "model_module": "@jupyter-widgets/controls",
      "model_module_version": "2.0.0",
      "model_name": "ButtonStyleModel",
      "state": {
       "font_family": null,
       "font_size": null,
       "font_style": null,
       "font_variant": null,
       "font_weight": null,
       "text_color": null,
       "text_decoration": null
      }
     },
     "fcf030b3bba143ca923f0116d30f15f8": {
      "model_module": "@jupyter-widgets/base",
      "model_module_version": "2.0.0",
      "model_name": "LayoutModel",
      "state": {}
     },
     "fd4a75fba6944d80977c4806859fa81f": {
      "model_module": "@jupyter-widgets/controls",
      "model_module_version": "2.0.0",
      "model_name": "ButtonModel",
      "state": {
       "description": "Resume",
       "disabled": true,
       "icon": "play",
       "layout": "IPY_MODEL_1a3ef96029a1404e860784ec777504bd",
       "style": "IPY_MODEL_33f14e0fd7de43c2960014d6460102b2",
       "tooltip": "Start"
      }
     },
     "fd4f0f3fc1b44e90a9a73f8f9281ea54": {
      "model_module": "@jupyter-widgets/base",
      "model_module_version": "2.0.0",
      "model_name": "LayoutModel",
      "state": {}
     },
     "fd975d38a73b4baaba8eff45dc683f75": {
      "model_module": "@jupyter-widgets/base",
      "model_module_version": "2.0.0",
      "model_name": "LayoutModel",
      "state": {}
     }
    },
    "version_major": 2,
    "version_minor": 0
   }
  }
 },
 "nbformat": 4,
 "nbformat_minor": 5
}
