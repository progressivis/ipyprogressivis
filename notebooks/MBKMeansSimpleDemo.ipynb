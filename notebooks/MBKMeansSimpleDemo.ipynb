{
 "cells": [
  {
   "cell_type": "code",
   "execution_count": null,
   "metadata": {},
   "outputs": [],
   "source": [
    "from ipyprogressivis.widgets.scatterplot import Scatterplot\n",
    "sc = Scatterplot(enable_centroids=True)\n",
    "import warnings\n",
    "warnings.filterwarnings('ignore')"
   ]
  },
  {
   "cell_type": "code",
   "execution_count": null,
   "metadata": {},
   "outputs": [],
   "source": [
    "\"\"\"\n",
    "Clustering datasets may be found at\n",
    "http://cs.joensuu.fi/sipu/datasets/\n",
    "\"\"\"\n",
    "from progressivis.cluster import MBKMeans\n",
    "from progressivis.vis import MCScatterPlot\n",
    "from progressivis.datasets import get_dataset\n",
    "from progressivis.stats.api import RandomPTable\n",
    "import numpy as np\n",
    "from progressivis.datasets.random import generate_random_multivariate_normal_csv as gen_csv\n",
    "from progressivis.stats.blobs_table import BlobsPTable, MVBlobsPTable\n",
    "\n",
    "MULTIVARIATE_NORMAL = True\n",
    "\n",
    "if not MULTIVARIATE_NORMAL: # simple isotropic blobs (using scikit-learn make_blobs)\n",
    "    centers = [(0.1, 0.3), (0.7, 0.5), (-0.4, -0.3)]\n",
    "    data = BlobsPTable(columns=['_0', '_1'],  centers=centers, cluster_std=0.2, rows=1000_000)\n",
    "else: # i.e. control each cluster's covariance matrix (using numpy.random.multivariate_normal)\n",
    "    means = [0.1, 0.3], [0.7, 0.5], [-0.4, -0.3]\n",
    "    covs = [[0.01, 0], [0, 0.09]], [[0.04, 0], [0, 0.01]], [[0.09, 0.04], [0.04, 0.02]]\n",
    "    data = MVBlobsPTable(columns=['_0', '_1'], means=means, covs=covs, rows=1000_000)\n",
    "mbkmeans = MBKMeans(n_clusters=3, batch_size=100, tol=0.01, is_input=False)\n",
    "sp = MCScatterPlot(classes=[('Scatterplot', '_0', '_1', mbkmeans)])\n",
    "sp.create_dependent_modules(data,'result')\n",
    "sp['Scatterplot'].min_value.result.update({'_0': -np.inf, '_1': -np.inf})\n",
    "sp['Scatterplot'].max_value.result.update({'_0': np.inf, '_1': np.inf})\n",
    "mbkmeans.create_dependent_modules(sp['Scatterplot'].range_query_2d)\n",
    "sp.move_point = mbkmeans.dep.moved_center # for input management\n",
    "# Create the dashboard object\n",
    "show = sc.link_module(sp)\n",
    "sp.scheduler.task_start();"
   ]
  },
  {
   "cell_type": "code",
   "execution_count": null,
   "metadata": {},
   "outputs": [],
   "source": [
    "sc"
   ]
  },
  {
   "cell_type": "code",
   "execution_count": null,
   "metadata": {},
   "outputs": [],
   "source": [
    "import asyncio as aio\n",
    "await aio.sleep(3)\n",
    "show()"
   ]
  }
 ],
 "metadata": {
  "kernelspec": {
   "display_name": "Python 3 (ipykernel)",
   "language": "python",
   "name": "python3"
  },
  "language_info": {
   "codemirror_mode": {
    "name": "ipython",
    "version": 3
   },
   "file_extension": ".py",
   "mimetype": "text/x-python",
   "name": "python",
   "nbconvert_exporter": "python",
   "pygments_lexer": "ipython3",
   "version": "3.13.7"
  },
  "widgets": {
   "application/vnd.jupyter.widget-state+json": {
    "state": {},
    "version_major": 2,
    "version_minor": 0
   }
  }
 },
 "nbformat": 4,
 "nbformat_minor": 4
}
